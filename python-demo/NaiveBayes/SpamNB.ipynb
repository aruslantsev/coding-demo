{
 "cells": [
  {
   "cell_type": "code",
   "execution_count": 1,
   "metadata": {},
   "outputs": [],
   "source": [
    "import numpy as np\n",
    "from collections import defaultdict, Counter\n",
    "from math import log\n",
    "import string\n",
    "\n",
    "\n",
    "class SpamNB:\n",
    "    def __init__(self):\n",
    "        self.classes = defaultdict(int)\n",
    "        self.freqs = defaultdict(int)\n",
    "        \n",
    "    def __extract_features(self, feature):\n",
    "        if len(feature) != 0:\n",
    "            for c in string.punctuation:\n",
    "                feature = feature.replace(c, '')\n",
    "            feature = feature.lower()\n",
    "            feature = np.array(feature.split(' '))\n",
    "            return feature\n",
    "        else:\n",
    "            return []\n",
    "        \n",
    "    def fit(self, X, y):\n",
    "        self.__init__()\n",
    "        if (len(X) != len(y)):\n",
    "            raise\n",
    "            print('X and y must have the same length')\n",
    "        # Определим классы, посчитаем количество объектов в классе\n",
    "        self.classes = Counter(y)\n",
    "        # Посчитаем фичи.         \n",
    "        for i in range(len(y)):\n",
    "            item = X[i]\n",
    "            label = y[i]\n",
    "            feats = self.__extract_features(item)\n",
    "            # Для каждого из объектов суммируем фичи с учетом класса\n",
    "            for feat in feats:\n",
    "                self.freqs[(label, feat)] += 1\n",
    "        # Отнормируем\n",
    "        for label, feat in self.freqs:\n",
    "            self.freqs[(label, feat)] /= self.classes[label]\n",
    "        for label in self.classes:\n",
    "            self.classes[label] /= len(y)\n",
    "\n",
    "        return self\n",
    "    \n",
    "    def predict(self, X):\n",
    "        y = np.zeros((len(X),))\n",
    "        for i in range(len(X)):\n",
    "            item = X[i]\n",
    "            feats = self.__extract_features(item)\n",
    "            keys = self.classes.keys()\n",
    "            label = min(\n",
    "                self.classes.keys(), \n",
    "                key=lambda c: (\n",
    "                    -log(self.classes[c]) \n",
    "                    + sum(-log(self.freqs.get((c, feat), 10**(-5))) for feat in feats)\n",
    "                )\n",
    "            )\n",
    "            y[i] = label\n",
    "        return y\n",
    "    "
   ]
  },
  {
   "cell_type": "code",
   "execution_count": 2,
   "metadata": {},
   "outputs": [
    {
     "data": {
      "text/plain": [
       "array([0., 1.])"
      ]
     },
     "execution_count": 2,
     "metadata": {},
     "output_type": "execute_result"
    }
   ],
   "source": [
    "NB = SpamNB()\n",
    "x = np.array(['Путевки по низкой цене', 'Акция! Купи шоколадку и получи телефон в подарок', 'Завтра состоится собрание', 'Купи килограмм яблок и шоколадку'])\n",
    "y = np.array([1, 1 ,0, 0])\n",
    "x_test = np.array(['В магазине гора яблок. Купи семь килограмм и шоколадку', 'Акция!!! Бухгалтерия по низким ценам уже завтра'])\n",
    "NB.fit(x, y)\n",
    "NB.predict(x_test)"
   ]
  },
  {
   "cell_type": "code",
   "execution_count": null,
   "metadata": {},
   "outputs": [],
   "source": []
  }
 ],
 "metadata": {
  "kernelspec": {
   "display_name": "Python 3 (ipykernel)",
   "language": "python",
   "name": "python3"
  },
  "language_info": {
   "codemirror_mode": {
    "name": "ipython",
    "version": 3
   },
   "file_extension": ".py",
   "mimetype": "text/x-python",
   "name": "python",
   "nbconvert_exporter": "python",
   "pygments_lexer": "ipython3",
   "version": "3.9.10"
  }
 },
 "nbformat": 4,
 "nbformat_minor": 2
}
