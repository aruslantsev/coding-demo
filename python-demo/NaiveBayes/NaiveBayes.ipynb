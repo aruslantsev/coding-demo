{
 "cells": [
  {
   "cell_type": "code",
   "execution_count": 14,
   "metadata": {},
   "outputs": [],
   "source": [
    "import numpy as np\n",
    "from collections import defaultdict, Counter\n",
    "from math import log\n",
    "\n",
    "# P(class|doc) = P(doc|class)*P(class)/P(doc)\n",
    "# P(class|doc) - document belongs to class\n",
    "# P(doc|class) - probability to meet doc in class\n",
    "# P(class) - probability of class (normalized counter)\n",
    "# P(doc) - constant\n",
    "# answer: argmax_CLS P(CLS|doc) for CLS in ALL_CLASSES\n",
    "# P(doc|class) = P(w1|class) * ...* P(wn_class) = П(wi|class)\n",
    "\n",
    "\n",
    "class myNB:\n",
    "    def __init__(self):\n",
    "        self.classes = defaultdict(int)\n",
    "        self.freqs = defaultdict(int)\n",
    "        \n",
    "    def __extract_features(self, string):\n",
    "        if len(string) >= 3:\n",
    "            return [string[0], string[1], string[-1]]\n",
    "        elif len(string) == 2:\n",
    "            return [string[0], string[-1]]\n",
    "        elif len(string) == 1:\n",
    "            return [string[0], string[-1]]\n",
    "        else:\n",
    "            return []\n",
    "        \n",
    "    def fit(self, X, y):\n",
    "        self.__init__()\n",
    "        if (len(X) != len(y)):\n",
    "            print('X and y must have the same length')\n",
    "            raise\n",
    "            \n",
    "        # Count number of objects in class\n",
    "        self.classes = Counter(y)\n",
    "        # Count features      \n",
    "        for i in range(len(y)):\n",
    "            item = X[i]\n",
    "            label = y[i]\n",
    "            feats = self.__extract_features(item)\n",
    "            for feat in feats:\n",
    "                self.freqs[(label, feat)] += 1\n",
    "                \n",
    "        for label, feat in self.freqs:\n",
    "            self.freqs[(label, feat)] /= self.classes[label]\n",
    "            \n",
    "        for label in self.classes:\n",
    "            self.classes[label] /= len(y)\n",
    "\n",
    "        return self\n",
    "    \n",
    "    def predict(self, X):\n",
    "        y = np.zeros((len(X),))\n",
    "        for i in range(len(X)):\n",
    "            item = X[i]\n",
    "            feats = self.__extract_features(item)\n",
    "            keys = self.classes.keys()\n",
    "            label = min(\n",
    "                self.classes.keys(), \n",
    "                key=lambda c: (\n",
    "                    -log(self.classes[c]) \n",
    "                    + sum(-log(self.freqs.get((c, feat), 10**(-5))) for feat in feats)\n",
    "                )\n",
    "            )\n",
    "            y[i] = label\n",
    "        return y\n",
    "    "
   ]
  },
  {
   "cell_type": "code",
   "execution_count": 15,
   "metadata": {},
   "outputs": [
    {
     "data": {
      "text/plain": [
       "array([1., 1., 1., 1., 0., 1.])"
      ]
     },
     "execution_count": 15,
     "metadata": {},
     "output_type": "execute_result"
    }
   ],
   "source": [
    "NB = myNB()\n",
    "x = np.array(['aaa', 'aba', 'bab', 'bbb', 'abc'])\n",
    "y = np.array([1, 0 ,1, 0, 1])\n",
    "#print(type(x))\n",
    "NB.fit(x, y)\n",
    "xtest = np.array(['aaa', 'aba', 'baa', 'adb', 'bd', 'dd'])\n",
    "NB.predict(xtest)"
   ]
  },
  {
   "cell_type": "code",
   "execution_count": null,
   "metadata": {},
   "outputs": [],
   "source": []
  }
 ],
 "metadata": {
  "kernelspec": {
   "display_name": "Python 3 (ipykernel)",
   "language": "python",
   "name": "python3"
  },
  "language_info": {
   "codemirror_mode": {
    "name": "ipython",
    "version": 3
   },
   "file_extension": ".py",
   "mimetype": "text/x-python",
   "name": "python",
   "nbconvert_exporter": "python",
   "pygments_lexer": "ipython3",
   "version": "3.9.10"
  }
 },
 "nbformat": 4,
 "nbformat_minor": 2
}
