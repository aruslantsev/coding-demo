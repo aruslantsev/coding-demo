{
 "cells": [
  {
   "cell_type": "markdown",
   "id": "e8886e5b",
   "metadata": {},
   "source": [
    "# Search path in graph"
   ]
  },
  {
   "cell_type": "markdown",
   "id": "69ce1bc6",
   "metadata": {},
   "source": [
    "## BFS-Like solution"
   ]
  },
  {
   "cell_type": "code",
   "execution_count": 1,
   "id": "8fa0a9cf",
   "metadata": {},
   "outputs": [],
   "source": [
    "from collections import deque"
   ]
  },
  {
   "cell_type": "code",
   "execution_count": 2,
   "id": "eafefdbc",
   "metadata": {},
   "outputs": [],
   "source": [
    "graph = {\n",
    "    'A': {'B': 1, 'C': 10},\n",
    "    'B': {'A': 1, 'C': 2, 'D': 7},\n",
    "    'C': {'A': 10, 'B': 2, 'D': 6, 'F': 3},\n",
    "    'D': {'B': 7, 'C': 6, 'F': 3},\n",
    "    'E': {'F': 4},\n",
    "    'F': {'C': 3, 'E': 4},\n",
    "    'G': {},\n",
    "}\n",
    "\n",
    "start = 'A'\n",
    "end = 'E'"
   ]
  },
  {
   "cell_type": "code",
   "execution_count": 3,
   "id": "5fdabed2",
   "metadata": {},
   "outputs": [],
   "source": [
    "def search(graph, start, end):\n",
    "    q = deque()\n",
    "    q.append((start, 0, []))\n",
    "    cands = []\n",
    "    while q:\n",
    "        curr, dist, route = q.popleft()\n",
    "        route = route.copy()\n",
    "        route.append(curr)\n",
    "        if curr == end:\n",
    "            cands.append((curr, dist, route))\n",
    "        else:\n",
    "            for n, d in graph[curr].items():\n",
    "                if n not in route:\n",
    "                    q.append((n, dist + d, route))\n",
    "                    \n",
    "    if not cands:\n",
    "        dist = route = None\n",
    "    \n",
    "    else:\n",
    "        cands = [(dist, route) for _, dist, route in cands]\n",
    "        dist, route = sorted(cands)[0]\n",
    "\n",
    "    return route, dist"
   ]
  },
  {
   "cell_type": "code",
   "execution_count": 4,
   "id": "f6457289",
   "metadata": {},
   "outputs": [
    {
     "data": {
      "text/plain": [
       "(['A', 'B', 'C', 'F', 'E'], 10)"
      ]
     },
     "execution_count": 4,
     "metadata": {},
     "output_type": "execute_result"
    }
   ],
   "source": [
    "search(graph, start, end)"
   ]
  },
  {
   "cell_type": "markdown",
   "id": "5accfc42",
   "metadata": {},
   "source": [
    "## Strange but worrking solution I made much earlier"
   ]
  },
  {
   "cell_type": "code",
   "execution_count": 9,
   "id": "11638e67",
   "metadata": {},
   "outputs": [],
   "source": [
    "from numpy import inf"
   ]
  },
  {
   "cell_type": "code",
   "execution_count": 10,
   "id": "11534bbc",
   "metadata": {},
   "outputs": [],
   "source": [
    "nodes = (node for node in graph)\n",
    "edges = graph.copy()\n",
    "startNode = start\n",
    "endNode = end"
   ]
  },
  {
   "cell_type": "code",
   "execution_count": 11,
   "id": "50c4311d",
   "metadata": {},
   "outputs": [
    {
     "name": "stdout",
     "output_type": "stream",
     "text": [
      "Shortest way from A to E\n",
      "['A', 'B', 'C', 'F', 'E']\n",
      "Path length: 10\n"
     ]
    }
   ],
   "source": [
    "\n",
    "# Непосещенные вершины\n",
    "unvisited = {node: None for node in nodes}\n",
    "# Минимальные расстояния от стартовой вершины\n",
    "minDistance = {node: inf for node in nodes}\n",
    "# Вершины, из которых достигаются наименьшие пути\n",
    "minDistancePrev = {node: None for node in nodes}\n",
    "\n",
    "currentNode = startNode\n",
    "del unvisited[currentNode]\n",
    "currentDistance = 0\n",
    "minDistance[currentNode] = 0\n",
    "minDistancePrev[currentNode] = currentNode\n",
    "\n",
    "def graph_search(currentNode):\n",
    "    # Не люблю глобальные переменные, но все же...\n",
    "    global unvisited, minDistance, minDistancePrev\n",
    "    # Посмотрим все соседние вершины\n",
    "    for node, distance in edges[currentNode].items():\n",
    "        if node in unvisited:\n",
    "            # Если еще не посещали, то удаляем из непосещенных и рекурсивно просматриваем их\n",
    "            del unvisited[node]\n",
    "            minDistance[node] = distance + minDistance[currentNode]\n",
    "            minDistancePrev[node] = currentNode\n",
    "            graph_search(node)\n",
    "        else:\n",
    "            # Если посещали, то остается 2 варианта\n",
    "            if (minDistance[node] > distance + minDistance[currentNode]):\n",
    "                # Расстояние из текущей вершины меньшее, чем определяли раньше. \n",
    "                minDistance[node] = distance + minDistance[currentNode]\n",
    "                minDistancePrev[node] = currentNode\n",
    "                # Тогда надо обновить минимальное расстояние и расстояние до соседей\n",
    "                graph_search(node)\n",
    "            # Если расстояние больше, то оставляем все без изменений\n",
    "    return\n",
    "\n",
    "graph_search(currentNode)\n",
    "\n",
    "path = []\n",
    "node = endNode\n",
    "while ((node != startNode) and (node != None)):\n",
    "    path.insert(0, node)\n",
    "    node = minDistancePrev[node]\n",
    "path.insert(0, startNode)\n",
    "if (node == None):\n",
    "    print('No path')\n",
    "else:\n",
    "    print('Shortest way from', startNode, 'to', endNode)\n",
    "    print(path)\n",
    "    print('Path length:', minDistance[endNode])\n",
    "#print('Min distances and nodes')\n",
    "#print(minDistance)\n",
    "#print(minDistancePrev)\n"
   ]
  },
  {
   "cell_type": "code",
   "execution_count": null,
   "id": "4d854f66",
   "metadata": {},
   "outputs": [],
   "source": []
  }
 ],
 "metadata": {
  "kernelspec": {
   "display_name": "Python 3 (ipykernel)",
   "language": "python",
   "name": "python3"
  },
  "language_info": {
   "codemirror_mode": {
    "name": "ipython",
    "version": 3
   },
   "file_extension": ".py",
   "mimetype": "text/x-python",
   "name": "python",
   "nbconvert_exporter": "python",
   "pygments_lexer": "ipython3",
   "version": "3.9.10"
  }
 },
 "nbformat": 4,
 "nbformat_minor": 5
}
