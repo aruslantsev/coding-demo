{
 "cells": [
  {
   "cell_type": "code",
   "execution_count": 38,
   "metadata": {},
   "outputs": [],
   "source": [
    "import random\n",
    "import pandas as pd\n",
    "import numpy as np\n",
    "random.seed(42)\n",
    "n = np.array([0, 0, 0, 0])\n",
    "for i in np.arange(-10, 11, 1):\n",
    "    for j in np.arange(-10, 11, 1):\n",
    "        k = 1 if (i * j >= 0) else 0\n",
    "        r = random.randint(0,10**6)\n",
    "        n = np.vstack([n, np.array([r, i / 10, j / 10, k])])\n",
    "n = np.delete(n, obj = 0, axis = 0)\n",
    "\n",
    "n = pd.DataFrame(n)\n",
    "n.columns = ['n', 'x1', 'x2', 'y']\n",
    "n = n.sort_values(by = 'n').drop('n', axis = 1).reset_index(drop = True)\n",
    "n.to_csv('test_values.csv')\n",
    "#for i in range(10):\n",
    "#    print(random.randint(0,10**6))"
   ]
  },
  {
   "cell_type": "code",
   "execution_count": null,
   "metadata": {},
   "outputs": [],
   "source": []
  }
 ],
 "metadata": {
  "kernelspec": {
   "display_name": "Python 3",
   "language": "python3",
   "name": "python3"
  },
  "language_info": {
   "codemirror_mode": {
    "name": "ipython",
    "version": 3
   },
   "file_extension": ".py",
   "mimetype": "text/x-python",
   "name": "python",
   "nbconvert_exporter": "python",
   "pygments_lexer": "ipython3",
   "version": "3.6.6"
  }
 },
 "nbformat": 4,
 "nbformat_minor": 2
}
