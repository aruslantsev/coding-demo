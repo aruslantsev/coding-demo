{
 "cells": [
  {
   "cell_type": "code",
   "execution_count": 20,
   "metadata": {},
   "outputs": [],
   "source": [
    "import numpy as np\n",
    "from collections import defaultdict\n",
    "from math import log\n",
    "\n",
    "class myNB:\n",
    "    def __init__(self):\n",
    "        self.classes = defaultdict(lambda: 0)\n",
    "        self.freqs = defaultdict(lambda: 0)\n",
    "    def __extract_features(self, string):\n",
    "        if len(string) >= 3:\n",
    "            return [string[0], string[1], string[-1]]\n",
    "        elif len(string) == 2:\n",
    "            return [string[0], string[-1]]\n",
    "        elif len(string) == 1:\n",
    "            return [string[0], string[-1]]\n",
    "        else:\n",
    "            return []\n",
    "    def fit(self, X, y):\n",
    "        self.__init__()\n",
    "        if (len(X) != len(y)):\n",
    "            print('X and y must have the same length')\n",
    "            return        \n",
    "        # Определим классы, посчитаем количество объектов в классе\n",
    "        for label in np.unique(y):\n",
    "            self.classes[label] = 0\n",
    "        for label in y:\n",
    "            self.classes[label] += 1\n",
    "        # Посчитаем фичи.         \n",
    "        for i in range(len(y)):\n",
    "            item = X[i]\n",
    "            label = y[i]\n",
    "            feats = self.__extract_features(item)\n",
    "            for feat in feats:\n",
    "                self.freqs[label, feat] += 1\n",
    "        for label, feat in self.freqs:\n",
    "            self.freqs[label, feat] /= self.classes[label]\n",
    "        for label in self.classes:\n",
    "            self.classes[label] /= len(y)\n",
    "        #print(self.classes)\n",
    "        #print(self.freqs)\n",
    "        return self\n",
    "    def predict(self, X):\n",
    "        y = np.zeros((len(X),))\n",
    "        for i in range(len(X)):\n",
    "            item = X[i]\n",
    "            feats = self.__extract_features(item)\n",
    "            keys = self.classes.keys()\n",
    "            label = min(self.classes.keys(), key = lambda c: -log(self.classes[c]) + sum(-log(self.freqs.get((c, feat), 10**(-5))) for feat in feats))\n",
    "            #print(label)\n",
    "            y[i] = label\n",
    "        return y\n",
    "    "
   ]
  },
  {
   "cell_type": "code",
   "execution_count": 31,
   "metadata": {},
   "outputs": [
    {
     "data": {
      "text/plain": [
       "array([1., 1., 1., 1., 0., 1.])"
      ]
     },
     "execution_count": 31,
     "metadata": {},
     "output_type": "execute_result"
    }
   ],
   "source": [
    "NB = myNB()\n",
    "x = np.array(['aaa', 'aba', 'bab', 'bbb', 'abc'])\n",
    "y = np.array([1, 0 ,1, 0, 1])\n",
    "#print(type(x))\n",
    "NB.fit(x, y)\n",
    "xtest = np.array(['aaa', 'aba', 'baa', 'adb', 'bd', 'dd'])\n",
    "NB.predict(xtest)"
   ]
  },
  {
   "cell_type": "code",
   "execution_count": 30,
   "metadata": {},
   "outputs": [
    {
     "name": "stdout",
     "output_type": "stream",
     "text": [
      "16\n"
     ]
    }
   ],
   "source": [
    "print(1 << 0x4)"
   ]
  },
  {
   "cell_type": "code",
   "execution_count": null,
   "metadata": {},
   "outputs": [],
   "source": []
  }
 ],
 "metadata": {
  "kernelspec": {
   "display_name": "Python 3 (ipykernel)",
   "language": "python",
   "name": "python3"
  },
  "language_info": {
   "codemirror_mode": {
    "name": "ipython",
    "version": 3
   },
   "file_extension": ".py",
   "mimetype": "text/x-python",
   "name": "python",
   "nbconvert_exporter": "python",
   "pygments_lexer": "ipython3",
   "version": "3.9.10"
  }
 },
 "nbformat": 4,
 "nbformat_minor": 2
}
