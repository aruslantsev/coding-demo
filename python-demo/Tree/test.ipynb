{
 "cells": [
  {
   "cell_type": "code",
   "execution_count": 1,
   "metadata": {},
   "outputs": [],
   "source": [
    "import random\n",
    "import math\n",
    "import re\n",
    "\n",
    "import numpy as np\n",
    "import pandas as pd\n",
    "\n",
    "from cart import Tree\n",
    "\n",
    "from sklearn.datasets import fetch_openml\n",
    "from sklearn.metrics import roc_auc_score\n",
    "from sklearn.model_selection import train_test_split\n",
    "from sklearn.preprocessing import StandardScaler\n",
    "from sklearn.tree import DecisionTreeClassifier"
   ]
  },
  {
   "cell_type": "markdown",
   "metadata": {},
   "source": [
    "### Random data"
   ]
  },
  {
   "cell_type": "code",
   "execution_count": 2,
   "metadata": {},
   "outputs": [],
   "source": [
    "N = 1000\n",
    "random.seed(42)\n",
    "data = np.random.rand(N, 2)\n",
    "y = np.random.randint(2, size=(N, 1))\n",
    "\n",
    "data = np.hstack([data, y])\n",
    "\n",
    "delim = 600\n",
    "train = np.array(data[:delim])\n",
    "test = np.array(data[delim:])\n",
    "X_train = train[:, 0:-1]\n",
    "y_train = train[:, -1]\n",
    "X_test = test[:, 0:-1]\n",
    "y_test = test[:, -1]"
   ]
  },
  {
   "cell_type": "code",
   "execution_count": 3,
   "metadata": {},
   "outputs": [
    {
     "name": "stdout",
     "output_type": "stream",
     "text": [
      "0.5086404803350236 0.4639622593910038\n"
     ]
    }
   ],
   "source": [
    "custom_tree = Tree()\n",
    "sklearn_tree = DecisionTreeClassifier()\n",
    "\n",
    "custom_tree.fit(X_train, y_train)\n",
    "sklearn_tree.fit(X_train, y_train)\n",
    "\n",
    "custom_ypred = custom_tree.predict(X_test)\n",
    "sklearn_ypred = sklearn_tree.predict(X_test)\n",
    "\n",
    "custom_rocauc = roc_auc_score(y_test, custom_ypred)\n",
    "sklearn_rocauc = roc_auc_score(y_test, sklearn_ypred)\n",
    "\n",
    "print(custom_rocauc, sklearn_rocauc)"
   ]
  },
  {
   "cell_type": "markdown",
   "metadata": {},
   "source": [
    "### Titanic dataset"
   ]
  },
  {
   "cell_type": "code",
   "execution_count": 15,
   "metadata": {},
   "outputs": [],
   "source": [
    "def get_marital_status(name):\n",
    "    if (\n",
    "        (name.find('Mrs') != -1) \n",
    "        or (name.find('Lady') != -1) \n",
    "        or (name.find('Countess') != -1)\n",
    "    ):\n",
    "        return 2\n",
    "    if (\n",
    "        (name.find('Miss') != -1) \n",
    "        or (name.find('Mlle') != -1) \n",
    "        or (name.find('Mme') != -1) \n",
    "        or (name.find('Ms') != -1)\n",
    "    ):\n",
    "        return 1\n",
    "    return 0\n",
    "\n",
    "\n",
    "def get_cabin(x):\n",
    "    x = re.sub('[^A-Za-z ]', '', x)\n",
    "    return x[0]\n",
    "\n",
    "\n",
    "def prepare_data(X):\n",
    "    X = X.copy()\n",
    "\n",
    "    X['namelength'] = X['name'].map(len)\n",
    "    \n",
    "    X['title'] = X['name'].str.split(', ', expand=True)[1].str.split('.', expand=True)[0]\n",
    "    stat_min = 10\n",
    "    title_names = (X['title'].value_counts() < stat_min)\n",
    "    X['title'] = X['title'].apply(lambda x: 'misc' if title_names.loc[x] == True else x)\n",
    "    X = pd.get_dummies(X, columns = ['title'], prefix='title')\n",
    "    \n",
    "    X['maritalstatus'] = X['name'].map(get_marital_status)\n",
    "    X['is_mr'] = X['maritalstatus'].map(lambda x: 1 if x == 0 else 0)\n",
    "    X['is_miss'] = X['maritalstatus'].map(lambda x: 1 if x == 1 else 0)\n",
    "    X['is_mrs'] = X['maritalstatus'].map(lambda x: 1 if x == 2 else 0)\n",
    "    \n",
    "    X['age_known'] = X['age'].isnull() == False\n",
    "    X['age_known'] = X['age_known'].map(lambda x: 1 if x else 0)\n",
    "    X['age'] = X.groupby('pclass')['age'].apply(lambda x: x.fillna(x.median()))\n",
    "    \n",
    "    X['fare'] = X.groupby('pclass')['fare'].apply(lambda x: x.fillna(x.median()))\n",
    "    \n",
    "    X['sex'] = X['sex'].map(lambda x: 1 if x == 'male' else 0)\n",
    "    \n",
    "    X['embarked'].fillna(value = 'S', inplace = True)\n",
    "    X = pd.get_dummies(X, columns = ['embarked'], prefix='emb')\n",
    "    \n",
    "    X['cabin'] = X['cabin'].map(lambda x: 'n' if pd.isna(x) else x)\n",
    "    X['lb'] = X['cabin'].map(\n",
    "        lambda x: 1 if (\n",
    "            (len(re.sub('[A-Za-z ]', '', x)) > 0) \n",
    "            and (int(re.sub('[A-Za-z ]', '', x)) % 2 == 0)\n",
    "        ) else 0)\n",
    "    X['rb'] = X['cabin'].map(lambda x: 1 if (\n",
    "        (len(re.sub('[A-Za-z ]', '', x)) > 0) \n",
    "        and (int(re.sub('[A-Za-z ]', '', x)) % 2 == 1)\n",
    "    ) else 0)\n",
    "    X['cabin'] = X['cabin'].map(get_cabin)\n",
    "    X = pd.get_dummies(X, columns=['cabin'], prefix='cabin')\n",
    "    \n",
    "    X['familysize'] = X['sibsp'] + X['parch']\n",
    "    \n",
    "    X['1class'] = X['pclass'].map(lambda x: 1 if x == 1 else 0)\n",
    "    X['2class'] = X['pclass'].map(lambda x: 1 if x == 2 else 0)\n",
    "    X['3class'] = X['pclass'].map(lambda x: 1 if x == 3 else 0)\n",
    "    X.drop('pclass', axis = 1, inplace = True)\n",
    "    \n",
    "    X['farebin'] = pd.qcut(x = X['fare'], q = 4, labels = False)\n",
    "    X['agebin'] = pd.qcut(x = X['age'], q = 4, labels = False)\n",
    "    \n",
    "    X['age'] = X['age'].map(np.log1p)\n",
    "    X['fare'] = X['fare'].map(np.log1p)\n",
    "    \n",
    "    X['pass'] = 1\n",
    "    X = X.join(X.groupby('ticket')['pass'].sum().rename('passinticket'), on='ticket')\n",
    "    X = X.join(X.groupby('ticket')['fare'].median().rename('ticketfare'), on='ticket')\n",
    "    X['ticketfare'] = X['ticketfare'].divide(X['passinticket'])\n",
    "    X['familyfare'] = X['fare'].divide(X['familysize'] + 1)\n",
    "    \n",
    "    X['familyname'] = X['name'].map(lambda x: x.split(',')[0])\n",
    "    X = X.join(X.groupby('familyname')['pass'].sum().rename('familysize_1'), on='familyname')\n",
    "    X['familyfare_1'] = X['fare'].divide(X['familysize_1'] + 1)\n",
    "    \n",
    "    X = pd.get_dummies(X, columns=['familyname'], prefix='fname')\n",
    "    \n",
    "    X.drop('pass', inplace=True, axis=1)\n",
    "    \n",
    "    X['ttype'] = X['ticket'].str[0]\n",
    "    X = pd.get_dummies(X, columns = ['ttype'], prefix='ttype')\n",
    "    \n",
    "    X = pd.get_dummies(X, columns = ['familysize'], prefix='famsize')\n",
    "    X = pd.get_dummies(X, columns = ['parch'], prefix='parch')\n",
    "    X = pd.get_dummies(X, columns = ['sibsp'], prefix='sibsp')\n",
    "    \n",
    "    X.drop(['name', 'ticket'], axis=1, inplace=True)\n",
    "    \n",
    "    X['boat'] = X['boat'].fillna('Unknown')\n",
    "    X = pd.get_dummies(X, columns=['boat'], prefix='boat')\n",
    "    \n",
    "    X['home.dest'] = X['home.dest'].fillna('Unknown')\n",
    "    X = pd.get_dummies(X, columns=['home.dest'], prefix='home')\n",
    "    \n",
    "    X['body'] = X['body'].fillna(0)\n",
    "    \n",
    "    return X\n",
    "\n",
    "\n",
    "def scorer(classifier, X, y):\n",
    "    score = 0\n",
    "    x_train, x_test, y_train, y_test = train_test_split(\n",
    "        X, y, test_size=0.2, shuffle=True, random_state=42)\n",
    "    classifier.fit(x_train, y_train)\n",
    "    y_pred = classifier.predict(x_test)\n",
    "    score = roc_auc_score(y_test, y_pred)\n",
    "    return score"
   ]
  },
  {
   "cell_type": "code",
   "execution_count": 16,
   "metadata": {},
   "outputs": [
    {
     "name": "stdout",
     "output_type": "stream",
     "text": [
      "0.9472104519774012 0.9745762711864407\n"
     ]
    }
   ],
   "source": [
    "X, y = fetch_openml(\"titanic\", version=1, as_frame=True, return_X_y=True)\n",
    "\n",
    "X = prepare_data(X)\n",
    "scaler = StandardScaler()\n",
    "X = scaler.fit_transform(X)\n",
    "X = np.array(X)\n",
    "y = np.array(y)\n",
    "\n",
    "decisiontree = DecisionTreeClassifier()\n",
    "mytree = Tree()\n",
    "sklearn_score = scorer(decisiontree, X, y)\n",
    "my_score = scorer(mytree, X, y)\n",
    "print(my_score, sklearn_score)"
   ]
  },
  {
   "cell_type": "code",
   "execution_count": null,
   "metadata": {},
   "outputs": [],
   "source": []
  }
 ],
 "metadata": {
  "kernelspec": {
   "display_name": "Python 3 (ipykernel)",
   "language": "python",
   "name": "python3"
  },
  "language_info": {
   "codemirror_mode": {
    "name": "ipython",
    "version": 3
   },
   "file_extension": ".py",
   "mimetype": "text/x-python",
   "name": "python",
   "nbconvert_exporter": "python",
   "pygments_lexer": "ipython3",
   "version": "3.9.10"
  }
 },
 "nbformat": 4,
 "nbformat_minor": 2
}
