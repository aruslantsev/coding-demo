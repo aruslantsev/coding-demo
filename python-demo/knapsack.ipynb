{
 "cells": [
  {
   "cell_type": "code",
   "execution_count": 1,
   "id": "79b6da32",
   "metadata": {},
   "outputs": [],
   "source": [
    "stuffdict = {\n",
    "    # name: {weight, price}\n",
    "    'couch_s':(300,75), \n",
    "    'couch_b':(500,80), \n",
    "    'bed':(400,100), \n",
    "    'closet':(200,50), \n",
    "    'bed_s':(200,40), \n",
    "    'desk':(200,70), \n",
    "    'table':(300,80),\n",
    "    'tv_table':(200,30),\n",
    "    'armchair':(100,30),\n",
    "    'bookshelf':(200,60), \n",
    "    'cabinet':(150,20),\n",
    "    'game_table':(150,30),\n",
    "    'hammock':(250,45),\n",
    "    'diner_table_with_chairs':(250,70),\n",
    "    'stools':(150,30),\n",
    "    'mirror':(100,20),\n",
    "    'instrument':(300,70),\n",
    "    'plant_1':(25,10),\n",
    "    'plant_2':(30,20),\n",
    "    'plant_3':(45,25),\n",
    "    'sideboard':(175,30),\n",
    "    'chest_of_drawers':(25,40),\n",
    "    'guest_bed':(250,40),\n",
    "    'standing_lamp':(20,30), \n",
    "    'garbage_can':(30,35), \n",
    "    'bar_with_stools':(200,40), \n",
    "    'bike_stand':(100,80),\n",
    "    'chest':(150,25),\n",
    "    'heater':(100,25)\n",
    "}"
   ]
  },
  {
   "cell_type": "code",
   "execution_count": 2,
   "id": "7982321e",
   "metadata": {},
   "outputs": [],
   "source": [
    "CAPACITY = 2000"
   ]
  },
  {
   "cell_type": "code",
   "execution_count": 3,
   "id": "ff5e6c7d",
   "metadata": {},
   "outputs": [],
   "source": [
    "import numpy as np\n",
    "\n",
    "def knapsack(stuff, capacity):\n",
    "    names = [n for n in stuff.keys()]\n",
    "    weights = [w[0] for w in stuff.values()]\n",
    "    prices = [p[1] for p in stuff.values()]\n",
    "    \n",
    "    w = np.zeros((len(stuff) + 1, capacity + 1))\n",
    "    for i in range(1, len(stuff) + 1):\n",
    "        for j in range(1, capacity + 1):\n",
    "            curr_price = 0 if weights[i - 1] > j else prices[i - 1]\n",
    "            remaining_weight = j if j < weights[i - 1] else j - weights[i - 1]\n",
    "            w[i, j] = max(w[i - 1, j], curr_price + w[i - 1, remaining_weight])\n",
    "            \n",
    "    max_price = w[-1, -1]\n",
    "    \n",
    "    good_stuff = {}\n",
    "    max_weight = 0\n",
    "    \n",
    "    cost = max_price\n",
    "    weight = capacity\n",
    "    for i in range(len(stuff))[::-1]:\n",
    "        if cost <= 0:\n",
    "            break\n",
    "        if cost == w[i - 1, weight]:\n",
    "            continue\n",
    "        else:\n",
    "            good_stuff[names[i - 1]] = (weights[i - 1], prices[i - 1])\n",
    "            max_weight += weights[i - 1]\n",
    "            cost -= prices[i - 1]\n",
    "            weight -= weights[i - 1]\n",
    "            \n",
    "    return good_stuff"
   ]
  },
  {
   "cell_type": "code",
   "execution_count": 4,
   "id": "79f89f85",
   "metadata": {},
   "outputs": [],
   "source": [
    "stuff = knapsack(stuffdict, CAPACITY)"
   ]
  },
  {
   "cell_type": "code",
   "execution_count": 5,
   "id": "3b10d155",
   "metadata": {},
   "outputs": [
    {
     "data": {
      "text/plain": [
       "['bike_stand',\n",
       " 'garbage_can',\n",
       " 'standing_lamp',\n",
       " 'chest_of_drawers',\n",
       " 'plant_3',\n",
       " 'plant_2',\n",
       " 'diner_table_with_chairs',\n",
       " 'bookshelf',\n",
       " 'armchair',\n",
       " 'table',\n",
       " 'desk',\n",
       " 'bed',\n",
       " 'couch_s']"
      ]
     },
     "execution_count": 5,
     "metadata": {},
     "output_type": "execute_result"
    }
   ],
   "source": [
    "list(stuff.keys())"
   ]
  },
  {
   "cell_type": "code",
   "execution_count": 6,
   "id": "cfe9ac32",
   "metadata": {},
   "outputs": [
    {
     "data": {
      "text/plain": [
       "['bike_stand',\n",
       " 'garbage_can',\n",
       " 'standing_lamp',\n",
       " 'chest_of_drawers',\n",
       " 'plant_3',\n",
       " 'plant_2',\n",
       " 'diner_table_with_chairs',\n",
       " 'bookshelf',\n",
       " 'armchair',\n",
       " 'table',\n",
       " 'desk',\n",
       " 'bed',\n",
       " 'couch_s']"
      ]
     },
     "execution_count": 6,
     "metadata": {},
     "output_type": "execute_result"
    }
   ],
   "source": [
    "['bike_stand', 'garbage_can', 'standing_lamp', 'chest_of_drawers',\n",
    "'plant_3', 'plant_2', 'diner_table_with_chairs', 'bookshelf',\n",
    "'armchair', 'table', 'desk', 'bed', 'couch_s'] # true answer\n"
   ]
  },
  {
   "cell_type": "code",
   "execution_count": 9,
   "id": "e03ead85",
   "metadata": {},
   "outputs": [
    {
     "data": {
      "text/plain": [
       "(2000, 2000)"
      ]
     },
     "execution_count": 9,
     "metadata": {},
     "output_type": "execute_result"
    }
   ],
   "source": [
    "sum(s[0] for s in stuff.values()), CAPACITY"
   ]
  },
  {
   "cell_type": "code",
   "execution_count": 11,
   "id": "01f28071",
   "metadata": {},
   "outputs": [
    {
     "data": {
      "text/plain": [
       "(715, 715)"
      ]
     },
     "execution_count": 11,
     "metadata": {},
     "output_type": "execute_result"
    }
   ],
   "source": [
    "sum(p[1] for p in stuff.values()), 715"
   ]
  },
  {
   "cell_type": "code",
   "execution_count": null,
   "id": "a5c4ec2a",
   "metadata": {},
   "outputs": [],
   "source": []
  }
 ],
 "metadata": {
  "kernelspec": {
   "display_name": "Python 3 (ipykernel)",
   "language": "python",
   "name": "python3"
  },
  "language_info": {
   "codemirror_mode": {
    "name": "ipython",
    "version": 3
   },
   "file_extension": ".py",
   "mimetype": "text/x-python",
   "name": "python",
   "nbconvert_exporter": "python",
   "pygments_lexer": "ipython3",
   "version": "3.9.10"
  }
 },
 "nbformat": 4,
 "nbformat_minor": 5
}
