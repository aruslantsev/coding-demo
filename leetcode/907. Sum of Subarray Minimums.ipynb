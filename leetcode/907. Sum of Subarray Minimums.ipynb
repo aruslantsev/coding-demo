{
 "cells": [
  {
   "cell_type": "markdown",
   "id": "14d207ce-e723-4a82-b3e9-cf0dd65b61f0",
   "metadata": {},
   "source": [
    "Given an array of integers arr, find the sum of min(b), where b ranges over every (contiguous) subarray of arr. Since the answer may be large, return the answer modulo 109 + 7.\n",
    "\n",
    " \n",
    "\n",
    "Example 1:\n",
    "\n",
    "Input: arr = [3,1,2,4]\n",
    "Output: 17\n",
    "Explanation: \n",
    "Subarrays are [3], [1], [2], [4], [3,1], [1,2], [2,4], [3,1,2], [1,2,4], [3,1,2,4]. \n",
    "Minimums are 3, 1, 2, 4, 1, 1, 2, 1, 1, 1.\n",
    "Sum is 17.\n",
    "\n",
    "Example 2:\n",
    "\n",
    "Input: arr = [11,81,94,43,3]\n",
    "Output: 444\n",
    "\n",
    " \n",
    "\n",
    "Constraints:\n",
    "\n",
    "    1 <= arr.length <= 3 * 104\n",
    "    1 <= arr[i] <= 3 * 104\n",
    "\n"
   ]
  },
  {
   "cell_type": "code",
   "execution_count": null,
   "id": "42d5dc20-1863-49cb-aed3-a8348f81a156",
   "metadata": {},
   "outputs": [],
   "source": [
    "class Solution:\n",
    "    def sumSubarrayMins(self, arr: List[int]) -> int:\n",
    "        MOD = 10 ** 9 + 7\n",
    "        stack = []\n",
    "        sum_of_minimums = 0;\n",
    "\n",
    "        for i in range(len(arr) + 1):\n",
    "            while stack and (i == len(arr) or arr[stack[-1]] >= arr[i]):\n",
    "                mid = stack.pop()\n",
    "                left_boundary = -1 if not stack else stack[-1]\n",
    "                right_boundary = i\n",
    "                count = (mid - left_boundary) * (right_boundary - mid)\n",
    "                sum_of_minimums += (count * arr[mid])\n",
    "\n",
    "            stack.append(i)\n",
    "        \n",
    "        return sum_of_minimums % MOD"
   ]
  }
 ],
 "metadata": {
  "kernelspec": {
   "display_name": "Python 3 (ipykernel)",
   "language": "python",
   "name": "python3"
  },
  "language_info": {
   "codemirror_mode": {
    "name": "ipython",
    "version": 3
   },
   "file_extension": ".py",
   "mimetype": "text/x-python",
   "name": "python",
   "nbconvert_exporter": "python",
   "pygments_lexer": "ipython3",
   "version": "3.9.13"
  }
 },
 "nbformat": 4,
 "nbformat_minor": 5
}
