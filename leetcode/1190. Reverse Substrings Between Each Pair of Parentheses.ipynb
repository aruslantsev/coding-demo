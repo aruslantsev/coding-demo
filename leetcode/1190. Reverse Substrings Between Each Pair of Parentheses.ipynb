{
 "cells": [
  {
   "cell_type": "markdown",
   "id": "2d0ec2f1-d698-497c-911c-5c2affc04324",
   "metadata": {},
   "source": [
    "You are given a string s that consists of lower case English letters and brackets.\n",
    "\n",
    "Reverse the strings in each pair of matching parentheses, starting from the innermost one.\n",
    "\n",
    "Your result should not contain any brackets.\n",
    "\n",
    " \n",
    "\n",
    "Example 1:\n",
    "\n",
    "Input: s = \"(abcd)\"\n",
    "Output: \"dcba\"\n",
    "\n",
    "Example 2:\n",
    "\n",
    "Input: s = \"(u(love)i)\"\n",
    "Output: \"iloveu\"\n",
    "Explanation: The substring \"love\" is reversed first, then the whole string is reversed.\n",
    "\n",
    "Example 3:\n",
    "\n",
    "Input: s = \"(ed(et(oc))el)\"\n",
    "Output: \"leetcode\"\n",
    "Explanation: First, we reverse the substring \"oc\", then \"etco\", and finally, the whole string.\n",
    "\n",
    " \n",
    "\n",
    "Constraints:\n",
    "\n",
    "    1 <= s.length <= 2000\n",
    "    s only contains lower case English characters and parentheses.\n",
    "    It is guaranteed that all parentheses are balanced.\n",
    "\n"
   ]
  },
  {
   "cell_type": "code",
   "execution_count": 45,
   "id": "6a6042a0-1695-4858-9d96-dbe85aa5f762",
   "metadata": {},
   "outputs": [],
   "source": [
    "class Solution:\n",
    "    def reverseParentheses(self, s: str) -> str:\n",
    "        st = []\n",
    "        for i in range(len(s)):\n",
    "            sym = s[i]\n",
    "            if sym == \"(\":\n",
    "                st.append(i)\n",
    "            elif sym == \")\":\n",
    "                start = st.pop()\n",
    "                s = s[:start] + s[start:i][::-1] + s[i:]\n",
    "        \n",
    "        return s.replace(\"(\", \"\").replace(\")\", \"\")"
   ]
  },
  {
   "cell_type": "code",
   "execution_count": null,
   "id": "88fb2efa-870b-404f-88bb-6036fe913813",
   "metadata": {},
   "outputs": [],
   "source": [
    "class Solution:\n",
    "    def reverseParentheses(self, s: str) -> str:\n",
    "        n = len(s)\n",
    "        open_parentheses_indices = []\n",
    "        pair = [0] * n\n",
    "\n",
    "        # First pass: Pair up parentheses\n",
    "        for i in range(n):\n",
    "            if s[i] == \"(\":\n",
    "                open_parentheses_indices.append(i)\n",
    "            if s[i] == \")\":\n",
    "                j = open_parentheses_indices.pop()\n",
    "                pair[i] = j\n",
    "                pair[j] = i\n",
    "\n",
    "        # Second pass: Build the result string\n",
    "        result = []\n",
    "        curr_index = 0\n",
    "        direction = 1\n",
    "\n",
    "        while curr_index < n:\n",
    "            if s[curr_index] == \"(\" or s[curr_index] == \")\":\n",
    "                curr_index = pair[curr_index]\n",
    "                direction = -direction\n",
    "            else:\n",
    "                result.append(s[curr_index])\n",
    "            curr_index += direction\n",
    "\n",
    "        return \"\".join(result)"
   ]
  }
 ],
 "metadata": {
  "kernelspec": {
   "display_name": "Python 3 (ipykernel)",
   "language": "python",
   "name": "python3"
  },
  "language_info": {
   "codemirror_mode": {
    "name": "ipython",
    "version": 3
   },
   "file_extension": ".py",
   "mimetype": "text/x-python",
   "name": "python",
   "nbconvert_exporter": "python",
   "pygments_lexer": "ipython3",
   "version": "3.12.3"
  }
 },
 "nbformat": 4,
 "nbformat_minor": 5
}
