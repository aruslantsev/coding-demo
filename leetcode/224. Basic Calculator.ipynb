{
 "cells": [
  {
   "cell_type": "markdown",
   "id": "9e067d12-2861-4edc-82a8-71aecba49b2c",
   "metadata": {},
   "source": [
    "Given a string s representing a valid expression, implement a basic calculator to evaluate it, and return the result of the evaluation.\n",
    "\n",
    "Note: You are not allowed to use any built-in function which evaluates strings as mathematical expressions, such as eval().\n",
    "\n",
    " \n",
    "\n",
    "Example 1:\n",
    "\n",
    "Input: s = \"1 + 1\"\n",
    "Output: 2\n",
    "\n",
    "Example 2:\n",
    "\n",
    "Input: s = \" 2-1 + 2 \"\n",
    "Output: 3\n",
    "\n",
    "Example 3:\n",
    "\n",
    "Input: s = \"(1+(4+5+2)-3)+(6+8)\"\n",
    "Output: 23\n",
    "\n",
    " \n",
    "\n",
    "Constraints:\n",
    "\n",
    "    1 <= s.length <= 3 * 105\n",
    "    s consists of digits, '+', '-', '(', ')', and ' '.\n",
    "    s represents a valid expression.\n",
    "    '+' is not used as a unary operation (i.e., \"+1\" and \"+(2 + 3)\" is invalid).\n",
    "    '-' could be used as a unary operation (i.e., \"-1\" and \"-(2 + 3)\" is valid).\n",
    "    There will be no two consecutive operators in the input.\n",
    "    Every number and running calculation will fit in a signed 32-bit integer.\n",
    "\n"
   ]
  },
  {
   "cell_type": "code",
   "execution_count": null,
   "id": "0a539874-a65b-4203-814a-ea04b8c2f9b8",
   "metadata": {},
   "outputs": [],
   "source": [
    "class Solution:\n",
    "    def calculate(self, s: str) -> int:\n",
    "        num, sign, stack = 0, 1, [0]\n",
    "\n",
    "        for c in s:\n",
    "            if c.isdigit():\n",
    "                num = num*10 + int(c)\n",
    "            elif c == ' ':\n",
    "                continue\n",
    "\n",
    "            elif c == '+':\n",
    "                stack[-1] += num * sign\n",
    "                sign = 1\n",
    "                num = 0\n",
    "\n",
    "            elif c == '-':\n",
    "                stack[-1] += num * sign\n",
    "                sign = -1\n",
    "                num = 0\n",
    "\n",
    "            elif c == '(':\n",
    "                stack.extend([sign,0])\n",
    "                sign = 1\n",
    "                num = 0\n",
    "\n",
    "            elif c == ')':\n",
    "                lastNum = (stack.pop() + num * sign) * stack.pop()\n",
    "                stack[-1] += lastNum\n",
    "                sign = 1\n",
    "                num = 0\n",
    "                \n",
    "        return stack[-1] + num * sign"
   ]
  }
 ],
 "metadata": {
  "kernelspec": {
   "display_name": "Python 3 (ipykernel)",
   "language": "python",
   "name": "python3"
  },
  "language_info": {
   "codemirror_mode": {
    "name": "ipython",
    "version": 3
   },
   "file_extension": ".py",
   "mimetype": "text/x-python",
   "name": "python",
   "nbconvert_exporter": "python",
   "pygments_lexer": "ipython3",
   "version": "3.9.13"
  }
 },
 "nbformat": 4,
 "nbformat_minor": 5
}
