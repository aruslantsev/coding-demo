{
 "cells": [
  {
   "cell_type": "markdown",
   "id": "c186989e-9498-428c-849c-9c578e94ae16",
   "metadata": {},
   "source": [
    "You are given an array of strings words. Each element of words consists of two lowercase English letters.\n",
    "\n",
    "Create the longest possible palindrome by selecting some elements from words and concatenating them in any order. Each element can be selected at most once.\n",
    "\n",
    "Return the length of the longest palindrome that you can create. If it is impossible to create any palindrome, return 0.\n",
    "\n",
    "A palindrome is a string that reads the same forward and backward.\n",
    "\n",
    " \n",
    "\n",
    "Example 1:\n",
    "\n",
    "Input: words = [\"lc\",\"cl\",\"gg\"]\n",
    "Output: 6\n",
    "Explanation: One longest palindrome is \"lc\" + \"gg\" + \"cl\" = \"lcggcl\", of length 6.\n",
    "Note that \"clgglc\" is another longest palindrome that can be created.\n",
    "\n",
    "Example 2:\n",
    "\n",
    "Input: words = [\"ab\",\"ty\",\"yt\",\"lc\",\"cl\",\"ab\"]\n",
    "Output: 8\n",
    "Explanation: One longest palindrome is \"ty\" + \"lc\" + \"cl\" + \"yt\" = \"tylcclyt\", of length 8.\n",
    "Note that \"lcyttycl\" is another longest palindrome that can be created.\n",
    "\n",
    "Example 3:\n",
    "\n",
    "Input: words = [\"cc\",\"ll\",\"xx\"]\n",
    "Output: 2\n",
    "Explanation: One longest palindrome is \"cc\", of length 2.\n",
    "Note that \"ll\" is another longest palindrome that can be created, and so is \"xx\".\n",
    "\n",
    " \n",
    "\n",
    "Constraints:\n",
    "\n",
    "    1 <= words.length <= 105\n",
    "    words[i].length == 2\n",
    "    words[i] consists of lowercase English letters.\n",
    "\n"
   ]
  },
  {
   "cell_type": "code",
   "execution_count": 41,
   "id": "f7e95561-e7a3-4678-bb71-b592068da527",
   "metadata": {},
   "outputs": [],
   "source": [
    "from typing import List\n",
    "from collections import Counter\n",
    "\n",
    "class Solution:\n",
    "    def longestPalindrome(self, words: List[str]) -> int:\n",
    "        length = 0\n",
    "        odd = False\n",
    "        counts = Counter(words)\n",
    "        for word in counts:\n",
    "            cnt = counts[word]\n",
    "            if word == word[::-1]:\n",
    "                length += 4 * (cnt // 2)\n",
    "                cnt = cnt % 2\n",
    "                if not odd and cnt > 0:\n",
    "                    odd = True\n",
    "                    length += 2\n",
    "            elif word[::-1] in counts:\n",
    "                length += 4 * (min(counts[word[::-1]], cnt))\n",
    "                counts[word[::-1]] -= 1\n",
    "            counts[word] = 0\n",
    "        return length"
   ]
  },
  {
   "cell_type": "code",
   "execution_count": null,
   "id": "b3f89309-1a45-4622-9164-568589a3b521",
   "metadata": {},
   "outputs": [],
   "source": [
    "class Solution:\n",
    "    def longestPalindrome(self, words: List[str]) -> int:\n",
    "        ans = 0\n",
    "        add = 0\n",
    "        cnt = Counter(words)\n",
    "        for key in cnt:\n",
    "            if key != key[::-1]:\n",
    "                ans += 4 * min(cnt.get(key, 0), cnt.get(key[::-1], 0))\n",
    "            else:\n",
    "                ans += 4 * (cnt[key] // 2)\n",
    "                if cnt[key] % 2 == 1:\n",
    "                    add = 2\n",
    "            cnt[key] = 0\n",
    "        return ans + add\n"
   ]
  },
  {
   "cell_type": "code",
   "execution_count": 42,
   "id": "19934c3a-7f71-47b4-bcd5-bf427c5fe07a",
   "metadata": {},
   "outputs": [
    {
     "data": {
      "text/plain": [
       "22"
      ]
     },
     "execution_count": 42,
     "metadata": {},
     "output_type": "execute_result"
    }
   ],
   "source": [
    "s = Solution()\n",
    "s.longestPalindrome([\"dd\",\"aa\",\"bb\",\"dd\",\"aa\",\"dd\",\"bb\",\"dd\",\"aa\",\"cc\",\"bb\",\"cc\",\"dd\",\"cc\"])"
   ]
  },
  {
   "cell_type": "code",
   "execution_count": 43,
   "id": "a520ebbd-b7a3-4d12-bb78-a528a5cb92e5",
   "metadata": {},
   "outputs": [
    {
     "data": {
      "text/plain": [
       "6"
      ]
     },
     "execution_count": 43,
     "metadata": {},
     "output_type": "execute_result"
    }
   ],
   "source": [
    "s.longestPalindrome([\"lc\",\"cl\",\"gg\"])"
   ]
  },
  {
   "cell_type": "code",
   "execution_count": 44,
   "id": "c2f606f6-581c-4a21-a3b5-78a6af5c5d86",
   "metadata": {},
   "outputs": [
    {
     "data": {
      "text/plain": [
       "8"
      ]
     },
     "execution_count": 44,
     "metadata": {},
     "output_type": "execute_result"
    }
   ],
   "source": [
    "s.longestPalindrome([\"ab\",\"ty\",\"yt\",\"lc\",\"cl\",\"ab\"])"
   ]
  },
  {
   "cell_type": "code",
   "execution_count": null,
   "id": "e74840b7-748c-4ef5-b4c9-4027c21d414c",
   "metadata": {},
   "outputs": [],
   "source": []
  }
 ],
 "metadata": {
  "kernelspec": {
   "display_name": "Python 3 (ipykernel)",
   "language": "python",
   "name": "python3"
  },
  "language_info": {
   "codemirror_mode": {
    "name": "ipython",
    "version": 3
   },
   "file_extension": ".py",
   "mimetype": "text/x-python",
   "name": "python",
   "nbconvert_exporter": "python",
   "pygments_lexer": "ipython3",
   "version": "3.12.9"
  }
 },
 "nbformat": 4,
 "nbformat_minor": 5
}
