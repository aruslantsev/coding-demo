{
 "cells": [
  {
   "cell_type": "markdown",
   "id": "182c1deb",
   "metadata": {},
   "source": [
    "There are n children standing in a line. Each child is assigned a rating value given in the integer array ratings.\n",
    "\n",
    "You are giving candies to these children subjected to the following requirements:\n",
    "\n",
    "Each child must have at least one candy.\n",
    "Children with a higher rating get more candies than their neighbors.\n",
    "Return the minimum number of candies you need to have to distribute the candies to the children.\n",
    "\n",
    " \n",
    "\n",
    "Example 1:\n",
    "\n",
    "Input: ratings = [1,0,2]\n",
    "Output: 5\n",
    "Explanation: You can allocate to the first, second and third child with 2, 1, 2 candies respectively.\n",
    "Example 2:\n",
    "\n",
    "Input: ratings = [1,2,2]\n",
    "Output: 4\n",
    "Explanation: You can allocate to the first, second and third child with 1, 2, 1 candies respectively.\n",
    "The third child gets 1 candy because it satisfies the above two conditions.\n",
    " \n",
    "\n",
    "Constraints:\n",
    "\n",
    "n == ratings.length\n",
    "1 <= n <= 2 * 104\n",
    "0 <= ratings[i] <= 2 * 104"
   ]
  },
  {
   "cell_type": "code",
   "execution_count": 20,
   "id": "14e52b38",
   "metadata": {},
   "outputs": [],
   "source": [
    "from typing import List\n",
    "\n",
    "class Solution:\n",
    "    def candy(self, ratings: List[int]) -> int:\n",
    "        if len(ratings) <= 1:\n",
    "            return [1 * len(ratings)]\n",
    "        candies = [0 for _ in ratings]\n",
    "        if ratings[0] > ratings[1]:\n",
    "            candies[0] += 1\n",
    "        for i, rating in enumerate(ratings):\n",
    "            if i + 1 < len(ratings):\n",
    "                if (\n",
    "                    (ratings[i - 1] < ratings[i]) \n",
    "                    or (ratings[i] > ratings[i + 1])\n",
    "                ):\n",
    "                    candies[i] = 1 + max([candies[i - 1], candies[i],  candies[i + 1]])\n",
    "        if len(ratings) >= 3 and ratings[-1] > ratings[-2]:\n",
    "            candies[-1] = candies[-2] + 1\n",
    "        print(candies)\n",
    "        return sum(candies) + (1 - min(candies)) * len(candies)"
   ]
  },
  {
   "cell_type": "code",
   "execution_count": 27,
   "id": "08675ace",
   "metadata": {},
   "outputs": [],
   "source": [
    "from typing import List\n",
    "\n",
    "class Solution:\n",
    "    def candy(self, ratings: List[int]) -> int:\n",
    "        if len(ratings) <= 1:\n",
    "            return sum([1 * len(ratings)])\n",
    "        candies = [0 for _ in ratings]\n",
    "        if ratings[0] > ratings[1]:\n",
    "            candies[0] += 1\n",
    "        for i in range(len(ratings)):\n",
    "            if i >= 1 and ratings[i - 1] < ratings[i]:\n",
    "                candies[i] = 1 + max([candies[i - 1], candies[i]])\n",
    "                \n",
    "        for i in range(len(ratings))[::-1]:\n",
    "            if i + 1 < len(candies) and ratings[i + 1] < ratings[i]:\n",
    "                if candies[i] <= candies[i + 1]:\n",
    "                    candies[i] = 1 + candies[i + 1]\n",
    "                    \n",
    "        print(candies)\n",
    "        return sum(candies) + (1 - min(candies)) * len(candies)"
   ]
  },
  {
   "cell_type": "code",
   "execution_count": 28,
   "id": "e8e58411",
   "metadata": {},
   "outputs": [
    {
     "name": "stdout",
     "output_type": "stream",
     "text": [
      "[1, 0, 1]\n"
     ]
    },
    {
     "data": {
      "text/plain": [
       "5"
      ]
     },
     "execution_count": 28,
     "metadata": {},
     "output_type": "execute_result"
    }
   ],
   "source": [
    "s = Solution()\n",
    "s.candy([1, 0, 2])"
   ]
  },
  {
   "cell_type": "code",
   "execution_count": 29,
   "id": "e1c4f2d8",
   "metadata": {},
   "outputs": [
    {
     "name": "stdout",
     "output_type": "stream",
     "text": [
      "[0, 1, 0]\n"
     ]
    },
    {
     "data": {
      "text/plain": [
       "4"
      ]
     },
     "execution_count": 29,
     "metadata": {},
     "output_type": "execute_result"
    }
   ],
   "source": [
    "s.candy([1, 2, 2])"
   ]
  },
  {
   "cell_type": "code",
   "execution_count": 30,
   "id": "78755a54",
   "metadata": {},
   "outputs": [
    {
     "name": "stdout",
     "output_type": "stream",
     "text": [
      "[0, 1, 2, 0, 2, 1, 0]\n"
     ]
    },
    {
     "data": {
      "text/plain": [
       "13"
      ]
     },
     "execution_count": 30,
     "metadata": {},
     "output_type": "execute_result"
    }
   ],
   "source": [
    "s.candy([1,2,87,87,87,2,1]) # 13"
   ]
  },
  {
   "cell_type": "code",
   "execution_count": null,
   "id": "13f3f517",
   "metadata": {},
   "outputs": [],
   "source": []
  }
 ],
 "metadata": {
  "kernelspec": {
   "display_name": "Python 3 (ipykernel)",
   "language": "python",
   "name": "python3"
  },
  "language_info": {
   "codemirror_mode": {
    "name": "ipython",
    "version": 3
   },
   "file_extension": ".py",
   "mimetype": "text/x-python",
   "name": "python",
   "nbconvert_exporter": "python",
   "pygments_lexer": "ipython3",
   "version": "3.9.12"
  }
 },
 "nbformat": 4,
 "nbformat_minor": 5
}
