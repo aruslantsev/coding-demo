{
 "cells": [
  {
   "cell_type": "markdown",
   "id": "1aeaba23-8e44-46f5-ba20-65384377d90d",
   "metadata": {},
   "source": [
    "There are n different online courses numbered from 1 to n. You are given an array courses where courses[i] = [durationi, lastDayi] indicate that the ith course should be taken continuously for durationi days and must be finished before or on lastDayi.\n",
    "\n",
    "You will start on the 1st day and you cannot take two or more courses simultaneously.\n",
    "\n",
    "Return the maximum number of courses that you can take.\n",
    "\n",
    " \n",
    "\n",
    "Example 1:\n",
    "\n",
    "Input: courses = [[100,200],[200,1300],[1000,1250],[2000,3200]]\n",
    "Output: 3\n",
    "Explanation: \n",
    "There are totally 4 courses, but you can take 3 courses at most:\n",
    "First, take the 1st course, it costs 100 days so you will finish it on the 100th day, and ready to take the next course on the 101st day.\n",
    "Second, take the 3rd course, it costs 1000 days so you will finish it on the 1100th day, and ready to take the next course on the 1101st day. \n",
    "Third, take the 2nd course, it costs 200 days so you will finish it on the 1300th day. \n",
    "The 4th course cannot be taken now, since you will finish it on the 3300th day, which exceeds the closed date.\n",
    "\n",
    "Example 2:\n",
    "\n",
    "Input: courses = [[1,2]]\n",
    "Output: 1\n",
    "\n",
    "Example 3:\n",
    "\n",
    "Input: courses = [[3,2],[4,3]]\n",
    "Output: 0\n",
    "\n",
    " \n",
    "\n",
    "Constraints:\n",
    "\n",
    "    1 <= courses.length <= 104\n",
    "    1 <= durationi, lastDayi <= 104\n",
    "\n"
   ]
  },
  {
   "cell_type": "code",
   "execution_count": null,
   "id": "42a8a0ef-d4d8-4cb6-86df-24309fdad12f",
   "metadata": {},
   "outputs": [],
   "source": [
    "class Solution:\n",
    "    def scheduleCourse(self, courses: List[List[int]]) -> int:\n",
    "        pq = []\n",
    "        start = 0\n",
    "        for t, end in sorted(courses, key=lambda x: x[1]):\n",
    "            start += t\n",
    "            heapq.heappush(pq, -t)\n",
    "            while start > end:\n",
    "                start += heapq.heappop(pq)\n",
    "        return len(pq)"
   ]
  },
  {
   "cell_type": "code",
   "execution_count": null,
   "id": "961bbb91-7c89-46fb-bce6-5d250b87d82a",
   "metadata": {},
   "outputs": [],
   "source": [
    "class Solution:\n",
    "    def scheduleCourse(self, courses):\n",
    "        heap, time = [], 0\n",
    "        for t, end in sorted(courses, key=lambda x: x[1]):\n",
    "            time += t\n",
    "            heapq.heappush(heap, -t)\n",
    "            if time > end:\n",
    "                nt = heapq.heappop(heap)\n",
    "                time += nt\n",
    "        return len(heap)"
   ]
  }
 ],
 "metadata": {
  "kernelspec": {
   "display_name": "Python 3 (ipykernel)",
   "language": "python",
   "name": "python3"
  },
  "language_info": {
   "codemirror_mode": {
    "name": "ipython",
    "version": 3
   },
   "file_extension": ".py",
   "mimetype": "text/x-python",
   "name": "python",
   "nbconvert_exporter": "python",
   "pygments_lexer": "ipython3",
   "version": "3.9.12"
  }
 },
 "nbformat": 4,
 "nbformat_minor": 5
}
