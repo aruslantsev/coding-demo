{
 "cells": [
  {
   "cell_type": "markdown",
   "id": "148bbf2f-f9d9-4130-825b-81fdb655891c",
   "metadata": {},
   "source": [
    "You are given an array nums of non-negative integers. nums is considered special if there exists a number x such that there are exactly x numbers in nums that are greater than or equal to x.\n",
    "\n",
    "Notice that x does not have to be an element in nums.\n",
    "\n",
    "Return x if the array is special, otherwise, return -1. It can be proven that if nums is special, the value for x is unique.\n",
    "\n",
    " \n",
    "\n",
    "Example 1:\n",
    "\n",
    "Input: nums = [3,5]\n",
    "Output: 2\n",
    "Explanation: There are 2 values (3 and 5) that are greater than or equal to 2.\n",
    "\n",
    "Example 2:\n",
    "\n",
    "Input: nums = [0,0]\n",
    "Output: -1\n",
    "Explanation: No numbers fit the criteria for x.\n",
    "If x = 0, there should be 0 numbers >= x, but there are 2.\n",
    "If x = 1, there should be 1 number >= x, but there are 0.\n",
    "If x = 2, there should be 2 numbers >= x, but there are 0.\n",
    "x cannot be greater since there are only 2 numbers in nums.\n",
    "\n",
    "Example 3:\n",
    "\n",
    "Input: nums = [0,4,3,0,4]\n",
    "Output: 3\n",
    "Explanation: There are 3 values that are greater than or equal to 3.\n",
    "\n",
    " \n",
    "\n",
    "Constraints:\n",
    "\n",
    "    1 <= nums.length <= 100\n",
    "    0 <= nums[i] <= 1000\n",
    "\n"
   ]
  },
  {
   "cell_type": "code",
   "execution_count": 17,
   "id": "eae54736-4119-4ba1-b082-499ebc9a3c66",
   "metadata": {},
   "outputs": [],
   "source": [
    "from typing import List\n",
    "import bisect\n",
    "\n",
    "class Solution:\n",
    "    def specialArray(self, nums: List[int]) -> int:\n",
    "        nums.sort()\n",
    "        lo = 0\n",
    "        hi = nums[-1]\n",
    "        while lo < hi:\n",
    "            med = (lo + hi) // 2\n",
    "            ip = bisect.bisect_left(nums, med)\n",
    "            if len(nums[ip:]) <= med:\n",
    "                hi = med\n",
    "            else:\n",
    "                lo = med + 1\n",
    "\n",
    "        if len([num for num in nums if num >= lo]) == lo:\n",
    "            return lo\n",
    "        return -1"
   ]
  },
  {
   "cell_type": "code",
   "execution_count": 18,
   "id": "3366f409-5db6-4fd8-be76-5b6ecf1072e9",
   "metadata": {},
   "outputs": [
    {
     "data": {
      "text/plain": [
       "2"
      ]
     },
     "execution_count": 18,
     "metadata": {},
     "output_type": "execute_result"
    }
   ],
   "source": [
    "s = Solution()\n",
    "s.specialArray([3, 5])"
   ]
  }
 ],
 "metadata": {
  "kernelspec": {
   "display_name": "Python 3 (ipykernel)",
   "language": "python",
   "name": "python3"
  },
  "language_info": {
   "codemirror_mode": {
    "name": "ipython",
    "version": 3
   },
   "file_extension": ".py",
   "mimetype": "text/x-python",
   "name": "python",
   "nbconvert_exporter": "python",
   "pygments_lexer": "ipython3",
   "version": "3.12.3"
  }
 },
 "nbformat": 4,
 "nbformat_minor": 5
}
