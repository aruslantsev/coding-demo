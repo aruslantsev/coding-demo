{
 "cells": [
  {
   "cell_type": "markdown",
   "id": "136365e9-ce81-4fc3-ac76-d19e4da48456",
   "metadata": {},
   "source": [
    "Given an array of integers nums and an integer k. A continuous subarray is called nice if there are k odd numbers on it.\n",
    "\n",
    "Return the number of nice sub-arrays.\n",
    "\n",
    " \n",
    "\n",
    "Example 1:\n",
    "\n",
    "Input: nums = [1,1,2,1,1], k = 3\n",
    "Output: 2\n",
    "Explanation: The only sub-arrays with 3 odd numbers are [1,1,2,1] and [1,2,1,1].\n",
    "\n",
    "Example 2:\n",
    "\n",
    "Input: nums = [2,4,6], k = 1\n",
    "Output: 0\n",
    "Explanation: There are no odd numbers in the array.\n",
    "\n",
    "Example 3:\n",
    "\n",
    "Input: nums = [2,2,2,1,2,2,1,2,2,2], k = 2\n",
    "Output: 16\n",
    "\n",
    " \n",
    "\n",
    "Constraints:\n",
    "\n",
    "    1 <= nums.length <= 50000\n",
    "    1 <= nums[i] <= 10^5\n",
    "    1 <= k <= nums.length\n",
    "\n"
   ]
  },
  {
   "cell_type": "code",
   "execution_count": null,
   "id": "0a279c5c-8d04-4520-9f8d-5285d98c4aa7",
   "metadata": {},
   "outputs": [],
   "source": [
    "class Solution:\n",
    "    def numberOfSubarrays(self, nums: List[int], k: int) -> int:\n",
    "        curr_sum = 0\n",
    "        sums = {curr_sum: 1}\n",
    "        ans = 0\n",
    "        for num in nums:\n",
    "            curr_sum += num % 2\n",
    "            if curr_sum - k in sums:\n",
    "                ans += sums[curr_sum - k]\n",
    "            sums[curr_sum] = sums.get(curr_sum, 0) + 1\n",
    "        return ans\n"
   ]
  }
 ],
 "metadata": {
  "kernelspec": {
   "display_name": "Python 3 (ipykernel)",
   "language": "python",
   "name": "python3"
  },
  "language_info": {
   "codemirror_mode": {
    "name": "ipython",
    "version": 3
   },
   "file_extension": ".py",
   "mimetype": "text/x-python",
   "name": "python",
   "nbconvert_exporter": "python",
   "pygments_lexer": "ipython3",
   "version": "3.12.3"
  }
 },
 "nbformat": 4,
 "nbformat_minor": 5
}
