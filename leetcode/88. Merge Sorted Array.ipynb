{
 "cells": [
  {
   "cell_type": "markdown",
   "id": "c627c435-7544-485f-9a76-14c5eccb3b21",
   "metadata": {},
   "source": [
    "You are given two integer arrays nums1 and nums2, sorted in non-decreasing order, and two integers m and n, representing the number of elements in nums1 and nums2 respectively.\n",
    "\n",
    "Merge nums1 and nums2 into a single array sorted in non-decreasing order.\n",
    "\n",
    "The final sorted array should not be returned by the function, but instead be stored inside the array nums1. To accommodate this, nums1 has a length of m + n, where the first m elements denote the elements that should be merged, and the last n elements are set to 0 and should be ignored. nums2 has a length of n.\n",
    "\n",
    " \n",
    "\n",
    "Example 1:\n",
    "\n",
    "Input: nums1 = [1,2,3,0,0,0], m = 3, nums2 = [2,5,6], n = 3\n",
    "Output: [1,2,2,3,5,6]\n",
    "Explanation: The arrays we are merging are [1,2,3] and [2,5,6].\n",
    "The result of the merge is [1,2,2,3,5,6] with the underlined elements coming from nums1.\n",
    "\n",
    "Example 2:\n",
    "\n",
    "Input: nums1 = [1], m = 1, nums2 = [], n = 0\n",
    "Output: [1]\n",
    "Explanation: The arrays we are merging are [1] and [].\n",
    "The result of the merge is [1].\n",
    "\n",
    "Example 3:\n",
    "\n",
    "Input: nums1 = [0], m = 0, nums2 = [1], n = 1\n",
    "Output: [1]\n",
    "Explanation: The arrays we are merging are [] and [1].\n",
    "The result of the merge is [1].\n",
    "Note that because m = 0, there are no elements in nums1. The 0 is only there to ensure the merge result can fit in nums1.\n",
    "\n",
    " \n",
    "\n",
    "Constraints:\n",
    "\n",
    "    nums1.length == m + n\n",
    "    nums2.length == n\n",
    "    0 <= m, n <= 200\n",
    "    1 <= m + n <= 200\n",
    "    -109 <= nums1[i], nums2[j] <= 109\n",
    "\n",
    " \n",
    "\n",
    "Follow up: Can you come up with an algorithm that runs in O(m + n) time?\n"
   ]
  },
  {
   "cell_type": "code",
   "execution_count": 2,
   "id": "fa7ae60a-0cf2-4f0e-b438-2d36bdf60354",
   "metadata": {},
   "outputs": [],
   "source": [
    "from typing import List\n",
    "\n",
    "class Solution:\n",
    "    def merge(self, nums1: List[int], m: int, nums2: List[int], n: int) -> None:\n",
    "        \"\"\"\n",
    "        Do not return anything, modify nums1 in-place instead.\n",
    "        \"\"\"\n",
    "        pos1 = 0\n",
    "        pos2 = 0\n",
    "        while m > 0 or n > 0:\n",
    "            if m > 0 and n > 0:\n",
    "                if nums1[pos1] <= nums2[pos2]:\n",
    "                    pos1 += 1\n",
    "                    m -= 1\n",
    "                else:\n",
    "                    nums1.pop()\n",
    "                    nums1.insert(pos1, nums2[pos2])\n",
    "                    pos1 += 1\n",
    "                    pos2 += 1\n",
    "                    n -= 1\n",
    "            else:\n",
    "                if n > 0:\n",
    "                    nums1.pop()\n",
    "                    nums1.insert(pos1, nums2[pos2])\n",
    "                    pos1 += 1\n",
    "                    pos2 += 1\n",
    "                    n -= 1\n",
    "                if m > 0:\n",
    "                    m = 0\n",
    "                    \n",
    "        return nums1"
   ]
  },
  {
   "cell_type": "code",
   "execution_count": 5,
   "id": "64bb5477-0845-4044-b418-0f3553a14e2b",
   "metadata": {},
   "outputs": [
    {
     "data": {
      "text/plain": [
       "[1, 2, 2, 3, 5, 6]"
      ]
     },
     "execution_count": 5,
     "metadata": {},
     "output_type": "execute_result"
    }
   ],
   "source": [
    "s = Solution()\n",
    "s.merge(nums1=[1,2,3,0,0,0], m=3, nums2=[2,5,6], n=3)"
   ]
  },
  {
   "cell_type": "code",
   "execution_count": 7,
   "id": "afa34902-06e9-4ff1-a9db-4c41d5dbded9",
   "metadata": {},
   "outputs": [
    {
     "data": {
      "text/plain": [
       "[1]"
      ]
     },
     "execution_count": 7,
     "metadata": {},
     "output_type": "execute_result"
    }
   ],
   "source": [
    "s.merge(nums1=[1], m=1, nums2=[], n=0)"
   ]
  },
  {
   "cell_type": "code",
   "execution_count": 8,
   "id": "0233a5b2-37ee-4bbc-8a8c-ba2754f40a39",
   "metadata": {},
   "outputs": [
    {
     "data": {
      "text/plain": [
       "[1]"
      ]
     },
     "execution_count": 8,
     "metadata": {},
     "output_type": "execute_result"
    }
   ],
   "source": [
    "s.merge(nums1=[0], m=0, nums2=[1], n=1)"
   ]
  },
  {
   "cell_type": "code",
   "execution_count": null,
   "id": "24a8d644-7e70-41fe-bc13-b8f6bb079d1f",
   "metadata": {},
   "outputs": [],
   "source": []
  }
 ],
 "metadata": {
  "kernelspec": {
   "display_name": "Python 3 (ipykernel)",
   "language": "python",
   "name": "python3"
  },
  "language_info": {
   "codemirror_mode": {
    "name": "ipython",
    "version": 3
   },
   "file_extension": ".py",
   "mimetype": "text/x-python",
   "name": "python",
   "nbconvert_exporter": "python",
   "pygments_lexer": "ipython3",
   "version": "3.9.10"
  }
 },
 "nbformat": 4,
 "nbformat_minor": 5
}
