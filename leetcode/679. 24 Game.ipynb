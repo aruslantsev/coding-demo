{
 "cells": [
  {
   "cell_type": "markdown",
   "id": "cd55c30c-6e12-43df-8a55-7ead1bb25cfc",
   "metadata": {},
   "source": [
    "You are given an integer array cards of length 4. You have four cards, each containing a number in the range [1, 9]. You should arrange the numbers on these cards in a mathematical expression using the operators ['+', '-', '*', '/'] and the parentheses '(' and ')' to get the value 24.\n",
    "\n",
    "You are restricted with the following rules:\n",
    "\n",
    "    The division operator '/' represents real division, not integer division.\n",
    "        For example, 4 / (1 - 2 / 3) = 4 / (1 / 3) = 12.\n",
    "    Every operation done is between two numbers. In particular, we cannot use '-' as a unary operator.\n",
    "        For example, if cards = [1, 1, 1, 1], the expression \"-1 - 1 - 1 - 1\" is not allowed.\n",
    "    You cannot concatenate numbers together\n",
    "        For example, if cards = [1, 2, 1, 2], the expression \"12 + 12\" is not valid.\n",
    "\n",
    "Return true if you can get such expression that evaluates to 24, and false otherwise.\n",
    "\n",
    " \n",
    "\n",
    "Example 1:\n",
    "\n",
    "Input: cards = [4,1,8,7]\n",
    "Output: true\n",
    "Explanation: (8-4) * (7-1) = 24\n",
    "\n",
    "Example 2:\n",
    "\n",
    "Input: cards = [1,2,1,2]\n",
    "Output: false\n",
    "\n",
    " \n",
    "\n",
    "Constraints:\n",
    "\n",
    "    cards.length == 4\n",
    "    1 <= cards[i] <= 9\n",
    "\n"
   ]
  },
  {
   "cell_type": "code",
   "execution_count": null,
   "id": "c901833e-21a1-4a3f-a6fd-01e2be0d73a3",
   "metadata": {},
   "outputs": [],
   "source": [
    "class Solution:\n",
    "    def judgePoint24(self, cards: List[int]) -> bool:\n",
    "        EPS = 1e-6\n",
    "\n",
    "        def backtrack(nums: List[float]) -> bool:\n",
    "            if len(nums) == 1:\n",
    "                return abs(nums[0] - 24) < EPS\n",
    "            \n",
    "            for i in range(len(nums) - 1):\n",
    "                for j in range(i + 1, len(nums)):\n",
    "                    rest = [num for k, num in enumerate(nums) if k != i and k != j]\n",
    "                    a, b = nums[i], nums[j]\n",
    "                    candidates = [\n",
    "                        a + b,\n",
    "                        a - b,\n",
    "                        b - a,\n",
    "                        a * b,\n",
    "                    ]\n",
    "                    if a > EPS:\n",
    "                        candidates.append(b / a)\n",
    "                    if b > EPS:\n",
    "                        candidates.append(a / b)\n",
    "\n",
    "                    for cand in candidates:\n",
    "                        if backtrack(rest + [cand]):\n",
    "                            return True\n",
    "            return False\n",
    "        \n",
    "\n",
    "        return backtrack([float(card) for card in cards])\n"
   ]
  }
 ],
 "metadata": {
  "kernelspec": {
   "display_name": "Python 3 (ipykernel)",
   "language": "python",
   "name": "python3"
  },
  "language_info": {
   "codemirror_mode": {
    "name": "ipython",
    "version": 3
   },
   "file_extension": ".py",
   "mimetype": "text/x-python",
   "name": "python",
   "nbconvert_exporter": "python",
   "pygments_lexer": "ipython3",
   "version": "3.13.5"
  }
 },
 "nbformat": 4,
 "nbformat_minor": 5
}
