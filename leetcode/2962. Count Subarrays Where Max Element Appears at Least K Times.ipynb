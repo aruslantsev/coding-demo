{
 "cells": [
  {
   "cell_type": "markdown",
   "id": "d4308a85-2944-49a6-b8e3-3411be64aa88",
   "metadata": {},
   "source": [
    "You are given an integer array nums and a positive integer k.\n",
    "\n",
    "Return the number of subarrays where the maximum element of nums appears at least k times in that subarray.\n",
    "\n",
    "A subarray is a contiguous sequence of elements within an array.\n",
    "\n",
    " \n",
    "\n",
    "Example 1:\n",
    "\n",
    "Input: nums = [1,3,2,3,3], k = 2\n",
    "Output: 6\n",
    "Explanation: The subarrays that contain the element 3 at least 2 times are: [1,3,2,3], [1,3,2,3,3], [3,2,3], [3,2,3,3], [2,3,3] and [3,3].\n",
    "\n",
    "Example 2:\n",
    "\n",
    "Input: nums = [1,4,2,1], k = 3\n",
    "Output: 0\n",
    "Explanation: No subarray contains the element 4 at least 3 times.\n",
    "\n",
    " \n",
    "\n",
    "Constraints:\n",
    "\n",
    "    1 <= nums.length <= 105\n",
    "    1 <= nums[i] <= 106\n",
    "    1 <= k <= 105\n",
    "\n"
   ]
  },
  {
   "cell_type": "code",
   "execution_count": null,
   "id": "be26af89-84fd-4f90-9010-0a2720a16f61",
   "metadata": {},
   "outputs": [],
   "source": [
    "class Solution:\n",
    "    def countSubarrays(self, nums: List[int], k: int) -> int:\n",
    "        max_value = max(nums)\n",
    "        left = 0\n",
    "        counter = 0\n",
    "        ans = 0\n",
    "        for right, num in enumerate(nums):\n",
    "            if num == max_value:\n",
    "                counter += 1\n",
    "            while counter == k:\n",
    "                if nums[left] == max_value:\n",
    "                    counter -= 1\n",
    "                left += 1\n",
    "            ans += left\n",
    "        return ans"
   ]
  }
 ],
 "metadata": {
  "kernelspec": {
   "display_name": "Python 3 (ipykernel)",
   "language": "python",
   "name": "python3"
  },
  "language_info": {
   "codemirror_mode": {
    "name": "ipython",
    "version": 3
   },
   "file_extension": ".py",
   "mimetype": "text/x-python",
   "name": "python",
   "nbconvert_exporter": "python",
   "pygments_lexer": "ipython3",
   "version": "3.11.7"
  }
 },
 "nbformat": 4,
 "nbformat_minor": 5
}
