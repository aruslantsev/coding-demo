{
 "cells": [
  {
   "cell_type": "markdown",
   "id": "8f207f42-38f2-4727-8f48-874e93e0f950",
   "metadata": {},
   "source": [
    "There are several consecutive houses along a street, each of which has some money inside. There is also a robber, who wants to steal money from the homes, but he refuses to steal from adjacent homes.\n",
    "\n",
    "The capability of the robber is the maximum amount of money he steals from one house of all the houses he robbed.\n",
    "\n",
    "You are given an integer array nums representing how much money is stashed in each house. More formally, the ith house from the left has nums[i] dollars.\n",
    "\n",
    "You are also given an integer k, representing the minimum number of houses the robber will steal from. It is always possible to steal at least k houses.\n",
    "\n",
    "Return the minimum capability of the robber out of all the possible ways to steal at least k houses.\n",
    "\n",
    " \n",
    "\n",
    "Example 1:\n",
    "\n",
    "Input: nums = [2,3,5,9], k = 2\n",
    "Output: 5\n",
    "Explanation: \n",
    "There are three ways to rob at least 2 houses:\n",
    "- Rob the houses at indices 0 and 2. Capability is max(nums[0], nums[2]) = 5.\n",
    "- Rob the houses at indices 0 and 3. Capability is max(nums[0], nums[3]) = 9.\n",
    "- Rob the houses at indices 1 and 3. Capability is max(nums[1], nums[3]) = 9.\n",
    "Therefore, we return min(5, 9, 9) = 5.\n",
    "\n",
    "Example 2:\n",
    "\n",
    "Input: nums = [2,7,9,3,1], k = 2\n",
    "Output: 2\n",
    "Explanation: There are 7 ways to rob the houses. The way which leads to minimum capability is to rob the house at index 0 and 4. Return max(nums[0], nums[4]) = 2.\n",
    "\n",
    " \n",
    "\n",
    "Constraints:\n",
    "\n",
    "    1 <= nums.length <= 105\n",
    "    1 <= nums[i] <= 109\n",
    "    1 <= k <= (nums.length + 1)/2\n",
    "\n"
   ]
  },
  {
   "cell_type": "code",
   "execution_count": null,
   "id": "ca41e127-a4ea-4e44-bd64-a4c018e5a2d5",
   "metadata": {},
   "outputs": [],
   "source": [
    "class Solution:\n",
    "    def minCapability(self, nums: List[int], k: int) -> int:\n",
    "        l = 0\n",
    "        r = max(nums)\n",
    "        while l < r:\n",
    "            m = (l + r) // 2\n",
    "            if self.is_possible(nums, k, m):\n",
    "                r = m\n",
    "            else:\n",
    "                l = m + 1\n",
    "        return l\n",
    "        \n",
    "    @classmethod\n",
    "    def is_possible(self, nums, k, val):\n",
    "        cnt = 0\n",
    "        idx = 0\n",
    "        while idx < len(nums):\n",
    "            if nums[idx] <= val:\n",
    "                cnt += 1\n",
    "                idx += 1\n",
    "            idx += 1\n",
    "        if cnt >= k:\n",
    "            return True\n",
    "        return False"
   ]
  }
 ],
 "metadata": {
  "kernelspec": {
   "display_name": "Python 3 (ipykernel)",
   "language": "python",
   "name": "python3"
  },
  "language_info": {
   "codemirror_mode": {
    "name": "ipython",
    "version": 3
   },
   "file_extension": ".py",
   "mimetype": "text/x-python",
   "name": "python",
   "nbconvert_exporter": "python",
   "pygments_lexer": "ipython3",
   "version": "3.12.7"
  }
 },
 "nbformat": 4,
 "nbformat_minor": 5
}
