{
 "cells": [
  {
   "cell_type": "markdown",
   "id": "e23fc15b-5819-4d38-b880-1c6ead5f9795",
   "metadata": {},
   "source": [
    "For two strings s and t, we say \"t divides s\" if and only if s = t + ... + t (i.e., t is concatenated with itself one or more times).\n",
    "\n",
    "Given two strings str1 and str2, return the largest string x such that x divides both str1 and str2.\n",
    "\n",
    " \n",
    "\n",
    "Example 1:\n",
    "\n",
    "Input: str1 = \"ABCABC\", str2 = \"ABC\"\n",
    "Output: \"ABC\"\n",
    "\n",
    "Example 2:\n",
    "\n",
    "Input: str1 = \"ABABAB\", str2 = \"ABAB\"\n",
    "Output: \"AB\"\n",
    "\n",
    "Example 3:\n",
    "\n",
    "Input: str1 = \"LEET\", str2 = \"CODE\"\n",
    "Output: \"\"\n",
    "\n",
    " \n",
    "\n",
    "Constraints:\n",
    "\n",
    "    1 <= str1.length, str2.length <= 1000\n",
    "    str1 and str2 consist of English uppercase letters.\n"
   ]
  },
  {
   "cell_type": "code",
   "execution_count": 10,
   "id": "4ed4e754-82c8-462d-9e7f-ca2adf8580f2",
   "metadata": {},
   "outputs": [],
   "source": [
    "class Solution:\n",
    "    def gcdOfStrings(self, str1: str, str2: str) -> str:\n",
    "        if str1 == str2:\n",
    "            return str1\n",
    "        gcd = \"\"\n",
    "        for i in range(1, min(len(str1), len(str2)) + 1):\n",
    "            if (len(str1) % i == 0) and (len(str2) % i == 0):\n",
    "                n = len(str1) // i\n",
    "                m = len(str2) // i\n",
    "                substr = str1[:i]\n",
    "                if str1 == substr * n and str2 == substr * m:\n",
    "                    gcd = substr\n",
    "\n",
    "        return gcd"
   ]
  },
  {
   "cell_type": "code",
   "execution_count": 11,
   "id": "b9b5ec3d-a49d-4565-8715-01ccf95cfcec",
   "metadata": {},
   "outputs": [
    {
     "data": {
      "text/plain": [
       "'ABC'"
      ]
     },
     "execution_count": 11,
     "metadata": {},
     "output_type": "execute_result"
    }
   ],
   "source": [
    "s = Solution()\n",
    "s.gcdOfStrings(\"ABCABC\", \"ABC\")"
   ]
  },
  {
   "cell_type": "code",
   "execution_count": null,
   "id": "3c89ba54-e522-4f9d-a879-5f088c60b21b",
   "metadata": {},
   "outputs": [],
   "source": []
  }
 ],
 "metadata": {
  "kernelspec": {
   "display_name": "Python 3 (ipykernel)",
   "language": "python",
   "name": "python3"
  },
  "language_info": {
   "codemirror_mode": {
    "name": "ipython",
    "version": 3
   },
   "file_extension": ".py",
   "mimetype": "text/x-python",
   "name": "python",
   "nbconvert_exporter": "python",
   "pygments_lexer": "ipython3",
   "version": "3.10.8"
  }
 },
 "nbformat": 4,
 "nbformat_minor": 5
}
