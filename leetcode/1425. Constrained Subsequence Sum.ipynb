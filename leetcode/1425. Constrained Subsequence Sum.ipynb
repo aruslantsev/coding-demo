{
 "cells": [
  {
   "cell_type": "markdown",
   "id": "20feb08e-ccab-4205-bb6b-f7ead932f6cb",
   "metadata": {},
   "source": [
    "Given an integer array nums and an integer k, return the maximum sum of a non-empty subsequence of that array such that for every two consecutive integers in the subsequence, nums[i] and nums[j], where i < j, the condition j - i <= k is satisfied.\n",
    "\n",
    "A subsequence of an array is obtained by deleting some number of elements (can be zero) from the array, leaving the remaining elements in their original order.\n",
    "\n",
    " \n",
    "\n",
    "Example 1:\n",
    "\n",
    "Input: nums = [10,2,-10,5,20], k = 2\n",
    "Output: 37\n",
    "Explanation: The subsequence is [10, 2, 5, 20].\n",
    "\n",
    "Example 2:\n",
    "\n",
    "Input: nums = [-1,-2,-3], k = 1\n",
    "Output: -1\n",
    "Explanation: The subsequence must be non-empty, so we choose the largest number.\n",
    "\n",
    "Example 3:\n",
    "\n",
    "Input: nums = [10,-2,-10,-5,20], k = 2\n",
    "Output: 23\n",
    "Explanation: The subsequence is [10, -2, -5, 20].\n",
    "\n",
    " \n",
    "\n",
    "Constraints:\n",
    "\n",
    "    1 <= k <= nums.length <= 105\n",
    "    -104 <= nums[i] <= 104\n",
    "\n"
   ]
  },
  {
   "cell_type": "code",
   "execution_count": null,
   "id": "94460362-9b73-4c0f-9b3b-a693d1a851b7",
   "metadata": {},
   "outputs": [],
   "source": [
    "class Solution:\n",
    "    def constrainedSubsetSum(self, nums: List[int], k: int) -> int:\n",
    "        if all([num <= 0 for num in nums]):\n",
    "            return max(nums)\n",
    "        \n",
    "        @cache\n",
    "        def dp(pos):\n",
    "            if pos >= len(nums):\n",
    "                return 0\n",
    "            \n",
    "            ans = nums[pos]\n",
    "            nxt = max([dp(pos + i) for i in range(1, k + 1)])\n",
    "            return ans + max(nxt, 0)\n",
    "\n",
    "        return max([dp(i) for i in range(len(nums)) if nums[i] > 0])\n",
    "        "
   ]
  },
  {
   "cell_type": "code",
   "execution_count": null,
   "id": "120027e5-b9c2-4716-aec7-5dec836752a1",
   "metadata": {},
   "outputs": [],
   "source": [
    "class Solution:\n",
    "    def constrainedSubsetSum(self, nums: List[int], k: int) -> int:\n",
    "        heap = [(-nums[0], 0)]\n",
    "        ans = nums[0]\n",
    "        \n",
    "        for i in range(1, len(nums)):\n",
    "            while i - heap[0][1] > k:\n",
    "                heapq.heappop(heap)\n",
    "\n",
    "            curr = max(0, -heap[0][0]) + nums[i]\n",
    "            ans = max(ans, curr)\n",
    "            heapq.heappush(heap, (-curr, i))\n",
    "\n",
    "        return ans"
   ]
  }
 ],
 "metadata": {
  "kernelspec": {
   "display_name": "Python 3 (ipykernel)",
   "language": "python",
   "name": "python3"
  },
  "language_info": {
   "codemirror_mode": {
    "name": "ipython",
    "version": 3
   },
   "file_extension": ".py",
   "mimetype": "text/x-python",
   "name": "python",
   "nbconvert_exporter": "python",
   "pygments_lexer": "ipython3",
   "version": "3.11.4"
  }
 },
 "nbformat": 4,
 "nbformat_minor": 5
}
