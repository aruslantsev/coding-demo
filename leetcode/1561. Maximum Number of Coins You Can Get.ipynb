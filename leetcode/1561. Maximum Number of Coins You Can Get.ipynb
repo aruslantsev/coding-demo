{
 "cells": [
  {
   "cell_type": "markdown",
   "id": "eb2bec9a-7fa7-4f5d-9695-3f9de76a014c",
   "metadata": {},
   "source": [
    "There are 3n piles of coins of varying size, you and your friends will take piles of coins as follows:\n",
    "\n",
    "    In each step, you will choose any 3 piles of coins (not necessarily consecutive).\n",
    "    Of your choice, Alice will pick the pile with the maximum number of coins.\n",
    "    You will pick the next pile with the maximum number of coins.\n",
    "    Your friend Bob will pick the last pile.\n",
    "    Repeat until there are no more piles of coins.\n",
    "\n",
    "Given an array of integers piles where piles[i] is the number of coins in the ith pile.\n",
    "\n",
    "Return the maximum number of coins that you can have.\n",
    "\n",
    " \n",
    "\n",
    "Example 1:\n",
    "\n",
    "Input: piles = [2,4,1,2,7,8]\n",
    "Output: 9\n",
    "Explanation: Choose the triplet (2, 7, 8), Alice Pick the pile with 8 coins, you the pile with 7 coins and Bob the last one.\n",
    "Choose the triplet (1, 2, 4), Alice Pick the pile with 4 coins, you the pile with 2 coins and Bob the last one.\n",
    "The maximum number of coins which you can have are: 7 + 2 = 9.\n",
    "On the other hand if we choose this arrangement (1, 2, 8), (2, 4, 7) you only get 2 + 4 = 6 coins which is not optimal.\n",
    "\n",
    "Example 2:\n",
    "\n",
    "Input: piles = [2,4,5]\n",
    "Output: 4\n",
    "\n",
    "Example 3:\n",
    "\n",
    "Input: piles = [9,8,7,6,5,1,2,3,4]\n",
    "Output: 18\n",
    "\n",
    " \n",
    "\n",
    "Constraints:\n",
    "\n",
    "    3 <= piles.length <= 105\n",
    "    piles.length % 3 == 0\n",
    "    1 <= piles[i] <= 104\n",
    "\n"
   ]
  },
  {
   "cell_type": "code",
   "execution_count": null,
   "id": "8a91f298-8855-4310-9dcd-ff3ab826343c",
   "metadata": {},
   "outputs": [],
   "source": [
    "class Solution:\n",
    "    def maxCoins(self, piles: List[int]) -> int:\n",
    "        piles = sorted(piles, reverse=True)\n",
    "        n = len(piles) // 3\n",
    "        piles = piles[:2 * n]\n",
    "        return sum([p for i, p in enumerate(piles) if i % 2 == 1])"
   ]
  }
 ],
 "metadata": {
  "kernelspec": {
   "display_name": "Python 3 (ipykernel)",
   "language": "python",
   "name": "python3"
  },
  "language_info": {
   "codemirror_mode": {
    "name": "ipython",
    "version": 3
   },
   "file_extension": ".py",
   "mimetype": "text/x-python",
   "name": "python",
   "nbconvert_exporter": "python",
   "pygments_lexer": "ipython3",
   "version": "3.11.4"
  }
 },
 "nbformat": 4,
 "nbformat_minor": 5
}
