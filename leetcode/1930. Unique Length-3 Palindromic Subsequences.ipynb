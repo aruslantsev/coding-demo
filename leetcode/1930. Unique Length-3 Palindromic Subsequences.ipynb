{
 "cells": [
  {
   "cell_type": "markdown",
   "id": "e008988b-40ad-4d06-a2f7-2e5600f875c6",
   "metadata": {},
   "source": [
    "Given a string s, return the number of unique palindromes of length three that are a subsequence of s.\n",
    "\n",
    "Note that even if there are multiple ways to obtain the same subsequence, it is still only counted once.\n",
    "\n",
    "A palindrome is a string that reads the same forwards and backwards.\n",
    "\n",
    "A subsequence of a string is a new string generated from the original string with some characters (can be none) deleted without changing the relative order of the remaining characters.\n",
    "\n",
    "    For example, \"ace\" is a subsequence of \"abcde\".\n",
    "\n",
    " \n",
    "\n",
    "Example 1:\n",
    "\n",
    "Input: s = \"aabca\"\n",
    "Output: 3\n",
    "Explanation: The 3 palindromic subsequences of length 3 are:\n",
    "- \"aba\" (subsequence of \"aabca\")\n",
    "- \"aaa\" (subsequence of \"aabca\")\n",
    "- \"aca\" (subsequence of \"aabca\")\n",
    "\n",
    "Example 2:\n",
    "\n",
    "Input: s = \"adc\"\n",
    "Output: 0\n",
    "Explanation: There are no palindromic subsequences of length 3 in \"adc\".\n",
    "\n",
    "Example 3:\n",
    "\n",
    "Input: s = \"bbcbaba\"\n",
    "Output: 4\n",
    "Explanation: The 4 palindromic subsequences of length 3 are:\n",
    "- \"bbb\" (subsequence of \"bbcbaba\")\n",
    "- \"bcb\" (subsequence of \"bbcbaba\")\n",
    "- \"bab\" (subsequence of \"bbcbaba\")\n",
    "- \"aba\" (subsequence of \"bbcbaba\")\n",
    "\n",
    " \n",
    "\n",
    "Constraints:\n",
    "\n",
    "    3 <= s.length <= 105\n",
    "    s consists of only lowercase English letters.\n",
    "\n"
   ]
  },
  {
   "cell_type": "code",
   "execution_count": null,
   "id": "b8711534-d698-4d89-be40-5b3b3dc03068",
   "metadata": {},
   "outputs": [],
   "source": [
    "class Solution:\n",
    "    def countPalindromicSubsequence(self, s: str) -> int:\n",
    "        letters = set(s)\n",
    "        ans = 0\n",
    "        for letter in letters:\n",
    "            left = s.index(letter)\n",
    "            right = s.rindex(letter)\n",
    "            ans += len(set(s[left + 1:right]))\n",
    "        return ans\n",
    "        "
   ]
  }
 ],
 "metadata": {
  "kernelspec": {
   "display_name": "Python 3 (ipykernel)",
   "language": "python",
   "name": "python3"
  },
  "language_info": {
   "codemirror_mode": {
    "name": "ipython",
    "version": 3
   },
   "file_extension": ".py",
   "mimetype": "text/x-python",
   "name": "python",
   "nbconvert_exporter": "python",
   "pygments_lexer": "ipython3",
   "version": "3.11.4"
  }
 },
 "nbformat": 4,
 "nbformat_minor": 5
}
