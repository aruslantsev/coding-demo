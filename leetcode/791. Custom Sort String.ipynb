{
 "cells": [
  {
   "cell_type": "markdown",
   "id": "de03cf2c-1261-4710-97c5-c1443d1c8412",
   "metadata": {},
   "source": [
    "You are given two strings order and s. All the characters of order are unique and were sorted in some custom order previously.\n",
    "\n",
    "Permute the characters of s so that they match the order that order was sorted. More specifically, if a character x occurs before a character y in order, then x should occur before y in the permuted string.\n",
    "\n",
    "Return any permutation of s that satisfies this property.\n",
    "\n",
    " \n",
    "\n",
    "Example 1:\n",
    "\n",
    "Input:  order = \"cba\", s = \"abcd\" \n",
    "\n",
    "Output:  \"cbad\" \n",
    "\n",
    "Explanation: \"a\", \"b\", \"c\" appear in order, so the order of \"a\", \"b\", \"c\" should be \"c\", \"b\", and \"a\".\n",
    "\n",
    "Since \"d\" does not appear in order, it can be at any position in the returned string. \"dcba\", \"cdba\", \"cbda\" are also valid outputs.\n",
    "\n",
    "Example 2:\n",
    "\n",
    "Input:  order = \"bcafg\", s = \"abcd\" \n",
    "\n",
    "Output:  \"bcad\" \n",
    "\n",
    "Explanation: The characters \"b\", \"c\", and \"a\" from order dictate the order for the characters in s. The character \"d\" in s does not appear in order, so its position is flexible.\n",
    "\n",
    "Following the order of appearance in order, \"b\", \"c\", and \"a\" from s should be arranged as \"b\", \"c\", \"a\". \"d\" can be placed at any position since it's not in order. The output \"bcad\" correctly follows this rule. Other arrangements like \"bacd\" or \"bcda\" would also be valid, as long as \"b\", \"c\", \"a\" maintain their order.\n",
    "\n",
    " \n",
    "\n",
    "Constraints:\n",
    "\n",
    "    1 <= order.length <= 26\n",
    "    1 <= s.length <= 200\n",
    "    order and s consist of lowercase English letters.\n",
    "    All the characters of order are unique.\n",
    "\n"
   ]
  },
  {
   "cell_type": "code",
   "execution_count": null,
   "id": "2be88155-d54f-4183-be4e-8c9a4bd65b5b",
   "metadata": {},
   "outputs": [],
   "source": [
    "class Solution:\n",
    "    def customSortString(self, order: str, s: str) -> str:\n",
    "        cnt = Counter(s)\n",
    "        ans = \"\"\n",
    "        for sym in order:\n",
    "            ans += cnt.get(sym, 0) * sym\n",
    "        for sym, k in cnt.items():\n",
    "            if not sym in order:\n",
    "                ans += sym * k\n",
    "        return ans\n"
   ]
  }
 ],
 "metadata": {
  "kernelspec": {
   "display_name": "common",
   "language": "python",
   "name": "common"
  },
  "language_info": {
   "codemirror_mode": {
    "name": "ipython",
    "version": 3
   },
   "file_extension": ".py",
   "mimetype": "text/x-python",
   "name": "python",
   "nbconvert_exporter": "python",
   "pygments_lexer": "ipython3",
   "version": "3.11.7"
  }
 },
 "nbformat": 4,
 "nbformat_minor": 5
}
