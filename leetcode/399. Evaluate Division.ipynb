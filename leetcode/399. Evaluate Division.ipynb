{
 "cells": [
  {
   "cell_type": "markdown",
   "id": "210021e1-2a3a-4807-8c6a-f6266dcbcfb6",
   "metadata": {},
   "source": [
    "You are given an array of variable pairs equations and an array of real numbers values, where equations[i] = [Ai, Bi] and values[i] represent the equation Ai / Bi = values[i]. Each Ai or Bi is a string that represents a single variable.\n",
    "\n",
    "You are also given some queries, where queries[j] = [Cj, Dj] represents the jth query where you must find the answer for Cj / Dj = ?.\n",
    "\n",
    "Return the answers to all queries. If a single answer cannot be determined, return -1.0.\n",
    "\n",
    "Note: The input is always valid. You may assume that evaluating the queries will not result in division by zero and that there is no contradiction.\n",
    "\n",
    " \n",
    "\n",
    "Example 1:\n",
    "\n",
    "Input: equations = [[\"a\",\"b\"],[\"b\",\"c\"]], values = [2.0,3.0], queries = [[\"a\",\"c\"],[\"b\",\"a\"],[\"a\",\"e\"],[\"a\",\"a\"],[\"x\",\"x\"]]\n",
    "Output: [6.00000,0.50000,-1.00000,1.00000,-1.00000]\n",
    "Explanation: \n",
    "Given: a / b = 2.0, b / c = 3.0\n",
    "queries are: a / c = ?, b / a = ?, a / e = ?, a / a = ?, x / x = ?\n",
    "return: [6.0, 0.5, -1.0, 1.0, -1.0 ]\n",
    "\n",
    "Example 2:\n",
    "\n",
    "Input: equations = [[\"a\",\"b\"],[\"b\",\"c\"],[\"bc\",\"cd\"]], values = [1.5,2.5,5.0], queries = [[\"a\",\"c\"],[\"c\",\"b\"],[\"bc\",\"cd\"],[\"cd\",\"bc\"]]\n",
    "Output: [3.75000,0.40000,5.00000,0.20000]\n",
    "\n",
    "Example 3:\n",
    "\n",
    "Input: equations = [[\"a\",\"b\"]], values = [0.5], queries = [[\"a\",\"b\"],[\"b\",\"a\"],[\"a\",\"c\"],[\"x\",\"y\"]]\n",
    "Output: [0.50000,2.00000,-1.00000,-1.00000]\n",
    "\n",
    " \n",
    "\n",
    "Constraints:\n",
    "\n",
    "    1 <= equations.length <= 20\n",
    "    equations[i].length == 2\n",
    "    1 <= Ai.length, Bi.length <= 5\n",
    "    values.length == equations.length\n",
    "    0.0 < values[i] <= 20.0\n",
    "    1 <= queries.length <= 20\n",
    "    queries[i].length == 2\n",
    "    1 <= Cj.length, Dj.length <= 5\n",
    "    Ai, Bi, Cj, Dj consist of lower case English letters and digits.\n",
    "\n"
   ]
  },
  {
   "cell_type": "code",
   "execution_count": 4,
   "id": "5ecdc840-0f91-49ed-92d3-737cb23d97e2",
   "metadata": {},
   "outputs": [],
   "source": [
    "from typing import List\n",
    "from collections import deque\n",
    "\n",
    "class Solution:\n",
    "    def calcEquation(\n",
    "        self, \n",
    "        equations: List[List[str]], \n",
    "        values: List[float], \n",
    "        queries: List[List[str]]\n",
    "    ) -> List[float]:\n",
    "        vertices = []\n",
    "        for (v0, v1) in equations:\n",
    "            if v0 not in vertices:\n",
    "                vertices.append(v0)\n",
    "            if v1 not in vertices:\n",
    "                vertices.append(v1)\n",
    "                \n",
    "        vertices = {v: i for i, v in enumerate(vertices)}\n",
    "        \n",
    "        graph = [[None for _ in vertices] for _ in vertices]\n",
    "        for ((v0, v1), d) in zip(equations, values):\n",
    "            graph[vertices[v0]][vertices[v1]] = d\n",
    "            graph[vertices[v1]][vertices[v0]] = 1 / d\n",
    "        \n",
    "        def bfs(graph, v0, v1):\n",
    "            q = deque()\n",
    "            q.append((v0, 1, []))\n",
    "            while q:\n",
    "                curr, dist, visited = q.popleft()\n",
    "                if curr == v1:\n",
    "                    return dist\n",
    "                visited = visited.copy()\n",
    "                visited.append(curr)\n",
    "                cands = graph[curr]\n",
    "                for i, pairdist in enumerate(cands):\n",
    "                    if pairdist is not None and i not in visited:\n",
    "                        q.append((i, dist * pairdist, visited))\n",
    "            return -1\n",
    "            \n",
    "        ans = [-1 for _ in queries]\n",
    "        for i, (v0, v1) in enumerate(queries):\n",
    "            if (v0 in vertices) and (v1 in vertices):\n",
    "                ans[i] = bfs(graph, vertices[v0], vertices[v1])\n",
    "                \n",
    "        return ans"
   ]
  },
  {
   "cell_type": "code",
   "execution_count": 5,
   "id": "8e3dc809-8538-4cf3-96ef-68f19667d69d",
   "metadata": {},
   "outputs": [
    {
     "name": "stdout",
     "output_type": "stream",
     "text": [
      "[[None, 2.0, None], [0.5, None, 3.0], [None, 0.3333333333333333, None]]\n"
     ]
    },
    {
     "data": {
      "text/plain": [
       "[6.0, 0.5, -1, 1, -1]"
      ]
     },
     "execution_count": 5,
     "metadata": {},
     "output_type": "execute_result"
    }
   ],
   "source": [
    "s = Solution()\n",
    "s.calcEquation(\n",
    "    equations=[[\"a\",\"b\"],[\"b\",\"c\"]], \n",
    "    values=[2.0,3.0], \n",
    "    queries=[[\"a\",\"c\"],[\"b\",\"a\"],[\"a\",\"e\"],[\"a\",\"a\"],[\"x\",\"x\"]])\n",
    "#  [6.00000,0.50000,-1.00000,1.00000,-1.00000] "
   ]
  },
  {
   "cell_type": "code",
   "execution_count": null,
   "id": "a4a2434f-d330-4f30-accd-7ff345575326",
   "metadata": {},
   "outputs": [],
   "source": []
  }
 ],
 "metadata": {
  "kernelspec": {
   "display_name": "Python 3 (ipykernel)",
   "language": "python",
   "name": "python3"
  },
  "language_info": {
   "codemirror_mode": {
    "name": "ipython",
    "version": 3
   },
   "file_extension": ".py",
   "mimetype": "text/x-python",
   "name": "python",
   "nbconvert_exporter": "python",
   "pygments_lexer": "ipython3",
   "version": "3.9.10"
  }
 },
 "nbformat": 4,
 "nbformat_minor": 5
}
