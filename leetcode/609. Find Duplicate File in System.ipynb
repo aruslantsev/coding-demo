{
 "cells": [
  {
   "cell_type": "markdown",
   "id": "3e408195-9bbe-48c0-bb3c-25f40da092a0",
   "metadata": {},
   "source": [
    "Given a list paths of directory info, including the directory path, and all the files with contents in this directory, return all the duplicate files in the file system in terms of their paths. You may return the answer in any order.\n",
    "\n",
    "A group of duplicate files consists of at least two files that have the same content.\n",
    "\n",
    "A single directory info string in the input list has the following format:\n",
    "\n",
    "    \"root/d1/d2/.../dm f1.txt(f1_content) f2.txt(f2_content) ... fn.txt(fn_content)\"\n",
    "\n",
    "It means there are n files (f1.txt, f2.txt ... fn.txt) with content (f1_content, f2_content ... fn_content) respectively in the directory \"root/d1/d2/.../dm\". Note that n >= 1 and m >= 0. If m = 0, it means the directory is just the root directory.\n",
    "\n",
    "The output is a list of groups of duplicate file paths. For each group, it contains all the file paths of the files that have the same content. A file path is a string that has the following format:\n",
    "\n",
    "    \"directory_path/file_name.txt\"\n",
    "\n",
    " \n",
    "\n",
    "Example 1:\n",
    "\n",
    "Input: paths = [\"root/a 1.txt(abcd) 2.txt(efgh)\",\"root/c 3.txt(abcd)\",\"root/c/d 4.txt(efgh)\",\"root 4.txt(efgh)\"]\n",
    "Output: [[\"root/a/2.txt\",\"root/c/d/4.txt\",\"root/4.txt\"],[\"root/a/1.txt\",\"root/c/3.txt\"]]\n",
    "\n",
    "Example 2:\n",
    "\n",
    "Input: paths = [\"root/a 1.txt(abcd) 2.txt(efgh)\",\"root/c 3.txt(abcd)\",\"root/c/d 4.txt(efgh)\"]\n",
    "Output: [[\"root/a/2.txt\",\"root/c/d/4.txt\"],[\"root/a/1.txt\",\"root/c/3.txt\"]]\n",
    "\n",
    " \n",
    "\n",
    "Constraints:\n",
    "\n",
    "    1 <= paths.length <= 2 * 104\n",
    "    1 <= paths[i].length <= 3000\n",
    "    1 <= sum(paths[i].length) <= 5 * 105\n",
    "    paths[i] consist of English letters, digits, '/', '.', '(', ')', and ' '.\n",
    "    You may assume no files or directories share the same name in the same directory.\n",
    "    You may assume each given directory info represents a unique directory. A single blank space separates the directory path and file info.\n"
   ]
  },
  {
   "cell_type": "code",
   "execution_count": 20,
   "id": "10b59146-35fb-4123-bc20-6f626359b2ba",
   "metadata": {},
   "outputs": [],
   "source": [
    "from typing import List\n",
    "from collections import defaultdict\n",
    "\n",
    "class Solution:\n",
    "    def findDuplicate(self, paths: List[str]) -> List[List[str]]:\n",
    "        files_groups = defaultdict(list)\n",
    "        for path in paths:\n",
    "            files = path.split(\" \")\n",
    "            basepath = files[0]\n",
    "            for file in files[1:]:\n",
    "                fname, contents = file.rsplit('(', 1)\n",
    "                contents = contents[:-1]\n",
    "                files_groups[contents].append(basepath + '/' + fname)\n",
    "                \n",
    "        return [group for group in files_groups.values() if len(group) > 1]"
   ]
  },
  {
   "cell_type": "code",
   "execution_count": 21,
   "id": "79267370-65fb-4e37-b5a9-e55827ff08aa",
   "metadata": {},
   "outputs": [
    {
     "data": {
      "text/plain": [
       "[['root/a/1.txt', 'root/c/3.txt'],\n",
       " ['root/a/2.txt', 'root/c/d/4.txt', 'root/4.txt']]"
      ]
     },
     "execution_count": 21,
     "metadata": {},
     "output_type": "execute_result"
    }
   ],
   "source": [
    "s = Solution()\n",
    "s.findDuplicate([\"root/a 1.txt(abcd) 2.txt(efgh)\",\"root/c 3.txt(abcd)\",\"root/c/d 4.txt(efgh)\",\"root 4.txt(efgh)\"])"
   ]
  },
  {
   "cell_type": "code",
   "execution_count": 22,
   "id": "1603763a-bb2b-485b-b942-6627893776b6",
   "metadata": {},
   "outputs": [
    {
     "data": {
      "text/plain": [
       "[]"
      ]
     },
     "execution_count": 22,
     "metadata": {},
     "output_type": "execute_result"
    }
   ],
   "source": [
    "s.findDuplicate([\"root/a 1.txt(abcd) 2.txt(efsfgh)\",\"root/c 3.txt(abdfcd)\",\"root/c/d 4.txt(efggdfh)\"])"
   ]
  },
  {
   "cell_type": "code",
   "execution_count": null,
   "id": "7301854f-f0f9-4f70-8a1c-d70ae4c81975",
   "metadata": {},
   "outputs": [],
   "source": []
  }
 ],
 "metadata": {
  "kernelspec": {
   "display_name": "Python 3 (ipykernel)",
   "language": "python",
   "name": "python3"
  },
  "language_info": {
   "codemirror_mode": {
    "name": "ipython",
    "version": 3
   },
   "file_extension": ".py",
   "mimetype": "text/x-python",
   "name": "python",
   "nbconvert_exporter": "python",
   "pygments_lexer": "ipython3",
   "version": "3.9.12"
  }
 },
 "nbformat": 4,
 "nbformat_minor": 5
}
