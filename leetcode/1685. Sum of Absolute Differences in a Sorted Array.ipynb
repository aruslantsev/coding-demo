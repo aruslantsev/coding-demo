{
 "cells": [
  {
   "cell_type": "markdown",
   "id": "d99ca811-40ee-412f-b70a-5863d8337a96",
   "metadata": {},
   "source": [
    "You are given an integer array nums sorted in non-decreasing order.\n",
    "\n",
    "Build and return an integer array result with the same length as nums such that result[i] is equal to the summation of absolute differences between nums[i] and all the other elements in the array.\n",
    "\n",
    "In other words, result[i] is equal to sum(|nums[i]-nums[j]|) where 0 <= j < nums.length and j != i (0-indexed).\n",
    "\n",
    " \n",
    "\n",
    "Example 1:\n",
    "\n",
    "Input: nums = [2,3,5]\n",
    "Output: [4,3,5]\n",
    "Explanation: Assuming the arrays are 0-indexed, then\n",
    "result[0] = |2-2| + |2-3| + |2-5| = 0 + 1 + 3 = 4,\n",
    "result[1] = |3-2| + |3-3| + |3-5| = 1 + 0 + 2 = 3,\n",
    "result[2] = |5-2| + |5-3| + |5-5| = 3 + 2 + 0 = 5.\n",
    "\n",
    "Example 2:\n",
    "\n",
    "Input: nums = [1,4,6,8,10]\n",
    "Output: [24,15,13,15,21]\n",
    "\n",
    " \n",
    "\n",
    "Constraints:\n",
    "\n",
    "    2 <= nums.length <= 105\n",
    "    1 <= nums[i] <= nums[i + 1] <= 104\n",
    "\n"
   ]
  },
  {
   "cell_type": "code",
   "execution_count": null,
   "id": "35d6d49d-567d-4afc-833a-5a2009f998b8",
   "metadata": {},
   "outputs": [],
   "source": [
    "class Solution:\n",
    "    def getSumAbsoluteDifferences(self, nums: List[int]) -> List[int]:\n",
    "        n = len(nums)\n",
    "        total_sum = sum(nums)\n",
    "        left_sum = 0\n",
    "        ans = []\n",
    "\n",
    "        for i in range(len(nums)):\n",
    "            right_sum = total_sum - left_sum - nums[i]\n",
    "            \n",
    "            left_count = i\n",
    "            right_count = n - 1 - i\n",
    "            \n",
    "            left_total = left_count * nums[i] - left_sum\n",
    "            right_total = right_sum - right_count * nums[i]\n",
    "\n",
    "            ans.append(left_total + right_total)\n",
    "            left_sum += nums[i]\n",
    "        \n",
    "        return ans"
   ]
  }
 ],
 "metadata": {
  "kernelspec": {
   "display_name": "Python 3 (ipykernel)",
   "language": "python",
   "name": "python3"
  },
  "language_info": {
   "codemirror_mode": {
    "name": "ipython",
    "version": 3
   },
   "file_extension": ".py",
   "mimetype": "text/x-python",
   "name": "python",
   "nbconvert_exporter": "python",
   "pygments_lexer": "ipython3",
   "version": "3.11.4"
  }
 },
 "nbformat": 4,
 "nbformat_minor": 5
}
