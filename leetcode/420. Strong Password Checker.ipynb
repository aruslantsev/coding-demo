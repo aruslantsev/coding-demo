{
 "cells": [
  {
   "cell_type": "markdown",
   "id": "d0b22d81-8914-449b-bc64-7ae9d6d089e2",
   "metadata": {},
   "source": [
    "A password is considered strong if the below conditions are all met:\n",
    "\n",
    "It has at least 6 characters and at most 20 characters.\n",
    "It contains at least one lowercase letter, at least one uppercase letter, and at least one digit.\n",
    "It does not contain three repeating characters in a row (i.e., \"...aaa...\" is weak, but \"...aa...a...\" is strong, assuming other conditions are met).\n",
    "Given a string password, return the minimum number of steps required to make password strong. if password is already strong, return 0.\n",
    "\n",
    "In one step, you can:\n",
    "\n",
    "Insert one character to password,\n",
    "Delete one character from password, or\n",
    "Replace one character of password with another character.\n",
    " \n",
    "\n",
    "Example 1:\n",
    "\n",
    "Input: password = \"a\"\n",
    "Output: 5\n",
    "Example 2:\n",
    "\n",
    "Input: password = \"aA1\"\n",
    "Output: 3\n",
    "Example 3:\n",
    "\n",
    "Input: password = \"1337C0d3\"\n",
    "Output: 0\n",
    " \n",
    "\n",
    "Constraints:\n",
    "\n",
    "1 <= password.length <= 50\n",
    "password consists of letters, digits, dot '.' or exclamation mark '!'.\n"
   ]
  },
  {
   "cell_type": "code",
   "execution_count": 279,
   "id": "3df2417d-50b6-448b-bf4e-d7640d205744",
   "metadata": {},
   "outputs": [],
   "source": [
    "class Solution:\n",
    "    def strongPasswordChecker(self, password: str) -> int:\n",
    "        missing_type = 3\n",
    "        if any(s.isdigit() for s in password):\n",
    "            missing_type -= 1\n",
    "        if any(s.islower() for s in password):\n",
    "            missing_type -= 1\n",
    "        if any(s.isupper() for s in password):\n",
    "            missing_type -= 1\n",
    "        if len(password) < 6:\n",
    "            return max(6 - len(password), missing_type)\n",
    "        \n",
    "        same_sym = []\n",
    "        same = 1\n",
    "        for i in range(len(password) - 1):\n",
    "            if password[i] == password[i + 1]:\n",
    "                same += 1\n",
    "            else:\n",
    "                if same >= 3: # triple\n",
    "                    same_sym.append(same)\n",
    "                same = 1\n",
    "        if same >= 3:\n",
    "            same_sym.append(same)\n",
    "\n",
    "        overhead = len(password) - 20\n",
    "        surcharge = overhead\n",
    "        change = 0\n",
    "        curr_len = 1\n",
    "        same_len = []\n",
    "        \n",
    "        for i in range(len(password)):\n",
    "            if i + 1 < len(password) and password[i] == password[i + 1]:\n",
    "                curr_len += 1\n",
    "            elif curr_len >= 3:\n",
    "                same_len.append(curr_len)\n",
    "                curr_len = 1\n",
    "            else:\n",
    "                curr_len = 1\n",
    "        \n",
    "        for i in range(3):\n",
    "            for x in same_len:\n",
    "                if (surcharge > i and x % 3 == i):\n",
    "                    surcharge -= (i + 1) # remove symbols\n",
    "                    x -= (i + 1)  # remove symbols\n",
    "                    change += x // 3 # break triplets\n",
    "                elif (x % 3 == i):\n",
    "                    change += x // 3 # break triplets\n",
    "        if surcharge > 0:\n",
    "            change -= surcharge // 3 # too many symbols remaining\n",
    "        if overhead>0:\n",
    "            return max(overhead + change, overhead + missing_type)\n",
    "        else:\n",
    "            return max(change, missing_type)\n"
   ]
  },
  {
   "cell_type": "code",
   "execution_count": 270,
   "id": "ecb57a1c-33b3-460c-91b0-0841423d6d10",
   "metadata": {},
   "outputs": [
    {
     "data": {
      "text/plain": [
       "6"
      ]
     },
     "execution_count": 270,
     "metadata": {},
     "output_type": "execute_result"
    }
   ],
   "source": [
    "s = Solution()\n",
    "s.strongPasswordChecker('a' * 20)"
   ]
  },
  {
   "cell_type": "code",
   "execution_count": 271,
   "id": "1895d64c-fe14-48ae-9e7a-908766f0de59",
   "metadata": {},
   "outputs": [
    {
     "data": {
      "text/plain": [
       "3"
      ]
     },
     "execution_count": 271,
     "metadata": {},
     "output_type": "execute_result"
    }
   ],
   "source": [
    "s = Solution()\n",
    "s.strongPasswordChecker('a' * 3)"
   ]
  },
  {
   "cell_type": "code",
   "execution_count": 272,
   "id": "b7b93d87-0d44-4073-b764-b53aa5c18fa9",
   "metadata": {},
   "outputs": [
    {
     "data": {
      "text/plain": [
       "5"
      ]
     },
     "execution_count": 272,
     "metadata": {},
     "output_type": "execute_result"
    }
   ],
   "source": [
    "s.strongPasswordChecker('a')"
   ]
  },
  {
   "cell_type": "code",
   "execution_count": 273,
   "id": "6bb498a8-6a80-4372-87ca-c41dcbcd37e0",
   "metadata": {},
   "outputs": [
    {
     "data": {
      "text/plain": [
       "4"
      ]
     },
     "execution_count": 273,
     "metadata": {},
     "output_type": "execute_result"
    }
   ],
   "source": [
    "s.strongPasswordChecker('.!')"
   ]
  },
  {
   "cell_type": "code",
   "execution_count": 274,
   "id": "61e2e2b2-8e40-425d-b681-dd36910a2a70",
   "metadata": {},
   "outputs": [
    {
     "data": {
      "text/plain": [
       "0"
      ]
     },
     "execution_count": 274,
     "metadata": {},
     "output_type": "execute_result"
    }
   ],
   "source": [
    "s.strongPasswordChecker(\"1337C0d3\")"
   ]
  },
  {
   "cell_type": "code",
   "execution_count": 275,
   "id": "fcced9c0-c1ab-4bb6-9c82-51ea4f9854c9",
   "metadata": {},
   "outputs": [
    {
     "data": {
      "text/plain": [
       "3"
      ]
     },
     "execution_count": 275,
     "metadata": {},
     "output_type": "execute_result"
    }
   ],
   "source": [
    "s.strongPasswordChecker('111')"
   ]
  },
  {
   "cell_type": "code",
   "execution_count": 276,
   "id": "faa8ef1b-0e42-4fef-a9bc-98e504f580e2",
   "metadata": {},
   "outputs": [
    {
     "data": {
      "text/plain": [
       "2"
      ]
     },
     "execution_count": 276,
     "metadata": {},
     "output_type": "execute_result"
    }
   ],
   "source": [
    "s.strongPasswordChecker('aaa111')"
   ]
  },
  {
   "cell_type": "code",
   "execution_count": 277,
   "id": "a5bbea75-b35b-4bc0-9b9d-15996a3fdb48",
   "metadata": {},
   "outputs": [
    {
     "data": {
      "text/plain": [
       "1"
      ]
     },
     "execution_count": 277,
     "metadata": {},
     "output_type": "execute_result"
    }
   ],
   "source": [
    "s.strongPasswordChecker('aaaB1')"
   ]
  },
  {
   "cell_type": "code",
   "execution_count": 278,
   "id": "e878fa2b-a7ab-4b35-879d-8b7d5a49d928",
   "metadata": {},
   "outputs": [
    {
     "data": {
      "text/plain": [
       "8"
      ]
     },
     "execution_count": 278,
     "metadata": {},
     "output_type": "execute_result"
    }
   ],
   "source": [
    "s.strongPasswordChecker(\"bbaaaaaaaaaaaaaaacccccc\")"
   ]
  },
  {
   "cell_type": "code",
   "execution_count": null,
   "id": "b5a7f710-1820-40fd-a44a-600aaf88c4c2",
   "metadata": {},
   "outputs": [],
   "source": []
  }
 ],
 "metadata": {
  "kernelspec": {
   "display_name": "Python 3 (ipykernel)",
   "language": "python",
   "name": "python3"
  },
  "language_info": {
   "codemirror_mode": {
    "name": "ipython",
    "version": 3
   },
   "file_extension": ".py",
   "mimetype": "text/x-python",
   "name": "python",
   "nbconvert_exporter": "python",
   "pygments_lexer": "ipython3",
   "version": "3.9.10"
  }
 },
 "nbformat": 4,
 "nbformat_minor": 5
}
