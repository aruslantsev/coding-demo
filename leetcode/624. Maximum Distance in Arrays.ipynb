{
 "cells": [
  {
   "cell_type": "markdown",
   "id": "c0c63270-bd97-4d27-861f-65b93329c8dd",
   "metadata": {},
   "source": [
    "You are given m arrays, where each array is sorted in ascending order.\n",
    "\n",
    "You can pick up two integers from two different arrays (each array picks one) and calculate the distance. We define the distance between two integers a and b to be their absolute difference |a - b|.\n",
    "\n",
    "Return the maximum distance.\n",
    "\n",
    " \n",
    "\n",
    "Example 1:\n",
    "\n",
    "Input: arrays = [[1,2,3],[4,5],[1,2,3]]\n",
    "Output: 4\n",
    "Explanation: One way to reach the maximum distance 4 is to pick 1 in the first or third array and pick 5 in the second array.\n",
    "\n",
    "Example 2:\n",
    "\n",
    "Input: arrays = [[1],[1]]\n",
    "Output: 0\n",
    "\n",
    " \n",
    "\n",
    "Constraints:\n",
    "\n",
    "    m == arrays.length\n",
    "    2 <= m <= 105\n",
    "    1 <= arrays[i].length <= 500\n",
    "    -104 <= arrays[i][j] <= 104\n",
    "    arrays[i] is sorted in ascending order.\n",
    "    There will be at most 105 integers in all the arrays.\n",
    "\n"
   ]
  },
  {
   "cell_type": "code",
   "execution_count": null,
   "id": "a6b4daf4-4c10-48e9-b772-e0fe8ef10ab2",
   "metadata": {},
   "outputs": [],
   "source": [
    "class Solution:\n",
    "    def maxDistance(self, arrays: List[List[int]]) -> int:\n",
    "        smallest = arrays[0][0]\n",
    "        biggest = arrays[0][-1]\n",
    "        max_distance = 0\n",
    "\n",
    "        for i in range(1, len(arrays)):\n",
    "            arr = arrays[i]\n",
    "            max_distance = max(max_distance, abs(arr[-1] - smallest), abs(biggest - arr[0]))\n",
    "            smallest = min(smallest, arr[0])\n",
    "            biggest = max(biggest, arr[-1])\n",
    "        \n",
    "        return max_distance"
   ]
  }
 ],
 "metadata": {
  "kernelspec": {
   "display_name": "Python 3 (ipykernel)",
   "language": "python",
   "name": "python3"
  },
  "language_info": {
   "codemirror_mode": {
    "name": "ipython",
    "version": 3
   },
   "file_extension": ".py",
   "mimetype": "text/x-python",
   "name": "python",
   "nbconvert_exporter": "python",
   "pygments_lexer": "ipython3",
   "version": "3.12.3"
  }
 },
 "nbformat": 4,
 "nbformat_minor": 5
}
