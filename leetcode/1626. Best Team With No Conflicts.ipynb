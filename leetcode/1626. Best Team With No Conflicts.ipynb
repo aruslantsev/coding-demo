{
 "cells": [
  {
   "cell_type": "markdown",
   "id": "58a927a9-2043-45ad-972c-0e097e87025f",
   "metadata": {},
   "source": [
    "You are the manager of a basketball team. For the upcoming tournament, you want to choose the team with the highest overall score. The score of the team is the sum of scores of all the players in the team.\n",
    "\n",
    "However, the basketball team is not allowed to have conflicts. A conflict exists if a younger player has a strictly higher score than an older player. A conflict does not occur between players of the same age.\n",
    "\n",
    "Given two lists, scores and ages, where each scores[i] and ages[i] represents the score and age of the ith player, respectively, return the highest overall score of all possible basketball teams.\n",
    "\n",
    " \n",
    "\n",
    "Example 1:\n",
    "\n",
    "Input: scores = [1,3,5,10,15], ages = [1,2,3,4,5]\n",
    "Output: 34\n",
    "Explanation: You can choose all the players.\n",
    "\n",
    "Example 2:\n",
    "\n",
    "Input: scores = [4,5,6,5], ages = [2,1,2,1]\n",
    "Output: 16\n",
    "Explanation: It is best to choose the last 3 players. Notice that you are allowed to choose multiple people of the same age.\n",
    "\n",
    "Example 3:\n",
    "\n",
    "Input: scores = [1,2,3,5], ages = [8,9,10,1]\n",
    "Output: 6\n",
    "Explanation: It is best to choose the first 3 players. \n",
    "\n",
    " \n",
    "\n",
    "Constraints:\n",
    "\n",
    "    1 <= scores.length, ages.length <= 1000\n",
    "    scores.length == ages.length\n",
    "    1 <= scores[i] <= 106\n",
    "    1 <= ages[i] <= 1000\n",
    "\n"
   ]
  },
  {
   "cell_type": "code",
   "execution_count": null,
   "id": "276fdf82-ba09-4aed-9b9d-6bfd799a4627",
   "metadata": {},
   "outputs": [],
   "source": [
    "class Solution:\n",
    "    def bestTeamScore(self, scores: List[int], ages: List[int]) -> int:\n",
    "        people = sorted(zip(ages, scores))\n",
    "        dp = [0 for _ in people]\n",
    "\n",
    "        ans = 0\n",
    "        for i in range(len(people)):\n",
    "            dp[i] = people[i][1]\n",
    "            for j in range(i):\n",
    "                if people[j][1] <= people[i][1]:\n",
    "                    dp[i] = max(dp[i], dp[j] + people[i][1])\n",
    "            ans = max(ans, dp[i])\n",
    "        return ans\n",
    "    "
   ]
  }
 ],
 "metadata": {
  "kernelspec": {
   "display_name": "Python 3 (ipykernel)",
   "language": "python",
   "name": "python3"
  },
  "language_info": {
   "codemirror_mode": {
    "name": "ipython",
    "version": 3
   },
   "file_extension": ".py",
   "mimetype": "text/x-python",
   "name": "python",
   "nbconvert_exporter": "python",
   "pygments_lexer": "ipython3",
   "version": "3.10.8"
  }
 },
 "nbformat": 4,
 "nbformat_minor": 5
}
