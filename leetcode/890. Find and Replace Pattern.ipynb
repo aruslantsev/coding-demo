{
 "cells": [
  {
   "cell_type": "markdown",
   "id": "31fa85d5-fd85-45d4-8550-3956c56cc004",
   "metadata": {},
   "source": [
    "Given a list of strings words and a string pattern, return a list of words[i] that match pattern. You may return the answer in any order.\n",
    "\n",
    "A word matches the pattern if there exists a permutation of letters p so that after replacing every letter x in the pattern with p(x), we get the desired word.\n",
    "\n",
    "Recall that a permutation of letters is a bijection from letters to letters: every letter maps to another letter, and no two letters map to the same letter.\n",
    "\n",
    " \n",
    "\n",
    "Example 1:\n",
    "\n",
    "Input: words = [\"abc\",\"deq\",\"mee\",\"aqq\",\"dkd\",\"ccc\"], pattern = \"abb\"\n",
    "Output: [\"mee\",\"aqq\"]\n",
    "Explanation: \"mee\" matches the pattern because there is a permutation {a -> m, b -> e, ...}. \n",
    "\"ccc\" does not match the pattern because {a -> c, b -> c, ...} is not a permutation, since a and b map to the same letter.\n",
    "\n",
    "Example 2:\n",
    "\n",
    "Input: words = [\"a\",\"b\",\"c\"], pattern = \"a\"\n",
    "Output: [\"a\",\"b\",\"c\"]\n",
    "\n",
    " \n",
    "\n",
    "Constraints:\n",
    "\n",
    "    1 <= pattern.length <= 20\n",
    "    1 <= words.length <= 50\n",
    "    words[i].length == pattern.length\n",
    "    pattern and words[i] are lowercase English letters.\n",
    "\n"
   ]
  },
  {
   "cell_type": "code",
   "execution_count": 9,
   "id": "bd3ae0d6-5f97-4a22-b450-078c0c7cd97b",
   "metadata": {},
   "outputs": [],
   "source": [
    "from typing import List\n",
    "\n",
    "class Solution:\n",
    "    def findAndReplacePattern(self, words: List[str], pattern: str) -> List[str]:\n",
    "        ans = []\n",
    "        for word in words:\n",
    "            match = True\n",
    "            lettermap = {}\n",
    "            for lw, lp in zip(word, pattern):\n",
    "                if lw not in lettermap:\n",
    "                    if lp not in lettermap.values():\n",
    "                        lettermap[lw] = lp\n",
    "                    else:\n",
    "                        match = False\n",
    "                        break\n",
    "                else:\n",
    "                    if lettermap[lw] != lp:\n",
    "                        match = False\n",
    "                        break\n",
    "            if match:\n",
    "                ans.append(word)\n",
    "                \n",
    "        return ans"
   ]
  },
  {
   "cell_type": "code",
   "execution_count": 10,
   "id": "53a6311a-1a8e-4e5f-a072-459c755ad221",
   "metadata": {},
   "outputs": [
    {
     "data": {
      "text/plain": [
       "['mee', 'aqq']"
      ]
     },
     "execution_count": 10,
     "metadata": {},
     "output_type": "execute_result"
    }
   ],
   "source": [
    "s = Solution()\n",
    "s.findAndReplacePattern([\"abc\",\"deq\",\"mee\",\"aqq\",\"dkd\",\"ccc\"], \"abb\")"
   ]
  },
  {
   "cell_type": "code",
   "execution_count": null,
   "id": "076a3fc6-b4fb-4b58-bc75-47fdbd2b8e5f",
   "metadata": {},
   "outputs": [],
   "source": []
  }
 ],
 "metadata": {
  "kernelspec": {
   "display_name": "Python 3 (ipykernel)",
   "language": "python",
   "name": "python3"
  },
  "language_info": {
   "codemirror_mode": {
    "name": "ipython",
    "version": 3
   },
   "file_extension": ".py",
   "mimetype": "text/x-python",
   "name": "python",
   "nbconvert_exporter": "python",
   "pygments_lexer": "ipython3",
   "version": "3.9.12"
  }
 },
 "nbformat": 4,
 "nbformat_minor": 5
}
