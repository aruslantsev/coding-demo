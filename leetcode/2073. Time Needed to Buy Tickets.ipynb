{
 "cells": [
  {
   "cell_type": "markdown",
   "id": "178ea6ea-ba6c-4a21-8b16-79c176c985b6",
   "metadata": {},
   "source": [
    "There are n people in a line queuing to buy tickets, where the 0th person is at the front of the line and the (n - 1)th person is at the back of the line.\n",
    "\n",
    "You are given a 0-indexed integer array tickets of length n where the number of tickets that the ith person would like to buy is tickets[i].\n",
    "\n",
    "Each person takes exactly 1 second to buy a ticket. A person can only buy 1 ticket at a time and has to go back to the end of the line (which happens instantaneously) in order to buy more tickets. If a person does not have any tickets left to buy, the person will leave the line.\n",
    "\n",
    "Return the time taken for the person at position k (0-indexed) to finish buying tickets.\n",
    "\n",
    " \n",
    "\n",
    "Example 1:\n",
    "\n",
    "Input: tickets = [2,3,2], k = 2\n",
    "Output: 6\n",
    "Explanation: \n",
    "- In the first pass, everyone in the line buys a ticket and the line becomes [1, 2, 1].\n",
    "- In the second pass, everyone in the line buys a ticket and the line becomes [0, 1, 0].\n",
    "The person at position 2 has successfully bought 2 tickets and it took 3 + 3 = 6 seconds.\n",
    "\n",
    "Example 2:\n",
    "\n",
    "Input: tickets = [5,1,1,1], k = 0\n",
    "Output: 8\n",
    "Explanation:\n",
    "- In the first pass, everyone in the line buys a ticket and the line becomes [4, 0, 0, 0].\n",
    "- In the next 4 passes, only the person in position 0 is buying tickets.\n",
    "The person at position 0 has successfully bought 5 tickets and it took 4 + 1 + 1 + 1 + 1 = 8 seconds.\n",
    "\n",
    " \n",
    "\n",
    "Constraints:\n",
    "\n",
    "    n == tickets.length\n",
    "    1 <= n <= 100\n",
    "    1 <= tickets[i] <= 100\n",
    "    0 <= k < n\n",
    "\n"
   ]
  },
  {
   "cell_type": "code",
   "execution_count": null,
   "id": "536265bc-f35d-4fa7-97a4-86a35ec79151",
   "metadata": {},
   "outputs": [],
   "source": [
    "class Solution:\n",
    "    def timeRequiredToBuy(self, tickets: List[int], k: int) -> int:\n",
    "        max_tickets = tickets[k]\n",
    "        time = 0\n",
    "        for i in range(len(tickets)):\n",
    "            if i <= k:\n",
    "                time += min(tickets[i], max_tickets)\n",
    "            else:\n",
    "                time += min(tickets[i], max_tickets - 1)\n",
    "        return time"
   ]
  }
 ],
 "metadata": {
  "kernelspec": {
   "display_name": "Python 3 (ipykernel)",
   "language": "python",
   "name": "python3"
  },
  "language_info": {
   "codemirror_mode": {
    "name": "ipython",
    "version": 3
   },
   "file_extension": ".py",
   "mimetype": "text/x-python",
   "name": "python",
   "nbconvert_exporter": "python",
   "pygments_lexer": "ipython3",
   "version": "3.11.7"
  }
 },
 "nbformat": 4,
 "nbformat_minor": 5
}
