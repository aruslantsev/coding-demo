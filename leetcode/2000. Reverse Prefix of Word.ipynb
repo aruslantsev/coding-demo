{
 "cells": [
  {
   "cell_type": "markdown",
   "id": "9e24cbad-7679-4ab3-9f91-4712b7fca64b",
   "metadata": {},
   "source": [
    "Given a 0-indexed string word and a character ch, reverse the segment of word that starts at index 0 and ends at the index of the first occurrence of ch (inclusive). If the character ch does not exist in word, do nothing.\n",
    "\n",
    "    For example, if word = \"abcdefd\" and ch = \"d\", then you should reverse the segment that starts at 0 and ends at 3 (inclusive). The resulting string will be \"dcbaefd\".\n",
    "\n",
    "Return the resulting string.\n",
    "\n",
    " \n",
    "\n",
    "Example 1:\n",
    "\n",
    "Input: word = \"abcdefd\", ch = \"d\"\n",
    "Output: \"dcbaefd\"\n",
    "Explanation: The first occurrence of \"d\" is at index 3. \n",
    "Reverse the part of word from 0 to 3 (inclusive), the resulting string is \"dcbaefd\".\n",
    "\n",
    "Example 2:\n",
    "\n",
    "Input: word = \"xyxzxe\", ch = \"z\"\n",
    "Output: \"zxyxxe\"\n",
    "Explanation: The first and only occurrence of \"z\" is at index 3.\n",
    "Reverse the part of word from 0 to 3 (inclusive), the resulting string is \"zxyxxe\".\n",
    "\n",
    "Example 3:\n",
    "\n",
    "Input: word = \"abcd\", ch = \"z\"\n",
    "Output: \"abcd\"\n",
    "Explanation: \"z\" does not exist in word.\n",
    "You should not do any reverse operation, the resulting string is \"abcd\".\n",
    "\n",
    " \n",
    "\n",
    "Constraints:\n",
    "\n",
    "    1 <= word.length <= 250\n",
    "    word consists of lowercase English letters.\n",
    "    ch is a lowercase English letter.\n",
    "\n"
   ]
  },
  {
   "cell_type": "code",
   "execution_count": null,
   "id": "71b9238b-8b0d-40a9-9400-931bf06e9575",
   "metadata": {},
   "outputs": [],
   "source": [
    "class Solution:\n",
    "    def reversePrefix(self, word: str, ch: str) -> str:\n",
    "        idx = word.find(ch)\n",
    "        if idx == -1:\n",
    "            return word\n",
    "        \n",
    "        return word[:idx + 1][::-1] + word[idx + 1:]"
   ]
  }
 ],
 "metadata": {
  "kernelspec": {
   "display_name": "Python 3 (ipykernel)",
   "language": "python",
   "name": "python3"
  },
  "language_info": {
   "codemirror_mode": {
    "name": "ipython",
    "version": 3
   },
   "file_extension": ".py",
   "mimetype": "text/x-python",
   "name": "python",
   "nbconvert_exporter": "python",
   "pygments_lexer": "ipython3",
   "version": "3.12.3"
  }
 },
 "nbformat": 4,
 "nbformat_minor": 5
}
