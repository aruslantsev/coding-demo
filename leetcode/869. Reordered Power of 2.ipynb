{
 "cells": [
  {
   "cell_type": "markdown",
   "id": "4a628a3d-d813-4c2e-b4a2-1436a5d916d0",
   "metadata": {},
   "source": [
    "You are given an integer n. We reorder the digits in any order (including the original order) such that the leading digit is not zero.\n",
    "\n",
    "Return true if and only if we can do this so that the resulting number is a power of two.\n",
    "\n",
    " \n",
    "\n",
    "Example 1:\n",
    "\n",
    "Input: n = 1\n",
    "Output: true\n",
    "\n",
    "Example 2:\n",
    "\n",
    "Input: n = 10\n",
    "Output: false\n",
    "\n",
    " \n",
    "\n",
    "Constraints:\n",
    "\n",
    "    1 <= n <= 109\n",
    "\n"
   ]
  },
  {
   "cell_type": "code",
   "execution_count": 20,
   "id": "6ff8b88d-fede-4dc3-bb95-48aa6ceeb61a",
   "metadata": {},
   "outputs": [],
   "source": [
    "from math import log2\n",
    "from itertools import permutations\n",
    "\n",
    "class Solution:\n",
    "    def reorderedPowerOf2(self, n: int) -> bool:\n",
    "        if n == 1:\n",
    "            return True\n",
    "        digits = []\n",
    "        has_even = False\n",
    "        while n > 0:\n",
    "            if (n % 10) % 2 == 0:\n",
    "                has_even = True\n",
    "            digits.append(str(n % 10))\n",
    "            n //= 10\n",
    "        if not has_even:\n",
    "            return False\n",
    "        for seq in permutations(digits):\n",
    "            if seq[0] != 0:\n",
    "                if int(seq[-1]) % 2 == 0:\n",
    "                    if log2(int(''.join(seq))) % 1 == 0:\n",
    "                        return True\n",
    "        return False"
   ]
  },
  {
   "cell_type": "code",
   "execution_count": 22,
   "id": "c12cd69b-057f-4790-af65-d222ff731873",
   "metadata": {},
   "outputs": [],
   "source": [
    "class Solution:\n",
    "    def reorderedPowerOf2(self, n: int) -> bool:\n",
    "        i = 0\n",
    "        arr = []\n",
    "        v = 2**i\n",
    "        while v <= 10**9: \n",
    "            arr.append(sorted(str(v)))\n",
    "            i += 1\n",
    "            v = 2**i\n",
    "        return sorted(str(n)) in arr"
   ]
  },
  {
   "cell_type": "code",
   "execution_count": null,
   "id": "5dfec727-a9b1-4a66-b6d9-0c875defd18e",
   "metadata": {},
   "outputs": [],
   "source": [
    "class Solution(object):\n",
    "    def reorderedPowerOf2(self, N):\n",
    "        \"\"\"\n",
    "        Let's work through an example like N = 128.\n",
    "        In the last line, 'for cand in itertools.permutations(str(N))' will\n",
    "        iterate through the six possibilities cand = ('1', '2', '8'),\n",
    "        cand = ('1', '8', '2'), cand = ('2', '1', '8'), and so on.\n",
    "\n",
    "        The check cand[0] != '0' is a check that the candidate permutation\n",
    "        does not have a leading zero.\n",
    "\n",
    "        The check bin(int(\"\".join(cand))).count('1') == 1 is a check that cand\n",
    "        represents a power of 2: namely, that the number of ones in its binary\n",
    "        representation is 1.\n",
    "        \"\"\"\n",
    "        return any(cand[0] != '0' and bin(int(\"\".join(cand))).count('1') == 1\n",
    "                   for cand in itertools.permutations(str(N)))"
   ]
  },
  {
   "cell_type": "code",
   "execution_count": 23,
   "id": "dab719d7-7480-4177-8dfc-954c8d4ecd54",
   "metadata": {},
   "outputs": [
    {
     "data": {
      "text/plain": [
       "False"
      ]
     },
     "execution_count": 23,
     "metadata": {},
     "output_type": "execute_result"
    }
   ],
   "source": [
    "s = Solution()\n",
    "s.reorderedPowerOf2(10)"
   ]
  },
  {
   "cell_type": "code",
   "execution_count": null,
   "id": "04b7791e-de84-4d3e-84c1-2eb95411feb3",
   "metadata": {},
   "outputs": [],
   "source": []
  }
 ],
 "metadata": {
  "kernelspec": {
   "display_name": "Python 3 (ipykernel)",
   "language": "python",
   "name": "python3"
  },
  "language_info": {
   "codemirror_mode": {
    "name": "ipython",
    "version": 3
   },
   "file_extension": ".py",
   "mimetype": "text/x-python",
   "name": "python",
   "nbconvert_exporter": "python",
   "pygments_lexer": "ipython3",
   "version": "3.9.12"
  }
 },
 "nbformat": 4,
 "nbformat_minor": 5
}
