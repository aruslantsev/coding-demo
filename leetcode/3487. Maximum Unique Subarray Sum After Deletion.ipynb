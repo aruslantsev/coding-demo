{
 "cells": [
  {
   "cell_type": "markdown",
   "id": "727bcc0b-e3e5-48bd-98e6-46d56a8e6d2b",
   "metadata": {},
   "source": [
    "You are given an integer array nums.\n",
    "\n",
    "You are allowed to delete any number of elements from nums without making it empty. After performing the deletions, select a\n",
    "\n",
    "of nums such that:\n",
    "\n",
    "    All elements in the subarray are unique.\n",
    "    The sum of the elements in the subarray is maximized.\n",
    "\n",
    "Return the maximum sum of such a subarray.\n",
    "\n",
    " \n",
    "\n",
    "Example 1:\n",
    "\n",
    "Input: nums = [1,2,3,4,5]\n",
    "\n",
    "Output: 15\n",
    "\n",
    "Explanation:\n",
    "\n",
    "Select the entire array without deleting any element to obtain the maximum sum.\n",
    "\n",
    "Example 2:\n",
    "\n",
    "Input: nums = [1,1,0,1,1]\n",
    "\n",
    "Output: 1\n",
    "\n",
    "Explanation:\n",
    "\n",
    "Delete the element nums[0] == 1, nums[1] == 1, nums[2] == 0, and nums[3] == 1. Select the entire array [1] to obtain the maximum sum.\n",
    "\n",
    "Example 3:\n",
    "\n",
    "Input: nums = [1,2,-1,-2,1,0,-1]\n",
    "\n",
    "Output: 3\n",
    "\n",
    "Explanation:\n",
    "\n",
    "Delete the elements nums[2] == -1 and nums[3] == -2, and select the subarray [2, 1] from [1, 2, 1, 0, -1] to obtain the maximum sum.\n",
    "\n",
    " \n",
    "\n",
    "Constraints:\n",
    "\n",
    "    1 <= nums.length <= 100\n",
    "    -100 <= nums[i] <= 100\n"
   ]
  },
  {
   "cell_type": "code",
   "execution_count": null,
   "id": "226405eb-5334-4b36-8178-0406f05aa8e9",
   "metadata": {},
   "outputs": [],
   "source": [
    "class Solution:\n",
    "    def maxSum(self, nums: List[int]) -> int:\n",
    "        nums = set(nums)\n",
    "        if max(nums) <= 0:\n",
    "            return max(nums)\n",
    "        return sum(num for num in nums if num > 0)"
   ]
  }
 ],
 "metadata": {
  "kernelspec": {
   "display_name": "Python 3 (ipykernel)",
   "language": "python",
   "name": "python3"
  },
  "language_info": {
   "codemirror_mode": {
    "name": "ipython",
    "version": 3
   },
   "file_extension": ".py",
   "mimetype": "text/x-python",
   "name": "python",
   "nbconvert_exporter": "python",
   "pygments_lexer": "ipython3",
   "version": "3.13.5"
  }
 },
 "nbformat": 4,
 "nbformat_minor": 5
}
