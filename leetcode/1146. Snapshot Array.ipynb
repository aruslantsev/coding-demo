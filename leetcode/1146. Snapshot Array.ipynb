{
 "cells": [
  {
   "cell_type": "markdown",
   "id": "66ecefac-01cd-4c5c-96f1-03721f7ce7f6",
   "metadata": {},
   "source": [
    "Implement a SnapshotArray that supports the following interface:\n",
    "\n",
    "    SnapshotArray(int length) initializes an array-like data structure with the given length. Initially, each element equals 0.\n",
    "    void set(index, val) sets the element at the given index to be equal to val.\n",
    "    int snap() takes a snapshot of the array and returns the snap_id: the total number of times we called snap() minus 1.\n",
    "    int get(index, snap_id) returns the value at the given index, at the time we took the snapshot with the given snap_id\n",
    "\n",
    " \n",
    "\n",
    "Example 1:\n",
    "\n",
    "Input: [\"SnapshotArray\",\"set\",\"snap\",\"set\",\"get\"]\n",
    "[[3],[0,5],[],[0,6],[0,0]]\n",
    "Output: [null,null,0,null,5]\n",
    "Explanation: \n",
    "SnapshotArray snapshotArr = new SnapshotArray(3); // set the length to be 3\n",
    "snapshotArr.set(0,5);  // Set array[0] = 5\n",
    "snapshotArr.snap();  // Take a snapshot, return snap_id = 0\n",
    "snapshotArr.set(0,6);\n",
    "snapshotArr.get(0,0);  // Get the value of array[0] with snap_id = 0, return 5\n",
    "\n",
    " \n",
    "\n",
    "Constraints:\n",
    "\n",
    "    1 <= length <= 5 * 104\n",
    "    0 <= index < length\n",
    "    0 <= val <= 109\n",
    "    0 <= snap_id < (the total number of times we call snap())\n",
    "    At most 5 * 104 calls will be made to set, snap, and get.\n",
    "\n"
   ]
  },
  {
   "cell_type": "code",
   "execution_count": 8,
   "id": "992e09d6-0f11-46f0-af85-6e90a7396e19",
   "metadata": {},
   "outputs": [],
   "source": [
    "class SnapshotArray:\n",
    "\n",
    "    def __init__(self, length: int):\n",
    "        self.snap_id = 0\n",
    "        self.values = {i: {0: 0} for i in range(length)}\n",
    "        \n",
    "\n",
    "    def set(self, index: int, val: int) -> None:\n",
    "        self.values[index][self.snap_id] = val\n",
    "        \n",
    "\n",
    "    def snap(self) -> int:\n",
    "        self.snap_id += 1\n",
    "        return self.snap_id - 1\n",
    "        \n",
    "\n",
    "    def get(self, index: int, snap_id: int) -> int:\n",
    "        if snap_id in self.values[index].keys():\n",
    "            key = snap_id\n",
    "        else:\n",
    "            snaps = list(self.values[index].keys())\n",
    "            l = 0\n",
    "            r = len(snaps) - 1\n",
    "            while r - l > 1:\n",
    "                m = (l + r) // 2\n",
    "                if snaps[m] < snap_id:\n",
    "                    l = m\n",
    "                else:\n",
    "                    r = m\n",
    "            if snaps[r] <= snap_id:\n",
    "                key = snaps[r]\n",
    "            else:\n",
    "                key = snaps[l]\n",
    "        # find best key\n",
    "        return self.values[index][key]\n",
    "        \n",
    "\n",
    "\n",
    "# Your SnapshotArray object will be instantiated and called as such:\n",
    "# obj = SnapshotArray(length)\n",
    "# obj.set(index,val)\n",
    "# param_2 = obj.snap()\n",
    "# param_3 = obj.get(index,snap_id)"
   ]
  },
  {
   "cell_type": "code",
   "execution_count": 9,
   "id": "fd0856f1-8526-4d92-8b5c-61a9aaf3e3bd",
   "metadata": {},
   "outputs": [],
   "source": [
    "s = SnapshotArray(3)"
   ]
  },
  {
   "cell_type": "code",
   "execution_count": 10,
   "id": "fd06022a-dcfa-4a01-b0fe-236457ec1465",
   "metadata": {},
   "outputs": [],
   "source": [
    "s.set(0, 5)"
   ]
  },
  {
   "cell_type": "code",
   "execution_count": 11,
   "id": "2346b047-924b-4470-9e8b-6951facb9488",
   "metadata": {},
   "outputs": [
    {
     "data": {
      "text/plain": [
       "0"
      ]
     },
     "execution_count": 11,
     "metadata": {},
     "output_type": "execute_result"
    }
   ],
   "source": [
    "s.snap()"
   ]
  },
  {
   "cell_type": "code",
   "execution_count": 12,
   "id": "b84ce5ac-a6fb-4553-a991-7eeb0455ab98",
   "metadata": {},
   "outputs": [],
   "source": [
    "s.set(0, 6)"
   ]
  },
  {
   "cell_type": "code",
   "execution_count": 14,
   "id": "89a63e8c-1200-4f83-be25-bc2404ad655b",
   "metadata": {},
   "outputs": [
    {
     "data": {
      "text/plain": [
       "5"
      ]
     },
     "execution_count": 14,
     "metadata": {},
     "output_type": "execute_result"
    }
   ],
   "source": [
    "s.get(0, 0)"
   ]
  }
 ],
 "metadata": {
  "kernelspec": {
   "display_name": "Python 3 (ipykernel)",
   "language": "python",
   "name": "python3"
  },
  "language_info": {
   "codemirror_mode": {
    "name": "ipython",
    "version": 3
   },
   "file_extension": ".py",
   "mimetype": "text/x-python",
   "name": "python",
   "nbconvert_exporter": "python",
   "pygments_lexer": "ipython3",
   "version": "3.10.11"
  }
 },
 "nbformat": 4,
 "nbformat_minor": 5
}
