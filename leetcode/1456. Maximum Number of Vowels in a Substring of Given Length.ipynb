{
 "cells": [
  {
   "cell_type": "markdown",
   "id": "5df5d83e-4330-4dbf-bc04-8cc0439d1188",
   "metadata": {},
   "source": [
    "Given a string s and an integer k, return the maximum number of vowel letters in any substring of s with length k.\n",
    "\n",
    "Vowel letters in English are 'a', 'e', 'i', 'o', and 'u'.\n",
    "\n",
    " \n",
    "\n",
    "Example 1:\n",
    "\n",
    "Input: s = \"abciiidef\", k = 3\n",
    "Output: 3\n",
    "Explanation: The substring \"iii\" contains 3 vowel letters.\n",
    "\n",
    "Example 2:\n",
    "\n",
    "Input: s = \"aeiou\", k = 2\n",
    "Output: 2\n",
    "Explanation: Any substring of length 2 contains 2 vowels.\n",
    "\n",
    "Example 3:\n",
    "\n",
    "Input: s = \"leetcode\", k = 3\n",
    "Output: 2\n",
    "Explanation: \"lee\", \"eet\" and \"ode\" contain 2 vowels.\n",
    "\n",
    " \n",
    "\n",
    "Constraints:\n",
    "\n",
    "    1 <= s.length <= 105\n",
    "    s consists of lowercase English letters.\n",
    "    1 <= k <= s.length\n",
    "\n"
   ]
  },
  {
   "cell_type": "code",
   "execution_count": 14,
   "id": "eeeef6bb-d892-4469-bce1-c0ac03dce436",
   "metadata": {},
   "outputs": [],
   "source": [
    "class Solution:\n",
    "    def maxVowels(self, s: str, k: int) -> int:\n",
    "        vowels = set([\"a\", \"e\", \"i\", \"o\", \"u\"])\n",
    "        cnt = sum(l in vowels for l in s[:k])\n",
    "        ans = cnt\n",
    "        for i in range(k, len(s)):\n",
    "            if s[i - k] in vowels:\n",
    "                cnt -= 1\n",
    "            if s[i] in vowels:\n",
    "                cnt += 1\n",
    "            ans = max(ans, cnt)\n",
    "        return ans"
   ]
  },
  {
   "cell_type": "code",
   "execution_count": 15,
   "id": "9465b79d-69df-4836-98d1-9bf4290aceba",
   "metadata": {},
   "outputs": [
    {
     "data": {
      "text/plain": [
       "4"
      ]
     },
     "execution_count": 15,
     "metadata": {},
     "output_type": "execute_result"
    }
   ],
   "source": [
    "s = Solution()\n",
    "s.maxVowels(\"weallloveyou\", 7)"
   ]
  },
  {
   "cell_type": "code",
   "execution_count": null,
   "id": "1f62a9c6-ef9a-4aae-8436-679061d216fd",
   "metadata": {},
   "outputs": [],
   "source": []
  }
 ],
 "metadata": {
  "kernelspec": {
   "display_name": "Python 3 (ipykernel)",
   "language": "python",
   "name": "python3"
  },
  "language_info": {
   "codemirror_mode": {
    "name": "ipython",
    "version": 3
   },
   "file_extension": ".py",
   "mimetype": "text/x-python",
   "name": "python",
   "nbconvert_exporter": "python",
   "pygments_lexer": "ipython3",
   "version": "3.10.11"
  }
 },
 "nbformat": 4,
 "nbformat_minor": 5
}
