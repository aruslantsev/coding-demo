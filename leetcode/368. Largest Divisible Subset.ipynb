{
 "cells": [
  {
   "cell_type": "markdown",
   "id": "8c750351-a71e-46ec-a2cf-314d60608bdb",
   "metadata": {},
   "source": [
    "Given a set of distinct positive integers nums, return the largest subset answer such that every pair (answer[i], answer[j]) of elements in this subset satisfies:\n",
    "\n",
    "    answer[i] % answer[j] == 0, or\n",
    "    answer[j] % answer[i] == 0\n",
    "\n",
    "If there are multiple solutions, return any of them.\n",
    "\n",
    " \n",
    "\n",
    "Example 1:\n",
    "\n",
    "Input: nums = [1,2,3]\n",
    "Output: [1,2]\n",
    "Explanation: [1,3] is also accepted.\n",
    "\n",
    "Example 2:\n",
    "\n",
    "Input: nums = [1,2,4,8]\n",
    "Output: [1,2,4,8]\n",
    "\n",
    " \n",
    "\n",
    "Constraints:\n",
    "\n",
    "    1 <= nums.length <= 1000\n",
    "    1 <= nums[i] <= 2 * 109\n",
    "    All the integers in nums are unique.\n",
    "\n"
   ]
  },
  {
   "cell_type": "code",
   "execution_count": 3,
   "id": "1604c8c1-2920-4d54-9c77-896b80e101b8",
   "metadata": {},
   "outputs": [],
   "source": [
    "from typing import List\n",
    "from copy import copy\n",
    "\n",
    "class Solution:\n",
    "    def largestDivisibleSubset(self, nums: List[int]) -> List[int]:\n",
    "        nums.sort()\n",
    "        self.ans = []\n",
    "        self.arr = []\n",
    "        def backtrack(pointer):\n",
    "            if pointer == len(nums):\n",
    "                return\n",
    "            divisible = True\n",
    "            for num in self.arr[::-1]:\n",
    "                if num % nums[pointer] != 0 and nums[pointer] % num != 0:\n",
    "                    divisible = False\n",
    "                    break\n",
    "            if divisible:\n",
    "                self.arr.append(nums[pointer])\n",
    "                if len(self.arr) > len(self.ans):\n",
    "                    self.ans = copy(self.arr)\n",
    "                backtrack(pointer + 1)\n",
    "                self.arr.pop()\n",
    "            backtrack(pointer + 1)\n",
    "        \n",
    "        backtrack(0)\n",
    "        return self.ans"
   ]
  },
  {
   "cell_type": "code",
   "execution_count": 4,
   "id": "a22ebd32-ccb3-4cc6-b606-147cdbcc6867",
   "metadata": {},
   "outputs": [],
   "source": [
    "class Solution:\n",
    "    def largestDivisibleSubset(self, nums: List[int]) -> List[int]:\n",
    "        nums.sort()\n",
    "        n = len(nums)\n",
    "        dp = [1] * n\n",
    "        max_size, max_index = 1, 0\n",
    "\n",
    "        for i in range(1, n):\n",
    "            for j in range(i):\n",
    "                if nums[i] % nums[j] == 0:\n",
    "                    dp[i] = max(dp[i], dp[j] + 1)\n",
    "                    if dp[i] > max_size:\n",
    "                        max_size = dp[i]\n",
    "                        max_index = i\n",
    "\n",
    "        result = []\n",
    "        num = nums[max_index]\n",
    "        for i in range(max_index, -1, -1):\n",
    "            if num % nums[i] == 0 and dp[i] == max_size:\n",
    "                result.append(nums[i])\n",
    "                num = nums[i]\n",
    "                max_size -= 1\n",
    "\n",
    "        return result"
   ]
  },
  {
   "cell_type": "code",
   "execution_count": null,
   "id": "94b8b5fc-973f-48f4-a192-6604cd47ea02",
   "metadata": {},
   "outputs": [],
   "source": []
  }
 ],
 "metadata": {
  "kernelspec": {
   "display_name": "common",
   "language": "python",
   "name": "common"
  },
  "language_info": {
   "codemirror_mode": {
    "name": "ipython",
    "version": 3
   },
   "file_extension": ".py",
   "mimetype": "text/x-python",
   "name": "python",
   "nbconvert_exporter": "python",
   "pygments_lexer": "ipython3",
   "version": "3.11.7"
  }
 },
 "nbformat": 4,
 "nbformat_minor": 5
}
