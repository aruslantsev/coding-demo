{
 "cells": [
  {
   "cell_type": "markdown",
   "id": "1feb7fc5-2845-4254-8441-b0e719de1072",
   "metadata": {},
   "source": [
    "It is a sweltering summer day, and a boy wants to buy some ice cream bars.\n",
    "\n",
    "At the store, there are n ice cream bars. You are given an array costs of length n, where costs[i] is the price of the ith ice cream bar in coins. The boy initially has coins coins to spend, and he wants to buy as many ice cream bars as possible. \n",
    "\n",
    "Return the maximum number of ice cream bars the boy can buy with coins coins.\n",
    "\n",
    "Note: The boy can buy the ice cream bars in any order.\n",
    "\n",
    " \n",
    "\n",
    "Example 1:\n",
    "\n",
    "Input: costs = [1,3,2,4,1], coins = 7\n",
    "Output: 4\n",
    "Explanation: The boy can buy ice cream bars at indices 0,1,2,4 for a total price of 1 + 3 + 2 + 1 = 7.\n",
    "\n",
    "Example 2:\n",
    "\n",
    "Input: costs = [10,6,8,7,7,8], coins = 5\n",
    "Output: 0\n",
    "Explanation: The boy cannot afford any of the ice cream bars.\n",
    "\n",
    "Example 3:\n",
    "\n",
    "Input: costs = [1,6,3,1,2,5], coins = 20\n",
    "Output: 6\n",
    "Explanation: The boy can buy all the ice cream bars for a total price of 1 + 6 + 3 + 1 + 2 + 5 = 18.\n",
    "\n",
    " \n",
    "\n",
    "Constraints:\n",
    "\n",
    "    costs.length == n\n",
    "    1 <= n <= 105\n",
    "    1 <= costs[i] <= 105\n",
    "    1 <= coins <= 108\n"
   ]
  },
  {
   "cell_type": "code",
   "execution_count": null,
   "id": "2f832f69-2f87-4125-8681-6dddef94291f",
   "metadata": {},
   "outputs": [],
   "source": [
    "class Solution:\n",
    "    def maxIceCream(self, costs: List[int], coins: int) -> int:\n",
    "        costs = sorted(costs)\n",
    "        sums = [0]\n",
    "        for cost in costs:\n",
    "            sums.append(sums[-1] + cost)\n",
    "\n",
    "        pos = bisect_right(sums, coins)\n",
    "        return pos - 1"
   ]
  }
 ],
 "metadata": {
  "kernelspec": {
   "display_name": "Python 3 (ipykernel)",
   "language": "python",
   "name": "python3"
  },
  "language_info": {
   "codemirror_mode": {
    "name": "ipython",
    "version": 3
   },
   "file_extension": ".py",
   "mimetype": "text/x-python",
   "name": "python",
   "nbconvert_exporter": "python",
   "pygments_lexer": "ipython3",
   "version": "3.9.13"
  }
 },
 "nbformat": 4,
 "nbformat_minor": 5
}
