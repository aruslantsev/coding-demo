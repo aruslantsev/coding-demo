{
 "cells": [
  {
   "cell_type": "markdown",
   "id": "0f1e24e3-8116-4eed-95e5-55b70ece1c54",
   "metadata": {},
   "source": [
    "Given two integer arrays arr1 and arr2, return the minimum number of operations (possibly zero) needed to make arr1 strictly increasing.\n",
    "\n",
    "In one operation, you can choose two indices 0 <= i < arr1.length and 0 <= j < arr2.length and do the assignment arr1[i] = arr2[j].\n",
    "\n",
    "If there is no way to make arr1 strictly increasing, return -1.\n",
    "\n",
    " \n",
    "\n",
    "Example 1:\n",
    "\n",
    "Input: arr1 = [1,5,3,6,7], arr2 = [1,3,2,4]\n",
    "Output: 1\n",
    "Explanation: Replace 5 with 2, then arr1 = [1, 2, 3, 6, 7].\n",
    "\n",
    "Example 2:\n",
    "\n",
    "Input: arr1 = [1,5,3,6,7], arr2 = [4,3,1]\n",
    "Output: 2\n",
    "Explanation: Replace 5 with 3 and then replace 3 with 4. arr1 = [1, 3, 4, 6, 7].\n",
    "\n",
    "Example 3:\n",
    "\n",
    "Input: arr1 = [1,5,3,6,7], arr2 = [1,6,3,3]\n",
    "Output: -1\n",
    "Explanation: You can't make arr1 strictly increasing.\n",
    "\n",
    " \n",
    "\n",
    "Constraints:\n",
    "\n",
    "    1 <= arr1.length, arr2.length <= 2000\n",
    "    0 <= arr1[i], arr2[i] <= 10^9\n"
   ]
  },
  {
   "cell_type": "code",
   "execution_count": null,
   "id": "35f139a6-210b-426f-83df-6ffd64c7303b",
   "metadata": {},
   "outputs": [],
   "source": [
    "class Solution:\n",
    "    def makeArrayIncreasing(self, arr1: List[int], arr2: List[int]) -> int:\n",
    "        dp = {-1: 0} \n",
    "        arr2.sort()\n",
    "\n",
    "        for num1 in arr1:\n",
    "            new_dp = {}\n",
    "            for key in dp:\n",
    "                if num1 > key:\n",
    "                    new_dp[num1] = min(new_dp.get(num1, float('inf')), dp[key])\n",
    "                loc = bisect.bisect_right(arr2, key)\n",
    "                if loc < len(arr2):\n",
    "                    new_dp[arr2[loc]] = min(new_dp.get(arr2[loc], float('inf')), dp[key] + 1)\n",
    "            dp = new_dp\n",
    "            print(dp)\n",
    "\n",
    "        if dp:\n",
    "            return min(dp.values())\n",
    "        return -1"
   ]
  },
  {
   "cell_type": "code",
   "execution_count": 49,
   "id": "f840d0ca-9bc7-4e9e-a1ae-bea92db003c6",
   "metadata": {},
   "outputs": [],
   "source": [
    "from typing import List\n",
    "\n",
    "class Solution:\n",
    "    def makeArrayIncreasing(self, arr1: List[int], arr2: List[int]) -> int:\n",
    "        arr2.sort()\n",
    "        arr1 = [0] + arr1\n",
    "        def dp(pos1, pos2):\n",
    "            if arr1[pos1:] == sorted(arr1[pos1:]) and len(arr1[pos1:]) == len(set(arr1[pos1:])):\n",
    "                return 0\n",
    "            if pos2 == len(arr2):\n",
    "                return float(\"inf\")\n",
    "            if arr1[pos1 + 1] > arr1[pos1]:\n",
    "                res1 = dp(pos1 + 1, pos2)\n",
    "            else:\n",
    "                res1 = float(\"inf\")\n",
    "            tmp = arr1[pos1 + 1]\n",
    "            while pos2 < len(arr2) and arr2[pos2] <= arr1[pos1]:\n",
    "                pos2 += 1\n",
    "            if pos2 < len(arr2):\n",
    "                arr1[pos1 + 1] = arr2[pos2]\n",
    "                res2 = 1 + dp(pos1 + 1, pos2 + 1)\n",
    "                arr1[pos1 + 1] = tmp\n",
    "            else:\n",
    "                res2 = float(\"inf\")\n",
    "            return min(res1, res2)\n",
    "            \n",
    "        res = dp(0, 0)\n",
    "        if res == float(\"inf\"):\n",
    "            return -1\n",
    "        return res"
   ]
  },
  {
   "cell_type": "code",
   "execution_count": 50,
   "id": "81af0e50-e37c-4cf4-8efb-14e97aeabb97",
   "metadata": {},
   "outputs": [
    {
     "data": {
      "text/plain": [
       "1"
      ]
     },
     "execution_count": 50,
     "metadata": {},
     "output_type": "execute_result"
    }
   ],
   "source": [
    "s = Solution()\n",
    "s.makeArrayIncreasing([1,5,3,6,7], [1,3,2,4])"
   ]
  },
  {
   "cell_type": "code",
   "execution_count": 51,
   "id": "9d8ea519-dba7-4bcb-a3b8-0fdf4af52c3a",
   "metadata": {},
   "outputs": [
    {
     "data": {
      "text/plain": [
       "2"
      ]
     },
     "execution_count": 51,
     "metadata": {},
     "output_type": "execute_result"
    }
   ],
   "source": [
    "s.makeArrayIncreasing([1,5,3,6,7], [4,3,1])"
   ]
  },
  {
   "cell_type": "code",
   "execution_count": 52,
   "id": "3a67d3dc-6525-4243-a8fc-6c97f6ff8973",
   "metadata": {},
   "outputs": [
    {
     "data": {
      "text/plain": [
       "-1"
      ]
     },
     "execution_count": 52,
     "metadata": {},
     "output_type": "execute_result"
    }
   ],
   "source": [
    "s.makeArrayIncreasing([1,5,3,6,7], [1,6,3,3])"
   ]
  },
  {
   "cell_type": "code",
   "execution_count": null,
   "id": "64f7e4a3-a90c-4769-a4e1-3914dec99f67",
   "metadata": {},
   "outputs": [],
   "source": []
  }
 ],
 "metadata": {
  "kernelspec": {
   "display_name": "Python 3 (ipykernel)",
   "language": "python",
   "name": "python3"
  },
  "language_info": {
   "codemirror_mode": {
    "name": "ipython",
    "version": 3
   },
   "file_extension": ".py",
   "mimetype": "text/x-python",
   "name": "python",
   "nbconvert_exporter": "python",
   "pygments_lexer": "ipython3",
   "version": "3.10.11"
  }
 },
 "nbformat": 4,
 "nbformat_minor": 5
}
