{
 "cells": [
  {
   "cell_type": "markdown",
   "id": "25864cb0-3c2c-432e-8532-fcdaeb491589",
   "metadata": {},
   "source": [
    "You are playing a game that contains multiple characters, and each of the characters has two main properties: attack and defense. You are given a 2D integer array properties where properties[i] = [attacki, defensei] represents the properties of the ith character in the game.\n",
    "\n",
    "A character is said to be weak if any other character has both attack and defense levels strictly greater than this character's attack and defense levels. More formally, a character i is said to be weak if there exists another character j where attackj > attacki and defensej > defensei.\n",
    "\n",
    "Return the number of weak characters.\n",
    "\n",
    " \n",
    "\n",
    "Example 1:\n",
    "\n",
    "Input: properties = [[5,5],[6,3],[3,6]]\n",
    "Output: 0\n",
    "Explanation: No character has strictly greater attack and defense than the other.\n",
    "\n",
    "Example 2:\n",
    "\n",
    "Input: properties = [[2,2],[3,3]]\n",
    "Output: 1\n",
    "Explanation: The first character is weak because the second character has a strictly greater attack and defense.\n",
    "\n",
    "Example 3:\n",
    "\n",
    "Input: properties = [[1,5],[10,4],[4,3]]\n",
    "Output: 1\n",
    "Explanation: The third character is weak because the second character has a strictly greater attack and defense.\n",
    "\n",
    " \n",
    "\n",
    "Constraints:\n",
    "\n",
    "    2 <= properties.length <= 105\n",
    "    properties[i].length == 2\n",
    "    1 <= attacki, defensei <= 105\n",
    "\n"
   ]
  },
  {
   "cell_type": "code",
   "execution_count": 25,
   "id": "a7fca0d9-b692-4a5e-9f63-0ad2aeacb0f2",
   "metadata": {},
   "outputs": [],
   "source": [
    "from typing import List\n",
    "\n",
    "\n",
    "class Solution:\n",
    "    def numberOfWeakCharacters(self, properties: List[List[int]]) -> int:\n",
    "        properties = sorted(properties)\n",
    "        ans = [False for _ in properties]\n",
    "        for i, (attack, defense) in enumerate(properties):\n",
    "            for j, property in enumerate(properties[:i]):\n",
    "                if not ans[j] and property[0] < attack and property[1] < defense:\n",
    "                    ans[j] = True\n",
    "        return sum(ans)"
   ]
  },
  {
   "cell_type": "code",
   "execution_count": 35,
   "id": "ec46c228-e8d0-44b3-8fbd-cb15c470e2d4",
   "metadata": {},
   "outputs": [],
   "source": [
    "class Solution:\n",
    "    def numberOfWeakCharacters(self, properties: List[List[int]]) -> int:\n",
    "        properties.sort(key=lambda x:(-x[0],x[1]))\n",
    "        mxattack = properties[0][0]\n",
    "        mxdefense = properties[0][1]\n",
    "        count = 0\n",
    "        for i in range(1, len(properties)):\n",
    "            if properties[i][0] < mxattack and properties[i][1] < mxdefense:\n",
    "                count+=1\n",
    "            else:\n",
    "                mxattack = properties[i][0]\n",
    "                mxdefense = properties[i][1]\n",
    "        return count"
   ]
  },
  {
   "cell_type": "code",
   "execution_count": 36,
   "id": "80a19bbb-ca78-4ff6-8a7b-21be5e46c651",
   "metadata": {},
   "outputs": [
    {
     "data": {
      "text/plain": [
       "0"
      ]
     },
     "execution_count": 36,
     "metadata": {},
     "output_type": "execute_result"
    }
   ],
   "source": [
    "s = Solution()\n",
    "s.numberOfWeakCharacters([[5,5],[6,3],[3,6]])"
   ]
  },
  {
   "cell_type": "code",
   "execution_count": 37,
   "id": "3068206b-b30c-4851-bd05-d7b7e19dafb3",
   "metadata": {},
   "outputs": [
    {
     "data": {
      "text/plain": [
       "1"
      ]
     },
     "execution_count": 37,
     "metadata": {},
     "output_type": "execute_result"
    }
   ],
   "source": [
    "s.numberOfWeakCharacters([[2, 2], [3, 3]])"
   ]
  },
  {
   "cell_type": "code",
   "execution_count": 38,
   "id": "6230e6e9-ae5c-4d1c-93d2-674c905b7bef",
   "metadata": {},
   "outputs": [
    {
     "data": {
      "text/plain": [
       "1"
      ]
     },
     "execution_count": 38,
     "metadata": {},
     "output_type": "execute_result"
    }
   ],
   "source": [
    "s.numberOfWeakCharacters([[1,5],[10,4],[4,3]])"
   ]
  },
  {
   "cell_type": "code",
   "execution_count": 39,
   "id": "d6873790-fc6a-4a24-a180-3b019652256f",
   "metadata": {},
   "outputs": [
    {
     "data": {
      "text/plain": [
       "6"
      ]
     },
     "execution_count": 39,
     "metadata": {},
     "output_type": "execute_result"
    }
   ],
   "source": [
    "s.numberOfWeakCharacters([[7,7],[1,2],[9,7],[7,3],[3,10],[9,8],[8,10],[4,3],[1,5],[1,5]])"
   ]
  },
  {
   "cell_type": "code",
   "execution_count": null,
   "id": "0cea2d58-917c-4d37-b312-7aff4600e8e7",
   "metadata": {},
   "outputs": [],
   "source": []
  }
 ],
 "metadata": {
  "kernelspec": {
   "display_name": "Python 3 (ipykernel)",
   "language": "python",
   "name": "python3"
  },
  "language_info": {
   "codemirror_mode": {
    "name": "ipython",
    "version": 3
   },
   "file_extension": ".py",
   "mimetype": "text/x-python",
   "name": "python",
   "nbconvert_exporter": "python",
   "pygments_lexer": "ipython3",
   "version": "3.9.12"
  }
 },
 "nbformat": 4,
 "nbformat_minor": 5
}
