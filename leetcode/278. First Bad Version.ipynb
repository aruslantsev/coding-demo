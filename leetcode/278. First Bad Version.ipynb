{
 "cells": [
  {
   "cell_type": "markdown",
   "id": "3780bc02-a992-449d-9cd3-a2af79e0774f",
   "metadata": {},
   "source": [
    "You are a product manager and currently leading a team to develop a new product. Unfortunately, the latest version of your product fails the quality check. Since each version is developed based on the previous version, all the versions after a bad version are also bad.\n",
    "\n",
    "Suppose you have n versions [1, 2, ..., n] and you want to find out the first bad one, which causes all the following ones to be bad.\n",
    "\n",
    "You are given an API bool isBadVersion(version) which returns whether version is bad. Implement a function to find the first bad version. You should minimize the number of calls to the API.\n",
    "\n",
    " \n",
    "\n",
    "Example 1:\n",
    "\n",
    "Input: n = 5, bad = 4\n",
    "Output: 4\n",
    "Explanation:\n",
    "call isBadVersion(3) -> false\n",
    "call isBadVersion(5) -> true\n",
    "call isBadVersion(4) -> true\n",
    "Then 4 is the first bad version.\n",
    "\n",
    "Example 2:\n",
    "\n",
    "Input: n = 1, bad = 1\n",
    "Output: 1\n",
    "\n",
    " \n",
    "\n",
    "Constraints:\n",
    "\n",
    "    1 <= bad <= n <= 231 - 1\n",
    "\n"
   ]
  },
  {
   "cell_type": "code",
   "execution_count": 5,
   "id": "b526598c-9c20-4b9d-9389-3a2cd52700dc",
   "metadata": {},
   "outputs": [],
   "source": [
    "# The isBadVersion API is already defined for you.\n",
    "# def isBadVersion(version: int) -> bool:\n",
    "\n",
    "class Solution:\n",
    "    def firstBadVersion(self, n: int) -> int:\n",
    "        l = 1\n",
    "        r = n\n",
    "        while r - l > 1:\n",
    "            if isBadVersion(l):\n",
    "                return l\n",
    "            m = (l + r) // 2\n",
    "            if not isBadVersion(m):\n",
    "                l = m\n",
    "            else:\n",
    "                r = m\n",
    "\n",
    "        if isBadVersion(l):\n",
    "            return l\n",
    "        if isBadVersion(r):\n",
    "            return r"
   ]
  },
  {
   "cell_type": "code",
   "execution_count": null,
   "id": "2ef83639-ff71-49f1-85bd-9cd9256da52c",
   "metadata": {},
   "outputs": [],
   "source": []
  }
 ],
 "metadata": {
  "kernelspec": {
   "display_name": "Python 3 (ipykernel)",
   "language": "python",
   "name": "python3"
  },
  "language_info": {
   "codemirror_mode": {
    "name": "ipython",
    "version": 3
   },
   "file_extension": ".py",
   "mimetype": "text/x-python",
   "name": "python",
   "nbconvert_exporter": "python",
   "pygments_lexer": "ipython3",
   "version": "3.9.10"
  }
 },
 "nbformat": 4,
 "nbformat_minor": 5
}
