{
 "cells": [
  {
   "attachments": {
    "0d187d5b-c714-43e9-bb2b-23bcfec66585.png": {
     "image/png": "[encoded data removed]"
    },
    "b31d121f-900c-40f7-addd-94c152fdc2c9.png": {
     "image/png": "[encoded data removed]"
    }
   },
   "cell_type": "markdown",
   "id": "a596f552-949c-4422-b3a3-2f49315b5491",
   "metadata": {},
   "source": [
    "You are given a 0-indexed 2D matrix grid of size m x n, where (r, c) represents:\n",
    "\n",
    "    A land cell if grid[r][c] = 0, or\n",
    "    A water cell containing grid[r][c] fish, if grid[r][c] > 0.\n",
    "\n",
    "A fisher can start at any water cell (r, c) and can do the following operations any number of times:\n",
    "\n",
    "    Catch all the fish at cell (r, c), or\n",
    "    Move to any adjacent water cell.\n",
    "\n",
    "Return the maximum number of fish the fisher can catch if he chooses his starting cell optimally, or 0 if no water cell exists.\n",
    "\n",
    "An adjacent cell of the cell (r, c), is one of the cells (r, c + 1), (r, c - 1), (r + 1, c) or (r - 1, c) if it exists.\n",
    "\n",
    " \n",
    "\n",
    "Example 1:\n",
    "\n",
    "![image.png](attachment:0d187d5b-c714-43e9-bb2b-23bcfec66585.png)\n",
    "\n",
    "Input: grid = [[0,2,1,0],[4,0,0,3],[1,0,0,4],[0,3,2,0]]\n",
    "Output: 7\n",
    "Explanation: The fisher can start at cell (1,3) and collect 3 fish, then move to cell (2,3) and collect 4 fish.\n",
    "\n",
    "Example 2:\n",
    "\n",
    "![image.png](attachment:b31d121f-900c-40f7-addd-94c152fdc2c9.png)\n",
    "\n",
    "Input: grid = [[1,0,0,0],[0,0,0,0],[0,0,0,0],[0,0,0,1]]\n",
    "Output: 1\n",
    "Explanation: The fisher can start at cells (0,0) or (3,3) and collect a single fish. \n",
    "\n",
    " \n",
    "\n",
    "Constraints:\n",
    "\n",
    "    m == grid.length\n",
    "    n == grid[i].length\n",
    "    1 <= m, n <= 10\n",
    "    0 <= grid[i][j] <= 10\n",
    "\n"
   ]
  },
  {
   "cell_type": "code",
   "execution_count": null,
   "id": "315ee1ac-cf47-4427-b2ef-2dbef177f639",
   "metadata": {},
   "outputs": [],
   "source": [
    "class Solution:\n",
    "    def findMaxFish(self, grid: List[List[int]]) -> int:\n",
    "        self.grid = grid\n",
    "        self.m = len(grid)\n",
    "        self.n = len(grid[0])\n",
    "        ans = 0\n",
    "        for i in range(self.m):\n",
    "            for j in range(self.n):\n",
    "                if self.grid[i][j]:\n",
    "                    ans = max(ans, self.dfs(i, j))\n",
    "        return ans\n",
    "        \n",
    "    def dfs(self, i, j):\n",
    "        res = self.grid[i][j]\n",
    "        self.grid[i][j] = 0\n",
    "        for di, dj in [(1, 0), (-1, 0), (0, 1), (0, -1)]:\n",
    "            if 0 <= i + di < self.m and 0 <= j + dj < self.n and self.grid[i + di][j + dj]:\n",
    "                res += self.dfs(i + di, j + dj)\n",
    "        return res"
   ]
  }
 ],
 "metadata": {
  "kernelspec": {
   "display_name": "Python 3 (ipykernel)",
   "language": "python",
   "name": "python3"
  },
  "language_info": {
   "codemirror_mode": {
    "name": "ipython",
    "version": 3
   },
   "file_extension": ".py",
   "mimetype": "text/x-python",
   "name": "python",
   "nbconvert_exporter": "python",
   "pygments_lexer": "ipython3",
   "version": "3.12.7"
  }
 },
 "nbformat": 4,
 "nbformat_minor": 5
}
