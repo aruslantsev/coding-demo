{
 "cells": [
  {
   "cell_type": "markdown",
   "id": "75cc6041-843e-4a5d-82db-239b51780762",
   "metadata": {},
   "source": [
    "Given an n x n matrix where each of the rows and columns is sorted in ascending order, return the kth smallest element in the matrix.\n",
    "\n",
    "Note that it is the kth smallest element in the sorted order, not the kth distinct element.\n",
    "\n",
    "You must find a solution with a memory complexity better than O(n2).\n",
    "\n",
    " \n",
    "\n",
    "Example 1:\n",
    "\n",
    "Input: matrix = [[1,5,9],[10,11,13],[12,13,15]], k = 8\n",
    "Output: 13\n",
    "Explanation: The elements in the matrix are [1,5,9,10,11,12,13,13,15], and the 8th smallest number is 13\n",
    "\n",
    "Example 2:\n",
    "\n",
    "Input: matrix = [[-5]], k = 1\n",
    "Output: -5\n",
    "\n",
    " \n",
    "\n",
    "Constraints:\n",
    "\n",
    "    n == matrix.length == matrix[i].length\n",
    "    1 <= n <= 300\n",
    "    -109 <= matrix[i][j] <= 109\n",
    "    All the rows and columns of matrix are guaranteed to be sorted in non-decreasing order.\n",
    "    1 <= k <= n2\n",
    "\n",
    " \n",
    "\n",
    "Follow up:\n",
    "\n",
    "    Could you solve the problem with a constant memory (i.e., O(1) memory complexity)?\n",
    "    Could you solve the problem in O(n) time complexity? The solution may be too advanced for an interview but you may find reading this paper fun.\n",
    "\n"
   ]
  },
  {
   "cell_type": "code",
   "execution_count": 12,
   "id": "9ff15dce-5561-45cd-b1d6-8b26ce0a93e2",
   "metadata": {},
   "outputs": [],
   "source": [
    "import heapq\n",
    "from typing import List\n",
    "\n",
    "class Solution:\n",
    "    def kthSmallest(self, matrix: List[List[int]], k: int) -> int:\n",
    "        l = 0\n",
    "        heap = []\n",
    "        heapq.heapify(heap)\n",
    "        for row in matrix:\n",
    "            for num in row:\n",
    "                if l == k:\n",
    "                    heapq.heappushpop(heap, -num)\n",
    "                else:\n",
    "                    heapq.heappush(heap, -num)\n",
    "                    l += 1\n",
    "                    \n",
    "        return -heapq.nsmallest(1, heap)[0]"
   ]
  },
  {
   "cell_type": "code",
   "execution_count": 13,
   "id": "55f37e03-be1d-4fba-b860-eb5c3fa9207f",
   "metadata": {},
   "outputs": [
    {
     "data": {
      "text/plain": [
       "13"
      ]
     },
     "execution_count": 13,
     "metadata": {},
     "output_type": "execute_result"
    }
   ],
   "source": [
    "s = Solution()\n",
    "s.kthSmallest([[1,5,9],[10,11,13],[12,13,15]], 8)"
   ]
  },
  {
   "cell_type": "code",
   "execution_count": null,
   "id": "cf38d9ff-0827-481b-b158-4c4983f281c8",
   "metadata": {},
   "outputs": [],
   "source": []
  }
 ],
 "metadata": {
  "kernelspec": {
   "display_name": "Python 3 (ipykernel)",
   "language": "python",
   "name": "python3"
  },
  "language_info": {
   "codemirror_mode": {
    "name": "ipython",
    "version": 3
   },
   "file_extension": ".py",
   "mimetype": "text/x-python",
   "name": "python",
   "nbconvert_exporter": "python",
   "pygments_lexer": "ipython3",
   "version": "3.9.12"
  }
 },
 "nbformat": 4,
 "nbformat_minor": 5
}
