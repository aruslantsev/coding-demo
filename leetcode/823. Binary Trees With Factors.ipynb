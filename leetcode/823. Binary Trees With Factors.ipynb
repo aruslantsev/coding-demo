{
 "cells": [
  {
   "cell_type": "markdown",
   "id": "f1b0faad-f7cd-4aa2-a9f8-a5e092ba9653",
   "metadata": {},
   "source": [
    "Given an array of unique integers, arr, where each integer arr[i] is strictly greater than 1.\n",
    "\n",
    "We make a binary tree using these integers, and each number may be used for any number of times. Each non-leaf node's value should be equal to the product of the values of its children.\n",
    "\n",
    "Return the number of binary trees we can make. The answer may be too large so return the answer modulo 109 + 7.\n",
    "\n",
    " \n",
    "\n",
    "Example 1:\n",
    "\n",
    "Input: arr = [2,4]\n",
    "Output: 3\n",
    "Explanation: We can make these trees: [2], [4], [4, 2, 2]\n",
    "\n",
    "Example 2:\n",
    "\n",
    "Input: arr = [2,4,5,10]\n",
    "Output: 7\n",
    "Explanation: We can make these trees: [2], [4], [5], [10], [4, 2, 2], [10, 2, 5], [10, 5, 2].\n",
    "\n",
    " \n",
    "\n",
    "Constraints:\n",
    "\n",
    "    1 <= arr.length <= 1000\n",
    "    2 <= arr[i] <= 109\n",
    "    All the values of arr are unique.\n",
    "\n"
   ]
  },
  {
   "cell_type": "code",
   "execution_count": 9,
   "id": "489bbe4b-02dd-43be-8826-3bd94b0bba2f",
   "metadata": {},
   "outputs": [],
   "source": [
    "from typing import List\n",
    "\n",
    "class Solution:\n",
    "    def numFactoredBinaryTrees(self, arr: List[int]) -> int:\n",
    "        arr = sorted(arr)\n",
    "        dp = {num: 1 for num in arr}\n",
    "        for i, num in enumerate(arr):\n",
    "            for j in arr[:i]:\n",
    "                if num % j == 0:\n",
    "                    cand = num // j\n",
    "                    if cand in arr:\n",
    "                        dp[num] += dp[j] * dp[cand]\n",
    "        return sum(dp.values()) % (10**9 + 7)"
   ]
  },
  {
   "cell_type": "code",
   "execution_count": 11,
   "id": "6d369297-23d3-4000-8567-8ddc32816f3a",
   "metadata": {},
   "outputs": [],
   "source": [
    "from typing import List\n",
    "\n",
    "class Solution:\n",
    "    def numFactoredBinaryTrees(self, arr: List[int]) -> int:\n",
    "        arr = sorted(arr)\n",
    "        dp = {num: 1 for num in arr}\n",
    "        for i, num in enumerate(arr):\n",
    "            for j in arr[:i]:\n",
    "                if num % j == 0 and (num // j) in arr:\n",
    "                        dp[num] += dp[j] * dp[num // j]\n",
    "        return sum(dp.values()) % (10**9 + 7)"
   ]
  },
  {
   "cell_type": "code",
   "execution_count": null,
   "id": "b25dca64-7068-47a5-8b8e-a69abd7b7134",
   "metadata": {},
   "outputs": [],
   "source": [
    "class Solution:\n",
    "    def numFactoredBinaryTrees(self, arr: List[int]) -> int:\n",
    "        arr.sort()\n",
    "        dct = {elem: 1 for elem in arr}\n",
    "        for elem in arr:\n",
    "            for factor in arr:\n",
    "                if factor == elem:\n",
    "                    break\n",
    "                if elem % factor == 0 and elem // factor in dct:\n",
    "                    dct[elem] += dct[factor] * dct[elem // factor]\n",
    "        return sum(dct.values()) % (pow(10, 9) + 7)\n"
   ]
  },
  {
   "cell_type": "code",
   "execution_count": 12,
   "id": "d1d17fad-6ac2-4e68-870d-ecc34cadbcf3",
   "metadata": {},
   "outputs": [
    {
     "data": {
      "text/plain": [
       "3"
      ]
     },
     "execution_count": 12,
     "metadata": {},
     "output_type": "execute_result"
    }
   ],
   "source": [
    "s = Solution()\n",
    "s.numFactoredBinaryTrees([2, 4])"
   ]
  },
  {
   "cell_type": "code",
   "execution_count": null,
   "id": "5dfefd45-143e-45cb-9585-195e3d2ea60f",
   "metadata": {},
   "outputs": [],
   "source": []
  }
 ],
 "metadata": {
  "kernelspec": {
   "display_name": "Python 3 (ipykernel)",
   "language": "python",
   "name": "python3"
  },
  "language_info": {
   "codemirror_mode": {
    "name": "ipython",
    "version": 3
   },
   "file_extension": ".py",
   "mimetype": "text/x-python",
   "name": "python",
   "nbconvert_exporter": "python",
   "pygments_lexer": "ipython3",
   "version": "3.11.4"
  }
 },
 "nbformat": 4,
 "nbformat_minor": 5
}
