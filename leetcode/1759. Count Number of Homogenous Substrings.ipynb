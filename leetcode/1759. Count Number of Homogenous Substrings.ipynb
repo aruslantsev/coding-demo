{
 "cells": [
  {
   "cell_type": "markdown",
   "id": "251284f5-82dc-4d5b-bab5-acb8eecd6cb2",
   "metadata": {},
   "source": [
    "Given a string s, return the number of homogenous substrings of s. Since the answer may be too large, return it modulo 109 + 7.\n",
    "\n",
    "A string is homogenous if all the characters of the string are the same.\n",
    "\n",
    "A substring is a contiguous sequence of characters within a string.\n",
    "\n",
    " \n",
    "\n",
    "Example 1:\n",
    "\n",
    "Input: s = \"abbcccaa\"\n",
    "Output: 13\n",
    "Explanation: The homogenous substrings are listed as below:\n",
    "\"a\"   appears 3 times.\n",
    "\"aa\"  appears 1 time.\n",
    "\"b\"   appears 2 times.\n",
    "\"bb\"  appears 1 time.\n",
    "\"c\"   appears 3 times.\n",
    "\"cc\"  appears 2 times.\n",
    "\"ccc\" appears 1 time.\n",
    "3 + 1 + 2 + 1 + 3 + 2 + 1 = 13.\n",
    "\n",
    "Example 2:\n",
    "\n",
    "Input: s = \"xy\"\n",
    "Output: 2\n",
    "Explanation: The homogenous substrings are \"x\" and \"y\".\n",
    "\n",
    "Example 3:\n",
    "\n",
    "Input: s = \"zzzzz\"\n",
    "Output: 15\n",
    "\n",
    " \n",
    "\n",
    "Constraints:\n",
    "\n",
    "    1 <= s.length <= 105\n",
    "    s consists of lowercase letters.\n"
   ]
  },
  {
   "cell_type": "code",
   "execution_count": null,
   "id": "5b527d36-b4ea-4f89-b2ae-ae7e2e086258",
   "metadata": {},
   "outputs": [],
   "source": [
    "class Solution:\n",
    "    def countHomogenous(self, s: str) -> int:\n",
    "        @cache\n",
    "        def c(n):\n",
    "            return sum(range(1, n + 1))\n",
    "\n",
    "        ans = 0\n",
    "        p = 0\n",
    "        window_size = 0\n",
    "        while p + window_size < len(s):\n",
    "            while p + window_size < len(s) and s[p] == s[p + window_size]:\n",
    "                window_size += 1\n",
    "            ans += c(window_size)\n",
    "            ans %= 10**9 + 7\n",
    "            p += window_size\n",
    "            window_size = 0\n",
    "        return ans"
   ]
  }
 ],
 "metadata": {
  "kernelspec": {
   "display_name": "Python 3 (ipykernel)",
   "language": "python",
   "name": "python3"
  },
  "language_info": {
   "codemirror_mode": {
    "name": "ipython",
    "version": 3
   },
   "file_extension": ".py",
   "mimetype": "text/x-python",
   "name": "python",
   "nbconvert_exporter": "python",
   "pygments_lexer": "ipython3",
   "version": "3.11.4"
  }
 },
 "nbformat": 4,
 "nbformat_minor": 5
}
