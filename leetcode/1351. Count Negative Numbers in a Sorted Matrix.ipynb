{
 "cells": [
  {
   "cell_type": "markdown",
   "id": "24770800-ebcb-44c0-b301-db5ce452d14e",
   "metadata": {},
   "source": [
    "Given a m x n matrix grid which is sorted in non-increasing order both row-wise and column-wise, return the number of negative numbers in grid.\n",
    "\n",
    " \n",
    "\n",
    "Example 1:\n",
    "\n",
    "Input: grid = [[4,3,2,-1],[3,2,1,-1],[1,1,-1,-2],[-1,-1,-2,-3]]\n",
    "Output: 8\n",
    "Explanation: There are 8 negatives number in the matrix.\n",
    "\n",
    "Example 2:\n",
    "\n",
    "Input: grid = [[3,2],[1,0]]\n",
    "Output: 0\n",
    "\n",
    " \n",
    "\n",
    "Constraints:\n",
    "\n",
    "    m == grid.length\n",
    "    n == grid[i].length\n",
    "    1 <= m, n <= 100\n",
    "    -100 <= grid[i][j] <= 100\n",
    "\n",
    " \n",
    "Follow up: Could you find an O(n + m) solution?"
   ]
  },
  {
   "cell_type": "code",
   "execution_count": 85,
   "id": "d097e882-140c-456a-bc19-9af5b379062c",
   "metadata": {},
   "outputs": [],
   "source": [
    "from typing import List\n",
    "\n",
    "class Solution:\n",
    "    def countNegatives(self, grid: List[List[int]]) -> int:\n",
    "        ans = 0\n",
    "        j = len(grid[0]) - 1\n",
    "        for i in range(len(grid)):\n",
    "            while j >= 0 and grid[i][j] < 0:\n",
    "                j -= 1\n",
    "            if j >= 0 and grid[i][j] >= 0:\n",
    "                ans += j + 1    \n",
    "        return len(grid) * len(grid[0]) - ans"
   ]
  },
  {
   "cell_type": "code",
   "execution_count": 86,
   "id": "074cfdd6-ac05-4b1d-ab10-0dddaaa8e3df",
   "metadata": {},
   "outputs": [
    {
     "data": {
      "text/plain": [
       "8"
      ]
     },
     "execution_count": 86,
     "metadata": {},
     "output_type": "execute_result"
    }
   ],
   "source": [
    "s = Solution()\n",
    "s.countNegatives([[4,3,2,-1],[3,2,1,-1],[1,1,-1,-2],[-1,-1,-2,-3]])"
   ]
  },
  {
   "cell_type": "code",
   "execution_count": 87,
   "id": "24673e04-411d-4674-bcb0-403668e592c0",
   "metadata": {},
   "outputs": [
    {
     "data": {
      "text/plain": [
       "0"
      ]
     },
     "execution_count": 87,
     "metadata": {},
     "output_type": "execute_result"
    }
   ],
   "source": [
    "s.countNegatives([[3,2],[1,0]])"
   ]
  },
  {
   "cell_type": "code",
   "execution_count": 88,
   "id": "184a52e3-fc5c-41a4-b860-36aea65a48ff",
   "metadata": {},
   "outputs": [
    {
     "data": {
      "text/plain": [
       "3"
      ]
     },
     "execution_count": 88,
     "metadata": {},
     "output_type": "execute_result"
    }
   ],
   "source": [
    "s.countNegatives([[5,1,0],[-5,-5,-5]])"
   ]
  },
  {
   "cell_type": "code",
   "execution_count": 89,
   "id": "b4c8c47c-573e-43b1-8f4e-b40bb0aaba0f",
   "metadata": {},
   "outputs": [
    {
     "data": {
      "text/plain": [
       "0"
      ]
     },
     "execution_count": 89,
     "metadata": {},
     "output_type": "execute_result"
    }
   ],
   "source": [
    "s.countNegatives([[7, 7, 6]])"
   ]
  },
  {
   "cell_type": "code",
   "execution_count": null,
   "id": "00c8ac67-47a0-4d03-a3ad-76b1c847b889",
   "metadata": {},
   "outputs": [],
   "source": []
  }
 ],
 "metadata": {
  "kernelspec": {
   "display_name": "Python 3 (ipykernel)",
   "language": "python",
   "name": "python3"
  },
  "language_info": {
   "codemirror_mode": {
    "name": "ipython",
    "version": 3
   },
   "file_extension": ".py",
   "mimetype": "text/x-python",
   "name": "python",
   "nbconvert_exporter": "python",
   "pygments_lexer": "ipython3",
   "version": "3.10.11"
  }
 },
 "nbformat": 4,
 "nbformat_minor": 5
}
