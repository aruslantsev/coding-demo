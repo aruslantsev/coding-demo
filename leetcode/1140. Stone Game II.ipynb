{
 "cells": [
  {
   "cell_type": "markdown",
   "id": "ffc8ada1-66c2-46e7-83f6-b012dd44f9e3",
   "metadata": {},
   "source": [
    "Alice and Bob continue their games with piles of stones.  There are a number of piles arranged in a row, and each pile has a positive integer number of stones piles[i].  The objective of the game is to end with the most stones. \n",
    "\n",
    "Alice and Bob take turns, with Alice starting first.  Initially, M = 1.\n",
    "\n",
    "On each player's turn, that player can take all the stones in the first X remaining piles, where 1 <= X <= 2M.  Then, we set M = max(M, X).\n",
    "\n",
    "The game continues until all the stones have been taken.\n",
    "\n",
    "Assuming Alice and Bob play optimally, return the maximum number of stones Alice can get.\n",
    "\n",
    " \n",
    "\n",
    "Example 1:\n",
    "\n",
    "Input: piles = [2,7,9,4,4]\n",
    "Output: 10\n",
    "Explanation:  If Alice takes one pile at the beginning, Bob takes two piles, then Alice takes 2 piles again. Alice can get 2 + 4 + 4 = 10 piles in total. If Alice takes two piles at the beginning, then Bob can take all three piles left. In this case, Alice get 2 + 7 = 9 piles in total. So we return 10 since it's larger. \n",
    "\n",
    "Example 2:\n",
    "\n",
    "Input: piles = [1,2,3,4,5,100]\n",
    "Output: 104\n",
    "\n",
    " \n",
    "\n",
    "Constraints:\n",
    "\n",
    "    1 <= piles.length <= 100\n",
    "    1 <= piles[i] <= 104\n",
    "\n"
   ]
  },
  {
   "cell_type": "code",
   "execution_count": null,
   "id": "ca93b1e7-9b96-43ea-bc6d-ab5e2b003a0d",
   "metadata": {},
   "outputs": [],
   "source": [
    "class Solution:\n",
    "    def stoneGameII(self, piles: List[int]) -> int:\n",
    "        n = len(piles)\n",
    "        suffix_sums = [0] * (n + 1)\n",
    "        suffix_sums[n - 1] = piles[n - 1]\n",
    "        for i in range(n - 2, -1, -1):\n",
    "            suffix_sums[i] = suffix_sums[i + 1] + piles[i]\n",
    "\n",
    "        dp = [[0] * (n + 1) for _ in range(n)]\n",
    "\n",
    "        for i in range(n - 1, -1, -1):\n",
    "            for m in range(1, n + 1):\n",
    "                if i + 2 * m >= n:\n",
    "                    dp[i][m] = suffix_sums[i]\n",
    "                else:\n",
    "                    for x in range(1, 2 * m + 1):\n",
    "                        opponent_score = dp[i + x][max(x, m)]\n",
    "                        score = suffix_sums[i] - opponent_score\n",
    "                        dp[i][m] = max(dp[i][m], score)\n",
    "        \n",
    "        return dp[0][1]"
   ]
  }
 ],
 "metadata": {
  "kernelspec": {
   "display_name": "Python 3 (ipykernel)",
   "language": "python",
   "name": "python3"
  },
  "language_info": {
   "codemirror_mode": {
    "name": "ipython",
    "version": 3
   },
   "file_extension": ".py",
   "mimetype": "text/x-python",
   "name": "python",
   "nbconvert_exporter": "python",
   "pygments_lexer": "ipython3",
   "version": "3.10.11"
  }
 },
 "nbformat": 4,
 "nbformat_minor": 5
}
