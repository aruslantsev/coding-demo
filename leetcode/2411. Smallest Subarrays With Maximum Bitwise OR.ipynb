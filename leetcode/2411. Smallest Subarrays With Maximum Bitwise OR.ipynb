{
 "cells": [
  {
   "cell_type": "markdown",
   "id": "abffdfce-115a-4d68-aea1-d69f0fea9b2a",
   "metadata": {},
   "source": [
    "You are given a 0-indexed array nums of length n, consisting of non-negative integers. For each index i from 0 to n - 1, you must determine the size of the minimum sized non-empty subarray of nums starting at i (inclusive) that has the maximum possible bitwise OR.\n",
    "\n",
    "    In other words, let Bij be the bitwise OR of the subarray nums[i...j]. You need to find the smallest subarray starting at i, such that bitwise OR of this subarray is equal to max(Bik) where i <= k <= n - 1.\n",
    "\n",
    "The bitwise OR of an array is the bitwise OR of all the numbers in it.\n",
    "\n",
    "Return an integer array answer of size n where answer[i] is the length of the minimum sized subarray starting at i with maximum bitwise OR.\n",
    "\n",
    "A subarray is a contiguous non-empty sequence of elements within an array.\n",
    "\n",
    " \n",
    "\n",
    "Example 1:\n",
    "\n",
    "Input: nums = [1,0,2,1,3]\n",
    "Output: [3,3,2,2,1]\n",
    "Explanation:\n",
    "The maximum possible bitwise OR starting at any index is 3. \n",
    "- Starting at index 0, the shortest subarray that yields it is [1,0,2].\n",
    "- Starting at index 1, the shortest subarray that yields the maximum bitwise OR is [0,2,1].\n",
    "- Starting at index 2, the shortest subarray that yields the maximum bitwise OR is [2,1].\n",
    "- Starting at index 3, the shortest subarray that yields the maximum bitwise OR is [1,3].\n",
    "- Starting at index 4, the shortest subarray that yields the maximum bitwise OR is [3].\n",
    "Therefore, we return [3,3,2,2,1]. \n",
    "\n",
    "Example 2:\n",
    "\n",
    "Input: nums = [1,2]\n",
    "Output: [2,1]\n",
    "Explanation:\n",
    "Starting at index 0, the shortest subarray that yields the maximum bitwise OR is of length 2.\n",
    "Starting at index 1, the shortest subarray that yields the maximum bitwise OR is of length 1.\n",
    "Therefore, we return [2,1].\n",
    "\n",
    " \n",
    "\n",
    "Constraints:\n",
    "\n",
    "    n == nums.length\n",
    "    1 <= n <= 105\n",
    "    0 <= nums[i] <= 109\n",
    "\n"
   ]
  },
  {
   "cell_type": "code",
   "execution_count": null,
   "id": "abc043ca-99c4-4b51-bd49-cc0992fd2616",
   "metadata": {},
   "outputs": [],
   "source": [
    "class Solution:\n",
    "    def smallestSubarrays(self, nums: List[int]) -> List[int]:\n",
    "        idx = [[-1 for _ in range(31)] for _ in nums]\n",
    "        ans = [0 for _ in nums]\n",
    "        for i in range(len(nums) - 1, -1, -1):\n",
    "            for j in range(31):\n",
    "                if nums[i] & (1 << j):\n",
    "                    idx[i][j] = i\n",
    "                else:\n",
    "                    if i < len(nums) - 1:\n",
    "                        idx[i][j] = idx[i + 1][j]\n",
    "            nxt = max(idx[i])\n",
    "            if nxt == -1:\n",
    "                ans[i] = 1\n",
    "            else:\n",
    "                ans[i] = nxt - i + 1\n",
    "        return ans"
   ]
  },
  {
   "cell_type": "code",
   "execution_count": null,
   "id": "6ddf7f8d-2f80-4595-ad9e-fd643ece9498",
   "metadata": {},
   "outputs": [],
   "source": [
    "class Solution:\n",
    "    def smallestSubarrays(self, nums: List[int]) -> List[int]:\n",
    "        idx = [-1 for _ in range(31)]\n",
    "        ans = [0 for _ in nums]\n",
    "        for i in range(len(nums) - 1, -1, -1):\n",
    "            nxt = i\n",
    "            for j in range(31):\n",
    "                if nums[i] & (1 << j):\n",
    "                    idx[j] = i\n",
    "                else:\n",
    "                    nxt = max(nxt, idx[j])\n",
    "            ans[i] = nxt - i + 1\n",
    "        return ans"
   ]
  },
  {
   "cell_type": "code",
   "execution_count": null,
   "id": "fded7dde-450c-4fed-8165-264dcb1403cf",
   "metadata": {},
   "outputs": [],
   "source": [
    "class Solution:\n",
    "    def smallestSubarrays(self, nums: List[int]) -> List[int]:\n",
    "        idx = [-1 for _ in range(31)]\n",
    "        ans = [0 for _ in nums]\n",
    "        for i in range(len(nums) - 1, -1, -1):\n",
    "            for j in range(31):\n",
    "                if nums[i] & (1 << j):\n",
    "                    idx[j] = i\n",
    "            nxt = max(idx)\n",
    "            ans[i] = 1 if nxt == -1 else nxt - i + 1\n",
    "        return ans"
   ]
  }
 ],
 "metadata": {
  "kernelspec": {
   "display_name": "Python 3 (ipykernel)",
   "language": "python",
   "name": "python3"
  },
  "language_info": {
   "codemirror_mode": {
    "name": "ipython",
    "version": 3
   },
   "file_extension": ".py",
   "mimetype": "text/x-python",
   "name": "python",
   "nbconvert_exporter": "python",
   "pygments_lexer": "ipython3",
   "version": "3.13.5"
  }
 },
 "nbformat": 4,
 "nbformat_minor": 5
}
