{
 "cells": [
  {
   "attachments": {
    "4087a827-2e7e-418e-844b-c22dd6e8aeed.png": {
     "image/png": "[encoded data removed]"
    },
    "54bc5750-25e7-4e52-9dea-d4a4b139d192.png": {
     "image/png": "[encoded data removed]"
    }
   },
   "cell_type": "markdown",
   "id": "c6789bc1-070e-467a-a0a0-d4bb68763040",
   "metadata": {},
   "source": [
    "You are given the head of a non-empty linked list representing a non-negative integer without leading zeroes.\n",
    "\n",
    "Return the head of the linked list after doubling it.\n",
    "\n",
    " \n",
    "\n",
    "Example 1:\n",
    "\n",
    "![image.png](attachment:54bc5750-25e7-4e52-9dea-d4a4b139d192.png)\n",
    "\n",
    "Input: head = [1,8,9]\n",
    "Output: [3,7,8]\n",
    "Explanation: The figure above corresponds to the given linked list which represents the number 189. Hence, the returned linked list represents the number 189 * 2 = 378.\n",
    "\n",
    "Example 2:\n",
    "\n",
    "![image.png](attachment:4087a827-2e7e-418e-844b-c22dd6e8aeed.png)\n",
    "\n",
    "Input: head = [9,9,9]\n",
    "Output: [1,9,9,8]\n",
    "Explanation: The figure above corresponds to the given linked list which represents the number 999. Hence, the returned linked list reprersents the number 999 * 2 = 1998. \n",
    "\n",
    " \n",
    "\n",
    "Constraints:\n",
    "\n",
    "    The number of nodes in the list is in the range [1, 104]\n",
    "    0 <= Node.val <= 9\n",
    "    The input is generated such that the list represents a number that does not have leading zeros, except the number 0 itself.\n",
    "\n"
   ]
  },
  {
   "cell_type": "code",
   "execution_count": null,
   "id": "452b3d93-b2ef-492c-bedc-82e44fccef85",
   "metadata": {},
   "outputs": [],
   "source": [
    "# Definition for singly-linked list.\n",
    "# class ListNode:\n",
    "#     def __init__(self, val=0, next=None):\n",
    "#         self.val = val\n",
    "#         self.next = next\n",
    "\n",
    "def reverse_list(head):\n",
    "    prev = None\n",
    "    current = head\n",
    "    next_temp = None\n",
    "\n",
    "    while current:\n",
    "        next_temp = current.next\n",
    "        current.next = prev\n",
    "        prev = current\n",
    "        current = next_temp\n",
    "    return prev\n",
    "        \n",
    "class Solution:\n",
    "    def doubleIt(self, head: Optional[ListNode]) -> Optional[ListNode]:\n",
    "        if not head:\n",
    "            return head\n",
    "        \n",
    "        head = reverse_list(head)\n",
    "        ans = head\n",
    "        prev = None\n",
    "        add = 0\n",
    "        while head:\n",
    "            curr_val = head.val * 2 + add\n",
    "            add = curr_val // 10\n",
    "            head.val = curr_val % 10\n",
    "            if add > 0 and not head.next:\n",
    "                head.next = ListNode(0)\n",
    "            prev = head\n",
    "            head = head.next\n",
    "        return reverse_list(ans)\n",
    "        "
   ]
  }
 ],
 "metadata": {
  "kernelspec": {
   "display_name": "Python 3 (ipykernel)",
   "language": "python",
   "name": "python3"
  },
  "language_info": {
   "codemirror_mode": {
    "name": "ipython",
    "version": 3
   },
   "file_extension": ".py",
   "mimetype": "text/x-python",
   "name": "python",
   "nbconvert_exporter": "python",
   "pygments_lexer": "ipython3",
   "version": "3.12.3"
  }
 },
 "nbformat": 4,
 "nbformat_minor": 5
}
