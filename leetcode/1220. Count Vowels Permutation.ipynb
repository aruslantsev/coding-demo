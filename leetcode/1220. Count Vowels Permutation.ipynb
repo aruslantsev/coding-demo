{
 "cells": [
  {
   "cell_type": "markdown",
   "id": "97280606-9d17-47ee-bc32-5f18eb523d0b",
   "metadata": {},
   "source": [
    "Given an integer n, your task is to count how many strings of length n can be formed under the following rules:\n",
    "\n",
    "    Each character is a lower case vowel ('a', 'e', 'i', 'o', 'u')\n",
    "    Each vowel 'a' may only be followed by an 'e'.\n",
    "    Each vowel 'e' may only be followed by an 'a' or an 'i'.\n",
    "    Each vowel 'i' may not be followed by another 'i'.\n",
    "    Each vowel 'o' may only be followed by an 'i' or a 'u'.\n",
    "    Each vowel 'u' may only be followed by an 'a'.\n",
    "\n",
    "Since the answer may be too large, return it modulo 10^9 + 7.\n",
    "\n",
    " \n",
    "\n",
    "Example 1:\n",
    "\n",
    "Input: n = 1\n",
    "Output: 5\n",
    "Explanation: All possible strings are: \"a\", \"e\", \"i\" , \"o\" and \"u\".\n",
    "\n",
    "Example 2:\n",
    "\n",
    "Input: n = 2\n",
    "Output: 10\n",
    "Explanation: All possible strings are: \"ae\", \"ea\", \"ei\", \"ia\", \"ie\", \"io\", \"iu\", \"oi\", \"ou\" and \"ua\".\n",
    "\n",
    "Example 3: \n",
    "\n",
    "Input: n = 5\n",
    "Output: 68\n",
    "\n",
    " \n",
    "\n",
    "Constraints:\n",
    "\n",
    "    1 <= n <= 2 * 10^4\n",
    "\n"
   ]
  },
  {
   "cell_type": "code",
   "execution_count": null,
   "id": "40f7a503-b9e6-46c5-ac90-0578d7d8b202",
   "metadata": {},
   "outputs": [],
   "source": [
    "from functools import cache\n",
    "\n",
    "class Solution:\n",
    "    def countVowelPermutation(self, n: int) -> int:\n",
    "        @cache\n",
    "        def iterate(prev, remaining):\n",
    "            if remaining == 0:\n",
    "                return 1\n",
    "            possible = ['a', 'e', 'i', 'o', 'u']\n",
    "            if prev == 'a':\n",
    "                possible = 'e'\n",
    "            if prev == 'e':\n",
    "                possible = ['a', 'i']\n",
    "            if prev == 'i':\n",
    "                possible = ['a', 'e', 'o', 'u']\n",
    "            if prev == 'o':\n",
    "                possible = ['i', 'u']\n",
    "            if prev == 'u':\n",
    "                possible = ['a']\n",
    "            \n",
    "            return sum([iterate(letter, remaining - 1) for letter in possible]) % (10**9  + 7)\n",
    "        \n",
    "        return iterate('', n) % (10**9  + 7)\n",
    "            "
   ]
  },
  {
   "cell_type": "code",
   "execution_count": null,
   "id": "f6f571fe-4d6c-4f48-85bc-2d8b711b1314",
   "metadata": {},
   "outputs": [],
   "source": [
    "class Solution:\n",
    "    def countVowelPermutation(self, n: int) -> int:\n",
    "\n",
    "        # Initialize all vowels counts to 1\n",
    "        # This is n==1 case\n",
    "        a, e, i, o, u = 1, 1, 1, 1, 1\n",
    "\n",
    "        # Iterate from 2 to n\n",
    "        for _ in range(2, n + 1):\n",
    "            a, e, i, o, u = e + i + u, a + i, e + o, i, i + o # revverse dependencies\n",
    "\n",
    "        # Return the sum of all counts of all vowels\n",
    "        return (a + e + i + o + u) % 1000000007\n"
   ]
  }
 ],
 "metadata": {
  "kernelspec": {
   "display_name": "Python 3 (ipykernel)",
   "language": "python",
   "name": "python3"
  },
  "language_info": {
   "codemirror_mode": {
    "name": "ipython",
    "version": 3
   },
   "file_extension": ".py",
   "mimetype": "text/x-python",
   "name": "python",
   "nbconvert_exporter": "python",
   "pygments_lexer": "ipython3",
   "version": "3.9.12"
  }
 },
 "nbformat": 4,
 "nbformat_minor": 5
}
