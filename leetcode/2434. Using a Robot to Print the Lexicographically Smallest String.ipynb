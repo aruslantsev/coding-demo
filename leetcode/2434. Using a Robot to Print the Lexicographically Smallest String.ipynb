{
 "cells": [
  {
   "cell_type": "markdown",
   "id": "abc3d873-8d10-41b7-91e4-2e129484c36c",
   "metadata": {},
   "source": [
    "You are given a string s and a robot that currently holds an empty string t. Apply one of the following operations until s and t are both empty:\n",
    "\n",
    "    Remove the first character of a string s and give it to the robot. The robot will append this character to the string t.\n",
    "    Remove the last character of a string t and give it to the robot. The robot will write this character on paper.\n",
    "\n",
    "Return the lexicographically smallest string that can be written on the paper.\n",
    "\n",
    " \n",
    "\n",
    "Example 1:\n",
    "\n",
    "Input: s = \"zza\"\n",
    "Output: \"azz\"\n",
    "Explanation: Let p denote the written string.\n",
    "Initially p=\"\", s=\"zza\", t=\"\".\n",
    "Perform first operation three times p=\"\", s=\"\", t=\"zza\".\n",
    "Perform second operation three times p=\"azz\", s=\"\", t=\"\".\n",
    "\n",
    "Example 2:\n",
    "\n",
    "Input: s = \"bac\"\n",
    "Output: \"abc\"\n",
    "Explanation: Let p denote the written string.\n",
    "Perform first operation twice p=\"\", s=\"c\", t=\"ba\". \n",
    "Perform second operation twice p=\"ab\", s=\"c\", t=\"\". \n",
    "Perform first operation p=\"ab\", s=\"\", t=\"c\". \n",
    "Perform second operation p=\"abc\", s=\"\", t=\"\".\n",
    "\n",
    "Example 3:\n",
    "\n",
    "Input: s = \"bdda\"\n",
    "Output: \"addb\"\n",
    "Explanation: Let p denote the written string.\n",
    "Initially p=\"\", s=\"bdda\", t=\"\".\n",
    "Perform first operation four times p=\"\", s=\"\", t=\"bdda\".\n",
    "Perform second operation four times p=\"addb\", s=\"\", t=\"\".\n",
    "\n",
    " \n",
    "\n",
    "Constraints:\n",
    "\n",
    "    1 <= s.length <= 105\n",
    "    s consists of only English lowercase letters.\n",
    "\n"
   ]
  },
  {
   "cell_type": "code",
   "execution_count": null,
   "id": "05f6138c-fdd8-4ff2-8cc9-911efa4cd83d",
   "metadata": {},
   "outputs": [],
   "source": [
    "class Solution:\n",
    "    def robotWithString(self, s: str) -> str:\n",
    "        next_min = deque([\"\"])\n",
    "        current_min = s[-1]\n",
    "        for i in range(len(s) - 2, 0, -1):\n",
    "            next_min.appendleft(current_min)\n",
    "            current_min = min(current_min, s[i])\n",
    "        next_min.appendleft(current_min)\n",
    "        stack = []\n",
    "        ans = []\n",
    "        for i, sym in enumerate(s):\n",
    "            stack.append(sym)\n",
    "            while stack and next_min[i] != \"\" and stack[-1] <= next_min[i]:\n",
    "                ans.append(stack.pop())\n",
    "            while stack and next_min[i] == \"\":\n",
    "                ans.append(stack.pop())\n",
    "        \n",
    "        return \"\".join(ans)"
   ]
  },
  {
   "cell_type": "code",
   "execution_count": null,
   "id": "d856271b-0f84-4084-8ff6-a086436b5400",
   "metadata": {},
   "outputs": [],
   "source": [
    "class Solution:\n",
    "    def robotWithString(self, s: str) -> str:\n",
    "        c = Counter(s)\n",
    "        stack = []\n",
    "        ans = []\n",
    "        curr_min = \"a\"\n",
    "        for sym in s:\n",
    "            stack.append(sym)\n",
    "            c[sym] -= 1\n",
    "            while curr_min != \"z\" and c[curr_min] == 0:\n",
    "                curr_min = chr(ord(curr_min) + 1)\n",
    "            while stack and stack[-1] <= curr_min:\n",
    "                ans.append(stack.pop())\n",
    "        return \"\".join(ans)"
   ]
  }
 ],
 "metadata": {
  "kernelspec": {
   "display_name": "Python 3 (ipykernel)",
   "language": "python",
   "name": "python3"
  },
  "language_info": {
   "codemirror_mode": {
    "name": "ipython",
    "version": 3
   },
   "file_extension": ".py",
   "mimetype": "text/x-python",
   "name": "python",
   "nbconvert_exporter": "python",
   "pygments_lexer": "ipython3",
   "version": "3.13.4"
  }
 },
 "nbformat": 4,
 "nbformat_minor": 5
}
