{
 "cells": [
  {
   "cell_type": "markdown",
   "id": "034c0574-6a29-43a0-b37f-0a785e9a67ae",
   "metadata": {},
   "source": [
    "The variance of a string is defined as the largest difference between the number of occurrences of any 2 characters present in the string. Note the two characters may or may not be the same.\n",
    "\n",
    "Given a string s consisting of lowercase English letters only, return the largest variance possible among all substrings of s.\n",
    "\n",
    "A substring is a contiguous sequence of characters within a string.\n",
    "\n",
    " \n",
    "\n",
    "Example 1:\n",
    "\n",
    "Input: s = \"aababbb\"\n",
    "Output: 3\n",
    "Explanation:\n",
    "All possible variances along with their respective substrings are listed below:\n",
    "- Variance 0 for substrings \"a\", \"aa\", \"ab\", \"abab\", \"aababb\", \"ba\", \"b\", \"bb\", and \"bbb\".\n",
    "- Variance 1 for substrings \"aab\", \"aba\", \"abb\", \"aabab\", \"ababb\", \"aababbb\", and \"bab\".\n",
    "- Variance 2 for substrings \"aaba\", \"ababbb\", \"abbb\", and \"babb\".\n",
    "- Variance 3 for substring \"babbb\".\n",
    "Since the largest possible variance is 3, we return it.\n",
    "\n",
    "Example 2:\n",
    "\n",
    "Input: s = \"abcde\"\n",
    "Output: 0\n",
    "Explanation:\n",
    "No letter occurs more than once in s, so the variance of every substring is 0.\n",
    "\n",
    " \n",
    "\n",
    "Constraints:\n",
    "\n",
    "    1 <= s.length <= 104\n",
    "    s consists of lowercase English letters.\n",
    "\n"
   ]
  },
  {
   "cell_type": "code",
   "execution_count": null,
   "id": "756938bb-34ab-4284-827a-6eba5c2308fb",
   "metadata": {},
   "outputs": [],
   "source": [
    "class Solution:\n",
    "    def largestVariance(self, s: str) -> int:\n",
    "        count1 = 0\n",
    "        count2 = 0\n",
    "        max_variance = 0\n",
    "        \n",
    "        # create distinct list of character pairs\n",
    "        pairs = [(l1, l2) for l1 in set(s) for l2 in set(s) if l1 != l2]\n",
    "\n",
    "        # run once for original string order, then again for reverse string order\n",
    "        for runs in range(2):\n",
    "            for pair in pairs:\n",
    "                count1 = count2 = 0\n",
    "                for letter in s:\n",
    "                    # no reason to process letters that aren't part of the current pair\n",
    "                    if letter not in pair:\n",
    "                        continue\n",
    "                    if letter == pair[0]:\n",
    "                        count1 += 1\n",
    "                    elif letter == pair[1]:\n",
    "                        count2 += 1\n",
    "                    if count1 < count2:\n",
    "                        count1 = count2 = 0\n",
    "                    elif count1 > 0 and count2 > 0:\n",
    "                        max_variance = max(max_variance, count1 - count2)\n",
    "                \n",
    "            \n",
    "            # reverse the string for the second time around\n",
    "            s = s[::-1]\n",
    "                \n",
    "        return max_variance"
   ]
  }
 ],
 "metadata": {
  "kernelspec": {
   "display_name": "Python 3 (ipykernel)",
   "language": "python",
   "name": "python3"
  },
  "language_info": {
   "codemirror_mode": {
    "name": "ipython",
    "version": 3
   },
   "file_extension": ".py",
   "mimetype": "text/x-python",
   "name": "python",
   "nbconvert_exporter": "python",
   "pygments_lexer": "ipython3",
   "version": "3.10.11"
  }
 },
 "nbformat": 4,
 "nbformat_minor": 5
}
