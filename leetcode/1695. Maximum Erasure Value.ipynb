{
 "cells": [
  {
   "cell_type": "markdown",
   "id": "8395e5fa-b4ca-46c9-9596-a852ea59befe",
   "metadata": {},
   "source": [
    "You are given an array of positive integers nums and want to erase a subarray containing unique elements. The score you get by erasing the subarray is equal to the sum of its elements.\n",
    "\n",
    "Return the maximum score you can get by erasing exactly one subarray.\n",
    "\n",
    "An array b is called to be a subarray of a if it forms a contiguous subsequence of a, that is, if it is equal to a[l],a[l+1],...,a[r] for some (l,r).\n",
    "\n",
    " \n",
    "\n",
    "Example 1:\n",
    "\n",
    "Input: nums = [4,2,4,5,6]\n",
    "Output: 17\n",
    "Explanation: The optimal subarray here is [2,4,5,6].\n",
    "\n",
    "Example 2:\n",
    "\n",
    "Input: nums = [5,2,1,2,5,2,1,2,5]\n",
    "Output: 8\n",
    "Explanation: The optimal subarray here is [5,2,1] or [1,2,5].\n",
    "\n",
    " \n",
    "\n",
    "Constraints:\n",
    "\n",
    "    1 <= nums.length <= 105\n",
    "    1 <= nums[i] <= 104\n",
    "\n"
   ]
  },
  {
   "cell_type": "code",
   "execution_count": 12,
   "id": "bd74f273-7c91-4d51-8b8f-87f908c317b1",
   "metadata": {},
   "outputs": [],
   "source": [
    "from typing import List\n",
    "\n",
    "class Solution:\n",
    "    def maximumUniqueSubarray(self, nums: List[int]) -> int:\n",
    "        l = 0\n",
    "        elems = set()\n",
    "        max_sum = 0\n",
    "        curr_sum = 0\n",
    "        for r in range(len(nums)):\n",
    "            if nums[r] not in elems:\n",
    "                elems.add(nums[r])\n",
    "                curr_sum += nums[r]\n",
    "            else:\n",
    "                while nums[l] != nums[r]:\n",
    "                    curr_sum -= nums[l]\n",
    "                    elems.discard(nums[l])\n",
    "                    l += 1\n",
    "                l += 1\n",
    "            max_sum = max(max_sum, curr_sum)\n",
    "        return max_sum"
   ]
  },
  {
   "cell_type": "code",
   "execution_count": 8,
   "id": "0a242ce9-8e28-4347-a6d6-1ea4b0002bf9",
   "metadata": {},
   "outputs": [],
   "source": [
    "from typing import List\n",
    "\n",
    "class Solution:\n",
    "    def maximumUniqueSubarray(self, nums: List[int]) -> int:\n",
    "        l = 0\n",
    "        max_sum = 0\n",
    "        for r in range(len(nums)):\n",
    "            while len(nums[l: r + 1]) != len(set(nums[l: r + 1])):\n",
    "                l += 1\n",
    "            max_sum = max(sum(nums[l: r + 1]), max_sum)\n",
    "        return max_sum"
   ]
  },
  {
   "cell_type": "code",
   "execution_count": 13,
   "id": "f5b8366f-f07b-4c86-ba45-ba80209cd66c",
   "metadata": {},
   "outputs": [
    {
     "data": {
      "text/plain": [
       "17"
      ]
     },
     "execution_count": 13,
     "metadata": {},
     "output_type": "execute_result"
    }
   ],
   "source": [
    "s = Solution()\n",
    "s.maximumUniqueSubarray([4,2,4,5,6])"
   ]
  },
  {
   "cell_type": "code",
   "execution_count": 14,
   "id": "6376880a-b07c-4d05-a13c-a9f7a3b0d6a9",
   "metadata": {},
   "outputs": [
    {
     "data": {
      "text/plain": [
       "8"
      ]
     },
     "execution_count": 14,
     "metadata": {},
     "output_type": "execute_result"
    }
   ],
   "source": [
    "s.maximumUniqueSubarray([5,2,1,2,5,2,1,2,5])"
   ]
  },
  {
   "cell_type": "code",
   "execution_count": 15,
   "id": "bb5c71f3-b82b-4518-861c-92433080669a",
   "metadata": {},
   "outputs": [
    {
     "data": {
      "text/plain": [
       "16911"
      ]
     },
     "execution_count": 15,
     "metadata": {},
     "output_type": "execute_result"
    }
   ],
   "source": [
    "s.maximumUniqueSubarray([187,470,25,436,538,809,441,167,477,110,275,133,666,345,411,459,490,266,987,965,429,166,809,340,467,318,125,165,809,610,31,585,970,306,42,189,169,743,78,810,70,382,367,490,787,670,476,278,775,673,299,19,893,817,971,458,409,886,434])\n",
    "# 16911"
   ]
  },
  {
   "cell_type": "code",
   "execution_count": null,
   "id": "c502f225-2f8b-47c2-b047-c876d55a9081",
   "metadata": {},
   "outputs": [],
   "source": []
  }
 ],
 "metadata": {
  "kernelspec": {
   "display_name": "Python 3 (ipykernel)",
   "language": "python",
   "name": "python3"
  },
  "language_info": {
   "codemirror_mode": {
    "name": "ipython",
    "version": 3
   },
   "file_extension": ".py",
   "mimetype": "text/x-python",
   "name": "python",
   "nbconvert_exporter": "python",
   "pygments_lexer": "ipython3",
   "version": "3.9.10"
  }
 },
 "nbformat": 4,
 "nbformat_minor": 5
}
