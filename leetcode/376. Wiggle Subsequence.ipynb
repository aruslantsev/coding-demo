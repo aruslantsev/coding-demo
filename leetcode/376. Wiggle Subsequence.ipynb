{
 "cells": [
  {
   "cell_type": "markdown",
   "id": "bc5c9b4a",
   "metadata": {},
   "source": [
    "A wiggle sequence is a sequence where the differences between successive numbers strictly alternate between positive and negative. The first difference (if one exists) may be either positive or negative. A sequence with one element and a sequence with two non-equal elements are trivially wiggle sequences.\n",
    "\n",
    "For example, [1, 7, 4, 9, 2, 5] is a wiggle sequence because the differences (6, -3, 5, -7, 3) alternate between positive and negative.\n",
    "In contrast, [1, 4, 7, 2, 5] and [1, 7, 4, 5, 5] are not wiggle sequences. The first is not because its first two differences are positive, and the second is not because its last difference is zero.\n",
    "A subsequence is obtained by deleting some elements (possibly zero) from the original sequence, leaving the remaining elements in their original order.\n",
    "\n",
    "Given an integer array nums, return the length of the longest wiggle subsequence of nums.\n",
    "\n",
    " \n",
    "\n",
    "Example 1:\n",
    "\n",
    "Input: nums = [1,7,4,9,2,5]\n",
    "Output: 6\n",
    "Explanation: The entire sequence is a wiggle sequence with differences (6, -3, 5, -7, 3).\n",
    "Example 2:\n",
    "\n",
    "Input: nums = [1,17,5,10,13,15,10,5,16,8]\n",
    "Output: 7\n",
    "Explanation: There are several subsequences that achieve this length.\n",
    "One is [1, 17, 10, 13, 10, 16, 8] with differences (16, -7, 3, -3, 6, -8).\n",
    "Example 3:\n",
    "\n",
    "Input: nums = [1,2,3,4,5,6,7,8,9]\n",
    "Output: 2\n",
    " \n",
    "\n",
    "Constraints:\n",
    "\n",
    "1 <= nums.length <= 1000\n",
    "0 <= nums[i] <= 1000"
   ]
  },
  {
   "cell_type": "code",
   "execution_count": 8,
   "id": "a41601fa",
   "metadata": {},
   "outputs": [],
   "source": [
    "from typing import List\n",
    "\n",
    "class Solution:\n",
    "    def wiggleMaxLength(self, nums: List[int]) -> int:\n",
    "        if len(nums) <= 2:\n",
    "            return len(nums)\n",
    "        diff = []\n",
    "        for i in range(1, len(nums)):\n",
    "            diff.append(nums[i] - nums[i - 1])\n",
    "            \n",
    "        print(diff)\n",
    "        \n",
    "        max_len = 1\n",
    "        curr_len = 1\n",
    "        for i in range(1, len(diff)):\n",
    "            if (\n",
    "                (diff[i] > 0 and diff[i - 1] < 0)\n",
    "                or (diff[i] < 0 and diff[i - 1] > 0)\n",
    "            ):\n",
    "                curr_len += 1\n",
    "            else:\n",
    "                max_len = max(curr_len, max_len)\n",
    "                curr_len = 1\n",
    "                \n",
    "        max_len = max(curr_len, max_len)\n",
    "        return max_len + 1"
   ]
  },
  {
   "cell_type": "code",
   "execution_count": 28,
   "id": "5fdc8093",
   "metadata": {},
   "outputs": [],
   "source": [
    "from typing import List\n",
    "from functools import cache\n",
    "\n",
    "class Solution:\n",
    "    def wiggleMaxLength(self, nums: List[int]) -> int:\n",
    "        self.nums = nums\n",
    "        \n",
    "        @cache\n",
    "        def max_wiggle_sqeuence(start_idx, gt):\n",
    "            maxlen = 0\n",
    "            for i in range(start_idx + 1, len(self.nums)):\n",
    "                if (\n",
    "                    (gt and self.nums[i] > self.nums[start_idx])\n",
    "                    or (not gt and self.nums[i] < self.nums[start_idx])\n",
    "                ):\n",
    "                    maxlen = max(maxlen, 1 + max_wiggle_sqeuence(i, not gt))\n",
    "            return maxlen\n",
    "        \n",
    "        if len(nums) == 1:\n",
    "            return len(nums)\n",
    "        \n",
    "        return 1 + max([max_wiggle_sqeuence(0, True), max_wiggle_sqeuence(0, False)])"
   ]
  },
  {
   "cell_type": "code",
   "execution_count": 29,
   "id": "eff61689",
   "metadata": {},
   "outputs": [
    {
     "data": {
      "text/plain": [
       "6"
      ]
     },
     "execution_count": 29,
     "metadata": {},
     "output_type": "execute_result"
    }
   ],
   "source": [
    "s = Solution()\n",
    "s.wiggleMaxLength([1,7,4,9,2,5])"
   ]
  },
  {
   "cell_type": "code",
   "execution_count": 30,
   "id": "9b3372e2",
   "metadata": {},
   "outputs": [
    {
     "data": {
      "text/plain": [
       "7"
      ]
     },
     "execution_count": 30,
     "metadata": {},
     "output_type": "execute_result"
    }
   ],
   "source": [
    "s.wiggleMaxLength([1,17,5,10,13,15,10,5,16,8])"
   ]
  },
  {
   "cell_type": "code",
   "execution_count": 31,
   "id": "315b9512",
   "metadata": {},
   "outputs": [
    {
     "data": {
      "text/plain": [
       "1"
      ]
     },
     "execution_count": 31,
     "metadata": {},
     "output_type": "execute_result"
    }
   ],
   "source": [
    "s.wiggleMaxLength([0, 0])"
   ]
  },
  {
   "cell_type": "code",
   "execution_count": null,
   "id": "8ab81969",
   "metadata": {},
   "outputs": [],
   "source": []
  }
 ],
 "metadata": {
  "kernelspec": {
   "display_name": "Python 3 (ipykernel)",
   "language": "python",
   "name": "python3"
  },
  "language_info": {
   "codemirror_mode": {
    "name": "ipython",
    "version": 3
   },
   "file_extension": ".py",
   "mimetype": "text/x-python",
   "name": "python",
   "nbconvert_exporter": "python",
   "pygments_lexer": "ipython3",
   "version": "3.9.12"
  }
 },
 "nbformat": 4,
 "nbformat_minor": 5
}
