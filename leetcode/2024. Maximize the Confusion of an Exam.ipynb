{
 "cells": [
  {
   "cell_type": "markdown",
   "id": "05a3ac54-d365-4a61-94b1-42e11b9ce1bb",
   "metadata": {},
   "source": [
    "A teacher is writing a test with n true/false questions, with 'T' denoting true and 'F' denoting false. He wants to confuse the students by maximizing the number of consecutive questions with the same answer (multiple trues or multiple falses in a row).\n",
    "\n",
    "You are given a string answerKey, where answerKey[i] is the original answer to the ith question. In addition, you are given an integer k, the maximum number of times you may perform the following operation:\n",
    "\n",
    "    Change the answer key for any question to 'T' or 'F' (i.e., set answerKey[i] to 'T' or 'F').\n",
    "\n",
    "Return the maximum number of consecutive 'T's or 'F's in the answer key after performing the operation at most k times.\n",
    "\n",
    " \n",
    "\n",
    "Example 1:\n",
    "\n",
    "Input: answerKey = \"TTFF\", k = 2\n",
    "Output: 4\n",
    "Explanation: We can replace both the 'F's with 'T's to make answerKey = \"TTTT\".\n",
    "There are four consecutive 'T's.\n",
    "\n",
    "Example 2:\n",
    "\n",
    "Input: answerKey = \"TFFT\", k = 1\n",
    "Output: 3\n",
    "Explanation: We can replace the first 'T' with an 'F' to make answerKey = \"FFFT\".\n",
    "Alternatively, we can replace the second 'T' with an 'F' to make answerKey = \"TFFF\".\n",
    "In both cases, there are three consecutive 'F's.\n",
    "\n",
    "Example 3:\n",
    "\n",
    "Input: answerKey = \"TTFTTFTT\", k = 1\n",
    "Output: 5\n",
    "Explanation: We can replace the first 'F' to make answerKey = \"TTTTTFTT\"\n",
    "Alternatively, we can replace the second 'F' to make answerKey = \"TTFTTTTT\". \n",
    "In both cases, there are five consecutive 'T's.\n",
    "\n",
    " \n",
    "\n",
    "Constraints:\n",
    "\n",
    "    n == answerKey.length\n",
    "    1 <= n <= 5 * 104\n",
    "    answerKey[i] is either 'T' or 'F'\n",
    "    1 <= k <= n\n",
    "\n"
   ]
  },
  {
   "cell_type": "code",
   "execution_count": null,
   "id": "7cca22e3-8df2-4b79-aabd-c5e3afa80083",
   "metadata": {},
   "outputs": [],
   "source": [
    "class Solution:\n",
    "    def maxConsecutiveAnswers(self, answerKey: str, k: int) -> int:\n",
    "        max_size = k\n",
    "        count = collections.Counter(answerKey[:k])\n",
    "        \n",
    "        left = 0\n",
    "        for right in range(k, len(answerKey)):\n",
    "            count[answerKey[right]] += 1\n",
    "            \n",
    "            while min(count['T'], count['F']) > k: \n",
    "                count[answerKey[left]] -= 1\n",
    "                left += 1\n",
    "            \n",
    "            max_size = max(max_size, right - left + 1)\n",
    "                    \n",
    "        return max_size\n",
    "            "
   ]
  }
 ],
 "metadata": {
  "kernelspec": {
   "display_name": "Python 3 (ipykernel)",
   "language": "python",
   "name": "python3"
  },
  "language_info": {
   "codemirror_mode": {
    "name": "ipython",
    "version": 3
   },
   "file_extension": ".py",
   "mimetype": "text/x-python",
   "name": "python",
   "nbconvert_exporter": "python",
   "pygments_lexer": "ipython3",
   "version": "3.10.11"
  }
 },
 "nbformat": 4,
 "nbformat_minor": 5
}
