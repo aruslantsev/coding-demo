{
 "cells": [
  {
   "cell_type": "markdown",
   "id": "71ddc63e-0764-44c0-be99-d20c6abfc4c0",
   "metadata": {},
   "source": [
    "You have an initial power of power, an initial score of 0, and a bag of tokens where tokens[i] is the value of the ith token (0-indexed).\n",
    "\n",
    "Your goal is to maximize your total score by potentially playing each token in one of two ways:\n",
    "\n",
    "    If your current power is at least tokens[i], you may play the ith token face up, losing tokens[i] power and gaining 1 score.\n",
    "    If your current score is at least 1, you may play the ith token face down, gaining tokens[i] power and losing 1 score.\n",
    "\n",
    "Each token may be played at most once and in any order. You do not have to play all the tokens.\n",
    "\n",
    "Return the largest possible score you can achieve after playing any number of tokens.\n",
    "\n",
    " \n",
    "\n",
    "Example 1:\n",
    "\n",
    "Input: tokens = [100], power = 50\n",
    "Output: 0\n",
    "Explanation: Playing the only token in the bag is impossible because you either have too little power or too little score.\n",
    "\n",
    "Example 2:\n",
    "\n",
    "Input: tokens = [100,200], power = 150\n",
    "Output: 1\n",
    "Explanation: Play the 0th token (100) face up, your power becomes 50 and score becomes 1.\n",
    "There is no need to play the 1st token since you cannot play it face up to add to your score.\n",
    "\n",
    "Example 3:\n",
    "\n",
    "Input: tokens = [100,200,300,400], power = 200\n",
    "Output: 2\n",
    "Explanation: Play the tokens in this order to get a score of 2:\n",
    "1. Play the 0th token (100) face up, your power becomes 100 and score becomes 1.\n",
    "2. Play the 3rd token (400) face down, your power becomes 500 and score becomes 0.\n",
    "3. Play the 1st token (200) face up, your power becomes 300 and score becomes 1.\n",
    "4. Play the 2nd token (300) face up, your power becomes 0 and score becomes 2.\n",
    "\n",
    " \n",
    "\n",
    "Constraints:\n",
    "\n",
    "    0 <= tokens.length <= 1000\n",
    "    0 <= tokens[i], power < 104\n",
    "\n"
   ]
  },
  {
   "cell_type": "code",
   "execution_count": 16,
   "id": "9e1777ab-6caa-4cfa-af10-83a7a5eac617",
   "metadata": {},
   "outputs": [],
   "source": [
    "from typing import List\n",
    "\n",
    "class Solution:\n",
    "    def bagOfTokensScore(self, tokens: List[int], power: int) -> int:\n",
    "        tokens = sorted(tokens)\n",
    "        score = 0\n",
    "        maxscore = score\n",
    "        while tokens:\n",
    "            while tokens and power >= tokens[0]:\n",
    "                power -= tokens[0]\n",
    "                tokens.pop(0)\n",
    "                score += 1\n",
    "            \n",
    "            if score > maxscore:\n",
    "                maxscore = score\n",
    "                \n",
    "            if tokens and score > 0:\n",
    "                power += tokens[-1]\n",
    "                tokens.pop()\n",
    "                score -= 1\n",
    "                \n",
    "            if tokens and tokens[0] > power and score == 0:\n",
    "                break\n",
    "                \n",
    "        return maxscore"
   ]
  },
  {
   "cell_type": "code",
   "execution_count": 17,
   "id": "f45702de-b650-4fb5-a998-d31f89978fa7",
   "metadata": {},
   "outputs": [
    {
     "data": {
      "text/plain": [
       "0"
      ]
     },
     "execution_count": 17,
     "metadata": {},
     "output_type": "execute_result"
    }
   ],
   "source": [
    "s = Solution()\n",
    "s.bagOfTokensScore([100], 50)"
   ]
  },
  {
   "cell_type": "code",
   "execution_count": 18,
   "id": "a3d0110e-3323-400a-836b-0a43108833dc",
   "metadata": {},
   "outputs": [
    {
     "data": {
      "text/plain": [
       "1"
      ]
     },
     "execution_count": 18,
     "metadata": {},
     "output_type": "execute_result"
    }
   ],
   "source": [
    "s.bagOfTokensScore([100], 150)"
   ]
  },
  {
   "cell_type": "code",
   "execution_count": 19,
   "id": "4a2e2f5f-f59e-4144-a199-addad52cd7ec",
   "metadata": {},
   "outputs": [
    {
     "data": {
      "text/plain": [
       "1"
      ]
     },
     "execution_count": 19,
     "metadata": {},
     "output_type": "execute_result"
    }
   ],
   "source": [
    "s.bagOfTokensScore([100, 200], 150)"
   ]
  },
  {
   "cell_type": "code",
   "execution_count": 20,
   "id": "5122bd9b-acfb-413c-9872-c48d8be81f8f",
   "metadata": {},
   "outputs": [
    {
     "data": {
      "text/plain": [
       "2"
      ]
     },
     "execution_count": 20,
     "metadata": {},
     "output_type": "execute_result"
    }
   ],
   "source": [
    "s.bagOfTokensScore([100, 200, 300, 400], 200)"
   ]
  },
  {
   "cell_type": "code",
   "execution_count": null,
   "id": "bb38b14a-5687-485f-8c24-3c8ed30284f5",
   "metadata": {},
   "outputs": [],
   "source": []
  }
 ],
 "metadata": {
  "kernelspec": {
   "display_name": "Python 3 (ipykernel)",
   "language": "python",
   "name": "python3"
  },
  "language_info": {
   "codemirror_mode": {
    "name": "ipython",
    "version": 3
   },
   "file_extension": ".py",
   "mimetype": "text/x-python",
   "name": "python",
   "nbconvert_exporter": "python",
   "pygments_lexer": "ipython3",
   "version": "3.9.12"
  }
 },
 "nbformat": 4,
 "nbformat_minor": 5
}
