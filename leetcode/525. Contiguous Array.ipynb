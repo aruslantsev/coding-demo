{
 "cells": [
  {
   "cell_type": "markdown",
   "id": "fe7cda9f-fc2d-462d-b7fb-c1ad9d035345",
   "metadata": {},
   "source": [
    "Given a binary array nums, return the maximum length of a contiguous subarray with an equal number of 0 and 1.\n",
    "\n",
    " \n",
    "\n",
    "Example 1:\n",
    "\n",
    "Input: nums = [0,1]\n",
    "Output: 2\n",
    "Explanation: [0, 1] is the longest contiguous subarray with an equal number of 0 and 1.\n",
    "\n",
    "Example 2:\n",
    "\n",
    "Input: nums = [0,1,0]\n",
    "Output: 2\n",
    "Explanation: [0, 1] (or [1, 0]) is a longest contiguous subarray with equal number of 0 and 1.\n",
    "\n",
    " \n",
    "\n",
    "Constraints:\n",
    "\n",
    "    1 <= nums.length <= 105\n",
    "    nums[i] is either 0 or 1.\n",
    "\n"
   ]
  },
  {
   "cell_type": "code",
   "execution_count": 129,
   "id": "76c260c4-db00-40c9-a877-8e5359f57f7e",
   "metadata": {},
   "outputs": [],
   "source": [
    "from typing import List\n",
    "\n",
    "class Solution:\n",
    "    def findMaxLength(self, nums: List[int]) -> int:\n",
    "        # if (sum(nums) == 0) or (sum(nums) == len(nums)):\n",
    "        #     return 0\n",
    "        hm = {0: -1}\n",
    "        f = lambda x: -1 if x == 0 else 1\n",
    "        s = 0\n",
    "        maxdist = 0\n",
    "        for i, n in enumerate(nums):\n",
    "            s = s + f(n)\n",
    "            if s not in hm:\n",
    "                hm[s] = i\n",
    "            else:\n",
    "                maxdist = max(maxdist, i - hm[s])\n",
    "            \n",
    "        return maxdist"
   ]
  },
  {
   "cell_type": "code",
   "execution_count": 130,
   "id": "b12a750f-008d-494a-87c7-61662fd93c07",
   "metadata": {},
   "outputs": [
    {
     "data": {
      "text/plain": [
       "4"
      ]
     },
     "execution_count": 130,
     "metadata": {},
     "output_type": "execute_result"
    }
   ],
   "source": [
    "s = Solution()\n",
    "s.findMaxLength([0,1,1,0,1,1,1,0])"
   ]
  },
  {
   "cell_type": "code",
   "execution_count": 131,
   "id": "73767907-1a78-4d8c-82e9-b042ed0ca34a",
   "metadata": {},
   "outputs": [
    {
     "data": {
      "text/plain": [
       "4"
      ]
     },
     "execution_count": 131,
     "metadata": {},
     "output_type": "execute_result"
    }
   ],
   "source": [
    "s = Solution()\n",
    "s.findMaxLength([0,1,1,0,1,1,1,0][::-1])"
   ]
  },
  {
   "cell_type": "code",
   "execution_count": 132,
   "id": "a9e3042d-09e9-41f8-b180-a71b9adb704b",
   "metadata": {},
   "outputs": [
    {
     "data": {
      "text/plain": [
       "2"
      ]
     },
     "execution_count": 132,
     "metadata": {},
     "output_type": "execute_result"
    }
   ],
   "source": [
    "s.findMaxLength([1, 0])"
   ]
  },
  {
   "cell_type": "code",
   "execution_count": 133,
   "id": "aaaa2b63-67f1-44f1-8fe4-20f3fdd4039e",
   "metadata": {},
   "outputs": [
    {
     "data": {
      "text/plain": [
       "2"
      ]
     },
     "execution_count": 133,
     "metadata": {},
     "output_type": "execute_result"
    }
   ],
   "source": [
    "s.findMaxLength([0, 1, 0])"
   ]
  },
  {
   "cell_type": "code",
   "execution_count": null,
   "id": "4213ce71-58ea-4c97-9b54-8c8c95dc1e7c",
   "metadata": {},
   "outputs": [],
   "source": []
  }
 ],
 "metadata": {
  "kernelspec": {
   "display_name": "Python 3 (ipykernel)",
   "language": "python",
   "name": "python3"
  },
  "language_info": {
   "codemirror_mode": {
    "name": "ipython",
    "version": 3
   },
   "file_extension": ".py",
   "mimetype": "text/x-python",
   "name": "python",
   "nbconvert_exporter": "python",
   "pygments_lexer": "ipython3",
   "version": "3.9.10"
  }
 },
 "nbformat": 4,
 "nbformat_minor": 5
}
