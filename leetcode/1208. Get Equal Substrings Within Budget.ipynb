{
 "cells": [
  {
   "cell_type": "markdown",
   "id": "a7fc8d15-4fbe-4d35-bded-fa5a6037370f",
   "metadata": {},
   "source": [
    "You are given two strings s and t of the same length and an integer maxCost.\n",
    "\n",
    "You want to change s to t. Changing the ith character of s to ith character of t costs |s[i] - t[i]| (i.e., the absolute difference between the ASCII values of the characters).\n",
    "\n",
    "Return the maximum length of a substring of s that can be changed to be the same as the corresponding substring of t with a cost less than or equal to maxCost. If there is no substring from s that can be changed to its corresponding substring from t, return 0.\n",
    "\n",
    " \n",
    "\n",
    "Example 1:\n",
    "\n",
    "Input: s = \"abcd\", t = \"bcdf\", maxCost = 3\n",
    "Output: 3\n",
    "Explanation: \"abc\" of s can change to \"bcd\".\n",
    "That costs 3, so the maximum length is 3.\n",
    "\n",
    "Example 2:\n",
    "\n",
    "Input: s = \"abcd\", t = \"cdef\", maxCost = 3\n",
    "Output: 1\n",
    "Explanation: Each character in s costs 2 to change to character in t,  so the maximum length is 1.\n",
    "\n",
    "Example 3:\n",
    "\n",
    "Input: s = \"abcd\", t = \"acde\", maxCost = 0\n",
    "Output: 1\n",
    "Explanation: You cannot make any change, so the maximum length is 1.\n",
    "\n",
    " \n",
    "\n",
    "Constraints:\n",
    "\n",
    "    1 <= s.length <= 105\n",
    "    t.length == s.length\n",
    "    0 <= maxCost <= 106\n",
    "    s and t consist of only lowercase English letters.\n",
    "\n"
   ]
  },
  {
   "cell_type": "code",
   "execution_count": null,
   "id": "921d2117-6eb0-48a3-bd46-3b5b834111d1",
   "metadata": {},
   "outputs": [],
   "source": [
    "class Solution:\n",
    "    def equalSubstring(self, s: str, t: str, maxCost: int) -> int:\n",
    "        N = len(s)\n",
    "        \n",
    "        max_len = 0\n",
    "        start = 0\n",
    "        curr_cost = 0\n",
    "        \n",
    "        for i in range(N):\n",
    "            curr_cost += abs(ord(s[i]) - ord(t[i]))\n",
    "            while curr_cost > maxCost:\n",
    "                curr_cost -= abs(ord(s[start]) - ord(t[start]))\n",
    "                start += 1\n",
    "            max_len = max(max_len, i - start + 1)\n",
    "        \n",
    "        return max_len"
   ]
  }
 ],
 "metadata": {
  "kernelspec": {
   "display_name": "Python 3 (ipykernel)",
   "language": "python",
   "name": "python3"
  },
  "language_info": {
   "codemirror_mode": {
    "name": "ipython",
    "version": 3
   },
   "file_extension": ".py",
   "mimetype": "text/x-python",
   "name": "python",
   "nbconvert_exporter": "python",
   "pygments_lexer": "ipython3",
   "version": "3.12.3"
  }
 },
 "nbformat": 4,
 "nbformat_minor": 5
}
