{
 "cells": [
  {
   "cell_type": "markdown",
   "id": "782aa6d4",
   "metadata": {},
   "source": [
    "Given a string s, return true if the s can be palindrome after deleting at most one character from it.\n",
    "\n",
    " \n",
    "\n",
    "Example 1:\n",
    "\n",
    "Input: s = \"aba\"\n",
    "Output: true\n",
    "\n",
    "Example 2:\n",
    "\n",
    "Input: s = \"abca\"\n",
    "Output: true\n",
    "Explanation: You could delete the character 'c'.\n",
    "\n",
    "Example 3:\n",
    "\n",
    "Input: s = \"abc\"\n",
    "Output: false\n",
    "\n",
    " \n",
    "\n",
    "Constraints:\n",
    "\n",
    "    1 <= s.length <= 105\n",
    "    s consists of lowercase English letters.\n",
    "\n"
   ]
  },
  {
   "cell_type": "code",
   "execution_count": 48,
   "id": "3d02bbfb",
   "metadata": {},
   "outputs": [],
   "source": [
    "class Solution:\n",
    "    def validPalindrome(self, s: str) -> bool:\n",
    "        l = 0\n",
    "        r = len(s) - 1\n",
    "        err = 0\n",
    "        def test_palindrome(s, l, r, e):\n",
    "            if e > 1:\n",
    "                return False\n",
    "            while l < r:\n",
    "                if s[l] != s[r]:\n",
    "                    cands = []\n",
    "                    if (l + 1) < len(s):\n",
    "                        cands.append(test_palindrome(s, l + 1, r, e + 1))\n",
    "                    if r - 1 >= 0: \n",
    "                        cands.append(test_palindrome(s, l, r - 1, e + 1))\n",
    "                    return any(cands)\n",
    "            \n",
    "                l += 1\n",
    "                r -= 1\n",
    "            return True\n",
    "        \n",
    "        return test_palindrome(s, l, r, err)\n",
    "                "
   ]
  },
  {
   "cell_type": "code",
   "execution_count": 67,
   "id": "0e80b061",
   "metadata": {},
   "outputs": [],
   "source": [
    "class Solution(object):\n",
    "    def validPalindrome(self, s):\n",
    "        l = 0\n",
    "        r = len(s) - 1\n",
    "        while l < r:\n",
    "            if s[l] != s[r]:\n",
    "                # current string: s[l: r + 1]\n",
    "                return s[l:r] == s[l:r][::-1] or s[l + 1: r + 1] == s[l + 1: r + 1][::-1]\n",
    "                \n",
    "            l += 1\n",
    "            r -= 1\n",
    "            \n",
    "        return True"
   ]
  },
  {
   "cell_type": "code",
   "execution_count": 68,
   "id": "f9390f7e",
   "metadata": {},
   "outputs": [
    {
     "data": {
      "text/plain": [
       "True"
      ]
     },
     "execution_count": 68,
     "metadata": {},
     "output_type": "execute_result"
    }
   ],
   "source": [
    "s = Solution()\n",
    "s.validPalindrome(\"aba\")"
   ]
  },
  {
   "cell_type": "code",
   "execution_count": 69,
   "id": "c29a1941",
   "metadata": {},
   "outputs": [
    {
     "data": {
      "text/plain": [
       "True"
      ]
     },
     "execution_count": 69,
     "metadata": {},
     "output_type": "execute_result"
    }
   ],
   "source": [
    "s.validPalindrome(\"abca\")"
   ]
  },
  {
   "cell_type": "code",
   "execution_count": 70,
   "id": "ca80e6d5",
   "metadata": {},
   "outputs": [
    {
     "data": {
      "text/plain": [
       "False"
      ]
     },
     "execution_count": 70,
     "metadata": {},
     "output_type": "execute_result"
    }
   ],
   "source": [
    "s.validPalindrome(\"abc\")"
   ]
  },
  {
   "cell_type": "code",
   "execution_count": 71,
   "id": "1c1a50d9",
   "metadata": {},
   "outputs": [
    {
     "data": {
      "text/plain": [
       "False"
      ]
     },
     "execution_count": 71,
     "metadata": {},
     "output_type": "execute_result"
    }
   ],
   "source": [
    "s.validPalindrome(\"acabc\")"
   ]
  },
  {
   "cell_type": "code",
   "execution_count": 72,
   "id": "93c2d446",
   "metadata": {},
   "outputs": [
    {
     "data": {
      "text/plain": [
       "True"
      ]
     },
     "execution_count": 72,
     "metadata": {},
     "output_type": "execute_result"
    }
   ],
   "source": [
    "s.validPalindrome(\"aguokepatgbnvfqmgmlcupuufxoohdfpgjdmysgvhmvffcnqxjjxqncffvmhvgsymdjgpfdhooxfuupuculmgmqfvnbgtapekouga\")"
   ]
  },
  {
   "cell_type": "code",
   "execution_count": null,
   "id": "e9085270",
   "metadata": {},
   "outputs": [],
   "source": []
  }
 ],
 "metadata": {
  "kernelspec": {
   "display_name": "Python 3 (ipykernel)",
   "language": "python",
   "name": "python3"
  },
  "language_info": {
   "codemirror_mode": {
    "name": "ipython",
    "version": 3
   },
   "file_extension": ".py",
   "mimetype": "text/x-python",
   "name": "python",
   "nbconvert_exporter": "python",
   "pygments_lexer": "ipython3",
   "version": "3.9.10"
  }
 },
 "nbformat": 4,
 "nbformat_minor": 5
}
