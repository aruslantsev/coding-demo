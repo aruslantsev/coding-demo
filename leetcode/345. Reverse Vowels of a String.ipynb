{
 "cells": [
  {
   "cell_type": "markdown",
   "id": "75a26491-775f-445c-a8b3-3bf749a18261",
   "metadata": {},
   "source": [
    "Given a string s, reverse only all the vowels in the string and return it.\n",
    "\n",
    "The vowels are 'a', 'e', 'i', 'o', and 'u', and they can appear in both lower and upper cases, more than once.\n",
    "\n",
    " \n",
    "\n",
    "Example 1:\n",
    "\n",
    "Input: s = \"hello\"\n",
    "Output: \"holle\"\n",
    "\n",
    "Example 2:\n",
    "\n",
    "Input: s = \"leetcode\"\n",
    "Output: \"leotcede\"\n",
    "\n",
    " \n",
    "\n",
    "Constraints:\n",
    "\n",
    "    1 <= s.length <= 3 * 105\n",
    "    s consist of printable ASCII characters.\n",
    "\n"
   ]
  },
  {
   "cell_type": "code",
   "execution_count": null,
   "id": "ac83b336-7472-46bc-950f-c97165333f65",
   "metadata": {},
   "outputs": [],
   "source": [
    "class Solution:\n",
    "    def reverseVowels(self, s: str) -> str:\n",
    "        vowels_alpha = {'a', 'e', 'i', 'o', 'u'}\n",
    "        vowels = [letter for letter in s[::-1] if letter.lower() in vowels_alpha]\n",
    "        s = list(s)\n",
    "        pos = 0\n",
    "        for i, letter in enumerate(s):\n",
    "            if letter.lower() in vowels_alpha:\n",
    "                s[i] = vowels[pos]\n",
    "                pos += 1\n",
    "\n",
    "        return ''.join(s)"
   ]
  }
 ],
 "metadata": {
  "kernelspec": {
   "display_name": "Python 3 (ipykernel)",
   "language": "python",
   "name": "python3"
  },
  "language_info": {
   "codemirror_mode": {
    "name": "ipython",
    "version": 3
   },
   "file_extension": ".py",
   "mimetype": "text/x-python",
   "name": "python",
   "nbconvert_exporter": "python",
   "pygments_lexer": "ipython3",
   "version": "3.9.13"
  }
 },
 "nbformat": 4,
 "nbformat_minor": 5
}
