{
 "cells": [
  {
   "cell_type": "markdown",
   "id": "ac6aa797-9e4a-4aa0-927e-a7c380d62760",
   "metadata": {},
   "source": [
    "You are given a string s. It may contain any number of '*' characters. Your task is to remove all '*' characters.\n",
    "\n",
    "While there is a '*', do the following operation:\n",
    "\n",
    "    Delete the leftmost '*' and the smallest non-'*' character to its left. If there are several smallest characters, you can delete any of them.\n",
    "\n",
    "Return the\n",
    "\n",
    "resulting string after removing all '*' characters.\n",
    "\n",
    " \n",
    "\n",
    "Example 1:\n",
    "\n",
    "Input: s = \"aaba*\"\n",
    "\n",
    "Output: \"aab\"\n",
    "\n",
    "Explanation:\n",
    "\n",
    "We should delete one of the 'a' characters with '*'. If we choose s[3], s becomes the lexicographically smallest.\n",
    "\n",
    "Example 2:\n",
    "\n",
    "Input: s = \"abc\"\n",
    "\n",
    "Output: \"abc\"\n",
    "\n",
    "Explanation:\n",
    "\n",
    "There is no '*' in the string.\n",
    "\n",
    " \n",
    "\n",
    "Constraints:\n",
    "\n",
    "    1 <= s.length <= 105\n",
    "    s consists only of lowercase English letters and '*'.\n",
    "    The input is generated such that it is possible to delete all '*' characters.\n"
   ]
  },
  {
   "cell_type": "code",
   "execution_count": null,
   "id": "e9ce39b4-2007-48ec-9630-ce3f951e004a",
   "metadata": {},
   "outputs": [],
   "source": [
    "class Solution:\n",
    "    def clearStars(self, s: str) -> str:\n",
    "        h = []\n",
    "        arr = list(s)\n",
    "        for i, sym in enumerate(s):\n",
    "            if sym != \"*\":\n",
    "                heapq.heappush(h, (sym, -i))\n",
    "            else:\n",
    "                _, pos = heapq.heappop(h)\n",
    "                arr[-pos] = \"*\"\n",
    "        return \"\".join(sym for sym in arr if sym != \"*\")"
   ]
  },
  {
   "cell_type": "code",
   "execution_count": null,
   "id": "9fb7d333-c7a7-4532-85cd-198df40f83b1",
   "metadata": {},
   "outputs": [],
   "source": [
    "class Solution:\n",
    "    def clearStars(self, s: str) -> str:\n",
    "        syms = [[] for _ in range(26)]\n",
    "        arr = list(s)\n",
    "        for i, sym in enumerate(s):\n",
    "            if sym != \"*\":\n",
    "                syms[ord(sym) - ord(\"a\")].append(i)\n",
    "            else:\n",
    "                for j in range(26):\n",
    "                    if syms[j]:\n",
    "                        arr[syms[j].pop()] = \"*\"\n",
    "                        break\n",
    "        return \"\".join(sym for sym in arr if sym != \"*\")"
   ]
  }
 ],
 "metadata": {
  "kernelspec": {
   "display_name": "Python 3 (ipykernel)",
   "language": "python",
   "name": "python3"
  },
  "language_info": {
   "codemirror_mode": {
    "name": "ipython",
    "version": 3
   },
   "file_extension": ".py",
   "mimetype": "text/x-python",
   "name": "python",
   "nbconvert_exporter": "python",
   "pygments_lexer": "ipython3",
   "version": "3.13.4"
  }
 },
 "nbformat": 4,
 "nbformat_minor": 5
}
