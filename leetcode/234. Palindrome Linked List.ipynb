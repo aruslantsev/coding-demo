{
 "cells": [
  {
   "attachments": {
    "0a477381-6383-42a0-aa67-e2970ea426fc.png": {
     "image/png": "[encoded data removed]"
    },
    "983b5750-7b11-4af0-ab11-f031ac8fffd9.png": {
     "image/png": "[encoded data removed]"
    }
   },
   "cell_type": "markdown",
   "id": "ce3e506a-adf6-4e58-b757-7cbb8902701d",
   "metadata": {},
   "source": [
    "Given the head of a singly linked list, return true if it is a palindrome.\n",
    "\n",
    "\n",
    "Example 1:\n",
    "\n",
    "![изображение.png](attachment:0a477381-6383-42a0-aa67-e2970ea426fc.png)\n",
    "\n",
    "Input: head = [1,2,2,1]\n",
    "Output: true\n",
    "\n",
    "Example 2:\n",
    "\n",
    "![изображение.png](attachment:983b5750-7b11-4af0-ab11-f031ac8fffd9.png)\n",
    "\n",
    "Input: head = [1,2]\n",
    "Output: false\n",
    "\n",
    " \n",
    "\n",
    "Constraints:\n",
    "\n",
    "    The number of nodes in the list is in the range [1, 105].\n",
    "    0 <= Node.val <= 9\n",
    "\n",
    " \n",
    "Follow up: Could you do it in O(n) time and O(1) space?"
   ]
  },
  {
   "cell_type": "code",
   "execution_count": 1,
   "id": "58358f23-c087-4f8b-aae5-270eace0ccd5",
   "metadata": {},
   "outputs": [],
   "source": [
    "from typing import Optional\n",
    "\n",
    "# Definition for singly-linked list.\n",
    "class ListNode:\n",
    "    def __init__(self, val=0, next=None):\n",
    "        self.val = val\n",
    "        self.next = next\n",
    "        \n",
    "class Solution:\n",
    "    def isPalindrome(self, head: Optional[ListNode]) -> bool:\n",
    "        vals = []\n",
    "        while head:\n",
    "            vals.append(head.val)\n",
    "            head = head.next\n",
    "            \n",
    "        return vals == vals[::-1]"
   ]
  },
  {
   "cell_type": "code",
   "execution_count": null,
   "id": "157bad48-1a0e-46d4-b947-81ed920b0c12",
   "metadata": {},
   "outputs": [],
   "source": [
    "# Definition for singly-linked list.\n",
    "# class ListNode:\n",
    "#     def __init__(self, val=0, next=None):\n",
    "#         self.val = val\n",
    "#         self.next = next\n",
    "class Solution:\n",
    "    def isPalindrome(self, head: Optional[ListNode]) -> bool:\n",
    "        slow = fast = head\n",
    "        \n",
    "        # use two pointers (one at double speed), so that when fast reaches the end, slow is exactly at the middle\n",
    "        while fast and fast.next:\n",
    "            fast = fast.next.next\n",
    "            slow = slow.next\n",
    "            \n",
    "        middle = slow\n",
    "        \n",
    "        # reverse from the middle to the end\n",
    "        prev, actual = None, middle\n",
    "        \n",
    "        while actual:\n",
    "            nxt = actual.next\n",
    "            actual.next = prev\n",
    "            prev = actual\n",
    "            actual = nxt\n",
    "        \n",
    "        # prev is the start of the reversed second half\n",
    "        # head is the start of the normal second half\n",
    "        # if we iterate from those starting points, we can compare the values\n",
    "        # like checking if it is a palindrome from the outside to the inside\n",
    "        # Example:\n",
    "        # 1 -> 2 -> 2 -> 1\n",
    "        # After reversing\n",
    "        # 1 -> 2 | 2 <- 1\n",
    "        # if the pointers coincide, they are palindromes\n",
    "        \n",
    "        l, r = head, prev\n",
    "        \n",
    "        while r:\n",
    "            if l.val != r.val:\n",
    "                return False\n",
    "            l = l.next\n",
    "            r = r.next\n",
    "        \n",
    "        return True\n"
   ]
  }
 ],
 "metadata": {
  "kernelspec": {
   "display_name": "Python 3 (ipykernel)",
   "language": "python",
   "name": "python3"
  },
  "language_info": {
   "codemirror_mode": {
    "name": "ipython",
    "version": 3
   },
   "file_extension": ".py",
   "mimetype": "text/x-python",
   "name": "python",
   "nbconvert_exporter": "python",
   "pygments_lexer": "ipython3",
   "version": "3.9.10"
  }
 },
 "nbformat": 4,
 "nbformat_minor": 5
}
