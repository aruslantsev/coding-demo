{
 "cells": [
  {
   "cell_type": "markdown",
   "id": "1ea0ba06-bd60-4d2d-ad79-478f617edd05",
   "metadata": {},
   "source": [
    "You are given an integer array prices where prices[i] is the price of a given stock on the ith day.\n",
    "\n",
    "On each day, you may decide to buy and/or sell the stock. You can only hold at most one share of the stock at any time. However, you can buy it then immediately sell it on the same day.\n",
    "\n",
    "Find and return the maximum profit you can achieve.\n",
    "\n",
    " \n",
    "\n",
    "Example 1:\n",
    "\n",
    "Input: prices = [7,1,5,3,6,4]\n",
    "Output: 7\n",
    "Explanation: Buy on day 2 (price = 1) and sell on day 3 (price = 5), profit = 5-1 = 4.\n",
    "Then buy on day 4 (price = 3) and sell on day 5 (price = 6), profit = 6-3 = 3.\n",
    "Total profit is 4 + 3 = 7.\n",
    "\n",
    "Example 2:\n",
    "\n",
    "Input: prices = [1,2,3,4,5]\n",
    "Output: 4\n",
    "Explanation: Buy on day 1 (price = 1) and sell on day 5 (price = 5), profit = 5-1 = 4.\n",
    "Total profit is 4.\n",
    "\n",
    "Example 3:\n",
    "\n",
    "Input: prices = [7,6,4,3,1]\n",
    "Output: 0\n",
    "Explanation: There is no way to make a positive profit, so we never buy the stock to achieve the maximum profit of 0.\n",
    "\n",
    " \n",
    "\n",
    "Constraints:\n",
    "\n",
    "    1 <= prices.length <= 3 * 104\n",
    "    0 <= prices[i] <= 104\n",
    "\n"
   ]
  },
  {
   "cell_type": "code",
   "execution_count": null,
   "id": "879c5ac8-ec01-487e-81f2-3d707f962331",
   "metadata": {},
   "outputs": [],
   "source": [
    "class Solution:\n",
    "    def maxProfit(self, prices: List[int]) -> int:\n",
    "        @cache\n",
    "        def dp(start, price):\n",
    "            if price == -1:\n",
    "                ans = [dp(i, prices[i]) for i in range(start, len(prices))]\n",
    "                if len(ans) == 0:\n",
    "                    return 0\n",
    "                return max(ans)\n",
    "            else:\n",
    "                ans = []\n",
    "                for i in range(start + 1, len(prices)):\n",
    "                    if prices[i] > price:\n",
    "                        ans.append((prices[i] - price) + dp(i + 1, -1))\n",
    "                if len(ans) == 0:\n",
    "                    return 0\n",
    "                return max(ans)\n",
    "        \n",
    "        return dp(0, -1)\n",
    "        "
   ]
  },
  {
   "cell_type": "markdown",
   "id": "139b74cb-05f9-484c-8623-b04ea14afa89",
   "metadata": {},
   "source": [
    "Define \"Hold\" as the state of holding stock.\n",
    "Define \"NotHold\" as the state of keep cash."
   ]
  },
  {
   "cell_type": "code",
   "execution_count": null,
   "id": "224341da-2c76-4d70-a3e1-51c4e5e1f3dc",
   "metadata": {},
   "outputs": [],
   "source": [
    "class Solution:\n",
    "    def maxProfit(self, prices: List[int]) -> int:\n",
    "        @cache\n",
    "        def trade(day_d):\n",
    "            if day_d == 0:\n",
    "                # Hold on day_#0 = buy stock at the price of day_#0\n",
    "                # Not-hold on day_#0 = doing nothing on day_#0\n",
    "                return -prices[day_d], 0\n",
    "            \n",
    "            prev_hold, prev_not_hold = trade(day_d - 1)\n",
    "            \n",
    "            hold = max(prev_hold, prev_not_hold - prices[day_d])\n",
    "            not_hold = max(prev_not_hold, prev_hold + prices[day_d])\n",
    "            \n",
    "            return hold, not_hold\n",
    "        \n",
    "        last_day = len(prices) - 1\n",
    "        # Max profit must come from not_hold state (i.e., no stock position) on last day\n",
    "        return trade(last_day)[1]"
   ]
  },
  {
   "cell_type": "code",
   "execution_count": null,
   "id": "c05d989f-5f35-4cfe-9b73-99ea8cf1731a",
   "metadata": {},
   "outputs": [],
   "source": [
    "class Solution:\n",
    "    def maxProfit(self, prices: List[int]) -> int:\n",
    "        # It is impossible to sell stock on first day, set -infinity as initial value for cur_hold\n",
    "        cur_hold, cur_not_hold = -float('inf'), 0\n",
    "        for stock_price in prices:\n",
    "            prev_hold, prev_not_hold = cur_hold, cur_not_hold\n",
    "            # either keep hold, or buy in stock today at stock price\n",
    "            cur_hold = max(prev_hold, prev_not_hold - stock_price)\n",
    "            # either keep not-hold, or sell out stock today at stock price\n",
    "            cur_not_hold = max(prev_not_hold, prev_hold + stock_price)\n",
    "            \n",
    "        # maximum profit must be in not-hold state\n",
    "        return cur_not_hold"
   ]
  },
  {
   "cell_type": "code",
   "execution_count": null,
   "id": "003c9723-a806-4390-a491-310a8b8a3150",
   "metadata": {},
   "outputs": [],
   "source": [
    "class Solution:\n",
    "    def maxProfit(self, prices: List[int]) -> int:\n",
    "        return sum([\n",
    "            prices[i] - prices[i - 1] for i in range(1, len(prices)) if prices[i] > prices[i - 1]\n",
    "        ])\n"
   ]
  }
 ],
 "metadata": {
  "kernelspec": {
   "display_name": "common",
   "language": "python",
   "name": "common"
  },
  "language_info": {
   "codemirror_mode": {
    "name": "ipython",
    "version": 3
   },
   "file_extension": ".py",
   "mimetype": "text/x-python",
   "name": "python",
   "nbconvert_exporter": "python",
   "pygments_lexer": "ipython3",
   "version": "3.11.4"
  }
 },
 "nbformat": 4,
 "nbformat_minor": 5
}
