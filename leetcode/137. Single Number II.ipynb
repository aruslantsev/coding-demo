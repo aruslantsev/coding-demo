{
 "cells": [
  {
   "cell_type": "markdown",
   "id": "3abbedab-e26a-4795-a81c-237213e60cf6",
   "metadata": {},
   "source": [
    "Given an integer array nums where every element appears three times except for one, which appears exactly once. Find the single element and return it.\n",
    "\n",
    "You must implement a solution with a linear runtime complexity and use only constant extra space.\n",
    "\n",
    " \n",
    "\n",
    "Example 1:\n",
    "\n",
    "Input: nums = [2,2,3,2]\n",
    "Output: 3\n",
    "\n",
    "Example 2:\n",
    "\n",
    "Input: nums = [0,1,0,1,0,1,99]\n",
    "Output: 99\n",
    "\n",
    " \n",
    "\n",
    "Constraints:\n",
    "\n",
    "    1 <= nums.length <= 3 * 104\n",
    "    -231 <= nums[i] <= 231 - 1\n",
    "    Each element in nums appears exactly three times except for one element which appears once.\n",
    "\n"
   ]
  },
  {
   "cell_type": "code",
   "execution_count": null,
   "id": "665e16c9-82af-41bf-990a-39daae5417d7",
   "metadata": {},
   "outputs": [],
   "source": [
    "class Solution:\n",
    "    def singleNumber(self, nums: List[int]) -> int:\n",
    "        ans = 0\n",
    "\n",
    "        for i in range(32):\n",
    "            bit_sum = 0\n",
    "            for num in nums:\n",
    "                # Convert the number to two's complement representation to handle large test case\n",
    "                if num < 0:\n",
    "                    num = num & (2**32-1)\n",
    "                bit_sum += (num >> i) & 1\n",
    "            bit_sum %= 3\n",
    "            ans |= bit_sum << i\n",
    "\n",
    "        # Convert the result back to two's complement representation if it's negative to handle large test case\n",
    "        if ans >= 2**31:\n",
    "            ans -= 2**32\n",
    "\n",
    "        return ans"
   ]
  }
 ],
 "metadata": {
  "kernelspec": {
   "display_name": "Python 3 (ipykernel)",
   "language": "python",
   "name": "python3"
  },
  "language_info": {
   "codemirror_mode": {
    "name": "ipython",
    "version": 3
   },
   "file_extension": ".py",
   "mimetype": "text/x-python",
   "name": "python",
   "nbconvert_exporter": "python",
   "pygments_lexer": "ipython3",
   "version": "3.10.11"
  }
 },
 "nbformat": 4,
 "nbformat_minor": 5
}
