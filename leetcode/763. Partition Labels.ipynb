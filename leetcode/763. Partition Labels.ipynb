{
 "cells": [
  {
   "cell_type": "markdown",
   "id": "944f7cf0",
   "metadata": {},
   "source": [
    "You are given a string s. We want to partition the string into as many parts as possible so that each letter appears in at most one part.\n",
    "\n",
    "Note that the partition is done so that after concatenating all the parts in order, the resultant string should be s.\n",
    "\n",
    "Return a list of integers representing the size of these parts.\n",
    "\n",
    " \n",
    "\n",
    "Example 1:\n",
    "\n",
    "Input: s = \"ababcbacadefegdehijhklij\"\n",
    "Output: [9,7,8]\n",
    "Explanation:\n",
    "The partition is \"ababcbaca\", \"defegde\", \"hijhklij\".\n",
    "This is a partition so that each letter appears in at most one part.\n",
    "A partition like \"ababcbacadefegde\", \"hijhklij\" is incorrect, because it splits s into less parts.\n",
    "\n",
    "Example 2:\n",
    "\n",
    "Input: s = \"eccbbbbdec\"\n",
    "Output: [10]\n",
    "\n",
    " \n",
    "\n",
    "Constraints:\n",
    "\n",
    "    1 <= s.length <= 500\n",
    "    s consists of lowercase English letters.\n",
    "\n"
   ]
  },
  {
   "cell_type": "code",
   "execution_count": 18,
   "id": "974a833a",
   "metadata": {},
   "outputs": [],
   "source": [
    "from typing import List\n",
    "\n",
    "def find_part(s, l, r):\n",
    "    p = l\n",
    "    if l == r:\n",
    "        r += 1\n",
    "    while (p < r) and (r < len(s)):\n",
    "        sym = s[p]\n",
    "        rp = s.rfind(sym) + 1\n",
    "        if rp > r:\n",
    "            r = rp\n",
    "        p += 1\n",
    "            \n",
    "    return l, r\n",
    "    \n",
    "\n",
    "class Solution:\n",
    "    def partitionLabels(self, s: str) -> List[int]:\n",
    "        part_sizes = []\n",
    "        if not s:\n",
    "            return None\n",
    "        l = r = 0\n",
    "        while r < len(s):\n",
    "            l, r = find_part(s, l, r)\n",
    "            part_sizes.append(r - l)\n",
    "            l = r\n",
    "        return part_sizes\n",
    "    "
   ]
  },
  {
   "cell_type": "code",
   "execution_count": 19,
   "id": "5cce3af6",
   "metadata": {},
   "outputs": [
    {
     "data": {
      "text/plain": [
       "[9, 7, 8]"
      ]
     },
     "execution_count": 19,
     "metadata": {},
     "output_type": "execute_result"
    }
   ],
   "source": [
    "s = Solution()\n",
    "s.partitionLabels(\"ababcbacadefegdehijhklij\")"
   ]
  },
  {
   "cell_type": "code",
   "execution_count": 20,
   "id": "b23b4b08",
   "metadata": {},
   "outputs": [
    {
     "data": {
      "text/plain": [
       "[10]"
      ]
     },
     "execution_count": 20,
     "metadata": {},
     "output_type": "execute_result"
    }
   ],
   "source": [
    "s.partitionLabels(\"eccbbbbdec\")"
   ]
  },
  {
   "cell_type": "code",
   "execution_count": null,
   "id": "7d2053d8",
   "metadata": {},
   "outputs": [],
   "source": [
    "class Solution:\n",
    "    def partitionLabels(self, s: str) -> List[int]:\n",
    "        last = {}\n",
    "        for i, sym in enumerate(s):\n",
    "            last[sym] = i\n",
    "\n",
    "        ans = []\n",
    "        start, end = 0, 0\n",
    "        for i, sym in enumerate(s):\n",
    "            end = max(end, last[sym])\n",
    "            if i == end:\n",
    "                ans.append(end - start + 1)\n",
    "                start = i + 1\n",
    "        return ans\n",
    "        \n"
   ]
  }
 ],
 "metadata": {
  "kernelspec": {
   "display_name": "Python 3 (ipykernel)",
   "language": "python",
   "name": "python3"
  },
  "language_info": {
   "codemirror_mode": {
    "name": "ipython",
    "version": 3
   },
   "file_extension": ".py",
   "mimetype": "text/x-python",
   "name": "python",
   "nbconvert_exporter": "python",
   "pygments_lexer": "ipython3",
   "version": "3.12.9"
  }
 },
 "nbformat": 4,
 "nbformat_minor": 5
}
