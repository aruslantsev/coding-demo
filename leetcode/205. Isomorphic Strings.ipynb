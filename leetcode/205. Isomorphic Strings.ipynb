{
 "cells": [
  {
   "cell_type": "markdown",
   "id": "7e74a740-c49b-4f88-8ba6-b3fb948372ff",
   "metadata": {},
   "source": [
    "Given two strings s and t, determine if they are isomorphic.\n",
    "\n",
    "Two strings s and t are isomorphic if the characters in s can be replaced to get t.\n",
    "\n",
    "All occurrences of a character must be replaced with another character while preserving the order of characters. No two characters may map to the same character, but a character may map to itself.\n",
    "\n",
    " \n",
    "\n",
    "Example 1:\n",
    "\n",
    "Input: s = \"egg\", t = \"add\"\n",
    "Output: true\n",
    "\n",
    "Example 2:\n",
    "\n",
    "Input: s = \"foo\", t = \"bar\"\n",
    "Output: false\n",
    "\n",
    "Example 3:\n",
    "\n",
    "Input: s = \"paper\", t = \"title\"\n",
    "Output: true\n",
    "\n",
    " \n",
    "\n",
    "Constraints:\n",
    "\n",
    "    1 <= s.length <= 5 * 104\n",
    "    t.length == s.length\n",
    "    s and t consist of any valid ascii character.\n",
    "\n"
   ]
  },
  {
   "cell_type": "code",
   "execution_count": 1,
   "id": "8ead7ffd-cdf2-4903-b9ec-f65041d3c1bb",
   "metadata": {
    "tags": []
   },
   "outputs": [],
   "source": [
    "class Solution:\n",
    "    def isIsomorphic(self, s: str, t: str) -> bool:\n",
    "        translation = {}\n",
    "        back_translation = {}\n",
    "        for i in range(len(s)):\n",
    "            s_s = s[i]\n",
    "            s_t = t[i]\n",
    "            if s_s in translation or s_t in back_translation:\n",
    "                if s_s in translation and s_t in back_translation:\n",
    "                    if translation[s_s] != s_t or back_translation[s_t] != s_s:\n",
    "                        return False\n",
    "                else:\n",
    "                    return False\n",
    "            else:\n",
    "                translation[s_s] = s_t\n",
    "                back_translation[s_t] = s_s\n",
    "\n",
    "        return True\n",
    "        "
   ]
  },
  {
   "cell_type": "code",
   "execution_count": null,
   "id": "9181a2e0-a52e-4469-bec2-aed7f403afb3",
   "metadata": {},
   "outputs": [],
   "source": [
    "class Solution:\n",
    "    def isIsomorphic(self, s: str, t: str) -> bool:\n",
    "        return [*map(s.index, s)] == [*map(t.index, t)]"
   ]
  },
  {
   "cell_type": "code",
   "execution_count": null,
   "id": "3e028366-361e-42c1-a645-1670880a85c5",
   "metadata": {},
   "outputs": [],
   "source": []
  }
 ],
 "metadata": {
  "kernelspec": {
   "display_name": "Python 3 (ipykernel)",
   "language": "python",
   "name": "python3"
  },
  "language_info": {
   "codemirror_mode": {
    "name": "ipython",
    "version": 3
   },
   "file_extension": ".py",
   "mimetype": "text/x-python",
   "name": "python",
   "nbconvert_exporter": "python",
   "pygments_lexer": "ipython3",
   "version": "3.11.4"
  }
 },
 "nbformat": 4,
 "nbformat_minor": 5
}
