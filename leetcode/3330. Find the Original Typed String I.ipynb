{
 "cells": [
  {
   "cell_type": "markdown",
   "id": "ac02bf93-b6b6-4824-bb2e-babd374eefa8",
   "metadata": {},
   "source": [
    "Alice is attempting to type a specific string on her computer. However, she tends to be clumsy and may press a key for too long, resulting in a character being typed multiple times.\n",
    "\n",
    "Although Alice tried to focus on her typing, she is aware that she may still have done this at most once.\n",
    "\n",
    "You are given a string word, which represents the final output displayed on Alice's screen.\n",
    "\n",
    "Return the total number of possible original strings that Alice might have intended to type.\n",
    "\n",
    " \n",
    "\n",
    "Example 1:\n",
    "\n",
    "Input: word = \"abbcccc\"\n",
    "\n",
    "Output: 5\n",
    "\n",
    "Explanation:\n",
    "\n",
    "The possible strings are: \"abbcccc\", \"abbccc\", \"abbcc\", \"abbc\", and \"abcccc\".\n",
    "\n",
    "Example 2:\n",
    "\n",
    "Input: word = \"abcd\"\n",
    "\n",
    "Output: 1\n",
    "\n",
    "Explanation:\n",
    "\n",
    "The only possible string is \"abcd\".\n",
    "\n",
    "Example 3:\n",
    "\n",
    "Input: word = \"aaaa\"\n",
    "\n",
    "Output: 4\n",
    "\n",
    " \n",
    "\n",
    "Constraints:\n",
    "\n",
    "    1 <= word.length <= 100\n",
    "    word consists only of lowercase English letters.\n",
    "\n"
   ]
  },
  {
   "cell_type": "code",
   "execution_count": null,
   "id": "56b2eb48-7c92-4db8-bf34-ac5af768b007",
   "metadata": {},
   "outputs": [],
   "source": [
    "class Solution:\n",
    "    def possibleStringCount(self, word: str) -> int:\n",
    "        n, ans = len(word), 1\n",
    "        for i in range(1, n):\n",
    "            if word[i - 1] == word[i]:\n",
    "                ans += 1\n",
    "        return ans"
   ]
  }
 ],
 "metadata": {
  "kernelspec": {
   "display_name": "Python 3 (ipykernel)",
   "language": "python",
   "name": "python3"
  },
  "language_info": {
   "codemirror_mode": {
    "name": "ipython",
    "version": 3
   },
   "file_extension": ".py",
   "mimetype": "text/x-python",
   "name": "python",
   "nbconvert_exporter": "python",
   "pygments_lexer": "ipython3",
   "version": "3.13.4"
  }
 },
 "nbformat": 4,
 "nbformat_minor": 5
}
