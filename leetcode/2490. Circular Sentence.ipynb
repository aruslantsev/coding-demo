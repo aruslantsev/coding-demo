{
 "cells": [
  {
   "cell_type": "markdown",
   "id": "dd94ee92-7d2d-4457-9505-2d40a16cf980",
   "metadata": {},
   "source": [
    "A sentence is a list of words that are separated by a single space with no leading or trailing spaces.\n",
    "\n",
    "    For example, \"Hello World\", \"HELLO\", \"hello world hello world\" are all sentences.\n",
    "\n",
    "Words consist of only uppercase and lowercase English letters. Uppercase and lowercase English letters are considered different.\n",
    "\n",
    "A sentence is circular if:\n",
    "\n",
    "    The last character of a word is equal to the first character of the next word.\n",
    "    The last character of the last word is equal to the first character of the first word.\n",
    "\n",
    "For example, \"leetcode exercises sound delightful\", \"eetcode\", \"leetcode eats soul\" are all circular sentences. However, \"Leetcode is cool\", \"happy Leetcode\", \"Leetcode\" and \"I like Leetcode\" are not circular sentences.\n",
    "\n",
    "Given a string sentence, return true if it is circular. Otherwise, return false.\n",
    "\n",
    " \n",
    "\n",
    "Example 1:\n",
    "\n",
    "Input: sentence = \"leetcode exercises sound delightful\"\n",
    "Output: true\n",
    "Explanation: The words in sentence are [\"leetcode\", \"exercises\", \"sound\", \"delightful\"].\n",
    "- leetcode's last character is equal to exercises's first character.\n",
    "- exercises's last character is equal to sound's first character.\n",
    "- sound's last character is equal to delightful's first character.\n",
    "- delightful's last character is equal to leetcode's first character.\n",
    "The sentence is circular.\n",
    "\n",
    "Example 2:\n",
    "\n",
    "Input: sentence = \"eetcode\"\n",
    "Output: true\n",
    "Explanation: The words in sentence are [\"eetcode\"].\n",
    "- eetcode's last character is equal to eetcode's first character.\n",
    "The sentence is circular.\n",
    "\n",
    "Example 3:\n",
    "\n",
    "Input: sentence = \"Leetcode is cool\"\n",
    "Output: false\n",
    "Explanation: The words in sentence are [\"Leetcode\", \"is\", \"cool\"].\n",
    "- Leetcode's last character is not equal to is's first character.\n",
    "The sentence is not circular.\n",
    "\n",
    " \n",
    "\n",
    "Constraints:\n",
    "\n",
    "    1 <= sentence.length <= 500\n",
    "    sentence consist of only lowercase and uppercase English letters and spaces.\n",
    "    The words in sentence are separated by a single space.\n",
    "    There are no leading or trailing spaces.\n",
    "\n"
   ]
  },
  {
   "cell_type": "code",
   "execution_count": null,
   "id": "8ac6ec22-4040-4bd2-ae19-62e9aa69fe83",
   "metadata": {},
   "outputs": [],
   "source": [
    "class Solution:\n",
    "    def isCircularSentence(self, sentence: str) -> bool:\n",
    "        if sentence[-1] != sentence[0]:\n",
    "            return False\n",
    "        sentence = sentence.split(\" \")\n",
    "        return all(sentence[i][-1] == sentence[i + 1][0] for i in range(len(sentence) - 1))"
   ]
  }
 ],
 "metadata": {
  "kernelspec": {
   "display_name": "common",
   "language": "python",
   "name": "common"
  },
  "language_info": {
   "codemirror_mode": {
    "name": "ipython",
    "version": 3
   },
   "file_extension": ".py",
   "mimetype": "text/x-python",
   "name": "python",
   "nbconvert_exporter": "python",
   "pygments_lexer": "ipython3",
   "version": "3.12.4"
  }
 },
 "nbformat": 4,
 "nbformat_minor": 5
}
