{
 "cells": [
  {
   "cell_type": "markdown",
   "id": "b439b2dd-6aa1-410d-b0d7-be899de86d24",
   "metadata": {},
   "source": [
    "Given two strings s1 and s2, return the lowest ASCII sum of deleted characters to make two strings equal.\n",
    "\n",
    " \n",
    "\n",
    "Example 1:\n",
    "\n",
    "Input: s1 = \"sea\", s2 = \"eat\"\n",
    "Output: 231\n",
    "Explanation: Deleting \"s\" from \"sea\" adds the ASCII value of \"s\" (115) to the sum.\n",
    "Deleting \"t\" from \"eat\" adds 116 to the sum.\n",
    "At the end, both strings are equal, and 115 + 116 = 231 is the minimum sum possible to achieve this.\n",
    "\n",
    "Example 2:\n",
    "\n",
    "Input: s1 = \"delete\", s2 = \"leet\"\n",
    "Output: 403\n",
    "Explanation: Deleting \"dee\" from \"delete\" to turn the string into \"let\",\n",
    "adds 100[d] + 101[e] + 101[e] to the sum.\n",
    "Deleting \"e\" from \"leet\" adds 101[e] to the sum.\n",
    "At the end, both strings are equal to \"let\", and the answer is 100+101+101+101 = 403.\n",
    "If instead we turned both strings into \"lee\" or \"eet\", we would get answers of 433 or 417, which are higher.\n",
    "\n",
    " \n",
    "\n",
    "Constraints:\n",
    "\n",
    "    1 <= s1.length, s2.length <= 1000\n",
    "    s1 and s2 consist of lowercase English letters.\n",
    "\n"
   ]
  },
  {
   "cell_type": "code",
   "execution_count": null,
   "id": "a19c588a-2b2c-4621-af5c-6efdf03d2c21",
   "metadata": {},
   "outputs": [],
   "source": [
    "class Solution:\n",
    "    def minimumDeleteSum(self, s1: str, s2: str) -> int:\n",
    "        l1 = len(s1)\n",
    "        l2 = len(s2)\n",
    "        dp = [[0 for _ in range(l2 + 1)] for _ in range(l1 + 1)]\n",
    "        for i in range(1, l1 + 1):\n",
    "            dp[i][0] = dp[i - 1][0] + ord(s1[i - 1])\n",
    "        for i in range(1, l2 + 1):\n",
    "            dp[0][i] = dp[0][i - 1] + ord(s2[i - 1])\n",
    "        \n",
    "        for i in range(1, l1 + 1):\n",
    "            for j in range(1, l2 + 1):\n",
    "                if s1[i - 1] != s2[j - 1]:\n",
    "                    cost = ord(s1[i - 1]) + ord(s2[j - 1])\n",
    "                else:\n",
    "                    cost = 0\n",
    "                dp[i][j] = min(\n",
    "                    dp[i - 1][j] + ord(s1[i - 1]),\n",
    "                    dp[i][j - 1] + ord(s2[j - 1]),\n",
    "                    dp[i - 1][j - 1] + cost\n",
    "                )\n",
    "\n",
    "        return dp[-1][-1]"
   ]
  }
 ],
 "metadata": {
  "kernelspec": {
   "display_name": "common",
   "language": "python",
   "name": "common"
  },
  "language_info": {
   "codemirror_mode": {
    "name": "ipython",
    "version": 3
   },
   "file_extension": ".py",
   "mimetype": "text/x-python",
   "name": "python",
   "nbconvert_exporter": "python",
   "pygments_lexer": "ipython3",
   "version": "3.9.15"
  }
 },
 "nbformat": 4,
 "nbformat_minor": 5
}
