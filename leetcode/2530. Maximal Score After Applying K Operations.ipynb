{
 "cells": [
  {
   "cell_type": "markdown",
   "id": "d320bbac-0a53-40f2-9646-d88c1ac4accc",
   "metadata": {},
   "source": [
    "You are given a 0-indexed integer array nums and an integer k. You have a starting score of 0.\n",
    "\n",
    "In one operation:\n",
    "\n",
    "    choose an index i such that 0 <= i < nums.length,\n",
    "    increase your score by nums[i], and\n",
    "    replace nums[i] with ceil(nums[i] / 3).\n",
    "\n",
    "Return the maximum possible score you can attain after applying exactly k operations.\n",
    "\n",
    "The ceiling function ceil(val) is the least integer greater than or equal to val.\n",
    "\n",
    " \n",
    "\n",
    "Example 1:\n",
    "\n",
    "Input: nums = [10,10,10,10,10], k = 5\n",
    "Output: 50\n",
    "Explanation: Apply the operation to each array element exactly once. The final score is 10 + 10 + 10 + 10 + 10 = 50.\n",
    "\n",
    "Example 2:\n",
    "\n",
    "Input: nums = [1,10,3,3,3], k = 3\n",
    "Output: 17\n",
    "Explanation: You can do the following operations:\n",
    "Operation 1: Select i = 1, so nums becomes [1,4,3,3,3]. Your score increases by 10.\n",
    "Operation 2: Select i = 1, so nums becomes [1,2,3,3,3]. Your score increases by 4.\n",
    "Operation 3: Select i = 2, so nums becomes [1,2,1,3,3]. Your score increases by 3.\n",
    "The final score is 10 + 4 + 3 = 17.\n",
    "\n",
    " \n",
    "\n",
    "Constraints:\n",
    "\n",
    "    1 <= nums.length, k <= 105\n",
    "    1 <= nums[i] <= 109\n",
    "\n"
   ]
  },
  {
   "cell_type": "code",
   "execution_count": null,
   "id": "6a7e3045-1546-4679-beac-8bcf73e8b5f0",
   "metadata": {},
   "outputs": [],
   "source": [
    "class Solution:\n",
    "    def maxKelements(self, nums: List[int], k: int) -> int:\n",
    "        ans = 0\n",
    "        max_heap = []\n",
    "\n",
    "        # Add elements one by one into the max-heap\n",
    "        for num in nums:\n",
    "            heapq.heappush(max_heap, -num)\n",
    "\n",
    "        while k > 0:\n",
    "            k -= 1\n",
    "            # Retrieve the max element (invert the sign because it's stored as negative)\n",
    "            max_element = -heapq.heappop(max_heap)\n",
    "            ans += max_element\n",
    "            # Add one-third of the max element back to the heap. Rounded up using integer division.\n",
    "            heapq.heappush(max_heap, -math.ceil(max_element / 3))\n",
    "\n",
    "        return ans"
   ]
  }
 ],
 "metadata": {
  "kernelspec": {
   "display_name": "Python 3 (ipykernel)",
   "language": "python",
   "name": "python3"
  },
  "language_info": {
   "codemirror_mode": {
    "name": "ipython",
    "version": 3
   },
   "file_extension": ".py",
   "mimetype": "text/x-python",
   "name": "python",
   "nbconvert_exporter": "python",
   "pygments_lexer": "ipython3",
   "version": "3.12.7"
  }
 },
 "nbformat": 4,
 "nbformat_minor": 5
}
