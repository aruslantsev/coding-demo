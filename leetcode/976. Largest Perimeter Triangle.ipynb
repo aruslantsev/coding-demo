{
 "cells": [
  {
   "cell_type": "markdown",
   "id": "163d07ca-f5bc-4c25-87d3-39ab4cd82ace",
   "metadata": {},
   "source": [
    "Given an integer array nums, return the largest perimeter of a triangle with a non-zero area, formed from three of these lengths. If it is impossible to form any triangle of a non-zero area, return 0.\n",
    "\n",
    " \n",
    "\n",
    "Example 1:\n",
    "\n",
    "Input: nums = [2,1,2]\n",
    "Output: 5\n",
    "\n",
    "Example 2:\n",
    "\n",
    "Input: nums = [1,2,1]\n",
    "Output: 0\n",
    "\n",
    " \n",
    "\n",
    "Constraints:\n",
    "\n",
    "    3 <= nums.length <= 104\n",
    "    1 <= nums[i] <= 106\n",
    "\n"
   ]
  },
  {
   "cell_type": "code",
   "execution_count": null,
   "id": "ec978e08-f210-40f2-a7aa-11cf99b7ea65",
   "metadata": {},
   "outputs": [],
   "source": [
    "class Solution:\n",
    "    def largestPerimeter(self, nums: List[int]) -> int:\n",
    "        # sort array and go from the largest value. if two its \n",
    "        # neighbors can't form triangle, try next triplet\n",
    "        nums = sorted(nums)\n",
    "        for i in range(len(nums) - 2)[::-1]:\n",
    "            if nums[i] + nums[i + 1] > nums[i + 2]:\n",
    "                return nums[i] + nums[i + 1] + nums[i + 2]\n",
    "        return 0"
   ]
  },
  {
   "cell_type": "code",
   "execution_count": null,
   "id": "09105ada-cd98-405d-89c6-5be54ad23d1d",
   "metadata": {},
   "outputs": [],
   "source": [
    "class Solution:\n",
    "    def largestPerimeter(self, nums: List[int]) -> int:\n",
    "        nums = sorted(nums, reverse=True)\n",
    "        for i in range(len(nums) - 2):\n",
    "            if nums[i] < nums[i + 1] + nums[i + 2]:\n",
    "                return nums[i] + nums[i + 1] + nums[i + 2]\n",
    "        return 0"
   ]
  }
 ],
 "metadata": {
  "kernelspec": {
   "display_name": "Python 3 (ipykernel)",
   "language": "python",
   "name": "python3"
  },
  "language_info": {
   "codemirror_mode": {
    "name": "ipython",
    "version": 3
   },
   "file_extension": ".py",
   "mimetype": "text/x-python",
   "name": "python",
   "nbconvert_exporter": "python",
   "pygments_lexer": "ipython3",
   "version": "3.13.5"
  }
 },
 "nbformat": 4,
 "nbformat_minor": 5
}
