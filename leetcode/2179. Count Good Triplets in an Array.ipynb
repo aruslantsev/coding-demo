{
 "cells": [
  {
   "cell_type": "markdown",
   "id": "79b6b41c-8bcf-4ae8-894e-73eedbe49b21",
   "metadata": {},
   "source": [
    "You are given two 0-indexed arrays nums1 and nums2 of length n, both of which are permutations of [0, 1, ..., n - 1].\n",
    "\n",
    "A good triplet is a set of 3 distinct values which are present in increasing order by position both in nums1 and nums2. In other words, if we consider pos1v as the index of the value v in nums1 and pos2v as the index of the value v in nums2, then a good triplet will be a set (x, y, z) where 0 <= x, y, z <= n - 1, such that pos1x < pos1y < pos1z and pos2x < pos2y < pos2z.\n",
    "\n",
    "Return the total number of good triplets.\n",
    "\n",
    " \n",
    "\n",
    "Example 1:\n",
    "\n",
    "Input: nums1 = [2,0,1,3], nums2 = [0,1,2,3]\n",
    "Output: 1\n",
    "Explanation: \n",
    "There are 4 triplets (x,y,z) such that pos1x < pos1y < pos1z. They are (2,0,1), (2,0,3), (2,1,3), and (0,1,3). \n",
    "Out of those triplets, only the triplet (0,1,3) satisfies pos2x < pos2y < pos2z. Hence, there is only 1 good triplet.\n",
    "\n",
    "Example 2:\n",
    "\n",
    "Input: nums1 = [4,0,1,3,2], nums2 = [4,1,0,2,3]\n",
    "Output: 4\n",
    "Explanation: The 4 good triplets are (4,0,3), (4,0,2), (4,1,3), and (4,1,2).\n",
    "\n",
    " \n",
    "\n",
    "Constraints:\n",
    "\n",
    "    n == nums1.length == nums2.length\n",
    "    3 <= n <= 105\n",
    "    0 <= nums1[i], nums2[i] <= n - 1\n",
    "    nums1 and nums2 are permutations of [0, 1, ..., n - 1].\n",
    "\n"
   ]
  },
  {
   "cell_type": "code",
   "execution_count": null,
   "id": "4325a7e9-8c2f-4aeb-85db-d7fae09cd61f",
   "metadata": {},
   "outputs": [],
   "source": [
    "class Solution:\n",
    "    def goodTriplets(self, nums1: List[int], nums2: List[int]) -> int:\n",
    "        n = len(nums1)\n",
    "        pos2, reversedIndexMapping = [0] * n, [0] * n\n",
    "        for i, num2 in enumerate(nums2):\n",
    "            pos2[num2] = i\n",
    "        for i, num1 in enumerate(nums1):\n",
    "            reversedIndexMapping[pos2[num1]] = i\n",
    "        tree = FenwickTree(n)\n",
    "        res = 0\n",
    "        for value in range(n):\n",
    "            pos = reversedIndexMapping[value]\n",
    "            left = tree.query(pos)\n",
    "            tree.update(pos, 1)\n",
    "            right = (n - 1 - pos) - (value - left)\n",
    "            res += left * right\n",
    "        return res\n",
    "\n",
    "class FenwickTree:\n",
    "    def __init__(self, size):\n",
    "        self.tree = [0] * (size + 1)\n",
    "\n",
    "    def update(self, index, delta):\n",
    "        index += 1\n",
    "        while index <= len(self.tree) - 1:\n",
    "            self.tree[index] += delta\n",
    "            index += index & -index\n",
    "\n",
    "    def query(self, index):\n",
    "        index += 1\n",
    "        res = 0\n",
    "        while index > 0:\n",
    "            res += self.tree[index]\n",
    "            index -= index & -index\n",
    "        return res"
   ]
  }
 ],
 "metadata": {
  "kernelspec": {
   "display_name": "Python 3 (ipykernel)",
   "language": "python",
   "name": "python3"
  },
  "language_info": {
   "codemirror_mode": {
    "name": "ipython",
    "version": 3
   },
   "file_extension": ".py",
   "mimetype": "text/x-python",
   "name": "python",
   "nbconvert_exporter": "python",
   "pygments_lexer": "ipython3",
   "version": "3.12.9"
  }
 },
 "nbformat": 4,
 "nbformat_minor": 5
}
