{
 "cells": [
  {
   "cell_type": "markdown",
   "id": "0097f80b-9dcf-4d18-b313-7207431a5c05",
   "metadata": {},
   "source": [
    "Given a list of unique words, return all the pairs of the distinct indices (i, j) in the given list, so that the concatenation of the two words words[i] + words[j] is a palindrome.\n",
    "\n",
    " \n",
    "\n",
    "Example 1:\n",
    "\n",
    "Input: words = [\"abcd\",\"dcba\",\"lls\",\"s\",\"sssll\"]\n",
    "Output: [[0,1],[1,0],[3,2],[2,4]]\n",
    "Explanation: The palindromes are [\"dcbaabcd\",\"abcddcba\",\"slls\",\"llssssll\"]\n",
    "\n",
    "Example 2:\n",
    "\n",
    "Input: words = [\"bat\",\"tab\",\"cat\"]\n",
    "Output: [[0,1],[1,0]]\n",
    "Explanation: The palindromes are [\"battab\",\"tabbat\"]\n",
    "\n",
    "Example 3:\n",
    "\n",
    "Input: words = [\"a\",\"\"]\n",
    "Output: [[0,1],[1,0]]\n",
    "\n",
    " \n",
    "\n",
    "Constraints:\n",
    "\n",
    "    1 <= words.length <= 5000\n",
    "    0 <= words[i].length <= 300\n",
    "    words[i] consists of lower-case English letters.\n",
    "\n"
   ]
  },
  {
   "cell_type": "code",
   "execution_count": 45,
   "id": "cbbd7f95-79b6-4e71-8877-5e011f3c77ec",
   "metadata": {},
   "outputs": [],
   "source": [
    "from typing import List\n",
    "\n",
    "class Solution:\n",
    "    def palindromePairs(self, words: List[str]) -> List[List[int]]:\n",
    "        ans = []\n",
    "        for i, word in enumerate(words):\n",
    "            for j, drow in enumerate(words):\n",
    "                if i != j:\n",
    "                    pal = word + drow\n",
    "                    if pal == pal[::-1]:\n",
    "                        ans.append([i, j])\n",
    "        return ans"
   ]
  },
  {
   "cell_type": "code",
   "execution_count": 166,
   "id": "2fc691ee-1e9a-4e50-8f92-e74f1b98d817",
   "metadata": {},
   "outputs": [],
   "source": [
    "class Solution:\n",
    "    def palindromePairs(self, words: List[str]) -> List[List[int]]:\n",
    "        backward = {}\n",
    "        res = []\n",
    "        for i, word in enumerate(words):\n",
    "            backward[word[::-1]] = i\n",
    "\n",
    "        for i, word in enumerate(words):\n",
    "            \n",
    "            if word in backward and backward[word] != i:\n",
    "                res.append([i, backward[word]])\n",
    "                \n",
    "            if word != \"\" and \"\" in backward and word == word[::-1]:\n",
    "                res.append([i, backward[\"\"]])\n",
    "                res.append([backward[\"\"], i])\n",
    "                \n",
    "            for j in range(1, len(word)):\n",
    "                if word[j:] in backward and word[:j] == word[j - 1::-1]:\n",
    "                    res.append([backward[word[j:]], i])\n",
    "                if word[:j] in backward and word[j:] == word[:j - 1:-1]:\n",
    "                    res.append([i, backward[word[:j]]])\n",
    "                    \n",
    "        return res"
   ]
  },
  {
   "cell_type": "code",
   "execution_count": 155,
   "id": "1b48f884-cabb-44ae-8f64-2f71d5a8797f",
   "metadata": {},
   "outputs": [],
   "source": [
    "class Solution:\n",
    "    def palindromePairs(self, words: List[str]) -> List[List[int]]:\n",
    "        backward = {}\n",
    "        res = []\n",
    "        for i, word in enumerate(words):\n",
    "            backward[word[::-1]] = i\n",
    "\n",
    "        for i, word in enumerate(words):\n",
    "            \n",
    "            if word in backward and backward[word] != i:\n",
    "                res.append([i, backward[word]])\n",
    "                \n",
    "            if word != \"\" and \"\" in backward and word == word[::-1]:\n",
    "                res.append([i, backward[\"\"]])\n",
    "                res.append([backward[\"\"], i])\n",
    "                \n",
    "            for j in range(1, len(word)):\n",
    "                if word[j:] in backward and word[:j] == word[:j][::-1]:\n",
    "                    res.append([backward[word[j:]], i])\n",
    "                if word[:j] in backward and word[j:] == word[j:][::-1]:\n",
    "                    res.append([i, backward[word[:j]]])\n",
    "                    \n",
    "        return res"
   ]
  },
  {
   "cell_type": "code",
   "execution_count": 167,
   "id": "58a34037-c925-4e70-9598-66ff6902fb88",
   "metadata": {},
   "outputs": [
    {
     "data": {
      "text/plain": [
       "[[0, 1], [1, 0], [3, 2], [2, 4]]"
      ]
     },
     "execution_count": 167,
     "metadata": {},
     "output_type": "execute_result"
    }
   ],
   "source": [
    "s = Solution()\n",
    "s.palindromePairs([\"abcd\",\"dcba\",\"lls\",\"s\",\"sssll\"])\n",
    "# [[0, 1], [1, 0], [2, 4], [3, 2]]"
   ]
  },
  {
   "cell_type": "code",
   "execution_count": 168,
   "id": "a8a44322-8026-427c-b77e-6c72a8a8e60a",
   "metadata": {},
   "outputs": [
    {
     "data": {
      "text/plain": [
       "[[1, 3], [3, 0], [2, 4], [4, 0], [0, 5], [5, 0]]"
      ]
     },
     "execution_count": 168,
     "metadata": {},
     "output_type": "execute_result"
    }
   ],
   "source": [
    "s.palindromePairs([\"a\",\"b\",\"c\",\"ab\",\"ac\",\"aa\"])\n",
    "# [[3,0],[1,3],[4,0],[2,4],[5,0],[0,5]]"
   ]
  },
  {
   "cell_type": "code",
   "execution_count": 169,
   "id": "7ebb6ec6-4bd8-477a-b917-9333e3d2c2b0",
   "metadata": {},
   "outputs": [
    {
     "data": {
      "text/plain": [
       "[[0, 1], [1, 0]]"
      ]
     },
     "execution_count": 169,
     "metadata": {},
     "output_type": "execute_result"
    }
   ],
   "source": [
    "s.palindromePairs([\"bat\",\"tab\",\"cat\"])\n",
    "# [[0, 1], [1, 0]]"
   ]
  },
  {
   "cell_type": "code",
   "execution_count": 170,
   "id": "f0c4c1ce-5cd0-4328-bac6-7ce2d57c11de",
   "metadata": {},
   "outputs": [
    {
     "data": {
      "text/plain": [
       "[[0, 1], [1, 0]]"
      ]
     },
     "execution_count": 170,
     "metadata": {},
     "output_type": "execute_result"
    }
   ],
   "source": [
    "s.palindromePairs([\"a\",\"\"])\n",
    "# [[0, 1], [1, 0]]"
   ]
  },
  {
   "cell_type": "code",
   "execution_count": 171,
   "id": "6eabe7f6-2071-4bca-9746-f705758533b0",
   "metadata": {},
   "outputs": [
    {
     "data": {
      "text/plain": [
       "[[0, 3], [3, 0], [2, 3], [3, 2]]"
      ]
     },
     "execution_count": 171,
     "metadata": {},
     "output_type": "execute_result"
    }
   ],
   "source": [
    "s.palindromePairs([\"a\",\"abc\",\"aba\",\"\"])\n",
    "# [[3, 0], [0, 3], [3, 2], [2, 3]]"
   ]
  },
  {
   "cell_type": "code",
   "execution_count": null,
   "id": "208bdc27-39f5-437b-83f7-55052cd73973",
   "metadata": {},
   "outputs": [],
   "source": []
  }
 ],
 "metadata": {
  "kernelspec": {
   "display_name": "Python 3 (ipykernel)",
   "language": "python",
   "name": "python3"
  },
  "language_info": {
   "codemirror_mode": {
    "name": "ipython",
    "version": 3
   },
   "file_extension": ".py",
   "mimetype": "text/x-python",
   "name": "python",
   "nbconvert_exporter": "python",
   "pygments_lexer": "ipython3",
   "version": "3.9.12"
  }
 },
 "nbformat": 4,
 "nbformat_minor": 5
}
