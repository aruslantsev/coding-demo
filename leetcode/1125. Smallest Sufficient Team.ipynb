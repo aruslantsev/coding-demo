{
 "cells": [
  {
   "cell_type": "markdown",
   "id": "505405f9-7391-42f3-9f60-de3dc083dac8",
   "metadata": {},
   "source": [
    "In a project, you have a list of required skills req_skills, and a list of people. The ith person people[i] contains a list of skills that the person has.\n",
    "\n",
    "Consider a sufficient team: a set of people such that for every required skill in req_skills, there is at least one person in the team who has that skill. We can represent these teams by the index of each person.\n",
    "\n",
    "    For example, team = [0, 1, 3] represents the people with skills people[0], people[1], and people[3].\n",
    "\n",
    "Return any sufficient team of the smallest possible size, represented by the index of each person. You may return the answer in any order.\n",
    "\n",
    "It is guaranteed an answer exists.\n",
    "\n",
    " \n",
    "\n",
    "Example 1:\n",
    "\n",
    "Input: req_skills = [\"java\",\"nodejs\",\"reactjs\"], people = [[\"java\"],[\"nodejs\"],[\"nodejs\",\"reactjs\"]]\n",
    "Output: [0,2]\n",
    "\n",
    "Example 2:\n",
    "\n",
    "Input: req_skills = [\"algorithms\",\"math\",\"java\",\"reactjs\",\"csharp\",\"aws\"], people = [[\"algorithms\",\"math\",\"java\"],[\"algorithms\",\"math\",\"reactjs\"],[\"java\",\"csharp\",\"aws\"],[\"reactjs\",\"csharp\"],[\"csharp\",\"math\"],[\"aws\",\"java\"]]\n",
    "Output: [1,2]\n",
    "\n",
    " \n",
    "\n",
    "Constraints:\n",
    "\n",
    "    1 <= req_skills.length <= 16\n",
    "    1 <= req_skills[i].length <= 16\n",
    "    req_skills[i] consists of lowercase English letters.\n",
    "    All the strings of req_skills are unique.\n",
    "    1 <= people.length <= 60\n",
    "    0 <= people[i].length <= 16\n",
    "    1 <= people[i][j].length <= 16\n",
    "    people[i][j] consists of lowercase English letters.\n",
    "    All the strings of people[i] are unique.\n",
    "    Every skill in people[i] is a skill in req_skills.\n",
    "    It is guaranteed a sufficient team exists.\n",
    "\n"
   ]
  },
  {
   "cell_type": "code",
   "execution_count": null,
   "id": "ce77be63-2d2e-4d6a-bf50-e1dd13f62e76",
   "metadata": {},
   "outputs": [],
   "source": [
    "class Solution:\n",
    "    def smallestSufficientTeam(self, req_skills: List[str], people: List[List[str]]) -> List[int]:\n",
    "        n = len(people)\n",
    "        m = len(req_skills)\n",
    "        skill_id = dict()\n",
    "        for i, skill in enumerate(req_skills):\n",
    "            skill_id[skill] = i\n",
    "        skills_mask_of_person = [0] * n\n",
    "        for i in range(n):\n",
    "            for skill in people[i]:\n",
    "                skills_mask_of_person[i] |= 1 << skill_id[skill]\n",
    "        dp = [(1 << n) - 1] * (1 << m)\n",
    "        dp[0] = 0\n",
    "        for skills_mask in range(1, 1 << m):\n",
    "            for i in range(n):\n",
    "                smaller_skills_mask = skills_mask & ~skills_mask_of_person[i]\n",
    "                if smaller_skills_mask != skills_mask:\n",
    "                    people_mask = dp[smaller_skills_mask] | (1 << i)\n",
    "                    if people_mask.bit_count() < dp[skills_mask].bit_count():\n",
    "                        dp[skills_mask] = people_mask\n",
    "\n",
    "        answer_mask = dp[(1 << m) - 1]\n",
    "        ans = []\n",
    "        for i in range(n):\n",
    "            if (answer_mask >> i) & 1:\n",
    "                ans.append(i)\n",
    "        return ans"
   ]
  }
 ],
 "metadata": {
  "kernelspec": {
   "display_name": "common",
   "language": "python",
   "name": "common"
  },
  "language_info": {
   "codemirror_mode": {
    "name": "ipython",
    "version": 3
   },
   "file_extension": ".py",
   "mimetype": "text/x-python",
   "name": "python",
   "nbconvert_exporter": "python",
   "pygments_lexer": "ipython3",
   "version": "3.9.15"
  }
 },
 "nbformat": 4,
 "nbformat_minor": 5
}
