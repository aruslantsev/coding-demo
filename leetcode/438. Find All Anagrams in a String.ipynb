{
 "cells": [
  {
   "cell_type": "markdown",
   "id": "0d2b58e3-07de-4786-b8c8-d2b0895dddeb",
   "metadata": {},
   "source": [
    "Given two strings s and p, return an array of all the start indices of p's anagrams in s. You may return the answer in any order.\n",
    "\n",
    "An Anagram is a word or phrase formed by rearranging the letters of a different word or phrase, typically using all the original letters exactly once.\n",
    "\n",
    " \n",
    "\n",
    "Example 1:\n",
    "\n",
    "Input: s = \"cbaebabacd\", p = \"abc\"\n",
    "Output: [0,6]\n",
    "Explanation:\n",
    "The substring with start index = 0 is \"cba\", which is an anagram of \"abc\".\n",
    "The substring with start index = 6 is \"bac\", which is an anagram of \"abc\".\n",
    "\n",
    "Example 2:\n",
    "\n",
    "Input: s = \"abab\", p = \"ab\"\n",
    "Output: [0,1,2]\n",
    "Explanation:\n",
    "The substring with start index = 0 is \"ab\", which is an anagram of \"ab\".\n",
    "The substring with start index = 1 is \"ba\", which is an anagram of \"ab\".\n",
    "The substring with start index = 2 is \"ab\", which is an anagram of \"ab\".\n",
    "\n",
    " \n",
    "\n",
    "Constraints:\n",
    "\n",
    "    1 <= s.length, p.length <= 3 * 104\n",
    "    s and p consist of lowercase English letters.\n",
    "\n"
   ]
  },
  {
   "cell_type": "code",
   "execution_count": 28,
   "id": "7e440c38-9270-4f48-9dcf-5d78e17f3edf",
   "metadata": {},
   "outputs": [],
   "source": [
    "from typing import List\n",
    "from collections import defaultdict\n",
    "\n",
    "class Solution:\n",
    "    def findAnagrams(self, s: str, p: str) -> List[int]:\n",
    "        solution = []\n",
    "        p = sorted(p)\n",
    "        for i in range(len(s) - len(p) + 1):\n",
    "            if sorted(s[i: i + len(p)]) == p:\n",
    "                solution.append(i)\n",
    "        return solution"
   ]
  },
  {
   "cell_type": "code",
   "execution_count": 49,
   "id": "dacceb7a-40ad-4521-92b4-9bc5efde92cb",
   "metadata": {},
   "outputs": [],
   "source": [
    "from typing import List\n",
    "from collections import defaultdict\n",
    "\n",
    "class Solution:\n",
    "    def findAnagrams(self, s: str, p: str) -> List[int]:\n",
    "        if len(p) > len(s):\n",
    "            return []\n",
    "        elif len(p) == len(s):\n",
    "            if sorted(p) == sorted(s):\n",
    "                return [0]\n",
    "            else:\n",
    "                return []\n",
    "        \n",
    "        h = defaultdict()\n",
    "        for sym in s + p:\n",
    "            h[sym] = 0\n",
    "            \n",
    "        c = h.copy()\n",
    "        \n",
    "        for sym in p:\n",
    "            h[sym] += 1\n",
    "            \n",
    "        solution = []\n",
    "        \n",
    "        for i in range(len(p)):\n",
    "            c[s[i]] += 1\n",
    "        for i in range(len(s) - len(p) + 1):\n",
    "            if c == h:\n",
    "                solution.append(i)\n",
    "            c[s[i]] -= 1\n",
    "            if i + len(p) < len(s):\n",
    "                c[s[i + len(p)]] += 1\n",
    "        return solution"
   ]
  },
  {
   "cell_type": "code",
   "execution_count": 50,
   "id": "2ee641f1-b8f5-44b6-a5d1-94a9e94ea79a",
   "metadata": {},
   "outputs": [
    {
     "data": {
      "text/plain": [
       "[0, 6]"
      ]
     },
     "execution_count": 50,
     "metadata": {},
     "output_type": "execute_result"
    }
   ],
   "source": [
    "s = Solution()\n",
    "s.findAnagrams('cbaebabacd', 'abc')"
   ]
  },
  {
   "cell_type": "code",
   "execution_count": 51,
   "id": "87965694-4204-41cd-a685-768af609d940",
   "metadata": {},
   "outputs": [
    {
     "data": {
      "text/plain": [
       "[0, 1, 2]"
      ]
     },
     "execution_count": 51,
     "metadata": {},
     "output_type": "execute_result"
    }
   ],
   "source": [
    "s = Solution()\n",
    "s.findAnagrams('abab', 'ab')"
   ]
  },
  {
   "cell_type": "code",
   "execution_count": 52,
   "id": "2f319e29-665d-4b97-b453-0c3c36273c20",
   "metadata": {},
   "outputs": [
    {
     "data": {
      "text/plain": [
       "[0]"
      ]
     },
     "execution_count": 52,
     "metadata": {},
     "output_type": "execute_result"
    }
   ],
   "source": [
    "s = Solution()\n",
    "s.findAnagrams('ab', 'ba')"
   ]
  },
  {
   "cell_type": "code",
   "execution_count": null,
   "id": "be678489-8676-4e33-a7ca-cd3350c83fdf",
   "metadata": {},
   "outputs": [],
   "source": []
  }
 ],
 "metadata": {
  "kernelspec": {
   "display_name": "Python 3 (ipykernel)",
   "language": "python",
   "name": "python3"
  },
  "language_info": {
   "codemirror_mode": {
    "name": "ipython",
    "version": 3
   },
   "file_extension": ".py",
   "mimetype": "text/x-python",
   "name": "python",
   "nbconvert_exporter": "python",
   "pygments_lexer": "ipython3",
   "version": "3.9.10"
  }
 },
 "nbformat": 4,
 "nbformat_minor": 5
}
