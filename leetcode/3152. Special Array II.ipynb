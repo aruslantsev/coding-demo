{
 "cells": [
  {
   "cell_type": "markdown",
   "id": "b5a4c88d-9feb-4936-98b8-eda4ec81c2db",
   "metadata": {},
   "source": [
    "An array is considered special if every pair of its adjacent elements contains two numbers with different parity.\n",
    "\n",
    "You are given an array of integer nums and a 2D integer matrix queries, where for queries[i] = [fromi, toi] your task is to check that\n",
    "subarray\n",
    "nums[fromi..toi] is special or not.\n",
    "\n",
    "Return an array of booleans answer such that answer[i] is true if nums[fromi..toi] is special.\n",
    "\n",
    " \n",
    "\n",
    "Example 1:\n",
    "\n",
    "Input: nums = [3,4,1,2,6], queries = [[0,4]]\n",
    "\n",
    "Output: [false]\n",
    "\n",
    "Explanation:\n",
    "\n",
    "The subarray is [3,4,1,2,6]. 2 and 6 are both even.\n",
    "\n",
    "Example 2:\n",
    "\n",
    "Input: nums = [4,3,1,6], queries = [[0,2],[2,3]]\n",
    "\n",
    "Output: [false,true]\n",
    "\n",
    "Explanation:\n",
    "\n",
    "    The subarray is [4,3,1]. 3 and 1 are both odd. So the answer to this query is false.\n",
    "    The subarray is [1,6]. There is only one pair: (1,6) and it contains numbers with different parity. So the answer to this query is true.\n",
    "\n",
    " \n",
    "\n",
    "Constraints:\n",
    "\n",
    "    1 <= nums.length <= 105\n",
    "    1 <= nums[i] <= 105\n",
    "    1 <= queries.length <= 105\n",
    "    queries[i].length == 2\n",
    "    0 <= queries[i][0] <= queries[i][1] <= nums.length - 1\n",
    "\n"
   ]
  },
  {
   "cell_type": "code",
   "execution_count": null,
   "id": "e739bb96-97cd-44b5-b518-06b8b8d98a12",
   "metadata": {},
   "outputs": [],
   "source": [
    "class Solution:\n",
    "    def isArraySpecial(self, nums: List[int], queries: List[List[int]]) -> List[bool]:\n",
    "        bad_indices = []\n",
    "        for i in range(1, len(nums)):\n",
    "            if (nums[i] % 2) == (nums[i - 1] % 2):\n",
    "                bad_indices.append(i)\n",
    "        ans = [False for _ in queries]\n",
    "        for i, (start, end) in enumerate(queries):\n",
    "            if bisect.bisect_left(bad_indices, start + 1) == bisect.bisect_right(bad_indices, end):\n",
    "                ans[i] = True\n",
    "        return ans\n"
   ]
  },
  {
   "cell_type": "code",
   "execution_count": null,
   "id": "21162955-1848-4889-a8e1-e5e2ba7ad9e8",
   "metadata": {},
   "outputs": [],
   "source": [
    "class Solution:\n",
    "    def isArraySpecial(\n",
    "        self, nums: List[int], queries: List[List[int]]\n",
    "    ) -> List[bool]:\n",
    "        ans = [False] * len(queries)\n",
    "        prefix = [0] * len(nums)\n",
    "        prefix[0] = 0\n",
    "\n",
    "        for i in range(1, len(nums)):\n",
    "            if nums[i] % 2 == nums[i - 1] % 2:\n",
    "                # new violative index found\n",
    "                prefix[i] = prefix[i - 1] + 1\n",
    "            else:\n",
    "                prefix[i] = prefix[i - 1]\n",
    "\n",
    "        for i in range(len(queries)):\n",
    "            query = queries[i]\n",
    "            start = query[0]\n",
    "            end = query[1]\n",
    "\n",
    "            ans[i] = prefix[end] - prefix[start] == 0\n",
    "\n",
    "        return ans"
   ]
  }
 ],
 "metadata": {
  "kernelspec": {
   "display_name": "Python 3 (ipykernel)",
   "language": "python",
   "name": "python3"
  },
  "language_info": {
   "codemirror_mode": {
    "name": "ipython",
    "version": 3
   },
   "file_extension": ".py",
   "mimetype": "text/x-python",
   "name": "python",
   "nbconvert_exporter": "python",
   "pygments_lexer": "ipython3",
   "version": "3.12.7"
  }
 },
 "nbformat": 4,
 "nbformat_minor": 5
}
