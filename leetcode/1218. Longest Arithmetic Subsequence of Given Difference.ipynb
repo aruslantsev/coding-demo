{
 "cells": [
  {
   "cell_type": "markdown",
   "id": "7b8c78c3-4f57-4824-ae43-53fba4c77a96",
   "metadata": {},
   "source": [
    "Given an integer array arr and an integer difference, return the length of the longest subsequence in arr which is an arithmetic sequence such that the difference between adjacent elements in the subsequence equals difference.\n",
    "\n",
    "A subsequence is a sequence that can be derived from arr by deleting some or no elements without changing the order of the remaining elements.\n",
    "\n",
    " \n",
    "\n",
    "Example 1:\n",
    "\n",
    "Input: arr = [1,2,3,4], difference = 1\n",
    "Output: 4\n",
    "Explanation: The longest arithmetic subsequence is [1,2,3,4].\n",
    "\n",
    "Example 2:\n",
    "\n",
    "Input: arr = [1,3,5,7], difference = 1\n",
    "Output: 1\n",
    "Explanation: The longest arithmetic subsequence is any single element.\n",
    "\n",
    "Example 3:\n",
    "\n",
    "Input: arr = [1,5,7,8,5,3,4,2,1], difference = -2\n",
    "Output: 4\n",
    "Explanation: The longest arithmetic subsequence is [7,5,3,1].\n",
    "\n",
    " \n",
    "\n",
    "Constraints:\n",
    "\n",
    "    1 <= arr.length <= 105\n",
    "    -104 <= arr[i], difference <= 104\n",
    "\n"
   ]
  },
  {
   "cell_type": "code",
   "execution_count": null,
   "id": "d2213e0d-9e74-4833-89bc-10e7756b9fb9",
   "metadata": {},
   "outputs": [],
   "source": [
    "class Solution:\n",
    "    def longestSubsequence(self, arr: List[int], difference: int) -> int:\n",
    "        dp = {}\n",
    "        answer = 1\n",
    "        for a in arr:\n",
    "            before_a = dp.get(a - difference, 0)\n",
    "            dp[a] = before_a + 1\n",
    "            answer = max(answer, dp[a])\n",
    "            \n",
    "        return answer"
   ]
  }
 ],
 "metadata": {
  "kernelspec": {
   "display_name": "Python 3 (ipykernel)",
   "language": "python",
   "name": "python3"
  },
  "language_info": {
   "codemirror_mode": {
    "name": "ipython",
    "version": 3
   },
   "file_extension": ".py",
   "mimetype": "text/x-python",
   "name": "python",
   "nbconvert_exporter": "python",
   "pygments_lexer": "ipython3",
   "version": "3.10.11"
  }
 },
 "nbformat": 4,
 "nbformat_minor": 5
}
