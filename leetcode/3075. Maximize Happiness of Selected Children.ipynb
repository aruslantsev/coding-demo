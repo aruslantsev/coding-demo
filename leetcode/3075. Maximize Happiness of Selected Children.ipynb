{
 "cells": [
  {
   "cell_type": "markdown",
   "id": "6ae456ac-9bd2-4eef-b614-9a2f404ee0ad",
   "metadata": {},
   "source": [
    "You are given an array happiness of length n, and a positive integer k.\n",
    "\n",
    "There are n children standing in a queue, where the ith child has happiness value happiness[i]. You want to select k children from these n children in k turns.\n",
    "\n",
    "In each turn, when you select a child, the happiness value of all the children that have not been selected till now decreases by 1. Note that the happiness value cannot become negative and gets decremented only if it is positive.\n",
    "\n",
    "Return the maximum sum of the happiness values of the selected children you can achieve by selecting k children.\n",
    "\n",
    " \n",
    "\n",
    "Example 1:\n",
    "\n",
    "Input: happiness = [1,2,3], k = 2\n",
    "Output: 4\n",
    "Explanation: We can pick 2 children in the following way:\n",
    "- Pick the child with the happiness value == 3. The happiness value of the remaining children becomes [0,1].\n",
    "- Pick the child with the happiness value == 1. The happiness value of the remaining child becomes [0]. Note that the happiness value cannot become less than 0.\n",
    "The sum of the happiness values of the selected children is 3 + 1 = 4.\n",
    "\n",
    "Example 2:\n",
    "\n",
    "Input: happiness = [1,1,1,1], k = 2\n",
    "Output: 1\n",
    "Explanation: We can pick 2 children in the following way:\n",
    "- Pick any child with the happiness value == 1. The happiness value of the remaining children becomes [0,0,0].\n",
    "- Pick the child with the happiness value == 0. The happiness value of the remaining child becomes [0,0].\n",
    "The sum of the happiness values of the selected children is 1 + 0 = 1.\n",
    "\n",
    "Example 3:\n",
    "\n",
    "Input: happiness = [2,3,4,5], k = 1\n",
    "Output: 5\n",
    "Explanation: We can pick 1 child in the following way:\n",
    "- Pick the child with the happiness value == 5. The happiness value of the remaining children becomes [1,2,3].\n",
    "The sum of the happiness values of the selected children is 5.\n",
    "\n",
    " \n",
    "\n",
    "Constraints:\n",
    "\n",
    "    1 <= n == happiness.length <= 2 * 105\n",
    "    1 <= happiness[i] <= 108\n",
    "    1 <= k <= n\n",
    "\n"
   ]
  },
  {
   "cell_type": "code",
   "execution_count": null,
   "id": "14ee7ffb-48a1-4964-8a23-499613ea3af3",
   "metadata": {},
   "outputs": [],
   "source": [
    "class Solution:\n",
    "    def maximumHappinessSum(self, happiness: List[int], k: int) -> int:\n",
    "        happiness.sort(reverse=True)\n",
    "\n",
    "        total_happiness_sum = 0\n",
    "        turns = 0\n",
    "\n",
    "        for i in range(k):\n",
    "            total_happiness_sum += max(happiness[i] - turns, 0)\n",
    "            turns += 1\n",
    "\n",
    "        return total_happiness_sum"
   ]
  }
 ],
 "metadata": {
  "kernelspec": {
   "display_name": "Python 3 (ipykernel)",
   "language": "python",
   "name": "python3"
  },
  "language_info": {
   "codemirror_mode": {
    "name": "ipython",
    "version": 3
   },
   "file_extension": ".py",
   "mimetype": "text/x-python",
   "name": "python",
   "nbconvert_exporter": "python",
   "pygments_lexer": "ipython3",
   "version": "3.12.3"
  }
 },
 "nbformat": 4,
 "nbformat_minor": 5
}
