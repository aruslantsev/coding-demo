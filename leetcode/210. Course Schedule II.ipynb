{
 "cells": [
  {
   "cell_type": "markdown",
   "id": "77c2b1ce-29c1-4e87-aa1b-a242ea1445e5",
   "metadata": {},
   "source": [
    "There are a total of numCourses courses you have to take, labeled from 0 to numCourses - 1. You are given an array prerequisites where prerequisites[i] = [ai, bi] indicates that you must take course bi first if you want to take course ai.\n",
    "\n",
    "    For example, the pair [0, 1], indicates that to take course 0 you have to first take course 1.\n",
    "\n",
    "Return the ordering of courses you should take to finish all courses. If there are many valid answers, return any of them. If it is impossible to finish all courses, return an empty array.\n",
    "\n",
    " \n",
    "\n",
    "Example 1:\n",
    "\n",
    "Input: numCourses = 2, prerequisites = [[1,0]]\n",
    "Output: [0,1]\n",
    "Explanation: There are a total of 2 courses to take. To take course 1 you should have finished course 0. So the correct course order is [0,1].\n",
    "\n",
    "Example 2:\n",
    "\n",
    "Input: numCourses = 4, prerequisites = [[1,0],[2,0],[3,1],[3,2]]\n",
    "Output: [0,2,1,3]\n",
    "Explanation: There are a total of 4 courses to take. To take course 3 you should have finished both courses 1 and 2. Both courses 1 and 2 should be taken after you finished course 0.\n",
    "So one correct course order is [0,1,2,3]. Another correct ordering is [0,2,1,3].\n",
    "\n",
    "Example 3:\n",
    "\n",
    "Input: numCourses = 1, prerequisites = []\n",
    "Output: [0]\n",
    "\n",
    " \n",
    "\n",
    "Constraints:\n",
    "\n",
    "    1 <= numCourses <= 2000\n",
    "    0 <= prerequisites.length <= numCourses * (numCourses - 1)\n",
    "    prerequisites[i].length == 2\n",
    "    0 <= ai, bi < numCourses\n",
    "    ai != bi\n",
    "    All the pairs [ai, bi] are distinct.\n",
    "\n"
   ]
  },
  {
   "cell_type": "code",
   "execution_count": 20,
   "id": "175f7eb8-b096-40f3-b6d7-6b8310b4fc53",
   "metadata": {},
   "outputs": [],
   "source": [
    "from typing import List\n",
    "import collections\n",
    "\n",
    "class Solution:\n",
    "    def findOrder(self, numCourses: int, prerequisites: List[List[int]]) -> List[int]:\n",
    "        graph = [[] for _ in range(numCourses)]\n",
    "        in_degree = [0 for _ in range(numCourses)]\n",
    "        \n",
    "        for node_in, node_out in prerequisites:\n",
    "            graph[node_out].append(node_in)\n",
    "            in_degree[node_in] += 1\n",
    "            \n",
    "        start_node = [node for node in range(numCourses) if in_degree[node] == 0]\n",
    "        q = collections.deque(start_node)\n",
    "        \n",
    "        result = []\n",
    "        while q:\n",
    "            node = q.popleft()\n",
    "            result.append(node)\n",
    "            for nbr in graph[node]:\n",
    "                in_degree[nbr] -= 1\n",
    "                if in_degree[nbr] == 0:\n",
    "                    q.append(nbr)\n",
    "                    \n",
    "        return result if len(result) == numCourses else []"
   ]
  },
  {
   "cell_type": "code",
   "execution_count": 21,
   "id": "ed38c4ff-e429-4e89-8c60-cbd45c42c9bd",
   "metadata": {},
   "outputs": [
    {
     "data": {
      "text/plain": [
       "[0, 1]"
      ]
     },
     "execution_count": 21,
     "metadata": {},
     "output_type": "execute_result"
    }
   ],
   "source": [
    "s = Solution()\n",
    "s.findOrder(2, [[1,0]])"
   ]
  },
  {
   "cell_type": "code",
   "execution_count": 22,
   "id": "bf9317fd-1e1d-441e-869b-254e2eb7a937",
   "metadata": {},
   "outputs": [
    {
     "data": {
      "text/plain": [
       "[0, 1, 2, 3]"
      ]
     },
     "execution_count": 22,
     "metadata": {},
     "output_type": "execute_result"
    }
   ],
   "source": [
    "s.findOrder(4, [[1,0],[2,0],[3,1],[3,2]])"
   ]
  },
  {
   "cell_type": "code",
   "execution_count": 23,
   "id": "46aedd67-e7e8-48fb-a67a-74339468641a",
   "metadata": {},
   "outputs": [
    {
     "data": {
      "text/plain": [
       "[0]"
      ]
     },
     "execution_count": 23,
     "metadata": {},
     "output_type": "execute_result"
    }
   ],
   "source": [
    "s.findOrder(1, [])"
   ]
  },
  {
   "cell_type": "code",
   "execution_count": null,
   "id": "b0583536-eba9-4014-be3e-4e8c4012f973",
   "metadata": {},
   "outputs": [],
   "source": []
  }
 ],
 "metadata": {
  "kernelspec": {
   "display_name": "Python 3 (ipykernel)",
   "language": "python",
   "name": "python3"
  },
  "language_info": {
   "codemirror_mode": {
    "name": "ipython",
    "version": 3
   },
   "file_extension": ".py",
   "mimetype": "text/x-python",
   "name": "python",
   "nbconvert_exporter": "python",
   "pygments_lexer": "ipython3",
   "version": "3.9.10"
  }
 },
 "nbformat": 4,
 "nbformat_minor": 5
}
