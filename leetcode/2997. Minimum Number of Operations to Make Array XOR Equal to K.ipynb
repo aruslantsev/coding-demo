{
 "cells": [
  {
   "cell_type": "markdown",
   "id": "3ef3f97c-1a26-4dfc-9077-59dc048d17c4",
   "metadata": {},
   "source": [
    "You are given a 0-indexed integer array nums and a positive integer k.\n",
    "\n",
    "You can apply the following operation on the array any number of times:\n",
    "\n",
    "    Choose any element of the array and flip a bit in its binary representation. Flipping a bit means changing a 0 to 1 or vice versa.\n",
    "\n",
    "Return the minimum number of operations required to make the bitwise XOR of all elements of the final array equal to k.\n",
    "\n",
    "Note that you can flip leading zero bits in the binary representation of elements. For example, for the number (101)2 you can flip the fourth bit and obtain (1101)2.\n",
    "\n",
    " \n",
    "\n",
    "Example 1:\n",
    "\n",
    "Input: nums = [2,1,3,4], k = 1\n",
    "Output: 2\n",
    "Explanation: We can do the following operations:\n",
    "- Choose element 2 which is 3 == (011)2, we flip the first bit and we obtain (010)2 == 2. nums becomes [2,1,2,4].\n",
    "- Choose element 0 which is 2 == (010)2, we flip the third bit and we obtain (110)2 = 6. nums becomes [6,1,2,4].\n",
    "The XOR of elements of the final array is (6 XOR 1 XOR 2 XOR 4) == 1 == k.\n",
    "It can be shown that we cannot make the XOR equal to k in less than 2 operations.\n",
    "\n",
    "Example 2:\n",
    "\n",
    "Input: nums = [2,0,2,0], k = 0\n",
    "Output: 0\n",
    "Explanation: The XOR of elements of the array is (2 XOR 0 XOR 2 XOR 0) == 0 == k. So no operation is needed.\n",
    "\n",
    " \n",
    "\n",
    "Constraints:\n",
    "\n",
    "    1 <= nums.length <= 105\n",
    "    0 <= nums[i] <= 106\n",
    "    0 <= k <= 106\n",
    "\n"
   ]
  },
  {
   "cell_type": "code",
   "execution_count": null,
   "id": "2d34e3f3-a328-4686-80e9-2b626762512a",
   "metadata": {},
   "outputs": [],
   "source": [
    "class Solution:\n",
    "    def minOperations(self, nums: List[int], k: int) -> int:\n",
    "        result = 0\n",
    "        for num in nums:\n",
    "            result ^= num\n",
    "        ans = 0\n",
    "        while result != k:\n",
    "            if result % 2 != k % 2:\n",
    "                ans += 1\n",
    "            result //= 2\n",
    "            k //= 2\n",
    "        return ans\n"
   ]
  },
  {
   "cell_type": "code",
   "execution_count": null,
   "id": "09edeca6-751b-4204-8e37-4b1c738968d2",
   "metadata": {},
   "outputs": [],
   "source": [
    "class Solution:\n",
    "    def minOperations(self, nums: List[int], k: int) -> int:\n",
    "        final_xor = 0\n",
    "        for n in nums:\n",
    "            final_xor = final_xor ^ n\n",
    "\n",
    "        return bin(final_xor ^ k).count('1')"
   ]
  }
 ],
 "metadata": {
  "kernelspec": {
   "display_name": "Python 3 (ipykernel)",
   "language": "python",
   "name": "python3"
  },
  "language_info": {
   "codemirror_mode": {
    "name": "ipython",
    "version": 3
   },
   "file_extension": ".py",
   "mimetype": "text/x-python",
   "name": "python",
   "nbconvert_exporter": "python",
   "pygments_lexer": "ipython3",
   "version": "3.12.3"
  }
 },
 "nbformat": 4,
 "nbformat_minor": 5
}
