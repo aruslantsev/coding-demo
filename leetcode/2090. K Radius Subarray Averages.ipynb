{
 "cells": [
  {
   "attachments": {
    "36e91e24-ffe0-4ee8-b932-4d9f30412275.png": {
     "image/png": "[encoded data removed]"
    }
   },
   "cell_type": "markdown",
   "id": "6e174375-2674-435e-a9f6-cefa92a8ac23",
   "metadata": {},
   "source": [
    "You are given a 0-indexed array nums of n integers, and an integer k.\n",
    "\n",
    "The k-radius average for a subarray of nums centered at some index i with the radius k is the average of all elements in nums between the indices i - k and i + k (inclusive). If there are less than k elements before or after the index i, then the k-radius average is -1.\n",
    "\n",
    "Build and return an array avgs of length n where avgs[i] is the k-radius average for the subarray centered at index i.\n",
    "\n",
    "The average of x elements is the sum of the x elements divided by x, using integer division. The integer division truncates toward zero, which means losing its fractional part.\n",
    "\n",
    "    For example, the average of four elements 2, 3, 1, and 5 is (2 + 3 + 1 + 5) / 4 = 11 / 4 = 2.75, which truncates to 2.\n",
    "\n",
    " \n",
    "\n",
    "Example 1:\n",
    "\n",
    "![image.png](attachment:36e91e24-ffe0-4ee8-b932-4d9f30412275.png)\n",
    "\n",
    "Input: nums = [7,4,3,9,1,8,5,2,6], k = 3\n",
    "Output: [-1,-1,-1,5,4,4,-1,-1,-1]\n",
    "Explanation:\n",
    "- avg[0], avg[1], and avg[2] are -1 because there are less than k elements before each index.\n",
    "- The sum of the subarray centered at index 3 with radius 3 is: 7 + 4 + 3 + 9 + 1 + 8 + 5 = 37.\n",
    "  Using integer division, avg[3] = 37 / 7 = 5.\n",
    "- For the subarray centered at index 4, avg[4] = (4 + 3 + 9 + 1 + 8 + 5 + 2) / 7 = 4.\n",
    "- For the subarray centered at index 5, avg[5] = (3 + 9 + 1 + 8 + 5 + 2 + 6) / 7 = 4.\n",
    "- avg[6], avg[7], and avg[8] are -1 because there are less than k elements after each index.\n",
    "\n",
    "Example 2:\n",
    "\n",
    "Input: nums = [100000], k = 0\n",
    "Output: [100000]\n",
    "Explanation:\n",
    "- The sum of the subarray centered at index 0 with radius 0 is: 100000.\n",
    "  avg[0] = 100000 / 1 = 100000.\n",
    "\n",
    "Example 3:\n",
    "\n",
    "Input: nums = [8], k = 100000\n",
    "Output: [-1]\n",
    "Explanation: \n",
    "- avg[0] is -1 because there are less than k elements before and after index 0.\n",
    "\n",
    " \n",
    "\n",
    "Constraints:\n",
    "\n",
    "    n == nums.length\n",
    "    1 <= n <= 105\n",
    "    0 <= nums[i], k <= 105\n",
    "\n"
   ]
  },
  {
   "cell_type": "code",
   "execution_count": null,
   "id": "760e9fbd-eed0-4b15-bee2-a73915cf4207",
   "metadata": {},
   "outputs": [],
   "source": [
    "class Solution:\n",
    "    def getAverages(self, nums: List[int], k: int) -> List[int]:\n",
    "        if k == 0:\n",
    "            return nums\n",
    "        if 2 * k + 1 > len(nums):\n",
    "            return [-1] * len(nums)\n",
    "\n",
    "        ans = [-1 for _ in nums]\n",
    "        windowsum = sum(nums[:2 * k + 1])\n",
    "        for i in range(k, len(nums) - k):\n",
    "            ans[i] = windowsum // (2 * k + 1)\n",
    "            windowsum -= nums[i - k]\n",
    "            if i + k + 1 < len(nums):\n",
    "                windowsum += nums[i + k + 1]\n",
    "        return ans"
   ]
  }
 ],
 "metadata": {
  "kernelspec": {
   "display_name": "Python 3 (ipykernel)",
   "language": "python",
   "name": "python3"
  },
  "language_info": {
   "codemirror_mode": {
    "name": "ipython",
    "version": 3
   },
   "file_extension": ".py",
   "mimetype": "text/x-python",
   "name": "python",
   "nbconvert_exporter": "python",
   "pygments_lexer": "ipython3",
   "version": "3.10.11"
  }
 },
 "nbformat": 4,
 "nbformat_minor": 5
}
