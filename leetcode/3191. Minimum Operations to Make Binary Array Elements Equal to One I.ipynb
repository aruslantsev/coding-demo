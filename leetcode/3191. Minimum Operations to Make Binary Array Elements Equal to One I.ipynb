{
 "cells": [
  {
   "cell_type": "markdown",
   "id": "45c2d1e7-ca68-482c-8e43-707878f242cb",
   "metadata": {},
   "source": [
    "You are given a\n",
    "\n",
    "nums.\n",
    "\n",
    "You can do the following operation on the array any number of times (possibly zero):\n",
    "\n",
    "    Choose any 3 consecutive elements from the array and flip all of them.\n",
    "\n",
    "Flipping an element means changing its value from 0 to 1, and from 1 to 0.\n",
    "\n",
    "Return the minimum number of operations required to make all elements in nums equal to 1. If it is impossible, return -1.\n",
    "\n",
    " \n",
    "\n",
    "Example 1:\n",
    "\n",
    "Input: nums = [0,1,1,1,0,0]\n",
    "\n",
    "Output: 3\n",
    "\n",
    "Explanation:\n",
    "We can do the following operations:\n",
    "\n",
    "    Choose the elements at indices 0, 1 and 2. The resulting array is nums = [1,0,0,1,0,0].\n",
    "    Choose the elements at indices 1, 2 and 3. The resulting array is nums = [1,1,1,0,0,0].\n",
    "    Choose the elements at indices 3, 4 and 5. The resulting array is nums = [1,1,1,1,1,1].\n",
    "\n",
    "Example 2:\n",
    "\n",
    "Input: nums = [0,1,1,1]\n",
    "\n",
    "Output: -1\n",
    "\n",
    "Explanation:\n",
    "It is impossible to make all elements equal to 1.\n",
    "\n",
    " \n",
    "\n",
    "Constraints:\n",
    "\n",
    "    3 <= nums.length <= 105\n",
    "    0 <= nums[i] <= 1\n"
   ]
  },
  {
   "cell_type": "code",
   "execution_count": null,
   "id": "73e8e01c-a46d-48a5-bb8c-e8601c0d8a21",
   "metadata": {},
   "outputs": [],
   "source": [
    "class Solution:\n",
    "    def minOperations(self, nums: List[int]) -> int:\n",
    "        ans = 0\n",
    "        for i in range(len(nums) - 2):\n",
    "            if nums[i] == 0:\n",
    "                nums[i] = 1\n",
    "                nums[i + 1] ^= 1\n",
    "                nums[i + 2] ^= 1\n",
    "                ans += 1\n",
    "        if nums[-1] and nums[-2]:\n",
    "            return ans\n",
    "        return -1\n",
    "            "
   ]
  }
 ],
 "metadata": {
  "kernelspec": {
   "display_name": "common",
   "language": "python",
   "name": "common"
  },
  "language_info": {
   "codemirror_mode": {
    "name": "ipython",
    "version": 3
   },
   "file_extension": ".py",
   "mimetype": "text/x-python",
   "name": "python",
   "nbconvert_exporter": "python",
   "pygments_lexer": "ipython3",
   "version": "3.12.9"
  }
 },
 "nbformat": 4,
 "nbformat_minor": 5
}
