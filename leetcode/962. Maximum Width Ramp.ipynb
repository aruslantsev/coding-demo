{
 "cells": [
  {
   "cell_type": "markdown",
   "id": "0e642bbb-cdde-4329-92ac-9b3e238646ae",
   "metadata": {},
   "source": [
    "A ramp in an integer array nums is a pair (i, j) for which i < j and nums[i] <= nums[j]. The width of such a ramp is j - i.\n",
    "\n",
    "Given an integer array nums, return the maximum width of a ramp in nums. If there is no ramp in nums, return 0.\n",
    "\n",
    " \n",
    "\n",
    "Example 1:\n",
    "\n",
    "Input: nums = [6,0,8,2,1,5]\n",
    "Output: 4\n",
    "Explanation: The maximum width ramp is achieved at (i, j) = (1, 5): nums[1] = 0 and nums[5] = 5.\n",
    "\n",
    "Example 2:\n",
    "\n",
    "Input: nums = [9,8,1,0,1,9,4,0,4,1]\n",
    "Output: 7\n",
    "Explanation: The maximum width ramp is achieved at (i, j) = (2, 9): nums[2] = 1 and nums[9] = 1.\n",
    "\n",
    " \n",
    "\n",
    "Constraints:\n",
    "\n",
    "    2 <= nums.length <= 5 * 104\n",
    "    0 <= nums[i] <= 5 * 104\n",
    "\n"
   ]
  },
  {
   "cell_type": "code",
   "execution_count": null,
   "id": "8aa70f8e-5879-4f32-a301-da44a071fe3b",
   "metadata": {},
   "outputs": [],
   "source": [
    "class Solution:\n",
    "    def maxWidthRamp(self, nums: List[int]) -> int:\n",
    "        n = len(nums)\n",
    "        indices = [i for i in range(n)]\n",
    "\n",
    "        # Sort indices based on corresponding values in nums and ensure stability\n",
    "        indices.sort(key=lambda i: (nums[i], i))\n",
    "\n",
    "        min_index = n  # Minimum index encountered so far\n",
    "        max_width = 0\n",
    "\n",
    "        # Calculate maximum width ramp\n",
    "        for i in indices:\n",
    "            max_width = max(max_width, i - min_index)\n",
    "            min_index = min(min_index, i)\n",
    "\n",
    "        return max_width"
   ]
  }
 ],
 "metadata": {
  "kernelspec": {
   "display_name": "Python 3 (ipykernel)",
   "language": "python",
   "name": "python3"
  },
  "language_info": {
   "codemirror_mode": {
    "name": "ipython",
    "version": 3
   },
   "file_extension": ".py",
   "mimetype": "text/x-python",
   "name": "python",
   "nbconvert_exporter": "python",
   "pygments_lexer": "ipython3",
   "version": "3.12.7"
  }
 },
 "nbformat": 4,
 "nbformat_minor": 5
}
