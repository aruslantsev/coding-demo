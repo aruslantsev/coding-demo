{
 "cells": [
  {
   "cell_type": "markdown",
   "id": "8f42f208-bea1-482c-a4c5-1748331dd61d",
   "metadata": {},
   "source": [
    "Given an integer array sorted in non-decreasing order, there is exactly one integer in the array that occurs more than 25% of the time, return that integer.\n",
    "\n",
    " \n",
    "\n",
    "Example 1:\n",
    "\n",
    "Input: arr = [1,2,2,6,6,6,6,7,10]\n",
    "Output: 6\n",
    "\n",
    "Example 2:\n",
    "\n",
    "Input: arr = [1,1]\n",
    "Output: 1\n",
    "\n",
    " \n",
    "\n",
    "Constraints:\n",
    "\n",
    "    1 <= arr.length <= 104\n",
    "    0 <= arr[i] <= 105\n",
    "\n"
   ]
  },
  {
   "cell_type": "code",
   "execution_count": null,
   "id": "c05c40ab-e297-4f21-870a-f2f4e864fa1f",
   "metadata": {},
   "outputs": [],
   "source": [
    "class Solution:\n",
    "    def findSpecialInteger(self, arr: List[int]) -> int:\n",
    "        if len(arr) == 1:\n",
    "            return arr[0]\n",
    "\n",
    "        total = len(arr)\n",
    "        curr = 1\n",
    "        for i in range(1, len(arr)):\n",
    "            if arr[i] == arr[i - 1]:\n",
    "                curr += 1\n",
    "                if curr / total > 0.25:\n",
    "                    return arr[i]\n",
    "            else:\n",
    "                curr = 1\n",
    "        "
   ]
  },
  {
   "cell_type": "code",
   "execution_count": 1,
   "id": "30247295-3485-42e7-93a8-c79bb4dc8117",
   "metadata": {
    "tags": []
   },
   "outputs": [],
   "source": [
    "from typing import List\n",
    "from collections import Counter\n",
    "\n",
    "class Solution:\n",
    "    def findSpecialInteger(self, arr: List[int]) -> int:\n",
    "        c = Counter(arr)\n",
    "        total = len(arr)\n",
    "        elem, count = c.most_common(1)[0]\n",
    "        return elem"
   ]
  },
  {
   "cell_type": "code",
   "execution_count": 4,
   "id": "307efdb3-ffa4-42a7-8e67-785d3051d0c8",
   "metadata": {
    "tags": []
   },
   "outputs": [
    {
     "data": {
      "text/plain": [
       "('a', 3)"
      ]
     },
     "execution_count": 4,
     "metadata": {},
     "output_type": "execute_result"
    }
   ],
   "source": [
    "Counter(\"1aaa2\").most_common(1)[0]"
   ]
  },
  {
   "cell_type": "code",
   "execution_count": null,
   "id": "5ad659d6-94cc-4b35-bca0-a096519ba047",
   "metadata": {},
   "outputs": [],
   "source": []
  }
 ],
 "metadata": {
  "kernelspec": {
   "display_name": "Python 3 (ipykernel)",
   "language": "python",
   "name": "python3"
  },
  "language_info": {
   "codemirror_mode": {
    "name": "ipython",
    "version": 3
   },
   "file_extension": ".py",
   "mimetype": "text/x-python",
   "name": "python",
   "nbconvert_exporter": "python",
   "pygments_lexer": "ipython3",
   "version": "3.11.4"
  }
 },
 "nbformat": 4,
 "nbformat_minor": 5
}
