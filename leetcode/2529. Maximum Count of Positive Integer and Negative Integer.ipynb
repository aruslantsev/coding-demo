{
 "cells": [
  {
   "cell_type": "markdown",
   "id": "fc7d97d9-bbcc-419b-b45a-cb3ca96bef69",
   "metadata": {},
   "source": [
    "Given an array nums sorted in non-decreasing order, return the maximum between the number of positive integers and the number of negative integers.\n",
    "\n",
    "    In other words, if the number of positive integers in nums is pos and the number of negative integers is neg, then return the maximum of pos and neg.\n",
    "\n",
    "Note that 0 is neither positive nor negative.\n",
    "\n",
    " \n",
    "\n",
    "Example 1:\n",
    "\n",
    "Input: nums = [-2,-1,-1,1,2,3]\n",
    "Output: 3\n",
    "Explanation: There are 3 positive integers and 3 negative integers. The maximum count among them is 3.\n",
    "\n",
    "Example 2:\n",
    "\n",
    "Input: nums = [-3,-2,-1,0,0,1,2]\n",
    "Output: 3\n",
    "Explanation: There are 2 positive integers and 3 negative integers. The maximum count among them is 3.\n",
    "\n",
    "Example 3:\n",
    "\n",
    "Input: nums = [5,20,66,1314]\n",
    "Output: 4\n",
    "Explanation: There are 4 positive integers and 0 negative integers. The maximum count among them is 4.\n",
    "\n",
    " \n",
    "\n",
    "Constraints:\n",
    "\n",
    "    1 <= nums.length <= 2000\n",
    "    -2000 <= nums[i] <= 2000\n",
    "    nums is sorted in a non-decreasing order.\n"
   ]
  },
  {
   "cell_type": "code",
   "execution_count": null,
   "id": "badd6d5d-19cb-49ca-985f-3f3a0422d243",
   "metadata": {},
   "outputs": [],
   "source": [
    "class Solution:\n",
    "    def maximumCount(self, nums: List[int]) -> int:\n",
    "        if nums[0] >= 0:\n",
    "            neg = 0\n",
    "            if nums[0] > 0:\n",
    "                return len(nums)\n",
    "        else:\n",
    "            l = 0\n",
    "            r = len(nums) - 1\n",
    "            while r - l > 1:\n",
    "                mid = (l + r) // 2\n",
    "                if nums[mid] >= 0:\n",
    "                    r = mid\n",
    "                else:\n",
    "                    l = mid\n",
    "            neg = l + 1\n",
    "        if nums[-1] <= 0:\n",
    "            pos = 0\n",
    "            if nums[-1] < 0:\n",
    "                return len(nums)\n",
    "        else:\n",
    "            l = 0\n",
    "            r = len(nums) - 1\n",
    "            while r - l > 1:\n",
    "                mid = (l + r) // 2\n",
    "                if nums[mid] <= 0:\n",
    "                    l = mid\n",
    "                else:\n",
    "                    r = mid\n",
    "            pos = len(nums) - r\n",
    "        return max(pos, neg)\n",
    "        "
   ]
  }
 ],
 "metadata": {
  "kernelspec": {
   "display_name": "Python 3 (ipykernel)",
   "language": "python",
   "name": "python3"
  },
  "language_info": {
   "codemirror_mode": {
    "name": "ipython",
    "version": 3
   },
   "file_extension": ".py",
   "mimetype": "text/x-python",
   "name": "python",
   "nbconvert_exporter": "python",
   "pygments_lexer": "ipython3",
   "version": "3.12.7"
  }
 },
 "nbformat": 4,
 "nbformat_minor": 5
}
