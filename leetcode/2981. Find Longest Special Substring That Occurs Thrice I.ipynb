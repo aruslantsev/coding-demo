{
 "cells": [
  {
   "cell_type": "markdown",
   "id": "65964c2c-463b-4915-bd2d-eb57b281c9db",
   "metadata": {},
   "source": [
    "You are given a string s that consists of lowercase English letters.\n",
    "\n",
    "A string is called special if it is made up of only a single character. For example, the string \"abc\" is not special, whereas the strings \"ddd\", \"zz\", and \"f\" are special.\n",
    "\n",
    "Return the length of the longest special substring of s which occurs at least thrice, or -1 if no special substring occurs at least thrice.\n",
    "\n",
    "A substring is a contiguous non-empty sequence of characters within a string.\n",
    "\n",
    " \n",
    "\n",
    "Example 1:\n",
    "\n",
    "Input: s = \"aaaa\"\n",
    "Output: 2\n",
    "Explanation: The longest special substring which occurs thrice is \"aa\": substrings \"aaaa\", \"aaaa\", and \"aaaa\".\n",
    "It can be shown that the maximum length achievable is 2.\n",
    "\n",
    "Example 2:\n",
    "\n",
    "Input: s = \"abcdef\"\n",
    "Output: -1\n",
    "Explanation: There exists no special substring which occurs at least thrice. Hence return -1.\n",
    "\n",
    "Example 3:\n",
    "\n",
    "Input: s = \"abcaba\"\n",
    "Output: 1\n",
    "Explanation: The longest special substring which occurs thrice is \"a\": substrings \"abcaba\", \"abcaba\", and \"abcaba\".\n",
    "It can be shown that the maximum length achievable is 1.\n",
    "\n",
    " \n",
    "\n",
    "Constraints:\n",
    "\n",
    "    3 <= s.length <= 50\n",
    "    s consists of only lowercase English letters.\n",
    "\n"
   ]
  },
  {
   "cell_type": "code",
   "execution_count": null,
   "id": "184446ed-75e4-4ab0-adc4-a7cacbcc4950",
   "metadata": {},
   "outputs": [],
   "source": [
    "class Solution:\n",
    "    def maximumLength(self, s: str) -> int:\n",
    "        s += \" \"\n",
    "        cnt = defaultdict(int)\n",
    "        curr_sym = None\n",
    "        curr_len = 0\n",
    "        for sym in s:\n",
    "            if sym == curr_sym:\n",
    "                curr_len += 1\n",
    "            else:\n",
    "                for i in range(1, curr_len + 1):\n",
    "                    cnt[curr_sym * i] += curr_len - (i - 1)\n",
    "                curr_sym = sym\n",
    "                curr_len = 1\n",
    "        ans = -1\n",
    "        for k, v in cnt.items():\n",
    "            if v >= 3:\n",
    "                ans = max(ans, len(k))\n",
    "        return ans\n"
   ]
  }
 ],
 "metadata": {
  "kernelspec": {
   "display_name": "Python 3 (ipykernel)",
   "language": "python",
   "name": "python3"
  },
  "language_info": {
   "codemirror_mode": {
    "name": "ipython",
    "version": 3
   },
   "file_extension": ".py",
   "mimetype": "text/x-python",
   "name": "python",
   "nbconvert_exporter": "python",
   "pygments_lexer": "ipython3",
   "version": "3.12.7"
  }
 },
 "nbformat": 4,
 "nbformat_minor": 5
}
