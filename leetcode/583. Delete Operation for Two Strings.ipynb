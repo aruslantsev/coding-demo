{
 "cells": [
  {
   "cell_type": "markdown",
   "id": "c4c2b230-abe7-450d-9b2f-6de7033aa1ac",
   "metadata": {},
   "source": [
    "Given two strings word1 and word2, return the minimum number of steps required to make word1 and word2 the same.\n",
    "\n",
    "In one step, you can delete exactly one character in either string.\n",
    "\n",
    " \n",
    "\n",
    "Example 1:\n",
    "\n",
    "Input: word1 = \"sea\", word2 = \"eat\"\n",
    "Output: 2\n",
    "Explanation: You need one step to make \"sea\" to \"ea\" and another step to make \"eat\" to \"ea\".\n",
    "\n",
    "Example 2:\n",
    "\n",
    "Input: word1 = \"leetcode\", word2 = \"etco\"\n",
    "Output: 4\n",
    "\n",
    " \n",
    "\n",
    "Constraints:\n",
    "\n",
    "    1 <= word1.length, word2.length <= 500\n",
    "    word1 and word2 consist of only lowercase English letters.\n",
    "\n"
   ]
  },
  {
   "cell_type": "code",
   "execution_count": 13,
   "id": "668a1bde-d6c1-44a5-bd0f-7d2e1b8a03fe",
   "metadata": {},
   "outputs": [],
   "source": [
    "class Solution:\n",
    "    def minDistance(self, word1: str, word2: str) -> int:\n",
    "        memo = [[0 for _ in range(len(word2) + 1)] for _ in range(len(word1) + 1)]\n",
    "        for i in range(len(memo[0])):\n",
    "            memo[0][i] = i\n",
    "        for i in range(len(memo)):\n",
    "            memo[i][0] = i\n",
    "        for i in range(len(memo) - 1):\n",
    "            for j in range(len(memo[0]) - 1):\n",
    "                memo[i + 1][j + 1] = min(\n",
    "                    memo[i][j + 1] + 1,\n",
    "                    memo[i + 1][j] + 1,\n",
    "                    memo[i][j] + (1 if word1[i] == word2[j] else 1)\n",
    "                )\n",
    "        return memo[-1][-1]"
   ]
  },
  {
   "cell_type": "code",
   "execution_count": 14,
   "id": "2084cc98-e89f-442e-bdca-3bc0da3038ef",
   "metadata": {},
   "outputs": [],
   "source": [
    "from functools import cache\n",
    "\n",
    "class Solution:\n",
    "    def minDistance(self, word1: str, word2: str) -> int:\n",
    "        m, n = len(word1), len(word2)\n",
    "        \n",
    "        @cache\n",
    "        def lcs(i, j): # find longest common subsequence\n",
    "            if i == m or j == n:\n",
    "                return 0\n",
    "            \n",
    "            return 1 + lcs(i + 1, j + 1) if word1[i] == word2[j] else max(lcs(i + 1, j), lcs(i,j + 1))                               \n",
    "        # subtract the lcs length from both the strings \n",
    "        # the difference is the number of characters that has to deleted\n",
    "        return m + n - 2 * lcs(0, 0)"
   ]
  },
  {
   "cell_type": "code",
   "execution_count": 15,
   "id": "e11dcba0-ccbc-4a54-b1a3-e485cf927f04",
   "metadata": {},
   "outputs": [
    {
     "data": {
      "text/plain": [
       "2"
      ]
     },
     "execution_count": 15,
     "metadata": {},
     "output_type": "execute_result"
    }
   ],
   "source": [
    "s = Solution()\n",
    "s.minDistance(\"sea\", \"eat\")"
   ]
  },
  {
   "cell_type": "code",
   "execution_count": 16,
   "id": "d04a916e-c585-4fc3-846f-a9ea476bc96f",
   "metadata": {},
   "outputs": [
    {
     "data": {
      "text/plain": [
       "4"
      ]
     },
     "execution_count": 16,
     "metadata": {},
     "output_type": "execute_result"
    }
   ],
   "source": [
    "s.minDistance(\"leetcode\", \"etco\")"
   ]
  },
  {
   "cell_type": "code",
   "execution_count": null,
   "id": "70beab47-cde8-4e55-b572-cf26dd1327d8",
   "metadata": {},
   "outputs": [],
   "source": []
  }
 ],
 "metadata": {
  "kernelspec": {
   "display_name": "Python 3 (ipykernel)",
   "language": "python",
   "name": "python3"
  },
  "language_info": {
   "codemirror_mode": {
    "name": "ipython",
    "version": 3
   },
   "file_extension": ".py",
   "mimetype": "text/x-python",
   "name": "python",
   "nbconvert_exporter": "python",
   "pygments_lexer": "ipython3",
   "version": "3.9.10"
  }
 },
 "nbformat": 4,
 "nbformat_minor": 5
}
