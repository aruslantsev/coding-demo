{
 "cells": [
  {
   "cell_type": "markdown",
   "id": "2c75c832-99c9-4cbf-af7c-fa0ff54c3f50",
   "metadata": {},
   "source": [
    "You have k lists of sorted integers in non-decreasing order. Find the smallest range that includes at least one number from each of the k lists.\n",
    "\n",
    "We define the range [a, b] is smaller than range [c, d] if b - a < d - c or a < c if b - a == d - c.\n",
    "\n",
    " \n",
    "\n",
    "Example 1:\n",
    "\n",
    "Input: nums = [[4,10,15,24,26],[0,9,12,20],[5,18,22,30]]\n",
    "Output: [20,24]\n",
    "Explanation: \n",
    "List 1: [4, 10, 15, 24,26], 24 is in range [20,24].\n",
    "List 2: [0, 9, 12, 20], 20 is in range [20,24].\n",
    "List 3: [5, 18, 22, 30], 22 is in range [20,24].\n",
    "\n",
    "Example 2:\n",
    "\n",
    "Input: nums = [[1,2,3],[1,2,3],[1,2,3]]\n",
    "Output: [1,1]\n",
    "\n",
    " \n",
    "\n",
    "Constraints:\n",
    "\n",
    "    nums.length == k\n",
    "    1 <= k <= 3500\n",
    "    1 <= nums[i].length <= 50\n",
    "    -105 <= nums[i][j] <= 105\n",
    "    nums[i] is sorted in non-decreasing order.\n",
    "\n"
   ]
  },
  {
   "cell_type": "code",
   "execution_count": null,
   "id": "016bd31b-9c28-4039-a5a7-093e3bf516ee",
   "metadata": {},
   "outputs": [],
   "source": [
    "class Solution:\n",
    "    def smallestRange(self, nums: List[List[int]]) -> List[int]:\n",
    "        merged = []\n",
    "\n",
    "        # Merge all lists with their list index\n",
    "        for i in range(len(nums)):\n",
    "            for num in nums[i]:\n",
    "                merged.append((num, i))\n",
    "\n",
    "        # Sort the merged list\n",
    "        merged.sort()\n",
    "\n",
    "        # Two pointers to track the smallest range\n",
    "        freq = defaultdict(int)\n",
    "        left, count = 0, 0\n",
    "        range_start, range_end = 0, float(\"inf\")\n",
    "\n",
    "        for right in range(len(merged)):\n",
    "            freq[merged[right][1]] += 1\n",
    "            if freq[merged[right][1]] == 1:\n",
    "                count += 1\n",
    "\n",
    "            # When all lists are represented, try to shrink the window\n",
    "            while count == len(nums):\n",
    "                cur_range = merged[right][0] - merged[left][0]\n",
    "                if cur_range < range_end - range_start:\n",
    "                    range_start = merged[left][0]\n",
    "                    range_end = merged[right][0]\n",
    "\n",
    "                freq[merged[left][1]] -= 1\n",
    "                if freq[merged[left][1]] == 0:\n",
    "                    count -= 1\n",
    "                left += 1\n",
    "\n",
    "        return [range_start, range_end]"
   ]
  }
 ],
 "metadata": {
  "kernelspec": {
   "display_name": "Python 3 (ipykernel)",
   "language": "python",
   "name": "python3"
  },
  "language_info": {
   "codemirror_mode": {
    "name": "ipython",
    "version": 3
   },
   "file_extension": ".py",
   "mimetype": "text/x-python",
   "name": "python",
   "nbconvert_exporter": "python",
   "pygments_lexer": "ipython3",
   "version": "3.12.7"
  }
 },
 "nbformat": 4,
 "nbformat_minor": 5
}
