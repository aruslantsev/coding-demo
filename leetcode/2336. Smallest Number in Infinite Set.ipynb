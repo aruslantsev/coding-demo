{
 "cells": [
  {
   "cell_type": "markdown",
   "id": "a6d495e2-2851-43e1-ab1c-8cfdce77baa2",
   "metadata": {},
   "source": [
    "You have a set which contains all positive integers [1, 2, 3, 4, 5, ...].\n",
    "\n",
    "Implement the SmallestInfiniteSet class:\n",
    "\n",
    "    SmallestInfiniteSet() Initializes the SmallestInfiniteSet object to contain all positive integers.\n",
    "    int popSmallest() Removes and returns the smallest integer contained in the infinite set.\n",
    "    void addBack(int num) Adds a positive integer num back into the infinite set, if it is not already in the infinite set.\n",
    "\n",
    " \n",
    "\n",
    "Example 1:\n",
    "\n",
    "Input\n",
    "[\"SmallestInfiniteSet\", \"addBack\", \"popSmallest\", \"popSmallest\", \"popSmallest\", \"addBack\", \"popSmallest\", \"popSmallest\", \"popSmallest\"]\n",
    "[[], [2], [], [], [], [1], [], [], []]\n",
    "Output\n",
    "[null, null, 1, 2, 3, null, 1, 4, 5]\n",
    "\n",
    "Explanation\n",
    "SmallestInfiniteSet smallestInfiniteSet = new SmallestInfiniteSet();\n",
    "smallestInfiniteSet.addBack(2);    // 2 is already in the set, so no change is made.\n",
    "smallestInfiniteSet.popSmallest(); // return 1, since 1 is the smallest number, and remove it from the set.\n",
    "smallestInfiniteSet.popSmallest(); // return 2, and remove it from the set.\n",
    "smallestInfiniteSet.popSmallest(); // return 3, and remove it from the set.\n",
    "smallestInfiniteSet.addBack(1);    // 1 is added back to the set.\n",
    "smallestInfiniteSet.popSmallest(); // return 1, since 1 was added back to the set and\n",
    "                                   // is the smallest number, and remove it from the set.\n",
    "smallestInfiniteSet.popSmallest(); // return 4, and remove it from the set.\n",
    "smallestInfiniteSet.popSmallest(); // return 5, and remove it from the set.\n",
    "\n",
    " \n",
    "\n",
    "Constraints:\n",
    "\n",
    "    1 <= num <= 1000\n",
    "    At most 1000 calls will be made in total to popSmallest and addBack.\n",
    "\n"
   ]
  },
  {
   "cell_type": "code",
   "execution_count": null,
   "id": "c32922eb-0337-4510-a78c-a960698d893c",
   "metadata": {},
   "outputs": [],
   "source": [
    "import heapq\n",
    "\n",
    "class SmallestInfiniteSet:\n",
    "\n",
    "    def __init__(self):\n",
    "        self.min_num = 1\n",
    "        self.heap = []\n",
    "        \n",
    "    def popSmallest(self) -> int:\n",
    "        if self.heap:\n",
    "            return heapq.heappop(self.heap)\n",
    "        self.min_num += 1\n",
    "        return self.min_num - 1\n",
    "\n",
    "    def addBack(self, num: int) -> None:\n",
    "        if self.min_num > num and num not in self.heap:\n",
    "            heapq.heappush(self.heap, num)\n",
    "        \n",
    "\n",
    "\n",
    "# Your SmallestInfiniteSet object will be instantiated and called as such:\n",
    "# obj = SmallestInfiniteSet()\n",
    "# param_1 = obj.popSmallest()\n",
    "# obj.addBack(num)\n"
   ]
  }
 ],
 "metadata": {
  "kernelspec": {
   "display_name": "Python 3 (ipykernel)",
   "language": "python",
   "name": "python3"
  },
  "language_info": {
   "codemirror_mode": {
    "name": "ipython",
    "version": 3
   },
   "file_extension": ".py",
   "mimetype": "text/x-python",
   "name": "python",
   "nbconvert_exporter": "python",
   "pygments_lexer": "ipython3",
   "version": "3.10.8"
  }
 },
 "nbformat": 4,
 "nbformat_minor": 5
}
