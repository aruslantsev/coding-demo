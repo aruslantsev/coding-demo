{
 "cells": [
  {
   "cell_type": "markdown",
   "id": "4113b533-ee4e-42cc-8f42-a7326956d161",
   "metadata": {},
   "source": [
    "You are given two string arrays words1 and words2.\n",
    "\n",
    "A string b is a subset of string a if every letter in b occurs in a including multiplicity.\n",
    "\n",
    "    For example, \"wrr\" is a subset of \"warrior\" but is not a subset of \"world\".\n",
    "\n",
    "A string a from words1 is universal if for every string b in words2, b is a subset of a.\n",
    "\n",
    "Return an array of all the universal strings in words1. You may return the answer in any order.\n",
    "\n",
    " \n",
    "\n",
    "Example 1:\n",
    "\n",
    "Input: words1 = [\"amazon\",\"apple\",\"facebook\",\"google\",\"leetcode\"], words2 = [\"e\",\"o\"]\n",
    "Output: [\"facebook\",\"google\",\"leetcode\"]\n",
    "\n",
    "Example 2:\n",
    "\n",
    "Input: words1 = [\"amazon\",\"apple\",\"facebook\",\"google\",\"leetcode\"], words2 = [\"l\",\"e\"]\n",
    "Output: [\"apple\",\"google\",\"leetcode\"]\n",
    "\n",
    " \n",
    "\n",
    "Constraints:\n",
    "\n",
    "    1 <= words1.length, words2.length <= 104\n",
    "    1 <= words1[i].length, words2[i].length <= 10\n",
    "    words1[i] and words2[i] consist only of lowercase English letters.\n",
    "    All the strings of words1 are unique.\n",
    "\n"
   ]
  },
  {
   "cell_type": "code",
   "execution_count": 24,
   "id": "6d5c826a-7432-4f04-bbc4-9910dfd6ae7c",
   "metadata": {},
   "outputs": [],
   "source": [
    "from typing import List\n",
    "from collections import Counter\n",
    "\n",
    "class Solution:\n",
    "    def wordSubsets(self, words1: List[str], words2: List[str]) -> List[str]:\n",
    "        def compare_counts(cnt1, cnt2):\n",
    "            for letter, count in cnt2.items():\n",
    "                if letter not in cnt1 or cnt1[letter] < count:\n",
    "                    return False\n",
    "            return True\n",
    "        \n",
    "        ans = []\n",
    "        counts1 = [dict(Counter(word)) for word in words1]\n",
    "        counts2 = [dict(Counter(word)) for word in set(words2)]\n",
    "        \n",
    "        # reduce to maximum\n",
    "        cnt = {}\n",
    "        for count2 in counts2:\n",
    "            for letter, count in count2.items():\n",
    "                if letter not in cnt or cnt[letter] < count:\n",
    "                    cnt[letter] = count\n",
    "        \n",
    "        for i, cnt1 in enumerate(counts1):\n",
    "            if compare_counts(cnt1, cnt):\n",
    "                ans.append(words1[i])\n",
    "                \n",
    "        return ans"
   ]
  },
  {
   "cell_type": "code",
   "execution_count": 25,
   "id": "8521e20b-2a81-4904-8172-9031bdff61c4",
   "metadata": {},
   "outputs": [
    {
     "data": {
      "text/plain": [
       "['facebook', 'google', 'leetcode']"
      ]
     },
     "execution_count": 25,
     "metadata": {},
     "output_type": "execute_result"
    }
   ],
   "source": [
    "s = Solution()\n",
    "s.wordSubsets([\"amazon\",\"apple\",\"facebook\",\"google\",\"leetcode\"], [\"e\", \"o\"])"
   ]
  },
  {
   "cell_type": "code",
   "execution_count": null,
   "id": "9e523999-2306-420d-a544-e60621fc526b",
   "metadata": {},
   "outputs": [],
   "source": []
  }
 ],
 "metadata": {
  "kernelspec": {
   "display_name": "Python 3 (ipykernel)",
   "language": "python",
   "name": "python3"
  },
  "language_info": {
   "codemirror_mode": {
    "name": "ipython",
    "version": 3
   },
   "file_extension": ".py",
   "mimetype": "text/x-python",
   "name": "python",
   "nbconvert_exporter": "python",
   "pygments_lexer": "ipython3",
   "version": "3.9.12"
  }
 },
 "nbformat": 4,
 "nbformat_minor": 5
}
