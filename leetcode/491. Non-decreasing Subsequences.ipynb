{
 "cells": [
  {
   "cell_type": "markdown",
   "id": "bdba5b69-662c-41a6-b14b-629a343685b5",
   "metadata": {},
   "source": [
    "Given an integer array nums, return all the different possible non-decreasing subsequences of the given array with at least two elements. You may return the answer in any order.\n",
    "\n",
    " \n",
    "\n",
    "Example 1:\n",
    "\n",
    "Input: nums = [4,6,7,7]\n",
    "Output: [[4,6],[4,6,7],[4,6,7,7],[4,7],[4,7,7],[6,7],[6,7,7],[7,7]]\n",
    "\n",
    "Example 2:\n",
    "\n",
    "Input: nums = [4,4,3,2,1]\n",
    "Output: [[4,4]]\n",
    "\n",
    " \n",
    "\n",
    "Constraints:\n",
    "\n",
    "    1 <= nums.length <= 15\n",
    "    -100 <= nums[i] <= 100\n",
    "\n"
   ]
  },
  {
   "cell_type": "code",
   "execution_count": null,
   "id": "70935c7b-8c21-4e05-b5ba-97ee46f9b2ae",
   "metadata": {},
   "outputs": [],
   "source": [
    "class Solution:\n",
    "    def findSubsequences(self, nums: List[int]) -> List[List[int]]:\n",
    "        result = set()\n",
    "        sequence = []\n",
    "\n",
    "        def backtrack(index):\n",
    "            # if we have checked all elements\n",
    "            if index == len(nums):\n",
    "                if len(sequence) >= 2:\n",
    "                    result.add(tuple(sequence))\n",
    "                return\n",
    "            # if the sequence remains increasing after appending nums[index]\n",
    "            if not sequence or sequence[-1] <= nums[index]:\n",
    "                # append nums[index] to the sequence\n",
    "                sequence.append(nums[index])\n",
    "                # call recursively\n",
    "                backtrack(index + 1)\n",
    "                # delete nums[index] from the end of the sequence\n",
    "                sequence.pop()\n",
    "            # call recursively not appending an element\n",
    "            backtrack(index + 1)\n",
    "        backtrack(0)\n",
    "        return result"
   ]
  }
 ],
 "metadata": {
  "kernelspec": {
   "display_name": "Python 3 (ipykernel)",
   "language": "python",
   "name": "python3"
  },
  "language_info": {
   "codemirror_mode": {
    "name": "ipython",
    "version": 3
   },
   "file_extension": ".py",
   "mimetype": "text/x-python",
   "name": "python",
   "nbconvert_exporter": "python",
   "pygments_lexer": "ipython3",
   "version": "3.10.8"
  }
 },
 "nbformat": 4,
 "nbformat_minor": 5
}
