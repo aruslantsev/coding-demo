{
 "cells": [
  {
   "attachments": {
    "8b722842-3282-4072-8e4d-bfcd288b1f90.png": {
     "image/png": "[encoded data removed]"
    }
   },
   "cell_type": "markdown",
   "id": "fbaf4702-3868-4e04-b4c6-4b302a278565",
   "metadata": {},
   "source": [
    "Given the root of a binary tree, determine if it is a valid binary search tree (BST).\n",
    "\n",
    "A valid BST is defined as follows:\n",
    "\n",
    "    The left subtree of a node contains only nodes with keys less than the node's key.\n",
    "    The right subtree of a node contains only nodes with keys greater than the node's key.\n",
    "    Both the left and right subtrees must also be binary search trees.\n",
    "\n",
    " \n",
    "\n",
    "Example 1:\n",
    "\n",
    "![изображение.png](attachment:8b722842-3282-4072-8e4d-bfcd288b1f90.png)\n",
    "\n",
    "Input: root = [2,1,3]\n",
    "Output: true\n",
    "\n",
    "Example 2:\n",
    "\n",
    "Input: root = [5,1,4,null,null,3,6]\n",
    "Output: false\n",
    "Explanation: The root node's value is 5 but its right child's value is 4.\n",
    "\n",
    " \n",
    "\n",
    "Constraints:\n",
    "\n",
    "    The number of nodes in the tree is in the range [1, 104].\n",
    "    -231 <= Node.val <= 231 - 1\n",
    "\n"
   ]
  },
  {
   "cell_type": "code",
   "execution_count": null,
   "id": "12fd2ffa-17e1-4b56-b6b5-9988d6ce48b4",
   "metadata": {},
   "outputs": [],
   "source": [
    "from math import inf\n",
    "\n",
    "# Definition for a binary tree node.\n",
    "# class TreeNode:\n",
    "#     def __init__(self, val=0, left=None, right=None):\n",
    "#         self.val = val\n",
    "#         self.left = left\n",
    "#         self.right = right\n",
    "class Solution:\n",
    "    def isValidBST(self, root: Optional[TreeNode]) -> bool:\n",
    "        def checkNode(node, min, max):\n",
    "            if node is None:\n",
    "                return True\n",
    "            \n",
    "            if not(min < node.val < max):\n",
    "                return False\n",
    "            \n",
    "            if node.left:\n",
    "                if node.left.val < node.val:\n",
    "                    r1 = checkNode(node.left, min, node.val)\n",
    "                else:\n",
    "                    return False\n",
    "            else:\n",
    "                r1 = True\n",
    "                \n",
    "            if node.right:\n",
    "                if node.right.val > node.val:\n",
    "                    r2 = checkNode(node.right, node.val, max)\n",
    "                else:\n",
    "                    return False\n",
    "            else:\n",
    "                r2 = True\n",
    "                \n",
    "            return r1 and r2\n",
    "        \n",
    "        return checkNode(root, -inf, inf)\n",
    "                    "
   ]
  }
 ],
 "metadata": {
  "kernelspec": {
   "display_name": "Python 3 (ipykernel)",
   "language": "python",
   "name": "python3"
  },
  "language_info": {
   "codemirror_mode": {
    "name": "ipython",
    "version": 3
   },
   "file_extension": ".py",
   "mimetype": "text/x-python",
   "name": "python",
   "nbconvert_exporter": "python",
   "pygments_lexer": "ipython3",
   "version": "3.9.10"
  }
 },
 "nbformat": 4,
 "nbformat_minor": 5
}
