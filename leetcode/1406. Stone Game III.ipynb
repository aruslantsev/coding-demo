{
 "cells": [
  {
   "cell_type": "markdown",
   "id": "4e6c898c-e024-4cae-956e-bb3bc6d67503",
   "metadata": {},
   "source": [
    "Alice and Bob continue their games with piles of stones. There are several stones arranged in a row, and each stone has an associated value which is an integer given in the array stoneValue.\n",
    "\n",
    "Alice and Bob take turns, with Alice starting first. On each player's turn, that player can take 1, 2, or 3 stones from the first remaining stones in the row.\n",
    "\n",
    "The score of each player is the sum of the values of the stones taken. The score of each player is 0 initially.\n",
    "\n",
    "The objective of the game is to end with the highest score, and the winner is the player with the highest score and there could be a tie. The game continues until all the stones have been taken.\n",
    "\n",
    "Assume Alice and Bob play optimally.\n",
    "\n",
    "Return \"Alice\" if Alice will win, \"Bob\" if Bob will win, or \"Tie\" if they will end the game with the same score.\n",
    "\n",
    " \n",
    "\n",
    "Example 1:\n",
    "\n",
    "Input: stoneValue = [1,2,3,7]\n",
    "Output: \"Bob\"\n",
    "Explanation: Alice will always lose. Her best move will be to take three piles and the score become 6. Now the score of Bob is 7 and Bob wins.\n",
    "\n",
    "Example 2:\n",
    "\n",
    "Input: stoneValue = [1,2,3,-9]\n",
    "Output: \"Alice\"\n",
    "Explanation: Alice must choose all the three piles at the first move to win and leave Bob with negative score.\n",
    "If Alice chooses one pile her score will be 1 and the next move Bob's score becomes 5. In the next move, Alice will take the pile with value = -9 and lose.\n",
    "If Alice chooses two piles her score will be 3 and the next move Bob's score becomes 3. In the next move, Alice will take the pile with value = -9 and also lose.\n",
    "Remember that both play optimally so here Alice will choose the scenario that makes her win.\n",
    "\n",
    "Example 3:\n",
    "\n",
    "Input: stoneValue = [1,2,3,6]\n",
    "Output: \"Tie\"\n",
    "Explanation: Alice cannot win this game. She can end the game in a draw if she decided to choose all the first three piles, otherwise she will lose.\n",
    "\n",
    " \n",
    "\n",
    "Constraints:\n",
    "\n",
    "    1 <= stoneValue.length <= 5 * 104\n",
    "    -1000 <= stoneValue[i] <= 1000\n",
    "\n"
   ]
  },
  {
   "cell_type": "code",
   "execution_count": null,
   "id": "8b10b599-08cf-4b5b-b6a8-abe112b38bf9",
   "metadata": {},
   "outputs": [],
   "source": [
    "class Solution:\n",
    "    def stoneGameIII(self, stoneValue: List[int]) -> str:\n",
    "        n = len(stoneValue)\n",
    "        dp = [0] * 3\n",
    "\n",
    "        for i in range(n - 1, -1, -1):\n",
    "            take_one = stoneValue[i] - dp[(i + 1) % 3]\n",
    "            take_two = float('-inf')\n",
    "            if i + 1 < n:\n",
    "                take_two = stoneValue[i] + stoneValue[i + 1] - dp[(i + 2) % 3]\n",
    "            take_three = float('-inf')\n",
    "            if i + 2 < n:\n",
    "                take_three = stoneValue[i] + stoneValue[i + 1] + stoneValue[i + 2] - dp[(i + 3) % 3]\n",
    "\n",
    "            dp[i % 3] = max(take_one, take_two, take_three)\n",
    "\n",
    "        score_diff = dp[0]\n",
    "        if score_diff > 0:\n",
    "            return \"Alice\"\n",
    "        elif score_diff < 0:\n",
    "            return \"Bob\"\n",
    "        else:\n",
    "            return \"Tie\""
   ]
  }
 ],
 "metadata": {
  "kernelspec": {
   "display_name": "Python 3 (ipykernel)",
   "language": "python",
   "name": "python3"
  },
  "language_info": {
   "codemirror_mode": {
    "name": "ipython",
    "version": 3
   },
   "file_extension": ".py",
   "mimetype": "text/x-python",
   "name": "python",
   "nbconvert_exporter": "python",
   "pygments_lexer": "ipython3",
   "version": "3.10.11"
  }
 },
 "nbformat": 4,
 "nbformat_minor": 5
}
