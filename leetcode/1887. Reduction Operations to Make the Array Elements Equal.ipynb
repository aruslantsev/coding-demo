{
 "cells": [
  {
   "cell_type": "markdown",
   "id": "416c8854-ca9c-4726-9c5e-c353a474650f",
   "metadata": {},
   "source": [
    "Given an integer array nums, your goal is to make all elements in nums equal. To complete one operation, follow these steps:\n",
    "\n",
    "    Find the largest value in nums. Let its index be i (0-indexed) and its value be largest. If there are multiple elements with the largest value, pick the smallest i.\n",
    "    Find the next largest value in nums strictly smaller than largest. Let its value be nextLargest.\n",
    "    Reduce nums[i] to nextLargest.\n",
    "\n",
    "Return the number of operations to make all elements in nums equal.\n",
    "\n",
    " \n",
    "\n",
    "Example 1:\n",
    "\n",
    "Input: nums = [5,1,3]\n",
    "Output: 3\n",
    "Explanation: It takes 3 operations to make all elements in nums equal:\n",
    "1. largest = 5 at index 0. nextLargest = 3. Reduce nums[0] to 3. nums = [3,1,3].\n",
    "2. largest = 3 at index 0. nextLargest = 1. Reduce nums[0] to 1. nums = [1,1,3].\n",
    "3. largest = 3 at index 2. nextLargest = 1. Reduce nums[2] to 1. nums = [1,1,1].\n",
    "\n",
    "Example 2:\n",
    "\n",
    "Input: nums = [1,1,1]\n",
    "Output: 0\n",
    "Explanation: All elements in nums are already equal.\n",
    "\n",
    "Example 3:\n",
    "\n",
    "Input: nums = [1,1,2,2,3]\n",
    "Output: 4\n",
    "Explanation: It takes 4 operations to make all elements in nums equal:\n",
    "1. largest = 3 at index 4. nextLargest = 2. Reduce nums[4] to 2. nums = [1,1,2,2,2].\n",
    "2. largest = 2 at index 2. nextLargest = 1. Reduce nums[2] to 1. nums = [1,1,1,2,2].\n",
    "3. largest = 2 at index 3. nextLargest = 1. Reduce nums[3] to 1. nums = [1,1,1,1,2].\n",
    "4. largest = 2 at index 4. nextLargest = 1. Reduce nums[4] to 1. nums = [1,1,1,1,1].\n",
    "\n",
    " \n",
    "\n",
    "Constraints:\n",
    "\n",
    "    1 <= nums.length <= 5 * 104\n",
    "    1 <= nums[i] <= 5 * 104\n",
    "\n"
   ]
  },
  {
   "cell_type": "code",
   "execution_count": null,
   "id": "89bf0a57-4c91-4420-bab9-d6c2565b9f17",
   "metadata": {},
   "outputs": [],
   "source": [
    "class Solution:\n",
    "    def reductionOperations(self, nums: List[int]) -> int:\n",
    "        counts = Counter(nums)\n",
    "        values = sorted(counts)\n",
    "        ans = 0\n",
    "        while values:\n",
    "            value = values.pop()\n",
    "            ans += len(values) * counts[value]\n",
    "        return ans"
   ]
  },
  {
   "cell_type": "code",
   "execution_count": null,
   "id": "2f119a20-206c-476d-92f7-99969587a8a2",
   "metadata": {},
   "outputs": [],
   "source": [
    "class Solution:\n",
    "    def reductionOperations(self, nums: List[int]) -> int:\n",
    "        nums.sort()\n",
    "        ans = 0\n",
    "        up = 0\n",
    "        \n",
    "        for i in range(1, len(nums)):\n",
    "            if nums[i] != nums[i - 1]:\n",
    "                up += 1\n",
    "                \n",
    "            ans += up\n",
    "        \n",
    "        return ans"
   ]
  }
 ],
 "metadata": {
  "kernelspec": {
   "display_name": "Python 3 (ipykernel)",
   "language": "python",
   "name": "python3"
  },
  "language_info": {
   "codemirror_mode": {
    "name": "ipython",
    "version": 3
   },
   "file_extension": ".py",
   "mimetype": "text/x-python",
   "name": "python",
   "nbconvert_exporter": "python",
   "pygments_lexer": "ipython3",
   "version": "3.11.4"
  }
 },
 "nbformat": 4,
 "nbformat_minor": 5
}
