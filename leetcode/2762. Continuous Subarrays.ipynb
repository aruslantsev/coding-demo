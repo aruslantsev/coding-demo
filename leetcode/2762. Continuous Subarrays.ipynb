{
 "cells": [
  {
   "cell_type": "markdown",
   "id": "bd4c058b-996f-4e07-a024-d176c9a1aaf4",
   "metadata": {},
   "source": [
    "You are given a 0-indexed integer array nums. A subarray of nums is called continuous if:\n",
    "\n",
    "    Let i, i + 1, ..., j be the indices in the subarray. Then, for each pair of indices i <= i1, i2 <= j, 0 <= |nums[i1] - nums[i2]| <= 2.\n",
    "\n",
    "Return the total number of continuous subarrays.\n",
    "\n",
    "A subarray is a contiguous non-empty sequence of elements within an array.\n",
    "\n",
    " \n",
    "\n",
    "Example 1:\n",
    "\n",
    "Input: nums = [5,4,2,4]\n",
    "Output: 8\n",
    "Explanation: \n",
    "Continuous subarray of size 1: [5], [4], [2], [4].\n",
    "Continuous subarray of size 2: [5,4], [4,2], [2,4].\n",
    "Continuous subarray of size 3: [4,2,4].\n",
    "Thereare no subarrys of size 4.\n",
    "Total continuous subarrays = 4 + 3 + 1 = 8.\n",
    "It can be shown that there are no more continuous subarrays.\n",
    "\n",
    " \n",
    "\n",
    "Example 2:\n",
    "\n",
    "Input: nums = [1,2,3]\n",
    "Output: 6\n",
    "Explanation: \n",
    "Continuous subarray of size 1: [1], [2], [3].\n",
    "Continuous subarray of size 2: [1,2], [2,3].\n",
    "Continuous subarray of size 3: [1,2,3].\n",
    "Total continuous subarrays = 3 + 2 + 1 = 6.\n",
    "\n",
    " \n",
    "\n",
    "Constraints:\n",
    "\n",
    "    1 <= nums.length <= 105\n",
    "    1 <= nums[i] <= 109\n",
    "\n"
   ]
  },
  {
   "cell_type": "code",
   "execution_count": null,
   "id": "bd1e252a-b71a-47e0-baee-80d63def99fe",
   "metadata": {},
   "outputs": [],
   "source": [
    "class Solution:\n",
    "    def continuousSubarrays(self, nums: List[int]) -> int:\n",
    "        freq = {}\n",
    "        left = 0\n",
    "        ans = 0\n",
    "        for right in range(len(nums)):\n",
    "            freq[nums[right]] = freq.get(nums[right], 0) + 1\n",
    "            while max(freq) - min(freq) > 2:\n",
    "                freq[nums[left]] -= 1\n",
    "                if freq[nums[left]] == 0:\n",
    "                    del freq[nums[left]]\n",
    "                left += 1\n",
    "            ans += right - left + 1\n",
    "        return ans"
   ]
  }
 ],
 "metadata": {
  "kernelspec": {
   "display_name": "Python 3 (ipykernel)",
   "language": "python",
   "name": "python3"
  },
  "language_info": {
   "codemirror_mode": {
    "name": "ipython",
    "version": 3
   },
   "file_extension": ".py",
   "mimetype": "text/x-python",
   "name": "python",
   "nbconvert_exporter": "python",
   "pygments_lexer": "ipython3",
   "version": "3.12.7"
  }
 },
 "nbformat": 4,
 "nbformat_minor": 5
}
