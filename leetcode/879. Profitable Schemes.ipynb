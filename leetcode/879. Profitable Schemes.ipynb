{
 "cells": [
  {
   "cell_type": "markdown",
   "id": "70752397-e5de-497d-a0d7-520750ce8314",
   "metadata": {},
   "source": [
    "There is a group of n members, and a list of various crimes they could commit. The ith crime generates a profit[i] and requires group[i] members to participate in it. If a member participates in one crime, that member can't participate in another crime.\n",
    "\n",
    "Let's call a profitable scheme any subset of these crimes that generates at least minProfit profit, and the total number of members participating in that subset of crimes is at most n.\n",
    "\n",
    "Return the number of schemes that can be chosen. Since the answer may be very large, return it modulo 109 + 7.\n",
    "\n",
    " \n",
    "\n",
    "Example 1:\n",
    "\n",
    "Input: n = 5, minProfit = 3, group = [2,2], profit = [2,3]\n",
    "Output: 2\n",
    "Explanation: To make a profit of at least 3, the group could either commit crimes 0 and 1, or just crime 1.\n",
    "In total, there are 2 schemes.\n",
    "\n",
    "Example 2:\n",
    "\n",
    "Input: n = 10, minProfit = 5, group = [2,3,5], profit = [6,7,8]\n",
    "Output: 7\n",
    "Explanation: To make a profit of at least 5, the group could commit any crimes, as long as they commit one.\n",
    "There are 7 possible schemes: (0), (1), (2), (0,1), (0,2), (1,2), and (0,1,2).\n",
    "\n",
    " \n",
    "\n",
    "Constraints:\n",
    "\n",
    "    1 <= n <= 100\n",
    "    0 <= minProfit <= 100\n",
    "    1 <= group.length <= 100\n",
    "    1 <= group[i] <= 100\n",
    "    profit.length == group.length\n",
    "    0 <= profit[i] <= 100\n",
    "\n"
   ]
  },
  {
   "cell_type": "code",
   "execution_count": null,
   "id": "6e7d50b9-30de-40e0-a1a0-401833351a75",
   "metadata": {},
   "outputs": [],
   "source": [
    "class Solution:\n",
    "    def profitableSchemes(self, n: int, minProfit: int, group: List[int], profit: List[int]) -> int:\n",
    "        MOD = 10 ** 9 + 7\n",
    "        @cache\n",
    "        def dp(i, n, curr_profit):\n",
    "            if i >= len(group):\n",
    "                if curr_profit >= minProfit:\n",
    "                    return 1\n",
    "                else:\n",
    "                    return 0\n",
    "            res = 0\n",
    "            if n - group[i] >= 0:\n",
    "                res += dp(i + 1, n - group[i], curr_profit + profit[i])\n",
    "            res += dp(i + 1, n, curr_profit)\n",
    "            return res % MOD\n",
    "        return dp(0, n, 0) % MOD"
   ]
  },
  {
   "cell_type": "code",
   "execution_count": null,
   "id": "64dd62e0-34f1-4e2d-921d-9aeea3ac0aed",
   "metadata": {},
   "outputs": [],
   "source": [
    "class Solution:\n",
    "    def profitableSchemes(self, n: int, minProfit: int, group: List[int], profit: List[int]) -> int:\n",
    "        MOD = 10**9 + 7\n",
    "        dp = [[0] * (n + 1) for i in range(minProfit + 1)]\n",
    "        dp[0][0] = 1\n",
    "        for g, p in zip(group, profit):\n",
    "            for i in range(minProfit, -1, -1):\n",
    "                for j in range(n - g, -1, -1):\n",
    "                    dp[min(i + p, minProfit)][j + g] += dp[i][j]\n",
    "                    dp[min(i + p, minProfit)][j + g] %= MOD\n",
    "        return sum(dp[minProfit]) % MOD"
   ]
  },
  {
   "cell_type": "code",
   "execution_count": null,
   "id": "cc2a46b4-538e-4766-a9a3-2516bb1dfa59",
   "metadata": {},
   "outputs": [],
   "source": []
  }
 ],
 "metadata": {
  "kernelspec": {
   "display_name": "common",
   "language": "python",
   "name": "common"
  },
  "language_info": {
   "codemirror_mode": {
    "name": "ipython",
    "version": 3
   },
   "file_extension": ".py",
   "mimetype": "text/x-python",
   "name": "python",
   "nbconvert_exporter": "python",
   "pygments_lexer": "ipython3",
   "version": "3.9.15"
  }
 },
 "nbformat": 4,
 "nbformat_minor": 5
}
