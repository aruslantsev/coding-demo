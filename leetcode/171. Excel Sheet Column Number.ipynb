{
 "cells": [
  {
   "cell_type": "markdown",
   "id": "0b37338c",
   "metadata": {},
   "source": [
    "Given a string columnTitle that represents the column title as appear in an Excel sheet, return its corresponding column number.\n",
    "\n",
    "For example:\n",
    "\n",
    "A -> 1\n",
    "B -> 2\n",
    "C -> 3\n",
    "...\n",
    "Z -> 26\n",
    "AA -> 27\n",
    "AB -> 28 \n",
    "...\n",
    " \n",
    "\n",
    "Example 1:\n",
    "\n",
    "Input: columnTitle = \"A\"\n",
    "Output: 1\n",
    "Example 2:\n",
    "\n",
    "Input: columnTitle = \"AB\"\n",
    "Output: 28\n",
    "Example 3:\n",
    "\n",
    "Input: columnTitle = \"ZY\"\n",
    "Output: 701\n",
    " \n",
    "\n",
    "Constraints:\n",
    "\n",
    "1 <= columnTitle.length <= 7\n",
    "columnTitle consists only of uppercase English letters.\n",
    "columnTitle is in the range [\"A\", \"FXSHRXW\"]"
   ]
  },
  {
   "cell_type": "code",
   "execution_count": 21,
   "id": "e675e4a1",
   "metadata": {},
   "outputs": [],
   "source": [
    "import string\n",
    "\n",
    "class Solution:\n",
    "    def titleToNumber(self, columnTitle: str) -> int:\n",
    "        symbols = list(string.ascii_lowercase)\n",
    "        base = len(symbols)\n",
    "        columnTitle = columnTitle.lower()\n",
    "        ans = 0\n",
    "        for i, s in enumerate(columnTitle[::-1]):\n",
    "            ans += (1 + symbols.index(s)) * (base ** i)\n",
    "        return ans"
   ]
  },
  {
   "cell_type": "code",
   "execution_count": 22,
   "id": "84bfb288",
   "metadata": {},
   "outputs": [
    {
     "data": {
      "text/plain": [
       "1"
      ]
     },
     "execution_count": 22,
     "metadata": {},
     "output_type": "execute_result"
    }
   ],
   "source": [
    "s = Solution()\n",
    "s.titleToNumber('A')"
   ]
  },
  {
   "cell_type": "code",
   "execution_count": 23,
   "id": "4b70d4cb",
   "metadata": {},
   "outputs": [
    {
     "data": {
      "text/plain": [
       "28"
      ]
     },
     "execution_count": 23,
     "metadata": {},
     "output_type": "execute_result"
    }
   ],
   "source": [
    "s.titleToNumber('AB')"
   ]
  },
  {
   "cell_type": "code",
   "execution_count": 24,
   "id": "a8f5e81b",
   "metadata": {},
   "outputs": [
    {
     "data": {
      "text/plain": [
       "701"
      ]
     },
     "execution_count": 24,
     "metadata": {},
     "output_type": "execute_result"
    }
   ],
   "source": [
    "s.titleToNumber('ZY')"
   ]
  },
  {
   "cell_type": "code",
   "execution_count": null,
   "id": "3842266a",
   "metadata": {},
   "outputs": [],
   "source": []
  }
 ],
 "metadata": {
  "kernelspec": {
   "display_name": "Python 3 (ipykernel)",
   "language": "python",
   "name": "python3"
  },
  "language_info": {
   "codemirror_mode": {
    "name": "ipython",
    "version": 3
   },
   "file_extension": ".py",
   "mimetype": "text/x-python",
   "name": "python",
   "nbconvert_exporter": "python",
   "pygments_lexer": "ipython3",
   "version": "3.9.10"
  }
 },
 "nbformat": 4,
 "nbformat_minor": 5
}
