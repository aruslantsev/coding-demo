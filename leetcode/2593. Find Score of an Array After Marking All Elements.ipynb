{
 "cells": [
  {
   "cell_type": "markdown",
   "id": "73d095e5-e4a6-41fa-9d08-2521d4109e2e",
   "metadata": {},
   "source": [
    "You are given an array nums consisting of positive integers.\n",
    "\n",
    "Starting with score = 0, apply the following algorithm:\n",
    "\n",
    "    Choose the smallest integer of the array that is not marked. If there is a tie, choose the one with the smallest index.\n",
    "    Add the value of the chosen integer to score.\n",
    "    Mark the chosen element and its two adjacent elements if they exist.\n",
    "    Repeat until all the array elements are marked.\n",
    "\n",
    "Return the score you get after applying the above algorithm.\n",
    "\n",
    " \n",
    "\n",
    "Example 1:\n",
    "\n",
    "Input: nums = [2,1,3,4,5,2]\n",
    "Output: 7\n",
    "Explanation: We mark the elements as follows:\n",
    "- 1 is the smallest unmarked element, so we mark it and its two adjacent elements: [2,1,3,4,5,2].\n",
    "- 2 is the smallest unmarked element, so we mark it and its left adjacent element: [2,1,3,4,5,2].\n",
    "- 4 is the only remaining unmarked element, so we mark it: [2,1,3,4,5,2].\n",
    "Our score is 1 + 2 + 4 = 7.\n",
    "\n",
    "Example 2:\n",
    "\n",
    "Input: nums = [2,3,5,1,3,2]\n",
    "Output: 5\n",
    "Explanation: We mark the elements as follows:\n",
    "- 1 is the smallest unmarked element, so we mark it and its two adjacent elements: [2,3,5,1,3,2].\n",
    "- 2 is the smallest unmarked element, since there are two of them, we choose the left-most one, so we mark the one at index 0 and its right adjacent element: [2,3,5,1,3,2].\n",
    "- 2 is the only remaining unmarked element, so we mark it: [2,3,5,1,3,2].\n",
    "Our score is 1 + 2 + 2 = 5.\n",
    "\n",
    " \n",
    "\n",
    "Constraints:\n",
    "\n",
    "    1 <= nums.length <= 105\n",
    "    1 <= nums[i] <= 106\n",
    "\n"
   ]
  },
  {
   "cell_type": "code",
   "execution_count": null,
   "id": "87021f13-42a2-488b-825d-89425ad2cfca",
   "metadata": {},
   "outputs": [],
   "source": [
    "class Solution:\n",
    "    def findScore(self, nums: List[int]) -> int:\n",
    "        ind = set(range(len(nums)))\n",
    "        arr = [(val, pos) for pos, val in enumerate(nums)]\n",
    "        heapq.heapify(arr)\n",
    "        ans = 0\n",
    "        while arr:\n",
    "            val, pos = heapq.heappop(arr)\n",
    "            if pos in ind:\n",
    "                ans += val\n",
    "                ind.remove(pos)\n",
    "                if pos - 1 in ind:\n",
    "                    ind.remove(pos - 1)\n",
    "                if pos + 1 in ind:\n",
    "                    ind.remove(pos + 1)\n",
    "        return ans"
   ]
  }
 ],
 "metadata": {
  "kernelspec": {
   "display_name": "common",
   "language": "python",
   "name": "common"
  },
  "language_info": {
   "codemirror_mode": {
    "name": "ipython",
    "version": 3
   },
   "file_extension": ".py",
   "mimetype": "text/x-python",
   "name": "python",
   "nbconvert_exporter": "python",
   "pygments_lexer": "ipython3",
   "version": "3.12.4"
  }
 },
 "nbformat": 4,
 "nbformat_minor": 5
}
