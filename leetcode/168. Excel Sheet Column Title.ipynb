{
 "cells": [
  {
   "cell_type": "markdown",
   "id": "5750bccc-24e6-459e-977d-1ed3882374bb",
   "metadata": {},
   "source": [
    "Given an integer columnNumber, return its corresponding column title as it appears in an Excel sheet.\n",
    "\n",
    "For example:\n",
    "\n",
    "A -> 1\n",
    "B -> 2\n",
    "C -> 3\n",
    "...\n",
    "Z -> 26\n",
    "AA -> 27\n",
    "AB -> 28 \n",
    "...\n",
    "\n",
    " \n",
    "\n",
    "Example 1:\n",
    "\n",
    "Input: columnNumber = 1\n",
    "Output: \"A\"\n",
    "\n",
    "Example 2:\n",
    "\n",
    "Input: columnNumber = 28\n",
    "Output: \"AB\"\n",
    "\n",
    "Example 3:\n",
    "\n",
    "Input: columnNumber = 701\n",
    "Output: \"ZY\"\n",
    "\n",
    " \n",
    "\n",
    "Constraints:\n",
    "\n",
    "    1 <= columnNumber <= 231 - 1\n",
    "\n"
   ]
  },
  {
   "cell_type": "code",
   "execution_count": 106,
   "id": "63cc2bdc-21a3-41d1-8983-0bbe54a30f94",
   "metadata": {},
   "outputs": [],
   "source": [
    "class Solution:\n",
    "    def convertToTitle(self, columnNumber: int) -> str:\n",
    "        ans = []\n",
    "        while columnNumber > 0:\n",
    "            columnNumber -= 1\n",
    "            n = columnNumber % 26\n",
    "            columnNumber = columnNumber // 26\n",
    "            ans.append(chr(ord(\"A\") + n))\n",
    "            \n",
    "        return ''.join(ans[::-1])"
   ]
  },
  {
   "cell_type": "code",
   "execution_count": 83,
   "id": "1c91b115-a8a2-4129-a1d0-9412e212b86d",
   "metadata": {},
   "outputs": [],
   "source": [
    "class Solution(object):\n",
    "    def convertToTitle(self, columnNumber):\n",
    "        if columnNumber <= 26:\n",
    "            return chr(ord('A') + columnNumber - 1)\n",
    "        else:\n",
    "            return self.convertToTitle((columnNumber-1)//26) + self.convertToTitle((columnNumber-1)%26+1)"
   ]
  },
  {
   "cell_type": "code",
   "execution_count": 107,
   "id": "2aeff068-e2e8-4149-9fe3-1ce9fed551a0",
   "metadata": {},
   "outputs": [
    {
     "data": {
      "text/plain": [
       "'A'"
      ]
     },
     "execution_count": 107,
     "metadata": {},
     "output_type": "execute_result"
    }
   ],
   "source": [
    "s = Solution()\n",
    "s.convertToTitle(1)"
   ]
  },
  {
   "cell_type": "code",
   "execution_count": 108,
   "id": "be5b423d-ce3d-49c2-aeb9-b3e166034938",
   "metadata": {},
   "outputs": [
    {
     "data": {
      "text/plain": [
       "'AB'"
      ]
     },
     "execution_count": 108,
     "metadata": {},
     "output_type": "execute_result"
    }
   ],
   "source": [
    "s.convertToTitle(28)"
   ]
  },
  {
   "cell_type": "code",
   "execution_count": 109,
   "id": "604c47ee-5bd0-42f1-a3c0-62981ece56ef",
   "metadata": {},
   "outputs": [
    {
     "data": {
      "text/plain": [
       "'ZY'"
      ]
     },
     "execution_count": 109,
     "metadata": {},
     "output_type": "execute_result"
    }
   ],
   "source": [
    "s.convertToTitle(701)"
   ]
  },
  {
   "cell_type": "code",
   "execution_count": 110,
   "id": "a4f0dfa0-f5f9-4a6a-ba4e-be2281242c41",
   "metadata": {},
   "outputs": [
    {
     "data": {
      "text/plain": [
       "'Z'"
      ]
     },
     "execution_count": 110,
     "metadata": {},
     "output_type": "execute_result"
    }
   ],
   "source": [
    "s.convertToTitle(26)"
   ]
  },
  {
   "cell_type": "code",
   "execution_count": null,
   "id": "c8850d14-10b6-4d57-9fdf-b89e88e61f14",
   "metadata": {},
   "outputs": [],
   "source": []
  }
 ],
 "metadata": {
  "kernelspec": {
   "display_name": "Python 3 (ipykernel)",
   "language": "python",
   "name": "python3"
  },
  "language_info": {
   "codemirror_mode": {
    "name": "ipython",
    "version": 3
   },
   "file_extension": ".py",
   "mimetype": "text/x-python",
   "name": "python",
   "nbconvert_exporter": "python",
   "pygments_lexer": "ipython3",
   "version": "3.9.10"
  }
 },
 "nbformat": 4,
 "nbformat_minor": 5
}
