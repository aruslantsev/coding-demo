{
 "cells": [
  {
   "cell_type": "markdown",
   "id": "8eca6b02-62f4-4aa0-a78b-db1768ab3ca6",
   "metadata": {},
   "source": [
    "You are given two 0-indexed integer arrays, cost and time, of size n representing the costs and the time taken to paint n different walls respectively. There are two painters available:\n",
    "\n",
    "    A paid painter that paints the ith wall in time[i] units of time and takes cost[i] units of money.\n",
    "    A free painter that paints any wall in 1 unit of time at a cost of 0. But the free painter can only be used if the paid painter is already occupied.\n",
    "\n",
    "Return the minimum amount of money required to paint the n walls.\n",
    "\n",
    " \n",
    "\n",
    "Example 1:\n",
    "\n",
    "Input: cost = [1,2,3,2], time = [1,2,3,2]\n",
    "Output: 3\n",
    "Explanation: The walls at index 0 and 1 will be painted by the paid painter, and it will take 3 units of time; meanwhile, the free painter will paint the walls at index 2 and 3, free of cost in 2 units of time. Thus, the total cost is 1 + 2 = 3.\n",
    "\n",
    "Example 2:\n",
    "\n",
    "Input: cost = [2,3,4,2], time = [1,1,1,1]\n",
    "Output: 4\n",
    "Explanation: The walls at index 0 and 3 will be painted by the paid painter, and it will take 2 units of time; meanwhile, the free painter will paint the walls at index 1 and 2, free of cost in 2 units of time. Thus, the total cost is 2 + 2 = 4.\n",
    "\n",
    " \n",
    "\n",
    "Constraints:\n",
    "\n",
    "    1 <= cost.length <= 500\n",
    "    cost.length == time.length\n",
    "    1 <= cost[i] <= 106\n",
    "    1 <= time[i] <= 500\n",
    "\n"
   ]
  },
  {
   "cell_type": "code",
   "execution_count": null,
   "id": "76fd8fae-7284-4e59-9ed4-4cc5931e9258",
   "metadata": {},
   "outputs": [],
   "source": [
    "class Solution:\n",
    "    def paintWalls(self, cost: List[int], time: List[int]) -> int:\n",
    "        @cache\n",
    "        def dp(i, remain):\n",
    "            if remain <= 0:\n",
    "                return 0\n",
    "            if i == n:\n",
    "                return inf\n",
    "            \n",
    "            paint = cost[i] + dp(i + 1, remain - 1 - time[i])\n",
    "            dont_paint = dp(i + 1, remain)\n",
    "            return min(paint, dont_paint)\n",
    "    \n",
    "        n = len(cost)\n",
    "        return dp(0, n)\n",
    "        "
   ]
  }
 ],
 "metadata": {
  "kernelspec": {
   "display_name": "Python 3 (ipykernel)",
   "language": "python",
   "name": "python3"
  },
  "language_info": {
   "codemirror_mode": {
    "name": "ipython",
    "version": 3
   },
   "file_extension": ".py",
   "mimetype": "text/x-python",
   "name": "python",
   "nbconvert_exporter": "python",
   "pygments_lexer": "ipython3",
   "version": "3.11.4"
  }
 },
 "nbformat": 4,
 "nbformat_minor": 5
}
