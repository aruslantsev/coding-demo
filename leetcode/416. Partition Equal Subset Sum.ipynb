{
 "cells": [
  {
   "cell_type": "markdown",
   "id": "bfe453c7-c3f9-4bb5-ae37-d62de1ed58d6",
   "metadata": {},
   "source": [
    "Given an integer array nums, return true if you can partition the array into two subsets such that the sum of the elements in both subsets is equal or false otherwise.\n",
    "\n",
    " \n",
    "\n",
    "Example 1:\n",
    "\n",
    "Input: nums = [1,5,11,5]\n",
    "Output: true\n",
    "Explanation: The array can be partitioned as [1, 5, 5] and [11].\n",
    "\n",
    "Example 2:\n",
    "\n",
    "Input: nums = [1,2,3,5]\n",
    "Output: false\n",
    "Explanation: The array cannot be partitioned into equal sum subsets.\n",
    "\n",
    " \n",
    "\n",
    "Constraints:\n",
    "\n",
    "    1 <= nums.length <= 200\n",
    "    1 <= nums[i] <= 100\n",
    "\n"
   ]
  },
  {
   "cell_type": "code",
   "execution_count": null,
   "id": "52cb7be3-26e1-44d3-ab87-2b084a35a18b",
   "metadata": {},
   "outputs": [],
   "source": [
    "class Solution:\n",
    "    def canPartition(self, nums: List[int]) -> bool:\n",
    "        target = sum(nums)\n",
    "        n = len(nums)\n",
    "        if target % 2 != 0:\n",
    "            return False\n",
    "        target //= 2\n",
    "\n",
    "        @cache\n",
    "        def dp(pos, remaining):\n",
    "            if remaining < 0:\n",
    "                return False\n",
    "            if remaining == 0:\n",
    "                return True\n",
    "            if pos == n:\n",
    "                return remaining == 0\n",
    "            return dp(pos + 1, remaining - nums[pos]) or dp(pos + 1, remaining)\n",
    "        \n",
    "        return dp(0, target)\n",
    "        "
   ]
  },
  {
   "cell_type": "code",
   "execution_count": null,
   "id": "aada6303-2c20-473b-bf6d-bd77836e9a00",
   "metadata": {},
   "outputs": [],
   "source": [
    "class Solution(object):\n",
    "    def canPartition(self, nums):\n",
    "        totalSum = sum(nums)\n",
    "        if totalSum % 2 != 0:\n",
    "            return False\n",
    "        targetSum = totalSum // 2\n",
    "        dp = [False] * (targetSum + 1)\n",
    "        dp[0] = True\n",
    "        for num in nums:\n",
    "            for currSum in range(targetSum, num - 1, -1):\n",
    "                dp[currSum] = dp[currSum] or dp[currSum - num]\n",
    "        return dp[targetSum]"
   ]
  },
  {
   "cell_type": "code",
   "execution_count": null,
   "id": "865fb175-b5d6-41a7-9544-0db9fc7f9b19",
   "metadata": {},
   "outputs": [],
   "source": [
    "class Solution:\n",
    "    def canPartition(self, nums):\n",
    "        total = sum(nums)\n",
    "        if total % 2 != 0:\n",
    "            return False\n",
    "        \n",
    "        target = total // 2\n",
    "        possible_sums = set([0])\n",
    "        \n",
    "        for num in nums:\n",
    "            next_sums = set()\n",
    "            for s in possible_sums:\n",
    "                if s + num == target:\n",
    "                    return True\n",
    "                next_sums.add(s + num)\n",
    "                next_sums.add(s)\n",
    "            possible_sums = next_sums\n",
    "        \n",
    "        return target in possible_sums"
   ]
  }
 ],
 "metadata": {
  "kernelspec": {
   "display_name": "common",
   "language": "python",
   "name": "common"
  },
  "language_info": {
   "codemirror_mode": {
    "name": "ipython",
    "version": 3
   },
   "file_extension": ".py",
   "mimetype": "text/x-python",
   "name": "python",
   "nbconvert_exporter": "python",
   "pygments_lexer": "ipython3",
   "version": "3.12.9"
  }
 },
 "nbformat": 4,
 "nbformat_minor": 5
}
