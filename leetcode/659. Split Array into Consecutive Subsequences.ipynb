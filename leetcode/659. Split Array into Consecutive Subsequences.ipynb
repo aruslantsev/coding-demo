{
 "cells": [
  {
   "cell_type": "markdown",
   "id": "79584b9f-1b22-400e-b093-94b6e3c49e4e",
   "metadata": {},
   "source": [
    "You are given an integer array nums that is sorted in non-decreasing order.\n",
    "\n",
    "Determine if it is possible to split nums into one or more subsequences such that both of the following conditions are true:\n",
    "\n",
    "    Each subsequence is a consecutive increasing sequence (i.e. each integer is exactly one more than the previous integer).\n",
    "    All subsequences have a length of 3 or more.\n",
    "\n",
    "Return true if you can split nums according to the above conditions, or false otherwise.\n",
    "\n",
    "A subsequence of an array is a new array that is formed from the original array by deleting some (can be none) of the elements without disturbing the relative positions of the remaining elements. (i.e., [1,3,5] is a subsequence of [1,2,3,4,5] while [1,3,2] is not).\n",
    "\n",
    " \n",
    "\n",
    "Example 1:\n",
    "\n",
    "Input: nums = [1,2,3,3,4,5]\n",
    "Output: true\n",
    "Explanation: nums can be split into the following subsequences:\n",
    "[1,2,3,3,4,5] --> 1, 2, 3\n",
    "[1,2,3,3,4,5] --> 3, 4, 5\n",
    "\n",
    "Example 2:\n",
    "\n",
    "Input: nums = [1,2,3,3,4,4,5,5]\n",
    "Output: true\n",
    "Explanation: nums can be split into the following subsequences:\n",
    "[1,2,3,3,4,4,5,5] --> 1, 2, 3, 4, 5\n",
    "[1,2,3,3,4,4,5,5] --> 3, 4, 5\n",
    "\n",
    "Example 3:\n",
    "\n",
    "Input: nums = [1,2,3,4,4,5]\n",
    "Output: false\n",
    "Explanation: It is impossible to split nums into consecutive increasing subsequences of length 3 or more.\n",
    "\n",
    " \n",
    "\n",
    "Constraints:\n",
    "\n",
    "    1 <= nums.length <= 104\n",
    "    -1000 <= nums[i] <= 1000\n",
    "    nums is sorted in non-decreasing order.\n",
    "\n"
   ]
  },
  {
   "cell_type": "code",
   "execution_count": null,
   "id": "2eff2095-785a-48cc-a7c1-2f2aeb36462f",
   "metadata": {},
   "outputs": [],
   "source": [
    "from typing import List\n",
    "from collections import Counter\n",
    "\n",
    "class Solution:\n",
    "    def isPossible(self, nums: List[int]) -> bool:\n",
    "        counts = Counter(nums)\n",
    "        for i in sorted(counts.keys()):\n",
    "            while counts[i] > 0:\n",
    "                last_cnt = counts[i]\n",
    "                j = i\n",
    "                length = 0\n",
    "                while counts[j] >= last_cnt:\n",
    "                    last_cnt = counts[j]\n",
    "                    length += 1\n",
    "                    counts[j] -= 1\n",
    "                    j += 1\n",
    "                if length < 3:\n",
    "                    return False\n",
    "        return True"
   ]
  }
 ],
 "metadata": {
  "kernelspec": {
   "display_name": "Python 3 (ipykernel)",
   "language": "python",
   "name": "python3"
  },
  "language_info": {
   "codemirror_mode": {
    "name": "ipython",
    "version": 3
   },
   "file_extension": ".py",
   "mimetype": "text/x-python",
   "name": "python",
   "nbconvert_exporter": "python",
   "pygments_lexer": "ipython3",
   "version": "3.9.12"
  }
 },
 "nbformat": 4,
 "nbformat_minor": 5
}
