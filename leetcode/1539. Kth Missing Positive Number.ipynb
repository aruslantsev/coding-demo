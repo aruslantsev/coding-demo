{
 "cells": [
  {
   "cell_type": "markdown",
   "id": "e81e178d-1a71-4952-9eb4-f6d8b4082e44",
   "metadata": {},
   "source": [
    "Given an array arr of positive integers sorted in a strictly increasing order, and an integer k.\n",
    "\n",
    "Return the kth positive integer that is missing from this array.\n",
    "\n",
    " \n",
    "\n",
    "Example 1:\n",
    "\n",
    "Input: arr = [2,3,4,7,11], k = 5\n",
    "Output: 9\n",
    "Explanation: The missing positive integers are [1,5,6,8,9,10,12,13,...]. The 5th missing positive integer is 9.\n",
    "\n",
    "Example 2:\n",
    "\n",
    "Input: arr = [1,2,3,4], k = 2\n",
    "Output: 6\n",
    "Explanation: The missing positive integers are [5,6,7,...]. The 2nd missing positive integer is 6.\n",
    "\n",
    " \n",
    "\n",
    "Constraints:\n",
    "\n",
    "    1 <= arr.length <= 1000\n",
    "    1 <= arr[i] <= 1000\n",
    "    1 <= k <= 1000\n",
    "    arr[i] < arr[j] for 1 <= i < j <= arr.length\n",
    "\n",
    " \n",
    "\n",
    "Follow up:\n",
    "\n",
    "Could you solve this problem in less than O(n) complexity?\n"
   ]
  },
  {
   "cell_type": "code",
   "execution_count": null,
   "id": "6d4dd1d9-c664-45f0-b146-7af5606e1f9f",
   "metadata": {},
   "outputs": [],
   "source": [
    "class Solution:\n",
    "    def findKthPositive(self, arr: List[int], k: int) -> int:\n",
    "        all_nums = range(1, 2001)\n",
    "        all_nums = sorted(set(all_nums) - set(arr))\n",
    "        return all_nums[k - 1]"
   ]
  },
  {
   "cell_type": "code",
   "execution_count": null,
   "id": "3d7a4c5d-8475-477e-b041-d160c509be5b",
   "metadata": {},
   "outputs": [],
   "source": [
    "class Solution:\n",
    "    def findKthPositive(self, arr: List[int], k: int) -> int:\n",
    "        start = 0\n",
    "        end = len(arr) - 1\n",
    "        while start <= end:\n",
    "            mid = (end + start) // 2\n",
    "            if arr[mid] - mid <= k:\n",
    "                start = mid + 1\n",
    "            else:\n",
    "                end = mid - 1\n",
    "        return start + k"
   ]
  }
 ],
 "metadata": {
  "kernelspec": {
   "display_name": "Python 3 (ipykernel)",
   "language": "python",
   "name": "python3"
  },
  "language_info": {
   "codemirror_mode": {
    "name": "ipython",
    "version": 3
   },
   "file_extension": ".py",
   "mimetype": "text/x-python",
   "name": "python",
   "nbconvert_exporter": "python",
   "pygments_lexer": "ipython3",
   "version": "3.10.8"
  }
 },
 "nbformat": 4,
 "nbformat_minor": 5
}
