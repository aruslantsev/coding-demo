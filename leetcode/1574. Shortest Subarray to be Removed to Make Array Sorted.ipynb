{
 "cells": [
  {
   "cell_type": "markdown",
   "id": "f965ab4f-d303-45a6-8a00-eba4b31decd2",
   "metadata": {},
   "source": [
    "Given an integer array arr, remove a subarray (can be empty) from arr such that the remaining elements in arr are non-decreasing.\n",
    "\n",
    "Return the length of the shortest subarray to remove.\n",
    "\n",
    "A subarray is a contiguous subsequence of the array.\n",
    "\n",
    " \n",
    "\n",
    "Example 1:\n",
    "\n",
    "Input: arr = [1,2,3,10,4,2,3,5]\n",
    "Output: 3\n",
    "Explanation: The shortest subarray we can remove is [10,4,2] of length 3. The remaining elements after that will be [1,2,3,3,5] which are sorted.\n",
    "Another correct solution is to remove the subarray [3,10,4].\n",
    "\n",
    "Example 2:\n",
    "\n",
    "Input: arr = [5,4,3,2,1]\n",
    "Output: 4\n",
    "Explanation: Since the array is strictly decreasing, we can only keep a single element. Therefore we need to remove a subarray of length 4, either [5,4,3,2] or [4,3,2,1].\n",
    "\n",
    "Example 3:\n",
    "\n",
    "Input: arr = [1,2,3]\n",
    "Output: 0\n",
    "Explanation: The array is already non-decreasing. We do not need to remove any elements.\n",
    "\n",
    " \n",
    "\n",
    "Constraints:\n",
    "\n",
    "    1 <= arr.length <= 105\n",
    "    0 <= arr[i] <= 109\n",
    "\n"
   ]
  },
  {
   "cell_type": "code",
   "execution_count": null,
   "id": "edca2a61-e971-4cdf-a157-1157cb768f65",
   "metadata": {},
   "outputs": [],
   "source": [
    "class Solution:\n",
    "    def findLengthOfShortestSubarray(self, arr: List[int]) -> int:\n",
    "        right = len(arr) - 1\n",
    "        while right > 0 and arr[right] >= arr[right - 1]:\n",
    "            right -= 1\n",
    "\n",
    "        ans = right\n",
    "        left = 0\n",
    "        while left < right and (left == 0 or arr[left - 1] <= arr[left]):\n",
    "            # find next valid number after arr[left]\n",
    "            while right < len(arr) and arr[left] > arr[right]:\n",
    "                right += 1\n",
    "            # save length of removed subarray\n",
    "            ans = min(ans, right - left - 1)\n",
    "            left += 1\n",
    "        return ans"
   ]
  }
 ],
 "metadata": {
  "kernelspec": {
   "display_name": "Python 3 (ipykernel)",
   "language": "python",
   "name": "python3"
  },
  "language_info": {
   "codemirror_mode": {
    "name": "ipython",
    "version": 3
   },
   "file_extension": ".py",
   "mimetype": "text/x-python",
   "name": "python",
   "nbconvert_exporter": "python",
   "pygments_lexer": "ipython3",
   "version": "3.12.7"
  }
 },
 "nbformat": 4,
 "nbformat_minor": 5
}
