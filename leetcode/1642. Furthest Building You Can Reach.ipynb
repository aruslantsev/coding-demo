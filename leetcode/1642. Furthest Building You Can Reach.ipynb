{
 "cells": [
  {
   "cell_type": "markdown",
   "id": "eee5b358-f2ee-4229-8f9e-9e0a247d277b",
   "metadata": {},
   "source": [
    "You are given an integer array heights representing the heights of buildings, some bricks, and some ladders.\n",
    "\n",
    "You start your journey from building 0 and move to the next building by possibly using bricks or ladders.\n",
    "\n",
    "While moving from building i to building i+1 (0-indexed),\n",
    "\n",
    "    If the current building's height is greater than or equal to the next building's height, you do not need a ladder or bricks.\n",
    "    If the current building's height is less than the next building's height, you can either use one ladder or (h[i+1] - h[i]) bricks.\n",
    "\n",
    "Return the furthest building index (0-indexed) you can reach if you use the given ladders and bricks optimally.\n",
    "\n",
    " \n",
    "\n",
    "Example 1:\n",
    "\n",
    "Input: heights = [4,2,7,6,9,14,12], bricks = 5, ladders = 1\n",
    "Output: 4\n",
    "Explanation: Starting at building 0, you can follow these steps:\n",
    "- Go to building 1 without using ladders nor bricks since 4 >= 2.\n",
    "- Go to building 2 using 5 bricks. You must use either bricks or ladders because 2 < 7.\n",
    "- Go to building 3 without using ladders nor bricks since 7 >= 6.\n",
    "- Go to building 4 using your only ladder. You must use either bricks or ladders because 6 < 9.\n",
    "It is impossible to go beyond building 4 because you do not have any more bricks or ladders.\n",
    "\n",
    "Example 2:\n",
    "\n",
    "Input: heights = [4,12,2,7,3,18,20,3,19], bricks = 10, ladders = 2\n",
    "Output: 7\n",
    "\n",
    "Example 3:\n",
    "\n",
    "Input: heights = [14,3,19,3], bricks = 17, ladders = 0\n",
    "Output: 3\n"
   ]
  },
  {
   "cell_type": "code",
   "execution_count": 9,
   "id": "5358369d-1404-4c39-ab8b-555cc8d7b41c",
   "metadata": {},
   "outputs": [],
   "source": [
    "from typing import List\n",
    "from functools import cache\n",
    "\n",
    "class Solution:\n",
    "    def furthestBuilding(self, heights: List[int], bricks: int, ladders: int) -> int:\n",
    "        @cache\n",
    "        def jump(heights, bricks, ladders, n):\n",
    "            if len(heights) == 1:\n",
    "                return n\n",
    "            if bricks >= heights[1] - heights[0]:\n",
    "                a = jump(heights[1:], bricks - max(0, heights[1] - heights[0]), ladders, n + 1)\n",
    "            else:\n",
    "                a = n\n",
    "            if ladders > 0 or heights[1] < heights[0]:\n",
    "                b = jump(heights[1:], bricks, ladders - (1 if heights[1] > heights[0] else 0), n + 1)\n",
    "            else:\n",
    "                b = n\n",
    "            return max(a, b)\n",
    "        \n",
    "        return jump(tuple(heights), bricks, ladders, 0)"
   ]
  },
  {
   "cell_type": "code",
   "execution_count": 10,
   "id": "ce808ca1-07b1-4368-93bb-6b5b344c8042",
   "metadata": {},
   "outputs": [
    {
     "data": {
      "text/plain": [
       "4"
      ]
     },
     "execution_count": 10,
     "metadata": {},
     "output_type": "execute_result"
    }
   ],
   "source": [
    "s = Solution()\n",
    "s.furthestBuilding([4,2,7,6,9,14,12], 5, 1)"
   ]
  },
  {
   "cell_type": "code",
   "execution_count": 11,
   "id": "0e0e1ef2-55a9-4c8f-81da-87578cc54ac4",
   "metadata": {},
   "outputs": [
    {
     "data": {
      "text/plain": [
       "7"
      ]
     },
     "execution_count": 11,
     "metadata": {},
     "output_type": "execute_result"
    }
   ],
   "source": [
    "s.furthestBuilding([4,12,2,7,3,18,20,3,19], 10, 2)"
   ]
  },
  {
   "cell_type": "code",
   "execution_count": 12,
   "id": "cc71f053-6aee-4728-8bb0-16f7a86aadbf",
   "metadata": {},
   "outputs": [
    {
     "data": {
      "text/plain": [
       "2"
      ]
     },
     "execution_count": 12,
     "metadata": {},
     "output_type": "execute_result"
    }
   ],
   "source": [
    "s.furthestBuilding([3, 2, 1], 0, 0)"
   ]
  },
  {
   "cell_type": "code",
   "execution_count": null,
   "id": "639372cc-d2f3-49f0-bf53-067373d893d1",
   "metadata": {},
   "outputs": [],
   "source": [
    "class Solution:\n",
    "    def furthestBuilding(self, heights: List[int], bricks: int, ladders: int) -> int:\n",
    "        idx = 0\n",
    "        h = []\n",
    "        while idx < len(heights) - 1:\n",
    "            diff = heights[idx + 1] - heights[idx]\n",
    "            if diff <= 0:\n",
    "                pass\n",
    "            elif diff <= bricks:\n",
    "                heapq.heappush(h, -diff)\n",
    "                bricks -= diff\n",
    "            elif ladders > 0:                \n",
    "                heapq.heappush(h, -diff)\n",
    "                max_bricks = -heapq.heappop(h)\n",
    "                ladders -= 1\n",
    "                bricks += max_bricks - diff\n",
    "            else:\n",
    "                break\n",
    "                \n",
    "            idx += 1                \n",
    "            \n",
    "        return idx"
   ]
  }
 ],
 "metadata": {
  "kernelspec": {
   "display_name": "Python 3 (ipykernel)",
   "language": "python",
   "name": "python3"
  },
  "language_info": {
   "codemirror_mode": {
    "name": "ipython",
    "version": 3
   },
   "file_extension": ".py",
   "mimetype": "text/x-python",
   "name": "python",
   "nbconvert_exporter": "python",
   "pygments_lexer": "ipython3",
   "version": "3.9.10"
  }
 },
 "nbformat": 4,
 "nbformat_minor": 5
}
