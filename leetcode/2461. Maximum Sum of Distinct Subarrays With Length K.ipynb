{
 "cells": [
  {
   "cell_type": "markdown",
   "id": "761c66dc-2778-489e-bd34-86907e6dce15",
   "metadata": {},
   "source": [
    "You are given an integer array nums and an integer k. Find the maximum subarray sum of all the subarrays of nums that meet the following conditions:\n",
    "\n",
    "    The length of the subarray is k, and\n",
    "    All the elements of the subarray are distinct.\n",
    "\n",
    "Return the maximum subarray sum of all the subarrays that meet the conditions. If no subarray meets the conditions, return 0.\n",
    "\n",
    "A subarray is a contiguous non-empty sequence of elements within an array.\n",
    "\n",
    " \n",
    "\n",
    "Example 1:\n",
    "\n",
    "Input: nums = [1,5,4,2,9,9,9], k = 3\n",
    "Output: 15\n",
    "Explanation: The subarrays of nums with length 3 are:\n",
    "- [1,5,4] which meets the requirements and has a sum of 10.\n",
    "- [5,4,2] which meets the requirements and has a sum of 11.\n",
    "- [4,2,9] which meets the requirements and has a sum of 15.\n",
    "- [2,9,9] which does not meet the requirements because the element 9 is repeated.\n",
    "- [9,9,9] which does not meet the requirements because the element 9 is repeated.\n",
    "We return 15 because it is the maximum subarray sum of all the subarrays that meet the conditions\n",
    "\n",
    "Example 2:\n",
    "\n",
    "Input: nums = [4,4,4], k = 3\n",
    "Output: 0\n",
    "Explanation: The subarrays of nums with length 3 are:\n",
    "- [4,4,4] which does not meet the requirements because the element 4 is repeated.\n",
    "We return 0 because no subarrays meet the conditions.\n",
    "\n",
    " \n",
    "\n",
    "Constraints:\n",
    "\n",
    "    1 <= k <= nums.length <= 105\n",
    "    1 <= nums[i] <= 105\n",
    "\n"
   ]
  },
  {
   "cell_type": "code",
   "execution_count": null,
   "id": "0104aacb-d31d-4579-a995-0b59a71ebc45",
   "metadata": {},
   "outputs": [],
   "source": [
    "class Solution:\n",
    "    def maximumSubarraySum(self, nums: List[int], k: int) -> int:\n",
    "        ans = 0\n",
    "        current_sum = 0\n",
    "        begin = 0\n",
    "        end = 0\n",
    "        num_to_index = {}\n",
    "\n",
    "        while end < len(nums):\n",
    "            curr_num = nums[end]\n",
    "            last_occurrence = num_to_index.get(curr_num, -1)\n",
    "            # if current window already has number or if window is too big, adjust window\n",
    "            while begin <= last_occurrence or end - begin + 1 > k:\n",
    "                current_sum -= nums[begin]\n",
    "                begin += 1\n",
    "            num_to_index[curr_num] = end\n",
    "            current_sum += nums[end]\n",
    "            if end - begin + 1 == k:\n",
    "                ans = max(ans, current_sum)\n",
    "            end += 1\n",
    "        return ans"
   ]
  }
 ],
 "metadata": {
  "kernelspec": {
   "display_name": "Python 3 (ipykernel)",
   "language": "python",
   "name": "python3"
  },
  "language_info": {
   "codemirror_mode": {
    "name": "ipython",
    "version": 3
   },
   "file_extension": ".py",
   "mimetype": "text/x-python",
   "name": "python",
   "nbconvert_exporter": "python",
   "pygments_lexer": "ipython3",
   "version": "3.12.7"
  }
 },
 "nbformat": 4,
 "nbformat_minor": 5
}
