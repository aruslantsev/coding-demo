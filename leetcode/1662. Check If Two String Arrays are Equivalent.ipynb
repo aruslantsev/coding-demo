{
 "cells": [
  {
   "cell_type": "markdown",
   "id": "881b40c2-d9a3-4db9-9cab-17ccf077db45",
   "metadata": {},
   "source": [
    "Given two string arrays word1 and word2, return true if the two arrays represent the same string, and false otherwise.\n",
    "\n",
    "A string is represented by an array if the array elements concatenated in order forms the string.\n",
    "\n",
    " \n",
    "\n",
    "Example 1:\n",
    "\n",
    "Input: word1 = [\"ab\", \"c\"], word2 = [\"a\", \"bc\"]\n",
    "Output: true\n",
    "Explanation:\n",
    "word1 represents string \"ab\" + \"c\" -> \"abc\"\n",
    "word2 represents string \"a\" + \"bc\" -> \"abc\"\n",
    "The strings are the same, so return true.\n",
    "\n",
    "Example 2:\n",
    "\n",
    "Input: word1 = [\"a\", \"cb\"], word2 = [\"ab\", \"c\"]\n",
    "Output: false\n",
    "\n",
    "Example 3:\n",
    "\n",
    "Input: word1  = [\"abc\", \"d\", \"defg\"], word2 = [\"abcddefg\"]\n",
    "Output: true\n",
    "\n",
    " \n",
    "\n",
    "Constraints:\n",
    "\n",
    "    1 <= word1.length, word2.length <= 103\n",
    "    1 <= word1[i].length, word2[i].length <= 103\n",
    "    1 <= sum(word1[i].length), sum(word2[i].length) <= 103\n",
    "    word1[i] and word2[i] consist of lowercase letters.\n",
    "\n"
   ]
  },
  {
   "cell_type": "code",
   "execution_count": null,
   "id": "a20269ec-5023-4a93-9e5f-3ab738548776",
   "metadata": {},
   "outputs": [],
   "source": [
    "class Solution:\n",
    "    def arrayStringsAreEqual(self, word1: List[str], word2: List[str]) -> bool:\n",
    "        return \"\".join(word1) == \"\".join(word2)"
   ]
  }
 ],
 "metadata": {
  "kernelspec": {
   "display_name": "Python 3 (ipykernel)",
   "language": "python",
   "name": "python3"
  },
  "language_info": {
   "codemirror_mode": {
    "name": "ipython",
    "version": 3
   },
   "file_extension": ".py",
   "mimetype": "text/x-python",
   "name": "python",
   "nbconvert_exporter": "python",
   "pygments_lexer": "ipython3",
   "version": "3.9.13"
  }
 },
 "nbformat": 4,
 "nbformat_minor": 5
}
