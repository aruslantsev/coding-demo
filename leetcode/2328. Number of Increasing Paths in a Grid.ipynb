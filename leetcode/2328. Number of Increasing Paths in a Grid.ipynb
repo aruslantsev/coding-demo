{
 "cells": [
  {
   "attachments": {
    "613846b5-5987-4126-92ab-ac6ecbc4df36.png": {
     "image/png": "[encoded data removed]"
    }
   },
   "cell_type": "markdown",
   "id": "b59c8f9f-2a19-4d52-a2ac-cc18b1c1e538",
   "metadata": {},
   "source": [
    "You are given an m x n integer matrix grid, where you can move from a cell to any adjacent cell in all 4 directions.\n",
    "\n",
    "Return the number of strictly increasing paths in the grid such that you can start from any cell and end at any cell. Since the answer may be very large, return it modulo 109 + 7.\n",
    "\n",
    "Two paths are considered different if they do not have exactly the same sequence of visited cells.\n",
    "\n",
    " \n",
    "\n",
    "Example 1:\n",
    "\n",
    "![image.png](attachment:613846b5-5987-4126-92ab-ac6ecbc4df36.png)\n",
    "\n",
    "Input: grid = [[1,1],[3,4]]\n",
    "Output: 8\n",
    "Explanation: The strictly increasing paths are:\n",
    "- Paths with length 1: [1], [1], [3], [4].\n",
    "- Paths with length 2: [1 -> 3], [1 -> 4], [3 -> 4].\n",
    "- Paths with length 3: [1 -> 3 -> 4].\n",
    "The total number of paths is 4 + 3 + 1 = 8.\n",
    "\n",
    "Example 2:\n",
    "\n",
    "Input: grid = [[1],[2]]\n",
    "Output: 3\n",
    "Explanation: The strictly increasing paths are:\n",
    "- Paths with length 1: [1], [2].\n",
    "- Paths with length 2: [1 -> 2].\n",
    "The total number of paths is 2 + 1 = 3.\n",
    "\n",
    " \n",
    "\n",
    "Constraints:\n",
    "\n",
    "    m == grid.length\n",
    "    n == grid[i].length\n",
    "    1 <= m, n <= 1000\n",
    "    1 <= m * n <= 105\n",
    "    1 <= grid[i][j] <= 105\n",
    "\n"
   ]
  },
  {
   "cell_type": "code",
   "execution_count": null,
   "id": "c586ae6d-56b8-418b-8a38-8fde17a7514c",
   "metadata": {},
   "outputs": [],
   "source": [
    "class Solution:\n",
    "    def countPaths(self, grid: List[List[int]]) -> int:\n",
    "        paths = [[-1 for _ in grid[0]] for _ in grid]\n",
    "        m = len(grid) - 1\n",
    "        n = len(grid[0]) - 1\n",
    "        MOD = 10**9 + 7\n",
    "\n",
    "        def dfs(x, y):\n",
    "            if paths[x][y] != -1:\n",
    "                return paths[x][y]\n",
    "            ans = 1\n",
    "            if x > 0 and grid[x][y] < grid[x - 1][y]:\n",
    "                ans += dfs(x - 1, y)\n",
    "            if x < m and grid[x][y] < grid[x + 1][y]:\n",
    "                ans += dfs(x + 1, y)\n",
    "            if y > 0 and grid[x][y] < grid[x][y - 1]:\n",
    "                ans += dfs(x, y - 1)\n",
    "            if y < n and grid[x][y] < grid[x][y + 1]:\n",
    "                ans += dfs(x, y + 1)\n",
    "            ans %= MOD\n",
    "            paths[x][y] = ans\n",
    "            return ans\n",
    "\n",
    "        ans = 0\n",
    "        for i in range(len(grid)):\n",
    "            for j in range(len(grid[0])):\n",
    "                ans += dfs(i, j)\n",
    "\n",
    "        return ans % MOD"
   ]
  },
  {
   "cell_type": "code",
   "execution_count": null,
   "id": "0db53920-6ac2-49e0-9d43-136890b3ed5a",
   "metadata": {},
   "outputs": [],
   "source": [
    "class Solution:\n",
    "    def countPaths(self, grid: List[List[int]]) -> int:\n",
    "        m = len(grid) - 1\n",
    "        n = len(grid[0]) - 1\n",
    "        MOD = 10**9 + 7\n",
    "\n",
    "        @cache\n",
    "        def dfs(x, y):\n",
    "            ans = 1\n",
    "            if x > 0 and grid[x][y] < grid[x - 1][y]:\n",
    "                ans += dfs(x - 1, y)\n",
    "            if x < m and grid[x][y] < grid[x + 1][y]:\n",
    "                ans += dfs(x + 1, y)\n",
    "            if y > 0 and grid[x][y] < grid[x][y - 1]:\n",
    "                ans += dfs(x, y - 1)\n",
    "            if y < n and grid[x][y] < grid[x][y + 1]:\n",
    "                ans += dfs(x, y + 1)\n",
    "            ans %= MOD\n",
    "            return ans\n",
    "\n",
    "        ans = 0\n",
    "        for i in range(len(grid)):\n",
    "            for j in range(len(grid[0])):\n",
    "                ans += dfs(i, j)\n",
    "\n",
    "        return ans % MOD"
   ]
  }
 ],
 "metadata": {
  "kernelspec": {
   "display_name": "Python 3 (ipykernel)",
   "language": "python",
   "name": "python3"
  },
  "language_info": {
   "codemirror_mode": {
    "name": "ipython",
    "version": 3
   },
   "file_extension": ".py",
   "mimetype": "text/x-python",
   "name": "python",
   "nbconvert_exporter": "python",
   "pygments_lexer": "ipython3",
   "version": "3.10.11"
  }
 },
 "nbformat": 4,
 "nbformat_minor": 5
}
