{
 "cells": [
  {
   "cell_type": "markdown",
   "id": "c1859442-f30b-48a7-8afe-9fc07b478cdd",
   "metadata": {},
   "source": [
    "Given an encoded string, return its decoded string.\n",
    "\n",
    "The encoding rule is: k[encoded_string], where the encoded_string inside the square brackets is being repeated exactly k times. Note that k is guaranteed to be a positive integer.\n",
    "\n",
    "You may assume that the input string is always valid; there are no extra white spaces, square brackets are well-formed, etc. Furthermore, you may assume that the original data does not contain any digits and that digits are only for those repeat numbers, k. For example, there will not be input like 3a or 2[4].\n",
    "\n",
    "The test cases are generated so that the length of the output will never exceed 105.\n",
    "\n",
    " \n",
    "\n",
    "Example 1:\n",
    "\n",
    "Input: s = \"3[a]2[bc]\"\n",
    "Output: \"aaabcbc\"\n",
    "\n",
    "Example 2:\n",
    "\n",
    "Input: s = \"3[a2[c]]\"\n",
    "Output: \"accaccacc\"\n",
    "\n",
    "Example 3:\n",
    "\n",
    "Input: s = \"2[abc]3[cd]ef\"\n",
    "Output: \"abcabccdcdcdef\"\n",
    "\n",
    " \n",
    "\n",
    "Constraints:\n",
    "\n",
    "    1 <= s.length <= 30\n",
    "    s consists of lowercase English letters, digits, and square brackets '[]'.\n",
    "    s is guaranteed to be a valid input.\n",
    "    All the integers in s are in the range [1, 300].\n",
    "\n"
   ]
  },
  {
   "cell_type": "code",
   "execution_count": 7,
   "id": "517015bf-7833-475f-8de6-c56d504c5991",
   "metadata": {
    "tags": []
   },
   "outputs": [],
   "source": [
    "class Solution:\n",
    "    def decodeString(self, s: str) -> str:\n",
    "        p = 0\n",
    "        substr = \"\"\n",
    "        while p < len(s):\n",
    "            multiplier = 0\n",
    "            while p < len(s) and s[p].isalpha():\n",
    "                substr += s[p]\n",
    "                p += 1\n",
    "            while p < len(s) and s[p].isdigit():\n",
    "                multiplier  = multiplier * 10 + int(s[p])\n",
    "                p += 1\n",
    "            new_s = \"\"\n",
    "            p += 1\n",
    "            op = 1\n",
    "            cl = 0\n",
    "            while p < len(s) and op != cl:\n",
    "                if s[p] == \"[\":\n",
    "                    op += 1\n",
    "                elif s[p] == \"]\":\n",
    "                    cl += 1\n",
    "                new_s += s[p]\n",
    "                p += 1\n",
    "            new_s = new_s[:-1]\n",
    "            substr += multiplier * self.decodeString(new_s)\n",
    "        return substr"
   ]
  },
  {
   "cell_type": "code",
   "execution_count": 8,
   "id": "4e0d7d59-ecac-4417-b6d5-458633d41b61",
   "metadata": {
    "tags": []
   },
   "outputs": [],
   "source": [
    "s = Solution()"
   ]
  },
  {
   "cell_type": "code",
   "execution_count": 11,
   "id": "50339beb-2d4d-47b0-8e75-469a4de53225",
   "metadata": {
    "tags": []
   },
   "outputs": [
    {
     "data": {
      "text/plain": [
       "'abbabbabb'"
      ]
     },
     "execution_count": 11,
     "metadata": {},
     "output_type": "execute_result"
    }
   ],
   "source": [
    "s.decodeString(\"3[a2[b]]\")"
   ]
  },
  {
   "cell_type": "code",
   "execution_count": null,
   "id": "c80903ad-790d-4f3b-b416-7148d0e13267",
   "metadata": {},
   "outputs": [],
   "source": []
  }
 ],
 "metadata": {
  "kernelspec": {
   "display_name": "common",
   "language": "python",
   "name": "common"
  },
  "language_info": {
   "codemirror_mode": {
    "name": "ipython",
    "version": 3
   },
   "file_extension": ".py",
   "mimetype": "text/x-python",
   "name": "python",
   "nbconvert_exporter": "python",
   "pygments_lexer": "ipython3",
   "version": "3.11.4"
  }
 },
 "nbformat": 4,
 "nbformat_minor": 5
}
