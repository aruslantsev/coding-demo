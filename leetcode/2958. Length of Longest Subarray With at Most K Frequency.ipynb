{
 "cells": [
  {
   "cell_type": "markdown",
   "id": "f67e2643-c61c-438c-a78c-6837b7841691",
   "metadata": {},
   "source": [
    "You are given an integer array nums and an integer k.\n",
    "\n",
    "The frequency of an element x is the number of times it occurs in an array.\n",
    "\n",
    "An array is called good if the frequency of each element in this array is less than or equal to k.\n",
    "\n",
    "Return the length of the longest good subarray of nums.\n",
    "\n",
    "A subarray is a contiguous non-empty sequence of elements within an array.\n",
    "\n",
    " \n",
    "\n",
    "Example 1:\n",
    "\n",
    "Input: nums = [1,2,3,1,2,3,1,2], k = 2\n",
    "Output: 6\n",
    "Explanation: The longest possible good subarray is [1,2,3,1,2,3] since the values 1, 2, and 3 occur at most twice in this subarray. Note that the subarrays [2,3,1,2,3,1] and [3,1,2,3,1,2] are also good.\n",
    "It can be shown that there are no good subarrays with length more than 6.\n",
    "\n",
    "Example 2:\n",
    "\n",
    "Input: nums = [1,2,1,2,1,2,1,2], k = 1\n",
    "Output: 2\n",
    "Explanation: The longest possible good subarray is [1,2] since the values 1 and 2 occur at most once in this subarray. Note that the subarray [2,1] is also good.\n",
    "It can be shown that there are no good subarrays with length more than 2.\n",
    "\n",
    "Example 3:\n",
    "\n",
    "Input: nums = [5,5,5,5,5,5,5], k = 4\n",
    "Output: 4\n",
    "Explanation: The longest possible good subarray is [5,5,5,5] since the value 5 occurs 4 times in this subarray.\n",
    "It can be shown that there are no good subarrays with length more than 4.\n",
    "\n",
    " \n",
    "\n",
    "Constraints:\n",
    "\n",
    "    1 <= nums.length <= 105\n",
    "    1 <= nums[i] <= 109\n",
    "    1 <= k <= nums.length\n",
    "\n"
   ]
  },
  {
   "cell_type": "code",
   "execution_count": null,
   "id": "f57a86d0-adb4-4a7c-8ba6-c5d94c014a72",
   "metadata": {},
   "outputs": [],
   "source": [
    "class Solution:\n",
    "    def maxSubarrayLength(self, nums: List[int], k: int) -> int:\n",
    "        ans, start = 0, -1\n",
    "        frequency = Counter()\n",
    "        for end in range(len(nums)):\n",
    "            frequency[nums[end]] += 1\n",
    "            while frequency[nums[end]] > k:\n",
    "                start += 1\n",
    "                frequency[nums[start]] -= 1\n",
    "            ans = max(ans, end - start)\n",
    "        return ans"
   ]
  }
 ],
 "metadata": {
  "kernelspec": {
   "display_name": "Python 3 (ipykernel)",
   "language": "python",
   "name": "python3"
  },
  "language_info": {
   "codemirror_mode": {
    "name": "ipython",
    "version": 3
   },
   "file_extension": ".py",
   "mimetype": "text/x-python",
   "name": "python",
   "nbconvert_exporter": "python",
   "pygments_lexer": "ipython3",
   "version": "3.11.7"
  }
 },
 "nbformat": 4,
 "nbformat_minor": 5
}
