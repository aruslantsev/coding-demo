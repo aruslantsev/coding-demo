{
 "cells": [
  {
   "cell_type": "markdown",
   "id": "41d83bb3-a821-4eba-8954-27a84f93fa7a",
   "metadata": {},
   "source": [
    "You are given a 0-indexed array of strings details. Each element of details provides information about a given passenger compressed into a string of length 15. The system is such that:\n",
    "\n",
    "    The first ten characters consist of the phone number of passengers.\n",
    "    The next character denotes the gender of the person.\n",
    "    The following two characters are used to indicate the age of the person.\n",
    "    The last two characters determine the seat allotted to that person.\n",
    "\n",
    "Return the number of passengers who are strictly more than 60 years old.\n",
    "\n",
    " \n",
    "\n",
    "Example 1:\n",
    "\n",
    "Input: details = [\"7868190130M7522\",\"5303914400F9211\",\"9273338290F4010\"]\n",
    "Output: 2\n",
    "Explanation: The passengers at indices 0, 1, and 2 have ages 75, 92, and 40. Thus, there are 2 people who are over 60 years old.\n",
    "\n",
    "Example 2:\n",
    "\n",
    "Input: details = [\"1313579440F2036\",\"2921522980M5644\"]\n",
    "Output: 0\n",
    "Explanation: None of the passengers are older than 60.\n",
    "\n",
    " \n",
    "\n",
    "Constraints:\n",
    "\n",
    "    1 <= details.length <= 100\n",
    "    details[i].length == 15\n",
    "    details[i] consists of digits from '0' to '9'.\n",
    "    details[i][10] is either 'M' or 'F' or 'O'.\n",
    "    The phone numbers and seat numbers of the passengers are distinct.\n",
    "\n"
   ]
  },
  {
   "cell_type": "code",
   "execution_count": null,
   "id": "4fb1a39a-5b4a-470c-8992-cc8f3578de5a",
   "metadata": {},
   "outputs": [],
   "source": [
    "class Solution:\n",
    "    def countSeniors(self, details: List[str]) -> int:\n",
    "        return len([p for p in details if int(p[11:13]) > 60])"
   ]
  }
 ],
 "metadata": {
  "kernelspec": {
   "display_name": "Python 3 (ipykernel)",
   "language": "python",
   "name": "python3"
  },
  "language_info": {
   "codemirror_mode": {
    "name": "ipython",
    "version": 3
   },
   "file_extension": ".py",
   "mimetype": "text/x-python",
   "name": "python",
   "nbconvert_exporter": "python",
   "pygments_lexer": "ipython3",
   "version": "3.12.3"
  }
 },
 "nbformat": 4,
 "nbformat_minor": 5
}
