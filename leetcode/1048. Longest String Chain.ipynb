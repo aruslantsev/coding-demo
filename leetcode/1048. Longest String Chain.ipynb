{
 "cells": [
  {
   "cell_type": "markdown",
   "id": "acb7b45b-75e1-4727-a488-98316194cb48",
   "metadata": {},
   "source": [
    "You are given an array of words where each word consists of lowercase English letters.\n",
    "\n",
    "wordA is a predecessor of wordB if and only if we can insert exactly one letter anywhere in wordA without changing the order of the other characters to make it equal to wordB.\n",
    "\n",
    "    For example, \"abc\" is a predecessor of \"abac\", while \"cba\" is not a predecessor of \"bcad\".\n",
    "\n",
    "A word chain is a sequence of words [word1, word2, ..., wordk] with k >= 1, where word1 is a predecessor of word2, word2 is a predecessor of word3, and so on. A single word is trivially a word chain with k == 1.\n",
    "\n",
    "Return the length of the longest possible word chain with words chosen from the given list of words.\n",
    "\n",
    " \n",
    "\n",
    "Example 1:\n",
    "\n",
    "Input: words = [\"a\",\"b\",\"ba\",\"bca\",\"bda\",\"bdca\"]\n",
    "Output: 4\n",
    "Explanation: One of the longest word chains is [\"a\",\"ba\",\"bda\",\"bdca\"].\n",
    "\n",
    "Example 2:\n",
    "\n",
    "Input: words = [\"xbc\",\"pcxbcf\",\"xb\",\"cxbc\",\"pcxbc\"]\n",
    "Output: 5\n",
    "Explanation: All the words can be put in a word chain [\"xb\", \"xbc\", \"cxbc\", \"pcxbc\", \"pcxbcf\"].\n",
    "\n",
    "Example 3:\n",
    "\n",
    "Input: words = [\"abcd\",\"dbqca\"]\n",
    "Output: 1\n",
    "Explanation: The trivial word chain [\"abcd\"] is one of the longest word chains.\n",
    "[\"abcd\",\"dbqca\"] is not a valid word chain because the ordering of the letters is changed.\n",
    "\n",
    " \n",
    "\n",
    "Constraints:\n",
    "\n",
    "    1 <= words.length <= 1000\n",
    "    1 <= words[i].length <= 16\n",
    "    words[i] only consists of lowercase English letters.\n",
    "\n"
   ]
  },
  {
   "cell_type": "code",
   "execution_count": 5,
   "id": "3eac0d2f-2766-4d48-b735-1dc588bb8b4a",
   "metadata": {},
   "outputs": [],
   "source": [
    "from typing import List\n",
    "\n",
    "def check_diff(word, next_word):\n",
    "    diff = 0\n",
    "    for i, letter in enumerate(word):\n",
    "        while i + diff < len(next_word) and next_word[i + diff] != letter:\n",
    "            if diff > 1:\n",
    "                return False\n",
    "            diff += 1\n",
    "    return True if diff <= 1 else False\n",
    "\n",
    "\n",
    "class Solution:\n",
    "    def longestStrChain(self, words: List[str]) -> int:\n",
    "        words_dict = {}\n",
    "        for word in words:\n",
    "            if len(word) not in words_dict:\n",
    "                words_dict[len(word)] = []\n",
    "            words_dict[len(word)].append(word)\n",
    "            \n",
    "        words_chain = {}\n",
    "        full_max = 0\n",
    "        for length in sorted(words_dict.keys(), reverse=True):\n",
    "            for word in words_dict[length]:\n",
    "                max_len = 0\n",
    "                for next_word in words_dict.get(length + 1, []):\n",
    "                    if check_diff(word, next_word):\n",
    "                        max_len = max(max_len, words_chain[next_word])\n",
    "                \n",
    "                full_max = max(max_len + 1, full_max)\n",
    "                words_chain[word] = max_len + 1\n",
    "                \n",
    "        return full_max"
   ]
  },
  {
   "cell_type": "code",
   "execution_count": 6,
   "id": "8b70ebea-6d18-4960-9ddf-dcda80f7b643",
   "metadata": {},
   "outputs": [
    {
     "data": {
      "text/plain": [
       "4"
      ]
     },
     "execution_count": 6,
     "metadata": {},
     "output_type": "execute_result"
    }
   ],
   "source": [
    "s = Solution()\n",
    "s.longestStrChain([\"a\",\"b\",\"ba\",\"bca\",\"bda\",\"bdca\"])"
   ]
  },
  {
   "cell_type": "code",
   "execution_count": 7,
   "id": "358ae89c-7308-418d-a2b1-fb395f9252c8",
   "metadata": {},
   "outputs": [
    {
     "data": {
      "text/plain": [
       "5"
      ]
     },
     "execution_count": 7,
     "metadata": {},
     "output_type": "execute_result"
    }
   ],
   "source": [
    "s.longestStrChain([\"xbc\",\"pcxbcf\",\"xb\",\"cxbc\",\"pcxbc\"])"
   ]
  },
  {
   "cell_type": "code",
   "execution_count": null,
   "id": "b8899628-77db-4dbe-b2b2-6e69db0e4ca5",
   "metadata": {},
   "outputs": [],
   "source": []
  }
 ],
 "metadata": {
  "kernelspec": {
   "display_name": "Python 3 (ipykernel)",
   "language": "python",
   "name": "python3"
  },
  "language_info": {
   "codemirror_mode": {
    "name": "ipython",
    "version": 3
   },
   "file_extension": ".py",
   "mimetype": "text/x-python",
   "name": "python",
   "nbconvert_exporter": "python",
   "pygments_lexer": "ipython3",
   "version": "3.9.10"
  }
 },
 "nbformat": 4,
 "nbformat_minor": 5
}
