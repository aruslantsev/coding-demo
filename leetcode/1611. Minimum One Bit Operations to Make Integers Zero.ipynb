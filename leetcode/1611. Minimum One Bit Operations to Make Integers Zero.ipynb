{
 "cells": [
  {
   "cell_type": "markdown",
   "id": "fa4e82bd-df3f-44d4-992c-56b7b7778767",
   "metadata": {},
   "source": [
    "Given an integer n, you must transform it into 0 using the following operations any number of times:\n",
    "\n",
    "    Change the rightmost (0th) bit in the binary representation of n.\n",
    "    Change the ith bit in the binary representation of n if the (i-1)th bit is set to 1 and the (i-2)th through 0th bits are set to 0.\n",
    "\n",
    "Return the minimum number of operations to transform n into 0.\n",
    "\n",
    " \n",
    "\n",
    "Example 1:\n",
    "\n",
    "Input: n = 3\n",
    "Output: 2\n",
    "Explanation: The binary representation of 3 is \"11\".\n",
    "\"11\" -> \"01\" with the 2nd operation since the 0th bit is 1.\n",
    "\"01\" -> \"00\" with the 1st operation.\n",
    "\n",
    "Example 2:\n",
    "\n",
    "Input: n = 6\n",
    "Output: 4\n",
    "Explanation: The binary representation of 6 is \"110\".\n",
    "\"110\" -> \"010\" with the 2nd operation since the 1st bit is 1 and 0th through 0th bits are 0.\n",
    "\"010\" -> \"011\" with the 1st operation.\n",
    "\"011\" -> \"001\" with the 2nd operation since the 0th bit is 1.\n",
    "\"001\" -> \"000\" with the 1st operation.\n",
    "\n",
    " \n",
    "\n",
    "Constraints:\n",
    "\n",
    "    0 <= n <= 109\n",
    "\n"
   ]
  },
  {
   "cell_type": "code",
   "execution_count": null,
   "id": "df702b05-9805-41fd-8fd3-92beef8fb899",
   "metadata": {},
   "outputs": [],
   "source": [
    "class Solution:\n",
    "    def minimumOneBitOperations(self, n: int) -> int:\n",
    "        if n == 0:\n",
    "            return 0\n",
    "        \n",
    "        k = 0\n",
    "        curr = 1\n",
    "        while (curr * 2) <= n:\n",
    "            curr *= 2\n",
    "            k += 1\n",
    "\n",
    "        return 2 ** (k + 1) - 1 - self.minimumOneBitOperations(n ^ curr)"
   ]
  }
 ],
 "metadata": {
  "kernelspec": {
   "display_name": "Python 3 (ipykernel)",
   "language": "python",
   "name": "python3"
  },
  "language_info": {
   "codemirror_mode": {
    "name": "ipython",
    "version": 3
   },
   "file_extension": ".py",
   "mimetype": "text/x-python",
   "name": "python",
   "nbconvert_exporter": "python",
   "pygments_lexer": "ipython3",
   "version": "3.11.4"
  }
 },
 "nbformat": 4,
 "nbformat_minor": 5
}
