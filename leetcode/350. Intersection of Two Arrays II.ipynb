{
 "cells": [
  {
   "cell_type": "markdown",
   "id": "1cd830d7-2326-4f04-9c26-a24565d4272b",
   "metadata": {},
   "source": [
    "Given two integer arrays nums1 and nums2, return an array of their intersection. Each element in the result must appear as many times as it shows in both arrays and you may return the result in any order.\n",
    "\n",
    " \n",
    "\n",
    "Example 1:\n",
    "\n",
    "Input: nums1 = [1,2,2,1], nums2 = [2,2]\n",
    "Output: [2,2]\n",
    "\n",
    "Example 2:\n",
    "\n",
    "Input: nums1 = [4,9,5], nums2 = [9,4,9,8,4]\n",
    "Output: [4,9]\n",
    "Explanation: [9,4] is also accepted.\n",
    "\n",
    " \n",
    "\n",
    "Constraints:\n",
    "\n",
    "    1 <= nums1.length, nums2.length <= 1000\n",
    "    0 <= nums1[i], nums2[i] <= 1000\n",
    "\n",
    " \n",
    "\n",
    "Follow up:\n",
    "\n",
    "    What if the given array is already sorted? How would you optimize your algorithm?\n",
    "    What if nums1's size is small compared to nums2's size? Which algorithm is better?\n",
    "    What if elements of nums2 are stored on disk, and the memory is limited such that you cannot load all elements into the memory at once?\n",
    "\n"
   ]
  },
  {
   "cell_type": "code",
   "execution_count": null,
   "id": "16e51c12-bf44-483a-b2d7-acc4129b2dfd",
   "metadata": {},
   "outputs": [],
   "source": [
    "class Solution:\n",
    "    def intersect(self, nums1: List[int], nums2: List[int]) -> List[int]:\n",
    "        nums1.sort()\n",
    "        nums2.sort()\n",
    "        p1 = 0\n",
    "        p2 = 0\n",
    "        ans = []\n",
    "        while p1 < len(nums1) and p2 < len(nums2):\n",
    "            if nums1[p1] < nums2[p2]:\n",
    "                p1 += 1\n",
    "            elif nums1[p1] > nums2[p2]:\n",
    "                p2 += 1\n",
    "            else:\n",
    "                ans.append(nums1[p1])\n",
    "                p1 += 1\n",
    "                p2 += 1\n",
    "        return ans"
   ]
  }
 ],
 "metadata": {
  "kernelspec": {
   "display_name": "Python 3 (ipykernel)",
   "language": "python",
   "name": "python3"
  },
  "language_info": {
   "codemirror_mode": {
    "name": "ipython",
    "version": 3
   },
   "file_extension": ".py",
   "mimetype": "text/x-python",
   "name": "python",
   "nbconvert_exporter": "python",
   "pygments_lexer": "ipython3",
   "version": "3.12.3"
  }
 },
 "nbformat": 4,
 "nbformat_minor": 5
}
