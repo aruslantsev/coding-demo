{
 "cells": [
  {
   "cell_type": "markdown",
   "id": "c97e32f3-adf1-4401-901b-b03cd42cd612",
   "metadata": {},
   "source": [
    "You are given an integer array nums and an integer x. In one operation, you can either remove the leftmost or the rightmost element from the array nums and subtract its value from x. Note that this modifies the array for future operations.\n",
    "\n",
    "Return the minimum number of operations to reduce x to exactly 0 if it is possible, otherwise, return -1.\n",
    "\n",
    " \n",
    "\n",
    "Example 1:\n",
    "\n",
    "Input: nums = [1,1,4,2,3], x = 5\n",
    "Output: 2\n",
    "Explanation: The optimal solution is to remove the last two elements to reduce x to zero.\n",
    "\n",
    "Example 2:\n",
    "\n",
    "Input: nums = [5,6,7,8,9], x = 4\n",
    "Output: -1\n",
    "\n",
    "Example 3:\n",
    "\n",
    "Input: nums = [3,2,20,1,1,3], x = 10\n",
    "Output: 5\n",
    "Explanation: The optimal solution is to remove the last three elements and the first two elements (5 operations in total) to reduce x to zero.\n",
    "\n",
    " \n",
    "\n",
    "Constraints:\n",
    "\n",
    "    1 <= nums.length <= 105\n",
    "    1 <= nums[i] <= 104\n",
    "    1 <= x <= 109\n"
   ]
  },
  {
   "cell_type": "code",
   "execution_count": 19,
   "id": "f33b5892-051c-41af-a607-681bb8d83eac",
   "metadata": {},
   "outputs": [],
   "source": [
    "from typing import List\n",
    "\n",
    "\n",
    "class Solution:\n",
    "    def minOperations(self, nums: List[int], x: int) -> int:\n",
    "        if all([num > x for num in nums]):\n",
    "            return -1\n",
    "        if sum(nums) < x:\n",
    "            return -1\n",
    "        if sum(nums) == x:\n",
    "            return len(nums)\n",
    "        \n",
    "        sum_l2r = [0]\n",
    "        sum_r2l = [0]\n",
    "        for num in nums:\n",
    "            sum_l2r.append(sum_l2r[-1] + num)\n",
    "        for num in nums[::-1]:\n",
    "            sum_r2l.append(sum_r2l[-1] + num)\n",
    "            \n",
    "        # sum_l2r.append(sum_l2r[-1])\n",
    "        # sum_r2l.append(sum_r2l[-1])\n",
    "\n",
    "        min_steps = None\n",
    "        max_check = None\n",
    "        for i, l2r in enumerate(sum_l2r):\n",
    "            if max_check is None or min_steps is None:\n",
    "                max_check = len(sum_r2l) - 1\n",
    "            else:\n",
    "                max_check = min_steps - i\n",
    "            for j, r2l in enumerate(sum_r2l[:max_check]):\n",
    "                if l2r + r2l == x:\n",
    "                    if min_steps is not None:\n",
    "                        min_steps = min(min_steps, i + j)\n",
    "                    else:\n",
    "                        min_steps = i + j\n",
    "                    if min_steps == 1 or min_steps == 0:\n",
    "                        return min_steps\n",
    "        return min_steps if min_steps is not None else -1"
   ]
  },
  {
   "cell_type": "code",
   "execution_count": 32,
   "id": "c0554100-1807-4f9d-9d61-5e19addacfcd",
   "metadata": {},
   "outputs": [],
   "source": [
    "from typing import List\n",
    "\n",
    "\n",
    "class Solution:\n",
    "    def minOperations(self, nums: List[int], x: int) -> int:\n",
    "        curr_sum_rev = sum(nums)\n",
    "        curr_sum = 0\n",
    "        \n",
    "        if all([num > x for num in nums]):\n",
    "            return -1\n",
    "        if curr_sum_rev < x:\n",
    "            return -1\n",
    "        if curr_sum_rev == x:\n",
    "            return len(nums)\n",
    "        \n",
    "        sum_l2r = {0: 0}\n",
    "        sum_r2l = {len(nums): curr_sum_rev}\n",
    "        \n",
    "        for i, num in enumerate(nums):\n",
    "            curr_sum += num\n",
    "            curr_sum_rev -= num\n",
    "            sum_l2r[curr_sum] = i + 1\n",
    "            sum_r2l[curr_sum_rev] = len(nums) - i - 1\n",
    "        \n",
    "        steps = None\n",
    "        \n",
    "        for l2r, i in sum_l2r.items():\n",
    "            if x - l2r in sum_r2l:\n",
    "                if steps is None:\n",
    "                    steps = i + sum_r2l[x - l2r]\n",
    "                else:\n",
    "                    steps = min(steps, i + sum_r2l[x - l2r])\n",
    "                    \n",
    "        if steps is None:\n",
    "            return -1\n",
    "        return steps\n",
    "                "
   ]
  },
  {
   "cell_type": "code",
   "execution_count": null,
   "id": "0727e81c-8946-4e71-a8f4-025bef19246a",
   "metadata": {},
   "outputs": [],
   "source": [
    "class Solution:\n",
    "    def minOperations(self, nums: List[int], x: int) -> int:\n",
    "        target = sum(nums) - x\n",
    "        curr_sum, max_len = 0, 0\n",
    "        start_idx = 0\n",
    "        found = False\n",
    "        for end_idx in range(len(nums)):\n",
    "            curr_sum += nums[end_idx]\n",
    "            while start_idx <= end_idx and curr_sum > target:\n",
    "                curr_sum -= nums[start_idx]\n",
    "                start_idx += 1\n",
    "            if curr_sum == target:\n",
    "                found = True\n",
    "                max_len = max(max_len, end_idx - start_idx + 1)\n",
    "\n",
    "        return len(nums) - max_len if found else -1"
   ]
  },
  {
   "cell_type": "code",
   "execution_count": 33,
   "id": "e4926958-dbc2-4e9d-a129-8ab1f9157913",
   "metadata": {},
   "outputs": [
    {
     "data": {
      "text/plain": [
       "2"
      ]
     },
     "execution_count": 33,
     "metadata": {},
     "output_type": "execute_result"
    }
   ],
   "source": [
    "s = Solution()\n",
    "s.minOperations([1,1,4,2,3], 5)"
   ]
  },
  {
   "cell_type": "code",
   "execution_count": 34,
   "id": "f0c9c0a9-5670-4a80-aa0c-c844dde116ea",
   "metadata": {},
   "outputs": [
    {
     "data": {
      "text/plain": [
       "16"
      ]
     },
     "execution_count": 34,
     "metadata": {},
     "output_type": "execute_result"
    }
   ],
   "source": [
    "s.minOperations([8828,9581,49,9818,9974,9869,9991,10000,10000,10000,9999,9993,9904,8819,1231,6309], 134365)\n"
   ]
  },
  {
   "cell_type": "code",
   "execution_count": 35,
   "id": "ffe8db56-833d-4b42-ac22-5a6df4ce822c",
   "metadata": {},
   "outputs": [
    {
     "data": {
      "text/plain": [
       "5"
      ]
     },
     "execution_count": 35,
     "metadata": {},
     "output_type": "execute_result"
    }
   ],
   "source": [
    "s.minOperations([3,2,20,1,1,3], 10)"
   ]
  },
  {
   "cell_type": "code",
   "execution_count": null,
   "id": "9d8c3b4c-d53a-448e-b302-f860e613a508",
   "metadata": {},
   "outputs": [],
   "source": []
  }
 ],
 "metadata": {
  "kernelspec": {
   "display_name": "Python 3 (ipykernel)",
   "language": "python",
   "name": "python3"
  },
  "language_info": {
   "codemirror_mode": {
    "name": "ipython",
    "version": 3
   },
   "file_extension": ".py",
   "mimetype": "text/x-python",
   "name": "python",
   "nbconvert_exporter": "python",
   "pygments_lexer": "ipython3",
   "version": "3.9.10"
  }
 },
 "nbformat": 4,
 "nbformat_minor": 5
}
