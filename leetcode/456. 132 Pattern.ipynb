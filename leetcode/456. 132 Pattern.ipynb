{
 "cells": [
  {
   "cell_type": "markdown",
   "id": "8c7a3c5b-ce39-41c1-990c-4e33030727b3",
   "metadata": {},
   "source": [
    "Given an array of n integers nums, a 132 pattern is a subsequence of three integers nums[i], nums[j] and nums[k] such that i < j < k and nums[i] < nums[k] < nums[j].\n",
    "\n",
    "Return true if there is a 132 pattern in nums, otherwise, return false.\n",
    "\n",
    " \n",
    "\n",
    "Example 1:\n",
    "\n",
    "Input: nums = [1,2,3,4]\n",
    "Output: false\n",
    "Explanation: There is no 132 pattern in the sequence.\n",
    "\n",
    "Example 2:\n",
    "\n",
    "Input: nums = [3,1,4,2]\n",
    "Output: true\n",
    "Explanation: There is a 132 pattern in the sequence: [1, 4, 2].\n",
    "\n",
    "Example 3:\n",
    "\n",
    "Input: nums = [-1,3,2,0]\n",
    "Output: true\n",
    "Explanation: There are three 132 patterns in the sequence: [-1, 3, 2], [-1, 3, 0] and [-1, 2, 0].\n",
    "\n",
    " \n",
    "\n",
    "Constraints:\n",
    "\n",
    "    n == nums.length\n",
    "    1 <= n <= 2 * 105\n",
    "    -109 <= nums[i] <= 109\n",
    "\n"
   ]
  },
  {
   "cell_type": "code",
   "execution_count": 8,
   "id": "44545e14-09cc-411f-b8b6-d2e7262706b4",
   "metadata": {},
   "outputs": [],
   "source": [
    "from typing import List\n",
    "\n",
    "class Solution:\n",
    "    def find132pattern(self, nums: List[int]) -> bool:\n",
    "        for i in range(len(nums) - 2):\n",
    "            for j in range(i + 1, len(nums) - 1):\n",
    "                for k in range(j + 1, len(nums)):\n",
    "                    if nums[i] < nums[k] < nums[j]:\n",
    "                        return True\n",
    "        return False"
   ]
  },
  {
   "cell_type": "code",
   "execution_count": 47,
   "id": "73049d9b-7f3d-421e-bea4-dcfba7d27c8e",
   "metadata": {},
   "outputs": [],
   "source": [
    "class Solution:\n",
    "    def find132pattern(self, nums: List[int]) -> bool:\n",
    "        mins = [0] * len(nums)\n",
    "        mins[0] = nums[0]\n",
    "        for i in range(1, len(nums)):\n",
    "            mins[i] = min(mins[i - 1], nums[i])\n",
    "        \n",
    "        s = []\n",
    "        for i in range(len(nums)):\n",
    "            while s and nums[s[-1]] <= nums[i]:\n",
    "                s.pop()\n",
    "            if s:\n",
    "                prev = s[-1]\n",
    "                if mins[prev] < nums[i]:\n",
    "                    return True\n",
    "            s.append(i)\n",
    "        return False"
   ]
  },
  {
   "cell_type": "code",
   "execution_count": null,
   "id": "f6d7105e-7b2d-4192-9a50-34da4f356694",
   "metadata": {},
   "outputs": [],
   "source": [
    "class Solution:\n",
    "    def find132pattern(self, nums: List[int]) -> bool:\n",
    "        if len(nums) < 3:\n",
    "            return False\n",
    "      \n",
    "        second_num = -math.inf\n",
    "        stck = []\n",
    "        # Try to find nums[i] < second_num < stck[-1]\n",
    "        for i in range(len(nums) - 1, -1, -1):\n",
    "            if nums[i] < second_num:\n",
    "                return True\n",
    "            # always ensure stack can be popped in increasing order\n",
    "            while stck and stck[-1] < nums[i]:\n",
    "                second_num = stck[-1]  # this will ensure  second_num < stck[-1] for next iteration\n",
    "                stck.pop()\n",
    "\n",
    "            stck.append(nums[i])\n",
    "        return False"
   ]
  },
  {
   "cell_type": "code",
   "execution_count": 48,
   "id": "19e00654-3384-4a58-939a-e1cc27efc91b",
   "metadata": {},
   "outputs": [
    {
     "data": {
      "text/plain": [
       "False"
      ]
     },
     "execution_count": 48,
     "metadata": {},
     "output_type": "execute_result"
    }
   ],
   "source": [
    "s = Solution()\n",
    "s.find132pattern([1, 2, 3, 4])"
   ]
  },
  {
   "cell_type": "code",
   "execution_count": 49,
   "id": "9550b132-0222-44a4-84f6-d13ba5d80948",
   "metadata": {},
   "outputs": [
    {
     "data": {
      "text/plain": [
       "True"
      ]
     },
     "execution_count": 49,
     "metadata": {},
     "output_type": "execute_result"
    }
   ],
   "source": [
    "s.find132pattern([3, 1, 4, 2])"
   ]
  },
  {
   "cell_type": "code",
   "execution_count": 50,
   "id": "df7b9e68-c564-4a76-8542-1b3b4f3fbb62",
   "metadata": {},
   "outputs": [
    {
     "data": {
      "text/plain": [
       "True"
      ]
     },
     "execution_count": 50,
     "metadata": {},
     "output_type": "execute_result"
    }
   ],
   "source": [
    "s.find132pattern([-3, 1, 2, 0])"
   ]
  },
  {
   "cell_type": "code",
   "execution_count": 51,
   "id": "4d722653-81b4-4db0-87b7-f0df297c4442",
   "metadata": {},
   "outputs": [
    {
     "data": {
      "text/plain": [
       "True"
      ]
     },
     "execution_count": 51,
     "metadata": {},
     "output_type": "execute_result"
    }
   ],
   "source": [
    "s.find132pattern([3,5,0,3,4])"
   ]
  },
  {
   "cell_type": "code",
   "execution_count": 52,
   "id": "536c5826-af57-4915-a710-4e2d79d3dd1d",
   "metadata": {},
   "outputs": [
    {
     "data": {
      "text/plain": [
       "False"
      ]
     },
     "execution_count": 52,
     "metadata": {},
     "output_type": "execute_result"
    }
   ],
   "source": [
    "s.find132pattern([1,0,1,-4,-3])"
   ]
  },
  {
   "cell_type": "code",
   "execution_count": null,
   "id": "ac8e019a-df9c-4ad7-962d-72296d0c971e",
   "metadata": {},
   "outputs": [],
   "source": []
  }
 ],
 "metadata": {
  "kernelspec": {
   "display_name": "Python 3 (ipykernel)",
   "language": "python",
   "name": "python3"
  },
  "language_info": {
   "codemirror_mode": {
    "name": "ipython",
    "version": 3
   },
   "file_extension": ".py",
   "mimetype": "text/x-python",
   "name": "python",
   "nbconvert_exporter": "python",
   "pygments_lexer": "ipython3",
   "version": "3.9.10"
  }
 },
 "nbformat": 4,
 "nbformat_minor": 5
}
