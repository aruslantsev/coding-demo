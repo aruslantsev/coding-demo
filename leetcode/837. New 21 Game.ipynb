{
 "cells": [
  {
   "cell_type": "markdown",
   "id": "6535a3ba-fedf-4a72-8370-c8c6cc52fdf0",
   "metadata": {},
   "source": [
    "Alice plays the following game, loosely based on the card game \"21\".\n",
    "\n",
    "Alice starts with 0 points and draws numbers while she has less than k points. During each draw, she gains an integer number of points randomly from the range [1, maxPts], where maxPts is an integer. Each draw is independent and the outcomes have equal probabilities.\n",
    "\n",
    "Alice stops drawing numbers when she gets k or more points.\n",
    "\n",
    "Return the probability that Alice has n or fewer points.\n",
    "\n",
    "Answers within 10-5 of the actual answer are considered accepted.\n",
    "\n",
    " \n",
    "\n",
    "Example 1:\n",
    "\n",
    "Input: n = 10, k = 1, maxPts = 10\n",
    "Output: 1.00000\n",
    "Explanation: Alice gets a single card, then stops.\n",
    "\n",
    "Example 2:\n",
    "\n",
    "Input: n = 6, k = 1, maxPts = 10\n",
    "Output: 0.60000\n",
    "Explanation: Alice gets a single card, then stops.\n",
    "In 6 out of 10 possibilities, she is at or below 6 points.\n",
    "\n",
    "Example 3:\n",
    "\n",
    "Input: n = 21, k = 17, maxPts = 10\n",
    "Output: 0.73278\n",
    "\n",
    " \n",
    "\n",
    "Constraints:\n",
    "\n",
    "    0 <= k <= n <= 104\n",
    "    1 <= maxPts <= 104\n",
    "\n"
   ]
  },
  {
   "cell_type": "code",
   "execution_count": null,
   "id": "2524d8e5-a227-4f02-902d-d73711abced2",
   "metadata": {},
   "outputs": [],
   "source": [
    "class Solution:\n",
    "    def new21Game(self, n: int, k: int, maxPts: int) -> float:\n",
    "        if k == 0 or n >= k + maxPts:\n",
    "            return 1.0\n",
    "        \n",
    "        windowSum = 1.0\n",
    "        probability = 0.0\n",
    "        \n",
    "        dp = [0.0] * (n + 1)\n",
    "        dp[0] = 1.0\n",
    "        \n",
    "        for i in range(1, n + 1):\n",
    "            dp[i] = windowSum / maxPts\n",
    "            \n",
    "            if i < k:\n",
    "                windowSum += dp[i]\n",
    "            else:\n",
    "                probability += dp[i]\n",
    "            \n",
    "            if i >= maxPts:\n",
    "                windowSum -= dp[i - maxPts]\n",
    "        \n",
    "        return probability"
   ]
  }
 ],
 "metadata": {
  "kernelspec": {
   "display_name": "Python 3 (ipykernel)",
   "language": "python",
   "name": "python3"
  },
  "language_info": {
   "codemirror_mode": {
    "name": "ipython",
    "version": 3
   },
   "file_extension": ".py",
   "mimetype": "text/x-python",
   "name": "python",
   "nbconvert_exporter": "python",
   "pygments_lexer": "ipython3",
   "version": "3.10.11"
  }
 },
 "nbformat": 4,
 "nbformat_minor": 5
}
