{
 "cells": [
  {
   "cell_type": "markdown",
   "id": "601dec8c-8c03-4849-8bff-01937a40b4c6",
   "metadata": {},
   "source": [
    "An n-bit gray code sequence is a sequence of 2n integers where:\n",
    "\n",
    "    Every integer is in the inclusive range [0, 2n - 1],\n",
    "    The first integer is 0,\n",
    "    An integer appears no more than once in the sequence,\n",
    "    The binary representation of every pair of adjacent integers differs by exactly one bit, and\n",
    "    The binary representation of the first and last integers differs by exactly one bit.\n",
    "\n",
    "Given an integer n, return any valid n-bit gray code sequence.\n",
    "\n",
    " \n",
    "\n",
    "Example 1:\n",
    "\n",
    "Input: n = 2\n",
    "Output: [0,1,3,2]\n",
    "Explanation:\n",
    "The binary representation of [0,1,3,2] is [00,01,11,10].\n",
    "- 00 and 01 differ by one bit\n",
    "- 01 and 11 differ by one bit\n",
    "- 11 and 10 differ by one bit\n",
    "- 10 and 00 differ by one bit\n",
    "[0,2,3,1] is also a valid gray code sequence, whose binary representation is [00,10,11,01].\n",
    "- 00 and 10 differ by one bit\n",
    "- 10 and 11 differ by one bit\n",
    "- 11 and 01 differ by one bit\n",
    "- 01 and 00 differ by one bit\n",
    "\n",
    "Example 2:\n",
    "\n",
    "Input: n = 1\n",
    "Output: [0,1]\n",
    "\n",
    " \n",
    "\n",
    "Constraints:\n",
    "\n",
    "    1 <= n <= 16\n",
    "\n"
   ]
  },
  {
   "cell_type": "code",
   "execution_count": 36,
   "id": "5bc834a9-5b78-4c24-93b4-14bc169d5aa3",
   "metadata": {
    "tags": []
   },
   "outputs": [],
   "source": [
    "from typing import List\n",
    "\n",
    "class Solution:\n",
    "    def grayCode(self, n: int) -> List[int]:\n",
    "        ans = [0]\n",
    "        nums = set(range(1, 2**n))\n",
    "        self.solved = False\n",
    "        \n",
    "        def nxt(prev):\n",
    "            if len(nums) == 0:\n",
    "                for i in range(n):\n",
    "                    if prev ^ (1 << i) == 0:\n",
    "                        self.solved = True\n",
    "                        return\n",
    "            \n",
    "            for i in range(n):\n",
    "                if self.solved: \n",
    "                    return\n",
    "                if prev ^ (1 << i) in nums:\n",
    "                    curr = prev ^ (1 << i)\n",
    "                    nums.remove(curr)\n",
    "                    ans.append(curr)\n",
    "                    nxt(curr)\n",
    "                    if not self.solved:\n",
    "                        ans.pop()\n",
    "                    nums.add(curr)\n",
    "        nxt(0)\n",
    "                    \n",
    "        return ans"
   ]
  },
  {
   "cell_type": "code",
   "execution_count": 37,
   "id": "a9256003-6389-40fa-b2f6-ed860be0a122",
   "metadata": {
    "tags": []
   },
   "outputs": [],
   "source": [
    "s = Solution()"
   ]
  },
  {
   "cell_type": "code",
   "execution_count": null,
   "id": "699e50f9-06ab-40a5-a2b1-0f0effb3608a",
   "metadata": {},
   "outputs": [],
   "source": []
  }
 ],
 "metadata": {
  "kernelspec": {
   "display_name": "common",
   "language": "python",
   "name": "common"
  },
  "language_info": {
   "codemirror_mode": {
    "name": "ipython",
    "version": 3
   },
   "file_extension": ".py",
   "mimetype": "text/x-python",
   "name": "python",
   "nbconvert_exporter": "python",
   "pygments_lexer": "ipython3",
   "version": "3.11.4"
  }
 },
 "nbformat": 4,
 "nbformat_minor": 5
}
