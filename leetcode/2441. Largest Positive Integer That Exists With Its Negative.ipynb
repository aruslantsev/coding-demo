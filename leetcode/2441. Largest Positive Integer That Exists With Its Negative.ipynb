{
 "cells": [
  {
   "cell_type": "markdown",
   "id": "b67cd5a4-ca38-4c0e-be4e-b88db999ab7b",
   "metadata": {},
   "source": [
    "Given an integer array nums that does not contain any zeros, find the largest positive integer k such that -k also exists in the array.\n",
    "\n",
    "Return the positive integer k. If there is no such integer, return -1.\n",
    "\n",
    " \n",
    "\n",
    "Example 1:\n",
    "\n",
    "Input: nums = [-1,2,-3,3]\n",
    "Output: 3\n",
    "Explanation: 3 is the only valid k we can find in the array.\n",
    "\n",
    "Example 2:\n",
    "\n",
    "Input: nums = [-1,10,6,7,-7,1]\n",
    "Output: 7\n",
    "Explanation: Both 1 and 7 have their corresponding negative values in the array. 7 has a larger value.\n",
    "\n",
    "Example 3:\n",
    "\n",
    "Input: nums = [-10,8,6,7,-2,-3]\n",
    "Output: -1\n",
    "Explanation: There is no a single valid k, we return -1.\n",
    "\n",
    " \n",
    "\n",
    "Constraints:\n",
    "\n",
    "    1 <= nums.length <= 1000\n",
    "    -1000 <= nums[i] <= 1000\n",
    "    nums[i] != 0\n",
    "\n"
   ]
  },
  {
   "cell_type": "code",
   "execution_count": null,
   "id": "3564b5d6-feb9-4eaa-be0b-9041a6c8022e",
   "metadata": {},
   "outputs": [],
   "source": [
    "class Sign:\n",
    "    positive=False\n",
    "    negative=False\n",
    "\n",
    "    def check_both(self):\n",
    "        return self.positive and self.negative\n",
    "\n",
    "class Solution:\n",
    "    def findMaxK(self, nums: List[int]) -> int:\n",
    "        checks = defaultdict(Sign)\n",
    "        ans = -1\n",
    "        for num in nums:\n",
    "            if num > 0:\n",
    "                checks[abs(num)].positive = True\n",
    "            else:\n",
    "                checks[abs(num)].negative = True\n",
    "            \n",
    "            if checks[abs(num)].check_both():\n",
    "                ans = max(ans, abs(num))\n",
    "        return ans"
   ]
  }
 ],
 "metadata": {
  "kernelspec": {
   "display_name": "Python 3 (ipykernel)",
   "language": "python",
   "name": "python3"
  },
  "language_info": {
   "codemirror_mode": {
    "name": "ipython",
    "version": 3
   },
   "file_extension": ".py",
   "mimetype": "text/x-python",
   "name": "python",
   "nbconvert_exporter": "python",
   "pygments_lexer": "ipython3",
   "version": "3.12.3"
  }
 },
 "nbformat": 4,
 "nbformat_minor": 5
}
