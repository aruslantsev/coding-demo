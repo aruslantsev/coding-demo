{
 "cells": [
  {
   "cell_type": "markdown",
   "id": "4626931d-02f1-4ed4-8365-0ca6ef76baf5",
   "metadata": {},
   "source": [
    "You are given a 0-indexed array nums consisting of positive integers.\n",
    "\n",
    "There are two types of operations that you can apply on the array any number of times:\n",
    "\n",
    "    Choose two elements with equal values and delete them from the array.\n",
    "    Choose three elements with equal values and delete them from the array.\n",
    "\n",
    "Return the minimum number of operations required to make the array empty, or -1 if it is not possible.\n",
    "\n",
    " \n",
    "\n",
    "Example 1:\n",
    "\n",
    "Input: nums = [2,3,3,2,2,4,2,3,4]\n",
    "Output: 4\n",
    "Explanation: We can apply the following operations to make the array empty:\n",
    "- Apply the first operation on the elements at indices 0 and 3. The resulting array is nums = [3,3,2,4,2,3,4].\n",
    "- Apply the first operation on the elements at indices 2 and 4. The resulting array is nums = [3,3,4,3,4].\n",
    "- Apply the second operation on the elements at indices 0, 1, and 3. The resulting array is nums = [4,4].\n",
    "- Apply the first operation on the elements at indices 0 and 1. The resulting array is nums = [].\n",
    "It can be shown that we cannot make the array empty in less than 4 operations.\n",
    "\n",
    "Example 2:\n",
    "\n",
    "Input: nums = [2,1,2,2,3,3]\n",
    "Output: -1\n",
    "Explanation: It is impossible to empty the array.\n",
    "\n",
    " \n",
    "\n",
    "Constraints:\n",
    "\n",
    "    2 <= nums.length <= 105\n",
    "    1 <= nums[i] <= 106\n",
    "\n"
   ]
  },
  {
   "cell_type": "code",
   "execution_count": null,
   "id": "9fc900db-4816-4cea-903f-73bf2d6e7625",
   "metadata": {},
   "outputs": [],
   "source": [
    "class Solution:\n",
    "    def minOperations(self, nums: List[int]) -> int:\n",
    "        counts = Counter(nums)\n",
    "        ans = 0\n",
    "        for val in counts.values():\n",
    "            if val == 1:\n",
    "                return -1\n",
    "            while val > 4:\n",
    "                val -= 3\n",
    "                ans += 1\n",
    "            if val == 4:\n",
    "                ans += 2\n",
    "            else:\n",
    "                ans += 1\n",
    "        return ans\n",
    "\n"
   ]
  }
 ],
 "metadata": {
  "kernelspec": {
   "display_name": "Python 3 (ipykernel)",
   "language": "python",
   "name": "python3"
  },
  "language_info": {
   "codemirror_mode": {
    "name": "ipython",
    "version": 3
   },
   "file_extension": ".py",
   "mimetype": "text/x-python",
   "name": "python",
   "nbconvert_exporter": "python",
   "pygments_lexer": "ipython3",
   "version": "3.11.4"
  }
 },
 "nbformat": 4,
 "nbformat_minor": 5
}
