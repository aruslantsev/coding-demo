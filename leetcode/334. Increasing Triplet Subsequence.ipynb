{
 "cells": [
  {
   "cell_type": "markdown",
   "id": "c4d6be66-34fe-4562-af19-9466d21e4c9d",
   "metadata": {},
   "source": [
    "Given an integer array nums, return true if there exists a triple of indices (i, j, k) such that i < j < k and nums[i] < nums[j] < nums[k]. If no such indices exists, return false.\n",
    "\n",
    " \n",
    "\n",
    "Example 1:\n",
    "\n",
    "Input: nums = [1,2,3,4,5]\n",
    "Output: true\n",
    "Explanation: Any triplet where i < j < k is valid.\n",
    "\n",
    "Example 2:\n",
    "\n",
    "Input: nums = [5,4,3,2,1]\n",
    "Output: false\n",
    "Explanation: No triplet exists.\n",
    "\n",
    "Example 3:\n",
    "\n",
    "Input: nums = [2,1,5,0,4,6]\n",
    "Output: true\n",
    "Explanation: The triplet (3, 4, 5) is valid because nums[3] == 0 < nums[4] == 4 < nums[5] == 6.\n",
    "\n",
    " \n",
    "\n",
    "Constraints:\n",
    "\n",
    "    1 <= nums.length <= 5 * 105\n",
    "    -231 <= nums[i] <= 231 - 1\n",
    "\n",
    " \n",
    "Follow up: Could you implement a solution that runs in O(n) time complexity and O(1) space complexity?"
   ]
  },
  {
   "cell_type": "code",
   "execution_count": null,
   "id": "a5b6fb55-58f2-4511-a054-0d28dd09b481",
   "metadata": {},
   "outputs": [],
   "source": [
    "class Solution:\n",
    "    def increasingTriplet(self, nums: List[int]) -> bool:\n",
    "        curr_min = nums[0]\n",
    "        curr_max = [nums[-1] for _ in nums]\n",
    "        for i in range(len(nums) - 1)[::-1]:\n",
    "            curr_max[i] = max(curr_max[i + 1], nums[i])\n",
    "            \n",
    "        for i in range(1, len(nums) - 1):\n",
    "            curr_min = min(curr_min, nums[i - 1])\n",
    "            if curr_min < nums[i] < curr_max[i + 1]:\n",
    "                return True\n",
    "        return False"
   ]
  },
  {
   "cell_type": "code",
   "execution_count": null,
   "id": "3b2b0102-1693-4f2e-8a2f-fe57f216197b",
   "metadata": {},
   "outputs": [],
   "source": [
    "class Solution:\n",
    "    def increasingTriplet(self, nums: List[int]) -> bool:\n",
    "        curr_triplet = [nums[0]]\n",
    "        old_triplet = None\n",
    "        for num in nums[1:]:\n",
    "            if old_triplet and num > old_triplet[-1]:\n",
    "                return True\n",
    "                \n",
    "            if num > curr_triplet[-1]:\n",
    "                curr_triplet.append(num)\n",
    "                if len(curr_triplet) == 3:\n",
    "                    return True\n",
    "            elif num < curr_triplet[-1]:\n",
    "                if len(curr_triplet) == 1:\n",
    "                    curr_triplet[-1] = num\n",
    "                elif len(curr_triplet) == 2:\n",
    "                    if num > curr_triplet[0]:\n",
    "                        curr_triplet[1] = num\n",
    "                    elif num < curr_triplet[0]:\n",
    "                        if not old_triplet or curr_triplet[1] < old_triplet[1]:\n",
    "                            old_triplet = curr_triplet\n",
    "                            curr_triplet = [num]"
   ]
  }
 ],
 "metadata": {
  "kernelspec": {
   "display_name": "Python 3 (ipykernel)",
   "language": "python",
   "name": "python3"
  },
  "language_info": {
   "codemirror_mode": {
    "name": "ipython",
    "version": 3
   },
   "file_extension": ".py",
   "mimetype": "text/x-python",
   "name": "python",
   "nbconvert_exporter": "python",
   "pygments_lexer": "ipython3",
   "version": "3.9.10"
  }
 },
 "nbformat": 4,
 "nbformat_minor": 5
}
