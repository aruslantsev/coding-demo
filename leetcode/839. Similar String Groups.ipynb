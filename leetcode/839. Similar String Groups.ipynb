{
 "cells": [
  {
   "cell_type": "markdown",
   "id": "7ee728df-4dae-4994-827e-134270e67287",
   "metadata": {},
   "source": [
    "Two strings X and Y are similar if we can swap two letters (in different positions) of X, so that it equals Y. Also two strings X and Y are similar if they are equal.\n",
    "\n",
    "For example, \"tars\" and \"rats\" are similar (swapping at positions 0 and 2), and \"rats\" and \"arts\" are similar, but \"star\" is not similar to \"tars\", \"rats\", or \"arts\".\n",
    "\n",
    "Together, these form two connected groups by similarity: {\"tars\", \"rats\", \"arts\"} and {\"star\"}.  Notice that \"tars\" and \"arts\" are in the same group even though they are not similar.  Formally, each group is such that a word is in the group if and only if it is similar to at least one other word in the group.\n",
    "\n",
    "We are given a list strs of strings where every string in strs is an anagram of every other string in strs. How many groups are there?\n",
    "\n",
    " \n",
    "\n",
    "Example 1:\n",
    "\n",
    "Input: strs = [\"tars\",\"rats\",\"arts\",\"star\"]\n",
    "Output: 2\n",
    "\n",
    "Example 2:\n",
    "\n",
    "Input: strs = [\"omv\",\"ovm\"]\n",
    "Output: 1\n",
    "\n",
    " \n",
    "\n",
    "Constraints:\n",
    "\n",
    "    1 <= strs.length <= 300\n",
    "    1 <= strs[i].length <= 300\n",
    "    strs[i] consists of lowercase letters only.\n",
    "    All words in strs have the same length and are anagrams of each other.\n",
    "\n"
   ]
  },
  {
   "cell_type": "code",
   "execution_count": 9,
   "id": "cb8bb239-2c6d-4db4-996b-3bed9d02b202",
   "metadata": {},
   "outputs": [],
   "source": [
    "from typing import List\n",
    "from collections import defaultdict\n",
    "\n",
    "class Solution:\n",
    "    def numSimilarGroups(self, strs: List[str]) -> int:\n",
    "        def check_equal(s1, s2):\n",
    "            if s1 == s2:\n",
    "                return True\n",
    "            if sum(l1 != l2 for l1, l2 in zip (s1, s2)) == 2:\n",
    "                return True\n",
    "            return False\n",
    "\n",
    "        graph = defaultdict(list)\n",
    "        for i in range(len(strs) - 1):\n",
    "            for j in range(i + 1, len(strs)):\n",
    "                if check_equal(strs[i], strs[j]):\n",
    "                    graph[i].append(j)\n",
    "                    graph[j].append(i)\n",
    "        \n",
    "        visited = [False for _ in strs]\n",
    "        \n",
    "        def dfs(node):\n",
    "            visited[node] = True\n",
    "            for nxt in graph[node]:\n",
    "                if not visited[nxt]:\n",
    "                    dfs(nxt)\n",
    "                    \n",
    "        ans = 0\n",
    "        for i in range(len(visited)):\n",
    "            if not visited[i]:\n",
    "                dfs(i)\n",
    "                ans += 1\n",
    "        return ans\n",
    "                \n",
    "            "
   ]
  },
  {
   "cell_type": "code",
   "execution_count": 10,
   "id": "7016bc46-91c6-4dcd-9a14-5069dd3898e7",
   "metadata": {},
   "outputs": [
    {
     "data": {
      "text/plain": [
       "2"
      ]
     },
     "execution_count": 10,
     "metadata": {},
     "output_type": "execute_result"
    }
   ],
   "source": [
    "s = Solution()\n",
    "s.numSimilarGroups([\"tars\",\"rats\",\"arts\",\"star\"])"
   ]
  },
  {
   "cell_type": "code",
   "execution_count": null,
   "id": "2fbe4698-e642-4fa5-b5ca-0ecca3366fd9",
   "metadata": {},
   "outputs": [],
   "source": []
  },
  {
   "cell_type": "code",
   "execution_count": null,
   "id": "6b9e94a9-69c5-46a6-b548-274da75baa89",
   "metadata": {},
   "outputs": [],
   "source": []
  }
 ],
 "metadata": {
  "kernelspec": {
   "display_name": "common",
   "language": "python",
   "name": "common"
  },
  "language_info": {
   "codemirror_mode": {
    "name": "ipython",
    "version": 3
   },
   "file_extension": ".py",
   "mimetype": "text/x-python",
   "name": "python",
   "nbconvert_exporter": "python",
   "pygments_lexer": "ipython3",
   "version": "3.9.15"
  }
 },
 "nbformat": 4,
 "nbformat_minor": 5
}
