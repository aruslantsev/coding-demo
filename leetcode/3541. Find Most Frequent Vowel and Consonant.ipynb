{
 "cells": [
  {
   "cell_type": "markdown",
   "id": "2e157352-3dc5-4f84-b775-fd2df168a9ac",
   "metadata": {},
   "source": [
    "You are given a string s consisting of lowercase English letters ('a' to 'z').\n",
    "\n",
    "Your task is to:\n",
    "\n",
    "    Find the vowel (one of 'a', 'e', 'i', 'o', or 'u') with the maximum frequency.\n",
    "    Find the consonant (all other letters excluding vowels) with the maximum frequency.\n",
    "\n",
    "Return the sum of the two frequencies.\n",
    "\n",
    "Note: If multiple vowels or consonants have the same maximum frequency, you may choose any one of them. If there are no vowels or no consonants in the string, consider their frequency as 0.\n",
    "The frequency of a letter x is the number of times it occurs in the string.\n",
    "\n",
    " \n",
    "\n",
    "Example 1:\n",
    "\n",
    "Input: s = \"successes\"\n",
    "\n",
    "Output: 6\n",
    "\n",
    "Explanation:\n",
    "\n",
    "    The vowels are: 'u' (frequency 1), 'e' (frequency 2). The maximum frequency is 2.\n",
    "    The consonants are: 's' (frequency 4), 'c' (frequency 2). The maximum frequency is 4.\n",
    "    The output is 2 + 4 = 6.\n",
    "\n",
    "Example 2:\n",
    "\n",
    "Input: s = \"aeiaeia\"\n",
    "\n",
    "Output: 3\n",
    "\n",
    "Explanation:\n",
    "\n",
    "    The vowels are: 'a' (frequency 3), 'e' ( frequency 2), 'i' (frequency 2). The maximum frequency is 3.\n",
    "    There are no consonants in s. Hence, maximum consonant frequency = 0.\n",
    "    The output is 3 + 0 = 3.\n",
    "\n",
    " \n",
    "\n",
    "Constraints:\n",
    "\n",
    "    1 <= s.length <= 100\n",
    "    s consists of lowercase English letters only.\n",
    "\n",
    " "
   ]
  },
  {
   "cell_type": "code",
   "execution_count": null,
   "id": "8e26e150-9358-4d77-bbfc-540b85a33877",
   "metadata": {},
   "outputs": [],
   "source": [
    "class Solution:\n",
    "    def maxFreqSum(self, s: str) -> int:\n",
    "        cnt = Counter(s)\n",
    "        v = max((cnt[c] for c in cnt if c in \"aeiou\"), default=0)\n",
    "        c = max((cnt[c] for c in cnt if c not in \"aeiou\"), default=0)\n",
    "        return v + c"
   ]
  }
 ],
 "metadata": {
  "kernelspec": {
   "display_name": "Python 3 (ipykernel)",
   "language": "python",
   "name": "python3"
  },
  "language_info": {
   "codemirror_mode": {
    "name": "ipython",
    "version": 3
   },
   "file_extension": ".py",
   "mimetype": "text/x-python",
   "name": "python",
   "nbconvert_exporter": "python",
   "pygments_lexer": "ipython3",
   "version": "3.13.5"
  }
 },
 "nbformat": 4,
 "nbformat_minor": 5
}
