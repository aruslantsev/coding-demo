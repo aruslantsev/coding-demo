{
 "cells": [
  {
   "cell_type": "markdown",
   "id": "dcf7a6e7-c2a1-4b21-9817-88e0ec8d9334",
   "metadata": {},
   "source": [
    "You are given an integer array nums. In one move, you can pick an index i where 0 <= i < nums.length and increment nums[i] by 1.\n",
    "\n",
    "Return the minimum number of moves to make every value in nums unique.\n",
    "\n",
    "The test cases are generated so that the answer fits in a 32-bit integer.\n",
    "\n",
    " \n",
    "\n",
    "Example 1:\n",
    "\n",
    "Input: nums = [1,2,2]\n",
    "Output: 1\n",
    "Explanation: After 1 move, the array could be [1, 2, 3].\n",
    "\n",
    "Example 2:\n",
    "\n",
    "Input: nums = [3,2,1,2,1,7]\n",
    "Output: 6\n",
    "Explanation: After 6 moves, the array could be [3, 4, 1, 2, 5, 7].\n",
    "It can be shown with 5 or less moves that it is impossible for the array to have all unique values.\n",
    "\n",
    " \n",
    "\n",
    "Constraints:\n",
    "\n",
    "    1 <= nums.length <= 105\n",
    "    0 <= nums[i] <= 105\n",
    "\n"
   ]
  },
  {
   "cell_type": "code",
   "execution_count": null,
   "id": "ae0b3697-3ccb-4d61-9f0b-27bfa1de5952",
   "metadata": {},
   "outputs": [],
   "source": [
    "class Solution:\n",
    "    def minIncrementForUnique(self, nums: List[int]) -> int:\n",
    "        min_increments = 0\n",
    "\n",
    "        nums.sort()\n",
    "\n",
    "        for i in range(1, len(nums)):\n",
    "            # Ensure each element is greater than its previous\n",
    "            if nums[i] <= nums[i - 1]:\n",
    "                # Add the required increment to minIncrements\n",
    "                increment = nums[i - 1] + 1 - nums[i]\n",
    "                min_increments += increment\n",
    "\n",
    "                # Set the element to be greater than its previous\n",
    "                nums[i] = nums[i - 1] + 1\n",
    "\n",
    "        return min_increments"
   ]
  }
 ],
 "metadata": {
  "kernelspec": {
   "display_name": "Python 3 (ipykernel)",
   "language": "python",
   "name": "python3"
  },
  "language_info": {
   "codemirror_mode": {
    "name": "ipython",
    "version": 3
   },
   "file_extension": ".py",
   "mimetype": "text/x-python",
   "name": "python",
   "nbconvert_exporter": "python",
   "pygments_lexer": "ipython3",
   "version": "3.12.3"
  }
 },
 "nbformat": 4,
 "nbformat_minor": 5
}
