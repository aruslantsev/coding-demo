{
 "cells": [
  {
   "cell_type": "markdown",
   "id": "68083cc6-a37e-41e1-a55e-80011511893c",
   "metadata": {},
   "source": [
    "An attendance record for a student can be represented as a string where each character signifies whether the student was absent, late, or present on that day. The record only contains the following three characters:\n",
    "\n",
    "    'A': Absent.\n",
    "    'L': Late.\n",
    "    'P': Present.\n",
    "\n",
    "Any student is eligible for an attendance award if they meet both of the following criteria:\n",
    "\n",
    "    The student was absent ('A') for strictly fewer than 2 days total.\n",
    "    The student was never late ('L') for 3 or more consecutive days.\n",
    "\n",
    "Given an integer n, return the number of possible attendance records of length n that make a student eligible for an attendance award. The answer may be very large, so return it modulo 109 + 7.\n",
    "\n",
    " \n",
    "\n",
    "Example 1:\n",
    "\n",
    "Input: n = 2\n",
    "Output: 8\n",
    "Explanation: There are 8 records with length 2 that are eligible for an award:\n",
    "\"PP\", \"AP\", \"PA\", \"LP\", \"PL\", \"AL\", \"LA\", \"LL\"\n",
    "Only \"AA\" is not eligible because there are 2 absences (there need to be fewer than 2).\n",
    "\n",
    "Example 2:\n",
    "\n",
    "Input: n = 1\n",
    "Output: 3\n",
    "\n",
    "Example 3:\n",
    "\n",
    "Input: n = 10101\n",
    "Output: 183236316\n",
    "\n",
    " \n",
    "\n",
    "Constraints:\n",
    "\n",
    "    1 <= n <= 105\n",
    "\n"
   ]
  },
  {
   "cell_type": "code",
   "execution_count": null,
   "id": "87fb0002-5eca-4748-9979-11aae6f3e8ae",
   "metadata": {},
   "outputs": [],
   "source": [
    "class Solution:\n",
    "    def checkRecord(self, n: int) -> int:\n",
    "        memo = [[[-1] * 3 for _ in range(2)] for _ in range(n + 1)]\n",
    "        def dp(n, total_absent, consecutive_late):\n",
    "            if total_absent >= 2 or consecutive_late >= 3:\n",
    "                return 0\n",
    "            if n == 0:\n",
    "                return 1\n",
    "\n",
    "            if memo[n][total_absent][consecutive_late] != -1:\n",
    "                return memo[n][total_absent][consecutive_late]\n",
    "            \n",
    "            total = (\n",
    "                dp(n - 1, total_absent, 0)\n",
    "                + dp(n - 1, total_absent + 1, 0)\n",
    "                + dp(n - 1, total_absent, consecutive_late + 1)\n",
    "            ) % (10**9 + 7)\n",
    "            memo[n][total_absent][consecutive_late] = total\n",
    "            return total\n",
    "\n",
    "        return dp(n, 0, 0)"
   ]
  }
 ],
 "metadata": {
  "kernelspec": {
   "display_name": "Python 3 (ipykernel)",
   "language": "python",
   "name": "python3"
  },
  "language_info": {
   "codemirror_mode": {
    "name": "ipython",
    "version": 3
   },
   "file_extension": ".py",
   "mimetype": "text/x-python",
   "name": "python",
   "nbconvert_exporter": "python",
   "pygments_lexer": "ipython3",
   "version": "3.12.3"
  }
 },
 "nbformat": 4,
 "nbformat_minor": 5
}
