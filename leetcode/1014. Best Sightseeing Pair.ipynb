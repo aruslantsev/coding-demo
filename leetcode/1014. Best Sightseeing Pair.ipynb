{
 "cells": [
  {
   "cell_type": "markdown",
   "id": "f469f8e7-e52a-4ea1-974a-1e17563b7556",
   "metadata": {},
   "source": [
    "You are given an integer array values where values[i] represents the value of the ith sightseeing spot. Two sightseeing spots i and j have a distance j - i between them.\n",
    "\n",
    "The score of a pair (i < j) of sightseeing spots is values[i] + values[j] + i - j: the sum of the values of the sightseeing spots, minus the distance between them.\n",
    "\n",
    "Return the maximum score of a pair of sightseeing spots.\n",
    "\n",
    " \n",
    "\n",
    "Example 1:\n",
    "\n",
    "Input: values = [8,1,5,2,6]\n",
    "Output: 11\n",
    "Explanation: i = 0, j = 2, values[i] + values[j] + i - j = 8 + 5 + 0 - 2 = 11\n",
    "\n",
    "Example 2:\n",
    "\n",
    "Input: values = [1,2]\n",
    "Output: 2\n",
    "\n",
    " \n",
    "\n",
    "Constraints:\n",
    "\n",
    "    2 <= values.length <= 5 * 104\n",
    "    1 <= values[i] <= 1000\n",
    "\n"
   ]
  },
  {
   "cell_type": "code",
   "execution_count": null,
   "id": "b647207a-544e-4ce3-8f26-9496e3aeaa14",
   "metadata": {},
   "outputs": [],
   "source": [
    "class Solution:\n",
    "    def maxScoreSightseeingPair(self, values: List[int]) -> int:\n",
    "        i = [v + p for p, v in enumerate(values)]\n",
    "        j = [v - p for p, v in enumerate(values)]\n",
    "        maxi = i[0]\n",
    "        for p in range(len(i)):\n",
    "            maxi = max(maxi, i[p])\n",
    "            i[p] = maxi\n",
    "        maxj = j[-1]\n",
    "        for p in range(len(j) - 1, -1, -1):\n",
    "            maxj = max(maxj, j[p])\n",
    "            j[p] = maxj\n",
    "        return max(ii + jj for (ii, jj) in zip(i[:-1], j[1:]))\n",
    "  "
   ]
  }
 ],
 "metadata": {
  "kernelspec": {
   "display_name": "Python 3 (ipykernel)",
   "language": "python",
   "name": "python3"
  },
  "language_info": {
   "codemirror_mode": {
    "name": "ipython",
    "version": 3
   },
   "file_extension": ".py",
   "mimetype": "text/x-python",
   "name": "python",
   "nbconvert_exporter": "python",
   "pygments_lexer": "ipython3",
   "version": "3.12.7"
  }
 },
 "nbformat": 4,
 "nbformat_minor": 5
}
