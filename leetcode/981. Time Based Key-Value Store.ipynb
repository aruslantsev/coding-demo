{
 "cells": [
  {
   "cell_type": "markdown",
   "id": "3c87611e-17df-4123-a3fa-78be8bda1f1e",
   "metadata": {},
   "source": [
    "Design a time-based key-value data structure that can store multiple values for the same key at different time stamps and retrieve the key's value at a certain timestamp.\n",
    "\n",
    "Implement the TimeMap class:\n",
    "\n",
    "    TimeMap() Initializes the object of the data structure.\n",
    "    void set(String key, String value, int timestamp) Stores the key key with the value value at the given time timestamp.\n",
    "    String get(String key, int timestamp) Returns a value such that set was called previously, with timestamp_prev <= timestamp. If there are multiple such values, it returns the value associated with the largest timestamp_prev. If there are no values, it returns \"\".\n",
    "\n",
    " \n",
    "\n",
    "Example 1:\n",
    "\n",
    "Input\n",
    "[\"TimeMap\", \"set\", \"get\", \"get\", \"set\", \"get\", \"get\"]\n",
    "[[], [\"foo\", \"bar\", 1], [\"foo\", 1], [\"foo\", 3], [\"foo\", \"bar2\", 4], [\"foo\", 4], [\"foo\", 5]]\n",
    "Output\n",
    "[null, null, \"bar\", \"bar\", null, \"bar2\", \"bar2\"]\n",
    "\n",
    "Explanation\n",
    "TimeMap timeMap = new TimeMap();\n",
    "timeMap.set(\"foo\", \"bar\", 1);  // store the key \"foo\" and value \"bar\" along with timestamp = 1.\n",
    "timeMap.get(\"foo\", 1);         // return \"bar\"\n",
    "timeMap.get(\"foo\", 3);         // return \"bar\", since there is no value corresponding to foo at timestamp 3 and timestamp 2, then the only value is at timestamp 1 is \"bar\".\n",
    "timeMap.set(\"foo\", \"bar2\", 4); // store the key \"foo\" and value \"bar2\" along with timestamp = 4.\n",
    "timeMap.get(\"foo\", 4);         // return \"bar2\"\n",
    "timeMap.get(\"foo\", 5);         // return \"bar2\"\n",
    "\n",
    " \n",
    "\n",
    "Constraints:\n",
    "\n",
    "    1 <= key.length, value.length <= 100\n",
    "    key and value consist of lowercase English letters and digits.\n",
    "    1 <= timestamp <= 107\n",
    "    All the timestamps timestamp of set are strictly increasing.\n",
    "    At most 2 * 105 calls will be made to set and get.\n",
    "\n"
   ]
  },
  {
   "cell_type": "code",
   "execution_count": null,
   "id": "b14b3604-22d5-4a10-af64-7057362d2134",
   "metadata": {},
   "outputs": [],
   "source": [
    "from collections import defaultdict\n",
    "\n",
    "class TimeMap:\n",
    "\n",
    "    def __init__(self):\n",
    "        self.data = defaultdict(dict)\n",
    "\n",
    "    def set(self, key: str, value: str, timestamp: int) -> None:\n",
    "        self.data[key][timestamp] = value\n",
    "\n",
    "    def get(self, key: str, timestamp: int) -> str:\n",
    "        data = self.data.get(key, {})\n",
    "        keys = sorted([key for key in data.keys() if key <= timestamp])\n",
    "        if len(keys) == 0:\n",
    "            return \"\"\n",
    "        else:\n",
    "            return self.data[key][keys[-1]]\n",
    "\n",
    "\n",
    "# Your TimeMap object will be instantiated and called as such:\n",
    "# obj = TimeMap()\n",
    "# obj.set(key,value,timestamp)\n",
    "# param_2 = obj.get(key,timestamp)"
   ]
  },
  {
   "cell_type": "code",
   "execution_count": null,
   "id": "a6d8ed70-aab7-43ed-b17a-3056f00e5995",
   "metadata": {},
   "outputs": [],
   "source": [
    "class TimeMap:\n",
    "    def __init__(self):\n",
    "        self.key_time_map = defaultdict(dict)\n",
    "\n",
    "    def set(self, key: str, value: str, timestamp: int) -> None:\n",
    "        self.key_time_map[key][timestamp] = value\n",
    "        \n",
    "\n",
    "    def get(self, key: str, timestamp: int) -> str:\n",
    "        if not key in self.key_time_map:\n",
    "            return \"\"\n",
    "        \n",
    "        for curr_time in reversed(range(0, timestamp + 1)):\n",
    "            if curr_time in self.key_time_map[key]:\n",
    "                return self.key_time_map[key][curr_time]\n",
    "        \n",
    "        return \"\""
   ]
  }
 ],
 "metadata": {
  "kernelspec": {
   "display_name": "Python 3 (ipykernel)",
   "language": "python",
   "name": "python3"
  },
  "language_info": {
   "codemirror_mode": {
    "name": "ipython",
    "version": 3
   },
   "file_extension": ".py",
   "mimetype": "text/x-python",
   "name": "python",
   "nbconvert_exporter": "python",
   "pygments_lexer": "ipython3",
   "version": "3.9.13"
  }
 },
 "nbformat": 4,
 "nbformat_minor": 5
}
