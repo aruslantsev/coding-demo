{
 "cells": [
  {
   "cell_type": "markdown",
   "id": "978e7d39-1eaa-4588-939d-644c69f3f50e",
   "metadata": {},
   "source": [
    "You are visiting a farm that has a single row of fruit trees arranged from left to right. The trees are represented by an integer array fruits where fruits[i] is the type of fruit the ith tree produces.\n",
    "\n",
    "You want to collect as much fruit as possible. However, the owner has some strict rules that you must follow:\n",
    "\n",
    "    You only have two baskets, and each basket can only hold a single type of fruit. There is no limit on the amount of fruit each basket can hold.\n",
    "    Starting from any tree of your choice, you must pick exactly one fruit from every tree (including the start tree) while moving to the right. The picked fruits must fit in one of your baskets.\n",
    "    Once you reach a tree with fruit that cannot fit in your baskets, you must stop.\n",
    "\n",
    "Given the integer array fruits, return the maximum number of fruits you can pick.\n",
    "\n",
    " \n",
    "\n",
    "Example 1:\n",
    "\n",
    "Input: fruits = [1,2,1]\n",
    "Output: 3\n",
    "Explanation: We can pick from all 3 trees.\n",
    "\n",
    "Example 2:\n",
    "\n",
    "Input: fruits = [0,1,2,2]\n",
    "Output: 3\n",
    "Explanation: We can pick from trees [1,2,2].\n",
    "If we had started at the first tree, we would only pick from trees [0,1].\n",
    "\n",
    "Example 3:\n",
    "\n",
    "Input: fruits = [1,2,3,2,2]\n",
    "Output: 4\n",
    "Explanation: We can pick from trees [2,3,2,2].\n",
    "If we had started at the first tree, we would only pick from trees [1,2].\n",
    "\n",
    " \n",
    "\n",
    "Constraints:\n",
    "\n",
    "    1 <= fruits.length <= 105\n",
    "    0 <= fruits[i] < fruits.length\n",
    "\n"
   ]
  },
  {
   "cell_type": "code",
   "execution_count": null,
   "id": "fa351c40-8106-4d8c-b5f3-ee7f4aae3e24",
   "metadata": {},
   "outputs": [],
   "source": [
    "class Solution:\n",
    "    def totalFruit(self, fruits: List[int]) -> int:\n",
    "        # Hash map 'basket' to store the types of fruits.\n",
    "        basket = {}\n",
    "        left = 0\n",
    "        \n",
    "        # Add fruit from the right index (right) of the window.\n",
    "        for right, fruit in enumerate(fruits):\n",
    "            basket[fruit] = basket.get(fruit, 0) + 1\n",
    "\n",
    "            # If the current window has more than 2 types of fruit,\n",
    "            # we remove one fruit from the left index (left) of the window.\n",
    "            while len(basket) > 2:\n",
    "                basket[fruits[left]] -= 1\n",
    "\n",
    "                # If the number of fruits[left] is 0, remove it from the basket.\n",
    "                if basket[fruits[left]] == 0:\n",
    "                    del basket[fruits[left]]\n",
    "                left += 1\n",
    "        \n",
    "        # Once we finish the iteration, the indexes left and right \n",
    "        # stands for the longest valid subarray we encountered.\n",
    "        return right - left + 1"
   ]
  }
 ],
 "metadata": {
  "kernelspec": {
   "display_name": "Python 3 (ipykernel)",
   "language": "python",
   "name": "python3"
  },
  "language_info": {
   "codemirror_mode": {
    "name": "ipython",
    "version": 3
   },
   "file_extension": ".py",
   "mimetype": "text/x-python",
   "name": "python",
   "nbconvert_exporter": "python",
   "pygments_lexer": "ipython3",
   "version": "3.10.8"
  }
 },
 "nbformat": 4,
 "nbformat_minor": 5
}
