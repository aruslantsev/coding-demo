{
 "cells": [
  {
   "cell_type": "markdown",
   "id": "69ee0e68-135d-4829-870d-fb286cde5dd6",
   "metadata": {},
   "source": [
    "Given a sorted integer array nums and an integer n, add/patch elements to the array such that any number in the range [1, n] inclusive can be formed by the sum of some elements in the array.\n",
    "\n",
    "Return the minimum number of patches required.\n",
    "\n",
    " \n",
    "\n",
    "Example 1:\n",
    "\n",
    "Input: nums = [1,3], n = 6\n",
    "Output: 1\n",
    "Explanation:\n",
    "Combinations of nums are [1], [3], [1,3], which form possible sums of: 1, 3, 4.\n",
    "Now if we add/patch 2 to nums, the combinations are: [1], [2], [3], [1,3], [2,3], [1,2,3].\n",
    "Possible sums are 1, 2, 3, 4, 5, 6, which now covers the range [1, 6].\n",
    "So we only need 1 patch.\n",
    "\n",
    "Example 2:\n",
    "\n",
    "Input: nums = [1,5,10], n = 20\n",
    "Output: 2\n",
    "Explanation: The two patches can be [2, 4].\n",
    "\n",
    "Example 3:\n",
    "\n",
    "Input: nums = [1,2,2], n = 5\n",
    "Output: 0\n",
    "\n",
    " \n",
    "\n",
    "Constraints:\n",
    "\n",
    "    1 <= nums.length <= 1000\n",
    "    1 <= nums[i] <= 104\n",
    "    nums is sorted in ascending order.\n",
    "    1 <= n <= 231 - 1\n",
    "\n"
   ]
  },
  {
   "cell_type": "code",
   "execution_count": null,
   "id": "a0c782b5-eb42-40ef-8adc-9786b8eb6e78",
   "metadata": {},
   "outputs": [],
   "source": [
    "class Solution:\n",
    "    def minPatches(self, nums: List[int], n: int) -> int:\n",
    "        miss = 1\n",
    "        result = 0\n",
    "        i = 0\n",
    "\n",
    "        while miss <= n:\n",
    "            if i < len(nums) and nums[i] <= miss:\n",
    "                miss += nums[i]\n",
    "                i += 1\n",
    "            else:\n",
    "                miss += miss\n",
    "                result += 1\n",
    "\n",
    "        return result"
   ]
  }
 ],
 "metadata": {
  "kernelspec": {
   "display_name": "Python 3 (ipykernel)",
   "language": "python",
   "name": "python3"
  },
  "language_info": {
   "codemirror_mode": {
    "name": "ipython",
    "version": 3
   },
   "file_extension": ".py",
   "mimetype": "text/x-python",
   "name": "python",
   "nbconvert_exporter": "python",
   "pygments_lexer": "ipython3",
   "version": "3.12.3"
  }
 },
 "nbformat": 4,
 "nbformat_minor": 5
}
