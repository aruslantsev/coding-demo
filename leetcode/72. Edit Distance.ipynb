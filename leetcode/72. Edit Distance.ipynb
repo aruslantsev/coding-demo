{
 "cells": [
  {
   "cell_type": "markdown",
   "id": "e3991591-d658-4e83-b506-1e4c3db5c8ac",
   "metadata": {},
   "source": [
    "Given two strings word1 and word2, return the minimum number of operations required to convert word1 to word2.\n",
    "\n",
    "You have the following three operations permitted on a word:\n",
    "\n",
    "    Insert a character\n",
    "    Delete a character\n",
    "    Replace a character\n",
    "\n",
    " \n",
    "\n",
    "Example 1:\n",
    "\n",
    "Input: word1 = \"horse\", word2 = \"ros\"\n",
    "Output: 3\n",
    "Explanation: \n",
    "horse -> rorse (replace 'h' with 'r')\n",
    "rorse -> rose (remove 'r')\n",
    "rose -> ros (remove 'e')\n",
    "\n",
    "Example 2:\n",
    "\n",
    "Input: word1 = \"intention\", word2 = \"execution\"\n",
    "Output: 5\n",
    "Explanation: \n",
    "intention -> inention (remove 't')\n",
    "inention -> enention (replace 'i' with 'e')\n",
    "enention -> exention (replace 'n' with 'x')\n",
    "exention -> exection (replace 'n' with 'c')\n",
    "exection -> execution (insert 'u')\n"
   ]
  },
  {
   "cell_type": "code",
   "execution_count": 23,
   "id": "d16ca489-fd96-4289-b466-dcc66d9e1cdd",
   "metadata": {},
   "outputs": [],
   "source": [
    "class Solution:\n",
    "    def minDistance(self, word1: str, word2: str) -> int:\n",
    "        memo = []\n",
    "        for i in range(len(word1) + 1):\n",
    "            memo.append([0 for _ in range(len(word2) + 1)])\n",
    "            \n",
    "        for i in range(1, len(word1) + 1):\n",
    "            memo[i][0] = memo[i - 1][0] + 1\n",
    "        for j in range(1, len(word2) + 1):\n",
    "            memo[0][j] = memo[0][j - 1] + 1\n",
    "            \n",
    "        for i in range(1, len(word1) + 1):\n",
    "            for j in range(1, len(word2) + 1):\n",
    "                memo[i][j] = min(\n",
    "                    memo[i - 1][j] + 1, # insertion\n",
    "                    memo[i][j - 1] + 1, # deletion\n",
    "                    memo[i - 1][j - 1] + int(word1[i - 1] != word2[j - 1])\n",
    "                )\n",
    "\n",
    "        return memo[-1][-1]"
   ]
  },
  {
   "cell_type": "code",
   "execution_count": 24,
   "id": "451039b9-1204-414b-ab27-c0c5ff89ab93",
   "metadata": {},
   "outputs": [
    {
     "data": {
      "text/plain": [
       "3"
      ]
     },
     "execution_count": 24,
     "metadata": {},
     "output_type": "execute_result"
    }
   ],
   "source": [
    "s = Solution()\n",
    "s.minDistance(\"horse\", \"ros\")"
   ]
  },
  {
   "cell_type": "code",
   "execution_count": 25,
   "id": "9e8d283b-b21e-4e1b-8289-f9bb2931a586",
   "metadata": {},
   "outputs": [
    {
     "data": {
      "text/plain": [
       "5"
      ]
     },
     "execution_count": 25,
     "metadata": {},
     "output_type": "execute_result"
    }
   ],
   "source": [
    "s.minDistance(\"intention\", \"execution\")"
   ]
  },
  {
   "cell_type": "code",
   "execution_count": null,
   "id": "cb8ce328-bb60-4dec-8be6-4572eaf57b24",
   "metadata": {},
   "outputs": [],
   "source": []
  },
  {
   "cell_type": "code",
   "execution_count": null,
   "id": "f9865667-f31e-4ac2-a135-5b67ba553223",
   "metadata": {},
   "outputs": [],
   "source": []
  }
 ],
 "metadata": {
  "kernelspec": {
   "display_name": "Python 3 (ipykernel)",
   "language": "python",
   "name": "python3"
  },
  "language_info": {
   "codemirror_mode": {
    "name": "ipython",
    "version": 3
   },
   "file_extension": ".py",
   "mimetype": "text/x-python",
   "name": "python",
   "nbconvert_exporter": "python",
   "pygments_lexer": "ipython3",
   "version": "3.9.10"
  }
 },
 "nbformat": 4,
 "nbformat_minor": 5
}
