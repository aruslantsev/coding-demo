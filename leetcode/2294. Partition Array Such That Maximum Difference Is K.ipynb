{
 "cells": [
  {
   "cell_type": "markdown",
   "id": "09f1a8cf-d528-4205-97d8-ecf8a8ff526a",
   "metadata": {},
   "source": [
    "You are given an integer array nums and an integer k. You may partition nums into one or more subsequences such that each element in nums appears in exactly one of the subsequences.\n",
    "\n",
    "Return the minimum number of subsequences needed such that the difference between the maximum and minimum values in each subsequence is at most k.\n",
    "\n",
    "A subsequence is a sequence that can be derived from another sequence by deleting some or no elements without changing the order of the remaining elements.\n",
    "\n",
    " \n",
    "\n",
    "Example 1:\n",
    "\n",
    "Input: nums = [3,6,1,2,5], k = 2\n",
    "Output: 2\n",
    "Explanation:\n",
    "We can partition nums into the two subsequences [3,1,2] and [6,5].\n",
    "The difference between the maximum and minimum value in the first subsequence is 3 - 1 = 2.\n",
    "The difference between the maximum and minimum value in the second subsequence is 6 - 5 = 1.\n",
    "Since two subsequences were created, we return 2. It can be shown that 2 is the minimum number of subsequences needed.\n",
    "\n",
    "Example 2:\n",
    "\n",
    "Input: nums = [1,2,3], k = 1\n",
    "Output: 2\n",
    "Explanation:\n",
    "We can partition nums into the two subsequences [1,2] and [3].\n",
    "The difference between the maximum and minimum value in the first subsequence is 2 - 1 = 1.\n",
    "The difference between the maximum and minimum value in the second subsequence is 3 - 3 = 0.\n",
    "Since two subsequences were created, we return 2. Note that another optimal solution is to partition nums into the two subsequences [1] and [2,3].\n",
    "\n",
    "Example 3:\n",
    "\n",
    "Input: nums = [2,2,4,5], k = 0\n",
    "Output: 3\n",
    "Explanation:\n",
    "We can partition nums into the three subsequences [2,2], [4], and [5].\n",
    "The difference between the maximum and minimum value in the first subsequences is 2 - 2 = 0.\n",
    "The difference between the maximum and minimum value in the second subsequences is 4 - 4 = 0.\n",
    "The difference between the maximum and minimum value in the third subsequences is 5 - 5 = 0.\n",
    "Since three subsequences were created, we return 3. It can be shown that 3 is the minimum number of subsequences needed.\n",
    "\n",
    " \n",
    "\n",
    "Constraints:\n",
    "\n",
    "    1 <= nums.length <= 105\n",
    "    0 <= nums[i] <= 105\n",
    "    0 <= k <= 105\n",
    "\n"
   ]
  },
  {
   "cell_type": "code",
   "execution_count": null,
   "id": "8c5693cb-07f9-40fd-8fa0-8bbdcba0eba2",
   "metadata": {},
   "outputs": [],
   "source": [
    "class Solution:\n",
    "    def partitionArray(self, nums: List[int], k: int) -> int:\n",
    "        nums.sort()\n",
    "        ans = 1\n",
    "        rec = nums[0]\n",
    "        for num in nums:\n",
    "            if num - rec > k:\n",
    "                ans += 1\n",
    "                rec = num\n",
    "        return ans"
   ]
  }
 ],
 "metadata": {
  "kernelspec": {
   "display_name": "common",
   "language": "python",
   "name": "common"
  },
  "language_info": {
   "codemirror_mode": {
    "name": "ipython",
    "version": 3
   },
   "file_extension": ".py",
   "mimetype": "text/x-python",
   "name": "python",
   "nbconvert_exporter": "python",
   "pygments_lexer": "ipython3",
   "version": "3.12.9"
  }
 },
 "nbformat": 4,
 "nbformat_minor": 5
}
