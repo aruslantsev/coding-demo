{
 "cells": [
  {
   "cell_type": "markdown",
   "id": "aa6c6362-2fc8-4a3d-8edc-bc1fa5b71aaf",
   "metadata": {},
   "source": [
    "Given an integer array nums and an integer k, return the number of good subarrays of nums.\n",
    "\n",
    "A good array is an array where the number of different integers in that array is exactly k.\n",
    "\n",
    "    For example, [1,2,3,1,2] has 3 different integers: 1, 2, and 3.\n",
    "\n",
    "A subarray is a contiguous part of an array.\n",
    "\n",
    " \n",
    "\n",
    "Example 1:\n",
    "\n",
    "Input: nums = [1,2,1,2,3], k = 2\n",
    "Output: 7\n",
    "Explanation: Subarrays formed with exactly 2 different integers: [1,2], [2,1], [1,2], [2,3], [1,2,1], [2,1,2], [1,2,1,2]\n",
    "\n",
    "Example 2:\n",
    "\n",
    "Input: nums = [1,2,1,3,4], k = 3\n",
    "Output: 3\n",
    "Explanation: Subarrays formed with exactly 3 different integers: [1,2,1,3], [2,1,3], [1,3,4].\n",
    "\n",
    " \n",
    "\n",
    "Constraints:\n",
    "\n",
    "    1 <= nums.length <= 2 * 104\n",
    "    1 <= nums[i], k <= nums.length\n",
    "\n"
   ]
  },
  {
   "cell_type": "code",
   "execution_count": null,
   "id": "79156499-5952-42ed-88e1-179430995131",
   "metadata": {},
   "outputs": [],
   "source": [
    "class Solution:\n",
    "    def subarraysWithKDistinct(self, nums: List[int], k: int) -> int:\n",
    "        return self.helper(nums, k) - self.helper(nums, k - 1)\n",
    "    \n",
    "    def helper(self, nums, k):\n",
    "        counter = defaultdict(int)\n",
    "        left = 0\n",
    "        ans = 0\n",
    "        for right in range(len(nums)):\n",
    "            counter[nums[right]] += 1\n",
    "            while len(counter) > k:\n",
    "                counter[nums[left]] -= 1\n",
    "                if counter[nums[left]] == 0:\n",
    "                    del(counter[nums[left]])\n",
    "                left += 1\n",
    "            ans += right - left + 1\n",
    "        return ans\n",
    "        "
   ]
  }
 ],
 "metadata": {
  "kernelspec": {
   "display_name": "Python 3 (ipykernel)",
   "language": "python",
   "name": "python3"
  },
  "language_info": {
   "codemirror_mode": {
    "name": "ipython",
    "version": 3
   },
   "file_extension": ".py",
   "mimetype": "text/x-python",
   "name": "python",
   "nbconvert_exporter": "python",
   "pygments_lexer": "ipython3",
   "version": "3.11.7"
  }
 },
 "nbformat": 4,
 "nbformat_minor": 5
}
