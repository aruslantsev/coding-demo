{
 "cells": [
  {
   "cell_type": "markdown",
   "id": "8377802e-5fde-49c1-82ac-8a38f0176b96",
   "metadata": {},
   "source": [
    "You are given a string s and an integer k, a k duplicate removal consists of choosing k adjacent and equal letters from s and removing them, causing the left and the right side of the deleted substring to concatenate together.\n",
    "\n",
    "We repeatedly make k duplicate removals on s until we no longer can.\n",
    "\n",
    "Return the final string after all such duplicate removals have been made. It is guaranteed that the answer is unique.\n",
    "\n",
    " \n",
    "\n",
    "Example 1:\n",
    "\n",
    "Input: s = \"abcd\", k = 2\n",
    "Output: \"abcd\"\n",
    "Explanation: There's nothing to delete.\n",
    "\n",
    "Example 2:\n",
    "\n",
    "Input: s = \"deeedbbcccbdaa\", k = 3\n",
    "Output: \"aa\"\n",
    "Explanation: \n",
    "First delete \"eee\" and \"ccc\", get \"ddbbbdaa\"\n",
    "Then delete \"bbb\", get \"dddaa\"\n",
    "Finally delete \"ddd\", get \"aa\"\n",
    "\n",
    "Example 3:\n",
    "\n",
    "Input: s = \"pbbcggttciiippooaais\", k = 2\n",
    "Output: \"ps\"\n",
    "\n",
    " \n",
    "\n",
    "Constraints:\n",
    "\n",
    "    1 <= s.length <= 105\n",
    "    2 <= k <= 104\n",
    "    s only contains lower case English letters.\n",
    "\n"
   ]
  },
  {
   "cell_type": "code",
   "execution_count": 17,
   "id": "6d94562f-a44b-415f-8e9f-daf58469c760",
   "metadata": {},
   "outputs": [],
   "source": [
    "class Solution:\n",
    "    def removeDuplicates(self, s: str, k: int) -> str:\n",
    "        stack = []\n",
    "        for sym in s:\n",
    "            if not stack or sym != stack[-1][0]:\n",
    "                stack.append([sym, 1])\n",
    "            else:\n",
    "                stack[-1][1] += 1\n",
    "\n",
    "            if stack[-1][1] == k:\n",
    "                stack.pop()\n",
    "        \n",
    "        return ''.join([el[0] for el in stack  for _ in range(el[1])])\n",
    "                "
   ]
  },
  {
   "cell_type": "code",
   "execution_count": 18,
   "id": "37f2d969-c51f-4acc-88f1-526b54a7e52a",
   "metadata": {},
   "outputs": [
    {
     "data": {
      "text/plain": [
       "'abcd'"
      ]
     },
     "execution_count": 18,
     "metadata": {},
     "output_type": "execute_result"
    }
   ],
   "source": [
    "s = Solution()\n",
    "s.removeDuplicates(\"abcd\", 2)"
   ]
  },
  {
   "cell_type": "code",
   "execution_count": 19,
   "id": "02ae8984-3e29-4308-af5a-b10aeba09e28",
   "metadata": {},
   "outputs": [
    {
     "data": {
      "text/plain": [
       "'aa'"
      ]
     },
     "execution_count": 19,
     "metadata": {},
     "output_type": "execute_result"
    }
   ],
   "source": [
    "s.removeDuplicates(\"deeedbbcccbdaa\", 3)"
   ]
  },
  {
   "cell_type": "code",
   "execution_count": 20,
   "id": "350597b0-4845-4beb-a27b-12ab15ceb9ff",
   "metadata": {},
   "outputs": [
    {
     "data": {
      "text/plain": [
       "'ps'"
      ]
     },
     "execution_count": 20,
     "metadata": {},
     "output_type": "execute_result"
    }
   ],
   "source": [
    "s.removeDuplicates(\"pbbcggttciiippooaais\", 2)"
   ]
  },
  {
   "cell_type": "code",
   "execution_count": null,
   "id": "8d677564-2dbb-4903-b27e-d8c4ea41a5a7",
   "metadata": {},
   "outputs": [],
   "source": []
  }
 ],
 "metadata": {
  "kernelspec": {
   "display_name": "Python 3 (ipykernel)",
   "language": "python",
   "name": "python3"
  },
  "language_info": {
   "codemirror_mode": {
    "name": "ipython",
    "version": 3
   },
   "file_extension": ".py",
   "mimetype": "text/x-python",
   "name": "python",
   "nbconvert_exporter": "python",
   "pygments_lexer": "ipython3",
   "version": "3.9.10"
  }
 },
 "nbformat": 4,
 "nbformat_minor": 5
}
