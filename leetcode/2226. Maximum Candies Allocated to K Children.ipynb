{
 "cells": [
  {
   "cell_type": "markdown",
   "id": "9687fd54-368f-4b22-8d97-422a7a9c1791",
   "metadata": {},
   "source": [
    "You are given a 0-indexed integer array candies. Each element in the array denotes a pile of candies of size candies[i]. You can divide each pile into any number of sub piles, but you cannot merge two piles together.\n",
    "\n",
    "You are also given an integer k. You should allocate piles of candies to k children such that each child gets the same number of candies. Each child can be allocated candies from only one pile of candies and some piles of candies may go unused.\n",
    "\n",
    "Return the maximum number of candies each child can get.\n",
    "\n",
    " \n",
    "\n",
    "Example 1:\n",
    "\n",
    "Input: candies = [5,8,6], k = 3\n",
    "Output: 5\n",
    "Explanation: We can divide candies[1] into 2 piles of size 5 and 3, and candies[2] into 2 piles of size 5 and 1. We now have five piles of candies of sizes 5, 5, 3, 5, and 1. We can allocate the 3 piles of size 5 to 3 children. It can be proven that each child cannot receive more than 5 candies.\n",
    "\n",
    "Example 2:\n",
    "\n",
    "Input: candies = [2,5], k = 11\n",
    "Output: 0\n",
    "Explanation: There are 11 children but only 7 candies in total, so it is impossible to ensure each child receives at least one candy. Thus, each child gets no candy and the answer is 0.\n",
    "\n",
    " \n",
    "\n",
    "Constraints:\n",
    "\n",
    "    1 <= candies.length <= 105\n",
    "    1 <= candies[i] <= 107\n",
    "    1 <= k <= 1012\n",
    "\n"
   ]
  },
  {
   "cell_type": "code",
   "execution_count": null,
   "id": "4237d457-540a-4746-92cb-e3d671b9bd97",
   "metadata": {},
   "outputs": [],
   "source": [
    "class Solution:\n",
    "    def maximumCandies(self, candies: List[int], k: int) -> int:\n",
    "        self.candies = candies\n",
    "        all_candies = sum(self.candies)\n",
    "        self.k = k\n",
    "        if all_candies < self.k:\n",
    "            return 0\n",
    "        l = 1\n",
    "        r = all_candies\n",
    "        while l < r:\n",
    "            m = (l + r + 1) // 2\n",
    "            if self.is_possible(m):\n",
    "                l = m\n",
    "            else:\n",
    "                r = m - 1\n",
    "        return l\n",
    "    \n",
    "    def is_possible(self, num_candies):\n",
    "        num_children = 0\n",
    "        for pile in self.candies:\n",
    "            num_children += pile // num_candies\n",
    "            if num_children >= self.k:\n",
    "                return True\n",
    "        return False\n"
   ]
  }
 ],
 "metadata": {
  "kernelspec": {
   "display_name": "Python 3 (ipykernel)",
   "language": "python",
   "name": "python3"
  },
  "language_info": {
   "codemirror_mode": {
    "name": "ipython",
    "version": 3
   },
   "file_extension": ".py",
   "mimetype": "text/x-python",
   "name": "python",
   "nbconvert_exporter": "python",
   "pygments_lexer": "ipython3",
   "version": "3.12.7"
  }
 },
 "nbformat": 4,
 "nbformat_minor": 5
}
