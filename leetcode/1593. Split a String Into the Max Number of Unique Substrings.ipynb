{
 "cells": [
  {
   "cell_type": "markdown",
   "id": "2952ffa3-a5bd-491d-8a1a-9990951131fa",
   "metadata": {},
   "source": [
    "Given a string s, return the maximum number of unique substrings that the given string can be split into.\n",
    "\n",
    "You can split string s into any list of non-empty substrings, where the concatenation of the substrings forms the original string. However, you must split the substrings such that all of them are unique.\n",
    "\n",
    "A substring is a contiguous sequence of characters within a string.\n",
    "\n",
    " \n",
    "\n",
    "Example 1:\n",
    "\n",
    "Input: s = \"ababccc\"\n",
    "Output: 5\n",
    "Explanation: One way to split maximally is ['a', 'b', 'ab', 'c', 'cc']. Splitting like ['a', 'b', 'a', 'b', 'c', 'cc'] is not valid as you have 'a' and 'b' multiple times.\n",
    "\n",
    "Example 2:\n",
    "\n",
    "Input: s = \"aba\"\n",
    "Output: 2\n",
    "Explanation: One way to split maximally is ['a', 'ba'].\n",
    "\n",
    "Example 3:\n",
    "\n",
    "Input: s = \"aa\"\n",
    "Output: 1\n",
    "Explanation: It is impossible to split the string any further.\n",
    "\n",
    " \n",
    "\n",
    "Constraints:\n",
    "\n",
    "    1 <= s.length <= 16\n",
    "\n",
    "    s contains only lower case English letters.\n",
    "\n"
   ]
  },
  {
   "cell_type": "code",
   "execution_count": null,
   "id": "6825c952-3861-4ebd-ab12-a91e2a85bd26",
   "metadata": {},
   "outputs": [],
   "source": [
    "class Solution:\n",
    "    def maxUniqueSplit(self, s: str) -> int:\n",
    "        self.substrs = []\n",
    "        self.result = 0\n",
    "        self.backtrack(s)\n",
    "        return self.result\n",
    "\n",
    "    def backtrack(self, s):\n",
    "            if s == '':\n",
    "                self.result = max(self.result, len(self.substrs))\n",
    "            for i in range(1, len(s) + 1):\n",
    "                if s[:i] not in self.substrs:\n",
    "                    self.substrs.append(s[:i])\n",
    "                    self.backtrack(s[i:])\n",
    "                    self.substrs.pop()\n"
   ]
  }
 ],
 "metadata": {
  "kernelspec": {
   "display_name": "Python 3 (ipykernel)",
   "language": "python",
   "name": "python3"
  },
  "language_info": {
   "codemirror_mode": {
    "name": "ipython",
    "version": 3
   },
   "file_extension": ".py",
   "mimetype": "text/x-python",
   "name": "python",
   "nbconvert_exporter": "python",
   "pygments_lexer": "ipython3",
   "version": "3.12.4"
  }
 },
 "nbformat": 4,
 "nbformat_minor": 5
}
