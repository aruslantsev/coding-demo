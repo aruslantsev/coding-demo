{
 "cells": [
  {
   "cell_type": "markdown",
   "id": "26d089ff-a463-4044-8908-6f210e24549c",
   "metadata": {},
   "source": [
    "Given two strings s and t, return true if they are equal when both are typed into empty text editors. '#' means a backspace character.\n",
    "\n",
    "Note that after backspacing an empty text, the text will continue empty.\n",
    "\n",
    " \n",
    "\n",
    "Example 1:\n",
    "\n",
    "Input: s = \"ab#c\", t = \"ad#c\"\n",
    "Output: true\n",
    "Explanation: Both s and t become \"ac\".\n",
    "\n",
    "Example 2:\n",
    "\n",
    "Input: s = \"ab##\", t = \"c#d#\"\n",
    "Output: true\n",
    "Explanation: Both s and t become \"\".\n",
    "\n",
    "Example 3:\n",
    "\n",
    "Input: s = \"a#c\", t = \"b\"\n",
    "Output: false\n",
    "Explanation: s becomes \"c\" while t becomes \"b\".\n",
    "\n",
    " \n",
    "\n",
    "Constraints:\n",
    "\n",
    "    1 <= s.length, t.length <= 200\n",
    "    s and t only contain lowercase letters and '#' characters.\n",
    "\n",
    " \n",
    "\n",
    "Follow up: Can you solve it in O(n) time and O(1) space?\n"
   ]
  },
  {
   "cell_type": "code",
   "execution_count": null,
   "id": "35c3b1d0-4f2b-49ed-bfab-3b032d6d1321",
   "metadata": {},
   "outputs": [],
   "source": [
    "class Solution:\n",
    "    def backspaceCompare(self, s: str, t: str) -> bool:\n",
    "        s_st = []\n",
    "        t_st = []\n",
    "        \n",
    "        for sym in s:\n",
    "            if sym != '#':\n",
    "                s_st.append(sym)\n",
    "            else:\n",
    "                if s_st:\n",
    "                    s_st.pop()\n",
    "                \n",
    "        for sym in t:\n",
    "            if sym != '#':\n",
    "                t_st.append(sym)\n",
    "            else:\n",
    "                if t_st:\n",
    "                    t_st.pop()\n",
    "                \n",
    "        return s_st == t_st"
   ]
  }
 ],
 "metadata": {
  "kernelspec": {
   "display_name": "Python 3 (ipykernel)",
   "language": "python",
   "name": "python3"
  },
  "language_info": {
   "codemirror_mode": {
    "name": "ipython",
    "version": 3
   },
   "file_extension": ".py",
   "mimetype": "text/x-python",
   "name": "python",
   "nbconvert_exporter": "python",
   "pygments_lexer": "ipython3",
   "version": "3.9.10"
  }
 },
 "nbformat": 4,
 "nbformat_minor": 5
}
