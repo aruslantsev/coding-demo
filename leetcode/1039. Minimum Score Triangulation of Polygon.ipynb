{
 "cells": [
  {
   "cell_type": "markdown",
   "id": "544dcbeb-5bc3-4261-9a67-59537c048623",
   "metadata": {},
   "source": [
    "You have a convex n-sided polygon where each vertex has an integer value. You are given an integer array values where values[i] is the value of the ith vertex in clockwise order.\n",
    "\n",
    "Polygon triangulation is a process where you divide a polygon into a set of triangles and the vertices of each triangle must also be vertices of the original polygon. Note that no other shapes other than triangles are allowed in the division. This process will result in n - 2 triangles.\n",
    "\n",
    "You will triangulate the polygon. For each triangle, the weight of that triangle is the product of the values at its vertices. The total score of the triangulation is the sum of these weights over all n - 2 triangles.\n",
    "\n",
    "Return the minimum possible score that you can achieve with some triangulation of the polygon.\n",
    "\n",
    " \n",
    "\n",
    "Example 1:\n",
    "\n",
    "Input: values = [1,2,3]\n",
    "\n",
    "Output: 6\n",
    "\n",
    "Explanation: The polygon is already triangulated, and the score of the only triangle is 6.\n",
    "\n",
    "Example 2:\n",
    "\n",
    "Input: values = [3,7,4,5]\n",
    "\n",
    "Output: 144\n",
    "\n",
    "Explanation: There are two triangulations, with possible scores: 3*7*5 + 4*5*7 = 245, or 3*4*5 + 3*4*7 = 144.\n",
    "The minimum score is 144.\n",
    "\n",
    "Example 3:\n",
    "\n",
    "Input: values = [1,3,1,4,1,5]\n",
    "\n",
    "Output: 13\n",
    "\n",
    "Explanation: The minimum score triangulation is 1*1*3 + 1*1*4 + 1*1*5 + 1*1*1 = 13.\n",
    "\n",
    " \n",
    "\n",
    "Constraints:\n",
    "\n",
    "    n == values.length\n",
    "    3 <= n <= 50\n",
    "    1 <= values[i] <= 100\n",
    "\n"
   ]
  },
  {
   "cell_type": "code",
   "execution_count": null,
   "id": "631697ee-375b-4270-a9be-55f1467a2e87",
   "metadata": {},
   "outputs": [],
   "source": [
    "class Solution:\n",
    "    def minScoreTriangulation(self, values: List[int]) -> int:\n",
    "        @cache\n",
    "        def dp(values):\n",
    "            print(values)\n",
    "            if len(values) == 3:\n",
    "                return values[0] * values[1] * values[2]\n",
    "\n",
    "            ret = float(\"inf\")\n",
    "            for i in range(len(values) - 2):\n",
    "                for j in range(i + 2, len(values)):\n",
    "                    if i == 0 and j == len(values) - 1:\n",
    "                        continue\n",
    "                    ret = min(\n",
    "                        ret, \n",
    "                        dp(values[i: j + 1])\n",
    "                        + dp(values[:i + 1] + values[j:])\n",
    "                    )\n",
    "            return ret\n",
    "\n",
    "        return dp(tuple(values))"
   ]
  },
  {
   "cell_type": "code",
   "execution_count": null,
   "id": "b064e78c-5614-4b50-baa1-87cbef722976",
   "metadata": {},
   "outputs": [],
   "source": [
    "class Solution:\n",
    "    def minScoreTriangulation(self, values: List[int]) -> int:\n",
    "        @lru_cache(None)\n",
    "        def dp(i, j):\n",
    "            if i + 2 > j:\n",
    "                return 0\n",
    "            if i + 2 == j:\n",
    "                return values[i] * values[i + 1] * values[j]\n",
    "            return min(\n",
    "                (values[i] * values[k] * values[j] + dp(i, k) + dp(k, j))\n",
    "                for k in range(i + 1, j)\n",
    "            )\n",
    "\n",
    "        return dp(0, len(values) - 1)"
   ]
  }
 ],
 "metadata": {
  "kernelspec": {
   "display_name": "Python 3 (ipykernel)",
   "language": "python",
   "name": "python3"
  },
  "language_info": {
   "codemirror_mode": {
    "name": "ipython",
    "version": 3
   },
   "file_extension": ".py",
   "mimetype": "text/x-python",
   "name": "python",
   "nbconvert_exporter": "python",
   "pygments_lexer": "ipython3",
   "version": "3.13.5"
  }
 },
 "nbformat": 4,
 "nbformat_minor": 5
}
