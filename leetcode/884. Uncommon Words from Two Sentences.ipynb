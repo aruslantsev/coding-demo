{
 "cells": [
  {
   "cell_type": "markdown",
   "id": "099a8cc4-49e4-42ca-b70b-0a1ada57c2be",
   "metadata": {},
   "source": [
    "A sentence is a string of single-space separated words where each word consists only of lowercase letters.\n",
    "\n",
    "A word is uncommon if it appears exactly once in one of the sentences, and does not appear in the other sentence.\n",
    "\n",
    "Given two sentences s1 and s2, return a list of all the uncommon words. You may return the answer in any order.\n",
    "\n",
    " \n",
    "\n",
    "Example 1:\n",
    "\n",
    "Input: s1 = \"this apple is sweet\", s2 = \"this apple is sour\"\n",
    "\n",
    "Output: [\"sweet\",\"sour\"]\n",
    "\n",
    "Explanation:\n",
    "\n",
    "The word \"sweet\" appears only in s1, while the word \"sour\" appears only in s2.\n",
    "\n",
    "Example 2:\n",
    "\n",
    "Input: s1 = \"apple apple\", s2 = \"banana\"\n",
    "\n",
    "Output: [\"banana\"]\n",
    "\n",
    " \n",
    "\n",
    "Constraints:\n",
    "\n",
    "    1 <= s1.length, s2.length <= 200\n",
    "    s1 and s2 consist of lowercase English letters and spaces.\n",
    "    s1 and s2 do not have leading or trailing spaces.\n",
    "    All the words in s1 and s2 are separated by a single space.\n",
    "\n"
   ]
  },
  {
   "cell_type": "code",
   "execution_count": null,
   "id": "b0200ac8-4dd1-432b-9bd6-f7d46dc877c6",
   "metadata": {},
   "outputs": [],
   "source": [
    "class Solution:\n",
    "    def uncommonFromSentences(self, s1: str, s2: str) -> List[str]:\n",
    "        count = {}\n",
    "        for word in s1.split():\n",
    "            count[word] = count.get(word, 0) + 1\n",
    "        for word in s2.split():\n",
    "            count[word] = count.get(word, 0) + 1\n",
    "\n",
    "        #Alternatively:\n",
    "        #count = collections.Counter(A.split())\n",
    "        #count += collections.Counter(B.split())\n",
    "\n",
    "        return [word for word in count if count[word] == 1]\n",
    "        "
   ]
  }
 ],
 "metadata": {
  "kernelspec": {
   "display_name": "Python 3 (ipykernel)",
   "language": "python",
   "name": "python3"
  },
  "language_info": {
   "codemirror_mode": {
    "name": "ipython",
    "version": 3
   },
   "file_extension": ".py",
   "mimetype": "text/x-python",
   "name": "python",
   "nbconvert_exporter": "python",
   "pygments_lexer": "ipython3",
   "version": "3.12.4"
  }
 },
 "nbformat": 4,
 "nbformat_minor": 5
}
