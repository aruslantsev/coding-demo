{
 "cells": [
  {
   "cell_type": "markdown",
   "id": "7049f0ff-144c-4adb-b50d-50aca8b3e4d4",
   "metadata": {},
   "source": [
    "You are given a string array words and a binary array groups both of length n.\n",
    "\n",
    "A\n",
    "\n",
    "of words is alternating if for any two consecutive strings in the sequence, their corresponding elements at the same indices in groups are different (that is, there cannot be consecutive 0 or 1).\n",
    "\n",
    "Your task is to select the longest alternating subsequence from words.\n",
    "\n",
    "Return the selected subsequence. If there are multiple answers, return any of them.\n",
    "\n",
    "Note: The elements in words are distinct.\n",
    "\n",
    " \n",
    "\n",
    "Example 1:\n",
    "\n",
    "Input: words = [\"e\",\"a\",\"b\"], groups = [0,0,1]\n",
    "\n",
    "Output: [\"e\",\"b\"]\n",
    "\n",
    "Explanation: A subsequence that can be selected is [\"e\",\"b\"] because groups[0] != groups[2]. Another subsequence that can be selected is [\"a\",\"b\"] because groups[1] != groups[2]. It can be demonstrated that the length of the longest subsequence of indices that satisfies the condition is 2.\n",
    "\n",
    "Example 2:\n",
    "\n",
    "Input: words = [\"a\",\"b\",\"c\",\"d\"], groups = [1,0,1,1]\n",
    "\n",
    "Output: [\"a\",\"b\",\"c\"]\n",
    "\n",
    "Explanation: A subsequence that can be selected is [\"a\",\"b\",\"c\"] because groups[0] != groups[1] and groups[1] != groups[2]. Another subsequence that can be selected is [\"a\",\"b\",\"d\"] because groups[0] != groups[1] and groups[1] != groups[3]. It can be shown that the length of the longest subsequence of indices that satisfies the condition is 3.\n",
    "\n",
    " \n",
    "\n",
    "Constraints:\n",
    "\n",
    "    1 <= n == words.length == groups.length <= 100\n",
    "    1 <= words[i].length <= 10\n",
    "    groups[i] is either 0 or 1.\n",
    "    words consists of distinct strings.\n",
    "    words[i] consists of lowercase English letters.\n"
   ]
  },
  {
   "cell_type": "code",
   "execution_count": null,
   "id": "5d861c7f-7426-4f55-be4e-0ab9f8537a95",
   "metadata": {},
   "outputs": [],
   "source": [
    "class Solution:\n",
    "    def getLongestSubsequence(self, words: List[str], groups: List[int]) -> List[str]:\n",
    "        return [words[0]] + [words[i] for i in range(1, len(groups)) if groups[i] != groups[i - 1]]"
   ]
  }
 ],
 "metadata": {
  "kernelspec": {
   "display_name": "Python 3 (ipykernel)",
   "language": "python",
   "name": "python3"
  },
  "language_info": {
   "codemirror_mode": {
    "name": "ipython",
    "version": 3
   },
   "file_extension": ".py",
   "mimetype": "text/x-python",
   "name": "python",
   "nbconvert_exporter": "python",
   "pygments_lexer": "ipython3",
   "version": "3.12.9"
  }
 },
 "nbformat": 4,
 "nbformat_minor": 5
}
