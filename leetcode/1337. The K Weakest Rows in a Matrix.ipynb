{
 "cells": [
  {
   "cell_type": "markdown",
   "id": "869e0687",
   "metadata": {},
   "source": [
    "You are given an m x n binary matrix mat of 1's (representing soldiers) and 0's (representing civilians). The soldiers are positioned in front of the civilians. That is, all the 1's will appear to the left of all the 0's in each row.\n",
    "\n",
    "A row i is weaker than a row j if one of the following is true:\n",
    "\n",
    "    The number of soldiers in row i is less than the number of soldiers in row j.\n",
    "    Both rows have the same number of soldiers and i < j.\n",
    "\n",
    "Return the indices of the k weakest rows in the matrix ordered from weakest to strongest.\n",
    "\n",
    " \n",
    "\n",
    "Example 1:\n",
    "\n",
    "Input: mat = \n",
    "[[1,1,0,0,0],\n",
    " [1,1,1,1,0],\n",
    " [1,0,0,0,0],\n",
    " [1,1,0,0,0],\n",
    " [1,1,1,1,1]], \n",
    "k = 3\n",
    "Output: [2,0,3]\n",
    "Explanation: \n",
    "The number of soldiers in each row is: \n",
    "- Row 0: 2 \n",
    "- Row 1: 4 \n",
    "- Row 2: 1 \n",
    "- Row 3: 2 \n",
    "- Row 4: 5 \n",
    "The rows ordered from weakest to strongest are [2,0,3,1,4].\n",
    "\n",
    "Example 2:\n",
    "\n",
    "Input: mat = \n",
    "[[1,0,0,0],\n",
    " [1,1,1,1],\n",
    " [1,0,0,0],\n",
    " [1,0,0,0]], \n",
    "k = 2\n",
    "Output: [0,2]\n",
    "Explanation: \n",
    "The number of soldiers in each row is: \n",
    "- Row 0: 1 \n",
    "- Row 1: 4 \n",
    "- Row 2: 1 \n",
    "- Row 3: 1 \n",
    "The rows ordered from weakest to strongest are [0,2,3,1].\n"
   ]
  },
  {
   "cell_type": "code",
   "execution_count": 30,
   "id": "b3e395de",
   "metadata": {},
   "outputs": [],
   "source": [
    "from typing import List\n",
    "\n",
    "class Solution:\n",
    "    def kWeakestRows(self, mat: List[List[int]], k: int) -> List[int]:\n",
    "        sums = [sum(l) for l in mat]\n",
    "        \n",
    "        pos = list(range(len(sums)))\n",
    "        pos = sorted(pos, key=lambda x: sums[x])\n",
    "        \n",
    "        return pos[:k]"
   ]
  },
  {
   "cell_type": "code",
   "execution_count": 31,
   "id": "14d3dc51",
   "metadata": {},
   "outputs": [
    {
     "data": {
      "text/plain": [
       "[2, 0, 3]"
      ]
     },
     "execution_count": 31,
     "metadata": {},
     "output_type": "execute_result"
    }
   ],
   "source": [
    "s = Solution()\n",
    "s.kWeakestRows(mat=[[1,1,0,0,0], [1,1,1,1,0], [1,0,0,0,0], [1,1,0,0,0], [1,1,1,1,1]], k=3)"
   ]
  },
  {
   "cell_type": "code",
   "execution_count": 32,
   "id": "dc448cd9",
   "metadata": {},
   "outputs": [
    {
     "data": {
      "text/plain": [
       "[0, 2]"
      ]
     },
     "execution_count": 32,
     "metadata": {},
     "output_type": "execute_result"
    }
   ],
   "source": [
    "s.kWeakestRows(mat=[[1,0,0,0], [1,1,1,1], [1,0,0,0], [1,0,0,0]], k=2)"
   ]
  },
  {
   "cell_type": "code",
   "execution_count": null,
   "id": "fcac821b",
   "metadata": {},
   "outputs": [],
   "source": []
  }
 ],
 "metadata": {
  "kernelspec": {
   "display_name": "Python 3 (ipykernel)",
   "language": "python",
   "name": "python3"
  },
  "language_info": {
   "codemirror_mode": {
    "name": "ipython",
    "version": 3
   },
   "file_extension": ".py",
   "mimetype": "text/x-python",
   "name": "python",
   "nbconvert_exporter": "python",
   "pygments_lexer": "ipython3",
   "version": "3.9.10"
  }
 },
 "nbformat": 4,
 "nbformat_minor": 5
}
