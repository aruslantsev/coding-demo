{
 "cells": [
  {
   "attachments": {
    "cc2a55cb-3d48-4e11-86d3-b6342bb679a5.png": {
     "image/png": "[encoded data removed]"
    },
    "cc9bbdda-828b-42b3-817e-4d69f6f9c569.png": {
     "image/png": "[encoded data removed]"
    }
   },
   "cell_type": "markdown",
   "id": "f1c8efe0-34b8-467e-a8ff-fadc6d8c2fed",
   "metadata": {},
   "source": [
    "You are given an array points representing integer coordinates of some points on a 2D-plane, where points[i] = [xi, yi].\n",
    "\n",
    "The cost of connecting two points [xi, yi] and [xj, yj] is the manhattan distance between them: |xi - xj| + |yi - yj|, where |val| denotes the absolute value of val.\n",
    "\n",
    "Return the minimum cost to make all points connected. All points are connected if there is exactly one simple path between any two points.\n",
    "\n",
    "Example 1:\n",
    "\n",
    "![изображение.png](attachment:cc9bbdda-828b-42b3-817e-4d69f6f9c569.png)\n",
    "\n",
    "Input: points = [[0,0],[2,2],[3,10],[5,2],[7,0]]\n",
    "Output: 20\n",
    "Explanation: \n",
    "\n",
    "![изображение.png](attachment:cc2a55cb-3d48-4e11-86d3-b6342bb679a5.png)\n",
    "\n",
    "We can connect the points as shown above to get the minimum cost of 20.\n",
    "Notice that there is a unique path between every pair of points.\n",
    "\n",
    "Example 2:\n",
    "\n",
    "Input: points = [[3,12],[-2,5],[-4,1]]\n",
    "Output: 18\n",
    "\n",
    " \n",
    "\n",
    "Constraints:\n",
    "\n",
    "    1 <= points.length <= 1000\n",
    "    -106 <= xi, yi <= 106\n",
    "    All pairs (xi, yi) are distinct.\n",
    "\n"
   ]
  },
  {
   "cell_type": "code",
   "execution_count": 39,
   "id": "98d2b2f8-c714-4588-96ea-b6e5a65cec24",
   "metadata": {},
   "outputs": [],
   "source": [
    "from typing import List\n",
    "from math import inf\n",
    "\n",
    "\n",
    "class Solution:\n",
    "    def minCostConnectPoints(self, points: List[List[int]]) -> int:\n",
    "        paths = []\n",
    "        ans = 0\n",
    "        point_set = set()\n",
    "        for i in range(0, len(points)):\n",
    "            for j in range(i + 1, len(points)):\n",
    "                dist = abs(points[i][0] - points[j][0]) + abs(points[i][1] - points[j][1])\n",
    "                paths.append((dist, i, j))\n",
    "                \n",
    "        paths = sorted(paths)\n",
    "        for dist, point1, point2 in paths:\n",
    "            if not ((point1 in point_set) and (point2 in point_set)):\n",
    "                ans += dist\n",
    "                point_set.add(point1)\n",
    "                point_set.add(point2)\n",
    "            if len(point_set) == len(points):\n",
    "                break\n",
    "        return ans"
   ]
  },
  {
   "cell_type": "code",
   "execution_count": 13,
   "id": "c4a5be26-a28c-459d-b8fa-2769aad2729a",
   "metadata": {},
   "outputs": [],
   "source": [
    "from typing import List\n",
    "from math import inf\n",
    "\n",
    "\n",
    "class Solution:\n",
    "    def minCostConnectPoints(self, points: List[List[int]]) -> int:\n",
    "        paths = {(x, y): inf for x, y in points}\n",
    "        paths[tuple(points[0])] = 0 # select start point\n",
    "        res = 0\n",
    "        while paths:\n",
    "            x, y = min(paths, key=paths.get) # take point with minimal distance\n",
    "            res += paths[(x, y)] # add distance to result\n",
    "            del paths[(x, y)]  # possible to replace with pop\n",
    "            for xp, yp in paths.keys():\n",
    "                paths[(xp, yp)] = min(paths[(xp, yp)], abs(x - xp) + abs(y - yp)) # update minimal distance to all points in joint points\n",
    "        return res\n",
    "        "
   ]
  },
  {
   "cell_type": "code",
   "execution_count": 40,
   "id": "ed36c461-5524-4102-82ab-da1067c25c40",
   "metadata": {},
   "outputs": [
    {
     "data": {
      "text/plain": [
       "20"
      ]
     },
     "execution_count": 40,
     "metadata": {},
     "output_type": "execute_result"
    }
   ],
   "source": [
    "s = Solution()\n",
    "s.minCostConnectPoints([[0,0],[2,2],[3,10],[5,2],[7,0]]) # 20"
   ]
  },
  {
   "cell_type": "code",
   "execution_count": 41,
   "id": "78bd40f7-d9c2-4fd8-92a0-4642e217fb2c",
   "metadata": {},
   "outputs": [
    {
     "data": {
      "text/plain": [
       "18"
      ]
     },
     "execution_count": 41,
     "metadata": {},
     "output_type": "execute_result"
    }
   ],
   "source": [
    "s.minCostConnectPoints([[3,12],[-2,5],[-4,1]]) # 18"
   ]
  },
  {
   "cell_type": "code",
   "execution_count": 42,
   "id": "dde40d5c-71fc-43af-a70f-88dfa62a590a",
   "metadata": {},
   "outputs": [
    {
     "data": {
      "text/plain": [
       "4"
      ]
     },
     "execution_count": 42,
     "metadata": {},
     "output_type": "execute_result"
    }
   ],
   "source": [
    "s.minCostConnectPoints([[0,0],[1,1],[1,0],[-1,1]]) # 4"
   ]
  },
  {
   "cell_type": "code",
   "execution_count": null,
   "id": "a559a4cc-fd51-4033-8dd3-481a29c930c6",
   "metadata": {},
   "outputs": [],
   "source": []
  }
 ],
 "metadata": {
  "kernelspec": {
   "display_name": "Python 3 (ipykernel)",
   "language": "python",
   "name": "python3"
  },
  "language_info": {
   "codemirror_mode": {
    "name": "ipython",
    "version": 3
   },
   "file_extension": ".py",
   "mimetype": "text/x-python",
   "name": "python",
   "nbconvert_exporter": "python",
   "pygments_lexer": "ipython3",
   "version": "3.9.10"
  }
 },
 "nbformat": 4,
 "nbformat_minor": 5
}
