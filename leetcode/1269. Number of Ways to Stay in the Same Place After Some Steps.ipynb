{
 "cells": [
  {
   "cell_type": "markdown",
   "id": "6bb0454d-0385-479b-a0f0-0a5af784b705",
   "metadata": {},
   "source": [
    "You have a pointer at index 0 in an array of size arrLen. At each step, you can move 1 position to the left, 1 position to the right in the array, or stay in the same place (The pointer should not be placed outside the array at any time).\n",
    "\n",
    "Given two integers steps and arrLen, return the number of ways such that your pointer is still at index 0 after exactly steps steps. Since the answer may be too large, return it modulo 109 + 7.\n",
    "\n",
    " \n",
    "\n",
    "Example 1:\n",
    "\n",
    "Input: steps = 3, arrLen = 2\n",
    "Output: 4\n",
    "Explanation: There are 4 differents ways to stay at index 0 after 3 steps.\n",
    "Right, Left, Stay\n",
    "Stay, Right, Left\n",
    "Right, Stay, Left\n",
    "Stay, Stay, Stay\n",
    "\n",
    "Example 2:\n",
    "\n",
    "Input: steps = 2, arrLen = 4\n",
    "Output: 2\n",
    "Explanation: There are 2 differents ways to stay at index 0 after 2 steps\n",
    "Right, Left\n",
    "Stay, Stay\n",
    "\n",
    "Example 3:\n",
    "\n",
    "Input: steps = 4, arrLen = 2\n",
    "Output: 8\n",
    "\n",
    " \n",
    "\n",
    "Constraints:\n",
    "\n",
    "    1 <= steps <= 500\n",
    "    1 <= arrLen <= 106\n",
    "\n"
   ]
  },
  {
   "cell_type": "code",
   "execution_count": null,
   "id": "1b7ba3f4-b148-4809-a591-29c91c7eba96",
   "metadata": {},
   "outputs": [],
   "source": [
    "class Solution:\n",
    "    def numWays(self, steps: int, arrLen: int) -> int:\n",
    "        @cache\n",
    "        def dp(pos, steps):\n",
    "            if steps == 0:\n",
    "                if pos == 0:\n",
    "                    return 1\n",
    "                else:\n",
    "                    return 0\n",
    "                \n",
    "            if (pos < 0) or (pos >= arrLen):\n",
    "                return 0\n",
    "                \n",
    "            return (\n",
    "                dp(pos - 1, steps - 1)\n",
    "                + dp(pos + 1, steps - 1)\n",
    "                + dp(pos, steps - 1)\n",
    "            ) % (10**9 + 7)\n",
    "\n",
    "        return dp(0, steps)"
   ]
  }
 ],
 "metadata": {
  "kernelspec": {
   "display_name": "Python 3 (ipykernel)",
   "language": "python",
   "name": "python3"
  },
  "language_info": {
   "codemirror_mode": {
    "name": "ipython",
    "version": 3
   },
   "file_extension": ".py",
   "mimetype": "text/x-python",
   "name": "python",
   "nbconvert_exporter": "python",
   "pygments_lexer": "ipython3",
   "version": "3.11.4"
  }
 },
 "nbformat": 4,
 "nbformat_minor": 5
}
