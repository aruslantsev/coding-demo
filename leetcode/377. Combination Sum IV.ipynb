{
 "cells": [
  {
   "cell_type": "markdown",
   "id": "7bccbbe3-8c91-4c5e-9ef5-a714b7326318",
   "metadata": {},
   "source": [
    "Given an array of distinct integers nums and a target integer target, return the number of possible combinations that add up to target.\n",
    "\n",
    "The test cases are generated so that the answer can fit in a 32-bit integer.\n",
    "\n",
    " \n",
    "\n",
    "Example 1:\n",
    "\n",
    "Input: nums = [1,2,3], target = 4\n",
    "Output: 7\n",
    "Explanation:\n",
    "The possible combination ways are:\n",
    "(1, 1, 1, 1)\n",
    "(1, 1, 2)\n",
    "(1, 2, 1)\n",
    "(1, 3)\n",
    "(2, 1, 1)\n",
    "(2, 2)\n",
    "(3, 1)\n",
    "Note that different sequences are counted as different combinations.\n",
    "\n",
    "Example 2:\n",
    "\n",
    "Input: nums = [9], target = 3\n",
    "Output: 0\n",
    "\n",
    " \n",
    "\n",
    "Constraints:\n",
    "\n",
    "    1 <= nums.length <= 200\n",
    "    1 <= nums[i] <= 1000\n",
    "    All the elements of nums are unique.\n",
    "    1 <= target <= 1000\n",
    "\n",
    " \n",
    "\n",
    "Follow up: What if negative numbers are allowed in the given array? How does it change the problem? What limitation we need to add to the question to allow negative numbers?\n"
   ]
  },
  {
   "cell_type": "code",
   "execution_count": null,
   "id": "59f6c701-1a83-4b2d-bb2f-48e904a007bd",
   "metadata": {},
   "outputs": [],
   "source": [
    "from typing import List\n",
    "from functools import cache\n",
    "\n",
    "\n",
    "class Solution:\n",
    "    def combinationSum4(self, nums: List[int], target: int) -> int:\n",
    "        self.ans = set()\n",
    "        \n",
    "        def check(curr_sum, track):\n",
    "            if curr_sum == target:\n",
    "                self.ans.add(tuple(track))\n",
    "                return\n",
    "            if curr_sum > target:\n",
    "                return\n",
    "            for num in nums:\n",
    "                check(curr_sum + num, track + [num])\n",
    "                \n",
    "        check(0, [])\n",
    "        return len(self.ans)"
   ]
  },
  {
   "cell_type": "code",
   "execution_count": 2,
   "id": "7f281fa3-c121-4cb0-a134-ad74a7410063",
   "metadata": {},
   "outputs": [],
   "source": [
    "from typing import List\n",
    "from functools import cache\n",
    "\n",
    "\n",
    "class Solution:\n",
    "    def combinationSum4(self, nums: List[int], target: int) -> int:\n",
    "        @cache\n",
    "        def check(remaining):\n",
    "            if remaining == 0:\n",
    "                return 1\n",
    "            if remaining < 0:\n",
    "                return 0\n",
    "            \n",
    "            return sum([check(remaining - num) for num in nums])\n",
    "                \n",
    "        return check(target)"
   ]
  },
  {
   "cell_type": "code",
   "execution_count": null,
   "id": "b7b7b067-25f1-4d69-a0e6-7e02a5a6707e",
   "metadata": {},
   "outputs": [],
   "source": []
  }
 ],
 "metadata": {
  "kernelspec": {
   "display_name": "Python 3 (ipykernel)",
   "language": "python",
   "name": "python3"
  },
  "language_info": {
   "codemirror_mode": {
    "name": "ipython",
    "version": 3
   },
   "file_extension": ".py",
   "mimetype": "text/x-python",
   "name": "python",
   "nbconvert_exporter": "python",
   "pygments_lexer": "ipython3",
   "version": "3.9.12"
  }
 },
 "nbformat": 4,
 "nbformat_minor": 5
}
