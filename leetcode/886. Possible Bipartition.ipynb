{
 "cells": [
  {
   "cell_type": "markdown",
   "id": "a150b8c9-c827-4a12-b91a-bd28085dfb58",
   "metadata": {},
   "source": [
    "We want to split a group of n people (labeled from 1 to n) into two groups of any size. Each person may dislike some other people, and they should not go into the same group.\n",
    "\n",
    "Given the integer n and the array dislikes where dislikes[i] = [ai, bi] indicates that the person labeled ai does not like the person labeled bi, return true if it is possible to split everyone into two groups in this way.\n",
    "\n",
    " \n",
    "\n",
    "Example 1:\n",
    "\n",
    "Input: n = 4, dislikes = [[1,2],[1,3],[2,4]]\n",
    "Output: true\n",
    "Explanation: group1 [1,4] and group2 [2,3].\n",
    "Example 2:\n",
    "\n",
    "Input: n = 3, dislikes = [[1,2],[1,3],[2,3]]\n",
    "Output: false\n",
    "Example 3:\n",
    "\n",
    "Input: n = 5, dislikes = [[1,2],[2,3],[3,4],[4,5],[1,5]]\n",
    "Output: false\n",
    " \n",
    "\n",
    "Constraints:\n",
    "\n",
    "1 <= n <= 2000\n",
    "0 <= dislikes.length <= 104\n",
    "dislikes[i].length == 2\n",
    "1 <= dislikes[i][j] <= n\n",
    "ai < bi\n",
    "All the pairs of dislikes are unique."
   ]
  },
  {
   "cell_type": "code",
   "execution_count": null,
   "id": "9d6b5c2f-0115-49f3-9cc9-f8da92e85619",
   "metadata": {},
   "outputs": [],
   "source": [
    "class Solution:\n",
    "    def possibleBipartition(self, n: int, dislikes: List[List[int]]) -> bool:\n",
    "        def bfs(source):\n",
    "            q = deque([source])\n",
    "            color[source] = 0 # Start with marking source as 'RED'\n",
    "            while q:\n",
    "                node = q.popleft()\n",
    "                for neighbor in adj[node]:\n",
    "                    # If there is a conflict, return false.\n",
    "                    if color[neighbor] == color[node]: return False\n",
    "                    if color[neighbor] == -1:\n",
    "                        color[neighbor] = 1 - color[node]\n",
    "                        q.append(neighbor)\n",
    "            \n",
    "            return True\n",
    "        \n",
    "        adj = [[] for _ in range(n + 1)]\n",
    "        for dislike in dislikes:\n",
    "            adj[dislike[0]].append(dislike[1])\n",
    "            adj[dislike[1]].append(dislike[0])\n",
    "        \n",
    "        color = [-1] * (n + 1) # 0 stands for red and 1 stands for blue.\n",
    "        for i in range(1, n + 1):\n",
    "            if color[i] == -1:\n",
    "                # For each pending component, run BFS.\n",
    "                if not bfs(i):\n",
    "                    # Return false, if there is conflict in the component.\n",
    "                    return False\n",
    "        \n",
    "        return True"
   ]
  }
 ],
 "metadata": {
  "kernelspec": {
   "display_name": "Python 3",
   "language": "python",
   "name": "python3"
  },
  "language_info": {
   "codemirror_mode": {
    "name": "ipython",
    "version": 3
   },
   "file_extension": ".py",
   "mimetype": "text/x-python",
   "name": "python",
   "nbconvert_exporter": "python",
   "pygments_lexer": "ipython3",
   "version": "3.9.12"
  }
 },
 "nbformat": 4,
 "nbformat_minor": 5
}
