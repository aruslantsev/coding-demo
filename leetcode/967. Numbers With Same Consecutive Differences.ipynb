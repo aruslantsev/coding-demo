{
 "cells": [
  {
   "cell_type": "markdown",
   "id": "49be4da2-015d-4ad6-a15f-1c7b035cb487",
   "metadata": {},
   "source": [
    "Return all non-negative integers of length n such that the absolute difference between every two consecutive digits is k.\n",
    "\n",
    "Note that every number in the answer must not have leading zeros. For example, 01 has one leading zero and is invalid.\n",
    "\n",
    "You may return the answer in any order.\n",
    "\n",
    " \n",
    "\n",
    "Example 1:\n",
    "\n",
    "Input: n = 3, k = 7\n",
    "Output: [181,292,707,818,929]\n",
    "Explanation: Note that 070 is not a valid number, because it has leading zeroes.\n",
    "\n",
    "Example 2:\n",
    "\n",
    "Input: n = 2, k = 1\n",
    "Output: [10,12,21,23,32,34,43,45,54,56,65,67,76,78,87,89,98]\n",
    "\n",
    " \n",
    "\n",
    "Constraints:\n",
    "\n",
    "    2 <= n <= 9\n",
    "    0 <= k <= 9\n",
    "\n"
   ]
  },
  {
   "cell_type": "code",
   "execution_count": 5,
   "id": "935bae4e-da7f-41c1-bf9a-1090471e1fb7",
   "metadata": {},
   "outputs": [],
   "source": [
    "from typing import List\n",
    "\n",
    "class Solution:\n",
    "    def numsSameConsecDiff(self, n: int, k: int) -> List[int]:\n",
    "        ans = set()\n",
    "        def generate_number(number: int, last: int):\n",
    "            if len(str(number)) == n:\n",
    "                ans.add(number)\n",
    "                return\n",
    "            else:\n",
    "                if last - k >= 0:\n",
    "                    generate_number(number * 10 + last - k, last - k)\n",
    "                if last + k <= 9:\n",
    "                    generate_number(number * 10 + last + k, last + k)\n",
    "            return\n",
    "        \n",
    "        for i in range(1, 10):\n",
    "            generate_number(i, i)\n",
    "            \n",
    "        return list(ans)"
   ]
  },
  {
   "cell_type": "code",
   "execution_count": 6,
   "id": "431ac0ef-4a28-4155-96e4-07240388b365",
   "metadata": {},
   "outputs": [
    {
     "data": {
      "text/plain": [
       "{10, 12, 21, 23, 32, 34, 43, 45, 54, 56, 65, 67, 76, 78, 87, 89, 98}"
      ]
     },
     "execution_count": 6,
     "metadata": {},
     "output_type": "execute_result"
    }
   ],
   "source": [
    "s = Solution()\n",
    "s.numsSameConsecDiff(2, 1)"
   ]
  },
  {
   "cell_type": "code",
   "execution_count": 7,
   "id": "0f0a3e3e-e395-4800-82c1-d310d7a4ce0f",
   "metadata": {},
   "outputs": [
    {
     "data": {
      "text/plain": [
       "{181, 292, 707, 818, 929}"
      ]
     },
     "execution_count": 7,
     "metadata": {},
     "output_type": "execute_result"
    }
   ],
   "source": [
    "s.numsSameConsecDiff(3, 7)"
   ]
  },
  {
   "cell_type": "code",
   "execution_count": null,
   "id": "4e6a3d80-a23a-4b87-9faf-b708791eb79f",
   "metadata": {},
   "outputs": [],
   "source": []
  }
 ],
 "metadata": {
  "kernelspec": {
   "display_name": "Python 3 (ipykernel)",
   "language": "python",
   "name": "python3"
  },
  "language_info": {
   "codemirror_mode": {
    "name": "ipython",
    "version": 3
   },
   "file_extension": ".py",
   "mimetype": "text/x-python",
   "name": "python",
   "nbconvert_exporter": "python",
   "pygments_lexer": "ipython3",
   "version": "3.9.12"
  }
 },
 "nbformat": 4,
 "nbformat_minor": 5
}
