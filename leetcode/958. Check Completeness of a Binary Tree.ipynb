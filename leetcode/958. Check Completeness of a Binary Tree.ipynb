{
 "cells": [
  {
   "attachments": {
    "7a97c6e0-6914-4a43-ae89-17e1b15b1da2.png": {
     "image/png": "[encoded data removed]"
    },
    "9cbded4d-42bf-48ea-88ee-9e175e2b6110.png": {
     "image/png": "[encoded data removed]"
    }
   },
   "cell_type": "markdown",
   "id": "99f0d3e8-8b73-491a-ba74-b6b707b57d33",
   "metadata": {},
   "source": [
    "Given the root of a binary tree, determine if it is a complete binary tree.\n",
    "\n",
    "In a complete binary tree, every level, except possibly the last, is completely filled, and all nodes in the last level are as far left as possible. It can have between 1 and 2h nodes inclusive at the last level h.\n",
    "\n",
    " \n",
    "\n",
    "Example 1:\n",
    "\n",
    "![image.png](attachment:7a97c6e0-6914-4a43-ae89-17e1b15b1da2.png)\n",
    "\n",
    "Input: root = [1,2,3,4,5,6]\n",
    "Output: true\n",
    "Explanation: Every level before the last is full (ie. levels with node-values {1} and {2, 3}), and all nodes in the last level ({4, 5, 6}) are as far left as possible.\n",
    "\n",
    "Example 2:\n",
    "\n",
    "![image.png](attachment:9cbded4d-42bf-48ea-88ee-9e175e2b6110.png)\n",
    "\n",
    "Input: root = [1,2,3,4,5,null,7]\n",
    "Output: false\n",
    "Explanation: The node with value 7 isn't as far left as possible.\n",
    "\n",
    " \n",
    "\n",
    "Constraints:\n",
    "\n",
    "    The number of nodes in the tree is in the range [1, 100].\n",
    "    1 <= Node.val <= 1000\n",
    "\n"
   ]
  },
  {
   "cell_type": "code",
   "execution_count": null,
   "id": "9c819865-bb8e-4b7f-bdd0-008dfc4b07ed",
   "metadata": {},
   "outputs": [],
   "source": [
    "# Definition for a binary tree node.\n",
    "# class TreeNode:\n",
    "#     def __init__(self, val=0, left=None, right=None):\n",
    "#         self.val = val\n",
    "#         self.left = left\n",
    "#         self.right = right\n",
    "class Solution:\n",
    "    def isCompleteTree(self, root: Optional[TreeNode]) -> bool:\n",
    "        if not root:\n",
    "            return True\n",
    "\n",
    "        q = deque([root])\n",
    "        while q and q[0] is not None:\n",
    "            node = q.popleft()\n",
    "            q.append(node.left)\n",
    "            q.append(node.right)\n",
    "\n",
    "        while q and q[0] is None:\n",
    "            q.popleft()\n",
    "\n",
    "        return not q"
   ]
  }
 ],
 "metadata": {
  "kernelspec": {
   "display_name": "Python 3 (ipykernel)",
   "language": "python",
   "name": "python3"
  },
  "language_info": {
   "codemirror_mode": {
    "name": "ipython",
    "version": 3
   },
   "file_extension": ".py",
   "mimetype": "text/x-python",
   "name": "python",
   "nbconvert_exporter": "python",
   "pygments_lexer": "ipython3",
   "version": "3.10.8"
  }
 },
 "nbformat": 4,
 "nbformat_minor": 5
}
