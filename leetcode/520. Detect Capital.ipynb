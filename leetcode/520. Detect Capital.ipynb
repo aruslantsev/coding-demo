{
 "cells": [
  {
   "cell_type": "markdown",
   "id": "8e30021d-131f-424b-9aea-8344a7af1f12",
   "metadata": {},
   "source": [
    "We define the usage of capitals in a word to be right when one of the following cases holds:\n",
    "\n",
    "    All letters in this word are capitals, like \"USA\".\n",
    "    All letters in this word are not capitals, like \"leetcode\".\n",
    "    Only the first letter in this word is capital, like \"Google\".\n",
    "\n",
    "Given a string word, return true if the usage of capitals in it is right.\n",
    "\n",
    " \n",
    "\n",
    "Example 1:\n",
    "\n",
    "Input: word = \"USA\"\n",
    "Output: true\n",
    "\n",
    "Example 2:\n",
    "\n",
    "Input: word = \"FlaG\"\n",
    "Output: false\n",
    "\n",
    " \n",
    "\n",
    "Constraints:\n",
    "\n",
    "    1 <= word.length <= 100\n",
    "    word consists of lowercase and uppercase English letters.\n",
    "\n"
   ]
  },
  {
   "cell_type": "code",
   "execution_count": 1,
   "id": "83e926bd-6191-462d-9e07-31aae4b2d947",
   "metadata": {},
   "outputs": [],
   "source": [
    "class Solution:\n",
    "    def detectCapitalUse(self, word: str) -> bool:\n",
    "        if word == word.upper():\n",
    "            return True\n",
    "        if word == word.capitalize():\n",
    "            return True\n",
    "        if word == word.lower():\n",
    "            return True\n",
    "        return False"
   ]
  },
  {
   "cell_type": "code",
   "execution_count": 2,
   "id": "b3103dad-2af5-4dec-88fd-9e0128c87f31",
   "metadata": {},
   "outputs": [],
   "source": [
    "s = Solution()"
   ]
  },
  {
   "cell_type": "code",
   "execution_count": 3,
   "id": "2a656460-499c-4904-8137-7800938c4bf6",
   "metadata": {},
   "outputs": [
    {
     "data": {
      "text/plain": [
       "True"
      ]
     },
     "execution_count": 3,
     "metadata": {},
     "output_type": "execute_result"
    }
   ],
   "source": [
    "s.detectCapitalUse(\"USA\")"
   ]
  },
  {
   "cell_type": "code",
   "execution_count": 4,
   "id": "4057c3da-92af-434c-9ba1-6b35f3dbea1e",
   "metadata": {},
   "outputs": [
    {
     "data": {
      "text/plain": [
       "False"
      ]
     },
     "execution_count": 4,
     "metadata": {},
     "output_type": "execute_result"
    }
   ],
   "source": [
    "s.detectCapitalUse(\"FlaG\")"
   ]
  },
  {
   "cell_type": "code",
   "execution_count": null,
   "id": "a64740d4-31ad-42cb-a3aa-0de72e58e11f",
   "metadata": {},
   "outputs": [],
   "source": []
  }
 ],
 "metadata": {
  "kernelspec": {
   "display_name": "Python 3 (ipykernel)",
   "language": "python",
   "name": "python3"
  },
  "language_info": {
   "codemirror_mode": {
    "name": "ipython",
    "version": 3
   },
   "file_extension": ".py",
   "mimetype": "text/x-python",
   "name": "python",
   "nbconvert_exporter": "python",
   "pygments_lexer": "ipython3",
   "version": "3.9.10"
  }
 },
 "nbformat": 4,
 "nbformat_minor": 5
}
