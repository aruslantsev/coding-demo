{
 "cells": [
  {
   "cell_type": "markdown",
   "id": "adcd8171",
   "metadata": {},
   "source": [
    "Given a string s, remove duplicate letters so that every letter appears once and only once. You must make sure your result is the smallest in lexicographical order among all possible results.\n",
    "\n",
    " \n",
    "\n",
    "Example 1:\n",
    "\n",
    "Input: s = \"bcabc\"\n",
    "Output: \"abc\"\n",
    "\n",
    "Example 2:\n",
    "\n",
    "Input: s = \"cbacdcbc\"\n",
    "Output: \"acdb\"\n",
    "\n",
    " \n",
    "\n",
    "Constraints:\n",
    "\n",
    "    1 <= s.length <= 104\n",
    "    s consists of lowercase English letters.\n",
    "\n",
    " \n",
    "\n",
    "Note: This question is the same as 1081: https://leetcode.com/problems/smallest-subsequence-of-distinct-characters/\n"
   ]
  },
  {
   "cell_type": "code",
   "execution_count": 54,
   "id": "be697b84",
   "metadata": {},
   "outputs": [],
   "source": [
    "class Solution:\n",
    "    def removeDuplicateLetters(self, s: str) -> str:\n",
    "        \n",
    "        last_occ = {}\n",
    "        stack = []\n",
    "\n",
    "        for i in range(len(s)):\n",
    "            last_occ[s[i]] = i\n",
    "\n",
    "        for i in range(len(s)):\n",
    "            if s[i] not in stack:\n",
    "                while (stack and stack[-1] > s[i] and last_occ[stack[-1]] > i):\n",
    "                    stack.pop()\n",
    "\n",
    "                stack.append(s[i])\n",
    "\n",
    "        return ''.join(stack)"
   ]
  },
  {
   "cell_type": "code",
   "execution_count": 55,
   "id": "776abaa8",
   "metadata": {},
   "outputs": [
    {
     "data": {
      "text/plain": [
       "'abc'"
      ]
     },
     "execution_count": 55,
     "metadata": {},
     "output_type": "execute_result"
    }
   ],
   "source": [
    "s = Solution()\n",
    "s.removeDuplicateLetters(\"bcabc\")"
   ]
  },
  {
   "cell_type": "code",
   "execution_count": 56,
   "id": "93779d42",
   "metadata": {},
   "outputs": [
    {
     "data": {
      "text/plain": [
       "'acdb'"
      ]
     },
     "execution_count": 56,
     "metadata": {},
     "output_type": "execute_result"
    }
   ],
   "source": [
    "s.removeDuplicateLetters(\"cbacdcbc\")"
   ]
  },
  {
   "cell_type": "code",
   "execution_count": 57,
   "id": "508506be",
   "metadata": {},
   "outputs": [
    {
     "data": {
      "text/plain": [
       "'abc'"
      ]
     },
     "execution_count": 57,
     "metadata": {},
     "output_type": "execute_result"
    }
   ],
   "source": [
    "s.removeDuplicateLetters(\"abacb\")"
   ]
  },
  {
   "cell_type": "code",
   "execution_count": 58,
   "id": "d5e8fad5",
   "metadata": {},
   "outputs": [
    {
     "data": {
      "text/plain": [
       "'abc'"
      ]
     },
     "execution_count": 58,
     "metadata": {},
     "output_type": "execute_result"
    }
   ],
   "source": [
    "s = Solution()\n",
    "s.removeDuplicateLetters('abca')"
   ]
  },
  {
   "cell_type": "code",
   "execution_count": null,
   "id": "444770dd",
   "metadata": {},
   "outputs": [],
   "source": []
  }
 ],
 "metadata": {
  "kernelspec": {
   "display_name": "Python 3 (ipykernel)",
   "language": "python",
   "name": "python3"
  },
  "language_info": {
   "codemirror_mode": {
    "name": "ipython",
    "version": 3
   },
   "file_extension": ".py",
   "mimetype": "text/x-python",
   "name": "python",
   "nbconvert_exporter": "python",
   "pygments_lexer": "ipython3",
   "version": "3.9.10"
  }
 },
 "nbformat": 4,
 "nbformat_minor": 5
}
