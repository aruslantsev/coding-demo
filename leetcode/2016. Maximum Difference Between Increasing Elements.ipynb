{
 "cells": [
  {
   "cell_type": "markdown",
   "id": "df9ae622-6bf9-4ea2-923d-6370e73b7246",
   "metadata": {},
   "source": [
    "Given a 0-indexed integer array nums of size n, find the maximum difference between nums[i] and nums[j] (i.e., nums[j] - nums[i]), such that 0 <= i < j < n and nums[i] < nums[j].\n",
    "\n",
    "Return the maximum difference. If no such i and j exists, return -1.\n",
    "\n",
    " \n",
    "\n",
    "Example 1:\n",
    "\n",
    "Input: nums = [7,1,5,4]\n",
    "Output: 4\n",
    "Explanation:\n",
    "The maximum difference occurs with i = 1 and j = 2, nums[j] - nums[i] = 5 - 1 = 4.\n",
    "Note that with i = 1 and j = 0, the difference nums[j] - nums[i] = 7 - 1 = 6, but i > j, so it is not valid.\n",
    "\n",
    "Example 2:\n",
    "\n",
    "Input: nums = [9,4,3,2]\n",
    "Output: -1\n",
    "Explanation:\n",
    "There is no i and j such that i < j and nums[i] < nums[j].\n",
    "\n",
    "Example 3:\n",
    "\n",
    "Input: nums = [1,5,2,10]\n",
    "Output: 9\n",
    "Explanation:\n",
    "The maximum difference occurs with i = 0 and j = 3, nums[j] - nums[i] = 10 - 1 = 9.\n",
    "\n",
    " \n",
    "\n",
    "Constraints:\n",
    "\n",
    "    n == nums.length\n",
    "    2 <= n <= 1000\n",
    "    1 <= nums[i] <= 109\n",
    "\n"
   ]
  },
  {
   "cell_type": "code",
   "execution_count": null,
   "id": "187dfeda-1a80-4de1-a8fb-ce36fc9b8494",
   "metadata": {},
   "outputs": [],
   "source": [
    "class Solution:\n",
    "    def maximumDifference(self, nums: List[int]) -> int:\n",
    "        n = len(nums)\n",
    "        ans, premin = -1, nums[0]\n",
    "\n",
    "        for i in range(1, n):\n",
    "            if nums[i] > premin:\n",
    "                ans = max(ans, nums[i] - premin)\n",
    "            else:\n",
    "                premin = nums[i]\n",
    "\n",
    "        return ans"
   ]
  }
 ],
 "metadata": {
  "kernelspec": {
   "display_name": "Python 3 (ipykernel)",
   "language": "python",
   "name": "python3"
  },
  "language_info": {
   "codemirror_mode": {
    "name": "ipython",
    "version": 3
   },
   "file_extension": ".py",
   "mimetype": "text/x-python",
   "name": "python",
   "nbconvert_exporter": "python",
   "pygments_lexer": "ipython3",
   "version": "3.13.4"
  }
 },
 "nbformat": 4,
 "nbformat_minor": 5
}
