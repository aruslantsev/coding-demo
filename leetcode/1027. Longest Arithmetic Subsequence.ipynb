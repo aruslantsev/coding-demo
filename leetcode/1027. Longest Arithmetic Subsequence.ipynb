{
 "cells": [
  {
   "cell_type": "markdown",
   "id": "0c25728b-83e1-4cde-9339-cfe5b3af1f34",
   "metadata": {},
   "source": [
    "Given an array nums of integers, return the length of the longest arithmetic subsequence in nums.\n",
    "\n",
    "Note that:\n",
    "\n",
    "    A subsequence is an array that can be derived from another array by deleting some or no elements without changing the order of the remaining elements.\n",
    "    A sequence seq is arithmetic if seq[i + 1] - seq[i] are all the same value (for 0 <= i < seq.length - 1).\n",
    "\n",
    " \n",
    "\n",
    "Example 1:\n",
    "\n",
    "Input: nums = [3,6,9,12]\n",
    "Output: 4\n",
    "Explanation:  The whole array is an arithmetic sequence with steps of length = 3.\n",
    "\n",
    "Example 2:\n",
    "\n",
    "Input: nums = [9,4,7,2,10]\n",
    "Output: 3\n",
    "Explanation:  The longest arithmetic subsequence is [4,7,10].\n",
    "\n",
    "Example 3:\n",
    "\n",
    "Input: nums = [20,1,15,3,10,5,8]\n",
    "Output: 4\n",
    "Explanation:  The longest arithmetic subsequence is [20,15,10,5].\n",
    "\n",
    " \n",
    "\n",
    "Constraints:\n",
    "\n",
    "    2 <= nums.length <= 1000\n",
    "    0 <= nums[i] <= 500\n",
    "\n"
   ]
  },
  {
   "cell_type": "code",
   "execution_count": null,
   "id": "8ee12fae-5765-442b-bc92-a7c3702b8c42",
   "metadata": {},
   "outputs": [],
   "source": [
    "class Solution:\n",
    "    def longestArithSeqLength(self, nums: List[int]) -> int:\n",
    "        dp = {}\n",
    "        \n",
    "        for right in range(len(nums)):\n",
    "            for left in range(0, right):\n",
    "                dp[(right, nums[right] - nums[left])] = dp.get((left, nums[right] - nums[left]), 1) + 1   \n",
    "        \n",
    "        return max(dp.values())"
   ]
  }
 ],
 "metadata": {
  "kernelspec": {
   "display_name": "Python 3 (ipykernel)",
   "language": "python",
   "name": "python3"
  },
  "language_info": {
   "codemirror_mode": {
    "name": "ipython",
    "version": 3
   },
   "file_extension": ".py",
   "mimetype": "text/x-python",
   "name": "python",
   "nbconvert_exporter": "python",
   "pygments_lexer": "ipython3",
   "version": "3.10.11"
  }
 },
 "nbformat": 4,
 "nbformat_minor": 5
}
