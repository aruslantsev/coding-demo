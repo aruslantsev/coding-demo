{
 "cells": [
  {
   "cell_type": "markdown",
   "id": "b71d04b1-f19f-457e-be64-ed253b36bd07",
   "metadata": {},
   "source": [
    "Given an array of integers arr.\n",
    "\n",
    "We want to select three indices i, j and k where (0 <= i < j <= k < arr.length).\n",
    "\n",
    "Let's define a and b as follows:\n",
    "\n",
    "    a = arr[i] ^ arr[i + 1] ^ ... ^ arr[j - 1]\n",
    "    b = arr[j] ^ arr[j + 1] ^ ... ^ arr[k]\n",
    "\n",
    "Note that ^ denotes the bitwise-xor operation.\n",
    "\n",
    "Return the number of triplets (i, j and k) Where a == b.\n",
    "\n",
    " \n",
    "\n",
    "Example 1:\n",
    "\n",
    "Input: arr = [2,3,1,6,7]\n",
    "Output: 4\n",
    "Explanation: The triplets are (0,1,2), (0,2,2), (2,3,4) and (2,4,4)\n",
    "\n",
    "Example 2:\n",
    "\n",
    "Input: arr = [1,1,1,1,1]\n",
    "Output: 10\n",
    "\n",
    " \n",
    "\n",
    "Constraints:\n",
    "\n",
    "    1 <= arr.length <= 300\n",
    "    1 <= arr[i] <= 108\n",
    "\n"
   ]
  },
  {
   "cell_type": "code",
   "execution_count": null,
   "id": "d9dd63b0-bf97-455c-87e3-c11b4a88bec9",
   "metadata": {},
   "outputs": [],
   "source": [
    "class Solution:\n",
    "    def countTriplets(self, arr: List[int]) -> int:\n",
    "        prefix_XOR = [0] + arr[:]\n",
    "        size = len(prefix_XOR)\n",
    "\n",
    "        # Perform XOR on consecutive elements in the modified array\n",
    "        for i in range(1, size):\n",
    "            prefix_XOR[i] ^= prefix_XOR[i - 1]\n",
    "\n",
    "        count = 0\n",
    "\n",
    "        # Iterate through the modified array to count triplets\n",
    "        for start in range(size):\n",
    "            for end in range(start + 1, size):\n",
    "                if prefix_XOR[start] == prefix_XOR[end]:\n",
    "                    # Increment the result by the count of valid triplets\n",
    "                    count += end - start - 1\n",
    "\n",
    "        return count"
   ]
  }
 ],
 "metadata": {
  "kernelspec": {
   "display_name": "Python 3 (ipykernel)",
   "language": "python",
   "name": "python3"
  },
  "language_info": {
   "codemirror_mode": {
    "name": "ipython",
    "version": 3
   },
   "file_extension": ".py",
   "mimetype": "text/x-python",
   "name": "python",
   "nbconvert_exporter": "python",
   "pygments_lexer": "ipython3",
   "version": "3.12.3"
  }
 },
 "nbformat": 4,
 "nbformat_minor": 5
}
