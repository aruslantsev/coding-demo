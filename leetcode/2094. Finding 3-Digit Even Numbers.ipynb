{
 "cells": [
  {
   "cell_type": "markdown",
   "id": "c58eebbe-d895-4f4e-81c8-3cb56431649b",
   "metadata": {},
   "source": [
    "You are given an integer array digits, where each element is a digit. The array may contain duplicates.\n",
    "\n",
    "You need to find all the unique integers that follow the given requirements:\n",
    "\n",
    "    The integer consists of the concatenation of three elements from digits in any arbitrary order.\n",
    "    The integer does not have leading zeros.\n",
    "    The integer is even.\n",
    "\n",
    "For example, if the given digits were [1, 2, 3], integers 132 and 312 follow the requirements.\n",
    "\n",
    "Return a sorted array of the unique integers.\n",
    "\n",
    " \n",
    "\n",
    "Example 1:\n",
    "\n",
    "Input: digits = [2,1,3,0]\n",
    "Output: [102,120,130,132,210,230,302,310,312,320]\n",
    "Explanation: All the possible integers that follow the requirements are in the output array. \n",
    "Notice that there are no odd integers or integers with leading zeros.\n",
    "\n",
    "Example 2:\n",
    "\n",
    "Input: digits = [2,2,8,8,2]\n",
    "Output: [222,228,282,288,822,828,882]\n",
    "Explanation: The same digit can be used as many times as it appears in digits. \n",
    "In this example, the digit 8 is used twice each time in 288, 828, and 882. \n",
    "\n",
    "Example 3:\n",
    "\n",
    "Input: digits = [3,7,5]\n",
    "Output: []\n",
    "Explanation: No even integers can be formed using the given digits.\n",
    "\n",
    " \n",
    "\n",
    "Constraints:\n",
    "\n",
    "    3 <= digits.length <= 100\n",
    "    0 <= digits[i] <= 9\n",
    "\n"
   ]
  },
  {
   "cell_type": "code",
   "execution_count": null,
   "id": "1f4ddee0-f427-4a35-8d0f-91051c416a80",
   "metadata": {},
   "outputs": [],
   "source": [
    "class Solution:\n",
    "    def findEvenNumbers(self, digits: List[int]) -> List[int]:\n",
    "        nums = set()  # Target even set\n",
    "        n = len(digits)\n",
    "        # Traverse the indices of three digits\n",
    "        for i in range(n):\n",
    "            for j in range(n):\n",
    "                for k in range(n):\n",
    "                    # Determine whether it meets the condition of the target even number\n",
    "                    if i == j or j == k or i == k:\n",
    "                        continue\n",
    "                    num = digits[i] * 100 + digits[j] * 10 + digits[k]\n",
    "                    if num >= 100 and num % 2 == 0:\n",
    "                        nums.add(num)\n",
    "        # Converted to an array sorted in ascending order\n",
    "        res = sorted(list(nums))\n",
    "        return res"
   ]
  }
 ],
 "metadata": {
  "kernelspec": {
   "display_name": "Python 3 (ipykernel)",
   "language": "python",
   "name": "python3"
  },
  "language_info": {
   "codemirror_mode": {
    "name": "ipython",
    "version": 3
   },
   "file_extension": ".py",
   "mimetype": "text/x-python",
   "name": "python",
   "nbconvert_exporter": "python",
   "pygments_lexer": "ipython3",
   "version": "3.12.9"
  }
 },
 "nbformat": 4,
 "nbformat_minor": 5
}
