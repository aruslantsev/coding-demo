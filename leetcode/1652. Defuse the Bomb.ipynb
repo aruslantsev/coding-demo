{
 "cells": [
  {
   "cell_type": "markdown",
   "id": "3070734b-ac44-4495-ad49-2b2ae41bf5e1",
   "metadata": {},
   "source": [
    "You have a bomb to defuse, and your time is running out! Your informer will provide you with a circular array code of length of n and a key k.\n",
    "\n",
    "To decrypt the code, you must replace every number. All the numbers are replaced simultaneously.\n",
    "\n",
    "    If k > 0, replace the ith number with the sum of the next k numbers.\n",
    "    If k < 0, replace the ith number with the sum of the previous k numbers.\n",
    "    If k == 0, replace the ith number with 0.\n",
    "\n",
    "As code is circular, the next element of code[n-1] is code[0], and the previous element of code[0] is code[n-1].\n",
    "\n",
    "Given the circular array code and an integer key k, return the decrypted code to defuse the bomb!\n",
    "\n",
    " \n",
    "\n",
    "Example 1:\n",
    "\n",
    "Input: code = [5,7,1,4], k = 3\n",
    "Output: [12,10,16,13]\n",
    "Explanation: Each number is replaced by the sum of the next 3 numbers. The decrypted code is [7+1+4, 1+4+5, 4+5+7, 5+7+1]. Notice that the numbers wrap around.\n",
    "\n",
    "Example 2:\n",
    "\n",
    "Input: code = [1,2,3,4], k = 0\n",
    "Output: [0,0,0,0]\n",
    "Explanation: When k is zero, the numbers are replaced by 0. \n",
    "\n",
    "Example 3:\n",
    "\n",
    "Input: code = [2,4,9,3], k = -2\n",
    "Output: [12,5,6,13]\n",
    "Explanation: The decrypted code is [3+9, 2+3, 4+2, 9+4]. Notice that the numbers wrap around again. If k is negative, the sum is of the previous numbers.\n",
    "\n",
    " \n",
    "\n",
    "Constraints:\n",
    "\n",
    "    n == code.length\n",
    "    1 <= n <= 100\n",
    "    1 <= code[i] <= 100\n",
    "    -(n - 1) <= k <= n - 1\n",
    "\n"
   ]
  },
  {
   "cell_type": "code",
   "execution_count": null,
   "id": "d389af5c-8cd2-4356-992d-a7b5397ea1aa",
   "metadata": {},
   "outputs": [],
   "source": [
    "class Solution:\n",
    "    def decrypt(self, code: List[int], k: int) -> List[int]:\n",
    "        result = [0] * len(code)\n",
    "        if k == 0:\n",
    "            return result\n",
    "        for i in range(len(result)):\n",
    "            if k > 0:\n",
    "                for j in range(i + 1, i + k + 1):\n",
    "                    result[i] += code[j % len(code)]\n",
    "            else:\n",
    "                for j in range(i - abs(k), i):\n",
    "                    result[i] += code[(j + len(code)) % len(code)]\n",
    "        return result"
   ]
  }
 ],
 "metadata": {
  "kernelspec": {
   "display_name": "Python 3 (ipykernel)",
   "language": "python",
   "name": "python3"
  },
  "language_info": {
   "codemirror_mode": {
    "name": "ipython",
    "version": 3
   },
   "file_extension": ".py",
   "mimetype": "text/x-python",
   "name": "python",
   "nbconvert_exporter": "python",
   "pygments_lexer": "ipython3",
   "version": "3.12.7"
  }
 },
 "nbformat": 4,
 "nbformat_minor": 5
}
