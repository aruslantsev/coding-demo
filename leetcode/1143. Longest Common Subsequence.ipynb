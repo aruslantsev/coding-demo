{
 "cells": [
  {
   "cell_type": "markdown",
   "id": "4573e6f5-3c26-4986-9e69-c423a6f75676",
   "metadata": {},
   "source": [
    "Given two strings text1 and text2, return the length of their longest common subsequence. If there is no common subsequence, return 0.\n",
    "\n",
    "A subsequence of a string is a new string generated from the original string with some characters (can be none) deleted without changing the relative order of the remaining characters.\n",
    "\n",
    "For example, \"ace\" is a subsequence of \"abcde\".\n",
    "A common subsequence of two strings is a subsequence that is common to both strings.\n",
    "\n",
    " \n",
    "\n",
    "Example 1:\n",
    "\n",
    "Input: text1 = \"abcde\", text2 = \"ace\" \n",
    "Output: 3  \n",
    "Explanation: The longest common subsequence is \"ace\" and its length is 3.\n",
    "Example 2:\n",
    "\n",
    "Input: text1 = \"abc\", text2 = \"abc\"\n",
    "Output: 3\n",
    "Explanation: The longest common subsequence is \"abc\" and its length is 3.\n",
    "Example 3:\n",
    "\n",
    "Input: text1 = \"abc\", text2 = \"def\"\n",
    "Output: 0\n",
    "Explanation: There is no such common subsequence, so the result is 0.\n",
    " \n",
    "\n",
    "Constraints:\n",
    "\n",
    "1 <= text1.length, text2.length <= 1000\n",
    "text1 and text2 consist of only lowercase English characters."
   ]
  },
  {
   "cell_type": "code",
   "execution_count": null,
   "id": "9341443d-a8a8-4430-a942-16c0be8793cb",
   "metadata": {},
   "outputs": [],
   "source": [
    "class Solution:\n",
    "    def longestCommonSubsequence(self, text1: str, text2: str) -> int:\n",
    "        common_letters = set(text1 + text2)\n",
    "        if not common_letters:\n",
    "            return 0\n",
    "        \n",
    "        text1 = [l for l in text1 if l in common_letters]\n",
    "        text2 = [l for l in text2 if l in common_letters]\n",
    "\n",
    "        @cache\n",
    "        def test_str(idx1, idx2):\n",
    "            ans = [0]\n",
    "            for i in range(idx1, len(text1)):\n",
    "                for j in range(idx2, len(text2)):\n",
    "                    if text1[i] == text2[j]:\n",
    "                        ans.append(1 + test_str(i + 1, j + 1))\n",
    "                        break\n",
    "            return max(ans)\n",
    "\n",
    "        return test_str(0, 0)"
   ]
  },
  {
   "cell_type": "code",
   "execution_count": null,
   "id": "f5ddea67-7e5f-4a30-a581-23e2dabbfc7c",
   "metadata": {},
   "outputs": [],
   "source": [
    "class Solution:\n",
    "    def longestCommonSubsequence(self, text1: str, text2: str) -> int:\n",
    "        memo = [[0 for _ in range(len(text2) + 1)] for _ in range(len(text1) + 1)]\n",
    "        for i in range(len(text1)):\n",
    "            for j in range(len(text2)):\n",
    "                if text1[i] == text2[j]:\n",
    "                    memo[i + 1][j + 1] = memo[i][j] + 1\n",
    "                else:\n",
    "                    memo[i + 1][j + 1] = max(memo[i + 1][j], memo[i][j + 1])\n",
    "        return max((max(row) for row in memo))\n"
   ]
  }
 ],
 "metadata": {
  "kernelspec": {
   "display_name": "Python 3",
   "language": "python",
   "name": "python3"
  },
  "language_info": {
   "codemirror_mode": {
    "name": "ipython",
    "version": 3
   },
   "file_extension": ".py",
   "mimetype": "text/x-python",
   "name": "python",
   "nbconvert_exporter": "python",
   "pygments_lexer": "ipython3",
   "version": "3.9.12"
  }
 },
 "nbformat": 4,
 "nbformat_minor": 5
}
