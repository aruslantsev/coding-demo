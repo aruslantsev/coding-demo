{
 "cells": [
  {
   "cell_type": "markdown",
   "id": "f0968ee5-2676-42d7-b4d0-df01a24daead",
   "metadata": {},
   "source": [
    "Alice and Bob are playing a game. Initially, Alice has a string word = \"a\".\n",
    "\n",
    "You are given a positive integer k.\n",
    "\n",
    "Now Bob will ask Alice to perform the following operation forever:\n",
    "\n",
    "    Generate a new string by changing each character in word to its next character in the English alphabet, and append it to the original word.\n",
    "\n",
    "For example, performing the operation on \"c\" generates \"cd\" and performing the operation on \"zb\" generates \"zbac\".\n",
    "\n",
    "Return the value of the kth character in word, after enough operations have been done for word to have at least k characters.\n",
    "\n",
    " \n",
    "\n",
    "Example 1:\n",
    "\n",
    "Input: k = 5\n",
    "\n",
    "Output: \"b\"\n",
    "\n",
    "Explanation:\n",
    "\n",
    "Initially, word = \"a\". We need to do the operation three times:\n",
    "\n",
    "    Generated string is \"b\", word becomes \"ab\".\n",
    "    Generated string is \"bc\", word becomes \"abbc\".\n",
    "    Generated string is \"bccd\", word becomes \"abbcbccd\".\n",
    "\n",
    "Example 2:\n",
    "\n",
    "Input: k = 10\n",
    "\n",
    "Output: \"c\"\n",
    "\n",
    " \n",
    "\n",
    "Constraints:\n",
    "\n",
    "    1 <= k <= 500\n",
    "\n"
   ]
  },
  {
   "cell_type": "code",
   "execution_count": null,
   "id": "1ca6320b-300f-44aa-85c1-4c7564bdd187",
   "metadata": {},
   "outputs": [],
   "source": [
    "class Solution:\n",
    "    def kthCharacter(self, k: int) -> str:\n",
    "        s = [0]\n",
    "        while len(s) < k:\n",
    "            t = [(e + 1) % 26 for e in s]\n",
    "            s += t\n",
    "        return chr(ord(\"a\") + s[k - 1])"
   ]
  },
  {
   "cell_type": "code",
   "execution_count": null,
   "id": "934133c9-879f-4ecb-8f0c-2ef0c9ce6f81",
   "metadata": {},
   "outputs": [],
   "source": [
    "class Solution:\n",
    "    def kthCharacter(self, k: int) -> str:\n",
    "        ans = 0\n",
    "        while k != 1:\n",
    "            t = k.bit_length() - 1\n",
    "            if (1 << t) == k:\n",
    "                t -= 1\n",
    "            k -= 1 << t\n",
    "            ans += 1\n",
    "        return chr(ord(\"a\") + ans)"
   ]
  }
 ],
 "metadata": {
  "kernelspec": {
   "display_name": "Python 3 (ipykernel)",
   "language": "python",
   "name": "python3"
  },
  "language_info": {
   "codemirror_mode": {
    "name": "ipython",
    "version": 3
   },
   "file_extension": ".py",
   "mimetype": "text/x-python",
   "name": "python",
   "nbconvert_exporter": "python",
   "pygments_lexer": "ipython3",
   "version": "3.13.4"
  }
 },
 "nbformat": 4,
 "nbformat_minor": 5
}
