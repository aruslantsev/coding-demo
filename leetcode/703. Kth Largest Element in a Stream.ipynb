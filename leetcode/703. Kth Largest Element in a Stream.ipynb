{
 "cells": [
  {
   "cell_type": "markdown",
   "id": "8740052e",
   "metadata": {},
   "source": [
    "Design a class to find the kth largest element in a stream. Note that it is the kth largest element in the sorted order, not the kth distinct element.\n",
    "\n",
    "Implement KthLargest class:\n",
    "\n",
    "    KthLargest(int k, int[] nums) Initializes the object with the integer k and the stream of integers nums.\n",
    "    int add(int val) Appends the integer val to the stream and returns the element representing the kth largest element in the stream.\n",
    "\n",
    " \n",
    "\n",
    "Example 1:\n",
    "\n",
    "Input\n",
    "[\"KthLargest\", \"add\", \"add\", \"add\", \"add\", \"add\"]\n",
    "[[3, [4, 5, 8, 2]], [3], [5], [10], [9], [4]]\n",
    "Output\n",
    "[null, 4, 5, 5, 8, 8]\n",
    "\n",
    "Explanation\n",
    "KthLargest kthLargest = new KthLargest(3, [4, 5, 8, 2]);\n",
    "kthLargest.add(3);   // return 4\n",
    "kthLargest.add(5);   // return 5\n",
    "kthLargest.add(10);  // return 5\n",
    "kthLargest.add(9);   // return 8\n",
    "kthLargest.add(4);   // return 8\n",
    "\n",
    " \n",
    "\n",
    "Constraints:\n",
    "\n",
    "    1 <= k <= 104\n",
    "    0 <= nums.length <= 104\n",
    "    -104 <= nums[i] <= 104\n",
    "    -104 <= val <= 104\n",
    "    At most 104 calls will be made to add.\n",
    "    It is guaranteed that there will be at least k elements in the array when you search for the kth element.\n",
    "\n"
   ]
  },
  {
   "cell_type": "code",
   "execution_count": 40,
   "id": "7ece2f8f",
   "metadata": {},
   "outputs": [],
   "source": [
    "from typing import List\n",
    "from heapq import heapify, heappush, nlargest\n",
    "\n",
    "class KthLargest:\n",
    "\n",
    "    def __init__(self, k: int, nums: List[int]):\n",
    "        self.k = k\n",
    "        self.nums = nums\n",
    "        heapify(self.nums)\n",
    "\n",
    "    def add(self, val: int) -> int:\n",
    "        heappush(self.nums, val)\n",
    "        return nlargest(self.k, self.nums)[-1]\n",
    "        \n",
    "\n",
    "# Your KthLargest object will be instantiated and called as such:\n",
    "# obj = KthLargest(k, nums)\n",
    "# param_1 = obj.add(val)"
   ]
  },
  {
   "cell_type": "code",
   "execution_count": 63,
   "id": "50ee12ee",
   "metadata": {},
   "outputs": [],
   "source": [
    "from typing import List\n",
    "from heapq import heapify, heappush, heappushpop, nsmallest\n",
    "\n",
    "class KthLargest:\n",
    "\n",
    "    def __init__(self, k: int, nums: List[int]):\n",
    "        self.k = k\n",
    "        self.nums = sorted(nums)[-self.k:]\n",
    "        heapify(self.nums)\n",
    "\n",
    "    def add(self, val: int) -> int:\n",
    "        if len(self.nums) == self.k:\n",
    "            heappushpop(self.nums, val)\n",
    "        else:\n",
    "            heappush(self.nums, val)\n",
    "        return nsmallest(1, self.nums)[0]\n",
    "        \n",
    "\n",
    "# Your KthLargest object will be instantiated and called as such:\n",
    "# obj = KthLargest(k, nums)\n",
    "# param_1 = obj.add(val)"
   ]
  },
  {
   "cell_type": "code",
   "execution_count": 64,
   "id": "b81d63fb",
   "metadata": {},
   "outputs": [],
   "source": [
    "kl = KthLargest(3, [4, 5, 8, 2])"
   ]
  },
  {
   "cell_type": "code",
   "execution_count": 65,
   "id": "69083f47",
   "metadata": {},
   "outputs": [
    {
     "name": "stdout",
     "output_type": "stream",
     "text": [
      "4\n",
      "5\n",
      "5\n",
      "8\n",
      "8\n"
     ]
    }
   ],
   "source": [
    "for k in [3, 5, 10, 9, 4]:\n",
    "    print(kl.add(k))"
   ]
  },
  {
   "cell_type": "code",
   "execution_count": 66,
   "id": "604b3444",
   "metadata": {},
   "outputs": [
    {
     "data": {
      "text/plain": [
       "[4, 5, 5, 8, 8]"
      ]
     },
     "execution_count": 66,
     "metadata": {},
     "output_type": "execute_result"
    }
   ],
   "source": [
    "[4, 5, 5, 8, 8]"
   ]
  },
  {
   "cell_type": "code",
   "execution_count": 67,
   "id": "7fe8be70",
   "metadata": {},
   "outputs": [
    {
     "name": "stdout",
     "output_type": "stream",
     "text": [
      "-1\n",
      "0\n",
      "0\n",
      "0\n",
      "1\n"
     ]
    }
   ],
   "source": [
    "kl = KthLargest(2, [0])\n",
    "for k in [-1, 1, -2, -4, 3]:\n",
    "    print(kl.add(k))\n"
   ]
  },
  {
   "cell_type": "code",
   "execution_count": null,
   "id": "28b9b8a9",
   "metadata": {},
   "outputs": [],
   "source": []
  }
 ],
 "metadata": {
  "kernelspec": {
   "display_name": "Python 3 (ipykernel)",
   "language": "python",
   "name": "python3"
  },
  "language_info": {
   "codemirror_mode": {
    "name": "ipython",
    "version": 3
   },
   "file_extension": ".py",
   "mimetype": "text/x-python",
   "name": "python",
   "nbconvert_exporter": "python",
   "pygments_lexer": "ipython3",
   "version": "3.9.10"
  }
 },
 "nbformat": 4,
 "nbformat_minor": 5
}
