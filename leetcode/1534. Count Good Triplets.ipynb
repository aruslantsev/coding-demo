{
 "cells": [
  {
   "cell_type": "markdown",
   "id": "7b051912-1c30-43d3-92cd-387fbf2b115f",
   "metadata": {},
   "source": [
    "Given an array of integers arr, and three integers a, b and c. You need to find the number of good triplets.\n",
    "\n",
    "A triplet (arr[i], arr[j], arr[k]) is good if the following conditions are true:\n",
    "\n",
    "    0 <= i < j < k < arr.length\n",
    "    |arr[i] - arr[j]| <= a\n",
    "    |arr[j] - arr[k]| <= b\n",
    "    |arr[i] - arr[k]| <= c\n",
    "\n",
    "Where |x| denotes the absolute value of x.\n",
    "\n",
    "Return the number of good triplets.\n",
    "\n",
    " \n",
    "\n",
    "Example 1:\n",
    "\n",
    "Input: arr = [3,0,1,1,9,7], a = 7, b = 2, c = 3\n",
    "Output: 4\n",
    "Explanation: There are 4 good triplets: [(3,0,1), (3,0,1), (3,1,1), (0,1,1)].\n",
    "\n",
    "Example 2:\n",
    "\n",
    "Input: arr = [1,1,2,2,3], a = 0, b = 0, c = 1\n",
    "Output: 0\n",
    "Explanation: No triplet satisfies all conditions.\n",
    "\n",
    " \n",
    "\n",
    "Constraints:\n",
    "\n",
    "    3 <= arr.length <= 100\n",
    "    0 <= arr[i] <= 1000\n",
    "    0 <= a, b, c <= 1000\n"
   ]
  },
  {
   "cell_type": "code",
   "execution_count": null,
   "id": "a3767760-d356-44f9-a98d-bae0c44c9aa6",
   "metadata": {},
   "outputs": [],
   "source": [
    "class Solution:\n",
    "    def countGoodTriplets(self, arr: List[int], a: int, b: int, c: int) -> int:\n",
    "        n = len(arr)\n",
    "        cnt = 0\n",
    "        for i in range(n):\n",
    "            for j in range(i + 1, n):\n",
    "                for k in range(j + 1, n):\n",
    "                    if (\n",
    "                        abs(arr[i] - arr[j]) <= a\n",
    "                        and abs(arr[j] - arr[k]) <= b\n",
    "                        and abs(arr[i] - arr[k]) <= c\n",
    "                    ):\n",
    "                        cnt += 1\n",
    "        return cnt\n",
    "\n",
    "        "
   ]
  },
  {
   "cell_type": "code",
   "execution_count": null,
   "id": "86a99748-77ff-4612-9c44-5e538b00e1a8",
   "metadata": {},
   "outputs": [],
   "source": [
    "class Solution:\n",
    "    def countGoodTriplets(self, arr: List[int], a: int, b: int, c: int) -> int:\n",
    "        ans = 0\n",
    "        n = len(arr)\n",
    "        total = [0] * 1001\n",
    "        for j in range(n):\n",
    "            for k in range(j + 1, n):\n",
    "                if abs(arr[j] - arr[k]) <= b:\n",
    "                    lj, rj = arr[j] - a, arr[j] + a\n",
    "                    lk, rk = arr[k] - c, arr[k] + c\n",
    "                    l = max(0, lj, lk)\n",
    "                    r = min(1000, rj, rk)\n",
    "                    if l <= r:\n",
    "                        ans += total[r] if l == 0 else total[r] - total[l - 1]\n",
    "            for k in range(arr[j], 1001):\n",
    "                total[k] += 1\n",
    "\n",
    "        return ans"
   ]
  }
 ],
 "metadata": {
  "kernelspec": {
   "display_name": "Python 3 (ipykernel)",
   "language": "python",
   "name": "python3"
  },
  "language_info": {
   "codemirror_mode": {
    "name": "ipython",
    "version": 3
   },
   "file_extension": ".py",
   "mimetype": "text/x-python",
   "name": "python",
   "nbconvert_exporter": "python",
   "pygments_lexer": "ipython3",
   "version": "3.12.9"
  }
 },
 "nbformat": 4,
 "nbformat_minor": 5
}
