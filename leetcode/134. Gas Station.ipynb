{
 "cells": [
  {
   "cell_type": "markdown",
   "id": "1a10b6e4-66db-4b7b-b65d-84c8877fb444",
   "metadata": {},
   "source": [
    "There are n gas stations along a circular route, where the amount of gas at the ith station is gas[i].\n",
    "\n",
    "You have a car with an unlimited gas tank and it costs cost[i] of gas to travel from the ith station to its next (i + 1)th station. You begin the journey with an empty tank at one of the gas stations.\n",
    "\n",
    "Given two integer arrays gas and cost, return the starting gas station's index if you can travel around the circuit once in the clockwise direction, otherwise return -1. If there exists a solution, it is guaranteed to be unique\n",
    "\n",
    " \n",
    "\n",
    "Example 1:\n",
    "\n",
    "Input: gas = [1,2,3,4,5], cost = [3,4,5,1,2]\n",
    "Output: 3\n",
    "Explanation:\n",
    "Start at station 3 (index 3) and fill up with 4 unit of gas. Your tank = 0 + 4 = 4\n",
    "Travel to station 4. Your tank = 4 - 1 + 5 = 8\n",
    "Travel to station 0. Your tank = 8 - 2 + 1 = 7\n",
    "Travel to station 1. Your tank = 7 - 3 + 2 = 6\n",
    "Travel to station 2. Your tank = 6 - 4 + 3 = 5\n",
    "Travel to station 3. The cost is 5. Your gas is just enough to travel back to station 3.\n",
    "Therefore, return 3 as the starting index.\n",
    "\n",
    "Example 2:\n",
    "\n",
    "Input: gas = [2,3,4], cost = [3,4,3]\n",
    "Output: -1\n",
    "Explanation:\n",
    "You can't start at station 0 or 1, as there is not enough gas to travel to the next station.\n",
    "Let's start at station 2 and fill up with 4 unit of gas. Your tank = 0 + 4 = 4\n",
    "Travel to station 0. Your tank = 4 - 3 + 2 = 3\n",
    "Travel to station 1. Your tank = 3 - 3 + 3 = 3\n",
    "You cannot travel back to station 2, as it requires 4 unit of gas but you only have 3.\n",
    "Therefore, you can't travel around the circuit once no matter where you start.\n",
    "\n",
    " \n",
    "\n",
    "Constraints:\n",
    "\n",
    "    n == gas.length == cost.length\n",
    "    1 <= n <= 105\n",
    "    0 <= gas[i], cost[i] <= 104\n",
    "\n"
   ]
  },
  {
   "cell_type": "code",
   "execution_count": null,
   "id": "0b6c0704-ed61-4a87-9dd0-93bd7f591986",
   "metadata": {},
   "outputs": [],
   "source": [
    "class Solution:\n",
    "    def canCompleteCircuit(self, gas: List[int], cost: List[int]) -> int:\n",
    "        if sum(gas) < sum(cost): return -1   #   Example: gas = [1,2,3,4,5]  cost = [3,4,5,1,2]\n",
    "                                             #\n",
    "        tank = idx = 0                       #   i  gas  cost   tank        start\n",
    "                                             #  ––– –––  ––––   –––––––––   –––––\n",
    "        for i in range(len(gas)):            #   start = 0              0     0\n",
    "                                             #   0   1    3    0+1-3 = -2     1    reset tank to 0, start to 0+1 = 1\n",
    "            tank+= gas[i]-cost[i]            #   1   2    4    0+2-4 = -2     2    reset tank to 0, start to 2+1 = 2 \n",
    "            if tank < 0: tank, idx = 0, i+1  #   2   3    5    0+3-5 = -2     3    reset tank to 0, start to 2+1 = 3\n",
    "                                             #   3   4    1    3+4-1 =  6     3    \n",
    "        return idx                           #   4   5    2    6+5-2 =  9     3\n",
    "                                             #\n",
    "                                             #  See explanation in problem description to verify that i = 3 works\n"
   ]
  }
 ],
 "metadata": {
  "kernelspec": {
   "display_name": "Python 3 (ipykernel)",
   "language": "python",
   "name": "python3"
  },
  "language_info": {
   "codemirror_mode": {
    "name": "ipython",
    "version": 3
   },
   "file_extension": ".py",
   "mimetype": "text/x-python",
   "name": "python",
   "nbconvert_exporter": "python",
   "pygments_lexer": "ipython3",
   "version": "3.9.13"
  }
 },
 "nbformat": 4,
 "nbformat_minor": 5
}
