{
 "cells": [
  {
   "cell_type": "markdown",
   "id": "bd3e3ebe-7896-4266-8083-bba8149cf06d",
   "metadata": {},
   "source": [
    "You are given a binary string s and a positive integer k.\n",
    "\n",
    "Return the length of the longest subsequence of s that makes up a binary number less than or equal to k.\n",
    "\n",
    "Note:\n",
    "\n",
    "    The subsequence can contain leading zeroes.\n",
    "    The empty string is considered to be equal to 0.\n",
    "    A subsequence is a string that can be derived from another string by deleting some or no characters without changing the order of the remaining characters.\n",
    "\n",
    " \n",
    "\n",
    "Example 1:\n",
    "\n",
    "Input: s = \"1001010\", k = 5\n",
    "Output: 5\n",
    "Explanation: The longest subsequence of s that makes up a binary number less than or equal to 5 is \"00010\", as this number is equal to 2 in decimal.\n",
    "Note that \"00100\" and \"00101\" are also possible, which are equal to 4 and 5 in decimal, respectively.\n",
    "The length of this subsequence is 5, so 5 is returned.\n",
    "\n",
    "Example 2:\n",
    "\n",
    "Input: s = \"00101001\", k = 1\n",
    "Output: 6\n",
    "Explanation: \"000001\" is the longest subsequence of s that makes up a binary number less than or equal to 1, as this number is equal to 1 in decimal.\n",
    "The length of this subsequence is 6, so 6 is returned.\n",
    "\n",
    " \n",
    "\n",
    "Constraints:\n",
    "\n",
    "    1 <= s.length <= 1000\n",
    "    s[i] is either '0' or '1'.\n",
    "    1 <= k <= 109\n",
    "\n"
   ]
  },
  {
   "cell_type": "code",
   "execution_count": null,
   "id": "a021abce-7b9f-43c3-91be-4c7fd2f23dfc",
   "metadata": {},
   "outputs": [],
   "source": [
    "class Solution:\n",
    "    def longestSubsequence(self, s: str, k: int) -> int:\n",
    "        sm = 0\n",
    "        cnt = 0\n",
    "        bits = k.bit_length()\n",
    "        for i, ch in enumerate(s[::-1]):\n",
    "            if ch == \"1\":\n",
    "                if i < bits and sm + (1 << i) <= k:\n",
    "                    sm += 1 << i\n",
    "                    cnt += 1\n",
    "            else:\n",
    "                cnt += 1\n",
    "        return cnt"
   ]
  }
 ],
 "metadata": {
  "kernelspec": {
   "display_name": "Python 3 (ipykernel)",
   "language": "python",
   "name": "python3"
  },
  "language_info": {
   "codemirror_mode": {
    "name": "ipython",
    "version": 3
   },
   "file_extension": ".py",
   "mimetype": "text/x-python",
   "name": "python",
   "nbconvert_exporter": "python",
   "pygments_lexer": "ipython3",
   "version": "3.13.4"
  }
 },
 "nbformat": 4,
 "nbformat_minor": 5
}
