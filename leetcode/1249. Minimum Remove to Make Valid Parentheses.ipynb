{
 "cells": [
  {
   "cell_type": "markdown",
   "id": "486d7f79",
   "metadata": {},
   "source": [
    "Given a string s of '(' , ')' and lowercase English characters.\n",
    "\n",
    "Your task is to remove the minimum number of parentheses ( '(' or ')', in any positions ) so that the resulting parentheses string is valid and return any valid string.\n",
    "\n",
    "Formally, a parentheses string is valid if and only if:\n",
    "\n",
    "    It is the empty string, contains only lowercase characters, or\n",
    "    It can be written as AB (A concatenated with B), where A and B are valid strings, or\n",
    "    It can be written as (A), where A is a valid string.\n",
    "\n",
    " \n",
    "\n",
    "Example 1:\n",
    "\n",
    "Input: s = \"lee(t(c)o)de)\"\n",
    "Output: \"lee(t(c)o)de\"\n",
    "Explanation: \"lee(t(co)de)\" , \"lee(t(c)ode)\" would also be accepted.\n",
    "\n",
    "Example 2:\n",
    "\n",
    "Input: s = \"a)b(c)d\"\n",
    "Output: \"ab(c)d\"\n",
    "\n",
    "Example 3:\n",
    "\n",
    "Input: s = \"))((\"\n",
    "Output: \"\"\n",
    "Explanation: An empty string is also valid.\n",
    "\n",
    " \n",
    "\n",
    "Constraints:\n",
    "\n",
    "    1 <= s.length <= 105\n",
    "    s[i] is either'(' , ')', or lowercase English letter.\n",
    "\n"
   ]
  },
  {
   "cell_type": "code",
   "execution_count": null,
   "id": "de791ee5",
   "metadata": {},
   "outputs": [],
   "source": [
    "class Solution:\n",
    "    def minRemoveToMakeValid(self, s: str) -> str:\n",
    "        to_remove = []\n",
    "        stack = []\n",
    "        for pos, sym in enumerate(s):\n",
    "            if sym == \"(\":\n",
    "                stack.append(pos)\n",
    "            if sym == \")\":\n",
    "                if len(stack) == 0:\n",
    "                    to_remove.append(pos)\n",
    "                else:\n",
    "                    stack.pop()\n",
    "        to_remove = sorted(to_remove + stack)\n",
    "        ans = s\n",
    "        for i in to_remove[::-1]:\n",
    "            ans = ans[:i] + ans[i+1:]\n",
    "        return ans"
   ]
  }
 ],
 "metadata": {
  "kernelspec": {
   "display_name": "Python 3 (ipykernel)",
   "language": "python",
   "name": "python3"
  },
  "language_info": {
   "codemirror_mode": {
    "name": "ipython",
    "version": 3
   },
   "file_extension": ".py",
   "mimetype": "text/x-python",
   "name": "python",
   "nbconvert_exporter": "python",
   "pygments_lexer": "ipython3",
   "version": "3.9.10"
  }
 },
 "nbformat": 4,
 "nbformat_minor": 5
}
