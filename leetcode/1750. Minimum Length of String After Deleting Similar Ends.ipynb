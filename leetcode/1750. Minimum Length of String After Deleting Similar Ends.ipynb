{
 "cells": [
  {
   "cell_type": "markdown",
   "id": "996829ea-bff9-43f4-a9fb-8804ba99601d",
   "metadata": {},
   "source": [
    "Given a string s consisting only of characters 'a', 'b', and 'c'. You are asked to apply the following algorithm on the string any number of times:\n",
    "\n",
    "    Pick a non-empty prefix from the string s where all the characters in the prefix are equal.\n",
    "    Pick a non-empty suffix from the string s where all the characters in this suffix are equal.\n",
    "    The prefix and the suffix should not intersect at any index.\n",
    "    The characters from the prefix and suffix must be the same.\n",
    "    Delete both the prefix and the suffix.\n",
    "\n",
    "Return the minimum length of s after performing the above operation any number of times (possibly zero times).\n",
    "\n",
    " \n",
    "\n",
    "Example 1:\n",
    "\n",
    "Input: s = \"ca\"\n",
    "Output: 2\n",
    "Explanation: You can't remove any characters, so the string stays as is.\n",
    "\n",
    "Example 2:\n",
    "\n",
    "Input: s = \"cabaabac\"\n",
    "Output: 0\n",
    "Explanation: An optimal sequence of operations is:\n",
    "- Take prefix = \"c\" and suffix = \"c\" and remove them, s = \"abaaba\".\n",
    "- Take prefix = \"a\" and suffix = \"a\" and remove them, s = \"baab\".\n",
    "- Take prefix = \"b\" and suffix = \"b\" and remove them, s = \"aa\".\n",
    "- Take prefix = \"a\" and suffix = \"a\" and remove them, s = \"\".\n",
    "\n",
    "Example 3:\n",
    "\n",
    "Input: s = \"aabccabba\"\n",
    "Output: 3\n",
    "Explanation: An optimal sequence of operations is:\n",
    "- Take prefix = \"aa\" and suffix = \"a\" and remove them, s = \"bccabb\".\n",
    "- Take prefix = \"b\" and suffix = \"bb\" and remove them, s = \"cca\".\n",
    "\n",
    " \n",
    "\n",
    "Constraints:\n",
    "\n",
    "    1 <= s.length <= 105\n",
    "    s only consists of characters 'a', 'b', and 'c'.\n",
    "\n"
   ]
  },
  {
   "cell_type": "code",
   "execution_count": null,
   "id": "b739d68e-af80-400e-8c3a-466bb662ed01",
   "metadata": {},
   "outputs": [],
   "source": [
    "class Solution:\n",
    "    def minimumLength(self, s: str) -> int:\n",
    "        l = 0\n",
    "        r = len(s) - 1\n",
    "        while l < r and s[l] == s[r]:\n",
    "            ch = s[l]\n",
    "            while l <= r and s[l] == ch:\n",
    "                l += 1\n",
    "            while l < r and s[r] == ch:\n",
    "                r -= 1\n",
    "\n",
    "        return r - l + 1"
   ]
  }
 ],
 "metadata": {
  "kernelspec": {
   "display_name": "common",
   "language": "python",
   "name": "common"
  },
  "language_info": {
   "codemirror_mode": {
    "name": "ipython",
    "version": 3
   },
   "file_extension": ".py",
   "mimetype": "text/x-python",
   "name": "python",
   "nbconvert_exporter": "python",
   "pygments_lexer": "ipython3",
   "version": "3.11.7"
  }
 },
 "nbformat": 4,
 "nbformat_minor": 5
}
