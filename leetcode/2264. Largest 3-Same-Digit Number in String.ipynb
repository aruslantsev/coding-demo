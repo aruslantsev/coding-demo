{
 "cells": [
  {
   "cell_type": "markdown",
   "id": "460371bd-5c0d-44d0-80c8-f576fdc77e1a",
   "metadata": {},
   "source": [
    "You are given a string num representing a large integer. An integer is good if it meets the following conditions:\n",
    "\n",
    "    It is a substring of num with length 3.\n",
    "    It consists of only one unique digit.\n",
    "\n",
    "Return the maximum good integer as a string or an empty string \"\" if no such integer exists.\n",
    "\n",
    "Note:\n",
    "\n",
    "    A substring is a contiguous sequence of characters within a string.\n",
    "    There may be leading zeroes in num or a good integer.\n",
    "\n",
    " \n",
    "\n",
    "Example 1:\n",
    "\n",
    "Input: num = \"6777133339\"\n",
    "Output: \"777\"\n",
    "Explanation: There are two distinct good integers: \"777\" and \"333\".\n",
    "\"777\" is the largest, so we return \"777\".\n",
    "\n",
    "Example 2:\n",
    "\n",
    "Input: num = \"2300019\"\n",
    "Output: \"000\"\n",
    "Explanation: \"000\" is the only good integer.\n",
    "\n",
    "Example 3:\n",
    "\n",
    "Input: num = \"42352338\"\n",
    "Output: \"\"\n",
    "Explanation: No substring of length 3 consists of only one unique digit. Therefore, there are no good integers.\n",
    "\n",
    " \n",
    "\n",
    "Constraints:\n",
    "\n",
    "    3 <= num.length <= 1000\n",
    "    num only consists of digits.\n",
    "\n"
   ]
  },
  {
   "cell_type": "code",
   "execution_count": null,
   "id": "9a1d6a5a-8269-478a-93b1-b3ac9aed2cb2",
   "metadata": {},
   "outputs": [],
   "source": [
    "class Solution:\n",
    "    def largestGoodInteger(self, num: str) -> str:\n",
    "        max_num = \"\"\n",
    "        for i in range(len(num) - 2):\n",
    "            if num[i] == num[i + 1] == num[i + 2]:\n",
    "                if max_num == \"\":\n",
    "                    max_num = num[i: i + 3]\n",
    "                else:\n",
    "                    if int(num[i: i + 3]) > int(max_num):\n",
    "                        max_num = num[i: i + 3]\n",
    "        return max_num\n",
    "        "
   ]
  }
 ],
 "metadata": {
  "kernelspec": {
   "display_name": "Python 3 (ipykernel)",
   "language": "python",
   "name": "python3"
  },
  "language_info": {
   "codemirror_mode": {
    "name": "ipython",
    "version": 3
   },
   "file_extension": ".py",
   "mimetype": "text/x-python",
   "name": "python",
   "nbconvert_exporter": "python",
   "pygments_lexer": "ipython3",
   "version": "3.11.4"
  }
 },
 "nbformat": 4,
 "nbformat_minor": 5
}
