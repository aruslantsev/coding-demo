{
 "cells": [
  {
   "cell_type": "markdown",
   "id": "5059e8a8-6786-4eb9-a451-b5221fd7bda5",
   "metadata": {},
   "source": [
    "Given an array of intervals intervals where intervals[i] = [starti, endi], return the minimum number of intervals you need to remove to make the rest of the intervals non-overlapping.\n",
    "\n",
    " \n",
    "\n",
    "Example 1:\n",
    "\n",
    "Input: intervals = [[1,2],[2,3],[3,4],[1,3]]\n",
    "Output: 1\n",
    "Explanation: [1,3] can be removed and the rest of the intervals are non-overlapping.\n",
    "\n",
    "Example 2:\n",
    "\n",
    "Input: intervals = [[1,2],[1,2],[1,2]]\n",
    "Output: 2\n",
    "Explanation: You need to remove two [1,2] to make the rest of the intervals non-overlapping.\n",
    "\n",
    "Example 3:\n",
    "\n",
    "Input: intervals = [[1,2],[2,3]]\n",
    "Output: 0\n",
    "Explanation: You don't need to remove any of the intervals since they're already non-overlapping.\n",
    "\n",
    " \n",
    "\n",
    "Constraints:\n",
    "\n",
    "    1 <= intervals.length <= 105\n",
    "    intervals[i].length == 2\n",
    "    -5 * 104 <= starti < endi <= 5 * 104\n",
    "\n"
   ]
  },
  {
   "cell_type": "code",
   "execution_count": 2,
   "id": "86935202-42a8-441b-88cc-52ac544521c0",
   "metadata": {},
   "outputs": [],
   "source": [
    "from typing import List\n",
    "\n",
    "class Solution:\n",
    "    def eraseOverlapIntervals(self, intervals: List[List[int]]) -> int:\n",
    "        input=sorted(intervals, key=lambda x:(x[1], x[0]))\n",
    "        count=0\n",
    "        cur = input[0]\n",
    "        for i in range(1,len(input)):\n",
    "            next = input[i]\n",
    "            if (cur[1] > next[0]) :\n",
    "                cur = cur\n",
    "                count+=1\n",
    "            else:\n",
    "                cur = next\n",
    "        return count"
   ]
  },
  {
   "cell_type": "code",
   "execution_count": 3,
   "id": "ba47cad6-5be5-4d52-be83-940fb600018b",
   "metadata": {},
   "outputs": [],
   "source": [
    "from typing import List\n",
    "\n",
    "class Solution:\n",
    "    def eraseOverlapIntervals(self, intervals: List[List[int]]) -> int:\n",
    "        # we sort based on the end time\n",
    "        intervals.sort(key = lambda x: x[1])\n",
    "        removed_intervals = 0\n",
    "\n",
    "        for index in range(1, len(intervals)):\n",
    "            # a basic overlapping check, current start should be \n",
    "            # greater than previous end if not it overlaps\n",
    "            if intervals[index][0] < intervals[index - 1][1]:\n",
    "                removed_intervals += 1\n",
    "                # the removed interval is replaced with it's previous valid interval\n",
    "                intervals[index] = intervals[index - 1]\n",
    "                index += 1\n",
    "                \n",
    "        return removed_intervals\n"
   ]
  },
  {
   "cell_type": "code",
   "execution_count": 6,
   "id": "c8e5f6ab-aac2-4bc3-97c2-27db9a787624",
   "metadata": {},
   "outputs": [
    {
     "data": {
      "text/plain": [
       "1"
      ]
     },
     "execution_count": 6,
     "metadata": {},
     "output_type": "execute_result"
    }
   ],
   "source": [
    "s = Solution()\n",
    "s.eraseOverlapIntervals([[0, 1], [2, 3], [0, 3]])"
   ]
  },
  {
   "cell_type": "code",
   "execution_count": null,
   "id": "40d0650c-4eb0-4f3a-b2cf-79871ccd99f9",
   "metadata": {},
   "outputs": [],
   "source": []
  }
 ],
 "metadata": {
  "kernelspec": {
   "display_name": "Python 3 (ipykernel)",
   "language": "python",
   "name": "python3"
  },
  "language_info": {
   "codemirror_mode": {
    "name": "ipython",
    "version": 3
   },
   "file_extension": ".py",
   "mimetype": "text/x-python",
   "name": "python",
   "nbconvert_exporter": "python",
   "pygments_lexer": "ipython3",
   "version": "3.9.10"
  }
 },
 "nbformat": 4,
 "nbformat_minor": 5
}
