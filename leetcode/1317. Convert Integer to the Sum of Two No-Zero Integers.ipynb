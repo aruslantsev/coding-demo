{
 "cells": [
  {
   "cell_type": "markdown",
   "id": "b79280ce-bd22-4cb0-9ab1-92da06c2edc5",
   "metadata": {},
   "source": [
    "No-Zero integer is a positive integer that does not contain any 0 in its decimal representation.\n",
    "\n",
    "Given an integer n, return a list of two integers [a, b] where:\n",
    "\n",
    "    a and b are No-Zero integers.\n",
    "    a + b = n\n",
    "\n",
    "The test cases are generated so that there is at least one valid solution. If there are many valid solutions, you can return any of them.\n",
    "\n",
    " \n",
    "\n",
    "Example 1:\n",
    "\n",
    "Input: n = 2\n",
    "Output: [1,1]\n",
    "Explanation: Let a = 1 and b = 1.\n",
    "Both a and b are no-zero integers, and a + b = 2 = n.\n",
    "\n",
    "Example 2:\n",
    "\n",
    "Input: n = 11\n",
    "Output: [2,9]\n",
    "Explanation: Let a = 2 and b = 9.\n",
    "Both a and b are no-zero integers, and a + b = 11 = n.\n",
    "Note that there are other valid answers as [8, 3] that can be accepted.\n",
    "\n",
    " \n",
    "\n",
    "Constraints:\n",
    "\n",
    "    2 <= n <= 104\n",
    "\n"
   ]
  },
  {
   "cell_type": "code",
   "execution_count": null,
   "id": "b031563c-5ec9-41c2-871d-a6c9a3a0aaef",
   "metadata": {},
   "outputs": [],
   "source": [
    "class Solution:\n",
    "    def getNoZeroIntegers(self, n: int) -> List[int]:\n",
    "        for a in range(1, n // 2 + 1):\n",
    "            b = n - a\n",
    "            aa, bb = a, b\n",
    "            good = True\n",
    "            while aa > 0 and good:\n",
    "                if aa % 10 == 0:\n",
    "                    good = False\n",
    "                    break\n",
    "                aa //= 10\n",
    "            while bb > 0 and good:\n",
    "                if bb % 10 == 0:\n",
    "                    good = False\n",
    "                    break\n",
    "                bb //= 10\n",
    "            if good: \n",
    "                return [a, b]"
   ]
  },
  {
   "cell_type": "code",
   "execution_count": null,
   "id": "9d983e86-1d9d-45fd-81a4-5274c19ef659",
   "metadata": {},
   "outputs": [],
   "source": [
    "class Solution:\n",
    "    def getNoZeroIntegers(self, n: int) -> List[int]:\n",
    "        for A in range(1, n):\n",
    "            B = n - A\n",
    "            if \"0\" not in str(A) + str(B):\n",
    "                return [A, B]\n",
    "        return []"
   ]
  }
 ],
 "metadata": {
  "kernelspec": {
   "display_name": "common",
   "language": "python",
   "name": "common"
  },
  "language_info": {
   "codemirror_mode": {
    "name": "ipython",
    "version": 3
   },
   "file_extension": ".py",
   "mimetype": "text/x-python",
   "name": "python",
   "nbconvert_exporter": "python",
   "pygments_lexer": "ipython3",
   "version": "3.12.11"
  }
 },
 "nbformat": 4,
 "nbformat_minor": 5
}
