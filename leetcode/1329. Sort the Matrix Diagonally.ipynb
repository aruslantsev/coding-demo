{
 "cells": [
  {
   "attachments": {
    "1191f092-46cf-4c1d-8451-99b44f6b4261.png": {
     "image/png": "[encoded data removed]"
    }
   },
   "cell_type": "markdown",
   "id": "fca9b2f5-b99b-4e65-862f-8c895c934d28",
   "metadata": {},
   "source": [
    "A matrix diagonal is a diagonal line of cells starting from some cell in either the topmost row or leftmost column and going in the bottom-right direction until reaching the matrix's end. For example, the matrix diagonal starting from mat[2][0], where mat is a 6 x 3 matrix, includes cells mat[2][0], mat[3][1], and mat[4][2].\n",
    "\n",
    "Given an m x n matrix mat of integers, sort each matrix diagonal in ascending order and return the resulting matrix.\n",
    "\n",
    "\n",
    "\n",
    "Example 1:\n",
    "\n",
    "![изображение.png](attachment:1191f092-46cf-4c1d-8451-99b44f6b4261.png)\n",
    "\n",
    "Input: mat = [[3,3,1,1],[2,2,1,2],[1,1,1,2]]\n",
    "Output: [[1,1,1,1],[1,2,2,2],[1,2,3,3]]\n",
    "\n",
    "Example 2:\n",
    "\n",
    "Input: mat = [[11,25,66,1,69,7],[23,55,17,45,15,52],[75,31,36,44,58,8],[22,27,33,25,68,4],[84,28,14,11,5,50]]\n",
    "Output: [[5,17,4,1,52,7],[11,11,25,45,8,69],[14,23,25,44,58,15],[22,27,31,36,50,66],[84,28,75,33,55,68]]\n",
    "\n",
    " \n",
    "\n",
    "Constraints:\n",
    "\n",
    "    m == mat.length\n",
    "    n == mat[i].length\n",
    "    1 <= m, n <= 100\n",
    "    1 <= mat[i][j] <= 100\n",
    "\n"
   ]
  },
  {
   "cell_type": "code",
   "execution_count": 1,
   "id": "a3858abc-284a-477c-aca8-5c69059d98fa",
   "metadata": {},
   "outputs": [],
   "source": [
    "from typing import List\n",
    "from collections import defaultdict\n",
    "\n",
    "class Solution:\n",
    "    def diagonalSort(self, mat: List[List[int]]) -> List[List[int]]:\n",
    "        storage = defaultdict(list)\n",
    "        for i in range(len(mat)):\n",
    "            for j in range(len(mat[0])):\n",
    "                storage[i - j].append(mat[i][j])\n",
    "                \n",
    "        for key, value in storage.items():\n",
    "            storage[key] = sorted(value)\n",
    "        \n",
    "        for i in range(len(mat)):\n",
    "            for j in range(len(mat[0])):\n",
    "                mat[i][j] = storage[i - j].pop(0)\n",
    "                \n",
    "        return mat"
   ]
  },
  {
   "cell_type": "code",
   "execution_count": null,
   "id": "387db1e0-1f4a-4a22-84fb-8691712da701",
   "metadata": {},
   "outputs": [],
   "source": []
  }
 ],
 "metadata": {
  "kernelspec": {
   "display_name": "Python 3 (ipykernel)",
   "language": "python",
   "name": "python3"
  },
  "language_info": {
   "codemirror_mode": {
    "name": "ipython",
    "version": 3
   },
   "file_extension": ".py",
   "mimetype": "text/x-python",
   "name": "python",
   "nbconvert_exporter": "python",
   "pygments_lexer": "ipython3",
   "version": "3.9.12"
  }
 },
 "nbformat": 4,
 "nbformat_minor": 5
}
