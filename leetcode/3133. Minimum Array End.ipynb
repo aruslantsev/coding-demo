{
 "cells": [
  {
   "cell_type": "markdown",
   "id": "8014911c-5257-4e6e-9771-d9fba0c64279",
   "metadata": {},
   "source": [
    "You are given two integers n and x. You have to construct an array of positive integers nums of size n where for every 0 <= i < n - 1, nums[i + 1] is greater than nums[i], and the result of the bitwise AND operation between all elements of nums is x.\n",
    "\n",
    "Return the minimum possible value of nums[n - 1].\n",
    "\n",
    " \n",
    "\n",
    "Example 1:\n",
    "\n",
    "Input: n = 3, x = 4\n",
    "\n",
    "Output: 6\n",
    "\n",
    "Explanation:\n",
    "\n",
    "nums can be [4,5,6] and its last element is 6.\n",
    "\n",
    "Example 2:\n",
    "\n",
    "Input: n = 2, x = 7\n",
    "\n",
    "Output: 15\n",
    "\n",
    "Explanation:\n",
    "\n",
    "nums can be [7,15] and its last element is 15.\n",
    "\n",
    " \n",
    "\n",
    "Constraints:\n",
    "\n",
    "    1 <= n, x <= 108\n",
    "\n"
   ]
  },
  {
   "cell_type": "code",
   "execution_count": null,
   "id": "ca5e6841-fcf1-4152-b934-a46102605ae7",
   "metadata": {},
   "outputs": [],
   "source": [
    "class Solution:\n",
    "    def minEnd(self, n: int, x: int) -> int:\n",
    "        result = x\n",
    "        n -= 1  # Reducing n by 1 to exclude x from the iteration\n",
    "        mask = 1\n",
    "\n",
    "        # Step 1: Iterate while n > 0, using mask for bit positions\n",
    "        while n > 0:\n",
    "            # Step 2: If the corresponding bit in x is 0\n",
    "            if (mask & x) == 0:\n",
    "                # Set the bit in result based on least significant bit of n\n",
    "                result |= (n & 1) * mask\n",
    "                # Shift n right by 1 to process next bit\n",
    "                n >>= 1\n",
    "            # Shift mask left by 1 for next iteration\n",
    "            mask <<= 1\n",
    "\n",
    "        return result"
   ]
  }
 ],
 "metadata": {
  "kernelspec": {
   "display_name": "Python 3 (ipykernel)",
   "language": "python",
   "name": "python3"
  },
  "language_info": {
   "codemirror_mode": {
    "name": "ipython",
    "version": 3
   },
   "file_extension": ".py",
   "mimetype": "text/x-python",
   "name": "python",
   "nbconvert_exporter": "python",
   "pygments_lexer": "ipython3",
   "version": "3.12.7"
  }
 },
 "nbformat": 4,
 "nbformat_minor": 5
}
