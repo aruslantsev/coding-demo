{
 "cells": [
  {
   "cell_type": "markdown",
   "id": "de7f779b-313d-476f-bc7e-fe0efde0528b",
   "metadata": {},
   "source": [
    "Given a string s. In one step you can insert any character at any index of the string.\n",
    "\n",
    "Return the minimum number of steps to make s palindrome.\n",
    "\n",
    "A Palindrome String is one that reads the same backward as well as forward.\n",
    "\n",
    " \n",
    "\n",
    "Example 1:\n",
    "\n",
    "Input: s = \"zzazz\"\n",
    "Output: 0\n",
    "Explanation: The string \"zzazz\" is already palindrome we do not need any insertions.\n",
    "\n",
    "Example 2:\n",
    "\n",
    "Input: s = \"mbadm\"\n",
    "Output: 2\n",
    "Explanation: String can be \"mbdadbm\" or \"mdbabdm\".\n",
    "\n",
    "Example 3:\n",
    "\n",
    "Input: s = \"leetcode\"\n",
    "Output: 5\n",
    "Explanation: Inserting 5 characters the string becomes \"leetcodocteel\".\n",
    "\n",
    " \n",
    "\n",
    "Constraints:\n",
    "\n",
    "    1 <= s.length <= 500\n",
    "    s consists of lowercase English letters.\n",
    "\n"
   ]
  },
  {
   "cell_type": "code",
   "execution_count": 14,
   "id": "7e961093-dffd-4918-a3e9-924db8c7e3bd",
   "metadata": {},
   "outputs": [],
   "source": [
    "from functools import cache\n",
    "\n",
    "class Solution:\n",
    "    def minInsertions(self, s: str) -> int:\n",
    "        @cache\n",
    "        def check(s):\n",
    "            if s == s[::-1]:\n",
    "                return 0\n",
    "            if s[0] == s[-1]:\n",
    "                return check(s[1:-1])\n",
    "            \n",
    "            return 1 + min(check(s[1:]), check(s[:-1]))\n",
    "        \n",
    "        return check(s)\n",
    "            "
   ]
  },
  {
   "cell_type": "code",
   "execution_count": 15,
   "id": "5d12644f-b9eb-45bb-a01e-2d59fbcd3220",
   "metadata": {},
   "outputs": [],
   "source": [
    "s = Solution()"
   ]
  },
  {
   "cell_type": "code",
   "execution_count": 16,
   "id": "695cc57f-6766-404e-b02d-f84a83794fac",
   "metadata": {},
   "outputs": [
    {
     "data": {
      "text/plain": [
       "0"
      ]
     },
     "execution_count": 16,
     "metadata": {},
     "output_type": "execute_result"
    }
   ],
   "source": [
    "s.minInsertions(\"zzazz\")"
   ]
  },
  {
   "cell_type": "code",
   "execution_count": 17,
   "id": "a4f8c684-6c99-4611-b62e-6c01bdb9f643",
   "metadata": {},
   "outputs": [
    {
     "data": {
      "text/plain": [
       "2"
      ]
     },
     "execution_count": 17,
     "metadata": {},
     "output_type": "execute_result"
    }
   ],
   "source": [
    "s.minInsertions(\"mbadm\")"
   ]
  },
  {
   "cell_type": "code",
   "execution_count": null,
   "id": "67cec4da-e78a-4b14-805e-de9295f7ac33",
   "metadata": {},
   "outputs": [],
   "source": []
  }
 ],
 "metadata": {
  "kernelspec": {
   "display_name": "common",
   "language": "python",
   "name": "common"
  },
  "language_info": {
   "codemirror_mode": {
    "name": "ipython",
    "version": 3
   },
   "file_extension": ".py",
   "mimetype": "text/x-python",
   "name": "python",
   "nbconvert_exporter": "python",
   "pygments_lexer": "ipython3",
   "version": "3.9.15"
  }
 },
 "nbformat": 4,
 "nbformat_minor": 5
}
