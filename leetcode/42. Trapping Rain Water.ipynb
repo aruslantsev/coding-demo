{
 "cells": [
  {
   "attachments": {
    "d39de316-de64-4965-8127-afcd122137a1.png": {
     "image/png": "[encoded data removed]"
    }
   },
   "cell_type": "markdown",
   "id": "7ddfdb12-9614-467a-85af-c6c223573abb",
   "metadata": {},
   "source": [
    "Given n non-negative integers representing an elevation map where the width of each bar is 1, compute how much water it can trap after raining.\n",
    "\n",
    " \n",
    "\n",
    "Example 1:\n",
    "\n",
    "![изображение.png](attachment:d39de316-de64-4965-8127-afcd122137a1.png)\n",
    "\n",
    "Input: height = [0,1,0,2,1,0,1,3,2,1,2,1]\n",
    "Output: 6\n",
    "Explanation: The above elevation map (black section) is represented by array [0,1,0,2,1,0,1,3,2,1,2,1]. In this case, 6 units of rain water (blue section) are being trapped.\n",
    "\n",
    "Example 2:\n",
    "\n",
    "Input: height = [4,2,0,3,2,5]\n",
    "Output: 9\n",
    "\n",
    " \n",
    "\n",
    "Constraints:\n",
    "\n",
    "    n == height.length\n",
    "    1 <= n <= 2 * 104\n",
    "    0 <= height[i] <= 105\n",
    "\n"
   ]
  },
  {
   "cell_type": "code",
   "execution_count": 12,
   "id": "bfecad1f-e059-411c-94f6-53d1b3c64f63",
   "metadata": {},
   "outputs": [],
   "source": [
    "from typing import List\n",
    "\n",
    "class Solution:\n",
    "    def trap(self, height: List[int]) -> int:\n",
    "        max_height = max(height)\n",
    "        height = [0] + height + [0]\n",
    "        \n",
    "        left_max = [0 for _ in range(len(height))]\n",
    "        right_max = [0 for _ in range(len(height))]\n",
    "        for i in range(1, len(height)):\n",
    "            left_max[i] = max(left_max[i - 1], height[i])\n",
    "        for i in range(len(height) - 1)[::-1]:\n",
    "            right_max[i] = max(right_max[i + 1], height[i])\n",
    "            \n",
    "        ans = 0\n",
    "        for i, height in enumerate(height):\n",
    "            ans += min(left_max[i], right_max[i]) - height\n",
    "        return ans"
   ]
  },
  {
   "cell_type": "code",
   "execution_count": 15,
   "id": "54462767-7057-4657-bb5e-db96f9d34c0d",
   "metadata": {},
   "outputs": [],
   "source": [
    "class Solution:\n",
    "    def trap(self, height: List[int]) -> int:\n",
    "        walls = {}\n",
    "        dec_mono_stack = []\n",
    "        \n",
    "        for i, v in enumerate(height):\n",
    "            while dec_mono_stack and v > height[dec_mono_stack[-1]]:\n",
    "                mid_index = dec_mono_stack.pop()\n",
    "                if not dec_mono_stack:\n",
    "                    # no left wall, can't trap\n",
    "                    break\n",
    "                left_wall_i = dec_mono_stack[-1]\n",
    "                right_wall_i = i\n",
    "                height_val = min(height[left_wall_i], height[right_wall_i]) - height[mid_index]\n",
    "                walls[(left_wall_i, right_wall_i)] = height_val * (right_wall_i - left_wall_i - 1)\n",
    "                \n",
    "            dec_mono_stack.append(i)\n",
    "                \n",
    "        return sum(walls.values())"
   ]
  },
  {
   "cell_type": "code",
   "execution_count": 21,
   "id": "a0d2f216-8325-4d36-83f8-3fc61c613d16",
   "metadata": {},
   "outputs": [
    {
     "name": "stdout",
     "output_type": "stream",
     "text": [
      "[]\n"
     ]
    }
   ],
   "source": [
    "s = Solution()\n",
    "s.trap([0,1,0,2,1,0,1,3,2,1,2,1])"
   ]
  },
  {
   "cell_type": "code",
   "execution_count": 17,
   "id": "345d4751-cf6c-4ac3-9c49-4a56bc6edea0",
   "metadata": {},
   "outputs": [
    {
     "data": {
      "text/plain": [
       "9"
      ]
     },
     "execution_count": 17,
     "metadata": {},
     "output_type": "execute_result"
    }
   ],
   "source": [
    "s.trap([4,2,0,3,2,5])"
   ]
  },
  {
   "cell_type": "code",
   "execution_count": null,
   "id": "0c2c467b-9f0f-4260-a8b8-0bcc3e5bb41f",
   "metadata": {},
   "outputs": [],
   "source": []
  }
 ],
 "metadata": {
  "kernelspec": {
   "display_name": "Python 3 (ipykernel)",
   "language": "python",
   "name": "python3"
  },
  "language_info": {
   "codemirror_mode": {
    "name": "ipython",
    "version": 3
   },
   "file_extension": ".py",
   "mimetype": "text/x-python",
   "name": "python",
   "nbconvert_exporter": "python",
   "pygments_lexer": "ipython3",
   "version": "3.9.12"
  }
 },
 "nbformat": 4,
 "nbformat_minor": 5
}
