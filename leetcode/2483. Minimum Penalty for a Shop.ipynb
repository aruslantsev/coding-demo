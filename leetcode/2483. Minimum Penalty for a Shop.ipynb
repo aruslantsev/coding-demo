{
 "cells": [
  {
   "cell_type": "markdown",
   "id": "bc9c28f7-1b94-4d81-9cdf-65966e15c653",
   "metadata": {},
   "source": [
    "You are given the customer visit log of a shop represented by a 0-indexed string customers consisting only of characters 'N' and 'Y':\n",
    "\n",
    "    if the ith character is 'Y', it means that customers come at the ith hour\n",
    "    whereas 'N' indicates that no customers come at the ith hour.\n",
    "\n",
    "If the shop closes at the jth hour (0 <= j <= n), the penalty is calculated as follows:\n",
    "\n",
    "    For every hour when the shop is open and no customers come, the penalty increases by 1.\n",
    "    For every hour when the shop is closed and customers come, the penalty increases by 1.\n",
    "\n",
    "Return the earliest hour at which the shop must be closed to incur a minimum penalty.\n",
    "\n",
    "Note that if a shop closes at the jth hour, it means the shop is closed at the hour j.\n",
    "\n",
    " \n",
    "\n",
    "Example 1:\n",
    "\n",
    "Input: customers = \"YYNY\"\n",
    "Output: 2\n",
    "Explanation: \n",
    "- Closing the shop at the 0th hour incurs in 1+1+0+1 = 3 penalty.\n",
    "- Closing the shop at the 1st hour incurs in 0+1+0+1 = 2 penalty.\n",
    "- Closing the shop at the 2nd hour incurs in 0+0+0+1 = 1 penalty.\n",
    "- Closing the shop at the 3rd hour incurs in 0+0+1+1 = 2 penalty.\n",
    "- Closing the shop at the 4th hour incurs in 0+0+1+0 = 1 penalty.\n",
    "Closing the shop at 2nd or 4th hour gives a minimum penalty. Since 2 is earlier, the optimal closing time is 2.\n",
    "\n",
    "Example 2:\n",
    "\n",
    "Input: customers = \"NNNNN\"\n",
    "Output: 0\n",
    "Explanation: It is best to close the shop at the 0th hour as no customers arrive.\n",
    "\n",
    "Example 3:\n",
    "\n",
    "Input: customers = \"YYYY\"\n",
    "Output: 4\n",
    "Explanation: It is best to close the shop at the 4th hour as customers arrive at each hour.\n",
    "\n",
    " \n",
    "\n",
    "Constraints:\n",
    "\n",
    "    1 <= customers.length <= 105\n",
    "    customers consists only of characters 'Y' and 'N'.\n",
    "\n"
   ]
  },
  {
   "cell_type": "code",
   "execution_count": null,
   "id": "98bfd328-d1d9-4511-82cb-6bb20c48ce8c",
   "metadata": {},
   "outputs": [],
   "source": [
    "class Solution:\n",
    "    def bestClosingTime(self, customers: str) -> int:\n",
    "        cur_penalty = min_penalty = customers.count('Y')\n",
    "        earliest_hour = 0\n",
    "        \n",
    "        for i, ch in enumerate(customers):\n",
    "            # If status in hour i is 'Y', moving it to open hours decrement\n",
    "            # penalty by 1. Otherwise, moving 'N' to open hours increment\n",
    "            # penatly by 1.\n",
    "            if ch == 'Y':\n",
    "                cur_penalty -= 1\n",
    "            else:\n",
    "                cur_penalty += 1\n",
    "\n",
    "            # Update earliest_hour if a smaller penatly is encountered\n",
    "            if cur_penalty < min_penalty:\n",
    "                earliest_hour = i + 1\n",
    "                min_penalty = cur_penalty\n",
    "                \n",
    "        return earliest_hour\n"
   ]
  }
 ],
 "metadata": {
  "kernelspec": {
   "display_name": "Python 3 (ipykernel)",
   "language": "python",
   "name": "python3"
  },
  "language_info": {
   "codemirror_mode": {
    "name": "ipython",
    "version": 3
   },
   "file_extension": ".py",
   "mimetype": "text/x-python",
   "name": "python",
   "nbconvert_exporter": "python",
   "pygments_lexer": "ipython3",
   "version": "3.10.11"
  }
 },
 "nbformat": 4,
 "nbformat_minor": 5
}
