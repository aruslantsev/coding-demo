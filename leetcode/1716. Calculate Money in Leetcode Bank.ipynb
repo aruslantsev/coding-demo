{
 "cells": [
  {
   "cell_type": "markdown",
   "id": "d1b64948-8ad9-4480-bfdf-ee4bfce407fa",
   "metadata": {},
   "source": [
    "Hercy wants to save money for his first car. He puts money in the Leetcode bank every day.\n",
    "\n",
    "He starts by putting in $1 on Monday, the first day. Every day from Tuesday to Sunday, he will put in $1 more than the day before. On every subsequent Monday, he will put in $1 more than the previous Monday.\n",
    "\n",
    "Given n, return the total amount of money he will have in the Leetcode bank at the end of the nth day.\n",
    "\n",
    " \n",
    "\n",
    "Example 1:\n",
    "\n",
    "Input: n = 4\n",
    "Output: 10\n",
    "Explanation: After the 4th day, the total is 1 + 2 + 3 + 4 = 10.\n",
    "\n",
    "Example 2:\n",
    "\n",
    "Input: n = 10\n",
    "Output: 37\n",
    "Explanation: After the 10th day, the total is (1 + 2 + 3 + 4 + 5 + 6 + 7) + (2 + 3 + 4) = 37. Notice that on the 2nd Monday, Hercy only puts in $2.\n",
    "\n",
    "Example 3:\n",
    "\n",
    "Input: n = 20\n",
    "Output: 96\n",
    "Explanation: After the 20th day, the total is (1 + 2 + 3 + 4 + 5 + 6 + 7) + (2 + 3 + 4 + 5 + 6 + 7 + 8) + (3 + 4 + 5 + 6 + 7 + 8) = 96.\n",
    "\n",
    " \n",
    "\n",
    "Constraints:\n",
    "\n",
    "    1 <= n <= 1000\n",
    "\n"
   ]
  },
  {
   "cell_type": "code",
   "execution_count": null,
   "id": "24b83052-34f2-4429-85b9-1c59f72a0fd0",
   "metadata": {},
   "outputs": [],
   "source": [
    "class Solution:\n",
    "    def totalMoney(self, n: int) -> int:\n",
    "        ans = 0\n",
    "        monday = 1\n",
    "        \n",
    "        while n > 0:\n",
    "            for day in range(min(n, 7)):\n",
    "                ans += monday + day\n",
    "            \n",
    "            n -= 7\n",
    "            monday += 1\n",
    "\n",
    "        return ans\n",
    "        "
   ]
  },
  {
   "cell_type": "code",
   "execution_count": null,
   "id": "5f419cbb-7f00-4360-a81a-027b312dbfa7",
   "metadata": {},
   "outputs": [],
   "source": [
    "class Solution:\n",
    "    def totalMoney(self, n: int) -> int:\n",
    "        week_money = 0\n",
    "        ans = 0\n",
    "        for day in range(n):\n",
    "            if day % 7 == 0:\n",
    "                week_money += 1\n",
    "                day_money = week_money\n",
    "            ans += day_money\n",
    "            day_money += 1\n",
    "        return ans"
   ]
  },
  {
   "cell_type": "code",
   "execution_count": null,
   "id": "b367f425-3e9a-46dd-882c-4d1933e65c62",
   "metadata": {},
   "outputs": [],
   "source": [
    "class Solution:\n",
    "    def totalMoney(self, n: int) -> int:\n",
    "        k = n // 7\n",
    "        F = 28\n",
    "        L = 28 + (k - 1) * 7\n",
    "        arithmetic_sum = k * (F + L) // 2\n",
    "        \n",
    "        monday = 1 + k\n",
    "        final_week = 0\n",
    "        for day in range(n % 7):\n",
    "            final_week += monday + day\n",
    "        \n",
    "        return arithmetic_sum + final_week"
   ]
  }
 ],
 "metadata": {
  "kernelspec": {
   "display_name": "Python 3 (ipykernel)",
   "language": "python",
   "name": "python3"
  },
  "language_info": {
   "codemirror_mode": {
    "name": "ipython",
    "version": 3
   },
   "file_extension": ".py",
   "mimetype": "text/x-python",
   "name": "python",
   "nbconvert_exporter": "python",
   "pygments_lexer": "ipython3",
   "version": "3.13.5"
  }
 },
 "nbformat": 4,
 "nbformat_minor": 5
}
