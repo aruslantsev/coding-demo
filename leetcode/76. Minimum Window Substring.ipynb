{
 "cells": [
  {
   "cell_type": "markdown",
   "id": "ac0e967e-5c17-44dc-870b-b2e577cea170",
   "metadata": {},
   "source": [
    "Given two strings s and t of lengths m and n respectively, return the minimum window substring of s such that every character in t (including duplicates) is included in the window. If there is no such substring, return the empty string \"\".\n",
    "\n",
    "The testcases will be generated such that the answer is unique.\n",
    "\n",
    "A substring is a contiguous sequence of characters within the string.\n",
    "\n",
    " \n",
    "\n",
    "Example 1:\n",
    "\n",
    "Input: s = \"ADOBECODEBANC\", t = \"ABC\"\n",
    "Output: \"BANC\"\n",
    "Explanation: The minimum window substring \"BANC\" includes 'A', 'B', and 'C' from string t.\n",
    "\n",
    "Example 2:\n",
    "\n",
    "Input: s = \"a\", t = \"a\"\n",
    "Output: \"a\"\n",
    "Explanation: The entire string s is the minimum window.\n",
    "\n",
    "Example 3:\n",
    "\n",
    "Input: s = \"a\", t = \"aa\"\n",
    "Output: \"\"\n",
    "Explanation: Both 'a's from t must be included in the window.\n",
    "Since the largest window of s only has one 'a', return empty string.\n",
    "\n",
    " \n",
    "\n",
    "Constraints:\n",
    "\n",
    "    m == s.length\n",
    "    n == t.length\n",
    "    1 <= m, n <= 105\n",
    "    s and t consist of uppercase and lowercase English letters.\n"
   ]
  },
  {
   "cell_type": "code",
   "execution_count": 48,
   "id": "24c25465-aa9d-46ad-adb0-e41e6aadabe6",
   "metadata": {},
   "outputs": [],
   "source": [
    "from collections import Counter\n",
    "from functools import cache\n",
    "\n",
    "class Solution:\n",
    "    def minWindow(self, s: str, t: str) -> str:\n",
    "        if len(t) == 0:\n",
    "            return \"\"\n",
    "        \n",
    "        l = 0\n",
    "        r = 0\n",
    "        counts = Counter(t)\n",
    "        symbols = list(counts.keys())\n",
    "        w_counts = {sym: 0 for sym in symbols}\n",
    "        substr = None\n",
    "        \n",
    "        def compare_dicts(substr, template):\n",
    "            for key in symbols:\n",
    "                if substr[key] < template[key]:\n",
    "                    return False\n",
    "            \n",
    "            return True\n",
    "        \n",
    "        if not compare_dicts(Counter(s), counts):\n",
    "            return \"\"\n",
    "        \n",
    "        while r < len(s):\n",
    "            if s[r] in symbols:\n",
    "                w_counts[s[r]] += 1\n",
    "            r += 1\n",
    "            while compare_dicts(w_counts, counts):\n",
    "                if not substr:\n",
    "                    substr = s[l:r]\n",
    "                if len(substr) > r - l:\n",
    "                    substr = s[l:r]\n",
    "                if s[l] in symbols:\n",
    "                    w_counts[s[l]] -= 1\n",
    "                l += 1\n",
    "                \n",
    "                \n",
    "        return substr"
   ]
  },
  {
   "cell_type": "code",
   "execution_count": 49,
   "id": "06abed35-ded4-4557-a33d-262bc707985b",
   "metadata": {},
   "outputs": [
    {
     "data": {
      "text/plain": [
       "'BANC'"
      ]
     },
     "execution_count": 49,
     "metadata": {},
     "output_type": "execute_result"
    }
   ],
   "source": [
    "s = Solution()\n",
    "s.minWindow(s=\"ADOBECODEBANC\", t=\"ABC\" )"
   ]
  },
  {
   "cell_type": "code",
   "execution_count": 50,
   "id": "90b30f2a-10c9-49d0-a1ba-10d7829f2166",
   "metadata": {},
   "outputs": [
    {
     "data": {
      "text/plain": [
       "'a'"
      ]
     },
     "execution_count": 50,
     "metadata": {},
     "output_type": "execute_result"
    }
   ],
   "source": [
    "s.minWindow(\"a\", \"a\")"
   ]
  },
  {
   "cell_type": "code",
   "execution_count": 51,
   "id": "06a1bb29-dd79-446d-a9de-dc869331b805",
   "metadata": {},
   "outputs": [
    {
     "data": {
      "text/plain": [
       "''"
      ]
     },
     "execution_count": 51,
     "metadata": {},
     "output_type": "execute_result"
    }
   ],
   "source": [
    "s.minWindow(\"a\", \"aa\")"
   ]
  },
  {
   "cell_type": "code",
   "execution_count": 52,
   "id": "ae68c69e-1617-424e-8565-18e311632526",
   "metadata": {},
   "outputs": [
    {
     "data": {
      "text/plain": [
       "'a'"
      ]
     },
     "execution_count": 52,
     "metadata": {},
     "output_type": "execute_result"
    }
   ],
   "source": [
    "s.minWindow(\"ab\", \"a\")"
   ]
  },
  {
   "cell_type": "code",
   "execution_count": null,
   "id": "5ffab66d-c900-40cd-9a6c-914e1a3b7e21",
   "metadata": {},
   "outputs": [],
   "source": []
  }
 ],
 "metadata": {
  "kernelspec": {
   "display_name": "Python 3 (ipykernel)",
   "language": "python",
   "name": "python3"
  },
  "language_info": {
   "codemirror_mode": {
    "name": "ipython",
    "version": 3
   },
   "file_extension": ".py",
   "mimetype": "text/x-python",
   "name": "python",
   "nbconvert_exporter": "python",
   "pygments_lexer": "ipython3",
   "version": "3.9.10"
  }
 },
 "nbformat": 4,
 "nbformat_minor": 5
}
