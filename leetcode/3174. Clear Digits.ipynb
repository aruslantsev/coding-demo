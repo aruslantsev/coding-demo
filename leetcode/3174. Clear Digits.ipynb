{
 "cells": [
  {
   "cell_type": "markdown",
   "id": "2e16ceff-3000-4130-b2d7-5ab4cb903e25",
   "metadata": {},
   "source": [
    "You are given a string s.\n",
    "\n",
    "Your task is to remove all digits by doing this operation repeatedly:\n",
    "\n",
    "    Delete the first digit and the closest non-digit character to its left.\n",
    "\n",
    "Return the resulting string after removing all digits.\n",
    "\n",
    " \n",
    "\n",
    "Example 1:\n",
    "\n",
    "Input: s = \"abc\"\n",
    "\n",
    "Output: \"abc\"\n",
    "\n",
    "Explanation:\n",
    "\n",
    "There is no digit in the string.\n",
    "\n",
    "Example 2:\n",
    "\n",
    "Input: s = \"cb34\"\n",
    "\n",
    "Output: \"\"\n",
    "\n",
    "Explanation:\n",
    "\n",
    "First, we apply the operation on s[2], and s becomes \"c4\".\n",
    "\n",
    "Then we apply the operation on s[1], and s becomes \"\".\n",
    "\n",
    " \n",
    "\n",
    "Constraints:\n",
    "\n",
    "    1 <= s.length <= 100\n",
    "    s consists only of lowercase English letters and digits.\n",
    "    The input is generated such that it is possible to delete all digits.\n",
    "\n"
   ]
  },
  {
   "cell_type": "code",
   "execution_count": null,
   "id": "1d9e959e-b992-4421-ae53-89b60ab1f192",
   "metadata": {},
   "outputs": [],
   "source": [
    "class Solution:\n",
    "    def clearDigits(self, s: str) -> str:\n",
    "        stack = []\n",
    "        for sym in s:\n",
    "            if not sym.isdigit():\n",
    "                stack.append(sym)\n",
    "            elif stack:\n",
    "                stack.pop()\n",
    "        return \"\".join(stack)"
   ]
  }
 ],
 "metadata": {
  "kernelspec": {
   "display_name": "Python 3 (ipykernel)",
   "language": "python",
   "name": "python3"
  },
  "language_info": {
   "codemirror_mode": {
    "name": "ipython",
    "version": 3
   },
   "file_extension": ".py",
   "mimetype": "text/x-python",
   "name": "python",
   "nbconvert_exporter": "python",
   "pygments_lexer": "ipython3",
   "version": "3.12.7"
  }
 },
 "nbformat": 4,
 "nbformat_minor": 5
}
