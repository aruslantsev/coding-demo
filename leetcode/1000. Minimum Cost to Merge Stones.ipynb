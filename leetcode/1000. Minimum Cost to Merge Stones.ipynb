{
 "cells": [
  {
   "cell_type": "markdown",
   "id": "f4230ab9-b3d5-47c9-877f-22dbff6c2fce",
   "metadata": {},
   "source": [
    "There are n piles of stones arranged in a row. The ith pile has stones[i] stones.\n",
    "\n",
    "A move consists of merging exactly k consecutive piles into one pile, and the cost of this move is equal to the total number of stones in these k piles.\n",
    "\n",
    "Return the minimum cost to merge all piles of stones into one pile. If it is impossible, return -1.\n",
    "\n",
    " \n",
    "\n",
    "Example 1:\n",
    "\n",
    "Input: stones = [3,2,4,1], k = 2\n",
    "Output: 20\n",
    "Explanation: We start with [3, 2, 4, 1].\n",
    "We merge [3, 2] for a cost of 5, and we are left with [5, 4, 1].\n",
    "We merge [4, 1] for a cost of 5, and we are left with [5, 5].\n",
    "We merge [5, 5] for a cost of 10, and we are left with [10].\n",
    "The total cost was 20, and this is the minimum possible.\n",
    "\n",
    "Example 2:\n",
    "\n",
    "Input: stones = [3,2,4,1], k = 3\n",
    "Output: -1\n",
    "Explanation: After any merge operation, there are 2 piles left, and we can't merge anymore.  So the task is impossible.\n",
    "\n",
    "Example 3:\n",
    "\n",
    "Input: stones = [3,5,1,2,6], k = 3\n",
    "Output: 25\n",
    "Explanation: We start with [3, 5, 1, 2, 6].\n",
    "We merge [5, 1, 2] for a cost of 8, and we are left with [3, 8, 6].\n",
    "We merge [3, 8, 6] for a cost of 17, and we are left with [17].\n",
    "The total cost was 25, and this is the minimum possible.\n",
    "\n",
    " \n",
    "\n",
    "Constraints:\n",
    "\n",
    "    n == stones.length\n",
    "    1 <= n <= 30\n",
    "    1 <= stones[i] <= 100\n",
    "    2 <= k <= 30\n",
    "\n"
   ]
  },
  {
   "cell_type": "code",
   "execution_count": 46,
   "id": "37cf7fea-6bc7-4d6c-ad4d-9e00a4a2dd43",
   "metadata": {},
   "outputs": [],
   "source": [
    "from typing import List\n",
    "\n",
    "class Solution:\n",
    "    def mergeStones(self, stones: List[int], k: int) -> int:\n",
    "        if (len(stones) - 1) % (k - 1) != 0:\n",
    "            return -1\n",
    "        \n",
    "        sums = []\n",
    "        for i in range(len(stones) - k + 1):\n",
    "            sums.append(sum(stones[i:i + k]))\n",
    "        \n",
    "        cost = 0\n",
    "        while len(stones) > 1:\n",
    "            idx = sums.index(min(sums))\n",
    "            cost += sums[idx]\n",
    "            stones[idx] = sum(stones[idx:idx + k])\n",
    "            for i in range(1, k)[::-1]:\n",
    "                del stones[idx + i]\n",
    "                if idx + i < len(sums):\n",
    "                    del sums[idx + i]\n",
    "                sums = []\n",
    "                for j in range(len(stones) - k + 1):\n",
    "                    sums.append(sum(stones[j:j + k]))\n",
    "\n",
    "        return cost"
   ]
  },
  {
   "cell_type": "code",
   "execution_count": 1,
   "id": "0e3e6383-4237-431b-a66a-068861c8dd56",
   "metadata": {},
   "outputs": [],
   "source": [
    "from typing import List\n",
    "from functools import cache\n",
    "\n",
    "class Solution:\n",
    "    def mergeStones(self, stones: List[int], k: int) -> int:\n",
    "        if (len(stones) - 1) % (k - 1) != 0:\n",
    "            return -1\n",
    "        \n",
    "        @cache\n",
    "        def merge_stones(stones, cost, k):\n",
    "            if len(stones) == 1:\n",
    "                return cost\n",
    "            \n",
    "            stones = list(stones)\n",
    "            costs = []\n",
    "            for i in range(len(stones) - k + 1):\n",
    "                stones_curr = stones.copy()\n",
    "                cost_curr = sum(stones[i:i + k])\n",
    "                for j in range(i + 1, i + k)[::-1]:\n",
    "                    del stones_curr[j]\n",
    "                stones_curr[i] = cost_curr\n",
    "                costs.append(merge_stones(tuple(stones_curr), cost + cost_curr, k))\n",
    "\n",
    "            return min(costs)\n",
    "        \n",
    "        return merge_stones(tuple(stones), 0, k)\n",
    "        "
   ]
  },
  {
   "cell_type": "code",
   "execution_count": 9,
   "id": "d132e906-55b8-4cc4-b10b-9b2d7814e507",
   "metadata": {},
   "outputs": [],
   "source": [
    "from itertools import accumulate\n",
    "from functools import lru_cache\n",
    "\n",
    "class Solution:\n",
    "    def mergeStones(self, stones: List[int], k: int) -> int:\n",
    "        #every merge reduces number of stones by k - 1\n",
    "        if (len(stones) - 1) % (k - 1) != 0: \n",
    "            return -1\n",
    "        acc = list(accumulate(stones))\n",
    "        sumrange = lambda i, j: acc[j] - (acc[i - 1] if i > 0 else 0)\n",
    "        \n",
    "        # cost to merge stones[i:j + 1] into n piles\n",
    "        @lru_cache(None)\n",
    "        def dp(i, j, n):\n",
    "            lenrange = j - i + 1\n",
    "            if lenrange == n: \n",
    "                return 0\n",
    "            if lenrange < n or (lenrange - n) % (k - 1) != 0: \n",
    "                return 1000000\n",
    "            if n == 1: \n",
    "                return dp(i, j, k) + sumrange(i, j)\n",
    "            \n",
    "            return min(dp(i, t, 1) + dp(t + 1, j, n - 1) for t in range(i, j))\n",
    "        return dp(0, len(stones) - 1, 1)"
   ]
  },
  {
   "cell_type": "code",
   "execution_count": 11,
   "id": "687e98a4-0b98-449e-8be6-ec3af1cfb074",
   "metadata": {},
   "outputs": [],
   "source": [
    "from math import inf\n",
    "from functools import cache\n",
    "\n",
    "class Solution:\n",
    "    def mergeStones(self, stones: List[int], k: int) -> int:\n",
    "        if (len(stones) - 1) % (k - 1): \n",
    "            return -1 # impossible\n",
    "        \n",
    "        prefix = [0]\n",
    "        for x in stones: \n",
    "            prefix.append(prefix[-1] + x)\n",
    "        \n",
    "        @cache\n",
    "        def fn(lo, hi): \n",
    "            \"\"\"Return min cost of merging stones[lo:hi].\"\"\"\n",
    "            if hi - lo < k: \n",
    "                return 0 # not enough stones\n",
    "            ans = inf \n",
    "            for mid in range(lo + 1, hi, k - 1): \n",
    "                ans = min(ans, fn(lo, mid) + fn(mid, hi))\n",
    "            if (hi - lo - 1) % (k - 1) == 0: \n",
    "                ans += prefix[hi] - prefix[lo]\n",
    "            return ans \n",
    "        \n",
    "        return fn(0, len(stones))"
   ]
  },
  {
   "cell_type": "code",
   "execution_count": 12,
   "id": "74caffe6-a2f0-48d7-82c6-e5b472fa70a8",
   "metadata": {},
   "outputs": [
    {
     "data": {
      "text/plain": [
       "25"
      ]
     },
     "execution_count": 12,
     "metadata": {},
     "output_type": "execute_result"
    }
   ],
   "source": [
    "s = Solution()\n",
    "s.mergeStones([3, 5, 1, 2, 6], 3)"
   ]
  },
  {
   "cell_type": "code",
   "execution_count": 13,
   "id": "a5788639-056d-470e-8d20-6281850ea2c7",
   "metadata": {},
   "outputs": [
    {
     "data": {
      "text/plain": [
       "8"
      ]
     },
     "execution_count": 13,
     "metadata": {},
     "output_type": "execute_result"
    }
   ],
   "source": [
    "s.mergeStones([5, 1, 2], 3)"
   ]
  },
  {
   "cell_type": "code",
   "execution_count": 14,
   "id": "b686207c-8aa6-416d-902f-e39622887233",
   "metadata": {},
   "outputs": [
    {
     "data": {
      "text/plain": [
       "40"
      ]
     },
     "execution_count": 14,
     "metadata": {},
     "output_type": "execute_result"
    }
   ],
   "source": [
    "s.mergeStones([6,4,4,6], 2)"
   ]
  },
  {
   "cell_type": "code",
   "execution_count": 15,
   "id": "531201f7-5330-4d23-b9d4-6d271feac6b6",
   "metadata": {},
   "outputs": [
    {
     "data": {
      "text/plain": [
       "1957"
      ]
     },
     "execution_count": 15,
     "metadata": {},
     "output_type": "execute_result"
    }
   ],
   "source": [
    "s.mergeStones([69,39,79,78,16,6,36,97,79,27,14,31,4], 2)"
   ]
  },
  {
   "cell_type": "code",
   "execution_count": 6,
   "id": "a7557af3-a4de-49e1-8bc2-2c99ac695eb9",
   "metadata": {},
   "outputs": [
    {
     "data": {
      "text/plain": [
       "3152"
      ]
     },
     "execution_count": 6,
     "metadata": {},
     "output_type": "execute_result"
    }
   ],
   "source": [
    "s.mergeStones([29,59,31,7,51,99,47,40,24,20,98,41,42,81,92,55], 2)"
   ]
  },
  {
   "cell_type": "code",
   "execution_count": null,
   "id": "1332405a-5554-4523-9689-099934290190",
   "metadata": {},
   "outputs": [],
   "source": []
  }
 ],
 "metadata": {
  "kernelspec": {
   "display_name": "Python 3 (ipykernel)",
   "language": "python",
   "name": "python3"
  },
  "language_info": {
   "codemirror_mode": {
    "name": "ipython",
    "version": 3
   },
   "file_extension": ".py",
   "mimetype": "text/x-python",
   "name": "python",
   "nbconvert_exporter": "python",
   "pygments_lexer": "ipython3",
   "version": "3.9.12"
  }
 },
 "nbformat": 4,
 "nbformat_minor": 5
}
