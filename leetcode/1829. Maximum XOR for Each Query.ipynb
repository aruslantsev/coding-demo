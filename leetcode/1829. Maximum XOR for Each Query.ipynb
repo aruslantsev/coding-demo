{
 "cells": [
  {
   "cell_type": "markdown",
   "id": "a5c42b1e-7042-40f8-8fe2-ed10f497ba4e",
   "metadata": {},
   "source": [
    "You are given a sorted array nums of n non-negative integers and an integer maximumBit. You want to perform the following query n times:\n",
    "\n",
    "    Find a non-negative integer k < 2maximumBit such that nums[0] XOR nums[1] XOR ... XOR nums[nums.length-1] XOR k is maximized. k is the answer to the ith query.\n",
    "    Remove the last element from the current array nums.\n",
    "\n",
    "Return an array answer, where answer[i] is the answer to the ith query.\n",
    "\n",
    " \n",
    "\n",
    "Example 1:\n",
    "\n",
    "Input: nums = [0,1,1,3], maximumBit = 2\n",
    "Output: [0,3,2,3]\n",
    "Explanation: The queries are answered as follows:\n",
    "1st query: nums = [0,1,1,3], k = 0 since 0 XOR 1 XOR 1 XOR 3 XOR 0 = 3.\n",
    "2nd query: nums = [0,1,1], k = 3 since 0 XOR 1 XOR 1 XOR 3 = 3.\n",
    "3rd query: nums = [0,1], k = 2 since 0 XOR 1 XOR 2 = 3.\n",
    "4th query: nums = [0], k = 3 since 0 XOR 3 = 3.\n",
    "\n",
    "Example 2:\n",
    "\n",
    "Input: nums = [2,3,4,7], maximumBit = 3\n",
    "Output: [5,2,6,5]\n",
    "Explanation: The queries are answered as follows:\n",
    "1st query: nums = [2,3,4,7], k = 5 since 2 XOR 3 XOR 4 XOR 7 XOR 5 = 7.\n",
    "2nd query: nums = [2,3,4], k = 2 since 2 XOR 3 XOR 4 XOR 2 = 7.\n",
    "3rd query: nums = [2,3], k = 6 since 2 XOR 3 XOR 6 = 7.\n",
    "4th query: nums = [2], k = 5 since 2 XOR 5 = 7.\n",
    "\n",
    "Example 3:\n",
    "\n",
    "Input: nums = [0,1,2,2,5,7], maximumBit = 3\n",
    "Output: [4,3,6,4,6,7]\n",
    "\n",
    " \n",
    "\n",
    "Constraints:\n",
    "\n",
    "    nums.length == n\n",
    "    1 <= n <= 105\n",
    "    1 <= maximumBit <= 20\n",
    "    0 <= nums[i] < 2maximumBit\n",
    "    nums​​​ is sorted in ascending order.\n",
    "\n"
   ]
  },
  {
   "cell_type": "code",
   "execution_count": null,
   "id": "f0962950-5c7a-48d9-8d82-bc2a829a8935",
   "metadata": {},
   "outputs": [],
   "source": [
    "class Solution:\n",
    "    def getMaximumXor(self, nums: List[int], maximumBit: int) -> List[int]:\n",
    "        prefix_xor = [0] * len(nums)\n",
    "        prefix_xor[0] = nums[0]\n",
    "        for i in range(1, len(nums)):\n",
    "            prefix_xor[i] = prefix_xor[i - 1] ^ nums[i]\n",
    "        ans = [0] * len(nums)\n",
    "\n",
    "        mask = (1 << maximumBit) - 1\n",
    "\n",
    "        for i in range(len(nums)):\n",
    "            # find k to maximize value\n",
    "            current_xor = prefix_xor[len(prefix_xor) - 1 - i]\n",
    "            ans[i] = current_xor ^ mask\n",
    "\n",
    "        return ans"
   ]
  }
 ],
 "metadata": {
  "kernelspec": {
   "display_name": "Python 3 (ipykernel)",
   "language": "python",
   "name": "python3"
  },
  "language_info": {
   "codemirror_mode": {
    "name": "ipython",
    "version": 3
   },
   "file_extension": ".py",
   "mimetype": "text/x-python",
   "name": "python",
   "nbconvert_exporter": "python",
   "pygments_lexer": "ipython3",
   "version": "3.12.7"
  }
 },
 "nbformat": 4,
 "nbformat_minor": 5
}
