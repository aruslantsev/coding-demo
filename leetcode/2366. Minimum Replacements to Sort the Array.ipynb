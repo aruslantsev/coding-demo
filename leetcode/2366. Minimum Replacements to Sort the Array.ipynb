{
 "cells": [
  {
   "cell_type": "markdown",
   "id": "8852632a-e7d6-4b18-a9a3-c6585bd34677",
   "metadata": {},
   "source": [
    "You are given a 0-indexed integer array nums. In one operation you can replace any element of the array with any two elements that sum to it.\n",
    "\n",
    "    For example, consider nums = [5,6,7]. In one operation, we can replace nums[1] with 2 and 4 and convert nums to [5,2,4,7].\n",
    "\n",
    "Return the minimum number of operations to make an array that is sorted in non-decreasing order.\n",
    "\n",
    " \n",
    "\n",
    "Example 1:\n",
    "\n",
    "Input: nums = [3,9,3]\n",
    "Output: 2\n",
    "Explanation: Here are the steps to sort the array in non-decreasing order:\n",
    "- From [3,9,3], replace the 9 with 3 and 6 so the array becomes [3,3,6,3]\n",
    "- From [3,3,6,3], replace the 6 with 3 and 3 so the array becomes [3,3,3,3,3]\n",
    "There are 2 steps to sort the array in non-decreasing order. Therefore, we return 2.\n",
    "\n",
    "Example 2:\n",
    "\n",
    "Input: nums = [1,2,3,4,5]\n",
    "Output: 0\n",
    "Explanation: The array is already in non-decreasing order. Therefore, we return 0. \n",
    "\n",
    " \n",
    "\n",
    "Constraints:\n",
    "\n",
    "    1 <= nums.length <= 105\n",
    "    1 <= nums[i] <= 109\n",
    "\n"
   ]
  },
  {
   "cell_type": "code",
   "execution_count": null,
   "id": "c71dea11-490f-4e96-aa32-3549b6d92ac2",
   "metadata": {},
   "outputs": [],
   "source": [
    "class Solution:\n",
    "    def minimumReplacement(self, nums: List[int]) -> int:\n",
    "        answer = 0\n",
    "        n = len(nums)\n",
    "\n",
    "        # Start from the second last element, as the last one is always sorted.\n",
    "        for i in range(n - 2, -1, -1):\n",
    "            # No need to break if they are already in order.\n",
    "            if nums[i] <= nums[i + 1]:\n",
    "                continue\n",
    "            \n",
    "            # Count how many elements are made from breaking nums[i].\n",
    "            num_elements = (nums[i] + nums[i + 1] - 1) // nums[i + 1]\n",
    "            \n",
    "            # It requires numElements - 1 replacement operations.\n",
    "            answer += num_elements - 1\n",
    "\n",
    "            # Maximize nums[i] after replacement.\n",
    "            nums[i] = nums[i] // num_elements\n",
    "\n",
    "        return answer"
   ]
  }
 ],
 "metadata": {
  "kernelspec": {
   "display_name": "common",
   "language": "python",
   "name": "common"
  },
  "language_info": {
   "codemirror_mode": {
    "name": "ipython",
    "version": 3
   },
   "file_extension": ".py",
   "mimetype": "text/x-python",
   "name": "python",
   "nbconvert_exporter": "python",
   "pygments_lexer": "ipython3",
   "version": "3.11.4"
  }
 },
 "nbformat": 4,
 "nbformat_minor": 5
}
