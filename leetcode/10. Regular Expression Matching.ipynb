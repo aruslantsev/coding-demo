{
 "cells": [
  {
   "cell_type": "markdown",
   "id": "410b907a-3925-41b1-87e9-46769c63d72c",
   "metadata": {},
   "source": [
    "Given an input string s and a pattern p, implement regular expression matching with support for '.' and '*' where:\n",
    "\n",
    "    '.' Matches any single character.​​​​\n",
    "    '*' Matches zero or more of the preceding element.\n",
    "\n",
    "The matching should cover the entire input string (not partial).\n",
    "\n",
    " \n",
    "\n",
    "Example 1:\n",
    "\n",
    "Input: s = \"aa\", p = \"a\"\n",
    "Output: false\n",
    "Explanation: \"a\" does not match the entire string \"aa\".\n",
    "\n",
    "Example 2:\n",
    "\n",
    "Input: s = \"aa\", p = \"a*\"\n",
    "Output: true\n",
    "Explanation: '*' means zero or more of the preceding element, 'a'. Therefore, by repeating 'a' once, it becomes \"aa\".\n",
    "\n",
    "Example 3:\n",
    "\n",
    "Input: s = \"ab\", p = \".*\"\n",
    "Output: true\n",
    "Explanation: \".*\" means \"zero or more (*) of any character (.)\".\n",
    "\n",
    " \n",
    "\n",
    "Constraints:\n",
    "\n",
    "    1 <= s.length <= 20\n",
    "    1 <= p.length <= 30\n",
    "    s contains only lowercase English letters.\n",
    "    p contains only lowercase English letters, '.', and '*'.\n",
    "    It is guaranteed for each appearance of the character '*', there will be a previous valid character to match.\n",
    "\n"
   ]
  },
  {
   "cell_type": "code",
   "execution_count": 198,
   "id": "ee0405b4-634a-4dc5-86ca-9ddf613f5091",
   "metadata": {},
   "outputs": [],
   "source": [
    "from functools import cache\n",
    "\n",
    "class Solution:\n",
    "    def isMatch(self, s: str, p: str) -> bool:\n",
    "        if p == \".*\":\n",
    "            return True\n",
    "        \n",
    "        @cache\n",
    "        def match(s, p):\n",
    "            # print(s, p)\n",
    "            # 'a*b*.*c*' -> '.*\n",
    "            if '.*' in p and len(p) % 2 == 0 and all(p[2 * i + 1] == '*' for i in range(len(p) // 2)):\n",
    "                return True\n",
    "            if len(s) == 0:\n",
    "                if len(p) == 0:\n",
    "                    return True\n",
    "                if len(p) % 2 == 0:\n",
    "                    return all(p[2 * i + 1] == '*' for i in range(len(p) // 2))\n",
    "            if len(s) == 0 or len(p) == 0:\n",
    "                return False\n",
    "            \n",
    "            if p[-1] == '.':\n",
    "                return match(s[:-1], p[:-1])\n",
    "            elif p[-1] != '*':\n",
    "                if s[-1] != p[-1]:\n",
    "                    return False\n",
    "                else:\n",
    "                    return match(s[:-1], p[:-1])\n",
    "            else:\n",
    "                rep = p[-2]\n",
    "                ans = [match(s, p[:-2]), match(s, p[:-1])]\n",
    "                i = 1\n",
    "                while (s[-i] == rep or rep == '.') and i < len(s):\n",
    "                    if rep != '.':\n",
    "                        ans.append(match(s[:-i], p[:-1]))\n",
    "                    else:\n",
    "                        ans.append(match(s[:-i], p[:-2]))\n",
    "                    i += 1\n",
    "\n",
    "                return any(ans)\n",
    "            \n",
    "        return match(s, p)"
   ]
  },
  {
   "cell_type": "code",
   "execution_count": 199,
   "id": "e2180b58-c0bb-499f-85cb-9f15fbdc7112",
   "metadata": {},
   "outputs": [
    {
     "data": {
      "text/plain": [
       "False"
      ]
     },
     "execution_count": 199,
     "metadata": {},
     "output_type": "execute_result"
    }
   ],
   "source": [
    "s = Solution()\n",
    "s.isMatch(\"aa\", \"a\")"
   ]
  },
  {
   "cell_type": "code",
   "execution_count": 200,
   "id": "c6470688-7c55-426e-a575-d907965c3b91",
   "metadata": {},
   "outputs": [
    {
     "data": {
      "text/plain": [
       "True"
      ]
     },
     "execution_count": 200,
     "metadata": {},
     "output_type": "execute_result"
    }
   ],
   "source": [
    "s.isMatch(\"aa\", \"a*\")"
   ]
  },
  {
   "cell_type": "code",
   "execution_count": 201,
   "id": "5e01026a-5a11-4385-8b5c-f3dfe51e0ad6",
   "metadata": {},
   "outputs": [
    {
     "data": {
      "text/plain": [
       "True"
      ]
     },
     "execution_count": 201,
     "metadata": {},
     "output_type": "execute_result"
    }
   ],
   "source": [
    "s.isMatch(\"ab\", '.*')"
   ]
  },
  {
   "cell_type": "code",
   "execution_count": 202,
   "id": "daad5d1e-3259-49f9-b39b-1e687dbe9e2b",
   "metadata": {},
   "outputs": [
    {
     "data": {
      "text/plain": [
       "True"
      ]
     },
     "execution_count": 202,
     "metadata": {},
     "output_type": "execute_result"
    }
   ],
   "source": [
    "s.isMatch(\"aab\", \"c*a*b\")"
   ]
  },
  {
   "cell_type": "code",
   "execution_count": 203,
   "id": "1f471adf-99ab-4e19-b6b9-16295a51f907",
   "metadata": {},
   "outputs": [
    {
     "data": {
      "text/plain": [
       "True"
      ]
     },
     "execution_count": 203,
     "metadata": {},
     "output_type": "execute_result"
    }
   ],
   "source": [
    "s.isMatch(\"mississippi\", \"mis*is*ip*.\")"
   ]
  },
  {
   "cell_type": "code",
   "execution_count": 204,
   "id": "ec482906-794b-4f89-b75c-d2cc2397d428",
   "metadata": {},
   "outputs": [
    {
     "data": {
      "text/plain": [
       "True"
      ]
     },
     "execution_count": 204,
     "metadata": {},
     "output_type": "execute_result"
    }
   ],
   "source": [
    "s.isMatch(\"aaa\", \"ab*ac*a\")"
   ]
  },
  {
   "cell_type": "code",
   "execution_count": 205,
   "id": "6e7d7eb0-8ffc-41e2-b23a-7e011241dfda",
   "metadata": {},
   "outputs": [
    {
     "data": {
      "text/plain": [
       "True"
      ]
     },
     "execution_count": 205,
     "metadata": {},
     "output_type": "execute_result"
    }
   ],
   "source": [
    "s.isMatch(\"abcdede\", \"ab.*de\")\n"
   ]
  },
  {
   "cell_type": "code",
   "execution_count": 206,
   "id": "f0ac0f32-fd73-42b3-b14e-18b320b496d8",
   "metadata": {},
   "outputs": [
    {
     "data": {
      "text/plain": [
       "True"
      ]
     },
     "execution_count": 206,
     "metadata": {},
     "output_type": "execute_result"
    }
   ],
   "source": [
    "s.isMatch(\"aaabaaaababcbccbaab\", \"c*c*.*c*a*..*c*\")\n"
   ]
  },
  {
   "cell_type": "code",
   "execution_count": 207,
   "id": "f3cb7405-c657-4d44-8085-d50eaaef4bb2",
   "metadata": {},
   "outputs": [
    {
     "data": {
      "text/plain": [
       "True"
      ]
     },
     "execution_count": 207,
     "metadata": {},
     "output_type": "execute_result"
    }
   ],
   "source": [
    "s.isMatch(\"cbbbaccbcacbcca\", \"b*.*b*a*.a*b*.a*\")"
   ]
  },
  {
   "cell_type": "code",
   "execution_count": null,
   "id": "f303d083-b38a-4607-91c9-81d1d6d1fe4c",
   "metadata": {},
   "outputs": [],
   "source": []
  }
 ],
 "metadata": {
  "kernelspec": {
   "display_name": "Python 3 (ipykernel)",
   "language": "python",
   "name": "python3"
  },
  "language_info": {
   "codemirror_mode": {
    "name": "ipython",
    "version": 3
   },
   "file_extension": ".py",
   "mimetype": "text/x-python",
   "name": "python",
   "nbconvert_exporter": "python",
   "pygments_lexer": "ipython3",
   "version": "3.9.10"
  }
 },
 "nbformat": 4,
 "nbformat_minor": 5
}
