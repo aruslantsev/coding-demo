{
 "cells": [
  {
   "attachments": {
    "977e3d18-a40c-479a-b5bc-6e68aa444870.png": {
     "image/png": "[encoded data removed]"
    },
    "e8988a21-4fb0-4b84-b586-f4d142a4c61d.png": {
     "image/png": "[encoded data removed]"
    }
   },
   "cell_type": "markdown",
   "id": "5a1e6099-31e0-495b-97c5-689fe396a093",
   "metadata": {},
   "source": [
    "You are given two m x n binary matrices grid1 and grid2 containing only 0's (representing water) and 1's (representing land). An island is a group of 1's connected 4-directionally (horizontal or vertical). Any cells outside of the grid are considered water cells.\n",
    "\n",
    "An island in grid2 is considered a sub-island if there is an island in grid1 that contains all the cells that make up this island in grid2.\n",
    "\n",
    "Return the number of islands in grid2 that are considered sub-islands.\n",
    "\n",
    " \n",
    "\n",
    "Example 1:\n",
    "\n",
    "![image.png](attachment:977e3d18-a40c-479a-b5bc-6e68aa444870.png)\n",
    "\n",
    "Input: grid1 = [[1,1,1,0,0],[0,1,1,1,1],[0,0,0,0,0],[1,0,0,0,0],[1,1,0,1,1]], grid2 = [[1,1,1,0,0],[0,0,1,1,1],[0,1,0,0,0],[1,0,1,1,0],[0,1,0,1,0]]\n",
    "Output: 3\n",
    "Explanation: In the picture above, the grid on the left is grid1 and the grid on the right is grid2.\n",
    "The 1s colored red in grid2 are those considered to be part of a sub-island. There are three sub-islands.\n",
    "\n",
    "Example 2:\n",
    "\n",
    "![image.png](attachment:e8988a21-4fb0-4b84-b586-f4d142a4c61d.png)\n",
    "\n",
    "Input: grid1 = [[1,0,1,0,1],[1,1,1,1,1],[0,0,0,0,0],[1,1,1,1,1],[1,0,1,0,1]], grid2 = [[0,0,0,0,0],[1,1,1,1,1],[0,1,0,1,0],[0,1,0,1,0],[1,0,0,0,1]]\n",
    "Output: 2 \n",
    "Explanation: In the picture above, the grid on the left is grid1 and the grid on the right is grid2.\n",
    "The 1s colored red in grid2 are those considered to be part of a sub-island. There are two sub-islands.\n",
    "\n",
    " \n",
    "\n",
    "Constraints:\n",
    "\n",
    "    m == grid1.length == grid2.length\n",
    "    n == grid1[i].length == grid2[i].length\n",
    "    1 <= m, n <= 500\n",
    "    grid1[i][j] and grid2[i][j] are either 0 or 1.\n",
    "\n"
   ]
  },
  {
   "cell_type": "code",
   "execution_count": null,
   "id": "f6787747-6884-41cc-a2e8-8a9008b91dc1",
   "metadata": {},
   "outputs": [],
   "source": [
    "class Solution:\n",
    "    def countSubIslands(self, grid1: List[List[int]], grid2: List[List[int]]) -> int:\n",
    "        self.m = len(grid1)\n",
    "        self.n = len(grid1[0])\n",
    "        for i in range(self.m):\n",
    "            for j in range(self.n):\n",
    "                if grid2[i][j] == 1 and grid1[i][j] == 0:\n",
    "                    self.remove_island(i, j, grid2)\n",
    "\n",
    "        ans = 0\n",
    "        for i in range(self.m):\n",
    "            for j in range(self.n):\n",
    "                if grid2[i][j] == 1:\n",
    "                    ans += 1\n",
    "                    self.remove_island(i, j, grid2)\n",
    "        return ans\n",
    "\n",
    "    def remove_island(self, x, y, grid):\n",
    "        directions = [\n",
    "            (-1, 0), (1, 0), (0, -1), (0, 1),\n",
    "        ]\n",
    "        q = deque([(x, y)])\n",
    "        while q:\n",
    "            x, y = q.popleft()\n",
    "            grid[x][y] = 0\n",
    "            for d in directions:\n",
    "                x1 = x + d[0]\n",
    "                y1 = y + d[1]\n",
    "                if 0 <= x1 < self.m and 0 <= y1 < self.n and grid[x1][y1] == 1:\n",
    "                    q.append((x1, y1))\n",
    "\n"
   ]
  },
  {
   "cell_type": "code",
   "execution_count": null,
   "id": "15815dd8-43cc-40df-9771-0f2aa9df813f",
   "metadata": {},
   "outputs": [],
   "source": [
    "class Solution:\n",
    "    def countSubIslands(self, grid1: List[List[int]], grid2: List[List[int]]) -> int:\n",
    "        m = len(grid1)\n",
    "        n = len(grid1[0])\n",
    "\n",
    "        def remove_island(x, y):\n",
    "            if not (0 <= x < m and 0 <= y < n) or grid2[x][y] == 0: \n",
    "                return\n",
    "            grid2[x][y] = 0\n",
    "            remove_island(x - 1, y)\n",
    "            remove_island(x + 1, y)\n",
    "            remove_island(x, y - 1)\n",
    "            remove_island(x, y + 1)\n",
    "    \n",
    "        for i in range(m):\n",
    "            for j in range(n):\n",
    "                if grid2[i][j] == 1 and grid1[i][j] == 0:\n",
    "                    remove_island(i, j)\n",
    "\n",
    "        ans = 0\n",
    "        for i in range(m):\n",
    "            for j in range(n):\n",
    "                if grid2[i][j] == 1:\n",
    "                    ans += 1\n",
    "                    remove_island(i, j)\n",
    "        return ans"
   ]
  }
 ],
 "metadata": {
  "kernelspec": {
   "display_name": "Python 3 (ipykernel)",
   "language": "python",
   "name": "python3"
  },
  "language_info": {
   "codemirror_mode": {
    "name": "ipython",
    "version": 3
   },
   "file_extension": ".py",
   "mimetype": "text/x-python",
   "name": "python",
   "nbconvert_exporter": "python",
   "pygments_lexer": "ipython3",
   "version": "3.12.3"
  }
 },
 "nbformat": 4,
 "nbformat_minor": 5
}
