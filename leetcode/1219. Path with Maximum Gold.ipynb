{
 "cells": [
  {
   "cell_type": "markdown",
   "id": "952e689c-f068-4ff7-890b-c469c92e3585",
   "metadata": {},
   "source": [
    "In a gold mine grid of size m x n, each cell in this mine has an integer representing the amount of gold in that cell, 0 if it is empty.\n",
    "\n",
    "Return the maximum amount of gold you can collect under the conditions:\n",
    "\n",
    "    Every time you are located in a cell you will collect all the gold in that cell.\n",
    "    From your position, you can walk one step to the left, right, up, or down.\n",
    "    You can't visit the same cell more than once.\n",
    "    Never visit a cell with 0 gold.\n",
    "    You can start and stop collecting gold from any position in the grid that has some gold.\n",
    "\n",
    " \n",
    "\n",
    "Example 1:\n",
    "\n",
    "Input: grid = [[0,6,0],[5,8,7],[0,9,0]]\n",
    "Output: 24\n",
    "Explanation:\n",
    "[[0,6,0],\n",
    " [5,8,7],\n",
    " [0,9,0]]\n",
    "Path to get the maximum gold, 9 -> 8 -> 7.\n",
    "\n",
    "Example 2:\n",
    "\n",
    "Input: grid = [[1,0,7],[2,0,6],[3,4,5],[0,3,0],[9,0,20]]\n",
    "Output: 28\n",
    "Explanation:\n",
    "[[1,0,7],\n",
    " [2,0,6],\n",
    " [3,4,5],\n",
    " [0,3,0],\n",
    " [9,0,20]]\n",
    "Path to get the maximum gold, 1 -> 2 -> 3 -> 4 -> 5 -> 6 -> 7.\n",
    "\n",
    " \n",
    "\n",
    "Constraints:\n",
    "\n",
    "    m == grid.length\n",
    "    n == grid[i].length\n",
    "    1 <= m, n <= 15\n",
    "    0 <= grid[i][j] <= 100\n",
    "    There are at most 25 cells containing gold.\n",
    "\n"
   ]
  },
  {
   "cell_type": "code",
   "execution_count": 21,
   "id": "5139b582-c3c0-4630-bdaf-d77dda912265",
   "metadata": {},
   "outputs": [],
   "source": [
    "from typing import List\n",
    "\n",
    "\n",
    "class Solution:\n",
    "    def getMaximumGold(self, grid: List[List[int]]) -> int:\n",
    "        self.ans = 0\n",
    "        self.m = len(grid) - 1\n",
    "        self.n = len(grid[0]) - 1\n",
    "\n",
    "        def dfs(i, j, track, gold):\n",
    "            gold += grid[i][j]\n",
    "            track.append((i, j))\n",
    "            self.ans = max(self.ans, gold)\n",
    "            for di in [-1, 1]:\n",
    "                if (0 <= i + di <= self.m) and ((i + di, j) not in track) and (grid[i + di][j] > 0):\n",
    "                    dfs(i + di, j, track, gold)\n",
    "                if (0 <= j + di <= self.n) and ((i, j + di) not in track) and (grid[i][j + di] > 0):\n",
    "                    dfs(i, j + di, track, gold)\n",
    "            track.pop()\n",
    "        \n",
    "        for i in range(self.m + 1):\n",
    "            for j in range(self.n + 1):\n",
    "                if grid[i][j] > 0:\n",
    "                    dfs(i, j, [], 0)\n",
    "        return self.ans\n"
   ]
  },
  {
   "cell_type": "code",
   "execution_count": null,
   "id": "d4494461-c2ac-4b81-9dcb-a3b55e63dba7",
   "metadata": {},
   "outputs": [],
   "source": []
  }
 ],
 "metadata": {
  "kernelspec": {
   "display_name": "Python 3 (ipykernel)",
   "language": "python",
   "name": "python3"
  },
  "language_info": {
   "codemirror_mode": {
    "name": "ipython",
    "version": 3
   },
   "file_extension": ".py",
   "mimetype": "text/x-python",
   "name": "python",
   "nbconvert_exporter": "python",
   "pygments_lexer": "ipython3",
   "version": "3.12.3"
  }
 },
 "nbformat": 4,
 "nbformat_minor": 5
}
