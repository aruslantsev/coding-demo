{
 "cells": [
  {
   "cell_type": "markdown",
   "id": "f835bde0-cf10-4087-8066-5ff519ba74a1",
   "metadata": {},
   "source": [
    "You are given an integer array nums and a positive integer k.\n",
    "\n",
    "A\n",
    "\n",
    "sub of nums with length x is called valid if it satisfies:\n",
    "\n",
    "    (sub[0] + sub[1]) % k == (sub[1] + sub[2]) % k == ... == (sub[x - 2] + sub[x - 1]) % k.\n",
    "\n",
    "Return the length of the longest valid subsequence of nums.\n",
    "\n",
    " \n",
    "\n",
    "Example 1:\n",
    "\n",
    "Input: nums = [1,2,3,4,5], k = 2\n",
    "\n",
    "Output: 5\n",
    "\n",
    "Explanation:\n",
    "\n",
    "The longest valid subsequence is [1, 2, 3, 4, 5].\n",
    "\n",
    "Example 2:\n",
    "\n",
    "Input: nums = [1,4,2,3,1,4], k = 3\n",
    "\n",
    "Output: 4\n",
    "\n",
    "Explanation:\n",
    "\n",
    "The longest valid subsequence is [1, 4, 1, 4].\n",
    "\n",
    " \n",
    "\n",
    "Constraints:\n",
    "\n",
    "    2 <= nums.length <= 103\n",
    "    1 <= nums[i] <= 107\n",
    "    1 <= k <= 103\n",
    "\n"
   ]
  },
  {
   "cell_type": "code",
   "execution_count": null,
   "id": "d1c15f27-0197-4145-b979-9c8dc61ab718",
   "metadata": {},
   "outputs": [],
   "source": [
    "class Solution:\n",
    "    def maximumLength(self, nums: List[int], k: int) -> int:\n",
    "        dp = [[0] * k for _ in range(k)]\n",
    "        res = 0\n",
    "        for num in nums:\n",
    "            num %= k\n",
    "            for prev in range(k):\n",
    "                dp[prev][num] = dp[num][prev] + 1\n",
    "                res = max(res, dp[prev][num])\n",
    "        return res"
   ]
  }
 ],
 "metadata": {
  "kernelspec": {
   "display_name": "Python 3 (ipykernel)",
   "language": "python",
   "name": "python3"
  },
  "language_info": {
   "codemirror_mode": {
    "name": "ipython",
    "version": 3
   },
   "file_extension": ".py",
   "mimetype": "text/x-python",
   "name": "python",
   "nbconvert_exporter": "python",
   "pygments_lexer": "ipython3",
   "version": "3.13.5"
  }
 },
 "nbformat": 4,
 "nbformat_minor": 5
}
