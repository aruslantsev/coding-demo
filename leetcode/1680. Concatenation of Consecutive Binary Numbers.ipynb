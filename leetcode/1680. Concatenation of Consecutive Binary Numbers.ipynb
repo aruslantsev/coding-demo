{
 "cells": [
  {
   "cell_type": "markdown",
   "id": "988c9e7e-906e-47ba-adbd-4d96261b1139",
   "metadata": {},
   "source": [
    "Given an integer n, return the decimal value of the binary string formed by concatenating the binary representations of 1 to n in order, modulo 109 + 7.\n",
    "\n",
    " \n",
    "\n",
    "Example 1:\n",
    "\n",
    "Input: n = 1\n",
    "Output: 1\n",
    "Explanation: \"1\" in binary corresponds to the decimal value 1. \n",
    "\n",
    "Example 2:\n",
    "\n",
    "Input: n = 3\n",
    "Output: 27\n",
    "Explanation: In binary, 1, 2, and 3 corresponds to \"1\", \"10\", and \"11\".\n",
    "After concatenating them, we have \"11011\", which corresponds to the decimal value 27.\n",
    "\n",
    "Example 3:\n",
    "\n",
    "Input: n = 12\n",
    "Output: 505379714\n",
    "Explanation: The concatenation results in \"1101110010111011110001001101010111100\".\n",
    "The decimal value of that is 118505380540.\n",
    "After modulo 109 + 7, the result is 505379714.\n",
    "\n",
    " \n",
    "\n",
    "Constraints:\n",
    "\n",
    "    1 <= n <= 105\n",
    "\n"
   ]
  },
  {
   "cell_type": "code",
   "execution_count": null,
   "id": "ef99c715-1ff9-466c-9438-89d276b30a60",
   "metadata": {},
   "outputs": [],
   "source": [
    "class Solution:\n",
    "    def concatenatedBinary(self, n: int) -> int:\n",
    "        return int(\"\".join([str(bin(i))[2:] for i in range(1, n + 1)]), 2) % (10**9 + 7)"
   ]
  },
  {
   "cell_type": "code",
   "execution_count": null,
   "id": "4f53cc8d-1ee7-494d-9459-fa49187348b6",
   "metadata": {},
   "outputs": [],
   "source": []
  }
 ],
 "metadata": {
  "kernelspec": {
   "display_name": "Python 3 (ipykernel)",
   "language": "python",
   "name": "python3"
  },
  "language_info": {
   "codemirror_mode": {
    "name": "ipython",
    "version": 3
   },
   "file_extension": ".py",
   "mimetype": "text/x-python",
   "name": "python",
   "nbconvert_exporter": "python",
   "pygments_lexer": "ipython3",
   "version": "3.9.12"
  }
 },
 "nbformat": 4,
 "nbformat_minor": 5
}
