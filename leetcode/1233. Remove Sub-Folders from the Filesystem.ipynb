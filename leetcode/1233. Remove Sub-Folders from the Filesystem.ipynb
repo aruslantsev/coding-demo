{
 "cells": [
  {
   "cell_type": "markdown",
   "id": "52ec93aa-d742-4f11-b84f-b58beff12116",
   "metadata": {},
   "source": [
    "Given a list of folders folder, return the folders after removing all sub-folders in those folders. You may return the answer in any order.\n",
    "\n",
    "If a folder[i] is located within another folder[j], it is called a sub-folder of it. A sub-folder of folder[j] must start with folder[j], followed by a \"/\". For example, \"/a/b\" is a sub-folder of \"/a\", but \"/b\" is not a sub-folder of \"/a/b/c\".\n",
    "\n",
    "The format of a path is one or more concatenated strings of the form: '/' followed by one or more lowercase English letters.\n",
    "\n",
    "    For example, \"/leetcode\" and \"/leetcode/problems\" are valid paths while an empty string and \"/\" are not.\n",
    "\n",
    " \n",
    "\n",
    "Example 1:\n",
    "\n",
    "Input: folder = [\"/a\",\"/a/b\",\"/c/d\",\"/c/d/e\",\"/c/f\"]\n",
    "Output: [\"/a\",\"/c/d\",\"/c/f\"]\n",
    "Explanation: Folders \"/a/b\" is a subfolder of \"/a\" and \"/c/d/e\" is inside of folder \"/c/d\" in our filesystem.\n",
    "\n",
    "Example 2:\n",
    "\n",
    "Input: folder = [\"/a\",\"/a/b/c\",\"/a/b/d\"]\n",
    "Output: [\"/a\"]\n",
    "Explanation: Folders \"/a/b/c\" and \"/a/b/d\" will be removed because they are subfolders of \"/a\".\n",
    "\n",
    "Example 3:\n",
    "\n",
    "Input: folder = [\"/a/b/c\",\"/a/b/ca\",\"/a/b/d\"]\n",
    "Output: [\"/a/b/c\",\"/a/b/ca\",\"/a/b/d\"]\n",
    "\n",
    " \n",
    "\n",
    "Constraints:\n",
    "\n",
    "    1 <= folder.length <= 4 * 104\n",
    "    2 <= folder[i].length <= 100\n",
    "    folder[i] contains only lowercase letters and '/'.\n",
    "    folder[i] always starts with the character '/'.\n",
    "    Each folder name is unique.\n",
    "\n"
   ]
  },
  {
   "cell_type": "code",
   "execution_count": null,
   "id": "9bd7a77f-610b-447a-9b4b-3667cb80b966",
   "metadata": {},
   "outputs": [],
   "source": [
    "class Solution:\n",
    "    def removeSubfolders(self, folder: List[str]) -> List[str]:\n",
    "        folder.sort()\n",
    "        result = [folder[0]]\n",
    "\n",
    "        for i in range(1, len(folder)):\n",
    "            last_folder = result[-1]\n",
    "            last_folder += \"/\"\n",
    "            if not folder[i].startswith(last_folder):\n",
    "                result.append(folder[i])\n",
    "\n",
    "        return result"
   ]
  },
  {
   "cell_type": "code",
   "execution_count": null,
   "id": "e0a0037b-6863-4ba9-b5cf-941b3e1de88d",
   "metadata": {},
   "outputs": [],
   "source": [
    "class Solution:\n",
    "    def removeSubfolders(self, folder: List[str]) -> List[str]:\n",
    "        # Create a set to store all folder paths for fast lookup\n",
    "        folder_set = set(folder)\n",
    "        result = []\n",
    "\n",
    "        # Iterate through each folder to check if it's a sub-folder\n",
    "        for f in folder:\n",
    "            is_sub_folder = False\n",
    "            prefix = f\n",
    "\n",
    "            # Check all prefixes of the current folder path\n",
    "            while not prefix == \"\":\n",
    "                pos = prefix.rfind(\"/\")\n",
    "                if pos == -1:\n",
    "                    break\n",
    "\n",
    "                # Reduce the prefix to its parent folder\n",
    "                prefix = prefix[0:pos]\n",
    "\n",
    "                # If the parent folder exists in the set, mark as sub-folder\n",
    "                if prefix in folder_set:\n",
    "                    is_sub_folder = True\n",
    "                    break\n",
    "\n",
    "            # If not a sub-folder, add it to the result\n",
    "            if not is_sub_folder:\n",
    "                result.append(f)\n",
    "        return result"
   ]
  }
 ],
 "metadata": {
  "kernelspec": {
   "display_name": "Python 3 (ipykernel)",
   "language": "python",
   "name": "python3"
  },
  "language_info": {
   "codemirror_mode": {
    "name": "ipython",
    "version": 3
   },
   "file_extension": ".py",
   "mimetype": "text/x-python",
   "name": "python",
   "nbconvert_exporter": "python",
   "pygments_lexer": "ipython3",
   "version": "3.13.5"
  }
 },
 "nbformat": 4,
 "nbformat_minor": 5
}
