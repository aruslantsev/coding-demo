{
 "cells": [
  {
   "cell_type": "markdown",
   "id": "075220c0-6d1f-413b-b97e-71fafaa8e6ce",
   "metadata": {},
   "source": [
    "You are given a 2D array of integers envelopes where envelopes[i] = [wi, hi] represents the width and the height of an envelope.\n",
    "\n",
    "One envelope can fit into another if and only if both the width and height of one envelope are greater than the other envelope's width and height.\n",
    "\n",
    "Return the maximum number of envelopes you can Russian doll (i.e., put one inside the other).\n",
    "\n",
    "Note: You cannot rotate an envelope.\n",
    "\n",
    " \n",
    "\n",
    "Example 1:\n",
    "\n",
    "Input: envelopes = [[5,4],[6,4],[6,7],[2,3]]\n",
    "Output: 3\n",
    "Explanation: The maximum number of envelopes you can Russian doll is 3 ([2,3] => [5,4] => [6,7]).\n",
    "\n",
    "Example 2:\n",
    "\n",
    "Input: envelopes = [[1,1],[1,1],[1,1]]\n",
    "Output: 1\n",
    "\n",
    " \n",
    "\n",
    "Constraints:\n",
    "\n",
    "    1 <= envelopes.length <= 105\n",
    "    envelopes[i].length == 2\n",
    "    1 <= wi, hi <= 105\n",
    "\n"
   ]
  },
  {
   "cell_type": "code",
   "execution_count": 55,
   "id": "ed583651-f126-4b06-82f3-f4a3d55f096b",
   "metadata": {},
   "outputs": [],
   "source": [
    "from typing import List\n",
    "\n",
    "\n",
    "class Solution:\n",
    "    def maxEnvelopes(self, envelopes: List[List[int]]) -> int:\n",
    "        envelopes = sorted(envelopes, key=lambda x: (x[1], x[0])) # w, h\n",
    "        dp = [1 for _ in range(len(envelopes))]\n",
    "        for i in range(1, len(envelopes)):\n",
    "            less = [\n",
    "                dp[j] for j in range(i) \n",
    "                if (\n",
    "                    envelopes[j][0] < envelopes[i][0]\n",
    "                    and envelopes[j][1] < envelopes[i][1]\n",
    "                )\n",
    "            ]\n",
    "            if len(less) > 0:\n",
    "                less = max(less)\n",
    "            else:\n",
    "                less = 0\n",
    "            dp[i] = 1 + less\n",
    "        \n",
    "        return max(dp)"
   ]
  },
  {
   "cell_type": "code",
   "execution_count": 56,
   "id": "ac80f351-6650-47bd-95bb-d7d3ed7bd0f1",
   "metadata": {},
   "outputs": [],
   "source": [
    "from typing import List\n",
    "\n",
    "\n",
    "class Solution:\n",
    "    def maxEnvelopes(self, envelopes: List[List[int]]) -> int:\n",
    "        envelopes = sorted(envelopes, key=lambda x: (x[1], x[0])) # w, h\n",
    "        dp = [1 for _ in envelopes]\n",
    "        incl = [[i] for i in range(len(envelopes))]\n",
    "        \n",
    "        for i in range(1, len(envelopes)):\n",
    "            less = [\n",
    "                dp[j] for j in range(i) \n",
    "                if (\n",
    "                    envelopes[j][0] < envelopes[i][0]\n",
    "                    and envelopes[j][1] < envelopes[i][1]\n",
    "                )\n",
    "            ]\n",
    "            if len(less) > 0:\n",
    "                maxidx = less.index(max(less))\n",
    "                less = max(less)\n",
    "                incl[i].extend(incl[maxidx])\n",
    "            else:\n",
    "                less = 0\n",
    "            dp[i] += less\n",
    "        \n",
    "        print(envelopes)\n",
    "        print(list(zip(dp, incl)))\n",
    "        return max(dp)"
   ]
  },
  {
   "cell_type": "code",
   "execution_count": 143,
   "id": "32b38b95-2afe-4c0b-b322-d065f0b9f399",
   "metadata": {},
   "outputs": [],
   "source": [
    "from typing import List\n",
    "from functools import cache\n",
    "\n",
    "\n",
    "class Solution:\n",
    "    def maxEnvelopes(self, envelopes: List[List[int]]) -> int:\n",
    "        envelopes = sorted(envelopes, key=lambda x: (x[1], x[0])) # w, h\n",
    "        dp = [1 for _ in envelopes]\n",
    "        incl = [{i} for i in range(len(envelopes))]\n",
    "        \n",
    "        for i in range(1, len(envelopes)):\n",
    "            indices = list(range(i))[::-1]\n",
    "            idx_lower = []\n",
    "            j = 0\n",
    "            \n",
    "            while j < len(indices):\n",
    "                if (\n",
    "                    envelopes[indices[j]][0] < envelopes[i][0]\n",
    "                    and envelopes[indices[j]][1] < envelopes[i][1]\n",
    "                ):\n",
    "                    idx_lower.append(indices[j])\n",
    "                    indices = set(indices) - incl[indices[j]]\n",
    "                    indices = sorted(indices)[::-1]\n",
    "                j += 1\n",
    "                    \n",
    "            if len(idx_lower) > 0:\n",
    "                envelopes_num = [dp[idx] for idx in idx_lower]\n",
    "                addition = max(envelopes_num)\n",
    "                envelopes_max_idx = envelopes_num.index(addition)\n",
    "                idx_max = idx_lower[envelopes_max_idx]\n",
    "                incl[i] = incl[i] | incl[idx_max]\n",
    "            else:\n",
    "                addition = 0\n",
    "            dp[i] += addition\n",
    "\n",
    "        return max(dp)"
   ]
  },
  {
   "cell_type": "code",
   "execution_count": null,
   "id": "c53f8b4c-47ab-4236-9ac9-29ad2513b875",
   "metadata": {},
   "outputs": [],
   "source": [
    "from bisect import bisect_left\n",
    "\n",
    "class Solution:\n",
    "    def maxEnvelopes(self, envelopes: List[List[int]]) -> int:\n",
    "        envelopes.sort(key=lambda x: (x[0], -x[1]))\n",
    "        dp = []\n",
    "        for width, height in envelopes:\n",
    "        # returns the index where to insert elem to maintain list in sorted order \n",
    "            left = bisect_left(dp, height)\n",
    "            if left == len(dp): \n",
    "                dp.append(height)\n",
    "            else: \n",
    "                dp[left] = height\n",
    "        return len(dp)"
   ]
  },
  {
   "cell_type": "code",
   "execution_count": 144,
   "id": "5cd91663-a38f-4c0b-962b-8657adf7f55b",
   "metadata": {},
   "outputs": [
    {
     "data": {
      "text/plain": [
       "3"
      ]
     },
     "execution_count": 144,
     "metadata": {},
     "output_type": "execute_result"
    }
   ],
   "source": [
    "s = Solution()\n",
    "s.maxEnvelopes([[5,4],[6,4],[6,7],[2,3]])"
   ]
  },
  {
   "cell_type": "code",
   "execution_count": 145,
   "id": "3c74eb98-b855-4221-8f3a-0e7abae72575",
   "metadata": {},
   "outputs": [
    {
     "data": {
      "text/plain": [
       "1"
      ]
     },
     "execution_count": 145,
     "metadata": {},
     "output_type": "execute_result"
    }
   ],
   "source": [
    "s.maxEnvelopes([[1, 1], [1, 1]])"
   ]
  },
  {
   "cell_type": "code",
   "execution_count": 146,
   "id": "62fb9c72-8253-49fb-98a4-7cab5de29594",
   "metadata": {},
   "outputs": [
    {
     "data": {
      "text/plain": [
       "10000"
      ]
     },
     "execution_count": 146,
     "metadata": {},
     "output_type": "execute_result"
    }
   ],
   "source": [
    "s.maxEnvelopes([[i, i] for i in range(10000)])"
   ]
  },
  {
   "cell_type": "code",
   "execution_count": null,
   "id": "c9cb4914-8d2e-4db9-a2cd-fde31a154c31",
   "metadata": {},
   "outputs": [],
   "source": []
  }
 ],
 "metadata": {
  "kernelspec": {
   "display_name": "Python 3 (ipykernel)",
   "language": "python",
   "name": "python3"
  },
  "language_info": {
   "codemirror_mode": {
    "name": "ipython",
    "version": 3
   },
   "file_extension": ".py",
   "mimetype": "text/x-python",
   "name": "python",
   "nbconvert_exporter": "python",
   "pygments_lexer": "ipython3",
   "version": "3.9.10"
  }
 },
 "nbformat": 4,
 "nbformat_minor": 5
}
