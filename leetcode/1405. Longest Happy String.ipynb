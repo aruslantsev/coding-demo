{
 "cells": [
  {
   "cell_type": "markdown",
   "id": "b238d070-7f8e-45c6-afce-686d1238c199",
   "metadata": {},
   "source": [
    "A string s is called happy if it satisfies the following conditions:\n",
    "\n",
    "    s only contains the letters 'a', 'b', and 'c'.\n",
    "    s does not contain any of \"aaa\", \"bbb\", or \"ccc\" as a substring.\n",
    "    s contains at most a occurrences of the letter 'a'.\n",
    "    s contains at most b occurrences of the letter 'b'.\n",
    "    s contains at most c occurrences of the letter 'c'.\n",
    "\n",
    "Given three integers a, b, and c, return the longest possible happy string. If there are multiple longest happy strings, return any of them. If there is no such string, return the empty string \"\".\n",
    "\n",
    "A substring is a contiguous sequence of characters within a string.\n",
    "\n",
    " \n",
    "\n",
    "Example 1:\n",
    "\n",
    "Input: a = 1, b = 1, c = 7\n",
    "Output: \"ccaccbcc\"\n",
    "Explanation: \"ccbccacc\" would also be a correct answer.\n",
    "\n",
    "Example 2:\n",
    "\n",
    "Input: a = 7, b = 1, c = 0\n",
    "Output: \"aabaa\"\n",
    "Explanation: It is the only correct answer in this case.\n",
    "\n",
    " \n",
    "\n",
    "Constraints:\n",
    "\n",
    "    0 <= a, b, c <= 100\n",
    "    a + b + c > 0\n",
    "\n"
   ]
  },
  {
   "cell_type": "code",
   "execution_count": null,
   "id": "e880be2b-308a-41f5-bab8-183886882036",
   "metadata": {},
   "outputs": [],
   "source": [
    "class Solution:\n",
    "    def longestDiverseString(self, a: int, b: int, c: int) -> str:\n",
    "        pq = []\n",
    "        if a > 0:\n",
    "            heapq.heappush(pq, (-a, \"a\"))\n",
    "        if b > 0:\n",
    "            heapq.heappush(pq, (-b, \"b\"))\n",
    "        if c > 0:\n",
    "            heapq.heappush(pq, (-c, \"c\"))\n",
    "\n",
    "        result = []\n",
    "        while pq:\n",
    "            count, character = heapq.heappop(pq)\n",
    "            count = -count\n",
    "            if (\n",
    "                len(result) >= 2\n",
    "                and result[-1] == character\n",
    "                and result[-2] == character\n",
    "            ):\n",
    "                if not pq:\n",
    "                    break\n",
    "                tempCnt, tempChar = heapq.heappop(pq)\n",
    "                result.append(tempChar)\n",
    "                if (tempCnt + 1) < 0:\n",
    "                    heapq.heappush(pq, (tempCnt + 1, tempChar))\n",
    "                heapq.heappush(pq, (-count, character))\n",
    "            else:\n",
    "                count -= 1\n",
    "                result.append(character)\n",
    "                if count > 0:\n",
    "                    heapq.heappush(pq, (-count, character))\n",
    "\n",
    "        return \"\".join(result)"
   ]
  }
 ],
 "metadata": {
  "kernelspec": {
   "display_name": "Python 3 (ipykernel)",
   "language": "python",
   "name": "python3"
  },
  "language_info": {
   "codemirror_mode": {
    "name": "ipython",
    "version": 3
   },
   "file_extension": ".py",
   "mimetype": "text/x-python",
   "name": "python",
   "nbconvert_exporter": "python",
   "pygments_lexer": "ipython3",
   "version": "3.12.7"
  }
 },
 "nbformat": 4,
 "nbformat_minor": 5
}
