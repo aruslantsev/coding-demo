{
 "cells": [
  {
   "cell_type": "markdown",
   "id": "64a1f138-20bd-4c5d-9b8c-93bfd263b454",
   "metadata": {},
   "source": [
    "A message containing letters from A-Z can be encoded into numbers using the following mapping:\n",
    "\n",
    "'A' -> \"1\"\n",
    "'B' -> \"2\"\n",
    "...\n",
    "'Z' -> \"26\"\n",
    "\n",
    "To decode an encoded message, all the digits must be grouped then mapped back into letters using the reverse of the mapping above (there may be multiple ways). For example, \"11106\" can be mapped into:\n",
    "\n",
    "    \"AAJF\" with the grouping (1 1 10 6)\n",
    "    \"KJF\" with the grouping (11 10 6)\n",
    "\n",
    "Note that the grouping (1 11 06) is invalid because \"06\" cannot be mapped into 'F' since \"6\" is different from \"06\".\n",
    "\n",
    "Given a string s containing only digits, return the number of ways to decode it.\n",
    "\n",
    "The test cases are generated so that the answer fits in a 32-bit integer.\n",
    "\n",
    " \n",
    "\n",
    "Example 1:\n",
    "\n",
    "Input: s = \"12\"\n",
    "Output: 2\n",
    "Explanation: \"12\" could be decoded as \"AB\" (1 2) or \"L\" (12).\n",
    "\n",
    "Example 2:\n",
    "\n",
    "Input: s = \"226\"\n",
    "Output: 3\n",
    "Explanation: \"226\" could be decoded as \"BZ\" (2 26), \"VF\" (22 6), or \"BBF\" (2 2 6).\n",
    "\n",
    "Example 3:\n",
    "\n",
    "Input: s = \"06\"\n",
    "Output: 0\n",
    "Explanation: \"06\" cannot be mapped to \"F\" because of the leading zero (\"6\" is different from \"06\").\n",
    "\n",
    " \n",
    "\n",
    "Constraints:\n",
    "\n",
    "    1 <= s.length <= 100\n",
    "    s contains only digits and may contain leading zero(s).\n",
    "\n"
   ]
  },
  {
   "cell_type": "code",
   "execution_count": 11,
   "id": "80089d8b-eff9-43a2-91d8-4ac613d72977",
   "metadata": {},
   "outputs": [],
   "source": [
    "from collections import deque\n",
    "\n",
    "class Solution:\n",
    "    def numDecodings(self, s: str) -> int:\n",
    "        q = deque()\n",
    "        q.append(s)\n",
    "        result = 0\n",
    "        while q:\n",
    "            curr_string = q.popleft()\n",
    "            if (len(curr_string) == 1) and (int(curr_string) != 0):\n",
    "                result += 1\n",
    "            elif len(curr_string) == 2:\n",
    "                if (int(curr_string) >= 10) and (int(curr_string) <= 26):\n",
    "                    result += 1\n",
    "                if not curr_string.startswith(\"0\"):\n",
    "                    q.append(curr_string[1:])\n",
    "            else:\n",
    "                if (int(curr_string[0]) != 0):\n",
    "                    q.append(curr_string[1:])\n",
    "                if (int(curr_string[:2]) >= 10) and (int(curr_string[:2]) <= 26):\n",
    "                    q.append(curr_string[2:])\n",
    "        return result"
   ]
  },
  {
   "cell_type": "code",
   "execution_count": 310,
   "id": "4e41b04e-cbc1-467a-ad40-6fb13e56b46a",
   "metadata": {},
   "outputs": [],
   "source": [
    "class Solution:\n",
    "    def numDecodings(self, s: str) -> int:\n",
    "        dp = [0] * (len(s) + 1)\n",
    "        dp[0] = 1\n",
    "        if s[0] != \"0\":\n",
    "            dp[1] = 1\n",
    "\n",
    "        for i in range(2, len(s) + 1):\n",
    "            if 0 < int(s[i - 1]) <= 9:\n",
    "                dp[i] += dp[i - 1]\n",
    "            if 10 <= int(s[i - 2:i]) <= 26:\n",
    "                dp[i] += dp[i - 2]\n",
    "\n",
    "        return dp[-1]\n",
    "        "
   ]
  },
  {
   "cell_type": "code",
   "execution_count": 311,
   "id": "2c102dbe-d068-4020-abc1-386b7f44ec5f",
   "metadata": {},
   "outputs": [
    {
     "data": {
      "text/plain": [
       "2"
      ]
     },
     "execution_count": 311,
     "metadata": {},
     "output_type": "execute_result"
    }
   ],
   "source": [
    "s = Solution()\n",
    "s.numDecodings(\"12\")"
   ]
  },
  {
   "cell_type": "code",
   "execution_count": 312,
   "id": "d467b7fb-3384-4c09-bebb-27b1983f0724",
   "metadata": {},
   "outputs": [
    {
     "data": {
      "text/plain": [
       "3"
      ]
     },
     "execution_count": 312,
     "metadata": {},
     "output_type": "execute_result"
    }
   ],
   "source": [
    "s.numDecodings(\"226\")"
   ]
  },
  {
   "cell_type": "code",
   "execution_count": 313,
   "id": "e21ec2e9-16ca-4fbc-ad46-4c8add3c6a5a",
   "metadata": {},
   "outputs": [
    {
     "data": {
      "text/plain": [
       "0"
      ]
     },
     "execution_count": 313,
     "metadata": {},
     "output_type": "execute_result"
    }
   ],
   "source": [
    "s.numDecodings(\"06\")"
   ]
  },
  {
   "cell_type": "code",
   "execution_count": 314,
   "id": "ed8fa380-60de-4b69-a83f-797e8a55a48a",
   "metadata": {},
   "outputs": [
    {
     "data": {
      "text/plain": [
       "1836311903"
      ]
     },
     "execution_count": 314,
     "metadata": {},
     "output_type": "execute_result"
    }
   ],
   "source": [
    "s.numDecodings(\"111111111111111111111111111111111111111111111\")"
   ]
  },
  {
   "cell_type": "code",
   "execution_count": 315,
   "id": "e7b71fd2-3f52-4b23-83fc-698900103bbb",
   "metadata": {},
   "outputs": [
    {
     "data": {
      "text/plain": [
       "1"
      ]
     },
     "execution_count": 315,
     "metadata": {},
     "output_type": "execute_result"
    }
   ],
   "source": [
    "s.numDecodings(\"2101\") # 1"
   ]
  },
  {
   "cell_type": "code",
   "execution_count": 316,
   "id": "b1911f52-ea2a-443b-9bf0-75c935e626d2",
   "metadata": {},
   "outputs": [
    {
     "data": {
      "text/plain": [
       "2"
      ]
     },
     "execution_count": 316,
     "metadata": {},
     "output_type": "execute_result"
    }
   ],
   "source": [
    "s.numDecodings(\"21011\") # 2"
   ]
  },
  {
   "cell_type": "code",
   "execution_count": 317,
   "id": "3ac76e44-ee5e-4af9-88b4-de20c56c9579",
   "metadata": {},
   "outputs": [
    {
     "data": {
      "text/plain": [
       "4"
      ]
     },
     "execution_count": 317,
     "metadata": {},
     "output_type": "execute_result"
    }
   ],
   "source": [
    "s.numDecodings(\"211011\") # 4"
   ]
  },
  {
   "cell_type": "code",
   "execution_count": 318,
   "id": "b1b3b139-0d91-4e3f-b30d-987235204927",
   "metadata": {},
   "outputs": [
    {
     "data": {
      "text/plain": [
       "5"
      ]
     },
     "execution_count": 318,
     "metadata": {},
     "output_type": "execute_result"
    }
   ],
   "source": [
    "s.numDecodings(\"1123\")"
   ]
  },
  {
   "cell_type": "code",
   "execution_count": 319,
   "id": "e2a06d6a-1021-49b4-8f0a-aec73ef57ec0",
   "metadata": {},
   "outputs": [
    {
     "data": {
      "text/plain": [
       "1"
      ]
     },
     "execution_count": 319,
     "metadata": {},
     "output_type": "execute_result"
    }
   ],
   "source": [
    "s.numDecodings(\"10\")"
   ]
  }
 ],
 "metadata": {
  "kernelspec": {
   "display_name": "Python 3 (ipykernel)",
   "language": "python",
   "name": "python3"
  },
  "language_info": {
   "codemirror_mode": {
    "name": "ipython",
    "version": 3
   },
   "file_extension": ".py",
   "mimetype": "text/x-python",
   "name": "python",
   "nbconvert_exporter": "python",
   "pygments_lexer": "ipython3",
   "version": "3.9.10"
  }
 },
 "nbformat": 4,
 "nbformat_minor": 5
}
