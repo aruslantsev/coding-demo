{
 "cells": [
  {
   "cell_type": "markdown",
   "id": "e61a6020-fd3a-4c14-b28f-8bd929ca7c9e",
   "metadata": {},
   "source": [
    "You are given a string s consisting of lowercase letters and an integer k. We call a string t ideal if the following conditions are satisfied:\n",
    "\n",
    "    t is a subsequence of the string s.\n",
    "    The absolute difference in the alphabet order of every two adjacent letters in t is less than or equal to k.\n",
    "\n",
    "Return the length of the longest ideal string.\n",
    "\n",
    "A subsequence is a string that can be derived from another string by deleting some or no characters without changing the order of the remaining characters.\n",
    "\n",
    "Note that the alphabet order is not cyclic. For example, the absolute difference in the alphabet order of 'a' and 'z' is 25, not 1.\n",
    "\n",
    " \n",
    "\n",
    "Example 1:\n",
    "\n",
    "Input: s = \"acfgbd\", k = 2\n",
    "Output: 4\n",
    "Explanation: The longest ideal string is \"acbd\". The length of this string is 4, so 4 is returned.\n",
    "Note that \"acfgbd\" is not ideal because 'c' and 'f' have a difference of 3 in alphabet order.\n",
    "\n",
    "Example 2:\n",
    "\n",
    "Input: s = \"abcd\", k = 3\n",
    "Output: 4\n",
    "Explanation: The longest ideal string is \"abcd\". The length of this string is 4, so 4 is returned.\n",
    "\n",
    " \n",
    "\n",
    "Constraints:\n",
    "\n",
    "    1 <= s.length <= 105\n",
    "    0 <= k <= 25\n",
    "    s consists of lowercase English letters.\n",
    "\n"
   ]
  },
  {
   "cell_type": "code",
   "execution_count": null,
   "id": "9428642c-2a01-4927-8fe8-e6f44b5857a2",
   "metadata": {},
   "outputs": [],
   "source": [
    "class Solution:\n",
    "    def longestIdealString(self, s: str, k: int) -> int:\n",
    "        N = len(s)\n",
    "        dp = [0] * 26\n",
    "\n",
    "        res = 0\n",
    "        # Updating dp with the i-th character\n",
    "        for i in range(N):\n",
    "            curr = ord(s[i]) - ord('a')\n",
    "            best = 0\n",
    "            for prev in range(26):\n",
    "                if abs(prev - curr) <= k:\n",
    "                    best = max(best, dp[prev])\n",
    "\n",
    "            # Append s[i] to the previous longest ideal subsequence\n",
    "            dp[curr] = max(dp[curr], best + 1)\n",
    "            res = max(res, dp[curr])\n",
    "        return res"
   ]
  },
  {
   "cell_type": "code",
   "execution_count": null,
   "id": "15c1e480-7d71-465d-b64a-1da9e400ffa2",
   "metadata": {},
   "outputs": [],
   "source": []
  }
 ],
 "metadata": {
  "kernelspec": {
   "display_name": "common",
   "language": "python",
   "name": "common"
  },
  "language_info": {
   "codemirror_mode": {
    "name": "ipython",
    "version": 3
   },
   "file_extension": ".py",
   "mimetype": "text/x-python",
   "name": "python",
   "nbconvert_exporter": "python",
   "pygments_lexer": "ipython3",
   "version": "3.11.9"
  }
 },
 "nbformat": 4,
 "nbformat_minor": 5
}
