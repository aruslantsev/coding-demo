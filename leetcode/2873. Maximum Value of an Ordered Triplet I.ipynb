{
 "cells": [
  {
   "cell_type": "markdown",
   "id": "20be7062-04b5-4e4a-9491-9cdc50f3ed9b",
   "metadata": {},
   "source": [
    "You are given a 0-indexed integer array nums.\n",
    "\n",
    "Return the maximum value over all triplets of indices (i, j, k) such that i < j < k. If all such triplets have a negative value, return 0.\n",
    "\n",
    "The value of a triplet of indices (i, j, k) is equal to (nums[i] - nums[j]) * nums[k].\n",
    "\n",
    " \n",
    "\n",
    "Example 1:\n",
    "\n",
    "Input: nums = [12,6,1,2,7]\n",
    "Output: 77\n",
    "Explanation: The value of the triplet (0, 2, 4) is (nums[0] - nums[2]) * nums[4] = 77.\n",
    "It can be shown that there are no ordered triplets of indices with a value greater than 77. \n",
    "\n",
    "Example 2:\n",
    "\n",
    "Input: nums = [1,10,3,4,19]\n",
    "Output: 133\n",
    "Explanation: The value of the triplet (1, 2, 4) is (nums[1] - nums[2]) * nums[4] = 133.\n",
    "It can be shown that there are no ordered triplets of indices with a value greater than 133.\n",
    "\n",
    "Example 3:\n",
    "\n",
    "Input: nums = [1,2,3]\n",
    "Output: 0\n",
    "Explanation: The only ordered triplet of indices (0, 1, 2) has a negative value of (nums[0] - nums[1]) * nums[2] = -3. Hence, the answer would be 0.\n",
    "\n",
    " \n",
    "\n",
    "Constraints:\n",
    "\n",
    "    3 <= nums.length <= 100\n",
    "    1 <= nums[i] <= 106\n",
    "\n"
   ]
  },
  {
   "cell_type": "code",
   "execution_count": null,
   "id": "00635b44-6c62-4bdf-a4a4-e2d74ff708cf",
   "metadata": {},
   "outputs": [],
   "source": [
    "class Solution:\n",
    "    def maximumTripletValue(self, nums: List[int]) -> int:\n",
    "        ans = 0\n",
    "        for i in range(len(nums) - 2):\n",
    "            ni = nums[i]\n",
    "            for j in range(i + 1, len(nums) - 1):\n",
    "                nj = nums[j]\n",
    "                for k in range(j + 1, len(nums)):\n",
    "                    ans = max(ans, (ni - nj) * nums[k])\n",
    "        return ans"
   ]
  },
  {
   "cell_type": "code",
   "execution_count": null,
   "id": "dade96b6-1a96-4fd5-9192-9c93b0dc5042",
   "metadata": {},
   "outputs": [],
   "source": [
    "class Solution:\n",
    "    def maximumTripletValue(self, nums: List[int]) -> int:\n",
    "        n = len(nums)\n",
    "        prefix_max = [0] * n\n",
    "        postfix_max = [0] * n\n",
    "        for i in range(1, n):\n",
    "            prefix_max[i] = max(nums[i - 1], prefix_max[i - 1])\n",
    "            postfix_max[n - i - 1] = max(nums[n - i], postfix_max[n - i])\n",
    "        ans = 0\n",
    "        for j in range(1, n - 1):\n",
    "            ans = max(ans, (prefix_max[j] - nums[j]) * postfix_max[j])\n",
    "        return ans"
   ]
  }
 ],
 "metadata": {
  "kernelspec": {
   "display_name": "Python 3 (ipykernel)",
   "language": "python",
   "name": "python3"
  },
  "language_info": {
   "codemirror_mode": {
    "name": "ipython",
    "version": 3
   },
   "file_extension": ".py",
   "mimetype": "text/x-python",
   "name": "python",
   "nbconvert_exporter": "python",
   "pygments_lexer": "ipython3",
   "version": "3.12.9"
  }
 },
 "nbformat": 4,
 "nbformat_minor": 5
}
