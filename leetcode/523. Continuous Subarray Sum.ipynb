{
 "cells": [
  {
   "cell_type": "markdown",
   "id": "9d581d1b-2232-41e4-8f30-317ce33b126d",
   "metadata": {},
   "source": [
    "Given an integer array nums and an integer k, return true if nums has a continuous subarray of size at least two whose elements sum up to a multiple of k, or false otherwise.\n",
    "\n",
    "An integer x is a multiple of k if there exists an integer n such that x = n * k. 0 is always a multiple of k.\n",
    "\n",
    " \n",
    "\n",
    "Example 1:\n",
    "\n",
    "Input: nums = [23,2,4,6,7], k = 6\n",
    "Output: true\n",
    "Explanation: [2, 4] is a continuous subarray of size 2 whose elements sum up to 6.\n",
    "\n",
    "Example 2:\n",
    "\n",
    "Input: nums = [23,2,6,4,7], k = 6\n",
    "Output: true\n",
    "Explanation: [23, 2, 6, 4, 7] is an continuous subarray of size 5 whose elements sum up to 42.\n",
    "42 is a multiple of 6 because 42 = 7 * 6 and 7 is an integer.\n",
    "\n",
    "Example 3:\n",
    "\n",
    "Input: nums = [23,2,6,4,7], k = 13\n",
    "Output: false\n",
    "\n",
    " \n",
    "\n",
    "Constraints:\n",
    "\n",
    "    1 <= nums.length <= 105\n",
    "    0 <= nums[i] <= 109\n",
    "    0 <= sum(nums[i]) <= 231 - 1\n",
    "    1 <= k <= 231 - 1\n",
    "\n"
   ]
  },
  {
   "cell_type": "code",
   "execution_count": null,
   "id": "8222979d-77dd-4b95-a46f-80b659096429",
   "metadata": {},
   "outputs": [],
   "source": [
    "from typing import List\n",
    "\n",
    "class Solution:\n",
    "    def checkSubarraySum(self, nums: List[int], k: int) -> bool:\n",
    "        if len(nums) <= 1:\n",
    "            return False\n",
    "        if len(nums) == 2:\n",
    "            return sum(nums) % k == 0\n",
    "        \n",
    "        prefix_sums = [0]\n",
    "        for num in nums:\n",
    "            prefix_sums.append(prefix_sums[-1] + num)\n",
    "        \n",
    "        for i, p1 in enumerate(prefix_sums[:-2]):\n",
    "            for p2 in prefix_sums[i + 2:]:\n",
    "                if (p2 - p1) % k == 0:\n",
    "                    return True\n",
    "                \n",
    "        return False"
   ]
  },
  {
   "cell_type": "code",
   "execution_count": 25,
   "id": "2fe1a916-a236-4d30-87ca-7f7f1ceab127",
   "metadata": {},
   "outputs": [],
   "source": [
    "class Solution:\n",
    "    def checkSubarraySum(self, nums: List[int], k: int) -> bool:\n",
    "        # initialize the hash map with index 0 for sum 0\n",
    "        hash_map = {0: 0}\n",
    "        s = 0\n",
    "        for i in range(len(nums)):\n",
    "            s += nums[i]\n",
    "            # if the remainder s % k occurs for the first time\n",
    "            if s % k not in hash_map:\n",
    "                hash_map[s % k] = i + 1\n",
    "            # if the subarray size is at least two\n",
    "            elif hash_map[s % k] < i:\n",
    "                return True\n",
    "        return False"
   ]
  },
  {
   "cell_type": "code",
   "execution_count": 26,
   "id": "b97be6de-046f-4aa3-9176-a3b46d4b683a",
   "metadata": {},
   "outputs": [
    {
     "data": {
      "text/plain": [
       "True"
      ]
     },
     "execution_count": 26,
     "metadata": {},
     "output_type": "execute_result"
    }
   ],
   "source": [
    "s = Solution()\n",
    "s.checkSubarraySum([23,2,4,6,7], 6)"
   ]
  },
  {
   "cell_type": "code",
   "execution_count": 27,
   "id": "27a45a83-7a66-4d18-a5e8-5d3f6993e247",
   "metadata": {},
   "outputs": [
    {
     "data": {
      "text/plain": [
       "True"
      ]
     },
     "execution_count": 27,
     "metadata": {},
     "output_type": "execute_result"
    }
   ],
   "source": [
    "s.checkSubarraySum([23,2,4,6,6], 7)"
   ]
  },
  {
   "cell_type": "code",
   "execution_count": null,
   "id": "998b54f2-d8af-4f5f-b776-ef5f965f575d",
   "metadata": {},
   "outputs": [],
   "source": []
  }
 ],
 "metadata": {
  "kernelspec": {
   "display_name": "Python 3 (ipykernel)",
   "language": "python",
   "name": "python3"
  },
  "language_info": {
   "codemirror_mode": {
    "name": "ipython",
    "version": 3
   },
   "file_extension": ".py",
   "mimetype": "text/x-python",
   "name": "python",
   "nbconvert_exporter": "python",
   "pygments_lexer": "ipython3",
   "version": "3.9.13"
  }
 },
 "nbformat": 4,
 "nbformat_minor": 5
}
