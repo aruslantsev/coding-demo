{
 "cells": [
  {
   "cell_type": "markdown",
   "id": "997764cc-7cde-446f-a800-9759db463a4f",
   "metadata": {},
   "source": [
    "A car travels from a starting position to a destination which is target miles east of the starting position.\n",
    "\n",
    "There are gas stations along the way. The gas stations are represented as an array stations where stations[i] = [positioni, fueli] indicates that the ith gas station is positioni miles east of the starting position and has fueli liters of gas.\n",
    "\n",
    "The car starts with an infinite tank of gas, which initially has startFuel liters of fuel in it. It uses one liter of gas per one mile that it drives. When the car reaches a gas station, it may stop and refuel, transferring all the gas from the station into the car.\n",
    "\n",
    "Return the minimum number of refueling stops the car must make in order to reach its destination. If it cannot reach the destination, return -1.\n",
    "\n",
    "Note that if the car reaches a gas station with 0 fuel left, the car can still refuel there. If the car reaches the destination with 0 fuel left, it is still considered to have arrived.\n",
    "\n",
    " \n",
    "\n",
    "Example 1:\n",
    "\n",
    "Input: target = 1, startFuel = 1, stations = []\n",
    "Output: 0\n",
    "Explanation: We can reach the target without refueling.\n",
    "\n",
    "Example 2:\n",
    "\n",
    "Input: target = 100, startFuel = 1, stations = [[10,100]]\n",
    "Output: -1\n",
    "Explanation: We can not reach the target (or even the first gas station).\n",
    "\n",
    "Example 3:\n",
    "\n",
    "Input: target = 100, startFuel = 10, stations = [[10,60],[20,30],[30,30],[60,40]]\n",
    "Output: 2\n",
    "Explanation: We start with 10 liters of fuel.\n",
    "We drive to position 10, expending 10 liters of fuel.  We refuel from 0 liters to 60 liters of gas.\n",
    "Then, we drive from position 10 to position 60 (expending 50 liters of fuel),\n",
    "and refuel from 10 liters to 50 liters of gas.  We then drive to and reach the target.\n",
    "We made 2 refueling stops along the way, so we return 2.\n",
    "\n",
    " \n",
    "\n",
    "Constraints:\n",
    "\n",
    "    1 <= target, startFuel <= 109\n",
    "    0 <= stations.length <= 500\n",
    "    0 <= positioni <= positioni+1 < target\n",
    "    1 <= fueli < 109\n",
    "\n"
   ]
  },
  {
   "cell_type": "code",
   "execution_count": 7,
   "id": "e2c4862f-d160-429e-8ae9-e2d914a721b1",
   "metadata": {},
   "outputs": [],
   "source": [
    "from typing import List\n",
    "from functools import cache\n",
    "from math import inf\n",
    "\n",
    "\n",
    "class Solution:\n",
    "    def minRefuelStops(self, target: int, startFuel: int, stations: List[List[int]]) -> int:\n",
    "        \n",
    "        @cache\n",
    "        def check(position, fuel, min_station):\n",
    "            if target - position <= fuel:\n",
    "                return 0\n",
    "            \n",
    "            possible_stations = []\n",
    "            for i in range(min_station, len(stations)):\n",
    "                if stations[i][0] - position <= fuel:\n",
    "                    possible_stations.append(\n",
    "                        check(stations[i][0], fuel - stations[i][0] + position + stations[i][1], i + 1))\n",
    "            if possible_stations != []:\n",
    "                return 1 + min(possible_stations)\n",
    "            else: \n",
    "                return inf\n",
    "            \n",
    "        result = check(0, startFuel, 0)\n",
    "        if result == inf:\n",
    "            return -1\n",
    "            \n",
    "        return result\n",
    "            "
   ]
  },
  {
   "cell_type": "code",
   "execution_count": 16,
   "id": "503ad757-3ce2-46a4-bc60-cd9d088e30fe",
   "metadata": {},
   "outputs": [
    {
     "data": {
      "text/plain": [
       "-1"
      ]
     },
     "execution_count": 16,
     "metadata": {},
     "output_type": "execute_result"
    }
   ],
   "source": [
    "s = Solution()\n",
    "s.minRefuelStops(100, 50, [[25, 30]])"
   ]
  },
  {
   "cell_type": "code",
   "execution_count": 9,
   "id": "b245077e-3599-47ad-aaed-228efec671c6",
   "metadata": {},
   "outputs": [],
   "source": [
    "class Solution(object):\n",
    "    def minRefuelStops(self, target: int, startFuel: int, stations: List[List[int]]) -> int:\n",
    "        dp = [startFuel] + [0] * len(stations)\n",
    "        for i, (location, capacity) in enumerate(stations):\n",
    "            for t in range(i, -1, -1):\n",
    "                if dp[t] >= location:\n",
    "                    dp[t + 1] = max(dp[t + 1], dp[t] + capacity)\n",
    "\n",
    "        for i, d in enumerate(dp):\n",
    "            if d >= target: \n",
    "                return i\n",
    "        \n",
    "        return -1"
   ]
  },
  {
   "cell_type": "code",
   "execution_count": 15,
   "id": "0311a70f-3141-40b8-83c0-63245ca0e44f",
   "metadata": {},
   "outputs": [],
   "source": [
    "import heapq\n",
    "\n",
    "class Solution(object):\n",
    "    def minRefuelStops(self, target: int, startFuel: int, stations: List[List[int]]) -> int:\n",
    "        pq = []  # A maxheap is simulated using negative values\n",
    "        stations.append((target, float('inf')))\n",
    "\n",
    "        ans = prev = 0\n",
    "        for location, capacity in stations:\n",
    "            startFuel -= location - prev\n",
    "            while pq and startFuel < 0:  # must refuel in past\n",
    "                startFuel += -heapq.heappop(pq)\n",
    "                ans += 1\n",
    "            if startFuel < 0: \n",
    "                return -1\n",
    "            heapq.heappush(pq, -capacity)\n",
    "            prev = location\n",
    "\n",
    "        return ans"
   ]
  },
  {
   "cell_type": "code",
   "execution_count": null,
   "id": "e5718f8b-fd14-4269-ae8a-39749057d0cc",
   "metadata": {},
   "outputs": [],
   "source": []
  }
 ],
 "metadata": {
  "kernelspec": {
   "display_name": "Python 3 (ipykernel)",
   "language": "python",
   "name": "python3"
  },
  "language_info": {
   "codemirror_mode": {
    "name": "ipython",
    "version": 3
   },
   "file_extension": ".py",
   "mimetype": "text/x-python",
   "name": "python",
   "nbconvert_exporter": "python",
   "pygments_lexer": "ipython3",
   "version": "3.9.12"
  }
 },
 "nbformat": 4,
 "nbformat_minor": 5
}
