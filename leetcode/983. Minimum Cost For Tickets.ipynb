{
 "cells": [
  {
   "cell_type": "markdown",
   "id": "173c32aa-46af-469d-879f-1a5d74a2eb21",
   "metadata": {},
   "source": [
    "You have planned some train traveling one year in advance. The days of the year in which you will travel are given as an integer array days. Each day is an integer from 1 to 365.\n",
    "\n",
    "Train tickets are sold in three different ways:\n",
    "\n",
    "a 1-day pass is sold for costs[0] dollars,\n",
    "a 7-day pass is sold for costs[1] dollars, and\n",
    "a 30-day pass is sold for costs[2] dollars.\n",
    "The passes allow that many days of consecutive travel.\n",
    "\n",
    "For example, if we get a 7-day pass on day 2, then we can travel for 7 days: 2, 3, 4, 5, 6, 7, and 8.\n",
    "Return the minimum number of dollars you need to travel every day in the given list of days.\n",
    "\n",
    " \n",
    "\n",
    "Example 1:\n",
    "\n",
    "Input: days = [1,4,6,7,8,20], costs = [2,7,15]\n",
    "Output: 11\n",
    "Explanation: For example, here is one way to buy passes that lets you travel your travel plan:\n",
    "On day 1, you bought a 1-day pass for costs[0] = $2, which covered day 1.\n",
    "On day 3, you bought a 7-day pass for costs[1] = $7, which covered days 3, 4, ..., 9.\n",
    "On day 20, you bought a 1-day pass for costs[0] = $2, which covered day 20.\n",
    "In total, you spent $11 and covered all the days of your travel.\n",
    "Example 2:\n",
    "\n",
    "Input: days = [1,2,3,4,5,6,7,8,9,10,30,31], costs = [2,7,15]\n",
    "Output: 17\n",
    "Explanation: For example, here is one way to buy passes that lets you travel your travel plan:\n",
    "On day 1, you bought a 30-day pass for costs[2] = $15 which covered days 1, 2, ..., 30.\n",
    "On day 31, you bought a 1-day pass for costs[0] = $2 which covered day 31.\n",
    "In total, you spent $17 and covered all the days of your travel.\n",
    " \n",
    "\n",
    "Constraints:\n",
    "\n",
    "1 <= days.length <= 365\n",
    "1 <= days[i] <= 365\n",
    "days is in strictly increasing order.\n",
    "costs.length == 3\n",
    "1 <= costs[i] <= 1000"
   ]
  },
  {
   "cell_type": "code",
   "execution_count": 1,
   "id": "913d618a-4541-42eb-8437-0887b5b6c2c2",
   "metadata": {},
   "outputs": [],
   "source": [
    "from typing import List\n",
    "from functools import cache\n",
    "\n",
    "class Solution:\n",
    "    def mincostTickets(self, days: List[int], costs: List[int]) -> int:\n",
    "        day2idx = {days[0]: 0}\n",
    "        for i in range(len(days)):\n",
    "            if i > 0:\n",
    "                for day in range(days[i - 1] + 1, days[i] + 1):\n",
    "                    day2idx[day] = i\n",
    "        last_day = max(days)\n",
    "\n",
    "        @cache\n",
    "        def calc(curr_day):\n",
    "            if curr_day > last_day: \n",
    "                return 0\n",
    "            curr_day = days[day2idx[curr_day]]\n",
    "            return min(\n",
    "                costs[0] + calc(curr_day + 1),\n",
    "                costs[1] + calc(curr_day + 7),\n",
    "                costs[2] + calc(curr_day + 30)\n",
    "            )\n",
    "\n",
    "        return calc(days[0])"
   ]
  },
  {
   "cell_type": "code",
   "execution_count": 2,
   "id": "55d10ecd-011e-4389-be13-71b70ca024b8",
   "metadata": {},
   "outputs": [],
   "source": [
    "s = Solution()"
   ]
  },
  {
   "cell_type": "code",
   "execution_count": 3,
   "id": "2371b014-e0bf-4eea-91ff-bea3dac20097",
   "metadata": {},
   "outputs": [
    {
     "name": "stdout",
     "output_type": "stream",
     "text": [
      "{1: 0, 2: 1, 3: 1, 4: 1, 5: 2, 6: 2, 7: 3, 8: 4, 9: 5, 10: 5, 11: 5, 12: 5, 13: 5, 14: 5, 15: 5, 16: 5, 17: 5, 18: 5, 19: 5, 20: 5}\n",
      "curr 1\n",
      "curr 4\n",
      "curr 6\n",
      "curr 7\n",
      "curr 8\n",
      "curr 20\n",
      "curr 20\n",
      "curr 20\n",
      "curr 20\n",
      "curr 20\n"
     ]
    },
    {
     "data": {
      "text/plain": [
       "11"
      ]
     },
     "execution_count": 3,
     "metadata": {},
     "output_type": "execute_result"
    }
   ],
   "source": [
    "s.mincostTickets([1,4,6,7,8,20], costs=[2,7,15])"
   ]
  },
  {
   "cell_type": "code",
   "execution_count": null,
   "id": "0bac7ee4-e096-44f6-915d-d5afb932f53d",
   "metadata": {},
   "outputs": [],
   "source": [
    "class Solution:\n",
    "    def mincostTickets(self, days, costs):\n",
    "        dp = [0] * 366\n",
    "        travel_days = set(days)\n",
    "        for i in range(1, 366):\n",
    "            if i not in travel_days:\n",
    "                dp[i] = dp[i-1]\n",
    "            else:\n",
    "                dp[i] = min(\n",
    "                    dp[i - 1] + costs[0], \n",
    "                    dp[max(0, i - 7)] + costs[1], \n",
    "                    dp[max(0, i - 30)] + costs[2]\n",
    "                )\n",
    "        return dp[365]"
   ]
  }
 ],
 "metadata": {
  "kernelspec": {
   "display_name": "Python 3",
   "language": "python",
   "name": "python3"
  },
  "language_info": {
   "codemirror_mode": {
    "name": "ipython",
    "version": 3
   },
   "file_extension": ".py",
   "mimetype": "text/x-python",
   "name": "python",
   "nbconvert_exporter": "python",
   "pygments_lexer": "ipython3",
   "version": "3.9.12"
  }
 },
 "nbformat": 4,
 "nbformat_minor": 5
}
