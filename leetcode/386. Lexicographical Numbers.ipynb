{
 "cells": [
  {
   "cell_type": "markdown",
   "id": "4d7464bc-62e6-4d9f-a38f-850ce4188e97",
   "metadata": {},
   "source": [
    "Given an integer n, return all the numbers in the range [1, n] sorted in lexicographical order.\n",
    "\n",
    "You must write an algorithm that runs in O(n) time and uses O(1) extra space. \n",
    "\n",
    " \n",
    "\n",
    "Example 1:\n",
    "\n",
    "Input: n = 13\n",
    "Output: [1,10,11,12,13,2,3,4,5,6,7,8,9]\n",
    "\n",
    "Example 2:\n",
    "\n",
    "Input: n = 2\n",
    "Output: [1,2]\n",
    "\n",
    " \n",
    "\n",
    "Constraints:\n",
    "\n",
    "    1 <= n <= 5 * 104\n",
    "\n"
   ]
  },
  {
   "cell_type": "code",
   "execution_count": null,
   "id": "9dbc51a6-292e-43dd-8bba-4a00983d1c46",
   "metadata": {},
   "outputs": [],
   "source": [
    "class Solution:\n",
    "    def lexicalOrder(self, n: int) -> List[int]:\n",
    "        return sorted(range(1, n + 1), key=lambda x: str(x))"
   ]
  },
  {
   "cell_type": "code",
   "execution_count": null,
   "id": "b916d0d6-0111-4e51-bff4-74d69a339cc2",
   "metadata": {},
   "outputs": [],
   "source": [
    "class Solution:\n",
    "    def lexicalOrder(self, n: int) -> List[int]:\n",
    "        lexicographical_numbers = []\n",
    "        # Start generating numbers from 1 to 9\n",
    "        for start in range(1, 10):\n",
    "            self._generate_lexical_numbers(start, n, lexicographical_numbers)\n",
    "        return lexicographical_numbers\n",
    "\n",
    "    def _generate_lexical_numbers(\n",
    "        self, current_number: int, limit: int, result: List[int]\n",
    "    ):\n",
    "        # If the current number exceeds the limit, stop recursion\n",
    "        if current_number > limit:\n",
    "            return\n",
    "        # Add the current number to the result\n",
    "        result.append(current_number)\n",
    "\n",
    "        # Try to append digits from 0 to 9 to the current number\n",
    "        for next_digit in range(10):\n",
    "            next_number = current_number * 10 + next_digit\n",
    "            # If the next number is within the limit, continue recursion\n",
    "            if next_number <= limit:\n",
    "                self._generate_lexical_numbers(next_number, limit, result)\n",
    "            else:\n",
    "                break  # No need to continue if next_number exceeds limit"
   ]
  }
 ],
 "metadata": {
  "kernelspec": {
   "display_name": "Python 3 (ipykernel)",
   "language": "python",
   "name": "python3"
  },
  "language_info": {
   "codemirror_mode": {
    "name": "ipython",
    "version": 3
   },
   "file_extension": ".py",
   "mimetype": "text/x-python",
   "name": "python",
   "nbconvert_exporter": "python",
   "pygments_lexer": "ipython3",
   "version": "3.12.4"
  }
 },
 "nbformat": 4,
 "nbformat_minor": 5
}
