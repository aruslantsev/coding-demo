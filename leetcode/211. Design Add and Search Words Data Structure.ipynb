{
 "cells": [
  {
   "cell_type": "markdown",
   "id": "6863e11a-afd4-4f80-a0d2-698ad2dd79f6",
   "metadata": {},
   "source": [
    "Design a data structure that supports adding new words and finding if a string matches any previously added string.\n",
    "\n",
    "Implement the WordDictionary class:\n",
    "\n",
    "    WordDictionary() Initializes the object.\n",
    "    void addWord(word) Adds word to the data structure, it can be matched later.\n",
    "    bool search(word) Returns true if there is any string in the data structure that matches word or false otherwise. word may contain dots '.' where dots can be matched with any letter.\n",
    "\n",
    " \n",
    "\n",
    "Example:\n",
    "\n",
    "Input\n",
    "[\"WordDictionary\",\"addWord\",\"addWord\",\"addWord\",\"search\",\"search\",\"search\",\"search\"]\n",
    "[[],[\"bad\"],[\"dad\"],[\"mad\"],[\"pad\"],[\"bad\"],[\".ad\"],[\"b..\"]]\n",
    "Output\n",
    "[null,null,null,null,false,true,true,true]\n",
    "\n",
    "Explanation\n",
    "WordDictionary wordDictionary = new WordDictionary();\n",
    "wordDictionary.addWord(\"bad\");\n",
    "wordDictionary.addWord(\"dad\");\n",
    "wordDictionary.addWord(\"mad\");\n",
    "wordDictionary.search(\"pad\"); // return False\n",
    "wordDictionary.search(\"bad\"); // return True\n",
    "wordDictionary.search(\".ad\"); // return True\n",
    "wordDictionary.search(\"b..\"); // return True\n",
    "\n",
    " \n",
    "\n",
    "Constraints:\n",
    "\n",
    "    1 <= word.length <= 500\n",
    "    word in addWord consists lower-case English letters.\n",
    "    word in search consist of  '.' or lower-case English letters.\n",
    "    At most 50000 calls will be made to addWord and search.\n",
    "\n"
   ]
  },
  {
   "cell_type": "code",
   "execution_count": 1,
   "id": "bc02402c-08eb-4a68-981c-05ff0801d267",
   "metadata": {},
   "outputs": [],
   "source": [
    "\n",
    "class WordDictionary:\n",
    "\n",
    "    def __init__(self):\n",
    "        self.words = dict()\n",
    "\n",
    "    def addWord(self, word: str) -> None:\n",
    "        l = len(word)\n",
    "        if l not in self.words:\n",
    "            self.words[l] = {word}\n",
    "        else:\n",
    "            self.words[l] |= {word}\n",
    "\n",
    "    def search(self, word: str) -> bool:\n",
    "        candidates_idx = len(word)\n",
    "        if candidates_idx not in self.words:\n",
    "            return False\n",
    "        candidates = self.words[candidates_idx]\n",
    "        # result = False\n",
    "        for candidate in candidates:\n",
    "            match = all([((word[i] == '.') or (word[i] == candidate[i])) for i in range(candidates_idx)])\n",
    "            if match:\n",
    "                return True\n",
    "        return False"
   ]
  },
  {
   "cell_type": "code",
   "execution_count": 2,
   "id": "05478db1-16c6-4910-86e5-976c0e88804a",
   "metadata": {},
   "outputs": [],
   "source": [
    "w = WordDictionary()"
   ]
  },
  {
   "cell_type": "code",
   "execution_count": 4,
   "id": "d35f3de7-4638-4bd9-9566-c2360ae6c037",
   "metadata": {},
   "outputs": [
    {
     "data": {
      "text/plain": [
       "[None, None, None, False, True, True, True]"
      ]
     },
     "execution_count": 4,
     "metadata": {},
     "output_type": "execute_result"
    }
   ],
   "source": [
    "[getattr(w, action)(word) \n",
    " for action, word in zip(\n",
    "     [\"addWord\",\"addWord\",\"addWord\",\"search\",\"search\",\"search\",\"search\"],\n",
    "     [\"bad\",\"dad\",\"mad\",\"pad\",\"bad\",\".ad\",\"b..\"])\n",
    "]\n"
   ]
  },
  {
   "cell_type": "code",
   "execution_count": null,
   "id": "192a52b5-57f1-4895-a9b2-74327e2b9e8f",
   "metadata": {},
   "outputs": [],
   "source": []
  }
 ],
 "metadata": {
  "kernelspec": {
   "display_name": "Python 3 (ipykernel)",
   "language": "python",
   "name": "python3"
  },
  "language_info": {
   "codemirror_mode": {
    "name": "ipython",
    "version": 3
   },
   "file_extension": ".py",
   "mimetype": "text/x-python",
   "name": "python",
   "nbconvert_exporter": "python",
   "pygments_lexer": "ipython3",
   "version": "3.9.10"
  }
 },
 "nbformat": 4,
 "nbformat_minor": 5
}
