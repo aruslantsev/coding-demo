{
 "cells": [
  {
   "cell_type": "markdown",
   "id": "8f624392-a9d5-49ec-bc2c-5468f61891f4",
   "metadata": {},
   "source": [
    "Given an array of strings nums containing n unique binary strings each of length n, return a binary string of length n that does not appear in nums. If there are multiple answers, you may return any of them.\n",
    "\n",
    " \n",
    "\n",
    "Example 1:\n",
    "\n",
    "Input: nums = [\"01\",\"10\"]\n",
    "Output: \"11\"\n",
    "Explanation: \"11\" does not appear in nums. \"00\" would also be correct.\n",
    "\n",
    "Example 2:\n",
    "\n",
    "Input: nums = [\"00\",\"01\"]\n",
    "Output: \"11\"\n",
    "Explanation: \"11\" does not appear in nums. \"10\" would also be correct.\n",
    "\n",
    "Example 3:\n",
    "\n",
    "Input: nums = [\"111\",\"011\",\"001\"]\n",
    "Output: \"101\"\n",
    "Explanation: \"101\" does not appear in nums. \"000\", \"010\", \"100\", and \"110\" would also be correct.\n",
    "\n",
    " \n",
    "\n",
    "Constraints:\n",
    "\n",
    "    n == nums.length\n",
    "    1 <= n <= 16\n",
    "    nums[i].length == n\n",
    "    nums[i] is either '0' or '1'.\n",
    "    All the strings of nums are unique.\n",
    "\n"
   ]
  },
  {
   "cell_type": "code",
   "execution_count": null,
   "id": "d39346cd-8221-476a-969f-9ef8ebee5056",
   "metadata": {},
   "outputs": [],
   "source": [
    "class Solution:\n",
    "    def findDifferentBinaryString(self, nums: List[str]) -> str:\n",
    "        integers = set()\n",
    "        for num in nums:\n",
    "            integers.add(int(num, 2))\n",
    "\n",
    "        n = len(nums)\n",
    "        for num in range(n + 1):\n",
    "            if num not in integers:\n",
    "                ans = bin(num)[2:]\n",
    "                return \"0\" * (n - len(ans)) + ans\n",
    "            \n",
    "        return \"\"\n",
    "        "
   ]
  },
  {
   "cell_type": "code",
   "execution_count": null,
   "id": "ae36a143-0912-4fea-8481-44dc93367c55",
   "metadata": {},
   "outputs": [],
   "source": [
    "class Solution:\n",
    "    def findDifferentBinaryString(self, nums: List[str]) -> str:\n",
    "        ans = []\n",
    "        for i in range(len(nums)):\n",
    "            curr = nums[i][i]\n",
    "            ans.append(\"0\" if curr == \"1\" else 0)  # ans differs from first number in 1st digit, from second in 2nd, ..., from n-th in n-th\n",
    "        return \"\".join(ans)"
   ]
  }
 ],
 "metadata": {
  "kernelspec": {
   "display_name": "Python 3 (ipykernel)",
   "language": "python",
   "name": "python3"
  },
  "language_info": {
   "codemirror_mode": {
    "name": "ipython",
    "version": 3
   },
   "file_extension": ".py",
   "mimetype": "text/x-python",
   "name": "python",
   "nbconvert_exporter": "python",
   "pygments_lexer": "ipython3",
   "version": "3.12.7"
  }
 },
 "nbformat": 4,
 "nbformat_minor": 5
}
