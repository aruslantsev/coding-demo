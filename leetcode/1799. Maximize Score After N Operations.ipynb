{
 "cells": [
  {
   "cell_type": "markdown",
   "id": "058d1059-cfd8-4cfc-872e-42f360c5f9f2",
   "metadata": {},
   "source": [
    "You are given nums, an array of positive integers of size 2 * n. You must perform n operations on this array.\n",
    "\n",
    "In the ith operation (1-indexed), you will:\n",
    "\n",
    "    Choose two elements, x and y.\n",
    "    Receive a score of i * gcd(x, y).\n",
    "    Remove x and y from nums.\n",
    "\n",
    "Return the maximum score you can receive after performing n operations.\n",
    "\n",
    "The function gcd(x, y) is the greatest common divisor of x and y.\n",
    "\n",
    " \n",
    "\n",
    "Example 1:\n",
    "\n",
    "Input: nums = [1,2]\n",
    "Output: 1\n",
    "Explanation: The optimal choice of operations is:\n",
    "(1 * gcd(1, 2)) = 1\n",
    "\n",
    "Example 2:\n",
    "\n",
    "Input: nums = [3,4,6,8]\n",
    "Output: 11\n",
    "Explanation: The optimal choice of operations is:\n",
    "(1 * gcd(3, 6)) + (2 * gcd(4, 8)) = 3 + 8 = 11\n",
    "\n",
    "Example 3:\n",
    "\n",
    "Input: nums = [1,2,3,4,5,6]\n",
    "Output: 14\n",
    "Explanation: The optimal choice of operations is:\n",
    "(1 * gcd(1, 5)) + (2 * gcd(2, 4)) + (3 * gcd(3, 6)) = 1 + 4 + 9 = 14\n",
    "\n",
    " \n",
    "\n",
    "Constraints:\n",
    "\n",
    "    1 <= n <= 7\n",
    "    nums.length == 2 * n\n",
    "    1 <= nums[i] <= 106\n",
    "\n",
    "\n"
   ]
  },
  {
   "cell_type": "code",
   "execution_count": 11,
   "id": "30e2be10-4278-4fc0-8124-f3736880a332",
   "metadata": {},
   "outputs": [],
   "source": [
    "from math import gcd\n",
    "from typing import List\n",
    "from functools import cache\n",
    "\n",
    "class Solution:\n",
    "    @cache\n",
    "    def backtrack(self, step, mask):\n",
    "        if all(self.used) or step > self.n // 2:\n",
    "            return 0\n",
    "        ans = 0\n",
    "        for i in range(self.n - 1):\n",
    "            if not self.used[i]:\n",
    "                self.used[i] = True\n",
    "                for j in range(i + 1, self.n):\n",
    "                    if not self.used[j]:\n",
    "                        self.used[j] = True\n",
    "                        ans = max(\n",
    "                            ans, \n",
    "                            step * self.gcds[(i, j)] + self.backtrack(step + 1, tuple(self.used))\n",
    "                        )\n",
    "                        self.used[j] = False\n",
    "                self.used[i] = False\n",
    "        return ans\n",
    "\n",
    "\n",
    "    def maxScore(self, nums: List[int]) -> int:\n",
    "        self.n = len(nums)\n",
    "        self.gcds = {}\n",
    "        for i in range(len(nums) - 1):\n",
    "            for j in range(i + 1, len(nums)):\n",
    "                d = gcd(nums[i], nums[j])\n",
    "                self.gcds[(i, j)] = d\n",
    "                self.gcds[(j, i)] = d\n",
    "\n",
    "        self.used = [False for _ in nums]\n",
    "        return self.backtrack(1, tuple(self.used))"
   ]
  },
  {
   "cell_type": "code",
   "execution_count": 12,
   "id": "7a54fb3b-fefa-43a5-a119-ccace6830d8a",
   "metadata": {},
   "outputs": [
    {
     "data": {
      "text/plain": [
       "186"
      ]
     },
     "execution_count": 12,
     "metadata": {},
     "output_type": "execute_result"
    }
   ],
   "source": [
    "s = Solution()\n",
    "s.maxScore([765621,534896,219248,635069,452624,856729,21830,236322,18733,416616])"
   ]
  },
  {
   "cell_type": "code",
   "execution_count": 13,
   "id": "1a6766c6-e1ca-497d-841c-9d519439c9de",
   "metadata": {},
   "outputs": [
    {
     "data": {
      "text/plain": [
       "3032"
      ]
     },
     "execution_count": 13,
     "metadata": {},
     "output_type": "execute_result"
    }
   ],
   "source": [
    "s.maxScore([773274,313112,131789,222437,918065,49745,321270,74163,900218,80160,325440,961730])"
   ]
  },
  {
   "cell_type": "code",
   "execution_count": null,
   "id": "3e1501e7-76d5-4f1a-aa75-b252c9245213",
   "metadata": {},
   "outputs": [],
   "source": []
  }
 ],
 "metadata": {
  "kernelspec": {
   "display_name": "common",
   "language": "python",
   "name": "common"
  },
  "language_info": {
   "codemirror_mode": {
    "name": "ipython",
    "version": 3
   },
   "file_extension": ".py",
   "mimetype": "text/x-python",
   "name": "python",
   "nbconvert_exporter": "python",
   "pygments_lexer": "ipython3",
   "version": "3.9.15"
  }
 },
 "nbformat": 4,
 "nbformat_minor": 5
}
