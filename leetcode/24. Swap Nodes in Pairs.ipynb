{
 "cells": [
  {
   "cell_type": "markdown",
   "id": "c0941716",
   "metadata": {},
   "source": [
    "Given a linked list, swap every two adjacent nodes and return its head. You must solve the problem without modifying the values in the list's nodes (i.e., only nodes themselves may be changed.)\n",
    "\n",
    "Example 1:\n",
    "\n",
    "\n",
    "Input: head = [1,2,3,4]\n",
    "Output: [2,1,4,3]\n",
    "Example 2:\n",
    "\n",
    "Input: head = []\n",
    "Output: []\n",
    "Example 3:\n",
    "\n",
    "Input: head = [1]\n",
    "Output: [1]\n",
    " \n",
    "\n",
    "Constraints:\n",
    "\n",
    "The number of nodes in the list is in the range [0, 100].\n",
    "0 <= Node.val <= 100"
   ]
  },
  {
   "cell_type": "code",
   "execution_count": 1,
   "id": "fb6b4e09",
   "metadata": {},
   "outputs": [],
   "source": [
    "from typing import Optional\n",
    "\n",
    "# Definition for singly-linked list.\n",
    "class ListNode:\n",
    "    def __init__(self, val=0, next=None):\n",
    "        self.val = val\n",
    "        self.next = next\n",
    "class Solution:\n",
    "    def swapPairs(self, head: Optional[ListNode]) -> Optional[ListNode]:\n",
    "        if not head: return head\n",
    "\n",
    "        prev, cur, ans = None, head, head.next\n",
    "        while cur and cur.next:\n",
    "            adj = cur.next\n",
    "            if prev: prev.next = adj\n",
    "\n",
    "            cur.next, adj.next = adj.next, cur\n",
    "            prev, cur = cur, cur.next\n",
    "\n",
    "        return ans or head\n",
    "        "
   ]
  },
  {
   "cell_type": "code",
   "execution_count": null,
   "id": "9b68d39e",
   "metadata": {},
   "outputs": [],
   "source": []
  }
 ],
 "metadata": {
  "kernelspec": {
   "display_name": "Python 3 (ipykernel)",
   "language": "python",
   "name": "python3"
  },
  "language_info": {
   "codemirror_mode": {
    "name": "ipython",
    "version": 3
   },
   "file_extension": ".py",
   "mimetype": "text/x-python",
   "name": "python",
   "nbconvert_exporter": "python",
   "pygments_lexer": "ipython3",
   "version": "3.9.10"
  }
 },
 "nbformat": 4,
 "nbformat_minor": 5
}
