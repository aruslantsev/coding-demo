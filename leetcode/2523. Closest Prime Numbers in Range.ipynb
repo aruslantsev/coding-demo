{
 "cells": [
  {
   "cell_type": "markdown",
   "id": "9addebfa-66e2-4d02-ac64-5f725bfc8c9d",
   "metadata": {},
   "source": [
    "Given two positive integers left and right, find the two integers num1 and num2 such that:\n",
    "\n",
    "    left <= num1 < num2 <= right .\n",
    "    Both num1 and num2 are \n",
    "\n",
    "    .\n",
    "    num2 - num1 is the minimum amongst all other pairs satisfying the above conditions.\n",
    "\n",
    "Return the positive integer array ans = [num1, num2]. If there are multiple pairs satisfying these conditions, return the one with the smallest num1 value. If no such numbers exist, return [-1, -1].\n",
    "\n",
    " \n",
    "\n",
    "Example 1:\n",
    "\n",
    "Input: left = 10, right = 19\n",
    "Output: [11,13]\n",
    "Explanation: The prime numbers between 10 and 19 are 11, 13, 17, and 19.\n",
    "The closest gap between any pair is 2, which can be achieved by [11,13] or [17,19].\n",
    "Since 11 is smaller than 17, we return the first pair.\n",
    "\n",
    "Example 2:\n",
    "\n",
    "Input: left = 4, right = 6\n",
    "Output: [-1,-1]\n",
    "Explanation: There exists only one prime number in the given range, so the conditions cannot be satisfied.\n",
    "\n",
    " \n",
    "\n",
    "Constraints:\n",
    "\n",
    "    1 <= left <= right <= 106\n"
   ]
  },
  {
   "cell_type": "code",
   "execution_count": null,
   "id": "04bef9b7-2743-4641-9ceb-3a751f33c536",
   "metadata": {},
   "outputs": [],
   "source": [
    "class Solution:\n",
    "    def closestPrimes(self, left: int, right: int) -> List[int]:\n",
    "        sieve = self.get_sieve(right)\n",
    "        prime = [num for num in range(left, right + 1) if sieve[num]]\n",
    "        if len(prime) < 2:\n",
    "            return -1, -1\n",
    "        min_difference = float(\"inf\")\n",
    "        closest_pair = (-1, -1)\n",
    "\n",
    "        for index in range(1, len(prime)):\n",
    "            difference = prime[index] - prime[index - 1]\n",
    "            if difference < min_difference:\n",
    "                min_difference = difference\n",
    "                closest_pair = prime[index - 1], prime[index]\n",
    "\n",
    "        return closest_pair\n",
    "        \n",
    "\n",
    "    @classmethod\n",
    "    def get_sieve(self, limit):\n",
    "        sieve = [True] * (limit + 1)\n",
    "        sieve[0] = sieve[1] = False\n",
    "        for i in range(2, int(limit**0.5) + 1):\n",
    "            if sieve[i]:\n",
    "                for m in range(i**2, limit + 1, i):\n",
    "                    sieve[m] = False\n",
    "        return sieve\n",
    "        "
   ]
  }
 ],
 "metadata": {
  "kernelspec": {
   "display_name": "Python 3 (ipykernel)",
   "language": "python",
   "name": "python3"
  },
  "language_info": {
   "codemirror_mode": {
    "name": "ipython",
    "version": 3
   },
   "file_extension": ".py",
   "mimetype": "text/x-python",
   "name": "python",
   "nbconvert_exporter": "python",
   "pygments_lexer": "ipython3",
   "version": "3.12.7"
  }
 },
 "nbformat": 4,
 "nbformat_minor": 5
}
