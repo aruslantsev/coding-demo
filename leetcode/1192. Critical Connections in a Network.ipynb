{
 "cells": [
  {
   "attachments": {
    "9851cb60-a858-4aa1-ad44-5351f06e5a08.png": {
     "image/png": "[encoded data removed]"
    }
   },
   "cell_type": "markdown",
   "id": "2aa53b07-98a6-488d-bbee-c8be27ba1284",
   "metadata": {},
   "source": [
    "There are n servers numbered from 0 to n - 1 connected by undirected server-to-server connections forming a network where connections[i] = [ai, bi] represents a connection between servers ai and bi. Any server can reach other servers directly or indirectly through the network.\n",
    "\n",
    "A critical connection is a connection that, if removed, will make some servers unable to reach some other server.\n",
    "\n",
    "Return all critical connections in the network in any order.\n",
    "\n",
    " \n",
    "\n",
    "Example 1:\n",
    "\n",
    "![изображение.png](attachment:9851cb60-a858-4aa1-ad44-5351f06e5a08.png)\n",
    "\n",
    "Input: n = 4, connections = [[0,1],[1,2],[2,0],[1,3]]\n",
    "Output: [[1,3]]\n",
    "Explanation: [[3,1]] is also accepted.\n",
    "\n",
    "Example 2:\n",
    "\n",
    "Input: n = 2, connections = [[0,1]]\n",
    "Output: [[0,1]]\n",
    "\n",
    " \n",
    "\n",
    "Constraints:\n",
    "\n",
    "    2 <= n <= 105\n",
    "    n - 1 <= connections.length <= 105\n",
    "    0 <= ai, bi <= n - 1\n",
    "    ai != bi\n",
    "    There are no repeated connections.\n",
    "\n"
   ]
  },
  {
   "cell_type": "code",
   "execution_count": 68,
   "id": "a87c0f83-b1ac-4564-9cb4-fcebd574132e",
   "metadata": {},
   "outputs": [],
   "source": [
    "from typing import List\n",
    "from collections import deque\n",
    "\n",
    "\n",
    "class Solution:\n",
    "    def criticalConnections(self, n: int, connections: List[List[int]]) -> List[List[int]]:\n",
    "        graph = [[0 for _ in range(n)] for _ in range(n)]\n",
    "        for (i, j) in connections:\n",
    "            graph[i][j] = 1\n",
    "            graph[j][i] = 1\n",
    "            \n",
    "        q = deque()\n",
    "            \n",
    "        for i in range(n):\n",
    "            for j in range(i + 1, n):\n",
    "                q.append([i, j, i, []])\n",
    "                \n",
    "        tracks = {}\n",
    "                \n",
    "        while q:\n",
    "            start, end, curr, track = q.popleft()\n",
    "            if curr == end:\n",
    "                track = track + [curr]\n",
    "                point = tuple([start, end])\n",
    "                if point not in tracks:\n",
    "                    tracks[point] = []\n",
    "                tracks[point].append(track)\n",
    "            else:\n",
    "                for i, val in enumerate(graph[curr]):\n",
    "                    if (val == 1) and (i not in track):\n",
    "                        q.append([start, end, i, track + [curr]])\n",
    "                        \n",
    "        ans = []\n",
    "        for key, tracks_list in tracks.items():\n",
    "            if len(tracks_list) == 1:\n",
    "                ans.append(tracks_list[0])\n",
    "                    \n",
    "        return ans"
   ]
  },
  {
   "cell_type": "code",
   "execution_count": 50,
   "id": "f5cf1cc3-86e7-4c65-805c-e2706cb533f1",
   "metadata": {},
   "outputs": [],
   "source": [
    "from collections import defaultdict\n",
    "from typing import List\n",
    "\n",
    "class Solution:        \n",
    "    def __init__(self):        \n",
    "        self.rank = None\n",
    "        self.graph = defaultdict(list)\n",
    "        self.answer = []\n",
    "        self.inf = 10 ** 6\n",
    "    \n",
    "    def dfs(self, node, rank, parent=None):\n",
    "        if self.rank[node] != self.inf: \n",
    "            return self.rank[node]\n",
    "        \n",
    "        self.rank[node] = rank\n",
    "        for adj in self.graph[node]:\n",
    "            if adj == parent:\n",
    "                continue\n",
    "            \n",
    "            if self.rank[adj] == self.inf:\n",
    "                self.dfs(adj, rank + 1, node)\n",
    "            \n",
    "            self.rank[node] = min(self.rank[node], self.rank[adj])\n",
    "            \n",
    "            if self.rank[adj] > rank: \n",
    "                # We found a critical edge\n",
    "                self.answer.append( [node, adj] )\n",
    "        \n",
    "        return self.rank[node]\n",
    "        \n",
    "    def criticalConnections(self, n: int, connections: List[List[int]]) -> List[List[int]]:  \n",
    "        \n",
    "        for u, v in connections: \n",
    "            self.graph[u].append(v)\n",
    "            self.graph[v].append(u)\n",
    "        \n",
    "        self.rank = [self.inf for _ in range(n)]\n",
    "        \n",
    "        self.dfs(0, 0)\n",
    "        return self.answer\n",
    "            "
   ]
  },
  {
   "cell_type": "code",
   "execution_count": 43,
   "id": "0f564761-f5c7-4f59-be0b-406eb5ea26c7",
   "metadata": {},
   "outputs": [],
   "source": [
    "class Solution:\n",
    "    def criticalConnections(self, n: int, connections: List[List[int]]) -> List[List[int]]:\n",
    "\n",
    "        graph = [[] for _ in range(n)] # vertex i => [its neighbors]\n",
    "\n",
    "        currentRank = 0 ## order of DFS level\n",
    "\n",
    "        lowestRank = [i for i in range(n)] #  lowest order of vertex that can reach this vertex i\n",
    "\n",
    "        visited = [False for _ in range(n)] # marks whether this node is seen before\n",
    "\n",
    "        for connection in connections:\n",
    "            graph[connection[0]].append(connection[1])\n",
    "            graph[connection[1]].append(connection[0])\n",
    "\n",
    "        res = []\n",
    "        prevVertex = -1\n",
    "\n",
    "        currentVertex = 0 # start the DFS from vertex num 0 (its rank is also 0 of course)\n",
    "        self._dfs(res, graph, lowestRank, visited, currentRank, prevVertex, currentVertex)\n",
    "        \n",
    "        return res\n",
    "\n",
    "    def _dfs(self, res, graph, lowestRank, visited, currentRank, prevVertex, currentVertex):\n",
    "\n",
    "        visited[currentVertex] = True \n",
    "        lowestRank[currentVertex] = currentRank\n",
    "\n",
    "        for nextVertex in graph[currentVertex]:\n",
    "            if nextVertex == prevVertex:\n",
    "                continue\n",
    "\n",
    "            if not visited[nextVertex]:\n",
    "                self._dfs(\n",
    "                    res, graph, lowestRank, visited, currentRank + 1, currentVertex, nextVertex)\n",
    "                # We avoid visiting visited nodes here instead of doing it \n",
    "                # at the beginning of DFS - the reason is, even that nextVertex \n",
    "                # may be visited before, we still need to update my lowestRank \n",
    "                # using the visited vertex's information.\n",
    "\n",
    "            lowestRank[currentVertex] = min(lowestRank[currentVertex], lowestRank[nextVertex]) \n",
    "            # take the min of the current vertex's and next vertex's ranking\n",
    "            if lowestRank[nextVertex] >= currentRank + 1: \n",
    "                # if all the neighbors lowest rank is higher than mine + 1, \n",
    "                # then it means I am one connecting critical connection\n",
    "                res.append([currentVertex, nextVertex])"
   ]
  },
  {
   "cell_type": "code",
   "execution_count": null,
   "id": "041299e3-4e31-454a-8cba-7c2ec9f4c86e",
   "metadata": {},
   "outputs": [],
   "source": [
    "class Solution:\n",
    "    def criticalConnections(self, n: int, connections: List[List[int]]) -> List[List[int]]:\n",
    "    \n",
    "        graph = defaultdict(list)\n",
    "        for node1, node2 in connections:\n",
    "            graph[node1].append(node2)\n",
    "            graph[node2].append(node1)\n",
    "            \n",
    "        arrival_time = [None] * n\n",
    "        critical_connections = []\n",
    "        \n",
    "        def dfs(node = 0, parent = -1, time = 1):\n",
    "            if arrival_time[node]: \n",
    "                return\n",
    "            \n",
    "            arrival_time[node] = time\n",
    "            for neighbour in graph[node]:\n",
    "                if neighbour == parent: \n",
    "                    continue \n",
    "                    \n",
    "                dfs(neighbour, node, time + 1)\n",
    "                if arrival_time[neighbour] == time + 1: \n",
    "                    critical_connections.append((node, neighbour))\n",
    "                else: \n",
    "                    arrival_time[node] = min(arrival_time[node], arrival_time[neighbour])\n",
    "            return critical_connections\n",
    "        \n",
    "        return dfs()"
   ]
  },
  {
   "cell_type": "code",
   "execution_count": 69,
   "id": "4005b603-1265-43b5-85d0-d70050e35d67",
   "metadata": {},
   "outputs": [
    {
     "data": {
      "text/plain": [
       "[[1, 3]]"
      ]
     },
     "execution_count": 69,
     "metadata": {},
     "output_type": "execute_result"
    }
   ],
   "source": [
    "s = Solution()\n",
    "s.criticalConnections(4, [[0,1],[1,2],[2,0],[1,3]])"
   ]
  },
  {
   "cell_type": "code",
   "execution_count": 70,
   "id": "83e9d347-54bb-4b8d-97aa-bc70d8828cb8",
   "metadata": {},
   "outputs": [
    {
     "data": {
      "text/plain": [
       "[[0, 1]]"
      ]
     },
     "execution_count": 70,
     "metadata": {},
     "output_type": "execute_result"
    }
   ],
   "source": [
    "s.criticalConnections(2, [[0, 1]])"
   ]
  },
  {
   "cell_type": "code",
   "execution_count": null,
   "id": "838df461-03b5-4a95-803e-b2d225ec974a",
   "metadata": {},
   "outputs": [],
   "source": []
  }
 ],
 "metadata": {
  "kernelspec": {
   "display_name": "Python 3 (ipykernel)",
   "language": "python",
   "name": "python3"
  },
  "language_info": {
   "codemirror_mode": {
    "name": "ipython",
    "version": 3
   },
   "file_extension": ".py",
   "mimetype": "text/x-python",
   "name": "python",
   "nbconvert_exporter": "python",
   "pygments_lexer": "ipython3",
   "version": "3.9.10"
  }
 },
 "nbformat": 4,
 "nbformat_minor": 5
}
