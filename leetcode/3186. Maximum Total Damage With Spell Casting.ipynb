{
 "cells": [
  {
   "cell_type": "markdown",
   "id": "fd536493-ef5f-4399-a422-548a823157f3",
   "metadata": {},
   "source": [
    "A magician has various spells.\n",
    "\n",
    "You are given an array power, where each element represents the damage of a spell. Multiple spells can have the same damage value.\n",
    "\n",
    "It is a known fact that if a magician decides to cast a spell with a damage of power[i], they cannot cast any spell with a damage of power[i] - 2, power[i] - 1, power[i] + 1, or power[i] + 2.\n",
    "\n",
    "Each spell can be cast only once.\n",
    "\n",
    "Return the maximum possible total damage that a magician can cast.\n",
    "\n",
    " \n",
    "\n",
    "Example 1:\n",
    "\n",
    "Input: power = [1,1,3,4]\n",
    "\n",
    "Output: 6\n",
    "\n",
    "Explanation:\n",
    "\n",
    "The maximum possible damage of 6 is produced by casting spells 0, 1, 3 with damage 1, 1, 4.\n",
    "\n",
    "Example 2:\n",
    "\n",
    "Input: power = [7,1,6,6]\n",
    "\n",
    "Output: 13\n",
    "\n",
    "Explanation:\n",
    "\n",
    "The maximum possible damage of 13 is produced by casting spells 1, 2, 3 with damage 1, 6, 6.\n",
    "\n",
    " \n",
    "\n",
    "Constraints:\n",
    "\n",
    "    1 <= power.length <= 105\n",
    "    1 <= power[i] <= 109\n",
    "\n"
   ]
  },
  {
   "cell_type": "code",
   "execution_count": null,
   "id": "b9badde6-803c-4fa9-a278-0cbf749df831",
   "metadata": {},
   "outputs": [],
   "source": [
    "class Solution:\n",
    "    def maximumTotalDamage(self, power: List[int]) -> int:\n",
    "        count = Counter(power)\n",
    "        vec = [(-(10**9), 0)]\n",
    "        for k in sorted(count.keys()):\n",
    "            vec.append((k, count[k]))\n",
    "        n = len(vec)\n",
    "        f = [0] * n\n",
    "        mx = 0\n",
    "        j = 1\n",
    "        for i in range(1, n):\n",
    "            while j < i and vec[j][0] < vec[i][0] - 2:\n",
    "                mx = max(mx, f[j])\n",
    "                j += 1\n",
    "            f[i] = mx + vec[i][0] * vec[i][1]\n",
    "        return max(f)"
   ]
  }
 ],
 "metadata": {
  "kernelspec": {
   "display_name": "Python 3 (ipykernel)",
   "language": "python",
   "name": "python3"
  },
  "language_info": {
   "codemirror_mode": {
    "name": "ipython",
    "version": 3
   },
   "file_extension": ".py",
   "mimetype": "text/x-python",
   "name": "python",
   "nbconvert_exporter": "python",
   "pygments_lexer": "ipython3",
   "version": "3.13.5"
  }
 },
 "nbformat": 4,
 "nbformat_minor": 5
}
