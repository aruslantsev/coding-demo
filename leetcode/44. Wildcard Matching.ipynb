{
 "cells": [
  {
   "cell_type": "markdown",
   "id": "8e515f69-c2f6-47be-aae6-803b4aefe092",
   "metadata": {},
   "source": [
    "Given an input string (s) and a pattern (p), implement wildcard pattern matching with support for '?' and '*' where:\n",
    "\n",
    "    '?' Matches any single character.\n",
    "    '*' Matches any sequence of characters (including the empty sequence).\n",
    "\n",
    "The matching should cover the entire input string (not partial).\n",
    "\n",
    " \n",
    "\n",
    "Example 1:\n",
    "\n",
    "Input: s = \"aa\", p = \"a\"\n",
    "Output: false\n",
    "Explanation: \"a\" does not match the entire string \"aa\".\n",
    "\n",
    "Example 2:\n",
    "\n",
    "Input: s = \"aa\", p = \"*\"\n",
    "Output: true\n",
    "Explanation: '*' matches any sequence.\n",
    "\n",
    "Example 3:\n",
    "\n",
    "Input: s = \"cb\", p = \"?a\"\n",
    "Output: false\n",
    "Explanation: '?' matches 'c', but the second letter is 'a', which does not match 'b'.\n",
    " \n",
    "\n",
    "Constraints:\n",
    "\n",
    "    0 <= s.length, p.length <= 2000\n",
    "    s contains only lowercase English letters.\n",
    "    p contains only lowercase English letters, '?' or '*'.\n",
    "\n"
   ]
  },
  {
   "cell_type": "code",
   "execution_count": 44,
   "id": "cdf25605-67e4-4be7-9b46-ed8bca3c69f7",
   "metadata": {},
   "outputs": [],
   "source": [
    "from functools import cache, lru_cache\n",
    "\n",
    "class Solution:\n",
    "    def isMatch(self, s: str, p: str) -> bool:\n",
    "        while '**' in p:\n",
    "            p = p.replace('**', '*')\n",
    "            \n",
    "        p_plain = p\n",
    "        while '*' in p_plain:\n",
    "            p_plain = p_plain.replace('*', '')\n",
    "        while '?' in p_plain:\n",
    "            p_plain = p_plain.replace('?', '')\n",
    "        if len(p_plain) > len(s):\n",
    "            return False\n",
    "        \n",
    "        @cache\n",
    "        def match(s, p):\n",
    "            if set(p) == {'*'}:\n",
    "                return True\n",
    "            if len(s) == 0 and len(p) == 0:\n",
    "                return True\n",
    "            if len(s) == 0 or len(p) == 0:\n",
    "                return False\n",
    "            \n",
    "            if p[-1] == \"?\":\n",
    "                return match(s[:-1], p[:-1])\n",
    "            elif p[-1] != \"*\":\n",
    "                if s[-1] == p[-1]:\n",
    "                    return match(s[:-1], p[:-1])\n",
    "                else:\n",
    "                    return False\n",
    "            else:\n",
    "                return any([match(s[:-i], p[:-1]) for i in range(len(s))] + [match(s, p[:-1])])\n",
    "        \n",
    "        return match(s, p)"
   ]
  },
  {
   "cell_type": "code",
   "execution_count": 45,
   "id": "ce3da885-a874-45b8-b0c1-537272dfc856",
   "metadata": {},
   "outputs": [
    {
     "data": {
      "text/plain": [
       "False"
      ]
     },
     "execution_count": 45,
     "metadata": {},
     "output_type": "execute_result"
    }
   ],
   "source": [
    "s = Solution()\n",
    "s.isMatch(\"aa\", \"a\")"
   ]
  },
  {
   "cell_type": "code",
   "execution_count": 46,
   "id": "0706d38a-25bd-489b-8a00-03437284e117",
   "metadata": {},
   "outputs": [
    {
     "data": {
      "text/plain": [
       "True"
      ]
     },
     "execution_count": 46,
     "metadata": {},
     "output_type": "execute_result"
    }
   ],
   "source": [
    "s.isMatch(\"aa\", \"*\")"
   ]
  },
  {
   "cell_type": "code",
   "execution_count": 47,
   "id": "24e7fa3a-ade1-4156-a7b9-5db8891e71fd",
   "metadata": {},
   "outputs": [
    {
     "data": {
      "text/plain": [
       "False"
      ]
     },
     "execution_count": 47,
     "metadata": {},
     "output_type": "execute_result"
    }
   ],
   "source": [
    "s.isMatch(\"cb\", \"?a\")"
   ]
  },
  {
   "cell_type": "code",
   "execution_count": 48,
   "id": "654abc7d-f6af-4303-b665-abf09a6e79a2",
   "metadata": {},
   "outputs": [
    {
     "data": {
      "text/plain": [
       "True"
      ]
     },
     "execution_count": 48,
     "metadata": {},
     "output_type": "execute_result"
    }
   ],
   "source": [
    "s.isMatch(\"adceb\", \"*a*b\")"
   ]
  },
  {
   "cell_type": "code",
   "execution_count": 49,
   "id": "fbdda798-35dc-4fe5-8637-143d70265d4a",
   "metadata": {},
   "outputs": [
    {
     "data": {
      "text/plain": [
       "True"
      ]
     },
     "execution_count": 49,
     "metadata": {},
     "output_type": "execute_result"
    }
   ],
   "source": [
    "s.isMatch(\"abcabczzzde\", \"*abc???de*\")"
   ]
  },
  {
   "cell_type": "code",
   "execution_count": 50,
   "id": "d83e0b42-3399-4de5-934b-f2000d9a5d1c",
   "metadata": {},
   "outputs": [
    {
     "data": {
      "text/plain": [
       "True"
      ]
     },
     "execution_count": 50,
     "metadata": {},
     "output_type": "execute_result"
    }
   ],
   "source": [
    "s.isMatch(\"abbabbbaabaaabbbbbabbabbabbbabbaaabbbababbabaaabbab\", \"*aabb***aa**a******aa*\")\n"
   ]
  },
  {
   "cell_type": "code",
   "execution_count": 51,
   "id": "87c84487-075c-472d-b672-b7a803237d4a",
   "metadata": {},
   "outputs": [
    {
     "name": "stdout",
     "output_type": "stream",
     "text": [
      "CPU times: user 8 µs, sys: 1e+03 ns, total: 9 µs\n",
      "Wall time: 17.9 µs\n"
     ]
    },
    {
     "data": {
      "text/plain": [
       "True"
      ]
     },
     "execution_count": 51,
     "metadata": {},
     "output_type": "execute_result"
    }
   ],
   "source": [
    "%time\n",
    "s.isMatch(\"aaaaaaabababbababaaaabbbbbabababbbbbbaabbbbbbabbbabbbbaaaaaabababbabbaaabbbbababbbaaaaaaaababaaababababababbbbaabaabababbbbabbbbaabbaababbbaaabbabbbabaaabababaaaabaababaaaaabaaabbbabbaabbbbabbabbaaaaaaaa\", \"a*a***a*bbb*abb**babbba****ba*aa*a**a*aba*ba***b*a*ab**bb**b***b*b**a*aabbba*ab*a*******bba*a*a******\")"
   ]
  },
  {
   "cell_type": "code",
   "execution_count": 52,
   "id": "7b0f1f9a-a112-48a2-96e2-f84359e49a0c",
   "metadata": {},
   "outputs": [
    {
     "name": "stdout",
     "output_type": "stream",
     "text": [
      "CPU times: user 3 µs, sys: 1 µs, total: 4 µs\n",
      "Wall time: 6.91 µs\n"
     ]
    },
    {
     "data": {
      "text/plain": [
       "False"
      ]
     },
     "execution_count": 52,
     "metadata": {},
     "output_type": "execute_result"
    }
   ],
   "source": [
    "%time\n",
    "s.isMatch(\n",
    "    \"aaaaaaaaaaaaaaaaaaaaaaaaaaaaaaaaaaaaaaaaaaaaaaaaaaaaaaaaaaaaaaaaaaaaaaaaaaaaaaaaaaaaaaaaaaaaaaaaaaaaaaaaaaaaaaaaaaaaaaaaaaaaaaaaaaaaaaaaaaaaaaaaaaaaaaaaaaaaaaaaaaaaaaaaaaaaaaaaaaaaaaaaaaaaaaaaaaaaaaaaaaaaaaaaaaaaaaaaaaaaaaaaaaaaaaaaaaaaaaaaaaaaaaaaaaaaaaaaaaaaaaaaaaaaaaaaaaaaaaaaaaaaaaaaaaaaaaaaaaaaaaaaaaaaaaaaaaaaaaaaaaaaaaaaaaaaaaaaaaaaaaaaaaaaaaaaaaaaaaaaaaaaaaaaaaaaaaaaaaaaaaaaaaaaaaaaaaaaaaaaaaaaaaaaaaaaaaaaaaaaaaaaaaaaaaaaaaaaaaaaaaaaaaaaaaaaaaaaaaaaaaaaaaaaaaaaaaaaaaaaaaaaaaaaaaaaaaaaaaaaaaaaaaaaaaaaaaaaaaaaaaaaaaaaaaaaaaaaaaaaaaaaaaaaaaaaaaaaaaaaaaaaaaaaaaaaaaaaaaaaaaaaaaaaaaaaaaaaaaaaaaaaaaaaaaaaaaaaaaaaaaaaaaaaaaaaaaaaaaaaaaaaaaaaaaaaaaaaaaaaaaaaaaaaaaaaaaaaaaaaaaaaaaaaaaaaaaaaaaaaaaaaaaaaaaaaaaaaaaaaaaaaaaaaaaaaaaaaaaaaaaaaaaaaaaaaaaaaaaaaaaaaaaaaaaaaaaaaaaaaaaaaaaaaaaaaaaaaaaaaaaaaaaaaaaaaaaaaaaaaaaaaaaaaaaaaaaaaaaaaaaaaaaaaaaaaaaaaaaaaaaaaaaaaaaaaaaaaaaaaaaaaaaaaaaaaaaaaaaaaaaaaaaaaaaaaaaaaaaaaaaaaaaaaaaaaaaaaaaaaaaaaaaaaaaaaaaaaaaaaaaaaaaaaaaaaaaaaaaaaaaaaaaaaaaaaaaaaaaaaaaaaaaaaaaaaaaaaaaaaaaaa\",\n",
    "    \"*aaaaaaaaaaaaaaaaaaaaaaaaaaaaaaaaaaaaaaaaaaaaaaaaaaaaaaaaaaaaaaaaaaaaaaaaaaaaaaaaaaaaaaaaaaaaaaaaaaaaaaaaaaaaaaaaaaaaaaaaaaaaaaaaaaaaaaaaaaaaaaaaaaaaaaaaaaaaaaaaaaaaaaaaaaaaaaaaaaaaaaaaaaaaaaaaaaaaaaaaaaaaaaaaaaaaaaaaaaaaaaaaaaaaaaaaaaaaaaaaaaaaaaaaaaaaaaaaaaaaaaaaaaaaaaaaaaaaaaaaaaaaaaaaaaaaaaaaaaaaaaaaaaaaaaaaaaaaaaaaaaaaaaaaaaaaaaaaaaaaaaaaaaaaaaaaaaaaaaaaaaaaaaaaaaaaaaaaaaaaaaaaaaaaaaaaaaaaaaaaaaaaaaaaaaaaaaaaaaaaaaaaaaaaaaaaaaaaaaaaaaaaaaaaaaaaaaaaaaaaaaaaaaaaaaaaaaaaaaaaaaaaaaaaaaaaaaaaaaaaaaaaaaaaaaaaaaaaaaaaaaaaaaaaaaaaaaaaaaaaaaaaaaaaaaaaaaaaaaaaaaaaaaaaaaaaaaaaaaaaaaaaaaaaaaaaaaaaaaaaaaaaaaaaaaaaaaaaaaaaaaaaaaaaaaaaaaaaaaaaaaaaaaaaaaaaaaaaaaaaaaaaaaaaaaaaaaaaaaaaaaaaaaaaaaaaaaaaaaaaaaaaaaaaaaaaaaaaaaaaaaaaaaaaaaaaaaaaaaaaaaaaaaaaaaaaaaaaaaaaaaaaaaaaaaaaaaaaaaaaaaaaaaaaaaaaaaaaaaaaaaaaaaaaaaaaaaaaaaaaaaaaaaaaaaaaaaaaaaaaaaaaaaaaaaaaaaaaaaaaaaaaaaaaaaaaaaaaaaaaaaaaaaaaaaaaaaaaaaaaaaaaaaaaaaaaaaaaaaaaaaaaaaaaaaaaaaaaaaaaaaaaaaaaaaaaaaaaaaaaaaaaaaaaaaaaaaaaaaaaaaaaaaaaaaaaaaaaaaaaaaaaaaaaaaaaaaaaaaaaaaaaa*\"\n",
    ")"
   ]
  },
  {
   "cell_type": "code",
   "execution_count": null,
   "id": "99b2253e-e63f-439e-aabd-a05bd311fb65",
   "metadata": {},
   "outputs": [],
   "source": []
  }
 ],
 "metadata": {
  "kernelspec": {
   "display_name": "Python 3 (ipykernel)",
   "language": "python",
   "name": "python3"
  },
  "language_info": {
   "codemirror_mode": {
    "name": "ipython",
    "version": 3
   },
   "file_extension": ".py",
   "mimetype": "text/x-python",
   "name": "python",
   "nbconvert_exporter": "python",
   "pygments_lexer": "ipython3",
   "version": "3.9.10"
  }
 },
 "nbformat": 4,
 "nbformat_minor": 5
}
