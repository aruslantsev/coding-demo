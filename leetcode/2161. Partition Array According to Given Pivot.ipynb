{
 "cells": [
  {
   "cell_type": "markdown",
   "id": "f4189103-8217-40ec-a18f-612016c3c309",
   "metadata": {},
   "source": [
    "You are given a 0-indexed integer array nums and an integer pivot. Rearrange nums such that the following conditions are satisfied:\n",
    "\n",
    "    Every element less than pivot appears before every element greater than pivot.\n",
    "    Every element equal to pivot appears in between the elements less than and greater than pivot.\n",
    "    The relative order of the elements less than pivot and the elements greater than pivot is maintained.\n",
    "        More formally, consider every pi, pj where pi is the new position of the ith element and pj is the new position of the jth element. If i < j and both elements are smaller (or larger) than pivot, then pi < pj.\n",
    "\n",
    "Return nums after the rearrangement.\n",
    "\n",
    " \n",
    "\n",
    "Example 1:\n",
    "\n",
    "Input: nums = [9,12,5,10,14,3,10], pivot = 10\n",
    "Output: [9,5,3,10,10,12,14]\n",
    "Explanation: \n",
    "The elements 9, 5, and 3 are less than the pivot so they are on the left side of the array.\n",
    "The elements 12 and 14 are greater than the pivot so they are on the right side of the array.\n",
    "The relative ordering of the elements less than and greater than pivot is also maintained. [9, 5, 3] and [12, 14] are the respective orderings.\n",
    "\n",
    "Example 2:\n",
    "\n",
    "Input: nums = [-3,4,3,2], pivot = 2\n",
    "Output: [-3,2,4,3]\n",
    "Explanation: \n",
    "The element -3 is less than the pivot so it is on the left side of the array.\n",
    "The elements 4 and 3 are greater than the pivot so they are on the right side of the array.\n",
    "The relative ordering of the elements less than and greater than pivot is also maintained. [-3] and [4, 3] are the respective orderings.\n",
    "\n",
    " \n",
    "\n",
    "Constraints:\n",
    "\n",
    "    1 <= nums.length <= 105\n",
    "    -106 <= nums[i] <= 106\n",
    "    pivot equals to an element of nums.\n",
    "\n"
   ]
  },
  {
   "cell_type": "code",
   "execution_count": null,
   "id": "ccd18462-8877-4985-bb6b-d0ffbd49750b",
   "metadata": {},
   "outputs": [],
   "source": [
    "class Solution:\n",
    "    def pivotArray(self, nums: List[int], pivot: int) -> List[int]:\n",
    "        return [num for num in nums if num < pivot] + [num for num in nums if num == pivot] + [num for num in nums if num > pivot]"
   ]
  },
  {
   "cell_type": "code",
   "execution_count": null,
   "id": "437bc314-0216-4841-b41d-19aeda75f2a1",
   "metadata": {},
   "outputs": [],
   "source": [
    "class Solution:\n",
    "    def pivotArray(self, nums, pivot):\n",
    "        ans = [0] * len(nums)\n",
    "        less_i = 0\n",
    "        greater_i = len(nums) - 1\n",
    "\n",
    "        for i, j in zip(range(len(nums)), range(len(nums) - 1, -1, -1)):\n",
    "            if nums[i] < pivot:\n",
    "                ans[less_i] = nums[i]\n",
    "                less_i += 1\n",
    "            if nums[j] > pivot:\n",
    "                ans[greater_i] = nums[j]\n",
    "                greater_i -= 1\n",
    "\n",
    "        while less_i <= greater_i:\n",
    "            ans[less_i] = pivot\n",
    "            less_i += 1\n",
    "\n",
    "        return ans"
   ]
  }
 ],
 "metadata": {
  "kernelspec": {
   "display_name": "Python 3 (ipykernel)",
   "language": "python",
   "name": "python3"
  },
  "language_info": {
   "codemirror_mode": {
    "name": "ipython",
    "version": 3
   },
   "file_extension": ".py",
   "mimetype": "text/x-python",
   "name": "python",
   "nbconvert_exporter": "python",
   "pygments_lexer": "ipython3",
   "version": "3.12.7"
  }
 },
 "nbformat": 4,
 "nbformat_minor": 5
}
