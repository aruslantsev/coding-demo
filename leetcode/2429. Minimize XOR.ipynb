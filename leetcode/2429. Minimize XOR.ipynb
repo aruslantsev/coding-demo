{
 "cells": [
  {
   "cell_type": "markdown",
   "id": "6b0c1c88-6992-4e4e-af34-e3228efd7377",
   "metadata": {},
   "source": [
    "Given two positive integers num1 and num2, find the positive integer x such that:\n",
    "\n",
    "    x has the same number of set bits as num2, and\n",
    "    The value x XOR num1 is minimal.\n",
    "\n",
    "Note that XOR is the bitwise XOR operation.\n",
    "\n",
    "Return the integer x. The test cases are generated such that x is uniquely determined.\n",
    "\n",
    "The number of set bits of an integer is the number of 1's in its binary representation.\n",
    "\n",
    " \n",
    "\n",
    "Example 1:\n",
    "\n",
    "Input: num1 = 3, num2 = 5\n",
    "Output: 3\n",
    "Explanation:\n",
    "The binary representations of num1 and num2 are 0011 and 0101, respectively.\n",
    "The integer 3 has the same number of set bits as num2, and the value 3 XOR 3 = 0 is minimal.\n",
    "\n",
    "Example 2:\n",
    "\n",
    "Input: num1 = 1, num2 = 12\n",
    "Output: 3\n",
    "Explanation:\n",
    "The binary representations of num1 and num2 are 0001 and 1100, respectively.\n",
    "The integer 3 has the same number of set bits as num2, and the value 3 XOR 1 = 2 is minimal.\n",
    "\n",
    " \n",
    "\n",
    "Constraints:\n",
    "\n",
    "    1 <= num1, num2 <= 109\n",
    "\n"
   ]
  },
  {
   "cell_type": "code",
   "execution_count": null,
   "id": "cb8d86dc-a902-417a-8f4e-85248ba42e5d",
   "metadata": {},
   "outputs": [],
   "source": [
    "class Solution:\n",
    "    def minimizeXor(self, num1: int, num2: int) -> int:\n",
    "        num_bits = num2.bit_count()\n",
    "        bits = deque()\n",
    "        pos = 0\n",
    "        while num1 > 0:\n",
    "            if num1 % 2 == 0:\n",
    "                bits.append(pos)\n",
    "            else:\n",
    "                bits.appendleft(pos)\n",
    "            num1 //= 2\n",
    "            pos += 1\n",
    "        ans = 0\n",
    "        while num_bits > 0 and bits:\n",
    "            ans |= 1 << bits.popleft()\n",
    "            num_bits -= 1\n",
    "        while num_bits > 0:\n",
    "            ans |= 1 << pos\n",
    "            num_bits -= 1\n",
    "            pos += 1\n",
    "        return ans"
   ]
  },
  {
   "cell_type": "code",
   "execution_count": null,
   "id": "4dac0f88-bd1a-4566-870c-9b124201423b",
   "metadata": {},
   "outputs": [],
   "source": [
    "class Solution:\n",
    "    def minimizeXor(self, num1: int, num2: int) -> int:\n",
    "        num_bits = num2.bit_count()\n",
    "        bits = deque()\n",
    "        pos = 0\n",
    "        while num1 > 0:\n",
    "            if num1 % 2 == 0:\n",
    "                bits.append(pos)\n",
    "            else:\n",
    "                bits.appendleft(pos)\n",
    "            num1 //= 2\n",
    "            pos += 1\n",
    "        ans = 0\n",
    "        while num_bits > 0 and bits:\n",
    "            ans |= 1 << bits.popleft()\n",
    "            num_bits -= 1\n",
    "        while num_bits > 0:\n",
    "            ans |= 1 << pos\n",
    "            num_bits -= 1\n",
    "            pos += 1\n",
    "        return ans"
   ]
  }
 ],
 "metadata": {
  "kernelspec": {
   "display_name": "Python 3 (ipykernel)",
   "language": "python",
   "name": "python3"
  },
  "language_info": {
   "codemirror_mode": {
    "name": "ipython",
    "version": 3
   },
   "file_extension": ".py",
   "mimetype": "text/x-python",
   "name": "python",
   "nbconvert_exporter": "python",
   "pygments_lexer": "ipython3",
   "version": "3.12.7"
  }
 },
 "nbformat": 4,
 "nbformat_minor": 5
}
