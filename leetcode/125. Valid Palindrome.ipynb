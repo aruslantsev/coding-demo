{
 "cells": [
  {
   "cell_type": "markdown",
   "id": "088e4fce-e3f0-4677-9d32-f3c938868dd2",
   "metadata": {},
   "source": [
    "A phrase is a palindrome if, after converting all uppercase letters into lowercase letters and removing all non-alphanumeric characters, it reads the same forward and backward. Alphanumeric characters include letters and numbers.\n",
    "\n",
    "Given a string s, return true if it is a palindrome, or false otherwise.\n",
    "\n",
    " \n",
    "\n",
    "Example 1:\n",
    "\n",
    "Input: s = \"A man, a plan, a canal: Panama\"\n",
    "Output: true\n",
    "Explanation: \"amanaplanacanalpanama\" is a palindrome.\n",
    "\n",
    "Example 2:\n",
    "\n",
    "Input: s = \"race a car\"\n",
    "Output: false\n",
    "Explanation: \"raceacar\" is not a palindrome.\n",
    "\n",
    "Example 3:\n",
    "\n",
    "Input: s = \" \"\n",
    "Output: true\n",
    "Explanation: s is an empty string \"\" after removing non-alphanumeric characters.\n",
    "Since an empty string reads the same forward and backward, it is a palindrome.\n",
    "\n",
    " \n",
    "\n",
    "Constraints:\n",
    "\n",
    "    1 <= s.length <= 2 * 105\n",
    "    s consists only of printable ASCII characters.\n",
    "\n"
   ]
  },
  {
   "cell_type": "code",
   "execution_count": null,
   "id": "5f1dc21b-aeda-45d4-8322-888e6cc81c4c",
   "metadata": {},
   "outputs": [],
   "source": [
    "class Solution:\n",
    "    def isPalindrome(self, s: str) -> bool:\n",
    "        s = s.lower()\n",
    "        palindrome = [sym for sym in s if sym.isalpha() or sym.isdigit()]\n",
    "        return palindrome == palindrome[::-1]"
   ]
  },
  {
   "cell_type": "code",
   "execution_count": null,
   "id": "7a77614b-5648-4e4c-bcd7-a23aba8364e7",
   "metadata": {},
   "outputs": [],
   "source": []
  }
 ],
 "metadata": {
  "kernelspec": {
   "display_name": "Python 3 (ipykernel)",
   "language": "python",
   "name": "python3"
  },
  "language_info": {
   "codemirror_mode": {
    "name": "ipython",
    "version": 3
   },
   "file_extension": ".py",
   "mimetype": "text/x-python",
   "name": "python",
   "nbconvert_exporter": "python",
   "pygments_lexer": "ipython3",
   "version": "3.9.10"
  }
 },
 "nbformat": 4,
 "nbformat_minor": 5
}
