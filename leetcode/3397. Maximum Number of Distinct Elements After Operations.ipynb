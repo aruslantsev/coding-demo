{
 "cells": [
  {
   "cell_type": "markdown",
   "id": "94ab161d-7608-49e9-a188-bf61dc8bbaf8",
   "metadata": {},
   "source": [
    "You are given an integer array nums and an integer k.\n",
    "\n",
    "You are allowed to perform the following operation on each element of the array at most once:\n",
    "\n",
    "    Add an integer in the range [-k, k] to the element.\n",
    "\n",
    "Return the maximum possible number of distinct elements in nums after performing the operations.\n",
    "\n",
    " \n",
    "\n",
    "Example 1:\n",
    "\n",
    "Input: nums = [1,2,2,3,3,4], k = 2\n",
    "\n",
    "Output: 6\n",
    "\n",
    "Explanation:\n",
    "\n",
    "nums changes to [-1, 0, 1, 2, 3, 4] after performing operations on the first four elements.\n",
    "\n",
    "Example 2:\n",
    "\n",
    "Input: nums = [4,4,4,4], k = 1\n",
    "\n",
    "Output: 3\n",
    "\n",
    "Explanation:\n",
    "\n",
    "By adding -1 to nums[0] and 1 to nums[1], nums changes to [3, 5, 4, 4].\n",
    "\n",
    " \n",
    "\n",
    "Constraints:\n",
    "\n",
    "    1 <= nums.length <= 105\n",
    "    1 <= nums[i] <= 109\n",
    "    0 <= k <= 109\n",
    "\n"
   ]
  },
  {
   "cell_type": "code",
   "execution_count": null,
   "id": "48688e55-0c37-4065-b2e2-3b65b0bc560b",
   "metadata": {},
   "outputs": [],
   "source": [
    "class Solution:\n",
    "    def maxDistinctElements(self, nums: List[int], k: int) -> int:\n",
    "        prev = -float(\"inf\")\n",
    "        nums.sort()\n",
    "        ans = 0\n",
    "        for num in nums:\n",
    "            if prev < num + k:\n",
    "                prev = max(num - k, prev + 1)\n",
    "                ans += 1\n",
    "        return ans"
   ]
  }
 ],
 "metadata": {
  "kernelspec": {
   "display_name": "common",
   "language": "python",
   "name": "common"
  },
  "language_info": {
   "codemirror_mode": {
    "name": "ipython",
    "version": 3
   },
   "file_extension": ".py",
   "mimetype": "text/x-python",
   "name": "python",
   "nbconvert_exporter": "python",
   "pygments_lexer": "ipython3",
   "version": "3.12.11"
  }
 },
 "nbformat": 4,
 "nbformat_minor": 5
}
