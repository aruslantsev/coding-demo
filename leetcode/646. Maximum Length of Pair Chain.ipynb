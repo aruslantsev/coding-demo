{
 "cells": [
  {
   "cell_type": "markdown",
   "id": "b41542fb-ce90-4c87-b428-2bcd347e5a38",
   "metadata": {},
   "source": [
    "You are given an array of n pairs pairs where pairs[i] = [lefti, righti] and lefti < righti.\n",
    "\n",
    "A pair p2 = [c, d] follows a pair p1 = [a, b] if b < c. A chain of pairs can be formed in this fashion.\n",
    "\n",
    "Return the length longest chain which can be formed.\n",
    "\n",
    "You do not need to use up all the given intervals. You can select pairs in any order.\n",
    "\n",
    " \n",
    "\n",
    "Example 1:\n",
    "\n",
    "Input: pairs = [[1,2],[2,3],[3,4]]\n",
    "Output: 2\n",
    "Explanation: The longest chain is [1,2] -> [3,4].\n",
    "\n",
    "Example 2:\n",
    "\n",
    "Input: pairs = [[1,2],[7,8],[4,5]]\n",
    "Output: 3\n",
    "Explanation: The longest chain is [1,2] -> [4,5] -> [7,8].\n",
    "\n",
    " \n",
    "\n",
    "Constraints:\n",
    "\n",
    "    n == pairs.length\n",
    "    1 <= n <= 1000\n",
    "    -1000 <= lefti < righti <= 1000\n",
    "\n"
   ]
  },
  {
   "cell_type": "code",
   "execution_count": null,
   "id": "9104a893-9b19-48b6-8dbf-885e7a4661e5",
   "metadata": {},
   "outputs": [],
   "source": [
    "class Solution:\n",
    "    def findLongestChain(self, pairs: List[List[int]]) -> int:\n",
    "        # Sort pairs in ascending order based on the second element.\n",
    "        pairs.sort(key=lambda x: x[1])\n",
    "        curr = float('-inf')\n",
    "        ans = 0\n",
    "\n",
    "        for pair in pairs:\n",
    "            if pair[0] > curr:\n",
    "                ans += 1\n",
    "                curr = pair[1]\n",
    "        return ans"
   ]
  }
 ],
 "metadata": {
  "kernelspec": {
   "display_name": "Python 3 (ipykernel)",
   "language": "python",
   "name": "python3"
  },
  "language_info": {
   "codemirror_mode": {
    "name": "ipython",
    "version": 3
   },
   "file_extension": ".py",
   "mimetype": "text/x-python",
   "name": "python",
   "nbconvert_exporter": "python",
   "pygments_lexer": "ipython3",
   "version": "3.10.11"
  }
 },
 "nbformat": 4,
 "nbformat_minor": 5
}
