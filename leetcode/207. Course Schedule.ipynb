{
 "cells": [
  {
   "cell_type": "markdown",
   "id": "ffa04b7e-a332-40c3-9891-4104f172a076",
   "metadata": {},
   "source": [
    "There are a total of numCourses courses you have to take, labeled from 0 to numCourses - 1. You are given an array prerequisites where prerequisites[i] = [ai, bi] indicates that you must take course bi first if you want to take course ai.\n",
    "\n",
    "    For example, the pair [0, 1], indicates that to take course 0 you have to first take course 1.\n",
    "\n",
    "Return true if you can finish all courses. Otherwise, return false.\n",
    "\n",
    " \n",
    "\n",
    "Example 1:\n",
    "\n",
    "Input: numCourses = 2, prerequisites = [[1,0]]\n",
    "Output: true\n",
    "Explanation: There are a total of 2 courses to take. \n",
    "To take course 1 you should have finished course 0. So it is possible.\n",
    "\n",
    "Example 2:\n",
    "\n",
    "Input: numCourses = 2, prerequisites = [[1,0],[0,1]]\n",
    "Output: false\n",
    "Explanation: There are a total of 2 courses to take. \n",
    "To take course 1 you should have finished course 0, and to take course 0 you should also have finished course 1. So it is impossible.\n",
    "\n",
    " \n",
    "\n",
    "Constraints:\n",
    "\n",
    "    1 <= numCourses <= 2000\n",
    "    0 <= prerequisites.length <= 5000\n",
    "    prerequisites[i].length == 2\n",
    "    0 <= ai, bi < numCourses\n",
    "    All the pairs prerequisites[i] are unique.\n",
    "\n"
   ]
  },
  {
   "cell_type": "code",
   "execution_count": null,
   "id": "f1c254dd-e82f-46d9-b040-0650b8346ddc",
   "metadata": {},
   "outputs": [],
   "source": [
    "class Solution:\n",
    "    def canFinish(self, numCourses: int, prerequisites: List[List[int]]) -> bool:\n",
    "        indegree = [0] * numCourses\n",
    "        adj = [[] for _ in range(numCourses)]\n",
    "\n",
    "        for prerequisite in prerequisites:\n",
    "            adj[prerequisite[1]].append(prerequisite[0])\n",
    "            indegree[prerequisite[0]] += 1\n",
    "\n",
    "        queue = deque()\n",
    "        for i in range(numCourses):\n",
    "            if indegree[i] == 0:\n",
    "                queue.append(i)\n",
    "\n",
    "        nodesVisited = 0\n",
    "        while queue:\n",
    "            node = queue.popleft()\n",
    "            nodesVisited += 1\n",
    "\n",
    "            for neighbor in adj[node]:\n",
    "                indegree[neighbor] -= 1\n",
    "                if indegree[neighbor] == 0:\n",
    "                    queue.append(neighbor)\n",
    "\n",
    "        return nodesVisited == numCourses"
   ]
  }
 ],
 "metadata": {
  "kernelspec": {
   "display_name": "Python 3 (ipykernel)",
   "language": "python",
   "name": "python3"
  },
  "language_info": {
   "codemirror_mode": {
    "name": "ipython",
    "version": 3
   },
   "file_extension": ".py",
   "mimetype": "text/x-python",
   "name": "python",
   "nbconvert_exporter": "python",
   "pygments_lexer": "ipython3",
   "version": "3.10.11"
  }
 },
 "nbformat": 4,
 "nbformat_minor": 5
}
