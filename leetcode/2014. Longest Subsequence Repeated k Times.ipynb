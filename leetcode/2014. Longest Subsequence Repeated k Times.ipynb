{
 "cells": [
  {
   "attachments": {
    "d22a6cf2-46c1-451f-92ca-1791a03f0961.png": {
     "image/png": "[encoded data removed]"
    }
   },
   "cell_type": "markdown",
   "id": "9fcebd45-0823-43f6-857f-f7e45e5a99ec",
   "metadata": {},
   "source": [
    "You are given a string s of length n, and an integer k. You are tasked to find the longest subsequence repeated k times in string s.\n",
    "\n",
    "A subsequence is a string that can be derived from another string by deleting some or no characters without changing the order of the remaining characters.\n",
    "\n",
    "A subsequence seq is repeated k times in the string s if seq * k is a subsequence of s, where seq * k represents a string constructed by concatenating seq k times.\n",
    "\n",
    "    For example, \"bba\" is repeated 2 times in the string \"bababcba\", because the string \"bbabba\", constructed by concatenating \"bba\" 2 times, is a subsequence of the string \"bababcba\".\n",
    "\n",
    "Return the longest subsequence repeated k times in string s. If multiple such subsequences are found, return the lexicographically largest one. If there is no such subsequence, return an empty string.\n",
    "\n",
    " \n",
    "\n",
    "Example 1:\n",
    "![image.png](attachment:d22a6cf2-46c1-451f-92ca-1791a03f0961.png)\n",
    "\n",
    "Input: s = \"letsleetcode\", k = 2\n",
    "Output: \"let\"\n",
    "Explanation: There are two longest subsequences repeated 2 times: \"let\" and \"ete\".\n",
    "\"let\" is the lexicographically largest one.\n",
    "\n",
    "Example 2:\n",
    "\n",
    "Input: s = \"bb\", k = 2\n",
    "Output: \"b\"\n",
    "Explanation: The longest subsequence repeated 2 times is \"b\".\n",
    "\n",
    "Example 3:\n",
    "\n",
    "Input: s = \"ab\", k = 2\n",
    "Output: \"\"\n",
    "Explanation: There is no subsequence repeated 2 times. Empty string is returned.\n",
    "\n",
    " \n",
    "\n",
    "Constraints:\n",
    "\n",
    "    n == s.length\n",
    "    2 <= k <= 2000\n",
    "    2 <= n < min(2001, k * 8)\n",
    "    s consists of lowercase English letters.\n",
    "\n"
   ]
  },
  {
   "cell_type": "code",
   "execution_count": null,
   "id": "1f5f7744-cdc3-4cdc-8f0d-238fc89fe6fe",
   "metadata": {},
   "outputs": [],
   "source": [
    "class Solution:\n",
    "    def longestSubsequenceRepeatedK(self, s: str, k: int) -> str:\n",
    "        ans = \"\"\n",
    "        candidate = sorted(\n",
    "            [c for c, w in Counter(s).items() if w >= k], reverse=True\n",
    "        )\n",
    "        q = deque(candidate)\n",
    "        while q:\n",
    "            curr = q.popleft()\n",
    "            if len(curr) > len(ans):\n",
    "                ans = curr\n",
    "            # generate the next candidate string\n",
    "            for ch in candidate:\n",
    "                nxt = curr + ch\n",
    "                it = iter(s)\n",
    "                if all(ch in it for ch in nxt * k):\n",
    "                    q.append(nxt)\n",
    "        return ans"
   ]
  }
 ],
 "metadata": {
  "kernelspec": {
   "display_name": "Python 3 (ipykernel)",
   "language": "python",
   "name": "python3"
  },
  "language_info": {
   "codemirror_mode": {
    "name": "ipython",
    "version": 3
   },
   "file_extension": ".py",
   "mimetype": "text/x-python",
   "name": "python",
   "nbconvert_exporter": "python",
   "pygments_lexer": "ipython3",
   "version": "3.13.4"
  }
 },
 "nbformat": 4,
 "nbformat_minor": 5
}
