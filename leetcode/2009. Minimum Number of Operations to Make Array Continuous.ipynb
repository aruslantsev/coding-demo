{
 "cells": [
  {
   "cell_type": "markdown",
   "id": "15e344af-af64-4374-af01-6b124e2355b4",
   "metadata": {},
   "source": [
    "You are given an integer array nums. In one operation, you can replace any element in nums with any integer.\n",
    "\n",
    "nums is considered continuous if both of the following conditions are fulfilled:\n",
    "\n",
    "    All elements in nums are unique.\n",
    "    The difference between the maximum element and the minimum element in nums equals nums.length - 1.\n",
    "\n",
    "For example, nums = [4, 2, 5, 3] is continuous, but nums = [1, 2, 3, 5, 6] is not continuous.\n",
    "\n",
    "Return the minimum number of operations to make nums continuous.\n",
    "\n",
    " \n",
    "\n",
    "Example 1:\n",
    "\n",
    "Input: nums = [4,2,5,3]\n",
    "Output: 0\n",
    "Explanation: nums is already continuous.\n",
    "\n",
    "Example 2:\n",
    "\n",
    "Input: nums = [1,2,3,5,6]\n",
    "Output: 1\n",
    "Explanation: One possible solution is to change the last element to 4.\n",
    "The resulting array is [1,2,3,5,4], which is continuous.\n",
    "\n",
    "Example 3:\n",
    "\n",
    "Input: nums = [1,10,100,1000]\n",
    "Output: 3\n",
    "Explanation: One possible solution is to:\n",
    "- Change the second element to 2.\n",
    "- Change the third element to 3.\n",
    "- Change the fourth element to 4.\n",
    "The resulting array is [1,2,3,4], which is continuous.\n",
    "\n",
    " \n",
    "\n",
    "Constraints:\n",
    "\n",
    "    1 <= nums.length <= 105\n",
    "    1 <= nums[i] <= 109\n",
    "\n"
   ]
  },
  {
   "cell_type": "code",
   "execution_count": null,
   "id": "276d4f97-a38b-40f4-b806-6b64d3a10939",
   "metadata": {},
   "outputs": [],
   "source": [
    "class Solution:\n",
    "    def minOperations(self, nums: List[int]) -> int:\n",
    "        n = len(nums)\n",
    "        ans = n\n",
    "        new_nums = sorted(set(nums))\n",
    "        \n",
    "        for i in range(len(new_nums)):\n",
    "            left = new_nums[i]\n",
    "            right = left + n - 1\n",
    "            j = bisect_right(new_nums, right)\n",
    "            count = j - i\n",
    "            ans = min(ans, n - count)\n",
    "\n",
    "        return ans\n",
    "        "
   ]
  }
 ],
 "metadata": {
  "kernelspec": {
   "display_name": "Python 3 (ipykernel)",
   "language": "python",
   "name": "python3"
  },
  "language_info": {
   "codemirror_mode": {
    "name": "ipython",
    "version": 3
   },
   "file_extension": ".py",
   "mimetype": "text/x-python",
   "name": "python",
   "nbconvert_exporter": "python",
   "pygments_lexer": "ipython3",
   "version": "3.11.4"
  }
 },
 "nbformat": 4,
 "nbformat_minor": 5
}
