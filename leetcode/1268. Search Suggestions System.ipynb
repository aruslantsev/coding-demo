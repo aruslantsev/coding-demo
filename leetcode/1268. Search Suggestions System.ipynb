{
 "cells": [
  {
   "cell_type": "markdown",
   "id": "9394b5a2-df9f-476e-a90e-55f0c12966c8",
   "metadata": {},
   "source": [
    "You are given an array of strings products and a string searchWord.\n",
    "\n",
    "Design a system that suggests at most three product names from products after each character of searchWord is typed. Suggested products should have common prefix with searchWord. If there are more than three products with a common prefix return the three lexicographically minimums products.\n",
    "\n",
    "Return a list of lists of the suggested products after each character of searchWord is typed.\n",
    "\n",
    " \n",
    "\n",
    "Example 1:\n",
    "\n",
    "Input: products = [\"mobile\",\"mouse\",\"moneypot\",\"monitor\",\"mousepad\"], searchWord = \"mouse\"\n",
    "Output: [\n",
    "[\"mobile\",\"moneypot\",\"monitor\"],\n",
    "[\"mobile\",\"moneypot\",\"monitor\"],\n",
    "[\"mouse\",\"mousepad\"],\n",
    "[\"mouse\",\"mousepad\"],\n",
    "[\"mouse\",\"mousepad\"]\n",
    "]\n",
    "Explanation: products sorted lexicographically = [\"mobile\",\"moneypot\",\"monitor\",\"mouse\",\"mousepad\"]\n",
    "After typing m and mo all products match and we show user [\"mobile\",\"moneypot\",\"monitor\"]\n",
    "After typing mou, mous and mouse the system suggests [\"mouse\",\"mousepad\"]\n",
    "\n",
    "Example 2:\n",
    "\n",
    "Input: products = [\"havana\"], searchWord = \"havana\"\n",
    "Output: [[\"havana\"],[\"havana\"],[\"havana\"],[\"havana\"],[\"havana\"],[\"havana\"]]\n",
    "\n",
    "Example 3:\n",
    "\n",
    "Input: products = [\"bags\",\"baggage\",\"banner\",\"box\",\"cloths\"], searchWord = \"bags\"\n",
    "Output: [[\"baggage\",\"bags\",\"banner\"],[\"baggage\",\"bags\",\"banner\"],[\"baggage\",\"bags\"],[\"bags\"]]\n",
    "\n",
    " \n",
    "\n",
    "Constraints:\n",
    "\n",
    "    1 <= products.length <= 1000\n",
    "    1 <= products[i].length <= 3000\n",
    "    1 <= sum(products[i].length) <= 2 * 104\n",
    "    All the strings of products are unique.\n",
    "    products[i] consists of lowercase English letters.\n",
    "    1 <= searchWord.length <= 1000\n",
    "    searchWord consists of lowercase English letters.\n",
    "\n"
   ]
  },
  {
   "cell_type": "code",
   "execution_count": null,
   "id": "0bd7fc29-6ed9-4cd6-9f99-cc507d98980f",
   "metadata": {},
   "outputs": [],
   "source": [
    "class Solution:\n",
    "    def suggestedProducts(self, products: List[str], searchWord: str) -> List[List[str]]:\n",
    "        trie = defaultdict(list)\n",
    "        for word in sorted(products):\n",
    "            prefix = ''\n",
    "            for letter in word:\n",
    "                prefix += letter\n",
    "                trie[prefix].append(word)\n",
    "              \n",
    "        result = []\n",
    "        prefix = ''\n",
    "        for letter in searchWord:\n",
    "            prefix += letter\n",
    "            result.append(trie[prefix][:3])\n",
    "            \n",
    "        return result\n",
    "            "
   ]
  }
 ],
 "metadata": {
  "kernelspec": {
   "display_name": "Python 3 (ipykernel)",
   "language": "python",
   "name": "python3"
  },
  "language_info": {
   "codemirror_mode": {
    "name": "ipython",
    "version": 3
   },
   "file_extension": ".py",
   "mimetype": "text/x-python",
   "name": "python",
   "nbconvert_exporter": "python",
   "pygments_lexer": "ipython3",
   "version": "3.9.10"
  }
 },
 "nbformat": 4,
 "nbformat_minor": 5
}
