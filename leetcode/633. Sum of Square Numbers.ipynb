{
 "cells": [
  {
   "cell_type": "markdown",
   "id": "91fce4db-4988-41f8-98a7-79631a48138b",
   "metadata": {},
   "source": [
    "Given a non-negative integer c, decide whether there're two integers a and b such that a2 + b2 = c.\n",
    "\n",
    " \n",
    "\n",
    "Example 1:\n",
    "\n",
    "Input: c = 5\n",
    "Output: true\n",
    "Explanation: 1 * 1 + 2 * 2 = 5\n",
    "\n",
    "Example 2:\n",
    "\n",
    "Input: c = 3\n",
    "Output: false\n",
    "\n",
    " \n",
    "\n",
    "Constraints:\n",
    "\n",
    "    0 <= c <= 231 - 1\n",
    "\n"
   ]
  },
  {
   "cell_type": "code",
   "execution_count": null,
   "id": "51dda48e-c7b7-43ac-beaa-1ad92f94c6de",
   "metadata": {},
   "outputs": [],
   "source": [
    "class Solution:\n",
    "    def judgeSquareSum(self, c: int) -> bool:\n",
    "        l = 0\n",
    "        h = int(c ** 0.5) + 1\n",
    "        while l <= h:\n",
    "            if l ** 2 + h ** 2 > c:\n",
    "                h -= 1\n",
    "            elif l ** 2 + h ** 2 < c:\n",
    "                l += 1\n",
    "            else:\n",
    "                return True\n",
    "        return False"
   ]
  }
 ],
 "metadata": {
  "kernelspec": {
   "display_name": "Python 3 (ipykernel)",
   "language": "python",
   "name": "python3"
  },
  "language_info": {
   "codemirror_mode": {
    "name": "ipython",
    "version": 3
   },
   "file_extension": ".py",
   "mimetype": "text/x-python",
   "name": "python",
   "nbconvert_exporter": "python",
   "pygments_lexer": "ipython3",
   "version": "3.12.3"
  }
 },
 "nbformat": 4,
 "nbformat_minor": 5
}
