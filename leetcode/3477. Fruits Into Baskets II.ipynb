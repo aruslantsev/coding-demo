{
 "cells": [
  {
   "cell_type": "markdown",
   "id": "8f869484-4a4e-4ab7-8946-78b29ea15674",
   "metadata": {},
   "source": [
    "You are given two arrays of integers, fruits and baskets, each of length n, where fruits[i] represents the quantity of the ith type of fruit, and baskets[j] represents the capacity of the jth basket.\n",
    "\n",
    "From left to right, place the fruits according to these rules:\n",
    "\n",
    "    Each fruit type must be placed in the leftmost available basket with a capacity greater than or equal to the quantity of that fruit type.\n",
    "    Each basket can hold only one type of fruit.\n",
    "    If a fruit type cannot be placed in any basket, it remains unplaced.\n",
    "\n",
    "Return the number of fruit types that remain unplaced after all possible allocations are made.\n",
    "\n",
    " \n",
    "\n",
    "Example 1:\n",
    "\n",
    "Input: fruits = [4,2,5], baskets = [3,5,4]\n",
    "\n",
    "Output: 1\n",
    "\n",
    "Explanation:\n",
    "\n",
    "    fruits[0] = 4 is placed in baskets[1] = 5.\n",
    "    fruits[1] = 2 is placed in baskets[0] = 3.\n",
    "    fruits[2] = 5 cannot be placed in baskets[2] = 4.\n",
    "\n",
    "Since one fruit type remains unplaced, we return 1.\n",
    "\n",
    "Example 2:\n",
    "\n",
    "Input: fruits = [3,6,1], baskets = [6,4,7]\n",
    "\n",
    "Output: 0\n",
    "\n",
    "Explanation:\n",
    "\n",
    "    fruits[0] = 3 is placed in baskets[0] = 6.\n",
    "    fruits[1] = 6 cannot be placed in baskets[1] = 4 (insufficient capacity) but can be placed in the next available basket, baskets[2] = 7.\n",
    "    fruits[2] = 1 is placed in baskets[1] = 4.\n",
    "\n",
    "Since all fruits are successfully placed, we return 0.\n",
    "\n",
    " \n",
    "\n",
    "Constraints:\n",
    "\n",
    "    n == fruits.length == baskets.length\n",
    "    1 <= n <= 100\n",
    "    1 <= fruits[i], baskets[i] <= 1000\n",
    "\n"
   ]
  },
  {
   "cell_type": "code",
   "execution_count": null,
   "id": "1ace1b06-4ef5-491d-a10e-03bdde188f14",
   "metadata": {},
   "outputs": [],
   "source": [
    "class Solution:\n",
    "    def numOfUnplacedFruits(self, fruits: List[int], baskets: List[int]) -> int:\n",
    "        ans = 0\n",
    "        for fruit in fruits:\n",
    "            placed = False\n",
    "            for i in range(len(baskets)):\n",
    "                if baskets[i] >= fruit:\n",
    "                    baskets[i] = 0\n",
    "                    placed = True\n",
    "                    break\n",
    "            ans += not placed\n",
    "        return ans"
   ]
  }
 ],
 "metadata": {
  "kernelspec": {
   "display_name": "Python 3 (ipykernel)",
   "language": "python",
   "name": "python3"
  },
  "language_info": {
   "codemirror_mode": {
    "name": "ipython",
    "version": 3
   },
   "file_extension": ".py",
   "mimetype": "text/x-python",
   "name": "python",
   "nbconvert_exporter": "python",
   "pygments_lexer": "ipython3",
   "version": "3.13.5"
  }
 },
 "nbformat": 4,
 "nbformat_minor": 5
}
