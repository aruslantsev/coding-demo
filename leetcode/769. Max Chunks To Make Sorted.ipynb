{
 "cells": [
  {
   "cell_type": "markdown",
   "id": "192e1d85-1780-41e9-b9e0-24797f495458",
   "metadata": {},
   "source": [
    "You are given an integer array arr of length n that represents a permutation of the integers in the range [0, n - 1].\n",
    "\n",
    "We split arr into some number of chunks (i.e., partitions), and individually sort each chunk. After concatenating them, the result should equal the sorted array.\n",
    "\n",
    "Return the largest number of chunks we can make to sort the array.\n",
    "\n",
    " \n",
    "\n",
    "Example 1:\n",
    "\n",
    "Input: arr = [4,3,2,1,0]\n",
    "Output: 1\n",
    "Explanation:\n",
    "Splitting into two or more chunks will not return the required result.\n",
    "For example, splitting into [4, 3], [2, 1, 0] will result in [3, 4, 0, 1, 2], which isn't sorted.\n",
    "\n",
    "Example 2:\n",
    "\n",
    "Input: arr = [1,0,2,3,4]\n",
    "Output: 4\n",
    "Explanation:\n",
    "We can split into two chunks, such as [1, 0], [2, 3, 4].\n",
    "However, splitting into [1, 0], [2], [3], [4] is the highest number of chunks possible.\n",
    "\n",
    " \n",
    "\n",
    "Constraints:\n",
    "\n",
    "    n == arr.length\n",
    "    1 <= n <= 10\n",
    "    0 <= arr[i] < n\n",
    "    All the elements of arr are unique.\n",
    "\n"
   ]
  },
  {
   "cell_type": "code",
   "execution_count": null,
   "id": "6d73feb3-9f27-48c3-853a-350a044e7687",
   "metadata": {},
   "outputs": [],
   "source": [
    "class Solution:\n",
    "    def maxChunksToSorted(self, arr: List[int]) -> int:\n",
    "        n = len(arr)\n",
    "        # Deque to store the maximum elements of each chunk\n",
    "        stack = deque()\n",
    "\n",
    "        for i in range(n):\n",
    "            # Case 1: Current element is larger, starts a new chunk\n",
    "            if not stack or arr[i] > stack[-1]:\n",
    "                stack.append(arr[i])\n",
    "            else:\n",
    "                # Case 2: Merge chunks\n",
    "                max_element = stack[-1]\n",
    "                while stack and arr[i] < stack[-1]:\n",
    "                    stack.pop()\n",
    "                stack.append(max_element)\n",
    "\n",
    "        return len(stack)\n",
    "\n",
    "        "
   ]
  }
 ],
 "metadata": {
  "kernelspec": {
   "display_name": "Python 3 (ipykernel)",
   "language": "python",
   "name": "python3"
  },
  "language_info": {
   "codemirror_mode": {
    "name": "ipython",
    "version": 3
   },
   "file_extension": ".py",
   "mimetype": "text/x-python",
   "name": "python",
   "nbconvert_exporter": "python",
   "pygments_lexer": "ipython3",
   "version": "3.12.7"
  }
 },
 "nbformat": 4,
 "nbformat_minor": 5
}
