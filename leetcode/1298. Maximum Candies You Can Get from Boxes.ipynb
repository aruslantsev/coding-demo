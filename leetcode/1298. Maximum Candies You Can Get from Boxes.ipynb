{
 "cells": [
  {
   "cell_type": "markdown",
   "id": "ff0ede19-b1ca-495a-8707-2f1dfbbb8c12",
   "metadata": {},
   "source": [
    "You have n boxes labeled from 0 to n - 1. You are given four arrays: status, candies, keys, and containedBoxes where:\n",
    "\n",
    "    status[i] is 1 if the ith box is open and 0 if the ith box is closed,\n",
    "    candies[i] is the number of candies in the ith box,\n",
    "    keys[i] is a list of the labels of the boxes you can open after opening the ith box.\n",
    "    containedBoxes[i] is a list of the boxes you found inside the ith box.\n",
    "\n",
    "You are given an integer array initialBoxes that contains the labels of the boxes you initially have. You can take all the candies in any open box and you can use the keys in it to open new boxes and you also can use the boxes you find in it.\n",
    "\n",
    "Return the maximum number of candies you can get following the rules above.\n",
    "\n",
    " \n",
    "\n",
    "Example 1:\n",
    "\n",
    "Input: status = [1,0,1,0], candies = [7,5,4,100], keys = [[],[],[1],[]], containedBoxes = [[1,2],[3],[],[]], initialBoxes = [0]\n",
    "Output: 16\n",
    "Explanation: You will be initially given box 0. You will find 7 candies in it and boxes 1 and 2.\n",
    "Box 1 is closed and you do not have a key for it so you will open box 2. You will find 4 candies and a key to box 1 in box 2.\n",
    "In box 1, you will find 5 candies and box 3 but you will not find a key to box 3 so box 3 will remain closed.\n",
    "Total number of candies collected = 7 + 4 + 5 = 16 candy.\n",
    "\n",
    "Example 2:\n",
    "\n",
    "Input: status = [1,0,0,0,0,0], candies = [1,1,1,1,1,1], keys = [[1,2,3,4,5],[],[],[],[],[]], containedBoxes = [[1,2,3,4,5],[],[],[],[],[]], initialBoxes = [0]\n",
    "Output: 6\n",
    "Explanation: You have initially box 0. Opening it you can find boxes 1,2,3,4 and 5 and their keys.\n",
    "The total number of candies will be 6.\n",
    "\n",
    " \n",
    "\n",
    "Constraints:\n",
    "\n",
    "    n == status.length == candies.length == keys.length == containedBoxes.length\n",
    "    1 <= n <= 1000\n",
    "    status[i] is either 0 or 1.\n",
    "    1 <= candies[i] <= 1000\n",
    "    0 <= keys[i].length <= n\n",
    "    0 <= keys[i][j] < n\n",
    "    All values of keys[i] are unique.\n",
    "    0 <= containedBoxes[i].length <= n\n",
    "    0 <= containedBoxes[i][j] < n\n",
    "    All values of containedBoxes[i] are unique.\n",
    "    Each box is contained in one box at most.\n",
    "    0 <= initialBoxes.length <= n\n",
    "    0 <= initialBoxes[i] < n\n",
    "\n"
   ]
  },
  {
   "cell_type": "code",
   "execution_count": null,
   "id": "fbd01074-540e-48a0-ab5e-f635ffb66cd0",
   "metadata": {},
   "outputs": [],
   "source": [
    "class Solution:\n",
    "    def maxCandies(self, status: List[int], candies: List[int], keys: List[List[int]], containedBoxes: List[List[int]], initialBoxes: List[int]) -> int:\n",
    "        curr_keys = set([i for i, s in enumerate(status) if s == 1])\n",
    "        curr_boxes = set(initialBoxes)\n",
    "        if not curr_keys & curr_boxes:\n",
    "            return 0\n",
    "        q = deque(curr_boxes & curr_keys)\n",
    "        ans = 0\n",
    "        while q:\n",
    "            n = len(q)\n",
    "            for _ in range(n):\n",
    "                box = q.popleft()\n",
    "                curr_keys.remove(box)\n",
    "                curr_boxes.remove(box)\n",
    "                ans += candies[box]\n",
    "                curr_keys.update(keys[box])\n",
    "                curr_boxes.update(containedBoxes[box])\n",
    "            q.extend(curr_boxes & curr_keys)\n",
    "        return ans"
   ]
  }
 ],
 "metadata": {
  "kernelspec": {
   "display_name": "Python 3 (ipykernel)",
   "language": "python",
   "name": "python3"
  },
  "language_info": {
   "codemirror_mode": {
    "name": "ipython",
    "version": 3
   },
   "file_extension": ".py",
   "mimetype": "text/x-python",
   "name": "python",
   "nbconvert_exporter": "python",
   "pygments_lexer": "ipython3",
   "version": "3.13.4"
  }
 },
 "nbformat": 4,
 "nbformat_minor": 5
}
