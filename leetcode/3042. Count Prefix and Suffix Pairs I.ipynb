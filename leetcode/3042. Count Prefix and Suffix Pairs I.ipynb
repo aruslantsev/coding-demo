{
 "cells": [
  {
   "cell_type": "markdown",
   "id": "d2183f25-b2a8-4917-96a4-a028c7c95478",
   "metadata": {},
   "source": [
    "You are given a 0-indexed string array words.\n",
    "\n",
    "Let's define a boolean function isPrefixAndSuffix that takes two strings, str1 and str2:\n",
    "\n",
    "    isPrefixAndSuffix(str1, str2) returns true if str1 is both a\n",
    "    prefix\n",
    "    and a\n",
    "    suffix\n",
    "    of str2, and false otherwise.\n",
    "\n",
    "For example, isPrefixAndSuffix(\"aba\", \"ababa\") is true because \"aba\" is a prefix of \"ababa\" and also a suffix, but isPrefixAndSuffix(\"abc\", \"abcd\") is false.\n",
    "\n",
    "Return an integer denoting the number of index pairs (i, j) such that i < j, and isPrefixAndSuffix(words[i], words[j]) is true.\n",
    "\n",
    " \n",
    "\n",
    "Example 1:\n",
    "\n",
    "Input: words = [\"a\",\"aba\",\"ababa\",\"aa\"]\n",
    "Output: 4\n",
    "Explanation: In this example, the counted index pairs are:\n",
    "i = 0 and j = 1 because isPrefixAndSuffix(\"a\", \"aba\") is true.\n",
    "i = 0 and j = 2 because isPrefixAndSuffix(\"a\", \"ababa\") is true.\n",
    "i = 0 and j = 3 because isPrefixAndSuffix(\"a\", \"aa\") is true.\n",
    "i = 1 and j = 2 because isPrefixAndSuffix(\"aba\", \"ababa\") is true.\n",
    "Therefore, the answer is 4.\n",
    "\n",
    "Example 2:\n",
    "\n",
    "Input: words = [\"pa\",\"papa\",\"ma\",\"mama\"]\n",
    "Output: 2\n",
    "Explanation: In this example, the counted index pairs are:\n",
    "i = 0 and j = 1 because isPrefixAndSuffix(\"pa\", \"papa\") is true.\n",
    "i = 2 and j = 3 because isPrefixAndSuffix(\"ma\", \"mama\") is true.\n",
    "Therefore, the answer is 2.  \n",
    "\n",
    "Example 3:\n",
    "\n",
    "Input: words = [\"abab\",\"ab\"]\n",
    "Output: 0\n",
    "Explanation: In this example, the only valid index pair is i = 0 and j = 1, and isPrefixAndSuffix(\"abab\", \"ab\") is false.\n",
    "Therefore, the answer is 0.\n",
    "\n",
    " \n",
    "\n",
    "Constraints:\n",
    "\n",
    "    1 <= words.length <= 50\n",
    "    1 <= words[i].length <= 10\n",
    "    words[i] consists only of lowercase English letters.\n",
    "\n"
   ]
  },
  {
   "cell_type": "code",
   "execution_count": null,
   "id": "4ac04156-c8f0-405a-b13f-d403f3d33a35",
   "metadata": {},
   "outputs": [],
   "source": [
    "class Solution:\n",
    "    def countPrefixSuffixPairs(self, words: List[str]) -> int:\n",
    "        def isok(s1, s2):\n",
    "            return s2.startswith(s1) and s2.endswith(s1)\n",
    "        \n",
    "        ans = 0\n",
    "        for j in range(1, len(words)):\n",
    "            for i in range(j):\n",
    "                if isok(words[i], words[j]):\n",
    "                    ans += 1\n",
    "        return ans\n",
    "        "
   ]
  }
 ],
 "metadata": {
  "kernelspec": {
   "display_name": "common",
   "language": "python",
   "name": "common"
  },
  "language_info": {
   "codemirror_mode": {
    "name": "ipython",
    "version": 3
   },
   "file_extension": ".py",
   "mimetype": "text/x-python",
   "name": "python",
   "nbconvert_exporter": "python",
   "pygments_lexer": "ipython3",
   "version": "3.12.4"
  }
 },
 "nbformat": 4,
 "nbformat_minor": 5
}
