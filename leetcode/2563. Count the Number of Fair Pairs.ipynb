{
 "cells": [
  {
   "cell_type": "markdown",
   "id": "f9d3781e-db0c-4c60-9f21-33ab68115bb0",
   "metadata": {},
   "source": [
    "Given a 0-indexed integer array nums of size n and two integers lower and upper, return the number of fair pairs.\n",
    "\n",
    "A pair (i, j) is fair if:\n",
    "\n",
    "    0 <= i < j < n, and\n",
    "    lower <= nums[i] + nums[j] <= upper\n",
    "\n",
    " \n",
    "\n",
    "Example 1:\n",
    "\n",
    "Input: nums = [0,1,7,4,4,5], lower = 3, upper = 6\n",
    "Output: 6\n",
    "Explanation: There are 6 fair pairs: (0,3), (0,4), (0,5), (1,3), (1,4), and (1,5).\n",
    "\n",
    "Example 2:\n",
    "\n",
    "Input: nums = [1,7,9,2,5], lower = 11, upper = 11\n",
    "Output: 1\n",
    "Explanation: There is a single fair pair: (2,3).\n",
    "\n",
    " \n",
    "\n",
    "Constraints:\n",
    "\n",
    "    1 <= nums.length <= 105\n",
    "    nums.length == n\n",
    "    -109 <= nums[i] <= 109\n",
    "    -109 <= lower <= upper <= 109\n",
    "\n"
   ]
  },
  {
   "cell_type": "code",
   "execution_count": null,
   "id": "b7f0dfde-a35e-428c-851f-48ec68767aa4",
   "metadata": {},
   "outputs": [],
   "source": [
    "class Solution:\n",
    "    def countFairPairs(self, nums: List[int], lower: int, upper: int) -> int:\n",
    "        nums.sort()\n",
    "        ans = 0\n",
    "        for i in range(len(nums)):\n",
    "            l = bisect.bisect_left(nums, lower - nums[i], i + 1)\n",
    "            r = bisect.bisect_right(nums, upper - nums[i], i + 1)\n",
    "            ans += r - l\n",
    "        return ans\n",
    "        "
   ]
  },
  {
   "cell_type": "code",
   "execution_count": null,
   "id": "f08f570b-95f8-4af5-95ca-48866dbe5c69",
   "metadata": {},
   "outputs": [],
   "source": [
    "class Solution:\n",
    "    def countFairPairs(self, nums: List[int], lower: int, upper: int) -> int:\n",
    "        nums.sort()\n",
    "        ans = 0\n",
    "        for i in range(len(nums)):\n",
    "            low = self.binsearch(nums, i + 1, len(nums) - 1, lower - nums[i])\n",
    "            high = self.binsearch(nums, i + 1, len(nums) - 1, upper - nums[i] + 1)\n",
    "            ans += high - low\n",
    "        return ans\n",
    "\n",
    "    def binsearch(self, nums, l, r, elem):\n",
    "        while l <= r:\n",
    "            m = l + (r - l) // 2\n",
    "            if nums[m] >= elem:\n",
    "                r = m - 1\n",
    "            else:\n",
    "                l = m + 1\n",
    "        return l"
   ]
  }
 ],
 "metadata": {
  "kernelspec": {
   "display_name": "Python 3 (ipykernel)",
   "language": "python",
   "name": "python3"
  },
  "language_info": {
   "codemirror_mode": {
    "name": "ipython",
    "version": 3
   },
   "file_extension": ".py",
   "mimetype": "text/x-python",
   "name": "python",
   "nbconvert_exporter": "python",
   "pygments_lexer": "ipython3",
   "version": "3.12.9"
  }
 },
 "nbformat": 4,
 "nbformat_minor": 5
}
