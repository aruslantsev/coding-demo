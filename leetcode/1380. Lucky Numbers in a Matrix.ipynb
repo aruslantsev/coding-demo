{
 "cells": [
  {
   "cell_type": "markdown",
   "id": "c216a8e5-f4bb-4698-9a5a-6e844a054c88",
   "metadata": {},
   "source": [
    "Given an m x n matrix of distinct numbers, return all lucky numbers in the matrix in any order.\n",
    "\n",
    "A lucky number is an element of the matrix such that it is the minimum element in its row and maximum in its column.\n",
    "\n",
    " \n",
    "\n",
    "Example 1:\n",
    "\n",
    "Input: matrix = [[3,7,8],[9,11,13],[15,16,17]]\n",
    "Output: [15]\n",
    "Explanation: 15 is the only lucky number since it is the minimum in its row and the maximum in its column.\n",
    "\n",
    "Example 2:\n",
    "\n",
    "Input: matrix = [[1,10,4,2],[9,3,8,7],[15,16,17,12]]\n",
    "Output: [12]\n",
    "Explanation: 12 is the only lucky number since it is the minimum in its row and the maximum in its column.\n",
    "\n",
    "Example 3:\n",
    "\n",
    "Input: matrix = [[7,8],[1,2]]\n",
    "Output: [7]\n",
    "Explanation: 7 is the only lucky number since it is the minimum in its row and the maximum in its column.\n",
    "\n",
    " \n",
    "\n",
    "Constraints:\n",
    "\n",
    "    m == mat.length\n",
    "    n == mat[i].length\n",
    "    1 <= n, m <= 50\n",
    "    1 <= matrix[i][j] <= 105.\n",
    "    All elements in the matrix are distinct.\n",
    "\n"
   ]
  },
  {
   "cell_type": "code",
   "execution_count": null,
   "id": "d018e958-6383-4d0f-95be-8aa92e29cffa",
   "metadata": {},
   "outputs": [],
   "source": [
    "class Solution:\n",
    "    def luckyNumbers (self, matrix: List[List[int]]) -> List[int]:\n",
    "        mins = [min(row) for row in matrix]\n",
    "        maxs = [max([row[i] for row in matrix]) for i in range(len(matrix[0]))]\n",
    "        return list(set(mins) & set(maxs))\n",
    "    "
   ]
  }
 ],
 "metadata": {
  "kernelspec": {
   "display_name": "Python 3 (ipykernel)",
   "language": "python",
   "name": "python3"
  },
  "language_info": {
   "codemirror_mode": {
    "name": "ipython",
    "version": 3
   },
   "file_extension": ".py",
   "mimetype": "text/x-python",
   "name": "python",
   "nbconvert_exporter": "python",
   "pygments_lexer": "ipython3",
   "version": "3.12.3"
  }
 },
 "nbformat": 4,
 "nbformat_minor": 5
}
