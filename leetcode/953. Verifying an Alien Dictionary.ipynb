{
 "cells": [
  {
   "cell_type": "markdown",
   "id": "7eb93d81-0b4e-40f0-9282-31d1da423862",
   "metadata": {},
   "source": [
    "In an alien language, surprisingly, they also use English lowercase letters, but possibly in a different order. The order of the alphabet is some permutation of lowercase letters.\n",
    "\n",
    "Given a sequence of words written in the alien language, and the order of the alphabet, return true if and only if the given words are sorted lexicographically in this alien language.\n",
    "\n",
    " \n",
    "\n",
    "Example 1:\n",
    "\n",
    "Input: words = [\"hello\",\"leetcode\"], order = \"hlabcdefgijkmnopqrstuvwxyz\"\n",
    "Output: true\n",
    "Explanation: As 'h' comes before 'l' in this language, then the sequence is sorted.\n",
    "\n",
    "Example 2:\n",
    "\n",
    "Input: words = [\"word\",\"world\",\"row\"], order = \"worldabcefghijkmnpqstuvxyz\"\n",
    "Output: false\n",
    "Explanation: As 'd' comes after 'l' in this language, then words[0] > words[1], hence the sequence is unsorted.\n",
    "\n",
    "Example 3:\n",
    "\n",
    "Input: words = [\"apple\",\"app\"], order = \"abcdefghijklmnopqrstuvwxyz\"\n",
    "Output: false\n",
    "Explanation: The first three characters \"app\" match, and the second string is shorter (in size.) According to lexicographical rules \"apple\" > \"app\", because 'l' > '∅', where '∅' is defined as the blank character which is less than any other character (More info).\n",
    "\n",
    " \n",
    "\n",
    "Constraints:\n",
    "\n",
    "    1 <= words.length <= 100\n",
    "    1 <= words[i].length <= 20\n",
    "    order.length == 26\n",
    "    All characters in words[i] and order are English lowercase letters.\n",
    "\n"
   ]
  },
  {
   "cell_type": "code",
   "execution_count": null,
   "id": "3d51dff5-796e-4aba-807b-f45c6067ba3b",
   "metadata": {},
   "outputs": [],
   "source": [
    "class Solution:\n",
    "    def isAlienSorted(self, words: List[str], order: str) -> bool:\n",
    "        words_translated = []\n",
    "        latin = [chr(s) for s in range(ord('a'), ord('z') + 1)]\n",
    "        translation = dict(zip(order, latin))\n",
    "        for word in words:\n",
    "            words_translated.append(''.join([translation[l] for l in word]))\n",
    "\n",
    "        return words_translated == sorted(words_translated)\n",
    "        "
   ]
  }
 ],
 "metadata": {
  "kernelspec": {
   "display_name": "Python 3 (ipykernel)",
   "language": "python",
   "name": "python3"
  },
  "language_info": {
   "codemirror_mode": {
    "name": "ipython",
    "version": 3
   },
   "file_extension": ".py",
   "mimetype": "text/x-python",
   "name": "python",
   "nbconvert_exporter": "python",
   "pygments_lexer": "ipython3",
   "version": "3.10.8"
  }
 },
 "nbformat": 4,
 "nbformat_minor": 5
}
