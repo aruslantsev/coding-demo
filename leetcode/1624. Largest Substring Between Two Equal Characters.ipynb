{
 "cells": [
  {
   "cell_type": "markdown",
   "id": "cb5fce37-3863-4c5e-8e12-32f30b87a4d2",
   "metadata": {},
   "source": [
    "Given a string s, return the length of the longest substring between two equal characters, excluding the two characters. If there is no such substring return -1.\n",
    "\n",
    "A substring is a contiguous sequence of characters within a string.\n",
    "\n",
    " \n",
    "\n",
    "Example 1:\n",
    "\n",
    "Input: s = \"aa\"\n",
    "Output: 0\n",
    "Explanation: The optimal substring here is an empty substring between the two 'a's.\n",
    "\n",
    "Example 2:\n",
    "\n",
    "Input: s = \"abca\"\n",
    "Output: 2\n",
    "Explanation: The optimal substring here is \"bc\".\n",
    "\n",
    "Example 3:\n",
    "\n",
    "Input: s = \"cbzxy\"\n",
    "Output: -1\n",
    "Explanation: There are no characters that appear twice in s.\n",
    "\n",
    " \n",
    "\n",
    "Constraints:\n",
    "\n",
    "    1 <= s.length <= 300\n",
    "    s contains only lowercase English letters.\n",
    "\n"
   ]
  },
  {
   "cell_type": "code",
   "execution_count": null,
   "id": "ebf75ac4-f546-4367-a702-e7fa79e904dc",
   "metadata": {},
   "outputs": [],
   "source": [
    "class Solution:\n",
    "    def maxLengthBetweenEqualCharacters(self, s: str) -> int:\n",
    "        ans = -1\n",
    "        for char in set(s):\n",
    "            i = s.index(char)\n",
    "            j = s.rindex(char)\n",
    "            ans = max(ans, j - i - 1)\n",
    "        return ans\n",
    "        \n"
   ]
  }
 ],
 "metadata": {
  "kernelspec": {
   "display_name": "Python 3 (ipykernel)",
   "language": "python",
   "name": "python3"
  },
  "language_info": {
   "codemirror_mode": {
    "name": "ipython",
    "version": 3
   },
   "file_extension": ".py",
   "mimetype": "text/x-python",
   "name": "python",
   "nbconvert_exporter": "python",
   "pygments_lexer": "ipython3",
   "version": "3.11.4"
  }
 },
 "nbformat": 4,
 "nbformat_minor": 5
}
