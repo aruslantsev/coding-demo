{
 "cells": [
  {
   "cell_type": "markdown",
   "id": "90a9c6da-169b-40c6-8c3f-cf98e9e751d4",
   "metadata": {},
   "source": [
    "On day 1, one person discovers a secret.\n",
    "\n",
    "You are given an integer delay, which means that each person will share the secret with a new person every day, starting from delay days after discovering the secret. You are also given an integer forget, which means that each person will forget the secret forget days after discovering it. A person cannot share the secret on the same day they forgot it, or on any day afterwards.\n",
    "\n",
    "Given an integer n, return the number of people who know the secret at the end of day n. Since the answer may be very large, return it modulo 109 + 7.\n",
    "\n",
    " \n",
    "\n",
    "Example 1:\n",
    "\n",
    "Input: n = 6, delay = 2, forget = 4\n",
    "Output: 5\n",
    "Explanation:\n",
    "Day 1: Suppose the first person is named A. (1 person)\n",
    "Day 2: A is the only person who knows the secret. (1 person)\n",
    "Day 3: A shares the secret with a new person, B. (2 people)\n",
    "Day 4: A shares the secret with a new person, C. (3 people)\n",
    "Day 5: A forgets the secret, and B shares the secret with a new person, D. (3 people)\n",
    "Day 6: B shares the secret with E, and C shares the secret with F. (5 people)\n",
    "\n",
    "Example 2:\n",
    "\n",
    "Input: n = 4, delay = 1, forget = 3\n",
    "Output: 6\n",
    "Explanation:\n",
    "Day 1: The first person is named A. (1 person)\n",
    "Day 2: A shares the secret with B. (2 people)\n",
    "Day 3: A and B share the secret with 2 new people, C and D. (4 people)\n",
    "Day 4: A forgets the secret. B, C, and D share the secret with 3 new people. (6 people)\n",
    "\n",
    " \n",
    "\n",
    "Constraints:\n",
    "\n",
    "    2 <= n <= 1000\n",
    "    1 <= delay < forget <= n\n",
    "\n"
   ]
  },
  {
   "cell_type": "code",
   "execution_count": null,
   "id": "9879683f-4fc4-4d02-96f4-70ce179f1ff2",
   "metadata": {},
   "outputs": [],
   "source": [
    "class Solution:\n",
    "    def peopleAwareOfSecret(self, n: int, delay: int, forget: int) -> int:\n",
    "        know, share = deque([1] + [0] * (delay - 1)), deque([0] * (forget - delay))\n",
    "        know_cnt = 1\n",
    "        share_cnt = 0\n",
    "        for day in range(2, n + 1):\n",
    "            starts_sharing = know.pop()\n",
    "            share.appendleft(starts_sharing)  # know.pop()\n",
    "            share_cnt += starts_sharing\n",
    "            know_cnt -= starts_sharing\n",
    "            share_cnt -= share.pop()\n",
    "            know.appendleft(share_cnt)  # sum(share)\n",
    "            know_cnt += share_cnt\n",
    "        return (know_cnt + share_cnt) % 1000000007\n"
   ]
  }
 ],
 "metadata": {
  "kernelspec": {
   "display_name": "Python 3 (ipykernel)",
   "language": "python",
   "name": "python3"
  },
  "language_info": {
   "codemirror_mode": {
    "name": "ipython",
    "version": 3
   },
   "file_extension": ".py",
   "mimetype": "text/x-python",
   "name": "python",
   "nbconvert_exporter": "python",
   "pygments_lexer": "ipython3",
   "version": "3.13.5"
  }
 },
 "nbformat": 4,
 "nbformat_minor": 5
}
