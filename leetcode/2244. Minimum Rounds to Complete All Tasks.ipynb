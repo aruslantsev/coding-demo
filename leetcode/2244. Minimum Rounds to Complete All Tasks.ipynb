{
 "cells": [
  {
   "cell_type": "markdown",
   "id": "dbe6f2cb-a1f6-48a1-b2a1-c6369b292855",
   "metadata": {},
   "source": [
    "You are given a 0-indexed integer array tasks, where tasks[i] represents the difficulty level of a task. In each round, you can complete either 2 or 3 tasks of the same difficulty level.\n",
    "\n",
    "Return the minimum rounds required to complete all the tasks, or -1 if it is not possible to complete all the tasks.\n",
    "\n",
    " \n",
    "\n",
    "Example 1:\n",
    "\n",
    "Input: tasks = [2,2,3,3,2,4,4,4,4,4]\n",
    "Output: 4\n",
    "Explanation: To complete all the tasks, a possible plan is:\n",
    "- In the first round, you complete 3 tasks of difficulty level 2. \n",
    "- In the second round, you complete 2 tasks of difficulty level 3. \n",
    "- In the third round, you complete 3 tasks of difficulty level 4. \n",
    "- In the fourth round, you complete 2 tasks of difficulty level 4.  \n",
    "It can be shown that all the tasks cannot be completed in fewer than 4 rounds, so the answer is 4.\n",
    "\n",
    "Example 2:\n",
    "\n",
    "Input: tasks = [2,3,3]\n",
    "Output: -1\n",
    "Explanation: There is only 1 task of difficulty level 2, but in each round, you can only complete either 2 or 3 tasks of the same difficulty level. Hence, you cannot complete all the tasks, and the answer is -1.\n",
    "\n",
    " \n",
    "\n",
    "Constraints:\n",
    "\n",
    "    1 <= tasks.length <= 105\n",
    "    1 <= tasks[i] <= 109\n",
    "\n"
   ]
  },
  {
   "cell_type": "code",
   "execution_count": null,
   "id": "079eaae0-e582-4792-addd-8778e56db8b4",
   "metadata": {},
   "outputs": [],
   "source": [
    "class Solution:\n",
    "    def minimumRounds(self, tasks: List[int]) -> int:\n",
    "        c = Counter(tasks)\n",
    "        ans = 0\n",
    "        for cnt in c.values():\n",
    "            if cnt == 1:\n",
    "                return -1\n",
    "\n",
    "            n, r = divmod(cnt, 3)\n",
    "            if r == 0:\n",
    "                ans += n\n",
    "            elif r == 1:\n",
    "                ans += (n - 1) + 2\n",
    "            else:  # r == 2\n",
    "                ans += n + 1\n",
    "        return ans"
   ]
  },
  {
   "cell_type": "code",
   "execution_count": null,
   "id": "0ebc852a-2592-4e58-8ef7-09d44e58e65c",
   "metadata": {},
   "outputs": [],
   "source": [
    "class Solution:\n",
    "    def minimumRounds(self, tasks: List[int]) -> int:\n",
    "        c = Counter(tasks)\n",
    "        ans = 0\n",
    "        for cnt in c.values():\n",
    "            if cnt == 1:\n",
    "                return -1\n",
    "\n",
    "            n, r = divmod(cnt, 3)\n",
    "            ans += n + bool(r)  # ceil(cnt / 3)\n",
    "        return ans"
   ]
  }
 ],
 "metadata": {
  "kernelspec": {
   "display_name": "Python 3 (ipykernel)",
   "language": "python",
   "name": "python3"
  },
  "language_info": {
   "codemirror_mode": {
    "name": "ipython",
    "version": 3
   },
   "file_extension": ".py",
   "mimetype": "text/x-python",
   "name": "python",
   "nbconvert_exporter": "python",
   "pygments_lexer": "ipython3",
   "version": "3.9.13"
  }
 },
 "nbformat": 4,
 "nbformat_minor": 5
}
