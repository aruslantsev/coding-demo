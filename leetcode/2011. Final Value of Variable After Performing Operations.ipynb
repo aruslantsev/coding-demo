{
 "cells": [
  {
   "cell_type": "markdown",
   "id": "516e2d7b-c0d2-4949-8ef8-a6a6809f62b6",
   "metadata": {},
   "source": [
    "There is a programming language with only four operations and one variable X:\n",
    "\n",
    "    ++X and X++ increments the value of the variable X by 1.\n",
    "    --X and X-- decrements the value of the variable X by 1.\n",
    "\n",
    "Initially, the value of X is 0.\n",
    "\n",
    "Given an array of strings operations containing a list of operations, return the final value of X after performing all the operations.\n",
    "\n",
    " \n",
    "\n",
    "Example 1:\n",
    "\n",
    "Input: operations = [\"--X\",\"X++\",\"X++\"]\n",
    "Output: 1\n",
    "Explanation: The operations are performed as follows:\n",
    "Initially, X = 0.\n",
    "--X: X is decremented by 1, X =  0 - 1 = -1.\n",
    "X++: X is incremented by 1, X = -1 + 1 =  0.\n",
    "X++: X is incremented by 1, X =  0 + 1 =  1.\n",
    "\n",
    "Example 2:\n",
    "\n",
    "Input: operations = [\"++X\",\"++X\",\"X++\"]\n",
    "Output: 3\n",
    "Explanation: The operations are performed as follows:\n",
    "Initially, X = 0.\n",
    "++X: X is incremented by 1, X = 0 + 1 = 1.\n",
    "++X: X is incremented by 1, X = 1 + 1 = 2.\n",
    "X++: X is incremented by 1, X = 2 + 1 = 3.\n",
    "\n",
    "Example 3:\n",
    "\n",
    "Input: operations = [\"X++\",\"++X\",\"--X\",\"X--\"]\n",
    "Output: 0\n",
    "Explanation: The operations are performed as follows:\n",
    "Initially, X = 0.\n",
    "X++: X is incremented by 1, X = 0 + 1 = 1.\n",
    "++X: X is incremented by 1, X = 1 + 1 = 2.\n",
    "--X: X is decremented by 1, X = 2 - 1 = 1.\n",
    "X--: X is decremented by 1, X = 1 - 1 = 0.\n",
    "\n",
    " \n",
    "\n",
    "Constraints:\n",
    "\n",
    "    1 <= operations.length <= 100\n",
    "    operations[i] will be either \"++X\", \"X++\", \"--X\", or \"X--\".\n",
    "\n"
   ]
  },
  {
   "cell_type": "code",
   "execution_count": null,
   "id": "49112d43-a88c-4a93-8713-3310b41e113d",
   "metadata": {},
   "outputs": [],
   "source": [
    "class Solution:\n",
    "    def finalValueAfterOperations(self, operations: List[str]) -> int:\n",
    "        ans = 0\n",
    "        for op in operations:\n",
    "            if \"++\" in op:\n",
    "                ans += 1\n",
    "            else:\n",
    "                ans -= 1\n",
    "        return ans"
   ]
  },
  {
   "cell_type": "code",
   "execution_count": null,
   "id": "6bb3eb50-3a4e-4a73-a1dc-589df7f1762b",
   "metadata": {},
   "outputs": [],
   "source": [
    "class Solution:\n",
    "    def finalValueAfterOperations(self, operations: List[str]) -> int:\n",
    "        return sum(1 if op[1] == \"+\" else -1 for op in operations)"
   ]
  }
 ],
 "metadata": {
  "kernelspec": {
   "display_name": "common",
   "language": "python",
   "name": "common"
  },
  "language_info": {
   "codemirror_mode": {
    "name": "ipython",
    "version": 3
   },
   "file_extension": ".py",
   "mimetype": "text/x-python",
   "name": "python",
   "nbconvert_exporter": "python",
   "pygments_lexer": "ipython3",
   "version": "3.12.11"
  }
 },
 "nbformat": 4,
 "nbformat_minor": 5
}
