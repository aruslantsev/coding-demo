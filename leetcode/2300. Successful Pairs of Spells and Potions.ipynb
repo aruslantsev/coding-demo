{
 "cells": [
  {
   "cell_type": "markdown",
   "id": "e7a2a585-9317-4cb7-955a-bb16c649b54e",
   "metadata": {},
   "source": [
    "You are given two positive integer arrays spells and potions, of length n and m respectively, where spells[i] represents the strength of the ith spell and potions[j] represents the strength of the jth potion.\n",
    "\n",
    "You are also given an integer success. A spell and potion pair is considered successful if the product of their strengths is at least success.\n",
    "\n",
    "Return an integer array pairs of length n where pairs[i] is the number of potions that will form a successful pair with the ith spell.\n",
    "\n",
    " \n",
    "\n",
    "Example 1:\n",
    "\n",
    "Input: spells = [5,1,3], potions = [1,2,3,4,5], success = 7\n",
    "Output: [4,0,3]\n",
    "Explanation:\n",
    "- 0th spell: 5 * [1,2,3,4,5] = [5,10,15,20,25]. 4 pairs are successful.\n",
    "- 1st spell: 1 * [1,2,3,4,5] = [1,2,3,4,5]. 0 pairs are successful.\n",
    "- 2nd spell: 3 * [1,2,3,4,5] = [3,6,9,12,15]. 3 pairs are successful.\n",
    "Thus, [4,0,3] is returned.\n",
    "Example 2:\n",
    "\n",
    "Input: spells = [3,1,2], potions = [8,5,8], success = 16\n",
    "Output: [2,0,2]\n",
    "Explanation:\n",
    "- 0th spell: 3 * [8,5,8] = [24,15,24]. 2 pairs are successful.\n",
    "- 1st spell: 1 * [8,5,8] = [8,5,8]. 0 pairs are successful. \n",
    "- 2nd spell: 2 * [8,5,8] = [16,10,16]. 2 pairs are successful. \n",
    "Thus, [2,0,2] is returned.\n",
    " \n",
    "\n",
    "Constraints:\n",
    "\n",
    "n == spells.length\n",
    "m == potions.length\n",
    "1 <= n, m <= 105\n",
    "1 <= spells[i], potions[i] <= 105\n",
    "1 <= success <= 1010"
   ]
  },
  {
   "cell_type": "code",
   "execution_count": null,
   "id": "4844ec7c-eeb8-4d4d-85cc-73fe0b9c076e",
   "metadata": {},
   "outputs": [],
   "source": [
    "class Solution:\n",
    "    def successfulPairs(self, spells: List[int], potions: List[int], success: int) -> List[int]:\n",
    "        n = len(spells)\n",
    "        m = len(potions)\n",
    "        pairs = [0] * n\n",
    "        potions.sort()\n",
    "        for i in range(n):\n",
    "            spell = spells[i]\n",
    "            left = 0\n",
    "            right = m - 1\n",
    "            while left <= right:\n",
    "                mid = left + (right - left) // 2\n",
    "                product = spell * potions[mid]\n",
    "                if product >= success:\n",
    "                    right = mid - 1\n",
    "                else:\n",
    "                    left = mid + 1\n",
    "            pairs[i] = m - left\n",
    "        return pairs\n"
   ]
  }
 ],
 "metadata": {
  "kernelspec": {
   "display_name": "Python 3",
   "language": "python",
   "name": "python3"
  },
  "language_info": {
   "codemirror_mode": {
    "name": "ipython",
    "version": 3
   },
   "file_extension": ".py",
   "mimetype": "text/x-python",
   "name": "python",
   "nbconvert_exporter": "python",
   "pygments_lexer": "ipython3",
   "version": "3.9.12"
  }
 },
 "nbformat": 4,
 "nbformat_minor": 5
}
