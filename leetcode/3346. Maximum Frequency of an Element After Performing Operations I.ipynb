{
 "cells": [
  {
   "cell_type": "markdown",
   "id": "d6c233ad-5734-4417-95ba-58b549b30a38",
   "metadata": {},
   "source": [
    "You are given an integer array nums and two integers k and numOperations.\n",
    "\n",
    "You must perform an operation numOperations times on nums, where in each operation you:\n",
    "\n",
    "    Select an index i that was not selected in any previous operations.\n",
    "    Add an integer in the range [-k, k] to nums[i].\n",
    "\n",
    "Return the maximum possible\n",
    "\n",
    "of any element in nums after performing the operations.\n",
    "\n",
    " \n",
    "\n",
    "Example 1:\n",
    "\n",
    "Input: nums = [1,4,5], k = 1, numOperations = 2\n",
    "\n",
    "Output: 2\n",
    "\n",
    "Explanation:\n",
    "\n",
    "We can achieve a maximum frequency of two by:\n",
    "\n",
    "    Adding 0 to nums[1]. nums becomes [1, 4, 5].\n",
    "    Adding -1 to nums[2]. nums becomes [1, 4, 4].\n",
    "\n",
    "Example 2:\n",
    "\n",
    "Input: nums = [5,11,20,20], k = 5, numOperations = 1\n",
    "\n",
    "Output: 2\n",
    "\n",
    "Explanation:\n",
    "\n",
    "We can achieve a maximum frequency of two by:\n",
    "\n",
    "    Adding 0 to nums[1].\n",
    "\n",
    " \n",
    "\n",
    "Constraints:\n",
    "\n",
    "    1 <= nums.length <= 105\n",
    "    1 <= nums[i] <= 105\n",
    "    0 <= k <= 105\n",
    "    0 <= numOperations <= nums.length\n"
   ]
  },
  {
   "cell_type": "code",
   "execution_count": null,
   "id": "c0c7352f-f476-488f-a50f-71f0c66bdf20",
   "metadata": {},
   "outputs": [],
   "source": [
    "class Solution:\n",
    "    def maxFrequency(self, nums: List[int], k: int, numOperations: int) -> int:\n",
    "        maxVal = max(nums) + k + 2\n",
    "        count = [0] * maxVal\n",
    "\n",
    "        for v in nums:\n",
    "            count[v] += 1\n",
    "\n",
    "        for i in range(1, maxVal):\n",
    "            count[i] += count[i - 1]\n",
    "\n",
    "        res = 0\n",
    "        for i in range(maxVal):\n",
    "            left = max(0, i - k)\n",
    "            right = min(maxVal - 1, i + k)\n",
    "            total = count[right] - (count[left - 1] if left else 0)\n",
    "            freq = count[i] - (count[i - 1] if i else 0)\n",
    "            res = max(res, freq + min(numOperations, total - freq))\n",
    "\n",
    "        return res\n"
   ]
  }
 ],
 "metadata": {
  "kernelspec": {
   "display_name": "Python 3 (ipykernel)",
   "language": "python",
   "name": "python3"
  },
  "language_info": {
   "codemirror_mode": {
    "name": "ipython",
    "version": 3
   },
   "file_extension": ".py",
   "mimetype": "text/x-python",
   "name": "python",
   "nbconvert_exporter": "python",
   "pygments_lexer": "ipython3",
   "version": "3.13.5"
  }
 },
 "nbformat": 4,
 "nbformat_minor": 5
}
