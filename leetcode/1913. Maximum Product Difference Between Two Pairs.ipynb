{
 "cells": [
  {
   "cell_type": "markdown",
   "id": "7241e0b1-04e7-40bd-8f12-695f40d093e6",
   "metadata": {},
   "source": [
    "The product difference between two pairs (a, b) and (c, d) is defined as (a * b) - (c * d).\n",
    "\n",
    "    For example, the product difference between (5, 6) and (2, 7) is (5 * 6) - (2 * 7) = 16.\n",
    "\n",
    "Given an integer array nums, choose four distinct indices w, x, y, and z such that the product difference between pairs (nums[w], nums[x]) and (nums[y], nums[z]) is maximized.\n",
    "\n",
    "Return the maximum such product difference.\n",
    "\n",
    " \n",
    "\n",
    "Example 1:\n",
    "\n",
    "Input: nums = [5,6,2,7,4]\n",
    "Output: 34\n",
    "Explanation: We can choose indices 1 and 3 for the first pair (6, 7) and indices 2 and 4 for the second pair (2, 4).\n",
    "The product difference is (6 * 7) - (2 * 4) = 34.\n",
    "\n",
    "Example 2:\n",
    "\n",
    "Input: nums = [4,2,5,9,7,4,8]\n",
    "Output: 64\n",
    "Explanation: We can choose indices 3 and 6 for the first pair (9, 8) and indices 1 and 5 for the second pair (2, 4).\n",
    "The product difference is (9 * 8) - (2 * 4) = 64.\n",
    "\n",
    " \n",
    "\n",
    "Constraints:\n",
    "\n",
    "    4 <= nums.length <= 104\n",
    "    1 <= nums[i] <= 104\n"
   ]
  },
  {
   "cell_type": "code",
   "execution_count": null,
   "id": "db206d5f-e999-4c5c-8563-36ca8658592e",
   "metadata": {},
   "outputs": [],
   "source": [
    "class Solution:\n",
    "    def maxProductDifference(self, nums: List[int]) -> int:\n",
    "        nums.sort()\n",
    "        return nums[-2] * nums[-1] - nums[0] * nums[1]"
   ]
  }
 ],
 "metadata": {
  "kernelspec": {
   "display_name": "Python 3 (ipykernel)",
   "language": "python",
   "name": "python3"
  },
  "language_info": {
   "codemirror_mode": {
    "name": "ipython",
    "version": 3
   },
   "file_extension": ".py",
   "mimetype": "text/x-python",
   "name": "python",
   "nbconvert_exporter": "python",
   "pygments_lexer": "ipython3",
   "version": "3.11.4"
  }
 },
 "nbformat": 4,
 "nbformat_minor": 5
}
