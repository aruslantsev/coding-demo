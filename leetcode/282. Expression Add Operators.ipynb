{
 "cells": [
  {
   "cell_type": "markdown",
   "id": "dabcb6d9-149f-4a2f-bc20-6707d645ff27",
   "metadata": {},
   "source": [
    "Given a string num that contains only digits and an integer target, return all possibilities to insert the binary operators '+', '-', and/or '*' between the digits of num so that the resultant expression evaluates to the target value.\n",
    "\n",
    "Note that operands in the returned expressions should not contain leading zeros.\n",
    "\n",
    " \n",
    "\n",
    "Example 1:\n",
    "\n",
    "Input: num = \"123\", target = 6\n",
    "Output: [\"1*2*3\",\"1+2+3\"]\n",
    "Explanation: Both \"1*2*3\" and \"1+2+3\" evaluate to 6.\n",
    "\n",
    "Example 2:\n",
    "\n",
    "Input: num = \"232\", target = 8\n",
    "Output: [\"2*3+2\",\"2+3*2\"]\n",
    "Explanation: Both \"2*3+2\" and \"2+3*2\" evaluate to 8.\n",
    "\n",
    "Example 3:\n",
    "\n",
    "Input: num = \"3456237490\", target = 9191\n",
    "Output: []\n",
    "Explanation: There are no expressions that can be created from \"3456237490\" to evaluate to 9191.\n",
    "\n",
    " \n",
    "\n",
    "Constraints:\n",
    "\n",
    "    1 <= num.length <= 10\n",
    "    num consists of only digits.\n",
    "    -231 <= target <= 231 - 1\n",
    "\n"
   ]
  },
  {
   "cell_type": "code",
   "execution_count": 98,
   "id": "221127be-b16a-4d08-9eed-d03cdc43f96f",
   "metadata": {},
   "outputs": [],
   "source": [
    "from typing import List\n",
    "\n",
    "class Solution:\n",
    "    def addOperators(self, num: str, target: int) -> List[str]:\n",
    "        self.results = set()\n",
    "        bad_nums = [\n",
    "            '00', \n",
    "            '000', \n",
    "            '0000', \n",
    "            '00000', \n",
    "            '000000', \n",
    "            '0000000', \n",
    "            '00000000', \n",
    "            '000000000', \n",
    "            '0000000000'\n",
    "        ]\n",
    "        def iterate(num, pos):\n",
    "            try:\n",
    "                if eval(num) == target:\n",
    "                    test_num = num.replace('+', ' ').replace('-', ' ').replace('*', ' ').split(' ')\n",
    "                    if not any([n in bad_nums for n in test_num]):\n",
    "                        self.results.add(num)\n",
    "                        return\n",
    "            except:\n",
    "                pass\n",
    "            if pos >= len(num):\n",
    "                return\n",
    "            \n",
    "            iterate(num[:pos] + '+' + num[pos:], pos + 2)\n",
    "            iterate(num[:pos] + '-' + num[pos:], pos + 2)\n",
    "            iterate(num[:pos] + '*' + num[pos:], pos + 2)\n",
    "            iterate(num, pos + 1)\n",
    "        \n",
    "        iterate(num, 1)\n",
    "        return list(self.results)"
   ]
  },
  {
   "cell_type": "code",
   "execution_count": 107,
   "id": "3d88ef1e-662d-4e7b-9529-510293712480",
   "metadata": {},
   "outputs": [],
   "source": [
    "from typing import List\n",
    "\n",
    "class Solution:\n",
    "    def addOperators(self, num: str, target: int) -> List[str]:\n",
    "        n = len(num)\n",
    "        result = []\n",
    "    \n",
    "        def Helper(i, prev, curr, val, expr):\n",
    "            if i == n:\n",
    "                if val == target and curr == 0:\n",
    "                    result.append(expr)\n",
    "                return\n",
    "        \n",
    "            curr = curr * 10 + int(num[i])\n",
    "        \n",
    "            if curr > 0:\n",
    "                Helper(i + 1, prev, curr, val, expr)\n",
    "            \n",
    "            if not expr:\n",
    "                Helper(i + 1, curr, 0, val + curr, str(curr))\n",
    "            else:\n",
    "                Helper(i + 1, curr, 0, val + curr, expr + '+' + str(curr))\n",
    "                Helper(i + 1, -curr, 0, val - curr, expr + '-' + str(curr))\n",
    "                Helper(i + 1, prev * curr, 0, val - prev + prev * curr, expr + '*' + str(curr))\n",
    "       \n",
    "        Helper(0, 0, 0, 0, \"\")\n",
    "        return result\n"
   ]
  },
  {
   "cell_type": "code",
   "execution_count": 108,
   "id": "9d8dc967-a14d-40b0-99fb-e41665188973",
   "metadata": {},
   "outputs": [
    {
     "data": {
      "text/plain": [
       "['1+2+3', '1*2*3']"
      ]
     },
     "execution_count": 108,
     "metadata": {},
     "output_type": "execute_result"
    }
   ],
   "source": [
    "s = Solution()\n",
    "s.addOperators(\"123\", 6)"
   ]
  },
  {
   "cell_type": "code",
   "execution_count": 109,
   "id": "6a7de243-a29b-420d-9266-8a686d6d4307",
   "metadata": {},
   "outputs": [
    {
     "data": {
      "text/plain": [
       "['2+3*2', '2*3+2']"
      ]
     },
     "execution_count": 109,
     "metadata": {},
     "output_type": "execute_result"
    }
   ],
   "source": [
    "s.addOperators(\"232\", 8)"
   ]
  },
  {
   "cell_type": "code",
   "execution_count": 110,
   "id": "62a006f1-c418-4e22-80d8-232cb56cdded",
   "metadata": {},
   "outputs": [
    {
     "data": {
      "text/plain": [
       "['10-5', '1*0+5']"
      ]
     },
     "execution_count": 110,
     "metadata": {},
     "output_type": "execute_result"
    }
   ],
   "source": [
    "s.addOperators(\"105\", 5)"
   ]
  },
  {
   "cell_type": "code",
   "execution_count": 111,
   "id": "9586f959-19fc-408f-b4d0-e1f69fbfa8c1",
   "metadata": {},
   "outputs": [
    {
     "data": {
      "text/plain": [
       "[]"
      ]
     },
     "execution_count": 111,
     "metadata": {},
     "output_type": "execute_result"
    }
   ],
   "source": [
    "s.addOperators(\"3456237490\", 9191)"
   ]
  },
  {
   "cell_type": "code",
   "execution_count": 112,
   "id": "3b4b09ab-c60e-48a7-a6c8-656ed83c49b6",
   "metadata": {},
   "outputs": [
    {
     "data": {
      "text/plain": [
       "3280"
      ]
     },
     "execution_count": 112,
     "metadata": {},
     "output_type": "execute_result"
    }
   ],
   "source": [
    "len(s.addOperators(\"1000000009\", 9))"
   ]
  },
  {
   "cell_type": "code",
   "execution_count": null,
   "id": "fadc574f-a018-4df4-aaaa-323950c3568e",
   "metadata": {},
   "outputs": [],
   "source": []
  }
 ],
 "metadata": {
  "kernelspec": {
   "display_name": "Python 3 (ipykernel)",
   "language": "python",
   "name": "python3"
  },
  "language_info": {
   "codemirror_mode": {
    "name": "ipython",
    "version": 3
   },
   "file_extension": ".py",
   "mimetype": "text/x-python",
   "name": "python",
   "nbconvert_exporter": "python",
   "pygments_lexer": "ipython3",
   "version": "3.9.12"
  }
 },
 "nbformat": 4,
 "nbformat_minor": 5
}
