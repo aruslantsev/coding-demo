{
 "cells": [
  {
   "attachments": {},
   "cell_type": "markdown",
   "id": "cf9e0f15-1609-4bfd-9ee2-5dd41af25dd0",
   "metadata": {},
   "source": [
    "You are given an integer limit and a 2D array queries of size n x 2.\n",
    "\n",
    "There are limit + 1 balls with distinct labels in the range [0, limit]. Initially, all balls are uncolored. For every query in queries that is of the form [x, y], you mark ball x with the color y. After each query, you need to find the number of distinct colors among the balls.\n",
    "\n",
    "Return an array result of length n, where result[i] denotes the number of distinct colors after ith query.\n",
    "\n",
    "Note that when answering a query, lack of a color will not be considered as a color.\n",
    "\n",
    " \n",
    "\n",
    "Example 1:\n",
    "\n",
    "\n",
    "Input: limit = 4, queries = [[1,4],[2,5],[1,3],[3,4]]\n",
    "\n",
    "Output: [1,2,2,3]\n",
    "\n",
    "Explanation:\n",
    "\n",
    "    After query 0, ball 1 has color 4.\n",
    "    After query 1, ball 1 has color 4, and ball 2 has color 5.\n",
    "    After query 2, ball 1 has color 3, and ball 2 has color 5.\n",
    "    After query 3, ball 1 has color 3, ball 2 has color 5, and ball 3 has color 4.\n",
    "\n",
    "Example 2:\n",
    "\n",
    "Input: limit = 4, queries = [[0,1],[1,2],[2,2],[3,4],[4,5]]\n",
    "\n",
    "Output: [1,2,2,3,4]\n",
    "\n",
    "Explanation:\n",
    "\n",
    "    After query 0, ball 0 has color 1.\n",
    "    After query 1, ball 0 has color 1, and ball 1 has color 2.\n",
    "    After query 2, ball 0 has color 1, and balls 1 and 2 have color 2.\n",
    "    After query 3, ball 0 has color 1, balls 1 and 2 have color 2, and ball 3 has color 4.\n",
    "    After query 4, ball 0 has color 1, balls 1 and 2 have color 2, ball 3 has color 4, and ball 4 has color 5.\n",
    "\n",
    " \n",
    "\n",
    "Constraints:\n",
    "\n",
    "    1 <= limit <= 109\n",
    "    1 <= n == queries.length <= 105\n",
    "    queries[i].length == 2\n",
    "    0 <= queries[i][0] <= limit\n",
    "    1 <= queries[i][1] <= 109\n",
    "\n"
   ]
  },
  {
   "cell_type": "code",
   "execution_count": null,
   "id": "045f0fa3-b1a7-44de-bfde-458da530c7ae",
   "metadata": {},
   "outputs": [],
   "source": [
    "class Solution:\n",
    "    def queryResults(self, limit: int, queries: List[List[int]]) -> List[int]:\n",
    "        curr_distinct = 0\n",
    "        color_cnt = dict()\n",
    "        color_ball = dict()\n",
    "        ans = []\n",
    "        for ball, color in queries:\n",
    "            if color_ball.get(ball, 0) != 0:\n",
    "                color_cnt[color_ball[ball]] -= 1\n",
    "                if color_cnt[color_ball[ball]] == 0:\n",
    "                    del color_cnt[color_ball[ball]]\n",
    "                    curr_distinct -= 1\n",
    "            color_ball[ball] = color\n",
    "            color_cnt[color] = color_cnt.get(color, 0) + 1\n",
    "            if color_cnt[color] == 1:\n",
    "                curr_distinct += 1\n",
    "            ans.append(curr_distinct)\n",
    "        return ans"
   ]
  }
 ],
 "metadata": {
  "kernelspec": {
   "display_name": "Python 3 (ipykernel)",
   "language": "python",
   "name": "python3"
  },
  "language_info": {
   "codemirror_mode": {
    "name": "ipython",
    "version": 3
   },
   "file_extension": ".py",
   "mimetype": "text/x-python",
   "name": "python",
   "nbconvert_exporter": "python",
   "pygments_lexer": "ipython3",
   "version": "3.12.7"
  }
 },
 "nbformat": 4,
 "nbformat_minor": 5
}
