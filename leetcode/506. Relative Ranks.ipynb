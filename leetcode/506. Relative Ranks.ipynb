{
 "cells": [
  {
   "cell_type": "markdown",
   "id": "0a37c89e-584e-4722-a01f-7f4f81e1cd5d",
   "metadata": {},
   "source": [
    "You are given an integer array score of size n, where score[i] is the score of the ith athlete in a competition. All the scores are guaranteed to be unique.\n",
    "\n",
    "The athletes are placed based on their scores, where the 1st place athlete has the highest score, the 2nd place athlete has the 2nd highest score, and so on. The placement of each athlete determines their rank:\n",
    "\n",
    "    The 1st place athlete's rank is \"Gold Medal\".\n",
    "    The 2nd place athlete's rank is \"Silver Medal\".\n",
    "    The 3rd place athlete's rank is \"Bronze Medal\".\n",
    "    For the 4th place to the nth place athlete, their rank is their placement number (i.e., the xth place athlete's rank is \"x\").\n",
    "\n",
    "Return an array answer of size n where answer[i] is the rank of the ith athlete.\n",
    "\n",
    " \n",
    "\n",
    "Example 1:\n",
    "\n",
    "Input: score = [5,4,3,2,1]\n",
    "Output: [\"Gold Medal\",\"Silver Medal\",\"Bronze Medal\",\"4\",\"5\"]\n",
    "Explanation: The placements are [1st, 2nd, 3rd, 4th, 5th].\n",
    "\n",
    "Example 2:\n",
    "\n",
    "Input: score = [10,3,8,9,4]\n",
    "Output: [\"Gold Medal\",\"5\",\"Bronze Medal\",\"Silver Medal\",\"4\"]\n",
    "Explanation: The placements are [1st, 5th, 3rd, 2nd, 4th].\n",
    "\n",
    " \n",
    "\n",
    "Constraints:\n",
    "\n",
    "    n == score.length\n",
    "    1 <= n <= 104\n",
    "    0 <= score[i] <= 106\n",
    "    All the values in score are unique.\n",
    "\n"
   ]
  },
  {
   "cell_type": "code",
   "execution_count": null,
   "id": "9a401663-e214-4081-84c5-00a90110397d",
   "metadata": {},
   "outputs": [],
   "source": [
    "class Solution:\n",
    "    def findRelativeRanks(self, score: List[int]) -> List[str]:\n",
    "        def get_place(p):\n",
    "            if p == 1:\n",
    "                return \"Gold Medal\"\n",
    "            if p == 2:\n",
    "                return \"Silver Medal\"\n",
    "            if p == 3:\n",
    "                return \"Bronze Medal\"\n",
    "            return str(p)\n",
    "\n",
    "        score_dict = {s: get_place(p + 1) for p, s in enumerate(sorted(score, reverse=True))}\n",
    "        return [score_dict[s] for s in score]"
   ]
  }
 ],
 "metadata": {
  "kernelspec": {
   "display_name": "Python 3 (ipykernel)",
   "language": "python",
   "name": "python3"
  },
  "language_info": {
   "codemirror_mode": {
    "name": "ipython",
    "version": 3
   },
   "file_extension": ".py",
   "mimetype": "text/x-python",
   "name": "python",
   "nbconvert_exporter": "python",
   "pygments_lexer": "ipython3",
   "version": "3.12.3"
  }
 },
 "nbformat": 4,
 "nbformat_minor": 5
}
