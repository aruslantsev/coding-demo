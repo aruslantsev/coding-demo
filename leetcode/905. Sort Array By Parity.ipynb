{
 "cells": [
  {
   "cell_type": "markdown",
   "id": "e8b0b837-8efe-43af-9d0f-f9ab101c74d6",
   "metadata": {},
   "source": [
    "Given an integer array nums, move all the even integers at the beginning of the array followed by all the odd integers.\n",
    "\n",
    "Return any array that satisfies this condition.\n",
    "\n",
    " \n",
    "\n",
    "Example 1:\n",
    "\n",
    "Input: nums = [3,1,2,4]\n",
    "Output: [2,4,3,1]\n",
    "Explanation: The outputs [4,2,3,1], [2,4,1,3], and [4,2,1,3] would also be accepted.\n",
    "\n",
    "Example 2:\n",
    "\n",
    "Input: nums = [0]\n",
    "Output: [0]\n",
    "\n",
    " \n",
    "\n",
    "Constraints:\n",
    "\n",
    "    1 <= nums.length <= 5000\n",
    "    0 <= nums[i] <= 5000\n",
    "\n"
   ]
  },
  {
   "cell_type": "code",
   "execution_count": 3,
   "id": "5c193553-7592-47dc-89e5-6b279f193188",
   "metadata": {},
   "outputs": [],
   "source": [
    "from typing import List\n",
    "from collections import deque\n",
    "\n",
    "class Solution:\n",
    "    def sortArrayByParity(self, nums: List[int]) -> List[int]:\n",
    "        ans = []\n",
    "        stack = deque()\n",
    "        nums = deque(nums)\n",
    "        while nums:\n",
    "            if nums[0] % 2 == 0:\n",
    "                ans.append(nums.popleft())\n",
    "            else:\n",
    "                stack.append(nums.popleft())\n",
    "        while stack:\n",
    "            ans.append(stack.popleft())\n",
    "        \n",
    "        return ans\n",
    "            "
   ]
  },
  {
   "cell_type": "code",
   "execution_count": 1,
   "id": "4ebd4332-8c6d-4e2d-a37e-ea5e13a15f10",
   "metadata": {},
   "outputs": [],
   "source": [
    "class Solution(object):\n",
    "    def sortArrayByParity(self, A):\n",
    "        A.sort(key = lambda x: x % 2)\n",
    "        return A"
   ]
  },
  {
   "cell_type": "code",
   "execution_count": 2,
   "id": "9a44506d-b86d-4ad4-b1e1-17974ce34003",
   "metadata": {},
   "outputs": [],
   "source": [
    "class Solution(object):\n",
    "    def sortArrayByParity(self, A):\n",
    "        return ([x for x in A if x % 2 == 0] +\n",
    "                [x for x in A if x % 2 == 1])"
   ]
  },
  {
   "cell_type": "code",
   "execution_count": null,
   "id": "9f59d403-9a5d-474e-acfd-dda34c517c9b",
   "metadata": {},
   "outputs": [],
   "source": []
  }
 ],
 "metadata": {
  "kernelspec": {
   "display_name": "Python 3 (ipykernel)",
   "language": "python",
   "name": "python3"
  },
  "language_info": {
   "codemirror_mode": {
    "name": "ipython",
    "version": 3
   },
   "file_extension": ".py",
   "mimetype": "text/x-python",
   "name": "python",
   "nbconvert_exporter": "python",
   "pygments_lexer": "ipython3",
   "version": "3.9.10"
  }
 },
 "nbformat": 4,
 "nbformat_minor": 5
}
