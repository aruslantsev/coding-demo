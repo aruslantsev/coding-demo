{
 "cells": [
  {
   "cell_type": "markdown",
   "id": "31767727-7f05-405c-afd6-708e2ecce1d1",
   "metadata": {},
   "source": [
    "International Morse Code defines a standard encoding where each letter is mapped to a series of dots and dashes, as follows:\n",
    "\n",
    "    'a' maps to \".-\",\n",
    "    'b' maps to \"-...\",\n",
    "    'c' maps to \"-.-.\", and so on.\n",
    "\n",
    "For convenience, the full table for the 26 letters of the English alphabet is given below:\n",
    "\n",
    "[\".-\",\"-...\",\"-.-.\",\"-..\",\".\",\"..-.\",\"--.\",\"....\",\"..\",\".---\",\"-.-\",\".-..\",\"--\",\"-.\",\"---\",\".--.\",\"--.-\",\".-.\",\"...\",\"-\",\"..-\",\"...-\",\".--\",\"-..-\",\"-.--\",\"--..\"]\n",
    "\n",
    "Given an array of strings words where each word can be written as a concatenation of the Morse code of each letter.\n",
    "\n",
    "    For example, \"cab\" can be written as \"-.-..--...\", which is the concatenation of \"-.-.\", \".-\", and \"-...\". We will call such a concatenation the transformation of a word.\n",
    "\n",
    "Return the number of different transformations among all words we have.\n",
    "\n",
    " \n",
    "\n",
    "Example 1:\n",
    "\n",
    "Input: words = [\"gin\",\"zen\",\"gig\",\"msg\"]\n",
    "Output: 2\n",
    "Explanation: The transformation of each word is:\n",
    "\"gin\" -> \"--...-.\"\n",
    "\"zen\" -> \"--...-.\"\n",
    "\"gig\" -> \"--...--.\"\n",
    "\"msg\" -> \"--...--.\"\n",
    "There are 2 different transformations: \"--...-.\" and \"--...--.\".\n",
    "\n",
    "Example 2:\n",
    "\n",
    "Input: words = [\"a\"]\n",
    "Output: 1\n",
    "\n",
    " \n",
    "\n",
    "Constraints:\n",
    "\n",
    "    1 <= words.length <= 100\n",
    "    1 <= words[i].length <= 12\n",
    "    words[i] consists of lowercase English letters.\n",
    "\n"
   ]
  },
  {
   "cell_type": "code",
   "execution_count": 5,
   "id": "753ca298-d856-4219-9435-fa95f1d9fcec",
   "metadata": {},
   "outputs": [],
   "source": [
    "from typing import List\n",
    "\n",
    "class Solution:\n",
    "    def uniqueMorseRepresentations(self, words: List[str]) -> int:\n",
    "        codes = [\".-\",\"-...\",\"-.-.\",\"-..\",\".\",\"..-.\",\"--.\",\"....\",\"..\",\".---\",\"-.-\",\".-..\",\"--\",\"-.\",\"---\",\".--.\",\"--.-\",\".-.\",\"...\",\"-\",\"..-\",\"...-\",\".--\",\"-..-\",\"-.--\",\"--..\"]\n",
    "        transforms = {chr(i): codes[i - ord('a')] for i in range(ord('a'), ord('z') + 1)}\n",
    "        \n",
    "        ans = set()\n",
    "        for word in words:\n",
    "            encoded = ''\n",
    "            for letter in word:\n",
    "                encoded += transforms[letter]\n",
    "            ans.add(encoded)\n",
    "            \n",
    "        return len(ans)"
   ]
  },
  {
   "cell_type": "code",
   "execution_count": 6,
   "id": "b0ca81e2-c4bc-4dbf-a422-cb860a95bb5b",
   "metadata": {},
   "outputs": [
    {
     "data": {
      "text/plain": [
       "2"
      ]
     },
     "execution_count": 6,
     "metadata": {},
     "output_type": "execute_result"
    }
   ],
   "source": [
    "s = Solution()\n",
    "s.uniqueMorseRepresentations([\"gin\",\"zen\",\"gig\",\"msg\"])"
   ]
  },
  {
   "cell_type": "code",
   "execution_count": null,
   "id": "6d0ffb8a-9d65-41bb-8a12-2d722dbb6ae0",
   "metadata": {},
   "outputs": [],
   "source": []
  }
 ],
 "metadata": {
  "kernelspec": {
   "display_name": "Python 3 (ipykernel)",
   "language": "python",
   "name": "python3"
  },
  "language_info": {
   "codemirror_mode": {
    "name": "ipython",
    "version": 3
   },
   "file_extension": ".py",
   "mimetype": "text/x-python",
   "name": "python",
   "nbconvert_exporter": "python",
   "pygments_lexer": "ipython3",
   "version": "3.9.12"
  }
 },
 "nbformat": 4,
 "nbformat_minor": 5
}
