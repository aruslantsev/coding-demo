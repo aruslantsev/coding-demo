{
 "cells": [
  {
   "cell_type": "markdown",
   "id": "0d1682b2-d4a8-4960-a851-fd1713854fac",
   "metadata": {},
   "source": [
    "You are given an array routes representing bus routes where routes[i] is a bus route that the ith bus repeats forever.\n",
    "\n",
    "    For example, if routes[0] = [1, 5, 7], this means that the 0th bus travels in the sequence 1 -> 5 -> 7 -> 1 -> 5 -> 7 -> 1 -> ... forever.\n",
    "\n",
    "You will start at the bus stop source (You are not on any bus initially), and you want to go to the bus stop target. You can travel between bus stops by buses only.\n",
    "\n",
    "Return the least number of buses you must take to travel from source to target. Return -1 if it is not possible.\n",
    "\n",
    " \n",
    "\n",
    "Example 1:\n",
    "\n",
    "Input: routes = [[1,2,7],[3,6,7]], source = 1, target = 6\n",
    "Output: 2\n",
    "Explanation: The best strategy is take the first bus to the bus stop 7, then take the second bus to the bus stop 6.\n",
    "\n",
    "Example 2:\n",
    "\n",
    "Input: routes = [[7,12],[4,5,15],[6],[15,19],[9,12,13]], source = 15, target = 12\n",
    "Output: -1\n",
    "\n",
    " \n",
    "\n",
    "Constraints:\n",
    "\n",
    "    1 <= routes.length <= 500.\n",
    "    1 <= routes[i].length <= 105\n",
    "    All the values of routes[i] are unique.\n",
    "    sum(routes[i].length) <= 105\n",
    "    0 <= routes[i][j] < 106\n",
    "    0 <= source, target < 106\n",
    "\n"
   ]
  },
  {
   "cell_type": "code",
   "execution_count": null,
   "id": "f9ae1d86-9797-4d38-8cae-058645e0ee54",
   "metadata": {},
   "outputs": [],
   "source": [
    "class Solution:\n",
    "    def numBusesToDestination(self, routes: List[List[int]], source: int, target: int) -> int:\n",
    "        if source == target:\n",
    "            return 0\n",
    "\n",
    "        # Create a graph where each bus stop is a node and each bus is an edge\n",
    "        stop_to_routes = defaultdict(set)\n",
    "        for i, route in enumerate(routes):\n",
    "            for stop in route:\n",
    "                stop_to_routes[stop].add(i)\n",
    "\n",
    "        # Initialize visited set and a queue for BFS\n",
    "        visited_stops = set()\n",
    "        queue = deque([(source, 0)])  # (bus stop, number of buses taken)\n",
    "\n",
    "        while queue:\n",
    "            current_stop, num_buses = queue.popleft()\n",
    "\n",
    "            # Check all the buses passing through the current bus stop\n",
    "            for route_index in stop_to_routes[current_stop]:\n",
    "                for next_stop in routes[route_index]:\n",
    "                    if next_stop == target:\n",
    "                        return num_buses + 1\n",
    "\n",
    "                    if next_stop not in visited_stops:\n",
    "                        visited_stops.add(next_stop)\n",
    "                        queue.append((next_stop, num_buses + 1))\n",
    "\n",
    "                # Mark the current bus route as visited to avoid duplicate exploration\n",
    "                routes[route_index] = []\n",
    "\n",
    "        return -1  # No valid route found"
   ]
  }
 ],
 "metadata": {
  "kernelspec": {
   "display_name": "Python 3 (ipykernel)",
   "language": "python",
   "name": "python3"
  },
  "language_info": {
   "codemirror_mode": {
    "name": "ipython",
    "version": 3
   },
   "file_extension": ".py",
   "mimetype": "text/x-python",
   "name": "python",
   "nbconvert_exporter": "python",
   "pygments_lexer": "ipython3",
   "version": "3.11.4"
  }
 },
 "nbformat": 4,
 "nbformat_minor": 5
}
