{
 "cells": [
  {
   "cell_type": "markdown",
   "id": "258021bb-e9db-49fb-8f04-f7eb5351fd56",
   "metadata": {},
   "source": [
    "A binary string is monotone increasing if it consists of some number of 0's (possibly none), followed by some number of 1's (also possibly none).\n",
    "\n",
    "You are given a binary string s. You can flip s[i] changing it from 0 to 1 or from 1 to 0.\n",
    "\n",
    "Return the minimum number of flips to make s monotone increasing.\n",
    "\n",
    " \n",
    "\n",
    "Example 1:\n",
    "\n",
    "Input: s = \"00110\"\n",
    "Output: 1\n",
    "Explanation: We flip the last digit to get 00111.\n",
    "\n",
    "Example 2:\n",
    "\n",
    "Input: s = \"010110\"\n",
    "Output: 2\n",
    "Explanation: We flip to get 011111, or alternatively 000111.\n",
    "\n",
    "Example 3:\n",
    "\n",
    "Input: s = \"00011000\"\n",
    "Output: 2\n",
    "Explanation: We flip to get 00000000.\n",
    "\n",
    " \n",
    "\n",
    "Constraints:\n",
    "\n",
    "    1 <= s.length <= 105\n",
    "    s[i] is either '0' or '1'.\n",
    "\n"
   ]
  },
  {
   "cell_type": "code",
   "execution_count": null,
   "id": "dbf9ba23-fb71-49bc-9f9a-ec69f1adf46f",
   "metadata": {},
   "outputs": [],
   "source": [
    "class Solution:\n",
    "    def minFlipsMonoIncr(self, s: str) -> int:\n",
    "        @cache\n",
    "        def flip(pos, prev):\n",
    "            if pos == len(s):\n",
    "                return 0\n",
    "            \n",
    "            if prev == \"0\":\n",
    "                if s[pos] == \"0\":\n",
    "                    return min(\n",
    "                        flip(pos + 1, \"0\"),\n",
    "                        1 + flip(pos + 1, \"1\")\n",
    "                    )\n",
    "                else:\n",
    "                    return min(\n",
    "                        1 + flip(pos + 1, \"0\"),\n",
    "                        flip(pos + 1, \"1\")\n",
    "                    )\n",
    "            else:\n",
    "                if s[pos] == \"1\":\n",
    "                    return flip(pos + 1, \"1\")\n",
    "                else:\n",
    "                    return 1 + flip(pos + 1, \"1\")\n",
    "        \n",
    "        return flip(0, \"0\")\n"
   ]
  }
 ],
 "metadata": {
  "kernelspec": {
   "display_name": "Python 3 (ipykernel)",
   "language": "python",
   "name": "python3"
  },
  "language_info": {
   "codemirror_mode": {
    "name": "ipython",
    "version": 3
   },
   "file_extension": ".py",
   "mimetype": "text/x-python",
   "name": "python",
   "nbconvert_exporter": "python",
   "pygments_lexer": "ipython3",
   "version": "3.10.8"
  }
 },
 "nbformat": 4,
 "nbformat_minor": 5
}
