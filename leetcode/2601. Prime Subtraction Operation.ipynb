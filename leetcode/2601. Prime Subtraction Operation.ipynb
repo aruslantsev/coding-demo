{
 "cells": [
  {
   "cell_type": "markdown",
   "id": "42c4ec31-5d57-4636-ab2d-cb75c0ab37ab",
   "metadata": {},
   "source": [
    "You are given a 0-indexed integer array nums of length n.\n",
    "\n",
    "You can perform the following operation as many times as you want:\n",
    "\n",
    "    Pick an index i that you haven’t picked before, and pick a prime p strictly less than nums[i], then subtract p from nums[i].\n",
    "\n",
    "Return true if you can make nums a strictly increasing array using the above operation and false otherwise.\n",
    "\n",
    "A strictly increasing array is an array whose each element is strictly greater than its preceding element.\n",
    "\n",
    " \n",
    "\n",
    "Example 1:\n",
    "\n",
    "Input: nums = [4,9,6,10]\n",
    "Output: true\n",
    "Explanation: In the first operation: Pick i = 0 and p = 3, and then subtract 3 from nums[0], so that nums becomes [1,9,6,10].\n",
    "In the second operation: i = 1, p = 7, subtract 7 from nums[1], so nums becomes equal to [1,2,6,10].\n",
    "After the second operation, nums is sorted in strictly increasing order, so the answer is true.\n",
    "\n",
    "Example 2:\n",
    "\n",
    "Input: nums = [6,8,11,12]\n",
    "Output: true\n",
    "Explanation: Initially nums is sorted in strictly increasing order, so we don't need to make any operations.\n",
    "\n",
    "Example 3:\n",
    "\n",
    "Input: nums = [5,8,3]\n",
    "Output: false\n",
    "Explanation: It can be proven that there is no way to perform operations to make nums sorted in strictly increasing order, so the answer is false."
   ]
  },
  {
   "cell_type": "code",
   "execution_count": null,
   "id": "2b6bf584-ba23-43c3-99b3-fafee30069c2",
   "metadata": {},
   "outputs": [],
   "source": [
    "class Solution:\n",
    "    def primeSubOperation(self, nums: List[int]) -> bool:\n",
    "        maxElement = max(nums)\n",
    "\n",
    "        previous_prime = [0] * (maxElement + 1)\n",
    "        for i in range(2, maxElement + 1):\n",
    "            if self.isprime(i):\n",
    "                previous_prime[i] = i\n",
    "            else:\n",
    "                previous_prime[i] = previous_prime[i - 1]\n",
    "\n",
    "        for i in range(len(nums)):\n",
    "            if i == 0:\n",
    "                bound = nums[0]\n",
    "            else:\n",
    "                bound = nums[i] - nums[i - 1]\n",
    "            if bound <= 0:\n",
    "                return False\n",
    "\n",
    "            largest_prime = previous_prime[bound - 1]\n",
    "            nums[i] -= largest_prime\n",
    "        return True\n",
    "\n",
    "\n",
    "    def isprime(self, n):\n",
    "        for i in range(2, isqrt(n) + 1):\n",
    "            if n % i == 0:\n",
    "                return False\n",
    "        return True\n"
   ]
  }
 ],
 "metadata": {
  "kernelspec": {
   "display_name": "Python 3 (ipykernel)",
   "language": "python",
   "name": "python3"
  },
  "language_info": {
   "codemirror_mode": {
    "name": "ipython",
    "version": 3
   },
   "file_extension": ".py",
   "mimetype": "text/x-python",
   "name": "python",
   "nbconvert_exporter": "python",
   "pygments_lexer": "ipython3",
   "version": "3.12.7"
  }
 },
 "nbformat": 4,
 "nbformat_minor": 5
}
