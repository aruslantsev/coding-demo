{
 "cells": [
  {
   "cell_type": "markdown",
   "id": "4ae4b7ff-8adc-4266-af7f-c7997be85627",
   "metadata": {},
   "source": [
    "You are given a 0-indexed integer array mapping which represents the mapping rule of a shuffled decimal system. mapping[i] = j means digit i should be mapped to digit j in this system.\n",
    "\n",
    "The mapped value of an integer is the new integer obtained by replacing each occurrence of digit i in the integer with mapping[i] for all 0 <= i <= 9.\n",
    "\n",
    "You are also given another integer array nums. Return the array nums sorted in non-decreasing order based on the mapped values of its elements.\n",
    "\n",
    "Notes:\n",
    "\n",
    "    Elements with the same mapped values should appear in the same relative order as in the input.\n",
    "    The elements of nums should only be sorted based on their mapped values and not be replaced by them.\n",
    "\n",
    " \n",
    "\n",
    "Example 1:\n",
    "\n",
    "Input: mapping = [8,9,4,0,2,1,3,5,7,6], nums = [991,338,38]\n",
    "Output: [338,38,991]\n",
    "Explanation: \n",
    "Map the number 991 as follows:\n",
    "1. mapping[9] = 6, so all occurrences of the digit 9 will become 6.\n",
    "2. mapping[1] = 9, so all occurrences of the digit 1 will become 9.\n",
    "Therefore, the mapped value of 991 is 669.\n",
    "338 maps to 007, or 7 after removing the leading zeros.\n",
    "38 maps to 07, which is also 7 after removing leading zeros.\n",
    "Since 338 and 38 share the same mapped value, they should remain in the same relative order, so 338 comes before 38.\n",
    "Thus, the sorted array is [338,38,991].\n",
    "\n",
    "Example 2:\n",
    "\n",
    "Input: mapping = [0,1,2,3,4,5,6,7,8,9], nums = [789,456,123]\n",
    "Output: [123,456,789]\n",
    "Explanation: 789 maps to 789, 456 maps to 456, and 123 maps to 123. Thus, the sorted array is [123,456,789].\n",
    "\n",
    " \n",
    "\n",
    "Constraints:\n",
    "\n",
    "    mapping.length == 10\n",
    "    0 <= mapping[i] <= 9\n",
    "    All the values of mapping[i] are unique.\n",
    "    1 <= nums.length <= 3 * 104\n",
    "    0 <= nums[i] < 109\n",
    "\n"
   ]
  },
  {
   "cell_type": "code",
   "execution_count": null,
   "id": "0f53fedc-fdd6-4b81-8533-6380c901aa67",
   "metadata": {},
   "outputs": [],
   "source": [
    "class Solution:\n",
    "    def sortJumbled(self, mapping: List[int], nums: List[int]) -> List[int]:\n",
    "        def map_num(num):\n",
    "            mapped = 0\n",
    "            f = 1\n",
    "            while True:\n",
    "                mapped += mapping[num % 10] * f\n",
    "                num //= 10\n",
    "                f *= 10\n",
    "                if num == 0:\n",
    "                    break\n",
    "            return mapped\n",
    "        \n",
    "        m = {n: (map_num(n), i) for i, n in enumerate(nums)}\n",
    "        return sorted(nums, key=lambda x: m[x])"
   ]
  }
 ],
 "metadata": {
  "kernelspec": {
   "display_name": "Python 3 (ipykernel)",
   "language": "python",
   "name": "python3"
  },
  "language_info": {
   "codemirror_mode": {
    "name": "ipython",
    "version": 3
   },
   "file_extension": ".py",
   "mimetype": "text/x-python",
   "name": "python",
   "nbconvert_exporter": "python",
   "pygments_lexer": "ipython3",
   "version": "3.12.3"
  }
 },
 "nbformat": 4,
 "nbformat_minor": 5
}
