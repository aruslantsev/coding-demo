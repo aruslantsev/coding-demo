{
 "cells": [
  {
   "cell_type": "markdown",
   "id": "ee700621-5ed3-4a87-a5dd-13939f2544dc",
   "metadata": {},
   "source": [
    "Given two integers left and right that represent the range [left, right], return the bitwise AND of all numbers in this range, inclusive.\n",
    "\n",
    " \n",
    "\n",
    "Example 1:\n",
    "\n",
    "Input: left = 5, right = 7\n",
    "Output: 4\n",
    "\n",
    "Example 2:\n",
    "\n",
    "Input: left = 0, right = 0\n",
    "Output: 0\n",
    "\n",
    "Example 3:\n",
    "\n",
    "Input: left = 1, right = 2147483647\n",
    "Output: 0\n",
    "\n",
    " \n",
    "\n",
    "Constraints:\n",
    "\n",
    "    0 <= left <= right <= 231 - 1\n",
    "\n"
   ]
  },
  {
   "cell_type": "code",
   "execution_count": null,
   "id": "be4ac585-6433-451f-82c4-54d5db7619bb",
   "metadata": {},
   "outputs": [],
   "source": [
    "class Solution:\n",
    "    def rangeBitwiseAnd(self, left: int, right: int) -> int:\n",
    "        cnt = 0\n",
    "        while left != right:\n",
    "            left >>= 1\n",
    "            right >>= 1\n",
    "            cnt += 1\n",
    "        return left << cnt"
   ]
  }
 ],
 "metadata": {
  "kernelspec": {
   "display_name": "Python 3 (ipykernel)",
   "language": "python",
   "name": "python3"
  },
  "language_info": {
   "codemirror_mode": {
    "name": "ipython",
    "version": 3
   },
   "file_extension": ".py",
   "mimetype": "text/x-python",
   "name": "python",
   "nbconvert_exporter": "python",
   "pygments_lexer": "ipython3",
   "version": "3.11.7"
  }
 },
 "nbformat": 4,
 "nbformat_minor": 5
}
