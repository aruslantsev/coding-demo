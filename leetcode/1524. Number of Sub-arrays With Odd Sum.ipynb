{
 "cells": [
  {
   "cell_type": "markdown",
   "id": "fcf34b20-44cf-40a7-ac14-5b294e11c905",
   "metadata": {},
   "source": [
    "Given an array of integers arr, return the number of subarrays with an odd sum.\n",
    "\n",
    "Since the answer can be very large, return it modulo 109 + 7.\n",
    "\n",
    " \n",
    "\n",
    "Example 1:\n",
    "\n",
    "Input: arr = [1,3,5]\n",
    "Output: 4\n",
    "Explanation: All subarrays are [[1],[1,3],[1,3,5],[3],[3,5],[5]]\n",
    "All sub-arrays sum are [1,4,9,3,8,5].\n",
    "Odd sums are [1,9,3,5] so the answer is 4.\n",
    "\n",
    "Example 2:\n",
    "\n",
    "Input: arr = [2,4,6]\n",
    "Output: 0\n",
    "Explanation: All subarrays are [[2],[2,4],[2,4,6],[4],[4,6],[6]]\n",
    "All sub-arrays sum are [2,6,12,4,10,6].\n",
    "All sub-arrays have even sum and the answer is 0.\n",
    "\n",
    "Example 3:\n",
    "\n",
    "Input: arr = [1,2,3,4,5,6,7]\n",
    "Output: 16\n",
    "\n",
    " \n",
    "\n",
    "Constraints:\n",
    "\n",
    "    1 <= arr.length <= 105\n",
    "    1 <= arr[i] <= 100\n",
    "\n"
   ]
  },
  {
   "cell_type": "code",
   "execution_count": null,
   "id": "cf66e219-7992-44ef-b274-387257361c44",
   "metadata": {},
   "outputs": [],
   "source": [
    "class Solution:\n",
    "    def numOfSubarrays(self, arr: List[int]) -> int:\n",
    "        num_odd = 0\n",
    "        num_even = 1\n",
    "        curr_sum = 0\n",
    "        ans = 0\n",
    "        for num in arr:\n",
    "            curr_sum += num\n",
    "            if curr_sum % 2:\n",
    "                ans += num_even\n",
    "                num_odd += 1\n",
    "            else:\n",
    "                ans += num_odd\n",
    "                num_even += 1\n",
    "            ans %= 10**9 + 7\n",
    "        return ans"
   ]
  }
 ],
 "metadata": {
  "kernelspec": {
   "display_name": "Python 3 (ipykernel)",
   "language": "python",
   "name": "python3"
  },
  "language_info": {
   "codemirror_mode": {
    "name": "ipython",
    "version": 3
   },
   "file_extension": ".py",
   "mimetype": "text/x-python",
   "name": "python",
   "nbconvert_exporter": "python",
   "pygments_lexer": "ipython3",
   "version": "3.12.7"
  }
 },
 "nbformat": 4,
 "nbformat_minor": 5
}
