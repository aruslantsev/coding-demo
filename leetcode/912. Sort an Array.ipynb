{
 "cells": [
  {
   "cell_type": "markdown",
   "id": "f2963cb8-7993-47b4-8a05-ed3645616966",
   "metadata": {},
   "source": [
    "Given an array of integers nums, sort the array in ascending order and return it.\n",
    "\n",
    "You must solve the problem without using any built-in functions in O(nlog(n)) time complexity and with the smallest space complexity possible.\n",
    "\n",
    " \n",
    "\n",
    "Example 1:\n",
    "\n",
    "Input: nums = [5,2,3,1]\n",
    "Output: [1,2,3,5]\n",
    "Explanation: After sorting the array, the positions of some numbers are not changed (for example, 2 and 3), while the positions of other numbers are changed (for example, 1 and 5).\n",
    "\n",
    "Example 2:\n",
    "\n",
    "Input: nums = [5,1,1,2,0,0]\n",
    "Output: [0,0,1,1,2,5]\n",
    "Explanation: Note that the values of nums are not necessairly unique.\n",
    "\n",
    " \n",
    "\n",
    "Constraints:\n",
    "\n",
    "    1 <= nums.length <= 5 * 104\n",
    "    -5 * 104 <= nums[i] <= 5 * 104\n",
    "\n"
   ]
  },
  {
   "cell_type": "code",
   "execution_count": null,
   "id": "3641ce35-6018-44a9-817a-0fa6b7897f54",
   "metadata": {},
   "outputs": [],
   "source": [
    "class Solution:\n",
    "    def sortArray(self, nums: List[int]) -> List[int]:\n",
    "        if len(nums) == 1:\n",
    "            return nums\n",
    "        arr1 = self.sortArray(nums[:len(nums) // 2])\n",
    "        arr2 = self.sortArray(nums[len(nums) // 2:])\n",
    "        newarr = []\n",
    "        while arr1 and arr2:\n",
    "            if arr1[0] < arr2[0]:\n",
    "                newarr.append(arr1[0])\n",
    "                arr1.pop(0)\n",
    "            else:\n",
    "                newarr.append(arr2[0])\n",
    "                arr2.pop(0)\n",
    "        newarr += arr1 + arr2\n",
    "        return newarr\n",
    "\n",
    "        # for i in range(1, len(nums)):\n",
    "        #     for j in range(len(nums) - i):\n",
    "        #         if nums[j] > nums [j + 1]:\n",
    "        #             nums[j], nums[j + 1] = nums[j + 1], nums[j]\n",
    "        # return nums"
   ]
  }
 ],
 "metadata": {
  "kernelspec": {
   "display_name": "Python 3 (ipykernel)",
   "language": "python",
   "name": "python3"
  },
  "language_info": {
   "codemirror_mode": {
    "name": "ipython",
    "version": 3
   },
   "file_extension": ".py",
   "mimetype": "text/x-python",
   "name": "python",
   "nbconvert_exporter": "python",
   "pygments_lexer": "ipython3",
   "version": "3.10.8"
  }
 },
 "nbformat": 4,
 "nbformat_minor": 5
}
