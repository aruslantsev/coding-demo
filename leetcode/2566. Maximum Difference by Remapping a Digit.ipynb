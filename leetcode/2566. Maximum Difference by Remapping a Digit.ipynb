{
 "cells": [
  {
   "cell_type": "markdown",
   "id": "8c22bc9f-740c-4c69-9e0f-76bae7c48223",
   "metadata": {},
   "source": [
    "You are given an integer num. You know that Bob will sneakily remap one of the 10 possible digits (0 to 9) to another digit.\n",
    "\n",
    "Return the difference between the maximum and minimum values Bob can make by remapping exactly one digit in num.\n",
    "\n",
    "Notes:\n",
    "\n",
    "    When Bob remaps a digit d1 to another digit d2, Bob replaces all occurrences of d1 in num with d2.\n",
    "    Bob can remap a digit to itself, in which case num does not change.\n",
    "    Bob can remap different digits for obtaining minimum and maximum values respectively.\n",
    "    The resulting number after remapping can contain leading zeroes.\n",
    "\n",
    " \n",
    "\n",
    "Example 1:\n",
    "\n",
    "Input: num = 11891\n",
    "Output: 99009\n",
    "Explanation: \n",
    "To achieve the maximum value, Bob can remap the digit 1 to the digit 9 to yield 99899.\n",
    "To achieve the minimum value, Bob can remap the digit 1 to the digit 0, yielding 890.\n",
    "The difference between these two numbers is 99009.\n",
    "\n",
    "Example 2:\n",
    "\n",
    "Input: num = 90\n",
    "Output: 99\n",
    "Explanation:\n",
    "The maximum value that can be returned by the function is 99 (if 0 is replaced by 9) and the minimum value that can be returned by the function is 0 (if 9 is replaced by 0).\n",
    "Thus, we return 99.\n",
    "\n",
    " \n",
    "\n",
    "Constraints:\n",
    "\n",
    "    1 <= num <= 108\n",
    "\n"
   ]
  },
  {
   "cell_type": "code",
   "execution_count": null,
   "id": "ed4ddc10-2a2d-4770-b91c-6c0e55394d5b",
   "metadata": {},
   "outputs": [],
   "source": [
    "class Solution:\n",
    "    def minMaxDifference(self, num: int) -> int:\n",
    "        s = str(num)\n",
    "        t = s\n",
    "        pos = 0\n",
    "        while pos < len(s) and s[pos] == \"9\":\n",
    "            pos += 1\n",
    "        if pos < len(s):\n",
    "            s = s.replace(s[pos], \"9\")\n",
    "        t = t.replace(t[0], \"0\")\n",
    "        return int(s) - int(t)"
   ]
  }
 ],
 "metadata": {
  "kernelspec": {
   "display_name": "common",
   "language": "python",
   "name": "common"
  },
  "language_info": {
   "codemirror_mode": {
    "name": "ipython",
    "version": 3
   },
   "file_extension": ".py",
   "mimetype": "text/x-python",
   "name": "python",
   "nbconvert_exporter": "python",
   "pygments_lexer": "ipython3",
   "version": "3.12.9"
  }
 },
 "nbformat": 4,
 "nbformat_minor": 5
}
