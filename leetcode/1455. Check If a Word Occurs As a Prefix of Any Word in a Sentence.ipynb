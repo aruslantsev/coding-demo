{
 "cells": [
  {
   "cell_type": "markdown",
   "id": "1d6db635-0c1e-4789-b397-e8a18f6e1475",
   "metadata": {},
   "source": [
    "Given a sentence that consists of some words separated by a single space, and a searchWord, check if searchWord is a prefix of any word in sentence.\n",
    "\n",
    "Return the index of the word in sentence (1-indexed) where searchWord is a prefix of this word. If searchWord is a prefix of more than one word, return the index of the first word (minimum index). If there is no such word return -1.\n",
    "\n",
    "A prefix of a string s is any leading contiguous substring of s.\n",
    "\n",
    " \n",
    "\n",
    "Example 1:\n",
    "\n",
    "Input: sentence = \"i love eating burger\", searchWord = \"burg\"\n",
    "Output: 4\n",
    "Explanation: \"burg\" is prefix of \"burger\" which is the 4th word in the sentence.\n",
    "\n",
    "Example 2:\n",
    "\n",
    "Input: sentence = \"this problem is an easy problem\", searchWord = \"pro\"\n",
    "Output: 2\n",
    "Explanation: \"pro\" is prefix of \"problem\" which is the 2nd and the 6th word in the sentence, but we return 2 as it's the minimal index.\n",
    "\n",
    "Example 3:\n",
    "\n",
    "Input: sentence = \"i am tired\", searchWord = \"you\"\n",
    "Output: -1\n",
    "Explanation: \"you\" is not a prefix of any word in the sentence.\n",
    "\n",
    " \n",
    "\n",
    "Constraints:\n",
    "\n",
    "    1 <= sentence.length <= 100\n",
    "    1 <= searchWord.length <= 10\n",
    "    sentence consists of lowercase English letters and spaces.\n",
    "    searchWord consists of lowercase English letters.\n",
    "\n"
   ]
  },
  {
   "cell_type": "code",
   "execution_count": null,
   "id": "6ea922f4-122b-42fb-9390-1ac120e72257",
   "metadata": {},
   "outputs": [],
   "source": [
    "class Solution:\n",
    "    def isPrefixOfWord(self, sentence: str, searchWord: str) -> int:\n",
    "        for i, word in enumerate(sentence.split()):\n",
    "            if word.startswith(searchWord):\n",
    "                return i + 1\n",
    "        return -1"
   ]
  }
 ],
 "metadata": {
  "kernelspec": {
   "display_name": "Python 3 (ipykernel)",
   "language": "python",
   "name": "python3"
  },
  "language_info": {
   "codemirror_mode": {
    "name": "ipython",
    "version": 3
   },
   "file_extension": ".py",
   "mimetype": "text/x-python",
   "name": "python",
   "nbconvert_exporter": "python",
   "pygments_lexer": "ipython3",
   "version": "3.12.7"
  }
 },
 "nbformat": 4,
 "nbformat_minor": 5
}
