{
 "cells": [
  {
   "cell_type": "markdown",
   "id": "15616c45-786e-4c36-8af4-8a7ca44ec2ad",
   "metadata": {},
   "source": [
    "Given an integer n, return true if it is possible to represent n as the sum of distinct powers of three. Otherwise, return false.\n",
    "\n",
    "An integer y is a power of three if there exists an integer x such that y == 3x.\n",
    "\n",
    " \n",
    "\n",
    "Example 1:\n",
    "\n",
    "Input: n = 12\n",
    "Output: true\n",
    "Explanation: 12 = 31 + 32\n",
    "\n",
    "Example 2:\n",
    "\n",
    "Input: n = 91\n",
    "Output: true\n",
    "Explanation: 91 = 30 + 32 + 34\n",
    "\n",
    "Example 3:\n",
    "\n",
    "Input: n = 21\n",
    "Output: false\n",
    "\n",
    " \n",
    "\n",
    "Constraints:\n",
    "\n",
    "    1 <= n <= 107\n",
    "\n"
   ]
  },
  {
   "cell_type": "code",
   "execution_count": null,
   "id": "a3b5f391-f28e-47f8-a86c-0073cbbcdad7",
   "metadata": {},
   "outputs": [],
   "source": [
    "class Solution:\n",
    "    def checkPowersOfThree(self, n: int) -> bool:\n",
    "        while n > 0:\n",
    "            if n % 3 > 1:\n",
    "                return False\n",
    "            n //= 3\n",
    "        return True"
   ]
  }
 ],
 "metadata": {
  "kernelspec": {
   "display_name": "Python 3 (ipykernel)",
   "language": "python",
   "name": "python3"
  },
  "language_info": {
   "codemirror_mode": {
    "name": "ipython",
    "version": 3
   },
   "file_extension": ".py",
   "mimetype": "text/x-python",
   "name": "python",
   "nbconvert_exporter": "python",
   "pygments_lexer": "ipython3",
   "version": "3.12.7"
  }
 },
 "nbformat": 4,
 "nbformat_minor": 5
}
