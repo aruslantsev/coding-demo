{
 "cells": [
  {
   "cell_type": "markdown",
   "id": "cd3bcdda-c25b-4026-838b-d657d6da0688",
   "metadata": {},
   "source": [
    "Given a string containing just the characters '(' and ')', find the length of the longest valid (well-formed) parentheses substring.\n",
    "\n",
    " \n",
    "\n",
    "Example 1:\n",
    "\n",
    "Input: s = \"(()\"\n",
    "Output: 2\n",
    "Explanation: The longest valid parentheses substring is \"()\".\n",
    "\n",
    "Example 2:\n",
    "\n",
    "Input: s = \")()())\"\n",
    "Output: 4\n",
    "Explanation: The longest valid parentheses substring is \"()()\".\n",
    "\n",
    "Example 3:\n",
    "\n",
    "Input: s = \"\"\n",
    "Output: 0\n",
    "\n",
    " \n",
    "\n",
    "Constraints:\n",
    "\n",
    "    0 <= s.length <= 3 * 104\n",
    "    s[i] is '(', or ')'.\n",
    "\n"
   ]
  },
  {
   "cell_type": "code",
   "execution_count": 11,
   "id": "961cfd8f-c8c6-47fe-a577-9a5a09923dff",
   "metadata": {},
   "outputs": [],
   "source": [
    "class Solution:\n",
    "    def longestValidParentheses(self, s: str) -> int:\n",
    "        stack = 0\n",
    "        dp = [0, ]\n",
    "        for parenthesis in s:\n",
    "            if parenthesis == \"(\":\n",
    "                stack += 1\n",
    "            else:\n",
    "                stack -= 1\n",
    "            dp.append(stack)\n",
    "        \n",
    "        print(dp)"
   ]
  },
  {
   "cell_type": "code",
   "execution_count": 21,
   "id": "7fbe8d95-71a2-48bb-9da9-4c04969f177a",
   "metadata": {},
   "outputs": [],
   "source": [
    "class Solution:\n",
    "    def longestValidParentheses(self, s: str) -> int:\n",
    "        stack = []\n",
    "        max_length = 0\n",
    "        for pos, parenthesis in enumerate(s):\n",
    "            if parenthesis == \"(\":\n",
    "                stack.append(pos)\n",
    "            else:\n",
    "                if stack:\n",
    "                    start = stack.pop()\n",
    "                    curr_length = pos - start + 1\n",
    "                    max_length = max(max_length, curr_length)\n",
    "        \n",
    "        return max_length"
   ]
  },
  {
   "cell_type": "code",
   "execution_count": 32,
   "id": "7eb011fd-e210-4138-bdb6-6ef4eca40a6c",
   "metadata": {},
   "outputs": [],
   "source": [
    "class Solution:\n",
    "    def longestValidParentheses(self, s: str) -> int:\n",
    "        max_length = 0\n",
    "        stack = [-1] # initialize with a start index\n",
    "        for pos, parenthesis in enumerate(s):\n",
    "            if parenthesis == '(':\n",
    "                stack.append(pos)\n",
    "            else:\n",
    "                stack.pop()\n",
    "                if not stack: # if popped -1, add a new start index\n",
    "                    stack.append(pos)\n",
    "                else:\n",
    "                    max_length = max(max_length, pos - stack[-1]) \n",
    "                    # update the length of the valid substring\n",
    "        return max_length"
   ]
  },
  {
   "cell_type": "code",
   "execution_count": 33,
   "id": "f053311f-a6bf-49ea-a1e1-7541a015f8aa",
   "metadata": {},
   "outputs": [
    {
     "data": {
      "text/plain": [
       "2"
      ]
     },
     "execution_count": 33,
     "metadata": {},
     "output_type": "execute_result"
    }
   ],
   "source": [
    "s = Solution()\n",
    "s.longestValidParentheses(\"(()\")"
   ]
  },
  {
   "cell_type": "code",
   "execution_count": 34,
   "id": "ef3eb6a5-5472-49a5-b496-ead27e8c0c14",
   "metadata": {},
   "outputs": [
    {
     "data": {
      "text/plain": [
       "4"
      ]
     },
     "execution_count": 34,
     "metadata": {},
     "output_type": "execute_result"
    }
   ],
   "source": [
    "s.longestValidParentheses(\")()())\")"
   ]
  },
  {
   "cell_type": "code",
   "execution_count": 35,
   "id": "4ceb05cf-0256-42f3-9e4a-8b973beb5513",
   "metadata": {},
   "outputs": [
    {
     "data": {
      "text/plain": [
       "6"
      ]
     },
     "execution_count": 35,
     "metadata": {},
     "output_type": "execute_result"
    }
   ],
   "source": [
    "s.longestValidParentheses(\"()()()\")"
   ]
  },
  {
   "cell_type": "code",
   "execution_count": 36,
   "id": "9fa22c2d-9886-4867-92b7-95094593b904",
   "metadata": {},
   "outputs": [
    {
     "data": {
      "text/plain": [
       "6"
      ]
     },
     "execution_count": 36,
     "metadata": {},
     "output_type": "execute_result"
    }
   ],
   "source": [
    "s.longestValidParentheses(\"((()))\")"
   ]
  },
  {
   "cell_type": "code",
   "execution_count": 37,
   "id": "114064a2-6dba-4e06-bb30-46ed996e0097",
   "metadata": {},
   "outputs": [
    {
     "data": {
      "text/plain": [
       "2"
      ]
     },
     "execution_count": 37,
     "metadata": {},
     "output_type": "execute_result"
    }
   ],
   "source": [
    "s.longestValidParentheses(\"())(()\")"
   ]
  },
  {
   "cell_type": "code",
   "execution_count": null,
   "id": "9752e795-4257-4e04-8988-e91f810c8352",
   "metadata": {},
   "outputs": [],
   "source": []
  }
 ],
 "metadata": {
  "kernelspec": {
   "display_name": "Python 3 (ipykernel)",
   "language": "python",
   "name": "python3"
  },
  "language_info": {
   "codemirror_mode": {
    "name": "ipython",
    "version": 3
   },
   "file_extension": ".py",
   "mimetype": "text/x-python",
   "name": "python",
   "nbconvert_exporter": "python",
   "pygments_lexer": "ipython3",
   "version": "3.9.10"
  }
 },
 "nbformat": 4,
 "nbformat_minor": 5
}
