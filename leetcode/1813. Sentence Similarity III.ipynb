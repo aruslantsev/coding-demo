{
 "cells": [
  {
   "cell_type": "markdown",
   "id": "385606ec-3982-45ea-9ddf-65b819928697",
   "metadata": {},
   "source": [
    "You are given two strings sentence1 and sentence2, each representing a sentence composed of words. A sentence is a list of words that are separated by a single space with no leading or trailing spaces. Each word consists of only uppercase and lowercase English characters.\n",
    "\n",
    "Two sentences s1 and s2 are considered similar if it is possible to insert an arbitrary sentence (possibly empty) inside one of these sentences such that the two sentences become equal. Note that the inserted sentence must be separated from existing words by spaces.\n",
    "\n",
    "For example,\n",
    "\n",
    "    s1 = \"Hello Jane\" and s2 = \"Hello my name is Jane\" can be made equal by inserting \"my name is\" between \"Hello\" and \"Jane\" in s1.\n",
    "    s1 = \"Frog cool\" and s2 = \"Frogs are cool\" are not similar, since although there is a sentence \"s are\" inserted into s1, it is not separated from \"Frog\" by a space.\n",
    "\n",
    "Given two sentences sentence1 and sentence2, return true if sentence1 and sentence2 are similar. Otherwise, return false.\n",
    "\n",
    " \n",
    "\n",
    "Example 1:\n",
    "\n",
    "Input: sentence1 = \"My name is Haley\", sentence2 = \"My Haley\"\n",
    "\n",
    "Output: true\n",
    "\n",
    "Explanation:\n",
    "\n",
    "sentence2 can be turned to sentence1 by inserting \"name is\" between \"My\" and \"Haley\".\n",
    "\n",
    "Example 2:\n",
    "\n",
    "Input: sentence1 = \"of\", sentence2 = \"A lot of words\"\n",
    "\n",
    "Output: false\n",
    "\n",
    "Explanation:\n",
    "\n",
    "No single sentence can be inserted inside one of the sentences to make it equal to the other.\n",
    "\n",
    "Example 3:\n",
    "\n",
    "Input: sentence1 = \"Eating right now\", sentence2 = \"Eating\"\n",
    "\n",
    "Output: true\n",
    "\n",
    "Explanation:\n",
    "\n",
    "sentence2 can be turned to sentence1 by inserting \"right now\" at the end of the sentence.\n",
    "\n",
    " \n",
    "\n",
    "Constraints:\n",
    "\n",
    "    1 <= sentence1.length, sentence2.length <= 100\n",
    "    sentence1 and sentence2 consist of lowercase and uppercase English letters and spaces.\n",
    "    The words in sentence1 and sentence2 are separated by a single space.\n",
    "\n"
   ]
  },
  {
   "cell_type": "code",
   "execution_count": null,
   "id": "db7499b8-6d27-416f-a764-e771fd838f42",
   "metadata": {},
   "outputs": [],
   "source": [
    "class Solution:\n",
    "    def areSentencesSimilar(self, sentence1: str, sentence2: str) -> bool:\n",
    "        s1 = deque(sentence1.split())\n",
    "        s2 = deque(sentence2.split())\n",
    "        while s1 and s2 and s1[0] == s2[0]:\n",
    "            s1.popleft()\n",
    "            s2.popleft()\n",
    "        while s1 and s2 and s1[-1] == s2[-1]:\n",
    "            s1.pop()\n",
    "            s2.pop()\n",
    "        return not s1 or not s2"
   ]
  }
 ],
 "metadata": {
  "kernelspec": {
   "display_name": "Python 3 (ipykernel)",
   "language": "python",
   "name": "python3"
  },
  "language_info": {
   "codemirror_mode": {
    "name": "ipython",
    "version": 3
   },
   "file_extension": ".py",
   "mimetype": "text/x-python",
   "name": "python",
   "nbconvert_exporter": "python",
   "pygments_lexer": "ipython3",
   "version": "3.12.4"
  }
 },
 "nbformat": 4,
 "nbformat_minor": 5
}
