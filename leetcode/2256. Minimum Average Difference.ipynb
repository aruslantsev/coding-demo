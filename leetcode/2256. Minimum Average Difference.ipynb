{
 "cells": [
  {
   "cell_type": "markdown",
   "id": "8b800087-bccb-4dbc-8c19-9600ab3c8f37",
   "metadata": {},
   "source": [
    "You are given a 0-indexed integer array nums of length n.\n",
    "\n",
    "The average difference of the index i is the absolute difference between the average of the first i + 1 elements of nums and the average of the last n - i - 1 elements. Both averages should be rounded down to the nearest integer.\n",
    "\n",
    "Return the index with the minimum average difference. If there are multiple such indices, return the smallest one.\n",
    "\n",
    "Note:\n",
    "\n",
    "    The absolute difference of two numbers is the absolute value of their difference.\n",
    "    The average of n elements is the sum of the n elements divided (integer division) by n.\n",
    "    The average of 0 elements is considered to be 0.\n",
    "\n",
    " \n",
    "\n",
    "Example 1:\n",
    "\n",
    "Input: nums = [2,5,3,9,5,3]\n",
    "Output: 3\n",
    "Explanation:\n",
    "- The average difference of index 0 is: |2 / 1 - (5 + 3 + 9 + 5 + 3) / 5| = |2 / 1 - 25 / 5| = |2 - 5| = 3.\n",
    "- The average difference of index 1 is: |(2 + 5) / 2 - (3 + 9 + 5 + 3) / 4| = |7 / 2 - 20 / 4| = |3 - 5| = 2.\n",
    "- The average difference of index 2 is: |(2 + 5 + 3) / 3 - (9 + 5 + 3) / 3| = |10 / 3 - 17 / 3| = |3 - 5| = 2.\n",
    "- The average difference of index 3 is: |(2 + 5 + 3 + 9) / 4 - (5 + 3) / 2| = |19 / 4 - 8 / 2| = |4 - 4| = 0.\n",
    "- The average difference of index 4 is: |(2 + 5 + 3 + 9 + 5) / 5 - 3 / 1| = |24 / 5 - 3 / 1| = |4 - 3| = 1.\n",
    "- The average difference of index 5 is: |(2 + 5 + 3 + 9 + 5 + 3) / 6 - 0| = |27 / 6 - 0| = |4 - 0| = 4.\n",
    "The average difference of index 3 is the minimum average difference so return 3.\n",
    "\n",
    "Example 2:\n",
    "\n",
    "Input: nums = [0]\n",
    "Output: 0\n",
    "Explanation:\n",
    "The only index is 0 so return 0.\n",
    "The average difference of index 0 is: |0 / 1 - 0| = |0 - 0| = 0.\n",
    "\n",
    " \n",
    "\n",
    "Constraints:\n",
    "\n",
    "    1 <= nums.length <= 105\n",
    "    0 <= nums[i] <= 105\n",
    "\n"
   ]
  },
  {
   "cell_type": "code",
   "execution_count": null,
   "id": "8e3a34c9-de62-4e3b-9b98-a19e3b4fc12c",
   "metadata": {},
   "outputs": [],
   "source": [
    "class Solution:\n",
    "    def minimumAverageDifference(self, nums: List[int]) -> int:\n",
    "        l = 0\n",
    "        r = sum(nums)\n",
    "        lsize = 0\n",
    "        rsize = len(nums)\n",
    "\n",
    "        mindiff = float(\"inf\")\n",
    "        minidx = 0\n",
    "        for i, num in enumerate(nums):\n",
    "            l += num\n",
    "            r -= num\n",
    "            lsize += 1\n",
    "            rsize -= 1\n",
    "            lavg = int(l / lsize) if lsize != 0 else 0\n",
    "            ravg = int(r / rsize) if rsize != 0 else 0\n",
    "            if abs(lavg - ravg) < mindiff:\n",
    "                mindiff = abs(lavg - ravg)\n",
    "                minidx = i\n",
    "\n",
    "        return minidx"
   ]
  }
 ],
 "metadata": {
  "kernelspec": {
   "display_name": "Python 3 (ipykernel)",
   "language": "python",
   "name": "python3"
  },
  "language_info": {
   "codemirror_mode": {
    "name": "ipython",
    "version": 3
   },
   "file_extension": ".py",
   "mimetype": "text/x-python",
   "name": "python",
   "nbconvert_exporter": "python",
   "pygments_lexer": "ipython3",
   "version": "3.9.13"
  }
 },
 "nbformat": 4,
 "nbformat_minor": 5
}
