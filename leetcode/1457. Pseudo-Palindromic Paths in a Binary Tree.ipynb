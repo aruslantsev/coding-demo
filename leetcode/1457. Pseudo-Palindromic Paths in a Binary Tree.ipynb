{
 "cells": [
  {
   "attachments": {
    "30cbcf60-adb2-4aa8-a96d-2b252f2fddca.png": {
     "image/png": "[encoded data removed]"
    },
    "4bb44631-1657-4776-b695-c34937d32fb8.png": {
     "image/png": "[encoded data removed]"
    }
   },
   "cell_type": "markdown",
   "id": "a6fb489e-f8da-49d8-9e1f-9742ec8a2e77",
   "metadata": {},
   "source": [
    "Given a binary tree where node values are digits from 1 to 9. A path in the binary tree is said to be pseudo-palindromic if at least one permutation of the node values in the path is a palindrome.\n",
    "\n",
    "Return the number of pseudo-palindromic paths going from the root node to leaf nodes.\n",
    "\n",
    " \n",
    "\n",
    "Example 1:\n",
    "\n",
    "![image.png](attachment:30cbcf60-adb2-4aa8-a96d-2b252f2fddca.png)\n",
    "\n",
    "Input: root = [2,3,1,3,1,null,1]\n",
    "Output: 2 \n",
    "Explanation: The figure above represents the given binary tree. There are three paths going from the root node to leaf nodes: the red path [2,3,3], the green path [2,1,1], and the path [2,3,1]. Among these paths only red path and green path are pseudo-palindromic paths since the red path [2,3,3] can be rearranged in [3,2,3] (palindrome) and the green path [2,1,1] can be rearranged in [1,2,1] (palindrome).\n",
    "Example 2:\n",
    "\n",
    "![image.png](attachment:4bb44631-1657-4776-b695-c34937d32fb8.png)\n",
    "\n",
    "Input: root = [2,1,1,1,3,null,null,null,null,null,1]\n",
    "Output: 1 \n",
    "Explanation: The figure above represents the given binary tree. There are three paths going from the root node to leaf nodes: the green path [2,1,1], the path [2,1,3,1], and the path [2,1]. Among these paths only the green path is pseudo-palindromic since [2,1,1] can be rearranged in [1,2,1] (palindrome).\n",
    "Example 3:\n",
    "\n",
    "Input: root = [9]\n",
    "Output: 1\n",
    " \n",
    "\n",
    "Constraints:\n",
    "\n",
    "The number of nodes in the tree is in the range [1, 105].\n",
    "1 <= Node.val <= 9"
   ]
  },
  {
   "cell_type": "code",
   "execution_count": 16,
   "id": "679d6724-47ef-4905-aa61-ca1b44f782e6",
   "metadata": {},
   "outputs": [],
   "source": [
    "from typing import Optional\n",
    "from collections import Counter\n",
    "\n",
    "# Definition for a binary tree node.\n",
    "class TreeNode:\n",
    "    def __init__(self, val=0, left=None, right=None):\n",
    "        self.val = val\n",
    "        self.left = left\n",
    "        self.right = right\n",
    "\n",
    "class Solution:\n",
    "    def pseudoPalindromicPaths (self, root: Optional[TreeNode]) -> int:\n",
    "        def analyze_path(path):\n",
    "            counts = Counter(path)\n",
    "            max_odds = len(path) % 2\n",
    "                \n",
    "            odds = 0\n",
    "            for count in counts.values():\n",
    "                odds += count % 2 \n",
    "                \n",
    "            if odds > max_odds:\n",
    "                return False\n",
    "            return True\n",
    "        \n",
    "        self.ans = 0\n",
    "        def dfs(node, path):\n",
    "            path.append(node.val)\n",
    "            if not (node.left or node.right):\n",
    "                if analyze_path(path):\n",
    "                    self.ans += 1\n",
    "            else:\n",
    "                if node.left:\n",
    "                    dfs(node.left, path)\n",
    "                if node.right:\n",
    "                    dfs(node.right, path)\n",
    "            path.pop()\n",
    "            \n",
    "        dfs(root, [])\n",
    "        return self.ans\n"
   ]
  },
  {
   "cell_type": "code",
   "execution_count": 29,
   "id": "39d625e1-772e-40fd-bd7e-1b7b86cd4b08",
   "metadata": {},
   "outputs": [],
   "source": [
    "from typing import Optional\n",
    "from collections import Counter\n",
    "from functools import cache\n",
    "\n",
    "# Definition for a binary tree node.\n",
    "class TreeNode:\n",
    "    def __init__(self, val=0, left=None, right=None):\n",
    "        self.val = val\n",
    "        self.left = left\n",
    "        self.right = right\n",
    "\n",
    "class Solution:\n",
    "    def pseudoPalindromicPaths (self, root: Optional[TreeNode]) -> int:\n",
    "        @cache\n",
    "        def analyze_path(counts, max_odds):\n",
    "            odds = 0\n",
    "            for count in counts:\n",
    "                odds += count % 2 \n",
    "                if odds > max_odds:\n",
    "                    return False\n",
    "            return True\n",
    "        \n",
    "        self.ans = 0\n",
    "        def dfs(node, path):\n",
    "            path.append(node.val)\n",
    "            if not (node.left or node.right):\n",
    "                if analyze_path(tuple(Counter(path).values()), len(path) % 2):\n",
    "                    self.ans += 1\n",
    "            else:\n",
    "                if node.left:\n",
    "                    dfs(node.left, path)\n",
    "                if node.right:\n",
    "                    dfs(node.right, path)\n",
    "            path.pop()\n",
    "            \n",
    "        dfs(root, [])\n",
    "        return self.ans\n"
   ]
  },
  {
   "cell_type": "code",
   "execution_count": 41,
   "id": "3e77eecb-0bd1-4e2b-b0c0-fd97d557011f",
   "metadata": {},
   "outputs": [],
   "source": [
    "from typing import Optional\n",
    "from collections import Counter\n",
    "\n",
    "# Definition for a binary tree node.\n",
    "class TreeNode:\n",
    "    def __init__(self, val=0, left=None, right=None):\n",
    "        self.val = val\n",
    "        self.left = left\n",
    "        self.right = right\n",
    "\n",
    "class Solution:\n",
    "    def pseudoPalindromicPaths (self, root: Optional[TreeNode]) -> int:\n",
    "        def analyze_path(counts, max_odds):\n",
    "            odds = 0\n",
    "            for count in counts:\n",
    "                odds += count % 2 \n",
    "                if odds > max_odds:\n",
    "                    return False\n",
    "            return True\n",
    "        \n",
    "        self.ans = 0\n",
    "        def dfs(node, path_len, counts):\n",
    "            path_len += 1\n",
    "            counts[node.val] += 1\n",
    "            if not (node.left or node.right):\n",
    "                if analyze_path(counts, path_len % 2):\n",
    "                    self.ans += 1\n",
    "            else:\n",
    "                if node.left:\n",
    "                    dfs(node.left, path_len, counts)\n",
    "                if node.right:\n",
    "                    dfs(node.right, path_len, counts)\n",
    "            counts[node.val] -= 1\n",
    "            \n",
    "        dfs(root, 0, [0 for _ in range(10)])\n",
    "        return self.ans\n"
   ]
  },
  {
   "cell_type": "code",
   "execution_count": 42,
   "id": "9c483b4e-925c-4fc4-9d10-21b940495d45",
   "metadata": {},
   "outputs": [],
   "source": [
    "s = Solution()"
   ]
  },
  {
   "cell_type": "code",
   "execution_count": 43,
   "id": "42d238bd-ddd2-48c9-882b-68e3d69ef5cc",
   "metadata": {},
   "outputs": [
    {
     "data": {
      "text/plain": [
       "2"
      ]
     },
     "execution_count": 43,
     "metadata": {},
     "output_type": "execute_result"
    }
   ],
   "source": [
    "s.pseudoPalindromicPaths(TreeNode(2, TreeNode(3, TreeNode(3), TreeNode(1)), TreeNode(1, None, TreeNode(1))))"
   ]
  },
  {
   "cell_type": "code",
   "execution_count": null,
   "id": "92837fe1-8233-4643-a8bf-fdf320a46d22",
   "metadata": {},
   "outputs": [],
   "source": []
  }
 ],
 "metadata": {
  "kernelspec": {
   "display_name": "Python 3 (ipykernel)",
   "language": "python",
   "name": "python3"
  },
  "language_info": {
   "codemirror_mode": {
    "name": "ipython",
    "version": 3
   },
   "file_extension": ".py",
   "mimetype": "text/x-python",
   "name": "python",
   "nbconvert_exporter": "python",
   "pygments_lexer": "ipython3",
   "version": "3.9.12"
  }
 },
 "nbformat": 4,
 "nbformat_minor": 5
}
