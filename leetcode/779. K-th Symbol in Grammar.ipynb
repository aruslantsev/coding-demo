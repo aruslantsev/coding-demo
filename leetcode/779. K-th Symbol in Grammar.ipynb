{
 "cells": [
  {
   "cell_type": "markdown",
   "id": "1868efd7-bae5-4bd5-9533-813d06289fd1",
   "metadata": {},
   "source": [
    "We build a table of n rows (1-indexed). We start by writing 0 in the 1st row. Now in every subsequent row, we look at the previous row and replace each occurrence of 0 with 01, and each occurrence of 1 with 10.\n",
    "\n",
    "    For example, for n = 3, the 1st row is 0, the 2nd row is 01, and the 3rd row is 0110.\n",
    "\n",
    "Given two integer n and k, return the kth (1-indexed) symbol in the nth row of a table of n rows.\n",
    "\n",
    " \n",
    "\n",
    "Example 1:\n",
    "\n",
    "Input: n = 1, k = 1\n",
    "Output: 0\n",
    "Explanation: row 1: 0\n",
    "\n",
    "Example 2:\n",
    "\n",
    "Input: n = 2, k = 1\n",
    "Output: 0\n",
    "Explanation: \n",
    "row 1: 0\n",
    "row 2: 01\n",
    "\n",
    "Example 3:\n",
    "\n",
    "Input: n = 2, k = 2\n",
    "Output: 1\n",
    "Explanation: \n",
    "row 1: 0\n",
    "row 2: 01\n",
    "\n",
    " \n",
    "\n",
    "Constraints:\n",
    "\n",
    "    1 <= n <= 30\n",
    "    1 <= k <= 2n - 1\n",
    "\n"
   ]
  },
  {
   "cell_type": "code",
   "execution_count": null,
   "id": "00f7e17e-3ed5-487d-b372-730370a536be",
   "metadata": {},
   "outputs": [],
   "source": [
    "class Solution:\n",
    "    def kthGrammar(self, n: int, k: int) -> int:\n",
    "        def rec(n, k):\n",
    "            if n == 1:\n",
    "                return 0\n",
    "            total_elements = 2 ** (n - 1)\n",
    "            half_elements = total_elements // 2\n",
    "            if k > half_elements:\n",
    "                return 1 - rec(n, k - half_elements)\n",
    "            else:\n",
    "                return rec(n - 1, k)\n",
    "        return rec(n, k)"
   ]
  }
 ],
 "metadata": {
  "kernelspec": {
   "display_name": "Python 3 (ipykernel)",
   "language": "python",
   "name": "python3"
  },
  "language_info": {
   "codemirror_mode": {
    "name": "ipython",
    "version": 3
   },
   "file_extension": ".py",
   "mimetype": "text/x-python",
   "name": "python",
   "nbconvert_exporter": "python",
   "pygments_lexer": "ipython3",
   "version": "3.11.4"
  }
 },
 "nbformat": 4,
 "nbformat_minor": 5
}
