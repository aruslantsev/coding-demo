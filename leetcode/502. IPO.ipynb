{
 "cells": [
  {
   "cell_type": "markdown",
   "id": "87aedbf3-347a-48b5-bc3c-5775984340a0",
   "metadata": {},
   "source": [
    "Suppose LeetCode will start its IPO soon. In order to sell a good price of its shares to Venture Capital, LeetCode would like to work on some projects to increase its capital before the IPO. Since it has limited resources, it can only finish at most k distinct projects before the IPO. Help LeetCode design the best way to maximize its total capital after finishing at most k distinct projects.\n",
    "\n",
    "You are given n projects where the ith project has a pure profit profits[i] and a minimum capital of capital[i] is needed to start it.\n",
    "\n",
    "Initially, you have w capital. When you finish a project, you will obtain its pure profit and the profit will be added to your total capital.\n",
    "\n",
    "Pick a list of at most k distinct projects from given projects to maximize your final capital, and return the final maximized capital.\n",
    "\n",
    "The answer is guaranteed to fit in a 32-bit signed integer.\n",
    "\n",
    " \n",
    "\n",
    "Example 1:\n",
    "\n",
    "Input: k = 2, w = 0, profits = [1,2,3], capital = [0,1,1]\n",
    "Output: 4\n",
    "Explanation: Since your initial capital is 0, you can only start the project indexed 0.\n",
    "After finishing it you will obtain profit 1 and your capital becomes 1.\n",
    "With capital 1, you can either start the project indexed 1 or the project indexed 2.\n",
    "Since you can choose at most 2 projects, you need to finish the project indexed 2 to get the maximum capital.\n",
    "Therefore, output the final maximized capital, which is 0 + 1 + 3 = 4.\n",
    "\n",
    "Example 2:\n",
    "\n",
    "Input: k = 3, w = 0, profits = [1,2,3], capital = [0,1,2]\n",
    "Output: 6\n",
    "\n",
    " \n",
    "\n",
    "Constraints:\n",
    "\n",
    "    1 <= k <= 105\n",
    "    0 <= w <= 109\n",
    "    n == profits.length\n",
    "    n == capital.length\n",
    "    1 <= n <= 105\n",
    "    0 <= profits[i] <= 104\n",
    "    0 <= capital[i] <= 109\n",
    "\n"
   ]
  },
  {
   "cell_type": "code",
   "execution_count": null,
   "id": "f560b1ac-be4d-4273-9a87-2467e4f3f15f",
   "metadata": {},
   "outputs": [],
   "source": [
    "from typing import List\n",
    "import heapq\n",
    "\n",
    "class Solution:\n",
    "    def findMaximizedCapital(self, k: int, w: int, profits: List[int], capital: List[int]) -> int:\n",
    "        n = len(profits)\n",
    "        projects = [(capital[i], profits[i]) for i in range(n)]\n",
    "        projects.sort()\n",
    "        i = 0\n",
    "        maximizeCapital = []\n",
    "        for _ in range(k)\n",
    "            while i < n and projects[i][0] <= w:\n",
    "                heapq.heappush(maximizeCapital, -projects[i][1])\n",
    "                i += 1\n",
    "            if not maximizeCapital:\n",
    "                break\n",
    "            w -= heapq.heappop(maximizeCapital)\n",
    "\n",
    "        return w"
   ]
  }
 ],
 "metadata": {
  "kernelspec": {
   "display_name": "Python 3 (ipykernel)",
   "language": "python",
   "name": "python3"
  },
  "language_info": {
   "codemirror_mode": {
    "name": "ipython",
    "version": 3
   },
   "file_extension": ".py",
   "mimetype": "text/x-python",
   "name": "python",
   "nbconvert_exporter": "python",
   "pygments_lexer": "ipython3",
   "version": "3.10.8"
  }
 },
 "nbformat": 4,
 "nbformat_minor": 5
}
