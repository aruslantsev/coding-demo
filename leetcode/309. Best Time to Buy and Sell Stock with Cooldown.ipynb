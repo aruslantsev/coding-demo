{
 "cells": [
  {
   "cell_type": "markdown",
   "id": "ef88629b-2482-4761-bbab-99a056a9f989",
   "metadata": {},
   "source": [
    "You are given an array prices where prices[i] is the price of a given stock on the ith day.\n",
    "\n",
    "Find the maximum profit you can achieve. You may complete as many transactions as you like (i.e., buy one and sell one share of the stock multiple times) with the following restrictions:\n",
    "\n",
    "After you sell your stock, you cannot buy stock on the next day (i.e., cooldown one day).\n",
    "Note: You may not engage in multiple transactions simultaneously (i.e., you must sell the stock before you buy again).\n",
    "\n",
    " \n",
    "\n",
    "Example 1:\n",
    "\n",
    "Input: prices = [1,2,3,0,2]\n",
    "Output: 3\n",
    "Explanation: transactions = [buy, sell, cooldown, buy, sell]\n",
    "Example 2:\n",
    "\n",
    "Input: prices = [1]\n",
    "Output: 0\n",
    " \n",
    "\n",
    "Constraints:\n",
    "\n",
    "1 <= prices.length <= 5000\n",
    "0 <= prices[i] <= 1000"
   ]
  },
  {
   "cell_type": "code",
   "execution_count": null,
   "id": "01b5cd0e-32f1-467c-837d-25806efffacf",
   "metadata": {},
   "outputs": [],
   "source": [
    "class Solution:\n",
    "    def maxProfit(self, prices: List[int]) -> int:\n",
    "        \"\"\"\n",
    "        # We must rest for a single term before buying. \n",
    "        # Thus maximum obtainable from buying today is the max of:\n",
    "        #   1. Buying (Max obtainable from selling 2 periods ago - stock price at i)\n",
    "        #   2. Not Buying (max from previous)\n",
    "        #\n",
    "        # Therefore:\n",
    "        #   buy[i] = max(sell[i-2]-price, buy[i-1])\n",
    "        #\n",
    "        #\n",
    "        # Selling is straight forward. We either sell or not\n",
    "        # Thus maximum from selling is the max of:\n",
    "        #   1. Selling (Max obtainable from buying a day ago + stock price at i)\n",
    "        #   2. Not Selling (max from previous)\n",
    "        #\n",
    "        # Therefore:\n",
    "        #   sell[i] = max(buy[i-1]+price, sell[i-1])\n",
    "        \n",
    "        \"\"\"\n",
    "        \n",
    "        if len(prices) < 2: \n",
    "            return 0\n",
    "        prev_sell, sell, buy = 0, 0, -prices[0] # buy initialized to buying a stock at i=0\n",
    "        for i in range(1, len(prices)): \n",
    "            prev_sell, sell, buy = sell, max(buy + prices[i], sell), max(prev_sell - prices[i], buy) \n",
    "        return max(sell, buy)"
   ]
  }
 ],
 "metadata": {
  "kernelspec": {
   "display_name": "Python 3",
   "language": "python",
   "name": "python3"
  },
  "language_info": {
   "codemirror_mode": {
    "name": "ipython",
    "version": 3
   },
   "file_extension": ".py",
   "mimetype": "text/x-python",
   "name": "python",
   "nbconvert_exporter": "python",
   "pygments_lexer": "ipython3",
   "version": "3.9.12"
  }
 },
 "nbformat": 4,
 "nbformat_minor": 5
}
