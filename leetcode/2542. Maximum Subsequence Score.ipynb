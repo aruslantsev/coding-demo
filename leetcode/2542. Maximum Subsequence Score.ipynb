{
 "cells": [
  {
   "cell_type": "markdown",
   "id": "594bf65f-40a9-432e-91ed-8638578f1f2c",
   "metadata": {},
   "source": [
    "You are given two 0-indexed integer arrays nums1 and nums2 of equal length n and a positive integer k. You must choose a subsequence of indices from nums1 of length k.\n",
    "\n",
    "For chosen indices i0, i1, ..., ik - 1, your score is defined as:\n",
    "\n",
    "    The sum of the selected elements from nums1 multiplied with the minimum of the selected elements from nums2.\n",
    "    It can defined simply as: (nums1[i0] + nums1[i1] +...+ nums1[ik - 1]) * min(nums2[i0] , nums2[i1], ... ,nums2[ik - 1]).\n",
    "\n",
    "Return the maximum possible score.\n",
    "\n",
    "A subsequence of indices of an array is a set that can be derived from the set {0, 1, ..., n-1} by deleting some or no elements.\n",
    "\n",
    " \n",
    "\n",
    "Example 1:\n",
    "\n",
    "Input: nums1 = [1,3,3,2], nums2 = [2,1,3,4], k = 3\n",
    "Output: 12\n",
    "Explanation: \n",
    "The four possible subsequence scores are:\n",
    "- We choose the indices 0, 1, and 2 with score = (1+3+3) * min(2,1,3) = 7.\n",
    "- We choose the indices 0, 1, and 3 with score = (1+3+2) * min(2,1,4) = 6. \n",
    "- We choose the indices 0, 2, and 3 with score = (1+3+2) * min(2,3,4) = 12. \n",
    "- We choose the indices 1, 2, and 3 with score = (3+3+2) * min(1,3,4) = 8.\n",
    "Therefore, we return the max score, which is 12.\n",
    "\n",
    "Example 2:\n",
    "\n",
    "Input: nums1 = [4,2,3,1,1], nums2 = [7,5,10,9,6], k = 1\n",
    "Output: 30\n",
    "Explanation: \n",
    "Choosing index 2 is optimal: nums1[2] * nums2[2] = 3 * 10 = 30 is the maximum possible score.\n",
    "\n",
    " \n",
    "\n",
    "Constraints:\n",
    "\n",
    "    n == nums1.length == nums2.length\n",
    "    1 <= n <= 105\n",
    "    0 <= nums1[i], nums2[j] <= 105\n",
    "    1 <= k <= n\n",
    "\n"
   ]
  },
  {
   "cell_type": "code",
   "execution_count": null,
   "id": "3b77f48d-c571-4ca6-a042-e0fddcd5b4dc",
   "metadata": {},
   "outputs": [],
   "source": [
    "class Solution:\n",
    "    def maxScore(self, nums1: List[int], nums2: List[int], k: int) -> int:\n",
    "        total = res = 0\n",
    "        heap = []\n",
    "        \n",
    "        pairs = zip(nums1, nums2)\n",
    "        \n",
    "        sorted_pairs = sorted(pairs, key=lambda x: -x[1])\n",
    "        \n",
    "        for pair in sorted_pairs:\n",
    "            num1, num2 = pair  \n",
    "            heappush(heap, num1)\n",
    "            total += num1\n",
    "            if len(heap) > k:\n",
    "                total -= heappop(heap)\n",
    "            if len(heap) == k:\n",
    "                res = max(res, total * num2)\n",
    "        \n",
    "        return res"
   ]
  }
 ],
 "metadata": {
  "kernelspec": {
   "display_name": "Python 3 (ipykernel)",
   "language": "python",
   "name": "python3"
  },
  "language_info": {
   "codemirror_mode": {
    "name": "ipython",
    "version": 3
   },
   "file_extension": ".py",
   "mimetype": "text/x-python",
   "name": "python",
   "nbconvert_exporter": "python",
   "pygments_lexer": "ipython3",
   "version": "3.10.11"
  }
 },
 "nbformat": 4,
 "nbformat_minor": 5
}
