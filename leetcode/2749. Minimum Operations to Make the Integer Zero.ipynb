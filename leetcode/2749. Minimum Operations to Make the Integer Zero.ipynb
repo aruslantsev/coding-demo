{
 "cells": [
  {
   "cell_type": "markdown",
   "id": "d24a9e11-6773-4ec1-a56f-a954481107da",
   "metadata": {},
   "source": [
    "You are given two integers num1 and num2.\n",
    "\n",
    "In one operation, you can choose integer i in the range [0, 60] and subtract 2i + num2 from num1.\n",
    "\n",
    "Return the integer denoting the minimum number of operations needed to make num1 equal to 0.\n",
    "\n",
    "If it is impossible to make num1 equal to 0, return -1.\n",
    "\n",
    " \n",
    "\n",
    "Example 1:\n",
    "\n",
    "Input: num1 = 3, num2 = -2\n",
    "Output: 3\n",
    "Explanation: We can make 3 equal to 0 with the following operations:\n",
    "- We choose i = 2 and subtract 22 + (-2) from 3, 3 - (4 + (-2)) = 1.\n",
    "- We choose i = 2 and subtract 22 + (-2) from 1, 1 - (4 + (-2)) = -1.\n",
    "- We choose i = 0 and subtract 20 + (-2) from -1, (-1) - (1 + (-2)) = 0.\n",
    "It can be proven, that 3 is the minimum number of operations that we need to perform.\n",
    "\n",
    "Example 2:\n",
    "\n",
    "Input: num1 = 5, num2 = 7\n",
    "Output: -1\n",
    "Explanation: It can be proven, that it is impossible to make 5 equal to 0 with the given operation.\n",
    "\n",
    " \n",
    "\n",
    "Constraints:\n",
    "\n",
    "    1 <= num1 <= 109\n",
    "    -109 <= num2 <= 109\n",
    "\n"
   ]
  },
  {
   "cell_type": "code",
   "execution_count": null,
   "id": "184a8537-4d37-487e-b76d-a5ad61f72640",
   "metadata": {},
   "outputs": [],
   "source": [
    "class Solution:\n",
    "    def makeTheIntegerZero(self, num1: int, num2: int) -> int:\n",
    "        for k in range(1, 61):\n",
    "            x = num1 - k * num2\n",
    "            if x < k:\n",
    "                continue\n",
    "            if x.bit_count() <= k:\n",
    "                return k\n",
    "        return -1"
   ]
  },
  {
   "cell_type": "code",
   "execution_count": null,
   "id": "7174d084-5e1e-440c-aa66-a09798eb0572",
   "metadata": {},
   "outputs": [],
   "source": [
    "class Solution:\n",
    "    def makeTheIntegerZero(self, num1: int, num2: int) -> int:\n",
    "        k = 1\n",
    "        while True:\n",
    "            x = num1 - num2 * k\n",
    "            if x < k:\n",
    "                return -1\n",
    "            if k >= x.bit_count():\n",
    "                return k\n",
    "            k += 1"
   ]
  }
 ],
 "metadata": {
  "kernelspec": {
   "display_name": "Python 3 (ipykernel)",
   "language": "python",
   "name": "python3"
  },
  "language_info": {
   "codemirror_mode": {
    "name": "ipython",
    "version": 3
   },
   "file_extension": ".py",
   "mimetype": "text/x-python",
   "name": "python",
   "nbconvert_exporter": "python",
   "pygments_lexer": "ipython3",
   "version": "3.13.5"
  }
 },
 "nbformat": 4,
 "nbformat_minor": 5
}
