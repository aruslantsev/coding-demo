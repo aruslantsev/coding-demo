{
 "cells": [
  {
   "cell_type": "markdown",
   "id": "e84d14b8-18d0-418e-991c-00c24f134b70",
   "metadata": {},
   "source": [
    "You are given a 0-indexed string s and a 0-indexed integer array spaces that describes the indices in the original string where spaces will be added. Each space should be inserted before the character at the given index.\n",
    "\n",
    "    For example, given s = \"EnjoyYourCoffee\" and spaces = [5, 9], we place spaces before 'Y' and 'C', which are at indices 5 and 9 respectively. Thus, we obtain \"Enjoy Your Coffee\".\n",
    "\n",
    "Return the modified string after the spaces have been added.\n",
    "\n",
    " \n",
    "\n",
    "Example 1:\n",
    "\n",
    "Input: s = \"LeetcodeHelpsMeLearn\", spaces = [8,13,15]\n",
    "Output: \"Leetcode Helps Me Learn\"\n",
    "Explanation: \n",
    "The indices 8, 13, and 15 correspond to the underlined characters in \"LeetcodeHelpsMeLearn\".\n",
    "We then place spaces before those characters.\n",
    "\n",
    "Example 2:\n",
    "\n",
    "Input: s = \"icodeinpython\", spaces = [1,5,7,9]\n",
    "Output: \"i code in py thon\"\n",
    "Explanation:\n",
    "The indices 1, 5, 7, and 9 correspond to the underlined characters in \"icodeinpython\".\n",
    "We then place spaces before those characters.\n",
    "\n",
    "Example 3:\n",
    "\n",
    "Input: s = \"spacing\", spaces = [0,1,2,3,4,5,6]\n",
    "Output: \" s p a c i n g\"\n",
    "Explanation:\n",
    "We are also able to place spaces before the first character of the string.\n",
    "\n",
    " \n",
    "\n",
    "Constraints:\n",
    "\n",
    "    1 <= s.length <= 3 * 105\n",
    "    s consists only of lowercase and uppercase English letters.\n",
    "    1 <= spaces.length <= 3 * 105\n",
    "    0 <= spaces[i] <= s.length - 1\n",
    "    All the values of spaces are strictly increasing.\n",
    "\n"
   ]
  },
  {
   "cell_type": "code",
   "execution_count": null,
   "id": "a31df86f-e4d8-4adb-a318-409c835de19c",
   "metadata": {},
   "outputs": [],
   "source": [
    "class Solution:\n",
    "    def addSpaces(self, s: str, spaces: List[int]) -> str:\n",
    "        spaces = [0] + spaces\n",
    "        ans = \"\"\n",
    "        for i in range(1, len(spaces)):\n",
    "            ans += s[spaces[i - 1]:spaces[i]]\n",
    "            ans += \" \"\n",
    "        ans += s[spaces[-1]:]\n",
    "        return ans\n",
    "        "
   ]
  }
 ],
 "metadata": {
  "kernelspec": {
   "display_name": "Python 3 (ipykernel)",
   "language": "python",
   "name": "python3"
  },
  "language_info": {
   "codemirror_mode": {
    "name": "ipython",
    "version": 3
   },
   "file_extension": ".py",
   "mimetype": "text/x-python",
   "name": "python",
   "nbconvert_exporter": "python",
   "pygments_lexer": "ipython3",
   "version": "3.12.7"
  }
 },
 "nbformat": 4,
 "nbformat_minor": 5
}
