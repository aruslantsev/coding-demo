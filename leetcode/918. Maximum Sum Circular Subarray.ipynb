{
 "cells": [
  {
   "cell_type": "markdown",
   "id": "3ae692b8-de8d-43ef-81c0-064defaf327d",
   "metadata": {},
   "source": [
    "Given a circular integer array nums of length n, return the maximum possible sum of a non-empty subarray of nums.\n",
    "\n",
    "A circular array means the end of the array connects to the beginning of the array. Formally, the next element of nums[i] is nums[(i + 1) % n] and the previous element of nums[i] is nums[(i - 1 + n) % n].\n",
    "\n",
    "A subarray may only include each element of the fixed buffer nums at most once. Formally, for a subarray nums[i], nums[i + 1], ..., nums[j], there does not exist i <= k1, k2 <= j with k1 % n == k2 % n.\n",
    "\n",
    " \n",
    "\n",
    "Example 1:\n",
    "\n",
    "Input: nums = [1,-2,3,-2]\n",
    "Output: 3\n",
    "Explanation: Subarray [3] has maximum sum 3.\n",
    "\n",
    "Example 2:\n",
    "\n",
    "Input: nums = [5,-3,5]\n",
    "Output: 10\n",
    "Explanation: Subarray [5,5] has maximum sum 5 + 5 = 10.\n",
    "\n",
    "Example 3:\n",
    "\n",
    "Input: nums = [-3,-2,-3]\n",
    "Output: -2\n",
    "Explanation: Subarray [-2] has maximum sum -2.\n",
    "\n",
    " \n",
    "\n",
    "Constraints:\n",
    "\n",
    "    n == nums.length\n",
    "    1 <= n <= 3 * 104\n",
    "    -3 * 104 <= nums[i] <= 3 * 104\n",
    "\n"
   ]
  },
  {
   "cell_type": "code",
   "execution_count": null,
   "id": "72d8fe1b-fbe6-4c5b-a757-7b6305b5d74a",
   "metadata": {},
   "outputs": [],
   "source": [
    "class Solution:\n",
    "    def maxSubarraySumCircular(self, nums: List[int]) -> int:\n",
    "        s = sum(nums)\n",
    "        \n",
    "        # First element is for maximum subarray.\n",
    "        # Second element is for the minimum subarray.\n",
    "        dp = [[0,0] for _ in range(len(nums))]\n",
    "\n",
    "        # Base case for find the maximum subarray.\n",
    "        dp[0][0] = nums[0]\n",
    "        res = nums[0]\n",
    "        for i in range(1, len(nums)):\n",
    "            dp[i][0] = max(dp[i - 1][0] + nums[i], nums[i])\n",
    "            dp[i][1] = min(dp[i - 1][1] + nums[i], nums[i])\n",
    "            res = max(res, dp[i][0], s - dp[i][1])\n",
    "        return res"
   ]
  }
 ],
 "metadata": {
  "kernelspec": {
   "display_name": "Python 3 (ipykernel)",
   "language": "python",
   "name": "python3"
  },
  "language_info": {
   "codemirror_mode": {
    "name": "ipython",
    "version": 3
   },
   "file_extension": ".py",
   "mimetype": "text/x-python",
   "name": "python",
   "nbconvert_exporter": "python",
   "pygments_lexer": "ipython3",
   "version": "3.10.8"
  }
 },
 "nbformat": 4,
 "nbformat_minor": 5
}
