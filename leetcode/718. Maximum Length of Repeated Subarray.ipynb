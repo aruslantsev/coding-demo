{
 "cells": [
  {
   "cell_type": "markdown",
   "id": "83ef0bfb-e4b6-44d6-b272-4052591a4111",
   "metadata": {},
   "source": [
    "Given two integer arrays nums1 and nums2, return the maximum length of a subarray that appears in both arrays.\n",
    "\n",
    "\n",
    "Example 1:\n",
    "\n",
    "Input: nums1 = [1,2,3,2,1], nums2 = [3,2,1,4,7]\n",
    "Output: 3\n",
    "Explanation: The repeated subarray with maximum length is [3,2,1].\n",
    "\n",
    "Example 2:\n",
    "\n",
    "Input: nums1 = [0,0,0,0,0], nums2 = [0,0,0,0,0]\n",
    "Output: 5\n",
    "\n",
    " \n",
    "\n",
    "Constraints:\n",
    "\n",
    "    1 <= nums1.length, nums2.length <= 1000\n",
    "    0 <= nums1[i], nums2[i] <= 100\n",
    "\n"
   ]
  },
  {
   "cell_type": "code",
   "execution_count": 15,
   "id": "cfec5694-4774-41e2-9a09-f93fd370f195",
   "metadata": {},
   "outputs": [],
   "source": [
    "from typing import List\n",
    "\n",
    "class Solution:\n",
    "    def findLength(self, nums1: List[int], nums2: List[int]) -> int:\n",
    "        dp = [[0 for _ in nums2] for _ in nums1]\n",
    "        dp[0][0] = 1 if nums1[0] == nums2[0] else 0\n",
    "        for i in range(1, len(nums2)):\n",
    "            dp[0][i] = 1 if nums1[0] == nums2[i] else 0\n",
    "        for i in range(1, len(nums1)):\n",
    "            dp[i][0] = 1 if nums1[i] == nums2[0] else 0\n",
    "            \n",
    "        for i in range(1, len(nums1)):\n",
    "            for j in range(1, len(nums2)):\n",
    "                dp[i][j] = dp[i - 1][j - 1] + 1 if nums1[i] == nums2[j] else 0\n",
    "\n",
    "        return max(max(row) for row in dp)"
   ]
  },
  {
   "cell_type": "code",
   "execution_count": 16,
   "id": "092b1925-5098-4b2f-a8b8-06079e095615",
   "metadata": {},
   "outputs": [
    {
     "data": {
      "text/plain": [
       "3"
      ]
     },
     "execution_count": 16,
     "metadata": {},
     "output_type": "execute_result"
    }
   ],
   "source": [
    "s = Solution()\n",
    "s.findLength([1,2,3,2,1], [3,2,1,4,7])"
   ]
  },
  {
   "cell_type": "code",
   "execution_count": 17,
   "id": "8739b7d6-4d10-457f-b206-4e2fef6e4034",
   "metadata": {},
   "outputs": [
    {
     "data": {
      "text/plain": [
       "5"
      ]
     },
     "execution_count": 17,
     "metadata": {},
     "output_type": "execute_result"
    }
   ],
   "source": [
    "s.findLength([0,0,0,0,0], [0,0,0,0,0])"
   ]
  },
  {
   "cell_type": "code",
   "execution_count": 18,
   "id": "2dd1624a-cf80-4115-bdd2-2489ed5a12a2",
   "metadata": {},
   "outputs": [],
   "source": [
    "class Solution(object):\n",
    "    def findLength(self, A, B):\n",
    "        P, MOD = 113, 10**9 + 7\n",
    "        Pinv = pow(P, MOD - 2, MOD)\n",
    "        def check(guess):\n",
    "            def rolling(A, length):\n",
    "                if length == 0:\n",
    "                    yield 0, 0\n",
    "                    return\n",
    "\n",
    "                h, power = 0, 1\n",
    "                for i, x in enumerate(A):\n",
    "                    h = (h + x * power) % MOD\n",
    "                    if i < length - 1:\n",
    "                        power = (power * P) % MOD\n",
    "                    else:\n",
    "                        yield h, i - (length - 1)\n",
    "                        h = (h - A[i - (length - 1)]) * Pinv % MOD\n",
    "\n",
    "            hashes = collections.defaultdict(list)\n",
    "            for ha, start in rolling(A, guess):\n",
    "                hashes[ha].append(start)\n",
    "            for ha, start in rolling(B, guess):\n",
    "                iarr = hashes.get(ha, [])\n",
    "                if any(A[i: i + guess] == B[start: start + guess] for i in iarr):\n",
    "                    return True\n",
    "            return False\n",
    "\n",
    "        lo, hi = 0, min(len(A), len(B)) + 1\n",
    "        while lo < hi:\n",
    "            mi = (lo + hi) // 2\n",
    "            if check(mi):\n",
    "                lo = mi + 1\n",
    "            else:\n",
    "                hi = mi\n",
    "        return lo - 1\n"
   ]
  },
  {
   "cell_type": "code",
   "execution_count": null,
   "id": "4ee504b2-b5cc-481f-9da8-60c86e26c0d1",
   "metadata": {},
   "outputs": [],
   "source": []
  }
 ],
 "metadata": {
  "kernelspec": {
   "display_name": "Python 3 (ipykernel)",
   "language": "python",
   "name": "python3"
  },
  "language_info": {
   "codemirror_mode": {
    "name": "ipython",
    "version": 3
   },
   "file_extension": ".py",
   "mimetype": "text/x-python",
   "name": "python",
   "nbconvert_exporter": "python",
   "pygments_lexer": "ipython3",
   "version": "3.9.12"
  }
 },
 "nbformat": 4,
 "nbformat_minor": 5
}
