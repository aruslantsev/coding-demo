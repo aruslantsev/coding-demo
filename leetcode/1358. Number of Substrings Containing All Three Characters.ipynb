{
 "cells": [
  {
   "cell_type": "markdown",
   "id": "9fada327-6b32-42a8-a4ef-f186154c20fd",
   "metadata": {},
   "source": [
    "Given a string s consisting only of characters a, b and c.\n",
    "\n",
    "Return the number of substrings containing at least one occurrence of all these characters a, b and c.\n",
    "\n",
    " \n",
    "\n",
    "Example 1:\n",
    "\n",
    "Input: s = \"abcabc\"\n",
    "Output: 10\n",
    "Explanation: The substrings containing at least one occurrence of the characters a, b and c are \"abc\", \"abca\", \"abcab\", \"abcabc\", \"bca\", \"bcab\", \"bcabc\", \"cab\", \"cabc\" and \"abc\" (again). \n",
    "\n",
    "Example 2:\n",
    "\n",
    "Input: s = \"aaacb\"\n",
    "Output: 3\n",
    "Explanation: The substrings containing at least one occurrence of the characters a, b and c are \"aaacb\", \"aacb\" and \"acb\". \n",
    "\n",
    "Example 3:\n",
    "\n",
    "Input: s = \"abc\"\n",
    "Output: 1\n",
    "\n",
    " \n",
    "\n",
    "Constraints:\n",
    "\n",
    "    3 <= s.length <= 5 x 10^4\n",
    "    s only consists of a, b or c characters.\n",
    "\n"
   ]
  },
  {
   "cell_type": "code",
   "execution_count": null,
   "id": "f52f2408-91c3-48f4-85ae-a3346c099057",
   "metadata": {},
   "outputs": [],
   "source": [
    "class Solution:\n",
    "    def numberOfSubstrings(self, s: str) -> int:\n",
    "        n = len(s)\n",
    "        p = [n] * n\n",
    "        ca = cb = cc = n\n",
    "        ans = 0\n",
    "        for i in range(n - 1, -1, -1):\n",
    "            if s[i] == \"a\": ca = i\n",
    "            if s[i] == \"b\": cb = i\n",
    "            if s[i] == \"c\": cc = i\n",
    "            p[i] = max(ca, cb, cc)\n",
    "        for i in range(n):\n",
    "            ans += n - p[i]\n",
    "        return ans"
   ]
  },
  {
   "cell_type": "code",
   "execution_count": null,
   "id": "79d9bd19-d6a4-4994-9822-31de628b8ea1",
   "metadata": {},
   "outputs": [],
   "source": [
    "class Solution:\n",
    "    def numberOfSubstrings(self, s: str) -> int:\n",
    "        n = len(s)\n",
    "        ca = cb = cc = n\n",
    "        ans = 0\n",
    "        for i in range(n - 1, -1, -1):\n",
    "            if s[i] == \"a\": ca = i\n",
    "            if s[i] == \"b\": cb = i\n",
    "            if s[i] == \"c\": cc = i\n",
    "            ans += n - max(ca, cb, cc)\n",
    "        return ans"
   ]
  }
 ],
 "metadata": {
  "kernelspec": {
   "display_name": "Python 3 (ipykernel)",
   "language": "python",
   "name": "python3"
  },
  "language_info": {
   "codemirror_mode": {
    "name": "ipython",
    "version": 3
   },
   "file_extension": ".py",
   "mimetype": "text/x-python",
   "name": "python",
   "nbconvert_exporter": "python",
   "pygments_lexer": "ipython3",
   "version": "3.12.7"
  }
 },
 "nbformat": 4,
 "nbformat_minor": 5
}
