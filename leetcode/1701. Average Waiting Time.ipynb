{
 "cells": [
  {
   "cell_type": "markdown",
   "id": "8779d7a5-b12c-4f38-9b17-7a33b4e1732f",
   "metadata": {},
   "source": [
    "There is a restaurant with a single chef. You are given an array customers, where customers[i] = [arrivali, timei]:\n",
    "\n",
    "    arrivali is the arrival time of the ith customer. The arrival times are sorted in non-decreasing order.\n",
    "    timei is the time needed to prepare the order of the ith customer.\n",
    "\n",
    "When a customer arrives, he gives the chef his order, and the chef starts preparing it once he is idle. The customer waits till the chef finishes preparing his order. The chef does not prepare food for more than one customer at a time. The chef prepares food for customers in the order they were given in the input.\n",
    "\n",
    "Return the average waiting time of all customers. Solutions within 10-5 from the actual answer are considered accepted.\n",
    "\n",
    " \n",
    "\n",
    "Example 1:\n",
    "\n",
    "Input: customers = [[1,2],[2,5],[4,3]]\n",
    "Output: 5.00000\n",
    "Explanation:\n",
    "1) The first customer arrives at time 1, the chef takes his order and starts preparing it immediately at time 1, and finishes at time 3, so the waiting time of the first customer is 3 - 1 = 2.\n",
    "2) The second customer arrives at time 2, the chef takes his order and starts preparing it at time 3, and finishes at time 8, so the waiting time of the second customer is 8 - 2 = 6.\n",
    "3) The third customer arrives at time 4, the chef takes his order and starts preparing it at time 8, and finishes at time 11, so the waiting time of the third customer is 11 - 4 = 7.\n",
    "So the average waiting time = (2 + 6 + 7) / 3 = 5.\n",
    "\n",
    "Example 2:\n",
    "\n",
    "Input: customers = [[5,2],[5,4],[10,3],[20,1]]\n",
    "Output: 3.25000\n",
    "Explanation:\n",
    "1) The first customer arrives at time 5, the chef takes his order and starts preparing it immediately at time 5, and finishes at time 7, so the waiting time of the first customer is 7 - 5 = 2.\n",
    "2) The second customer arrives at time 5, the chef takes his order and starts preparing it at time 7, and finishes at time 11, so the waiting time of the second customer is 11 - 5 = 6.\n",
    "3) The third customer arrives at time 10, the chef takes his order and starts preparing it at time 11, and finishes at time 14, so the waiting time of the third customer is 14 - 10 = 4.\n",
    "4) The fourth customer arrives at time 20, the chef takes his order and starts preparing it immediately at time 20, and finishes at time 21, so the waiting time of the fourth customer is 21 - 20 = 1.\n",
    "So the average waiting time = (2 + 6 + 4 + 1) / 4 = 3.25.\n",
    "\n",
    " \n",
    "\n",
    "Constraints:\n",
    "\n",
    "    1 <= customers.length <= 105\n",
    "    1 <= arrivali, timei <= 104\n",
    "    arrivali <= arrivali+1\n",
    "\n"
   ]
  },
  {
   "cell_type": "code",
   "execution_count": null,
   "id": "fd757114-2419-43e1-8b19-5fabc1008d36",
   "metadata": {},
   "outputs": [],
   "source": [
    "class Solution:\n",
    "    def averageWaitingTime(self, customers: List[List[int]]) -> float:\n",
    "        waiting = 0\n",
    "        can_start = 0\n",
    "        for start, time in customers:\n",
    "            can_start = max(can_start, start) + time\n",
    "            waiting += (can_start - start)\n",
    "        return waiting / len(customers)"
   ]
  }
 ],
 "metadata": {
  "kernelspec": {
   "display_name": "Python 3 (ipykernel)",
   "language": "python",
   "name": "python3"
  },
  "language_info": {
   "codemirror_mode": {
    "name": "ipython",
    "version": 3
   },
   "file_extension": ".py",
   "mimetype": "text/x-python",
   "name": "python",
   "nbconvert_exporter": "python",
   "pygments_lexer": "ipython3",
   "version": "3.12.3"
  }
 },
 "nbformat": 4,
 "nbformat_minor": 5
}
