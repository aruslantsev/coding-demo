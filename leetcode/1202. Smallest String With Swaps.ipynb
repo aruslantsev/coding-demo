{
 "cells": [
  {
   "cell_type": "markdown",
   "id": "f06297b7-686f-48d3-a7cf-50d4fe40a0a3",
   "metadata": {},
   "source": [
    "You are given a string s, and an array of pairs of indices in the string pairs where pairs[i] = [a, b] indicates 2 indices(0-indexed) of the string.\n",
    "\n",
    "You can swap the characters at any pair of indices in the given pairs any number of times.\n",
    "\n",
    "Return the lexicographically smallest string that s can be changed to after using the swaps.\n",
    "\n",
    " \n",
    "\n",
    "Example 1:\n",
    "\n",
    "Input: s = \"dcab\", pairs = [[0,3],[1,2]]\n",
    "Output: \"bacd\"\n",
    "Explaination: \n",
    "Swap s[0] and s[3], s = \"bcad\"\n",
    "Swap s[1] and s[2], s = \"bacd\"\n",
    "\n",
    "Example 2:\n",
    "\n",
    "Input: s = \"dcab\", pairs = [[0,3],[1,2],[0,2]]\n",
    "Output: \"abcd\"\n",
    "Explaination: \n",
    "Swap s[0] and s[3], s = \"bcad\"\n",
    "Swap s[0] and s[2], s = \"acbd\"\n",
    "Swap s[1] and s[2], s = \"abcd\"\n",
    "\n",
    "Example 3:\n",
    "\n",
    "Input: s = \"cba\", pairs = [[0,1],[1,2]]\n",
    "Output: \"abc\"\n",
    "Explaination: \n",
    "Swap s[0] and s[1], s = \"bca\"\n",
    "Swap s[1] and s[2], s = \"bac\"\n",
    "Swap s[0] and s[1], s = \"abc\"\n",
    "\n",
    " \n",
    "\n",
    "Constraints:\n",
    "\n",
    "    1 <= s.length <= 10^5\n",
    "    0 <= pairs.length <= 10^5\n",
    "    0 <= pairs[i][0], pairs[i][1] < s.length\n",
    "    s only contains lower case English letters.\n",
    "\n"
   ]
  },
  {
   "cell_type": "code",
   "execution_count": 111,
   "id": "ff0895d8-4a49-45a4-8b64-5d7287ef30b1",
   "metadata": {},
   "outputs": [],
   "source": [
    "from typing import List \n",
    "\n",
    "\n",
    "class Solution:\n",
    "    def smallestStringWithSwaps(self, s: str, pairs: List[List[int]]) -> str:\n",
    "        if len(pairs) == 0:\n",
    "            return s\n",
    "        \n",
    "        groups = []\n",
    "        for pair in sorted(pairs):\n",
    "            processed = False\n",
    "            for group in groups:\n",
    "                if (pair[0] in group) or (pair[1] in group):\n",
    "                    group.add(pair[0])\n",
    "                    group.add(pair[1])\n",
    "                    processed = True\n",
    "                    break\n",
    "            if not processed:\n",
    "                groups.append(set(pair))\n",
    "\n",
    "        for i in range(len(s)):\n",
    "            if not any([i in group for group in groups]):\n",
    "                groups.append(set([i]))\n",
    "        \n",
    "        l = len(groups)\n",
    "        prev_l = None\n",
    "        while l != prev_l:\n",
    "            prev_groups = groups\n",
    "            groups = []\n",
    "            for group in prev_groups:\n",
    "                processed = False\n",
    "                for i, new_group in enumerate(groups):\n",
    "                    if new_group.intersection(group):\n",
    "                        groups[i] = new_group.union(group)\n",
    "                        processed = True\n",
    "                        break\n",
    "                if not processed:\n",
    "                    groups.append(group)\n",
    "            prev_l = l\n",
    "            l = len(groups)\n",
    "\n",
    "        letters = [[] for _ in groups]\n",
    "        for i, group in enumerate(groups):\n",
    "            for num in group:\n",
    "                letters[i].append(s[num])\n",
    "            groups[i] = sorted(groups[i])\n",
    "            letters[i] = sorted(letters[i])\n",
    "\n",
    "        result = []\n",
    "        while any(groups):\n",
    "            min_val = min(g[0] for g in groups if g)\n",
    "            for i, g in enumerate(groups):\n",
    "                if g and g[0] == min_val:\n",
    "                    g.pop(0)\n",
    "                    result.append(letters[i].pop(0))\n",
    "                    \n",
    "        return ''.join(result)"
   ]
  },
  {
   "cell_type": "code",
   "execution_count": 128,
   "id": "e0bca640-7ffa-4d48-9945-871d6b92dcea",
   "metadata": {},
   "outputs": [],
   "source": [
    "from typing import List\n",
    "from collections import defaultdict\n",
    "\n",
    "class Solution:\n",
    "    def union(self, a, b):\n",
    "        self.parent[self.find(a)] = self.find(b)\n",
    "\n",
    "    def find(self, a):\n",
    "        if self.parent[a] != a:\n",
    "            self.parent[a] = self.find(self.parent[a])\n",
    "\n",
    "        return self.parent[a]\n",
    "        \n",
    "    def smallestStringWithSwaps(self, s: str, pairs: List[List[int]]) -> str:\n",
    "        # 1. Union-Find\n",
    "        self.parent = list(range(len(s)))\n",
    "        for a, b in pairs:\n",
    "            self.union(a, b)\n",
    "\n",
    "        # 2. Grouping\n",
    "        group = defaultdict(lambda: ([], []))  \n",
    "        for i, ch in enumerate(s):\n",
    "            parent = self.find(i)\n",
    "            \n",
    "            group[parent][0].append(i)\n",
    "            group[parent][1].append(ch)\n",
    "\n",
    "        # 3. Sorting\n",
    "        res = [''] * len(s)\n",
    "        for ids, chars in group.values():\n",
    "            ids.sort()\n",
    "            chars.sort()\n",
    "            for ch, i in zip(chars, ids):\n",
    "                res[i] = ch\n",
    "                \n",
    "        return ''.join(res)"
   ]
  },
  {
   "cell_type": "code",
   "execution_count": 129,
   "id": "04469e1e-0acc-4fe9-b553-e796afbbc178",
   "metadata": {},
   "outputs": [
    {
     "name": "stdout",
     "output_type": "stream",
     "text": [
      "defaultdict(<function Solution.smallestStringWithSwaps.<locals>.<lambda> at 0x7ff7a9804310>, {})\n"
     ]
    },
    {
     "data": {
      "text/plain": [
       "'bacd'"
      ]
     },
     "execution_count": 129,
     "metadata": {},
     "output_type": "execute_result"
    }
   ],
   "source": [
    "s = Solution()\n",
    "s.smallestStringWithSwaps(s = \"dcab\", pairs = [[0,3],[1,2]])"
   ]
  },
  {
   "cell_type": "code",
   "execution_count": 123,
   "id": "576a0a75-1b78-42e3-8b2c-1ad9b0ee5079",
   "metadata": {},
   "outputs": [
    {
     "data": {
      "text/plain": [
       "'abcd'"
      ]
     },
     "execution_count": 123,
     "metadata": {},
     "output_type": "execute_result"
    }
   ],
   "source": [
    "s.smallestStringWithSwaps(s = \"dcab\", pairs = [[0,3],[1,2],[0,2]])"
   ]
  },
  {
   "cell_type": "code",
   "execution_count": 124,
   "id": "373a4415-c27c-4036-800b-f0d619824bdc",
   "metadata": {},
   "outputs": [
    {
     "data": {
      "text/plain": [
       "'abc'"
      ]
     },
     "execution_count": 124,
     "metadata": {},
     "output_type": "execute_result"
    }
   ],
   "source": [
    "s.smallestStringWithSwaps(s = \"cba\", pairs = [[0,1],[1,2]])"
   ]
  },
  {
   "cell_type": "code",
   "execution_count": 125,
   "id": "2247993f-2092-4e11-9c30-af35cfba7d75",
   "metadata": {},
   "outputs": [
    {
     "data": {
      "text/plain": [
       "'deykuy'"
      ]
     },
     "execution_count": 125,
     "metadata": {},
     "output_type": "execute_result"
    }
   ],
   "source": [
    "s.smallestStringWithSwaps(\"udyyek\", [[3,3],[3,0],[5,1],[3,1],[3,4],[3,5]])"
   ]
  },
  {
   "cell_type": "code",
   "execution_count": 116,
   "id": "251d7527-afe5-49a4-b28b-ba9ac5b04914",
   "metadata": {},
   "outputs": [
    {
     "data": {
      "text/plain": [
       "'lpqqmwm'"
      ]
     },
     "execution_count": 116,
     "metadata": {},
     "output_type": "execute_result"
    }
   ],
   "source": [
    "s.smallestStringWithSwaps(\"pwqlmqm\", [[5,3],[3,0],[5,1],[1,1],[1,5],[3,0],[0,2]])"
   ]
  },
  {
   "cell_type": "code",
   "execution_count": null,
   "id": "9969f7d6-ac08-4340-932c-957369ec3cc8",
   "metadata": {},
   "outputs": [],
   "source": []
  }
 ],
 "metadata": {
  "kernelspec": {
   "display_name": "Python 3 (ipykernel)",
   "language": "python",
   "name": "python3"
  },
  "language_info": {
   "codemirror_mode": {
    "name": "ipython",
    "version": 3
   },
   "file_extension": ".py",
   "mimetype": "text/x-python",
   "name": "python",
   "nbconvert_exporter": "python",
   "pygments_lexer": "ipython3",
   "version": "3.9.10"
  }
 },
 "nbformat": 4,
 "nbformat_minor": 5
}
