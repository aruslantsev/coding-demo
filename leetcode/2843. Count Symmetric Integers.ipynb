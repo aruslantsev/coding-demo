{
 "cells": [
  {
   "cell_type": "markdown",
   "id": "c35437e1-ec45-4d7d-b207-56e973bec6e3",
   "metadata": {},
   "source": [
    "You are given two positive integers low and high.\n",
    "\n",
    "An integer x consisting of 2 * n digits is symmetric if the sum of the first n digits of x is equal to the sum of the last n digits of x. Numbers with an odd number of digits are never symmetric.\n",
    "\n",
    "Return the number of symmetric integers in the range [low, high].\n",
    "\n",
    " \n",
    "\n",
    "Example 1:\n",
    "\n",
    "Input: low = 1, high = 100\n",
    "Output: 9\n",
    "Explanation: There are 9 symmetric integers between 1 and 100: 11, 22, 33, 44, 55, 66, 77, 88, and 99.\n",
    "\n",
    "Example 2:\n",
    "\n",
    "Input: low = 1200, high = 1230\n",
    "Output: 4\n",
    "Explanation: There are 4 symmetric integers between 1200 and 1230: 1203, 1212, 1221, and 1230.\n",
    "\n",
    " \n",
    "\n",
    "Constraints:\n",
    "\n",
    "    1 <= low <= high <= 104\n",
    "\n"
   ]
  },
  {
   "cell_type": "code",
   "execution_count": null,
   "id": "d42e18a1-558e-4b4b-8f6a-2e02ce798106",
   "metadata": {},
   "outputs": [],
   "source": [
    "class Solution:\n",
    "    def countSymmetricIntegers(self, low: int, high: int) -> int:\n",
    "        ans = 0\n",
    "        for num in range(low, high + 1):\n",
    "            snum = str(num)\n",
    "            if len(snum) % 2 == 0:\n",
    "                mid = len(snum) // 2\n",
    "                if sum(int(d) for d in snum[:mid]) == sum(int(d) for d in snum[mid:]):\n",
    "                    ans += 1\n",
    "        return ans"
   ]
  },
  {
   "cell_type": "code",
   "execution_count": null,
   "id": "68d2b3d3-fca5-4a3b-aa90-110f50d4748a",
   "metadata": {},
   "outputs": [],
   "source": [
    "class Solution:\n",
    "    def countSymmetricIntegers(self, low: int, high: int) -> int:\n",
    "        res = 0\n",
    "        for a in range(low, high + 1):\n",
    "            if a < 100 and a % 11 == 0:\n",
    "                res += 1\n",
    "            if 1000 <= a < 10000:\n",
    "                left = a // 1000 + a % 1000 // 100\n",
    "                right = a % 100 // 10 + a % 10\n",
    "                if left == right:\n",
    "                    res += 1\n",
    "        return res"
   ]
  }
 ],
 "metadata": {
  "kernelspec": {
   "display_name": "Python 3 (ipykernel)",
   "language": "python",
   "name": "python3"
  },
  "language_info": {
   "codemirror_mode": {
    "name": "ipython",
    "version": 3
   },
   "file_extension": ".py",
   "mimetype": "text/x-python",
   "name": "python",
   "nbconvert_exporter": "python",
   "pygments_lexer": "ipython3",
   "version": "3.12.9"
  }
 },
 "nbformat": 4,
 "nbformat_minor": 5
}
