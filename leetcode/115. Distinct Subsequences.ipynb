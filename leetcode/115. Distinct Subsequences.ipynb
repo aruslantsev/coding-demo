{
 "cells": [
  {
   "cell_type": "markdown",
   "id": "c262189f-f22e-4e10-9cf5-cac366025877",
   "metadata": {},
   "source": [
    "Given two strings s and t, return the number of distinct \n",
    "subsequences\n",
    " of s which equals t.\n",
    "\n",
    "The test cases are generated so that the answer fits on a 32-bit signed integer.\n",
    "\n",
    " \n",
    "\n",
    "Example 1:\n",
    "\n",
    "Input: s = \"rabbbit\", t = \"rabbit\"\n",
    "Output: 3\n",
    "Explanation:\n",
    "As shown below, there are 3 ways you can generate \"rabbit\" from s.\n",
    "rabbbit\n",
    "rabbbit\n",
    "rabbbit\n",
    "Example 2:\n",
    "\n",
    "Input: s = \"babgbag\", t = \"bag\"\n",
    "Output: 5\n",
    "Explanation:\n",
    "As shown below, there are 5 ways you can generate \"bag\" from s.\n",
    "babgbag\n",
    "babgbag\n",
    "babgbag\n",
    "babgbag\n",
    "babgbag\n",
    " \n",
    "\n",
    "Constraints:\n",
    "\n",
    "1 <= s.length, t.length <= 1000\n",
    "s and t consist of English letters."
   ]
  },
  {
   "cell_type": "code",
   "execution_count": 1,
   "id": "2df7e452-e4d6-423f-a848-7a82aed99bd6",
   "metadata": {},
   "outputs": [],
   "source": [
    "class Solution:\n",
    "    def numDistinct(self, s: str, t: str) -> int:\n",
    "        @cache\n",
    "        def check(s, t):\n",
    "            s = ''.join([sym for sym in s if sym in t])\n",
    "            if len(set(s)) != len(set(t)):\n",
    "                return 0\n",
    "            if s == t:\n",
    "                return 1\n",
    "            if len(s) == 0 or len(s) < len(t):\n",
    "                return 0\n",
    "            if len(t) == 1:\n",
    "                return len([sym for sym in s if sym == t])\n",
    "\n",
    "            ans = 0\n",
    "            for i in range(len(s)):\n",
    "                if s[i] == t[0]:\n",
    "                    ans += check(s[i + 1:], t[1:])\n",
    "            return ans\n",
    "\n",
    "        return check(s, t)"
   ]
  },
  {
   "cell_type": "code",
   "execution_count": 2,
   "id": "adbf00bb-a4f2-4a42-bfd1-191872057203",
   "metadata": {},
   "outputs": [],
   "source": [
    "s = Solution()"
   ]
  },
  {
   "cell_type": "code",
   "execution_count": null,
   "id": "74f929e8-8be9-4b25-ab0f-3fb8229de681",
   "metadata": {},
   "outputs": [],
   "source": [
    "s.numDistinct(\"rabbbit\", \"rabbit\")"
   ]
  }
 ],
 "metadata": {
  "kernelspec": {
   "display_name": "Python 3",
   "language": "python",
   "name": "python3"
  },
  "language_info": {
   "codemirror_mode": {
    "name": "ipython",
    "version": 3
   },
   "file_extension": ".py",
   "mimetype": "text/x-python",
   "name": "python",
   "nbconvert_exporter": "python",
   "pygments_lexer": "ipython3",
   "version": "3.9.12"
  }
 },
 "nbformat": 4,
 "nbformat_minor": 5
}
