{
 "cells": [
  {
   "cell_type": "markdown",
   "id": "4fcd9007-477a-4c8e-9bb6-f1e5af10c517",
   "metadata": {},
   "source": [
    "Given an array of integers citations where citations[i] is the number of citations a researcher received for their ith paper and citations is sorted in an ascending order, return compute the researcher's h-index.\n",
    "\n",
    "According to the definition of h-index on Wikipedia: A scientist has an index h if h of their n papers have at least h citations each, and the other n − h papers have no more than h citations each.\n",
    "\n",
    "If there are several possible values for h, the maximum one is taken as the h-index.\n",
    "\n",
    "You must write an algorithm that runs in logarithmic time.\n",
    "\n",
    " \n",
    "\n",
    "Example 1:\n",
    "\n",
    "Input: citations = [0,1,3,5,6]\n",
    "Output: 3\n",
    "Explanation: [0,1,3,5,6] means the researcher has 5 papers in total and each of them had received 0, 1, 3, 5, 6 citations respectively.\n",
    "Since the researcher has 3 papers with at least 3 citations each and the remaining two with no more than 3 citations each, their h-index is 3.\n",
    "\n",
    "Example 2:\n",
    "\n",
    "Input: citations = [1,2,100]\n",
    "Output: 2\n",
    "\n",
    " \n",
    "\n",
    "Constraints:\n",
    "\n",
    "    n == citations.length\n",
    "    1 <= n <= 105\n",
    "    0 <= citations[i] <= 1000\n",
    "    citations is sorted in ascending order.\n",
    "\n"
   ]
  },
  {
   "cell_type": "code",
   "execution_count": null,
   "id": "bf77725f-fd52-4319-a738-ed69c5321dd4",
   "metadata": {},
   "outputs": [],
   "source": [
    "class Solution:\n",
    "    def hIndex(self, citations: List[int]) -> int:\n",
    "        for i, val in enumerate(citations[::-1]):\n",
    "            if val < i + 1:\n",
    "                return i\n",
    "        return len(citations)"
   ]
  },
  {
   "cell_type": "code",
   "execution_count": 25,
   "id": "da7c8c24-23d6-4ac5-b0ad-fe202d0393d9",
   "metadata": {},
   "outputs": [],
   "source": [
    "from typing import List\n",
    "\n",
    "class Solution:\n",
    "    def hIndex(self, citations: List[int]) -> int:\n",
    "        citations = citations[::-1]\n",
    "        l = 0\n",
    "        r = len(citations) - 1\n",
    "        while r - l > 1:\n",
    "            m = (r + l) // 2\n",
    "            if citations[m] >= m - 1:\n",
    "                l = m\n",
    "            else:\n",
    "                r = m\n",
    "                \n",
    "        if citations[l] >= m - 1:\n",
    "            return l + 1\n",
    "        return r + 1"
   ]
  },
  {
   "cell_type": "code",
   "execution_count": 26,
   "id": "1da62266-4b26-4043-8e3f-43749d7dac80",
   "metadata": {},
   "outputs": [
    {
     "name": "stdout",
     "output_type": "stream",
     "text": [
      "[6, 5, 3, 1, 0]\n",
      "2 3\n",
      "3 1\n"
     ]
    },
    {
     "data": {
      "text/plain": [
       "3"
      ]
     },
     "execution_count": 26,
     "metadata": {},
     "output_type": "execute_result"
    }
   ],
   "source": [
    "s = Solution()\n",
    "s.hIndex([0,1,3,5,6])"
   ]
  },
  {
   "cell_type": "code",
   "execution_count": 27,
   "id": "ee14079f-caf9-419e-a0d0-376959fb0502",
   "metadata": {},
   "outputs": [
    {
     "name": "stdout",
     "output_type": "stream",
     "text": [
      "[100, 2, 1]\n",
      "1 2\n"
     ]
    },
    {
     "data": {
      "text/plain": [
       "2"
      ]
     },
     "execution_count": 27,
     "metadata": {},
     "output_type": "execute_result"
    }
   ],
   "source": [
    "s.hIndex([1, 2, 100])"
   ]
  },
  {
   "cell_type": "code",
   "execution_count": null,
   "id": "ef1b1e90-6f5e-4aed-91f2-ab6a04bfb746",
   "metadata": {},
   "outputs": [],
   "source": []
  }
 ],
 "metadata": {
  "kernelspec": {
   "display_name": "Python 3 (ipykernel)",
   "language": "python",
   "name": "python3"
  },
  "language_info": {
   "codemirror_mode": {
    "name": "ipython",
    "version": 3
   },
   "file_extension": ".py",
   "mimetype": "text/x-python",
   "name": "python",
   "nbconvert_exporter": "python",
   "pygments_lexer": "ipython3",
   "version": "3.9.10"
  }
 },
 "nbformat": 4,
 "nbformat_minor": 5
}
