{
 "cells": [
  {
   "cell_type": "markdown",
   "id": "c51f04e1-2df4-40ac-a6ff-d5dc6ef3da2e",
   "metadata": {},
   "source": [
    "Given an unsorted array of integers nums, return the length of the longest consecutive elements sequence.\n",
    "\n",
    "You must write an algorithm that runs in O(n) time.\n",
    "\n",
    " \n",
    "\n",
    "Example 1:\n",
    "\n",
    "Input: nums = [100,4,200,1,3,2]\n",
    "Output: 4\n",
    "Explanation: The longest consecutive elements sequence is [1, 2, 3, 4]. Therefore its length is 4.\n",
    "\n",
    "Example 2:\n",
    "\n",
    "Input: nums = [0,3,7,2,5,8,4,6,0,1]\n",
    "Output: 9\n",
    "\n",
    " \n",
    "\n",
    "Constraints:\n",
    "\n",
    "    0 <= nums.length <= 105\n",
    "    -109 <= nums[i] <= 109\n",
    "\n"
   ]
  },
  {
   "cell_type": "code",
   "execution_count": 14,
   "id": "ce39e590-eb37-4c2c-959a-32c10c4fee1a",
   "metadata": {},
   "outputs": [],
   "source": [
    "from typing import List\n",
    "\n",
    "class Solution:\n",
    "    def longestConsecutive(self, nums: List[int]) -> int:\n",
    "        if not nums:\n",
    "            return 0\n",
    "        \n",
    "        nums = sorted(nums)\n",
    "        \n",
    "        prev = nums[0] - 2\n",
    "        maxlen = 1\n",
    "        len = 1\n",
    "        \n",
    "        for num in nums:\n",
    "            if num - prev == 1:\n",
    "                len += 1\n",
    "            elif num - prev > 1:\n",
    "                if len > maxlen:\n",
    "                    maxlen = len\n",
    "                len = 1\n",
    "            prev = num\n",
    "        if len > maxlen:\n",
    "                maxlen = len\n",
    "            \n",
    "        return maxlen"
   ]
  },
  {
   "cell_type": "code",
   "execution_count": 18,
   "id": "5ed73eb4-ab07-4c18-9bd2-a6aa78cbf45c",
   "metadata": {},
   "outputs": [],
   "source": [
    "class Solution:\n",
    "    def longestConsecutive(self, nums):\n",
    "        longest_streak = 0\n",
    "        num_set = set(nums)\n",
    "\n",
    "        for num in num_set:\n",
    "            if num - 1 not in num_set:\n",
    "                current_num = num\n",
    "                current_streak = 1\n",
    "\n",
    "                while current_num + 1 in num_set:\n",
    "                    current_num += 1\n",
    "                    current_streak += 1\n",
    "\n",
    "                longest_streak = max(longest_streak, current_streak)\n",
    "\n",
    "        return longest_streak"
   ]
  },
  {
   "cell_type": "code",
   "execution_count": 22,
   "id": "440d08c1-4659-4e0a-9ec7-dc33153a5e96",
   "metadata": {},
   "outputs": [
    {
     "data": {
      "text/plain": [
       "4"
      ]
     },
     "execution_count": 22,
     "metadata": {},
     "output_type": "execute_result"
    }
   ],
   "source": [
    "s = Solution()\n",
    "s.longestConsecutive([100,4,200,1,3,2])"
   ]
  },
  {
   "cell_type": "code",
   "execution_count": 23,
   "id": "64d04e3f-b43b-4f23-a5b1-b94ea27c06ee",
   "metadata": {},
   "outputs": [
    {
     "data": {
      "text/plain": [
       "9"
      ]
     },
     "execution_count": 23,
     "metadata": {},
     "output_type": "execute_result"
    }
   ],
   "source": [
    "s.longestConsecutive([0,3,7,2,5,8,4,6,0,1])"
   ]
  },
  {
   "cell_type": "code",
   "execution_count": 24,
   "id": "9a7a2709-7517-490e-bff2-471979bb9da5",
   "metadata": {},
   "outputs": [
    {
     "data": {
      "text/plain": [
       "3"
      ]
     },
     "execution_count": 24,
     "metadata": {},
     "output_type": "execute_result"
    }
   ],
   "source": [
    "s.longestConsecutive([1,2,0,1])"
   ]
  },
  {
   "cell_type": "code",
   "execution_count": null,
   "id": "74323d49-6edc-4f73-9b3f-7e06263bb7da",
   "metadata": {},
   "outputs": [],
   "source": []
  }
 ],
 "metadata": {
  "kernelspec": {
   "display_name": "Python 3 (ipykernel)",
   "language": "python",
   "name": "python3"
  },
  "language_info": {
   "codemirror_mode": {
    "name": "ipython",
    "version": 3
   },
   "file_extension": ".py",
   "mimetype": "text/x-python",
   "name": "python",
   "nbconvert_exporter": "python",
   "pygments_lexer": "ipython3",
   "version": "3.9.10"
  }
 },
 "nbformat": 4,
 "nbformat_minor": 5
}
