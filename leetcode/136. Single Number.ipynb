{
 "cells": [
  {
   "cell_type": "markdown",
   "id": "b04468d9",
   "metadata": {},
   "source": [
    "Given a non-empty array of integers nums, every element appears twice except for one. Find that single one.\n",
    "\n",
    "You must implement a solution with a linear runtime complexity and use only constant extra space.\n",
    "\n",
    " \n",
    "\n",
    "Example 1:\n",
    "\n",
    "Input: nums = [2,2,1]\n",
    "Output: 1\n",
    "Example 2:\n",
    "\n",
    "Input: nums = [4,1,2,1,2]\n",
    "Output: 4\n",
    "Example 3:\n",
    "\n",
    "Input: nums = [1]\n",
    "Output: 1\n",
    " \n",
    "\n",
    "Constraints:\n",
    "\n",
    "1 <= nums.length <= 3 * 104\n",
    "-3 * 104 <= nums[i] <= 3 * 104\n",
    "Each element in the array appears twice except for one element which appears only once."
   ]
  },
  {
   "cell_type": "code",
   "execution_count": 4,
   "id": "992cbccf",
   "metadata": {},
   "outputs": [],
   "source": [
    "from typing import List\n",
    "from functools import reduce\n",
    "\n",
    "class Solution:\n",
    "    def singleNumber(self, nums: List[int]) -> int:\n",
    "        return reduce(lambda total, el: total ^ el, nums)"
   ]
  },
  {
   "cell_type": "code",
   "execution_count": 5,
   "id": "43af6666",
   "metadata": {},
   "outputs": [
    {
     "data": {
      "text/plain": [
       "1"
      ]
     },
     "execution_count": 5,
     "metadata": {},
     "output_type": "execute_result"
    }
   ],
   "source": [
    "s = Solution()\n",
    "s.singleNumber([2, 2, 1])"
   ]
  },
  {
   "cell_type": "code",
   "execution_count": null,
   "id": "e38dd194",
   "metadata": {},
   "outputs": [],
   "source": []
  }
 ],
 "metadata": {
  "kernelspec": {
   "display_name": "Python 3 (ipykernel)",
   "language": "python",
   "name": "python3"
  },
  "language_info": {
   "codemirror_mode": {
    "name": "ipython",
    "version": 3
   },
   "file_extension": ".py",
   "mimetype": "text/x-python",
   "name": "python",
   "nbconvert_exporter": "python",
   "pygments_lexer": "ipython3",
   "version": "3.9.10"
  }
 },
 "nbformat": 4,
 "nbformat_minor": 5
}
