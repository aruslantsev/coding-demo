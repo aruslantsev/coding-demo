{
 "cells": [
  {
   "attachments": {
    "02dde8f6-6935-44fb-81c5-0e53ee94cbe9.png": {
     "image/png": "[encoded data removed]"
    },
    "4dd6c62a-7862-4838-823c-0f8d28644676.png": {
     "image/png": "[encoded data removed]"
    }
   },
   "cell_type": "markdown",
   "id": "1fff3f08-785b-4dca-8cfc-fae125ff79ae",
   "metadata": {},
   "source": [
    "You are given a rectangular cake of size h x w and two arrays of integers horizontalCuts and verticalCuts where:\n",
    "\n",
    "    horizontalCuts[i] is the distance from the top of the rectangular cake to the ith horizontal cut and similarly, and\n",
    "    verticalCuts[j] is the distance from the left of the rectangular cake to the jth vertical cut.\n",
    "\n",
    "Return the maximum area of a piece of cake after you cut at each horizontal and vertical position provided in the arrays horizontalCuts and verticalCuts. Since the answer can be a large number, return this modulo 109 + 7.\n",
    "\n",
    " \n",
    "\n",
    "Example 1:\n",
    "\n",
    "![изображение.png](attachment:02dde8f6-6935-44fb-81c5-0e53ee94cbe9.png)\n",
    "\n",
    "Input: h = 5, w = 4, horizontalCuts = [1,2,4], verticalCuts = [1,3]\n",
    "Output: 4 \n",
    "Explanation: The figure above represents the given rectangular cake. Red lines are the horizontal and vertical cuts. After you cut the cake, the green piece of cake has the maximum area.\n",
    "\n",
    "Example 2:\n",
    "\n",
    "![изображение.png](attachment:4dd6c62a-7862-4838-823c-0f8d28644676.png)\n",
    "\n",
    "Input: h = 5, w = 4, horizontalCuts = [3,1], verticalCuts = [1]\n",
    "Output: 6\n",
    "Explanation: The figure above represents the given rectangular cake. Red lines are the horizontal and vertical cuts. After you cut the cake, the green and yellow pieces of cake have the maximum area.\n",
    "\n",
    "Example 3:\n",
    "\n",
    "Input: h = 5, w = 4, horizontalCuts = [3], verticalCuts = [3]\n",
    "Output: 9\n",
    "\n",
    " \n",
    "\n",
    "Constraints:\n",
    "\n",
    "    2 <= h, w <= 109\n",
    "    1 <= horizontalCuts.length <= min(h - 1, 105)\n",
    "    1 <= verticalCuts.length <= min(w - 1, 105)\n",
    "    1 <= horizontalCuts[i] < h\n",
    "    1 <= verticalCuts[i] < w\n",
    "    All the elements in horizontalCuts are distinct.\n",
    "    All the elements in verticalCuts are distinct.\n",
    "\n"
   ]
  },
  {
   "cell_type": "code",
   "execution_count": null,
   "id": "504a8560-1c7a-442e-bb2f-8346eb2acf26",
   "metadata": {},
   "outputs": [],
   "source": [
    "from typing import List\n",
    "\n",
    "class Solution:\n",
    "    def maxArea(self, h: int, w: int, horizontalCuts: List[int], verticalCuts: List[int]) -> int:\n",
    "        horizontalCuts = sorted(horizontalCuts + [0, h])\n",
    "        verticalCuts = sorted(verticalCuts + [0, w])\n",
    "        hdiff = 0\n",
    "        vdiff = 0\n",
    "        for i in range(1, len(horizontalCuts)):\n",
    "            hdiff = max(hdiff, horizontalCuts[i] - horizontalCuts[i - 1])\n",
    "        for i in range(1, len(verticalCuts)):\n",
    "            vdiff = max(vdiff, verticalCuts[i] - verticalCuts[i - 1])\n",
    "            \n",
    "        return hdiff * vdiff % (10**9 + 7)"
   ]
  }
 ],
 "metadata": {
  "kernelspec": {
   "display_name": "Python 3 (ipykernel)",
   "language": "python",
   "name": "python3"
  },
  "language_info": {
   "codemirror_mode": {
    "name": "ipython",
    "version": 3
   },
   "file_extension": ".py",
   "mimetype": "text/x-python",
   "name": "python",
   "nbconvert_exporter": "python",
   "pygments_lexer": "ipython3",
   "version": "3.9.12"
  }
 },
 "nbformat": 4,
 "nbformat_minor": 5
}
