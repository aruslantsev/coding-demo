{
 "cells": [
  {
   "cell_type": "markdown",
   "id": "fdc7ca0c-f581-41a4-a2d9-b90e0ce7d00c",
   "metadata": {},
   "source": [
    "A valid encoding of an array of words is any reference string s and array of indices indices such that:\n",
    "\n",
    "    words.length == indices.length\n",
    "    The reference string s ends with the '#' character.\n",
    "    For each index indices[i], the substring of s starting from indices[i] and up to (but not including) the next '#' character is equal to words[i].\n",
    "\n",
    "Given an array of words, return the length of the shortest reference string s possible of any valid encoding of words.\n",
    "\n",
    " \n",
    "\n",
    "Example 1:\n",
    "\n",
    "Input: words = [\"time\", \"me\", \"bell\"]\n",
    "Output: 10\n",
    "Explanation: A valid encoding would be s = \"time#bell#\" and indices = [0, 2, 5].\n",
    "words[0] = \"time\", the substring of s starting from indices[0] = 0 to the next '#' is underlined in \"time#bell#\"\n",
    "words[1] = \"me\", the substring of s starting from indices[1] = 2 to the next '#' is underlined in \"time#bell#\"\n",
    "words[2] = \"bell\", the substring of s starting from indices[2] = 5 to the next '#' is underlined in \"time#bell#\"\n",
    "\n",
    "Example 2:\n",
    "\n",
    "Input: words = [\"t\"]\n",
    "Output: 2\n",
    "Explanation: A valid encoding would be s = \"t#\" and indices = [0].\n",
    "\n",
    " \n",
    "\n",
    "Constraints:\n",
    "\n",
    "    1 <= words.length <= 2000\n",
    "    1 <= words[i].length <= 7\n",
    "    words[i] consists of only lowercase letters.\n",
    "\n"
   ]
  },
  {
   "cell_type": "code",
   "execution_count": 9,
   "id": "7794bb98-bf52-4476-a2a4-47bfd02f44d7",
   "metadata": {},
   "outputs": [],
   "source": [
    "from typing import List\n",
    "\n",
    "class Solution:\n",
    "    def minimumLengthEncoding(self, words: List[str]) -> int:\n",
    "        strlen = 0\n",
    "        postfixes = set()\n",
    "        for word in sorted(words, key=len, reverse=True):\n",
    "            if word not in postfixes:\n",
    "                strlen += len(word) + 1\n",
    "                postfix = ''\n",
    "                for letter in word[::-1]:\n",
    "                    postfix += letter\n",
    "                    postfixes.add(postfix[::-1])\n",
    "        return strlen"
   ]
  },
  {
   "cell_type": "code",
   "execution_count": 10,
   "id": "eaec4a66-dd7d-43b3-8d4f-383e7197e559",
   "metadata": {},
   "outputs": [
    {
     "data": {
      "text/plain": [
       "10"
      ]
     },
     "execution_count": 10,
     "metadata": {},
     "output_type": "execute_result"
    }
   ],
   "source": [
    "s = Solution()\n",
    "s.minimumLengthEncoding([\"time\", \"me\", \"bell\"])"
   ]
  },
  {
   "cell_type": "code",
   "execution_count": 11,
   "id": "44f2c70b-06e3-4282-bfc2-b78fcf46be99",
   "metadata": {},
   "outputs": [
    {
     "data": {
      "text/plain": [
       "5"
      ]
     },
     "execution_count": 11,
     "metadata": {},
     "output_type": "execute_result"
    }
   ],
   "source": [
    "s.minimumLengthEncoding([\"me\",\"time\"])"
   ]
  },
  {
   "cell_type": "code",
   "execution_count": null,
   "id": "a537b749-bcba-4019-904f-a0800b51bd0e",
   "metadata": {},
   "outputs": [],
   "source": []
  }
 ],
 "metadata": {
  "kernelspec": {
   "display_name": "Python 3 (ipykernel)",
   "language": "python",
   "name": "python3"
  },
  "language_info": {
   "codemirror_mode": {
    "name": "ipython",
    "version": 3
   },
   "file_extension": ".py",
   "mimetype": "text/x-python",
   "name": "python",
   "nbconvert_exporter": "python",
   "pygments_lexer": "ipython3",
   "version": "3.9.10"
  }
 },
 "nbformat": 4,
 "nbformat_minor": 5
}
