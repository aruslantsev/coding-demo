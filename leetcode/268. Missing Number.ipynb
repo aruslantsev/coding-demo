{
 "cells": [
  {
   "cell_type": "markdown",
   "id": "16996655-fce8-41b4-9ee4-dc4624472d71",
   "metadata": {},
   "source": [
    "Given an array nums containing n distinct numbers in the range [0, n], return the only number in the range that is missing from the array.\n",
    "\n",
    " \n",
    "\n",
    "Example 1:\n",
    "\n",
    "Input: nums = [3,0,1]\n",
    "Output: 2\n",
    "Explanation: n = 3 since there are 3 numbers, so all numbers are in the range [0,3]. 2 is the missing number in the range since it does not appear in nums.\n",
    "\n",
    "Example 2:\n",
    "\n",
    "Input: nums = [0,1]\n",
    "Output: 2\n",
    "Explanation: n = 2 since there are 2 numbers, so all numbers are in the range [0,2]. 2 is the missing number in the range since it does not appear in nums.\n",
    "\n",
    "Example 3:\n",
    "\n",
    "Input: nums = [9,6,4,2,3,5,7,0,1]\n",
    "Output: 8\n",
    "Explanation: n = 9 since there are 9 numbers, so all numbers are in the range [0,9]. 8 is the missing number in the range since it does not appear in nums.\n",
    "\n",
    " \n",
    "\n",
    "Constraints:\n",
    "\n",
    "    n == nums.length\n",
    "    1 <= n <= 104\n",
    "    0 <= nums[i] <= n\n",
    "    All the numbers of nums are unique.\n",
    "\n",
    " \n",
    "\n",
    "Follow up: Could you implement a solution using only O(1) extra space complexity and O(n) runtime complexity?\n"
   ]
  },
  {
   "cell_type": "code",
   "execution_count": 2,
   "id": "11e47987-d9d3-4124-9d77-65cb69527f4a",
   "metadata": {},
   "outputs": [],
   "source": [
    "from typing import List\n",
    "\n",
    "class Solution:\n",
    "    def missingNumber(self, nums: List[int]) -> int:\n",
    "        nums = set(nums)\n",
    "        for i in range(len(nums) + 1):\n",
    "            if i not in nums:\n",
    "                return i"
   ]
  },
  {
   "cell_type": "code",
   "execution_count": 3,
   "id": "22859434-faf3-413f-b623-f43dd1f8db80",
   "metadata": {},
   "outputs": [],
   "source": [
    "class Solution:\n",
    "    def missingNumber(self, nums: List[int]) -> int:\n",
    "        return (len(nums)*(len(nums)+1)//2)-sum(nums)\n"
   ]
  },
  {
   "cell_type": "code",
   "execution_count": null,
   "id": "8b56f3b8-e407-4bca-88b0-601788337e9b",
   "metadata": {},
   "outputs": [],
   "source": [
    "class Solution:\n",
    "    def missingNumber(self, nums: List[int]) -> int:\n",
    "        return sum(range(len(nums) + 1)) - sum(nums)"
   ]
  }
 ],
 "metadata": {
  "kernelspec": {
   "display_name": "Python 3 (ipykernel)",
   "language": "python",
   "name": "python3"
  },
  "language_info": {
   "codemirror_mode": {
    "name": "ipython",
    "version": 3
   },
   "file_extension": ".py",
   "mimetype": "text/x-python",
   "name": "python",
   "nbconvert_exporter": "python",
   "pygments_lexer": "ipython3",
   "version": "3.9.10"
  }
 },
 "nbformat": 4,
 "nbformat_minor": 5
}
