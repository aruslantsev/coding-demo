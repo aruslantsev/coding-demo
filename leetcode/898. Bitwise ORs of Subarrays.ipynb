{
 "cells": [
  {
   "cell_type": "markdown",
   "id": "f1ac2d24-19fe-4b00-8f94-4546609ade40",
   "metadata": {},
   "source": [
    "Given an integer array arr, return the number of distinct bitwise ORs of all the non-empty subarrays of arr.\n",
    "\n",
    "The bitwise OR of a subarray is the bitwise OR of each integer in the subarray. The bitwise OR of a subarray of one integer is that integer.\n",
    "\n",
    "A subarray is a contiguous non-empty sequence of elements within an array.\n",
    "\n",
    " \n",
    "\n",
    "Example 1:\n",
    "\n",
    "Input: arr = [0]\n",
    "Output: 1\n",
    "Explanation: There is only one possible result: 0.\n",
    "\n",
    "Example 2:\n",
    "\n",
    "Input: arr = [1,1,2]\n",
    "Output: 3\n",
    "Explanation: The possible subarrays are [1], [1], [2], [1, 1], [1, 2], [1, 1, 2].\n",
    "These yield the results 1, 1, 2, 1, 3, 3.\n",
    "There are 3 unique values, so the answer is 3.\n",
    "\n",
    "Example 3:\n",
    "\n",
    "Input: arr = [1,2,4]\n",
    "Output: 6\n",
    "Explanation: The possible results are 1, 2, 3, 4, 6, and 7.\n",
    "\n",
    " \n",
    "\n",
    "Constraints:\n",
    "\n",
    "    1 <= arr.length <= 5 * 104\n",
    "    0 <= arr[i] <= 109\n",
    "\n"
   ]
  },
  {
   "cell_type": "code",
   "execution_count": null,
   "id": "010afcd4-5a0e-4b45-9cde-4253d4ad052b",
   "metadata": {},
   "outputs": [],
   "source": [
    "class Solution:\n",
    "    def subarrayBitwiseORs(self, arr: List[int]) -> int:\n",
    "        ans = set()\n",
    "        cur = {0}\n",
    "        for x in arr:\n",
    "            cur = {x | y for y in cur} | {x}\n",
    "            ans |= cur\n",
    "        return len(ans)"
   ]
  }
 ],
 "metadata": {
  "kernelspec": {
   "display_name": "Python 3 (ipykernel)",
   "language": "python",
   "name": "python3"
  },
  "language_info": {
   "codemirror_mode": {
    "name": "ipython",
    "version": 3
   },
   "file_extension": ".py",
   "mimetype": "text/x-python",
   "name": "python",
   "nbconvert_exporter": "python",
   "pygments_lexer": "ipython3",
   "version": "3.13.5"
  }
 },
 "nbformat": 4,
 "nbformat_minor": 5
}
