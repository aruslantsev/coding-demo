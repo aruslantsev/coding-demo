{
 "cells": [
  {
   "cell_type": "markdown",
   "id": "c0edd235-1067-421a-a5ae-1b1a3ebf15f6",
   "metadata": {},
   "source": [
    "You are given an array prices where prices[i] is the price of a given stock on the ith day, and an integer fee representing a transaction fee.\n",
    "\n",
    "Find the maximum profit you can achieve. You may complete as many transactions as you like, but you need to pay the transaction fee for each transaction.\n",
    "\n",
    "Note: You may not engage in multiple transactions simultaneously (i.e., you must sell the stock before you buy again).\n",
    "\n",
    " \n",
    "\n",
    "Example 1:\n",
    "\n",
    "Input: prices = [1,3,2,8,4,9], fee = 2\n",
    "Output: 8\n",
    "Explanation: The maximum profit can be achieved by:\n",
    "- Buying at prices[0] = 1\n",
    "- Selling at prices[3] = 8\n",
    "- Buying at prices[4] = 4\n",
    "- Selling at prices[5] = 9\n",
    "The total profit is ((8 - 1) - 2) + ((9 - 4) - 2) = 8.\n",
    "\n",
    "Example 2:\n",
    "\n",
    "Input: prices = [1,3,7,5,10,3], fee = 3\n",
    "Output: 6\n",
    "\n",
    " \n",
    "\n",
    "Constraints:\n",
    "\n",
    "    1 <= prices.length <= 5 * 104\n",
    "    1 <= prices[i] < 5 * 104\n",
    "    0 <= fee < 5 * 104\n",
    "\n"
   ]
  },
  {
   "cell_type": "code",
   "execution_count": null,
   "id": "f114ee38-f8d4-4b07-9955-7708d5e6cc58",
   "metadata": {},
   "outputs": [],
   "source": [
    "class Solution:\n",
    "    def maxProfit(self, prices: List[int], fee: int) -> int:\n",
    "        @cache\n",
    "        def dp(i, buy, price):\n",
    "            if buy:\n",
    "                return max(\n",
    "                    [0]\n",
    "                    + [dp(j + 1, False, prices[j]) for j in range(i, len(prices) - 1)]\n",
    "                ) \n",
    "            else:\n",
    "                ans = [0]\n",
    "                for j in range(i, len(prices)):\n",
    "                    profit = prices[j] - price - fee\n",
    "                    if profit > 0:\n",
    "                        ans.append(\n",
    "                            profit + dp(j + 1, True, 0)\n",
    "                        )\n",
    "                return max(ans)\n",
    "        \n",
    "        return dp(0, True, 0)\n",
    "\n"
   ]
  },
  {
   "cell_type": "code",
   "execution_count": 1,
   "id": "46ed2ca6-809c-4ad6-bf8b-069175dc16a9",
   "metadata": {},
   "outputs": [],
   "source": [
    "from typing import List\n",
    "\n",
    "class Solution:\n",
    "    def maxProfit(self, prices: List[int], fee: int) -> int:\n",
    "        n = len(prices)\n",
    "        hold, free = [0] * n, [0] * n\n",
    "        hold[0] = -prices[0]\n",
    "        \n",
    "        for i in range(1, n):\n",
    "            hold[i] = max(hold[i - 1], free[i - 1] - prices[i])\n",
    "            free[i] = max(free[i - 1], hold[i - 1] + prices[i] - fee)\n",
    "        \n",
    "        return free[-1]"
   ]
  },
  {
   "cell_type": "code",
   "execution_count": null,
   "id": "d7731816-cb01-4003-b5d4-4ae173374e27",
   "metadata": {},
   "outputs": [],
   "source": []
  }
 ],
 "metadata": {
  "kernelspec": {
   "display_name": "Python 3 (ipykernel)",
   "language": "python",
   "name": "python3"
  },
  "language_info": {
   "codemirror_mode": {
    "name": "ipython",
    "version": 3
   },
   "file_extension": ".py",
   "mimetype": "text/x-python",
   "name": "python",
   "nbconvert_exporter": "python",
   "pygments_lexer": "ipython3",
   "version": "3.10.11"
  }
 },
 "nbformat": 4,
 "nbformat_minor": 5
}
