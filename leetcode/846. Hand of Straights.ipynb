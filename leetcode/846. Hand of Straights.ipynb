{
 "cells": [
  {
   "cell_type": "markdown",
   "id": "4ce4c3d4-2acc-47a2-930f-2919f9f56b1e",
   "metadata": {},
   "source": [
    "Alice has some number of cards and she wants to rearrange the cards into groups so that each group is of size groupSize, and consists of groupSize consecutive cards.\n",
    "\n",
    "Given an integer array hand where hand[i] is the value written on the ith card and an integer groupSize, return true if she can rearrange the cards, or false otherwise.\n",
    "\n",
    " \n",
    "\n",
    "Example 1:\n",
    "\n",
    "Input: hand = [1,2,3,6,2,3,4,7,8], groupSize = 3\n",
    "Output: true\n",
    "Explanation: Alice's hand can be rearranged as [1,2,3],[2,3,4],[6,7,8]\n",
    "\n",
    "Example 2:\n",
    "\n",
    "Input: hand = [1,2,3,4,5], groupSize = 4\n",
    "Output: false\n",
    "Explanation: Alice's hand can not be rearranged into groups of 4.\n",
    "\n",
    " \n",
    "\n",
    "Constraints:\n",
    "\n",
    "    1 <= hand.length <= 104\n",
    "    0 <= hand[i] <= 109\n",
    "    1 <= groupSize <= hand.length\n",
    "\n",
    " \n",
    "\n",
    "Note: This question is the same as 1296: https://leetcode.com/problems/divide-array-in-sets-of-k-consecutive-numbers/\n"
   ]
  },
  {
   "cell_type": "code",
   "execution_count": null,
   "id": "a557c30b-2a89-4827-b472-119bcaab662d",
   "metadata": {},
   "outputs": [],
   "source": [
    "class Solution:\n",
    "    def isNStraightHand(self, hand: List[int], groupSize: int) -> bool:\n",
    "        cnt = Counter(hand)\n",
    "        while cnt:\n",
    "            min_card = min(cnt.keys())\n",
    "            for c in range(min_card, min_card + groupSize):\n",
    "                if c in cnt and cnt[c] > 0:\n",
    "                    cnt[c] -= 1\n",
    "                    if cnt[c] == 0:\n",
    "                        del cnt[c]\n",
    "                else:\n",
    "                    return False\n",
    "        return True"
   ]
  },
  {
   "cell_type": "code",
   "execution_count": null,
   "id": "1a3ae577-174b-4baf-8b4d-787b6cc6ad1b",
   "metadata": {},
   "outputs": [],
   "source": [
    "class Solution:\n",
    "    def isNStraightHand(self, hand: List[int], groupSize: int) -> bool:\n",
    "        hand_size = len(hand)\n",
    "\n",
    "        if hand_size % groupSize != 0:\n",
    "            return False\n",
    "\n",
    "        # Counter to store the count of each card value\n",
    "        card_count = Counter(hand)\n",
    "\n",
    "        # Min-heap to process the cards in sorted order\n",
    "        min_heap = list(card_count.keys())\n",
    "        heapq.heapify(min_heap)\n",
    "\n",
    "        # Process the cards until the heap is empty\n",
    "        while min_heap:\n",
    "            current_card = min_heap[0]  # Get the smallest card value\n",
    "            # Check each consecutive sequence of groupSize cards\n",
    "            for i in range(groupSize):\n",
    "                if card_count[current_card + i] == 0:\n",
    "                    return False\n",
    "                card_count[current_card + i] -= 1\n",
    "                if card_count[current_card + i] == 0:\n",
    "                    if current_card + i != heapq.heappop(min_heap):\n",
    "                        return False\n",
    "\n",
    "        return True"
   ]
  }
 ],
 "metadata": {
  "kernelspec": {
   "display_name": "Python 3 (ipykernel)",
   "language": "python",
   "name": "python3"
  },
  "language_info": {
   "codemirror_mode": {
    "name": "ipython",
    "version": 3
   },
   "file_extension": ".py",
   "mimetype": "text/x-python",
   "name": "python",
   "nbconvert_exporter": "python",
   "pygments_lexer": "ipython3",
   "version": "3.12.3"
  }
 },
 "nbformat": 4,
 "nbformat_minor": 5
}
