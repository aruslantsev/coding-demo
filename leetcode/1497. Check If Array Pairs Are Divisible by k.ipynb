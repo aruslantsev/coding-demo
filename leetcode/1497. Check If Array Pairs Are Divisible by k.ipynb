{
 "cells": [
  {
   "cell_type": "markdown",
   "id": "fef21311-62e2-44c9-9c2b-2441559adbb1",
   "metadata": {},
   "source": [
    "Given an array of integers arr of even length n and an integer k.\n",
    "\n",
    "We want to divide the array into exactly n / 2 pairs such that the sum of each pair is divisible by k.\n",
    "\n",
    "Return true If you can find a way to do that or false otherwise.\n",
    "\n",
    " \n",
    "\n",
    "Example 1:\n",
    "\n",
    "Input: arr = [1,2,3,4,5,10,6,7,8,9], k = 5\n",
    "Output: true\n",
    "Explanation: Pairs are (1,9),(2,8),(3,7),(4,6) and (5,10).\n",
    "\n",
    "Example 2:\n",
    "\n",
    "Input: arr = [1,2,3,4,5,6], k = 7\n",
    "Output: true\n",
    "Explanation: Pairs are (1,6),(2,5) and(3,4).\n",
    "\n",
    "Example 3:\n",
    "\n",
    "Input: arr = [1,2,3,4,5,6], k = 10\n",
    "Output: false\n",
    "Explanation: You can try all possible pairs to see that there is no way to divide arr into 3 pairs each with sum divisible by 10.\n",
    "\n",
    " \n",
    "\n",
    "Constraints:\n",
    "\n",
    "    arr.length == n\n",
    "    1 <= n <= 105\n",
    "    n is even.\n",
    "    -109 <= arr[i] <= 109\n",
    "    1 <= k <= 105\n",
    "\n"
   ]
  },
  {
   "cell_type": "code",
   "execution_count": null,
   "id": "027b7f82-3205-47d1-a5da-82ea4a081b6a",
   "metadata": {},
   "outputs": [],
   "source": [
    "class Solution:\n",
    "    def canArrange(self, arr: List[int], k: int) -> bool:\n",
    "        remainder_count = {}\n",
    "\n",
    "        # Store the count of remainders in a map.\n",
    "        for i in arr:\n",
    "            remainder_count[(i % k + k) % k] = (\n",
    "                remainder_count.get((i % k + k) % k, 0) + 1\n",
    "            )\n",
    "\n",
    "        for i in arr:\n",
    "            rem = (i % k + k) % k\n",
    "\n",
    "            # If the remainder for an element is 0, then the count of numbers that give this remainder must be even.\n",
    "            if rem == 0:\n",
    "                if remainder_count[rem] % 2 == 1:\n",
    "                    return False\n",
    "\n",
    "            # If the remainder rem and k-rem do not have the same count then pairs can not be made.\n",
    "            elif remainder_count[rem] != remainder_count.get(k - rem, 0):\n",
    "                return False\n",
    "        return True"
   ]
  }
 ],
 "metadata": {
  "kernelspec": {
   "display_name": "common",
   "language": "python",
   "name": "common"
  },
  "language_info": {
   "codemirror_mode": {
    "name": "ipython",
    "version": 3
   },
   "file_extension": ".py",
   "mimetype": "text/x-python",
   "name": "python",
   "nbconvert_exporter": "python",
   "pygments_lexer": "ipython3",
   "version": "3.12.4"
  }
 },
 "nbformat": 4,
 "nbformat_minor": 5
}
