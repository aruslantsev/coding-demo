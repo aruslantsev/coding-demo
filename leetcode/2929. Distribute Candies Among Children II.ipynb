{
 "cells": [
  {
   "cell_type": "markdown",
   "id": "f100643d-3fd3-431b-a7a8-22ba863f5477",
   "metadata": {},
   "source": [
    "You are given two positive integers n and limit.\n",
    "\n",
    "Return the total number of ways to distribute n candies among 3 children such that no child gets more than limit candies.\n",
    "\n",
    " \n",
    "\n",
    "Example 1:\n",
    "\n",
    "Input: n = 5, limit = 2\n",
    "Output: 3\n",
    "Explanation: There are 3 ways to distribute 5 candies such that no child gets more than 2 candies: (1, 2, 2), (2, 1, 2) and (2, 2, 1).\n",
    "\n",
    "Example 2:\n",
    "\n",
    "Input: n = 3, limit = 3\n",
    "Output: 10\n",
    "Explanation: There are 10 ways to distribute 3 candies such that no child gets more than 3 candies: (0, 0, 3), (0, 1, 2), (0, 2, 1), (0, 3, 0), (1, 0, 2), (1, 1, 1), (1, 2, 0), (2, 0, 1), (2, 1, 0) and (3, 0, 0).\n",
    "\n",
    " \n",
    "\n",
    "Constraints:\n",
    "\n",
    "    1 <= n <= 106\n",
    "    1 <= limit <= 106\n",
    "\n"
   ]
  },
  {
   "cell_type": "code",
   "execution_count": null,
   "id": "35c88bf2-b179-4885-8993-3dc257d6fa29",
   "metadata": {},
   "outputs": [],
   "source": [
    "class Solution:\n",
    "    def distributeCandies(self, n: int, limit: int) -> int:\n",
    "        ans = 0\n",
    "        for i in range(min(limit, n) + 1):\n",
    "            if n - i <= 2 * limit:\n",
    "                ans += min(n - i, limit) - max(0, n - i - limit) + 1\n",
    "        return ans\n",
    "        "
   ]
  }
 ],
 "metadata": {
  "kernelspec": {
   "display_name": "Python 3 (ipykernel)",
   "language": "python",
   "name": "python3"
  },
  "language_info": {
   "codemirror_mode": {
    "name": "ipython",
    "version": 3
   },
   "file_extension": ".py",
   "mimetype": "text/x-python",
   "name": "python",
   "nbconvert_exporter": "python",
   "pygments_lexer": "ipython3",
   "version": "3.12.9"
  }
 },
 "nbformat": 4,
 "nbformat_minor": 5
}
