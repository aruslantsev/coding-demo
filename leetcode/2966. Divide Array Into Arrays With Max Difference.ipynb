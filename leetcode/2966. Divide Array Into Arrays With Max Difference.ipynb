{
 "cells": [
  {
   "cell_type": "markdown",
   "id": "4be3a4d0-d3ff-44b2-a600-52b0be36abd0",
   "metadata": {},
   "source": [
    "You are given an integer array nums of size n and a positive integer k.\n",
    "\n",
    "Divide the array into one or more arrays of size 3 satisfying the following conditions:\n",
    "\n",
    "    Each element of nums should be in exactly one array.\n",
    "    The difference between any two elements in one array is less than or equal to k.\n",
    "\n",
    "Return a 2D array containing all the arrays. If it is impossible to satisfy the conditions, return an empty array. And if there are multiple answers, return any of them.\n",
    "\n",
    " \n",
    "\n",
    "Example 1:\n",
    "\n",
    "Input: nums = [1,3,4,8,7,9,3,5,1], k = 2\n",
    "Output: [[1,1,3],[3,4,5],[7,8,9]]\n",
    "Explanation: We can divide the array into the following arrays: [1,1,3], [3,4,5] and [7,8,9].\n",
    "The difference between any two elements in each array is less than or equal to 2.\n",
    "Note that the order of elements is not important.\n",
    "\n",
    "Example 2:\n",
    "\n",
    "Input: nums = [1,3,3,2,7,3], k = 3\n",
    "Output: []\n",
    "Explanation: It is not possible to divide the array satisfying all the conditions.\n",
    "\n",
    " \n",
    "\n",
    "Constraints:\n",
    "\n",
    "    n == nums.length\n",
    "    1 <= n <= 105\n",
    "    n is a multiple of 3.\n",
    "    1 <= nums[i] <= 105\n",
    "    1 <= k <= 105\n",
    "\n"
   ]
  },
  {
   "cell_type": "code",
   "execution_count": null,
   "id": "30444938-801e-45ee-ae62-1ba006bb872d",
   "metadata": {},
   "outputs": [],
   "source": [
    "class Solution:\n",
    "    def divideArray(self, nums: List[int], k: int) -> List[List[int]]:\n",
    "        nums.sort()\n",
    "        ans = []\n",
    "        for i in range(0, len(nums), 3):\n",
    "            if nums[i + 2] - nums[i] > k:\n",
    "                return []\n",
    "            ans.append([nums[i], nums[i + 1], nums[i + 2]])\n",
    "        return ans"
   ]
  }
 ],
 "metadata": {
  "kernelspec": {
   "display_name": "common",
   "language": "python",
   "name": "common"
  },
  "language_info": {
   "codemirror_mode": {
    "name": "ipython",
    "version": 3
   },
   "file_extension": ".py",
   "mimetype": "text/x-python",
   "name": "python",
   "nbconvert_exporter": "python",
   "pygments_lexer": "ipython3",
   "version": "3.11.7"
  }
 },
 "nbformat": 4,
 "nbformat_minor": 5
}
