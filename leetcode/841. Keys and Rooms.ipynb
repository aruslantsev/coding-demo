{
 "cells": [
  {
   "cell_type": "markdown",
   "id": "f1dc18eb-81b5-4a6b-a558-70cb988ae7e3",
   "metadata": {},
   "source": [
    "There are n rooms labeled from 0 to n - 1 and all the rooms are locked except for room 0. Your goal is to visit all the rooms. However, you cannot enter a locked room without having its key.\n",
    "\n",
    "When you visit a room, you may find a set of distinct keys in it. Each key has a number on it, denoting which room it unlocks, and you can take all of them with you to unlock the other rooms.\n",
    "\n",
    "Given an array rooms where rooms[i] is the set of keys that you can obtain if you visited room i, return true if you can visit all the rooms, or false otherwise.\n",
    "\n",
    " \n",
    "\n",
    "Example 1:\n",
    "\n",
    "Input: rooms = [[1],[2],[3],[]]\n",
    "Output: true\n",
    "Explanation: \n",
    "We visit room 0 and pick up key 1.\n",
    "We then visit room 1 and pick up key 2.\n",
    "We then visit room 2 and pick up key 3.\n",
    "We then visit room 3.\n",
    "Since we were able to visit every room, we return true.\n",
    "Example 2:\n",
    "\n",
    "Input: rooms = [[1,3],[3,0,1],[2],[0]]\n",
    "Output: false\n",
    "Explanation: We can not enter room number 2 since the only key that unlocks it is in that room.\n",
    " \n",
    "\n",
    "Constraints:\n",
    "\n",
    "n == rooms.length\n",
    "2 <= n <= 1000\n",
    "0 <= rooms[i].length <= 1000\n",
    "1 <= sum(rooms[i].length) <= 3000\n",
    "0 <= rooms[i][j] < n\n",
    "All the values of rooms[i] are unique.\n"
   ]
  },
  {
   "cell_type": "code",
   "execution_count": null,
   "id": "03f8de30-dc8a-4be6-8c9c-0dd6e81c5943",
   "metadata": {},
   "outputs": [],
   "source": [
    "class Solution:\n",
    "    def canVisitAllRooms(self, rooms: List[List[int]]) -> bool:\n",
    "        visited = [False for _ in rooms]\n",
    "\n",
    "        q = deque()\n",
    "        q.append(0)\n",
    "        while q:\n",
    "            room = q.popleft()\n",
    "            if visited[room]:\n",
    "                continue\n",
    "            visited[room] = True\n",
    "            for key in rooms[room]:\n",
    "                q.append(key)\n",
    "        \n",
    "        return all(visited)"
   ]
  }
 ],
 "metadata": {
  "kernelspec": {
   "display_name": "Python 3",
   "language": "python",
   "name": "python3"
  },
  "language_info": {
   "codemirror_mode": {
    "name": "ipython",
    "version": 3
   },
   "file_extension": ".py",
   "mimetype": "text/x-python",
   "name": "python",
   "nbconvert_exporter": "python",
   "pygments_lexer": "ipython3",
   "version": "3.9.12"
  }
 },
 "nbformat": 4,
 "nbformat_minor": 5
}
