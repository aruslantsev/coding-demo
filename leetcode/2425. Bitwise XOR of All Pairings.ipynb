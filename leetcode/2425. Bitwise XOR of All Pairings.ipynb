{
 "cells": [
  {
   "cell_type": "markdown",
   "id": "87856c29-392d-45dc-b604-57d0531c556d",
   "metadata": {},
   "source": [
    "You are given two 0-indexed arrays, nums1 and nums2, consisting of non-negative integers. There exists another array, nums3, which contains the bitwise XOR of all pairings of integers between nums1 and nums2 (every integer in nums1 is paired with every integer in nums2 exactly once).\n",
    "\n",
    "Return the bitwise XOR of all integers in nums3.\n",
    "\n",
    " \n",
    "\n",
    "Example 1:\n",
    "\n",
    "Input: nums1 = [2,1,3], nums2 = [10,2,5,0]\n",
    "Output: 13\n",
    "Explanation:\n",
    "A possible nums3 array is [8,0,7,2,11,3,4,1,9,1,6,3].\n",
    "The bitwise XOR of all these numbers is 13, so we return 13.\n",
    "\n",
    "Example 2:\n",
    "\n",
    "Input: nums1 = [1,2], nums2 = [3,4]\n",
    "Output: 0\n",
    "Explanation:\n",
    "All possible pairs of bitwise XORs are nums1[0] ^ nums2[0], nums1[0] ^ nums2[1], nums1[1] ^ nums2[0],\n",
    "and nums1[1] ^ nums2[1].\n",
    "Thus, one possible nums3 array is [2,5,1,6].\n",
    "2 ^ 5 ^ 1 ^ 6 = 0, so we return 0.\n",
    "\n",
    " \n",
    "\n",
    "Constraints:\n",
    "\n",
    "    1 <= nums1.length, nums2.length <= 105\n",
    "    0 <= nums1[i], nums2[j] <= 109\n",
    "\n"
   ]
  },
  {
   "cell_type": "code",
   "execution_count": null,
   "id": "7d44ca6a-638f-451e-b012-db801c16ff3f",
   "metadata": {},
   "outputs": [],
   "source": [
    "class Solution:\n",
    "    def xorAllNums(self, nums1: List[int], nums2: List[int]) -> int:\n",
    "        ans = 0\n",
    "        if len(nums1) % 2 != 0:\n",
    "            for num in nums2:\n",
    "                ans ^= num\n",
    "        if len(nums2) % 2 != 0:\n",
    "            for num in nums1:\n",
    "                ans ^= num\n",
    "        return ans\n"
   ]
  }
 ],
 "metadata": {
  "kernelspec": {
   "display_name": "Python 3 (ipykernel)",
   "language": "python",
   "name": "python3"
  },
  "language_info": {
   "codemirror_mode": {
    "name": "ipython",
    "version": 3
   },
   "file_extension": ".py",
   "mimetype": "text/x-python",
   "name": "python",
   "nbconvert_exporter": "python",
   "pygments_lexer": "ipython3",
   "version": "3.12.7"
  }
 },
 "nbformat": 4,
 "nbformat_minor": 5
}
