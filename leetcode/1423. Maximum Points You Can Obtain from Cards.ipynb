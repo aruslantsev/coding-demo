{
 "cells": [
  {
   "cell_type": "markdown",
   "id": "5bf3fb8c-638c-42b1-9db6-c7f7bf0637d9",
   "metadata": {},
   "source": [
    "There are several cards arranged in a row, and each card has an associated number of points. The points are given in the integer array cardPoints.\n",
    "\n",
    "In one step, you can take one card from the beginning or from the end of the row. You have to take exactly k cards.\n",
    "\n",
    "Your score is the sum of the points of the cards you have taken.\n",
    "\n",
    "Given the integer array cardPoints and the integer k, return the maximum score you can obtain.\n",
    "\n",
    " \n",
    "\n",
    "Example 1:\n",
    "\n",
    "Input: cardPoints = [1,2,3,4,5,6,1], k = 3\n",
    "Output: 12\n",
    "Explanation: After the first step, your score will always be 1. However, choosing the rightmost card first will maximize your total score. The optimal strategy is to take the three cards on the right, giving a final score of 1 + 6 + 5 = 12.\n",
    "\n",
    "Example 2:\n",
    "\n",
    "Input: cardPoints = [2,2,2], k = 2\n",
    "Output: 4\n",
    "Explanation: Regardless of which two cards you take, your score will always be 4.\n",
    "\n",
    "Example 3:\n",
    "\n",
    "Input: cardPoints = [9,7,7,9,7,7,9], k = 7\n",
    "Output: 55\n",
    "Explanation: You have to take all the cards. Your score is the sum of points of all cards.\n",
    "\n",
    " \n",
    "\n",
    "Constraints:\n",
    "\n",
    "    1 <= cardPoints.length <= 105\n",
    "    1 <= cardPoints[i] <= 104\n",
    "    1 <= k <= cardPoints.length\n",
    "\n"
   ]
  },
  {
   "cell_type": "code",
   "execution_count": 4,
   "id": "dc1bb7a6-a3b7-4bae-a8cf-80af55015440",
   "metadata": {},
   "outputs": [],
   "source": [
    "from typing import List\n",
    "\n",
    "class Solution:\n",
    "    def maxScore(self, cardPoints: List[int], k: int) -> int:\n",
    "        max_sum = sum(cardPoints)\n",
    "        length = len(cardPoints)\n",
    "        window_size = length - k\n",
    "        if window_size == 0:\n",
    "            return max_sum\n",
    "        \n",
    "        min_sum = sum(cardPoints[:window_size])\n",
    "        curr_sum = min_sum\n",
    "        for i in range(length - window_size):\n",
    "            curr_sum += cardPoints[i + window_size] - cardPoints[i]\n",
    "            min_sum = min(curr_sum, min_sum)\n",
    "            \n",
    "        return max_sum - min_sum"
   ]
  },
  {
   "cell_type": "code",
   "execution_count": 5,
   "id": "7a80132a-3b8e-4e20-89e4-e486ef832c74",
   "metadata": {},
   "outputs": [
    {
     "data": {
      "text/plain": [
       "12"
      ]
     },
     "execution_count": 5,
     "metadata": {},
     "output_type": "execute_result"
    }
   ],
   "source": [
    "s = Solution()\n",
    "s.maxScore([1,2,3,4,5,6,1], 3)"
   ]
  },
  {
   "cell_type": "code",
   "execution_count": null,
   "id": "0443b264-27df-4e9f-800b-8a28649f4af7",
   "metadata": {},
   "outputs": [],
   "source": []
  }
 ],
 "metadata": {
  "kernelspec": {
   "display_name": "Python 3 (ipykernel)",
   "language": "python",
   "name": "python3"
  },
  "language_info": {
   "codemirror_mode": {
    "name": "ipython",
    "version": 3
   },
   "file_extension": ".py",
   "mimetype": "text/x-python",
   "name": "python",
   "nbconvert_exporter": "python",
   "pygments_lexer": "ipython3",
   "version": "3.9.12"
  }
 },
 "nbformat": 4,
 "nbformat_minor": 5
}
