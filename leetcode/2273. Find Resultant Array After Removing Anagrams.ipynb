{
 "cells": [
  {
   "cell_type": "markdown",
   "id": "5c6c6116-77f5-4023-8c3a-0edf114498d7",
   "metadata": {},
   "source": [
    "You are given a 0-indexed string array words, where words[i] consists of lowercase English letters.\n",
    "\n",
    "In one operation, select any index i such that 0 < i < words.length and words[i - 1] and words[i] are anagrams, and delete words[i] from words. Keep performing this operation as long as you can select an index that satisfies the conditions.\n",
    "\n",
    "Return words after performing all operations. It can be shown that selecting the indices for each operation in any arbitrary order will lead to the same result.\n",
    "\n",
    "An Anagram is a word or phrase formed by rearranging the letters of a different word or phrase using all the original letters exactly once. For example, \"dacb\" is an anagram of \"abdc\".\n",
    "\n",
    " \n",
    "\n",
    "Example 1:\n",
    "\n",
    "Input: words = [\"abba\",\"baba\",\"bbaa\",\"cd\",\"cd\"]\n",
    "Output: [\"abba\",\"cd\"]\n",
    "Explanation:\n",
    "One of the ways we can obtain the resultant array is by using the following operations:\n",
    "- Since words[2] = \"bbaa\" and words[1] = \"baba\" are anagrams, we choose index 2 and delete words[2].\n",
    "  Now words = [\"abba\",\"baba\",\"cd\",\"cd\"].\n",
    "- Since words[1] = \"baba\" and words[0] = \"abba\" are anagrams, we choose index 1 and delete words[1].\n",
    "  Now words = [\"abba\",\"cd\",\"cd\"].\n",
    "- Since words[2] = \"cd\" and words[1] = \"cd\" are anagrams, we choose index 2 and delete words[2].\n",
    "  Now words = [\"abba\",\"cd\"].\n",
    "We can no longer perform any operations, so [\"abba\",\"cd\"] is the final answer.\n",
    "\n",
    "Example 2:\n",
    "\n",
    "Input: words = [\"a\",\"b\",\"c\",\"d\",\"e\"]\n",
    "Output: [\"a\",\"b\",\"c\",\"d\",\"e\"]\n",
    "Explanation:\n",
    "No two adjacent strings in words are anagrams of each other, so no operations are performed.\n",
    "\n",
    " \n",
    "\n",
    "Constraints:\n",
    "\n",
    "    1 <= words.length <= 100\n",
    "    1 <= words[i].length <= 10\n",
    "    words[i] consists of lowercase English letters.\n",
    "\n"
   ]
  },
  {
   "cell_type": "code",
   "execution_count": null,
   "id": "ae0ade8a-14d4-40ae-9a47-36fae291b993",
   "metadata": {},
   "outputs": [],
   "source": [
    "class Solution:\n",
    "    def removeAnagrams(self, words: List[str]) -> List[str]:\n",
    "        prev_anagram = []\n",
    "        ans = []\n",
    "        for word in words:\n",
    "            anagram = ''.join(sorted(word))\n",
    "            if anagram != prev_anagram:\n",
    "                ans.append(word)\n",
    "                prev_anagram = anagram\n",
    "        return ans"
   ]
  }
 ],
 "metadata": {
  "kernelspec": {
   "display_name": "common",
   "language": "python",
   "name": "common"
  },
  "language_info": {
   "codemirror_mode": {
    "name": "ipython",
    "version": 3
   },
   "file_extension": ".py",
   "mimetype": "text/x-python",
   "name": "python",
   "nbconvert_exporter": "python",
   "pygments_lexer": "ipython3",
   "version": "3.12.11"
  }
 },
 "nbformat": 4,
 "nbformat_minor": 5
}
