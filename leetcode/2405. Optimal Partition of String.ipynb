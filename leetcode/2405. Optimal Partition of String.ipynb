{
 "cells": [
  {
   "cell_type": "markdown",
   "id": "657a7881-228c-493b-9560-8b1e75220f50",
   "metadata": {},
   "source": [
    "Given a string s, partition the string into one or more substrings such that the characters in each substring are unique. That is, no letter appears in a single substring more than once.\n",
    "\n",
    "Return the minimum number of substrings in such a partition.\n",
    "\n",
    "Note that each character should belong to exactly one substring in a partition.\n",
    "\n",
    " \n",
    "\n",
    "Example 1:\n",
    "\n",
    "Input: s = \"abacaba\"\n",
    "Output: 4\n",
    "Explanation:\n",
    "Two possible partitions are (\"a\",\"ba\",\"cab\",\"a\") and (\"ab\",\"a\",\"ca\",\"ba\").\n",
    "It can be shown that 4 is the minimum number of substrings needed.\n",
    "Example 2:\n",
    "\n",
    "Input: s = \"ssssss\"\n",
    "Output: 6\n",
    "Explanation:\n",
    "The only valid partition is (\"s\",\"s\",\"s\",\"s\",\"s\",\"s\").\n",
    " \n",
    "\n",
    "Constraints:\n",
    "\n",
    "1 <= s.length <= 105\n",
    "s consists of only English lowercase letters."
   ]
  },
  {
   "cell_type": "code",
   "execution_count": null,
   "id": "2d8660d5-cf18-4965-b60c-2f9e1e315116",
   "metadata": {},
   "outputs": [],
   "source": [
    "class Solution:\n",
    "    def partitionString(self, s: str) -> int:\n",
    "        parts = 0\n",
    "        part = set()\n",
    "        for sym in s:\n",
    "            if sym in part:\n",
    "                parts += 1\n",
    "                part = set()\n",
    "            part.add(sym)\n",
    "        if part:\n",
    "            parts += 1\n",
    "        return parts\n"
   ]
  }
 ],
 "metadata": {
  "kernelspec": {
   "display_name": "Python 3",
   "language": "python",
   "name": "python3"
  },
  "language_info": {
   "codemirror_mode": {
    "name": "ipython",
    "version": 3
   },
   "file_extension": ".py",
   "mimetype": "text/x-python",
   "name": "python",
   "nbconvert_exporter": "python",
   "pygments_lexer": "ipython3",
   "version": "3.9.12"
  }
 },
 "nbformat": 4,
 "nbformat_minor": 5
}
