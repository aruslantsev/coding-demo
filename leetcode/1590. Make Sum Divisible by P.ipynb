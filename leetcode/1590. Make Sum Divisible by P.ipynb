{
 "cells": [
  {
   "cell_type": "markdown",
   "id": "80130b9b-1c59-46df-877c-ce25da26b4e4",
   "metadata": {},
   "source": [
    "Given an array of positive integers nums, remove the smallest subarray (possibly empty) such that the sum of the remaining elements is divisible by p. It is not allowed to remove the whole array.\n",
    "\n",
    "Return the length of the smallest subarray that you need to remove, or -1 if it's impossible.\n",
    "\n",
    "A subarray is defined as a contiguous block of elements in the array.\n",
    "\n",
    " \n",
    "\n",
    "Example 1:\n",
    "\n",
    "Input: nums = [3,1,4,2], p = 6\n",
    "Output: 1\n",
    "Explanation: The sum of the elements in nums is 10, which is not divisible by 6. We can remove the subarray [4], and the sum of the remaining elements is 6, which is divisible by 6.\n",
    "\n",
    "Example 2:\n",
    "\n",
    "Input: nums = [6,3,5,2], p = 9\n",
    "Output: 2\n",
    "Explanation: We cannot remove a single element to get a sum divisible by 9. The best way is to remove the subarray [5,2], leaving us with [6,3] with sum 9.\n",
    "\n",
    "Example 3:\n",
    "\n",
    "Input: nums = [1,2,3], p = 3\n",
    "Output: 0\n",
    "Explanation: Here the sum is 6. which is already divisible by 3. Thus we do not need to remove anything.\n",
    "\n",
    " \n",
    "\n",
    "Constraints:\n",
    "\n",
    "    1 <= nums.length <= 105\n",
    "    1 <= nums[i] <= 109\n",
    "    1 <= p <= 109\n",
    "\n"
   ]
  },
  {
   "cell_type": "code",
   "execution_count": null,
   "id": "6cb9ec67-eb75-4c9e-90ee-0611f4f407ee",
   "metadata": {},
   "outputs": [],
   "source": [
    "class Solution:\n",
    "    def minSubarray(self, nums: List[int], p: int) -> int:\n",
    "        target = sum(nums) % p\n",
    "        if target == 0:\n",
    "            return 0\n",
    "\n",
    "        curr_sum = 0\n",
    "        pos_map = {0: -1}\n",
    "        ans = len(nums)\n",
    "        for i, num in enumerate(nums):\n",
    "            curr_sum += num\n",
    "            rem = curr_sum % p\n",
    "            needed = (rem - target + p) % p\n",
    "            if needed in pos_map:\n",
    "                ans = min(ans, i - pos_map[needed])\n",
    "            pos_map[rem] = i\n",
    "        return -1 if ans == len(nums) else ans"
   ]
  }
 ],
 "metadata": {
  "kernelspec": {
   "display_name": "common",
   "language": "python",
   "name": "common"
  },
  "language_info": {
   "codemirror_mode": {
    "name": "ipython",
    "version": 3
   },
   "file_extension": ".py",
   "mimetype": "text/x-python",
   "name": "python",
   "nbconvert_exporter": "python",
   "pygments_lexer": "ipython3",
   "version": "3.12.4"
  }
 },
 "nbformat": 4,
 "nbformat_minor": 5
}
