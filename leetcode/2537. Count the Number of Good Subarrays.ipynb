{
 "cells": [
  {
   "cell_type": "markdown",
   "id": "1a4093ff-31c9-424c-9542-ba0de6d1482f",
   "metadata": {},
   "source": [
    "Given an integer array nums and an integer k, return the number of good subarrays of nums.\n",
    "\n",
    "A subarray arr is good if there are at least k pairs of indices (i, j) such that i < j and arr[i] == arr[j].\n",
    "\n",
    "A subarray is a contiguous non-empty sequence of elements within an array.\n",
    "\n",
    " \n",
    "\n",
    "Example 1:\n",
    "\n",
    "Input: nums = [1,1,1,1,1], k = 10\n",
    "Output: 1\n",
    "Explanation: The only good subarray is the array nums itself.\n",
    "\n",
    "Example 2:\n",
    "\n",
    "Input: nums = [3,1,4,3,2,2,4], k = 2\n",
    "Output: 4\n",
    "Explanation: There are 4 different good subarrays:\n",
    "- [3,1,4,3,2,2] that has 2 pairs.\n",
    "- [3,1,4,3,2,2,4] that has 3 pairs.\n",
    "- [1,4,3,2,2,4] that has 2 pairs.\n",
    "- [4,3,2,2,4] that has 2 pairs.\n",
    "\n",
    " \n",
    "\n",
    "Constraints:\n",
    "\n",
    "    1 <= nums.length <= 105\n",
    "    1 <= nums[i], k <= 109\n",
    "\n"
   ]
  },
  {
   "cell_type": "code",
   "execution_count": null,
   "id": "3879f43f-81e8-4c94-89a4-d4c875f11838",
   "metadata": {},
   "outputs": [],
   "source": [
    "@cache\n",
    "def comb(n):\n",
    "    if n < 2:\n",
    "        return 0\n",
    "    return (n * (n - 1)) // 2\n",
    "\n",
    "class Solution:\n",
    "    def countGood(self, nums: List[int], k: int) -> int:\n",
    "        cnt_dict = defaultdict(int)\n",
    "        cnt_pairs = 0\n",
    "        ans = 0\n",
    "        l = 0\n",
    "        last = len(nums)\n",
    "        for r in range(len(nums)):\n",
    "            num = nums[r]\n",
    "            n = cnt_dict[num]\n",
    "            cnt_pairs += comb(n + 1) - comb(n)\n",
    "            cnt_dict[num] += 1\n",
    "            while cnt_pairs >= k and l < r:\n",
    "                ans += last - r\n",
    "                num = nums[l]\n",
    "                n = cnt_dict[num]\n",
    "                cnt_pairs -= comb(n) - comb(n - 1)\n",
    "                cnt_dict[num] -= 1\n",
    "                l += 1\n",
    "        return ans"
   ]
  }
 ],
 "metadata": {
  "kernelspec": {
   "display_name": "Python 3 (ipykernel)",
   "language": "python",
   "name": "python3"
  },
  "language_info": {
   "codemirror_mode": {
    "name": "ipython",
    "version": 3
   },
   "file_extension": ".py",
   "mimetype": "text/x-python",
   "name": "python",
   "nbconvert_exporter": "python",
   "pygments_lexer": "ipython3",
   "version": "3.12.9"
  }
 },
 "nbformat": 4,
 "nbformat_minor": 5
}
