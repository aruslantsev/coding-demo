{
 "cells": [
  {
   "cell_type": "markdown",
   "id": "e814e328-3938-4086-b2c7-dba7989f132e",
   "metadata": {},
   "source": [
    "Given a string s containing only three types of characters: '(', ')' and '*', return true if s is valid.\n",
    "\n",
    "The following rules define a valid string:\n",
    "\n",
    "    Any left parenthesis '(' must have a corresponding right parenthesis ')'.\n",
    "    Any right parenthesis ')' must have a corresponding left parenthesis '('.\n",
    "    Left parenthesis '(' must go before the corresponding right parenthesis ')'.\n",
    "    '*' could be treated as a single right parenthesis ')' or a single left parenthesis '(' or an empty string \"\".\n",
    "\n",
    " \n",
    "\n",
    "Example 1:\n",
    "\n",
    "Input: s = \"()\"\n",
    "Output: true\n",
    "\n",
    "Example 2:\n",
    "\n",
    "Input: s = \"(*)\"\n",
    "Output: true\n",
    "\n",
    "Example 3:\n",
    "\n",
    "Input: s = \"(*))\"\n",
    "Output: true\n",
    "\n",
    " \n",
    "\n",
    "Constraints:\n",
    "\n",
    "    1 <= s.length <= 100\n",
    "    s[i] is '(', ')' or '*'.\n"
   ]
  },
  {
   "cell_type": "code",
   "execution_count": null,
   "id": "2fc8acbc-faa6-46b3-9783-fa444e91b518",
   "metadata": {},
   "outputs": [],
   "source": [
    "class Solution:\n",
    "    def checkValidString(self, s: str) -> bool:\n",
    "        @cache\n",
    "        def check(s, counter):\n",
    "            if counter < 0:\n",
    "                return False\n",
    "            for i, sym in enumerate(s):\n",
    "                if sym == \"(\":\n",
    "                    counter += 1\n",
    "                if sym == \")\":\n",
    "                    counter -= 1\n",
    "                    if counter < 0:\n",
    "                        return False\n",
    "                if sym == \"*\":\n",
    "                    return any([\n",
    "                        check(s[i + 1:], counter),\n",
    "                        check(s[i + 1:], counter + 1),\n",
    "                        check(s[i + 1:], counter - 1)\n",
    "                    ])\n",
    "            if counter == 0:\n",
    "                return True\n",
    "            return False\n",
    "        return check(s, 0)\n",
    "        "
   ]
  }
 ],
 "metadata": {
  "kernelspec": {
   "display_name": "Python 3 (ipykernel)",
   "language": "python",
   "name": "python3"
  },
  "language_info": {
   "codemirror_mode": {
    "name": "ipython",
    "version": 3
   },
   "file_extension": ".py",
   "mimetype": "text/x-python",
   "name": "python",
   "nbconvert_exporter": "python",
   "pygments_lexer": "ipython3",
   "version": "3.11.7"
  }
 },
 "nbformat": 4,
 "nbformat_minor": 5
}
