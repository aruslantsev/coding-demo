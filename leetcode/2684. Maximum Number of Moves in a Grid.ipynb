{
 "cells": [
  {
   "attachments": {
    "24c10d4b-26e1-4b2c-ab8c-a26421bb44d5.png": {
     "image/png": "[encoded data removed]"
    },
    "cba1d521-f984-475c-b783-3e9c63869c56.png": {
     "image/png": "[encoded data removed]"
    }
   },
   "cell_type": "markdown",
   "id": "d0e77df3-94de-42a7-a40a-73c51244d735",
   "metadata": {},
   "source": [
    "You are given a 0-indexed m x n matrix grid consisting of positive integers.\n",
    "\n",
    "You can start at any cell in the first column of the matrix, and traverse the grid in the following way:\n",
    "\n",
    "    From a cell (row, col), you can move to any of the cells: (row - 1, col + 1), (row, col + 1) and (row + 1, col + 1) such that the value of the cell you move to, should be strictly bigger than the value of the current cell.\n",
    "\n",
    "Return the maximum number of moves that you can perform.\n",
    "\n",
    " \n",
    "\n",
    "Example 1:\n",
    "\n",
    "![image.png](attachment:24c10d4b-26e1-4b2c-ab8c-a26421bb44d5.png)\n",
    "\n",
    "Input: grid = [[2,4,3,5],[5,4,9,3],[3,4,2,11],[10,9,13,15]]\n",
    "Output: 3\n",
    "Explanation: We can start at the cell (0, 0) and make the following moves:\n",
    "- (0, 0) -> (0, 1).\n",
    "- (0, 1) -> (1, 2).\n",
    "- (1, 2) -> (2, 3).\n",
    "It can be shown that it is the maximum number of moves that can be made.\n",
    "\n",
    "Example 2:\n",
    "\n",
    "![image.png](attachment:cba1d521-f984-475c-b783-3e9c63869c56.png)\n",
    "\n",
    "\n",
    "Input: grid = [[3,2,4],[2,1,9],[1,1,7]]\n",
    "Output: 0\n",
    "Explanation: Starting from any cell in the first column we cannot perform any moves.\n",
    "\n",
    " \n",
    "\n",
    "Constraints:\n",
    "\n",
    "    m == grid.length\n",
    "    n == grid[i].length\n",
    "    2 <= m, n <= 1000\n",
    "    4 <= m * n <= 105\n",
    "    1 <= grid[i][j] <= 106\n",
    "\n"
   ]
  },
  {
   "cell_type": "code",
   "execution_count": null,
   "id": "600530d1-1a16-4d00-864d-72965f25a25a",
   "metadata": {},
   "outputs": [],
   "source": [
    "class Solution:\n",
    "    def maxMoves(self, grid: List[List[int]]) -> int:\n",
    "        ans = 0\n",
    "        rows, cols = len(grid), len(grid[0])\n",
    "        q = deque([(0, i) for i in range(rows)])\n",
    "        while q:\n",
    "            s = len(q)\n",
    "            for _ in range(s):\n",
    "                col, row = q.popleft()\n",
    "                if col + 1 < cols:\n",
    "                    for r in range(row - 1, row + 2):\n",
    "                        if 0 <= r < rows and grid[r][col + 1] > grid[row][col]:\n",
    "                            if (col + 1, r) not in q:\n",
    "                                q.append((col + 1, r))\n",
    "            if q:\n",
    "                ans += 1\n",
    "        return ans"
   ]
  }
 ],
 "metadata": {
  "kernelspec": {
   "display_name": "common",
   "language": "python",
   "name": "common"
  },
  "language_info": {
   "codemirror_mode": {
    "name": "ipython",
    "version": 3
   },
   "file_extension": ".py",
   "mimetype": "text/x-python",
   "name": "python",
   "nbconvert_exporter": "python",
   "pygments_lexer": "ipython3",
   "version": "3.12.4"
  }
 },
 "nbformat": 4,
 "nbformat_minor": 5
}
