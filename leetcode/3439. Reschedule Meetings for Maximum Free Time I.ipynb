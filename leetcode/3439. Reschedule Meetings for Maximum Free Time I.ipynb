{
 "cells": [
  {
   "attachments": {
    "4b0a83bd-963a-4f1d-abbf-3a30c22dfc38.png": {
     "image/png": "[encoded data removed]"
    },
    "7235cabf-c4f3-4672-b5c0-d8682dc13fb9.png": {
     "image/png": "[encoded data removed]"
    }
   },
   "cell_type": "markdown",
   "id": "1acdd332-e8f7-401b-9837-d821714af042",
   "metadata": {},
   "source": [
    "You are given an integer eventTime denoting the duration of an event, where the event occurs from time t = 0 to time t = eventTime.\n",
    "\n",
    "You are also given two integer arrays startTime and endTime, each of length n. These represent the start and end time of n non-overlapping meetings, where the ith meeting occurs during the time [startTime[i], endTime[i]].\n",
    "\n",
    "You can reschedule at most k meetings by moving their start time while maintaining the same duration, to maximize the longest continuous period of free time during the event.\n",
    "\n",
    "The relative order of all the meetings should stay the same and they should remain non-overlapping.\n",
    "\n",
    "Return the maximum amount of free time possible after rearranging the meetings.\n",
    "\n",
    "Note that the meetings can not be rescheduled to a time outside the event.\n",
    "\n",
    " \n",
    "\n",
    "Example 1:\n",
    "\n",
    "Input: eventTime = 5, k = 1, startTime = [1,3], endTime = [2,5]\n",
    "\n",
    "Output: 2\n",
    "\n",
    "Explanation:\n",
    "\n",
    "![image.png](attachment:4b0a83bd-963a-4f1d-abbf-3a30c22dfc38.png)\n",
    "\n",
    "Reschedule the meeting at [1, 2] to [2, 3], leaving no meetings during the time [0, 2].\n",
    "\n",
    "Example 2:\n",
    "\n",
    "Input: eventTime = 10, k = 1, startTime = [0,2,9], endTime = [1,4,10]\n",
    "\n",
    "Output: 6\n",
    "\n",
    "Explanation:\n",
    "\n",
    "![image.png](attachment:7235cabf-c4f3-4672-b5c0-d8682dc13fb9.png)\n",
    "\n",
    "Reschedule the meeting at [2, 4] to [1, 3], leaving no meetings during the time [3, 9].\n",
    "\n",
    "Example 3:\n",
    "\n",
    "Input: eventTime = 5, k = 2, startTime = [0,1,2,3,4], endTime = [1,2,3,4,5]\n",
    "\n",
    "Output: 0\n",
    "\n",
    "Explanation:\n",
    "\n",
    "There is no time during the event not occupied by meetings.\n",
    "\n",
    " \n",
    "\n",
    "Constraints:\n",
    "\n",
    "    1 <= eventTime <= 109\n",
    "    n == startTime.length == endTime.length\n",
    "    2 <= n <= 105\n",
    "    1 <= k <= n\n",
    "    0 <= startTime[i] < endTime[i] <= eventTime\n",
    "    endTime[i] <= startTime[i + 1] where i lies in the range [0, n - 2].\n",
    "\n"
   ]
  },
  {
   "cell_type": "code",
   "execution_count": null,
   "id": "286b81ec-4aaf-43d9-a6af-ebbd6002861c",
   "metadata": {},
   "outputs": [],
   "source": [
    "class Solution:\n",
    "    def maxFreeTime(self, eventTime: int, k: int, startTime: List[int], endTime: List[int]) -> int:\n",
    "        n = len(startTime)\n",
    "        res = 0\n",
    "        t = 0\n",
    "        for i in range(n):\n",
    "            t += endTime[i] - startTime[i]\n",
    "            left = 0 if i <= k - 1 else endTime[i - k]\n",
    "            right = eventTime if i == n - 1 else startTime[i + 1]\n",
    "            res = max(res, right - left - t)\n",
    "            if i >= k - 1:\n",
    "                t -= endTime[i - k + 1] - startTime[i - k + 1]\n",
    "        return res"
   ]
  }
 ],
 "metadata": {
  "kernelspec": {
   "display_name": "Python 3 (ipykernel)",
   "language": "python",
   "name": "python3"
  },
  "language_info": {
   "codemirror_mode": {
    "name": "ipython",
    "version": 3
   },
   "file_extension": ".py",
   "mimetype": "text/x-python",
   "name": "python",
   "nbconvert_exporter": "python",
   "pygments_lexer": "ipython3",
   "version": "3.13.5"
  }
 },
 "nbformat": 4,
 "nbformat_minor": 5
}
