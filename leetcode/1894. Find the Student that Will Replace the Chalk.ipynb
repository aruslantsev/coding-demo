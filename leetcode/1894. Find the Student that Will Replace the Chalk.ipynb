{
 "cells": [
  {
   "cell_type": "markdown",
   "id": "33a20320-bce3-4d4f-b529-3141189572f2",
   "metadata": {},
   "source": [
    "There are n students in a class numbered from 0 to n - 1. The teacher will give each student a problem starting with the student number 0, then the student number 1, and so on until the teacher reaches the student number n - 1. After that, the teacher will restart the process, starting with the student number 0 again.\n",
    "\n",
    "You are given a 0-indexed integer array chalk and an integer k. There are initially k pieces of chalk. When the student number i is given a problem to solve, they will use chalk[i] pieces of chalk to solve that problem. However, if the current number of chalk pieces is strictly less than chalk[i], then the student number i will be asked to replace the chalk.\n",
    "\n",
    "Return the index of the student that will replace the chalk pieces.\n",
    "\n",
    " \n",
    "\n",
    "Example 1:\n",
    "\n",
    "Input: chalk = [5,1,5], k = 22\n",
    "Output: 0\n",
    "Explanation: The students go in turns as follows:\n",
    "- Student number 0 uses 5 chalk, so k = 17.\n",
    "- Student number 1 uses 1 chalk, so k = 16.\n",
    "- Student number 2 uses 5 chalk, so k = 11.\n",
    "- Student number 0 uses 5 chalk, so k = 6.\n",
    "- Student number 1 uses 1 chalk, so k = 5.\n",
    "- Student number 2 uses 5 chalk, so k = 0.\n",
    "Student number 0 does not have enough chalk, so they will have to replace it.\n",
    "\n",
    "Example 2:\n",
    "\n",
    "Input: chalk = [3,4,1,2], k = 25\n",
    "Output: 1\n",
    "Explanation: The students go in turns as follows:\n",
    "- Student number 0 uses 3 chalk so k = 22.\n",
    "- Student number 1 uses 4 chalk so k = 18.\n",
    "- Student number 2 uses 1 chalk so k = 17.\n",
    "- Student number 3 uses 2 chalk so k = 15.\n",
    "- Student number 0 uses 3 chalk so k = 12.\n",
    "- Student number 1 uses 4 chalk so k = 8.\n",
    "- Student number 2 uses 1 chalk so k = 7.\n",
    "- Student number 3 uses 2 chalk so k = 5.\n",
    "- Student number 0 uses 3 chalk so k = 2.\n",
    "Student number 1 does not have enough chalk, so they will have to replace it.\n",
    "\n",
    " \n",
    "\n",
    "Constraints:\n",
    "\n",
    "    chalk.length == n\n",
    "    1 <= n <= 105\n",
    "    1 <= chalk[i] <= 105\n",
    "    1 <= k <= 109\n",
    "\n"
   ]
  },
  {
   "cell_type": "code",
   "execution_count": null,
   "id": "daf646ce-b19c-4e3b-a546-90e99ee1908a",
   "metadata": {},
   "outputs": [],
   "source": [
    "class Solution:\n",
    "    def chalkReplacer(self, chalk: List[int], k: int) -> int:\n",
    "        # Find the sum of all elements.\n",
    "        sum_chalk = 0\n",
    "        for i in range(len(chalk)):\n",
    "            sum_chalk += chalk[i]\n",
    "            if sum_chalk > k:\n",
    "                break\n",
    "        # Find modulo of k with sum.\n",
    "        k = k % sum_chalk\n",
    "        for i in range(len(chalk)):\n",
    "            if k < chalk[i]:\n",
    "                return i\n",
    "            k -= chalk[i]\n",
    "        return 0"
   ]
  }
 ],
 "metadata": {
  "kernelspec": {
   "display_name": "Python 3 (ipykernel)",
   "language": "python",
   "name": "python3"
  },
  "language_info": {
   "codemirror_mode": {
    "name": "ipython",
    "version": 3
   },
   "file_extension": ".py",
   "mimetype": "text/x-python",
   "name": "python",
   "nbconvert_exporter": "python",
   "pygments_lexer": "ipython3",
   "version": "3.12.3"
  }
 },
 "nbformat": 4,
 "nbformat_minor": 5
}
