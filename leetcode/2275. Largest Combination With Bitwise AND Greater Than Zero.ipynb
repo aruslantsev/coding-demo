{
 "cells": [
  {
   "cell_type": "markdown",
   "id": "82d7c017-5b3e-4e82-a0af-0e54c4cacc59",
   "metadata": {},
   "source": [
    "The bitwise AND of an array nums is the bitwise AND of all integers in nums.\n",
    "\n",
    "    For example, for nums = [1, 5, 3], the bitwise AND is equal to 1 & 5 & 3 = 1.\n",
    "    Also, for nums = [7], the bitwise AND is 7.\n",
    "\n",
    "You are given an array of positive integers candidates. Evaluate the bitwise AND of every combination of numbers of candidates. Each number in candidates may only be used once in each combination.\n",
    "\n",
    "Return the size of the largest combination of candidates with a bitwise AND greater than 0.\n",
    "\n",
    " \n",
    "\n",
    "Example 1:\n",
    "\n",
    "Input: candidates = [16,17,71,62,12,24,14]\n",
    "Output: 4\n",
    "Explanation: The combination [16,17,62,24] has a bitwise AND of 16 & 17 & 62 & 24 = 16 > 0.\n",
    "The size of the combination is 4.\n",
    "It can be shown that no combination with a size greater than 4 has a bitwise AND greater than 0.\n",
    "Note that more than one combination may have the largest size.\n",
    "For example, the combination [62,12,24,14] has a bitwise AND of 62 & 12 & 24 & 14 = 8 > 0.\n",
    "\n",
    "Example 2:\n",
    "\n",
    "Input: candidates = [8,8]\n",
    "Output: 2\n",
    "Explanation: The largest combination [8,8] has a bitwise AND of 8 & 8 = 8 > 0.\n",
    "The size of the combination is 2, so we return 2.\n",
    "\n",
    " \n",
    "\n",
    "Constraints:\n",
    "\n",
    "    1 <= candidates.length <= 105\n",
    "    1 <= candidates[i] <= 107\n",
    "\n"
   ]
  },
  {
   "cell_type": "code",
   "execution_count": null,
   "id": "d4836972-2537-46f5-bf91-5d7ecdfe9774",
   "metadata": {},
   "outputs": [],
   "source": [
    "class Solution:\n",
    "    def largestCombination(self, candidates: List[int]) -> int:\n",
    "        counts = [0] * 24\n",
    "        for num in candidates:\n",
    "            for i in range(24):\n",
    "                if (num & (1 << i)) != 0:\n",
    "                    counts[i] += 1\n",
    "        return max(counts)\n"
   ]
  }
 ],
 "metadata": {
  "kernelspec": {
   "display_name": "Python 3 (ipykernel)",
   "language": "python",
   "name": "python3"
  },
  "language_info": {
   "codemirror_mode": {
    "name": "ipython",
    "version": 3
   },
   "file_extension": ".py",
   "mimetype": "text/x-python",
   "name": "python",
   "nbconvert_exporter": "python",
   "pygments_lexer": "ipython3",
   "version": "3.12.7"
  }
 },
 "nbformat": 4,
 "nbformat_minor": 5
}
