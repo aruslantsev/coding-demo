{
 "cells": [
  {
   "cell_type": "markdown",
   "id": "a1e7d99f-77e8-4440-8b85-d6923956d959",
   "metadata": {},
   "source": [
    "You are given a list of strings of the same length words and a string target.\n",
    "\n",
    "Your task is to form target using the given words under the following rules:\n",
    "\n",
    "target should be formed from left to right.\n",
    "To form the ith character (0-indexed) of target, you can choose the kth character of the jth string in words if target[i] = words[j][k].\n",
    "Once you use the kth character of the jth string of words, you can no longer use the xth character of any string in words where x <= k. In other words, all characters to the left of or at index k become unusuable for every string.\n",
    "Repeat the process until you form the string target.\n",
    "Notice that you can use multiple characters from the same string in words provided the conditions above are met.\n",
    "\n",
    "Return the number of ways to form target from words. Since the answer may be too large, return it modulo 109 + 7.\n",
    "\n",
    " \n",
    "\n",
    "Example 1:\n",
    "\n",
    "Input: words = [\"acca\",\"bbbb\",\"caca\"], target = \"aba\"\n",
    "Output: 6\n",
    "Explanation: There are 6 ways to form target.\n",
    "\"aba\" -> index 0 (\"acca\"), index 1 (\"bbbb\"), index 3 (\"caca\")\n",
    "\"aba\" -> index 0 (\"acca\"), index 2 (\"bbbb\"), index 3 (\"caca\")\n",
    "\"aba\" -> index 0 (\"acca\"), index 1 (\"bbbb\"), index 3 (\"acca\")\n",
    "\"aba\" -> index 0 (\"acca\"), index 2 (\"bbbb\"), index 3 (\"acca\")\n",
    "\"aba\" -> index 1 (\"caca\"), index 2 (\"bbbb\"), index 3 (\"acca\")\n",
    "\"aba\" -> index 1 (\"caca\"), index 2 (\"bbbb\"), index 3 (\"caca\")\n",
    "Example 2:\n",
    "\n",
    "Input: words = [\"abba\",\"baab\"], target = \"bab\"\n",
    "Output: 4\n",
    "Explanation: There are 4 ways to form target.\n",
    "\"bab\" -> index 0 (\"baab\"), index 1 (\"baab\"), index 2 (\"abba\")\n",
    "\"bab\" -> index 0 (\"baab\"), index 1 (\"baab\"), index 3 (\"baab\")\n",
    "\"bab\" -> index 0 (\"baab\"), index 2 (\"baab\"), index 3 (\"baab\")\n",
    "\"bab\" -> index 1 (\"abba\"), index 2 (\"baab\"), index 3 (\"baab\")\n",
    " \n",
    "\n",
    "Constraints:\n",
    "\n",
    "1 <= words.length <= 1000\n",
    "1 <= words[i].length <= 1000\n",
    "All strings in words have the same length.\n",
    "1 <= target.length <= 1000\n",
    "words[i] and target contain only lowercase English letters."
   ]
  },
  {
   "cell_type": "code",
   "execution_count": null,
   "id": "43bd85c9-bb3e-4023-ae0f-d5aa941c5a0e",
   "metadata": {},
   "outputs": [],
   "source": [
    "class Solution:\n",
    "    def numWays(self, words: List[str], target: str) -> int:\n",
    "        n = len(words[0])\n",
    "        m = len(target)\n",
    "        mod = 10**9 + 7\n",
    "        dp = [0] * (m+1)\n",
    "        dp[0] = 1\n",
    "        \n",
    "        count = [[0] * 26 for _ in range(n)]\n",
    "        for i in range(n):\n",
    "            for word in words:\n",
    "                count[i][ord(word[i]) - ord('a')] += 1\n",
    "        \n",
    "        for i in range(n):\n",
    "            for j in range(m-1, -1, -1):\n",
    "                dp[j+1] += dp[j] * count[i][ord(target[j]) - ord('a')]\n",
    "                dp[j+1] %= mod\n",
    "        \n",
    "        return dp[m]\n"
   ]
  }
 ],
 "metadata": {
  "kernelspec": {
   "display_name": "Python 3",
   "language": "python",
   "name": "python3"
  },
  "language_info": {
   "codemirror_mode": {
    "name": "ipython",
    "version": 3
   },
   "file_extension": ".py",
   "mimetype": "text/x-python",
   "name": "python",
   "nbconvert_exporter": "python",
   "pygments_lexer": "ipython3",
   "version": "3.9.12"
  }
 },
 "nbformat": 4,
 "nbformat_minor": 5
}
