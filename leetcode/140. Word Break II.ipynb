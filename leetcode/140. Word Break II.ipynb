{
 "cells": [
  {
   "cell_type": "markdown",
   "id": "a6e0c0a6-957d-40da-9444-f4f328b7409f",
   "metadata": {},
   "source": [
    "Given a string s and a dictionary of strings wordDict, add spaces in s to construct a sentence where each word is a valid dictionary word. Return all such possible sentences in any order.\n",
    "\n",
    "Note that the same word in the dictionary may be reused multiple times in the segmentation.\n",
    "\n",
    " \n",
    "\n",
    "Example 1:\n",
    "\n",
    "Input: s = \"catsanddog\", wordDict = [\"cat\",\"cats\",\"and\",\"sand\",\"dog\"]\n",
    "Output: [\"cats and dog\",\"cat sand dog\"]\n",
    "\n",
    "Example 2:\n",
    "\n",
    "Input: s = \"pineapplepenapple\", wordDict = [\"apple\",\"pen\",\"applepen\",\"pine\",\"pineapple\"]\n",
    "Output: [\"pine apple pen apple\",\"pineapple pen apple\",\"pine applepen apple\"]\n",
    "Explanation: Note that you are allowed to reuse a dictionary word.\n",
    "\n",
    "Example 3:\n",
    "\n",
    "Input: s = \"catsandog\", wordDict = [\"cats\",\"dog\",\"sand\",\"and\",\"cat\"]\n",
    "Output: []\n",
    "\n",
    " \n",
    "\n",
    "Constraints:\n",
    "\n",
    "    1 <= s.length <= 20\n",
    "    1 <= wordDict.length <= 1000\n",
    "    1 <= wordDict[i].length <= 10\n",
    "    s and wordDict[i] consist of only lowercase English letters.\n",
    "    All the strings of wordDict are unique.\n",
    "    Input is generated in a way that the length of the answer doesn't exceed 105.\n",
    "\n"
   ]
  },
  {
   "cell_type": "code",
   "execution_count": null,
   "id": "b9ab2828-0c1a-41cf-ba62-bf16ed0267f1",
   "metadata": {},
   "outputs": [],
   "source": [
    "class Solution:\n",
    "    def wordBreak(self, s: str, wordDict: List[str]) -> List[str]:\n",
    "        self.ans = []\n",
    "\n",
    "        def dp(st, prev):\n",
    "            if st == \"\":\n",
    "                self.ans.append(\" \".join(prev))\n",
    "            for word in wordDict:\n",
    "                if st.startswith(word):\n",
    "                    prev.append(word)\n",
    "                    dp(st[len(word):], prev)\n",
    "                    prev.pop()\n",
    "        \n",
    "        dp(s, [])\n",
    "        return self.ans\n"
   ]
  }
 ],
 "metadata": {
  "kernelspec": {
   "display_name": "Python 3 (ipykernel)",
   "language": "python",
   "name": "python3"
  },
  "language_info": {
   "codemirror_mode": {
    "name": "ipython",
    "version": 3
   },
   "file_extension": ".py",
   "mimetype": "text/x-python",
   "name": "python",
   "nbconvert_exporter": "python",
   "pygments_lexer": "ipython3",
   "version": "3.12.3"
  }
 },
 "nbformat": 4,
 "nbformat_minor": 5
}
