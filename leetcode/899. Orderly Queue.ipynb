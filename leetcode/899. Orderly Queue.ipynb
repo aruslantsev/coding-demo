{
 "cells": [
  {
   "cell_type": "markdown",
   "id": "a86d683f-4a1c-43ef-b49a-0cab32c4c2e5",
   "metadata": {},
   "source": [
    "You are given a string s and an integer k. You can choose one of the first k letters of s and append it at the end of the string..\n",
    "\n",
    "Return the lexicographically smallest string you could have after applying the mentioned step any number of moves.\n",
    "\n",
    " \n",
    "\n",
    "Example 1:\n",
    "\n",
    "Input: s = \"cba\", k = 1\n",
    "Output: \"acb\"\n",
    "Explanation: \n",
    "In the first move, we move the 1st character 'c' to the end, obtaining the string \"bac\".\n",
    "In the second move, we move the 1st character 'b' to the end, obtaining the final result \"acb\".\n",
    "\n",
    "Example 2:\n",
    "\n",
    "Input: s = \"baaca\", k = 3\n",
    "Output: \"aaabc\"\n",
    "Explanation: \n",
    "In the first move, we move the 1st character 'b' to the end, obtaining the string \"aacab\".\n",
    "In the second move, we move the 3rd character 'c' to the end, obtaining the final result \"aaabc\".\n",
    "\n",
    " \n",
    "\n",
    "Constraints:\n",
    "\n",
    "    1 <= k <= s.length <= 1000\n",
    "    s consist of lowercase English letters.\n",
    "\n"
   ]
  },
  {
   "cell_type": "code",
   "execution_count": null,
   "id": "df3aaca2-b6d2-4058-9923-b134705eaae3",
   "metadata": {},
   "outputs": [],
   "source": [
    "class Solution:\n",
    "    def orderlyQueue(self, s: str, k: int) -> str:\n",
    "        return (\n",
    "            ''.join(sorted(s)) if k > 1 \n",
    "            else min([s[i:] + s[:i] for i in range(len(s))])\n",
    "            )"
   ]
  }
 ],
 "metadata": {
  "kernelspec": {
   "display_name": "Python 3 (ipykernel)",
   "language": "python",
   "name": "python3"
  },
  "language_info": {
   "codemirror_mode": {
    "name": "ipython",
    "version": 3
   },
   "file_extension": ".py",
   "mimetype": "text/x-python",
   "name": "python",
   "nbconvert_exporter": "python",
   "pygments_lexer": "ipython3",
   "version": "3.9.13"
  }
 },
 "nbformat": 4,
 "nbformat_minor": 5
}
