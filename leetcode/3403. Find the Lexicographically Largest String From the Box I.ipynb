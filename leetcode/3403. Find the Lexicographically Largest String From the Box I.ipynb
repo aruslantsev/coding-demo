{
 "cells": [
  {
   "cell_type": "markdown",
   "id": "a1e4082e-f0e6-486d-b59b-5dac237cab23",
   "metadata": {},
   "source": [
    "You are given a string word, and an integer numFriends.\n",
    "\n",
    "Alice is organizing a game for her numFriends friends. There are multiple rounds in the game, where in each round:\n",
    "\n",
    "    word is split into numFriends non-empty strings, such that no previous round has had the exact same split.\n",
    "    All the split words are put into a box.\n",
    "\n",
    "Find the\n",
    "\n",
    "string from the box after all the rounds are finished.\n",
    "\n",
    " \n",
    "\n",
    "Example 1:\n",
    "\n",
    "Input: word = \"dbca\", numFriends = 2\n",
    "\n",
    "Output: \"dbc\"\n",
    "\n",
    "Explanation: \n",
    "\n",
    "All possible splits are:\n",
    "\n",
    "    \"d\" and \"bca\".\n",
    "    \"db\" and \"ca\".\n",
    "    \"dbc\" and \"a\".\n",
    "\n",
    "Example 2:\n",
    "\n",
    "Input: word = \"gggg\", numFriends = 4\n",
    "\n",
    "Output: \"g\"\n",
    "\n",
    "Explanation: \n",
    "\n",
    "The only possible split is: \"g\", \"g\", \"g\", and \"g\".\n",
    "\n",
    " \n",
    "\n",
    "Constraints:\n",
    "\n",
    "    1 <= word.length <= 5 * 103\n",
    "    word consists only of lowercase English letters.\n",
    "    1 <= numFriends <= word.length\n"
   ]
  },
  {
   "cell_type": "code",
   "execution_count": null,
   "id": "51160af3-553b-47b9-bb2c-31676fa60ceb",
   "metadata": {},
   "outputs": [],
   "source": [
    "class Solution:\n",
    "    def answerString(self, word: str, numFriends: int) -> str:\n",
    "        if numFriends == 1:\n",
    "            return word\n",
    "        n = len(word)\n",
    "        strlen = n - numFriends + 1\n",
    "        ans = word[:strlen]\n",
    "        for i in range(len(word)):\n",
    "            curr_word = word[i: min(i + strlen, n)]\n",
    "            if curr_word > ans:\n",
    "                ans = curr_word\n",
    "        return ans"
   ]
  }
 ],
 "metadata": {
  "kernelspec": {
   "display_name": "Python 3 (ipykernel)",
   "language": "python",
   "name": "python3"
  },
  "language_info": {
   "codemirror_mode": {
    "name": "ipython",
    "version": 3
   },
   "file_extension": ".py",
   "mimetype": "text/x-python",
   "name": "python",
   "nbconvert_exporter": "python",
   "pygments_lexer": "ipython3",
   "version": "3.13.4"
  }
 },
 "nbformat": 4,
 "nbformat_minor": 5
}
