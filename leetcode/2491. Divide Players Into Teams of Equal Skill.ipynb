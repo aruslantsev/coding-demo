{
 "cells": [
  {
   "cell_type": "markdown",
   "id": "c3e3b6fd-2f11-432e-b016-16894d23c8cf",
   "metadata": {},
   "source": [
    "You are given a positive integer array skill of even length n where skill[i] denotes the skill of the ith player. Divide the players into n / 2 teams of size 2 such that the total skill of each team is equal.\n",
    "\n",
    "The chemistry of a team is equal to the product of the skills of the players on that team.\n",
    "\n",
    "Return the sum of the chemistry of all the teams, or return -1 if there is no way to divide the players into teams such that the total skill of each team is equal.\n",
    "\n",
    " \n",
    "\n",
    "Example 1:\n",
    "\n",
    "Input: skill = [3,2,5,1,3,4]\n",
    "Output: 22\n",
    "Explanation: \n",
    "Divide the players into the following teams: (1, 5), (2, 4), (3, 3), where each team has a total skill of 6.\n",
    "The sum of the chemistry of all the teams is: 1 * 5 + 2 * 4 + 3 * 3 = 5 + 8 + 9 = 22.\n",
    "\n",
    "Example 2:\n",
    "\n",
    "Input: skill = [3,4]\n",
    "Output: 12\n",
    "Explanation: \n",
    "The two players form a team with a total skill of 7.\n",
    "The chemistry of the team is 3 * 4 = 12.\n",
    "\n",
    "Example 3:\n",
    "\n",
    "Input: skill = [1,1,2,3]\n",
    "Output: -1\n",
    "Explanation: \n",
    "There is no way to divide the players into teams such that the total skill of each team is equal.\n",
    "\n",
    " \n",
    "\n",
    "Constraints:\n",
    "\n",
    "    2 <= skill.length <= 105\n",
    "    skill.length is even.\n",
    "    1 <= skill[i] <= 1000\n",
    "\n"
   ]
  },
  {
   "cell_type": "code",
   "execution_count": null,
   "id": "70007bf7-8395-4316-b94f-3722c2f57a89",
   "metadata": {},
   "outputs": [],
   "source": [
    "class Solution:\n",
    "    def dividePlayers(self, skill: List[int]) -> int:\n",
    "        total_skill = sum(skill)\n",
    "        if total_skill % (len(skill) // 2) != 0:\n",
    "            return -1\n",
    "        team_skill = total_skill // (len(skill) // 2)\n",
    "        counts = Counter(skill)\n",
    "        ans = 0\n",
    "        for s in skill:\n",
    "            if counts[s] > 0:\n",
    "                if ((team_skill - s) in counts) and (counts[team_skill - s] > 0):\n",
    "                    ans += s * (team_skill - s)\n",
    "                    counts[s] -= 1\n",
    "                    counts[team_skill - s] -= 1\n",
    "                else:\n",
    "                    return -1\n",
    "        return ans\n",
    "        "
   ]
  }
 ],
 "metadata": {
  "kernelspec": {
   "display_name": "Python 3 (ipykernel)",
   "language": "python",
   "name": "python3"
  },
  "language_info": {
   "codemirror_mode": {
    "name": "ipython",
    "version": 3
   },
   "file_extension": ".py",
   "mimetype": "text/x-python",
   "name": "python",
   "nbconvert_exporter": "python",
   "pygments_lexer": "ipython3",
   "version": "3.12.4"
  }
 },
 "nbformat": 4,
 "nbformat_minor": 5
}
