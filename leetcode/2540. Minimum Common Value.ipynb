{
 "cells": [
  {
   "cell_type": "markdown",
   "id": "52c29636-75a7-4041-b0aa-070f8769af43",
   "metadata": {},
   "source": [
    "Given two integer arrays nums1 and nums2, sorted in non-decreasing order, return the minimum integer common to both arrays. If there is no common integer amongst nums1 and nums2, return -1.\n",
    "\n",
    "Note that an integer is said to be common to nums1 and nums2 if both arrays have at least one occurrence of that integer.\n",
    "\n",
    " \n",
    "\n",
    "Example 1:\n",
    "\n",
    "Input: nums1 = [1,2,3], nums2 = [2,4]\n",
    "Output: 2\n",
    "Explanation: The smallest element common to both arrays is 2, so we return 2.\n",
    "\n",
    "Example 2:\n",
    "\n",
    "Input: nums1 = [1,2,3,6], nums2 = [2,3,4,5]\n",
    "Output: 2\n",
    "Explanation: There are two common elements in the array 2 and 3 out of which 2 is the smallest, so 2 is returned.\n",
    "\n",
    " \n",
    "\n",
    "Constraints:\n",
    "\n",
    "    1 <= nums1.length, nums2.length <= 105\n",
    "    1 <= nums1[i], nums2[j] <= 109\n",
    "    Both nums1 and nums2 are sorted in non-decreasing order.\n",
    "\n"
   ]
  },
  {
   "cell_type": "code",
   "execution_count": null,
   "id": "85812ef2-3f92-4425-a32f-eae15f920c37",
   "metadata": {},
   "outputs": [],
   "source": [
    "class Solution:\n",
    "    def getCommon(self, nums1: List[int], nums2: List[int]) -> int:\n",
    "        p1 = 0\n",
    "        p2 = 0\n",
    "\n",
    "        while p1 < len(nums1) and p2 < len(nums2):\n",
    "            if nums1[p1] == nums2[p2]:\n",
    "                return nums1[p1]\n",
    "            if nums1[p1] < nums2[p2]:\n",
    "                p1 += 1\n",
    "            else:\n",
    "                p2 += 1\n",
    "        \n",
    "        return -1\n",
    "        "
   ]
  }
 ],
 "metadata": {
  "kernelspec": {
   "display_name": "common",
   "language": "python",
   "name": "common"
  },
  "language_info": {
   "codemirror_mode": {
    "name": "ipython",
    "version": 3
   },
   "file_extension": ".py",
   "mimetype": "text/x-python",
   "name": "python",
   "nbconvert_exporter": "python",
   "pygments_lexer": "ipython3",
   "version": "3.11.7"
  }
 },
 "nbformat": 4,
 "nbformat_minor": 5
}
