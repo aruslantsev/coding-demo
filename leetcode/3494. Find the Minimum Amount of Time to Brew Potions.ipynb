{
 "cells": [
  {
   "cell_type": "markdown",
   "id": "d589bca1-419e-46e4-a5cb-9a771322eab2",
   "metadata": {},
   "source": [
    "You are given two integer arrays, skill and mana, of length n and m, respectively.\n",
    "\n",
    "In a laboratory, n wizards must brew m potions in order. Each potion has a mana capacity mana[j] and must pass through all the wizards sequentially to be brewed properly. The time taken by the ith wizard on the jth potion is timeij = skill[i] * mana[j].\n",
    "\n",
    "Since the brewing process is delicate, a potion must be passed to the next wizard immediately after the current wizard completes their work. This means the timing must be synchronized so that each wizard begins working on a potion exactly when it arrives. ​\n",
    "\n",
    "Return the minimum amount of time required for the potions to be brewed properly.\n",
    "\n",
    " \n",
    "\n",
    "Example 1:\n",
    "\n",
    "Input: skill = [1,5,2,4], mana = [5,1,4,2]\n",
    "\n",
    "Output: 110\n",
    "\n",
    "Explanation:\n",
    "Potion Number\tStart time\tWizard 0 done by\tWizard 1 done by\tWizard 2 done by\tWizard 3 done by\n",
    "0\t0\t5\t30\t40\t60\n",
    "1\t52\t53\t58\t60\t64\n",
    "2\t54\t58\t78\t86\t102\n",
    "3\t86\t88\t98\t102\t110\n",
    "\n",
    "As an example for why wizard 0 cannot start working on the 1st potion before time t = 52, consider the case where the wizards started preparing the 1st potion at time t = 50. At time t = 58, wizard 2 is done with the 1st potion, but wizard 3 will still be working on the 0th potion till time t = 60.\n",
    "\n",
    "Example 2:\n",
    "\n",
    "Input: skill = [1,1,1], mana = [1,1,1]\n",
    "\n",
    "Output: 5\n",
    "\n",
    "Explanation:\n",
    "\n",
    "    Preparation of the 0th potion begins at time t = 0, and is completed by time t = 3.\n",
    "    Preparation of the 1st potion begins at time t = 1, and is completed by time t = 4.\n",
    "    Preparation of the 2nd potion begins at time t = 2, and is completed by time t = 5.\n",
    "\n",
    "Example 3:\n",
    "\n",
    "Input: skill = [1,2,3,4], mana = [1,2]\n",
    "\n",
    "Output: 21\n",
    "\n",
    " \n",
    "\n",
    "Constraints:\n",
    "\n",
    "    n == skill.length\n",
    "    m == mana.length\n",
    "    1 <= n, m <= 5000\n",
    "    1 <= mana[i], skill[i] <= 5000\n",
    "\n",
    " "
   ]
  },
  {
   "cell_type": "code",
   "execution_count": null,
   "id": "55de67a9-c6fb-40db-ab46-dcbcad88b2bc",
   "metadata": {},
   "outputs": [],
   "source": [
    "class Solution:\n",
    "    def minTime(self, skill: List[int], mana: List[int]) -> int:\n",
    "        end = [0 for _ in skill]\n",
    "        ans = 0\n",
    "        for m in mana:\n",
    "            for i, s in enumerate(skill):\n",
    "                if i == 0:\n",
    "                    end[i] = end[i] + s * m\n",
    "                else:\n",
    "                    end[i] = max(end[i - 1], end[i]) + s * m\n",
    "            for i in range(len(skill) - 1, 0, -1):\n",
    "                end[i - 1] = end[i] - skill[i] * m\n",
    "        return end[-1]"
   ]
  }
 ],
 "metadata": {
  "kernelspec": {
   "display_name": "common",
   "language": "python",
   "name": "common"
  },
  "language_info": {
   "codemirror_mode": {
    "name": "ipython",
    "version": 3
   },
   "file_extension": ".py",
   "mimetype": "text/x-python",
   "name": "python",
   "nbconvert_exporter": "python",
   "pygments_lexer": "ipython3",
   "version": "3.12.11"
  }
 },
 "nbformat": 4,
 "nbformat_minor": 5
}
