{
 "cells": [
  {
   "cell_type": "markdown",
   "id": "6415f239-082a-4098-864d-afb75de25a7d",
   "metadata": {},
   "source": [
    "You are given an array of n strings strs, all of the same length.\n",
    "\n",
    "The strings can be arranged such that there is one on each line, making a grid. For example, strs = [\"abc\", \"bce\", \"cae\"] can be arranged as:\n",
    "\n",
    "abc\n",
    "bce\n",
    "cae\n",
    "\n",
    "You want to delete the columns that are not sorted lexicographically. In the above example (0-indexed), columns 0 ('a', 'b', 'c') and 2 ('c', 'e', 'e') are sorted while column 1 ('b', 'c', 'a') is not, so you would delete column 1.\n",
    "\n",
    "Return the number of columns that you will delete.\n",
    "\n",
    " \n",
    "\n",
    "Example 1:\n",
    "\n",
    "Input: strs = [\"cba\",\"daf\",\"ghi\"]\n",
    "Output: 1\n",
    "Explanation: The grid looks as follows:\n",
    "  cba\n",
    "  daf\n",
    "  ghi\n",
    "Columns 0 and 2 are sorted, but column 1 is not, so you only need to delete 1 column.\n",
    "\n",
    "Example 2:\n",
    "\n",
    "Input: strs = [\"a\",\"b\"]\n",
    "Output: 0\n",
    "Explanation: The grid looks as follows:\n",
    "  a\n",
    "  b\n",
    "Column 0 is the only column and is sorted, so you will not delete any columns.\n",
    "\n",
    "Example 3:\n",
    "\n",
    "Input: strs = [\"zyx\",\"wvu\",\"tsr\"]\n",
    "Output: 3\n",
    "Explanation: The grid looks as follows:\n",
    "  zyx\n",
    "  wvu\n",
    "  tsr\n",
    "All 3 columns are not sorted, so you will delete all 3.\n",
    "\n",
    " \n",
    "\n",
    "Constraints:\n",
    "\n",
    "    n == strs.length\n",
    "    1 <= n <= 100\n",
    "    1 <= strs[i].length <= 1000\n",
    "    strs[i] consists of lowercase English letters.\n",
    "\n"
   ]
  },
  {
   "cell_type": "code",
   "execution_count": null,
   "id": "63904236-b620-42a1-ab74-8c4d9200dd7c",
   "metadata": {},
   "outputs": [],
   "source": [
    "class Solution:\n",
    "    def minDeletionSize(self, strs: List[str]) -> int:\n",
    "        ans = 0\n",
    "        for i in range(len(strs[0])):\n",
    "            substr = [r[i] for r in strs]\n",
    "            if substr != sorted(substr):\n",
    "                ans += 1\n",
    "\n",
    "        return ans"
   ]
  }
 ],
 "metadata": {
  "kernelspec": {
   "display_name": "Python 3 (ipykernel)",
   "language": "python",
   "name": "python3"
  },
  "language_info": {
   "codemirror_mode": {
    "name": "ipython",
    "version": 3
   },
   "file_extension": ".py",
   "mimetype": "text/x-python",
   "name": "python",
   "nbconvert_exporter": "python",
   "pygments_lexer": "ipython3",
   "version": "3.9.13"
  }
 },
 "nbformat": 4,
 "nbformat_minor": 5
}
