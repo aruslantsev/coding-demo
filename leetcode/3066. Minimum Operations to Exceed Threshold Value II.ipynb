{
 "cells": [
  {
   "cell_type": "markdown",
   "id": "d6d61f06-0b62-45d8-8524-b2fe10052efb",
   "metadata": {},
   "source": [
    "You are given a 0-indexed integer array nums, and an integer k.\n",
    "\n",
    "In one operation, you will:\n",
    "\n",
    "    Take the two smallest integers x and y in nums.\n",
    "    Remove x and y from nums.\n",
    "    Add min(x, y) * 2 + max(x, y) anywhere in the array.\n",
    "\n",
    "Note that you can only apply the described operation if nums contains at least two elements.\n",
    "\n",
    "Return the minimum number of operations needed so that all elements of the array are greater than or equal to k.\n",
    "\n",
    " \n",
    "\n",
    "Example 1:\n",
    "\n",
    "Input: nums = [2,11,10,1,3], k = 10\n",
    "Output: 2\n",
    "Explanation: In the first operation, we remove elements 1 and 2, then add 1 * 2 + 2 to nums. nums becomes equal to [4, 11, 10, 3].\n",
    "In the second operation, we remove elements 3 and 4, then add 3 * 2 + 4 to nums. nums becomes equal to [10, 11, 10].\n",
    "At this stage, all the elements of nums are greater than or equal to 10 so we can stop.\n",
    "It can be shown that 2 is the minimum number of operations needed so that all elements of the array are greater than or equal to 10.\n",
    "\n",
    "Example 2:\n",
    "\n",
    "Input: nums = [1,1,2,4,9], k = 20\n",
    "Output: 4\n",
    "Explanation: After one operation, nums becomes equal to [2, 4, 9, 3].\n",
    "After two operations, nums becomes equal to [7, 4, 9].\n",
    "After three operations, nums becomes equal to [15, 9].\n",
    "After four operations, nums becomes equal to [33].\n",
    "At this stage, all the elements of nums are greater than 20 so we can stop.\n",
    "It can be shown that 4 is the minimum number of operations needed so that all elements of the array are greater than or equal to 20.\n",
    "\n",
    " \n",
    "\n",
    "Constraints:\n",
    "\n",
    "    2 <= nums.length <= 2 * 105\n",
    "    1 <= nums[i] <= 109\n",
    "    1 <= k <= 109\n",
    "    The input is generated such that an answer always exists. That is, there exists some sequence of operations after which all elements of the array are greater than or equal to k.\n",
    "\n"
   ]
  },
  {
   "cell_type": "code",
   "execution_count": null,
   "id": "fff1e62e-f357-4308-9e7b-92a0c699d42e",
   "metadata": {},
   "outputs": [],
   "source": [
    "class Solution:\n",
    "    def minOperations(self, nums: List[int], k: int) -> int:\n",
    "        heapq.heapify(nums)\n",
    "        ans = 0\n",
    "        while len(nums) >= 2:\n",
    "            op1 = heapq.heappop(nums)\n",
    "            op2 = heapq.heappop(nums)\n",
    "            if op1 >= k:\n",
    "                return ans\n",
    "            heapq.heappush(nums, op1 * 2 + op2)\n",
    "            ans += 1\n",
    "        if nums[0] >= k:\n",
    "            return ans\n",
    "        return -1"
   ]
  }
 ],
 "metadata": {
  "kernelspec": {
   "display_name": "Python 3 (ipykernel)",
   "language": "python",
   "name": "python3"
  },
  "language_info": {
   "codemirror_mode": {
    "name": "ipython",
    "version": 3
   },
   "file_extension": ".py",
   "mimetype": "text/x-python",
   "name": "python",
   "nbconvert_exporter": "python",
   "pygments_lexer": "ipython3",
   "version": "3.12.7"
  }
 },
 "nbformat": 4,
 "nbformat_minor": 5
}
