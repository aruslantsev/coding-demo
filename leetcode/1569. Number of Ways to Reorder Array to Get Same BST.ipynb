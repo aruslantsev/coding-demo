{
 "cells": [
  {
   "attachments": {
    "35cc990a-3cd3-4d3f-8e11-31ccab23b5d6.png": {
     "image/png": "[encoded data removed]"
    },
    "7b94f21e-6b26-4a09-975b-16b5d94f6568.png": {
     "image/png": "[encoded data removed]"
    },
    "e4d2f545-b64e-4f22-9e83-fbe2a8907c29.png": {
     "image/png": "[encoded data removed]"
    }
   },
   "cell_type": "markdown",
   "id": "83e1fd7c-c43f-4362-8e29-53933f1265c7",
   "metadata": {},
   "source": [
    "Given an array nums that represents a permutation of integers from 1 to n. We are going to construct a binary search tree (BST) by inserting the elements of nums in order into an initially empty BST. Find the number of different ways to reorder nums so that the constructed BST is identical to that formed from the original array nums.\n",
    "\n",
    "    For example, given nums = [2,1,3], we will have 2 as the root, 1 as a left child, and 3 as a right child. The array [2,3,1] also yields the same BST but [3,2,1] yields a different BST.\n",
    "\n",
    "Return the number of ways to reorder nums such that the BST formed is identical to the original BST formed from nums.\n",
    "\n",
    "Since the answer may be very large, return it modulo 109 + 7.\n",
    "\n",
    " \n",
    "\n",
    "Example 1:\n",
    "\n",
    "![image.png](attachment:35cc990a-3cd3-4d3f-8e11-31ccab23b5d6.png)\n",
    "\n",
    "Input: nums = [2,1,3]\n",
    "Output: 1\n",
    "Explanation: We can reorder nums to be [2,3,1] which will yield the same BST. There are no other ways to reorder nums which will yield the same BST.\n",
    "\n",
    "Example 2:\n",
    "\n",
    "![image.png](attachment:7b94f21e-6b26-4a09-975b-16b5d94f6568.png)\n",
    "\n",
    "Input: nums = [3,4,5,1,2]\n",
    "Output: 5\n",
    "Explanation: The following 5 arrays will yield the same BST: \n",
    "[3,1,2,4,5]\n",
    "[3,1,4,2,5]\n",
    "[3,1,4,5,2]\n",
    "[3,4,1,2,5]\n",
    "[3,4,1,5,2]\n",
    "\n",
    "Example 3:\n",
    "\n",
    "![image.png](attachment:e4d2f545-b64e-4f22-9e83-fbe2a8907c29.png)class Solution:\n",
    "    def numOfWays(self, nums: List[int]) -> int:\n",
    "        def f(nums):\n",
    "            if len(nums) <= 2:\n",
    "                return 1\n",
    "            left = [v for v in nums if v < nums[0]]\n",
    "            right = [v for v in nums if v > nums[0]]\n",
    "            return comb(len(left) + len(right), len(right)) * f(left) * f(right)\n",
    "        \n",
    "        return (f(nums) - 1) % (10**9 + 7)\n",
    "\n",
    "\n",
    "Input: nums = [1,2,3]\n",
    "Output: 0\n",
    "Explanation: There are no other orderings of nums that will yield the same BST.\n",
    "\n",
    " \n",
    "\n",
    "Constraints:\n",
    "\n",
    "    1 <= nums.length <= 1000\n",
    "    1 <= nums[i] <= nums.length\n",
    "    All integers in nums are distinct.\n",
    "\n"
   ]
  },
  {
   "cell_type": "code",
   "execution_count": null,
   "id": "dd8ce03e-121a-4ff3-a365-65f63354a8b8",
   "metadata": {},
   "outputs": [],
   "source": [
    "class Solution:\n",
    "    def numOfWays(self, nums: List[int]) -> int:\n",
    "        def f(nums):\n",
    "            if len(nums) <= 2:\n",
    "                return 1\n",
    "            left = [v for v in nums if v < nums[0]]\n",
    "            right = [v for v in nums if v > nums[0]]\n",
    "            return comb(len(left) + len(right), len(right)) * f(left) * f(right)\n",
    "        \n",
    "        return (f(nums) - 1) % (10**9 + 7)\n"
   ]
  }
 ],
 "metadata": {
  "kernelspec": {
   "display_name": "Python 3 (ipykernel)",
   "language": "python",
   "name": "python3"
  },
  "language_info": {
   "codemirror_mode": {
    "name": "ipython",
    "version": 3
   },
   "file_extension": ".py",
   "mimetype": "text/x-python",
   "name": "python",
   "nbconvert_exporter": "python",
   "pygments_lexer": "ipython3",
   "version": "3.10.11"
  }
 },
 "nbformat": 4,
 "nbformat_minor": 5
}
