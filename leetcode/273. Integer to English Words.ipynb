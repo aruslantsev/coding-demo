{
 "cells": [
  {
   "cell_type": "markdown",
   "id": "02e4f2f8-4d04-4260-908d-77341f49ca3f",
   "metadata": {},
   "source": [
    "Convert a non-negative integer num to its English words representation.\n",
    "\n",
    " \n",
    "\n",
    "Example 1:\n",
    "\n",
    "Input: num = 123\n",
    "Output: \"One Hundred Twenty Three\"\n",
    "\n",
    "Example 2:\n",
    "\n",
    "Input: num = 12345\n",
    "Output: \"Twelve Thousand Three Hundred Forty Five\"\n",
    "\n",
    "Example 3:\n",
    "\n",
    "Input: num = 1234567\n",
    "Output: \"One Million Two Hundred Thirty Four Thousand Five Hundred Sixty Seven\"\n",
    "\n",
    " \n",
    "\n",
    "Constraints:\n",
    "\n",
    "    0 <= num <= 231 - 1\n",
    "\n"
   ]
  },
  {
   "cell_type": "code",
   "execution_count": null,
   "id": "0067e7dc-4c6f-4314-bbbc-c5164566425c",
   "metadata": {},
   "outputs": [],
   "source": [
    "class Solution:\n",
    "    # Arrays to store words for numbers less than 10, 20, and 100\n",
    "    below_ten = [\"\", \"One\", \"Two\", \"Three\", \"Four\", \"Five\", \"Six\", \"Seven\", \"Eight\", \"Nine\"]\n",
    "    below_twenty = [\"Ten\", \"Eleven\", \"Twelve\", \"Thirteen\", \"Fourteen\", \"Fifteen\", \"Sixteen\", \"Seventeen\", \"Eighteen\", \"Nineteen\"]\n",
    "    below_hundred = [\"\", \"Ten\", \"Twenty\", \"Thirty\", \"Forty\", \"Fifty\", \"Sixty\", \"Seventy\", \"Eighty\", \"Ninety\"]\n",
    "    def numberToWords(self, num: int) -> str:\n",
    "        # Handle the special case where the number is zero\n",
    "        if num == 0:\n",
    "            return \"Zero\"\n",
    "        # Call the helper function to start the conversion\n",
    "        return self._convert_to_words(num)\n",
    "\n",
    "    # Recursive function to convert numbers to words\n",
    "    # Handles numbers based on their ranges: <10, <20, <100, <1000, <1000000, <1000000000, and >=1000000000\n",
    "    def _convert_to_words(self, num: int) -> str:\n",
    "        if num < 10:\n",
    "            return self.below_ten[num]\n",
    "        if num < 20:\n",
    "            return self.below_twenty[num - 10]\n",
    "        if num < 100:\n",
    "            return self.below_hundred[num // 10] + (\" \" + self._convert_to_words(num % 10) if num % 10 != 0 else \"\")\n",
    "        if num < 1000:\n",
    "            return self._convert_to_words(num // 100) + \" Hundred\" + (\" \" + self._convert_to_words(num % 100) if num % 100 != 0 else \"\")\n",
    "        if num < 1000000:\n",
    "            return self._convert_to_words(num // 1000) + \" Thousand\" + (\" \" + self._convert_to_words(num % 1000) if num % 1000 != 0 else \"\")\n",
    "        if num < 1000000000:\n",
    "            return self._convert_to_words(num // 1000000) + \" Million\" + (\" \" + self._convert_to_words(num % 1000000) if num % 1000000 != 0 else \"\")\n",
    "        return self._convert_to_words(num // 1000000000) + \" Billion\" + (\" \" + self._convert_to_words(num % 1000000000) if num % 1000000000 != 0 else \"\")"
   ]
  }
 ],
 "metadata": {
  "kernelspec": {
   "display_name": "Python 3 (ipykernel)",
   "language": "python",
   "name": "python3"
  },
  "language_info": {
   "codemirror_mode": {
    "name": "ipython",
    "version": 3
   },
   "file_extension": ".py",
   "mimetype": "text/x-python",
   "name": "python",
   "nbconvert_exporter": "python",
   "pygments_lexer": "ipython3",
   "version": "3.12.3"
  }
 },
 "nbformat": 4,
 "nbformat_minor": 5
}
