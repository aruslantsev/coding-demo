{
 "cells": [
  {
   "cell_type": "markdown",
   "id": "67249a0a-915e-404f-ad5e-22696fa0cae0",
   "metadata": {},
   "source": [
    "You are given a 0-indexed integer array nums and an integer value.\n",
    "\n",
    "In one operation, you can add or subtract value from any element of nums.\n",
    "\n",
    "    For example, if nums = [1,2,3] and value = 2, you can choose to subtract value from nums[0] to make nums = [-1,2,3].\n",
    "\n",
    "The MEX (minimum excluded) of an array is the smallest missing non-negative integer in it.\n",
    "\n",
    "    For example, the MEX of [-1,2,3] is 0 while the MEX of [1,0,3] is 2.\n",
    "\n",
    "Return the maximum MEX of nums after applying the mentioned operation any number of times.\n",
    "\n",
    " \n",
    "\n",
    "Example 1:\n",
    "\n",
    "Input: nums = [1,-10,7,13,6,8], value = 5\n",
    "Output: 4\n",
    "Explanation: One can achieve this result by applying the following operations:\n",
    "- Add value to nums[1] twice to make nums = [1,0,7,13,6,8]\n",
    "- Subtract value from nums[2] once to make nums = [1,0,2,13,6,8]\n",
    "- Subtract value from nums[3] twice to make nums = [1,0,2,3,6,8]\n",
    "The MEX of nums is 4. It can be shown that 4 is the maximum MEX we can achieve.\n",
    "\n",
    "Example 2:\n",
    "\n",
    "Input: nums = [1,-10,7,13,6,8], value = 7\n",
    "Output: 2\n",
    "Explanation: One can achieve this result by applying the following operation:\n",
    "- subtract value from nums[2] once to make nums = [1,-10,0,13,6,8]\n",
    "The MEX of nums is 2. It can be shown that 2 is the maximum MEX we can achieve.\n",
    "\n",
    " \n",
    "\n",
    "Constraints:\n",
    "\n",
    "    1 <= nums.length, value <= 105\n",
    "    -109 <= nums[i] <= 109\n",
    "\n",
    " "
   ]
  },
  {
   "cell_type": "code",
   "execution_count": null,
   "id": "dafe4674-9ee3-4001-8a7e-9706a28894de",
   "metadata": {},
   "outputs": [],
   "source": [
    "class Solution:\n",
    "    def findSmallestInteger(self, nums: List[int], value: int) -> int:\n",
    "        mp = Counter(x % value for x in nums)\n",
    "        mex = 0\n",
    "        while mp[mex % value] > 0:\n",
    "            mp[mex % value] -= 1\n",
    "            mex += 1\n",
    "        return mex"
   ]
  }
 ],
 "metadata": {
  "kernelspec": {
   "display_name": "common",
   "language": "python",
   "name": "common"
  },
  "language_info": {
   "codemirror_mode": {
    "name": "ipython",
    "version": 3
   },
   "file_extension": ".py",
   "mimetype": "text/x-python",
   "name": "python",
   "nbconvert_exporter": "python",
   "pygments_lexer": "ipython3",
   "version": "3.12.11"
  }
 },
 "nbformat": 4,
 "nbformat_minor": 5
}
