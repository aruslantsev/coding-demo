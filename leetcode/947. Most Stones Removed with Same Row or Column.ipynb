{
 "cells": [
  {
   "cell_type": "markdown",
   "id": "9e7c261b-d91c-427f-8a90-d61e6ee8c39f",
   "metadata": {},
   "source": [
    "On a 2D plane, we place n stones at some integer coordinate points. Each coordinate point may have at most one stone.\n",
    "\n",
    "A stone can be removed if it shares either the same row or the same column as another stone that has not been removed.\n",
    "\n",
    "Given an array stones of length n where stones[i] = [xi, yi] represents the location of the ith stone, return the largest possible number of stones that can be removed.\n",
    "\n",
    " \n",
    "\n",
    "Example 1:\n",
    "\n",
    "Input: stones = [[0,0],[0,1],[1,0],[1,2],[2,1],[2,2]]\n",
    "Output: 5\n",
    "Explanation: One way to remove 5 stones is as follows:\n",
    "1. Remove stone [2,2] because it shares the same row as [2,1].\n",
    "2. Remove stone [2,1] because it shares the same column as [0,1].\n",
    "3. Remove stone [1,2] because it shares the same row as [1,0].\n",
    "4. Remove stone [1,0] because it shares the same column as [0,0].\n",
    "5. Remove stone [0,1] because it shares the same row as [0,0].\n",
    "Stone [0,0] cannot be removed since it does not share a row/column with another stone still on the plane.\n",
    "\n",
    "Example 2:\n",
    "\n",
    "Input: stones = [[0,0],[0,2],[1,1],[2,0],[2,2]]\n",
    "Output: 3\n",
    "Explanation: One way to make 3 moves is as follows:\n",
    "1. Remove stone [2,2] because it shares the same row as [2,0].\n",
    "2. Remove stone [2,0] because it shares the same column as [0,0].\n",
    "3. Remove stone [0,2] because it shares the same row as [0,0].\n",
    "Stones [0,0] and [1,1] cannot be removed since they do not share a row/column with another stone still on the plane.\n",
    "\n",
    "Example 3:\n",
    "\n",
    "Input: stones = [[0,0]]\n",
    "Output: 0\n",
    "Explanation: [0,0] is the only stone on the plane, so you cannot remove it.\n",
    "\n",
    " \n",
    "\n",
    "Constraints:\n",
    "\n",
    "    1 <= stones.length <= 1000\n",
    "    0 <= xi, yi <= 104\n",
    "    No two stones are at the same coordinate point.\n",
    "\n"
   ]
  },
  {
   "cell_type": "code",
   "execution_count": 10,
   "id": "9a596acb-38f2-4341-9b71-660dd10334d3",
   "metadata": {},
   "outputs": [],
   "source": [
    "from typing import List\n",
    "from collections import defaultdict, deque\n",
    "\n",
    "class Solution:\n",
    "    def removeStones(self, stones: List[List[int]]) -> int:\n",
    "        self.visited = [False for _ in stones]\n",
    "        x_ind = defaultdict(list)\n",
    "        y_ind = defaultdict(list)\n",
    "        for i, stone in enumerate(stones):\n",
    "            x_ind[stone[0]].append(i)\n",
    "            y_ind[stone[1]].append(i)\n",
    "\n",
    "        ans = 0\n",
    "        for i, stone in enumerate(stones):\n",
    "            q = deque()\n",
    "            if not self.visited[i]:\n",
    "                ans += 1\n",
    "                q.append(i)\n",
    "\n",
    "            while q:\n",
    "                i = q.popleft()\n",
    "                if not self.visited[i]:\n",
    "                    self.visited[i] = True\n",
    "                    q.extend(set(x_ind[stones[i][0]] + y_ind[stones[i][1]]))\n",
    "\n",
    "        return len(stones) - ans"
   ]
  },
  {
   "cell_type": "code",
   "execution_count": 11,
   "id": "c4e2273c-836b-43da-8a82-a77278290cd1",
   "metadata": {},
   "outputs": [],
   "source": [
    "s = Solution()"
   ]
  },
  {
   "cell_type": "code",
   "execution_count": 12,
   "id": "2fa32c7b-8af9-40b5-bd24-96df27f36bc3",
   "metadata": {},
   "outputs": [
    {
     "data": {
      "text/plain": [
       "5"
      ]
     },
     "execution_count": 12,
     "metadata": {},
     "output_type": "execute_result"
    }
   ],
   "source": [
    "s.removeStones([[0,0],[0,1],[1,0],[1,2],[2,1],[2,2]])"
   ]
  },
  {
   "cell_type": "code",
   "execution_count": null,
   "id": "f28820b9-a7b4-4918-8217-028222bd2b59",
   "metadata": {},
   "outputs": [],
   "source": []
  }
 ],
 "metadata": {
  "kernelspec": {
   "display_name": "Python 3 (ipykernel)",
   "language": "python",
   "name": "python3"
  },
  "language_info": {
   "codemirror_mode": {
    "name": "ipython",
    "version": 3
   },
   "file_extension": ".py",
   "mimetype": "text/x-python",
   "name": "python",
   "nbconvert_exporter": "python",
   "pygments_lexer": "ipython3",
   "version": "3.9.13"
  }
 },
 "nbformat": 4,
 "nbformat_minor": 5
}
