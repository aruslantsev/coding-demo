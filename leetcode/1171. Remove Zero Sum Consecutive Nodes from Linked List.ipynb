{
 "cells": [
  {
   "cell_type": "markdown",
   "id": "c3362d71-f386-4bb6-af09-59d042110041",
   "metadata": {},
   "source": [
    "Given the head of a linked list, we repeatedly delete consecutive sequences of nodes that sum to 0 until there are no such sequences.\n",
    "\n",
    "After doing so, return the head of the final linked list.  You may return any such answer.\n",
    "\n",
    " \n",
    "\n",
    "(Note that in the examples below, all sequences are serializations of ListNode objects.)\n",
    "\n",
    "Example 1:\n",
    "\n",
    "Input: head = [1,2,-3,3,1]\n",
    "Output: [3,1]\n",
    "Note: The answer [1,2,1] would also be accepted.\n",
    "\n",
    "Example 2:\n",
    "\n",
    "Input: head = [1,2,3,-3,4]\n",
    "Output: [1,2,4]\n",
    "\n",
    "Example 3:\n",
    "\n",
    "Input: head = [1,2,3,-3,-2]\n",
    "Output: [1]\n",
    "\n",
    " \n",
    "\n",
    "Constraints:\n",
    "\n",
    "    The given linked list will contain between 1 and 1000 nodes.\n",
    "    Each node in the linked list has -1000 <= node.val <= 1000.\n",
    "\n"
   ]
  },
  {
   "cell_type": "code",
   "execution_count": null,
   "id": "9a421e38-05aa-4dff-b61d-f582bd217931",
   "metadata": {},
   "outputs": [],
   "source": [
    "# Definition for singly-linked list.\n",
    "# class ListNode:\n",
    "#     def __init__(self, val=0, next=None):\n",
    "#         self.val = val\n",
    "#         self.next = next\n",
    "class Solution:\n",
    "    def removeZeroSumSublists(self, head: Optional[ListNode]) -> Optional[ListNode]:\n",
    "        if not head:\n",
    "            return\n",
    "\n",
    "        first = ListNode(0, head)\n",
    "        head = first\n",
    "        while head is not None:\n",
    "            s = 0\n",
    "            last = head.next\n",
    "            while last is not None:\n",
    "                s += last.val\n",
    "                if s == 0:\n",
    "                    head.next = last.next\n",
    "                last = last.next\n",
    "            head = head.next\n",
    "        return first.next\n",
    "        "
   ]
  }
 ],
 "metadata": {
  "kernelspec": {
   "display_name": "common",
   "language": "python",
   "name": "common"
  },
  "language_info": {
   "codemirror_mode": {
    "name": "ipython",
    "version": 3
   },
   "file_extension": ".py",
   "mimetype": "text/x-python",
   "name": "python",
   "nbconvert_exporter": "python",
   "pygments_lexer": "ipython3",
   "version": "3.11.7"
  }
 },
 "nbformat": 4,
 "nbformat_minor": 5
}
