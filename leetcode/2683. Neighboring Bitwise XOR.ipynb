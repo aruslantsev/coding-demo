{
 "cells": [
  {
   "cell_type": "markdown",
   "id": "576f3483-8aef-4039-8a09-7d45e9bcb9d9",
   "metadata": {},
   "source": [
    "A 0-indexed array derived with length n is derived by computing the bitwise XOR (⊕) of adjacent values in a binary array original of length n.\n",
    "\n",
    "Specifically, for each index i in the range [0, n - 1]:\n",
    "\n",
    "    If i = n - 1, then derived[i] = original[i] ⊕ original[0].\n",
    "    Otherwise, derived[i] = original[i] ⊕ original[i + 1].\n",
    "\n",
    "Given an array derived, your task is to determine whether there exists a valid binary array original that could have formed derived.\n",
    "\n",
    "Return true if such an array exists or false otherwise.\n",
    "\n",
    "    A binary array is an array containing only 0's and 1's\n",
    "\n",
    " \n",
    "\n",
    "Example 1:\n",
    "\n",
    "Input: derived = [1,1,0]\n",
    "Output: true\n",
    "Explanation: A valid original array that gives derived is [0,1,0].\n",
    "derived[0] = original[0] ⊕ original[1] = 0 ⊕ 1 = 1 \n",
    "derived[1] = original[1] ⊕ original[2] = 1 ⊕ 0 = 1\n",
    "derived[2] = original[2] ⊕ original[0] = 0 ⊕ 0 = 0\n",
    "\n",
    "Example 2:\n",
    "\n",
    "Input: derived = [1,1]\n",
    "Output: true\n",
    "Explanation: A valid original array that gives derived is [0,1].\n",
    "derived[0] = original[0] ⊕ original[1] = 1\n",
    "derived[1] = original[1] ⊕ original[0] = 1\n",
    "\n",
    "Example 3:\n",
    "\n",
    "Input: derived = [1,0]\n",
    "Output: false\n",
    "Explanation: There is no valid original array that gives derived.\n",
    "\n",
    " \n",
    "\n",
    "Constraints:\n",
    "\n",
    "    n == derived.length\n",
    "    1 <= n <= 105\n",
    "    The values in derived are either 0's or 1's\n",
    "\n"
   ]
  },
  {
   "cell_type": "code",
   "execution_count": null,
   "id": "c9a26b6b-f919-4265-864b-30019d12025d",
   "metadata": {},
   "outputs": [],
   "source": [
    "class Solution:\n",
    "    def doesValidArrayExist(self, derived: List[int]) -> bool:\n",
    "        # Create an original array initialized with 0.\n",
    "        original = [0]\n",
    "        for i in range(len(derived)):\n",
    "            original.append(derived[i] ^ original[i])\n",
    "\n",
    "        # Store the validation results in checkForZero and checkForOne respectively.\n",
    "        check_for_zero = original[0] == original[-1]\n",
    "        original = [1]\n",
    "        for i in range(len(derived)):\n",
    "            original.append(derived[i] ^ original[i])\n",
    "        check_for_one = original[0] == original[-1]\n",
    "\n",
    "        return check_for_zero or check_for_one"
   ]
  },
  {
   "cell_type": "code",
   "execution_count": null,
   "id": "868e4cc1-46f8-4e71-9066-c2bb3a8781e6",
   "metadata": {},
   "outputs": [],
   "source": [
    "class Solution:\n",
    "    def doesValidArrayExist(self, derived: List[int]) -> bool:\n",
    "        XOR = 0\n",
    "        for element in derived:\n",
    "            XOR = XOR ^ element\n",
    "        return XOR == 0"
   ]
  },
  {
   "cell_type": "code",
   "execution_count": null,
   "id": "d694078c-a8fe-4b90-afcd-3bf4e43a19b6",
   "metadata": {},
   "outputs": [],
   "source": [
    "class Solution:\n",
    "    def doesValidArrayExist(self, derived: List[int]) -> bool:\n",
    "        return sum(derived) % 2 == 0"
   ]
  }
 ],
 "metadata": {
  "kernelspec": {
   "display_name": "Python 3 (ipykernel)",
   "language": "python",
   "name": "python3"
  },
  "language_info": {
   "codemirror_mode": {
    "name": "ipython",
    "version": 3
   },
   "file_extension": ".py",
   "mimetype": "text/x-python",
   "name": "python",
   "nbconvert_exporter": "python",
   "pygments_lexer": "ipython3",
   "version": "3.12.7"
  }
 },
 "nbformat": 4,
 "nbformat_minor": 5
}
