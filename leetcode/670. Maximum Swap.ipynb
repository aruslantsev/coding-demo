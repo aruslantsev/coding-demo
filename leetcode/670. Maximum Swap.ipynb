{
 "cells": [
  {
   "cell_type": "markdown",
   "id": "26d8744a-4d2b-4e1d-b749-e84e66fbd026",
   "metadata": {},
   "source": [
    "You are given an integer num. You can swap two digits at most once to get the maximum valued number.\n",
    "\n",
    "Return the maximum valued number you can get.\n",
    "\n",
    " \n",
    "\n",
    "Example 1:\n",
    "\n",
    "Input: num = 2736\n",
    "Output: 7236\n",
    "Explanation: Swap the number 2 and the number 7.\n",
    "\n",
    "Example 2:\n",
    "\n",
    "Input: num = 9973\n",
    "Output: 9973\n",
    "Explanation: No swap.\n",
    "\n",
    " \n",
    "\n",
    "Constraints:\n",
    "\n",
    "    0 <= num <= 108\n",
    "\n"
   ]
  },
  {
   "cell_type": "code",
   "execution_count": null,
   "id": "fde992e6-ad48-4c37-9314-cac54175973a",
   "metadata": {},
   "outputs": [],
   "source": [
    "class Solution:\n",
    "    def maximumSwap(self, num: int) -> int:\n",
    "        max_possible = sorted(list(str(num)), reverse=True)\n",
    "        curr = list(str(num))\n",
    "        for i in range(len(curr)):\n",
    "            if curr[i] != max_possible[i]:\n",
    "                max_remaining = max(curr[i:])\n",
    "                j = str(num).rfind(max_remaining)\n",
    "                curr[i], curr[j] = curr[j], curr[i]\n",
    "                return int(\"\".join(curr))\n",
    "        return num"
   ]
  }
 ],
 "metadata": {
  "kernelspec": {
   "display_name": "Python 3 (ipykernel)",
   "language": "python",
   "name": "python3"
  },
  "language_info": {
   "codemirror_mode": {
    "name": "ipython",
    "version": 3
   },
   "file_extension": ".py",
   "mimetype": "text/x-python",
   "name": "python",
   "nbconvert_exporter": "python",
   "pygments_lexer": "ipython3",
   "version": "3.12.7"
  }
 },
 "nbformat": 4,
 "nbformat_minor": 5
}
