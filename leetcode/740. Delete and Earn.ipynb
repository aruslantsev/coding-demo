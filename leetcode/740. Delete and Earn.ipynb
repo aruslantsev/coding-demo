{
 "cells": [
  {
   "cell_type": "markdown",
   "id": "7bc80594",
   "metadata": {},
   "source": [
    "You are given an integer array nums. You want to maximize the number of points you get by performing the following operation any number of times:\n",
    "\n",
    "    Pick any nums[i] and delete it to earn nums[i] points. Afterwards, you must delete every element equal to nums[i] - 1 and every element equal to nums[i] + 1.\n",
    "\n",
    "Return the maximum number of points you can earn by applying the above operation some number of times.\n",
    "\n",
    " \n",
    "\n",
    "Example 1:\n",
    "\n",
    "Input: nums = [3,4,2]\n",
    "Output: 6\n",
    "Explanation: You can perform the following operations:\n",
    "- Delete 4 to earn 4 points. Consequently, 3 is also deleted. nums = [2].\n",
    "- Delete 2 to earn 2 points. nums = [].\n",
    "You earn a total of 6 points.\n",
    "\n",
    "Example 2:\n",
    "\n",
    "Input: nums = [2,2,3,3,3,4]\n",
    "Output: 9\n",
    "Explanation: You can perform the following operations:\n",
    "- Delete a 3 to earn 3 points. All 2's and 4's are also deleted. nums = [3,3].\n",
    "- Delete a 3 again to earn 3 points. nums = [3].\n",
    "- Delete a 3 once more to earn 3 points. nums = [].\n",
    "You earn a total of 9 points.\n",
    "\n",
    " \n",
    "\n",
    "Constraints:\n",
    "\n",
    "    1 <= nums.length <= 2 * 104\n",
    "    1 <= nums[i] <= 104\n",
    "\n"
   ]
  },
  {
   "cell_type": "code",
   "execution_count": 3,
   "id": "964d54e0",
   "metadata": {},
   "outputs": [],
   "source": [
    "from typing import List\n",
    "from collections import Counter\n",
    "\n",
    "class Solution:\n",
    "    def deleteAndEarn(self, nums: List[int]) -> int:\n",
    "        counts = dict(Counter(nums))\n",
    "        \n",
    "        score = 0\n",
    "        for_removal = []\n",
    "        for k in sorted(counts):\n",
    "            if not(((k - 1) in counts) or ((k + 1) in counts)):\n",
    "                score += k * counts[k]\n",
    "                for_removal.append(k)\n",
    "                \n",
    "        for k in for_removal:\n",
    "            del counts[k]\n",
    "        \n",
    "        def dfs(counts, score):\n",
    "            def compute_score(counts, num, score):\n",
    "                counts = counts.copy()\n",
    "                score = score + num * counts[num]\n",
    "                del counts[num]\n",
    "                if (num + 1) in counts:\n",
    "                    del counts[num + 1]\n",
    "                if (num - 1) in counts:\n",
    "                    del counts[num - 1]\n",
    "                    \n",
    "                if counts == {}:\n",
    "                    return score\n",
    "                else:\n",
    "                    return dfs(counts, score)\n",
    "                \n",
    "            return max([compute_score(counts, num, score) for num in counts])\n",
    "        \n",
    "        return dfs(counts, score)\n"
   ]
  },
  {
   "cell_type": "code",
   "execution_count": 16,
   "id": "51156df7",
   "metadata": {},
   "outputs": [],
   "source": [
    "from typing import List\n",
    "from collections import Counter\n",
    "\n",
    "class Solution:\n",
    "    def deleteAndEarn(self, nums: List[int]) -> int:\n",
    "        count = dict(Counter(nums))\n",
    "        nums = sorted(count.keys())\n",
    "        \n",
    "        for num in nums:\n",
    "            count[num] *= num\n",
    "\n",
    "        \n",
    "        take_two_before = 0\n",
    "        take_one_before = count[nums[0]]\n",
    "        \n",
    "        for i in range(1, len(count)):\n",
    "            if nums[i] - nums[i - 1] == 1:\n",
    "                take_two_before, take_one_before = (\n",
    "                    take_one_before, max(take_one_before, take_two_before + count[nums[i]]))\n",
    "            else:\n",
    "                take_two_before, take_one_before = take_one_before, take_one_before + count[nums[i]]\n",
    "\n",
    "\n",
    "        return take_one_before\n"
   ]
  },
  {
   "cell_type": "code",
   "execution_count": 17,
   "id": "7b406fe2",
   "metadata": {},
   "outputs": [
    {
     "data": {
      "text/plain": [
       "6"
      ]
     },
     "execution_count": 17,
     "metadata": {},
     "output_type": "execute_result"
    }
   ],
   "source": [
    "s = Solution()\n",
    "s.deleteAndEarn([3,4,2])"
   ]
  },
  {
   "cell_type": "code",
   "execution_count": 18,
   "id": "5e2326c9",
   "metadata": {},
   "outputs": [
    {
     "data": {
      "text/plain": [
       "9"
      ]
     },
     "execution_count": 18,
     "metadata": {},
     "output_type": "execute_result"
    }
   ],
   "source": [
    "s.deleteAndEarn([2,2,3,3,3,4])"
   ]
  },
  {
   "cell_type": "code",
   "execution_count": 19,
   "id": "64342bbe",
   "metadata": {},
   "outputs": [
    {
     "data": {
      "text/plain": [
       "3451"
      ]
     },
     "execution_count": 19,
     "metadata": {},
     "output_type": "execute_result"
    }
   ],
   "source": [
    "s.deleteAndEarn([12,32,93,17,100,72,40,71,37,92,58,34,29,78,11,84,77,90,92,35,12,5,27,92,91,23,65,91,85,14,42,28,80,85,38,71,62,82,66,3,33,33,55,60,48,78,63,11,20,51,78,42,37,21,100,13,60,57,91,53,49,15,45,19,51,2,96,22,32,2,46,62,58,11,29,6,74,38,70,97,4,22,76,19,1,90,63,55,64,44,90,51,36,16,65,95,64,59,53,93])"
   ]
  },
  {
   "cell_type": "code",
   "execution_count": null,
   "id": "a9f1a878",
   "metadata": {},
   "outputs": [],
   "source": []
  }
 ],
 "metadata": {
  "kernelspec": {
   "display_name": "Python 3 (ipykernel)",
   "language": "python",
   "name": "python3"
  },
  "language_info": {
   "codemirror_mode": {
    "name": "ipython",
    "version": 3
   },
   "file_extension": ".py",
   "mimetype": "text/x-python",
   "name": "python",
   "nbconvert_exporter": "python",
   "pygments_lexer": "ipython3",
   "version": "3.9.5"
  }
 },
 "nbformat": 4,
 "nbformat_minor": 5
}
