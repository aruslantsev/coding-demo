{
 "cells": [
  {
   "cell_type": "markdown",
   "id": "62fd2097-0900-4f4e-b2e1-75f789578490",
   "metadata": {},
   "source": [
    "You are given an integer array matches where matches[i] = [winneri, loseri] indicates that the player winneri defeated player loseri in a match.\n",
    "\n",
    "Return a list answer of size 2 where:\n",
    "\n",
    "    answer[0] is a list of all players that have not lost any matches.\n",
    "    answer[1] is a list of all players that have lost exactly one match.\n",
    "\n",
    "The values in the two lists should be returned in increasing order.\n",
    "\n",
    "Note:\n",
    "\n",
    "    You should only consider the players that have played at least one match.\n",
    "    The testcases will be generated such that no two matches will have the same outcome.\n",
    "\n",
    " \n",
    "\n",
    "Example 1:\n",
    "\n",
    "Input: matches = [[1,3],[2,3],[3,6],[5,6],[5,7],[4,5],[4,8],[4,9],[10,4],[10,9]]\n",
    "Output: [[1,2,10],[4,5,7,8]]\n",
    "Explanation:\n",
    "Players 1, 2, and 10 have not lost any matches.\n",
    "Players 4, 5, 7, and 8 each have lost one match.\n",
    "Players 3, 6, and 9 each have lost two matches.\n",
    "Thus, answer[0] = [1,2,10] and answer[1] = [4,5,7,8].\n",
    "\n",
    "Example 2:\n",
    "\n",
    "Input: matches = [[2,3],[1,3],[5,4],[6,4]]\n",
    "Output: [[1,2,5,6],[]]\n",
    "Explanation:\n",
    "Players 1, 2, 5, and 6 have not lost any matches.\n",
    "Players 3 and 4 each have lost two matches.\n",
    "Thus, answer[0] = [1,2,5,6] and answer[1] = [].\n",
    "\n",
    " \n",
    "\n",
    "Constraints:\n",
    "\n",
    "    1 <= matches.length <= 105\n",
    "    matches[i].length == 2\n",
    "    1 <= winneri, loseri <= 105\n",
    "    winneri != loseri\n",
    "    All matches[i] are unique.\n",
    "\n"
   ]
  },
  {
   "cell_type": "code",
   "execution_count": null,
   "id": "ab060e7e-f7d3-40b5-b4f1-702c70236348",
   "metadata": {},
   "outputs": [],
   "source": [
    "class Solution:\n",
    "    def findWinners(self, matches: List[List[int]]) -> List[List[int]]:\n",
    "        results = {}\n",
    "        for player0, player1 in matches:\n",
    "            if player0 not in results:\n",
    "                results[player0] = {'w': 0, 'l': 0}\n",
    "            if player1 not in results:\n",
    "                results[player1] = {'w': 0, 'l': 0}\n",
    "            results[player0]['w'] += 1\n",
    "            results[player1]['l'] += 1\n",
    "\n",
    "        ans0 = []\n",
    "        ans1 = []\n",
    "        for player, result in results.items():\n",
    "            if result['l'] == 0:\n",
    "                ans0.append(player)\n",
    "            if result['l'] == 1:\n",
    "                ans1.append(player)\n",
    "\n",
    "        return sorted(ans0), sorted(ans1)"
   ]
  }
 ],
 "metadata": {
  "kernelspec": {
   "display_name": "Python 3 (ipykernel)",
   "language": "python",
   "name": "python3"
  },
  "language_info": {
   "codemirror_mode": {
    "name": "ipython",
    "version": 3
   },
   "file_extension": ".py",
   "mimetype": "text/x-python",
   "name": "python",
   "nbconvert_exporter": "python",
   "pygments_lexer": "ipython3",
   "version": "3.9.13"
  }
 },
 "nbformat": 4,
 "nbformat_minor": 5
}
