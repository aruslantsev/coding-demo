{
 "cells": [
  {
   "attachments": {
    "%D0%B8%D0%B7%D0%BE%D0%B1%D1%80%D0%B0%D0%B6%D0%B5%D0%BD%D0%B8%D0%B5.png": {
     "image/png": "[encoded data removed]"
    }
   },
   "cell_type": "markdown",
   "id": "a1d450c2",
   "metadata": {},
   "source": [
    "There is a robot on an m x n grid. The robot is initially located at the top-left corner (i.e., grid[0][0]). The robot tries to move to the bottom-right corner (i.e., grid[m - 1][n - 1]). The robot can only move either down or right at any point in time.\n",
    "\n",
    "Given the two integers m and n, return the number of possible unique paths that the robot can take to reach the bottom-right corner.\n",
    "\n",
    "The test cases are generated so that the answer will be less than or equal to 2 * 109.\n",
    "\n",
    "Example 1:\n",
    "\n",
    "![%D0%B8%D0%B7%D0%BE%D0%B1%D1%80%D0%B0%D0%B6%D0%B5%D0%BD%D0%B8%D0%B5.png](attachment:%D0%B8%D0%B7%D0%BE%D0%B1%D1%80%D0%B0%D0%B6%D0%B5%D0%BD%D0%B8%D0%B5.png)\n",
    "\n",
    "Input: m = 3, n = 7\n",
    "Output: 28\n",
    "\n",
    "Example 2:\n",
    "\n",
    "Input: m = 3, n = 2\n",
    "Output: 3\n",
    "Explanation: From the top-left corner, there are a total of 3 ways to reach the bottom-right corner:\n",
    "1. Right -> Down -> Down\n",
    "2. Down -> Down -> Right\n",
    "3. Down -> Right -> Down\n",
    "\n",
    " \n",
    "\n",
    "Constraints:\n",
    "\n",
    "    1 <= m, n <= 100\n",
    "\n"
   ]
  },
  {
   "cell_type": "code",
   "execution_count": 21,
   "id": "d77f4300",
   "metadata": {},
   "outputs": [],
   "source": [
    "from collections import deque\n",
    "\n",
    "class Solution:\n",
    "    def uniquePaths(self, m: int, n: int) -> int:\n",
    "        if (m == 1) or (n == 1):\n",
    "            return 1\n",
    "        \n",
    "        counter = 0\n",
    "        q = deque()\n",
    "        q.append((m, n))\n",
    "        while q:\n",
    "            elem = q.popleft()\n",
    "            if (elem[0] == 1) or (elem[1] == 1):\n",
    "                counter += 1\n",
    "            else:\n",
    "                for i in range(1, elem[0] + 1):\n",
    "                    q.append((i, elem[1] - 1))\n",
    "                    \n",
    "        return counter"
   ]
  },
  {
   "cell_type": "raw",
   "id": "7e2bcaf4",
   "metadata": {},
   "source": [
    "from collections import deque\n",
    "\n",
    "class Solution:\n",
    "    def uniquePaths(self, m: int, n: int) -> int:\n",
    "        if (m == 1) or (n == 1):\n",
    "            return 1\n",
    "        \n",
    "        counter = 0\n",
    "        q = deque()\n",
    "        q.append((m, n))\n",
    "        while q:\n",
    "            elem = q.popleft()\n",
    "            if (elem[0] == 1) or (elem[1] == 1):\n",
    "                counter += 1\n",
    "            elif (elem[0] == 2):\n",
    "                counter += elem[1]\n",
    "            elif (elem[1] == 2):\n",
    "                counter += elem[0]\n",
    "            else:\n",
    "                for i in range(1, elem[0] + 1):\n",
    "                    q.append((i, elem[1] - 1))\n",
    "            if len(q) > 1000:\n",
    "                q = deque(sorted(q))\n",
    "                    \n",
    "        return counter"
   ]
  },
  {
   "cell_type": "code",
   "execution_count": 30,
   "id": "79569c91",
   "metadata": {},
   "outputs": [],
   "source": [
    "import math\n",
    "\n",
    "class Solution:    \n",
    "    def uniquePaths(self, m: int, n: int) -> int:\n",
    "        if m == 1 or n == 1:\n",
    "            return 1\n",
    "\n",
    "        m -= 1\n",
    "        n -= 1\n",
    "\n",
    "        return math.factorial(m + n) // (math.factorial(m) * math.factorial(n))"
   ]
  },
  {
   "cell_type": "code",
   "execution_count": 39,
   "id": "0d4be033",
   "metadata": {},
   "outputs": [],
   "source": [
    "from math import comb\n",
    "\n",
    "class Solution:    \n",
    "    def uniquePaths(self, m: int, n: int) -> int:\n",
    "        a = (n - 1) + (m - 1)\n",
    "        k = min(n, m) - 1\n",
    "               \n",
    "        return int(comb(a, k))\n"
   ]
  },
  {
   "cell_type": "code",
   "execution_count": 1,
   "id": "b9d2bc2c",
   "metadata": {},
   "outputs": [],
   "source": [
    "from functools import cache\n",
    "\n",
    "class Solution:\n",
    "    @cache\n",
    "    def uniquePaths(self, m: int, n: int) -> int:\n",
    "        if 1 in (m, n): \n",
    "            return 1\n",
    "        else:\n",
    "            return self.uniquePaths(m - 1, n) + self.uniquePaths(m, n - 1)"
   ]
  },
  {
   "cell_type": "code",
   "execution_count": 2,
   "id": "809e1eaa",
   "metadata": {},
   "outputs": [
    {
     "data": {
      "text/plain": [
       "1"
      ]
     },
     "execution_count": 2,
     "metadata": {},
     "output_type": "execute_result"
    }
   ],
   "source": [
    "s = Solution()\n",
    "s.uniquePaths(1, 1)"
   ]
  },
  {
   "cell_type": "code",
   "execution_count": 3,
   "id": "0080cddc",
   "metadata": {},
   "outputs": [
    {
     "data": {
      "text/plain": [
       "2"
      ]
     },
     "execution_count": 3,
     "metadata": {},
     "output_type": "execute_result"
    }
   ],
   "source": [
    "s.uniquePaths(2, 2)"
   ]
  },
  {
   "cell_type": "code",
   "execution_count": 4,
   "id": "cb0f0688",
   "metadata": {},
   "outputs": [
    {
     "data": {
      "text/plain": [
       "6"
      ]
     },
     "execution_count": 4,
     "metadata": {},
     "output_type": "execute_result"
    }
   ],
   "source": [
    "s.uniquePaths(3, 3)"
   ]
  },
  {
   "cell_type": "code",
   "execution_count": 5,
   "id": "c5e919a7",
   "metadata": {},
   "outputs": [
    {
     "data": {
      "text/plain": [
       "70"
      ]
     },
     "execution_count": 5,
     "metadata": {},
     "output_type": "execute_result"
    }
   ],
   "source": [
    "s.uniquePaths(5, 5)"
   ]
  },
  {
   "cell_type": "code",
   "execution_count": 6,
   "id": "f05fabfd",
   "metadata": {},
   "outputs": [
    {
     "data": {
      "text/plain": [
       "9657700"
      ]
     },
     "execution_count": 6,
     "metadata": {},
     "output_type": "execute_result"
    }
   ],
   "source": [
    "s.uniquePaths(15, 13)"
   ]
  },
  {
   "cell_type": "code",
   "execution_count": 7,
   "id": "b810ee49",
   "metadata": {},
   "outputs": [
    {
     "data": {
      "text/plain": [
       "193536720"
      ]
     },
     "execution_count": 7,
     "metadata": {},
     "output_type": "execute_result"
    }
   ],
   "source": [
    "s.uniquePaths(23, 12)"
   ]
  },
  {
   "cell_type": "code",
   "execution_count": null,
   "id": "4d5ab5f8",
   "metadata": {},
   "outputs": [],
   "source": []
  }
 ],
 "metadata": {
  "kernelspec": {
   "display_name": "Python 3 (ipykernel)",
   "language": "python",
   "name": "python3"
  },
  "language_info": {
   "codemirror_mode": {
    "name": "ipython",
    "version": 3
   },
   "file_extension": ".py",
   "mimetype": "text/x-python",
   "name": "python",
   "nbconvert_exporter": "python",
   "pygments_lexer": "ipython3",
   "version": "3.9.10"
  }
 },
 "nbformat": 4,
 "nbformat_minor": 5
}
