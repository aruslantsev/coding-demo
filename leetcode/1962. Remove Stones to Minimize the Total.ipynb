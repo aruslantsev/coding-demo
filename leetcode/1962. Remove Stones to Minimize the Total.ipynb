{
 "cells": [
  {
   "cell_type": "markdown",
   "id": "b7e9b5b4-3b71-418e-825a-db61f4280b05",
   "metadata": {},
   "source": [
    "You are given a 0-indexed integer array piles, where piles[i] represents the number of stones in the ith pile, and an integer k. You should apply the following operation exactly k times:\n",
    "\n",
    "    Choose any piles[i] and remove floor(piles[i] / 2) stones from it.\n",
    "\n",
    "Notice that you can apply the operation on the same pile more than once.\n",
    "\n",
    "Return the minimum possible total number of stones remaining after applying the k operations.\n",
    "\n",
    "floor(x) is the greatest integer that is smaller than or equal to x (i.e., rounds x down).\n",
    "\n",
    " \n",
    "\n",
    "Example 1:\n",
    "\n",
    "Input: piles = [5,4,9], k = 2\n",
    "Output: 12\n",
    "Explanation: Steps of a possible scenario are:\n",
    "- Apply the operation on pile 2. The resulting piles are [5,4,5].\n",
    "- Apply the operation on pile 0. The resulting piles are [3,4,5].\n",
    "The total number of stones in [3,4,5] is 12.\n",
    "\n",
    "Example 2:\n",
    "\n",
    "Input: piles = [4,3,6,7], k = 3\n",
    "Output: 12\n",
    "Explanation: Steps of a possible scenario are:\n",
    "- Apply the operation on pile 2. The resulting piles are [4,3,3,7].\n",
    "- Apply the operation on pile 3. The resulting piles are [4,3,3,4].\n",
    "- Apply the operation on pile 0. The resulting piles are [2,3,3,4].\n",
    "The total number of stones in [2,3,3,4] is 12.\n",
    "\n",
    " \n",
    "\n",
    "Constraints:\n",
    "\n",
    "    1 <= piles.length <= 105\n",
    "    1 <= piles[i] <= 104\n",
    "    1 <= k <= 105\n",
    "\n"
   ]
  },
  {
   "cell_type": "code",
   "execution_count": null,
   "id": "717f9b68-f872-4702-a96b-995f2e987fef",
   "metadata": {},
   "outputs": [],
   "source": [
    "import heapq\n",
    "\n",
    "class Solution:\n",
    "    def minStoneSum(self, piles: List[int], k: int) -> int:\n",
    "        piles = [-p for p in piles]\n",
    "        heapq.heapify(piles)\n",
    "        for _ in range(k):\n",
    "            heapq.heappush(piles, heapq.heappop(piles) // 2)\n",
    "\n",
    "        return -sum(piles)"
   ]
  }
 ],
 "metadata": {
  "kernelspec": {
   "display_name": "Python 3 (ipykernel)",
   "language": "python",
   "name": "python3"
  },
  "language_info": {
   "codemirror_mode": {
    "name": "ipython",
    "version": 3
   },
   "file_extension": ".py",
   "mimetype": "text/x-python",
   "name": "python",
   "nbconvert_exporter": "python",
   "pygments_lexer": "ipython3",
   "version": "3.9.13"
  }
 },
 "nbformat": 4,
 "nbformat_minor": 5
}
