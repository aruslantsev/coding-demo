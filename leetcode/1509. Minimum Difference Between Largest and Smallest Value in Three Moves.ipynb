{
 "cells": [
  {
   "cell_type": "markdown",
   "id": "958ec38f-a65a-4808-a90a-ffa423599e54",
   "metadata": {},
   "source": [
    "You are given an integer array nums.\n",
    "\n",
    "In one move, you can choose one element of nums and change it to any value.\n",
    "\n",
    "Return the minimum difference between the largest and smallest value of nums after performing at most three moves.\n",
    "\n",
    " \n",
    "\n",
    "Example 1:\n",
    "\n",
    "Input: nums = [5,3,2,4]\n",
    "Output: 0\n",
    "Explanation: We can make at most 3 moves.\n",
    "In the first move, change 2 to 3. nums becomes [5,3,3,4].\n",
    "In the second move, change 4 to 3. nums becomes [5,3,3,3].\n",
    "In the third move, change 5 to 3. nums becomes [3,3,3,3].\n",
    "After performing 3 moves, the difference between the minimum and maximum is 3 - 3 = 0.\n",
    "\n",
    "Example 2:\n",
    "\n",
    "Input: nums = [1,5,0,10,14]\n",
    "Output: 1\n",
    "Explanation: We can make at most 3 moves.\n",
    "In the first move, change 5 to 0. nums becomes [1,0,0,10,14].\n",
    "In the second move, change 10 to 0. nums becomes [1,0,0,0,14].\n",
    "In the third move, change 14 to 1. nums becomes [1,0,0,0,1].\n",
    "After performing 3 moves, the difference between the minimum and maximum is 1 - 0 = 1.\n",
    "It can be shown that there is no way to make the difference 0 in 3 moves.\n",
    "\n",
    "Example 3:\n",
    "\n",
    "Input: nums = [3,100,20]\n",
    "Output: 0\n",
    "Explanation: We can make at most 3 moves.\n",
    "In the first move, change 100 to 7. nums becomes [3,7,20].\n",
    "In the second move, change 20 to 7. nums becomes [3,7,7].\n",
    "In the third move, change 3 to 7. nums becomes [7,7,7].\n",
    "After performing 3 moves, the difference between the minimum and maximum is 7 - 7 = 0.\n",
    "\n",
    " \n",
    "\n",
    "Constraints:\n",
    "\n",
    "    1 <= nums.length <= 105\n",
    "    -109 <= nums[i] <= 109\n",
    "\n"
   ]
  },
  {
   "cell_type": "code",
   "execution_count": null,
   "id": "580c12f8-2f8b-4938-8147-4241c64e56b7",
   "metadata": {},
   "outputs": [],
   "source": [
    "class Solution:\n",
    "    def minDifference(self, nums: List[int]) -> int:\n",
    "        nums_size = len(nums)\n",
    "\n",
    "        # If the array has 4 or fewer elements, return 0\n",
    "        if nums_size <= 4:\n",
    "            return 0\n",
    "        \n",
    "        nums.sort()\n",
    "        arr = nums[:3] + nums[-3:]\n",
    "\n",
    "        ans = float(\"inf\")\n",
    "        for i in range(4):\n",
    "            ans = min(ans, nums[nums_size - 4 + i] - nums[i])\n",
    "        return ans\n",
    "        "
   ]
  }
 ],
 "metadata": {
  "kernelspec": {
   "display_name": "Python 3 (ipykernel)",
   "language": "python",
   "name": "python3"
  },
  "language_info": {
   "codemirror_mode": {
    "name": "ipython",
    "version": 3
   },
   "file_extension": ".py",
   "mimetype": "text/x-python",
   "name": "python",
   "nbconvert_exporter": "python",
   "pygments_lexer": "ipython3",
   "version": "3.12.3"
  }
 },
 "nbformat": 4,
 "nbformat_minor": 5
}
