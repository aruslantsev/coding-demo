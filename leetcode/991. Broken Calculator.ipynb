{
 "cells": [
  {
   "cell_type": "markdown",
   "id": "5b7c5354",
   "metadata": {},
   "source": [
    "There is a broken calculator that has the integer startValue on its display initially. In one operation, you can:\n",
    "\n",
    "    multiply the number on display by 2, or\n",
    "    subtract 1 from the number on display.\n",
    "\n",
    "Given two integers startValue and target, return the minimum number of operations needed to display target on the calculator.\n",
    "\n",
    " \n",
    "\n",
    "Example 1:\n",
    "\n",
    "Input: startValue = 2, target = 3\n",
    "Output: 2\n",
    "Explanation: Use double operation and then decrement operation {2 -> 4 -> 3}.\n",
    "\n",
    "Example 2:\n",
    "\n",
    "Input: startValue = 5, target = 8\n",
    "Output: 2\n",
    "Explanation: Use decrement and then double {5 -> 4 -> 8}.\n",
    "\n",
    "Example 3:\n",
    "\n",
    "Input: startValue = 3, target = 10\n",
    "Output: 3\n",
    "Explanation: Use double, decrement and double {3 -> 6 -> 5 -> 10}.\n",
    "\n",
    " \n",
    "\n",
    "Constraints:\n",
    "\n",
    "    1 <= x, y <= 109\n",
    "\n"
   ]
  },
  {
   "cell_type": "code",
   "execution_count": 26,
   "id": "f8ea8d48",
   "metadata": {},
   "outputs": [],
   "source": [
    "from collections import deque\n",
    "\n",
    "class Solution:\n",
    "    def brokenCalc(self, startValue: int, target: int) -> int:\n",
    "        if startValue == target:\n",
    "            return 0\n",
    "        \n",
    "        q = deque()\n",
    "        q.append((startValue, 0))\n",
    "        watched = set([startValue])\n",
    "        while q:\n",
    "            val, step = q.popleft()\n",
    "            if val == target:\n",
    "                return step\n",
    "            if (val > 1) and ((val - 1) not in watched):\n",
    "                if val - 1 == target:\n",
    "                    return step + 1\n",
    "                q.append((val - 1, step + 1))\n",
    "                watched.add(val - 1)\n",
    "            if ((val * 2) not in watched):\n",
    "                if val * 2 == target:\n",
    "                    return step + 1\n",
    "                q.append((val * 2, step + 1))\n",
    "                watched.add(val * 2)"
   ]
  },
  {
   "cell_type": "code",
   "execution_count": 44,
   "id": "c469dcab",
   "metadata": {},
   "outputs": [],
   "source": [
    "class Solution:\n",
    "    def brokenCalc(self, startValue: int, target: int) -> int:\n",
    "        step = 0\n",
    "        while target > startValue:\n",
    "            if target % 2 == 0:\n",
    "                target = target // 2\n",
    "            else:\n",
    "                target += 1\n",
    "            step += 1\n",
    "        return startValue - target + step"
   ]
  },
  {
   "cell_type": "code",
   "execution_count": 45,
   "id": "3a2af335",
   "metadata": {},
   "outputs": [
    {
     "data": {
      "text/plain": [
       "2"
      ]
     },
     "execution_count": 45,
     "metadata": {},
     "output_type": "execute_result"
    }
   ],
   "source": [
    "s = Solution()\n",
    "s.brokenCalc(2, 3)"
   ]
  },
  {
   "cell_type": "code",
   "execution_count": 46,
   "id": "355c6cd0",
   "metadata": {},
   "outputs": [
    {
     "data": {
      "text/plain": [
       "2"
      ]
     },
     "execution_count": 46,
     "metadata": {},
     "output_type": "execute_result"
    }
   ],
   "source": [
    "s.brokenCalc(5, 8)"
   ]
  },
  {
   "cell_type": "code",
   "execution_count": 47,
   "id": "e48dc625",
   "metadata": {},
   "outputs": [
    {
     "data": {
      "text/plain": [
       "3"
      ]
     },
     "execution_count": 47,
     "metadata": {},
     "output_type": "execute_result"
    }
   ],
   "source": [
    "s.brokenCalc(3, 10)"
   ]
  },
  {
   "cell_type": "code",
   "execution_count": 48,
   "id": "4c0716df",
   "metadata": {},
   "outputs": [
    {
     "data": {
      "text/plain": [
       "10"
      ]
     },
     "execution_count": 48,
     "metadata": {},
     "output_type": "execute_result"
    }
   ],
   "source": [
    "s.brokenCalc(1, 1024)"
   ]
  },
  {
   "cell_type": "code",
   "execution_count": 49,
   "id": "5b5246bc",
   "metadata": {},
   "outputs": [
    {
     "data": {
      "text/plain": [
       "999999999"
      ]
     },
     "execution_count": 49,
     "metadata": {},
     "output_type": "execute_result"
    }
   ],
   "source": [
    "s.brokenCalc(1000000000, 1)"
   ]
  },
  {
   "cell_type": "code",
   "execution_count": null,
   "id": "ce377488",
   "metadata": {},
   "outputs": [],
   "source": []
  }
 ],
 "metadata": {
  "kernelspec": {
   "display_name": "Python 3 (ipykernel)",
   "language": "python",
   "name": "python3"
  },
  "language_info": {
   "codemirror_mode": {
    "name": "ipython",
    "version": 3
   },
   "file_extension": ".py",
   "mimetype": "text/x-python",
   "name": "python",
   "nbconvert_exporter": "python",
   "pygments_lexer": "ipython3",
   "version": "3.9.10"
  }
 },
 "nbformat": 4,
 "nbformat_minor": 5
}
