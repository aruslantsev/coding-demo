{
 "cells": [
  {
   "cell_type": "markdown",
   "id": "b43ac063",
   "metadata": {},
   "source": [
    "Given an integer n, return an array ans of length n + 1 such that for each i (0 <= i <= n), ans[i] is the number of 1's in the binary representation of i.\n",
    "\n",
    " \n",
    "\n",
    "Example 1:\n",
    "\n",
    "Input: n = 2\n",
    "Output: [0,1,1]\n",
    "Explanation:\n",
    "0 --> 0\n",
    "1 --> 1\n",
    "2 --> 10\n",
    "\n",
    "Example 2:\n",
    "\n",
    "Input: n = 5\n",
    "Output: [0,1,1,2,1,2]\n",
    "Explanation:\n",
    "0 --> 0\n",
    "1 --> 1\n",
    "2 --> 10\n",
    "3 --> 11\n",
    "4 --> 100\n",
    "5 --> 101\n",
    "\n",
    " \n",
    "\n",
    "Constraints:\n",
    "\n",
    "    0 <= n <= 105\n",
    "\n",
    " \n",
    "\n",
    "Follow up:\n",
    "\n",
    "    It is very easy to come up with a solution with a runtime of O(n log n). Can you do it in linear time O(n) and possibly in a single pass?\n",
    "    Can you do it without using any built-in function (i.e., like __builtin_popcount in C++)?\n",
    "\n"
   ]
  },
  {
   "cell_type": "code",
   "execution_count": 12,
   "id": "9711f663",
   "metadata": {},
   "outputs": [],
   "source": [
    "from typing import List\n",
    "\n",
    "class Solution:\n",
    "    def countBits(self, n: int) -> List[int]:\n",
    "        return [sum([int(i) for i in bin(i)[2:]]) for i in range(n + 1)]"
   ]
  },
  {
   "cell_type": "code",
   "execution_count": 13,
   "id": "4213a3d6",
   "metadata": {},
   "outputs": [
    {
     "data": {
      "text/plain": [
       "[0, 1, 1, 2]"
      ]
     },
     "execution_count": 13,
     "metadata": {},
     "output_type": "execute_result"
    }
   ],
   "source": [
    "s = Solution()\n",
    "s.countBits(3)"
   ]
  },
  {
   "cell_type": "code",
   "execution_count": null,
   "id": "991a9a65",
   "metadata": {},
   "outputs": [],
   "source": [
    "class Solution:\n",
    "    def countBits(self, n: int) -> List[int]:\n",
    "        result = [0] * (n + 1)  # initialize array \n",
    "        offset = 1 # this will help  to track pow(2,n) value ex: 1,2,4,8,16.......\n",
    "        for i in range(1, n + 1):\n",
    "            if  offset * 2 == i:\n",
    "                offset = i\n",
    "            # now we will add the no of  1's to ans\n",
    "            result[i]= 1 + result[i - offset]   # ex result(1) = 1 + result(0)\n",
    "                                                #    result(2) = 1 (pow of 2)\n",
    "                                                #    result(3) = 1 + result(2) ...\n",
    "            \n",
    "        return result"
   ]
  }
 ],
 "metadata": {
  "kernelspec": {
   "display_name": "Python 3 (ipykernel)",
   "language": "python",
   "name": "python3"
  },
  "language_info": {
   "codemirror_mode": {
    "name": "ipython",
    "version": 3
   },
   "file_extension": ".py",
   "mimetype": "text/x-python",
   "name": "python",
   "nbconvert_exporter": "python",
   "pygments_lexer": "ipython3",
   "version": "3.9.10"
  }
 },
 "nbformat": 4,
 "nbformat_minor": 5
}
