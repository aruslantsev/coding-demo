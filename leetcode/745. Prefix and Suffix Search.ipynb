{
 "cells": [
  {
   "cell_type": "markdown",
   "id": "8e70ed32-e688-4a8b-8e18-e432ae358fc2",
   "metadata": {},
   "source": [
    "Design a special dictionary with some words that searchs the words in it by a prefix and a suffix.\n",
    "\n",
    "Implement the WordFilter class:\n",
    "\n",
    "    WordFilter(string[] words) Initializes the object with the words in the dictionary.\n",
    "    f(string prefix, string suffix) Returns the index of the word in the dictionary, which has the prefix prefix and the suffix suffix. If there is more than one valid index, return the largest of them. If there is no such word in the dictionary, return -1.\n",
    "\n",
    " \n",
    "\n",
    "Example 1:\n",
    "\n",
    "Input\n",
    "[\"WordFilter\", \"f\"]\n",
    "[[[\"apple\"]], [\"a\", \"e\"]]\n",
    "Output\n",
    "[null, 0]\n",
    "\n",
    "Explanation\n",
    "WordFilter wordFilter = new WordFilter([\"apple\"]);\n",
    "wordFilter.f(\"a\", \"e\"); // return 0, because the word at index 0 has prefix = \"a\" and suffix = 'e\".\n",
    "\n",
    " \n",
    "\n",
    "Constraints:\n",
    "\n",
    "    1 <= words.length <= 15000\n",
    "    1 <= words[i].length <= 10\n",
    "    1 <= prefix.length, suffix.length <= 10\n",
    "    words[i], prefix and suffix consist of lower-case English letters only.\n",
    "    At most 15000 calls will be made to the function f.\n",
    "\n"
   ]
  },
  {
   "cell_type": "code",
   "execution_count": null,
   "id": "29787389-bf3c-4ea2-b8c0-afacb6dc010a",
   "metadata": {},
   "outputs": [],
   "source": [
    "class WordFilter:\n",
    "\n",
    "    def __init__(self, words: List[str]):\n",
    "        self.prefixtrie = defaultdict(set)\n",
    "        self.suffixtrie = defaultdict(set)\n",
    "        self.idx = {}\n",
    "        for idx, word in enumerate(words):\n",
    "            prefix = ''\n",
    "            suffix = ''\n",
    "            for letter in [''] + list(word):\n",
    "                prefix += letter\n",
    "                self.prefixtrie[prefix].add(word)\n",
    "                \n",
    "            for letter in [''] + list(word[::-1]):\n",
    "                suffix += letter\n",
    "                self.suffixtrie[suffix[::-1]].add(word)\n",
    "            self.idx[word] = idx\n",
    "        \n",
    "\n",
    "    def f(self, prefix: str, suffix: str) -> int:\n",
    "        idx = -1\n",
    "        for word in self.prefixtrie[prefix] & self.suffixtrie[suffix]:\n",
    "            if self.idx[word] > idx:\n",
    "                idx = self.idx[word]\n",
    "        return idx\n",
    "            \n",
    "\n",
    "\n",
    "# Your WordFilter object will be instantiated and called as such:\n",
    "# obj = WordFilter(words)\n",
    "# param_1 = obj.f(prefix,suffix)"
   ]
  }
 ],
 "metadata": {
  "kernelspec": {
   "display_name": "Python 3 (ipykernel)",
   "language": "python",
   "name": "python3"
  },
  "language_info": {
   "codemirror_mode": {
    "name": "ipython",
    "version": 3
   },
   "file_extension": ".py",
   "mimetype": "text/x-python",
   "name": "python",
   "nbconvert_exporter": "python",
   "pygments_lexer": "ipython3",
   "version": "3.9.10"
  }
 },
 "nbformat": 4,
 "nbformat_minor": 5
}
