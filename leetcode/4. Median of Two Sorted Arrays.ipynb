{
 "cells": [
  {
   "cell_type": "markdown",
   "id": "2cc2926f-8395-4ab1-b149-450767c090fc",
   "metadata": {},
   "source": [
    "Given two sorted arrays nums1 and nums2 of size m and n respectively, return the median of the two sorted arrays.\n",
    "\n",
    "The overall run time complexity should be O(log (m+n)).\n",
    "\n",
    "Example 1:\n",
    "\n",
    "Input: nums1 = [1,3], nums2 = [2]\n",
    "\n",
    "Output: 2.00000\n",
    "\n",
    "Explanation: merged array = [1,2,3] and median is 2.\n",
    "\n",
    "Example 2:\n",
    "\n",
    "Input: nums1 = [1,2], nums2 = [3,4]\n",
    "\n",
    "Output: 2.50000\n",
    "\n",
    "Explanation: merged array = [1,2,3,4] and median is (2 + 3) / 2 = 2.5.\n",
    "\n",
    "Constraints:\n",
    "\n",
    "    nums1.length == m\n",
    "    nums2.length == n\n",
    "    0 <= m <= 1000\n",
    "    0 <= n <= 1000\n",
    "    1 <= m + n <= 2000\n",
    "    -10^6 <= nums1[i], nums2[i] <= 10^6\n"
   ]
  },
  {
   "cell_type": "code",
   "execution_count": 1,
   "id": "26e8bd01-ea95-4c40-9c7b-d57a8a41b5bd",
   "metadata": {},
   "outputs": [],
   "source": [
    "from typing import List\n",
    "\n",
    "class Solution:\n",
    "    def findMedianSortedArrays(self, nums1: List[int], nums2: List[int]) -> float:\n",
    "        while len(nums1 + nums2) > 2:\n",
    "            # remove min\n",
    "            if len(nums1) > 0:\n",
    "                if len(nums2) > 0:\n",
    "                    if (nums1[0] < nums2[0]):\n",
    "                        nums1.pop(0)\n",
    "                    else:\n",
    "                        nums2.pop(0)\n",
    "                else:\n",
    "                    nums1.pop(0)\n",
    "            else:\n",
    "                nums2.pop(0)\n",
    "            # remove max\n",
    "            if len(nums1) > 0:\n",
    "                if len(nums2) > 0:\n",
    "                    if nums1[-1] > nums2[-1]:\n",
    "                        nums1.pop(len(nums1) - 1)\n",
    "                    else:\n",
    "                        nums2.pop(len(nums2) - 1)\n",
    "                else:\n",
    "                    nums1.pop(len(nums1) - 1)\n",
    "            else:\n",
    "                nums2.pop(len(nums2) - 1)\n",
    "        \n",
    "        nums = nums1 + nums2\n",
    "            \n",
    "        return sum(nums) / len(nums)"
   ]
  },
  {
   "cell_type": "code",
   "execution_count": 2,
   "id": "e104f8f5-8f3a-48de-8a4a-2151e0d18580",
   "metadata": {},
   "outputs": [
    {
     "data": {
      "text/plain": [
       "2.0"
      ]
     },
     "execution_count": 2,
     "metadata": {},
     "output_type": "execute_result"
    }
   ],
   "source": [
    "s = Solution()\n",
    "s.findMedianSortedArrays([1,3], [2])"
   ]
  },
  {
   "cell_type": "code",
   "execution_count": null,
   "id": "1cdf8173-1874-4377-b1b6-975aa8bce66d",
   "metadata": {},
   "outputs": [],
   "source": []
  }
 ],
 "metadata": {
  "kernelspec": {
   "display_name": "Python 3 (ipykernel)",
   "language": "python",
   "name": "python3"
  },
  "language_info": {
   "codemirror_mode": {
    "name": "ipython",
    "version": 3
   },
   "file_extension": ".py",
   "mimetype": "text/x-python",
   "name": "python",
   "nbconvert_exporter": "python",
   "pygments_lexer": "ipython3",
   "version": "3.9.10"
  }
 },
 "nbformat": 4,
 "nbformat_minor": 5
}
