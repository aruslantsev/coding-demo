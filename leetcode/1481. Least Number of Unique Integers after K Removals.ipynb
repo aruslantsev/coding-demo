{
 "cells": [
  {
   "cell_type": "markdown",
   "id": "4fc77cf7-d457-4c15-b3e0-c1bfc8be365d",
   "metadata": {},
   "source": [
    "Given an array of integers arr and an integer k. Find the least number of unique integers after removing exactly k elements.\n",
    "\n",
    " \n",
    "\n",
    "Example 1:\n",
    "\n",
    "Input: arr = [5,5,4], k = 1\n",
    "Output: 1\n",
    "Explanation: Remove the single 4, only 5 is left.\n",
    "\n",
    "Example 2:\n",
    "\n",
    "Input: arr = [4,3,1,1,3,3,2], k = 3\n",
    "Output: 2\n",
    "Explanation: Remove 4, 2 and either one of the two 1s or three 3s. 1 and 3 will be left.\n",
    "\n",
    " \n",
    "\n",
    "Constraints:\n",
    "\n",
    "    1 <= arr.length <= 10^5\n",
    "    1 <= arr[i] <= 10^9\n",
    "    0 <= k <= arr.length\n"
   ]
  },
  {
   "cell_type": "code",
   "execution_count": null,
   "id": "69e0d99a-fe16-482c-afa3-0dc477373f47",
   "metadata": {},
   "outputs": [],
   "source": [
    "class Solution:\n",
    "    def findLeastNumOfUniqueInts(self, arr: List[int], k: int) -> int:\n",
    "        counts = Counter(arr)\n",
    "        counts = sorted([[num, val] for val, num in counts.items()])\n",
    "        all_nums = len(counts)\n",
    "        for num, _ in counts:\n",
    "            if k >= num:\n",
    "                k -= num\n",
    "                all_nums -= 1\n",
    "        return all_nums\n"
   ]
  }
 ],
 "metadata": {
  "kernelspec": {
   "display_name": "Python 3 (ipykernel)",
   "language": "python",
   "name": "python3"
  },
  "language_info": {
   "codemirror_mode": {
    "name": "ipython",
    "version": 3
   },
   "file_extension": ".py",
   "mimetype": "text/x-python",
   "name": "python",
   "nbconvert_exporter": "python",
   "pygments_lexer": "ipython3",
   "version": "3.11.7"
  }
 },
 "nbformat": 4,
 "nbformat_minor": 5
}
