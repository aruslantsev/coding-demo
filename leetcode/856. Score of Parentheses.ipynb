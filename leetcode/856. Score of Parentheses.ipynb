{
 "cells": [
  {
   "cell_type": "markdown",
   "id": "c491d52c",
   "metadata": {},
   "source": [
    "Given a balanced parentheses string s, return the score of the string.\n",
    "\n",
    "The score of a balanced parentheses string is based on the following rule:\n",
    "\n",
    "    \"()\" has score 1.\n",
    "    AB has score A + B, where A and B are balanced parentheses strings.\n",
    "    (A) has score 2 * A, where A is a balanced parentheses string.\n",
    "\n",
    " \n",
    "\n",
    "Example 1:\n",
    "\n",
    "Input: s = \"()\"\n",
    "Output: 1\n",
    "\n",
    "Example 2:\n",
    "\n",
    "Input: s = \"(())\"\n",
    "Output: 2\n",
    "\n",
    "Example 3:\n",
    "\n",
    "Input: s = \"()()\"\n",
    "Output: 2\n",
    "\n",
    " \n",
    "\n",
    "Constraints:\n",
    "\n",
    "    2 <= s.length <= 50\n",
    "    s consists of only '(' and ')'.\n",
    "    s is a balanced parentheses string.\n",
    "\n"
   ]
  },
  {
   "cell_type": "code",
   "execution_count": 1,
   "id": "3b9cacc5",
   "metadata": {},
   "outputs": [],
   "source": [
    "class Solution:\n",
    "    def scoreOfParentheses(self, s: str) -> int:\n",
    "        stack = []\n",
    "        for sym in s:\n",
    "            if sym != ')':\n",
    "                stack.append(sym)\n",
    "            else:\n",
    "                if stack[-1] == '(':\n",
    "                    stack[-1] = 1\n",
    "                else:\n",
    "                    tmp = 0\n",
    "                    while stack[-1] != '(':\n",
    "                        tmp += stack.pop()\n",
    "                    stack.pop()\n",
    "                    stack.append(tmp * 2)\n",
    "        return sum(stack)\n",
    "    "
   ]
  },
  {
   "cell_type": "code",
   "execution_count": 2,
   "id": "89b96c45",
   "metadata": {},
   "outputs": [
    {
     "name": "stdout",
     "output_type": "stream",
     "text": [
      "1\n"
     ]
    }
   ],
   "source": [
    "s = Solution()\n",
    "s.scoreOfParentheses('()')"
   ]
  },
  {
   "cell_type": "code",
   "execution_count": 3,
   "id": "3e76ffc6",
   "metadata": {},
   "outputs": [
    {
     "name": "stdout",
     "output_type": "stream",
     "text": [
      "(1)\n"
     ]
    }
   ],
   "source": [
    "s.scoreOfParentheses('(())')"
   ]
  },
  {
   "cell_type": "code",
   "execution_count": 4,
   "id": "1c2f61f9",
   "metadata": {},
   "outputs": [
    {
     "name": "stdout",
     "output_type": "stream",
     "text": [
      "11\n"
     ]
    }
   ],
   "source": [
    "s.scoreOfParentheses('()()')"
   ]
  },
  {
   "cell_type": "code",
   "execution_count": null,
   "id": "a0e0b501",
   "metadata": {},
   "outputs": [],
   "source": []
  }
 ],
 "metadata": {
  "kernelspec": {
   "display_name": "Python 3 (ipykernel)",
   "language": "python",
   "name": "python3"
  },
  "language_info": {
   "codemirror_mode": {
    "name": "ipython",
    "version": 3
   },
   "file_extension": ".py",
   "mimetype": "text/x-python",
   "name": "python",
   "nbconvert_exporter": "python",
   "pygments_lexer": "ipython3",
   "version": "3.9.10"
  }
 },
 "nbformat": 4,
 "nbformat_minor": 5
}
