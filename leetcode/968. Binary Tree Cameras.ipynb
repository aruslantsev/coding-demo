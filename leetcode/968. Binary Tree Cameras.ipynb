{
 "cells": [
  {
   "attachments": {
    "4f7e0817-4d42-4ae5-af34-ef00dced7ab3.png": {
     "image/png": "[encoded data removed]"
    },
    "5d88e5e2-d010-4b13-baf3-f07126f77195.png": {
     "image/png": "[encoded data removed]"
    }
   },
   "cell_type": "markdown",
   "id": "e50ed545-9648-4d02-ab46-3ac2963cb0a1",
   "metadata": {},
   "source": [
    "You are given the root of a binary tree. We install cameras on the tree nodes where each camera at a node can monitor its parent, itself, and its immediate children.\n",
    "\n",
    "Return the minimum number of cameras needed to monitor all nodes of the tree.\n",
    "\n",
    " \n",
    "\n",
    "Example 1:\n",
    "\n",
    "![изображение.png](attachment:5d88e5e2-d010-4b13-baf3-f07126f77195.png)\n",
    "\n",
    "Input: root = [0,0,null,0,0]\n",
    "Output: 1\n",
    "Explanation: One camera is enough to monitor all nodes if placed as shown.\n",
    "\n",
    "Example 2:\n",
    "\n",
    "![изображение.png](attachment:4f7e0817-4d42-4ae5-af34-ef00dced7ab3.png)\n",
    "\n",
    "Input: root = [0,0,null,0,null,0,null,null,0]\n",
    "Output: 2\n",
    "Explanation: At least two cameras are needed to monitor all nodes of the tree. The above image shows one of the valid configurations of camera placement.\n",
    "\n",
    " \n",
    "\n",
    "Constraints:\n",
    "\n",
    "    The number of nodes in the tree is in the range [1, 1000].\n",
    "    Node.val == 0\n",
    "\n"
   ]
  },
  {
   "cell_type": "markdown",
   "id": "5029e3f8-8198-4d9e-be29-45a851fe8d69",
   "metadata": {},
   "source": [
    "Approach 1: Dynamic Programming\n",
    "\n",
    "Intuition\n",
    "\n",
    "Let's try to cover every node, starting from the top of the tree and working down. Every node considered must be covered by a camera at that node or some neighbor.\n",
    "\n",
    "Because cameras only care about local state, we can hope to leverage this fact for an efficient solution. Specifically, when deciding to place a camera at a node, we might have placed cameras to cover some subset of this node, its left child, and its right child already.\n",
    "\n",
    "Algorithm\n",
    "\n",
    "Let solve(node) be some information about how many cameras it takes to cover the subtree at this node in various states. There are essentially 3 states:\n",
    "\n",
    "    [State 0] Strict subtree: All the nodes below this node are covered, but not this node.\n",
    "    [State 1] Normal subtree: All the nodes below and including this node are covered, but there is no camera here.\n",
    "    [State 2] Placed camera: All the nodes below and including this node are covered, and there is a camera here (which may cover nodes above this node).\n",
    "\n",
    "Once we frame the problem in this way, the answer falls out:\n",
    "\n",
    "    To cover a strict subtree, the children of this node must be in state 1.\n",
    "    To cover a normal subtree without placing a camera here, the children of this node must be in states 1 or 2, and at least one of those children must be in state 2.\n",
    "    To cover the subtree when placing a camera here, the children can be in any state.\n"
   ]
  },
  {
   "cell_type": "code",
   "execution_count": null,
   "id": "1f81cf0e-01d8-48bf-843f-9a654d340716",
   "metadata": {},
   "outputs": [],
   "source": [
    "class Solution(object):\n",
    "    def minCameraCover(self, root):\n",
    "        def solve(node):\n",
    "            # 0: Strict ST; All nodes below this are covered, but not this one\n",
    "            # 1: Normal ST; All nodes below and incl this are covered - no camera\n",
    "            # 2: Placed camera; All nodes below this are covered, plus camera here\n",
    "\n",
    "            if not node: \n",
    "                return 0, 0, float('inf')\n",
    "            \n",
    "            L = solve(node.left)\n",
    "            R = solve(node.right)\n",
    "\n",
    "            dp0 = L[1] + R[1]\n",
    "            dp1 = min(L[2] + min(R[1:]), R[2] + min(L[1:]))\n",
    "            dp2 = 1 + min(L) + min(R)\n",
    "\n",
    "            return dp0, dp1, dp2\n",
    "\n",
    "        return min(solve(root)[1:])"
   ]
  },
  {
   "cell_type": "markdown",
   "id": "393dff05-4ffa-4a12-88ef-9f18c57a1503",
   "metadata": {},
   "source": [
    "Intuition\n",
    "\n",
    "Instead of trying to cover every node from the top down, let's try to cover it from the bottom up - considering placing a camera with the deepest nodes first, and working our way up the tree.\n",
    "\n",
    "If a node has its children covered and has a parent, then it is strictly better to place the camera at this node's parent.\n",
    "\n",
    "Algorithm\n",
    "\n",
    "If a node has children that are not covered by a camera, then we must place a camera here. Additionally, if a node has no parent and it is not covered, we must place a camera here."
   ]
  },
  {
   "cell_type": "code",
   "execution_count": null,
   "id": "58653a13-b93b-440b-bc54-6cd5dbb1e29b",
   "metadata": {},
   "outputs": [],
   "source": [
    "class Solution(object):\n",
    "    def minCameraCover(self, root):\n",
    "        self.ans = 0\n",
    "        covered = {None}\n",
    "\n",
    "        def dfs(node, par=None):\n",
    "            if node:\n",
    "                dfs(node.left, node)\n",
    "                dfs(node.right, node)\n",
    "\n",
    "                if (par is None and node not in covered \n",
    "                    or node.left not in covered \n",
    "                    or node.right not in covered\n",
    "                    ):\n",
    "                    self.ans += 1\n",
    "                    covered.update({node, par, node.left, node.right})\n",
    "\n",
    "        dfs(root)\n",
    "        return self.ans"
   ]
  }
 ],
 "metadata": {
  "kernelspec": {
   "display_name": "Python 3 (ipykernel)",
   "language": "python",
   "name": "python3"
  },
  "language_info": {
   "codemirror_mode": {
    "name": "ipython",
    "version": 3
   },
   "file_extension": ".py",
   "mimetype": "text/x-python",
   "name": "python",
   "nbconvert_exporter": "python",
   "pygments_lexer": "ipython3",
   "version": "3.9.12"
  }
 },
 "nbformat": 4,
 "nbformat_minor": 5
}
