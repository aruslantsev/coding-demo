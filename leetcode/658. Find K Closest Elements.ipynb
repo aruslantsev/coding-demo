{
 "cells": [
  {
   "cell_type": "markdown",
   "id": "e9fb4aee-9805-4d5f-b844-00519aa17abd",
   "metadata": {},
   "source": [
    "Given a sorted integer array arr, two integers k and x, return the k closest integers to x in the array. The result should also be sorted in ascending order.\n",
    "\n",
    "An integer a is closer to x than an integer b if:\n",
    "\n",
    "    |a - x| < |b - x|, or\n",
    "    |a - x| == |b - x| and a < b\n",
    "\n",
    " \n",
    "\n",
    "Example 1:\n",
    "\n",
    "Input: arr = [1,2,3,4,5], k = 4, x = 3\n",
    "Output: [1,2,3,4]\n",
    "\n",
    "Example 2:\n",
    "\n",
    "Input: arr = [1,2,3,4,5], k = 4, x = -1\n",
    "Output: [1,2,3,4]\n",
    "\n",
    " \n",
    "\n",
    "Constraints:\n",
    "\n",
    "    1 <= k <= arr.length\n",
    "    1 <= arr.length <= 104\n",
    "    arr is sorted in ascending order.\n",
    "    -104 <= arr[i], x <= 104\n",
    "\n"
   ]
  },
  {
   "cell_type": "code",
   "execution_count": 23,
   "id": "92baf4f7-7568-4915-8216-d2731e4d3057",
   "metadata": {},
   "outputs": [],
   "source": [
    "from typing import List\n",
    "import heapq\n",
    "\n",
    "class Solution:\n",
    "    def findClosestElements(self, arr: List[int], k: int, x: int) -> List[int]:\n",
    "        h = []\n",
    "        heapq.heapify(h)\n",
    "        for num in arr:\n",
    "            if len(h) < k:\n",
    "                heapq.heappush(h, [-abs(num - x), num])\n",
    "            else:\n",
    "                heapq.heappushpop(h, [-abs(num - x), num])\n",
    "                \n",
    "        return sorted(num for _, num in h)"
   ]
  },
  {
   "cell_type": "code",
   "execution_count": 44,
   "id": "1c1960f0-84e2-48a2-b97c-8fb0dc1ede6a",
   "metadata": {},
   "outputs": [],
   "source": [
    "from typing import List\n",
    "import heapq\n",
    "\n",
    "class Solution:\n",
    "    def findClosestElements(self, arr: List[int], k: int, x: int) -> List[int]:\n",
    "        h = []\n",
    "        heapq.heapify(h)\n",
    "        for num in arr:\n",
    "            if len(h) < k:\n",
    "                heapq.heappush(h, [-abs(num - x), num])\n",
    "            else:\n",
    "                olddiff, oldnum = heapq.heappop(h)\n",
    "                newdiff, newnum = -abs(num - x), num\n",
    "\n",
    "                if newdiff > olddiff:\n",
    "                    heapq.heappush(h, [newdiff, newnum])\n",
    "                elif newdiff < olddiff:\n",
    "                    heapq.heappush(h, [olddiff, oldnum])\n",
    "                else:\n",
    "                    heapq.heappush(h, [olddiff, oldnum])\n",
    "\n",
    "        return sorted(num for _, num in h)"
   ]
  },
  {
   "cell_type": "code",
   "execution_count": null,
   "id": "30ef6a94-b86f-45dc-895a-f89dad1613f3",
   "metadata": {},
   "outputs": [],
   "source": [
    "class Solution:\n",
    "    def findClosestElements(self, arr: List[int], k: int, x: int) -> List[int]:\n",
    "        ans = [(abs(i - x), i) for i in arr]\n",
    "        ans.sort(key = lambda x: x[0])\n",
    "        return sorted([i[1] for i in ans[:k]])\n"
   ]
  },
  {
   "cell_type": "code",
   "execution_count": 45,
   "id": "1a2bd0c9-631e-4b45-be3d-5dcc48fce5b1",
   "metadata": {},
   "outputs": [
    {
     "name": "stdout",
     "output_type": "stream",
     "text": [
      "[[-2, 1]]\n",
      "[[-2, 1], [-1, 2]]\n",
      "[[-2, 1], [-1, 2], [0, 3]]\n",
      "[[-2, 1], [-1, 2], [0, 3], [-1, 4]]\n",
      "-2 1 -2 5\n",
      "[[-2, 1], [-1, 2], [0, 3], [-1, 4]]\n"
     ]
    },
    {
     "data": {
      "text/plain": [
       "[1, 2, 3, 4]"
      ]
     },
     "execution_count": 45,
     "metadata": {},
     "output_type": "execute_result"
    }
   ],
   "source": [
    "s = Solution()\n",
    "s.findClosestElements([1, 2, 3, 4, 5], 4, 3)"
   ]
  },
  {
   "cell_type": "code",
   "execution_count": 46,
   "id": "28ab9f83-95ac-4120-81ef-beb17f918f67",
   "metadata": {},
   "outputs": [
    {
     "name": "stdout",
     "output_type": "stream",
     "text": [
      "[[-2, 1]]\n",
      "[[-3, 2], [-2, 1]]\n",
      "[[-4, 3], [-2, 1], [-3, 2]]\n",
      "[[-5, 4], [-4, 3], [-3, 2], [-2, 1]]\n",
      "-5 4 -6 5\n",
      "[[-5, 4], [-4, 3], [-3, 2], [-2, 1]]\n"
     ]
    },
    {
     "data": {
      "text/plain": [
       "[1, 2, 3, 4]"
      ]
     },
     "execution_count": 46,
     "metadata": {},
     "output_type": "execute_result"
    }
   ],
   "source": [
    "s.findClosestElements([1, 2, 3, 4, 5], 4, -1)"
   ]
  },
  {
   "cell_type": "code",
   "execution_count": 47,
   "id": "afd5470c-cacb-4e9e-a00b-c41ca9e1b625",
   "metadata": {},
   "outputs": [
    {
     "name": "stdout",
     "output_type": "stream",
     "text": [
      "[[-9, 1]]\n",
      "-9 1 -9 1\n",
      "[[-9, 1]]\n",
      "-9 1 -9 1\n",
      "[[-9, 1]]\n",
      "-9 1 0 10\n",
      "[[0, 10]]\n",
      "0 10 0 10\n",
      "[[0, 10]]\n",
      "0 10 0 10\n",
      "[[0, 10]]\n"
     ]
    },
    {
     "data": {
      "text/plain": [
       "[10]"
      ]
     },
     "execution_count": 47,
     "metadata": {},
     "output_type": "execute_result"
    }
   ],
   "source": [
    "s.findClosestElements([1,1,1,10,10,10], 1, 10)"
   ]
  },
  {
   "cell_type": "code",
   "execution_count": null,
   "id": "1ec964aa-65a0-4074-b287-3fb911934ee1",
   "metadata": {},
   "outputs": [],
   "source": []
  }
 ],
 "metadata": {
  "kernelspec": {
   "display_name": "Python 3 (ipykernel)",
   "language": "python",
   "name": "python3"
  },
  "language_info": {
   "codemirror_mode": {
    "name": "ipython",
    "version": 3
   },
   "file_extension": ".py",
   "mimetype": "text/x-python",
   "name": "python",
   "nbconvert_exporter": "python",
   "pygments_lexer": "ipython3",
   "version": "3.9.13"
  }
 },
 "nbformat": 4,
 "nbformat_minor": 5
}
