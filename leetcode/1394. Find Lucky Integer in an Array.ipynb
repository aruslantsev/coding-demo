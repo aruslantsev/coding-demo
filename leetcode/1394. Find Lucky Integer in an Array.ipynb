{
 "cells": [
  {
   "cell_type": "markdown",
   "id": "ba6c3ef2-2930-4245-9f38-e383b519b265",
   "metadata": {},
   "source": [
    "Given an array of integers arr, a lucky integer is an integer that has a frequency in the array equal to its value.\n",
    "\n",
    "Return the largest lucky integer in the array. If there is no lucky integer return -1.\n",
    "\n",
    " \n",
    "\n",
    "Example 1:\n",
    "\n",
    "Input: arr = [2,2,3,4]\n",
    "Output: 2\n",
    "Explanation: The only lucky number in the array is 2 because frequency[2] == 2.\n",
    "\n",
    "Example 2:\n",
    "\n",
    "Input: arr = [1,2,2,3,3,3]\n",
    "Output: 3\n",
    "Explanation: 1, 2 and 3 are all lucky numbers, return the largest of them.\n",
    "\n",
    "Example 3:\n",
    "\n",
    "Input: arr = [2,2,2,3,3]\n",
    "Output: -1\n",
    "Explanation: There are no lucky numbers in the array.\n",
    "\n",
    " \n",
    "\n",
    "Constraints:\n",
    "\n",
    "    1 <= arr.length <= 500\n",
    "    1 <= arr[i] <= 500\n",
    "\n"
   ]
  },
  {
   "cell_type": "code",
   "execution_count": null,
   "id": "21ae3323-f169-45bc-8ee4-ed6acfdd30b8",
   "metadata": {},
   "outputs": [],
   "source": [
    "class Solution:\n",
    "    def findLucky(self, arr: List[int]) -> int:\n",
    "        ans = -1\n",
    "        for k, v in Counter(arr).items():\n",
    "            if k == v:\n",
    "                ans = max(ans, k)\n",
    "        return ans"
   ]
  }
 ],
 "metadata": {
  "kernelspec": {
   "display_name": "common",
   "language": "python",
   "name": "common"
  },
  "language_info": {
   "codemirror_mode": {
    "name": "ipython",
    "version": 3
   },
   "file_extension": ".py",
   "mimetype": "text/x-python",
   "name": "python",
   "nbconvert_exporter": "python",
   "pygments_lexer": "ipython3",
   "version": "3.12.9"
  }
 },
 "nbformat": 4,
 "nbformat_minor": 5
}
