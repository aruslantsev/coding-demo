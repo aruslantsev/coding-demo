{
 "cells": [
  {
   "cell_type": "markdown",
   "id": "fcff1ca2-4120-450e-815d-8195e3d0e93f",
   "metadata": {},
   "source": [
    "Alice and Bob are playing a game. Initially, Alice has a string word = \"a\".\n",
    "\n",
    "You are given a positive integer k. You are also given an integer array operations, where operations[i] represents the type of the ith operation.\n",
    "\n",
    "Now Bob will ask Alice to perform all operations in sequence:\n",
    "\n",
    "    If operations[i] == 0, append a copy of word to itself.\n",
    "    If operations[i] == 1, generate a new string by changing each character in word to its next character in the English alphabet, and append it to the original word. For example, performing the operation on \"c\" generates \"cd\" and performing the operation on \"zb\" generates \"zbac\".\n",
    "\n",
    "Return the value of the kth character in word after performing all the operations.\n",
    "\n",
    "Note that the character 'z' can be changed to 'a' in the second type of operation.\n",
    "\n",
    " \n",
    "\n",
    "Example 1:\n",
    "\n",
    "Input: k = 5, operations = [0,0,0]\n",
    "\n",
    "Output: \"a\"\n",
    "\n",
    "Explanation:\n",
    "\n",
    "Initially, word == \"a\". Alice performs the three operations as follows:\n",
    "\n",
    "    Appends \"a\" to \"a\", word becomes \"aa\".\n",
    "    Appends \"aa\" to \"aa\", word becomes \"aaaa\".\n",
    "    Appends \"aaaa\" to \"aaaa\", word becomes \"aaaaaaaa\".\n",
    "\n",
    "Example 2:\n",
    "\n",
    "Input: k = 10, operations = [0,1,0,1]\n",
    "\n",
    "Output: \"b\"\n",
    "\n",
    "Explanation:\n",
    "\n",
    "Initially, word == \"a\". Alice performs the four operations as follows:\n",
    "\n",
    "    Appends \"a\" to \"a\", word becomes \"aa\".\n",
    "    Appends \"bb\" to \"aa\", word becomes \"aabb\".\n",
    "    Appends \"aabb\" to \"aabb\", word becomes \"aabbaabb\".\n",
    "    Appends \"bbccbbcc\" to \"aabbaabb\", word becomes \"aabbaabbbbccbbcc\".\n",
    "\n",
    " \n",
    "\n",
    "Constraints:\n",
    "\n",
    "    1 <= k <= 1014\n",
    "    1 <= operations.length <= 100\n",
    "    operations[i] is either 0 or 1.\n",
    "    The input is generated such that word has at least k characters after all operations.\n",
    "\n"
   ]
  },
  {
   "cell_type": "code",
   "execution_count": null,
   "id": "7399853b-f0bf-4eb9-86e3-2ad9a80ef6f4",
   "metadata": {},
   "outputs": [],
   "source": [
    "class Solution:\n",
    "    def kthCharacter(self, k: int, operations: List[int]) -> str:\n",
    "        ans = 0\n",
    "        while k != 1:\n",
    "            t = k.bit_length() - 1\n",
    "            if (1 << t) == k:\n",
    "                t -= 1\n",
    "            k -= 1 << t\n",
    "            if operations[t]:\n",
    "                ans += 1\n",
    "        return chr(ord(\"a\") + (ans % 26))\n",
    "        "
   ]
  }
 ],
 "metadata": {
  "kernelspec": {
   "display_name": "Python 3 (ipykernel)",
   "language": "python",
   "name": "python3"
  },
  "language_info": {
   "codemirror_mode": {
    "name": "ipython",
    "version": 3
   },
   "file_extension": ".py",
   "mimetype": "text/x-python",
   "name": "python",
   "nbconvert_exporter": "python",
   "pygments_lexer": "ipython3",
   "version": "3.13.4"
  }
 },
 "nbformat": 4,
 "nbformat_minor": 5
}
