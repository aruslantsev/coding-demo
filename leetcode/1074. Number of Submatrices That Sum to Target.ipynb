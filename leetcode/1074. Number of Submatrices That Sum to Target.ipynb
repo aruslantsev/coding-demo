{
 "cells": [
  {
   "attachments": {
    "2b456547-6ca2-4ffd-89ca-d69b2b91c655.png": {
     "image/png": "[encoded data removed]"
    }
   },
   "cell_type": "markdown",
   "id": "507b617e-6a6d-4445-b6b4-5c77a3a68c3c",
   "metadata": {},
   "source": [
    "Given a matrix and a target, return the number of non-empty submatrices that sum to target.\n",
    "\n",
    "A submatrix x1, y1, x2, y2 is the set of all cells matrix[x][y] with x1 <= x <= x2 and y1 <= y <= y2.\n",
    "\n",
    "Two submatrices (x1, y1, x2, y2) and (x1', y1', x2', y2') are different if they have some coordinate that is different: for example, if x1 != x1'.\n",
    "\n",
    " \n",
    "\n",
    "Example 1:\n",
    "    \n",
    "![изображение.png](attachment:2b456547-6ca2-4ffd-89ca-d69b2b91c655.png)\n",
    "\n",
    "Input: matrix = [[0,1,0],[1,1,1],[0,1,0]], target = 0\n",
    "Output: 4\n",
    "Explanation: The four 1x1 submatrices that only contain 0.\n",
    "\n",
    "Example 2:\n",
    "\n",
    "Input: matrix = [[1,-1],[-1,1]], target = 0\n",
    "Output: 5\n",
    "Explanation: The two 1x2 submatrices, plus the two 2x1 submatrices, plus the 2x2 submatrix.\n",
    "\n",
    "Example 3:\n",
    "\n",
    "Input: matrix = [[904]], target = 0\n",
    "Output: 0\n",
    "\n",
    " \n",
    "\n",
    "Constraints:\n",
    "\n",
    "    1 <= matrix.length <= 100\n",
    "    1 <= matrix[0].length <= 100\n",
    "    -1000 <= matrix[i] <= 1000\n",
    "    -10^8 <= target <= 10^8\n"
   ]
  },
  {
   "cell_type": "code",
   "execution_count": 35,
   "id": "3087fc4b-e254-4897-8568-856c37731256",
   "metadata": {},
   "outputs": [],
   "source": [
    "from typing import List\n",
    "from collections import defaultdict\n",
    "\n",
    "class Solution:\n",
    "    def numSubmatrixSumTarget(self, matrix: List[List[int]], target: int) -> int:\n",
    "        prefix_sum = defaultdict(int)\n",
    "        for i in range(len(matrix)):\n",
    "            for j in range(len(matrix[0])):\n",
    "                prefix_sum[i, j] = prefix_sum[i - 1, j] + prefix_sum[i, j - 1] - prefix_sum[i - 1, j - 1] + matrix[i][j]\n",
    "        \n",
    "        counter = 0\n",
    "        for i in range(len(matrix)):\n",
    "            for k in range(-1, i):\n",
    "                counts = defaultdict(int)\n",
    "                for j in range(-1, len(matrix[0])):\n",
    "                    delta = prefix_sum[i, j] - prefix_sum[k, j]\n",
    "                    counter += counts[delta - target]\n",
    "                    counts[delta] += 1\n",
    "        return counter"
   ]
  },
  {
   "cell_type": "code",
   "execution_count": 36,
   "id": "345abf66-0c87-427e-9fcf-44854ba8ea7b",
   "metadata": {},
   "outputs": [
    {
     "data": {
      "text/plain": [
       "4"
      ]
     },
     "execution_count": 36,
     "metadata": {},
     "output_type": "execute_result"
    }
   ],
   "source": [
    "s = Solution()\n",
    "s.numSubmatrixSumTarget([[0,1,0],[1,1,1],[0,1,0]], 0)"
   ]
  },
  {
   "cell_type": "code",
   "execution_count": null,
   "id": "fc0a1ee9-8289-40cf-af70-7704d58a9a09",
   "metadata": {},
   "outputs": [],
   "source": []
  }
 ],
 "metadata": {
  "kernelspec": {
   "display_name": "Python 3 (ipykernel)",
   "language": "python",
   "name": "python3"
  },
  "language_info": {
   "codemirror_mode": {
    "name": "ipython",
    "version": 3
   },
   "file_extension": ".py",
   "mimetype": "text/x-python",
   "name": "python",
   "nbconvert_exporter": "python",
   "pygments_lexer": "ipython3",
   "version": "3.9.12"
  }
 },
 "nbformat": 4,
 "nbformat_minor": 5
}
