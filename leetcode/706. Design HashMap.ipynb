{
 "cells": [
  {
   "cell_type": "markdown",
   "id": "301a8968-a513-45ed-8395-a24f208240c9",
   "metadata": {},
   "source": [
    "Design a HashMap without using any built-in hash table libraries.\n",
    "\n",
    "Implement the MyHashMap class:\n",
    "\n",
    "    MyHashMap() initializes the object with an empty map.\n",
    "    void put(int key, int value) inserts a (key, value) pair into the HashMap. If the key already exists in the map, update the corresponding value.\n",
    "    int get(int key) returns the value to which the specified key is mapped, or -1 if this map contains no mapping for the key.\n",
    "    void remove(key) removes the key and its corresponding value if the map contains the mapping for the key.\n",
    "\n",
    " \n",
    "\n",
    "Example 1:\n",
    "\n",
    "Input\n",
    "[\"MyHashMap\", \"put\", \"put\", \"get\", \"get\", \"put\", \"get\", \"remove\", \"get\"]\n",
    "[[], [1, 1], [2, 2], [1], [3], [2, 1], [2], [2], [2]]\n",
    "Output\n",
    "[null, null, null, 1, -1, null, 1, null, -1]\n",
    "\n",
    "Explanation\n",
    "MyHashMap myHashMap = new MyHashMap();\n",
    "myHashMap.put(1, 1); // The map is now [[1,1]]\n",
    "myHashMap.put(2, 2); // The map is now [[1,1], [2,2]]\n",
    "myHashMap.get(1);    // return 1, The map is now [[1,1], [2,2]]\n",
    "myHashMap.get(3);    // return -1 (i.e., not found), The map is now [[1,1], [2,2]]\n",
    "myHashMap.put(2, 1); // The map is now [[1,1], [2,1]] (i.e., update the existing value)\n",
    "myHashMap.get(2);    // return 1, The map is now [[1,1], [2,1]]\n",
    "myHashMap.remove(2); // remove the mapping for 2, The map is now [[1,1]]\n",
    "myHashMap.get(2);    // return -1 (i.e., not found), The map is now [[1,1]]\n",
    "\n",
    " \n",
    "\n",
    "Constraints:\n",
    "\n",
    "    0 <= key, value <= 106\n",
    "    At most 104 calls will be made to put, get, and remove.\n",
    "\n"
   ]
  },
  {
   "cell_type": "code",
   "execution_count": 1,
   "id": "9bc3946b-f6d2-411a-ad46-2991c05c6f3f",
   "metadata": {},
   "outputs": [],
   "source": [
    "class MyHashMap:\n",
    "\n",
    "    def __init__(self):\n",
    "        self.buckets = 256\n",
    "        self.storage = [([], []) for _ in range(self.buckets)]\n",
    "\n",
    "    def put(self, key: int, value: int) -> None:\n",
    "        bucket = self.storage[key % self.buckets]\n",
    "        if key not in bucket[0]:\n",
    "            bucket[0].append(key)\n",
    "            bucket[1].append(value)\n",
    "        else:\n",
    "            bucket[1][bucket[0].index(key)] = value\n",
    "\n",
    "    def get(self, key: int) -> int:\n",
    "        bucket = self.storage[key % self.buckets]\n",
    "        if key in bucket[0]:\n",
    "            return  bucket[1][bucket[0].index(key)]\n",
    "        else:\n",
    "            return -1\n",
    "\n",
    "    def remove(self, key: int) -> None:\n",
    "        bucket = self.storage[key % self.buckets]\n",
    "        if key in bucket[0]:\n",
    "            idx = bucket[0].index(key)\n",
    "            bucket[0].pop(idx)\n",
    "            bucket[1].pop(idx)\n",
    "\n",
    "# Your MyHashMap object will be instantiated and called as such:\n",
    "# obj = MyHashMap()\n",
    "# obj.put(key,value)\n",
    "# param_2 = obj.get(key)\n",
    "# obj.remove(key)"
   ]
  },
  {
   "cell_type": "code",
   "execution_count": null,
   "id": "5bfb3d55-5e89-4c29-9fc5-2c00faa3d0b7",
   "metadata": {},
   "outputs": [],
   "source": []
  }
 ],
 "metadata": {
  "kernelspec": {
   "display_name": "Python 3 (ipykernel)",
   "language": "python",
   "name": "python3"
  },
  "language_info": {
   "codemirror_mode": {
    "name": "ipython",
    "version": 3
   },
   "file_extension": ".py",
   "mimetype": "text/x-python",
   "name": "python",
   "nbconvert_exporter": "python",
   "pygments_lexer": "ipython3",
   "version": "3.9.10"
  }
 },
 "nbformat": 4,
 "nbformat_minor": 5
}
