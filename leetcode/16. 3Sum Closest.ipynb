{
 "cells": [
  {
   "cell_type": "markdown",
   "id": "488bd118-622f-498f-8e06-96cc42576470",
   "metadata": {},
   "source": [
    "Given an integer array nums of length n and an integer target, find three integers in nums such that the sum is closest to target.\n",
    "\n",
    "Return the sum of the three integers.\n",
    "\n",
    "You may assume that each input would have exactly one solution.\n",
    "\n",
    " \n",
    "\n",
    "Example 1:\n",
    "\n",
    "Input: nums = [-1,2,1,-4], target = 1\n",
    "Output: 2\n",
    "Explanation: The sum that is closest to the target is 2. (-1 + 2 + 1 = 2).\n",
    "Example 2:\n",
    "\n",
    "Input: nums = [0,0,0], target = 1\n",
    "Output: 0\n",
    " \n",
    "\n",
    "Constraints:\n",
    "\n",
    "3 <= nums.length <= 1000\n",
    "-1000 <= nums[i] <= 1000\n",
    "-104 <= target <= 104"
   ]
  },
  {
   "cell_type": "code",
   "execution_count": 1,
   "id": "b35b6555-3065-434d-b08b-df526bc9e928",
   "metadata": {},
   "outputs": [],
   "source": [
    "from typing import List\n",
    "from math import inf\n",
    "\n",
    "class Solution:\n",
    "    def threeSumClosest(self, nums: List[int], target: int) -> int:\n",
    "        nums = sorted(nums)\n",
    "        diff = inf\n",
    "        ans = None\n",
    "        for i in range(len(nums) - 2):\n",
    "            l = i + 1\n",
    "            r = len(nums) - 1\n",
    "            while l < r:\n",
    "                s = nums[i] + nums[l] + nums[r]\n",
    "                cd = s - target\n",
    "                if abs(cd) < diff:\n",
    "                    ans = s\n",
    "                    diff = abs(cd)\n",
    "                if cd > 0:\n",
    "                    r -= 1\n",
    "                elif cd < 0:\n",
    "                    l += 1\n",
    "                else:\n",
    "                    return ans\n",
    "                    r -= 1\n",
    "                    l += 1\n",
    "        return ans"
   ]
  },
  {
   "cell_type": "code",
   "execution_count": null,
   "id": "7c07501f-9df6-46a5-bdaa-1927d23ba576",
   "metadata": {},
   "outputs": [],
   "source": [
    "class Solution:\n",
    "    def threeSumClosest(self, nums: List[int], target: int) -> int:\n",
    "        n = len(nums)\n",
    "        ans = 10**5\n",
    "        nums.sort()\n",
    "        for i in range(n-2):\n",
    "            t = target - nums[i]\n",
    "            left = bisect.bisect_left(nums[i+1:], t//2) + i+1\n",
    "            if left >= n-1:\n",
    "                left = n-2\n",
    "            right = left + 1\n",
    "            while left > i and right < n:\n",
    "                eq = nums[left] + nums[right] - t\n",
    "                if eq == 0:\n",
    "                    return target\n",
    "                elif eq > 0:\n",
    "                    left -= 1\n",
    "                else:\n",
    "                    right += 1\n",
    "                if abs(eq) < abs(ans):\n",
    "                    ans = eq\n",
    "        return target + ans"
   ]
  },
  {
   "cell_type": "code",
   "execution_count": 29,
   "id": "d627f9a2-032e-47d7-a74f-878fdb30966b",
   "metadata": {},
   "outputs": [
    {
     "data": {
      "text/plain": [
       "2"
      ]
     },
     "execution_count": 29,
     "metadata": {},
     "output_type": "execute_result"
    }
   ],
   "source": [
    "s = Solution()\n",
    "s.threeSumClosest([-1,2,1,-4], 1)"
   ]
  },
  {
   "cell_type": "code",
   "execution_count": 30,
   "id": "80325cf2-84e4-429e-a239-2d603aa495f3",
   "metadata": {},
   "outputs": [
    {
     "data": {
      "text/plain": [
       "0"
      ]
     },
     "execution_count": 30,
     "metadata": {},
     "output_type": "execute_result"
    }
   ],
   "source": [
    "s.threeSumClosest([0, 0, 0], 1)"
   ]
  },
  {
   "cell_type": "code",
   "execution_count": 31,
   "id": "dac00920-e726-43e5-b8bb-f44383378ce9",
   "metadata": {},
   "outputs": [
    {
     "data": {
      "text/plain": [
       "2"
      ]
     },
     "execution_count": 31,
     "metadata": {},
     "output_type": "execute_result"
    }
   ],
   "source": [
    "s.threeSumClosest([1,1,1,0], -100)"
   ]
  },
  {
   "cell_type": "code",
   "execution_count": null,
   "id": "a198c288-194a-488f-9aa9-ef9f8a3f34f6",
   "metadata": {},
   "outputs": [],
   "source": []
  }
 ],
 "metadata": {
  "kernelspec": {
   "display_name": "Python 3 (ipykernel)",
   "language": "python",
   "name": "python3"
  },
  "language_info": {
   "codemirror_mode": {
    "name": "ipython",
    "version": 3
   },
   "file_extension": ".py",
   "mimetype": "text/x-python",
   "name": "python",
   "nbconvert_exporter": "python",
   "pygments_lexer": "ipython3",
   "version": "3.9.13"
  }
 },
 "nbformat": 4,
 "nbformat_minor": 5
}
