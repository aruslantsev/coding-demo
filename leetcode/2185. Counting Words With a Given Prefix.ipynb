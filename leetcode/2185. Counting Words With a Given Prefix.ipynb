{
 "cells": [
  {
   "cell_type": "markdown",
   "id": "4c175878-4c00-4370-b1f5-2d066b610d49",
   "metadata": {},
   "source": [
    "You are given an array of strings words and a string pref.\n",
    "\n",
    "Return the number of strings in words that contain pref as a prefix.\n",
    "\n",
    "A prefix of a string s is any leading contiguous substring of s.\n",
    "\n",
    " \n",
    "\n",
    "Example 1:\n",
    "\n",
    "Input: words = [\"pay\",\"attention\",\"practice\",\"attend\"], pref = \"at\"\n",
    "Output: 2\n",
    "Explanation: The 2 strings that contain \"at\" as a prefix are: \"attention\" and \"attend\".\n",
    "\n",
    "Example 2:\n",
    "\n",
    "Input: words = [\"leetcode\",\"win\",\"loops\",\"success\"], pref = \"code\"\n",
    "Output: 0\n",
    "Explanation: There are no strings that contain \"code\" as a prefix.\n",
    "\n",
    " \n",
    "\n",
    "Constraints:\n",
    "\n",
    "    1 <= words.length <= 100\n",
    "    1 <= words[i].length, pref.length <= 100\n",
    "    words[i] and pref consist of lowercase English letters.\n",
    "\n"
   ]
  },
  {
   "cell_type": "code",
   "execution_count": null,
   "id": "2c94f262-2ac6-46ed-9d13-2ac6841e9e17",
   "metadata": {},
   "outputs": [],
   "source": [
    "class Solution:\n",
    "    def prefixCount(self, words: List[str], pref: str) -> int:\n",
    "        return len([w for w in words if w.startswith(pref)])\n",
    "        "
   ]
  }
 ],
 "metadata": {
  "kernelspec": {
   "display_name": "Python 3 (ipykernel)",
   "language": "python",
   "name": "python3"
  },
  "language_info": {
   "codemirror_mode": {
    "name": "ipython",
    "version": 3
   },
   "file_extension": ".py",
   "mimetype": "text/x-python",
   "name": "python",
   "nbconvert_exporter": "python",
   "pygments_lexer": "ipython3",
   "version": "3.12.7"
  }
 },
 "nbformat": 4,
 "nbformat_minor": 5
}
