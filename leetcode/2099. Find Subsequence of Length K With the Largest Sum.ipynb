{
 "cells": [
  {
   "cell_type": "markdown",
   "id": "283621dd-3df0-4dc4-8c23-72fcbc49c83d",
   "metadata": {},
   "source": [
    "You are given an integer array nums and an integer k. You want to find a subsequence of nums of length k that has the largest sum.\n",
    "\n",
    "Return any such subsequence as an integer array of length k.\n",
    "\n",
    "A subsequence is an array that can be derived from another array by deleting some or no elements without changing the order of the remaining elements.\n",
    "\n",
    " \n",
    "\n",
    "Example 1:\n",
    "\n",
    "Input: nums = [2,1,3,3], k = 2\n",
    "Output: [3,3]\n",
    "Explanation:\n",
    "The subsequence has the largest sum of 3 + 3 = 6.\n",
    "\n",
    "Example 2:\n",
    "\n",
    "Input: nums = [-1,-2,3,4], k = 3\n",
    "Output: [-1,3,4]\n",
    "Explanation: \n",
    "The subsequence has the largest sum of -1 + 3 + 4 = 6.\n",
    "\n",
    "Example 3:\n",
    "\n",
    "Input: nums = [3,4,3,3], k = 2\n",
    "Output: [3,4]\n",
    "Explanation:\n",
    "The subsequence has the largest sum of 3 + 4 = 7. \n",
    "Another possible subsequence is [4, 3].\n",
    "\n",
    " \n",
    "\n",
    "Constraints:\n",
    "\n",
    "    1 <= nums.length <= 1000\n",
    "    -105 <= nums[i] <= 105\n",
    "    1 <= k <= nums.length\n",
    "\n"
   ]
  },
  {
   "cell_type": "code",
   "execution_count": null,
   "id": "9b02c8ef-793b-47a0-bca3-2ad0bd5bc2a3",
   "metadata": {},
   "outputs": [],
   "source": [
    "class Solution:\n",
    "    def maxSubsequence(self, nums: List[int], k: int) -> List[int]:\n",
    "        vals = [(i, val) for i, val in enumerate(nums)]\n",
    "        vals = sorted(vals, key=lambda x: -x[1])[:k]\n",
    "        vals = sorted(vals)\n",
    "        return [val for _, val in vals]"
   ]
  }
 ],
 "metadata": {
  "kernelspec": {
   "display_name": "Python 3 (ipykernel)",
   "language": "python",
   "name": "python3"
  },
  "language_info": {
   "codemirror_mode": {
    "name": "ipython",
    "version": 3
   },
   "file_extension": ".py",
   "mimetype": "text/x-python",
   "name": "python",
   "nbconvert_exporter": "python",
   "pygments_lexer": "ipython3",
   "version": "3.13.4"
  }
 },
 "nbformat": 4,
 "nbformat_minor": 5
}
