{
 "cells": [
  {
   "cell_type": "markdown",
   "id": "7853c3b4-46d7-4667-9ca1-0da342b53524",
   "metadata": {},
   "source": [
    "Given an integer n, return true if it is a power of four. Otherwise, return false.\n",
    "\n",
    "An integer n is a power of four, if there exists an integer x such that n == 4x.\n",
    "\n",
    " \n",
    "\n",
    "Example 1:\n",
    "\n",
    "Input: n = 16\n",
    "Output: true\n",
    "\n",
    "Example 2:\n",
    "\n",
    "Input: n = 5\n",
    "Output: false\n",
    "\n",
    "Example 3:\n",
    "\n",
    "Input: n = 1\n",
    "Output: true\n",
    "\n",
    " \n",
    "\n",
    "Constraints:\n",
    "\n",
    "    -231 <= n <= 231 - 1\n",
    "\n",
    " \n",
    "Follow up: Could you solve it without loops/recursion?"
   ]
  },
  {
   "cell_type": "code",
   "execution_count": 2,
   "id": "c11a2372-4377-4c95-be3a-4b3a42d6635f",
   "metadata": {},
   "outputs": [],
   "source": [
    "import math\n",
    "\n",
    "class Solution:\n",
    "    def isPowerOfFour(self, n: int) -> bool:\n",
    "        if n == 0:\n",
    "            return False\n",
    "        if n < 0:\n",
    "            nn = -n\n",
    "        else:\n",
    "            nn = n\n",
    "        power =  math.log2(nn) % 2\n",
    "        if power % 2 == 0:\n",
    "            if n > 0:\n",
    "                return True\n",
    "            else:\n",
    "                if (power // 2) % 2 == 0:\n",
    "                    return False\n",
    "                else:\n",
    "                    return True\n",
    "        else:\n",
    "            return False"
   ]
  },
  {
   "cell_type": "code",
   "execution_count": 3,
   "id": "01b3c258-d7b8-4b7c-874d-0906cbaab6f4",
   "metadata": {},
   "outputs": [],
   "source": [
    "import math\n",
    "\n",
    "class Solution:\n",
    "    def isPowerOfFour(self, n: int) -> bool:\n",
    "        if n <= 0:\n",
    "            return False\n",
    "        return math.log2(n) % 2 == 0\n",
    "        "
   ]
  },
  {
   "cell_type": "code",
   "execution_count": null,
   "id": "aeb26b3c-8305-4039-8c93-bb2f411eabce",
   "metadata": {},
   "outputs": [],
   "source": []
  }
 ],
 "metadata": {
  "kernelspec": {
   "display_name": "Python 3 (ipykernel)",
   "language": "python",
   "name": "python3"
  },
  "language_info": {
   "codemirror_mode": {
    "name": "ipython",
    "version": 3
   },
   "file_extension": ".py",
   "mimetype": "text/x-python",
   "name": "python",
   "nbconvert_exporter": "python",
   "pygments_lexer": "ipython3",
   "version": "3.9.12"
  }
 },
 "nbformat": 4,
 "nbformat_minor": 5
}
