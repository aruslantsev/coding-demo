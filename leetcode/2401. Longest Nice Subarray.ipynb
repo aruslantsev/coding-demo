{
 "cells": [
  {
   "cell_type": "markdown",
   "id": "41197f4b-1400-4713-b8b4-df0848a87018",
   "metadata": {},
   "source": [
    "You are given an array nums consisting of positive integers.\n",
    "\n",
    "We call a subarray of nums nice if the bitwise AND of every pair of elements that are in different positions in the subarray is equal to 0.\n",
    "\n",
    "Return the length of the longest nice subarray.\n",
    "\n",
    "A subarray is a contiguous part of an array.\n",
    "\n",
    "Note that subarrays of length 1 are always considered nice.\n",
    "\n",
    " \n",
    "\n",
    "Example 1:\n",
    "\n",
    "Input: nums = [1,3,8,48,10]\n",
    "Output: 3\n",
    "Explanation: The longest nice subarray is [3,8,48]. This subarray satisfies the conditions:\n",
    "- 3 AND 8 = 0.\n",
    "- 3 AND 48 = 0.\n",
    "- 8 AND 48 = 0.\n",
    "It can be proven that no longer nice subarray can be obtained, so we return 3.\n",
    "\n",
    "Example 2:\n",
    "\n",
    "Input: nums = [3,1,5,11,13]\n",
    "Output: 1\n",
    "Explanation: The length of the longest nice subarray is 1. Any subarray of length 1 can be chosen.\n",
    "\n",
    " \n",
    "\n",
    "Constraints:\n",
    "\n",
    "    1 <= nums.length <= 105\n",
    "    1 <= nums[i] <= 109\n",
    "\n"
   ]
  },
  {
   "cell_type": "code",
   "execution_count": null,
   "id": "0bb4ee50-d51a-4eee-b6aa-d363a02a62a4",
   "metadata": {},
   "outputs": [],
   "source": [
    "class Solution:\n",
    "    def longestNiceSubarray(self, nums: List[int]) -> int:\n",
    "        window = 0\n",
    "        ans = 0\n",
    "        l = 0\n",
    "        for r in range(len(nums)):\n",
    "            while window & nums[r]:\n",
    "                window ^= nums[l]\n",
    "                l += 1\n",
    "            window |= nums[r]\n",
    "            ans = max(ans, r - l + 1)\n",
    "        return ans"
   ]
  }
 ],
 "metadata": {
  "kernelspec": {
   "display_name": "Python 3 (ipykernel)",
   "language": "python",
   "name": "python3"
  },
  "language_info": {
   "codemirror_mode": {
    "name": "ipython",
    "version": 3
   },
   "file_extension": ".py",
   "mimetype": "text/x-python",
   "name": "python",
   "nbconvert_exporter": "python",
   "pygments_lexer": "ipython3",
   "version": "3.12.7"
  }
 },
 "nbformat": 4,
 "nbformat_minor": 5
}
