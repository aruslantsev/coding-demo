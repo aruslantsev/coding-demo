{
 "cells": [
  {
   "attachments": {
    "d53b9a4c-b710-48f1-8f80-7783dbaf53d9.png": {
     "image/png": "[encoded data removed]"
    }
   },
   "cell_type": "markdown",
   "id": "c16fa583-1103-40f8-881f-66770a882b96",
   "metadata": {},
   "source": [
    "Given an m x n matrix matrix and an integer k, return the max sum of a rectangle in the matrix such that its sum is no larger than k.\n",
    "\n",
    "It is guaranteed that there will be a rectangle with a sum no larger than k.\n",
    "\n",
    " \n",
    "\n",
    "Example 1:\n",
    "\n",
    "![изображение.png](attachment:d53b9a4c-b710-48f1-8f80-7783dbaf53d9.png)\n",
    "\n",
    "Input: matrix = [[1,0,1],[0,-2,3]], k = 2\n",
    "Output: 2\n",
    "Explanation: Because the sum of the blue rectangle [[0, 1], [-2, 3]] is 2, and 2 is the max number no larger than k (k = 2).\n",
    "\n",
    "Example 2:\n",
    "\n",
    "Input: matrix = [[2,2,-1]], k = 3\n",
    "Output: 3\n",
    "\n",
    " \n",
    "\n",
    "Constraints:\n",
    "\n",
    "    m == matrix.length\n",
    "    n == matrix[i].length\n",
    "    1 <= m, n <= 100\n",
    "    -100 <= matrix[i][j] <= 100\n",
    "    -105 <= k <= 105\n",
    "\n",
    " \n",
    "\n",
    "Follow up: What if the number of rows is much larger than the number of columns?\n"
   ]
  },
  {
   "cell_type": "code",
   "execution_count": 64,
   "id": "215bfcd0-3f20-431e-af51-ba16d4f90b98",
   "metadata": {},
   "outputs": [],
   "source": [
    "from typing import List\n",
    "from math import inf\n",
    "\n",
    "class Solution:\n",
    "    def maxSumSubmatrix(self, matrix: List[List[int]], k: int) -> int:\n",
    "        maxsum = k\n",
    "        prefixsums = [[0 for _ in range(len(matrix[0]) + 1)] for _ in range(len(matrix) + 1)]\n",
    "        for i in range(1, len(prefixsums)):\n",
    "            prefixsums[i][1] = prefixsums[i - 1][1] + matrix[i - 1][0]\n",
    "            for j in range(2, len(prefixsums[0])):\n",
    "                prefixsums[i][j] = prefixsums[i][j - 1] + matrix[i - 1][j - 1]\n",
    "\n",
    "        bestsum = -inf\n",
    "        for i in range(len(prefixsums) - 1):\n",
    "            for j in range(len(prefixsums[0]) - 1):\n",
    "                for k in range(i + 1, len(prefixsums)):\n",
    "                    for l in range(j + 1, len(prefixsums[0])):\n",
    "                        currsum = prefixsums[k][l] - prefixsums[i][l] - prefixsums[k][j] + prefixsums[i][j]\n",
    "                        if bestsum < currsum <= maxsum:\n",
    "                            bestsum = currsum\n",
    "                        if bestsum == maxsum:\n",
    "                            return maxsum\n",
    "        return bestsum"
   ]
  },
  {
   "cell_type": "code",
   "execution_count": null,
   "id": "073d4015-3360-4a90-841f-f24ebd09198e",
   "metadata": {},
   "outputs": [],
   "source": [
    "class Solution:\n",
    "    def maxSumSubmatrix(self, matrix: List[List[int]], k: int) -> int:\n",
    "        ans = float(\"-inf\")\n",
    "        m, n = len(matrix), len(matrix[0])\n",
    "        for i in range(n):\n",
    "            lstSum = [0] * m\n",
    "            for j in range(i, n):\n",
    "                currSum = 0\n",
    "                curlstSum = [0]\n",
    "                for t in range(m):\n",
    "                    lstSum[t] += matrix[t][j]\n",
    "                    currSum += lstSum[t]\n",
    "                    pos = bisect_left(curlstSum, currSum - k)\n",
    "                    if pos < len(curlstSum):\n",
    "                        if curlstSum[pos] == currSum - k:\n",
    "                            return k\n",
    "                        else:\n",
    "                            ans = max(ans, currSum - curlstSum[pos])\n",
    "                    insort(curlstSum, currSum)\n",
    "        return ans"
   ]
  },
  {
   "cell_type": "code",
   "execution_count": 65,
   "id": "1b4c511f-672e-4f6c-b11d-ff29040305a2",
   "metadata": {},
   "outputs": [
    {
     "data": {
      "text/plain": [
       "2"
      ]
     },
     "execution_count": 65,
     "metadata": {},
     "output_type": "execute_result"
    }
   ],
   "source": [
    "s = Solution()\n",
    "s.maxSumSubmatrix([[1,0,1],[0,-2,3]], 2)"
   ]
  },
  {
   "cell_type": "code",
   "execution_count": 66,
   "id": "fc846436-4a48-4229-ab43-00775ed28a63",
   "metadata": {},
   "outputs": [
    {
     "data": {
      "text/plain": [
       "-1"
      ]
     },
     "execution_count": 66,
     "metadata": {},
     "output_type": "execute_result"
    }
   ],
   "source": [
    "s.maxSumSubmatrix([[2, 2, -1]], 0)"
   ]
  },
  {
   "cell_type": "code",
   "execution_count": null,
   "id": "c2508dcc-c564-43bd-a593-4e46da8bb261",
   "metadata": {},
   "outputs": [],
   "source": []
  }
 ],
 "metadata": {
  "kernelspec": {
   "display_name": "Python 3 (ipykernel)",
   "language": "python",
   "name": "python3"
  },
  "language_info": {
   "codemirror_mode": {
    "name": "ipython",
    "version": 3
   },
   "file_extension": ".py",
   "mimetype": "text/x-python",
   "name": "python",
   "nbconvert_exporter": "python",
   "pygments_lexer": "ipython3",
   "version": "3.9.12"
  }
 },
 "nbformat": 4,
 "nbformat_minor": 5
}
