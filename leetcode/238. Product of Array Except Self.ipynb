{
 "cells": [
  {
   "cell_type": "markdown",
   "id": "18b97b41-c2e8-4fa2-a1c1-d7c2e82196df",
   "metadata": {},
   "source": [
    "Given an integer array nums, return an array answer such that answer[i] is equal to the product of all the elements of nums except nums[i].\n",
    "\n",
    "The product of any prefix or suffix of nums is guaranteed to fit in a 32-bit integer.\n",
    "\n",
    "You must write an algorithm that runs in O(n) time and without using the division operation.\n",
    "\n",
    " \n",
    "\n",
    "Example 1:\n",
    "\n",
    "Input: nums = [1,2,3,4]\n",
    "Output: [24,12,8,6]\n",
    "\n",
    "Example 2:\n",
    "\n",
    "Input: nums = [-1,1,0,-3,3]\n",
    "Output: [0,0,9,0,0]\n",
    "\n",
    " \n",
    "\n",
    "Constraints:\n",
    "\n",
    "    2 <= nums.length <= 105\n",
    "    -30 <= nums[i] <= 30\n",
    "    The product of any prefix or suffix of nums is guaranteed to fit in a 32-bit integer.\n",
    "\n",
    " \n",
    "\n",
    "Follow up: Can you solve the problem in O(1) extra space complexity? (The output array does not count as extra space for space complexity analysis.)\n",
    "\n"
   ]
  },
  {
   "cell_type": "code",
   "execution_count": 3,
   "id": "01c336ac-b82c-445e-a7db-c0727d4d32d4",
   "metadata": {},
   "outputs": [],
   "source": [
    "from typing import List\n",
    "\n",
    "class Solution:\n",
    "    def productExceptSelf(self, nums: List[int]) -> List[int]:\n",
    "        prod = 1 if len([n for n in nums if n != 0]) > 0 else 0\n",
    "        null = False\n",
    "        nulls = len([n for n in nums if n == 0])\n",
    "        \n",
    "        if nulls > 1:\n",
    "            return [0 for _ in nums]\n",
    "        \n",
    "        if nulls > 0:\n",
    "            null = True\n",
    "        \n",
    "        for n in [n for n in nums if n!= 0]:\n",
    "            if n != 0:\n",
    "                prod *= n\n",
    "        print(prod, null)\n",
    "        \n",
    "        ans = []\n",
    "        for n in nums:\n",
    "            if null:\n",
    "                if n!= 0:\n",
    "                    ans.append(0)\n",
    "                else:\n",
    "                    ans.append(prod)\n",
    "            else:\n",
    "                ans.append(prod // n)\n",
    "            \n",
    "        return ans"
   ]
  },
  {
   "cell_type": "code",
   "execution_count": null,
   "id": "a042032d-f32c-43d9-a3dc-596f6b1d91c6",
   "metadata": {},
   "outputs": [],
   "source": []
  }
 ],
 "metadata": {
  "kernelspec": {
   "display_name": "Python 3 (ipykernel)",
   "language": "python",
   "name": "python3"
  },
  "language_info": {
   "codemirror_mode": {
    "name": "ipython",
    "version": 3
   },
   "file_extension": ".py",
   "mimetype": "text/x-python",
   "name": "python",
   "nbconvert_exporter": "python",
   "pygments_lexer": "ipython3",
   "version": "3.9.10"
  }
 },
 "nbformat": 4,
 "nbformat_minor": 5
}
