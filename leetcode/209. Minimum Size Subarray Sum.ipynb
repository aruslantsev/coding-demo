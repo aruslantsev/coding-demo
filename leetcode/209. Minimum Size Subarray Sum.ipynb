{
 "cells": [
  {
   "cell_type": "markdown",
   "id": "16c8cb4b-e15b-4439-b60f-0974d4285a7b",
   "metadata": {},
   "source": [
    "Given an array of positive integers nums and a positive integer target, return the minimal length of a contiguous subarray [numsl, numsl+1, ..., numsr-1, numsr] of which the sum is greater than or equal to target. If there is no such subarray, return 0 instead.\n",
    "\n",
    " \n",
    "\n",
    "Example 1:\n",
    "\n",
    "Input: target = 7, nums = [2,3,1,2,4,3]\n",
    "Output: 2\n",
    "Explanation: The subarray [4,3] has the minimal length under the problem constraint.\n",
    "\n",
    "Example 2:\n",
    "\n",
    "Input: target = 4, nums = [1,4,4]\n",
    "Output: 1\n",
    "\n",
    "Example 3:\n",
    "\n",
    "Input: target = 11, nums = [1,1,1,1,1,1,1,1]\n",
    "Output: 0\n",
    "\n",
    " \n",
    "\n",
    "Constraints:\n",
    "\n",
    "    1 <= target <= 109\n",
    "    1 <= nums.length <= 105\n",
    "    1 <= nums[i] <= 105\n",
    "\n",
    " \n",
    "Follow up: If you have figured out the O(n) solution, try coding another solution of which the time complexity is O(n log(n))."
   ]
  },
  {
   "cell_type": "code",
   "execution_count": 41,
   "id": "d99005bc-b3c6-467a-8f59-50fa7d6603fe",
   "metadata": {},
   "outputs": [],
   "source": [
    "from typing import List\n",
    "from math import inf\n",
    "\n",
    "class Solution:\n",
    "    def minSubArrayLen(self, target: int, nums: List[int]) -> int:\n",
    "        if target == 0:\n",
    "            return 0\n",
    "        \n",
    "        l = 0\n",
    "        r = 0\n",
    "        length = inf\n",
    "        curr_sum = 0\n",
    "        while r < len(nums):\n",
    "            while curr_sum < target and r < len(nums):\n",
    "                curr_sum += nums[r]\n",
    "                r += 1\n",
    "            while curr_sum >= target and l < r:\n",
    "                curr_sum -= nums[l]\n",
    "                length = min(length, r - l)\n",
    "                l += 1\n",
    "            \n",
    "        return length if length != inf else 0"
   ]
  },
  {
   "cell_type": "code",
   "execution_count": 42,
   "id": "a7211ee0-9e1b-4114-9e4f-9fa351fdbb79",
   "metadata": {},
   "outputs": [
    {
     "data": {
      "text/plain": [
       "2"
      ]
     },
     "execution_count": 42,
     "metadata": {},
     "output_type": "execute_result"
    }
   ],
   "source": [
    "s = Solution()\n",
    "s.minSubArrayLen(7, [2,3,1,2,4,3])"
   ]
  },
  {
   "cell_type": "code",
   "execution_count": 43,
   "id": "81db2819-f552-42e9-8db9-95e362ed86e8",
   "metadata": {},
   "outputs": [
    {
     "data": {
      "text/plain": [
       "1"
      ]
     },
     "execution_count": 43,
     "metadata": {},
     "output_type": "execute_result"
    }
   ],
   "source": [
    "s.minSubArrayLen(4, [1,4,4])"
   ]
  },
  {
   "cell_type": "code",
   "execution_count": 44,
   "id": "2403f1ed-9ec6-4871-a2e3-a519c02c4a6f",
   "metadata": {},
   "outputs": [
    {
     "data": {
      "text/plain": [
       "0"
      ]
     },
     "execution_count": 44,
     "metadata": {},
     "output_type": "execute_result"
    }
   ],
   "source": [
    "s.minSubArrayLen(11, [1, 1, 1, 1, 1, 1, 1, 1, 1, 1])"
   ]
  },
  {
   "cell_type": "code",
   "execution_count": 45,
   "id": "f92d949f-b435-4f36-a1c6-cb4aa900025f",
   "metadata": {},
   "outputs": [
    {
     "data": {
      "text/plain": [
       "3"
      ]
     },
     "execution_count": 45,
     "metadata": {},
     "output_type": "execute_result"
    }
   ],
   "source": [
    "s.minSubArrayLen(11, [1,2,3,4,5])"
   ]
  },
  {
   "cell_type": "code",
   "execution_count": null,
   "id": "35d12ef9-6a95-4d26-a328-cc173009b626",
   "metadata": {},
   "outputs": [],
   "source": []
  }
 ],
 "metadata": {
  "kernelspec": {
   "display_name": "Python 3 (ipykernel)",
   "language": "python",
   "name": "python3"
  },
  "language_info": {
   "codemirror_mode": {
    "name": "ipython",
    "version": 3
   },
   "file_extension": ".py",
   "mimetype": "text/x-python",
   "name": "python",
   "nbconvert_exporter": "python",
   "pygments_lexer": "ipython3",
   "version": "3.9.10"
  }
 },
 "nbformat": 4,
 "nbformat_minor": 5
}
