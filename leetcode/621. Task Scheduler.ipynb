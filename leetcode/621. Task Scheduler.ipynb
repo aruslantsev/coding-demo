{
 "cells": [
  {
   "cell_type": "markdown",
   "id": "bd553823-63d6-4e4d-b2f8-d06f1d0b8188",
   "metadata": {},
   "source": [
    "You are given an array of CPU tasks, each represented by letters A to Z, and a cooling time, n. Each cycle or interval allows the completion of one task. Tasks can be completed in any order, but there's a constraint: identical tasks must be separated by at least n intervals due to cooling time.\n",
    "\n",
    "​Return the minimum number of intervals required to complete all tasks.\n",
    "\n",
    " \n",
    "\n",
    "Example 1:\n",
    "\n",
    "Input: tasks = [\"A\",\"A\",\"A\",\"B\",\"B\",\"B\"], n = 2\n",
    "\n",
    "Output: 8\n",
    "\n",
    "Explanation: A possible sequence is: A -> B -> idle -> A -> B -> idle -> A -> B.\n",
    "\n",
    "After completing task A, you must wait two cycles before doing A again. The same applies to task B. In the 3rd interval, neither A nor B can be done, so you idle. By the 4th cycle, you can do A again as 2 intervals have passed.\n",
    "\n",
    "Example 2:\n",
    "\n",
    "Input: tasks = [\"A\",\"C\",\"A\",\"B\",\"D\",\"B\"], n = 1\n",
    "\n",
    "Output: 6\n",
    "\n",
    "Explanation: A possible sequence is: A -> B -> C -> D -> A -> B.\n",
    "\n",
    "With a cooling interval of 1, you can repeat a task after just one other task.\n",
    "\n",
    "Example 3:\n",
    "\n",
    "Input: tasks = [\"A\",\"A\",\"A\", \"B\",\"B\",\"B\"], n = 3\n",
    "\n",
    "Output: 10\n",
    "\n",
    "Explanation: A possible sequence is: A -> B -> idle -> idle -> A -> B -> idle -> idle -> A -> B.\n",
    "\n",
    "There are only two types of tasks, A and B, which need to be separated by 3 intervals. This leads to idling twice between repetitions of these tasks.\n",
    "\n",
    " \n",
    "\n",
    "Constraints:\n",
    "\n",
    "    1 <= tasks.length <= 104\n",
    "    tasks[i] is an uppercase English letter.\n",
    "    0 <= n <= 100\n",
    "\n"
   ]
  },
  {
   "cell_type": "code",
   "execution_count": null,
   "id": "45bb7e0c-27b2-4a5c-952a-5eb7d6646781",
   "metadata": {},
   "outputs": [],
   "source": [
    "class Solution:\n",
    "    def leastInterval(self, tasks: List[str], n: int) -> int:\n",
    "        freq = [0] * 26\n",
    "        for task in tasks:\n",
    "            freq[ord(task) - ord('A')] += 1\n",
    "\n",
    "        # Sort the frequency array in non-decreasing order\n",
    "        freq.sort()\n",
    "        # Calculate the maximum frequency of any task\n",
    "        max_freq = freq[25] - 1\n",
    "        # Calculate the number of idle slots that will be required\n",
    "        idle_slots = max_freq * n\n",
    "        # Iterate over the frequency array from the second highest frequency to the lowest frequency\n",
    "\n",
    "        for i in range(24, -1, -1):\n",
    "            # Subtract the minimum of the maximum frequency and the current frequency from the idle slots\n",
    "            idle_slots -= min(max_freq, freq[i])\n",
    "\n",
    "        # If there are any idle slots left, add them to the total number of tasks\n",
    "        return idle_slots + len(tasks) if idle_slots > 0 else len(tasks)"
   ]
  }
 ],
 "metadata": {
  "kernelspec": {
   "display_name": "common",
   "language": "python",
   "name": "common"
  },
  "language_info": {
   "codemirror_mode": {
    "name": "ipython",
    "version": 3
   },
   "file_extension": ".py",
   "mimetype": "text/x-python",
   "name": "python",
   "nbconvert_exporter": "python",
   "pygments_lexer": "ipython3",
   "version": "3.11.7"
  }
 },
 "nbformat": 4,
 "nbformat_minor": 5
}
