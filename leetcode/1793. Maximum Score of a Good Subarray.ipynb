{
 "cells": [
  {
   "cell_type": "markdown",
   "id": "9d8be37a-5e1f-4743-b6df-1233414bff6c",
   "metadata": {},
   "source": [
    "You are given an array of integers nums (0-indexed) and an integer k.\n",
    "\n",
    "The score of a subarray (i, j) is defined as min(nums[i], nums[i+1], ..., nums[j]) * (j - i + 1). A good subarray is a subarray where i <= k <= j.\n",
    "\n",
    "Return the maximum possible score of a good subarray.\n",
    "\n",
    " \n",
    "\n",
    "Example 1:\n",
    "\n",
    "Input: nums = [1,4,3,7,4,5], k = 3\n",
    "Output: 15\n",
    "Explanation: The optimal subarray is (1, 5) with a score of min(4,3,7,4,5) * (5-1+1) = 3 * 5 = 15. \n",
    "\n",
    "Example 2:\n",
    "\n",
    "Input: nums = [5,5,4,5,4,1,1,1], k = 0\n",
    "Output: 20\n",
    "Explanation: The optimal subarray is (0, 4) with a score of min(5,5,4,5,4) * (4-0+1) = 4 * 5 = 20.\n",
    "\n",
    " \n",
    "\n",
    "Constraints:\n",
    "\n",
    "    1 <= nums.length <= 105\n",
    "    1 <= nums[i] <= 2 * 104\n",
    "    0 <= k < nums.length\n",
    "\n"
   ]
  },
  {
   "cell_type": "code",
   "execution_count": null,
   "id": "6a4f75d0-4431-4e08-ab4f-8044d152e91c",
   "metadata": {},
   "outputs": [],
   "source": [
    "class Solution:\n",
    "    def maximumScore(self, nums: List[int], k: int) -> int:\n",
    "        def solve(nums, k):\n",
    "            n = len(nums)\n",
    "            left = [0] * k\n",
    "            curr_min = inf\n",
    "            for i in range(k - 1, -1, -1):\n",
    "                curr_min = min(curr_min, nums[i])\n",
    "                left[i] = curr_min\n",
    "\n",
    "            right = []\n",
    "            curr_min = inf\n",
    "            for i in range(k, n):\n",
    "                curr_min = min(curr_min, nums[i])\n",
    "                right.append(curr_min)\n",
    "\n",
    "            ans = 0\n",
    "            for j in range(len(right)):\n",
    "                curr_min = right[j]\n",
    "                i = bisect_left(left, curr_min)\n",
    "                size = (k + j) - i + 1\n",
    "                ans = max(ans, curr_min * size)\n",
    "                \n",
    "            return ans\n",
    "        \n",
    "        return max(solve(nums, k), solve(nums[::-1], len(nums) - k - 1))\n",
    "        "
   ]
  }
 ],
 "metadata": {
  "kernelspec": {
   "display_name": "common",
   "language": "python",
   "name": "common"
  },
  "language_info": {
   "codemirror_mode": {
    "name": "ipython",
    "version": 3
   },
   "file_extension": ".py",
   "mimetype": "text/x-python",
   "name": "python",
   "nbconvert_exporter": "python",
   "pygments_lexer": "ipython3",
   "version": "3.11.4"
  }
 },
 "nbformat": 4,
 "nbformat_minor": 5
}
