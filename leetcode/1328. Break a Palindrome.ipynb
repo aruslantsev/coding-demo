{
 "cells": [
  {
   "cell_type": "markdown",
   "id": "efd2e498-d369-401f-9071-7793b29c63c5",
   "metadata": {},
   "source": [
    "Given a palindromic string of lowercase English letters palindrome, replace exactly one character with any lowercase English letter so that the resulting string is not a palindrome and that it is the lexicographically smallest one possible.\n",
    "\n",
    "Return the resulting string. If there is no way to replace a character to make it not a palindrome, return an empty string.\n",
    "\n",
    "A string a is lexicographically smaller than a string b (of the same length) if in the first position where a and b differ, a has a character strictly smaller than the corresponding character in b. For example, \"abcc\" is lexicographically smaller than \"abcd\" because the first position they differ is at the fourth character, and 'c' is smaller than 'd'.\n",
    "\n",
    " \n",
    "\n",
    "Example 1:\n",
    "\n",
    "Input: palindrome = \"abccba\"\n",
    "Output: \"aaccba\"\n",
    "Explanation: There are many ways to make \"abccba\" not a palindrome, such as \"zbccba\", \"aaccba\", and \"abacba\".\n",
    "Of all the ways, \"aaccba\" is the lexicographically smallest.\n",
    "\n",
    "Example 2:\n",
    "\n",
    "Input: palindrome = \"a\"\n",
    "Output: \"\"\n",
    "Explanation: There is no way to replace a single character to make \"a\" not a palindrome, so return an empty string.\n"
   ]
  },
  {
   "cell_type": "code",
   "execution_count": null,
   "id": "e525ee48-69c1-4738-987b-510a4dd2173c",
   "metadata": {},
   "outputs": [],
   "source": [
    "class Solution:\n",
    "    def breakPalindrome(self, palindrome: str) -> str:\n",
    "        if len(palindrome) == 1:\n",
    "            return ''\n",
    "        \n",
    "        palindrome = list(palindrome)\n",
    "        for i, sym in enumerate(palindrome[:len(palindrome) // 2]):\n",
    "            if sym != 'a':\n",
    "                palindrome[i] = 'a'\n",
    "                return ''.join(palindrome)\n",
    "        palindrome[-1] = 'b'\n",
    "        return ''.join(palindrome)"
   ]
  }
 ],
 "metadata": {
  "kernelspec": {
   "display_name": "Python 3 (ipykernel)",
   "language": "python",
   "name": "python3"
  },
  "language_info": {
   "codemirror_mode": {
    "name": "ipython",
    "version": 3
   },
   "file_extension": ".py",
   "mimetype": "text/x-python",
   "name": "python",
   "nbconvert_exporter": "python",
   "pygments_lexer": "ipython3",
   "version": "3.9.13"
  }
 },
 "nbformat": 4,
 "nbformat_minor": 5
}
