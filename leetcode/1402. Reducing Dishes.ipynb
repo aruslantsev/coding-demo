{
 "cells": [
  {
   "cell_type": "markdown",
   "id": "3ff70edb-23e4-47ad-bc51-30504870adc8",
   "metadata": {},
   "source": [
    "A chef has collected data on the satisfaction level of his n dishes. Chef can cook any dish in 1 unit of time.\n",
    "\n",
    "Like-time coefficient of a dish is defined as the time taken to cook that dish including previous dishes multiplied by its satisfaction level i.e. time[i] * satisfaction[i].\n",
    "\n",
    "Return the maximum sum of like-time coefficient that the chef can obtain after dishes preparation.\n",
    "\n",
    "Dishes can be prepared in any order and the chef can discard some dishes to get this maximum value.\n",
    "\n",
    " \n",
    "\n",
    "Example 1:\n",
    "\n",
    "Input: satisfaction = [-1,-8,0,5,-9]\n",
    "Output: 14\n",
    "Explanation: After Removing the second and last dish, the maximum total like-time coefficient will be equal to (-1*1 + 0*2 + 5*3 = 14).\n",
    "Each dish is prepared in one unit of time.\n",
    "\n",
    "Example 2:\n",
    "\n",
    "Input: satisfaction = [4,3,2]\n",
    "Output: 20\n",
    "Explanation: Dishes can be prepared in any order, (2*1 + 3*2 + 4*3 = 20)\n",
    "\n",
    "Example 3:\n",
    "\n",
    "Input: satisfaction = [-1,-4,-5]\n",
    "Output: 0\n",
    "Explanation: People do not like the dishes. No dish is prepared.\n",
    "\n",
    " \n",
    "\n",
    "Constraints:\n",
    "\n",
    "    n == satisfaction.length\n",
    "    1 <= n <= 500\n",
    "    -1000 <= satisfaction[i] <= 1000\n"
   ]
  },
  {
   "cell_type": "code",
   "execution_count": 19,
   "id": "5bfb7d1b-9536-4eb1-990d-abd5ed47789b",
   "metadata": {},
   "outputs": [],
   "source": [
    "from typing import List \n",
    "\n",
    "class Solution:\n",
    "    def maxSatisfaction(self, satisfaction: List[int]) -> int:\n",
    "        self.max_satisfaction = 0\n",
    "        \n",
    "        def test_dishes(dish, pos, total_satisfaction, dishes):\n",
    "            dishes = dishes.copy()\n",
    "            total_satisfaction += dish * pos\n",
    "            self.max_satisfaction = max(self.max_satisfaction, total_satisfaction)\n",
    "            del dishes[dishes.index(dish)]\n",
    "            for dish in dishes:\n",
    "                test_dishes(dish, pos + 1, total_satisfaction, dishes)\n",
    "            \n",
    "        \n",
    "        for dish in satisfaction:\n",
    "            test_dishes(dish, 1, 0, satisfaction)\n",
    "            \n",
    "        return self.max_satisfaction"
   ]
  },
  {
   "cell_type": "code",
   "execution_count": 23,
   "id": "694bde72-c1e2-4158-a941-6357585b73a0",
   "metadata": {},
   "outputs": [],
   "source": [
    "from typing import List \n",
    "\n",
    "class Solution:\n",
    "    def maxSatisfaction(self, satisfaction: List[int]) -> int:\n",
    "        max_satisfaction = 0\n",
    "        satisfaction = sorted(satisfaction)\n",
    "        \n",
    "        for i in range(len(satisfaction)):\n",
    "            curr_satisfaction = 0\n",
    "            for j, dish in enumerate(satisfaction[i:]):\n",
    "                curr_satisfaction += (j + 1) * dish\n",
    "                \n",
    "            max_satisfaction = max(max_satisfaction, curr_satisfaction)\n",
    "            \n",
    "        return max_satisfaction"
   ]
  },
  {
   "cell_type": "code",
   "execution_count": 24,
   "id": "21b8b634-b13a-42aa-9bd9-d450507b9d9f",
   "metadata": {},
   "outputs": [
    {
     "data": {
      "text/plain": [
       "14"
      ]
     },
     "execution_count": 24,
     "metadata": {},
     "output_type": "execute_result"
    }
   ],
   "source": [
    "s = Solution()\n",
    "s.maxSatisfaction([-1,-8,0,5,-9]) # 14"
   ]
  },
  {
   "cell_type": "code",
   "execution_count": 25,
   "id": "5f47c91e-c585-4f6d-9eac-0b1ddcb88af2",
   "metadata": {},
   "outputs": [
    {
     "data": {
      "text/plain": [
       "20"
      ]
     },
     "execution_count": 25,
     "metadata": {},
     "output_type": "execute_result"
    }
   ],
   "source": [
    "s.maxSatisfaction([4, 3, 2]) # 20"
   ]
  },
  {
   "cell_type": "code",
   "execution_count": 26,
   "id": "2adb0ec0-c0f0-4cc0-bf42-fc4370288ab6",
   "metadata": {},
   "outputs": [
    {
     "data": {
      "text/plain": [
       "0"
      ]
     },
     "execution_count": 26,
     "metadata": {},
     "output_type": "execute_result"
    }
   ],
   "source": [
    "s.maxSatisfaction([-1, -4, -3]) # 0"
   ]
  },
  {
   "cell_type": "code",
   "execution_count": 27,
   "id": "1a1db2c0-89e6-407e-a8fe-2b42cce87f8d",
   "metadata": {},
   "outputs": [
    {
     "data": {
      "text/plain": [
       "369"
      ]
     },
     "execution_count": 27,
     "metadata": {},
     "output_type": "execute_result"
    }
   ],
   "source": [
    "s.maxSatisfaction([5,6,6,8,1,8,7,7,-1,7]) # 369"
   ]
  },
  {
   "cell_type": "code",
   "execution_count": null,
   "id": "eed6ded9-83fe-4da2-9c7e-f5450f161a94",
   "metadata": {},
   "outputs": [],
   "source": []
  }
 ],
 "metadata": {
  "kernelspec": {
   "display_name": "Python 3 (ipykernel)",
   "language": "python",
   "name": "python3"
  },
  "language_info": {
   "codemirror_mode": {
    "name": "ipython",
    "version": 3
   },
   "file_extension": ".py",
   "mimetype": "text/x-python",
   "name": "python",
   "nbconvert_exporter": "python",
   "pygments_lexer": "ipython3",
   "version": "3.9.12"
  }
 },
 "nbformat": 4,
 "nbformat_minor": 5
}
