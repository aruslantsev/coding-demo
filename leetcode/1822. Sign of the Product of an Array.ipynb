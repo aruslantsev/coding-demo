{
 "cells": [
  {
   "cell_type": "markdown",
   "id": "f498b477-d864-4edb-8587-8156e484a694",
   "metadata": {},
   "source": [
    "There is a function signFunc(x) that returns:\n",
    "\n",
    "    1 if x is positive.\n",
    "    -1 if x is negative.\n",
    "    0 if x is equal to 0.\n",
    "\n",
    "You are given an integer array nums. Let product be the product of all values in the array nums.\n",
    "\n",
    "Return signFunc(product).\n",
    "\n",
    " \n",
    "\n",
    "Example 1:\n",
    "\n",
    "Input: nums = [-1,-2,-3,-4,3,2,1]\n",
    "Output: 1\n",
    "Explanation: The product of all values in the array is 144, and signFunc(144) = 1\n",
    "\n",
    "Example 2:\n",
    "\n",
    "Input: nums = [1,5,0,2,-3]\n",
    "Output: 0\n",
    "Explanation: The product of all values in the array is 0, and signFunc(0) = 0\n",
    "\n",
    "Example 3:\n",
    "\n",
    "Input: nums = [-1,1,-1,1,-1]\n",
    "Output: -1\n",
    "Explanation: The product of all values in the array is -1, and signFunc(-1) = -1\n",
    "\n",
    " \n",
    "\n",
    "Constraints:\n",
    "\n",
    "    1 <= nums.length <= 1000\n",
    "    -100 <= nums[i] <= 100\n",
    "\n"
   ]
  },
  {
   "cell_type": "code",
   "execution_count": null,
   "id": "a5897d3c-661c-4524-8f96-3867fafa328f",
   "metadata": {},
   "outputs": [],
   "source": [
    "class Solution:\n",
    "    def arraySign(self, nums: List[int]) -> int:\n",
    "        sign = 0\n",
    "        for num in nums:\n",
    "            if num == 0:\n",
    "                return 0\n",
    "            if num < 0:\n",
    "                sign += 1\n",
    "                if sign == 2:\n",
    "                    sign = 0\n",
    "        if sign == 0:\n",
    "            return 1\n",
    "        return -1"
   ]
  }
 ],
 "metadata": {
  "kernelspec": {
   "display_name": "common",
   "language": "python",
   "name": "common"
  },
  "language_info": {
   "codemirror_mode": {
    "name": "ipython",
    "version": 3
   },
   "file_extension": ".py",
   "mimetype": "text/x-python",
   "name": "python",
   "nbconvert_exporter": "python",
   "pygments_lexer": "ipython3",
   "version": "3.9.15"
  }
 },
 "nbformat": 4,
 "nbformat_minor": 5
}
