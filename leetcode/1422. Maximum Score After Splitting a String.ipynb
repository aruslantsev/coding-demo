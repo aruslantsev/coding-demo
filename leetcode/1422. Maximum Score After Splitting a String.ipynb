{
 "cells": [
  {
   "cell_type": "markdown",
   "id": "d7f85390-ff2d-40cb-9211-95f2e8851834",
   "metadata": {},
   "source": [
    "Given a string s of zeros and ones, return the maximum score after splitting the string into two non-empty substrings (i.e. left substring and right substring).\n",
    "\n",
    "The score after splitting a string is the number of zeros in the left substring plus the number of ones in the right substring.\n",
    "\n",
    " \n",
    "\n",
    "Example 1:\n",
    "\n",
    "Input: s = \"011101\"\n",
    "Output: 5 \n",
    "Explanation: \n",
    "All possible ways of splitting s into two non-empty substrings are:\n",
    "left = \"0\" and right = \"11101\", score = 1 + 4 = 5 \n",
    "left = \"01\" and right = \"1101\", score = 1 + 3 = 4 \n",
    "left = \"011\" and right = \"101\", score = 1 + 2 = 3 \n",
    "left = \"0111\" and right = \"01\", score = 1 + 1 = 2 \n",
    "left = \"01110\" and right = \"1\", score = 2 + 1 = 3\n",
    "\n",
    "Example 2:\n",
    "\n",
    "Input: s = \"00111\"\n",
    "Output: 5\n",
    "Explanation: When left = \"00\" and right = \"111\", we get the maximum score = 2 + 3 = 5\n",
    "\n",
    "Example 3:\n",
    "\n",
    "Input: s = \"1111\"\n",
    "Output: 3\n",
    "\n",
    " \n",
    "\n",
    "Constraints:\n",
    "\n",
    "    2 <= s.length <= 500\n",
    "    The string s consists of characters '0' and '1' only.\n",
    "\n"
   ]
  },
  {
   "cell_type": "code",
   "execution_count": null,
   "id": "1874326f-09d3-4918-9a3c-381ebad71e84",
   "metadata": {},
   "outputs": [],
   "source": [
    "class Solution:\n",
    "    def maxScore(self, s: str) -> int:\n",
    "        r = s.count(\"1\")\n",
    "        l = 0\n",
    "        ans = 0\n",
    "        for sym in s[:-1]:\n",
    "            if sym == \"0\":\n",
    "                l += 1\n",
    "            else:\n",
    "                r -= 1\n",
    "            ans = max(ans, r + l)\n",
    "        return ans"
   ]
  },
  {
   "cell_type": "code",
   "execution_count": null,
   "id": "42d53685-03c1-486d-a0aa-60450a3d8f67",
   "metadata": {},
   "outputs": [],
   "source": [
    "class Solution:\n",
    "    def maxScore(self, s: str) -> int:\n",
    "        ones = 0\n",
    "        zeros = 0\n",
    "        best = -inf\n",
    "\n",
    "        for i in range(len(s) - 1):\n",
    "            if s[i] == \"1\":\n",
    "                ones += 1\n",
    "            else:\n",
    "                zeros += 1\n",
    "            \n",
    "            best = max(best, zeros - ones)\n",
    "            \n",
    "        if s[-1] == \"1\":\n",
    "            ones += 1\n",
    "        \n",
    "        return best + ones"
   ]
  }
 ],
 "metadata": {
  "kernelspec": {
   "display_name": "Python 3 (ipykernel)",
   "language": "python",
   "name": "python3"
  },
  "language_info": {
   "codemirror_mode": {
    "name": "ipython",
    "version": 3
   },
   "file_extension": ".py",
   "mimetype": "text/x-python",
   "name": "python",
   "nbconvert_exporter": "python",
   "pygments_lexer": "ipython3",
   "version": "3.11.4"
  }
 },
 "nbformat": 4,
 "nbformat_minor": 5
}
