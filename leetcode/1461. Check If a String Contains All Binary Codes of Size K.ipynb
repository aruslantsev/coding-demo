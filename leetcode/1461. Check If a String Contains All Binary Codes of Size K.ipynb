{
 "cells": [
  {
   "cell_type": "markdown",
   "id": "f586bad1-7424-494a-a85f-10c77cdeefde",
   "metadata": {},
   "source": [
    "Given a binary string s and an integer k, return true if every binary code of length k is a substring of s. Otherwise, return false.\n",
    "\n",
    " \n",
    "\n",
    "Example 1:\n",
    "\n",
    "Input: s = \"00110110\", k = 2\n",
    "Output: true\n",
    "Explanation: The binary codes of length 2 are \"00\", \"01\", \"10\" and \"11\". They can be all found as substrings at indices 0, 1, 3 and 2 respectively.\n",
    "\n",
    "Example 2:\n",
    "\n",
    "Input: s = \"0110\", k = 1\n",
    "Output: true\n",
    "Explanation: The binary codes of length 1 are \"0\" and \"1\", it is clear that both exist as a substring. \n",
    "\n",
    "Example 3:\n",
    "\n",
    "Input: s = \"0110\", k = 2\n",
    "Output: false\n",
    "Explanation: The binary code \"00\" is of length 2 and does not exist in the array.\n",
    "\n",
    " \n",
    "\n",
    "Constraints:\n",
    "\n",
    "    1 <= s.length <= 5 * 105\n",
    "    s[i] is either '0' or '1'.\n",
    "    1 <= k <= 20\n",
    "\n"
   ]
  },
  {
   "cell_type": "code",
   "execution_count": 11,
   "id": "f79ddc48-5b09-4298-bed6-420e3ce9f3dd",
   "metadata": {},
   "outputs": [],
   "source": [
    "class Solution:\n",
    "    def hasAllCodes(self, s: str, k: int) -> bool:\n",
    "        codes = set()\n",
    "        for i in range(len(s) - k + 1):\n",
    "            codes.add(s[i:i + k])\n",
    "        return len(codes) == 2**k"
   ]
  },
  {
   "cell_type": "code",
   "execution_count": null,
   "id": "62ea4301-bed5-4c5f-8ec8-e823bea8c36d",
   "metadata": {},
   "outputs": [],
   "source": [
    "class Solution:\n",
    "    def hasAllCodes(self, s: str, k: int) -> bool:\n",
    "        need = 1 << k\n",
    "        got = set()\n",
    "\n",
    "        for i in range(k, len(s)+1):\n",
    "            tmp = s[i-k:i]\n",
    "            if tmp not in got:\n",
    "                got.add(tmp)\n",
    "                need -= 1\n",
    "                # return True when found all occurrences\n",
    "                if need == 0:\n",
    "                    return True\n",
    "        return False"
   ]
  },
  {
   "cell_type": "code",
   "execution_count": null,
   "id": "b68f5135-ef2f-42ef-9234-d6fab49b0582",
   "metadata": {},
   "outputs": [],
   "source": [
    "class Solution:\n",
    "    def hasAllCodes(self, s: str, k: int) -> bool:\n",
    "        got = {s[i - k : i] for i in range(k, len(s) + 1)}\n",
    "        return len(got) == 1 << k"
   ]
  },
  {
   "cell_type": "code",
   "execution_count": null,
   "id": "1aebb038-1b2b-4d59-9ee7-bdbd437669d0",
   "metadata": {},
   "outputs": [],
   "source": [
    "class Solution:\n",
    "    def hasAllCodes(self, s: str, k: int) -> bool:\n",
    "        need = 1 << k\n",
    "        got = [False]*need\n",
    "        all_one = need - 1\n",
    "        hash_val = 0\n",
    "\n",
    "        for i in range(len(s)):\n",
    "            # calculate hash for s[i-k+1:i+1]\n",
    "            hash_val = ((hash_val << 1) & all_one) | (int(s[i]))\n",
    "            # hash only available when i-k+1 > 0\n",
    "            if i >= k-1 and got[hash_val] is False:\n",
    "                got[hash_val] = True\n",
    "                need -= 1\n",
    "                if need == 0:\n",
    "                    return True\n",
    "        return False"
   ]
  },
  {
   "cell_type": "code",
   "execution_count": 12,
   "id": "d6d0010b-443b-4c67-b0a1-cb6731497768",
   "metadata": {},
   "outputs": [
    {
     "data": {
      "text/plain": [
       "True"
      ]
     },
     "execution_count": 12,
     "metadata": {},
     "output_type": "execute_result"
    }
   ],
   "source": [
    "s = Solution()\n",
    "s.hasAllCodes(\"00110110\", 2)"
   ]
  },
  {
   "cell_type": "code",
   "execution_count": 13,
   "id": "caaf57df-1090-4c1f-8690-7dbd179cdd75",
   "metadata": {},
   "outputs": [
    {
     "data": {
      "text/plain": [
       "True"
      ]
     },
     "execution_count": 13,
     "metadata": {},
     "output_type": "execute_result"
    }
   ],
   "source": [
    "s.hasAllCodes(\"0110\", 1)"
   ]
  },
  {
   "cell_type": "code",
   "execution_count": 14,
   "id": "68498475-c09a-4136-a686-841c26c4160c",
   "metadata": {},
   "outputs": [
    {
     "data": {
      "text/plain": [
       "False"
      ]
     },
     "execution_count": 14,
     "metadata": {},
     "output_type": "execute_result"
    }
   ],
   "source": [
    "s.hasAllCodes(\"0110\", 2)"
   ]
  },
  {
   "cell_type": "code",
   "execution_count": null,
   "id": "3dbe4349-66e1-4129-a7f8-473aa3c36df8",
   "metadata": {},
   "outputs": [],
   "source": []
  }
 ],
 "metadata": {
  "kernelspec": {
   "display_name": "Python 3 (ipykernel)",
   "language": "python",
   "name": "python3"
  },
  "language_info": {
   "codemirror_mode": {
    "name": "ipython",
    "version": 3
   },
   "file_extension": ".py",
   "mimetype": "text/x-python",
   "name": "python",
   "nbconvert_exporter": "python",
   "pygments_lexer": "ipython3",
   "version": "3.9.10"
  }
 },
 "nbformat": 4,
 "nbformat_minor": 5
}
