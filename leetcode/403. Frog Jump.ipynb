{
 "cells": [
  {
   "cell_type": "markdown",
   "id": "13e8dac1-2cb4-4b7b-bac1-a67260d49e75",
   "metadata": {},
   "source": [
    "A frog is crossing a river. The river is divided into some number of units, and at each unit, there may or may not exist a stone. The frog can jump on a stone, but it must not jump into the water.\n",
    "\n",
    "Given a list of stones' positions (in units) in sorted ascending order, determine if the frog can cross the river by landing on the last stone. Initially, the frog is on the first stone and assumes the first jump must be 1 unit.\n",
    "\n",
    "If the frog's last jump was k units, its next jump must be either k - 1, k, or k + 1 units. The frog can only jump in the forward direction.\n",
    "\n",
    " \n",
    "\n",
    "Example 1:\n",
    "\n",
    "Input: stones = [0,1,3,5,6,8,12,17]\n",
    "Output: true\n",
    "Explanation: The frog can jump to the last stone by jumping 1 unit to the 2nd stone, then 2 units to the 3rd stone, then 2 units to the 4th stone, then 3 units to the 6th stone, 4 units to the 7th stone, and 5 units to the 8th stone.\n",
    "\n",
    "Example 2:\n",
    "\n",
    "Input: stones = [0,1,2,3,4,8,9,11]\n",
    "Output: false\n",
    "Explanation: There is no way to jump to the last stone as the gap between the 5th and 6th stone is too large.\n",
    "\n",
    " \n",
    "\n",
    "Constraints:\n",
    "\n",
    "    2 <= stones.length <= 2000\n",
    "    0 <= stones[i] <= 231 - 1\n",
    "    stones[0] == 0\n",
    "    stones is sorted in a strictly increasing order.\n",
    "\n"
   ]
  },
  {
   "cell_type": "code",
   "execution_count": null,
   "id": "1f636e74-84dc-42c5-91c2-6a299a9efe89",
   "metadata": {},
   "outputs": [],
   "source": [
    "class Solution:\n",
    "    def canCross(self, stones: List[int]) -> bool:\n",
    "        @cache\n",
    "        def cross(curr_pos, last_jump):\n",
    "            if curr_pos == stones[-1]:\n",
    "                return True\n",
    "            jumps = [last_jump + i for i in range(-1, 2)]\n",
    "            jumps = [jump for jump in jumps if jump > 0]\n",
    "            ans = []\n",
    "            for jump in jumps:\n",
    "                if curr_pos + jump in stones:\n",
    "                    ans.append(cross(curr_pos + jump, jump))\n",
    "            if not ans:\n",
    "                return False\n",
    "            return any(ans)\n",
    "        return cross(0, 0)"
   ]
  }
 ],
 "metadata": {
  "kernelspec": {
   "display_name": "Python 3 (ipykernel)",
   "language": "python",
   "name": "python3"
  },
  "language_info": {
   "codemirror_mode": {
    "name": "ipython",
    "version": 3
   },
   "file_extension": ".py",
   "mimetype": "text/x-python",
   "name": "python",
   "nbconvert_exporter": "python",
   "pygments_lexer": "ipython3",
   "version": "3.10.11"
  }
 },
 "nbformat": 4,
 "nbformat_minor": 5
}
