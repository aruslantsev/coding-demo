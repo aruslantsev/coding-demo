{
 "cells": [
  {
   "cell_type": "markdown",
   "id": "d7fd1e8d-e6c9-4319-afcf-b3f8f46548ed",
   "metadata": {},
   "source": [
    "The frequency of an element is the number of times it occurs in an array.\n",
    "\n",
    "You are given an integer array nums and an integer k. In one operation, you can choose an index of nums and increment the element at that index by 1.\n",
    "\n",
    "Return the maximum possible frequency of an element after performing at most k operations.\n",
    "\n",
    " \n",
    "\n",
    "Example 1:\n",
    "\n",
    "Input: nums = [1,2,4], k = 5\n",
    "Output: 3\n",
    "Explanation: Increment the first element three times and the second element two times to make nums = [4,4,4].\n",
    "4 has a frequency of 3.\n",
    "\n",
    "Example 2:\n",
    "\n",
    "Input: nums = [1,4,8,13], k = 5\n",
    "Output: 2\n",
    "Explanation: There are multiple optimal solutions:\n",
    "- Increment the first element three times to make nums = [4,4,8,13]. 4 has a frequency of 2.\n",
    "- Increment the second element four times to make nums = [1,8,8,13]. 8 has a frequency of 2.\n",
    "- Increment the third element five times to make nums = [1,4,13,13]. 13 has a frequency of 2.\n",
    "\n",
    "Example 3:\n",
    "\n",
    "Input: nums = [3,9,6], k = 2\n",
    "Output: 1\n",
    "\n",
    " \n",
    "\n",
    "Constraints:\n",
    "\n",
    "    1 <= nums.length <= 105\n",
    "    1 <= nums[i] <= 105\n",
    "    1 <= k <= 105\n",
    "\n"
   ]
  },
  {
   "cell_type": "code",
   "execution_count": null,
   "id": "c9b24260-362c-4bdf-be88-991722180d49",
   "metadata": {},
   "outputs": [],
   "source": [
    "class Solution:\n",
    "    def maxFrequency(self, nums: List[int], k: int) -> int:\n",
    "        nums.sort()\n",
    "        left = 0\n",
    "        ans = 0\n",
    "        curr = 0\n",
    "        \n",
    "        for right in range(len(nums)):\n",
    "            target = nums[right]\n",
    "            curr += target\n",
    "            \n",
    "            while (right - left + 1) * target - curr > k:\n",
    "                curr -= nums[left]\n",
    "                left += 1\n",
    "            \n",
    "            ans = max(ans, right - left + 1)\n",
    "\n",
    "        return ans\n",
    "        "
   ]
  },
  {
   "cell_type": "code",
   "execution_count": null,
   "id": "28bc6da3-40e9-4940-864a-392656884f3e",
   "metadata": {},
   "outputs": [],
   "source": [
    "class Solution:\n",
    "    def maxFrequency(self, nums: List[int], k: int) -> int:\n",
    "        nums.sort()\n",
    "        left = 0\n",
    "        ans = 0\n",
    "        window_sum = 0\n",
    "\n",
    "        for right in range(len(nums)):\n",
    "            window_sum += nums[right]\n",
    "            while nums[right] * (right - left + 1) - window_sum > k:\n",
    "                window_sum -= nums[left]\n",
    "                left += 1\n",
    "            ans = max(ans, right - left + 1)\n",
    "        return ans"
   ]
  }
 ],
 "metadata": {
  "kernelspec": {
   "display_name": "Python 3 (ipykernel)",
   "language": "python",
   "name": "python3"
  },
  "language_info": {
   "codemirror_mode": {
    "name": "ipython",
    "version": 3
   },
   "file_extension": ".py",
   "mimetype": "text/x-python",
   "name": "python",
   "nbconvert_exporter": "python",
   "pygments_lexer": "ipython3",
   "version": "3.11.4"
  }
 },
 "nbformat": 4,
 "nbformat_minor": 5
}
