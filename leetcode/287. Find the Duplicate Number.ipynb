{
 "cells": [
  {
   "cell_type": "markdown",
   "id": "9b1d662c",
   "metadata": {},
   "source": [
    "Given an array of integers nums containing n + 1 integers where each integer is in the range [1, n] inclusive.\n",
    "\n",
    "There is only one repeated number in nums, return this repeated number.\n",
    "\n",
    "You must solve the problem without modifying the array nums and uses only constant extra space.\n",
    "\n",
    " \n",
    "\n",
    "Example 1:\n",
    "\n",
    "Input: nums = [1,3,4,2,2]\n",
    "Output: 2\n",
    "\n",
    "Example 2:\n",
    "\n",
    "Input: nums = [3,1,3,4,2]\n",
    "Output: 3\n",
    "\n",
    " \n",
    "\n",
    "Constraints:\n",
    "\n",
    "    1 <= n <= 105\n",
    "    nums.length == n + 1\n",
    "    1 <= nums[i] <= n\n",
    "    All the integers in nums appear only once except for precisely one integer which appears two or more times.\n",
    "\n",
    " \n",
    "\n",
    "Follow up:\n",
    "\n",
    "    How can we prove that at least one duplicate number must exist in nums?\n",
    "    Can you solve the problem in linear runtime complexity?\n",
    "\n"
   ]
  },
  {
   "cell_type": "code",
   "execution_count": 8,
   "id": "59f7fb3f",
   "metadata": {},
   "outputs": [],
   "source": [
    "from typing import List\n",
    "\n",
    "class Solution:\n",
    "    def findDuplicate(self, nums: List[int]) -> int:\n",
    "        # if integers in range [1, n - 1] and only one duplicates\n",
    "        result = sum(nums) - sum(range(len(nums)))\n",
    "        \n",
    "        return result"
   ]
  },
  {
   "cell_type": "code",
   "execution_count": 13,
   "id": "f7339fb8",
   "metadata": {},
   "outputs": [],
   "source": [
    "from typing import List\n",
    "from collections import Counter\n",
    "\n",
    "class Solution:\n",
    "    def findDuplicate(self, nums: List[int]) -> int:\n",
    "        counts = Counter(nums)\n",
    "        for num, cnt in counts.items():\n",
    "            if cnt > 1:\n",
    "                return num"
   ]
  },
  {
   "cell_type": "code",
   "execution_count": 29,
   "id": "d79d7d92",
   "metadata": {},
   "outputs": [],
   "source": [
    "from typing import List\n",
    "from collections import Counter\n",
    "\n",
    "class Solution:\n",
    "    def findDuplicate(self, nums: List[int]) -> int:\n",
    "        s = sorted(nums)\n",
    "        for i in range(len(nums) - 1):\n",
    "            if s[i] == s[i + 1]:\n",
    "                return s[i]"
   ]
  },
  {
   "cell_type": "code",
   "execution_count": 30,
   "id": "23481490",
   "metadata": {},
   "outputs": [
    {
     "data": {
      "text/plain": [
       "2"
      ]
     },
     "execution_count": 30,
     "metadata": {},
     "output_type": "execute_result"
    }
   ],
   "source": [
    "s = Solution()\n",
    "s.findDuplicate(nums = [1,3,4,2,2]) # 2"
   ]
  },
  {
   "cell_type": "code",
   "execution_count": 31,
   "id": "b1614a1c",
   "metadata": {},
   "outputs": [
    {
     "data": {
      "text/plain": [
       "3"
      ]
     },
     "execution_count": 31,
     "metadata": {},
     "output_type": "execute_result"
    }
   ],
   "source": [
    "s.findDuplicate(nums=[3,1,3,4,2]) # 3"
   ]
  },
  {
   "cell_type": "code",
   "execution_count": 32,
   "id": "ee91c5d8",
   "metadata": {},
   "outputs": [
    {
     "data": {
      "text/plain": [
       "2"
      ]
     },
     "execution_count": 32,
     "metadata": {},
     "output_type": "execute_result"
    }
   ],
   "source": [
    "s.findDuplicate([2,2,2,2,2])"
   ]
  },
  {
   "cell_type": "code",
   "execution_count": null,
   "id": "d68117a5",
   "metadata": {},
   "outputs": [],
   "source": []
  }
 ],
 "metadata": {
  "kernelspec": {
   "display_name": "Python 3 (ipykernel)",
   "language": "python",
   "name": "python3"
  },
  "language_info": {
   "codemirror_mode": {
    "name": "ipython",
    "version": 3
   },
   "file_extension": ".py",
   "mimetype": "text/x-python",
   "name": "python",
   "nbconvert_exporter": "python",
   "pygments_lexer": "ipython3",
   "version": "3.9.10"
  }
 },
 "nbformat": 4,
 "nbformat_minor": 5
}
