{
 "cells": [
  {
   "cell_type": "markdown",
   "id": "3ea36955-eb26-4b7b-97ec-7a7073412bc2",
   "metadata": {},
   "source": [
    "A string s can be partitioned into groups of size k using the following procedure:\n",
    "\n",
    "    The first group consists of the first k characters of the string, the second group consists of the next k characters of the string, and so on. Each element can be a part of exactly one group.\n",
    "    For the last group, if the string does not have k characters remaining, a character fill is used to complete the group.\n",
    "\n",
    "Note that the partition is done so that after removing the fill character from the last group (if it exists) and concatenating all the groups in order, the resultant string should be s.\n",
    "\n",
    "Given the string s, the size of each group k and the character fill, return a string array denoting the composition of every group s has been divided into, using the above procedure.\n",
    "\n",
    " \n",
    "\n",
    "Example 1:\n",
    "\n",
    "Input: s = \"abcdefghi\", k = 3, fill = \"x\"\n",
    "Output: [\"abc\",\"def\",\"ghi\"]\n",
    "Explanation:\n",
    "The first 3 characters \"abc\" form the first group.\n",
    "The next 3 characters \"def\" form the second group.\n",
    "The last 3 characters \"ghi\" form the third group.\n",
    "Since all groups can be completely filled by characters from the string, we do not need to use fill.\n",
    "Thus, the groups formed are \"abc\", \"def\", and \"ghi\".\n",
    "\n",
    "Example 2:\n",
    "\n",
    "Input: s = \"abcdefghij\", k = 3, fill = \"x\"\n",
    "Output: [\"abc\",\"def\",\"ghi\",\"jxx\"]\n",
    "Explanation:\n",
    "Similar to the previous example, we are forming the first three groups \"abc\", \"def\", and \"ghi\".\n",
    "For the last group, we can only use the character 'j' from the string. To complete this group, we add 'x' twice.\n",
    "Thus, the 4 groups formed are \"abc\", \"def\", \"ghi\", and \"jxx\".\n",
    "\n",
    " \n",
    "\n",
    "Constraints:\n",
    "\n",
    "    1 <= s.length <= 100\n",
    "    s consists of lowercase English letters only.\n",
    "    1 <= k <= 100\n",
    "    fill is a lowercase English letter.\n",
    "\n"
   ]
  },
  {
   "cell_type": "code",
   "execution_count": null,
   "id": "2db209ef-149d-44c3-bb0d-e3bf29fc7cfe",
   "metadata": {},
   "outputs": [],
   "source": [
    "class Solution:\n",
    "    def divideString(self, s: str, k: int, fill: str) -> List[str]:\n",
    "        ans = []\n",
    "        for i in range(0, len(s), k):\n",
    "            ans.append(s[i: i + k])\n",
    "        if len(ans[-1]) != k:\n",
    "            ans[-1] = ans[-1] + fill * (k - len(ans[-1]))\n",
    "        return ans"
   ]
  }
 ],
 "metadata": {
  "kernelspec": {
   "display_name": "Python 3 (ipykernel)",
   "language": "python",
   "name": "python3"
  },
  "language_info": {
   "codemirror_mode": {
    "name": "ipython",
    "version": 3
   },
   "file_extension": ".py",
   "mimetype": "text/x-python",
   "name": "python",
   "nbconvert_exporter": "python",
   "pygments_lexer": "ipython3",
   "version": "3.13.4"
  }
 },
 "nbformat": 4,
 "nbformat_minor": 5
}
