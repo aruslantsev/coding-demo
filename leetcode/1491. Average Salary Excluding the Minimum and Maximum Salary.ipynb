{
 "cells": [
  {
   "cell_type": "markdown",
   "id": "238dbe49-f57b-4220-9792-dbe30ab212fe",
   "metadata": {},
   "source": [
    "You are given an array of unique integers salary where salary[i] is the salary of the ith employee.\n",
    "\n",
    "Return the average salary of employees excluding the minimum and maximum salary. Answers within 10-5 of the actual answer will be accepted.\n",
    "\n",
    " \n",
    "\n",
    "Example 1:\n",
    "\n",
    "Input: salary = [4000,3000,1000,2000]\n",
    "Output: 2500.00000\n",
    "Explanation: Minimum salary and maximum salary are 1000 and 4000 respectively.\n",
    "Average salary excluding minimum and maximum salary is (2000+3000) / 2 = 2500\n",
    "\n",
    "Example 2:\n",
    "\n",
    "Input: salary = [1000,2000,3000]\n",
    "Output: 2000.00000\n",
    "Explanation: Minimum salary and maximum salary are 1000 and 3000 respectively.\n",
    "Average salary excluding minimum and maximum salary is (2000) / 1 = 2000\n",
    "\n",
    " \n",
    "\n",
    "Constraints:\n",
    "\n",
    "    3 <= salary.length <= 100\n",
    "    1000 <= salary[i] <= 106\n",
    "    All the integers of salary are unique.\n",
    "\n"
   ]
  },
  {
   "cell_type": "code",
   "execution_count": null,
   "id": "53088cc5-8b14-455c-8910-a1e547166734",
   "metadata": {},
   "outputs": [],
   "source": [
    "class Solution:\n",
    "    def average(self, salary: List[int]) -> float:\n",
    "        salary.sort()\n",
    "        res=salary[1:-1]\n",
    "        return sum(res)/len(res)\n",
    "        return (sum(salary) - min(salary) - max(salary)) / (len(salary) - 2)"
   ]
  }
 ],
 "metadata": {
  "kernelspec": {
   "display_name": "Python 3 (ipykernel)",
   "language": "python",
   "name": "python3"
  },
  "language_info": {
   "codemirror_mode": {
    "name": "ipython",
    "version": 3
   },
   "file_extension": ".py",
   "mimetype": "text/x-python",
   "name": "python",
   "nbconvert_exporter": "python",
   "pygments_lexer": "ipython3",
   "version": "3.10.11"
  }
 },
 "nbformat": 4,
 "nbformat_minor": 5
}
