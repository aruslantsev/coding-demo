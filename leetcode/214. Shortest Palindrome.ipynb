{
 "cells": [
  {
   "cell_type": "markdown",
   "id": "80d4ffb4-09d7-469b-aa30-0dddfe037a82",
   "metadata": {},
   "source": [
    "You are given a string s. You can convert s to a palindrome by adding characters in front of it.\n",
    "\n",
    "Return the shortest palindrome you can find by performing this transformation.\n",
    "\n",
    " \n",
    "\n",
    "Example 1:\n",
    "\n",
    "Input: s = \"aacecaaa\"\n",
    "Output: \"aaacecaaa\"\n",
    "\n",
    "Example 2:\n",
    "\n",
    "Input: s = \"abcd\"\n",
    "Output: \"dcbabcd\"\n",
    "\n",
    " \n",
    "\n",
    "Constraints:\n",
    "\n",
    "    0 <= s.length <= 5 * 104\n",
    "    s consists of lowercase English letters only.\n",
    "\n"
   ]
  },
  {
   "cell_type": "code",
   "execution_count": 4,
   "id": "7daf8993-6a0b-4c71-8f0e-c6feecd24bbb",
   "metadata": {},
   "outputs": [],
   "source": [
    "class Solution:\n",
    "    def shortestPalindrome(self, s: str) -> str:\n",
    "        s = list(s)\n",
    "        pos = 0\n",
    "        while s != s[::-1]:\n",
    "            s.insert(pos, s[-1 - pos])\n",
    "            pos += 1\n",
    "        return ''.join(s)"
   ]
  },
  {
   "cell_type": "code",
   "execution_count": 11,
   "id": "fde516a0-ac11-4ebb-aafe-cc0b43e8fe9c",
   "metadata": {},
   "outputs": [],
   "source": [
    "class Solution:\n",
    "    def shortestPalindrome(self, s: str) -> str:\n",
    "        if s == s[::-1]:\n",
    "            return s\n",
    "        \n",
    "        pos = 0\n",
    "        while s[:-1 - pos] != s[:-1 - pos][::-1]:\n",
    "            pos += 1\n",
    "        return s[-1 - pos:][::-1] + s"
   ]
  },
  {
   "cell_type": "code",
   "execution_count": 12,
   "id": "06a49ae3-49e5-475a-862a-1dbe47a2f6b5",
   "metadata": {},
   "outputs": [
    {
     "data": {
      "text/plain": [
       "'aaaaaa'"
      ]
     },
     "execution_count": 12,
     "metadata": {},
     "output_type": "execute_result"
    }
   ],
   "source": [
    "s = Solution()\n",
    "s.shortestPalindrome(\"aaaaaa\")"
   ]
  },
  {
   "cell_type": "code",
   "execution_count": 13,
   "id": "ceb63fca-bb1a-424f-867d-7ec229981f79",
   "metadata": {},
   "outputs": [
    {
     "data": {
      "text/plain": [
       "'aaacecaaa'"
      ]
     },
     "execution_count": 13,
     "metadata": {},
     "output_type": "execute_result"
    }
   ],
   "source": [
    "s.shortestPalindrome(\"aacecaaa\")"
   ]
  },
  {
   "cell_type": "code",
   "execution_count": 14,
   "id": "dafe7fe4-90b1-456f-b9da-1b728571babb",
   "metadata": {},
   "outputs": [
    {
     "data": {
      "text/plain": [
       "'dcbabcd'"
      ]
     },
     "execution_count": 14,
     "metadata": {},
     "output_type": "execute_result"
    }
   ],
   "source": [
    "s.shortestPalindrome(\"abcd\")"
   ]
  },
  {
   "cell_type": "code",
   "execution_count": null,
   "id": "9b2c212d-136f-4f77-9911-83004d54902b",
   "metadata": {},
   "outputs": [],
   "source": []
  }
 ],
 "metadata": {
  "kernelspec": {
   "display_name": "Python 3 (ipykernel)",
   "language": "python",
   "name": "python3"
  },
  "language_info": {
   "codemirror_mode": {
    "name": "ipython",
    "version": 3
   },
   "file_extension": ".py",
   "mimetype": "text/x-python",
   "name": "python",
   "nbconvert_exporter": "python",
   "pygments_lexer": "ipython3",
   "version": "3.9.10"
  }
 },
 "nbformat": 4,
 "nbformat_minor": 5
}
