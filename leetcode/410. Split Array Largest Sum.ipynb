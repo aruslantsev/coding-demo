{
 "cells": [
  {
   "cell_type": "markdown",
   "id": "52f05369",
   "metadata": {},
   "source": [
    "Given an array nums which consists of non-negative integers and an integer m, you can split the array into m non-empty continuous subarrays.\n",
    "\n",
    "Write an algorithm to minimize the largest sum among these m subarrays.\n",
    "\n",
    " \n",
    "\n",
    "Example 1:\n",
    "\n",
    "Input: nums = [7,2,5,10,8], m = 2\n",
    "Output: 18\n",
    "Explanation:\n",
    "There are four ways to split nums into two subarrays.\n",
    "The best way is to split it into [7,2,5] and [10,8],\n",
    "where the largest sum among the two subarrays is only 18.\n",
    "\n",
    "Example 2:\n",
    "\n",
    "Input: nums = [1,2,3,4,5], m = 2\n",
    "Output: 9\n",
    "\n",
    "Example 3:\n",
    "\n",
    "Input: nums = [1,4,4], m = 3\n",
    "Output: 4\n",
    "\n",
    "Constraints:\n",
    "\n",
    "1 <= nums.length <= 1000\n",
    "0 <= nums[i] <= 106\n",
    "1 <= m <= min(50, nums.length)"
   ]
  },
  {
   "cell_type": "code",
   "execution_count": 27,
   "id": "b4237471",
   "metadata": {},
   "outputs": [],
   "source": [
    "from typing import List\n",
    "\n",
    "class Solution:\n",
    "    def splitArray(self, nums: List[int], m: int) -> int:\n",
    "        # wrong!!! continuout subarrays\n",
    "        if len(nums) == m:\n",
    "            return max(nums)\n",
    "        \n",
    "        remaining = sorted(nums)\n",
    "        sums = [0] * m\n",
    "        while remaining:\n",
    "            sums[sums.index(min(sums))] += remaining.pop()\n",
    "        return max(sums)"
   ]
  },
  {
   "cell_type": "code",
   "execution_count": 3,
   "id": "35a5b8c9",
   "metadata": {},
   "outputs": [],
   "source": [
    "from typing import List\n",
    "from collections import deque\n",
    "\n",
    "\n",
    "# slow\n",
    "class Solution:\n",
    "    def splitArray(self, nums: List[int], m: int) -> int:\n",
    "        nums = [n for n in nums if n > 0]\n",
    "        s = sum(nums)\n",
    "        s_target = s // m\n",
    "        q = deque([[(0, 0)]])\n",
    "        cand_sums = []\n",
    "        while q:\n",
    "            elem = q.popleft()\n",
    "            last = elem[-1]\n",
    "            last_idx = last[0]\n",
    "            if last_idx >= len(nums):\n",
    "                if len(elem) == m + 1:\n",
    "                    cand_sums.append(max(e[1] for e in elem))\n",
    "            elif len(elem) <= m + 1:\n",
    "                partsum = 0\n",
    "                counter = 0\n",
    "                for i in nums[last_idx:]:\n",
    "                    partsum += i\n",
    "                    counter += 1\n",
    "                    if partsum > s_target:\n",
    "                        if not (\n",
    "                            (last_idx + counter + 1) < len(nums) \n",
    "                            and (nums[last_idx + counter + 1] == 0)\n",
    "                        ):\n",
    "                            break\n",
    "\n",
    "                q.append(elem + [(last_idx + counter, partsum)])\n",
    "                if counter > 1:\n",
    "                    q.append(elem + [(last_idx + counter - 1, partsum - i)])\n",
    "\n",
    "        return min(cand_sums)"
   ]
  },
  {
   "cell_type": "code",
   "execution_count": 7,
   "id": "2cdf527a",
   "metadata": {},
   "outputs": [],
   "source": [
    "class Solution:\n",
    "    def splitArray(self, nums: List[int], m: int) -> int:\n",
    "        lo = max(nums)\n",
    "        hi = sum(nums)\n",
    "        while lo < hi:\n",
    "            mid = (lo + hi) // 2\n",
    "            tot = 0\n",
    "            cnt = 1\n",
    "            for num in nums:\n",
    "                if tot + num <= mid: \n",
    "                    tot += num\n",
    "                else:\n",
    "                    tot = num\n",
    "                    cnt += 1\n",
    "            if cnt > m: \n",
    "                lo = mid + 1\n",
    "            else: \n",
    "                hi = mid\n",
    "                \n",
    "        return hi"
   ]
  },
  {
   "cell_type": "code",
   "execution_count": 9,
   "id": "256c2d86",
   "metadata": {},
   "outputs": [],
   "source": [
    "class Solution:\n",
    "    def splitArray(self, nums, m):\n",
    "        def check(Q):\n",
    "            if max(nums) > Q: \n",
    "                return False\n",
    "            acc, ans = 0, 1\n",
    "            for num in nums:\n",
    "                if acc + num <= Q:\n",
    "                    acc += num\n",
    "                else:\n",
    "                    acc = num\n",
    "                    ans += 1\n",
    "            return ans <= m\n",
    "        \n",
    "        beg, end = max(nums) - 1, sum(nums)\n",
    "        while beg + 1 < end:\n",
    "            mid = (beg + end)//2\n",
    "            if check(mid):\n",
    "                end = mid\n",
    "            else:\n",
    "                beg = mid\n",
    "        \n",
    "        return end"
   ]
  },
  {
   "cell_type": "code",
   "execution_count": 32,
   "id": "6272be16",
   "metadata": {},
   "outputs": [],
   "source": [
    "from itertools import accumulate\n",
    "\n",
    "class Solution:\n",
    "    def splitArray(self, nums, m):\n",
    "        n = len(nums)\n",
    "        acc = [0] + list(accumulate(nums))\n",
    "        dp = list(acc)\n",
    "        \n",
    "        for j in range(1, m):\n",
    "            for i in range(n, j, -1):\n",
    "                beg, end = j - 1, i\n",
    "                while beg + 1 < end:\n",
    "                    mid = (beg + end) //2\n",
    "                    if dp[mid] >= acc[i] - acc[mid]:\n",
    "                        end = mid\n",
    "                    else:\n",
    "                        beg = mid\n",
    "                    dp[i] = min(max(dp[end], acc[i] - acc[end]), max(dp[beg], acc[i] - acc[beg]))\n",
    "        \n",
    "        return dp[-1]"
   ]
  },
  {
   "cell_type": "code",
   "execution_count": 33,
   "id": "b270f978",
   "metadata": {},
   "outputs": [
    {
     "data": {
      "text/plain": [
       "18"
      ]
     },
     "execution_count": 33,
     "metadata": {},
     "output_type": "execute_result"
    }
   ],
   "source": [
    "s = Solution()\n",
    "s.splitArray([7,2,5,10,8], 2) # 18"
   ]
  },
  {
   "cell_type": "code",
   "execution_count": 34,
   "id": "4ca51285",
   "metadata": {},
   "outputs": [
    {
     "data": {
      "text/plain": [
       "9"
      ]
     },
     "execution_count": 34,
     "metadata": {},
     "output_type": "execute_result"
    }
   ],
   "source": [
    "s.splitArray([1, 2, 3, 4, 5], 2) # 9"
   ]
  },
  {
   "cell_type": "code",
   "execution_count": 35,
   "id": "28db403f",
   "metadata": {},
   "outputs": [
    {
     "data": {
      "text/plain": [
       "4"
      ]
     },
     "execution_count": 35,
     "metadata": {},
     "output_type": "execute_result"
    }
   ],
   "source": [
    "s.splitArray([1, 4, 4], 3) # 4"
   ]
  },
  {
   "cell_type": "code",
   "execution_count": 36,
   "id": "6f620b6b",
   "metadata": {},
   "outputs": [
    {
     "data": {
      "text/plain": [
       "6"
      ]
     },
     "execution_count": 36,
     "metadata": {},
     "output_type": "execute_result"
    }
   ],
   "source": [
    "s.splitArray([5,2,4,1,3,6,0], 4) # 6"
   ]
  },
  {
   "cell_type": "code",
   "execution_count": 37,
   "id": "9176dbe3",
   "metadata": {},
   "outputs": [
    {
     "data": {
      "text/plain": [
       "3"
      ]
     },
     "execution_count": 37,
     "metadata": {},
     "output_type": "execute_result"
    }
   ],
   "source": [
    "s.splitArray([1,1,1,1,1,3,2], 5)"
   ]
  },
  {
   "cell_type": "code",
   "execution_count": 38,
   "id": "d4f5f9ec",
   "metadata": {},
   "outputs": [
    {
     "data": {
      "text/plain": [
       "1"
      ]
     },
     "execution_count": 38,
     "metadata": {},
     "output_type": "execute_result"
    }
   ],
   "source": [
    "s.splitArray([1,1,1,1,1], 5)"
   ]
  },
  {
   "cell_type": "code",
   "execution_count": 39,
   "id": "321d6ec9",
   "metadata": {},
   "outputs": [
    {
     "data": {
      "text/plain": [
       "2667"
      ]
     },
     "execution_count": 39,
     "metadata": {},
     "output_type": "execute_result"
    }
   ],
   "source": [
    "s.splitArray([499,498,497,496,495,494,493,492,491,490,489,488,487,486,485,484,483,482,481,480,479,478,477,476,475,474,473,472,471,470,469,468,467,466,465,464,463,462,461,460,459,458,457,456,455,454,453,452,451,450,449,448,447,446,445,444,443,442,441,440,439,438,437,436,435,434,433,432,431,430,429,428,427,426,425,424,423,422,421,420,419,418,417,416,415,414,413,412,411,410,409,408,407,406,405,404,403,402,401,400,399,398,397,396,395,394,393,392,391,390,389,388,387,386,385,384,383,382,381,380,379,378,377,376,375,374,373,372,371,370,369,368,367,366,365,364,363,362,361,360,359,358,357,356,355,354,353,352,351,350,349,348,347,346,345,344,343,342,341,340,339,338,337,336,335,334,333,332,331,330,329,328,327,326,325,324,323,322,321,320,319,318,317,316,315,314,313,312,311,310,309,308,307,306,305,304,303,302,301,300,299,298,297,296,295,294,293,292,291,290,289,288,287,286,285,284,283,282,281,280,279,278,277,276,275,274,273,272,271,270,269,268,267,266,265,264,263,262,261,260,259,258,257,256,255,254,253,252,251,250,249,248,247,246,245,244,243,242,241,240,239,238,237,236,235,234,233,232,231,230,229,228,227,226,225,224,223,222,221,220,219,218,217,216,215,214,213,212,211,210,209,208,207,206,205,204,203,202,201,200,199,198,197,196,195,194,193,192,191,190,189,188,187,186,185,184,183,182,181,180,179,178,177,176,175,174,173,172,171,170,169,168,167,166,165,164,163,162,161,160,159,158,157,156,155,154,153,152,151,150,149,148,147,146,145,144,143,142,141,140,139,138,137,136,135,134,133,132,131,130,129,128,127,126,125,124,123,122,121,120,119,118,117,116,115,114,113,112,111,110,109,108,107,106,105,104,103,102,101,100,99,98,97,96,95,94,93,92,91,90,89,88,87,86,85,84,83,82,81,80,79,78,77,76,75,74,73,72,71,70,69,68,67,66,65,64,63,62,61,60,59,58,57,56,55,54,53,52,51,50,49,48,47,46,45,44,43,42,41,40,39,38,37,36,35,34,33,32,31,30,29,28,27,26,25,24,23,22,21,20,19,18,17,16,15,14,13,12,11,10,9,8,7,6,5,4,3,2,1,0], 50)"
   ]
  },
  {
   "cell_type": "code",
   "execution_count": null,
   "id": "a8011746",
   "metadata": {},
   "outputs": [],
   "source": []
  }
 ],
 "metadata": {
  "kernelspec": {
   "display_name": "Python 3 (ipykernel)",
   "language": "python",
   "name": "python3"
  },
  "language_info": {
   "codemirror_mode": {
    "name": "ipython",
    "version": 3
   },
   "file_extension": ".py",
   "mimetype": "text/x-python",
   "name": "python",
   "nbconvert_exporter": "python",
   "pygments_lexer": "ipython3",
   "version": "3.9.10"
  }
 },
 "nbformat": 4,
 "nbformat_minor": 5
}
