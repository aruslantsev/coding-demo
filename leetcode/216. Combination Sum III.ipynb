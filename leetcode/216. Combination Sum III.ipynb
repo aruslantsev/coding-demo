{
 "cells": [
  {
   "cell_type": "markdown",
   "id": "41de3460-5429-4daa-9161-ef3b974141b6",
   "metadata": {},
   "source": [
    "Find all valid combinations of k numbers that sum up to n such that the following conditions are true:\n",
    "\n",
    "    Only numbers 1 through 9 are used.\n",
    "    Each number is used at most once.\n",
    "\n",
    "Return a list of all possible valid combinations. The list must not contain the same combination twice, and the combinations may be returned in any order.\n",
    "\n",
    " \n",
    "\n",
    "Example 1:\n",
    "\n",
    "Input: k = 3, n = 7\n",
    "Output: [[1,2,4]]\n",
    "Explanation:\n",
    "1 + 2 + 4 = 7\n",
    "There are no other valid combinations.\n",
    "\n",
    "Example 2:\n",
    "\n",
    "Input: k = 3, n = 9\n",
    "Output: [[1,2,6],[1,3,5],[2,3,4]]\n",
    "Explanation:\n",
    "1 + 2 + 6 = 9\n",
    "1 + 3 + 5 = 9\n",
    "2 + 3 + 4 = 9\n",
    "There are no other valid combinations.\n",
    "\n",
    "Example 3:\n",
    "\n",
    "Input: k = 4, n = 1\n",
    "Output: []\n",
    "Explanation: There are no valid combinations.\n",
    "Using 4 different numbers in the range [1,9], the smallest sum we can get is 1+2+3+4 = 10 and since 10 > 1, there are no valid combination.\n",
    "\n",
    " \n",
    "\n",
    "Constraints:\n",
    "\n",
    "    2 <= k <= 9\n",
    "    1 <= n <= 60\n",
    "\n"
   ]
  },
  {
   "cell_type": "code",
   "execution_count": 19,
   "id": "2e84b334-ba40-42d9-9421-24ae37779f1d",
   "metadata": {},
   "outputs": [],
   "source": [
    "from typing import List\n",
    "from collections import deque\n",
    "\n",
    "class Solution:\n",
    "    def combinationSum3(self, k: int, n: int) -> List[List[int]]:\n",
    "        if n / k <= 1:\n",
    "            return []\n",
    "        \n",
    "        q = deque()\n",
    "        q.append([n, []])\n",
    "        ans = []\n",
    "        while q:\n",
    "            residual, cands = q.popleft()\n",
    "            if residual == 0:\n",
    "                if len(cands) == k:\n",
    "                    ans.append(cands)\n",
    "                    continue\n",
    "                    \n",
    "            if len(cands) >= k:\n",
    "                continue\n",
    "                \n",
    "            for num in range(1, residual + 1):\n",
    "                if num not in cands:\n",
    "                    q.append([residual - num, cands + [num]])\n",
    "            \n",
    "        ans = set([tuple(sorted(a)) for a in ans])\n",
    "        ans = [list(a) for a in ans]\n",
    "        return ans"
   ]
  },
  {
   "cell_type": "code",
   "execution_count": 23,
   "id": "acfba57e-b4e6-44f6-829b-d9fdc5a8153a",
   "metadata": {},
   "outputs": [],
   "source": [
    "from typing import List\n",
    "\n",
    "class Solution:\n",
    "    def combinationSum3(self, k: int, n: int) -> List[List[int]]:\n",
    "        self.result =[]\n",
    "        self.helper([], 1, k, n)\n",
    "        return self.result\n",
    "    \n",
    "    def helper(self, path, start, k, target):\n",
    "        \n",
    "        if k == 0 and target == 0:\n",
    "            self.result.append(path)\n",
    "            return \n",
    "        \n",
    "        if k == 0 or target == 0:\n",
    "            return\n",
    "        \n",
    "        for i in range(start, 10):\n",
    "            self.helper(path + [i], i + 1, k - 1, target - i)"
   ]
  },
  {
   "cell_type": "code",
   "execution_count": 24,
   "id": "8eeddddf-47bf-4b6f-83f5-5cd7907a1e49",
   "metadata": {},
   "outputs": [
    {
     "data": {
      "text/plain": [
       "[[1, 2, 4]]"
      ]
     },
     "execution_count": 24,
     "metadata": {},
     "output_type": "execute_result"
    }
   ],
   "source": [
    "s = Solution()\n",
    "s.combinationSum3(3, 7)"
   ]
  },
  {
   "cell_type": "code",
   "execution_count": 25,
   "id": "b0343acc-fea9-4032-9711-5e29ba49d3ba",
   "metadata": {},
   "outputs": [
    {
     "data": {
      "text/plain": [
       "[[1, 2, 6], [1, 3, 5], [2, 3, 4]]"
      ]
     },
     "execution_count": 25,
     "metadata": {},
     "output_type": "execute_result"
    }
   ],
   "source": [
    "s.combinationSum3(3, 9)"
   ]
  },
  {
   "cell_type": "code",
   "execution_count": 26,
   "id": "2e388f00-1fed-4ed7-889f-fbea6234a754",
   "metadata": {},
   "outputs": [
    {
     "data": {
      "text/plain": [
       "[[1, 2, 3, 4, 5, 6, 7, 8, 9]]"
      ]
     },
     "execution_count": 26,
     "metadata": {},
     "output_type": "execute_result"
    }
   ],
   "source": [
    "s.combinationSum3(9, 45)"
   ]
  },
  {
   "cell_type": "code",
   "execution_count": null,
   "id": "c89a8bd6-9c32-4afc-a00b-6a6fc78fa56a",
   "metadata": {},
   "outputs": [],
   "source": []
  }
 ],
 "metadata": {
  "kernelspec": {
   "display_name": "Python 3 (ipykernel)",
   "language": "python",
   "name": "python3"
  },
  "language_info": {
   "codemirror_mode": {
    "name": "ipython",
    "version": 3
   },
   "file_extension": ".py",
   "mimetype": "text/x-python",
   "name": "python",
   "nbconvert_exporter": "python",
   "pygments_lexer": "ipython3",
   "version": "3.9.10"
  }
 },
 "nbformat": 4,
 "nbformat_minor": 5
}
