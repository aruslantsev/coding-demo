{
 "cells": [
  {
   "cell_type": "markdown",
   "id": "261df3cd-eb81-42aa-8b32-49adce5a3362",
   "metadata": {},
   "source": [
    "You are given a string s consisting of the characters 'a', 'b', and 'c' and a non-negative integer k. Each minute, you may take either the leftmost character of s, or the rightmost character of s.\n",
    "\n",
    "Return the minimum number of minutes needed for you to take at least k of each character, or return -1 if it is not possible to take k of each character.\n",
    "\n",
    " \n",
    "\n",
    "Example 1:\n",
    "\n",
    "Input: s = \"aabaaaacaabc\", k = 2\n",
    "Output: 8\n",
    "Explanation: \n",
    "Take three characters from the left of s. You now have two 'a' characters, and one 'b' character.\n",
    "Take five characters from the right of s. You now have four 'a' characters, two 'b' characters, and two 'c' characters.\n",
    "A total of 3 + 5 = 8 minutes is needed.\n",
    "It can be proven that 8 is the minimum number of minutes needed.\n",
    "\n",
    "Example 2:\n",
    "\n",
    "Input: s = \"a\", k = 1\n",
    "Output: -1\n",
    "Explanation: It is not possible to take one 'b' or 'c' so return -1.\n",
    "\n",
    " \n",
    "\n",
    "Constraints:\n",
    "\n",
    "    1 <= s.length <= 105\n",
    "    s consists of only the letters 'a', 'b', and 'c'.\n",
    "    0 <= k <= s.length\n",
    "\n"
   ]
  },
  {
   "cell_type": "code",
   "execution_count": null,
   "id": "2a7ce859-fe40-494d-bd95-dbea0d6c74e0",
   "metadata": {},
   "outputs": [],
   "source": [
    "class Solution:\n",
    "    def takeCharacters(self, s: str, k: int) -> int:\n",
    "        count = [0] * 3\n",
    "        for sym in s:\n",
    "            count[ord(sym) - ord(\"a\")] += 1\n",
    "        if any(c < k for c in count):\n",
    "            return -1\n",
    "\n",
    "        window = [0] * 3\n",
    "        left = 0\n",
    "        max_winsize = 0\n",
    "        for right in range(len(s)):\n",
    "            window[ord(s[right]) - ord(\"a\")] += 1\n",
    "            while left <= right and (\n",
    "                count[0] - window[0] < k\n",
    "                or count[1] - window[1] < k\n",
    "                or count[2] - window[2] < k\n",
    "            ):\n",
    "                window[ord(s[left]) - ord(\"a\")] -= 1\n",
    "                left += 1\n",
    "            \n",
    "            max_winsize = max(max_winsize, right - left + 1)\n",
    "        return len(s) - max_winsize"
   ]
  }
 ],
 "metadata": {
  "kernelspec": {
   "display_name": "Python 3 (ipykernel)",
   "language": "python",
   "name": "python3"
  },
  "language_info": {
   "codemirror_mode": {
    "name": "ipython",
    "version": 3
   },
   "file_extension": ".py",
   "mimetype": "text/x-python",
   "name": "python",
   "nbconvert_exporter": "python",
   "pygments_lexer": "ipython3",
   "version": "3.12.7"
  }
 },
 "nbformat": 4,
 "nbformat_minor": 5
}
