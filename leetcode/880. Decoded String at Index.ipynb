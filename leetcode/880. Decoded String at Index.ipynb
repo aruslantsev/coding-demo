{
 "cells": [
  {
   "cell_type": "markdown",
   "id": "31718a5f-8892-4147-99bb-b47893979b85",
   "metadata": {},
   "source": [
    "You are given an encoded string s. To decode the string to a tape, the encoded string is read one character at a time and the following steps are taken:\n",
    "\n",
    "    If the character read is a letter, that letter is written onto the tape.\n",
    "    If the character read is a digit d, the entire current tape is repeatedly written d - 1 more times in total.\n",
    "\n",
    "Given an integer k, return the kth letter (1-indexed) in the decoded string.\n",
    "\n",
    " \n",
    "\n",
    "Example 1:\n",
    "\n",
    "Input: s = \"leet2code3\", k = 10\n",
    "Output: \"o\"\n",
    "Explanation: The decoded string is \"leetleetcodeleetleetcodeleetleetcode\".\n",
    "The 10th letter in the string is \"o\".\n",
    "\n",
    "Example 2:\n",
    "\n",
    "Input: s = \"ha22\", k = 5\n",
    "Output: \"h\"\n",
    "Explanation: The decoded string is \"hahahaha\".\n",
    "The 5th letter is \"h\".\n",
    "\n",
    "Example 3:\n",
    "\n",
    "Input: s = \"a2345678999999999999999\", k = 1\n",
    "Output: \"a\"\n",
    "Explanation: The decoded string is \"a\" repeated 8301530446056247680 times.\n",
    "The 1st letter is \"a\".\n",
    "\n",
    " \n",
    "\n",
    "Constraints:\n",
    "\n",
    "    2 <= s.length <= 100\n",
    "    s consists of lowercase English letters and digits 2 through 9.\n",
    "    s starts with a letter.\n",
    "    1 <= k <= 109\n",
    "    It is guaranteed that k is less than or equal to the length of the decoded string.\n",
    "    The decoded string is guaranteed to have less than 263 letters.\n",
    "\n"
   ]
  },
  {
   "cell_type": "code",
   "execution_count": null,
   "id": "6055fff4-32bb-47d4-9135-ba509f0d4ada",
   "metadata": {},
   "outputs": [],
   "source": [
    "class Solution:\n",
    "    def decodeAtIndex(self, s: str, k: int) -> str:\n",
    "        length = 0\n",
    "        i = 0\n",
    "        \n",
    "        while length < k:\n",
    "            if s[i].isdigit():\n",
    "                length *= int(s[i])\n",
    "            else:\n",
    "                length += 1\n",
    "            i += 1\n",
    "        \n",
    "        for j in range(i - 1, -1, -1):\n",
    "            char = s[j]\n",
    "            if char.isdigit():\n",
    "                length //= int(char)\n",
    "                k %= length\n",
    "            else:\n",
    "                if k == 0 or k == length:\n",
    "                    return char\n",
    "                length -= 1"
   ]
  }
 ],
 "metadata": {
  "kernelspec": {
   "display_name": "Python 3 (ipykernel)",
   "language": "python",
   "name": "python3"
  },
  "language_info": {
   "codemirror_mode": {
    "name": "ipython",
    "version": 3
   },
   "file_extension": ".py",
   "mimetype": "text/x-python",
   "name": "python",
   "nbconvert_exporter": "python",
   "pygments_lexer": "ipython3",
   "version": "3.11.4"
  }
 },
 "nbformat": 4,
 "nbformat_minor": 5
}
