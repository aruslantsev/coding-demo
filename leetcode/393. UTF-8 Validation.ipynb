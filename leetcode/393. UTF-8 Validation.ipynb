{
 "cells": [
  {
   "cell_type": "markdown",
   "id": "f49b21cb-4864-475e-a9cb-5630fccd0c17",
   "metadata": {},
   "source": [
    "Given an integer array data representing the data, return whether it is a valid UTF-8 encoding (i.e. it translates to a sequence of valid UTF-8 encoded characters).\n",
    "\n",
    "A character in UTF8 can be from 1 to 4 bytes long, subjected to the following rules:\n",
    "\n",
    "    For a 1-byte character, the first bit is a 0, followed by its Unicode code.\n",
    "    For an n-bytes character, the first n bits are all one's, the n + 1 bit is 0, followed by n - 1 bytes with the most significant 2 bits being 10.\n",
    "\n",
    "This is how the UTF-8 encoding would work:\n",
    "\n",
    "```\n",
    "     Number of Bytes   |        UTF-8 Octet Sequence\n",
    "                       |              (binary)\n",
    "   --------------------+-----------------------------------------\n",
    "            1          |   0xxxxxxx\n",
    "            2          |   110xxxxx 10xxxxxx\n",
    "            3          |   1110xxxx 10xxxxxx 10xxxxxx\n",
    "            4          |   11110xxx 10xxxxxx 10xxxxxx 10xxxxxx\n",
    "```\n",
    "\n",
    "x denotes a bit in the binary form of a byte that may be either 0 or 1.\n",
    "\n",
    "Note: The input is an array of integers. Only the least significant 8 bits of each integer is used to store the data. This means each integer represents only 1 byte of data.\n",
    "\n",
    " \n",
    "\n",
    "Example 1:\n",
    "\n",
    "Input: data = [197,130,1]\n",
    "Output: true\n",
    "Explanation: data represents the octet sequence: 11000101 10000010 00000001.\n",
    "It is a valid utf-8 encoding for a 2-bytes character followed by a 1-byte character.\n",
    "\n",
    "Example 2:\n",
    "\n",
    "Input: data = [235,140,4]\n",
    "Output: false\n",
    "Explanation: data represented the octet sequence: 11101011 10001100 00000100.\n",
    "The first 3 bits are all one's and the 4th bit is 0 means it is a 3-bytes character.\n",
    "The next byte is a continuation byte which starts with 10 and that's correct.\n",
    "But the second continuation byte does not start with 10, so it is invalid.\n",
    "\n",
    " \n",
    "\n",
    "Constraints:\n",
    "\n",
    "    1 <= data.length <= 2 * 104\n",
    "    0 <= data[i] <= 255\n",
    "\n"
   ]
  },
  {
   "cell_type": "code",
   "execution_count": 25,
   "id": "944cd04f-dd95-4f72-a3af-21e770ac02df",
   "metadata": {},
   "outputs": [],
   "source": [
    "from typing import List\n",
    "\n",
    "class Solution:\n",
    "    def validUtf8(self, data: List[int]) -> bool:\n",
    "        def bin2int(num: int) -> str:\n",
    "            return bin(num).split('b')[1][-8:].zfill(8)\n",
    "        \n",
    "        while data:\n",
    "            num = data.pop(0)\n",
    "            num = bin2int(num)\n",
    "            if num.startswith('11110'): # need to read 3 more ints\n",
    "                if len(data) >= 3:\n",
    "                    for _ in range(3):\n",
    "                        next = data.pop(0)\n",
    "                        next = bin2int(next)\n",
    "                        if not next.startswith('10'):\n",
    "                            return False\n",
    "                else:\n",
    "                    return False\n",
    "            elif num.startswith('1110'): # need to read 2 more ints\n",
    "                if len(data) >= 2:\n",
    "                    for _ in range(2):\n",
    "                        next = data.pop(0)\n",
    "                        next = bin2int(next)\n",
    "                        if not next.startswith('10'):\n",
    "                            return False\n",
    "                else:\n",
    "                    return False\n",
    "            elif num.startswith('110'): # check one more\n",
    "                if len(data) >= 1:\n",
    "                    for _ in range(1):\n",
    "                        next = data.pop(0)\n",
    "                        next = bin2int(next)\n",
    "                        if not next.startswith('10'):\n",
    "                            return False\n",
    "                else:\n",
    "                    return False\n",
    "            elif num.startswith('0'):\n",
    "                pass\n",
    "            else:\n",
    "                return False\n",
    "            \n",
    "        return True"
   ]
  },
  {
   "cell_type": "code",
   "execution_count": 26,
   "id": "78c47b81-2704-49e4-87e4-3204a2247c75",
   "metadata": {},
   "outputs": [
    {
     "data": {
      "text/plain": [
       "True"
      ]
     },
     "execution_count": 26,
     "metadata": {},
     "output_type": "execute_result"
    }
   ],
   "source": [
    "s = Solution()\n",
    "s.validUtf8([197, 130, 1])"
   ]
  },
  {
   "cell_type": "code",
   "execution_count": 28,
   "id": "d1d4e5a4-14de-4c8f-94f0-8266c15245c1",
   "metadata": {},
   "outputs": [
    {
     "data": {
      "text/plain": [
       "False"
      ]
     },
     "execution_count": 28,
     "metadata": {},
     "output_type": "execute_result"
    }
   ],
   "source": [
    "s.validUtf8([248,130,130,130])"
   ]
  },
  {
   "cell_type": "code",
   "execution_count": null,
   "id": "5b42b9a8-e79d-4c4c-838e-ab52e9411128",
   "metadata": {},
   "outputs": [],
   "source": []
  }
 ],
 "metadata": {
  "kernelspec": {
   "display_name": "Python 3 (ipykernel)",
   "language": "python",
   "name": "python3"
  },
  "language_info": {
   "codemirror_mode": {
    "name": "ipython",
    "version": 3
   },
   "file_extension": ".py",
   "mimetype": "text/x-python",
   "name": "python",
   "nbconvert_exporter": "python",
   "pygments_lexer": "ipython3",
   "version": "3.9.12"
  }
 },
 "nbformat": 4,
 "nbformat_minor": 5
}
