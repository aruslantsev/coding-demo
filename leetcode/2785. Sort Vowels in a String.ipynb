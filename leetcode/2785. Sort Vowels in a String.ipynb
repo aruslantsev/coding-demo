{
 "cells": [
  {
   "cell_type": "markdown",
   "id": "fb93837c-807e-49a4-a5c8-fcf3c37b1259",
   "metadata": {},
   "source": [
    "Given a 0-indexed string s, permute s to get a new string t such that:\n",
    "\n",
    "    All consonants remain in their original places. More formally, if there is an index i with 0 <= i < s.length such that s[i] is a consonant, then t[i] = s[i].\n",
    "    The vowels must be sorted in the nondecreasing order of their ASCII values. More formally, for pairs of indices i, j with 0 <= i < j < s.length such that s[i] and s[j] are vowels, then t[i] must not have a higher ASCII value than t[j].\n",
    "\n",
    "Return the resulting string.\n",
    "\n",
    "The vowels are 'a', 'e', 'i', 'o', and 'u', and they can appear in lowercase or uppercase. Consonants comprise all letters that are not vowels.\n",
    "\n",
    " \n",
    "\n",
    "Example 1:\n",
    "\n",
    "Input: s = \"lEetcOde\"\n",
    "Output: \"lEOtcede\"\n",
    "Explanation: 'E', 'O', and 'e' are the vowels in s; 'l', 't', 'c', and 'd' are all consonants. The vowels are sorted according to their ASCII values, and the consonants remain in the same places.\n",
    "\n",
    "Example 2:\n",
    "\n",
    "Input: s = \"lYmpH\"\n",
    "Output: \"lYmpH\"\n",
    "Explanation: There are no vowels in s (all characters in s are consonants), so we return \"lYmpH\".\n",
    "\n",
    " \n",
    "\n",
    "Constraints:\n",
    "\n",
    "    1 <= s.length <= 105\n",
    "    s consists only of letters of the English alphabet in uppercase and lowercase.\n",
    "\n"
   ]
  },
  {
   "cell_type": "code",
   "execution_count": null,
   "id": "f9e6760e-e541-4e7b-96a6-86822349e736",
   "metadata": {},
   "outputs": [],
   "source": [
    "class Solution:\n",
    "    def sortVowels(self, s: str) -> str:\n",
    "        vowels = sorted([sym for sym in s if sym in \"aeiouAEIOU\"], reverse=True)\n",
    "        ans = ''\n",
    "        for sym in s:\n",
    "            if sym in \"aeiouAEIOU\":\n",
    "                ans += vowels.pop()\n",
    "            else:\n",
    "                ans += sym\n",
    "        return ans"
   ]
  }
 ],
 "metadata": {
  "kernelspec": {
   "display_name": "Python 3 (ipykernel)",
   "language": "python",
   "name": "python3"
  },
  "language_info": {
   "codemirror_mode": {
    "name": "ipython",
    "version": 3
   },
   "file_extension": ".py",
   "mimetype": "text/x-python",
   "name": "python",
   "nbconvert_exporter": "python",
   "pygments_lexer": "ipython3",
   "version": "3.11.4"
  }
 },
 "nbformat": 4,
 "nbformat_minor": 5
}
