{
 "cells": [
  {
   "cell_type": "markdown",
   "id": "7804b561-f813-4813-add3-6e478f5d3e35",
   "metadata": {},
   "source": [
    "Write an algorithm to determine if a number n is happy.\n",
    "\n",
    "A happy number is a number defined by the following process:\n",
    "\n",
    "    Starting with any positive integer, replace the number by the sum of the squares of its digits.\n",
    "    Repeat the process until the number equals 1 (where it will stay), or it loops endlessly in a cycle which does not include 1.\n",
    "    Those numbers for which this process ends in 1 are happy.\n",
    "\n",
    "Return true if n is a happy number, and false if not.\n",
    "\n",
    " \n",
    "\n",
    "Example 1:\n",
    "\n",
    "Input: n = 19\n",
    "Output: true\n",
    "Explanation:\n",
    "12 + 92 = 82\n",
    "82 + 22 = 68\n",
    "62 + 82 = 100\n",
    "12 + 02 + 02 = 1\n",
    "\n",
    "Example 2:\n",
    "\n",
    "Input: n = 2\n",
    "Output: false\n",
    "\n",
    " \n",
    "\n",
    "Constraints:\n",
    "\n",
    "    1 <= n <= 231 - 1\n",
    "\n"
   ]
  },
  {
   "cell_type": "code",
   "execution_count": 4,
   "id": "e21e2293-fc6d-4024-b3aa-1634336ec06b",
   "metadata": {
    "tags": []
   },
   "outputs": [],
   "source": [
    "class Solution:\n",
    "    def isHappy(self, n: int) -> bool:\n",
    "        curr = None\n",
    "        while (curr != 1 and curr != n):\n",
    "            tmp = curr if curr is not None else n\n",
    "            curr = 0\n",
    "            while tmp > 0:\n",
    "                curr += (tmp % 10) ** 2\n",
    "                tmp //= 10\n",
    "            if curr < 10 and curr not in [1, 7]:\n",
    "                return False\n",
    "            \n",
    "        return curr == 1"
   ]
  },
  {
   "cell_type": "code",
   "execution_count": null,
   "id": "db23fe33-9216-4707-984e-11d207462ed2",
   "metadata": {},
   "outputs": [],
   "source": [
    "class Solution:\n",
    "    def isHappy(self, n: int) -> bool:\n",
    "        seen_sums = set()\n",
    "\n",
    "        while n != 1:\n",
    "            tmp = n\n",
    "            n = 0\n",
    "            while tmp > 0:\n",
    "                n += (tmp % 10) ** 2\n",
    "                tmp //= 10\n",
    "            if n in seen_sums:\n",
    "                return False\n",
    "            seen_sums.add(n)\n",
    "\n",
    "        return True\n"
   ]
  },
  {
   "cell_type": "code",
   "execution_count": 5,
   "id": "8847dbe2-b59e-400d-8129-8b47f85e2469",
   "metadata": {
    "tags": []
   },
   "outputs": [
    {
     "data": {
      "text/plain": [
       "True"
      ]
     },
     "execution_count": 5,
     "metadata": {},
     "output_type": "execute_result"
    }
   ],
   "source": [
    "s = Solution()\n",
    "s.isHappy(19)"
   ]
  },
  {
   "cell_type": "code",
   "execution_count": 6,
   "id": "310abb7e-fed2-4297-b5d8-b3de62c3d451",
   "metadata": {
    "tags": []
   },
   "outputs": [
    {
     "data": {
      "text/plain": [
       "False"
      ]
     },
     "execution_count": 6,
     "metadata": {},
     "output_type": "execute_result"
    }
   ],
   "source": [
    "s.isHappy(2)"
   ]
  },
  {
   "cell_type": "code",
   "execution_count": null,
   "id": "c9016096-dbfc-45f6-99e5-c0e165f42596",
   "metadata": {},
   "outputs": [],
   "source": []
  }
 ],
 "metadata": {
  "kernelspec": {
   "display_name": "common",
   "language": "python",
   "name": "common"
  },
  "language_info": {
   "codemirror_mode": {
    "name": "ipython",
    "version": 3
   },
   "file_extension": ".py",
   "mimetype": "text/x-python",
   "name": "python",
   "nbconvert_exporter": "python",
   "pygments_lexer": "ipython3",
   "version": "3.11.4"
  }
 },
 "nbformat": 4,
 "nbformat_minor": 5
}
