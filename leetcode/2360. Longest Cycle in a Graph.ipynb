{
 "cells": [
  {
   "attachments": {
    "b0656c10-d601-4ca7-a8e7-923063f1437c.png": {
     "image/png": "[encoded data removed]"
    },
    "b5ddf7cb-9158-450a-a1bc-c40df10598cc.png": {
     "image/png": "[encoded data removed]"
    }
   },
   "cell_type": "markdown",
   "id": "a50c04ad-8f3e-4b2f-bec6-c672c0453290",
   "metadata": {},
   "source": [
    "You are given a directed graph of n nodes numbered from 0 to n - 1, where each node has at most one outgoing edge.\n",
    "\n",
    "The graph is represented with a given 0-indexed array edges of size n, indicating that there is a directed edge from node i to node edges[i]. If there is no outgoing edge from node i, then edges[i] == -1.\n",
    "\n",
    "Return the length of the longest cycle in the graph. If no cycle exists, return -1.\n",
    "\n",
    "A cycle is a path that starts and ends at the same node.\n",
    "\n",
    " \n",
    "\n",
    "Example 1:\n",
    "\n",
    "![image.png](attachment:b5ddf7cb-9158-450a-a1bc-c40df10598cc.png)\n",
    "\n",
    "Input: edges = [3,3,4,2,3]\n",
    "Output: 3\n",
    "Explanation: The longest cycle in the graph is the cycle: 2 -> 4 -> 3 -> 2.\n",
    "The length of this cycle is 3, so 3 is returned.\n",
    "\n",
    "Example 2:\n",
    "\n",
    "![image.png](attachment:b0656c10-d601-4ca7-a8e7-923063f1437c.png)\n",
    "\n",
    "Input: edges = [2,-1,3,1]\n",
    "Output: -1\n",
    "Explanation: There are no cycles in this graph.\n",
    " \n",
    "\n",
    "Constraints:\n",
    "\n",
    "n == edges.length\n",
    "2 <= n <= 105\n",
    "-1 <= edges[i] < n\n",
    "edges[i] != i"
   ]
  },
  {
   "cell_type": "code",
   "execution_count": 2,
   "id": "69e3175d-b225-4fed-8ed9-03a78378639a",
   "metadata": {},
   "outputs": [],
   "source": [
    "from typing import List\n",
    "\n",
    "\n",
    "class Solution:\n",
    "    def longestCycle(self, edges: List[int]) -> int:\n",
    "        print(len(edges))\n",
    "        visited = [False for _ in edges]\n",
    "\n",
    "        def dfs(node: int, history: List[int]) -> int:\n",
    "            if node in history:\n",
    "                return len(history) - history.index(node)\n",
    "\n",
    "            visited[node] = True\n",
    "            history.append(node)\n",
    "            nxt = edges[node]\n",
    "            if nxt != -1:\n",
    "                return dfs(nxt, history)\n",
    "            \n",
    "            return -1\n",
    "\n",
    "        ans = -1\n",
    "        for node in range(len(edges)):\n",
    "            if not visited[node]:\n",
    "                ans = max(ans, dfs(node, []))\n",
    "\n",
    "        return ans\n",
    "\n",
    "        "
   ]
  },
  {
   "cell_type": "code",
   "execution_count": 1,
   "id": "a2f0be00-2f8d-4785-ba2b-902ad3868234",
   "metadata": {},
   "outputs": [],
   "source": [
    "from typing import List\n",
    "\n",
    "\n",
    "class Solution:\n",
    "    def longestCycle(self, edges: List[int]) -> int:\n",
    "        visited = [False for _ in edges]\n",
    "        ans = -1\n",
    "\n",
    "        for idx in range(len(edges)):\n",
    "            if not visited[idx]:\n",
    "                node = idx\n",
    "                history = []\n",
    "                while node != -1:\n",
    "                    if visited[node]:\n",
    "                        if node in history:\n",
    "                            ans = max(ans, len(history) - history.index(node))\n",
    "                        break\n",
    "\n",
    "                    visited[node] = True\n",
    "                    history.append(node)\n",
    "                    node = edges[node]\n",
    "\n",
    "        return ans"
   ]
  },
  {
   "cell_type": "code",
   "execution_count": 2,
   "id": "76703a98-d57a-427f-97c7-e79184fac126",
   "metadata": {},
   "outputs": [],
   "source": [
    "s = Solution()"
   ]
  },
  {
   "cell_type": "code",
   "execution_count": 3,
   "id": "d31808b3-7e56-4e01-a7ec-f4e6713932de",
   "metadata": {},
   "outputs": [
    {
     "data": {
      "text/plain": [
       "3"
      ]
     },
     "execution_count": 3,
     "metadata": {},
     "output_type": "execute_result"
    }
   ],
   "source": [
    "s.longestCycle([3,3,4,2,3])"
   ]
  },
  {
   "cell_type": "code",
   "execution_count": null,
   "id": "1e3242d0-7085-4546-9a85-c4fcea51c909",
   "metadata": {},
   "outputs": [],
   "source": []
  }
 ],
 "metadata": {
  "kernelspec": {
   "display_name": "Python 3",
   "language": "python",
   "name": "python3"
  },
  "language_info": {
   "codemirror_mode": {
    "name": "ipython",
    "version": 3
   },
   "file_extension": ".py",
   "mimetype": "text/x-python",
   "name": "python",
   "nbconvert_exporter": "python",
   "pygments_lexer": "ipython3",
   "version": "3.9.12"
  }
 },
 "nbformat": 4,
 "nbformat_minor": 5
}
