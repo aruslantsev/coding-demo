{
 "cells": [
  {
   "cell_type": "markdown",
   "id": "f9278562-3b74-452d-b706-1303bb4f8ac6",
   "metadata": {},
   "source": [
    "You are given an integer array nums and an array queries where queries[i] = [vali, indexi].\n",
    "\n",
    "For each query i, first, apply nums[indexi] = nums[indexi] + vali, then print the sum of the even values of nums.\n",
    "\n",
    "Return an integer array answer where answer[i] is the answer to the ith query.\n",
    "\n",
    " \n",
    "\n",
    "Example 1:\n",
    "\n",
    "Input: nums = [1,2,3,4], queries = [[1,0],[-3,1],[-4,0],[2,3]]\n",
    "Output: [8,6,2,4]\n",
    "Explanation: At the beginning, the array is [1,2,3,4].\n",
    "After adding 1 to nums[0], the array is [2,2,3,4], and the sum of even values is 2 + 2 + 4 = 8.\n",
    "After adding -3 to nums[1], the array is [2,-1,3,4], and the sum of even values is 2 + 4 = 6.\n",
    "After adding -4 to nums[0], the array is [-2,-1,3,4], and the sum of even values is -2 + 4 = 2.\n",
    "After adding 2 to nums[3], the array is [-2,-1,3,6], and the sum of even values is -2 + 6 = 4.\n",
    "\n",
    "Example 2:\n",
    "\n",
    "Input: nums = [1], queries = [[4,0]]\n",
    "Output: [0]\n",
    "\n",
    " \n",
    "\n",
    "Constraints:\n",
    "\n",
    "    1 <= nums.length <= 104\n",
    "    -104 <= nums[i] <= 104\n",
    "    1 <= queries.length <= 104\n",
    "    -104 <= vali <= 104\n",
    "    0 <= indexi < nums.length\n",
    "\n"
   ]
  },
  {
   "cell_type": "code",
   "execution_count": 8,
   "id": "7bb29e88-8e79-4477-b620-7b0868ce3d06",
   "metadata": {},
   "outputs": [],
   "source": [
    "from typing import List\n",
    "\n",
    "class Solution:\n",
    "    def sumEvenAfterQueries(self, nums: List[int], queries: List[List[int]]) -> List[int]:\n",
    "        curr_sum = sum(i for i in nums if i % 2 == 0)\n",
    "        ans = []\n",
    "        for num, idx in queries:\n",
    "            if nums[idx] % 2 == 0:\n",
    "                curr_sum -= nums[idx]\n",
    "            nums[idx] += num\n",
    "            if nums[idx] % 2 == 0:\n",
    "                curr_sum += nums[idx]\n",
    "            ans.append(curr_sum)\n",
    "        \n",
    "        return ans"
   ]
  },
  {
   "cell_type": "code",
   "execution_count": 9,
   "id": "327b7602-4f99-44de-a12b-fdd7ffb2ee97",
   "metadata": {},
   "outputs": [
    {
     "data": {
      "text/plain": [
       "[8, 6, 2, 4]"
      ]
     },
     "execution_count": 9,
     "metadata": {},
     "output_type": "execute_result"
    }
   ],
   "source": [
    "s = Solution()\n",
    "s.sumEvenAfterQueries([1, 2, 3, 4], [[1,0],[-3,1],[-4,0],[2,3]])"
   ]
  },
  {
   "cell_type": "code",
   "execution_count": null,
   "id": "14998f53-2235-45a4-ae25-1b4dd4ed0f59",
   "metadata": {},
   "outputs": [],
   "source": []
  }
 ],
 "metadata": {
  "kernelspec": {
   "display_name": "Python 3 (ipykernel)",
   "language": "python",
   "name": "python3"
  },
  "language_info": {
   "codemirror_mode": {
    "name": "ipython",
    "version": 3
   },
   "file_extension": ".py",
   "mimetype": "text/x-python",
   "name": "python",
   "nbconvert_exporter": "python",
   "pygments_lexer": "ipython3",
   "version": "3.9.12"
  }
 },
 "nbformat": 4,
 "nbformat_minor": 5
}
