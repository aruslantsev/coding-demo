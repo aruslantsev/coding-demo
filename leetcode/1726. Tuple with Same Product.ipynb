{
 "cells": [
  {
   "cell_type": "markdown",
   "id": "9be2b433-53a2-4972-89c5-c28a89d40691",
   "metadata": {},
   "source": [
    "Given an array nums of distinct positive integers, return the number of tuples (a, b, c, d) such that a * b = c * d where a, b, c, and d are elements of nums, and a != b != c != d.\n",
    "\n",
    " \n",
    "\n",
    "Example 1:\n",
    "\n",
    "Input: nums = [2,3,4,6]\n",
    "Output: 8\n",
    "Explanation: There are 8 valid tuples:\n",
    "(2,6,3,4) , (2,6,4,3) , (6,2,3,4) , (6,2,4,3)\n",
    "(3,4,2,6) , (4,3,2,6) , (3,4,6,2) , (4,3,6,2)\n",
    "\n",
    "Example 2:\n",
    "\n",
    "Input: nums = [1,2,4,5,10]\n",
    "Output: 16\n",
    "Explanation: There are 16 valid tuples:\n",
    "(1,10,2,5) , (1,10,5,2) , (10,1,2,5) , (10,1,5,2)\n",
    "(2,5,1,10) , (2,5,10,1) , (5,2,1,10) , (5,2,10,1)\n",
    "(2,10,4,5) , (2,10,5,4) , (10,2,4,5) , (10,2,5,4)\n",
    "(4,5,2,10) , (4,5,10,2) , (5,4,2,10) , (5,4,10,2)\n",
    "\n",
    " \n",
    "\n",
    "Constraints:\n",
    "\n",
    "    1 <= nums.length <= 1000\n",
    "    1 <= nums[i] <= 104\n",
    "    All elements in nums are distinct.\n",
    "\n"
   ]
  },
  {
   "cell_type": "code",
   "execution_count": null,
   "id": "7b078321-caf4-4a3a-af21-d930e64a234e",
   "metadata": {},
   "outputs": [],
   "source": [
    "class Solution:\n",
    "    def tupleSameProduct(self, nums: List[int]) -> int:\n",
    "        if len(nums) < 4:\n",
    "            return 0\n",
    "\n",
    "        pf = defaultdict(int)\n",
    "        for i in range(1, len(nums)):\n",
    "            for j in range(i):\n",
    "                pf[nums[i] * nums[j]] += 1\n",
    "\n",
    "        ans = 0\n",
    "        for v in pf.values():\n",
    "            if v >= 2:\n",
    "                ans += 4 * v * (v - 1)  # 8 * (v * (v - 1) // 2)\n",
    "        return ans\n"
   ]
  }
 ],
 "metadata": {
  "kernelspec": {
   "display_name": "Python 3 (ipykernel)",
   "language": "python",
   "name": "python3"
  },
  "language_info": {
   "codemirror_mode": {
    "name": "ipython",
    "version": 3
   },
   "file_extension": ".py",
   "mimetype": "text/x-python",
   "name": "python",
   "nbconvert_exporter": "python",
   "pygments_lexer": "ipython3",
   "version": "3.12.7"
  }
 },
 "nbformat": 4,
 "nbformat_minor": 5
}
