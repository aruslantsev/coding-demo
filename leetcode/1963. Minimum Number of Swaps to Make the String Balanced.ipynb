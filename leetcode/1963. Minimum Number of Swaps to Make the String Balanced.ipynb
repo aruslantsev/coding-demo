{
 "cells": [
  {
   "cell_type": "markdown",
   "id": "52342997-8ade-46db-8442-b9b6835b9ac3",
   "metadata": {},
   "source": [
    "You are given a 0-indexed string s of even length n. The string consists of exactly n / 2 opening brackets '[' and n / 2 closing brackets ']'.\n",
    "\n",
    "A string is called balanced if and only if:\n",
    "\n",
    "    It is the empty string, or\n",
    "    It can be written as AB, where both A and B are balanced strings, or\n",
    "    It can be written as [C], where C is a balanced string.\n",
    "\n",
    "You may swap the brackets at any two indices any number of times.\n",
    "\n",
    "Return the minimum number of swaps to make s balanced.\n",
    "\n",
    " \n",
    "\n",
    "Example 1:\n",
    "\n",
    "Input: s = \"][][\"\n",
    "Output: 1\n",
    "Explanation: You can make the string balanced by swapping index 0 with index 3.\n",
    "The resulting string is \"[[]]\".\n",
    "\n",
    "Example 2:\n",
    "\n",
    "Input: s = \"]]][[[\"\n",
    "Output: 2\n",
    "Explanation: You can do the following to make the string balanced:\n",
    "- Swap index 0 with index 4. s = \"[]][][\".\n",
    "- Swap index 1 with index 5. s = \"[[][]]\".\n",
    "The resulting string is \"[[][]]\".\n",
    "\n",
    "Example 3:\n",
    "\n",
    "Input: s = \"[]\"\n",
    "Output: 0\n",
    "Explanation: The string is already balanced.\n",
    "\n",
    " \n",
    "\n",
    "Constraints:\n",
    "\n",
    "    n == s.length\n",
    "    2 <= n <= 106\n",
    "    n is even.\n",
    "    s[i] is either '[' or ']'.\n",
    "    The number of opening brackets '[' equals n / 2, and the number of closing brackets ']' equals n / 2.\n",
    "\n"
   ]
  },
  {
   "cell_type": "code",
   "execution_count": null,
   "id": "04ed870a-58c5-4985-8a67-acbdb6764e29",
   "metadata": {},
   "outputs": [],
   "source": [
    "class Solution:\n",
    "    def minSwaps(self, s: str) -> int:\n",
    "        stack = deque()\n",
    "        unbalanced = 0\n",
    "        for ch in s:\n",
    "            # If an opening bracket is encountered, push it in the deque.\n",
    "            if ch == \"[\":\n",
    "                stack.append(ch)\n",
    "            else:\n",
    "                # If the deque is not empty, pop it.\n",
    "                if stack:\n",
    "                    stack.pop()\n",
    "                # Otherwise increase the count of unbalanced brackets.\n",
    "                else:\n",
    "                    unbalanced += 1\n",
    "        return (unbalanced + 1) // 2"
   ]
  }
 ],
 "metadata": {
  "kernelspec": {
   "display_name": "Python 3 (ipykernel)",
   "language": "python",
   "name": "python3"
  },
  "language_info": {
   "codemirror_mode": {
    "name": "ipython",
    "version": 3
   },
   "file_extension": ".py",
   "mimetype": "text/x-python",
   "name": "python",
   "nbconvert_exporter": "python",
   "pygments_lexer": "ipython3",
   "version": "3.12.7"
  }
 },
 "nbformat": 4,
 "nbformat_minor": 5
}
