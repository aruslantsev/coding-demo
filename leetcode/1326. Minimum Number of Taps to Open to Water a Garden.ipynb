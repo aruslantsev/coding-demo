{
 "cells": [
  {
   "attachments": {
    "1ee60dbc-a432-4e4e-bfd0-b0fb08018bc1.png": {
     "image/png": "[encoded data removed]"
    }
   },
   "cell_type": "markdown",
   "id": "3b4282e3-57e2-45f4-8da3-683981a1b56f",
   "metadata": {},
   "source": [
    "There is a one-dimensional garden on the x-axis. The garden starts at the point 0 and ends at the point n. (i.e., the length of the garden is n).\n",
    "\n",
    "There are n + 1 taps located at points [0, 1, ..., n] in the garden.\n",
    "\n",
    "Given an integer n and an integer array ranges of length n + 1 where ranges[i] (0-indexed) means the i-th tap can water the area [i - ranges[i], i + ranges[i]] if it was open.\n",
    "\n",
    "Return the minimum number of taps that should be open to water the whole garden, If the garden cannot be watered return -1.\n",
    "\n",
    " \n",
    "\n",
    "Example 1:\n",
    "\n",
    "![image.png](attachment:1ee60dbc-a432-4e4e-bfd0-b0fb08018bc1.png)\n",
    "\n",
    "Input: n = 5, ranges = [3,4,1,1,0,0]\n",
    "Output: 1\n",
    "Explanation: The tap at point 0 can cover the interval [-3,3]\n",
    "The tap at point 1 can cover the interval [-3,5]\n",
    "The tap at point 2 can cover the interval [1,3]\n",
    "The tap at point 3 can cover the interval [2,4]\n",
    "The tap at point 4 can cover the interval [4,4]\n",
    "The tap at point 5 can cover the interval [5,5]\n",
    "Opening Only the second tap will water the whole garden [0,5]\n",
    "\n",
    "Example 2:\n",
    "\n",
    "Input: n = 3, ranges = [0,0,0,0]\n",
    "Output: -1\n",
    "Explanation: Even if you activate all the four taps you cannot water the whole garden.\n",
    "\n",
    " \n",
    "\n",
    "Constraints:\n",
    "\n",
    "    1 <= n <= 104\n",
    "    ranges.length == n + 1\n",
    "    0 <= ranges[i] <= 100\n",
    "\n"
   ]
  },
  {
   "cell_type": "code",
   "execution_count": null,
   "id": "81822163-8761-4744-87fb-ada0c66ff22c",
   "metadata": {},
   "outputs": [],
   "source": [
    "class Solution:\n",
    "    def minTaps(self, n: int, ranges: List[int]) -> int:\n",
    "        # Define an infinite value\n",
    "        INF = int(1e9)\n",
    "        \n",
    "        # Create a list to store the minimum number of taps needed for each position\n",
    "        dp = [INF] * (n + 1)\n",
    "        \n",
    "        # Initialize the starting position of the garden\n",
    "        dp[0] = 0\n",
    "        \n",
    "        for i in range(n + 1):\n",
    "            # Calculate the leftmost position reachable by the current tap\n",
    "            tap_start = max(0, i - ranges[i])\n",
    "            # Calculate the rightmost position reachable by the current tap\n",
    "            tap_end = min(n, i + ranges[i])\n",
    "            \n",
    "            for j in range(tap_start, tap_end + 1):\n",
    "                # Update with the minimum number of taps\n",
    "                dp[tap_end] = min(dp[tap_end], dp[j] + 1)\n",
    "        \n",
    "        # Check if the garden can be watered completely\n",
    "        if dp[n] == INF:\n",
    "            # Garden cannot be watered\n",
    "            return -1\n",
    "        \n",
    "        # Return the minimum number of taps needed to water the entire garden\n",
    "        return dp[n]"
   ]
  }
 ],
 "metadata": {
  "kernelspec": {
   "display_name": "Python 3 (ipykernel)",
   "language": "python",
   "name": "python3"
  },
  "language_info": {
   "codemirror_mode": {
    "name": "ipython",
    "version": 3
   },
   "file_extension": ".py",
   "mimetype": "text/x-python",
   "name": "python",
   "nbconvert_exporter": "python",
   "pygments_lexer": "ipython3",
   "version": "3.11.4"
  }
 },
 "nbformat": 4,
 "nbformat_minor": 5
}
