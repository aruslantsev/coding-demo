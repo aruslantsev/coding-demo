{
 "cells": [
  {
   "cell_type": "markdown",
   "id": "60f07e34-bea1-4bca-9333-4a5d5f1efa8f",
   "metadata": {},
   "source": [
    "A peak element is an element that is strictly greater than its neighbors.\n",
    "\n",
    "Given a 0-indexed integer array nums, find a peak element, and return its index. If the array contains multiple peaks, return the index to any of the peaks.\n",
    "\n",
    "You may imagine that nums[-1] = nums[n] = -∞. In other words, an element is always considered to be strictly greater than a neighbor that is outside the array.\n",
    "\n",
    "You must write an algorithm that runs in O(log n) time.\n",
    "\n",
    " \n",
    "\n",
    "Example 1:\n",
    "\n",
    "Input: nums = [1,2,3,1]\n",
    "Output: 2\n",
    "Explanation: 3 is a peak element and your function should return the index number 2.\n",
    "\n",
    "Example 2:\n",
    "\n",
    "Input: nums = [1,2,1,3,5,6,4]\n",
    "Output: 5\n",
    "Explanation: Your function can return either index number 1 where the peak element is 2, or index number 5 where the peak element is 6.\n",
    "\n",
    " \n",
    "\n",
    "Constraints:\n",
    "\n",
    "    1 <= nums.length <= 1000\n",
    "    -231 <= nums[i] <= 231 - 1\n",
    "    nums[i] != nums[i + 1] for all valid i.\n",
    "\n"
   ]
  },
  {
   "cell_type": "code",
   "execution_count": null,
   "id": "c5dddc40-7871-4bac-aeba-ec6f3310ba89",
   "metadata": {},
   "outputs": [],
   "source": [
    "class Solution:\n",
    "    def findPeakElement(self, nums: List[int]) -> int:\n",
    "        m = min(nums) - 1\n",
    "        nums.insert(0, m)\n",
    "        nums.append(m)\n",
    "        for i in range(1, len(nums) - 1):\n",
    "            if nums[i - 1] < nums[i] > nums[i + 1]:\n",
    "                return i - 1\n",
    "        "
   ]
  }
 ],
 "metadata": {
  "kernelspec": {
   "display_name": "Python 3 (ipykernel)",
   "language": "python",
   "name": "python3"
  },
  "language_info": {
   "codemirror_mode": {
    "name": "ipython",
    "version": 3
   },
   "file_extension": ".py",
   "mimetype": "text/x-python",
   "name": "python",
   "nbconvert_exporter": "python",
   "pygments_lexer": "ipython3",
   "version": "3.11.4"
  }
 },
 "nbformat": 4,
 "nbformat_minor": 5
}
