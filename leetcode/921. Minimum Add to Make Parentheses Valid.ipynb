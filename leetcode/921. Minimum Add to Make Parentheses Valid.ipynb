{
 "cells": [
  {
   "cell_type": "markdown",
   "id": "25333cdb-4eb0-4cac-93e4-d1e26a2d54b7",
   "metadata": {},
   "source": [
    "A parentheses string is valid if and only if:\n",
    "\n",
    "    It is the empty string,\n",
    "    It can be written as AB (A concatenated with B), where A and B are valid strings, or\n",
    "    It can be written as (A), where A is a valid string.\n",
    "\n",
    "You are given a parentheses string s. In one move, you can insert a parenthesis at any position of the string.\n",
    "\n",
    "    For example, if s = \"()))\", you can insert an opening parenthesis to be \"(()))\" or a closing parenthesis to be \"())))\".\n",
    "\n",
    "Return the minimum number of moves required to make s valid.\n",
    "\n",
    " \n",
    "\n",
    "Example 1:\n",
    "\n",
    "Input: s = \"())\"\n",
    "Output: 1\n",
    "\n",
    "Example 2:\n",
    "\n",
    "Input: s = \"(((\"\n",
    "Output: 3\n",
    "\n",
    " \n",
    "\n",
    "Constraints:\n",
    "\n",
    "    1 <= s.length <= 1000\n",
    "    s[i] is either '(' or ')'.\n",
    "\n"
   ]
  },
  {
   "cell_type": "code",
   "execution_count": null,
   "id": "03f682de-1499-4dcb-8ecb-6a3ceba2474c",
   "metadata": {},
   "outputs": [],
   "source": [
    "class Solution:\n",
    "    def minAddToMakeValid(self, s: str) -> int:\n",
    "        stack = 0\n",
    "        ans = 0\n",
    "        for ch in s:\n",
    "            if ch == \")\":\n",
    "                if not stack:\n",
    "                    ans += 1\n",
    "                else:\n",
    "                    stack -= 1\n",
    "            else:\n",
    "                stack +=1\n",
    "        return ans + stack\n"
   ]
  }
 ],
 "metadata": {
  "kernelspec": {
   "display_name": "Python 3 (ipykernel)",
   "language": "python",
   "name": "python3"
  },
  "language_info": {
   "codemirror_mode": {
    "name": "ipython",
    "version": 3
   },
   "file_extension": ".py",
   "mimetype": "text/x-python",
   "name": "python",
   "nbconvert_exporter": "python",
   "pygments_lexer": "ipython3",
   "version": "3.12.7"
  }
 },
 "nbformat": 4,
 "nbformat_minor": 5
}
