{
 "cells": [
  {
   "cell_type": "markdown",
   "id": "0311d97b-815f-41bf-9889-e0385698a727",
   "metadata": {},
   "source": [
    "Given an array of integers nums and an integer limit, return the size of the longest non-empty subarray such that the absolute difference between any two elements of this subarray is less than or equal to limit.\n",
    "\n",
    " \n",
    "\n",
    "Example 1:\n",
    "\n",
    "Input: nums = [8,2,4,7], limit = 4\n",
    "Output: 2 \n",
    "Explanation: All subarrays are: \n",
    "[8] with maximum absolute diff |8-8| = 0 <= 4.\n",
    "[8,2] with maximum absolute diff |8-2| = 6 > 4. \n",
    "[8,2,4] with maximum absolute diff |8-2| = 6 > 4.\n",
    "[8,2,4,7] with maximum absolute diff |8-2| = 6 > 4.\n",
    "[2] with maximum absolute diff |2-2| = 0 <= 4.\n",
    "[2,4] with maximum absolute diff |2-4| = 2 <= 4.\n",
    "[2,4,7] with maximum absolute diff |2-7| = 5 > 4.\n",
    "[4] with maximum absolute diff |4-4| = 0 <= 4.\n",
    "[4,7] with maximum absolute diff |4-7| = 3 <= 4.\n",
    "[7] with maximum absolute diff |7-7| = 0 <= 4. \n",
    "Therefore, the size of the longest subarray is 2.\n",
    "\n",
    "Example 2:\n",
    "\n",
    "Input: nums = [10,1,2,4,7,2], limit = 5\n",
    "Output: 4 \n",
    "Explanation: The subarray [2,4,7,2] is the longest since the maximum absolute diff is |2-7| = 5 <= 5.\n",
    "\n",
    "Example 3:\n",
    "\n",
    "Input: nums = [4,2,2,2,4,4,2,2], limit = 0\n",
    "Output: 3\n",
    "\n",
    " \n",
    "\n",
    "Constraints:\n",
    "\n",
    "    1 <= nums.length <= 105\n",
    "    1 <= nums[i] <= 109\n",
    "    0 <= limit <= 109\n",
    "\n"
   ]
  },
  {
   "cell_type": "code",
   "execution_count": null,
   "id": "df050f3d-517c-4dd6-856a-16d76d022e89",
   "metadata": {},
   "outputs": [],
   "source": [
    "class Solution:\n",
    "    def longestSubarray(self, nums: List[int], limit: int) -> int:\n",
    "        l = 0\n",
    "        ans = 1\n",
    "        cnt = defaultdict(int)\n",
    "        mn = mx = nums[0]\n",
    "        for r in range(0, len(nums)):\n",
    "            cnt[nums[r]] += 1\n",
    "            if nums[r] > mx:\n",
    "                mx = nums[r]\n",
    "            if nums[r] < mn:\n",
    "                mn = nums[r]\n",
    "            while l < r and (\n",
    "                mx - mn > limit\n",
    "            ):\n",
    "                cnt[nums[l]] -= 1\n",
    "                if cnt[nums[l]] == 0:\n",
    "                    del cnt[nums[l]]\n",
    "                    if nums[l] == mx:\n",
    "                        mx = max(cnt.keys())\n",
    "                    if nums[l] == mn:\n",
    "                        mn = min(cnt.keys())\n",
    "                l += 1\n",
    "            ans = max(ans, r - l + 1)\n",
    "        return ans\n",
    "        "
   ]
  }
 ],
 "metadata": {
  "kernelspec": {
   "display_name": "Python 3 (ipykernel)",
   "language": "python",
   "name": "python3"
  },
  "language_info": {
   "codemirror_mode": {
    "name": "ipython",
    "version": 3
   },
   "file_extension": ".py",
   "mimetype": "text/x-python",
   "name": "python",
   "nbconvert_exporter": "python",
   "pygments_lexer": "ipython3",
   "version": "3.12.3"
  }
 },
 "nbformat": 4,
 "nbformat_minor": 5
}
