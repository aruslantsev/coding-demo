{
 "cells": [
  {
   "cell_type": "markdown",
   "id": "c7d39e5f-0ff6-497a-bcea-0c2bcd70a522",
   "metadata": {},
   "source": [
    "There are two types of soup: type A and type B. Initially, we have n ml of each type of soup. There are four kinds of operations:\n",
    "\n",
    "    Serve 100 ml of soup A and 0 ml of soup B,\n",
    "    Serve 75 ml of soup A and 25 ml of soup B,\n",
    "    Serve 50 ml of soup A and 50 ml of soup B, and\n",
    "    Serve 25 ml of soup A and 75 ml of soup B.\n",
    "\n",
    "When we serve some soup, we give it to someone, and we no longer have it. Each turn, we will choose from the four operations with an equal probability 0.25. If the remaining volume of soup is not enough to complete the operation, we will serve as much as possible. We stop once we no longer have some quantity of both types of soup.\n",
    "\n",
    "Note that we do not have an operation where all 100 ml's of soup B are used first.\n",
    "\n",
    "Return the probability that soup A will be empty first, plus half the probability that A and B become empty at the same time. Answers within 10-5 of the actual answer will be accepted.\n",
    "\n",
    " \n",
    "\n",
    "Example 1:\n",
    "\n",
    "Input: n = 50\n",
    "Output: 0.62500\n",
    "Explanation: If we choose the first two operations, A will become empty first.\n",
    "For the third operation, A and B will become empty at the same time.\n",
    "For the fourth operation, B will become empty first.\n",
    "So the total probability of A becoming empty first plus half the probability that A and B become empty at the same time, is 0.25 * (1 + 1 + 0.5 + 0) = 0.625.\n",
    "\n",
    "Example 2:\n",
    "\n",
    "Input: n = 100\n",
    "Output: 0.71875\n",
    "\n",
    " \n",
    "\n",
    "Constraints:\n",
    "\n",
    "    0 <= n <= 109\n",
    "\n"
   ]
  },
  {
   "cell_type": "code",
   "execution_count": null,
   "id": "7c6049e2-0700-4fe0-80a2-027fb0a07043",
   "metadata": {},
   "outputs": [],
   "source": [
    "class Solution:\n",
    "    def soupServings(self, n: int) -> float:\n",
    "        steps = ceil(n / 25)\n",
    "        dp = defaultdict(dict)\n",
    "\n",
    "        def calc(i, j):\n",
    "            if i <= 0 and j <= 0:\n",
    "                return 0.5\n",
    "            if i <= 0:\n",
    "                return 1.0\n",
    "            if j <= 0:\n",
    "                return 0\n",
    "            if i in dp and j in dp[i]:\n",
    "                return dp[i][j]\n",
    "            \n",
    "            dp[i][j] = (\n",
    "                calc(i - 4, j) \n",
    "                + calc(i - 3, j - 1) \n",
    "                + calc (i - 2, j - 2) \n",
    "                + calc(i - 1, j - 3)\n",
    "            ) / 4\n",
    "            return dp[i][j]\n",
    "\n",
    "        for k in range(1, steps + 1):\n",
    "            if calc(k, k) > 1 - 1e-5:\n",
    "                return 1.0\n",
    "        return calc(steps, steps)"
   ]
  }
 ],
 "metadata": {
  "kernelspec": {
   "display_name": "Python 3 (ipykernel)",
   "language": "python",
   "name": "python3"
  },
  "language_info": {
   "codemirror_mode": {
    "name": "ipython",
    "version": 3
   },
   "file_extension": ".py",
   "mimetype": "text/x-python",
   "name": "python",
   "nbconvert_exporter": "python",
   "pygments_lexer": "ipython3",
   "version": "3.10.11"
  }
 },
 "nbformat": 4,
 "nbformat_minor": 5
}
