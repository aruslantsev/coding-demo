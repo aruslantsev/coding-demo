{
 "cells": [
  {
   "cell_type": "markdown",
   "id": "8c617294-dc4c-4b2d-8060-daa0a073953b",
   "metadata": {},
   "source": [
    "Given an array of positive integers nums, return the maximum possible sum of an ascending subarray in nums.\n",
    "\n",
    "A subarray is defined as a contiguous sequence of numbers in an array.\n",
    "\n",
    "A subarray [numsl, numsl+1, ..., numsr-1, numsr] is ascending if for all i where l <= i < r, numsi  < numsi+1. Note that a subarray of size 1 is ascending.\n",
    "\n",
    " \n",
    "\n",
    "Example 1:\n",
    "\n",
    "Input: nums = [10,20,30,5,10,50]\n",
    "Output: 65\n",
    "Explanation: [5,10,50] is the ascending subarray with the maximum sum of 65.\n",
    "\n",
    "Example 2:\n",
    "\n",
    "Input: nums = [10,20,30,40,50]\n",
    "Output: 150\n",
    "Explanation: [10,20,30,40,50] is the ascending subarray with the maximum sum of 150.\n",
    "\n",
    "Example 3:\n",
    "\n",
    "Input: nums = [12,17,15,13,10,11,12]\n",
    "Output: 33\n",
    "Explanation: [10,11,12] is the ascending subarray with the maximum sum of 33.\n",
    "\n",
    " \n",
    "\n",
    "Constraints:\n",
    "\n",
    "    1 <= nums.length <= 100\n",
    "    1 <= nums[i] <= 100\n",
    "\n"
   ]
  },
  {
   "cell_type": "code",
   "execution_count": null,
   "id": "b571e2e5-1001-42a0-a233-54542ce3cc56",
   "metadata": {},
   "outputs": [],
   "source": [
    "class Solution:\n",
    "    def maxAscendingSum(self, nums: List[int]) -> int:\n",
    "        curr_sum = nums[0]\n",
    "        ans = nums[0]\n",
    "        for i in range(1, len(nums)):\n",
    "            if nums[i] > nums[i - 1]:\n",
    "                curr_sum += nums[i]\n",
    "            else:\n",
    "                curr_sum = nums[i]\n",
    "            ans = max(ans, curr_sum)\n",
    "        return ans"
   ]
  }
 ],
 "metadata": {
  "kernelspec": {
   "display_name": "common",
   "language": "python",
   "name": "common"
  },
  "language_info": {
   "codemirror_mode": {
    "name": "ipython",
    "version": 3
   },
   "file_extension": ".py",
   "mimetype": "text/x-python",
   "name": "python",
   "nbconvert_exporter": "python",
   "pygments_lexer": "ipython3",
   "version": "3.12.4"
  }
 },
 "nbformat": 4,
 "nbformat_minor": 5
}
