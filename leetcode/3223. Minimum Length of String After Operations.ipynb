{
 "cells": [
  {
   "cell_type": "markdown",
   "id": "ce7b8ad6-128c-4a29-abae-e4be992ed34d",
   "metadata": {},
   "source": [
    "You are given a string s.\n",
    "\n",
    "You can perform the following process on s any number of times:\n",
    "\n",
    "    Choose an index i in the string such that there is at least one character to the left of index i that is equal to s[i], and at least one character to the right that is also equal to s[i].\n",
    "    Delete the closest character to the left of index i that is equal to s[i].\n",
    "    Delete the closest character to the right of index i that is equal to s[i].\n",
    "\n",
    "Return the minimum length of the final string s that you can achieve.\n",
    "\n",
    " \n",
    "\n",
    "Example 1:\n",
    "\n",
    "Input: s = \"abaacbcbb\"\n",
    "\n",
    "Output: 5\n",
    "\n",
    "Explanation:\n",
    "We do the following operations:\n",
    "\n",
    "    Choose index 2, then remove the characters at indices 0 and 3. The resulting string is s = \"bacbcbb\".\n",
    "    Choose index 3, then remove the characters at indices 0 and 5. The resulting string is s = \"acbcb\".\n",
    "\n",
    "Example 2:\n",
    "\n",
    "Input: s = \"aa\"\n",
    "\n",
    "Output: 2\n",
    "\n",
    "Explanation:\n",
    "We cannot perform any operations, so we return the length of the original string.\n",
    "\n",
    " \n",
    "\n",
    "Constraints:\n",
    "\n",
    "    1 <= s.length <= 2 * 105\n",
    "    s consists only of lowercase English letters.\n",
    "\n"
   ]
  },
  {
   "cell_type": "code",
   "execution_count": null,
   "id": "8d2eb7ac-83de-440f-b9ed-dd8b22de8870",
   "metadata": {},
   "outputs": [],
   "source": [
    "class Solution:\n",
    "    def minimumLength(self, s: str) -> int:\n",
    "        cnt = Counter(s)\n",
    "        ans = 0\n",
    "        for v in cnt.values():\n",
    "            v %= 2\n",
    "            if v == 0:\n",
    "                v += 2\n",
    "            ans += v\n",
    "        return ans\n",
    "        "
   ]
  },
  {
   "cell_type": "code",
   "execution_count": null,
   "id": "21e45c7e-8049-4f4c-9e82-c4b020a4836f",
   "metadata": {},
   "outputs": [],
   "source": [
    "class Solution:\n",
    "    def minimumLength(self, s: str) -> int:\n",
    "        cnt = Counter(s)\n",
    "        ans = 0\n",
    "        for v in cnt.values():\n",
    "            while v >= 3:\n",
    "                v -= 2\n",
    "            ans += v\n",
    "        return ans\n",
    "        "
   ]
  },
  {
   "cell_type": "code",
   "execution_count": null,
   "id": "c665d8a1-4cbb-4ef6-8308-13b0365da7a7",
   "metadata": {},
   "outputs": [],
   "source": [
    "class Solution:\n",
    "    def minimumLength(self, s: str) -> int:\n",
    "        # Step 1: Count the frequency of each character in the string\n",
    "        char_frequency_map = Counter(s)\n",
    "\n",
    "        # Step 2: Calculate the number of characters to delete\n",
    "        delete_count = 0\n",
    "        for frequency in char_frequency_map.values():\n",
    "            if frequency % 2 == 1:\n",
    "                # If frequency is odd, delete all except one\n",
    "                delete_count += frequency - 1\n",
    "            else:\n",
    "                # If frequency is even, delete all except two\n",
    "                delete_count += frequency - 2\n",
    "\n",
    "        # Step 3: Return the minimum length after deletions\n",
    "        return len(s) - delete_count"
   ]
  }
 ],
 "metadata": {
  "kernelspec": {
   "display_name": "Python 3 (ipykernel)",
   "language": "python",
   "name": "python3"
  },
  "language_info": {
   "codemirror_mode": {
    "name": "ipython",
    "version": 3
   },
   "file_extension": ".py",
   "mimetype": "text/x-python",
   "name": "python",
   "nbconvert_exporter": "python",
   "pygments_lexer": "ipython3",
   "version": "3.12.7"
  }
 },
 "nbformat": 4,
 "nbformat_minor": 5
}
