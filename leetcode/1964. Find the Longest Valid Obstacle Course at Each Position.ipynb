{
 "cells": [
  {
   "cell_type": "markdown",
   "id": "9d548b98-c96e-41d7-8e83-623fed4a7eda",
   "metadata": {},
   "source": [
    "You want to build some obstacle courses. You are given a 0-indexed integer array obstacles of length n, where obstacles[i] describes the height of the ith obstacle.\n",
    "\n",
    "For every index i between 0 and n - 1 (inclusive), find the length of the longest obstacle course in obstacles such that:\n",
    "\n",
    "    You choose any number of obstacles between 0 and i inclusive.\n",
    "    You must include the ith obstacle in the course.\n",
    "    You must put the chosen obstacles in the same order as they appear in obstacles.\n",
    "    Every obstacle (except the first) is taller than or the same height as the obstacle immediately before it.\n",
    "\n",
    "Return an array ans of length n, where ans[i] is the length of the longest obstacle course for index i as described above.\n",
    "\n",
    " \n",
    "\n",
    "Example 1:\n",
    "\n",
    "Input: obstacles = [1,2,3,2]\n",
    "Output: [1,2,3,3]\n",
    "Explanation: The longest valid obstacle course at each position is:\n",
    "- i = 0: [1], [1] has length 1.\n",
    "- i = 1: [1,2], [1,2] has length 2.\n",
    "- i = 2: [1,2,3], [1,2,3] has length 3.\n",
    "- i = 3: [1,2,3,2], [1,2,2] has length 3.\n",
    "\n",
    "Example 2:\n",
    "\n",
    "Input: obstacles = [2,2,1]\n",
    "Output: [1,2,1]\n",
    "Explanation: The longest valid obstacle course at each position is:\n",
    "- i = 0: [2], [2] has length 1.\n",
    "- i = 1: [2,2], [2,2] has length 2.\n",
    "- i = 2: [2,2,1], [1] has length 1.\n",
    "\n",
    "Example 3:\n",
    "\n",
    "Input: obstacles = [3,1,5,6,4,2]\n",
    "Output: [1,1,2,3,2,2]\n",
    "Explanation: The longest valid obstacle course at each position is:\n",
    "- i = 0: [3], [3] has length 1.\n",
    "- i = 1: [3,1], [1] has length 1.\n",
    "- i = 2: [3,1,5], [3,5] has length 2. [1,5] is also valid.\n",
    "- i = 3: [3,1,5,6], [3,5,6] has length 3. [1,5,6] is also valid.\n",
    "- i = 4: [3,1,5,6,4], [3,4] has length 2. [1,4] is also valid.\n",
    "- i = 5: [3,1,5,6,4,2], [1,2] has length 2.\n",
    "\n",
    " \n",
    "\n",
    "Constraints:\n",
    "\n",
    "    n == obstacles.length\n",
    "    1 <= n <= 105\n",
    "    1 <= obstacles[i] <= 107\n",
    "\n"
   ]
  },
  {
   "cell_type": "code",
   "execution_count": 11,
   "id": "646528bd-ffa0-4c99-8440-ae5f1eda63f6",
   "metadata": {},
   "outputs": [],
   "source": [
    "from typing import List\n",
    "import bisect\n",
    "\n",
    "class Solution:\n",
    "    def longestObstacleCourseAtEachPosition(self, obstacles: List[int]) -> List[int]:\n",
    "        lis = []\n",
    "        ans = []\n",
    "        for obstacle in obstacles:\n",
    "            idx = bisect.bisect_right(lis, obstacle)\n",
    "            if idx == len(lis):\n",
    "                lis.append(obstacle)\n",
    "            else:\n",
    "                lis[idx] = obstacle\n",
    "            ans.append(idx + 1)\n",
    "        return ans"
   ]
  },
  {
   "cell_type": "code",
   "execution_count": 12,
   "id": "9eb3c418-5941-4221-94a4-726c077f1d69",
   "metadata": {},
   "outputs": [
    {
     "data": {
      "text/plain": [
       "[1, 2, 3, 3]"
      ]
     },
     "execution_count": 12,
     "metadata": {},
     "output_type": "execute_result"
    }
   ],
   "source": [
    "s = Solution()\n",
    "s.longestObstacleCourseAtEachPosition([1, 2, 3, 2])"
   ]
  },
  {
   "cell_type": "code",
   "execution_count": null,
   "id": "7c8abaea-21a5-4617-9743-29482b6729d8",
   "metadata": {},
   "outputs": [],
   "source": []
  }
 ],
 "metadata": {
  "kernelspec": {
   "display_name": "Python 3 (ipykernel)",
   "language": "python",
   "name": "python3"
  },
  "language_info": {
   "codemirror_mode": {
    "name": "ipython",
    "version": 3
   },
   "file_extension": ".py",
   "mimetype": "text/x-python",
   "name": "python",
   "nbconvert_exporter": "python",
   "pygments_lexer": "ipython3",
   "version": "3.10.11"
  }
 },
 "nbformat": 4,
 "nbformat_minor": 5
}
