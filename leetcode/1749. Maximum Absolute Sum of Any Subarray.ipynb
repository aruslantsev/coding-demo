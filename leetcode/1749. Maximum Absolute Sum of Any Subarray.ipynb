{
 "cells": [
  {
   "cell_type": "markdown",
   "id": "d282a346-06cd-4506-9b63-7cb54ebfe1cf",
   "metadata": {},
   "source": [
    "You are given an integer array nums. The absolute sum of a subarray [numsl, numsl+1, ..., numsr-1, numsr] is abs(numsl + numsl+1 + ... + numsr-1 + numsr).\n",
    "\n",
    "Return the maximum absolute sum of any (possibly empty) subarray of nums.\n",
    "\n",
    "Note that abs(x) is defined as follows:\n",
    "\n",
    "    If x is a negative integer, then abs(x) = -x.\n",
    "    If x is a non-negative integer, then abs(x) = x.\n",
    "\n",
    " \n",
    "\n",
    "Example 1:\n",
    "\n",
    "Input: nums = [1,-3,2,3,-4]\n",
    "Output: 5\n",
    "Explanation: The subarray [2,3] has absolute sum = abs(2+3) = abs(5) = 5.\n",
    "\n",
    "Example 2:\n",
    "\n",
    "Input: nums = [2,-5,1,-4,3,-2]\n",
    "Output: 8\n",
    "Explanation: The subarray [-5,1,-4] has absolute sum = abs(-5+1-4) = abs(-8) = 8.\n",
    "\n",
    " \n",
    "\n",
    "Constraints:\n",
    "\n",
    "    1 <= nums.length <= 105\n",
    "    -104 <= nums[i] <= 104\n",
    "\n"
   ]
  },
  {
   "cell_type": "code",
   "execution_count": null,
   "id": "5293e8a9-0bc8-4c92-a92e-b881021fbce4",
   "metadata": {},
   "outputs": [],
   "source": [
    "class Solution:\n",
    "    def maxAbsoluteSum(self, nums: List[int]) -> int:\n",
    "        ans = float(\"-inf\")\n",
    "        max_sum = min_sum = 0\n",
    "        for num in nums:\n",
    "            max_sum = max(max_sum + num, num)\n",
    "            min_sum = min(min_sum + num, num)\n",
    "            ans = max(ans, abs(max_sum), abs(min_sum))\n",
    "        return ans"
   ]
  }
 ],
 "metadata": {
  "kernelspec": {
   "display_name": "Python 3 (ipykernel)",
   "language": "python",
   "name": "python3"
  },
  "language_info": {
   "codemirror_mode": {
    "name": "ipython",
    "version": 3
   },
   "file_extension": ".py",
   "mimetype": "text/x-python",
   "name": "python",
   "nbconvert_exporter": "python",
   "pygments_lexer": "ipython3",
   "version": "3.12.7"
  }
 },
 "nbformat": 4,
 "nbformat_minor": 5
}
