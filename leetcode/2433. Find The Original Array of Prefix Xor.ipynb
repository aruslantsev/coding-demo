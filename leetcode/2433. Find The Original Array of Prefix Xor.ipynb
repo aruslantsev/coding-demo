{
 "cells": [
  {
   "cell_type": "markdown",
   "id": "89636a7e-529c-46da-a902-51c549962a15",
   "metadata": {},
   "source": [
    "You are given an integer array pref of size n. Find and return the array arr of size n that satisfies:\n",
    "\n",
    "    pref[i] = arr[0] ^ arr[1] ^ ... ^ arr[i].\n",
    "\n",
    "Note that ^ denotes the bitwise-xor operation.\n",
    "\n",
    "It can be proven that the answer is unique.\n",
    "\n",
    " \n",
    "\n",
    "Example 1:\n",
    "\n",
    "Input: pref = [5,2,0,3,1]\n",
    "Output: [5,7,2,3,2]\n",
    "Explanation: From the array [5,7,2,3,2] we have the following:\n",
    "- pref[0] = 5.\n",
    "- pref[1] = 5 ^ 7 = 2.\n",
    "- pref[2] = 5 ^ 7 ^ 2 = 0.\n",
    "- pref[3] = 5 ^ 7 ^ 2 ^ 3 = 3.\n",
    "- pref[4] = 5 ^ 7 ^ 2 ^ 3 ^ 2 = 1.\n",
    "\n",
    "Example 2:\n",
    "\n",
    "Input: pref = [13]\n",
    "Output: [13]\n",
    "Explanation: We have pref[0] = arr[0] = 13.\n",
    "\n",
    " \n",
    "\n",
    "Constraints:\n",
    "\n",
    "    1 <= pref.length <= 105\n",
    "    0 <= pref[i] <= 106\n",
    "\n"
   ]
  },
  {
   "cell_type": "code",
   "execution_count": null,
   "id": "5e9f5fa7-9cca-4659-aa48-a24ed5205a5f",
   "metadata": {},
   "outputs": [],
   "source": [
    "class Solution:\n",
    "    def findArray(self, pref: List[int]) -> List[int]:\n",
    "        prev = pref[0]\n",
    "        for i in range(1, len(pref)):\n",
    "            pref[i] = prev ^ pref[i]\n",
    "            prev ^= pref[i]\n",
    "            # res = 0\n",
    "            # for j in range(i + 1):\n",
    "            #     res ^= pref[j]\n",
    "            # pref[i] = res\n",
    "        return pref"
   ]
  },
  {
   "cell_type": "code",
   "execution_count": null,
   "id": "355baee7-135d-44f7-88c1-aea72e69a927",
   "metadata": {},
   "outputs": [],
   "source": [
    "class Solution:\n",
    "    def findArray(self, pref: List[int]) -> List[int]:\n",
    "        for i in range(len(pref) - 1, 0, -1):\n",
    "            pref[i] ^= pref[i - 1]\n",
    "        return pref"
   ]
  }
 ],
 "metadata": {
  "kernelspec": {
   "display_name": "Python 3 (ipykernel)",
   "language": "python",
   "name": "python3"
  },
  "language_info": {
   "codemirror_mode": {
    "name": "ipython",
    "version": 3
   },
   "file_extension": ".py",
   "mimetype": "text/x-python",
   "name": "python",
   "nbconvert_exporter": "python",
   "pygments_lexer": "ipython3",
   "version": "3.11.4"
  }
 },
 "nbformat": 4,
 "nbformat_minor": 5
}
