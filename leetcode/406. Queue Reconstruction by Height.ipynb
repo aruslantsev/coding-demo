{
 "cells": [
  {
   "cell_type": "markdown",
   "id": "87981972-841d-4d70-8c1b-ab30676de708",
   "metadata": {},
   "source": [
    "You are given an array of people, people, which are the attributes of some people in a queue (not necessarily in order). Each people[i] = [hi, ki] represents the ith person of height hi with exactly ki other people in front who have a height greater than or equal to hi.\n",
    "\n",
    "Reconstruct and return the queue that is represented by the input array people. The returned queue should be formatted as an array queue, where queue[j] = [hj, kj] is the attributes of the jth person in the queue (queue[0] is the person at the front of the queue).\n",
    "\n",
    " \n",
    "\n",
    "Example 1:\n",
    "\n",
    "Input: people = [[7,0],[4,4],[7,1],[5,0],[6,1],[5,2]]\n",
    "Output: [[5,0],[7,0],[5,2],[6,1],[4,4],[7,1]]\n",
    "Explanation:\n",
    "Person 0 has height 5 with no other people taller or the same height in front.\n",
    "Person 1 has height 7 with no other people taller or the same height in front.\n",
    "Person 2 has height 5 with two persons taller or the same height in front, which is person 0 and 1.\n",
    "Person 3 has height 6 with one person taller or the same height in front, which is person 1.\n",
    "Person 4 has height 4 with four people taller or the same height in front, which are people 0, 1, 2, and 3.\n",
    "Person 5 has height 7 with one person taller or the same height in front, which is person 1.\n",
    "Hence [[5,0],[7,0],[5,2],[6,1],[4,4],[7,1]] is the reconstructed queue.\n",
    "\n",
    "Example 2:\n",
    "\n",
    "Input: people = [[6,0],[5,0],[4,0],[3,2],[2,2],[1,4]]\n",
    "Output: [[4,0],[5,0],[2,2],[3,2],[1,4],[6,0]]\n",
    "\n",
    " \n",
    "\n",
    "Constraints:\n",
    "\n",
    "    1 <= people.length <= 2000\n",
    "    0 <= hi <= 106\n",
    "    0 <= ki < people.length\n",
    "    It is guaranteed that the queue can be reconstructed.\n",
    "\n"
   ]
  },
  {
   "cell_type": "code",
   "execution_count": 22,
   "id": "5ca42ed5-bc7c-4e38-b3bd-6bfc498ee510",
   "metadata": {},
   "outputs": [],
   "source": [
    "from typing import List\n",
    "\n",
    "class Solution:\n",
    "    def reconstructQueue(self, people: List[List[int]]) -> List[List[int]]:\n",
    "        positions = [None] * len(people)\n",
    "        people_sorted = sorted(people, key=lambda x: (x[0], -x[1]))\n",
    "\n",
    "        rank = 0\n",
    "        for man in people_sorted:\n",
    "            counter = 0\n",
    "            for i, status in enumerate(positions):\n",
    "                if status is None:\n",
    "                    counter += 1\n",
    "                    if counter > man[1]:\n",
    "                        positions[i] = man\n",
    "                        break\n",
    "\n",
    "        return positions\n",
    "    "
   ]
  },
  {
   "cell_type": "code",
   "execution_count": 25,
   "id": "ebe2de47-0eb0-40d2-aaec-26795e5ef0f7",
   "metadata": {},
   "outputs": [],
   "source": [
    "from typing import List\n",
    "\n",
    "class Solution:\n",
    "    def reconstructQueue(self, people: List[List[int]]) -> List[List[int]]:\n",
    "        positions = [None] * len(people)\n",
    "        free_pos = list(range(len(people)))\n",
    "        people_sorted = sorted(people, key=lambda x: (x[0], -x[1]))\n",
    "\n",
    "        rank = 0\n",
    "        for man in people_sorted:\n",
    "            positions[free_pos[man[1]]] = man\n",
    "            free_pos.pop(man[1])\n",
    "\n",
    "        return positions\n",
    "    "
   ]
  },
  {
   "cell_type": "code",
   "execution_count": 26,
   "id": "4d0700c0-ecef-48d1-8d44-0e2d7d89ad23",
   "metadata": {},
   "outputs": [
    {
     "data": {
      "text/plain": [
       "[[4, 0], [5, 0], [2, 2], [3, 2], [1, 4], [6, 0]]"
      ]
     },
     "execution_count": 26,
     "metadata": {},
     "output_type": "execute_result"
    }
   ],
   "source": [
    "s = Solution()\n",
    "s.reconstructQueue([[6,0],[5,0],[4,0],[3,2],[2,2],[1,4]]) #[[4,0],[5,0],[2,2],[3,2],[1,4],[6,0]]"
   ]
  },
  {
   "cell_type": "code",
   "execution_count": 27,
   "id": "78119c6c-49c7-46c9-b6c5-ce2c78d40d7b",
   "metadata": {},
   "outputs": [
    {
     "data": {
      "text/plain": [
       "[[5, 0], [7, 0], [5, 2], [6, 1], [4, 4], [7, 1]]"
      ]
     },
     "execution_count": 27,
     "metadata": {},
     "output_type": "execute_result"
    }
   ],
   "source": [
    "s.reconstructQueue([[7,0],[4,4],[7,1],[5,0],[6,1],[5,2]]) # [[5,0],[7,0],[5,2],[6,1],[4,4],[7,1]]"
   ]
  },
  {
   "cell_type": "code",
   "execution_count": null,
   "id": "d9cad73e-446c-4460-9f35-10d7447a34df",
   "metadata": {},
   "outputs": [],
   "source": []
  }
 ],
 "metadata": {
  "kernelspec": {
   "display_name": "Python 3 (ipykernel)",
   "language": "python",
   "name": "python3"
  },
  "language_info": {
   "codemirror_mode": {
    "name": "ipython",
    "version": 3
   },
   "file_extension": ".py",
   "mimetype": "text/x-python",
   "name": "python",
   "nbconvert_exporter": "python",
   "pygments_lexer": "ipython3",
   "version": "3.9.12"
  }
 },
 "nbformat": 4,
 "nbformat_minor": 5
}
