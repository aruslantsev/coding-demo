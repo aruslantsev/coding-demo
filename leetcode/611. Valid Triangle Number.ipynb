{
 "cells": [
  {
   "cell_type": "markdown",
   "id": "b770a35d-dd10-497a-be6d-ea029de96cdc",
   "metadata": {},
   "source": [
    "Given an integer array nums, return the number of triplets chosen from the array that can make triangles if we take them as side lengths of a triangle.\n",
    "\n",
    " \n",
    "\n",
    "Example 1:\n",
    "\n",
    "Input: nums = [2,2,3,4]\n",
    "Output: 3\n",
    "Explanation: Valid combinations are: \n",
    "2,3,4 (using the first 2)\n",
    "2,3,4 (using the second 2)\n",
    "2,2,3\n",
    "\n",
    "Example 2:\n",
    "\n",
    "Input: nums = [4,2,3,4]\n",
    "Output: 4\n",
    "\n",
    " \n",
    "\n",
    "Constraints:\n",
    "\n",
    "    1 <= nums.length <= 1000\n",
    "    0 <= nums[i] <= 1000\n",
    "\n"
   ]
  },
  {
   "cell_type": "code",
   "execution_count": null,
   "id": "d8aec308-2b34-4efb-b1fc-2e16734dd060",
   "metadata": {},
   "outputs": [],
   "source": [
    "class Solution:\n",
    "    def triangleNumber(self, nums: List[int]) -> int:\n",
    "        nums.sort()\n",
    "        ans = 0\n",
    "        for i in range(len(nums) - 2):\n",
    "            if nums[i] == 0:\n",
    "                continue\n",
    "            k = i + 2\n",
    "            for j in range(i + 1, len(nums) - 1):\n",
    "                while k < len(nums) and nums[i] + nums[j] > nums[k]:\n",
    "                    k += 1\n",
    "                ans += k - j - 1\n",
    "        return ans\n"
   ]
  }
 ],
 "metadata": {
  "kernelspec": {
   "display_name": "Python 3 (ipykernel)",
   "language": "python",
   "name": "python3"
  },
  "language_info": {
   "codemirror_mode": {
    "name": "ipython",
    "version": 3
   },
   "file_extension": ".py",
   "mimetype": "text/x-python",
   "name": "python",
   "nbconvert_exporter": "python",
   "pygments_lexer": "ipython3",
   "version": "3.13.5"
  }
 },
 "nbformat": 4,
 "nbformat_minor": 5
}
