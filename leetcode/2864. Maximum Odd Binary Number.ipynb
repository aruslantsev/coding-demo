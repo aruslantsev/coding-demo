{
 "cells": [
  {
   "cell_type": "markdown",
   "id": "6bcff74a-a26f-4bf3-82f8-19e1cf3549eb",
   "metadata": {},
   "source": [
    "You are given a binary string s that contains at least one '1'.\n",
    "\n",
    "You have to rearrange the bits in such a way that the resulting binary number is the maximum odd binary number that can be created from this combination.\n",
    "\n",
    "Return a string representing the maximum odd binary number that can be created from the given combination.\n",
    "\n",
    "Note that the resulting string can have leading zeros.\n",
    "\n",
    " \n",
    "\n",
    "Example 1:\n",
    "\n",
    "Input: s = \"010\"\n",
    "Output: \"001\"\n",
    "Explanation: Because there is just one '1', it must be in the last position. So the answer is \"001\".\n",
    "\n",
    "Example 2:\n",
    "\n",
    "Input: s = \"0101\"\n",
    "Output: \"1001\"\n",
    "Explanation: One of the '1's must be in the last position. The maximum number that can be made with the remaining digits is \"100\". So the answer is \"1001\".\n",
    "\n",
    " \n",
    "\n",
    "Constraints:\n",
    "\n",
    "    1 <= s.length <= 100\n",
    "    s consists only of '0' and '1'.\n",
    "    s contains at least one '1'.\n",
    "\n"
   ]
  },
  {
   "cell_type": "code",
   "execution_count": null,
   "id": "a43aaae6-7dcf-47ee-ba35-deccd1468f1c",
   "metadata": {},
   "outputs": [],
   "source": [
    "class Solution:\n",
    "    def maximumOddBinaryNumber(self, s: str) -> str:\n",
    "        ones = s.count(\"1\")\n",
    "        ans = \"1\" * (ones - 1) + \"0\" * (len(s) - ones) + \"1\"\n",
    "        return ans"
   ]
  }
 ],
 "metadata": {
  "kernelspec": {
   "display_name": "Python 3 (ipykernel)",
   "language": "python",
   "name": "python3"
  },
  "language_info": {
   "codemirror_mode": {
    "name": "ipython",
    "version": 3
   },
   "file_extension": ".py",
   "mimetype": "text/x-python",
   "name": "python",
   "nbconvert_exporter": "python",
   "pygments_lexer": "ipython3",
   "version": "3.11.7"
  }
 },
 "nbformat": 4,
 "nbformat_minor": 5
}
