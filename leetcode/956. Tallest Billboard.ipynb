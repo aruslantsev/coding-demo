{
 "cells": [
  {
   "cell_type": "markdown",
   "id": "3c12a01b-f04c-4e03-9eb1-ce9cb87f3691",
   "metadata": {},
   "source": [
    "You are installing a billboard and want it to have the largest height. The billboard will have two steel supports, one on each side. Each steel support must be an equal height.\n",
    "\n",
    "You are given a collection of rods that can be welded together. For example, if you have rods of lengths 1, 2, and 3, you can weld them together to make a support of length 6.\n",
    "\n",
    "Return the largest possible height of your billboard installation. If you cannot support the billboard, return 0.\n",
    "\n",
    " \n",
    "\n",
    "Example 1:\n",
    "\n",
    "Input: rods = [1,2,3,6]\n",
    "Output: 6\n",
    "Explanation: We have two disjoint subsets {1,2,3} and {6}, which have the same sum = 6.\n",
    "\n",
    "Example 2:\n",
    "\n",
    "Input: rods = [1,2,3,4,5,6]\n",
    "Output: 10\n",
    "Explanation: We have two disjoint subsets {2,3,5} and {4,6}, which have the same sum = 10.\n",
    "\n",
    "Example 3:\n",
    "\n",
    "Input: rods = [1,2]\n",
    "Output: 0\n",
    "Explanation: The billboard cannot be supported, so we return 0.\n",
    "\n",
    " \n",
    "\n",
    "Constraints:\n",
    "\n",
    "    1 <= rods.length <= 20\n",
    "    1 <= rods[i] <= 1000\n",
    "    sum(rods[i]) <= 5000\n",
    "\n"
   ]
  },
  {
   "cell_type": "code",
   "execution_count": null,
   "id": "d42ab839-cd76-42b0-9aa7-b920b372cd45",
   "metadata": {},
   "outputs": [],
   "source": [
    "class Solution:\n",
    "    def tallestBillboard(self, rods: List[int]) -> int:\n",
    "        def helper(half_rods):\n",
    "            states = set()\n",
    "            states.add((0, 0))\n",
    "            for r in half_rods:\n",
    "                new_states = set()\n",
    "                for left, right in states:\n",
    "                    new_states.add((left + r, right))\n",
    "                    new_states.add((left, right + r))\n",
    "                states |= new_states\n",
    "                \n",
    "            dp = {}\n",
    "            for left, right in states:\n",
    "                dp[left - right] = max(dp.get(left - right, 0), left)\n",
    "            return dp\n",
    "\n",
    "        n = len(rods)\n",
    "        first_half = helper(rods[:n // 2])\n",
    "        second_half = helper(rods[n // 2:])\n",
    "\n",
    "        answer = 0\n",
    "        for diff in first_half:\n",
    "            if -diff in second_half:\n",
    "                answer = max(answer, first_half[diff] + second_half[-diff])\n",
    "        return answer"
   ]
  }
 ],
 "metadata": {
  "kernelspec": {
   "display_name": "Python 3 (ipykernel)",
   "language": "python",
   "name": "python3"
  },
  "language_info": {
   "codemirror_mode": {
    "name": "ipython",
    "version": 3
   },
   "file_extension": ".py",
   "mimetype": "text/x-python",
   "name": "python",
   "nbconvert_exporter": "python",
   "pygments_lexer": "ipython3",
   "version": "3.10.11"
  }
 },
 "nbformat": 4,
 "nbformat_minor": 5
}
