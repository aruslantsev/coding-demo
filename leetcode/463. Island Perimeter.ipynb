{
 "cells": [
  {
   "attachments": {
    "727f4450-4345-4e7f-9a99-d21159fcf8cd.png": {
     "image/png": "[encoded data removed]"
    }
   },
   "cell_type": "markdown",
   "id": "1042cc3b-2374-4bca-82ac-242d3186109c",
   "metadata": {},
   "source": [
    "You are given row x col grid representing a map where grid[i][j] = 1 represents land and grid[i][j] = 0 represents water.\n",
    "\n",
    "Grid cells are connected horizontally/vertically (not diagonally). The grid is completely surrounded by water, and there is exactly one island (i.e., one or more connected land cells).\n",
    "\n",
    "The island doesn't have \"lakes\", meaning the water inside isn't connected to the water around the island. One cell is a square with side length 1. The grid is rectangular, width and height don't exceed 100. Determine the perimeter of the island.\n",
    "\n",
    " \n",
    "\n",
    "Example 1:\n",
    "\n",
    "![image.png](attachment:727f4450-4345-4e7f-9a99-d21159fcf8cd.png)\n",
    "\n",
    "Input: grid = [[0,1,0,0],[1,1,1,0],[0,1,0,0],[1,1,0,0]]\n",
    "Output: 16\n",
    "Explanation: The perimeter is the 16 yellow stripes in the image above.\n",
    "\n",
    "Example 2:\n",
    "\n",
    "Input: grid = [[1]]\n",
    "Output: 4\n",
    "\n",
    "Example 3:\n",
    "\n",
    "Input: grid = [[1,0]]\n",
    "Output: 4\n",
    "\n",
    " \n",
    "\n",
    "Constraints:\n",
    "\n",
    "    row == grid.length\n",
    "    col == grid[i].length\n",
    "    1 <= row, col <= 100\n",
    "    grid[i][j] is 0 or 1.\n",
    "    There is exactly one island in grid.\n",
    "\n"
   ]
  },
  {
   "cell_type": "code",
   "execution_count": null,
   "id": "058417c4-37f2-4dcb-a201-42453bebe96d",
   "metadata": {},
   "outputs": [],
   "source": [
    "class Solution:\n",
    "    def islandPerimeter(self, grid: List[List[int]]) -> int:\n",
    "        ans = 0\n",
    "        for row in grid:\n",
    "            row.insert(0, 0)\n",
    "            row.append(0)\n",
    "        grid.insert(0, [0 for _ in grid[0]])\n",
    "        grid.append([0 for _ in grid[0]])\n",
    "        for row in grid:\n",
    "            print(row)\n",
    "        for i in range(len(grid)):\n",
    "            for j in range(len(grid[0])):\n",
    "                if grid[i][j] == 1:\n",
    "                    if grid[i - 1][j] == 0:\n",
    "                        ans += 1\n",
    "                    if grid[i + 1][j] == 0:\n",
    "                        ans += 1\n",
    "                    if grid[i][j - 1] == 0:\n",
    "                        ans += 1\n",
    "                    if grid[i][j + 1] == 0:\n",
    "                        ans += 1\n",
    "                    print(i, j, ans)\n",
    "        return ans\n",
    "        "
   ]
  }
 ],
 "metadata": {
  "kernelspec": {
   "display_name": "common",
   "language": "python",
   "name": "common"
  },
  "language_info": {
   "codemirror_mode": {
    "name": "ipython",
    "version": 3
   },
   "file_extension": ".py",
   "mimetype": "text/x-python",
   "name": "python",
   "nbconvert_exporter": "python",
   "pygments_lexer": "ipython3",
   "version": "3.11.9"
  }
 },
 "nbformat": 4,
 "nbformat_minor": 5
}
