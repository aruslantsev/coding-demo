{
 "cells": [
  {
   "attachments": {
    "6afa6f91-368e-4a40-9abb-41a38a9aaf82.png": {
     "image/png": "[encoded data removed]"
    },
    "889bdbf5-9b28-4963-bc08-38694bc57b82.png": {
     "image/png": "[encoded data removed]"
    }
   },
   "cell_type": "markdown",
   "id": "bc74fb2f-ca94-4bf9-a31c-fdb0ae55ef20",
   "metadata": {},
   "source": [
    "You are given a directed graph of n nodes numbered from 0 to n - 1, where each node has at most one outgoing edge.\n",
    "\n",
    "The graph is represented with a given 0-indexed array edges of size n, indicating that there is a directed edge from node i to node edges[i]. If there is no outgoing edge from i, then edges[i] == -1.\n",
    "\n",
    "You are also given two integers node1 and node2.\n",
    "\n",
    "Return the index of the node that can be reached from both node1 and node2, such that the maximum between the distance from node1 to that node, and from node2 to that node is minimized. If there are multiple answers, return the node with the smallest index, and if no possible answer exists, return -1.\n",
    "\n",
    "Note that edges may contain cycles.\n",
    "\n",
    " \n",
    "\n",
    "Example 1:\n",
    "\n",
    "![изображение.png](attachment:6afa6f91-368e-4a40-9abb-41a38a9aaf82.png)\n",
    "\n",
    "Input: edges = [2,2,3,-1], node1 = 0, node2 = 1\n",
    "Output: 2\n",
    "Explanation: The distance from node 0 to node 2 is 1, and the distance from node 1 to node 2 is 1.\n",
    "The maximum of those two distances is 1. It can be proven that we cannot get a node with a smaller maximum distance than 1, so we return node 2.\n",
    "\n",
    "Example 2:\n",
    "\n",
    "![изображение.png](attachment:889bdbf5-9b28-4963-bc08-38694bc57b82.png)\n",
    "\n",
    "Input: edges = [1,2,-1], node1 = 0, node2 = 2\n",
    "Output: 2\n",
    "Explanation: The distance from node 0 to node 2 is 2, and the distance from node 2 to itself is 0.\n",
    "The maximum of those two distances is 2. It can be proven that we cannot get a node with a smaller maximum distance than 2, so we return node 2.\n",
    "\n",
    " \n",
    "\n",
    "Constraints:\n",
    "\n",
    "    n == edges.length\n",
    "    2 <= n <= 105\n",
    "    -1 <= edges[i] < n\n",
    "    edges[i] != i\n",
    "    0 <= node1, node2 < n\n",
    "\n"
   ]
  },
  {
   "cell_type": "code",
   "execution_count": 7,
   "id": "5ac1165b-fc0c-4263-9bbe-8ba236868c87",
   "metadata": {},
   "outputs": [],
   "source": [
    "from typing import List\n",
    "from collections import deque\n",
    "\n",
    "class Solution:\n",
    "    def closestMeetingNode(self, edges: List[int], node1: int, node2: int) -> int:\n",
    "        def bfs(graph, start):\n",
    "            distances = [-1 for _ in graph]\n",
    "            q = deque()\n",
    "            q.append([start, 0])\n",
    "            while q:\n",
    "                curr, dist = q.popleft()\n",
    "                distances[curr] = dist\n",
    "                nxt = graph[curr]\n",
    "                if nxt != -1 and distances[nxt] == -1:\n",
    "                    q.append([nxt, dist + 1])\n",
    "        \n",
    "            return distances\n",
    "        \n",
    "        dist1 = bfs(edges, node1)\n",
    "        dist2 = bfs(edges, node2)\n",
    "        print(dist1)\n",
    "        print(dist2)\n",
    "        best = float(\"inf\")\n",
    "        node = -1\n",
    "        for i, (d1, d2) in enumerate(zip(dist1, dist2)):\n",
    "            if d1 != -1 and d2 != -1:\n",
    "                if d1 + d2 < best:\n",
    "                    node = i\n",
    "                    best = d1 + d2\n",
    "\n",
    "        return node"
   ]
  },
  {
   "cell_type": "code",
   "execution_count": null,
   "id": "49a3e866-5704-47ba-8e05-74c91e171ae6",
   "metadata": {},
   "outputs": [],
   "source": [
    "from typing import List\n",
    "from collections import deque\n",
    "\n",
    "class Solution:\n",
    "    def closestMeetingNode(self, edges: List[int], node1: int, node2: int) -> int:\n",
    "        def bfs(graph, start):\n",
    "            distances = [-1 for _ in graph]\n",
    "            q = deque()\n",
    "            q.append([start, 0])\n",
    "            while q:\n",
    "                curr, dist = q.popleft()\n",
    "                distances[curr] = dist\n",
    "                nxt = graph[curr]\n",
    "                if nxt != -1 and distances[nxt] == -1:\n",
    "                    q.append([nxt, dist + 1])\n",
    "        \n",
    "            return distances\n",
    "        \n",
    "        dist1 = bfs(edges, node1)\n",
    "        dist2 = bfs(edges, node2)\n",
    "        print(dist1)\n",
    "        print(dist2)\n",
    "        best = float(\"inf\")\n",
    "        node = -1\n",
    "        for i, (d1, d2) in enumerate(zip(dist1, dist2)):\n",
    "            if d1 != -1 and d2 != -1:\n",
    "                if max(d1, d2) < best:\n",
    "                    node = i\n",
    "                    best = max(d1, d2)\n",
    "\n",
    "        return node"
   ]
  },
  {
   "cell_type": "code",
   "execution_count": 8,
   "id": "40e0ce23-9e59-478c-add9-05964dd4c56d",
   "metadata": {},
   "outputs": [
    {
     "name": "stdout",
     "output_type": "stream",
     "text": [
      "[0, -1, 1, 2]\n",
      "[-1, 0, 1, 2]\n"
     ]
    },
    {
     "data": {
      "text/plain": [
       "2"
      ]
     },
     "execution_count": 8,
     "metadata": {},
     "output_type": "execute_result"
    }
   ],
   "source": [
    "s = Solution()\n",
    "s.closestMeetingNode([2,2,3,-1], 0, 1)"
   ]
  },
  {
   "cell_type": "code",
   "execution_count": 9,
   "id": "ab7dc3f2-1039-4b38-bb35-3c1718448a56",
   "metadata": {},
   "outputs": [
    {
     "name": "stdout",
     "output_type": "stream",
     "text": [
      "[0, 1, 2]\n",
      "[-1, -1, 0]\n"
     ]
    },
    {
     "data": {
      "text/plain": [
       "2"
      ]
     },
     "execution_count": 9,
     "metadata": {},
     "output_type": "execute_result"
    }
   ],
   "source": [
    "s.closestMeetingNode([1,2,-1], 0, 2)"
   ]
  },
  {
   "cell_type": "code",
   "execution_count": 10,
   "id": "710a70ac-793d-43c4-af25-cb35eedac1cd",
   "metadata": {},
   "outputs": [
    {
     "name": "stdout",
     "output_type": "stream",
     "text": [
      "[-1, 2, -1, -1, 3, 0, -1, -1, 1, 4]\n",
      "[-1, 3, -1, -1, 1, -1, 0, -1, -1, 2]\n"
     ]
    },
    {
     "data": {
      "text/plain": [
       "4"
      ]
     },
     "execution_count": 10,
     "metadata": {},
     "output_type": "execute_result"
    }
   ],
   "source": [
    "s.closestMeetingNode([4,4,8,-1,9,8,4,4,1,1], 5, 6)"
   ]
  },
  {
   "cell_type": "code",
   "execution_count": null,
   "id": "1f60e406-bfe1-4e34-866a-d8ffcfecfbd0",
   "metadata": {},
   "outputs": [],
   "source": []
  }
 ],
 "metadata": {
  "kernelspec": {
   "display_name": "Python 3 (ipykernel)",
   "language": "python",
   "name": "python3"
  },
  "language_info": {
   "codemirror_mode": {
    "name": "ipython",
    "version": 3
   },
   "file_extension": ".py",
   "mimetype": "text/x-python",
   "name": "python",
   "nbconvert_exporter": "python",
   "pygments_lexer": "ipython3",
   "version": "3.10.8"
  }
 },
 "nbformat": 4,
 "nbformat_minor": 5
}
