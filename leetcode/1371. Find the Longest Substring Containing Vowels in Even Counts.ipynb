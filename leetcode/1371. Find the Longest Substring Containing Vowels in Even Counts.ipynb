{
 "cells": [
  {
   "cell_type": "markdown",
   "id": "5d41e12b-e454-4300-9a53-1053985fa8d6",
   "metadata": {},
   "source": [
    "Given the string s, return the size of the longest substring containing each vowel an even number of times. That is, 'a', 'e', 'i', 'o', and 'u' must appear an even number of times.\n",
    "\n",
    " \n",
    "\n",
    "Example 1:\n",
    "\n",
    "Input: s = \"eleetminicoworoep\"\n",
    "Output: 13\n",
    "Explanation: The longest substring is \"leetminicowor\" which contains two each of the vowels: e, i and o and zero of the vowels: a and u.\n",
    "\n",
    "Example 2:\n",
    "\n",
    "Input: s = \"leetcodeisgreat\"\n",
    "Output: 5\n",
    "Explanation: The longest substring is \"leetc\" which contains two e's.\n",
    "\n",
    "Example 3:\n",
    "\n",
    "Input: s = \"bcbcbc\"\n",
    "Output: 6\n",
    "Explanation: In this case, the given string \"bcbcbc\" is the longest because all vowels: a, e, i, o and u appear zero times.\n",
    "\n",
    " \n",
    "\n",
    "Constraints:\n",
    "\n",
    "    1 <= s.length <= 5 x 10^5\n",
    "    s contains only lowercase English letters.\n",
    "\n"
   ]
  },
  {
   "cell_type": "code",
   "execution_count": null,
   "id": "4918260b-c184-4903-8ab1-dab5736b8817",
   "metadata": {},
   "outputs": [],
   "source": [
    "class Solution:\n",
    "    def findTheLongestSubstring(self, s: str) -> int:\n",
    "        prefixXOR = 0\n",
    "        characterMap = [0] * 26\n",
    "        characterMap[ord(\"a\") - ord(\"a\")] = 1\n",
    "        characterMap[ord(\"e\") - ord(\"a\")] = 2\n",
    "        characterMap[ord(\"i\") - ord(\"a\")] = 4\n",
    "        characterMap[ord(\"o\") - ord(\"a\")] = 8\n",
    "        characterMap[ord(\"u\") - ord(\"a\")] = 16\n",
    "        mp = [-1] * 32\n",
    "        longestSubstring = 0\n",
    "        for i in range(len(s)):\n",
    "            prefixXOR ^= characterMap[ord(s[i]) - ord(\"a\")]\n",
    "            if mp[prefixXOR] == -1 and prefixXOR != 0:\n",
    "                mp[prefixXOR] = i\n",
    "            longestSubstring = max(longestSubstring, i - mp[prefixXOR])\n",
    "        return longestSubstring"
   ]
  }
 ],
 "metadata": {
  "kernelspec": {
   "display_name": "Python 3 (ipykernel)",
   "language": "python",
   "name": "python3"
  },
  "language_info": {
   "codemirror_mode": {
    "name": "ipython",
    "version": 3
   },
   "file_extension": ".py",
   "mimetype": "text/x-python",
   "name": "python",
   "nbconvert_exporter": "python",
   "pygments_lexer": "ipython3",
   "version": "3.12.7"
  }
 },
 "nbformat": 4,
 "nbformat_minor": 5
}
