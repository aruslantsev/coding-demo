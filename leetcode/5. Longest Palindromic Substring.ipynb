{
 "cells": [
  {
   "cell_type": "markdown",
   "id": "972e1b59-f805-46d7-bb2b-cd1a7a53d118",
   "metadata": {},
   "source": [
    "Given a string s, return the longest palindromic substring in s.\n",
    "\n",
    " \n",
    "\n",
    "Example 1:\n",
    "\n",
    "Input: s = \"babad\"\n",
    "Output: \"bab\"\n",
    "Explanation: \"aba\" is also a valid answer.\n",
    "\n",
    "Example 2:\n",
    "\n",
    "Input: s = \"cbbd\"\n",
    "Output: \"bb\"\n",
    "\n",
    " \n",
    "\n",
    "Constraints:\n",
    "\n",
    "    1 <= s.length <= 1000\n",
    "    s consist of only digits and English letters.\n",
    "\n"
   ]
  },
  {
   "cell_type": "code",
   "execution_count": 1,
   "id": "653d28c8-6b63-4519-9ffb-9885c9e24543",
   "metadata": {},
   "outputs": [],
   "source": [
    "from typing import List"
   ]
  },
  {
   "cell_type": "code",
   "execution_count": 2,
   "id": "7446e33e-1885-4d52-834a-03e4e81b8181",
   "metadata": {},
   "outputs": [],
   "source": [
    "class Solution:\n",
    "    def longestPalindrome(self, s: str) -> str:\n",
    "        def test_palindrome(ts):\n",
    "            for i in range(len(ts) // 2):\n",
    "                if ts[i] != ts[-1 - i]:\n",
    "                    return False\n",
    "            \n",
    "            return True\n",
    "        \n",
    "        result = s[0]\n",
    "        for i in range(len(s)):\n",
    "            for j in range(len(result) // 2, min(i, len(s) - i + 1) + 1):\n",
    "                if test_palindrome(s[i - j: i + j + 1]):\n",
    "                    if (len(s[i - j: i + j + 1]) > len(result)):\n",
    "                        result = s[i - j: i + j + 1]\n",
    "                if test_palindrome(s[i - j: i + j + 2]):\n",
    "                    if (len(s[i - j: i + j + 2]) > len(result)):\n",
    "                        result = s[i - j: i + j + 2]\n",
    "                if not (test_palindrome(s[i - j: i + j + 1]) or test_palindrome(s[i - j: i + j + 2])):\n",
    "                    break\n",
    "        \n",
    "        return result"
   ]
  },
  {
   "cell_type": "code",
   "execution_count": 3,
   "id": "c5ca3998-ee26-4970-aa65-ac1b541931e2",
   "metadata": {},
   "outputs": [],
   "source": [
    "s = Solution()"
   ]
  },
  {
   "cell_type": "code",
   "execution_count": 4,
   "id": "ebbd27fd-cc38-4a13-b5ff-f81977a3d10c",
   "metadata": {},
   "outputs": [
    {
     "data": {
      "text/plain": [
       "'bab'"
      ]
     },
     "execution_count": 4,
     "metadata": {},
     "output_type": "execute_result"
    }
   ],
   "source": [
    "s.longestPalindrome(\"babad\")"
   ]
  },
  {
   "cell_type": "code",
   "execution_count": 5,
   "id": "4ef452a7-e5ae-4e9e-bfe6-f84b24e2f866",
   "metadata": {},
   "outputs": [
    {
     "data": {
      "text/plain": [
       "'bb'"
      ]
     },
     "execution_count": 5,
     "metadata": {},
     "output_type": "execute_result"
    }
   ],
   "source": [
    "s.longestPalindrome(\"cbbd\")"
   ]
  },
  {
   "cell_type": "code",
   "execution_count": null,
   "id": "da25dcd2-f9ed-4d4e-9a4c-0e4a85b1be8f",
   "metadata": {},
   "outputs": [],
   "source": []
  }
 ],
 "metadata": {
  "kernelspec": {
   "display_name": "Python 3 (ipykernel)",
   "language": "python",
   "name": "python3"
  },
  "language_info": {
   "codemirror_mode": {
    "name": "ipython",
    "version": 3
   },
   "file_extension": ".py",
   "mimetype": "text/x-python",
   "name": "python",
   "nbconvert_exporter": "python",
   "pygments_lexer": "ipython3",
   "version": "3.9.10"
  }
 },
 "nbformat": 4,
 "nbformat_minor": 5
}
