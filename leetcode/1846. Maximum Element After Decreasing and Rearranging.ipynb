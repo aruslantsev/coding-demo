{
 "cells": [
  {
   "cell_type": "markdown",
   "id": "f211f1f5-c218-4d01-90c8-710ce33c30a6",
   "metadata": {},
   "source": [
    "You are given an array of positive integers arr. Perform some operations (possibly none) on arr so that it satisfies these conditions:\n",
    "\n",
    "    The value of the first element in arr must be 1.\n",
    "    The absolute difference between any 2 adjacent elements must be less than or equal to 1. In other words, abs(arr[i] - arr[i - 1]) <= 1 for each i where 1 <= i < arr.length (0-indexed). abs(x) is the absolute value of x.\n",
    "\n",
    "There are 2 types of operations that you can perform any number of times:\n",
    "\n",
    "    Decrease the value of any element of arr to a smaller positive integer.\n",
    "    Rearrange the elements of arr to be in any order.\n",
    "\n",
    "Return the maximum possible value of an element in arr after performing the operations to satisfy the conditions.\n",
    "\n",
    " \n",
    "\n",
    "Example 1:\n",
    "\n",
    "Input: arr = [2,2,1,2,1]\n",
    "Output: 2\n",
    "Explanation: \n",
    "We can satisfy the conditions by rearranging arr so it becomes [1,2,2,2,1].\n",
    "The largest element in arr is 2.\n",
    "\n",
    "Example 2:\n",
    "\n",
    "Input: arr = [100,1,1000]\n",
    "Output: 3\n",
    "Explanation: \n",
    "One possible way to satisfy the conditions is by doing the following:\n",
    "1. Rearrange arr so it becomes [1,100,1000].\n",
    "2. Decrease the value of the second element to 2.\n",
    "3. Decrease the value of the third element to 3.\n",
    "Now arr = [1,2,3], which satisfies the conditions.\n",
    "The largest element in arr is 3.\n",
    "\n",
    "Example 3:\n",
    "\n",
    "Input: arr = [1,2,3,4,5]\n",
    "Output: 5\n",
    "Explanation: The array already satisfies the conditions, and the largest element is 5.\n",
    "\n",
    " \n",
    "\n",
    "Constraints:\n",
    "\n",
    "    1 <= arr.length <= 105\n",
    "    1 <= arr[i] <= 109\n",
    "\n"
   ]
  },
  {
   "cell_type": "code",
   "execution_count": null,
   "id": "d14f1488-73a6-4100-b34a-0f4d18c1f3c6",
   "metadata": {},
   "outputs": [],
   "source": [
    "class Solution:\n",
    "    def maximumElementAfterDecrementingAndRearranging(self, arr: List[int]) -> int:\n",
    "        arr.sort()\n",
    "        ans = 1\n",
    "        for i in range(1, len(arr)):\n",
    "            if arr[i] >= ans + 1:\n",
    "                ans += 1\n",
    "\n",
    "        return ans\n",
    "        "
   ]
  }
 ],
 "metadata": {
  "kernelspec": {
   "display_name": "Python 3 (ipykernel)",
   "language": "python",
   "name": "python3"
  },
  "language_info": {
   "codemirror_mode": {
    "name": "ipython",
    "version": 3
   },
   "file_extension": ".py",
   "mimetype": "text/x-python",
   "name": "python",
   "nbconvert_exporter": "python",
   "pygments_lexer": "ipython3",
   "version": "3.11.4"
  }
 },
 "nbformat": 4,
 "nbformat_minor": 5
}
