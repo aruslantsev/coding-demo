{
 "cells": [
  {
   "cell_type": "markdown",
   "id": "00203c63-d773-42fc-8cf4-a79d9a20cfe7",
   "metadata": {},
   "source": [
    "Design a system that manages the reservation state of n seats that are numbered from 1 to n.\n",
    "\n",
    "Implement the SeatManager class:\n",
    "\n",
    "    SeatManager(int n) Initializes a SeatManager object that will manage n seats numbered from 1 to n. All seats are initially available.\n",
    "    int reserve() Fetches the smallest-numbered unreserved seat, reserves it, and returns its number.\n",
    "    void unreserve(int seatNumber) Unreserves the seat with the given seatNumber.\n",
    "\n",
    " \n",
    "\n",
    "Example 1:\n",
    "\n",
    "Input\n",
    "[\"SeatManager\", \"reserve\", \"reserve\", \"unreserve\", \"reserve\", \"reserve\", \"reserve\", \"reserve\", \"unreserve\"]\n",
    "[[5], [], [], [2], [], [], [], [], [5]]\n",
    "Output\n",
    "[null, 1, 2, null, 2, 3, 4, 5, null]\n",
    "\n",
    "Explanation\n",
    "SeatManager seatManager = new SeatManager(5); // Initializes a SeatManager with 5 seats.\n",
    "seatManager.reserve();    // All seats are available, so return the lowest numbered seat, which is 1.\n",
    "seatManager.reserve();    // The available seats are [2,3,4,5], so return the lowest of them, which is 2.\n",
    "seatManager.unreserve(2); // Unreserve seat 2, so now the available seats are [2,3,4,5].\n",
    "seatManager.reserve();    // The available seats are [2,3,4,5], so return the lowest of them, which is 2.\n",
    "seatManager.reserve();    // The available seats are [3,4,5], so return the lowest of them, which is 3.\n",
    "seatManager.reserve();    // The available seats are [4,5], so return the lowest of them, which is 4.\n",
    "seatManager.reserve();    // The only available seat is seat 5, so return 5.\n",
    "seatManager.unreserve(5); // Unreserve seat 5, so now the available seats are [5].\n",
    "\n",
    " \n",
    "\n",
    "Constraints:\n",
    "\n",
    "    1 <= n <= 105\n",
    "    1 <= seatNumber <= n\n",
    "    For each call to reserve, it is guaranteed that there will be at least one unreserved seat.\n",
    "    For each call to unreserve, it is guaranteed that seatNumber will be reserved.\n",
    "    At most 105 calls in total will be made to reserve and unreserve.\n",
    "\n"
   ]
  },
  {
   "cell_type": "code",
   "execution_count": null,
   "id": "37c724f2-8c4d-4c55-bc2d-0d8b2a4133a8",
   "metadata": {},
   "outputs": [],
   "source": [
    "class SeatManager:\n",
    "\n",
    "    def __init__(self, n: int):\n",
    "        self.seats = deque(range(1, n + 1))\n",
    "\n",
    "    def reserve(self) -> int:\n",
    "        return self.seats.popleft()\n",
    "\n",
    "    def unreserve(self, seatNumber: int) -> None:\n",
    "        pos = bisect.bisect_left(self.seats, seatNumber)\n",
    "        self.seats.insert(pos, seatNumber)\n",
    "\n",
    "\n",
    "# Your SeatManager object will be instantiated and called as such:\n",
    "# obj = SeatManager(n)\n",
    "# param_1 = obj.reserve()\n",
    "# obj.unreserve(seatNumber)"
   ]
  }
 ],
 "metadata": {
  "kernelspec": {
   "display_name": "Python 3 (ipykernel)",
   "language": "python",
   "name": "python3"
  },
  "language_info": {
   "codemirror_mode": {
    "name": "ipython",
    "version": 3
   },
   "file_extension": ".py",
   "mimetype": "text/x-python",
   "name": "python",
   "nbconvert_exporter": "python",
   "pygments_lexer": "ipython3",
   "version": "3.11.4"
  }
 },
 "nbformat": 4,
 "nbformat_minor": 5
}
