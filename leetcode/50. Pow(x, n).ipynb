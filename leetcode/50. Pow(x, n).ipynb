{
 "cells": [
  {
   "cell_type": "markdown",
   "id": "d367a323-379f-4e61-876f-14014556a43a",
   "metadata": {},
   "source": [
    "Implement pow(x, n), which calculates x raised to the power n (i.e., xn).\n",
    "\n",
    " \n",
    "\n",
    "Example 1:\n",
    "\n",
    "Input: x = 2.00000, n = 10\n",
    "Output: 1024.00000\n",
    "\n",
    "Example 2:\n",
    "\n",
    "Input: x = 2.10000, n = 3\n",
    "Output: 9.26100\n",
    "\n",
    "Example 3:\n",
    "\n",
    "Input: x = 2.00000, n = -2\n",
    "Output: 0.25000\n",
    "Explanation: 2-2 = 1/22 = 1/4 = 0.25\n",
    "\n",
    " \n",
    "\n",
    "Constraints:\n",
    "\n",
    "    -100.0 < x < 100.0\n",
    "    -231 <= n <= 231-1\n",
    "    -104 <= xn <= 104\n",
    "\n"
   ]
  },
  {
   "cell_type": "code",
   "execution_count": null,
   "id": "54484b1b-fcc1-46f1-9697-38d714f04100",
   "metadata": {},
   "outputs": [],
   "source": [
    "class Solution:\n",
    "    def myPow(self, x: float, n: int) -> float:\n",
    "        if n == 0:\n",
    "            return 1\n",
    "        if n < 0:\n",
    "            neg = True\n",
    "        else:\n",
    "            neg = False\n",
    "        \n",
    "        res = 1\n",
    "        for _ in range(abs(n)):\n",
    "            res *= x\n",
    "        \n",
    "        if neg:\n",
    "            res = 1 / res\n",
    "        \n",
    "        return res"
   ]
  },
  {
   "cell_type": "code",
   "execution_count": 95,
   "id": "224dbb3b-7720-4fba-9cb8-11f9d180a9e8",
   "metadata": {},
   "outputs": [],
   "source": [
    "from math import log\n",
    "from functools import cache\n",
    "\n",
    "class Solution:\n",
    "    def myPow(self, x: float, n: int) -> float:\n",
    "        if n == 0:\n",
    "            return 1\n",
    "        if n < 0:\n",
    "            neg = True\n",
    "        else:\n",
    "            neg = False\n",
    "        \n",
    "        res = abs(n)\n",
    "        powers = []\n",
    "        while res >= 2:\n",
    "            power = 2 ** int(log(res, 2))\n",
    "            powers.append(power)\n",
    "            res -= power\n",
    "        if res == 1:\n",
    "            powers.append(res)\n",
    "        \n",
    "        ans = []\n",
    "        for power in powers:\n",
    "            if power == 1:\n",
    "                ans.append(x)\n",
    "            else:\n",
    "                result = x\n",
    "                while power >= 1:\n",
    "                    if power // 2 > 0:\n",
    "                        result *= result\n",
    "                    power //= 2\n",
    "                ans.append(result)\n",
    "                \n",
    "        result = 1\n",
    "        for i in ans:\n",
    "            result *= i\n",
    "\n",
    "        if neg:\n",
    "            result = 1 / result\n",
    "        \n",
    "        return result"
   ]
  },
  {
   "cell_type": "code",
   "execution_count": 96,
   "id": "417ef1c3-c114-4d22-9386-e138d60b4c88",
   "metadata": {},
   "outputs": [
    {
     "data": {
      "text/plain": [
       "True"
      ]
     },
     "execution_count": 96,
     "metadata": {},
     "output_type": "execute_result"
    }
   ],
   "source": [
    "s = Solution()\n",
    "s.myPow(2, -2) == 2**-2"
   ]
  },
  {
   "cell_type": "code",
   "execution_count": 97,
   "id": "bc110ff8-3fd6-454c-9cc8-90184e9bc892",
   "metadata": {},
   "outputs": [
    {
     "data": {
      "text/plain": [
       "True"
      ]
     },
     "execution_count": 97,
     "metadata": {},
     "output_type": "execute_result"
    }
   ],
   "source": [
    "s.myPow(2, 10) == 2**10"
   ]
  },
  {
   "cell_type": "code",
   "execution_count": 98,
   "id": "b878fc4b-f0f2-45ad-9799-46e69d399b8f",
   "metadata": {},
   "outputs": [
    {
     "data": {
      "text/plain": [
       "True"
      ]
     },
     "execution_count": 98,
     "metadata": {},
     "output_type": "execute_result"
    }
   ],
   "source": [
    "s.myPow(2.1, 3) == 2.1**3"
   ]
  },
  {
   "cell_type": "code",
   "execution_count": 99,
   "id": "b5ac1e76-fa27-436f-81ad-4dc32d2bffdd",
   "metadata": {},
   "outputs": [
    {
     "data": {
      "text/plain": [
       "True"
      ]
     },
     "execution_count": 99,
     "metadata": {},
     "output_type": "execute_result"
    }
   ],
   "source": [
    "s.myPow(8.84372, -5) == 8.84372**-5\n"
   ]
  },
  {
   "cell_type": "code",
   "execution_count": null,
   "id": "f765278b-ecda-4ee3-be37-293461bf91a6",
   "metadata": {},
   "outputs": [],
   "source": []
  }
 ],
 "metadata": {
  "kernelspec": {
   "display_name": "Python 3 (ipykernel)",
   "language": "python",
   "name": "python3"
  },
  "language_info": {
   "codemirror_mode": {
    "name": "ipython",
    "version": 3
   },
   "file_extension": ".py",
   "mimetype": "text/x-python",
   "name": "python",
   "nbconvert_exporter": "python",
   "pygments_lexer": "ipython3",
   "version": "3.9.10"
  }
 },
 "nbformat": 4,
 "nbformat_minor": 5
}
