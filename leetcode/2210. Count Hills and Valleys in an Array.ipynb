{
 "cells": [
  {
   "cell_type": "markdown",
   "id": "011f61e5-8ab4-4168-b623-2537b4e96407",
   "metadata": {},
   "source": [
    "You are given a 0-indexed integer array nums. An index i is part of a hill in nums if the closest non-equal neighbors of i are smaller than nums[i]. Similarly, an index i is part of a valley in nums if the closest non-equal neighbors of i are larger than nums[i]. Adjacent indices i and j are part of the same hill or valley if nums[i] == nums[j].\n",
    "\n",
    "Note that for an index to be part of a hill or valley, it must have a non-equal neighbor on both the left and right of the index.\n",
    "\n",
    "Return the number of hills and valleys in nums.\n",
    "\n",
    " \n",
    "\n",
    "Example 1:\n",
    "\n",
    "Input: nums = [2,4,1,1,6,5]\n",
    "Output: 3\n",
    "Explanation:\n",
    "At index 0: There is no non-equal neighbor of 2 on the left, so index 0 is neither a hill nor a valley.\n",
    "At index 1: The closest non-equal neighbors of 4 are 2 and 1. Since 4 > 2 and 4 > 1, index 1 is a hill. \n",
    "At index 2: The closest non-equal neighbors of 1 are 4 and 6. Since 1 < 4 and 1 < 6, index 2 is a valley.\n",
    "At index 3: The closest non-equal neighbors of 1 are 4 and 6. Since 1 < 4 and 1 < 6, index 3 is a valley, but note that it is part of the same valley as index 2.\n",
    "At index 4: The closest non-equal neighbors of 6 are 1 and 5. Since 6 > 1 and 6 > 5, index 4 is a hill.\n",
    "At index 5: There is no non-equal neighbor of 5 on the right, so index 5 is neither a hill nor a valley. \n",
    "There are 3 hills and valleys so we return 3.\n",
    "\n",
    "Example 2:\n",
    "\n",
    "Input: nums = [6,6,5,5,4,1]\n",
    "Output: 0\n",
    "Explanation:\n",
    "At index 0: There is no non-equal neighbor of 6 on the left, so index 0 is neither a hill nor a valley.\n",
    "At index 1: There is no non-equal neighbor of 6 on the left, so index 1 is neither a hill nor a valley.\n",
    "At index 2: The closest non-equal neighbors of 5 are 6 and 4. Since 5 < 6 and 5 > 4, index 2 is neither a hill nor a valley.\n",
    "At index 3: The closest non-equal neighbors of 5 are 6 and 4. Since 5 < 6 and 5 > 4, index 3 is neither a hill nor a valley.\n",
    "At index 4: The closest non-equal neighbors of 4 are 5 and 1. Since 4 < 5 and 4 > 1, index 4 is neither a hill nor a valley.\n",
    "At index 5: There is no non-equal neighbor of 1 on the right, so index 5 is neither a hill nor a valley.\n",
    "There are 0 hills and valleys so we return 0.\n",
    "\n",
    " \n",
    "\n",
    "Constraints:\n",
    "\n",
    "    3 <= nums.length <= 100\n",
    "    1 <= nums[i] <= 100\n",
    "\n"
   ]
  },
  {
   "cell_type": "code",
   "execution_count": null,
   "id": "f18478ab-bc42-41f7-a0b4-5aa151e41e5e",
   "metadata": {},
   "outputs": [],
   "source": [
    "class Solution:\n",
    "    def countHillValley(self, nums: List[int]) -> int:\n",
    "        stack = []\n",
    "        ans = 0\n",
    "        for num in nums:\n",
    "            if not stack or stack[-1] != num:\n",
    "                stack.append(num)\n",
    "                if (\n",
    "                    len(stack) >= 3 \n",
    "                    and (\n",
    "                        (stack[-3] < stack[-2] and stack[-2] > stack[-1])\n",
    "                        or (stack[-3] > stack[-2] and stack[-2] < stack[-1])\n",
    "                    )\n",
    "                ):\n",
    "                    ans += 1\n",
    "        return ans"
   ]
  }
 ],
 "metadata": {
  "kernelspec": {
   "display_name": "common",
   "language": "python",
   "name": "common"
  },
  "language_info": {
   "codemirror_mode": {
    "name": "ipython",
    "version": 3
   },
   "file_extension": ".py",
   "mimetype": "text/x-python",
   "name": "python",
   "nbconvert_exporter": "python",
   "pygments_lexer": "ipython3",
   "version": "3.12.11"
  }
 },
 "nbformat": 4,
 "nbformat_minor": 5
}
