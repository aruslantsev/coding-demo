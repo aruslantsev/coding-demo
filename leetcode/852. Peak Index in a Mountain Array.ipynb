{
 "cells": [
  {
   "cell_type": "markdown",
   "id": "ddb55808-4b75-4cac-8148-4a6b620874dd",
   "metadata": {},
   "source": [
    "An array arr is a mountain if the following properties hold:\n",
    "\n",
    "    arr.length >= 3\n",
    "    There exists some i with 0 < i < arr.length - 1 such that:\n",
    "        arr[0] < arr[1] < ... < arr[i - 1] < arr[i] \n",
    "        arr[i] > arr[i + 1] > ... > arr[arr.length - 1]\n",
    "\n",
    "Given a mountain array arr, return the index i such that arr[0] < arr[1] < ... < arr[i - 1] < arr[i] > arr[i + 1] > ... > arr[arr.length - 1].\n",
    "\n",
    "You must solve it in O(log(arr.length)) time complexity.\n",
    "\n",
    " \n",
    "\n",
    "Example 1:\n",
    "\n",
    "Input: arr = [0,1,0]\n",
    "Output: 1\n",
    "\n",
    "Example 2:\n",
    "\n",
    "Input: arr = [0,2,1,0]\n",
    "Output: 1\n",
    "\n",
    "Example 3:\n",
    "\n",
    "Input: arr = [0,10,5,2]\n",
    "Output: 1\n",
    "\n",
    " \n",
    "\n",
    "Constraints:\n",
    "\n",
    "    3 <= arr.length <= 105\n",
    "    0 <= arr[i] <= 106\n",
    "    arr is guaranteed to be a mountain array.\n",
    "\n"
   ]
  },
  {
   "cell_type": "code",
   "execution_count": null,
   "id": "9d31bd00-c48c-468c-8d68-2ba3efbf97b3",
   "metadata": {},
   "outputs": [],
   "source": [
    "class Solution:\n",
    "    def peakIndexInMountainArray(self, arr: List[int]) -> int:\n",
    "        l = 0\n",
    "        r = len(arr) - 1\n",
    "        while l < r:\n",
    "            m = (l + r) // 2\n",
    "            if arr[m] < arr[m + 1]:\n",
    "                l = m + 1\n",
    "            else:\n",
    "                r = m\n",
    "        return l"
   ]
  }
 ],
 "metadata": {
  "kernelspec": {
   "display_name": "common",
   "language": "python",
   "name": "common"
  },
  "language_info": {
   "codemirror_mode": {
    "name": "ipython",
    "version": 3
   },
   "file_extension": ".py",
   "mimetype": "text/x-python",
   "name": "python",
   "nbconvert_exporter": "python",
   "pygments_lexer": "ipython3",
   "version": "3.9.15"
  }
 },
 "nbformat": 4,
 "nbformat_minor": 5
}
