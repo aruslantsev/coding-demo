{
 "cells": [
  {
   "cell_type": "markdown",
   "id": "ee6a6fcc-793e-47bd-88ed-211a126fb552",
   "metadata": {},
   "source": [
    "You are given an array of strings arr. A string s is formed by the concatenation of a subsequence of arr that has unique characters.\n",
    "\n",
    "Return the maximum possible length of s.\n",
    "\n",
    "A subsequence is an array that can be derived from another array by deleting some or no elements without changing the order of the remaining elements.\n",
    "\n",
    " \n",
    "\n",
    "Example 1:\n",
    "\n",
    "Input: arr = [\"un\",\"iq\",\"ue\"]\n",
    "Output: 4\n",
    "Explanation: All the valid concatenations are:\n",
    "- \"\"\n",
    "- \"un\"\n",
    "- \"iq\"\n",
    "- \"ue\"\n",
    "- \"uniq\" (\"un\" + \"iq\")\n",
    "- \"ique\" (\"iq\" + \"ue\")\n",
    "Maximum length is 4.\n",
    "\n",
    "Example 2:\n",
    "\n",
    "Input: arr = [\"cha\",\"r\",\"act\",\"ers\"]\n",
    "Output: 6\n",
    "Explanation: Possible longest valid concatenations are \"chaers\" (\"cha\" + \"ers\") and \"acters\" (\"act\" + \"ers\").\n",
    "\n",
    "Example 3:\n",
    "\n",
    "Input: arr = [\"abcdefghijklmnopqrstuvwxyz\"]\n",
    "Output: 26\n",
    "Explanation: The only string in arr has all 26 characters.\n",
    "\n",
    " \n",
    "\n",
    "Constraints:\n",
    "\n",
    "    1 <= arr.length <= 16\n",
    "    1 <= arr[i].length <= 26\n",
    "    arr[i] contains only lowercase English letters.\n",
    "\n"
   ]
  },
  {
   "cell_type": "code",
   "execution_count": 31,
   "id": "df1bc77d-8d0c-4102-a483-050dd56348c3",
   "metadata": {},
   "outputs": [],
   "source": [
    "from typing import List\n",
    "\n",
    "class Solution:\n",
    "    def maxLength(self, arr: List[str]) -> int:\n",
    "        arr = [elem for elem in arr if len(set(elem)) == len(elem)]\n",
    "        def dfs(i, s):\n",
    "            if i == len(arr):\n",
    "                return len(s)\n",
    "            if len(s + arr[i]) == len(set(s + arr[i])):\n",
    "                return max(dfs(i + 1, s + arr[i]), dfs(i + 1, s))\n",
    "            else:\n",
    "                return dfs(i + 1, s)\n",
    "\n",
    "            \n",
    "        return dfs(0, \"\")"
   ]
  },
  {
   "cell_type": "code",
   "execution_count": 32,
   "id": "fe02198a-800b-4004-aec2-37bed29f5a5a",
   "metadata": {},
   "outputs": [
    {
     "data": {
      "text/plain": [
       "4"
      ]
     },
     "execution_count": 32,
     "metadata": {},
     "output_type": "execute_result"
    }
   ],
   "source": [
    "s = Solution()\n",
    "s.maxLength([\"un\", \"iq\", \"ue\"])"
   ]
  },
  {
   "cell_type": "code",
   "execution_count": 33,
   "id": "22404fb7-e874-47d0-8718-4f5aebc14c30",
   "metadata": {},
   "outputs": [
    {
     "data": {
      "text/plain": [
       "6"
      ]
     },
     "execution_count": 33,
     "metadata": {},
     "output_type": "execute_result"
    }
   ],
   "source": [
    "s.maxLength([\"cha\",\"r\",\"act\",\"ers\"])"
   ]
  },
  {
   "cell_type": "code",
   "execution_count": 34,
   "id": "801f454d-3aa0-4a32-9bbd-af983a2d0233",
   "metadata": {},
   "outputs": [
    {
     "data": {
      "text/plain": [
       "26"
      ]
     },
     "execution_count": 34,
     "metadata": {},
     "output_type": "execute_result"
    }
   ],
   "source": [
    "s.maxLength([\"abcdefghijklm\",\"bcdefghijklmn\",\"cdefghijklmno\",\"defghijklmnop\",\"efghijklmnopq\",\"fghijklmnopqr\",\"ghijklmnopqrs\",\"hijklmnopqrst\",\"ijklmnopqrstu\",\"jklmnopqrstuv\",\"klmnopqrstuvw\",\"lmnopqrstuvwx\",\"mnopqrstuvwxy\",\"nopqrstuvwxyz\",\"opqrstuvwxyza\",\"pqrstuvwxyzab\"])"
   ]
  },
  {
   "cell_type": "code",
   "execution_count": null,
   "id": "518908f8-398f-4602-9d06-042492b96951",
   "metadata": {},
   "outputs": [],
   "source": []
  }
 ],
 "metadata": {
  "kernelspec": {
   "display_name": "Python 3 (ipykernel)",
   "language": "python",
   "name": "python3"
  },
  "language_info": {
   "codemirror_mode": {
    "name": "ipython",
    "version": 3
   },
   "file_extension": ".py",
   "mimetype": "text/x-python",
   "name": "python",
   "nbconvert_exporter": "python",
   "pygments_lexer": "ipython3",
   "version": "3.9.13"
  }
 },
 "nbformat": 4,
 "nbformat_minor": 5
}
