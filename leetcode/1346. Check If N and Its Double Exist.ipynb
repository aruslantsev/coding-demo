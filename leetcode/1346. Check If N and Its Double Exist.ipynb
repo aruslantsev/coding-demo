{
 "cells": [
  {
   "cell_type": "markdown",
   "id": "9a6aec21-362c-4c6a-ad0e-454d952c3c21",
   "metadata": {},
   "source": [
    "Given an array arr of integers, check if there exist two indices i and j such that :\n",
    "\n",
    "    i != j\n",
    "    0 <= i, j < arr.length\n",
    "    arr[i] == 2 * arr[j]\n",
    "\n",
    " \n",
    "\n",
    "Example 1:\n",
    "\n",
    "Input: arr = [10,2,5,3]\n",
    "Output: true\n",
    "Explanation: For i = 0 and j = 2, arr[i] == 10 == 2 * 5 == 2 * arr[j]\n",
    "\n",
    "Example 2:\n",
    "\n",
    "Input: arr = [3,1,7,11]\n",
    "Output: false\n",
    "Explanation: There is no i and j that satisfy the conditions.\n",
    "\n",
    " \n",
    "\n",
    "Constraints:\n",
    "\n",
    "    2 <= arr.length <= 500\n",
    "    -103 <= arr[i] <= 103\n",
    "\n"
   ]
  },
  {
   "cell_type": "code",
   "execution_count": null,
   "id": "b50addd6-5b2e-4468-8ee3-bd032ab4f03e",
   "metadata": {},
   "outputs": [],
   "source": [
    "class Solution:\n",
    "    def checkIfExist(self, arr: List[int]) -> bool:\n",
    "        seen = set()\n",
    "        for elem in arr:\n",
    "            if ((elem * 2) in seen) or ((elem % 2 == 0) and ((elem // 2)  in seen)):\n",
    "                return True\n",
    "            seen.add(elem)\n",
    "        return False"
   ]
  }
 ],
 "metadata": {
  "kernelspec": {
   "display_name": "Python 3 (ipykernel)",
   "language": "python",
   "name": "python3"
  },
  "language_info": {
   "codemirror_mode": {
    "name": "ipython",
    "version": 3
   },
   "file_extension": ".py",
   "mimetype": "text/x-python",
   "name": "python",
   "nbconvert_exporter": "python",
   "pygments_lexer": "ipython3",
   "version": "3.12.7"
  }
 },
 "nbformat": 4,
 "nbformat_minor": 5
}
