{
 "cells": [
  {
   "cell_type": "markdown",
   "id": "4975a273-803a-4af4-b7c2-e6ac39fdbd9e",
   "metadata": {},
   "source": [
    "You are given a 0-indexed 2D integer array questions where questions[i] = [pointsi, brainpoweri].\n",
    "\n",
    "The array describes the questions of an exam, where you have to process the questions in order (i.e., starting from question 0) and make a decision whether to solve or skip each question. Solving question i will earn you pointsi points but you will be unable to solve each of the next brainpoweri questions. If you skip question i, you get to make the decision on the next question.\n",
    "\n",
    "    For example, given questions = [[3, 2], [4, 3], [4, 4], [2, 5]]:\n",
    "        If question 0 is solved, you will earn 3 points but you will be unable to solve questions 1 and 2.\n",
    "        If instead, question 0 is skipped and question 1 is solved, you will earn 4 points but you will be unable to solve questions 2 and 3.\n",
    "\n",
    "Return the maximum points you can earn for the exam.\n",
    "\n",
    " \n",
    "\n",
    "Example 1:\n",
    "\n",
    "Input: questions = [[3,2],[4,3],[4,4],[2,5]]\n",
    "Output: 5\n",
    "Explanation: The maximum points can be earned by solving questions 0 and 3.\n",
    "- Solve question 0: Earn 3 points, will be unable to solve the next 2 questions\n",
    "- Unable to solve questions 1 and 2\n",
    "- Solve question 3: Earn 2 points\n",
    "Total points earned: 3 + 2 = 5. There is no other way to earn 5 or more points.\n",
    "\n",
    "Example 2:\n",
    "\n",
    "Input: questions = [[1,1],[2,2],[3,3],[4,4],[5,5]]\n",
    "Output: 7\n",
    "Explanation: The maximum points can be earned by solving questions 1 and 4.\n",
    "- Skip question 0\n",
    "- Solve question 1: Earn 2 points, will be unable to solve the next 2 questions\n",
    "- Unable to solve questions 2 and 3\n",
    "- Solve question 4: Earn 5 points\n",
    "Total points earned: 2 + 5 = 7. There is no other way to earn 7 or more points.\n",
    "\n",
    " \n",
    "\n",
    "Constraints:\n",
    "\n",
    "    1 <= questions.length <= 105\n",
    "    questions[i].length == 2\n",
    "    1 <= pointsi, brainpoweri <= 105\n",
    "\n"
   ]
  },
  {
   "cell_type": "code",
   "execution_count": null,
   "id": "35f6503f-5b30-4f97-8d89-47629429d831",
   "metadata": {},
   "outputs": [],
   "source": [
    "class Solution:\n",
    "    def mostPoints(self, questions: List[List[int]]) -> int:\n",
    "        @cache\n",
    "        def solve(idx):\n",
    "            if idx >= len(questions):\n",
    "                return 0\n",
    "            return max(\n",
    "                questions[idx][0] + solve(idx + questions[idx][1] + 1),\n",
    "                solve(idx + 1)\n",
    "            )\n",
    "        \n",
    "        return solve(0)"
   ]
  },
  {
   "cell_type": "code",
   "execution_count": null,
   "id": "e59e9b7e-4cd7-46a5-aabb-18dc9e7181a3",
   "metadata": {},
   "outputs": [],
   "source": [
    "class Solution:\n",
    "    def mostPoints(self, questions: List[List[int]]) -> int:\n",
    "        dp = [-1 for _ in questions]\n",
    "\n",
    "        def solve(idx, dp):\n",
    "            if idx >= len(questions):\n",
    "                    return 0\n",
    "            if dp[idx] < 0:\n",
    "                dp[idx] = max(\n",
    "                    questions[idx][0] + solve(idx + questions[idx][1] + 1, dp),\n",
    "                    solve(idx + 1, dp)\n",
    "                )\n",
    "            return dp[idx]\n",
    "        \n",
    "        return solve(0, dp)"
   ]
  }
 ],
 "metadata": {
  "kernelspec": {
   "display_name": "Python 3 (ipykernel)",
   "language": "python",
   "name": "python3"
  },
  "language_info": {
   "codemirror_mode": {
    "name": "ipython",
    "version": 3
   },
   "file_extension": ".py",
   "mimetype": "text/x-python",
   "name": "python",
   "nbconvert_exporter": "python",
   "pygments_lexer": "ipython3",
   "version": "3.12.9"
  }
 },
 "nbformat": 4,
 "nbformat_minor": 5
}
