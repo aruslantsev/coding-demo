{
 "cells": [
  {
   "cell_type": "markdown",
   "id": "447d5824-68ea-47af-bd18-a3bb583f6bfa",
   "metadata": {},
   "source": [
    "You are given an integer array nums. You need to create a 2D array from nums satisfying the following conditions:\n",
    "\n",
    "    The 2D array should contain only the elements of the array nums.\n",
    "    Each row in the 2D array contains distinct integers.\n",
    "    The number of rows in the 2D array should be minimal.\n",
    "\n",
    "Return the resulting array. If there are multiple answers, return any of them.\n",
    "\n",
    "Note that the 2D array can have a different number of elements on each row.\n",
    "\n",
    " \n",
    "\n",
    "Example 1:\n",
    "\n",
    "Input: nums = [1,3,4,1,2,3,1]\n",
    "Output: [[1,3,4,2],[1,3],[1]]\n",
    "Explanation: We can create a 2D array that contains the following rows:\n",
    "- 1,3,4,2\n",
    "- 1,3\n",
    "- 1\n",
    "All elements of nums were used, and each row of the 2D array contains distinct integers, so it is a valid answer.\n",
    "It can be shown that we cannot have less than 3 rows in a valid array.\n",
    "\n",
    "Example 2:\n",
    "\n",
    "Input: nums = [1,2,3,4]\n",
    "Output: [[4,3,2,1]]\n",
    "Explanation: All elements of the array are distinct, so we can keep all of them in the first row of the 2D array.\n",
    "\n",
    " \n",
    "\n",
    "Constraints:\n",
    "\n",
    "    1 <= nums.length <= 200\n",
    "    1 <= nums[i] <= nums.length\n",
    "\n"
   ]
  },
  {
   "cell_type": "code",
   "execution_count": null,
   "id": "2ef56df8-907d-4f99-9cbd-5f84776d181f",
   "metadata": {},
   "outputs": [],
   "source": [
    "class Solution:\n",
    "    def findMatrix(self, nums: List[int]) -> List[List[int]]:\n",
    "        um = {}\n",
    "        for i in nums:\n",
    "            um[i] = um.get(i, 0) + 1\n",
    "        \n",
    "        ans = []\n",
    "        while um:\n",
    "            temp = []\n",
    "            to_erase = []\n",
    "            for f, s in um.items():\n",
    "                temp.append(f)\n",
    "                s -= 1\n",
    "                if s == 0:\n",
    "                    to_erase.append(f)\n",
    "                um[f] = s\n",
    "            ans.append(temp)\n",
    "            for i in to_erase:\n",
    "                del um[i]\n",
    "        return ans"
   ]
  },
  {
   "cell_type": "code",
   "execution_count": null,
   "id": "f4ae8a78-025f-4b52-b59d-12e9550e123d",
   "metadata": {},
   "outputs": [],
   "source": [
    "class Solution:\n",
    "    def findMatrix(self, nums: List[int]) -> List[List[int]]:\n",
    "        cnt = Counter(nums)\n",
    "        ans = defaultdict(list)\n",
    "        for num, count in cnt.items():\n",
    "            for i in range(count):\n",
    "                ans[i].append(num)\n",
    "        return list(ans.values())"
   ]
  }
 ],
 "metadata": {
  "kernelspec": {
   "display_name": "Python 3 (ipykernel)",
   "language": "python",
   "name": "python3"
  },
  "language_info": {
   "codemirror_mode": {
    "name": "ipython",
    "version": 3
   },
   "file_extension": ".py",
   "mimetype": "text/x-python",
   "name": "python",
   "nbconvert_exporter": "python",
   "pygments_lexer": "ipython3",
   "version": "3.11.4"
  }
 },
 "nbformat": 4,
 "nbformat_minor": 5
}
