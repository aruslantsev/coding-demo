{
 "cells": [
  {
   "cell_type": "markdown",
   "id": "0ad35780-9928-4ab0-8f47-ce4b2f3f904c",
   "metadata": {},
   "source": [
    "You are given a 0-indexed array of n integers differences, which describes the differences between each pair of consecutive integers of a hidden sequence of length (n + 1). More formally, call the hidden sequence hidden, then we have that differences[i] = hidden[i + 1] - hidden[i].\n",
    "\n",
    "You are further given two integers lower and upper that describe the inclusive range of values [lower, upper] that the hidden sequence can contain.\n",
    "\n",
    "    For example, given differences = [1, -3, 4], lower = 1, upper = 6, the hidden sequence is a sequence of length 4 whose elements are in between 1 and 6 (inclusive).\n",
    "        [3, 4, 1, 5] and [4, 5, 2, 6] are possible hidden sequences.\n",
    "        [5, 6, 3, 7] is not possible since it contains an element greater than 6.\n",
    "        [1, 2, 3, 4] is not possible since the differences are not correct.\n",
    "\n",
    "Return the number of possible hidden sequences there are. If there are no possible sequences, return 0.\n",
    "\n",
    " \n",
    "\n",
    "Example 1:\n",
    "\n",
    "Input: differences = [1,-3,4], lower = 1, upper = 6\n",
    "Output: 2\n",
    "Explanation: The possible hidden sequences are:\n",
    "- [3, 4, 1, 5]\n",
    "- [4, 5, 2, 6]\n",
    "Thus, we return 2.\n",
    "\n",
    "Example 2:\n",
    "\n",
    "Input: differences = [3,-4,5,1,-2], lower = -4, upper = 5\n",
    "Output: 4\n",
    "Explanation: The possible hidden sequences are:\n",
    "- [-3, 0, -4, 1, 2, 0]\n",
    "- [-2, 1, -3, 2, 3, 1]\n",
    "- [-1, 2, -2, 3, 4, 2]\n",
    "- [0, 3, -1, 4, 5, 3]\n",
    "Thus, we return 4.\n",
    "\n",
    "Example 3:\n",
    "\n",
    "Input: differences = [4,-7,2], lower = 3, upper = 6\n",
    "Output: 0\n",
    "Explanation: There are no possible hidden sequences. Thus, we return 0.\n",
    "\n",
    " \n",
    "\n",
    "Constraints:\n",
    "\n",
    "    n == differences.length\n",
    "    1 <= n <= 105\n",
    "    -105 <= differences[i] <= 105\n",
    "    -105 <= lower <= upper <= 105\n",
    "\n"
   ]
  },
  {
   "cell_type": "code",
   "execution_count": null,
   "id": "e7fab05e-d96a-498f-b4fe-1463a699a133",
   "metadata": {},
   "outputs": [],
   "source": [
    "class Solution:\n",
    "    def numberOfArrays(self, differences: List[int], lower: int, upper: int) -> int:\n",
    "        l = h = curr = 0\n",
    "        for d in differences:\n",
    "            curr += d\n",
    "            l = min(l, curr)\n",
    "            h = max(h, curr)\n",
    "        d = lower - l\n",
    "        h += d\n",
    "        return max(0, upper - h + 1)\n"
   ]
  }
 ],
 "metadata": {
  "kernelspec": {
   "display_name": "Python 3 (ipykernel)",
   "language": "python",
   "name": "python3"
  },
  "language_info": {
   "codemirror_mode": {
    "name": "ipython",
    "version": 3
   },
   "file_extension": ".py",
   "mimetype": "text/x-python",
   "name": "python",
   "nbconvert_exporter": "python",
   "pygments_lexer": "ipython3",
   "version": "3.12.9"
  }
 },
 "nbformat": 4,
 "nbformat_minor": 5
}
