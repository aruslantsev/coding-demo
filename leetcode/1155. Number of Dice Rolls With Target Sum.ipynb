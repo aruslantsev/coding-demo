{
 "cells": [
  {
   "cell_type": "markdown",
   "id": "ac018f31-8e1d-4c35-8f5e-87d9b253f13d",
   "metadata": {},
   "source": [
    "You have n dice and each die has k faces numbered from 1 to k.\n",
    "\n",
    "Given three integers n, k, and target, return the number of possible ways (out of the kn total ways) to roll the dice so the sum of the face-up numbers equals target. Since the answer may be too large, return it modulo 109 + 7.\n",
    "\n",
    " \n",
    "\n",
    "Example 1:\n",
    "\n",
    "Input: n = 1, k = 6, target = 3\n",
    "Output: 1\n",
    "Explanation: You throw one die with 6 faces.\n",
    "There is only one way to get a sum of 3.\n",
    "\n",
    "Example 2:\n",
    "\n",
    "Input: n = 2, k = 6, target = 7\n",
    "Output: 6\n",
    "Explanation: You throw two dice, each with 6 faces.\n",
    "There are 6 ways to get a sum of 7: 1+6, 2+5, 3+4, 4+3, 5+2, 6+1.\n",
    "\n",
    "Example 3:\n",
    "\n",
    "Input: n = 30, k = 30, target = 500\n",
    "Output: 222616187\n",
    "Explanation: The answer must be returned modulo 109 + 7.\n",
    "\n",
    " \n",
    "\n",
    "Constraints:\n",
    "\n",
    "    1 <= n, k <= 30\n",
    "    1 <= target <= 1000\n",
    "\n"
   ]
  },
  {
   "cell_type": "code",
   "execution_count": 2,
   "id": "69deca1a-995d-4c71-bb3f-12d4241c2061",
   "metadata": {},
   "outputs": [],
   "source": [
    "from functools import cache\n",
    "\n",
    "class Solution:\n",
    "    def numRollsToTarget(self, n: int, k: int, target: int) -> int:\n",
    "        @cache\n",
    "        def count(curr_sum, remaining):\n",
    "            if curr_sum > target:\n",
    "                return 0\n",
    "            if remaining == 0:\n",
    "                if curr_sum == target:\n",
    "                    return 1\n",
    "                else:\n",
    "                    return 0\n",
    "            return sum([count(curr_sum + i, remaining - 1) for i in range(1, k + 1)])\n",
    "        \n",
    "        return count(0, n) % (10**9 + 7)\n",
    "                "
   ]
  },
  {
   "cell_type": "code",
   "execution_count": 4,
   "id": "6ccfd773-3bb6-4a1c-93fe-b528baec7f0a",
   "metadata": {},
   "outputs": [
    {
     "data": {
      "text/plain": [
       "1"
      ]
     },
     "execution_count": 4,
     "metadata": {},
     "output_type": "execute_result"
    }
   ],
   "source": [
    "s = Solution()\n",
    "s.numRollsToTarget(1, 6, 3)"
   ]
  },
  {
   "cell_type": "code",
   "execution_count": 5,
   "id": "4ada793d-4e4e-4abf-95fc-2a6efab89441",
   "metadata": {},
   "outputs": [
    {
     "data": {
      "text/plain": [
       "6"
      ]
     },
     "execution_count": 5,
     "metadata": {},
     "output_type": "execute_result"
    }
   ],
   "source": [
    "s.numRollsToTarget(2, 6, 7)"
   ]
  },
  {
   "cell_type": "code",
   "execution_count": 7,
   "id": "fb73ab8f-64d5-46ae-a315-566710429531",
   "metadata": {},
   "outputs": [
    {
     "data": {
      "text/plain": [
       "222616187"
      ]
     },
     "execution_count": 7,
     "metadata": {},
     "output_type": "execute_result"
    }
   ],
   "source": [
    "s.numRollsToTarget(30, 30, 500)"
   ]
  },
  {
   "cell_type": "code",
   "execution_count": null,
   "id": "5ea3b65b-51cd-4686-a047-180f74e849fa",
   "metadata": {},
   "outputs": [],
   "source": []
  }
 ],
 "metadata": {
  "kernelspec": {
   "display_name": "Python 3 (ipykernel)",
   "language": "python",
   "name": "python3"
  },
  "language_info": {
   "codemirror_mode": {
    "name": "ipython",
    "version": 3
   },
   "file_extension": ".py",
   "mimetype": "text/x-python",
   "name": "python",
   "nbconvert_exporter": "python",
   "pygments_lexer": "ipython3",
   "version": "3.9.13"
  }
 },
 "nbformat": 4,
 "nbformat_minor": 5
}
