{
 "cells": [
  {
   "cell_type": "markdown",
   "id": "0598e109-af43-491b-8932-df0e560675f1",
   "metadata": {},
   "source": [
    "You are assigned to put some amount of boxes onto one truck. You are given a 2D array boxTypes, where boxTypes[i] = [numberOfBoxesi, numberOfUnitsPerBoxi]:\n",
    "\n",
    "    numberOfBoxesi is the number of boxes of type i.\n",
    "    numberOfUnitsPerBoxi is the number of units in each box of the type i.\n",
    "\n",
    "You are also given an integer truckSize, which is the maximum number of boxes that can be put on the truck. You can choose any boxes to put on the truck as long as the number of boxes does not exceed truckSize.\n",
    "\n",
    "Return the maximum total number of units that can be put on the truck.\n",
    "\n",
    " \n",
    "\n",
    "Example 1:\n",
    "\n",
    "Input: boxTypes = [[1,3],[2,2],[3,1]], truckSize = 4\n",
    "Output: 8\n",
    "Explanation: There are:\n",
    "- 1 box of the first type that contains 3 units.\n",
    "- 2 boxes of the second type that contain 2 units each.\n",
    "- 3 boxes of the third type that contain 1 unit each.\n",
    "You can take all the boxes of the first and second types, and one box of the third type.\n",
    "The total number of units will be = (1 * 3) + (2 * 2) + (1 * 1) = 8.\n",
    "\n",
    "Example 2:\n",
    "\n",
    "Input: boxTypes = [[5,10],[2,5],[4,7],[3,9]], truckSize = 10\n",
    "Output: 91\n",
    "\n",
    " \n",
    "\n",
    "Constraints:\n",
    "\n",
    "    1 <= boxTypes.length <= 1000\n",
    "    1 <= numberOfBoxesi, numberOfUnitsPerBoxi <= 1000\n",
    "    1 <= truckSize <= 106\n",
    "\n"
   ]
  },
  {
   "cell_type": "code",
   "execution_count": 1,
   "id": "648b85f8-9253-40b4-a8d5-777e19afe13d",
   "metadata": {},
   "outputs": [],
   "source": [
    "from typing import List\n",
    "\n",
    "class Solution:\n",
    "    def maximumUnits(self, boxTypes: List[List[int]], truckSize: int) -> int:\n",
    "        boxTypes = sorted(boxTypes, key=lambda x: -x[1])\n",
    "        total_units = 0\n",
    "        remaining = truckSize\n",
    "        for boxes, box_units in boxTypes:\n",
    "            if boxes > remaining:\n",
    "                boxes = remaining\n",
    "            remaining -= boxes\n",
    "            total_units += boxes * box_units\n",
    "            if remaining == 0:\n",
    "                break\n",
    "        return total_units\n",
    "            "
   ]
  },
  {
   "cell_type": "code",
   "execution_count": null,
   "id": "0d64efcf-624d-46c2-a1a7-402ca0bbf65a",
   "metadata": {},
   "outputs": [],
   "source": []
  }
 ],
 "metadata": {
  "kernelspec": {
   "display_name": "Python 3 (ipykernel)",
   "language": "python",
   "name": "python3"
  },
  "language_info": {
   "codemirror_mode": {
    "name": "ipython",
    "version": 3
   },
   "file_extension": ".py",
   "mimetype": "text/x-python",
   "name": "python",
   "nbconvert_exporter": "python",
   "pygments_lexer": "ipython3",
   "version": "3.9.12"
  }
 },
 "nbformat": 4,
 "nbformat_minor": 5
}
