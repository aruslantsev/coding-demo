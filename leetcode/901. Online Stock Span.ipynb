{
 "cells": [
  {
   "cell_type": "markdown",
   "id": "906c7c7a-2788-4803-9797-183c06713d57",
   "metadata": {},
   "source": [
    "Design an algorithm that collects daily price quotes for some stock and returns the span of that stock's price for the current day.\n",
    "\n",
    "The span of the stock's price today is defined as the maximum number of consecutive days (starting from today and going backward) for which the stock price was less than or equal to today's price.\n",
    "\n",
    "    For example, if the price of a stock over the next 7 days were [100,80,60,70,60,75,85], then the stock spans would be [1,1,1,2,1,4,6].\n",
    "\n",
    "Implement the StockSpanner class:\n",
    "\n",
    "    StockSpanner() Initializes the object of the class.\n",
    "    int next(int price) Returns the span of the stock's price given that today's price is price.\n",
    "\n",
    " \n",
    "\n",
    "Example 1:\n",
    "\n",
    "Input\n",
    "[\"StockSpanner\", \"next\", \"next\", \"next\", \"next\", \"next\", \"next\", \"next\"]\n",
    "[[], [100], [80], [60], [70], [60], [75], [85]]\n",
    "Output\n",
    "[null, 1, 1, 1, 2, 1, 4, 6]\n",
    "\n",
    "Explanation\n",
    "StockSpanner stockSpanner = new StockSpanner();\n",
    "stockSpanner.next(100); // return 1\n",
    "stockSpanner.next(80);  // return 1\n",
    "stockSpanner.next(60);  // return 1\n",
    "stockSpanner.next(70);  // return 2\n",
    "stockSpanner.next(60);  // return 1\n",
    "stockSpanner.next(75);  // return 4, because the last 4 prices (including today's price of 75) were less than or equal to today's price.\n",
    "stockSpanner.next(85);  // return 6\n",
    "\n",
    " \n",
    "\n",
    "Constraints:\n",
    "\n",
    "    1 <= price <= 105\n",
    "    At most 104 calls will be made to next.\n",
    "\n"
   ]
  },
  {
   "cell_type": "code",
   "execution_count": 7,
   "id": "3fc1753a-828a-4610-81d4-52ff59ac0bbd",
   "metadata": {},
   "outputs": [],
   "source": [
    "class StockSpanner:\n",
    "\n",
    "    def __init__(self):\n",
    "        self.stocks = []\n",
    "        self.positions = []\n",
    "        self.position = 0\n",
    "\n",
    "    def next(self, price: int) -> int:\n",
    "        while self.stocks and price >= self.stocks[-1]:\n",
    "            self.stocks.pop()\n",
    "            self.positions.pop()\n",
    "        if not self.stocks:\n",
    "            res = self.position + 1\n",
    "        else:\n",
    "            res = self.position - self.positions[-1]\n",
    "        \n",
    "        self.stocks.append(price)\n",
    "        self.positions.append(self.position)\n",
    "        self.position += 1\n",
    "\n",
    "        return res\n",
    "\n",
    "\n",
    "# Your StockSpanner object will be instantiated and called as such:\n",
    "# obj = StockSpanner()\n",
    "# param_1 = obj.next(price)"
   ]
  },
  {
   "cell_type": "code",
   "execution_count": 8,
   "id": "5311e90f-20d8-405a-9683-d24b3f7a2bcb",
   "metadata": {},
   "outputs": [
    {
     "name": "stdout",
     "output_type": "stream",
     "text": [
      "Actual: 1. Correct: 1\n",
      "Actual: 1. Correct: 1\n",
      "Actual: 1. Correct: 1\n",
      "Actual: 2. Correct: 2\n",
      "Actual: 1. Correct: 1\n",
      "Actual: 4. Correct: 4\n",
      "Actual: 6. Correct: 6\n"
     ]
    }
   ],
   "source": [
    "s = StockSpanner()\n",
    "\n",
    "for i, j in zip([100, 80, 60, 70, 60, 75, 85], [1, 1, 1, 2, 1, 4, 6]):\n",
    "    r = s.next(i)\n",
    "    print(f\"Actual: {r}. Correct: {j}\")"
   ]
  },
  {
   "cell_type": "code",
   "execution_count": null,
   "id": "cd5f7cc3-4a9a-41f2-a319-d73ace437375",
   "metadata": {},
   "outputs": [],
   "source": []
  }
 ],
 "metadata": {
  "kernelspec": {
   "display_name": "Python 3 (ipykernel)",
   "language": "python",
   "name": "python3"
  },
  "language_info": {
   "codemirror_mode": {
    "name": "ipython",
    "version": 3
   },
   "file_extension": ".py",
   "mimetype": "text/x-python",
   "name": "python",
   "nbconvert_exporter": "python",
   "pygments_lexer": "ipython3",
   "version": "3.9.13"
  }
 },
 "nbformat": 4,
 "nbformat_minor": 5
}
