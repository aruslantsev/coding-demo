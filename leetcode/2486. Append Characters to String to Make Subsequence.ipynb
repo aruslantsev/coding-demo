{
 "cells": [
  {
   "cell_type": "markdown",
   "id": "80e09e24-9821-49da-8945-f1f9e5b5f4bb",
   "metadata": {},
   "source": [
    "You are given two strings s and t consisting of only lowercase English letters.\n",
    "\n",
    "Return the minimum number of characters that need to be appended to the end of s so that t becomes a subsequence of s.\n",
    "\n",
    "A subsequence is a string that can be derived from another string by deleting some or no characters without changing the order of the remaining characters.\n",
    "\n",
    " \n",
    "\n",
    "Example 1:\n",
    "\n",
    "Input: s = \"coaching\", t = \"coding\"\n",
    "Output: 4\n",
    "Explanation: Append the characters \"ding\" to the end of s so that s = \"coachingding\".\n",
    "Now, t is a subsequence of s (\"coachingding\").\n",
    "It can be shown that appending any 3 characters to the end of s will never make t a subsequence.\n",
    "\n",
    "Example 2:\n",
    "\n",
    "Input: s = \"abcde\", t = \"a\"\n",
    "Output: 0\n",
    "Explanation: t is already a subsequence of s (\"abcde\").\n",
    "\n",
    "Example 3:\n",
    "\n",
    "Input: s = \"z\", t = \"abcde\"\n",
    "Output: 5\n",
    "Explanation: Append the characters \"abcde\" to the end of s so that s = \"zabcde\".\n",
    "Now, t is a subsequence of s (\"zabcde\").\n",
    "It can be shown that appending any 4 characters to the end of s will never make t a subsequence.\n",
    "\n",
    " \n",
    "\n",
    "Constraints:\n",
    "\n",
    "    1 <= s.length, t.length <= 105\n",
    "    s and t consist only of lowercase English letters.\n",
    "\n"
   ]
  },
  {
   "cell_type": "code",
   "execution_count": null,
   "id": "a7f5860f-6077-4c35-874d-9074276dcb36",
   "metadata": {},
   "outputs": [],
   "source": [
    "class Solution:\n",
    "    def appendCharacters(self, s: str, t: str) -> int:\n",
    "        ps = 0\n",
    "        pt = 0\n",
    "        while ps < len(s) and pt < len(t):\n",
    "            if s[ps] == t[pt]:\n",
    "                pt += 1\n",
    "            ps += 1\n",
    "\n",
    "        return len(t) - pt"
   ]
  }
 ],
 "metadata": {
  "kernelspec": {
   "display_name": "Python 3 (ipykernel)",
   "language": "python",
   "name": "python3"
  },
  "language_info": {
   "codemirror_mode": {
    "name": "ipython",
    "version": 3
   },
   "file_extension": ".py",
   "mimetype": "text/x-python",
   "name": "python",
   "nbconvert_exporter": "python",
   "pygments_lexer": "ipython3",
   "version": "3.12.3"
  }
 },
 "nbformat": 4,
 "nbformat_minor": 5
}
