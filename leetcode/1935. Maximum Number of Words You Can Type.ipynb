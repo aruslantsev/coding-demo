{
 "cells": [
  {
   "cell_type": "markdown",
   "id": "096adbd7-c102-460f-816b-dc573775c0c1",
   "metadata": {},
   "source": [
    "There is a malfunctioning keyboard where some letter keys do not work. All other keys on the keyboard work properly.\n",
    "\n",
    "Given a string text of words separated by a single space (no leading or trailing spaces) and a string brokenLetters of all distinct letter keys that are broken, return the number of words in text you can fully type using this keyboard.\n",
    "\n",
    " \n",
    "\n",
    "Example 1:\n",
    "\n",
    "Input: text = \"hello world\", brokenLetters = \"ad\"\n",
    "Output: 1\n",
    "Explanation: We cannot type \"world\" because the 'd' key is broken.\n",
    "\n",
    "Example 2:\n",
    "\n",
    "Input: text = \"leet code\", brokenLetters = \"lt\"\n",
    "Output: 1\n",
    "Explanation: We cannot type \"leet\" because the 'l' and 't' keys are broken.\n",
    "\n",
    "Example 3:\n",
    "\n",
    "Input: text = \"leet code\", brokenLetters = \"e\"\n",
    "Output: 0\n",
    "Explanation: We cannot type either word because the 'e' key is broken.\n",
    "\n",
    " \n",
    "\n",
    "Constraints:\n",
    "\n",
    "    1 <= text.length <= 104\n",
    "    0 <= brokenLetters.length <= 26\n",
    "    text consists of words separated by a single space without any leading or trailing spaces.\n",
    "    Each word only consists of lowercase English letters.\n",
    "    brokenLetters consists of distinct lowercase English letters.\n",
    "\n"
   ]
  },
  {
   "cell_type": "code",
   "execution_count": null,
   "id": "107bb0e6-c400-4bcb-a932-97b121ec6fe2",
   "metadata": {},
   "outputs": [],
   "source": [
    "class Solution:\n",
    "    def canBeTypedWords(self, text: str, brokenLetters: str) -> int:\n",
    "        ans = 0\n",
    "        for word in text.split():\n",
    "            if not any(l in word for l in brokenLetters):\n",
    "                ans += 1\n",
    "        return ans"
   ]
  },
  {
   "cell_type": "code",
   "execution_count": null,
   "id": "dc5a37af-6699-47a1-a93d-5fcf49174d8f",
   "metadata": {},
   "outputs": [],
   "source": [
    "class Solution:\n",
    "    def canBeTypedWords(self, text: str, brokenLetters: str) -> int:\n",
    "        return sum(not any(l in word for l in brokenLetters) for word in text.split())"
   ]
  }
 ],
 "metadata": {
  "kernelspec": {
   "display_name": "Python 3 (ipykernel)",
   "language": "python",
   "name": "python3"
  },
  "language_info": {
   "codemirror_mode": {
    "name": "ipython",
    "version": 3
   },
   "file_extension": ".py",
   "mimetype": "text/x-python",
   "name": "python",
   "nbconvert_exporter": "python",
   "pygments_lexer": "ipython3",
   "version": "3.13.5"
  }
 },
 "nbformat": 4,
 "nbformat_minor": 5
}
