{
 "cells": [
  {
   "cell_type": "markdown",
   "id": "4a663401-686a-4c0c-8023-2ac209ba4cfd",
   "metadata": {},
   "source": [
    "There are n balls on a table, each ball has a color black or white.\n",
    "\n",
    "You are given a 0-indexed binary string s of length n, where 1 and 0 represent black and white balls, respectively.\n",
    "\n",
    "In each step, you can choose two adjacent balls and swap them.\n",
    "\n",
    "Return the minimum number of steps to group all the black balls to the right and all the white balls to the left.\n",
    "\n",
    " \n",
    "\n",
    "Example 1:\n",
    "\n",
    "Input: s = \"101\"\n",
    "Output: 1\n",
    "Explanation: We can group all the black balls to the right in the following way:\n",
    "- Swap s[0] and s[1], s = \"011\".\n",
    "Initially, 1s are not grouped together, requiring at least 1 step to group them to the right.\n",
    "\n",
    "Example 2:\n",
    "\n",
    "Input: s = \"100\"\n",
    "Output: 2\n",
    "Explanation: We can group all the black balls to the right in the following way:\n",
    "- Swap s[0] and s[1], s = \"010\".\n",
    "- Swap s[1] and s[2], s = \"001\".\n",
    "It can be proven that the minimum number of steps needed is 2.\n",
    "\n",
    "Example 3:\n",
    "\n",
    "Input: s = \"0111\"\n",
    "Output: 0\n",
    "Explanation: All the black balls are already grouped to the right.\n",
    "\n",
    " \n",
    "\n",
    "Constraints:\n",
    "\n",
    "    1 <= n == s.length <= 105\n",
    "    s[i] is either '0' or '1'.\n",
    "\n"
   ]
  },
  {
   "cell_type": "code",
   "execution_count": null,
   "id": "edef6d8f-7807-41c4-8016-9ab6e4c20b42",
   "metadata": {},
   "outputs": [],
   "source": [
    "class Solution:\n",
    "    def minimumSteps(self, s: str) -> int:\n",
    "        white_position = 0\n",
    "        total_swaps = 0\n",
    "\n",
    "        # Iterate through each ball in the string\n",
    "        for current_pos, char in enumerate(s):\n",
    "            if char == \"0\":\n",
    "                # Calculate the number of swaps needed\n",
    "                total_swaps += current_pos - white_position\n",
    "\n",
    "                # Move the next available position for a white ball one step to the right\n",
    "                white_position += 1\n",
    "\n",
    "        return total_swaps"
   ]
  }
 ],
 "metadata": {
  "kernelspec": {
   "display_name": "Python 3 (ipykernel)",
   "language": "python",
   "name": "python3"
  },
  "language_info": {
   "codemirror_mode": {
    "name": "ipython",
    "version": 3
   },
   "file_extension": ".py",
   "mimetype": "text/x-python",
   "name": "python",
   "nbconvert_exporter": "python",
   "pygments_lexer": "ipython3",
   "version": "3.12.7"
  }
 },
 "nbformat": 4,
 "nbformat_minor": 5
}
