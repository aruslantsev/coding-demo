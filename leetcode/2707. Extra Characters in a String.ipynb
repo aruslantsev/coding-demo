{
 "cells": [
  {
   "cell_type": "markdown",
   "id": "c30e19e7-b4bf-4a67-bacd-77e50739311f",
   "metadata": {},
   "source": [
    "\n",
    "You are given a 0-indexed string s and a dictionary of words dictionary. You have to break s into one or more non-overlapping substrings such that each substring is present in dictionary. There may be some extra characters in s which are not present in any of the substrings.\n",
    "\n",
    "Return the minimum number of extra characters left over if you break up s optimally.\n",
    "\n",
    " \n",
    "\n",
    "Example 1:\n",
    "\n",
    "Input: s = \"leetscode\", dictionary = [\"leet\",\"code\",\"leetcode\"]\n",
    "Output: 1\n",
    "Explanation: We can break s in two substrings: \"leet\" from index 0 to 3 and \"code\" from index 5 to 8. There is only 1 unused character (at index 4), so we return 1.\n",
    "\n",
    "Example 2:\n",
    "\n",
    "Input: s = \"sayhelloworld\", dictionary = [\"hello\",\"world\"]\n",
    "Output: 3\n",
    "Explanation: We can break s in two substrings: \"hello\" from index 3 to 7 and \"world\" from index 8 to 12. The characters at indices 0, 1, 2 are not used in any substring and thus are considered as extra characters. Hence, we return 3.\n",
    "\n",
    " \n",
    "\n",
    "Constraints:\n",
    "\n",
    "    1 <= s.length <= 50\n",
    "    1 <= dictionary.length <= 50\n",
    "    1 <= dictionary[i].length <= 50\n",
    "    dictionary[i] and s consists of only lowercase English letters\n",
    "    dictionary contains distinct words\n",
    "\n"
   ]
  },
  {
   "cell_type": "code",
   "execution_count": null,
   "id": "5ace200e-7046-481f-8244-20937a9bef10",
   "metadata": {},
   "outputs": [],
   "source": [
    "class Solution:\n",
    "    def minExtraChar(self, s: str, dictionary: List[str]) -> int:\n",
    "\n",
    "        @cache\n",
    "        def solve(s):\n",
    "            if len(s) == 0:\n",
    "                return 0\n",
    "            \n",
    "            ans = []\n",
    "            for word in dictionary:\n",
    "                if word in s:\n",
    "                    start_pos = s.find(word)\n",
    "                    ans.append(start_pos + solve(s[start_pos + len(word):]))\n",
    "                else:\n",
    "                    ans.append(len(s))\n",
    "            return min(ans)\n",
    "        return solve(s)\n"
   ]
  },
  {
   "cell_type": "code",
   "execution_count": null,
   "id": "d85a974a-6523-434e-9be9-196889a5223c",
   "metadata": {},
   "outputs": [],
   "source": [
    "class Solution:\n",
    "    def minExtraChar(self, s: str, dictionary: List[str]) -> int:\n",
    "        dictionary_set = set(dictionary)\n",
    "        @cache\n",
    "        def dp(start):\n",
    "            if start == len(s):\n",
    "                return 0\n",
    "            ans = dp(start + 1) + 1\n",
    "            for w in dictionary_set:\n",
    "                if s[start:].startswith(w):\n",
    "                    ans = min(ans, dp(start + len(w)))\n",
    "            return ans\n",
    "        return dp(0)\n"
   ]
  }
 ],
 "metadata": {
  "kernelspec": {
   "display_name": "Python 3 (ipykernel)",
   "language": "python",
   "name": "python3"
  },
  "language_info": {
   "codemirror_mode": {
    "name": "ipython",
    "version": 3
   },
   "file_extension": ".py",
   "mimetype": "text/x-python",
   "name": "python",
   "nbconvert_exporter": "python",
   "pygments_lexer": "ipython3",
   "version": "3.12.4"
  }
 },
 "nbformat": 4,
 "nbformat_minor": 5
}
