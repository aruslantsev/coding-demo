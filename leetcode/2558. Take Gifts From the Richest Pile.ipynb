{
 "cells": [
  {
   "cell_type": "markdown",
   "id": "a5ec5460-54bc-48f3-a0bc-f8eb56c833bc",
   "metadata": {},
   "source": [
    "You are given an integer array gifts denoting the number of gifts in various piles. Every second, you do the following:\n",
    "\n",
    "    Choose the pile with the maximum number of gifts.\n",
    "    If there is more than one pile with the maximum number of gifts, choose any.\n",
    "    Reduce the number of gifts in the pile to the floor of the square root of the original number of gifts in the pile.\n",
    "\n",
    "Return the number of gifts remaining after k seconds.\n",
    "\n",
    " \n",
    "\n",
    "Example 1:\n",
    "\n",
    "Input: gifts = [25,64,9,4,100], k = 4\n",
    "Output: 29\n",
    "Explanation: \n",
    "The gifts are taken in the following way:\n",
    "- In the first second, the last pile is chosen and 10 gifts are left behind.\n",
    "- Then the second pile is chosen and 8 gifts are left behind.\n",
    "- After that the first pile is chosen and 5 gifts are left behind.\n",
    "- Finally, the last pile is chosen again and 3 gifts are left behind.\n",
    "The final remaining gifts are [5,8,9,4,3], so the total number of gifts remaining is 29.\n",
    "\n",
    "Example 2:\n",
    "\n",
    "Input: gifts = [1,1,1,1], k = 4\n",
    "Output: 4\n",
    "Explanation: \n",
    "In this case, regardless which pile you choose, you have to leave behind 1 gift in each pile. \n",
    "That is, you can't take any pile with you. \n",
    "So, the total gifts remaining are 4.\n",
    "\n",
    " \n",
    "\n",
    "Constraints:\n",
    "\n",
    "    1 <= gifts.length <= 103\n",
    "    1 <= gifts[i] <= 109\n",
    "    1 <= k <= 103\n",
    "\n"
   ]
  },
  {
   "cell_type": "code",
   "execution_count": null,
   "id": "d383efec-f16b-4360-a080-4a431a748813",
   "metadata": {},
   "outputs": [],
   "source": [
    "class Solution:\n",
    "    def pickGifts(self, gifts: List[int], k: int) -> int:\n",
    "        gifts = [-g for g in gifts]\n",
    "        heapq.heapify(gifts)\n",
    "        for _ in range(k):\n",
    "            g = -heapq.heappop(gifts)\n",
    "            heappush(gifts, -int(g**0.5))\n",
    "        return -sum(gifts)"
   ]
  }
 ],
 "metadata": {
  "kernelspec": {
   "display_name": "Python 3 (ipykernel)",
   "language": "python",
   "name": "python3"
  },
  "language_info": {
   "codemirror_mode": {
    "name": "ipython",
    "version": 3
   },
   "file_extension": ".py",
   "mimetype": "text/x-python",
   "name": "python",
   "nbconvert_exporter": "python",
   "pygments_lexer": "ipython3",
   "version": "3.12.7"
  }
 },
 "nbformat": 4,
 "nbformat_minor": 5
}
