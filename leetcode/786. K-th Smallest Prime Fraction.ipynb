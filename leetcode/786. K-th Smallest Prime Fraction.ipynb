{
 "cells": [
  {
   "cell_type": "markdown",
   "id": "67fe0e5a-7b7a-47b0-b41d-700a7ee742d9",
   "metadata": {},
   "source": [
    "You are given a sorted integer array arr containing 1 and prime numbers, where all the integers of arr are unique. You are also given an integer k.\n",
    "\n",
    "For every i and j where 0 <= i < j < arr.length, we consider the fraction arr[i] / arr[j].\n",
    "\n",
    "Return the kth smallest fraction considered. Return your answer as an array of integers of size 2, where answer[0] == arr[i] and answer[1] == arr[j].\n",
    "\n",
    " \n",
    "\n",
    "Example 1:\n",
    "\n",
    "Input: arr = [1,2,3,5], k = 3\n",
    "Output: [2,5]\n",
    "Explanation: The fractions to be considered in sorted order are:\n",
    "1/5, 1/3, 2/5, 1/2, 3/5, and 2/3.\n",
    "The third fraction is 2/5.\n",
    "\n",
    "Example 2:\n",
    "\n",
    "Input: arr = [1,7], k = 1\n",
    "Output: [1,7]\n",
    "\n",
    " \n",
    "\n",
    "Constraints:\n",
    "\n",
    "    2 <= arr.length <= 1000\n",
    "    1 <= arr[i] <= 3 * 104\n",
    "    arr[0] == 1\n",
    "    arr[i] is a prime number for i > 0.\n",
    "    All the numbers of arr are unique and sorted in strictly increasing order.\n",
    "    1 <= k <= arr.length * (arr.length - 1) / 2\n",
    "\n",
    " \n",
    "Follow up: Can you solve the problem with better than O(n2) complexity?"
   ]
  },
  {
   "cell_type": "code",
   "execution_count": null,
   "id": "56a64511-7a9e-48b4-a8ee-0a815f9579fa",
   "metadata": {},
   "outputs": [],
   "source": [
    "class Solution:\n",
    "    def kthSmallestPrimeFraction(self, arr: List[int], k: int) -> List[int]:\n",
    "        pq = []\n",
    "\n",
    "        def compare(a, b):\n",
    "            return a[0] - b[0]\n",
    "\n",
    "        for i in range(len(arr)):\n",
    "            heapq.heappush(pq, ((arr[i] / arr[-1]), i, len(arr) - 1))\n",
    "\n",
    "        for _ in range(k - 1):\n",
    "            cur = heapq.heappop(pq)\n",
    "            numerator_index = cur[1]\n",
    "            denominator_index = cur[2] - 1\n",
    "            if denominator_index > numerator_index:\n",
    "                heapq.heappush(pq, (\n",
    "                    (arr[numerator_index] / arr[denominator_index]), \n",
    "                    numerator_index, \n",
    "                    denominator_index\n",
    "                ))\n",
    "\n",
    "        result = heapq.heappop(pq)\n",
    "        return [arr[result[1]], arr[result[2]]]"
   ]
  }
 ],
 "metadata": {
  "kernelspec": {
   "display_name": "Python 3 (ipykernel)",
   "language": "python",
   "name": "python3"
  },
  "language_info": {
   "codemirror_mode": {
    "name": "ipython",
    "version": 3
   },
   "file_extension": ".py",
   "mimetype": "text/x-python",
   "name": "python",
   "nbconvert_exporter": "python",
   "pygments_lexer": "ipython3",
   "version": "3.12.3"
  }
 },
 "nbformat": 4,
 "nbformat_minor": 5
}
