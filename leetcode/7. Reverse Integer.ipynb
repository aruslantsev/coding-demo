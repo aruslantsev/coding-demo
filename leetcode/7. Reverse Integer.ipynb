{
 "cells": [
  {
   "cell_type": "markdown",
   "id": "e6829bd3-1453-432a-bdef-b293f830e693",
   "metadata": {},
   "source": [
    "Given a signed 32-bit integer x, return x with its digits reversed. If reversing x causes the value to go outside the signed 32-bit integer range [-231, 231 - 1], then return 0.\n",
    "\n",
    "Assume the environment does not allow you to store 64-bit integers (signed or unsigned).\n",
    "\n",
    " \n",
    "\n",
    "Example 1:\n",
    "\n",
    "Input: x = 123\n",
    "Output: 321\n",
    "\n",
    "Example 2:\n",
    "\n",
    "Input: x = -123\n",
    "Output: -321\n",
    "\n",
    "Example 3:\n",
    "\n",
    "Input: x = 120\n",
    "Output: 21\n",
    "\n",
    " \n",
    "\n",
    "Constraints:\n",
    "\n",
    "    -231 <= x <= 231 - 1\n",
    "\n"
   ]
  },
  {
   "cell_type": "code",
   "execution_count": null,
   "id": "56849b29-835d-4fbb-9157-684514265bbf",
   "metadata": {},
   "outputs": [],
   "source": [
    "class Solution:\n",
    "    def reverse(self, x: int) -> int:\n",
    "        ans = 0\n",
    "        if x < 0:\n",
    "            sign = -1\n",
    "            x = abs(x)\n",
    "        else:\n",
    "            sign = 1\n",
    "        while x > 0:\n",
    "            ans *= 10\n",
    "            ans += x % 10\n",
    "            x //= 10\n",
    "        if not (-(2**31) <= sign * ans <= 2**31 - 1):\n",
    "            return 0\n",
    "        return sign * ans"
   ]
  }
 ],
 "metadata": {
  "kernelspec": {
   "display_name": "Python 3 (ipykernel)",
   "language": "python",
   "name": "python3"
  },
  "language_info": {
   "codemirror_mode": {
    "name": "ipython",
    "version": 3
   },
   "file_extension": ".py",
   "mimetype": "text/x-python",
   "name": "python",
   "nbconvert_exporter": "python",
   "pygments_lexer": "ipython3",
   "version": "3.10.11"
  }
 },
 "nbformat": 4,
 "nbformat_minor": 5
}
