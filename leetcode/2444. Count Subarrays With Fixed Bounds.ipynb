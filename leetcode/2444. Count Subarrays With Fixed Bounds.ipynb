{
 "cells": [
  {
   "cell_type": "markdown",
   "id": "abb72cb0-3f24-44cc-beda-84f8b84f3a52",
   "metadata": {},
   "source": [
    "You are given an integer array nums and two integers minK and maxK.\n",
    "\n",
    "A fixed-bound subarray of nums is a subarray that satisfies the following conditions:\n",
    "\n",
    "    The minimum value in the subarray is equal to minK.\n",
    "    The maximum value in the subarray is equal to maxK.\n",
    "\n",
    "Return the number of fixed-bound subarrays.\n",
    "\n",
    "A subarray is a contiguous part of an array.\n",
    "\n",
    " \n",
    "\n",
    "Example 1:\n",
    "\n",
    "Input: nums = [1,3,5,2,7,5], minK = 1, maxK = 5\n",
    "Output: 2\n",
    "Explanation: The fixed-bound subarrays are [1,3,5] and [1,3,5,2].\n",
    "\n",
    "Example 2:\n",
    "\n",
    "Input: nums = [1,1,1,1], minK = 1, maxK = 1\n",
    "Output: 10\n",
    "Explanation: Every subarray of nums is a fixed-bound subarray. There are 10 possible subarrays.\n",
    "\n",
    " \n",
    "\n",
    "Constraints:\n",
    "\n",
    "    2 <= nums.length <= 105\n",
    "    1 <= nums[i], minK, maxK <= 106\n",
    "\n"
   ]
  },
  {
   "cell_type": "code",
   "execution_count": null,
   "id": "2e76baf1-3171-40b7-9223-a3f0d545f49a",
   "metadata": {},
   "outputs": [],
   "source": [
    "class Solution:\n",
    "    def countSubarrays(self, nums: List[int], minK: int, maxK: int) -> int:\n",
    "        n = len(nums)\n",
    "        leftBound = -1\n",
    "        lastMin, lastMax = -1, -1\n",
    "        count = 0\n",
    "        \n",
    "        for i in range(n):\n",
    "            if nums[i] >= minK and nums[i] <= maxK:\n",
    "                lastMin = i if nums[i] == minK else lastMin\n",
    "                lastMax = i if nums[i] == maxK else lastMax\n",
    "                count += max(0, min(lastMin, lastMax) - leftBound)\n",
    "            else:\n",
    "                leftBound = i\n",
    "                lastMin = -1\n",
    "                lastMax = -1\n",
    "        \n",
    "        return count"
   ]
  }
 ],
 "metadata": {
  "kernelspec": {
   "display_name": "Python 3 (ipykernel)",
   "language": "python",
   "name": "python3"
  },
  "language_info": {
   "codemirror_mode": {
    "name": "ipython",
    "version": 3
   },
   "file_extension": ".py",
   "mimetype": "text/x-python",
   "name": "python",
   "nbconvert_exporter": "python",
   "pygments_lexer": "ipython3",
   "version": "3.10.8"
  }
 },
 "nbformat": 4,
 "nbformat_minor": 5
}
