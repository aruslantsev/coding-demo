{
 "cells": [
  {
   "cell_type": "markdown",
   "id": "eb11ac60-ade8-48b7-8cca-79d9e853624e",
   "metadata": {},
   "source": [
    "An ugly number is a positive integer whose prime factors are limited to 2, 3, and 5.\n",
    "\n",
    "Given an integer n, return true if n is an ugly number.\n",
    "\n",
    " \n",
    "\n",
    "Example 1:\n",
    "\n",
    "Input: n = 6\n",
    "Output: true\n",
    "Explanation: 6 = 2 × 3\n",
    "\n",
    "Example 2:\n",
    "\n",
    "Input: n = 1\n",
    "Output: true\n",
    "Explanation: 1 has no prime factors, therefore all of its prime factors are limited to 2, 3, and 5.\n",
    "\n",
    "Example 3:\n",
    "\n",
    "Input: n = 14\n",
    "Output: false\n",
    "Explanation: 14 is not ugly since it includes the prime factor 7.\n",
    "\n",
    " \n",
    "\n",
    "Constraints:\n",
    "\n",
    "    -231 <= n <= 231 - 1\n",
    "\n"
   ]
  },
  {
   "cell_type": "code",
   "execution_count": null,
   "id": "982f681d-ab1d-47ba-b6d1-86611b8afd5d",
   "metadata": {},
   "outputs": [],
   "source": [
    "class Solution:\n",
    "    def isUgly(self, n: int) -> bool:\n",
    "        def divide(nn, dd):\n",
    "            while nn > 1 and nn % dd == 0:\n",
    "                nn //= dd\n",
    "            return nn\n",
    "\n",
    "        if n <= 0:\n",
    "            return False\n",
    "        else:\n",
    "            for d in [2, 3, 5]:\n",
    "                n = divide(n, d)\n",
    "            if n == 1:\n",
    "                return True\n",
    "            else:\n",
    "                return False"
   ]
  }
 ],
 "metadata": {
  "kernelspec": {
   "display_name": "Python 3 (ipykernel)",
   "language": "python",
   "name": "python3"
  },
  "language_info": {
   "codemirror_mode": {
    "name": "ipython",
    "version": 3
   },
   "file_extension": ".py",
   "mimetype": "text/x-python",
   "name": "python",
   "nbconvert_exporter": "python",
   "pygments_lexer": "ipython3",
   "version": "3.9.13"
  }
 },
 "nbformat": 4,
 "nbformat_minor": 5
}
