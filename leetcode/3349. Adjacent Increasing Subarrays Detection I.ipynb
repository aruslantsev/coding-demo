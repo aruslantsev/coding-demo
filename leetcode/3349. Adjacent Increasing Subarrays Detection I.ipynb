{
 "cells": [
  {
   "cell_type": "markdown",
   "id": "96c85e6d-d975-47d5-b414-f6a7f593fc33",
   "metadata": {},
   "source": [
    "Given an array nums of n integers and an integer k, determine whether there exist two adjacent\n",
    "\n",
    "of length k such that both subarrays are strictly increasing. Specifically, check if there are two subarrays starting at indices a and b (a < b), where:\n",
    "\n",
    "    Both subarrays nums[a..a + k - 1] and nums[b..b + k - 1] are strictly increasing.\n",
    "    The subarrays must be adjacent, meaning b = a + k.\n",
    "\n",
    "Return true if it is possible to find two such subarrays, and false otherwise.\n",
    "\n",
    " \n",
    "\n",
    "Example 1:\n",
    "\n",
    "Input: nums = [2,5,7,8,9,2,3,4,3,1], k = 3\n",
    "\n",
    "Output: true\n",
    "\n",
    "Explanation:\n",
    "\n",
    "    The subarray starting at index 2 is [7, 8, 9], which is strictly increasing.\n",
    "    The subarray starting at index 5 is [2, 3, 4], which is also strictly increasing.\n",
    "    These two subarrays are adjacent, so the result is true.\n",
    "\n",
    "Example 2:\n",
    "\n",
    "Input: nums = [1,2,3,4,4,4,4,5,6,7], k = 5\n",
    "\n",
    "Output: false\n",
    "\n",
    " \n",
    "\n",
    "Constraints:\n",
    "\n",
    "    2 <= nums.length <= 100\n",
    "    1 < 2 * k <= nums.length\n",
    "    -1000 <= nums[i] <= 1000\n"
   ]
  },
  {
   "cell_type": "code",
   "execution_count": null,
   "id": "fb9165c2-abd4-4dfc-8c29-be905ff0bf5c",
   "metadata": {},
   "outputs": [],
   "source": [
    "class Solution:\n",
    "    def hasIncreasingSubarrays(self, nums: List[int], k: int) -> bool:\n",
    "        self.nums = nums\n",
    "        a = 0\n",
    "        while (a <= len(nums) - 2 * k):\n",
    "            if self.increasing(a, k) and self.increasing(a + k, k):\n",
    "                return True\n",
    "            a += 1\n",
    "        return False\n",
    "\n",
    "    def increasing(self, idx, l):\n",
    "        prev = self.nums[idx]\n",
    "        for num in self.nums[idx + 1: idx + l]:\n",
    "            if num <= prev:\n",
    "                return False\n",
    "            prev = num\n",
    "        return True"
   ]
  }
 ],
 "metadata": {
  "kernelspec": {
   "display_name": "Python 3 (ipykernel)",
   "language": "python",
   "name": "python3"
  },
  "language_info": {
   "codemirror_mode": {
    "name": "ipython",
    "version": 3
   },
   "file_extension": ".py",
   "mimetype": "text/x-python",
   "name": "python",
   "nbconvert_exporter": "python",
   "pygments_lexer": "ipython3",
   "version": "3.13.5"
  }
 },
 "nbformat": 4,
 "nbformat_minor": 5
}
