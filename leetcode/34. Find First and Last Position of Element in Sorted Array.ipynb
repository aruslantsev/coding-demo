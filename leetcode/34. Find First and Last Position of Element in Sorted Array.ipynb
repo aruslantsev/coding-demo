{
 "cells": [
  {
   "cell_type": "markdown",
   "id": "b13960a0-9f93-4d6e-a94e-f764689438dc",
   "metadata": {},
   "source": [
    "Given an array of integers nums sorted in non-decreasing order, find the starting and ending position of a given target value.\n",
    "\n",
    "If target is not found in the array, return [-1, -1].\n",
    "\n",
    "You must write an algorithm with O(log n) runtime complexity.\n",
    "\n",
    " \n",
    "\n",
    "Example 1:\n",
    "\n",
    "Input: nums = [5,7,7,8,8,10], target = 8\n",
    "Output: [3,4]\n",
    "\n",
    "Example 2:\n",
    "\n",
    "Input: nums = [5,7,7,8,8,10], target = 6\n",
    "Output: [-1,-1]\n",
    "\n",
    "Example 3:\n",
    "\n",
    "Input: nums = [], target = 0\n",
    "Output: [-1,-1]\n",
    "\n",
    " \n",
    "\n",
    "Constraints:\n",
    "\n",
    "    0 <= nums.length <= 105\n",
    "    -109 <= nums[i] <= 109\n",
    "    nums is a non-decreasing array.\n",
    "    -109 <= target <= 109\n",
    "\n"
   ]
  },
  {
   "cell_type": "code",
   "execution_count": 24,
   "id": "cbbb254e-a2ac-4741-b3d4-b737be0eaa4a",
   "metadata": {},
   "outputs": [],
   "source": [
    "from typing import List\n",
    "\n",
    "class Solution:\n",
    "    def searchRange(self, nums: List[int], target: int) -> List[int]:\n",
    "        if target not in nums:\n",
    "            return [-1, -1]\n",
    "        \n",
    "        l = 0\n",
    "        r = len(nums) - 1\n",
    "        m = (l + r) // 2\n",
    "        while r - l > 1:\n",
    "            if nums[m] >= target:\n",
    "                r = m\n",
    "            else:\n",
    "                l = m\n",
    "            m = (l + r) // 2\n",
    "            \n",
    "        if nums[l] == target:\n",
    "            minpos = l\n",
    "        else:\n",
    "            minpos = r\n",
    "            \n",
    "        l = minpos\n",
    "        r = len(nums) - 1\n",
    "        m = (l + r) // 2\n",
    "        while r - l > 1:\n",
    "            if nums[m] > target:\n",
    "                r = m\n",
    "            else:\n",
    "                l = m\n",
    "            m = (l + r) // 2\n",
    "            \n",
    "        if nums[r] == target:\n",
    "            maxpos = r\n",
    "        else:\n",
    "            maxpos = l\n",
    "            \n",
    "        return minpos, maxpos"
   ]
  },
  {
   "cell_type": "code",
   "execution_count": 25,
   "id": "069fcb47-4054-4a82-ae59-92b6b11593c2",
   "metadata": {},
   "outputs": [
    {
     "name": "stdout",
     "output_type": "stream",
     "text": [
      "3 4\n"
     ]
    }
   ],
   "source": [
    "s = Solution()\n",
    "s.searchRange([5,7,7,8,8,10], 8)"
   ]
  },
  {
   "cell_type": "code",
   "execution_count": null,
   "id": "ea0964e5-a28e-4d7f-8e40-837a08a4bce5",
   "metadata": {},
   "outputs": [],
   "source": []
  }
 ],
 "metadata": {
  "kernelspec": {
   "display_name": "Python 3 (ipykernel)",
   "language": "python",
   "name": "python3"
  },
  "language_info": {
   "codemirror_mode": {
    "name": "ipython",
    "version": 3
   },
   "file_extension": ".py",
   "mimetype": "text/x-python",
   "name": "python",
   "nbconvert_exporter": "python",
   "pygments_lexer": "ipython3",
   "version": "3.9.12"
  }
 },
 "nbformat": 4,
 "nbformat_minor": 5
}
