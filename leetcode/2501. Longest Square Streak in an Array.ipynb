{
 "cells": [
  {
   "cell_type": "markdown",
   "id": "827edec3-8db6-4537-a81b-99e33fcf2f3d",
   "metadata": {},
   "source": [
    "You are given an integer array nums. A subsequence of nums is called a square streak if:\n",
    "\n",
    "    The length of the subsequence is at least 2, and\n",
    "    after sorting the subsequence, each element (except the first element) is the square of the previous number.\n",
    "\n",
    "Return the length of the longest square streak in nums, or return -1 if there is no square streak.\n",
    "\n",
    "A subsequence is an array that can be derived from another array by deleting some or no elements without changing the order of the remaining elements.\n",
    "\n",
    " \n",
    "\n",
    "Example 1:\n",
    "\n",
    "Input: nums = [4,3,6,16,8,2]\n",
    "Output: 3\n",
    "Explanation: Choose the subsequence [4,16,2]. After sorting it, it becomes [2,4,16].\n",
    "- 4 = 2 * 2.\n",
    "- 16 = 4 * 4.\n",
    "Therefore, [4,16,2] is a square streak.\n",
    "It can be shown that every subsequence of length 4 is not a square streak.\n",
    "\n",
    "Example 2:\n",
    "\n",
    "Input: nums = [2,3,5,6,7]\n",
    "Output: -1\n",
    "Explanation: There is no square streak in nums so return -1.\n",
    "\n",
    " \n",
    "\n",
    "Constraints:\n",
    "\n",
    "    2 <= nums.length <= 105\n",
    "    2 <= nums[i] <= 105\n",
    "\n"
   ]
  },
  {
   "cell_type": "code",
   "execution_count": null,
   "id": "7f8d2138-fa91-4272-9879-211dcfa4836c",
   "metadata": {},
   "outputs": [],
   "source": [
    "class Solution:\n",
    "    def longestSquareStreak(self, nums: List[int]) -> int:\n",
    "        nums = set(nums)\n",
    "        s = sorted(nums)\n",
    "        ans = -1\n",
    "        for num in s:\n",
    "            if num in nums:\n",
    "                curr_streak = 1\n",
    "                nums.remove(num)\n",
    "                while num ** 2 in nums:\n",
    "                    num *= num\n",
    "                    nums.remove(num)\n",
    "                    curr_streak += 1\n",
    "                if curr_streak > 1:\n",
    "                    ans = max(ans, curr_streak)\n",
    "        return ans"
   ]
  }
 ],
 "metadata": {
  "kernelspec": {
   "display_name": "common",
   "language": "python",
   "name": "common"
  },
  "language_info": {
   "codemirror_mode": {
    "name": "ipython",
    "version": 3
   },
   "file_extension": ".py",
   "mimetype": "text/x-python",
   "name": "python",
   "nbconvert_exporter": "python",
   "pygments_lexer": "ipython3",
   "version": "3.12.4"
  }
 },
 "nbformat": 4,
 "nbformat_minor": 5
}
