{
 "cells": [
  {
   "cell_type": "markdown",
   "id": "13b780dd-a4c0-4177-8521-596b33f3109f",
   "metadata": {},
   "source": [
    "You are given an integer array banned and two integers n and maxSum. You are choosing some number of integers following the below rules:\n",
    "\n",
    "    The chosen integers have to be in the range [1, n].\n",
    "    Each integer can be chosen at most once.\n",
    "    The chosen integers should not be in the array banned.\n",
    "    The sum of the chosen integers should not exceed maxSum.\n",
    "\n",
    "Return the maximum number of integers you can choose following the mentioned rules.\n",
    "\n",
    " \n",
    "\n",
    "Example 1:\n",
    "\n",
    "Input: banned = [1,6,5], n = 5, maxSum = 6\n",
    "Output: 2\n",
    "Explanation: You can choose the integers 2 and 4.\n",
    "2 and 4 are from the range [1, 5], both did not appear in banned, and their sum is 6, which did not exceed maxSum.\n",
    "\n",
    "Example 2:\n",
    "\n",
    "Input: banned = [1,2,3,4,5,6,7], n = 8, maxSum = 1\n",
    "Output: 0\n",
    "Explanation: You cannot choose any integer while following the mentioned conditions.\n",
    "\n",
    "Example 3:\n",
    "\n",
    "Input: banned = [11], n = 7, maxSum = 50\n",
    "Output: 7\n",
    "Explanation: You can choose the integers 1, 2, 3, 4, 5, 6, and 7.\n",
    "They are from the range [1, 7], all did not appear in banned, and their sum is 28, which did not exceed maxSum.\n",
    "\n",
    " \n",
    "\n",
    "Constraints:\n",
    "\n",
    "    1 <= banned.length <= 104\n",
    "    1 <= banned[i], n <= 104\n",
    "    1 <= maxSum <= 109\n",
    "\n"
   ]
  },
  {
   "cell_type": "code",
   "execution_count": null,
   "id": "104abb22-f77e-4da9-b9c4-6af4ef20bf56",
   "metadata": {},
   "outputs": [],
   "source": [
    "class Solution:\n",
    "    def maxCount(self, banned: List[int], n: int, maxSum: int) -> int:\n",
    "        banned = set(num for num in banned if num <= n)\n",
    "        ans = 0\n",
    "        curr_sum = 0\n",
    "        for i in range(1, n + 1):\n",
    "            if i not in banned:\n",
    "                if curr_sum + i > maxSum:\n",
    "                    return ans\n",
    "                else:\n",
    "                    ans += 1\n",
    "                    curr_sum += i\n",
    "        return ans\n"
   ]
  }
 ],
 "metadata": {
  "kernelspec": {
   "display_name": "Python 3 (ipykernel)",
   "language": "python",
   "name": "python3"
  },
  "language_info": {
   "codemirror_mode": {
    "name": "ipython",
    "version": 3
   },
   "file_extension": ".py",
   "mimetype": "text/x-python",
   "name": "python",
   "nbconvert_exporter": "python",
   "pygments_lexer": "ipython3",
   "version": "3.12.7"
  }
 },
 "nbformat": 4,
 "nbformat_minor": 5
}
