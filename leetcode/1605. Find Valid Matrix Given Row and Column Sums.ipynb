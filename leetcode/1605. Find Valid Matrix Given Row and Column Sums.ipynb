{
 "cells": [
  {
   "cell_type": "markdown",
   "id": "040dd360-be13-4591-8994-e85282c200fd",
   "metadata": {},
   "source": [
    "You are given two arrays rowSum and colSum of non-negative integers where rowSum[i] is the sum of the elements in the ith row and colSum[j] is the sum of the elements of the jth column of a 2D matrix. In other words, you do not know the elements of the matrix, but you do know the sums of each row and column.\n",
    "\n",
    "Find any matrix of non-negative integers of size rowSum.length x colSum.length that satisfies the rowSum and colSum requirements.\n",
    "\n",
    "Return a 2D array representing any matrix that fulfills the requirements. It's guaranteed that at least one matrix that fulfills the requirements exists.\n",
    "\n",
    " \n",
    "\n",
    "Example 1:\n",
    "\n",
    "Input: rowSum = [3,8], colSum = [4,7]\n",
    "Output: [[3,0],\n",
    "         [1,7]]\n",
    "Explanation: \n",
    "0th row: 3 + 0 = 3 == rowSum[0]\n",
    "1st row: 1 + 7 = 8 == rowSum[1]\n",
    "0th column: 3 + 1 = 4 == colSum[0]\n",
    "1st column: 0 + 7 = 7 == colSum[1]\n",
    "The row and column sums match, and all matrix elements are non-negative.\n",
    "Another possible matrix is: [[1,2],\n",
    "                             [3,5]]\n",
    "\n",
    "Example 2:\n",
    "\n",
    "Input: rowSum = [5,7,10], colSum = [8,6,8]\n",
    "Output: [[0,5,0],\n",
    "         [6,1,0],\n",
    "         [2,0,8]]\n",
    "\n",
    " \n",
    "\n",
    "Constraints:\n",
    "\n",
    "    1 <= rowSum.length, colSum.length <= 500\n",
    "    0 <= rowSum[i], colSum[i] <= 108\n",
    "    sum(rowSum) == sum(colSum)\n",
    "\n"
   ]
  },
  {
   "cell_type": "code",
   "execution_count": null,
   "id": "52065dbf-7d89-4f4a-b7e7-414f2c2c06a5",
   "metadata": {},
   "outputs": [],
   "source": [
    "class Solution:\n",
    "    def restoreMatrix(self, rowSum: List[int], colSum: List[int]) -> List[List[int]]:\n",
    "        N = len(rowSum)\n",
    "        M = len(colSum)\n",
    "\n",
    "        curr_row_sum = [0] * N\n",
    "        curr_col_sum = [0] * M\n",
    "\n",
    "        orig_matrix = [[0] * M for _ in range(N)]\n",
    "        for i in range(N):\n",
    "            for j in range(M):\n",
    "                orig_matrix[i][j] = min(\n",
    "                    rowSum[i] - curr_row_sum[i], colSum[j] - curr_col_sum[j]\n",
    "                )\n",
    "\n",
    "                curr_row_sum[i] += orig_matrix[i][j]\n",
    "                curr_col_sum[j] += orig_matrix[i][j]\n",
    "\n",
    "        return orig_matrix"
   ]
  }
 ],
 "metadata": {
  "kernelspec": {
   "display_name": "Python 3 (ipykernel)",
   "language": "python",
   "name": "python3"
  },
  "language_info": {
   "codemirror_mode": {
    "name": "ipython",
    "version": 3
   },
   "file_extension": ".py",
   "mimetype": "text/x-python",
   "name": "python",
   "nbconvert_exporter": "python",
   "pygments_lexer": "ipython3",
   "version": "3.12.3"
  }
 },
 "nbformat": 4,
 "nbformat_minor": 5
}
