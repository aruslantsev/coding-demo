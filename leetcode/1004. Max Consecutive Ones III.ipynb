{
 "cells": [
  {
   "cell_type": "markdown",
   "id": "a09e20bf-5c4f-4c11-8fd2-90531ac5e283",
   "metadata": {},
   "source": [
    "Given a binary array nums and an integer k, return the maximum number of consecutive 1's in the array if you can flip at most k 0's.\n",
    "\n",
    " \n",
    "\n",
    "Example 1:\n",
    "\n",
    "Input: nums = [1,1,1,0,0,0,1,1,1,1,0], k = 2\n",
    "Output: 6\n",
    "Explanation: [1,1,1,0,0,1,1,1,1,1,1]\n",
    "Bolded numbers were flipped from 0 to 1. The longest subarray is underlined.\n",
    "\n",
    "Example 2:\n",
    "\n",
    "Input: nums = [0,0,1,1,0,0,1,1,1,0,1,1,0,0,0,1,1,1,1], k = 3\n",
    "Output: 10\n",
    "Explanation: [0,0,1,1,1,1,1,1,1,1,1,1,0,0,0,1,1,1,1]\n",
    "Bolded numbers were flipped from 0 to 1. The longest subarray is underlined.\n",
    "\n",
    " \n",
    "\n",
    "Constraints:\n",
    "\n",
    "    1 <= nums.length <= 105\n",
    "    nums[i] is either 0 or 1.\n",
    "    0 <= k <= nums.length\n",
    "\n"
   ]
  },
  {
   "cell_type": "code",
   "execution_count": null,
   "id": "46920ccf-7bdd-4180-8cec-f5beb8cf1a32",
   "metadata": {},
   "outputs": [],
   "source": [
    "class Solution:\n",
    "    def longestOnes(self, nums: List[int], k: int) -> int:\n",
    "        l = 0\n",
    "        r = 0\n",
    "        zeros = 0\n",
    "        ans = 0\n",
    "        while r < len(nums):\n",
    "            r += 1\n",
    "            if nums[r - 1] == 0:\n",
    "                zeros += 1\n",
    "            while zeros > k:\n",
    "                if nums[l] == 0:\n",
    "                    zeros -= 1\n",
    "                l += 1\n",
    "            ans = max(ans, r - l)\n",
    "        return ans\n",
    "        "
   ]
  }
 ],
 "metadata": {
  "kernelspec": {
   "display_name": "Python 3 (ipykernel)",
   "language": "python",
   "name": "python3"
  },
  "language_info": {
   "codemirror_mode": {
    "name": "ipython",
    "version": 3
   },
   "file_extension": ".py",
   "mimetype": "text/x-python",
   "name": "python",
   "nbconvert_exporter": "python",
   "pygments_lexer": "ipython3",
   "version": "3.11.4"
  }
 },
 "nbformat": 4,
 "nbformat_minor": 5
}
