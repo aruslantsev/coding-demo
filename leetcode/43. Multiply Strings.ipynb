{
 "cells": [
  {
   "cell_type": "markdown",
   "id": "c6c1070d-c7f8-4cda-87b7-7b82ca93c19c",
   "metadata": {},
   "source": [
    "Given two non-negative integers num1 and num2 represented as strings, return the product of num1 and num2, also represented as a string.\n",
    "\n",
    "Note: You must not use any built-in BigInteger library or convert the inputs to integer directly.\n",
    "\n",
    " \n",
    "\n",
    "Example 1:\n",
    "\n",
    "Input: num1 = \"2\", num2 = \"3\"\n",
    "Output: \"6\"\n",
    "Example 2:\n",
    "\n",
    "Input: num1 = \"123\", num2 = \"456\"\n",
    "Output: \"56088\"\n",
    " \n",
    "\n",
    "Constraints:\n",
    "\n",
    "1 <= num1.length, num2.length <= 200\n",
    "num1 and num2 consist of digits only.\n",
    "Both num1 and num2 do not contain any leading zero, except the number 0 itself."
   ]
  },
  {
   "cell_type": "code",
   "execution_count": 3,
   "id": "b0121b60-bf15-4b4f-be34-c44c4bb45435",
   "metadata": {},
   "outputs": [],
   "source": [
    "class Solution:\n",
    "    def multiply(self, num1: str, num2: str) -> str:\n",
    "        ans = 0\n",
    "        for i, n1 in enumerate(num1[::-1]):\n",
    "            for j, n2 in enumerate(num2[::-1]):\n",
    "                n1 = int(n1)\n",
    "                n2 = int(n2)\n",
    "                pos = i + j\n",
    "                ans += n1 * n2 * 10**pos\n",
    "        return str(ans)"
   ]
  },
  {
   "cell_type": "code",
   "execution_count": 57,
   "id": "06560849-25da-4cbf-81c7-6fc22c7b3227",
   "metadata": {},
   "outputs": [],
   "source": [
    "class Solution:\n",
    "    def multiply(self, num1: str, num2: str) -> str:\n",
    "        ans = ['0'] * (len(num1) + len(num2))\n",
    "        for i, n1 in enumerate(num1[::-1]):\n",
    "            for j, n2 in enumerate(num2[::-1]):\n",
    "                n1 = int(n1)\n",
    "                n2 = int(n2)\n",
    "                \n",
    "                pos = i + j\n",
    "                res = n1 * n2\n",
    "                length = len(str(res))\n",
    "                \n",
    "                while res / 10 > 0:\n",
    "                    tmp = int(ans[pos]) + res\n",
    "                    ans[pos] = str(tmp % 10)\n",
    "                    res = tmp // 10\n",
    "                    pos += 1\n",
    "\n",
    "        while len(ans) > 1 and ans[-1] == '0':\n",
    "            ans.pop()\n",
    "\n",
    "        return ''.join(ans[::-1])"
   ]
  },
  {
   "cell_type": "code",
   "execution_count": 58,
   "id": "093df6a7-c489-4c32-930a-efc25b533594",
   "metadata": {},
   "outputs": [
    {
     "data": {
      "text/plain": [
       "'6'"
      ]
     },
     "execution_count": 58,
     "metadata": {},
     "output_type": "execute_result"
    }
   ],
   "source": [
    "s = Solution()\n",
    "s.multiply('2', '3')"
   ]
  },
  {
   "cell_type": "code",
   "execution_count": 59,
   "id": "6ebc0fff-2d10-41e2-912f-8a44ede55569",
   "metadata": {},
   "outputs": [
    {
     "data": {
      "text/plain": [
       "'56088'"
      ]
     },
     "execution_count": 59,
     "metadata": {},
     "output_type": "execute_result"
    }
   ],
   "source": [
    "s = Solution()\n",
    "s.multiply('123', '456')"
   ]
  },
  {
   "cell_type": "code",
   "execution_count": 62,
   "id": "54c4b625-a400-449f-81d8-5084c2674b51",
   "metadata": {},
   "outputs": [
    {
     "data": {
      "text/plain": [
       "'2324725235680339589575434145174345450376468286967007130548581359508676923461769510883584014763890133705678997934'"
      ]
     },
     "execution_count": 62,
     "metadata": {},
     "output_type": "execute_result"
    }
   ],
   "source": [
    "s.multiply(\"6964594125027226699998128707627435007621143975736747759751\", \"333791918659904899647584436187733004125181273682766434\")"
   ]
  },
  {
   "cell_type": "code",
   "execution_count": null,
   "id": "1aaa93c8-0919-4cf8-94b2-27b39fb3dfee",
   "metadata": {},
   "outputs": [],
   "source": []
  }
 ],
 "metadata": {
  "kernelspec": {
   "display_name": "Python 3 (ipykernel)",
   "language": "python",
   "name": "python3"
  },
  "language_info": {
   "codemirror_mode": {
    "name": "ipython",
    "version": 3
   },
   "file_extension": ".py",
   "mimetype": "text/x-python",
   "name": "python",
   "nbconvert_exporter": "python",
   "pygments_lexer": "ipython3",
   "version": "3.9.10"
  }
 },
 "nbformat": 4,
 "nbformat_minor": 5
}
