{
 "cells": [
  {
   "cell_type": "markdown",
   "id": "edef7516-8b81-40bc-96e1-0fe2476aee7f",
   "metadata": {},
   "source": [
    "A fancy string is a string where no three consecutive characters are equal.\n",
    "\n",
    "Given a string s, delete the minimum possible number of characters from s to make it fancy.\n",
    "\n",
    "Return the final string after the deletion. It can be shown that the answer will always be unique.\n",
    "\n",
    " \n",
    "\n",
    "Example 1:\n",
    "\n",
    "Input: s = \"leeetcode\"\n",
    "Output: \"leetcode\"\n",
    "Explanation:\n",
    "Remove an 'e' from the first group of 'e's to create \"leetcode\".\n",
    "No three consecutive characters are equal, so return \"leetcode\".\n",
    "\n",
    "Example 2:\n",
    "\n",
    "Input: s = \"aaabaaaa\"\n",
    "Output: \"aabaa\"\n",
    "Explanation:\n",
    "Remove an 'a' from the first group of 'a's to create \"aabaaaa\".\n",
    "Remove two 'a's from the second group of 'a's to create \"aabaa\".\n",
    "No three consecutive characters are equal, so return \"aabaa\".\n",
    "\n",
    "Example 3:\n",
    "\n",
    "Input: s = \"aab\"\n",
    "Output: \"aab\"\n",
    "Explanation: No three consecutive characters are equal, so return \"aab\".\n",
    "\n",
    " \n",
    "\n",
    "Constraints:\n",
    "\n",
    "    1 <= s.length <= 105\n",
    "    s consists only of lowercase English letters.\n",
    "\n"
   ]
  },
  {
   "cell_type": "code",
   "execution_count": null,
   "id": "57b2d6fe-70ee-4ab4-b1cc-315a39c31c12",
   "metadata": {},
   "outputs": [],
   "source": [
    "class Solution:\n",
    "    def makeFancyString(self, s: str) -> str:\n",
    "        stack = []\n",
    "        for sym in s:\n",
    "            if len(stack) >= 2 and stack[-1] == stack[-2] == sym:\n",
    "                stack.pop()\n",
    "            stack.append(sym)\n",
    "        return ''.join(stack)"
   ]
  },
  {
   "cell_type": "code",
   "execution_count": null,
   "id": "a8370d9c-b2a4-42a4-aa46-932055daaaa1",
   "metadata": {},
   "outputs": [],
   "source": [
    "class Solution:\n",
    "    def makeFancyString(self, s: str) -> str:\n",
    "        # If size of string is less than 3, return it.\n",
    "        if len(s) < 3:\n",
    "            return s\n",
    "\n",
    "        # Convert the string to a list for mutability.\n",
    "        s_list = list(s)\n",
    "        j = 2\n",
    "\n",
    "        # Iterate through the string from index 2.\n",
    "        for i in range(2, len(s)):\n",
    "            # If the current character is not equal to the previously inserted\n",
    "            # two characters, then we can add it to the result.\n",
    "            if s_list[i] != s_list[j - 1] or s_list[i] != s_list[j - 2]:\n",
    "                s_list[j] = s_list[i]\n",
    "                j += 1\n",
    "\n",
    "        # Resize the list to the number of valid characters and join it back into a string.\n",
    "        return \"\".join(s_list[:j])"
   ]
  }
 ],
 "metadata": {
  "kernelspec": {
   "display_name": "Python 3 (ipykernel)",
   "language": "python",
   "name": "python3"
  },
  "language_info": {
   "codemirror_mode": {
    "name": "ipython",
    "version": 3
   },
   "file_extension": ".py",
   "mimetype": "text/x-python",
   "name": "python",
   "nbconvert_exporter": "python",
   "pygments_lexer": "ipython3",
   "version": "3.12.7"
  }
 },
 "nbformat": 4,
 "nbformat_minor": 5
}
