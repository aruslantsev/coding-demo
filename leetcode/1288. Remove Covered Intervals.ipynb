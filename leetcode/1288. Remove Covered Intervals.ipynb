{
 "cells": [
  {
   "cell_type": "markdown",
   "id": "27ef87e7",
   "metadata": {},
   "source": [
    "Given an array intervals where intervals[i] = [li, ri] represent the interval [li, ri), remove all intervals that are covered by another interval in the list.\n",
    "\n",
    "The interval [a, b) is covered by the interval [c, d) if and only if c <= a and b <= d.\n",
    "\n",
    "Return the number of remaining intervals.\n",
    "\n",
    " \n",
    "\n",
    "Example 1:\n",
    "\n",
    "Input: intervals = [[1,4],[3,6],[2,8]]\n",
    "Output: 2\n",
    "Explanation: Interval [3,6] is covered by [2,8], therefore it is removed.\n",
    "\n",
    "Example 2:\n",
    "\n",
    "Input: intervals = [[1,4],[2,3]]\n",
    "Output: 1\n",
    "\n",
    " \n",
    "\n",
    "Constraints:\n",
    "\n",
    "    1 <= intervals.length <= 1000\n",
    "    intervals[i].length == 2\n",
    "    0 <= li <= ri <= 105\n",
    "    All the given intervals are unique.\n",
    "\n"
   ]
  },
  {
   "cell_type": "code",
   "execution_count": 7,
   "id": "e9c1745e",
   "metadata": {},
   "outputs": [],
   "source": [
    "from typing import List\n",
    "\n",
    "class Solution:\n",
    "    def removeCoveredIntervals(self, intervals: List[List[int]]) -> int:\n",
    "        if not intervals:\n",
    "            return intervals\n",
    "        intervals = sorted(intervals, key=lambda x: (x[0], -x[1]))\n",
    "        n = len(intervals)\n",
    "        end = intervals[0][0]\n",
    "        for _, curr in intervals:\n",
    "            if curr <= end:\n",
    "                n -= 1\n",
    "            else:\n",
    "                end = curr\n",
    "        return n"
   ]
  },
  {
   "cell_type": "code",
   "execution_count": 8,
   "id": "b16b2639",
   "metadata": {},
   "outputs": [
    {
     "data": {
      "text/plain": [
       "2"
      ]
     },
     "execution_count": 8,
     "metadata": {},
     "output_type": "execute_result"
    }
   ],
   "source": [
    "s = Solution()\n",
    "s.removeCoveredIntervals([[1,4],[3,6],[2,8]])"
   ]
  },
  {
   "cell_type": "code",
   "execution_count": 9,
   "id": "5fe753c4",
   "metadata": {},
   "outputs": [
    {
     "data": {
      "text/plain": [
       "1"
      ]
     },
     "execution_count": 9,
     "metadata": {},
     "output_type": "execute_result"
    }
   ],
   "source": [
    "s.removeCoveredIntervals([[1,4],[2,3]])"
   ]
  },
  {
   "cell_type": "code",
   "execution_count": null,
   "id": "17ffe27b",
   "metadata": {},
   "outputs": [],
   "source": []
  }
 ],
 "metadata": {
  "kernelspec": {
   "display_name": "Python 3 (ipykernel)",
   "language": "python",
   "name": "python3"
  },
  "language_info": {
   "codemirror_mode": {
    "name": "ipython",
    "version": 3
   },
   "file_extension": ".py",
   "mimetype": "text/x-python",
   "name": "python",
   "nbconvert_exporter": "python",
   "pygments_lexer": "ipython3",
   "version": "3.9.10"
  }
 },
 "nbformat": 4,
 "nbformat_minor": 5
}
