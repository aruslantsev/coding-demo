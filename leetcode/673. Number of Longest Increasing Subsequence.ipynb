{
 "cells": [
  {
   "cell_type": "markdown",
   "id": "d05337d3-2225-45a7-8aa4-8f6a2742a1a6",
   "metadata": {},
   "source": [
    "Given an integer array nums, return the number of longest increasing subsequences.\n",
    "\n",
    "Notice that the sequence has to be strictly increasing.\n",
    "\n",
    " \n",
    "\n",
    "Example 1:\n",
    "\n",
    "Input: nums = [1,3,5,4,7]\n",
    "Output: 2\n",
    "Explanation: The two longest increasing subsequences are [1, 3, 4, 7] and [1, 3, 5, 7].\n",
    "\n",
    "Example 2:\n",
    "\n",
    "Input: nums = [2,2,2,2,2]\n",
    "Output: 5\n",
    "Explanation: The length of the longest increasing subsequence is 1, and there are 5 increasing subsequences of length 1, so output 5.\n",
    "\n",
    " \n",
    "\n",
    "Constraints:\n",
    "\n",
    "    1 <= nums.length <= 2000\n",
    "    -106 <= nums[i] <= 106\n",
    "\n"
   ]
  },
  {
   "cell_type": "code",
   "execution_count": null,
   "id": "6b60a657-eb41-4151-870b-6f036321b2b5",
   "metadata": {},
   "outputs": [],
   "source": [
    "class Solution:\n",
    "    def findNumberOfLIS(self, nums: List[int]) -> int:\n",
    "        n = len(nums)\n",
    "        length = [0] * n\n",
    "        count = [0] * n\n",
    "\n",
    "        def calculate_dp(i):\n",
    "            if length[i] != 0:\n",
    "                return\n",
    "\n",
    "            length[i] = 1\n",
    "            count[i] = 1\n",
    "\n",
    "            for j in range(i):\n",
    "                if nums[j] < nums[i]:\n",
    "                    calculate_dp(j)\n",
    "                    if length[j] + 1 > length[i]:\n",
    "                        length[i] = length[j] + 1\n",
    "                        count[i] = 0\n",
    "                    if length[j] + 1 == length[i]:\n",
    "                        count[i] += count[j]\n",
    "\n",
    "        max_length = 0\n",
    "        result = 0\n",
    "        for i in range(n):\n",
    "            calculate_dp(i)\n",
    "            max_length = max(max_length, length[i])\n",
    "\n",
    "        for i in range(n):\n",
    "            if length[i] == max_length:\n",
    "                result += count[i]\n",
    "\n",
    "        return result"
   ]
  }
 ],
 "metadata": {
  "kernelspec": {
   "display_name": "common",
   "language": "python",
   "name": "common"
  },
  "language_info": {
   "codemirror_mode": {
    "name": "ipython",
    "version": 3
   },
   "file_extension": ".py",
   "mimetype": "text/x-python",
   "name": "python",
   "nbconvert_exporter": "python",
   "pygments_lexer": "ipython3",
   "version": "3.9.15"
  }
 },
 "nbformat": 4,
 "nbformat_minor": 5
}
