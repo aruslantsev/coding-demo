{
 "cells": [
  {
   "cell_type": "markdown",
   "id": "d9e0e0a9-e008-417b-8f5c-33b6bc0087c8",
   "metadata": {},
   "source": [
    "Given two strings s and goal, return true if you can swap two letters in s so the result is equal to goal, otherwise, return false.\n",
    "\n",
    "Swapping letters is defined as taking two indices i and j (0-indexed) such that i != j and swapping the characters at s[i] and s[j].\n",
    "\n",
    "    For example, swapping at indices 0 and 2 in \"abcd\" results in \"cbad\".\n",
    "\n",
    " \n",
    "\n",
    "Example 1:\n",
    "\n",
    "Input: s = \"ab\", goal = \"ba\"\n",
    "Output: true\n",
    "Explanation: You can swap s[0] = 'a' and s[1] = 'b' to get \"ba\", which is equal to goal.\n",
    "\n",
    "Example 2:\n",
    "\n",
    "Input: s = \"ab\", goal = \"ab\"\n",
    "Output: false\n",
    "Explanation: The only letters you can swap are s[0] = 'a' and s[1] = 'b', which results in \"ba\" != goal.\n",
    "\n",
    "Example 3:\n",
    "\n",
    "Input: s = \"aa\", goal = \"aa\"\n",
    "Output: true\n",
    "Explanation: You can swap s[0] = 'a' and s[1] = 'a' to get \"aa\", which is equal to goal.\n",
    "\n",
    " \n",
    "\n",
    "Constraints:\n",
    "\n",
    "    1 <= s.length, goal.length <= 2 * 104\n",
    "    s and goal consist of lowercase letters.\n",
    "\n"
   ]
  },
  {
   "cell_type": "code",
   "execution_count": null,
   "id": "f4fc1ad9-e653-4639-80e9-eda7bd9850d1",
   "metadata": {},
   "outputs": [],
   "source": [
    "class Solution:\n",
    "    def buddyStrings(self, s: str, goal: str) -> bool:\n",
    "        has_identical = any(value > 1 for value in Counter(s).values())\n",
    "        diff = 0\n",
    "        if Counter(s) != Counter(goal):\n",
    "            return False\n",
    "        for a, b in zip(s, goal):\n",
    "            if a != b:\n",
    "                diff += 1\n",
    "                if diff > 2:\n",
    "                    return False\n",
    "        if diff == 2 or (diff == 0 and has_identical):\n",
    "            return True\n",
    "        return False"
   ]
  }
 ],
 "metadata": {
  "kernelspec": {
   "display_name": "Python 3 (ipykernel)",
   "language": "python",
   "name": "python3"
  },
  "language_info": {
   "codemirror_mode": {
    "name": "ipython",
    "version": 3
   },
   "file_extension": ".py",
   "mimetype": "text/x-python",
   "name": "python",
   "nbconvert_exporter": "python",
   "pygments_lexer": "ipython3",
   "version": "3.10.11"
  }
 },
 "nbformat": 4,
 "nbformat_minor": 5
}
