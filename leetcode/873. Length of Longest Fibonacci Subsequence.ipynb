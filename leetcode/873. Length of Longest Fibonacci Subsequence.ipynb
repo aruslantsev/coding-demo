{
 "cells": [
  {
   "cell_type": "markdown",
   "id": "3d6db3ec-7be0-401a-b235-63d8f567f037",
   "metadata": {},
   "source": [
    "A sequence x1, x2, ..., xn is Fibonacci-like if:\n",
    "\n",
    "    n >= 3\n",
    "    xi + xi+1 == xi+2 for all i + 2 <= n\n",
    "\n",
    "Given a strictly increasing array arr of positive integers forming a sequence, return the length of the longest Fibonacci-like subsequence of arr. If one does not exist, return 0.\n",
    "\n",
    "A subsequence is derived from another sequence arr by deleting any number of elements (including none) from arr, without changing the order of the remaining elements. For example, [3, 5, 8] is a subsequence of [3, 4, 5, 6, 7, 8].\n",
    "\n",
    " \n",
    "\n",
    "Example 1:\n",
    "\n",
    "Input: arr = [1,2,3,4,5,6,7,8]\n",
    "Output: 5\n",
    "Explanation: The longest subsequence that is fibonacci-like: [1,2,3,5,8].\n",
    "\n",
    "Example 2:\n",
    "\n",
    "Input: arr = [1,3,7,11,12,14,18]\n",
    "Output: 3\n",
    "Explanation: The longest subsequence that is fibonacci-like: [1,11,12], [3,11,14] or [7,11,18].\n",
    "\n",
    " \n",
    "\n",
    "Constraints:\n",
    "\n",
    "    3 <= arr.length <= 1000\n",
    "    1 <= arr[i] < arr[i + 1] <= 109\n",
    "\n"
   ]
  },
  {
   "cell_type": "code",
   "execution_count": null,
   "id": "9f6dd113-36bd-4cb1-a9d4-b8dcc219542c",
   "metadata": {},
   "outputs": [],
   "source": [
    "class Solution:\n",
    "    def lenLongestFibSubseq(self, arr: List[int]) -> int:\n",
    "        self.numbers = set(arr)\n",
    "        self.cache = {}\n",
    "        ans = 0\n",
    "        for i in range(len(arr) - 1):\n",
    "            for j in range(i + 1, len(arr)):\n",
    "                ans = max(ans, 2 + self.fibo(arr[i], arr[j]))\n",
    "        return ans if ans > 2 else 0\n",
    "\n",
    "    def fibo(self, num1, num2):\n",
    "        if (num1, num2) not in self.cache:\n",
    "            nxt = num1 + num2\n",
    "            if nxt in self.numbers:\n",
    "                self.cache[(num1, num2)] = 1 + self.fibo(num2, nxt)\n",
    "            else:\n",
    "                self.cache[(num1, num2)] = 0\n",
    "        return self.cache[(num1, num2)]\n"
   ]
  }
 ],
 "metadata": {
  "kernelspec": {
   "display_name": "Python 3 (ipykernel)",
   "language": "python",
   "name": "python3"
  },
  "language_info": {
   "codemirror_mode": {
    "name": "ipython",
    "version": 3
   },
   "file_extension": ".py",
   "mimetype": "text/x-python",
   "name": "python",
   "nbconvert_exporter": "python",
   "pygments_lexer": "ipython3",
   "version": "3.12.7"
  }
 },
 "nbformat": 4,
 "nbformat_minor": 5
}
