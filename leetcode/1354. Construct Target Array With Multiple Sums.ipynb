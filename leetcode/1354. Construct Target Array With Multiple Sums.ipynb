{
 "cells": [
  {
   "cell_type": "markdown",
   "id": "d4696c08-c30b-457d-90a0-7bdb7f9b0dc8",
   "metadata": {},
   "source": [
    "You are given an array target of n integers. From a starting array arr consisting of n 1's, you may perform the following procedure :\n",
    "\n",
    "    let x be the sum of all elements currently in your array.\n",
    "    choose index i, such that 0 <= i < n and set the value of arr at index i to x.\n",
    "    You may repeat this procedure as many times as needed.\n",
    "\n",
    "Return true if it is possible to construct the target array from arr, otherwise, return false.\n",
    "\n",
    " \n",
    "\n",
    "Example 1:\n",
    "\n",
    "Input: target = [9,3,5]\n",
    "Output: true\n",
    "Explanation: Start with arr = [1, 1, 1] \n",
    "[1, 1, 1], sum = 3 choose index 1\n",
    "[1, 3, 1], sum = 5 choose index 2\n",
    "[1, 3, 5], sum = 9 choose index 0\n",
    "[9, 3, 5] Done\n",
    "\n",
    "Example 2:\n",
    "\n",
    "Input: target = [1,1,1,2]\n",
    "Output: false\n",
    "Explanation: Impossible to create target array from [1,1,1,1].\n",
    "\n",
    "Example 3:\n",
    "\n",
    "Input: target = [8,5]\n",
    "Output: true\n",
    "\n",
    " \n",
    "\n",
    "Constraints:\n",
    "\n",
    "    n == target.length\n",
    "    1 <= n <= 5 * 104\n",
    "    1 <= target[i] <= 109\n",
    "\n"
   ]
  },
  {
   "cell_type": "code",
   "execution_count": 25,
   "id": "f0208093-488e-4dc5-9775-c4e2f0f2b40e",
   "metadata": {},
   "outputs": [],
   "source": [
    "from typing import List\n",
    "import heapq\n",
    "\n",
    "class Solution:\n",
    "    def isPossible(self, target: List[int]) -> bool:\n",
    "        target = [-num for num in target]\n",
    "        heapq.heapify(target)\n",
    "        target_sum = len(target)\n",
    "        curr_sum = sum(target)\n",
    "        while curr_sum < -target_sum:\n",
    "            curr_max = heapq.heappop(target)\n",
    "            diff = curr_sum - curr_max\n",
    "            curr_max -= diff\n",
    "            curr_sum -= diff\n",
    "            if curr_max > -1:\n",
    "                return False\n",
    "            heapq.heappush(target, curr_max)\n",
    "        \n",
    "        if target != [-1] * target_sum:\n",
    "            return False\n",
    "        return True"
   ]
  },
  {
   "cell_type": "code",
   "execution_count": 31,
   "id": "aaaed043-389a-469f-a885-1171de4f4065",
   "metadata": {},
   "outputs": [],
   "source": [
    "import heapq\n",
    "\n",
    "class Solution:\n",
    "    def isPossible(self, target: List[int]) -> bool:\n",
    "        n = len(target)\n",
    "        curr_sum = sum(target)\n",
    "    \n",
    "        heap = [-num for num in target]\n",
    "        heapq.heapify(heap)\n",
    "    \n",
    "        while heap[0] != -1:\n",
    "            num = -heapq.heappop(heap)\n",
    "            curr_sum -= num\n",
    "            if curr_sum == 1:\n",
    "                return True\n",
    "            if curr_sum >= num or curr_sum == 0 or num % curr_sum == 0:\n",
    "                return False\n",
    "            num %= curr_sum\n",
    "            curr_sum += num\n",
    "            heapq.heappush(heap, -num)\n",
    "        \n",
    "        return True"
   ]
  },
  {
   "cell_type": "code",
   "execution_count": 32,
   "id": "d723287d-eb60-4c0e-a3ec-3cf88746cd44",
   "metadata": {},
   "outputs": [
    {
     "data": {
      "text/plain": [
       "True"
      ]
     },
     "execution_count": 32,
     "metadata": {},
     "output_type": "execute_result"
    }
   ],
   "source": [
    "s = Solution()\n",
    "s.isPossible([9, 3, 5])"
   ]
  },
  {
   "cell_type": "code",
   "execution_count": 33,
   "id": "8f44ae9a-6c06-464d-a386-bfc5a4c9c818",
   "metadata": {},
   "outputs": [
    {
     "data": {
      "text/plain": [
       "False"
      ]
     },
     "execution_count": 33,
     "metadata": {},
     "output_type": "execute_result"
    }
   ],
   "source": [
    "s.isPossible([1,1,1,2])"
   ]
  },
  {
   "cell_type": "code",
   "execution_count": 34,
   "id": "de548f47-751a-4666-b743-3417129a78e7",
   "metadata": {},
   "outputs": [
    {
     "data": {
      "text/plain": [
       "True"
      ]
     },
     "execution_count": 34,
     "metadata": {},
     "output_type": "execute_result"
    }
   ],
   "source": [
    "s.isPossible([8, 5])"
   ]
  },
  {
   "cell_type": "code",
   "execution_count": 35,
   "id": "74c11958-cc26-4728-8875-cb0f159a46d9",
   "metadata": {},
   "outputs": [
    {
     "data": {
      "text/plain": [
       "True"
      ]
     },
     "execution_count": 35,
     "metadata": {},
     "output_type": "execute_result"
    }
   ],
   "source": [
    "s.isPossible([1, 1000000000])"
   ]
  },
  {
   "cell_type": "code",
   "execution_count": null,
   "id": "823b27d3-cb55-40c5-9967-caaf767f720d",
   "metadata": {},
   "outputs": [],
   "source": []
  }
 ],
 "metadata": {
  "kernelspec": {
   "display_name": "Python 3 (ipykernel)",
   "language": "python",
   "name": "python3"
  },
  "language_info": {
   "codemirror_mode": {
    "name": "ipython",
    "version": 3
   },
   "file_extension": ".py",
   "mimetype": "text/x-python",
   "name": "python",
   "nbconvert_exporter": "python",
   "pygments_lexer": "ipython3",
   "version": "3.9.12"
  }
 },
 "nbformat": 4,
 "nbformat_minor": 5
}
