{
 "cells": [
  {
   "attachments": {
    "60b49dac-a8e1-475a-a12e-fb578f421a1f.png": {
     "image/png": "[encoded data removed]"
    },
    "d3262a2b-0a64-4243-a942-f0bdfb547569.png": {
     "image/png": "[encoded data removed]"
    }
   },
   "cell_type": "markdown",
   "id": "1ad05049-b178-4b29-8ce6-83ece797c522",
   "metadata": {},
   "source": [
    "You are given a 2D binary array grid. Find a rectangle with horizontal and vertical sides with the smallest area, such that all the 1's in grid lie inside this rectangle.\n",
    "\n",
    "Return the minimum possible area of the rectangle.\n",
    "\n",
    " \n",
    "\n",
    "Example 1:\n",
    "\n",
    "![image.png](attachment:60b49dac-a8e1-475a-a12e-fb578f421a1f.png)\n",
    "\n",
    "Input: grid = [[0,1,0],[1,0,1]]\n",
    "\n",
    "Output: 6\n",
    "\n",
    "Explanation:\n",
    "\n",
    "The smallest rectangle has a height of 2 and a width of 3, so it has an area of 2 * 3 = 6.\n",
    "\n",
    "Example 2:\n",
    "\n",
    "![image.png](attachment:d3262a2b-0a64-4243-a942-f0bdfb547569.png)\n",
    "\n",
    "Input: grid = [[1,0],[0,0]]\n",
    "\n",
    "Output: 1\n",
    "\n",
    "Explanation:\n",
    "\n",
    "The smallest rectangle has both height and width 1, so its area is 1 * 1 = 1.\n",
    "\n",
    " \n",
    "\n",
    "Constraints:\n",
    "\n",
    "    1 <= grid.length, grid[i].length <= 1000\n",
    "    grid[i][j] is either 0 or 1.\n",
    "    The input is generated such that there is at least one 1 in grid.\n",
    "\n",
    " \n"
   ]
  },
  {
   "cell_type": "code",
   "execution_count": null,
   "id": "1ca9dcaf-dc55-4071-b909-775458a42043",
   "metadata": {},
   "outputs": [],
   "source": [
    "class Solution:\n",
    "    def minimumArea(self, grid: List[List[int]]) -> int:\n",
    "        has_ones = False\n",
    "        min_row, max_row, min_col, max_col = 0, len(grid) - 1, 0, len(grid[0]) - 1\n",
    "        for i, row in enumerate(grid):\n",
    "            if sum(row) > 0:\n",
    "                has_ones = True\n",
    "                min_row = i\n",
    "                break\n",
    "        if not has_ones:\n",
    "            return 0\n",
    "        \n",
    "        for i in range(max_row, -1, -1):\n",
    "            if sum(grid[i]) > 0:\n",
    "                max_row = i\n",
    "                break\n",
    "        for j in range(len(grid[0])):\n",
    "            if sum(row[j] for row in grid) > 0:\n",
    "                min_col = j\n",
    "                break\n",
    "        for j in range(len(grid[0]) - 1, -1, -1):\n",
    "            if sum(row[j] for row in grid) > 0:\n",
    "                max_col = j\n",
    "                break\n",
    "\n",
    "        return (max_row - min_row + 1) * (max_col - min_col + 1)"
   ]
  },
  {
   "cell_type": "code",
   "execution_count": null,
   "id": "24189d6c-c538-4def-9f8b-25fb1280a4db",
   "metadata": {},
   "outputs": [],
   "source": [
    "class Solution:\n",
    "    def minimumArea(self, grid: List[List[int]]) -> int:\n",
    "        has_ones = False\n",
    "        min_row, max_row, min_col, max_col = 0, len(grid) - 1, 0, len(grid[0]) - 1\n",
    "        for i, row in enumerate(grid):\n",
    "            if sum(row) > 0:\n",
    "                has_ones = True\n",
    "                min_row = i\n",
    "                break\n",
    "        if not has_ones:\n",
    "            return 0\n",
    "        \n",
    "        for i in range(max_row, -1, -1):\n",
    "            if sum(grid[i]) > 0:\n",
    "                max_row = i\n",
    "                break\n",
    "        for j in range(len(grid[0])):\n",
    "            if sum(row[j] for row in grid[min_row: max_row + 1]) > 0:\n",
    "                min_col = j\n",
    "                break\n",
    "        for j in range(len(grid[0]) - 1, -1, -1):\n",
    "            if sum(row[j] for row in grid[min_row: max_row + 1]) > 0:\n",
    "                max_col = j\n",
    "                break\n",
    "\n",
    "        return (max_row - min_row + 1) * (max_col - min_col + 1)"
   ]
  }
 ],
 "metadata": {
  "kernelspec": {
   "display_name": "Python 3 (ipykernel)",
   "language": "python",
   "name": "python3"
  },
  "language_info": {
   "codemirror_mode": {
    "name": "ipython",
    "version": 3
   },
   "file_extension": ".py",
   "mimetype": "text/x-python",
   "name": "python",
   "nbconvert_exporter": "python",
   "pygments_lexer": "ipython3",
   "version": "3.13.5"
  }
 },
 "nbformat": 4,
 "nbformat_minor": 5
}
