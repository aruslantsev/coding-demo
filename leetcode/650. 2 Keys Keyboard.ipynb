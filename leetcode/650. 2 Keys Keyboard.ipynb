{
 "cells": [
  {
   "cell_type": "markdown",
   "id": "ab0706ba-569e-4eef-9cdc-3303a8ca563b",
   "metadata": {},
   "source": [
    "There is only one character 'A' on the screen of a notepad. You can perform one of two operations on this notepad for each step:\n",
    "\n",
    "    Copy All: You can copy all the characters present on the screen (a partial copy is not allowed).\n",
    "    Paste: You can paste the characters which are copied last time.\n",
    "\n",
    "Given an integer n, return the minimum number of operations to get the character 'A' exactly n times on the screen.\n",
    "\n",
    " \n",
    "\n",
    "Example 1:\n",
    "\n",
    "Input: n = 3\n",
    "Output: 3\n",
    "Explanation: Initially, we have one character 'A'.\n",
    "In step 1, we use Copy All operation.\n",
    "In step 2, we use Paste operation to get 'AA'.\n",
    "In step 3, we use Paste operation to get 'AAA'.\n",
    "\n",
    "Example 2:\n",
    "\n",
    "Input: n = 1\n",
    "Output: 0\n",
    "\n",
    " \n",
    "\n",
    "Constraints:\n",
    "\n",
    "    1 <= n <= 1000\n",
    "\n"
   ]
  },
  {
   "cell_type": "code",
   "execution_count": null,
   "id": "12537090-2e48-4a1a-8423-7bc804307522",
   "metadata": {},
   "outputs": [],
   "source": [
    "class Solution:\n",
    "    def minSteps(self, n: int) -> int:\n",
    "        if n == 1:\n",
    "            return 0\n",
    "\n",
    "        @cache\n",
    "        def dp(curr_len, paste_len):\n",
    "            if curr_len == n:\n",
    "                return 0\n",
    "\n",
    "            if curr_len > n:\n",
    "                return float(\"inf\")\n",
    "            \n",
    "            return min(\n",
    "                2 + dp(curr_len * 2, curr_len),\n",
    "                1 + dp(curr_len + paste_len, paste_len)\n",
    "            )\n",
    "\n",
    "        return 1 + dp(1, 1)"
   ]
  }
 ],
 "metadata": {
  "kernelspec": {
   "display_name": "Python 3 (ipykernel)",
   "language": "python",
   "name": "python3"
  },
  "language_info": {
   "codemirror_mode": {
    "name": "ipython",
    "version": 3
   },
   "file_extension": ".py",
   "mimetype": "text/x-python",
   "name": "python",
   "nbconvert_exporter": "python",
   "pygments_lexer": "ipython3",
   "version": "3.12.3"
  }
 },
 "nbformat": 4,
 "nbformat_minor": 5
}
