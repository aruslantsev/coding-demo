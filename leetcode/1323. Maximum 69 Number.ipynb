{
 "cells": [
  {
   "cell_type": "markdown",
   "id": "1700ba99-896e-4fc7-bc77-3dd16ac14540",
   "metadata": {},
   "source": [
    "You are given a positive integer num consisting only of digits 6 and 9.\n",
    "\n",
    "Return the maximum number you can get by changing at most one digit (6 becomes 9, and 9 becomes 6).\n",
    "\n",
    " \n",
    "\n",
    "Example 1:\n",
    "\n",
    "Input: num = 9669\n",
    "Output: 9969\n",
    "Explanation: \n",
    "Changing the first digit results in 6669.\n",
    "Changing the second digit results in 9969.\n",
    "Changing the third digit results in 9699.\n",
    "Changing the fourth digit results in 9666.\n",
    "The maximum number is 9969.\n",
    "\n",
    "Example 2:\n",
    "\n",
    "Input: num = 9996\n",
    "Output: 9999\n",
    "Explanation: Changing the last digit 6 to 9 results in the maximum number.\n",
    "\n",
    "Example 3:\n",
    "\n",
    "Input: num = 9999\n",
    "Output: 9999\n",
    "Explanation: It is better not to apply any change.\n",
    "\n",
    " \n",
    "\n",
    "Constraints:\n",
    "\n",
    "    1 <= num <= 104\n",
    "    num consists of only 6 and 9 digits.\n",
    "\n"
   ]
  },
  {
   "cell_type": "code",
   "execution_count": 1,
   "id": "882f0dd0-2e9b-4245-b470-7f621b4fefc2",
   "metadata": {},
   "outputs": [],
   "source": [
    "class Solution:\n",
    "    def maximum69Number (self, num: int) -> int:\n",
    "        num = list(str(num))\n",
    "        for i, chr in enumerate(num):\n",
    "            if chr == \"6\":\n",
    "                num[i] = \"9\"\n",
    "                break\n",
    "        \n",
    "        return int(''.join(num))"
   ]
  },
  {
   "cell_type": "code",
   "execution_count": null,
   "id": "6a0da02c-c6fb-4ddb-84da-09f4e058f6f4",
   "metadata": {},
   "outputs": [],
   "source": []
  }
 ],
 "metadata": {
  "kernelspec": {
   "display_name": "Python 3 (ipykernel)",
   "language": "python",
   "name": "python3"
  },
  "language_info": {
   "codemirror_mode": {
    "name": "ipython",
    "version": 3
   },
   "file_extension": ".py",
   "mimetype": "text/x-python",
   "name": "python",
   "nbconvert_exporter": "python",
   "pygments_lexer": "ipython3",
   "version": "3.9.13"
  }
 },
 "nbformat": 4,
 "nbformat_minor": 5
}
