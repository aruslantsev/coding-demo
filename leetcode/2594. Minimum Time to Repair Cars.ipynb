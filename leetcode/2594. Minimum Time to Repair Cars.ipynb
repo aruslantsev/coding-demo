{
 "cells": [
  {
   "cell_type": "markdown",
   "id": "c79a3706-3c3a-4563-b09a-a0bbe775644c",
   "metadata": {},
   "source": [
    "You are given an integer array ranks representing the ranks of some mechanics. ranksi is the rank of the ith mechanic. A mechanic with a rank r can repair n cars in r * n2 minutes.\n",
    "\n",
    "You are also given an integer cars representing the total number of cars waiting in the garage to be repaired.\n",
    "\n",
    "Return the minimum time taken to repair all the cars.\n",
    "\n",
    "Note: All the mechanics can repair the cars simultaneously.\n",
    "\n",
    " \n",
    "\n",
    "Example 1:\n",
    "\n",
    "Input: ranks = [4,2,3,1], cars = 10\n",
    "Output: 16\n",
    "Explanation: \n",
    "- The first mechanic will repair two cars. The time required is 4 * 2 * 2 = 16 minutes.\n",
    "- The second mechanic will repair two cars. The time required is 2 * 2 * 2 = 8 minutes.\n",
    "- The third mechanic will repair two cars. The time required is 3 * 2 * 2 = 12 minutes.\n",
    "- The fourth mechanic will repair four cars. The time required is 1 * 4 * 4 = 16 minutes.\n",
    "It can be proved that the cars cannot be repaired in less than 16 minutes.​​​​​\n",
    "\n",
    "Example 2:\n",
    "\n",
    "Input: ranks = [5,1,8], cars = 6\n",
    "Output: 16\n",
    "Explanation: \n",
    "- The first mechanic will repair one car. The time required is 5 * 1 * 1 = 5 minutes.\n",
    "- The second mechanic will repair four cars. The time required is 1 * 4 * 4 = 16 minutes.\n",
    "- The third mechanic will repair one car. The time required is 8 * 1 * 1 = 8 minutes.\n",
    "It can be proved that the cars cannot be repaired in less than 16 minutes.​​​​​\n",
    "\n",
    " \n",
    "\n",
    "Constraints:\n",
    "\n",
    "    1 <= ranks.length <= 105\n",
    "    1 <= ranks[i] <= 100\n",
    "    1 <= cars <= 106\n",
    "\n"
   ]
  },
  {
   "cell_type": "code",
   "execution_count": null,
   "id": "46e95e25-8d68-44db-9eaa-e1c60f5f6d1f",
   "metadata": {},
   "outputs": [],
   "source": [
    "class Solution:\n",
    "    def repairCars(self, ranks: List[int], cars: int) -> int:\n",
    "        l = 0\n",
    "        r = min(ranks) * (cars ** 2)\n",
    "        while l < r:\n",
    "            m = (l + r) // 2\n",
    "            if self.is_possible(ranks, cars, m):\n",
    "                r = m\n",
    "            else:\n",
    "                l = m + 1\n",
    "        return l\n",
    "    \n",
    "    @classmethod\n",
    "    def is_possible(self, ranks, cars, time):\n",
    "        num_cars = 0\n",
    "        for rank in ranks:\n",
    "            num_cars += int((time // rank) ** 0.5)\n",
    "        return num_cars >= cars"
   ]
  }
 ],
 "metadata": {
  "kernelspec": {
   "display_name": "Python 3 (ipykernel)",
   "language": "python",
   "name": "python3"
  },
  "language_info": {
   "codemirror_mode": {
    "name": "ipython",
    "version": 3
   },
   "file_extension": ".py",
   "mimetype": "text/x-python",
   "name": "python",
   "nbconvert_exporter": "python",
   "pygments_lexer": "ipython3",
   "version": "3.12.7"
  }
 },
 "nbformat": 4,
 "nbformat_minor": 5
}
