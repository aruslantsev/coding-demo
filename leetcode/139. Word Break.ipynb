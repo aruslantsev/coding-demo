{
 "cells": [
  {
   "cell_type": "markdown",
   "id": "da71c98a-7cba-44ed-99e7-ece339813072",
   "metadata": {},
   "source": [
    "Given a string s and a dictionary of strings wordDict, return true if s can be segmented into a space-separated sequence of one or more dictionary words.\n",
    "\n",
    "Note that the same word in the dictionary may be reused multiple times in the segmentation.\n",
    "\n",
    " \n",
    "\n",
    "Example 1:\n",
    "\n",
    "Input: s = \"leetcode\", wordDict = [\"leet\",\"code\"]\n",
    "Output: true\n",
    "Explanation: Return true because \"leetcode\" can be segmented as \"leet code\".\n",
    "\n",
    "Example 2:\n",
    "\n",
    "Input: s = \"applepenapple\", wordDict = [\"apple\",\"pen\"]\n",
    "Output: true\n",
    "Explanation: Return true because \"applepenapple\" can be segmented as \"apple pen apple\".\n",
    "Note that you are allowed to reuse a dictionary word.\n",
    "\n",
    "Example 3:\n",
    "\n",
    "Input: s = \"catsandog\", wordDict = [\"cats\",\"dog\",\"sand\",\"and\",\"cat\"]\n",
    "Output: false\n"
   ]
  },
  {
   "cell_type": "code",
   "execution_count": 71,
   "id": "2004bffa-0d11-4792-a26f-9a61c65aa96c",
   "metadata": {},
   "outputs": [],
   "source": [
    "from typing import List\n",
    "from collections import deque\n",
    "\n",
    "\n",
    "class Solution:\n",
    "    def wordBreak(self, s: str, wordDict: List[str]) -> bool:\n",
    "        searching = set(''.join(wordDict))\n",
    "        present = set(s)\n",
    "        if len([l for l in present if l not in searching]) > 0:\n",
    "            return False \n",
    "        \n",
    "        visited = [0] * len(s)\n",
    "        q = deque()\n",
    "        q.append(0)\n",
    "        while q:\n",
    "            start = q.popleft()\n",
    "            if start == len(s):\n",
    "                return True\n",
    "            \n",
    "            if visited[start] == 1:\n",
    "                continue\n",
    "            else:\n",
    "                visited[start] = 1\n",
    "            \n",
    "            for word in wordDict:\n",
    "                if s[start:min(len(s), start + len(word))] == word:\n",
    "                    q.append(start + len(word))\n",
    "\n",
    "        return False"
   ]
  },
  {
   "cell_type": "code",
   "execution_count": null,
   "id": "8b97b567-9210-48b4-92d8-dab3980347d9",
   "metadata": {},
   "outputs": [],
   "source": [
    "def wordBreak(self, s: str, wordDict: List[str]) -> bool:\n",
    "        #dp[i] means possibility that s[i:] in wordDict\n",
    "        dp = [False for i in range(len(s))]\n",
    "        \n",
    "        for i in range(len(s)-1, -1, -1):\n",
    "            for j in range(i, len(s)):\n",
    "                if s[i:j+1] not in wordDict:\n",
    "                    continue\n",
    "                else:\n",
    "                    if dp[i]:\n",
    "                        break\n",
    "                    dp[i] = (dp[j+1]) if j + 1 < len(s) else True\n",
    "        \n",
    "        return dp[0]"
   ]
  },
  {
   "cell_type": "code",
   "execution_count": 72,
   "id": "cb6e8d50-2b89-4f11-acfa-39e3e567cc3a",
   "metadata": {},
   "outputs": [
    {
     "data": {
      "text/plain": [
       "True"
      ]
     },
     "execution_count": 72,
     "metadata": {},
     "output_type": "execute_result"
    }
   ],
   "source": [
    "s = Solution()\n",
    "s.wordBreak(s=\"leetcode\", wordDict=[\"leet\",\"code\"])"
   ]
  },
  {
   "cell_type": "code",
   "execution_count": 73,
   "id": "3855a5e4-571f-4fbe-b464-634f3dff6767",
   "metadata": {},
   "outputs": [
    {
     "data": {
      "text/plain": [
       "True"
      ]
     },
     "execution_count": 73,
     "metadata": {},
     "output_type": "execute_result"
    }
   ],
   "source": [
    "s.wordBreak(s=\"applepenapple\", wordDict=[\"apple\",\"pen\"])"
   ]
  },
  {
   "cell_type": "code",
   "execution_count": 74,
   "id": "fffa3a73-df8f-416e-a475-a86e4291d2b7",
   "metadata": {},
   "outputs": [
    {
     "data": {
      "text/plain": [
       "False"
      ]
     },
     "execution_count": 74,
     "metadata": {},
     "output_type": "execute_result"
    }
   ],
   "source": [
    "s.wordBreak(s=\"catsandog\", wordDict=[\"cats\",\"dog\",\"sand\",\"and\",\"cat\"])"
   ]
  },
  {
   "cell_type": "code",
   "execution_count": 75,
   "id": "6a42af76-695b-4516-83f9-b1b8f59550e8",
   "metadata": {},
   "outputs": [
    {
     "data": {
      "text/plain": [
       "False"
      ]
     },
     "execution_count": 75,
     "metadata": {},
     "output_type": "execute_result"
    }
   ],
   "source": [
    "s.wordBreak(\"aaaaaaaaaaaaaaaaaaaaaaaaaaaaaaaaaaaaaaaaaaaaaaaaaaaaaaaaaaaaaaaaaaaaaaaaaaaaaaaaaaaaaaaaaaaaaaaaaaaaaaaaaaaaaaaaaaaaaaaaaaaaaaaaaaaaaaaaaaaaaaaaaaaaaab\", [\"a\",\"aa\",\"aaa\",\"aaaa\",\"aaaaa\",\"aaaaaa\",\"aaaaaaa\",\"aaaaaaaa\",\"aaaaaaaaa\",\"aaaaaaaaaa\"])"
   ]
  },
  {
   "cell_type": "code",
   "execution_count": 76,
   "id": "ac3f1f39-bc61-43ae-acc0-d01ba0bc6be2",
   "metadata": {},
   "outputs": [
    {
     "data": {
      "text/plain": [
       "False"
      ]
     },
     "execution_count": 76,
     "metadata": {},
     "output_type": "execute_result"
    }
   ],
   "source": [
    "s.wordBreak(\"aaaaaaaaaaaaaaaaaaaaaaaaaaaaaaaaaaaaaaaaaaaaaaaaaaaaaaaaaaaaaaaaaaaaaaaaaaabaabaaaaaaaaaaaaaaaaaaaaaaaaaaaaaaaaaaaaaaaaaaaaaaaaaaaaaaaaaaaaaaaaaaaaaaaa\", [\"aa\",\"aaa\",\"aaaa\",\"aaaaa\",\"aaaaaa\",\"aaaaaaa\",\"aaaaaaaa\",\"aaaaaaaaa\",\"aaaaaaaaaa\",\"ba\"])"
   ]
  },
  {
   "cell_type": "code",
   "execution_count": null,
   "id": "812d995b-d623-4287-baa5-eff7abab818c",
   "metadata": {},
   "outputs": [],
   "source": []
  }
 ],
 "metadata": {
  "kernelspec": {
   "display_name": "Python 3 (ipykernel)",
   "language": "python",
   "name": "python3"
  },
  "language_info": {
   "codemirror_mode": {
    "name": "ipython",
    "version": 3
   },
   "file_extension": ".py",
   "mimetype": "text/x-python",
   "name": "python",
   "nbconvert_exporter": "python",
   "pygments_lexer": "ipython3",
   "version": "3.9.10"
  }
 },
 "nbformat": 4,
 "nbformat_minor": 5
}
