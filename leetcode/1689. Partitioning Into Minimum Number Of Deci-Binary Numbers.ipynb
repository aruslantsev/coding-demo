{
 "cells": [
  {
   "cell_type": "markdown",
   "id": "fb84896a-f2f1-41b3-be36-d3f58935842b",
   "metadata": {},
   "source": [
    "A decimal number is called deci-binary if each of its digits is either 0 or 1 without any leading zeros. For example, 101 and 1100 are deci-binary, while 112 and 3001 are not.\n",
    "\n",
    "Given a string n that represents a positive decimal integer, return the minimum number of positive deci-binary numbers needed so that they sum up to n.\n",
    "\n",
    "Example 1:\n",
    "\n",
    "Input: n = \"32\"\n",
    "Output: 3\n",
    "Explanation: 10 + 11 + 11 = 32\n",
    "\n",
    "Example 2:\n",
    "\n",
    "Input: n = \"82734\"\n",
    "Output: 8\n",
    "\n",
    "Example 3:\n",
    "\n",
    "Input: n = \"27346209830709182346\"\n",
    "Output: 9\n",
    "\n",
    " \n",
    "\n",
    "Constraints:\n",
    "\n",
    "    1 <= n.length <= 105\n",
    "    n consists of only digits.\n",
    "    n does not contain any leading zeros and represents a positive integer.\n",
    "\n"
   ]
  },
  {
   "cell_type": "code",
   "execution_count": null,
   "id": "0529b8e3-45ab-4664-b7f5-33d71b4895ae",
   "metadata": {},
   "outputs": [],
   "source": [
    "class Solution:\n",
    "    def minPartitions(self, n: str) -> int:\n",
    "        return int(max(sym for sym in n))"
   ]
  }
 ],
 "metadata": {
  "kernelspec": {
   "display_name": "Python 3 (ipykernel)",
   "language": "python",
   "name": "python3"
  },
  "language_info": {
   "codemirror_mode": {
    "name": "ipython",
    "version": 3
   },
   "file_extension": ".py",
   "mimetype": "text/x-python",
   "name": "python",
   "nbconvert_exporter": "python",
   "pygments_lexer": "ipython3",
   "version": "3.9.12"
  }
 },
 "nbformat": 4,
 "nbformat_minor": 5
}
