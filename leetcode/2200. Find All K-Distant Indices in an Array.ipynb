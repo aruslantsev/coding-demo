{
 "cells": [
  {
   "cell_type": "markdown",
   "id": "292a2bfb-8121-4612-9408-3acfe67b8b6b",
   "metadata": {},
   "source": [
    "You are given a 0-indexed integer array nums and two integers key and k. A k-distant index is an index i of nums for which there exists at least one index j such that |i - j| <= k and nums[j] == key.\n",
    "\n",
    "Return a list of all k-distant indices sorted in increasing order.\n",
    "\n",
    " \n",
    "\n",
    "Example 1:\n",
    "\n",
    "Input: nums = [3,4,9,1,3,9,5], key = 9, k = 1\n",
    "Output: [1,2,3,4,5,6]\n",
    "Explanation: Here, nums[2] == key and nums[5] == key.\n",
    "- For index 0, |0 - 2| > k and |0 - 5| > k, so there is no j where |0 - j| <= k and nums[j] == key. Thus, 0 is not a k-distant index.\n",
    "- For index 1, |1 - 2| <= k and nums[2] == key, so 1 is a k-distant index.\n",
    "- For index 2, |2 - 2| <= k and nums[2] == key, so 2 is a k-distant index.\n",
    "- For index 3, |3 - 2| <= k and nums[2] == key, so 3 is a k-distant index.\n",
    "- For index 4, |4 - 5| <= k and nums[5] == key, so 4 is a k-distant index.\n",
    "- For index 5, |5 - 5| <= k and nums[5] == key, so 5 is a k-distant index.\n",
    "- For index 6, |6 - 5| <= k and nums[5] == key, so 6 is a k-distant index.\n",
    "Thus, we return [1,2,3,4,5,6] which is sorted in increasing order. \n",
    "\n",
    "Example 2:\n",
    "\n",
    "Input: nums = [2,2,2,2,2], key = 2, k = 2\n",
    "Output: [0,1,2,3,4]\n",
    "Explanation: For all indices i in nums, there exists some index j such that |i - j| <= k and nums[j] == key, so every index is a k-distant index. \n",
    "Hence, we return [0,1,2,3,4].\n",
    "\n",
    " \n",
    "\n",
    "Constraints:\n",
    "\n",
    "    1 <= nums.length <= 1000\n",
    "    1 <= nums[i] <= 1000\n",
    "    key is an integer from the array nums.\n"
   ]
  },
  {
   "cell_type": "code",
   "execution_count": null,
   "id": "31da235f-07a0-414e-9514-0705d8385248",
   "metadata": {},
   "outputs": [],
   "source": [
    "class Solution:\n",
    "    def findKDistantIndices(self, nums: List[int], key: int, k: int) -> List[int]:\n",
    "        keys = set()\n",
    "        for idx, num in enumerate(nums):\n",
    "            if num == key:\n",
    "                for i in range(k + 1):\n",
    "                    if idx - i >= 0:\n",
    "                        keys.add(idx - i)\n",
    "                    if idx + i < len(nums):\n",
    "                        keys.add(idx + i)\n",
    "        return sorted(keys)"
   ]
  },
  {
   "cell_type": "code",
   "execution_count": null,
   "id": "513deac6-19ee-43c3-bd34-281da32db039",
   "metadata": {},
   "outputs": [],
   "source": [
    "class Solution:\n",
    "    def findKDistantIndices(\n",
    "        self, nums: List[int], key: int, k: int\n",
    "    ) -> List[int]:\n",
    "        res = []\n",
    "        n = len(nums)\n",
    "        # traverse number pairs\n",
    "        for i in range(n):\n",
    "            for j in range(n):\n",
    "                if nums[j] == key and abs(i - j) <= k:\n",
    "                    res.append(i)\n",
    "                    break  # early termination to prevent duplicate addition\n",
    "        return res"
   ]
  }
 ],
 "metadata": {
  "kernelspec": {
   "display_name": "common",
   "language": "python",
   "name": "common"
  },
  "language_info": {
   "codemirror_mode": {
    "name": "ipython",
    "version": 3
   },
   "file_extension": ".py",
   "mimetype": "text/x-python",
   "name": "python",
   "nbconvert_exporter": "python",
   "pygments_lexer": "ipython3",
   "version": "3.12.9"
  }
 },
 "nbformat": 4,
 "nbformat_minor": 5
}
