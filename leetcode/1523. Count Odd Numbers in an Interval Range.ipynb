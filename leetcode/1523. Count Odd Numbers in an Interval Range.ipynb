{
 "cells": [
  {
   "cell_type": "markdown",
   "id": "3f0434f8-c19e-4d2b-a700-c5620e9bd152",
   "metadata": {},
   "source": [
    "Given two non-negative integers low and high. Return the count of odd numbers between low and high (inclusive).\n",
    "\n",
    " \n",
    "\n",
    "Example 1:\n",
    "\n",
    "Input: low = 3, high = 7\n",
    "Output: 3\n",
    "Explanation: The odd numbers between 3 and 7 are [3,5,7].\n",
    "\n",
    "Example 2:\n",
    "\n",
    "Input: low = 8, high = 10\n",
    "Output: 1\n",
    "Explanation: The odd numbers between 8 and 10 are [9].\n",
    "\n",
    " \n",
    "\n",
    "Constraints:\n",
    "\n",
    "    0 <= low <= high <= 10^9\n"
   ]
  },
  {
   "cell_type": "code",
   "execution_count": null,
   "id": "65e55d94-fcac-45b3-a2bd-81e6489ed136",
   "metadata": {},
   "outputs": [],
   "source": [
    "class Solution:\n",
    "    def countOdds(self, low: int, high: int) -> int:\n",
    "        if low % 2 == 0:\n",
    "            low += 1\n",
    "        if high % 2 == 0:\n",
    "            high -= 1\n",
    "\n",
    "        return (high - low) // 2 + 1"
   ]
  }
 ],
 "metadata": {
  "kernelspec": {
   "display_name": "Python 3 (ipykernel)",
   "language": "python",
   "name": "python3"
  },
  "language_info": {
   "codemirror_mode": {
    "name": "ipython",
    "version": 3
   },
   "file_extension": ".py",
   "mimetype": "text/x-python",
   "name": "python",
   "nbconvert_exporter": "python",
   "pygments_lexer": "ipython3",
   "version": "3.10.8"
  }
 },
 "nbformat": 4,
 "nbformat_minor": 5
}
