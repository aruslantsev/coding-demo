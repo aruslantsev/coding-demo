{
 "cells": [
  {
   "cell_type": "markdown",
   "id": "acc2bcf2",
   "metadata": {},
   "source": [
    "Given an array of integers nums and an integer k, return the number of unique k-diff pairs in the array.\n",
    "\n",
    "A k-diff pair is an integer pair (nums[i], nums[j]), where the following are true:\n",
    "\n",
    "0 <= i < j < nums.length\n",
    "|nums[i] - nums[j]| == k\n",
    "Notice that |val| denotes the absolute value of val.\n",
    "\n",
    " \n",
    "\n",
    "Example 1:\n",
    "\n",
    "Input: nums = [3,1,4,1,5], k = 2\n",
    "Output: 2\n",
    "Explanation: There are two 2-diff pairs in the array, (1, 3) and (3, 5).\n",
    "Although we have two 1s in the input, we should only return the number of unique pairs.\n",
    "Example 2:\n",
    "\n",
    "Input: nums = [1,2,3,4,5], k = 1\n",
    "Output: 4\n",
    "Explanation: There are four 1-diff pairs in the array, (1, 2), (2, 3), (3, 4) and (4, 5).\n",
    "Example 3:\n",
    "\n",
    "Input: nums = [1,3,1,5,4], k = 0\n",
    "Output: 1\n",
    "Explanation: There is one 0-diff pair in the array, (1, 1).\n",
    " \n",
    "\n",
    "Constraints:\n",
    "\n",
    "1 <= nums.length <= 104\n",
    "-107 <= nums[i] <= 107\n",
    "0 <= k <= 107"
   ]
  },
  {
   "cell_type": "code",
   "execution_count": 42,
   "id": "59e9e11c",
   "metadata": {},
   "outputs": [],
   "source": [
    "from typing import List\n",
    "\n",
    "class Solution:\n",
    "    def findPairs(self, nums: List[int], k: int) -> int:\n",
    "        pairs = set()\n",
    "        for i, num in enumerate(nums):\n",
    "            nums_tmp = nums.copy()\n",
    "            nums_tmp.pop(i)\n",
    "            if (num - k) in nums_tmp:\n",
    "                pairs.add(tuple(sorted((num, (num - k)))))\n",
    "            if (num + k) in nums_tmp:\n",
    "                pairs.add(tuple(sorted((num, (num + k)))))\n",
    "#             print(pairs)\n",
    "            \n",
    "        return len(pairs)"
   ]
  },
  {
   "cell_type": "code",
   "execution_count": 43,
   "id": "d6a2ed00",
   "metadata": {},
   "outputs": [
    {
     "data": {
      "text/plain": [
       "2"
      ]
     },
     "execution_count": 43,
     "metadata": {},
     "output_type": "execute_result"
    }
   ],
   "source": [
    "s = Solution()\n",
    "s.findPairs([3,1,4,1,5], 2)"
   ]
  },
  {
   "cell_type": "code",
   "execution_count": 44,
   "id": "dc23ecfc",
   "metadata": {},
   "outputs": [
    {
     "data": {
      "text/plain": [
       "4"
      ]
     },
     "execution_count": 44,
     "metadata": {},
     "output_type": "execute_result"
    }
   ],
   "source": [
    "s.findPairs([1,2,3,4,5], 1)\n"
   ]
  },
  {
   "cell_type": "code",
   "execution_count": 45,
   "id": "ca0e2295",
   "metadata": {},
   "outputs": [
    {
     "data": {
      "text/plain": [
       "1"
      ]
     },
     "execution_count": 45,
     "metadata": {},
     "output_type": "execute_result"
    }
   ],
   "source": [
    "s.findPairs([1,3,1,5,4], 0)"
   ]
  },
  {
   "cell_type": "code",
   "execution_count": null,
   "id": "2c285065",
   "metadata": {},
   "outputs": [],
   "source": []
  }
 ],
 "metadata": {
  "kernelspec": {
   "display_name": "Python 3 (ipykernel)",
   "language": "python",
   "name": "python3"
  },
  "language_info": {
   "codemirror_mode": {
    "name": "ipython",
    "version": 3
   },
   "file_extension": ".py",
   "mimetype": "text/x-python",
   "name": "python",
   "nbconvert_exporter": "python",
   "pygments_lexer": "ipython3",
   "version": "3.9.10"
  }
 },
 "nbformat": 4,
 "nbformat_minor": 5
}
