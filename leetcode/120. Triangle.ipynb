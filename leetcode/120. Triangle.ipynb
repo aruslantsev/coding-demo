{
 "cells": [
  {
   "cell_type": "markdown",
   "id": "f8096447-9096-4471-b13e-f55c9a2c6249",
   "metadata": {},
   "source": [
    "Given a triangle array, return the minimum path sum from top to bottom.\n",
    "\n",
    "For each step, you may move to an adjacent number of the row below. More formally, if you are on index i on the current row, you may move to either index i or index i + 1 on the next row.\n",
    "\n",
    " \n",
    "\n",
    "Example 1:\n",
    "\n",
    "Input: triangle = [[2],[3,4],[6,5,7],[4,1,8,3]]\n",
    "Output: 11\n",
    "Explanation: The triangle looks like:\n",
    "   2\n",
    "  3 4\n",
    " 6 5 7\n",
    "4 1 8 3\n",
    "The minimum path sum from top to bottom is 2 + 3 + 5 + 1 = 11 (underlined above).\n",
    "\n",
    "Example 2:\n",
    "\n",
    "Input: triangle = [[-10]]\n",
    "Output: -10\n",
    "\n",
    " \n",
    "\n",
    "Constraints:\n",
    "\n",
    "    1 <= triangle.length <= 200\n",
    "    triangle[0].length == 1\n",
    "    triangle[i].length == triangle[i - 1].length + 1\n",
    "    -104 <= triangle[i][j] <= 104\n",
    "\n",
    " \n",
    "Follow up: Could you do this using only O(n) extra space, where n is the total number of rows in the triangle?"
   ]
  },
  {
   "cell_type": "code",
   "execution_count": 10,
   "id": "a9dd2968-2589-4449-9288-99840c18d4d3",
   "metadata": {},
   "outputs": [],
   "source": [
    "from typing import List\n",
    "\n",
    "class Solution:\n",
    "    def minimumTotal(self, triangle: List[List[int]]) -> int:\n",
    "        sums = []\n",
    "        for i, row in enumerate(triangle):\n",
    "            if i == 0:\n",
    "                sums.append(triangle[0])\n",
    "            else:\n",
    "                sums_row = []\n",
    "                for j, val in enumerate(row):\n",
    "                    if j == 0:\n",
    "                        sums_row.append(sums[-1][0] + val)\n",
    "                    elif j == len(row) - 1:\n",
    "                        sums_row.append(sums[-1][-1] + val)\n",
    "                    else:\n",
    "                        sums_row.append(min(sums[-1][j - 1], sums[-1][j]) + val)\n",
    "                        \n",
    "                sums.append(sums_row)\n",
    "        return min(sums[-1])"
   ]
  },
  {
   "cell_type": "code",
   "execution_count": 11,
   "id": "dad88e59-5f93-4166-9845-ac9b20eea07e",
   "metadata": {},
   "outputs": [
    {
     "data": {
      "text/plain": [
       "11"
      ]
     },
     "execution_count": 11,
     "metadata": {},
     "output_type": "execute_result"
    }
   ],
   "source": [
    "s = Solution()\n",
    "s.minimumTotal([[2],[3,4],[6,5,7],[4,1,8,3]])"
   ]
  },
  {
   "cell_type": "code",
   "execution_count": null,
   "id": "96156d22-58aa-4d44-81e7-d300d64af8d6",
   "metadata": {},
   "outputs": [],
   "source": []
  }
 ],
 "metadata": {
  "kernelspec": {
   "display_name": "Python 3 (ipykernel)",
   "language": "python",
   "name": "python3"
  },
  "language_info": {
   "codemirror_mode": {
    "name": "ipython",
    "version": 3
   },
   "file_extension": ".py",
   "mimetype": "text/x-python",
   "name": "python",
   "nbconvert_exporter": "python",
   "pygments_lexer": "ipython3",
   "version": "3.9.10"
  }
 },
 "nbformat": 4,
 "nbformat_minor": 5
}
