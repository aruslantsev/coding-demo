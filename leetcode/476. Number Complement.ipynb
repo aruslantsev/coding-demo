{
 "cells": [
  {
   "cell_type": "markdown",
   "id": "3377b3f1-41d8-45e5-8eaa-0804718d57db",
   "metadata": {},
   "source": [
    "The complement of an integer is the integer you get when you flip all the 0's to 1's and all the 1's to 0's in its binary representation.\n",
    "\n",
    "    For example, The integer 5 is \"101\" in binary and its complement is \"010\" which is the integer 2.\n",
    "\n",
    "Given an integer num, return its complement.\n",
    "\n",
    " \n",
    "\n",
    "Example 1:\n",
    "\n",
    "Input: num = 5\n",
    "Output: 2\n",
    "Explanation: The binary representation of 5 is 101 (no leading zero bits), and its complement is 010. So you need to output 2.\n",
    "\n",
    "Example 2:\n",
    "\n",
    "Input: num = 1\n",
    "Output: 0\n",
    "Explanation: The binary representation of 1 is 1 (no leading zero bits), and its complement is 0. So you need to output 0.\n",
    "\n",
    " \n",
    "\n",
    "Constraints:\n",
    "\n",
    "    1 <= num < 231\n",
    "\n",
    " \n",
    "\n",
    "Note: This question is the same as 1009: https://leetcode.com/problems/complement-of-base-10-integer/\n"
   ]
  },
  {
   "cell_type": "code",
   "execution_count": 1,
   "id": "3ad2cb7a-2b0b-4c76-af55-b0682eeab632",
   "metadata": {},
   "outputs": [],
   "source": [
    "class Solution:\n",
    "    def findComplement(self, num: int) -> int:\n",
    "        ans = 0\n",
    "        multiplier = 1\n",
    "        while num != 0:\n",
    "            ans += abs(num % 2 - 1) * multiplier\n",
    "            num //= 2\n",
    "            multiplier *= 2\n",
    "        return ans"
   ]
  },
  {
   "cell_type": "code",
   "execution_count": null,
   "id": "d84624d9-d266-4e47-9024-02d5b4bf557b",
   "metadata": {},
   "outputs": [],
   "source": [
    "class Solution:\n",
    "    def findComplement(self, num: int) -> int:\n",
    "        bit_length = num.bit_length()\n",
    "        mask = (1 << bit_length) - 1\n",
    "        return num ^ mask"
   ]
  }
 ],
 "metadata": {
  "kernelspec": {
   "display_name": "Python 3 (ipykernel)",
   "language": "python",
   "name": "python3"
  },
  "language_info": {
   "codemirror_mode": {
    "name": "ipython",
    "version": 3
   },
   "file_extension": ".py",
   "mimetype": "text/x-python",
   "name": "python",
   "nbconvert_exporter": "python",
   "pygments_lexer": "ipython3",
   "version": "3.12.3"
  }
 },
 "nbformat": 4,
 "nbformat_minor": 5
}
