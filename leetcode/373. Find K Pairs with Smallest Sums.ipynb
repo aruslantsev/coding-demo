{
 "cells": [
  {
   "cell_type": "markdown",
   "id": "58d50548-b99b-4eda-b101-53f10e2f0454",
   "metadata": {},
   "source": [
    "You are given two integer arrays nums1 and nums2 sorted in ascending order and an integer k.\n",
    "\n",
    "Define a pair (u, v) which consists of one element from the first array and one element from the second array.\n",
    "\n",
    "Return the k pairs (u1, v1), (u2, v2), ..., (uk, vk) with the smallest sums.\n",
    "\n",
    " \n",
    "\n",
    "Example 1:\n",
    "\n",
    "Input: nums1 = [1,7,11], nums2 = [2,4,6], k = 3\n",
    "Output: [[1,2],[1,4],[1,6]]\n",
    "Explanation: The first 3 pairs are returned from the sequence: [1,2],[1,4],[1,6],[7,2],[7,4],[11,2],[7,6],[11,4],[11,6]\n",
    "\n",
    "Example 2:\n",
    "\n",
    "Input: nums1 = [1,1,2], nums2 = [1,2,3], k = 2\n",
    "Output: [[1,1],[1,1]]\n",
    "Explanation: The first 2 pairs are returned from the sequence: [1,1],[1,1],[1,2],[2,1],[1,2],[2,2],[1,3],[1,3],[2,3]\n",
    "\n",
    "Example 3:\n",
    "\n",
    "Input: nums1 = [1,2], nums2 = [3], k = 3\n",
    "Output: [[1,3],[2,3]]\n",
    "Explanation: All possible pairs are returned from the sequence: [1,3],[2,3]\n",
    "\n",
    " \n",
    "\n",
    "Constraints:\n",
    "\n",
    "    1 <= nums1.length, nums2.length <= 105\n",
    "    -109 <= nums1[i], nums2[i] <= 109\n",
    "    nums1 and nums2 both are sorted in ascending order.\n",
    "    1 <= k <= 104\n",
    "\n"
   ]
  },
  {
   "cell_type": "code",
   "execution_count": null,
   "id": "fd4f5c9d-3020-4573-ae62-5f00e854a865",
   "metadata": {},
   "outputs": [],
   "source": [
    "class Solution:\n",
    "    def kSmallestPairs(self, nums1: List[int], nums2: List[int], k: int) -> List[List[int]]:\n",
    "        from heapq import heappush, heappop\n",
    "        m = len(nums1)\n",
    "        n = len(nums2)\n",
    "\n",
    "        ans = []\n",
    "        visited = set()\n",
    "\n",
    "        minHeap = [(nums1[0] + nums2[0], (0, 0))]\n",
    "        visited.add((0, 0))\n",
    "        count = 0\n",
    "\n",
    "        while k > 0 and minHeap:\n",
    "            val, (i, j) = heappop(minHeap)\n",
    "            ans.append([nums1[i], nums2[j]])\n",
    "\n",
    "            if i + 1 < m and (i + 1, j) not in visited:\n",
    "                heappush(minHeap, (nums1[i + 1] + nums2[j], (i + 1, j)))\n",
    "                visited.add((i + 1, j))\n",
    "\n",
    "            if j + 1 < n and (i, j + 1) not in visited:\n",
    "                heappush(minHeap, (nums1[i] + nums2[j + 1], (i, j + 1)))\n",
    "                visited.add((i, j + 1))\n",
    "            k = k - 1\n",
    "        \n",
    "        return ans"
   ]
  }
 ],
 "metadata": {
  "kernelspec": {
   "display_name": "Python 3 (ipykernel)",
   "language": "python",
   "name": "python3"
  },
  "language_info": {
   "codemirror_mode": {
    "name": "ipython",
    "version": 3
   },
   "file_extension": ".py",
   "mimetype": "text/x-python",
   "name": "python",
   "nbconvert_exporter": "python",
   "pygments_lexer": "ipython3",
   "version": "3.10.11"
  }
 },
 "nbformat": 4,
 "nbformat_minor": 5
}
