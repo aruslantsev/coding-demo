{
 "cells": [
  {
   "cell_type": "markdown",
   "id": "09fc5983-350e-4209-95ca-336f1d02a8e3",
   "metadata": {},
   "source": [
    "A trie (pronounced as \"try\") or prefix tree is a tree data structure used to efficiently store and retrieve keys in a dataset of strings. There are various applications of this data structure, such as autocomplete and spellchecker.\n",
    "\n",
    "Implement the Trie class:\n",
    "\n",
    "    Trie() Initializes the trie object.\n",
    "    void insert(String word) Inserts the string word into the trie.\n",
    "    boolean search(String word) Returns true if the string word is in the trie (i.e., was inserted before), and false otherwise.\n",
    "    boolean startsWith(String prefix) Returns true if there is a previously inserted string word that has the prefix prefix, and false otherwise.\n",
    "\n",
    " \n",
    "\n",
    "Example 1:\n",
    "\n",
    "Input\n",
    "[\"Trie\", \"insert\", \"search\", \"search\", \"startsWith\", \"insert\", \"search\"]\n",
    "[[], [\"apple\"], [\"apple\"], [\"app\"], [\"app\"], [\"app\"], [\"app\"]]\n",
    "Output\n",
    "[null, null, true, false, true, null, true]\n",
    "\n",
    "Explanation\n",
    "Trie trie = new Trie();\n",
    "trie.insert(\"apple\");\n",
    "trie.search(\"apple\");   // return True\n",
    "trie.search(\"app\");     // return False\n",
    "trie.startsWith(\"app\"); // return True\n",
    "trie.insert(\"app\");\n",
    "trie.search(\"app\");     // return True\n",
    "\n",
    " \n",
    "\n",
    "Constraints:\n",
    "\n",
    "    1 <= word.length, prefix.length <= 2000\n",
    "    word and prefix consist only of lowercase English letters.\n",
    "    At most 3 * 104 calls in total will be made to insert, search, and startsWith.\n",
    "\n"
   ]
  },
  {
   "cell_type": "code",
   "execution_count": 21,
   "id": "e9173f13-df37-4da6-9472-4d59cec373d8",
   "metadata": {},
   "outputs": [],
   "source": [
    "class Trie:\n",
    "\n",
    "    def __init__(self):\n",
    "        self.words = {}\n",
    "        self._end = \"__end__\"\n",
    "\n",
    "    def insert(self, word: str) -> None:\n",
    "        root = self.words\n",
    "        for letter in word:\n",
    "            if letter not in root:\n",
    "                root[letter] = {}\n",
    "            root = root[letter]\n",
    "        root[self._end] = self._end\n",
    "\n",
    "    def search(self, word: str) -> bool:\n",
    "        root = self.words\n",
    "        for letter in word:\n",
    "            if letter not in root:\n",
    "                return False\n",
    "            root = root[letter]\n",
    "        if self._end in root:\n",
    "            return True\n",
    "        else:\n",
    "            return False\n",
    "\n",
    "    def startsWith(self, prefix: str) -> bool:\n",
    "        root = self.words\n",
    "        for letter in prefix:\n",
    "            if letter not in root:\n",
    "                return False\n",
    "            root = root[letter]\n",
    "        return True\n",
    "\n",
    "\n",
    "# Your Trie object will be instantiated and called as such:\n",
    "# obj = Trie()\n",
    "# obj.insert(word)\n",
    "# param_2 = obj.search(word)\n",
    "# param_3 = obj.startsWith(prefix)"
   ]
  },
  {
   "cell_type": "code",
   "execution_count": 22,
   "id": "d7e8be56-d489-4d94-a9c7-57221b11fa9d",
   "metadata": {},
   "outputs": [],
   "source": [
    "trie = Trie()\n",
    "trie.insert(\"bar\")\n",
    "trie.insert(\"baz\")\n",
    "trie.insert(\"foo\")\n",
    "trie.insert(\"foobar\")"
   ]
  },
  {
   "cell_type": "code",
   "execution_count": 23,
   "id": "954b2ac5-88a3-4e6b-944c-f8535afd1c60",
   "metadata": {},
   "outputs": [
    {
     "data": {
      "text/plain": [
       "False"
      ]
     },
     "execution_count": 23,
     "metadata": {},
     "output_type": "execute_result"
    }
   ],
   "source": [
    "trie.search(\"fooba\")"
   ]
  },
  {
   "cell_type": "code",
   "execution_count": 24,
   "id": "50ad1b08-1195-4eb5-b551-cc9de6b2624e",
   "metadata": {},
   "outputs": [
    {
     "name": "stdout",
     "output_type": "stream",
     "text": [
      "False\n",
      "True\n",
      "True\n",
      "False\n",
      "False\n",
      "False\n",
      "True\n",
      "True\n",
      "True\n"
     ]
    }
   ],
   "source": [
    "methods = [\"insert\",\"insert\",\"insert\",\"insert\",\"insert\",\"insert\",\"search\",\"search\",\"search\",\"search\",\"search\",\"search\",\"search\",\"search\",\"search\",\"startsWith\",\"startsWith\",\"startsWith\",\"startsWith\",\"startsWith\",\"startsWith\",\"startsWith\",\"startsWith\",\"startsWith\"]\n",
    "vals = [[\"app\"],[\"apple\"],[\"beer\"],[\"add\"],[\"jam\"],[\"rental\"],[\"apps\"],[\"app\"],[\"ad\"],[\"applepie\"],[\"rest\"],[\"jan\"],[\"rent\"],[\"beer\"],[\"jam\"],[\"apps\"],[\"app\"],[\"ad\"],[\"applepie\"],[\"rest\"],[\"jan\"],[\"rent\"],[\"beer\"],[\"jam\"]]\n",
    "trie = Trie()\n",
    "for m, v in zip(methods, vals):\n",
    "    ans = getattr(trie, m)(v[0])\n",
    "    if m == \"startsWith\":\n",
    "        print(ans)"
   ]
  },
  {
   "cell_type": "code",
   "execution_count": null,
   "id": "529429d6-758c-432a-99cb-1f09a222b0fc",
   "metadata": {},
   "outputs": [],
   "source": []
  }
 ],
 "metadata": {
  "kernelspec": {
   "display_name": "Python 3 (ipykernel)",
   "language": "python",
   "name": "python3"
  },
  "language_info": {
   "codemirror_mode": {
    "name": "ipython",
    "version": 3
   },
   "file_extension": ".py",
   "mimetype": "text/x-python",
   "name": "python",
   "nbconvert_exporter": "python",
   "pygments_lexer": "ipython3",
   "version": "3.9.10"
  }
 },
 "nbformat": 4,
 "nbformat_minor": 5
}
