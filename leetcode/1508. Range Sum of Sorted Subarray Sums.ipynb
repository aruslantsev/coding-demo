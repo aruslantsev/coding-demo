{
 "cells": [
  {
   "cell_type": "markdown",
   "id": "870c519a-085c-45bb-aff2-90df35ee1fbf",
   "metadata": {},
   "source": [
    "You are given the array nums consisting of n positive integers. You computed the sum of all non-empty continuous subarrays from the array and then sorted them in non-decreasing order, creating a new array of n * (n + 1) / 2 numbers.\n",
    "\n",
    "Return the sum of the numbers from index left to index right (indexed from 1), inclusive, in the new array. Since the answer can be a huge number return it modulo 109 + 7.\n",
    "\n",
    " \n",
    "\n",
    "Example 1:\n",
    "\n",
    "Input: nums = [1,2,3,4], n = 4, left = 1, right = 5\n",
    "Output: 13 \n",
    "Explanation: All subarray sums are 1, 3, 6, 10, 2, 5, 9, 3, 7, 4. After sorting them in non-decreasing order we have the new array [1, 2, 3, 3, 4, 5, 6, 7, 9, 10]. The sum of the numbers from index le = 1 to ri = 5 is 1 + 2 + 3 + 3 + 4 = 13. \n",
    "\n",
    "Example 2:\n",
    "\n",
    "Input: nums = [1,2,3,4], n = 4, left = 3, right = 4\n",
    "Output: 6\n",
    "Explanation: The given array is the same as example 1. We have the new array [1, 2, 3, 3, 4, 5, 6, 7, 9, 10]. The sum of the numbers from index le = 3 to ri = 4 is 3 + 3 = 6.\n",
    "\n",
    "Example 3:\n",
    "\n",
    "Input: nums = [1,2,3,4], n = 4, left = 1, right = 10\n",
    "Output: 50\n",
    "\n",
    " \n",
    "\n",
    "Constraints:\n",
    "\n",
    "    n == nums.length\n",
    "    1 <= nums.length <= 1000\n",
    "    1 <= nums[i] <= 100\n",
    "    1 <= left <= right <= n * (n + 1) / 2\n",
    "\n"
   ]
  },
  {
   "cell_type": "code",
   "execution_count": null,
   "id": "bea6836e-475d-45cf-aa5f-fb1edb9a99ab",
   "metadata": {},
   "outputs": [],
   "source": [
    "class Solution:\n",
    "    def rangeSum(self, nums: List[int], n: int, left: int, right: int) -> int:\n",
    "        store_subarray = []\n",
    "        for i in range(len(nums)):\n",
    "            sum = 0\n",
    "            # Iterate through all indices ahead of the current index.\n",
    "            for j in range(i, len(nums)):\n",
    "                sum += nums[j]\n",
    "                store_subarray.append(sum)\n",
    "\n",
    "        # Sort all subarray sum values in increasing order.\n",
    "        store_subarray.sort()\n",
    "\n",
    "        # Find the sum of all values between left and right.\n",
    "        range_sum = 0\n",
    "        mod = 10**9 + 7\n",
    "        for i in range(left - 1, right):\n",
    "            range_sum = (range_sum + store_subarray[i]) % mod\n",
    "        return range_sum"
   ]
  },
  {
   "cell_type": "code",
   "execution_count": null,
   "id": "5ef47763-d858-4e50-8bff-0e3dedf61a91",
   "metadata": {},
   "outputs": [],
   "source": [
    "class Solution:\n",
    "    import heapq\n",
    "\n",
    "    def rangeSum(self, nums, n, left, right):\n",
    "        pq = []\n",
    "        for i in range(n):\n",
    "            heapq.heappush(pq, (nums[i], i))\n",
    "\n",
    "        ans = 0\n",
    "        mod = 1e9 + 7\n",
    "        for i in range(1, right + 1):\n",
    "            p = heapq.heappop(pq)\n",
    "            # If the current index is greater than or equal to left, add the\n",
    "            # value to the answer.\n",
    "            if i >= left:\n",
    "                ans = (ans + p[0]) % mod\n",
    "            # If index is less than the last index, increment it and add its\n",
    "            # value to the first pair value.\n",
    "            if p[1] < n - 1:\n",
    "                p = (p[0] + nums[p[1] + 1], p[1] + 1)\n",
    "                heapq.heappush(pq, p)\n",
    "        return int(ans)"
   ]
  }
 ],
 "metadata": {
  "kernelspec": {
   "display_name": "Python 3 (ipykernel)",
   "language": "python",
   "name": "python3"
  },
  "language_info": {
   "codemirror_mode": {
    "name": "ipython",
    "version": 3
   },
   "file_extension": ".py",
   "mimetype": "text/x-python",
   "name": "python",
   "nbconvert_exporter": "python",
   "pygments_lexer": "ipython3",
   "version": "3.12.3"
  }
 },
 "nbformat": 4,
 "nbformat_minor": 5
}
