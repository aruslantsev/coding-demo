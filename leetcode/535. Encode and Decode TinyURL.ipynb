{
 "cells": [
  {
   "cell_type": "markdown",
   "id": "b467a2d4-99a2-475f-998e-a2c320159758",
   "metadata": {},
   "source": [
    "    Note: This is a companion problem to the System Design problem: Design TinyURL.\n",
    "\n",
    "TinyURL is a URL shortening service where you enter a URL such as https://leetcode.com/problems/design-tinyurl and it returns a short URL such as http://tinyurl.com/4e9iAk. Design a class to encode a URL and decode a tiny URL.\n",
    "\n",
    "There is no restriction on how your encode/decode algorithm should work. You just need to ensure that a URL can be encoded to a tiny URL and the tiny URL can be decoded to the original URL.\n",
    "\n",
    "Implement the Solution class:\n",
    "\n",
    "    Solution() Initializes the object of the system.\n",
    "    String encode(String longUrl) Returns a tiny URL for the given longUrl.\n",
    "    String decode(String shortUrl) Returns the original long URL for the given shortUrl. It is guaranteed that the given shortUrl was encoded by the same object.\n",
    "\n",
    " \n",
    "\n",
    "Example 1:\n",
    "\n",
    "Input: url = \"https://leetcode.com/problems/design-tinyurl\"\n",
    "Output: \"https://leetcode.com/problems/design-tinyurl\"\n",
    "\n",
    "Explanation:\n",
    "Solution obj = new Solution();\n",
    "string tiny = obj.encode(url); // returns the encoded tiny url.\n",
    "string ans = obj.decode(tiny); // returns the original url after deconding it.\n",
    "\n",
    " \n",
    "\n",
    "Constraints:\n",
    "\n",
    "    1 <= url.length <= 104\n",
    "    url is guranteed to be a valid URL.\n",
    "\n"
   ]
  },
  {
   "cell_type": "code",
   "execution_count": 1,
   "id": "cf716ce4-e0c9-467d-a9c2-73102920a323",
   "metadata": {},
   "outputs": [],
   "source": [
    "class Codec:\n",
    "    def __init__(self):\n",
    "        self.charset = '0123456789abcdefghijklmnopqrstuvwxyzABCDEFGHIJKLMNOPQRSTUVWXYZ'\n",
    "        self.long2short = {}\n",
    "        self.short2long = {}\n",
    "        self.url_length = 6\n",
    "        \n",
    "    def get_key(self):\n",
    "        return ''.join(choice(self.charset) for _ in range(self.url_length))\n",
    "\n",
    "    def encode(self, longUrl: str) -> str:\n",
    "        \"\"\"Encodes a URL to a shortened URL.\n",
    "        \"\"\"\n",
    "        if longUrl not in self.long2short:\n",
    "            key = self.get_key()\n",
    "            shortUrl = \"http://tinyurl.com/\" + key\n",
    "            self.long2short[longUrl] = shortUrl\n",
    "            self.short2long[shortUrl] = longUrl\n",
    "        return self.long2short[longUrl]\n",
    "\n",
    "    def decode(self, shortUrl: str) -> str:\n",
    "        \"\"\"Decodes a shortened URL to its original URL.\n",
    "        \"\"\"\n",
    "        return self.short2long[shortUrl]\n",
    "\n",
    "# Your Codec object will be instantiated and called as such:\n",
    "# codec = Codec()\n",
    "# codec.decode(codec.encode(url))"
   ]
  },
  {
   "cell_type": "code",
   "execution_count": null,
   "id": "c997dae1-83b9-478e-92e4-19c0cdad2cc9",
   "metadata": {},
   "outputs": [],
   "source": []
  }
 ],
 "metadata": {
  "kernelspec": {
   "display_name": "Python 3 (ipykernel)",
   "language": "python",
   "name": "python3"
  },
  "language_info": {
   "codemirror_mode": {
    "name": "ipython",
    "version": 3
   },
   "file_extension": ".py",
   "mimetype": "text/x-python",
   "name": "python",
   "nbconvert_exporter": "python",
   "pygments_lexer": "ipython3",
   "version": "3.9.10"
  }
 },
 "nbformat": 4,
 "nbformat_minor": 5
}
