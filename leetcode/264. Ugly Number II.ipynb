{
 "cells": [
  {
   "cell_type": "markdown",
   "id": "e909fa8f-aa67-475a-990c-3fb074dc7898",
   "metadata": {},
   "source": [
    "An ugly number is a positive integer whose prime factors are limited to 2, 3, and 5.\n",
    "\n",
    "Given an integer n, return the nth ugly number.\n",
    "\n",
    " \n",
    "\n",
    "Example 1:\n",
    "\n",
    "Input: n = 10\n",
    "Output: 12\n",
    "Explanation: [1, 2, 3, 4, 5, 6, 8, 9, 10, 12] is the sequence of the first 10 ugly numbers.\n",
    "\n",
    "Example 2:\n",
    "\n",
    "Input: n = 1\n",
    "Output: 1\n",
    "Explanation: 1 has no prime factors, therefore all of its prime factors are limited to 2, 3, and 5.\n",
    "\n",
    " \n",
    "\n",
    "Constraints:\n",
    "\n",
    "    1 <= n <= 1690\n",
    "\n"
   ]
  },
  {
   "cell_type": "code",
   "execution_count": null,
   "id": "f3ba4b2f-7ead-45a7-ba7d-c8797ab83f8c",
   "metadata": {},
   "outputs": [],
   "source": [
    "class Solution:\n",
    "    def nthUglyNumber(self, n: int) -> int:\n",
    "        nums = set([1])\n",
    "        for i in range(n):\n",
    "            current_min = min(nums)\n",
    "            nums.remove(current_min)\n",
    "            nums.add(current_min * 2)\n",
    "            nums.add(current_min * 3)\n",
    "            nums.add(current_min * 5)\n",
    "        return current_min"
   ]
  }
 ],
 "metadata": {
  "kernelspec": {
   "display_name": "Python 3 (ipykernel)",
   "language": "python",
   "name": "python3"
  },
  "language_info": {
   "codemirror_mode": {
    "name": "ipython",
    "version": 3
   },
   "file_extension": ".py",
   "mimetype": "text/x-python",
   "name": "python",
   "nbconvert_exporter": "python",
   "pygments_lexer": "ipython3",
   "version": "3.12.3"
  }
 },
 "nbformat": 4,
 "nbformat_minor": 5
}
