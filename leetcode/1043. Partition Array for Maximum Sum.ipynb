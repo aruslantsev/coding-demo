{
 "cells": [
  {
   "cell_type": "markdown",
   "id": "25370d41-b2a3-4765-85fa-48b4645bf097",
   "metadata": {},
   "source": [
    "Given an integer array arr, partition the array into (contiguous) subarrays of length at most k. After partitioning, each subarray has their values changed to become the maximum value of that subarray.\n",
    "\n",
    "Return the largest sum of the given array after partitioning. Test cases are generated so that the answer fits in a 32-bit integer.\n",
    "\n",
    " \n",
    "\n",
    "Example 1:\n",
    "\n",
    "Input: arr = [1,15,7,9,2,5,10], k = 3\n",
    "Output: 84\n",
    "Explanation: arr becomes [15,15,15,9,10,10,10]\n",
    "\n",
    "Example 2:\n",
    "\n",
    "Input: arr = [1,4,1,5,7,3,6,1,9,9,3], k = 4\n",
    "Output: 83\n",
    "\n",
    "Example 3:\n",
    "\n",
    "Input: arr = [1], k = 1\n",
    "Output: 1\n",
    "\n",
    " \n",
    "\n",
    "Constraints:\n",
    "\n",
    "    1 <= arr.length <= 500\n",
    "    0 <= arr[i] <= 109\n",
    "    1 <= k <= arr.length\n",
    "\n"
   ]
  },
  {
   "cell_type": "code",
   "execution_count": null,
   "id": "87639dcd-70f4-4899-b35a-36acd4a82f23",
   "metadata": {},
   "outputs": [],
   "source": [
    "from typing import List\n",
    "from functools import cache\n",
    "\n",
    "\n",
    "class Solution:\n",
    "    def maxSumAfterPartitioning(self, arr: List[int], k: int) -> int:\n",
    "        @cache\n",
    "        def dp(start):\n",
    "            print(start)\n",
    "            if start >= len(arr):\n",
    "                return 0\n",
    "            else:\n",
    "                ans = []\n",
    "                for i in range(1, k + 1):\n",
    "                    if start + i > len(arr):\n",
    "                        continue\n",
    "                    curr_max = max(arr[start: start + i]) * i\n",
    "                    ans.append(curr_max + dp(start + i))\n",
    "                return max(ans)\n",
    "        return dp(0)\n"
   ]
  },
  {
   "cell_type": "code",
   "execution_count": null,
   "id": "672042a3-26da-4a82-900f-9d23e3c6ace3",
   "metadata": {},
   "outputs": [],
   "source": []
  }
 ],
 "metadata": {
  "kernelspec": {
   "display_name": "common",
   "language": "python",
   "name": "common"
  },
  "language_info": {
   "codemirror_mode": {
    "name": "ipython",
    "version": 3
   },
   "file_extension": ".py",
   "mimetype": "text/x-python",
   "name": "python",
   "nbconvert_exporter": "python",
   "pygments_lexer": "ipython3",
   "version": "3.11.7"
  }
 },
 "nbformat": 4,
 "nbformat_minor": 5
}
