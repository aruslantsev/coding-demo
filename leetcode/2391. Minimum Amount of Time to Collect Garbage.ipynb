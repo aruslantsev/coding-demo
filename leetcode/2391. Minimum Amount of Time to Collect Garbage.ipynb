{
 "cells": [
  {
   "cell_type": "markdown",
   "id": "7addfb7f-f472-4447-9341-1dc2bd581ce9",
   "metadata": {},
   "source": [
    "You are given a 0-indexed array of strings garbage where garbage[i] represents the assortment of garbage at the ith house. garbage[i] consists only of the characters 'M', 'P' and 'G' representing one unit of metal, paper and glass garbage respectively. Picking up one unit of any type of garbage takes 1 minute.\n",
    "\n",
    "You are also given a 0-indexed integer array travel where travel[i] is the number of minutes needed to go from house i to house i + 1.\n",
    "\n",
    "There are three garbage trucks in the city, each responsible for picking up one type of garbage. Each garbage truck starts at house 0 and must visit each house in order; however, they do not need to visit every house.\n",
    "\n",
    "Only one garbage truck may be used at any given moment. While one truck is driving or picking up garbage, the other two trucks cannot do anything.\n",
    "\n",
    "Return the minimum number of minutes needed to pick up all the garbage.\n",
    "\n",
    " \n",
    "\n",
    "Example 1:\n",
    "\n",
    "Input: garbage = [\"G\",\"P\",\"GP\",\"GG\"], travel = [2,4,3]\n",
    "Output: 21\n",
    "Explanation:\n",
    "The paper garbage truck:\n",
    "1. Travels from house 0 to house 1\n",
    "2. Collects the paper garbage at house 1\n",
    "3. Travels from house 1 to house 2\n",
    "4. Collects the paper garbage at house 2\n",
    "Altogether, it takes 8 minutes to pick up all the paper garbage.\n",
    "The glass garbage truck:\n",
    "1. Collects the glass garbage at house 0\n",
    "2. Travels from house 0 to house 1\n",
    "3. Travels from house 1 to house 2\n",
    "4. Collects the glass garbage at house 2\n",
    "5. Travels from house 2 to house 3\n",
    "6. Collects the glass garbage at house 3\n",
    "Altogether, it takes 13 minutes to pick up all the glass garbage.\n",
    "Since there is no metal garbage, we do not need to consider the metal garbage truck.\n",
    "Therefore, it takes a total of 8 + 13 = 21 minutes to collect all the garbage.\n",
    "\n",
    "Example 2:\n",
    "\n",
    "Input: garbage = [\"MMM\",\"PGM\",\"GP\"], travel = [3,10]\n",
    "Output: 37\n",
    "Explanation:\n",
    "The metal garbage truck takes 7 minutes to pick up all the metal garbage.\n",
    "The paper garbage truck takes 15 minutes to pick up all the paper garbage.\n",
    "The glass garbage truck takes 15 minutes to pick up all the glass garbage.\n",
    "It takes a total of 7 + 15 + 15 = 37 minutes to collect all the garbage.\n",
    "\n",
    " \n",
    "\n",
    "Constraints:\n",
    "\n",
    "    2 <= garbage.length <= 105\n",
    "    garbage[i] consists of only the letters 'M', 'P', and 'G'.\n",
    "    1 <= garbage[i].length <= 10\n",
    "    travel.length == garbage.length - 1\n",
    "    1 <= travel[i] <= 100\n",
    "\n"
   ]
  },
  {
   "cell_type": "code",
   "execution_count": 40,
   "id": "96fc8051-1832-4b15-9f7d-8c7a59af7d1b",
   "metadata": {
    "tags": []
   },
   "outputs": [],
   "source": [
    "from typing import List\n",
    "\n",
    "class Solution:\n",
    "    def garbageCollection(self, garbage: List[str], travel: List[int]) -> int:\n",
    "        last_house = {\"M\": None, \"P\": None, \"G\": None,}\n",
    "        for i, house in enumerate(garbage):\n",
    "            for key in last_house:\n",
    "                if key in house:\n",
    "                    last_house[key] = i\n",
    "        \n",
    "        def get_len(unit, house):\n",
    "            return len([l for l in house if l == unit])\n",
    "        \n",
    "        ans = 0\n",
    "        for key, value in last_house.items():\n",
    "            if value is not None:\n",
    "                ans += sum([get_len(key, house) for house in garbage[:last_house[key] + 1] if key in house])\n",
    "                ans += sum(travel[:last_house[key]])\n",
    "        return ans\n",
    "        "
   ]
  },
  {
   "cell_type": "code",
   "execution_count": 44,
   "id": "01d22515-240c-46f5-bb78-9614a9efb269",
   "metadata": {
    "tags": []
   },
   "outputs": [],
   "source": [
    "from typing import List\n",
    "\n",
    "class Solution:\n",
    "    def garbageCollection(self, garbage: List[str], travel: List[int]) -> int:\n",
    "        last_house = {\"M\": None, \"P\": None, \"G\": None,}\n",
    "        for i, house in enumerate(garbage):\n",
    "            for key in last_house:\n",
    "                if key in house:\n",
    "                    last_house[key] = i\n",
    "        ans = len(\"\".join(garbage))\n",
    "        for key, value in last_house.items():\n",
    "            if value is not None:\n",
    "                ans += sum(travel[:last_house[key]])\n",
    "        return ans\n",
    "        "
   ]
  },
  {
   "cell_type": "code",
   "execution_count": 48,
   "id": "e173efa9-096d-4629-8116-d8aed5ec02aa",
   "metadata": {
    "tags": []
   },
   "outputs": [],
   "source": [
    "from typing import List\n",
    "\n",
    "class Solution:\n",
    "    def garbageCollection(self, garbage: List[str], travel: List[int]) -> int:\n",
    "        ans = len(\"\".join(garbage))\n",
    "        G, P, M = False, False, False\n",
    "        for i in range(len(travel), 0, -1):\n",
    "            G |= 'G' in garbage[i]\n",
    "            P |= 'P' in garbage[i]\n",
    "            M |= 'M' in garbage[i]\n",
    "            ans += travel[i - 1] * (G + P + M)\n",
    "        return ans\n",
    "\n"
   ]
  },
  {
   "cell_type": "code",
   "execution_count": 49,
   "id": "919cbcec-0e14-4f9e-b2ed-9e899acd405e",
   "metadata": {
    "tags": []
   },
   "outputs": [],
   "source": [
    "s = Solution()"
   ]
  },
  {
   "cell_type": "code",
   "execution_count": 50,
   "id": "2562296d-dd25-4873-9c95-19057c9332e4",
   "metadata": {
    "tags": []
   },
   "outputs": [
    {
     "data": {
      "text/plain": [
       "21"
      ]
     },
     "execution_count": 50,
     "metadata": {},
     "output_type": "execute_result"
    }
   ],
   "source": [
    "s.garbageCollection([\"G\",\"P\",\"GP\",\"GG\"], [2, 4, 3])"
   ]
  },
  {
   "cell_type": "code",
   "execution_count": 51,
   "id": "26ab16df-5947-4865-837f-ecd0c596c295",
   "metadata": {
    "tags": []
   },
   "outputs": [
    {
     "data": {
      "text/plain": [
       "37"
      ]
     },
     "execution_count": 51,
     "metadata": {},
     "output_type": "execute_result"
    }
   ],
   "source": [
    "s.garbageCollection([\"MMM\",\"PGM\",\"GP\"], [3, 10])"
   ]
  },
  {
   "cell_type": "code",
   "execution_count": null,
   "id": "b1600eb1-75c1-482d-a663-6a719c1f402d",
   "metadata": {},
   "outputs": [],
   "source": []
  }
 ],
 "metadata": {
  "kernelspec": {
   "display_name": "Python 3 (ipykernel)",
   "language": "python",
   "name": "python3"
  },
  "language_info": {
   "codemirror_mode": {
    "name": "ipython",
    "version": 3
   },
   "file_extension": ".py",
   "mimetype": "text/x-python",
   "name": "python",
   "nbconvert_exporter": "python",
   "pygments_lexer": "ipython3",
   "version": "3.11.4"
  }
 },
 "nbformat": 4,
 "nbformat_minor": 5
}
