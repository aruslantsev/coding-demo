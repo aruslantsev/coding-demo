{
 "cells": [
  {
   "cell_type": "markdown",
   "id": "674f388a-7c55-4e8c-aba8-8f031a701e80",
   "metadata": {},
   "source": [
    "Given a string s and an array of strings words, return the number of words[i] that is a subsequence of s.\n",
    "\n",
    "A subsequence of a string is a new string generated from the original string with some characters (can be none) deleted without changing the relative order of the remaining characters.\n",
    "\n",
    "For example, \"ace\" is a subsequence of \"abcde\".\n",
    " \n",
    "\n",
    "Example 1:\n",
    "\n",
    "Input: s = \"abcde\", words = [\"a\",\"bb\",\"acd\",\"ace\"]\n",
    "Output: 3\n",
    "Explanation: There are three strings in words that are a subsequence of s: \"a\", \"acd\", \"ace\".\n",
    "Example 2:\n",
    "\n",
    "Input: s = \"dsahjpjauf\", words = [\"ahjpjau\",\"ja\",\"ahbwzgqnuk\",\"tnmlanowax\"]\n",
    "Output: 2\n",
    " \n",
    "\n",
    "Constraints:\n",
    "\n",
    "1 <= s.length <= 5 * 104\n",
    "1 <= words.length <= 5000\n",
    "1 <= words[i].length <= 50\n",
    "s and words[i] consist of only lowercase English letters."
   ]
  },
  {
   "cell_type": "code",
   "execution_count": 19,
   "id": "9ce990c7-724d-4aba-af67-0ea6305ce648",
   "metadata": {},
   "outputs": [],
   "source": [
    "from collections import defaultdict\n",
    "\n",
    "class Solution(object):\n",
    "    def numMatchingSubseq(self, s, words):\n",
    "        \"\"\"\n",
    "        :type S: str\n",
    "        :type words: List[str]\n",
    "        :rtype: int\n",
    "        \"\"\"\n",
    "        word_dict = defaultdict(list)\n",
    "        count = 0\n",
    "        \n",
    "        for word in words:\n",
    "            word_dict[word[0]].append(word)            \n",
    "        \n",
    "        for char in s:\n",
    "            words_expecting_char = word_dict[char]\n",
    "            word_dict[char] = []\n",
    "            for word in words_expecting_char:\n",
    "                if len(word) == 1:\n",
    "                    # Finished subsequence! \n",
    "                    count += 1\n",
    "                else:\n",
    "                    word_dict[word[1]].append(word[1:])\n",
    "        \n",
    "        return count"
   ]
  },
  {
   "cell_type": "code",
   "execution_count": null,
   "id": "b54791fb-ffb3-41ad-ac03-8efd1460a762",
   "metadata": {},
   "outputs": [],
   "source": [
    "class Node:\n",
    "    def __init__(self, word):\n",
    "        self.word = word\n",
    "        self.index = 0\n",
    "\n",
    "class Solution:\n",
    "    def numMatchingSubseq(self, s: str, words: List[str]) -> int:\n",
    "        buckets = defaultdict(list)\n",
    "        for word in words:\n",
    "            startingChar = word[0]\n",
    "            buckets[startingChar].append(Node(word))\n",
    "\n",
    "        ans = 0\n",
    "        for c in s:\n",
    "            currBucket = buckets[c]\n",
    "            buckets[c] = []\n",
    "            for node in currBucket:\n",
    "                node.index += 1  # Point to next character of node.word\n",
    "                if node.index == len(node.word):\n",
    "                    ans += 1\n",
    "                else:\n",
    "                    startingChar = node.word[node.index]\n",
    "                    buckets[startingChar].append(node)\n",
    "        return ans"
   ]
  },
  {
   "cell_type": "code",
   "execution_count": 17,
   "id": "1b366a36-e8a4-4ce9-a4f3-65c289d1e02c",
   "metadata": {},
   "outputs": [],
   "source": [
    "from typing import List\n",
    "from collections import Counter\n",
    "\n",
    "class Solution:\n",
    "    def numMatchingSubseq(self, s: str, words: List[str]) -> int:\n",
    "        matching = 0\n",
    "        w_counts = Counter(words)\n",
    "        recheck = []\n",
    "        for w in set(words):\n",
    "            if w in s:\n",
    "                matching += w_counts[w]\n",
    "            else:\n",
    "                s_pointer = 0\n",
    "                w_pointer = 0\n",
    "                while s_pointer < len(s) and w_pointer < len(w):\n",
    "                    while s_pointer < len(s) and w[w_pointer] != s[s_pointer]:\n",
    "                        s_pointer += 1\n",
    "                    s_pointer += 1\n",
    "                    w_pointer += 1\n",
    "                if w_pointer == len(w) and s_pointer <= len(s):\n",
    "                    matching += w_counts[w]\n",
    "                    \n",
    "        return matching"
   ]
  },
  {
   "cell_type": "code",
   "execution_count": 20,
   "id": "b0c99e57-c09a-40a9-b1d2-7b741dde1afb",
   "metadata": {},
   "outputs": [
    {
     "data": {
      "text/plain": [
       "3"
      ]
     },
     "execution_count": 20,
     "metadata": {},
     "output_type": "execute_result"
    }
   ],
   "source": [
    "s = Solution()\n",
    "s.numMatchingSubseq(\"abcde\", words=[\"a\",\"bb\",\"acd\",\"ace\"])"
   ]
  },
  {
   "cell_type": "code",
   "execution_count": null,
   "id": "527d3f4e-ce52-43ce-a94d-4db9e2c008f4",
   "metadata": {},
   "outputs": [],
   "source": []
  }
 ],
 "metadata": {
  "kernelspec": {
   "display_name": "Python 3 (ipykernel)",
   "language": "python",
   "name": "python3"
  },
  "language_info": {
   "codemirror_mode": {
    "name": "ipython",
    "version": 3
   },
   "file_extension": ".py",
   "mimetype": "text/x-python",
   "name": "python",
   "nbconvert_exporter": "python",
   "pygments_lexer": "ipython3",
   "version": "3.9.12"
  }
 },
 "nbformat": 4,
 "nbformat_minor": 5
}
