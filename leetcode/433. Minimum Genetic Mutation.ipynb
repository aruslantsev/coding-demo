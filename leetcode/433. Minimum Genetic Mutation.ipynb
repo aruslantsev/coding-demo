{
 "cells": [
  {
   "cell_type": "markdown",
   "id": "799d3979-f181-469e-bfa9-b5d1c79d6535",
   "metadata": {},
   "source": [
    "A gene string can be represented by an 8-character long string, with choices from 'A', 'C', 'G', and 'T'.\n",
    "\n",
    "Suppose we need to investigate a mutation from a gene string start to a gene string end where one mutation is defined as one single character changed in the gene string.\n",
    "\n",
    "    For example, \"AACCGGTT\" --> \"AACCGGTA\" is one mutation.\n",
    "\n",
    "There is also a gene bank bank that records all the valid gene mutations. A gene must be in bank to make it a valid gene string.\n",
    "\n",
    "Given the two gene strings start and end and the gene bank bank, return the minimum number of mutations needed to mutate from start to end. If there is no such a mutation, return -1.\n",
    "\n",
    "Note that the starting point is assumed to be valid, so it might not be included in the bank.\n",
    "\n",
    " \n",
    "\n",
    "Example 1:\n",
    "\n",
    "Input: start = \"AACCGGTT\", end = \"AACCGGTA\", bank = [\"AACCGGTA\"]\n",
    "Output: 1\n",
    "\n",
    "Example 2:\n",
    "\n",
    "Input: start = \"AACCGGTT\", end = \"AAACGGTA\", bank = [\"AACCGGTA\",\"AACCGCTA\",\"AAACGGTA\"]\n",
    "Output: 2\n",
    "\n",
    "Example 3:\n",
    "\n",
    "Input: start = \"AAAAACCC\", end = \"AACCCCCC\", bank = [\"AAAACCCC\",\"AAACCCCC\",\"AACCCCCC\"]\n",
    "Output: 3\n",
    "\n",
    " \n",
    "\n",
    "Constraints:\n",
    "\n",
    "    start.length == 8\n",
    "    end.length == 8\n",
    "    0 <= bank.length <= 10\n",
    "    bank[i].length == 8\n",
    "    start, end, and bank[i] consist of only the characters ['A', 'C', 'G', 'T'].\n",
    "\n"
   ]
  },
  {
   "cell_type": "code",
   "execution_count": 14,
   "id": "bfea7d10-5a51-4869-8c86-acf65f4d3edc",
   "metadata": {},
   "outputs": [],
   "source": [
    "from typing import List\n",
    "from collections import deque\n",
    "\n",
    "\n",
    "def editdist(g0, g1):\n",
    "    dist = 0\n",
    "    for i, j in zip(g0, g1):\n",
    "        if i != j:\n",
    "            dist += 1\n",
    "    return dist\n",
    "\n",
    "class Solution:\n",
    "    def minMutation(self, start: str, end: str, bank: List[str]) -> int:\n",
    "        bank = set(bank)\n",
    "        if end not in bank:\n",
    "            return -1\n",
    "        \n",
    "        q = deque()\n",
    "        q.append((start, [start]))\n",
    "        result = []\n",
    "        while q:\n",
    "            curr, visited = q.popleft()\n",
    "            if curr == end:\n",
    "                result.append(len(visited))\n",
    "                continue\n",
    "            for gene in bank:\n",
    "                if gene not in visited and editdist(curr, gene) <= 1:\n",
    "                    visited_new = visited.copy()\n",
    "                    visited_new.append(gene)\n",
    "                    q.append((gene, visited_new))\n",
    "                    \n",
    "        if not result:\n",
    "            return -1\n",
    "                    \n",
    "        return min(result) - 1"
   ]
  },
  {
   "cell_type": "code",
   "execution_count": 15,
   "id": "9c4721b2-55e0-480e-aca8-be7dc7b42e01",
   "metadata": {},
   "outputs": [
    {
     "data": {
      "text/plain": [
       "1"
      ]
     },
     "execution_count": 15,
     "metadata": {},
     "output_type": "execute_result"
    }
   ],
   "source": [
    "s = Solution()\n",
    "s.minMutation(start=\"AACCGGTT\", end=\"AACCGGTA\", bank=[\"AACCGGTA\"])"
   ]
  },
  {
   "cell_type": "code",
   "execution_count": null,
   "id": "25bbdb32-63d4-4b96-bc43-f9a810df11fe",
   "metadata": {},
   "outputs": [],
   "source": []
  }
 ],
 "metadata": {
  "kernelspec": {
   "display_name": "Python 3 (ipykernel)",
   "language": "python",
   "name": "python3"
  },
  "language_info": {
   "codemirror_mode": {
    "name": "ipython",
    "version": 3
   },
   "file_extension": ".py",
   "mimetype": "text/x-python",
   "name": "python",
   "nbconvert_exporter": "python",
   "pygments_lexer": "ipython3",
   "version": "3.9.13"
  }
 },
 "nbformat": 4,
 "nbformat_minor": 5
}
