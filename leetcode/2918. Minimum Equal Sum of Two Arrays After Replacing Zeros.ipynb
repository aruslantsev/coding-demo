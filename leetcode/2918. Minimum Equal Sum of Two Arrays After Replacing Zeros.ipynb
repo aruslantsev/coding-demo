{
 "cells": [
  {
   "cell_type": "markdown",
   "id": "bc765ea3-7965-44d8-badf-961d680789ee",
   "metadata": {},
   "source": [
    "ou are given two arrays nums1 and nums2 consisting of positive integers.\n",
    "\n",
    "You have to replace all the 0's in both arrays with strictly positive integers such that the sum of elements of both arrays becomes equal.\n",
    "\n",
    "Return the minimum equal sum you can obtain, or -1 if it is impossible.\n",
    "\n",
    " \n",
    "\n",
    "Example 1:\n",
    "\n",
    "Input: nums1 = [3,2,0,1,0], nums2 = [6,5,0]\n",
    "Output: 12\n",
    "Explanation: We can replace 0's in the following way:\n",
    "- Replace the two 0's in nums1 with the values 2 and 4. The resulting array is nums1 = [3,2,2,1,4].\n",
    "- Replace the 0 in nums2 with the value 1. The resulting array is nums2 = [6,5,1].\n",
    "Both arrays have an equal sum of 12. It can be shown that it is the minimum sum we can obtain.\n",
    "\n",
    "Example 2:\n",
    "\n",
    "Input: nums1 = [2,0,2,0], nums2 = [1,4]\n",
    "Output: -1\n",
    "Explanation: It is impossible to make the sum of both arrays equal.\n",
    "\n",
    " \n",
    "\n",
    "Constraints:\n",
    "\n",
    "    1 <= nums1.length, nums2.length <= 105\n",
    "    0 <= nums1[i], nums2[i] <= 106\n",
    "\n"
   ]
  },
  {
   "cell_type": "code",
   "execution_count": null,
   "id": "4873fb34-2c5d-482c-9c2d-9fc6b9aa5a90",
   "metadata": {},
   "outputs": [],
   "source": [
    "class Solution:\n",
    "    def minSum(self, nums1: List[int], nums2: List[int]) -> int:\n",
    "        s1 = sum(nums1)\n",
    "        s2 = sum(nums2)\n",
    "        z1 = Counter(nums1).get(0, 0)\n",
    "        z2 = Counter(nums2).get(0, 0)\n",
    "        if (z2 == 0 and s1 + z1 > s2) or (z1 == 0 and s2 + z2 > s1):\n",
    "            return -1\n",
    "        return max(s1 + z1, s2 + z2)"
   ]
  },
  {
   "cell_type": "code",
   "execution_count": null,
   "id": "bb7d8560-d50e-4d7b-ad50-151cdccc7bb1",
   "metadata": {},
   "outputs": [],
   "source": [
    "class Solution:\n",
    "    def minSum(self, nums1: List[int], nums2: List[int]) -> int:\n",
    "        sum1 = sum2 = 0\n",
    "        zero1 = zero2 = 0\n",
    "\n",
    "        for i in nums1:\n",
    "            sum1 += i\n",
    "            if i == 0:\n",
    "                sum1 += 1\n",
    "                zero1 += 1\n",
    "\n",
    "        for i in nums2:\n",
    "            sum2 += i\n",
    "            if i == 0:\n",
    "                sum2 += 1\n",
    "                zero2 += 1\n",
    "\n",
    "        if (zero1 == 0 and sum2 > sum1) or (zero2 == 0 and sum1 > sum2):\n",
    "            return -1\n",
    "\n",
    "        return max(sum1, sum2)"
   ]
  }
 ],
 "metadata": {
  "kernelspec": {
   "display_name": "Python 3 (ipykernel)",
   "language": "python",
   "name": "python3"
  },
  "language_info": {
   "codemirror_mode": {
    "name": "ipython",
    "version": 3
   },
   "file_extension": ".py",
   "mimetype": "text/x-python",
   "name": "python",
   "nbconvert_exporter": "python",
   "pygments_lexer": "ipython3",
   "version": "3.12.9"
  }
 },
 "nbformat": 4,
 "nbformat_minor": 5
}
