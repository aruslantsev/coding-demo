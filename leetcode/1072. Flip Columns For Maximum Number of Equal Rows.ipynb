{
 "cells": [
  {
   "cell_type": "markdown",
   "id": "b9d5962a-562e-4a24-a6ba-4c22e6d67e47",
   "metadata": {},
   "source": [
    "You are given an m x n binary matrix matrix.\n",
    "\n",
    "You can choose any number of columns in the matrix and flip every cell in that column (i.e., Change the value of the cell from 0 to 1 or vice versa).\n",
    "\n",
    "Return the maximum number of rows that have all values equal after some number of flips.\n",
    "\n",
    " \n",
    "\n",
    "Example 1:\n",
    "\n",
    "Input: matrix = [[0,1],[1,1]]\n",
    "Output: 1\n",
    "Explanation: After flipping no values, 1 row has all values equal.\n",
    "\n",
    "Example 2:\n",
    "\n",
    "Input: matrix = [[0,1],[1,0]]\n",
    "Output: 2\n",
    "Explanation: After flipping values in the first column, both rows have equal values.\n",
    "\n",
    "Example 3:\n",
    "\n",
    "Input: matrix = [[0,0,0],[0,0,1],[1,1,0]]\n",
    "Output: 2\n",
    "Explanation: After flipping values in the first two columns, the last two rows have equal values.\n",
    "\n",
    " \n",
    "\n",
    "Constraints:\n",
    "\n",
    "    m == matrix.length\n",
    "    n == matrix[i].length\n",
    "    1 <= m, n <= 300\n",
    "    matrix[i][j] is either 0 or 1.\n",
    "\n"
   ]
  },
  {
   "cell_type": "code",
   "execution_count": null,
   "id": "3cb381e6-63df-401d-a521-65c97e4393d3",
   "metadata": {},
   "outputs": [],
   "source": [
    "class Solution:\n",
    "    def maxEqualRowsAfterFlips(self, matrix: List[List[int]]) -> int:\n",
    "        pattern_frequency = {}\n",
    "\n",
    "        for current_row in matrix:\n",
    "            # Convert row to pattern using list comprehension and join\n",
    "            # 'T' if element matches first element, 'F' otherwise\n",
    "            row_pattern = \"\".join(\n",
    "                \"T\" if num == current_row[0] else \"F\" for num in current_row\n",
    "            )\n",
    "\n",
    "            # Update pattern frequency using dict.get() with default value\n",
    "            pattern_frequency[row_pattern] = (\n",
    "                pattern_frequency.get(row_pattern, 0) + 1\n",
    "            )\n",
    "\n",
    "        # Return maximum frequency using max() with default of 0\n",
    "        return max(pattern_frequency.values(), default=0)"
   ]
  }
 ],
 "metadata": {
  "kernelspec": {
   "display_name": "Python 3 (ipykernel)",
   "language": "python",
   "name": "python3"
  },
  "language_info": {
   "codemirror_mode": {
    "name": "ipython",
    "version": 3
   },
   "file_extension": ".py",
   "mimetype": "text/x-python",
   "name": "python",
   "nbconvert_exporter": "python",
   "pygments_lexer": "ipython3",
   "version": "3.12.7"
  }
 },
 "nbformat": 4,
 "nbformat_minor": 5
}
