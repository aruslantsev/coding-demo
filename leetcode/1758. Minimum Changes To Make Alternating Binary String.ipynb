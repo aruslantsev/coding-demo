{
 "cells": [
  {
   "cell_type": "markdown",
   "id": "1173cd7e-71d6-40e5-8958-c56be1f9fd41",
   "metadata": {},
   "source": [
    "You are given a string s consisting only of the characters '0' and '1'. In one operation, you can change any '0' to '1' or vice versa.\n",
    "\n",
    "The string is called alternating if no two adjacent characters are equal. For example, the string \"010\" is alternating, while the string \"0100\" is not.\n",
    "\n",
    "Return the minimum number of operations needed to make s alternating.\n",
    "\n",
    " \n",
    "\n",
    "Example 1:\n",
    "\n",
    "Input: s = \"0100\"\n",
    "Output: 1\n",
    "Explanation: If you change the last character to '1', s will be \"0101\", which is alternating.\n",
    "\n",
    "Example 2:\n",
    "\n",
    "Input: s = \"10\"\n",
    "Output: 0\n",
    "Explanation: s is already alternating.\n",
    "\n",
    "Example 3:\n",
    "\n",
    "Input: s = \"1111\"\n",
    "Output: 2\n",
    "Explanation: You need two operations to reach \"0101\" or \"1010\".\n",
    "\n",
    " \n",
    "\n",
    "Constraints:\n",
    "\n",
    "    1 <= s.length <= 104\n",
    "    s[i] is either '0' or '1'.\n",
    "\n"
   ]
  },
  {
   "cell_type": "code",
   "execution_count": null,
   "id": "eed914c3-acbf-45aa-8257-56faf25d7ebe",
   "metadata": {},
   "outputs": [],
   "source": [
    "class Solution:\n",
    "    def minOperations(self, s: str) -> int:\n",
    "        return min(\n",
    "            sum(int(n) != i % 2 for i, n in enumerate(s)),\n",
    "            sum(int(n) != (i + 1) % 2 for i, n in enumerate(s))\n",
    "        )\n",
    "        "
   ]
  }
 ],
 "metadata": {
  "kernelspec": {
   "display_name": "Python 3 (ipykernel)",
   "language": "python",
   "name": "python3"
  },
  "language_info": {
   "codemirror_mode": {
    "name": "ipython",
    "version": 3
   },
   "file_extension": ".py",
   "mimetype": "text/x-python",
   "name": "python",
   "nbconvert_exporter": "python",
   "pygments_lexer": "ipython3",
   "version": "3.11.4"
  }
 },
 "nbformat": 4,
 "nbformat_minor": 5
}
