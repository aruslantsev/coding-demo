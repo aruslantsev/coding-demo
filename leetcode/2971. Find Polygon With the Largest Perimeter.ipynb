{
 "cells": [
  {
   "cell_type": "markdown",
   "id": "a77aa281-a19c-4f08-9b24-1317f51ab739",
   "metadata": {},
   "source": [
    "You are given an array of positive integers nums of length n.\n",
    "\n",
    "A polygon is a closed plane figure that has at least 3 sides. The longest side of a polygon is smaller than the sum of its other sides.\n",
    "\n",
    "Conversely, if you have k (k >= 3) positive real numbers a1, a2, a3, ..., ak where a1 <= a2 <= a3 <= ... <= ak and a1 + a2 + a3 + ... + ak-1 > ak, then there always exists a polygon with k sides whose lengths are a1, a2, a3, ..., ak.\n",
    "\n",
    "The perimeter of a polygon is the sum of lengths of its sides.\n",
    "\n",
    "Return the largest possible perimeter of a polygon whose sides can be formed from nums, or -1 if it is not possible to create a polygon.\n",
    "\n",
    " \n",
    "\n",
    "Example 1:\n",
    "\n",
    "Input: nums = [5,5,5]\n",
    "Output: 15\n",
    "Explanation: The only possible polygon that can be made from nums has 3 sides: 5, 5, and 5. The perimeter is 5 + 5 + 5 = 15.\n",
    "\n",
    "Example 2:\n",
    "\n",
    "Input: nums = [1,12,1,2,5,50,3]\n",
    "Output: 12\n",
    "Explanation: The polygon with the largest perimeter which can be made from nums has 5 sides: 1, 1, 2, 3, and 5. The perimeter is 1 + 1 + 2 + 3 + 5 = 12.\n",
    "We cannot have a polygon with either 12 or 50 as the longest side because it is not possible to include 2 or more smaller sides that have a greater sum than either of them.\n",
    "It can be shown that the largest possible perimeter is 12.\n",
    "\n",
    "Example 3:\n",
    "\n",
    "Input: nums = [5,5,50]\n",
    "Output: -1\n",
    "Explanation: There is no possible way to form a polygon from nums, as a polygon has at least 3 sides and 50 > 5 + 5.\n",
    "\n",
    " \n",
    "\n",
    "Constraints:\n",
    "\n",
    "    3 <= n <= 105\n",
    "    1 <= nums[i] <= 109\n",
    "\n"
   ]
  },
  {
   "cell_type": "code",
   "execution_count": null,
   "id": "b7225f72-67fc-46b3-9a2d-0e3c2adc9e52",
   "metadata": {},
   "outputs": [],
   "source": [
    "class Solution:\n",
    "    def largestPerimeter(self, nums: List[int]) -> int:\n",
    "        nums.sort()\n",
    "        prefix_sums = [nums[0]]\n",
    "        for num in nums[1:]:\n",
    "            prefix_sums.append(prefix_sums[-1] + num)\n",
    "        for i, (n, s) in list(enumerate(zip(nums, prefix_sums)))[::-1]:\n",
    "            if n < s - n:\n",
    "                if i >= 2:\n",
    "                    return s\n",
    "                else:\n",
    "                    return -1\n",
    "        return -1\n"
   ]
  },
  {
   "cell_type": "code",
   "execution_count": null,
   "id": "2ccb3e46-ef81-4140-bcef-4a8c0a042af7",
   "metadata": {},
   "outputs": [],
   "source": [
    "class Solution:\n",
    "    def largestPerimeter(self, nums: List[int]) -> int:\n",
    "        nums.sort()\n",
    "        s = sum(nums)\n",
    "        for i, num in list(enumerate(nums))[::-1]:\n",
    "            if num < s - num:\n",
    "                if i >= 2:\n",
    "                    return s\n",
    "                else:\n",
    "                    return -1\n",
    "            s -= num\n",
    "        return -1\n"
   ]
  }
 ],
 "metadata": {
  "kernelspec": {
   "display_name": "Python 3 (ipykernel)",
   "language": "python",
   "name": "python3"
  },
  "language_info": {
   "codemirror_mode": {
    "name": "ipython",
    "version": 3
   },
   "file_extension": ".py",
   "mimetype": "text/x-python",
   "name": "python",
   "nbconvert_exporter": "python",
   "pygments_lexer": "ipython3",
   "version": "3.11.7"
  }
 },
 "nbformat": 4,
 "nbformat_minor": 5
}
