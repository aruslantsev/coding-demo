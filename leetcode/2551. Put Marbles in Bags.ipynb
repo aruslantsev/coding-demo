{
 "cells": [
  {
   "cell_type": "markdown",
   "id": "e56ba31e-ad63-42f2-a6c5-d5538986de43",
   "metadata": {},
   "source": [
    "You have k bags. You are given a 0-indexed integer array weights where weights[i] is the weight of the ith marble. You are also given the integer k.\n",
    "\n",
    "Divide the marbles into the k bags according to the following rules:\n",
    "\n",
    "    No bag is empty.\n",
    "    If the ith marble and jth marble are in a bag, then all marbles with an index between the ith and jth indices should also be in that same bag.\n",
    "    If a bag consists of all the marbles with an index from i to j inclusively, then the cost of the bag is weights[i] + weights[j].\n",
    "\n",
    "The score after distributing the marbles is the sum of the costs of all the k bags.\n",
    "\n",
    "Return the difference between the maximum and minimum scores among marble distributions.\n",
    "\n",
    " \n",
    "\n",
    "Example 1:\n",
    "\n",
    "Input: weights = [1,3,5,1], k = 2\n",
    "Output: 4\n",
    "Explanation: \n",
    "The distribution [1],[3,5,1] results in the minimal score of (1+1) + (3+1) = 6. \n",
    "The distribution [1,3],[5,1], results in the maximal score of (1+3) + (5+1) = 10. \n",
    "Thus, we return their difference 10 - 6 = 4.\n",
    "\n",
    "Example 2:\n",
    "\n",
    "Input: weights = [1, 3], k = 2\n",
    "Output: 0\n",
    "Explanation: The only distribution possible is [1],[3]. \n",
    "Since both the maximal and minimal score are the same, we return 0.\n",
    "\n",
    " \n",
    "\n",
    "Constraints:\n",
    "\n",
    "    1 <= k <= weights.length <= 105\n",
    "    1 <= weights[i] <= 109\n",
    "\n"
   ]
  },
  {
   "cell_type": "code",
   "execution_count": null,
   "id": "100ce685-87e6-4c7c-a363-d062d3f5c5a4",
   "metadata": {},
   "outputs": [],
   "source": [
    "class Solution:\n",
    "    def putMarbles(self, weights: List[int], k: int) -> int:\n",
    "        # We collect and sort the value of all n - 1 pairs.\n",
    "        n = len(weights)\n",
    "        pair_weights = [0] * (n - 1)\n",
    "        for i in range(n - 1):\n",
    "            pair_weights[i] = weights[i] + weights[i + 1]\n",
    "        pair_weights.sort()\n",
    "        \n",
    "        # Get the difference between the largest k - 1 values and the \n",
    "        # smallest k - 1 values.\n",
    "        answer = 0\n",
    "        for i in range(k - 1):\n",
    "            answer += pair_weights[n - 2 - i] - pair_weights[i]\n",
    "            \n",
    "        return answer"
   ]
  }
 ],
 "metadata": {
  "kernelspec": {
   "display_name": "Python 3 (ipykernel)",
   "language": "python",
   "name": "python3"
  },
  "language_info": {
   "codemirror_mode": {
    "name": "ipython",
    "version": 3
   },
   "file_extension": ".py",
   "mimetype": "text/x-python",
   "name": "python",
   "nbconvert_exporter": "python",
   "pygments_lexer": "ipython3",
   "version": "3.10.11"
  }
 },
 "nbformat": 4,
 "nbformat_minor": 5
}
