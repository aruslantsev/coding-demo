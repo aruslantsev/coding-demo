{
 "cells": [
  {
   "cell_type": "markdown",
   "id": "1fb0c03f-fa85-445e-965f-1569fc3eaa28",
   "metadata": {},
   "source": [
    "You are given two integer arrays nums and multipliers of size n and m respectively, where n >= m. The arrays are 1-indexed.\n",
    "\n",
    "You begin with a score of 0. You want to perform exactly m operations. On the ith operation (1-indexed), you will:\n",
    "\n",
    "    Choose one integer x from either the start or the end of the array nums.\n",
    "    Add multipliers[i] * x to your score.\n",
    "    Remove x from the array nums.\n",
    "\n",
    "Return the maximum score after performing m operations.\n",
    "\n",
    " \n",
    "\n",
    "Example 1:\n",
    "\n",
    "Input: nums = [1,2,3], multipliers = [3,2,1]\n",
    "Output: 14\n",
    "Explanation: An optimal solution is as follows:\n",
    "- Choose from the end, [1,2,3], adding 3 * 3 = 9 to the score.\n",
    "- Choose from the end, [1,2], adding 2 * 2 = 4 to the score.\n",
    "- Choose from the end, [1], adding 1 * 1 = 1 to the score.\n",
    "The total score is 9 + 4 + 1 = 14.\n",
    "\n",
    "Example 2:\n",
    "\n",
    "Input: nums = [-5,-3,-3,-2,7,1], multipliers = [-10,-5,3,4,6]\n",
    "Output: 102\n",
    "Explanation: An optimal solution is as follows:\n",
    "- Choose from the start, [-5,-3,-3,-2,7,1], adding -5 * -10 = 50 to the score.\n",
    "- Choose from the start, [-3,-3,-2,7,1], adding -3 * -5 = 15 to the score.\n",
    "- Choose from the start, [-3,-2,7,1], adding -3 * 3 = -9 to the score.\n",
    "- Choose from the end, [-2,7,1], adding 1 * 4 = 4 to the score.\n",
    "- Choose from the end, [-2,7], adding 7 * 6 = 42 to the score. \n",
    "The total score is 50 + 15 - 9 + 4 + 42 = 102.\n",
    "\n",
    " \n",
    "\n",
    "Constraints:\n",
    "\n",
    "    n == nums.length\n",
    "    m == multipliers.length\n",
    "    1 <= m <= 103\n",
    "    m <= n <= 105\n",
    "    -1000 <= nums[i], multipliers[i] <= 1000\n",
    "\n"
   ]
  },
  {
   "cell_type": "code",
   "execution_count": 2,
   "id": "48091a6b-587f-4607-a149-48d92c58df4e",
   "metadata": {},
   "outputs": [],
   "source": [
    "from typing import List\n",
    "from functools import cache\n",
    "from math import inf\n",
    "\n",
    "# wrong understanding of the task\n",
    "class Solution:\n",
    "    def maximumScore(self, nums: List[int], multipliers: List[int]) -> int:\n",
    "        @cache\n",
    "        def find_score(nums, multipliers):\n",
    "            if len(multipliers) == 1:\n",
    "                return max([num * multipliers[0] for num in nums])\n",
    "            \n",
    "            score = -inf\n",
    "            for i in range(len(nums)):\n",
    "                for j in range(len(multipliers)):\n",
    "                    cand_score = nums[i] * multipliers[j] + find_score(\n",
    "                        tuple(nums[:i] + nums[i + 1:]), tuple(multipliers[:j] + multipliers[j + 1:])\n",
    "                    )\n",
    "                    if cand_score > score:\n",
    "                        score = cand_score\n",
    "            return cand_score\n",
    "        \n",
    "        nums = sorted(nums)\n",
    "        multipliers = sorted(multipliers)\n",
    "        return find_score(tuple(nums), tuple(multipliers))"
   ]
  },
  {
   "cell_type": "code",
   "execution_count": 9,
   "id": "d8e68c73-5c09-4374-9e30-e81f1be54fef",
   "metadata": {},
   "outputs": [],
   "source": [
    "from typing import List\n",
    "from functools import cache\n",
    "\n",
    "\n",
    "class Solution:\n",
    "    def maximumScore(self, nums: List[int], multipliers: List[int]) -> int:\n",
    "        @cache\n",
    "        def check(l, r, i):\n",
    "            if i == len(multipliers):\n",
    "                return 0\n",
    "            return max([\n",
    "                nums[l] * multipliers[i] + check(l + 1, r, i + 1),\n",
    "                nums[r] * multipliers[i] + check(l, r - 1, i + 1),\n",
    "            ])\n",
    "        return check(0, len(nums) - 1, 0)"
   ]
  },
  {
   "cell_type": "code",
   "execution_count": null,
   "id": "64620cb5-3ad0-4b83-8419-9b61ce6ac61a",
   "metadata": {},
   "outputs": [],
   "source": [
    "class Solution:\n",
    "    def maximumScore(self, nums: List[int], multipliers: List[int]) -> int:\n",
    "        dp = [0] * (len(multipliers) + 1)\n",
    "        for m in range(len(multipliers) - 1, -1, -1):\n",
    "            pd = [0] * (m + 1)\n",
    "            for l in range(m, -1, -1):\n",
    "                pd[l] = max(dp[l + 1] + multipliers[m] * nums[l], \n",
    "                            dp[l] + multipliers[m] * nums[~(m - l)])\n",
    "            dp = pd\n",
    "        return dp[0]"
   ]
  },
  {
   "cell_type": "code",
   "execution_count": 12,
   "id": "9cc8b9c8-ea34-4d43-a226-b2204b28a3f7",
   "metadata": {},
   "outputs": [
    {
     "data": {
      "text/plain": [
       "14"
      ]
     },
     "execution_count": 12,
     "metadata": {},
     "output_type": "execute_result"
    }
   ],
   "source": [
    "s = Solution()\n",
    "s.maximumScore([1, 2, 3], [3, 2, 1]) # 14"
   ]
  },
  {
   "cell_type": "code",
   "execution_count": 13,
   "id": "c037210e-3d73-457b-a4b5-e53a5c97ef17",
   "metadata": {},
   "outputs": [
    {
     "data": {
      "text/plain": [
       "102"
      ]
     },
     "execution_count": 13,
     "metadata": {},
     "output_type": "execute_result"
    }
   ],
   "source": [
    "s.maximumScore([-5,-3,-3,-2,7,1], [-10,-5,3,4,6]) # 102"
   ]
  },
  {
   "cell_type": "code",
   "execution_count": null,
   "id": "5728eed3-1cb2-47ab-8df9-23551a28622a",
   "metadata": {},
   "outputs": [],
   "source": []
  }
 ],
 "metadata": {
  "kernelspec": {
   "display_name": "Python 3 (ipykernel)",
   "language": "python",
   "name": "python3"
  },
  "language_info": {
   "codemirror_mode": {
    "name": "ipython",
    "version": 3
   },
   "file_extension": ".py",
   "mimetype": "text/x-python",
   "name": "python",
   "nbconvert_exporter": "python",
   "pygments_lexer": "ipython3",
   "version": "3.9.12"
  }
 },
 "nbformat": 4,
 "nbformat_minor": 5
}
