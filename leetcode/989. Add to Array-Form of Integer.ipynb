{
 "cells": [
  {
   "cell_type": "markdown",
   "id": "9dbc8f6b-caba-4326-a509-d57f6145813b",
   "metadata": {},
   "source": [
    "The array-form of an integer num is an array representing its digits in left to right order.\n",
    "\n",
    "    For example, for num = 1321, the array form is [1,3,2,1].\n",
    "\n",
    "Given num, the array-form of an integer, and an integer k, return the array-form of the integer num + k.\n",
    "\n",
    " \n",
    "\n",
    "Example 1:\n",
    "\n",
    "Input: num = [1,2,0,0], k = 34\n",
    "Output: [1,2,3,4]\n",
    "Explanation: 1200 + 34 = 1234\n",
    "\n",
    "Example 2:\n",
    "\n",
    "Input: num = [2,7,4], k = 181\n",
    "Output: [4,5,5]\n",
    "Explanation: 274 + 181 = 455\n",
    "\n",
    "Example 3:\n",
    "\n",
    "Input: num = [2,1,5], k = 806\n",
    "Output: [1,0,2,1]\n",
    "Explanation: 215 + 806 = 1021\n",
    "\n",
    " \n",
    "\n",
    "Constraints:\n",
    "\n",
    "    1 <= num.length <= 104\n",
    "    0 <= num[i] <= 9\n",
    "    num does not contain any leading zeros except for the zero itself.\n",
    "    1 <= k <= 104\n",
    "\n"
   ]
  },
  {
   "cell_type": "code",
   "execution_count": 8,
   "id": "71423eb1-92b3-4942-8e4d-7b5e4da34f1e",
   "metadata": {},
   "outputs": [],
   "source": [
    "from typing import List\n",
    "\n",
    "class Solution:\n",
    "    def addToArrayForm(self, num: List[int], k: int) -> List[int]:\n",
    "        num = num[::-1]\n",
    "        reminder = 0\n",
    "        pos = 0\n",
    "        while k > 0 or reminder > 0:\n",
    "            if pos >= len(num):\n",
    "                num.append(0)\n",
    "            reminder += k % 10\n",
    "            k //= 10\n",
    "            num[pos] += reminder\n",
    "            reminder = num[pos] // 10\n",
    "            num[pos] = num[pos] % 10\n",
    "            pos += 1\n",
    "        return num[::-1]"
   ]
  },
  {
   "cell_type": "code",
   "execution_count": 9,
   "id": "d8476de9-9f9e-4215-8cab-8140e2e95458",
   "metadata": {},
   "outputs": [
    {
     "name": "stdout",
     "output_type": "stream",
     "text": [
      "34 0\n",
      "34 0\n",
      "3 0\n"
     ]
    },
    {
     "data": {
      "text/plain": [
       "[1, 2, 3, 4]"
      ]
     },
     "execution_count": 9,
     "metadata": {},
     "output_type": "execute_result"
    }
   ],
   "source": [
    "s = Solution()\n",
    "s.addToArrayForm([1,2,0,0], 34)"
   ]
  },
  {
   "cell_type": "code",
   "execution_count": null,
   "id": "755857e2-66ba-4321-ba33-de60e308927a",
   "metadata": {},
   "outputs": [],
   "source": []
  }
 ],
 "metadata": {
  "kernelspec": {
   "display_name": "Python 3 (ipykernel)",
   "language": "python",
   "name": "python3"
  },
  "language_info": {
   "codemirror_mode": {
    "name": "ipython",
    "version": 3
   },
   "file_extension": ".py",
   "mimetype": "text/x-python",
   "name": "python",
   "nbconvert_exporter": "python",
   "pygments_lexer": "ipython3",
   "version": "3.10.8"
  }
 },
 "nbformat": 4,
 "nbformat_minor": 5
}
