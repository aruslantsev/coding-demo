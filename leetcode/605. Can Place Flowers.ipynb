{
 "cells": [
  {
   "cell_type": "markdown",
   "id": "4ba9a646-ef46-40d7-b54f-9c067ae00923",
   "metadata": {},
   "source": [
    "You have a long flowerbed in which some of the plots are planted, and some are not. However, flowers cannot be planted in adjacent plots.\n",
    "\n",
    "Given an integer array flowerbed containing 0's and 1's, where 0 means empty and 1 means not empty, and an integer n, return true if n new flowers can be planted in the flowerbed without violating the no-adjacent-flowers rule and false otherwise.\n",
    "\n",
    " \n",
    "\n",
    "Example 1:\n",
    "\n",
    "Input: flowerbed = [1,0,0,0,1], n = 1\n",
    "Output: true\n",
    "Example 2:\n",
    "\n",
    "Input: flowerbed = [1,0,0,0,1], n = 2\n",
    "Output: false\n",
    " \n",
    "\n",
    "Constraints:\n",
    "\n",
    "1 <= flowerbed.length <= 2 * 104\n",
    "flowerbed[i] is 0 or 1.\n",
    "There are no two adjacent flowers in flowerbed.\n",
    "0 <= n <= flowerbed.length"
   ]
  },
  {
   "cell_type": "code",
   "execution_count": null,
   "id": "4be7b0f9-78ed-4fd0-8c45-beffd4000161",
   "metadata": {},
   "outputs": [],
   "source": [
    "class Solution:\n",
    "    def canPlaceFlowers(self, flowerbed: List[int], n: int) -> bool:\n",
    "        flowerbed_new = [0 for _ in flowerbed]\n",
    "        for i in range(len(flowerbed)):\n",
    "            if (\n",
    "                flowerbed[i] == 1 \n",
    "                or (i > 0 and flowerbed[i - 1] == 1) \n",
    "                or (i < (len(flowerbed) - 1) and flowerbed[i + 1] == 1)\n",
    "            ):\n",
    "                flowerbed_new[i] = 1\n",
    "        cnt = 0\n",
    "        for i in range(len(flowerbed_new)):\n",
    "            if flowerbed_new[i] == 0:\n",
    "                cnt += 1\n",
    "                flowerbed_new[i] = 1\n",
    "                if i < len(flowerbed_new) - 1:\n",
    "                    flowerbed_new[i + 1] = 1\n",
    "        return cnt >= n"
   ]
  },
  {
   "cell_type": "code",
   "execution_count": null,
   "id": "fa98c169-b20b-4374-b2d1-f94e5ff887f5",
   "metadata": {},
   "outputs": [],
   "source": [
    "class Solution:\n",
    "    def canPlaceFlowers(self, flowerbed: List[int], n: int) -> bool:\n",
    "        for i in range(len(flowerbed)):\n",
    "            if (\n",
    "                flowerbed[i] == 0\n",
    "                and (i == 0 or flowerbed[i - 1] == 0)\n",
    "                and (i == len(flowerbed) - 1 or flowerbed[i + 1] == 0)\n",
    "            ):\n",
    "                flowerbed[i] = 1\n",
    "                n -= 1\n",
    "\n",
    "        return n <= 0"
   ]
  }
 ],
 "metadata": {
  "kernelspec": {
   "display_name": "Python 3",
   "language": "python",
   "name": "python3"
  },
  "language_info": {
   "codemirror_mode": {
    "name": "ipython",
    "version": 3
   },
   "file_extension": ".py",
   "mimetype": "text/x-python",
   "name": "python",
   "nbconvert_exporter": "python",
   "pygments_lexer": "ipython3",
   "version": "3.9.12"
  }
 },
 "nbformat": 4,
 "nbformat_minor": 5
}
