{
 "cells": [
  {
   "cell_type": "markdown",
   "id": "3eb76e81-bed6-4f73-9237-6b77fbdaf656",
   "metadata": {},
   "source": [
    "You are given an integer array prices where prices[i] is the price of the ith item in a shop.\n",
    "\n",
    "There is a special discount for items in the shop. If you buy the ith item, then you will receive a discount equivalent to prices[j] where j is the minimum index such that j > i and prices[j] <= prices[i]. Otherwise, you will not receive any discount at all.\n",
    "\n",
    "Return an integer array answer where answer[i] is the final price you will pay for the ith item of the shop, considering the special discount.\n",
    "\n",
    " \n",
    "\n",
    "Example 1:\n",
    "\n",
    "Input: prices = [8,4,6,2,3]\n",
    "Output: [4,2,4,2,3]\n",
    "Explanation: \n",
    "For item 0 with price[0]=8 you will receive a discount equivalent to prices[1]=4, therefore, the final price you will pay is 8 - 4 = 4.\n",
    "For item 1 with price[1]=4 you will receive a discount equivalent to prices[3]=2, therefore, the final price you will pay is 4 - 2 = 2.\n",
    "For item 2 with price[2]=6 you will receive a discount equivalent to prices[3]=2, therefore, the final price you will pay is 6 - 2 = 4.\n",
    "For items 3 and 4 you will not receive any discount at all.\n",
    "\n",
    "Example 2:\n",
    "\n",
    "Input: prices = [1,2,3,4,5]\n",
    "Output: [1,2,3,4,5]\n",
    "Explanation: In this case, for all items, you will not receive any discount at all.\n",
    "\n",
    "Example 3:\n",
    "\n",
    "Input: prices = [10,1,1,6]\n",
    "Output: [9,0,1,6]\n",
    "\n",
    " \n",
    "\n",
    "Constraints:\n",
    "\n",
    "    1 <= prices.length <= 500\n",
    "    1 <= prices[i] <= 1000\n",
    "\n"
   ]
  },
  {
   "cell_type": "code",
   "execution_count": null,
   "id": "4c0e27a6-6e68-4f28-a433-d6ec6f9ffb86",
   "metadata": {},
   "outputs": [],
   "source": [
    "class Solution:\n",
    "    def finalPrices(self, prices: List[int]) -> List[int]:\n",
    "        # Create a copy of prices array to store discounted prices\n",
    "        result = prices.copy()\n",
    "\n",
    "        stack = deque()\n",
    "\n",
    "        for i in range(len(prices)):\n",
    "            # Process items that can be discounted by current price\n",
    "            while stack and prices[stack[-1]] >= prices[i]:\n",
    "                # Apply discount to previous item using current price\n",
    "                result[stack.pop()] -= prices[i]\n",
    "            # Add current index to stack\n",
    "            stack.append(i)\n",
    "\n",
    "        return result"
   ]
  }
 ],
 "metadata": {
  "kernelspec": {
   "display_name": "common",
   "language": "python",
   "name": "common"
  },
  "language_info": {
   "codemirror_mode": {
    "name": "ipython",
    "version": 3
   },
   "file_extension": ".py",
   "mimetype": "text/x-python",
   "name": "python",
   "nbconvert_exporter": "python",
   "pygments_lexer": "ipython3",
   "version": "3.12.4"
  }
 },
 "nbformat": 4,
 "nbformat_minor": 5
}
