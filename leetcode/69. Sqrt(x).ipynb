{
 "cells": [
  {
   "cell_type": "markdown",
   "id": "46b352ea-769b-41fa-bcd8-1bc71e39cb0c",
   "metadata": {},
   "source": [
    "Given a non-negative integer x, compute and return the square root of x.\n",
    "\n",
    "Since the return type is an integer, the decimal digits are truncated, and only the integer part of the result is returned.\n",
    "\n",
    "Note: You are not allowed to use any built-in exponent function or operator, such as pow(x, 0.5) or x ** 0.5.\n",
    "\n",
    " \n",
    "\n",
    "Example 1:\n",
    "\n",
    "Input: x = 4\n",
    "Output: 2\n",
    "\n",
    "Example 2:\n",
    "\n",
    "Input: x = 8\n",
    "Output: 2\n",
    "Explanation: The square root of 8 is 2.82842..., and since the decimal part is truncated, 2 is returned.\n",
    "\n",
    " \n",
    "\n",
    "Constraints:\n",
    "\n",
    "    0 <= x <= 231 - 1\n",
    "\n"
   ]
  },
  {
   "cell_type": "code",
   "execution_count": 13,
   "id": "7fd38d5c-6236-4b2c-b6e9-2632785a95b3",
   "metadata": {},
   "outputs": [],
   "source": [
    "class Solution:\n",
    "    def mySqrt(self, x: int) -> int:\n",
    "        if x == 0:\n",
    "            return 0\n",
    "        if x == 1:\n",
    "            return 1\n",
    "        \n",
    "        l = 1\n",
    "        r = x // 2 + 1\n",
    "        while r - l > 1:\n",
    "            m = (l + r) // 2\n",
    "            if m * m > x:\n",
    "                r = m\n",
    "            else:\n",
    "                l = m\n",
    "                \n",
    "        return l"
   ]
  },
  {
   "cell_type": "code",
   "execution_count": 14,
   "id": "09e179a9-f47a-493e-8094-b69ed4bc5224",
   "metadata": {},
   "outputs": [
    {
     "data": {
      "text/plain": [
       "3"
      ]
     },
     "execution_count": 14,
     "metadata": {},
     "output_type": "execute_result"
    }
   ],
   "source": [
    "s = Solution()\n",
    "s.mySqrt(9)"
   ]
  },
  {
   "cell_type": "code",
   "execution_count": 16,
   "id": "e6c61a1f-7673-4cce-b279-f3d1df938030",
   "metadata": {},
   "outputs": [
    {
     "data": {
      "text/plain": [
       "5"
      ]
     },
     "execution_count": 16,
     "metadata": {},
     "output_type": "execute_result"
    }
   ],
   "source": [
    "s.mySqrt(25)"
   ]
  },
  {
   "cell_type": "code",
   "execution_count": 35,
   "id": "f461e244-d907-48be-aea7-da904d343d8a",
   "metadata": {},
   "outputs": [],
   "source": [
    "class Solution:\n",
    "    def mySqrt(self, x: int) -> int:\n",
    "        l = 0\n",
    "        r = x\n",
    "        \n",
    "        diff = 1\n",
    "        m = -1\n",
    "        \n",
    "        while diff > 1e-7:\n",
    "            old_m = m\n",
    "            m = (l + r) / 2\n",
    "            if m * m > x:\n",
    "                r = m\n",
    "            else:\n",
    "                l = m\n",
    "            diff = abs(old_m - m)\n",
    "                \n",
    "        return round(m, 5)"
   ]
  },
  {
   "cell_type": "code",
   "execution_count": 36,
   "id": "ed49ce29-ca86-426d-ab1b-e5371935ba8d",
   "metadata": {},
   "outputs": [
    {
     "data": {
      "text/plain": [
       "3.0"
      ]
     },
     "execution_count": 36,
     "metadata": {},
     "output_type": "execute_result"
    }
   ],
   "source": [
    "s = Solution()\n",
    "s.mySqrt(9)"
   ]
  },
  {
   "cell_type": "code",
   "execution_count": 37,
   "id": "54cc071b-9b27-49b1-bfc6-b25ac4c80a2d",
   "metadata": {},
   "outputs": [
    {
     "data": {
      "text/plain": [
       "5.0"
      ]
     },
     "execution_count": 37,
     "metadata": {},
     "output_type": "execute_result"
    }
   ],
   "source": [
    "s.mySqrt(25)"
   ]
  },
  {
   "cell_type": "code",
   "execution_count": 38,
   "id": "81d71a5b-e6ba-42ec-9611-814275532013",
   "metadata": {},
   "outputs": [
    {
     "data": {
      "text/plain": [
       "3.74166"
      ]
     },
     "execution_count": 38,
     "metadata": {},
     "output_type": "execute_result"
    }
   ],
   "source": [
    "s.mySqrt(14)"
   ]
  },
  {
   "cell_type": "code",
   "execution_count": null,
   "id": "d2e9f08d-7273-4647-9d38-3012b0f98738",
   "metadata": {},
   "outputs": [],
   "source": []
  }
 ],
 "metadata": {
  "kernelspec": {
   "display_name": "Python 3 (ipykernel)",
   "language": "python",
   "name": "python3"
  },
  "language_info": {
   "codemirror_mode": {
    "name": "ipython",
    "version": 3
   },
   "file_extension": ".py",
   "mimetype": "text/x-python",
   "name": "python",
   "nbconvert_exporter": "python",
   "pygments_lexer": "ipython3",
   "version": "3.9.10"
  }
 },
 "nbformat": 4,
 "nbformat_minor": 5
}
