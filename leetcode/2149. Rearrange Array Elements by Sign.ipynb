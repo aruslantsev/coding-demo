{
 "cells": [
  {
   "cell_type": "markdown",
   "id": "a9b61178-4600-4c22-902a-4c59885fbfc9",
   "metadata": {},
   "source": [
    "You are given a 0-indexed integer array nums of even length consisting of an equal number of positive and negative integers.\n",
    "\n",
    "You should rearrange the elements of nums such that the modified array follows the given conditions:\n",
    "\n",
    "    Every consecutive pair of integers have opposite signs.\n",
    "    For all integers with the same sign, the order in which they were present in nums is preserved.\n",
    "    The rearranged array begins with a positive integer.\n",
    "\n",
    "Return the modified array after rearranging the elements to satisfy the aforementioned conditions.\n",
    "\n",
    " \n",
    "\n",
    "Example 1:\n",
    "\n",
    "Input: nums = [3,1,-2,-5,2,-4]\n",
    "Output: [3,-2,1,-5,2,-4]\n",
    "Explanation:\n",
    "The positive integers in nums are [3,1,2]. The negative integers are [-2,-5,-4].\n",
    "The only possible way to rearrange them such that they satisfy all conditions is [3,-2,1,-5,2,-4].\n",
    "Other ways such as [1,-2,2,-5,3,-4], [3,1,2,-2,-5,-4], [-2,3,-5,1,-4,2] are incorrect because they do not satisfy one or more conditions.  \n",
    "\n",
    "Example 2:\n",
    "\n",
    "Input: nums = [-1,1]\n",
    "Output: [1,-1]\n",
    "Explanation:\n",
    "1 is the only positive integer and -1 the only negative integer in nums.\n",
    "So nums is rearranged to [1,-1].\n",
    "\n",
    " \n",
    "\n",
    "Constraints:\n",
    "\n",
    "    2 <= nums.length <= 2 * 105\n",
    "    nums.length is even\n",
    "    1 <= |nums[i]| <= 105\n",
    "    nums consists of equal number of positive and negative integers.\n",
    "\n",
    " \n",
    "It is not required to do the modifications in-place."
   ]
  },
  {
   "cell_type": "code",
   "execution_count": null,
   "id": "6a54314e-5358-4127-9d65-7f675c020561",
   "metadata": {},
   "outputs": [],
   "source": [
    "class Solution:\n",
    "    def rearrangeArray(self, nums: List[int]) -> List[int]:\n",
    "        p = deque()\n",
    "        n = deque()\n",
    "        ans = []\n",
    "        for num in nums:\n",
    "            if num < 0:\n",
    "                n.append(num)\n",
    "            else:\n",
    "                p.append(num)\n",
    "            while n and p:\n",
    "                ans.append(p.popleft())\n",
    "                ans.append(n.popleft())\n",
    "        return ans\n",
    "        "
   ]
  }
 ],
 "metadata": {
  "kernelspec": {
   "display_name": "Python 3 (ipykernel)",
   "language": "python",
   "name": "python3"
  },
  "language_info": {
   "codemirror_mode": {
    "name": "ipython",
    "version": 3
   },
   "file_extension": ".py",
   "mimetype": "text/x-python",
   "name": "python",
   "nbconvert_exporter": "python",
   "pygments_lexer": "ipython3",
   "version": "3.11.7"
  }
 },
 "nbformat": 4,
 "nbformat_minor": 5
}
