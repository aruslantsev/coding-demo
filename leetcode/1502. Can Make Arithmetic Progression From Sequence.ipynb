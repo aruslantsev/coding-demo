{
 "cells": [
  {
   "cell_type": "markdown",
   "id": "2d96095f-3e2a-4d28-b170-e4044b3f65c6",
   "metadata": {},
   "source": [
    "A sequence of numbers is called an arithmetic progression if the difference between any two consecutive elements is the same.\n",
    "\n",
    "Given an array of numbers arr, return true if the array can be rearranged to form an arithmetic progression. Otherwise, return false.\n",
    "\n",
    " \n",
    "\n",
    "Example 1:\n",
    "\n",
    "Input: arr = [3,5,1]\n",
    "Output: true\n",
    "Explanation: We can reorder the elements as [1,3,5] or [5,3,1] with differences 2 and -2 respectively, between each consecutive elements.\n",
    "\n",
    "Example 2:\n",
    "\n",
    "Input: arr = [1,2,4]\n",
    "Output: false\n",
    "Explanation: There is no way to reorder the elements to obtain an arithmetic progression.\n",
    "\n",
    " \n",
    "\n",
    "Constraints:\n",
    "\n",
    "    2 <= arr.length <= 1000\n",
    "    -106 <= arr[i] <= 106\n",
    "\n"
   ]
  },
  {
   "cell_type": "code",
   "execution_count": null,
   "id": "611c2d31-af62-435d-bb50-fdc45f61af2b",
   "metadata": {},
   "outputs": [],
   "source": [
    "class Solution:\n",
    "    def canMakeArithmeticProgression(self, arr: List[int]) -> bool:\n",
    "        arr.sort()\n",
    "        diff = arr[1] - arr[0]\n",
    "        for i in range(1, len(arr)):\n",
    "            if arr[i] - arr[i - 1] != diff:\n",
    "                return False\n",
    "        return True"
   ]
  },
  {
   "cell_type": "code",
   "execution_count": null,
   "id": "45116011-9ad5-47e8-99e4-a50ccad9bada",
   "metadata": {},
   "outputs": [],
   "source": [
    "class Solution:\n",
    "    def canMakeArithmeticProgression(self, arr: List[int]) -> bool:\n",
    "        min_value, max_value = min(arr), max(arr)\n",
    "        n = len(arr)\n",
    "        \n",
    "        if max_value - min_value == 0:\n",
    "            return True\n",
    "        if (max_value - min_value) % (n - 1):\n",
    "\n",
    "            return False\n",
    "        \n",
    "        diff = (max_value - min_value) // (n - 1)\n",
    "        number_set = set()\n",
    "        \n",
    "        for a in arr:\n",
    "            if (a - min_value) % diff:\n",
    "                return False\n",
    "            number_set.add(a)\n",
    "        \n",
    "        return len(number_set) == n"
   ]
  }
 ],
 "metadata": {
  "kernelspec": {
   "display_name": "Python 3 (ipykernel)",
   "language": "python",
   "name": "python3"
  },
  "language_info": {
   "codemirror_mode": {
    "name": "ipython",
    "version": 3
   },
   "file_extension": ".py",
   "mimetype": "text/x-python",
   "name": "python",
   "nbconvert_exporter": "python",
   "pygments_lexer": "ipython3",
   "version": "3.10.11"
  }
 },
 "nbformat": 4,
 "nbformat_minor": 5
}
