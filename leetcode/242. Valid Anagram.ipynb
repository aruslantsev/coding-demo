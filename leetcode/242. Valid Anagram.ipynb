{
 "cells": [
  {
   "cell_type": "markdown",
   "id": "bd0339a3-525a-4c6d-b300-80afa436112d",
   "metadata": {},
   "source": [
    "Given two strings s and t, return true if t is an anagram of s, and false otherwise.\n",
    "\n",
    "An Anagram is a word or phrase formed by rearranging the letters of a different word or phrase, typically using all the original letters exactly once.\n",
    "\n",
    " \n",
    "\n",
    "Example 1:\n",
    "\n",
    "Input: s = \"anagram\", t = \"nagaram\"\n",
    "Output: true\n",
    "\n",
    "Example 2:\n",
    "\n",
    "Input: s = \"rat\", t = \"car\"\n",
    "Output: false\n",
    "\n",
    " \n",
    "\n",
    "Constraints:\n",
    "\n",
    "    1 <= s.length, t.length <= 5 * 104\n",
    "    s and t consist of lowercase English letters.\n",
    "\n",
    " \n",
    "\n",
    "Follow up: What if the inputs contain Unicode characters? How would you adapt your solution to such a case?\n"
   ]
  },
  {
   "cell_type": "code",
   "execution_count": 1,
   "id": "f7a4fa97-d602-4e9d-8835-eb9363b88c73",
   "metadata": {},
   "outputs": [],
   "source": [
    "from collections import Counter\n",
    "\n",
    "class Solution:\n",
    "    def isAnagram(self, s: str, t: str) -> bool:\n",
    "        cs = Counter(s)\n",
    "        ct = Counter(t)\n",
    "        if len(cs.keys()) != len(ct.keys()):\n",
    "            return False\n",
    "        \n",
    "        for k, v in cs.items():\n",
    "            if k not in ct or ct[k] != v:\n",
    "                return False\n",
    "            \n",
    "        return True"
   ]
  },
  {
   "cell_type": "code",
   "execution_count": null,
   "id": "7b32de6a-1026-4283-a5ae-295b15aa46b7",
   "metadata": {},
   "outputs": [],
   "source": []
  }
 ],
 "metadata": {
  "kernelspec": {
   "display_name": "Python 3 (ipykernel)",
   "language": "python",
   "name": "python3"
  },
  "language_info": {
   "codemirror_mode": {
    "name": "ipython",
    "version": 3
   },
   "file_extension": ".py",
   "mimetype": "text/x-python",
   "name": "python",
   "nbconvert_exporter": "python",
   "pygments_lexer": "ipython3",
   "version": "3.9.12"
  }
 },
 "nbformat": 4,
 "nbformat_minor": 5
}
