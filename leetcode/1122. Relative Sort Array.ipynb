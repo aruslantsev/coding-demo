{
 "cells": [
  {
   "cell_type": "markdown",
   "id": "b6555fe4-d12d-4897-b007-0f96ca3d1e33",
   "metadata": {},
   "source": [
    "Given two arrays arr1 and arr2, the elements of arr2 are distinct, and all elements in arr2 are also in arr1.\n",
    "\n",
    "Sort the elements of arr1 such that the relative ordering of items in arr1 are the same as in arr2. Elements that do not appear in arr2 should be placed at the end of arr1 in ascending order.\n",
    "\n",
    " \n",
    "\n",
    "Example 1:\n",
    "\n",
    "Input: arr1 = [2,3,1,3,2,4,6,7,9,2,19], arr2 = [2,1,4,3,9,6]\n",
    "Output: [2,2,2,1,4,3,3,9,6,7,19]\n",
    "\n",
    "Example 2:\n",
    "\n",
    "Input: arr1 = [28,6,22,8,44,17], arr2 = [22,28,8,6]\n",
    "Output: [22,28,8,6,17,44]\n",
    "\n",
    " \n",
    "\n",
    "Constraints:\n",
    "\n",
    "    1 <= arr1.length, arr2.length <= 1000\n",
    "    0 <= arr1[i], arr2[i] <= 1000\n",
    "    All the elements of arr2 are distinct.\n",
    "    Each arr2[i] is in arr1.\n",
    "\n"
   ]
  },
  {
   "cell_type": "code",
   "execution_count": null,
   "id": "bf628274-b3d4-4253-b10c-221f8828c0e4",
   "metadata": {},
   "outputs": [],
   "source": [
    "class Solution:\n",
    "    def relativeSortArray(self, arr1: List[int], arr2: List[int]) -> List[int]:\n",
    "        end = sorted([num for num in arr1 if num not in arr2])\n",
    "        cnt = Counter(arr1)\n",
    "        start = []\n",
    "        for num in arr2:\n",
    "            start += [num] * cnt.get(num, 0)\n",
    "        return start + end"
   ]
  }
 ],
 "metadata": {
  "kernelspec": {
   "display_name": "Python 3 (ipykernel)",
   "language": "python",
   "name": "python3"
  },
  "language_info": {
   "codemirror_mode": {
    "name": "ipython",
    "version": 3
   },
   "file_extension": ".py",
   "mimetype": "text/x-python",
   "name": "python",
   "nbconvert_exporter": "python",
   "pygments_lexer": "ipython3",
   "version": "3.12.3"
  }
 },
 "nbformat": 4,
 "nbformat_minor": 5
}
