{
 "cells": [
  {
   "attachments": {
    "57d6c40e-abd8-41bd-9b35-5336407dde6a.png": {
     "image/png": "[encoded data removed]"
    }
   },
   "cell_type": "markdown",
   "id": "6289c3c6-f79f-4e4a-999a-332d76c8800c",
   "metadata": {},
   "source": [
    "You are given a network of n nodes, labeled from 1 to n. You are also given times, a list of travel times as directed edges times[i] = (ui, vi, wi), where ui is the source node, vi is the target node, and wi is the time it takes for a signal to travel from source to target.\n",
    "\n",
    "We will send a signal from a given node k. Return the time it takes for all the n nodes to receive the signal. If it is impossible for all the n nodes to receive the signal, return -1.\n",
    "\n",
    " \n",
    "\n",
    "Example 1:\n",
    "\n",
    "![изображение.png](attachment:57d6c40e-abd8-41bd-9b35-5336407dde6a.png)\n",
    "\n",
    "Input: times = [[2,1,1],[2,3,1],[3,4,1]], n = 4, k = 2\n",
    "Output: 2\n",
    "\n",
    "Example 2:\n",
    "\n",
    "Input: times = [[1,2,1]], n = 2, k = 1\n",
    "Output: 1\n",
    "\n",
    "Example 3:\n",
    "\n",
    "Input: times = [[1,2,1]], n = 2, k = 2\n",
    "Output: -1\n",
    "\n",
    " \n",
    "\n",
    "Constraints:\n",
    "\n",
    "    1 <= k <= n <= 100\n",
    "    1 <= times.length <= 6000\n",
    "    times[i].length == 3\n",
    "    1 <= ui, vi <= n\n",
    "    ui != vi\n",
    "    0 <= wi <= 100\n",
    "    All the pairs (ui, vi) are unique. (i.e., no multiple edges.)\n",
    "\n"
   ]
  },
  {
   "cell_type": "code",
   "execution_count": 16,
   "id": "8f8d290c-0e3e-4578-9821-0249f7bcc4c4",
   "metadata": {},
   "outputs": [],
   "source": [
    "from typing import List\n",
    "from collections import deque\n",
    "from math import inf\n",
    "\n",
    "class Solution:\n",
    "    def networkDelayTime(self, times: List[List[int]], n: int, k: int) -> int:\n",
    "        graph = {i + 1: {} for i in range(n)}\n",
    "        for start, end, time in times:\n",
    "            graph[start][end] = time\n",
    "        times = {i + 1: inf for i in range(n)}\n",
    "        \n",
    "        q = deque()\n",
    "        q.append([k, 0])\n",
    "        while q:\n",
    "            curr, time = q.popleft()\n",
    "            if times[curr] > time:\n",
    "                times[curr] = time\n",
    "                for cand in graph[curr].keys():\n",
    "                    q.append([cand, time + graph[curr][cand]])\n",
    "        if max(times.values()) == inf:\n",
    "            return -1\n",
    "        else:\n",
    "            return max(times.values())"
   ]
  },
  {
   "cell_type": "code",
   "execution_count": 17,
   "id": "dc3ddbd0-46c1-4a5c-8231-e596cbc4328b",
   "metadata": {},
   "outputs": [
    {
     "data": {
      "text/plain": [
       "2"
      ]
     },
     "execution_count": 17,
     "metadata": {},
     "output_type": "execute_result"
    }
   ],
   "source": [
    "s = Solution()\n",
    "s.networkDelayTime([[2,1,1],[2,3,1],[3,4,1]], 4, 2)"
   ]
  },
  {
   "cell_type": "code",
   "execution_count": 18,
   "id": "c44d0414-ec25-4f82-91e1-4bba82d9edbb",
   "metadata": {},
   "outputs": [
    {
     "data": {
      "text/plain": [
       "1"
      ]
     },
     "execution_count": 18,
     "metadata": {},
     "output_type": "execute_result"
    }
   ],
   "source": [
    "s.networkDelayTime([[1,2,1]], 2, 1)"
   ]
  },
  {
   "cell_type": "code",
   "execution_count": 19,
   "id": "0d1e4653-8dc1-44ea-a43c-c8420ce9f44f",
   "metadata": {},
   "outputs": [
    {
     "data": {
      "text/plain": [
       "-1"
      ]
     },
     "execution_count": 19,
     "metadata": {},
     "output_type": "execute_result"
    }
   ],
   "source": [
    "s.networkDelayTime([[1,2,1]], 2, 2)"
   ]
  },
  {
   "cell_type": "code",
   "execution_count": null,
   "id": "8b45fce3-1a9d-41bc-b6ca-a06773b8d328",
   "metadata": {},
   "outputs": [],
   "source": []
  }
 ],
 "metadata": {
  "kernelspec": {
   "display_name": "Python 3 (ipykernel)",
   "language": "python",
   "name": "python3"
  },
  "language_info": {
   "codemirror_mode": {
    "name": "ipython",
    "version": 3
   },
   "file_extension": ".py",
   "mimetype": "text/x-python",
   "name": "python",
   "nbconvert_exporter": "python",
   "pygments_lexer": "ipython3",
   "version": "3.9.10"
  }
 },
 "nbformat": 4,
 "nbformat_minor": 5
}
