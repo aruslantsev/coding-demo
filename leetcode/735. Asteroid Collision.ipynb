{
 "cells": [
  {
   "cell_type": "markdown",
   "id": "9d60d89a-3581-43f2-8532-f58b7fb116b2",
   "metadata": {},
   "source": [
    "We are given an array asteroids of integers representing asteroids in a row.\n",
    "\n",
    "For each asteroid, the absolute value represents its size, and the sign represents its direction (positive meaning right, negative meaning left). Each asteroid moves at the same speed.\n",
    "\n",
    "Find out the state of the asteroids after all collisions. If two asteroids meet, the smaller one will explode. If both are the same size, both will explode. Two asteroids moving in the same direction will never meet.\n",
    "\n",
    " \n",
    "\n",
    "Example 1:\n",
    "\n",
    "Input: asteroids = [5,10,-5]\n",
    "Output: [5,10]\n",
    "Explanation: The 10 and -5 collide resulting in 10. The 5 and 10 never collide.\n",
    "\n",
    "Example 2:\n",
    "\n",
    "Input: asteroids = [8,-8]\n",
    "Output: []\n",
    "Explanation: The 8 and -8 collide exploding each other.\n",
    "\n",
    "Example 3:\n",
    "\n",
    "Input: asteroids = [10,2,-5]\n",
    "Output: [10]\n",
    "Explanation: The 2 and -5 collide resulting in -5. The 10 and -5 collide resulting in 10.\n",
    "\n",
    " \n",
    "\n",
    "Constraints:\n",
    "\n",
    "    2 <= asteroids.length <= 104\n",
    "    -1000 <= asteroids[i] <= 1000\n",
    "    asteroids[i] != 0\n",
    "\n"
   ]
  },
  {
   "cell_type": "code",
   "execution_count": null,
   "id": "e0e2dc3d-52f3-4681-ac77-f53e9b3b90c0",
   "metadata": {},
   "outputs": [],
   "source": [
    "class Solution:\n",
    "    def asteroidCollision(self, asteroids: List[int]) -> List[int]:\n",
    "        stack = []\n",
    "        for asteroid in asteroids:\n",
    "            if not stack or asteroid > 0:\n",
    "                stack.append(asteroid)\n",
    "            else:\n",
    "                while stack and stack[-1] > 0 and stack[-1] < abs(asteroid):\n",
    "                    stack.pop()\n",
    "                if stack and stack[-1] == abs(asteroid):\n",
    "                    stack.pop()\n",
    "                else:\n",
    "                    if not stack or stack[-1] < 0:\n",
    "                        stack.append(asteroid)\n",
    "        return stack\n"
   ]
  }
 ],
 "metadata": {
  "kernelspec": {
   "display_name": "common",
   "language": "python",
   "name": "common"
  },
  "language_info": {
   "codemirror_mode": {
    "name": "ipython",
    "version": 3
   },
   "file_extension": ".py",
   "mimetype": "text/x-python",
   "name": "python",
   "nbconvert_exporter": "python",
   "pygments_lexer": "ipython3",
   "version": "3.9.15"
  }
 },
 "nbformat": 4,
 "nbformat_minor": 5
}
