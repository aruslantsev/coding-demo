{
 "cells": [
  {
   "attachments": {
    "adbb880a-4621-4a26-9a8b-d463d38f3331.png": {
     "image/png": "[encoded data removed]"
    },
    "f99b760c-959f-41bd-a657-196ae26839e4.png": {
     "image/png": "[encoded data removed]"
    }
   },
   "cell_type": "markdown",
   "id": "d7c30ad9-0fe3-44a7-a1f8-a20205858b19",
   "metadata": {},
   "source": [
    "You start at the cell (rStart, cStart) of an rows x cols grid facing east. The northwest corner is at the first row and column in the grid, and the southeast corner is at the last row and column.\n",
    "\n",
    "You will walk in a clockwise spiral shape to visit every position in this grid. Whenever you move outside the grid's boundary, we continue our walk outside the grid (but may return to the grid boundary later.). Eventually, we reach all rows * cols spaces of the grid.\n",
    "\n",
    "Return an array of coordinates representing the positions of the grid in the order you visited them.\n",
    "\n",
    " \n",
    "\n",
    "Example 1:\n",
    "\n",
    "![image.png](attachment:adbb880a-4621-4a26-9a8b-d463d38f3331.png)\n",
    "\n",
    "Input: rows = 1, cols = 4, rStart = 0, cStart = 0\n",
    "Output: [[0,0],[0,1],[0,2],[0,3]]\n",
    "\n",
    "Example 2:\n",
    "\n",
    "![image.png](attachment:f99b760c-959f-41bd-a657-196ae26839e4.png)\n",
    "\n",
    "Input: rows = 5, cols = 6, rStart = 1, cStart = 4\n",
    "Output: [[1,4],[1,5],[2,5],[2,4],[2,3],[1,3],[0,3],[0,4],[0,5],[3,5],[3,4],[3,3],[3,2],[2,2],[1,2],[0,2],[4,5],[4,4],[4,3],[4,2],[4,1],[3,1],[2,1],[1,1],[0,1],[4,0],[3,0],[2,0],[1,0],[0,0]]\n",
    "\n",
    " \n",
    "\n",
    "Constraints:\n",
    "\n",
    "    1 <= rows, cols <= 100\n",
    "    0 <= rStart < rows\n",
    "    0 <= cStart < cols\n",
    "\n"
   ]
  },
  {
   "cell_type": "code",
   "execution_count": null,
   "id": "22baace0-f74d-455d-ba03-479e95410470",
   "metadata": {},
   "outputs": [],
   "source": [
    "class Solution:\n",
    "    def spiralMatrixIII(self, rows: int, cols: int, rStart: int, cStart: int) -> List[List[int]]:\n",
    "        # Store all possible directions in an array.\n",
    "        dir = [[0, 1], [1, 0], [0, -1], [-1, 0]]\n",
    "        traversed = []\n",
    "\n",
    "        # Initial step size is 1, value of d represents the current direction.\n",
    "        step = 1\n",
    "        direction = 0\n",
    "        while len(traversed) < rows * cols:\n",
    "            # direction = 0 -> East, direction = 1 -> South\n",
    "            # direction = 2 -> West, direction = 3 -> North\n",
    "            for _ in range(2):\n",
    "                for _ in range(step):\n",
    "                    # Validate the current position\n",
    "                    if (\n",
    "                        rStart >= 0\n",
    "                        and rStart < rows\n",
    "                        and cStart >= 0\n",
    "                        and cStart < cols\n",
    "                    ):\n",
    "                        traversed.append([rStart, cStart])\n",
    "                    # Make changes to the current position.\n",
    "                    rStart += dir[direction][0]\n",
    "                    cStart += dir[direction][1]\n",
    "\n",
    "                direction = (direction + 1) % 4\n",
    "            step += 1\n",
    "        return traversed"
   ]
  }
 ],
 "metadata": {
  "kernelspec": {
   "display_name": "Python 3 (ipykernel)",
   "language": "python",
   "name": "python3"
  },
  "language_info": {
   "codemirror_mode": {
    "name": "ipython",
    "version": 3
   },
   "file_extension": ".py",
   "mimetype": "text/x-python",
   "name": "python",
   "nbconvert_exporter": "python",
   "pygments_lexer": "ipython3",
   "version": "3.12.3"
  }
 },
 "nbformat": 4,
 "nbformat_minor": 5
}
