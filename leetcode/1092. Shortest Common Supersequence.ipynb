{
 "cells": [
  {
   "cell_type": "markdown",
   "id": "7fe988ba-0f65-48c4-8b5d-18f49497b5f4",
   "metadata": {},
   "source": [
    "Given two strings str1 and str2, return the shortest string that has both str1 and str2 as subsequences. If there are multiple valid strings, return any of them.\n",
    "\n",
    "A string s is a subsequence of string t if deleting some number of characters from t (possibly 0) results in the string s.\n",
    "\n",
    " \n",
    "\n",
    "Example 1:\n",
    "\n",
    "Input: str1 = \"abac\", str2 = \"cab\"\n",
    "Output: \"cabac\"\n",
    "Explanation: \n",
    "str1 = \"abac\" is a subsequence of \"cabac\" because we can delete the first \"c\".\n",
    "str2 = \"cab\" is a subsequence of \"cabac\" because we can delete the last \"ac\".\n",
    "The answer provided is the shortest such string that satisfies these properties.\n",
    "\n",
    "Example 2:\n",
    "\n",
    "Input: str1 = \"aaaaaaaa\", str2 = \"aaaaaaaa\"\n",
    "Output: \"aaaaaaaa\"\n",
    "\n",
    " \n",
    "\n",
    "Constraints:\n",
    "\n",
    "    1 <= str1.length, str2.length <= 1000\n",
    "    str1 and str2 consist of lowercase English letters.\n",
    "\n"
   ]
  },
  {
   "cell_type": "code",
   "execution_count": null,
   "id": "6158f2ce-b054-482f-b193-37bf0e994a6b",
   "metadata": {},
   "outputs": [],
   "source": [
    "class Solution:\n",
    "    def shortestCommonSupersequence(self, str1: str, str2: str) -> str:\n",
    "        str1_length = len(str1)\n",
    "        str2_length = len(str2)\n",
    "\n",
    "        # Initialize the first row (when str1 is empty, the supersequence is str2's prefix)\n",
    "        prev_row = [str2[0:col] for col in range(str2_length + 1)]\n",
    "\n",
    "        # Fill the DP table row by row\n",
    "        for row in range(1, str1_length + 1):\n",
    "            # Initialize the first column (when str2 is empty, the supersequence is str1's prefix)\n",
    "            curr_row = [str1[0:row]] + [None for _ in range(str2_length)]\n",
    "\n",
    "            for col in range(1, str2_length + 1):\n",
    "                # If characters match, extend the supersequence from the diagonal value\n",
    "                if str1[row - 1] == str2[col - 1]:\n",
    "                    curr_row[col] = prev_row[col - 1] + str1[row - 1]\n",
    "                else:\n",
    "                    # If characters do not match, choose the shorter supersequence\n",
    "                    # From previous row (exclude current str1 char)\n",
    "                    pick_s1 = prev_row[col]\n",
    "                    # From previous column (exclude current str2 char)\n",
    "                    pick_s2 = curr_row[col - 1]\n",
    "\n",
    "                    curr_row[col] = (\n",
    "                        pick_s1 + str1[row - 1]\n",
    "                        if len(pick_s1) < len(pick_s2)\n",
    "                        else pick_s2 + str2[col - 1]\n",
    "                    )\n",
    "\n",
    "            # Move to the next row (update previous row reference)\n",
    "            prev_row = curr_row\n",
    "\n",
    "        # Return the shortest common supersequence from the last cell\n",
    "        return prev_row[str2_length]"
   ]
  },
  {
   "cell_type": "code",
   "execution_count": null,
   "id": "daad4848-681e-4958-930f-6e99f9b42295",
   "metadata": {},
   "outputs": [],
   "source": [
    "class Solution:\n",
    "    @cache\n",
    "    def shortestCommonSupersequence(self, str1: str, str2: str) -> str:\n",
    "        if str1 == \"\":\n",
    "            return str2\n",
    "        if str2 == \"\":\n",
    "            return str1\n",
    "        if str1[0] == str2[0]:\n",
    "            return str1[0] + self.shortestCommonSupersequence(str1[1:], str2[1:])\n",
    "        else:\n",
    "            s1 = str1[0] + self.shortestCommonSupersequence(str1[1:], str2)\n",
    "            s2 = str2[0] + self.shortestCommonSupersequence(str1, str2[1:])\n",
    "            return s1 if len(s1) < len(s2) else s2"
   ]
  }
 ],
 "metadata": {
  "kernelspec": {
   "display_name": "common",
   "language": "python",
   "name": "common"
  },
  "language_info": {
   "codemirror_mode": {
    "name": "ipython",
    "version": 3
   },
   "file_extension": ".py",
   "mimetype": "text/x-python",
   "name": "python",
   "nbconvert_exporter": "python",
   "pygments_lexer": "ipython3",
   "version": "3.12.4"
  }
 },
 "nbformat": 4,
 "nbformat_minor": 5
}
