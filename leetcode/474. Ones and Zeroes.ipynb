{
 "cells": [
  {
   "cell_type": "markdown",
   "id": "b2a0e92f-1d63-4971-955f-8dff6e42ae5a",
   "metadata": {},
   "source": [
    "You are given an array of binary strings strs and two integers m and n.\n",
    "\n",
    "Return the size of the largest subset of strs such that there are at most m 0's and n 1's in the subset.\n",
    "\n",
    "A set x is a subset of a set y if all elements of x are also elements of y.\n",
    "\n",
    " \n",
    "\n",
    "Example 1:\n",
    "\n",
    "Input: strs = [\"10\",\"0001\",\"111001\",\"1\",\"0\"], m = 5, n = 3\n",
    "Output: 4\n",
    "Explanation: The largest subset with at most 5 0's and 3 1's is {\"10\", \"0001\", \"1\", \"0\"}, so the answer is 4.\n",
    "Other valid but smaller subsets include {\"0001\", \"1\"} and {\"10\", \"1\", \"0\"}.\n",
    "{\"111001\"} is an invalid subset because it contains 4 1's, greater than the maximum of 3.\n",
    "\n",
    "Example 2:\n",
    "\n",
    "Input: strs = [\"10\",\"0\",\"1\"], m = 1, n = 1\n",
    "Output: 2\n",
    "Explanation: The largest subset is {\"0\", \"1\"}, so the answer is 2.\n",
    "\n",
    " \n",
    "\n",
    "Constraints:\n",
    "\n",
    "    1 <= strs.length <= 600\n",
    "    1 <= strs[i].length <= 100\n",
    "    strs[i] consists only of digits '0' and '1'.\n",
    "    1 <= m, n <= 100\n",
    "\n"
   ]
  },
  {
   "cell_type": "code",
   "execution_count": 85,
   "id": "764080df-bf76-4ad0-a667-c79305f32e27",
   "metadata": {},
   "outputs": [],
   "source": [
    "from typing import List\n",
    "from collections import Counter\n",
    "\n",
    "class Solution:\n",
    "    def findMaxForm(self, strs: List[str], m: int, n: int) -> int:\n",
    "        counts = []\n",
    "        for s in strs:\n",
    "            c = Counter(s)\n",
    "            counts.append([c.get(\"0\", 0), c.get(\"1\", 0)])\n",
    "        \n",
    "        self.ans = 0\n",
    "        def dfs(arr, sum, level):\n",
    "            if len(arr) == 0:\n",
    "                if sum[0] == m and sum[1] == n:\n",
    "                    self.ans = max(self.ans, level)\n",
    "            else:\n",
    "                sum_low = sum.copy()\n",
    "                sum_high = sum.copy()\n",
    "                dfs(arr[1:], sum_low, level)\n",
    "                sum_high[0] = sum_high[0] + arr[0][0]\n",
    "                sum_high[1] = sum_high[1] + arr[0][1]\n",
    "                dfs(arr[1:], tuple(sum_high), level + 1)\n",
    "                \n",
    "        dfs(counts, [0, 0], 0)\n",
    "        return self.ans"
   ]
  },
  {
   "cell_type": "code",
   "execution_count": 86,
   "id": "5b74e333-564a-4eab-b225-ffbad95d1767",
   "metadata": {},
   "outputs": [],
   "source": [
    "from typing import List\n",
    "from collections import Counter, deque\n",
    "\n",
    "\n",
    "class Solution:\n",
    "    def findMaxForm(self, strs: List[str], m: int, n: int) -> int:\n",
    "        counts = []\n",
    "        for s in strs:\n",
    "            c = Counter(s)\n",
    "            counts.append([c.get(\"0\", 0), c.get(\"1\", 0)])\n",
    "        \n",
    "        ans = 0\n",
    "        q = deque()\n",
    "        q.append([0, [0, 0], 0])\n",
    "        while q:\n",
    "            idx, sums, cnt = q.popleft()\n",
    "            if sums[0] <= m and sums[1] <= n:\n",
    "                ans = max(ans, cnt)\n",
    "\n",
    "            if sums[0] > m or sums[1] > n:\n",
    "                continue\n",
    "                \n",
    "            if idx < len(counts):\n",
    "                sums_low = sums.copy()\n",
    "                sums_high = sums.copy()\n",
    "                sums_high[0] += counts[idx][0]\n",
    "                sums_high[1] += counts[idx][1]\n",
    "            \n",
    "                q.append([idx + 1, sums_low, cnt])\n",
    "                q.append([idx + 1, sums_high,  cnt + 1])\n",
    "                \n",
    "        return ans"
   ]
  },
  {
   "cell_type": "code",
   "execution_count": 90,
   "id": "fcac6a28-7064-4072-8b46-7b2058358d45",
   "metadata": {},
   "outputs": [],
   "source": [
    "from typing import List\n",
    "from functools import cache\n",
    "\n",
    "class Solution:\n",
    "    def findMaxForm(self, strs: List[str], m: int, n: int) -> int:\n",
    "        counter=[[s.count(\"0\"), s.count(\"1\")] for s in strs]\n",
    "        \n",
    "        @cache\n",
    "        def dp(i, j, idx):\n",
    "            if i < 0 or j < 0:\n",
    "                return -math.inf\n",
    "            \n",
    "            if idx == len(strs):\n",
    "                return 0\n",
    "            \n",
    "            return max(dp(i, j, idx + 1), 1 + dp(i - counter[idx][0], j - counter[idx][1], idx + 1))\n",
    "        return dp(m, n, 0)\n",
    "    "
   ]
  },
  {
   "cell_type": "code",
   "execution_count": 91,
   "id": "12c00048-59f4-44a6-bdc0-eced6215275a",
   "metadata": {},
   "outputs": [],
   "source": [
    "class Solution:\n",
    "    def findMaxForm(self, strs: List[str], m: int, n: int) -> int:            \n",
    "        dp = [[0] * (n + 1) for _ in range(m + 1)]\n",
    "        counter=[[s.count(\"0\"), s.count(\"1\")] for s in strs]\n",
    "        \n",
    "        for zeroes, ones in counter:\n",
    "            for i in range(m, zeroes-1, -1):\n",
    "                for j in range(n, ones-1, -1):                   \n",
    "                    dp[i][j] = max(dp[i][j], 1 + dp[i - zeroes][j - ones])\n",
    "        \n",
    "        return dp[-1][-1]"
   ]
  },
  {
   "cell_type": "code",
   "execution_count": 92,
   "id": "618bc6c3-b8e6-4e3a-a31c-cce33ed95903",
   "metadata": {},
   "outputs": [
    {
     "data": {
      "text/plain": [
       "4"
      ]
     },
     "execution_count": 92,
     "metadata": {},
     "output_type": "execute_result"
    }
   ],
   "source": [
    "s = Solution()\n",
    "s.findMaxForm([\"10\",\"0001\",\"111001\",\"1\",\"0\"], 5, 3)"
   ]
  },
  {
   "cell_type": "code",
   "execution_count": 93,
   "id": "f4de70b2-ff2b-4a80-90e6-5c36bdb69f66",
   "metadata": {},
   "outputs": [
    {
     "data": {
      "text/plain": [
       "2"
      ]
     },
     "execution_count": 93,
     "metadata": {},
     "output_type": "execute_result"
    }
   ],
   "source": [
    "s.findMaxForm([\"10\",\"0\",\"1\"], 1, 1)"
   ]
  },
  {
   "cell_type": "code",
   "execution_count": 94,
   "id": "6d4d5d1e-bed2-4d65-a764-5b9ed28b16bc",
   "metadata": {},
   "outputs": [
    {
     "data": {
      "text/plain": [
       "17"
      ]
     },
     "execution_count": 94,
     "metadata": {},
     "output_type": "execute_result"
    }
   ],
   "source": [
    "s.findMaxForm([\"0\",\"11\",\"1000\",\"01\",\"0\",\"101\",\"1\",\"1\",\"1\",\"0\",\"0\",\"0\",\"0\",\"1\",\"0\",\"0110101\",\"0\",\"11\",\"01\",\"00\",\"01111\",\"0011\",\"1\",\"1000\",\"0\",\"11101\",\"1\",\"0\",\"10\",\"0111\"], 9, 80)"
   ]
  },
  {
   "cell_type": "code",
   "execution_count": null,
   "id": "cf67592e-bbeb-4ba8-8d81-1b7fd9532ee8",
   "metadata": {},
   "outputs": [],
   "source": []
  }
 ],
 "metadata": {
  "kernelspec": {
   "display_name": "Python 3 (ipykernel)",
   "language": "python",
   "name": "python3"
  },
  "language_info": {
   "codemirror_mode": {
    "name": "ipython",
    "version": 3
   },
   "file_extension": ".py",
   "mimetype": "text/x-python",
   "name": "python",
   "nbconvert_exporter": "python",
   "pygments_lexer": "ipython3",
   "version": "3.9.10"
  }
 },
 "nbformat": 4,
 "nbformat_minor": 5
}
