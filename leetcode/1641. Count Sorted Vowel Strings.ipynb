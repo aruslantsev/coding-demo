{
 "cells": [
  {
   "cell_type": "markdown",
   "id": "092f05c4-d3c0-46e0-8b01-ef8202a310c6",
   "metadata": {},
   "source": [
    "Given an integer n, return the number of strings of length n that consist only of vowels (a, e, i, o, u) and are lexicographically sorted.\n",
    "\n",
    "A string s is lexicographically sorted if for all valid i, s[i] is the same as or comes before s[i+1] in the alphabet.\n",
    "\n",
    " \n",
    "\n",
    "Example 1:\n",
    "\n",
    "Input: n = 1\n",
    "Output: 5\n",
    "Explanation: The 5 sorted strings that consist of vowels only are [\"a\",\"e\",\"i\",\"o\",\"u\"].\n",
    "\n",
    "Example 2:\n",
    "\n",
    "Input: n = 2\n",
    "Output: 15\n",
    "Explanation: The 15 sorted strings that consist of vowels only are\n",
    "[\"aa\",\"ae\",\"ai\",\"ao\",\"au\",\"ee\",\"ei\",\"eo\",\"eu\",\"ii\",\"io\",\"iu\",\"oo\",\"ou\",\"uu\"].\n",
    "Note that \"ea\" is not a valid string since 'e' comes after 'a' in the alphabet.\n",
    "\n",
    "Example 3:\n",
    "\n",
    "Input: n = 33\n",
    "Output: 66045\n",
    "\n",
    " \n",
    "\n",
    "Constraints:\n",
    "\n",
    "    1 <= n <= 50 \n",
    "\n"
   ]
  },
  {
   "cell_type": "code",
   "execution_count": 9,
   "id": "895c2f0c-f688-46cc-b44a-c13b9c965011",
   "metadata": {},
   "outputs": [],
   "source": [
    "class Solution:\n",
    "    def countVowelStrings(self, n: int) -> int:\n",
    "        dp = [[0] * 6 for _ in range(n+1)]\n",
    "        for i in range(1, 6):\n",
    "            dp[1][i] = i\n",
    "        \n",
    "        for i in range(2, n+1):\n",
    "            dp[i][1]=1\n",
    "            for j in range(2, 6):\n",
    "                dp[i][j] = dp[i][j-1] + dp[i-1][j]\n",
    "        \n",
    "        return dp[n][5]"
   ]
  },
  {
   "cell_type": "code",
   "execution_count": 18,
   "id": "f71e3d71-8b36-4ba5-8ae5-f5b1ea6e6ea3",
   "metadata": {},
   "outputs": [],
   "source": [
    "class Solution:\n",
    "    def countVowelStrings(self, n: int) -> int:        \n",
    "        dp = [1] * 5\n",
    "                                \n",
    "        for _ in range(1, n):\n",
    "            for i in range(1, 5):                    \n",
    "                dp[i] = dp[i] + dp[i-1]\n",
    "        \n",
    "        return sum(dp)"
   ]
  },
  {
   "cell_type": "code",
   "execution_count": null,
   "id": "e505d630-432d-4d7d-aa63-a75991c3edbc",
   "metadata": {},
   "outputs": [],
   "source": [
    "class Solution:\n",
    "    def countVowelStrings(self, n: int) -> int:        \n",
    "        return (n + 4) * (n + 3) * (n + 2) * (n + 1) // 24"
   ]
  },
  {
   "cell_type": "code",
   "execution_count": 26,
   "id": "a1458560-8aa8-4943-854d-c758e3a2dfa1",
   "metadata": {},
   "outputs": [],
   "source": [
    "from functools import cache\n",
    "\n",
    "class Solution:\n",
    "    def countVowelStrings(self, n: int) -> int:\n",
    "        @cache\n",
    "        def counter(l, s):\n",
    "            if l == 0:\n",
    "                return 1\n",
    "            else:\n",
    "                return sum([counter(l - 1, curr_s) for curr_s in range(s, 5)])\n",
    "        \n",
    "        return counter(n, 0)"
   ]
  },
  {
   "cell_type": "code",
   "execution_count": 27,
   "id": "f16b4832-bcba-4492-8fc3-7a7b50a1cf67",
   "metadata": {},
   "outputs": [
    {
     "data": {
      "text/plain": [
       "5"
      ]
     },
     "execution_count": 27,
     "metadata": {},
     "output_type": "execute_result"
    }
   ],
   "source": [
    "s = Solution()\n",
    "s.countVowelStrings(1)"
   ]
  },
  {
   "cell_type": "code",
   "execution_count": 28,
   "id": "9173d11d-710d-47ad-b90e-3d6d64de8321",
   "metadata": {},
   "outputs": [
    {
     "data": {
      "text/plain": [
       "15"
      ]
     },
     "execution_count": 28,
     "metadata": {},
     "output_type": "execute_result"
    }
   ],
   "source": [
    "s.countVowelStrings(2)"
   ]
  },
  {
   "cell_type": "code",
   "execution_count": 29,
   "id": "68c25236-480d-400b-855f-2f2eab2cdeca",
   "metadata": {},
   "outputs": [
    {
     "data": {
      "text/plain": [
       "66045"
      ]
     },
     "execution_count": 29,
     "metadata": {},
     "output_type": "execute_result"
    }
   ],
   "source": [
    "s.countVowelStrings(33)"
   ]
  },
  {
   "cell_type": "code",
   "execution_count": 30,
   "id": "54418d76-0dd1-4860-b7c1-c5497f3ded17",
   "metadata": {},
   "outputs": [
    {
     "data": {
      "text/plain": [
       "316251"
      ]
     },
     "execution_count": 30,
     "metadata": {},
     "output_type": "execute_result"
    }
   ],
   "source": [
    "s.countVowelStrings(50)"
   ]
  },
  {
   "cell_type": "code",
   "execution_count": null,
   "id": "a83213ec-1537-436b-9723-d3278df18711",
   "metadata": {},
   "outputs": [],
   "source": []
  }
 ],
 "metadata": {
  "kernelspec": {
   "display_name": "Python 3 (ipykernel)",
   "language": "python",
   "name": "python3"
  },
  "language_info": {
   "codemirror_mode": {
    "name": "ipython",
    "version": 3
   },
   "file_extension": ".py",
   "mimetype": "text/x-python",
   "name": "python",
   "nbconvert_exporter": "python",
   "pygments_lexer": "ipython3",
   "version": "3.9.10"
  }
 },
 "nbformat": 4,
 "nbformat_minor": 5
}
