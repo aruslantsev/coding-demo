{
 "cells": [
  {
   "cell_type": "markdown",
   "id": "df444789-1026-4690-8e0e-a985b11516c0",
   "metadata": {},
   "source": [
    "You are given an integer array nums consisting of 2 * n integers.\n",
    "\n",
    "You need to divide nums into n pairs such that:\n",
    "\n",
    "    Each element belongs to exactly one pair.\n",
    "    The elements present in a pair are equal.\n",
    "\n",
    "Return true if nums can be divided into n pairs, otherwise return false.\n",
    "\n",
    " \n",
    "\n",
    "Example 1:\n",
    "\n",
    "Input: nums = [3,2,3,2,2,2]\n",
    "Output: true\n",
    "Explanation: \n",
    "There are 6 elements in nums, so they should be divided into 6 / 2 = 3 pairs.\n",
    "If nums is divided into the pairs (2, 2), (3, 3), and (2, 2), it will satisfy all the conditions.\n",
    "\n",
    "Example 2:\n",
    "\n",
    "Input: nums = [1,2,3,4]\n",
    "Output: false\n",
    "Explanation: \n",
    "There is no way to divide nums into 4 / 2 = 2 pairs such that the pairs satisfy every condition.\n",
    "\n",
    " \n",
    "\n",
    "Constraints:\n",
    "\n",
    "    nums.length == 2 * n\n",
    "    1 <= n <= 500\n",
    "    1 <= nums[i] <= 500\n",
    "\n"
   ]
  },
  {
   "cell_type": "code",
   "execution_count": null,
   "id": "baeb9f1a-5637-42ba-92a7-7fb0a23260b5",
   "metadata": {},
   "outputs": [],
   "source": [
    "class Solution:\n",
    "    def divideArray(self, nums: List[int]) -> bool:\n",
    "        ans = 0\n",
    "        for num in nums:\n",
    "            ans ^= 1 << num\n",
    "\n",
    "        return ans == 0"
   ]
  }
 ],
 "metadata": {
  "kernelspec": {
   "display_name": "Python 3 (ipykernel)",
   "language": "python",
   "name": "python3"
  },
  "language_info": {
   "codemirror_mode": {
    "name": "ipython",
    "version": 3
   },
   "file_extension": ".py",
   "mimetype": "text/x-python",
   "name": "python",
   "nbconvert_exporter": "python",
   "pygments_lexer": "ipython3",
   "version": "3.12.7"
  }
 },
 "nbformat": 4,
 "nbformat_minor": 5
}
