{
 "cells": [
  {
   "cell_type": "markdown",
   "id": "7e04dd59-6874-4ab3-ab76-67d1682c9775",
   "metadata": {},
   "source": [
    "You are given a string word and an integer k.\n",
    "\n",
    "We consider word to be k-special if |freq(word[i]) - freq(word[j])| <= k for all indices i and j in the string.\n",
    "\n",
    "Here, freq(x) denotes the\n",
    "\n",
    "of the character x in word, and |y| denotes the absolute value of y.\n",
    "\n",
    "Return the minimum number of characters you need to delete to make word k-special.\n",
    "\n",
    " \n",
    "\n",
    "Example 1:\n",
    "\n",
    "Input: word = \"aabcaba\", k = 0\n",
    "\n",
    "Output: 3\n",
    "\n",
    "Explanation: We can make word 0-special by deleting 2 occurrences of \"a\" and 1 occurrence of \"c\". Therefore, word becomes equal to \"baba\" where freq('a') == freq('b') == 2.\n",
    "\n",
    "Example 2:\n",
    "\n",
    "Input: word = \"dabdcbdcdcd\", k = 2\n",
    "\n",
    "Output: 2\n",
    "\n",
    "Explanation: We can make word 2-special by deleting 1 occurrence of \"a\" and 1 occurrence of \"d\". Therefore, word becomes equal to \"bdcbdcdcd\" where freq('b') == 2, freq('c') == 3, and freq('d') == 4.\n",
    "\n",
    "Example 3:\n",
    "\n",
    "Input: word = \"aaabaaa\", k = 2\n",
    "\n",
    "Output: 1\n",
    "\n",
    "Explanation: We can make word 2-special by deleting 1 occurrence of \"b\". Therefore, word becomes equal to \"aaaaaa\" where each letter's frequency is now uniformly 6.\n",
    "\n",
    " \n",
    "\n",
    "Constraints:\n",
    "\n",
    "    1 <= word.length <= 105\n",
    "    0 <= k <= 105\n",
    "    word consists only of lowercase English letters.\n"
   ]
  },
  {
   "cell_type": "code",
   "execution_count": null,
   "id": "46cb71c2-f3e7-451c-a9a5-a4e851be258f",
   "metadata": {},
   "outputs": [],
   "source": [
    "class Solution:\n",
    "    def minimumDeletions(self, word: str, k: int) -> int:\n",
    "        freq = sorted(Counter(word).values())\n",
    "        ans = len(word)\n",
    "        for i in range(len(freq)):\n",
    "            work = deque(freq)\n",
    "            curr_ans = 0\n",
    "            for _ in range(i):\n",
    "                curr_ans += work.popleft()\n",
    "            while len(work) > 1:\n",
    "                curr = work.pop()\n",
    "                curr_ans += max(0, curr - work[0] - k)\n",
    "            ans = min(ans, curr_ans)\n",
    "        return ans"
   ]
  },
  {
   "cell_type": "code",
   "execution_count": null,
   "id": "37c6f35d-6a78-450b-a370-2c002c6590cb",
   "metadata": {},
   "outputs": [],
   "source": [
    "class Solution:\n",
    "    def minimumDeletions(self, word: str, k: int) -> int:\n",
    "        freq = sorted(Counter(word).values())\n",
    "        ans = len(word)\n",
    "        deleted = 0\n",
    "        for i in range(len(freq)):\n",
    "            if i > 0:\n",
    "                deleted += freq[i - 1]\n",
    "            curr = 0\n",
    "            for j in range(i, len(freq)):\n",
    "                curr += max(0, freq[j] - freq[i] - k)\n",
    "            ans = min(ans, deleted + curr)\n",
    "        return ans"
   ]
  }
 ],
 "metadata": {
  "kernelspec": {
   "display_name": "Python 3 (ipykernel)",
   "language": "python",
   "name": "python3"
  },
  "language_info": {
   "codemirror_mode": {
    "name": "ipython",
    "version": 3
   },
   "file_extension": ".py",
   "mimetype": "text/x-python",
   "name": "python",
   "nbconvert_exporter": "python",
   "pygments_lexer": "ipython3",
   "version": "3.13.4"
  }
 },
 "nbformat": 4,
 "nbformat_minor": 5
}
