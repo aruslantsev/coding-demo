{
 "cells": [
  {
   "cell_type": "markdown",
   "id": "c976943f-0ead-4f22-ae0e-e9388dc5fc41",
   "metadata": {},
   "source": [
    "Given an integer array nums, return the number of\n",
    "\n",
    "of length 3 such that the sum of the first and third numbers equals exactly half of the second number.\n",
    "\n",
    " \n",
    "\n",
    "Example 1:\n",
    "\n",
    "Input: nums = [1,2,1,4,1]\n",
    "\n",
    "Output: 1\n",
    "\n",
    "Explanation:\n",
    "\n",
    "Only the subarray [1,4,1] contains exactly 3 elements where the sum of the first and third numbers equals half the middle number.\n",
    "\n",
    "Example 2:\n",
    "\n",
    "Input: nums = [1,1,1]\n",
    "\n",
    "Output: 0\n",
    "\n",
    "Explanation:\n",
    "\n",
    "[1,1,1] is the only subarray of length 3. However, its first and third numbers do not add to half the middle number.\n",
    "\n",
    " \n",
    "\n",
    "Constraints:\n",
    "\n",
    "    3 <= nums.length <= 100\n",
    "    -100 <= nums[i] <= 100\n"
   ]
  },
  {
   "cell_type": "code",
   "execution_count": null,
   "id": "f56935b8-3304-4189-a88e-65bccb8d9717",
   "metadata": {},
   "outputs": [],
   "source": [
    "class Solution:\n",
    "    def countSubarrays(self, nums: List[int]) -> int:\n",
    "        ans = 0\n",
    "        for i in range(len(nums) - 2):\n",
    "            if nums[i] + nums[i + 2] == nums[i + 1] / 2:\n",
    "                ans += 1\n",
    "        return ans"
   ]
  }
 ],
 "metadata": {
  "kernelspec": {
   "display_name": "Python 3 (ipykernel)",
   "language": "python",
   "name": "python3"
  },
  "language_info": {
   "codemirror_mode": {
    "name": "ipython",
    "version": 3
   },
   "file_extension": ".py",
   "mimetype": "text/x-python",
   "name": "python",
   "nbconvert_exporter": "python",
   "pygments_lexer": "ipython3",
   "version": "3.12.9"
  }
 },
 "nbformat": 4,
 "nbformat_minor": 5
}
