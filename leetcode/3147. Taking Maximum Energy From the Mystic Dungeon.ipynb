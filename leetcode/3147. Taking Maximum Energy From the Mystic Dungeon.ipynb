{
 "cells": [
  {
   "cell_type": "markdown",
   "id": "526dec65-76c2-451b-97f3-6b0d35f2f878",
   "metadata": {},
   "source": [
    "In a mystic dungeon, n magicians are standing in a line. Each magician has an attribute that gives you energy. Some magicians can give you negative energy, which means taking energy from you.\n",
    "\n",
    "You have been cursed in such a way that after absorbing energy from magician i, you will be instantly transported to magician (i + k). This process will be repeated until you reach the magician where (i + k) does not exist.\n",
    "\n",
    "In other words, you will choose a starting point and then teleport with k jumps until you reach the end of the magicians' sequence, absorbing all the energy during the journey.\n",
    "\n",
    "You are given an array energy and an integer k. Return the maximum possible energy you can gain.\n",
    "\n",
    "Note that when you are reach a magician, you must take energy from them, whether it is negative or positive energy.\n",
    "\n",
    " \n",
    "\n",
    "Example 1:\n",
    "\n",
    "Input: energy = [5,2,-10,-5,1], k = 3\n",
    "\n",
    "Output: 3\n",
    "\n",
    "Explanation: We can gain a total energy of 3 by starting from magician 1 absorbing 2 + 1 = 3.\n",
    "\n",
    "Example 2:\n",
    "\n",
    "Input: energy = [-2,-3,-1], k = 2\n",
    "\n",
    "Output: -1\n",
    "\n",
    "Explanation: We can gain a total energy of -1 by starting from magician 2.\n",
    "\n",
    " \n",
    "\n",
    "Constraints:\n",
    "\n",
    "    1 <= energy.length <= 105\n",
    "    -1000 <= energy[i] <= 1000\n",
    "    1 <= k <= energy.length - 1\n",
    "\n",
    " "
   ]
  },
  {
   "cell_type": "code",
   "execution_count": null,
   "id": "387cb2d4-ba53-472b-a548-09b60cb2147f",
   "metadata": {},
   "outputs": [],
   "source": [
    "class Solution:\n",
    "    def maximumEnergy(self, energy: List[int], k: int) -> int:\n",
    "        ans = float(\"-inf\")\n",
    "        for i in range(len(energy) - k, len(energy)):\n",
    "            curr_score = 0\n",
    "            j = i\n",
    "            while j >= 0:\n",
    "                curr_score += energy[j]\n",
    "                j -= k\n",
    "                ans = max(ans, curr_score)\n",
    "        return ans"
   ]
  }
 ],
 "metadata": {
  "kernelspec": {
   "display_name": "Python 3 (ipykernel)",
   "language": "python",
   "name": "python3"
  },
  "language_info": {
   "codemirror_mode": {
    "name": "ipython",
    "version": 3
   },
   "file_extension": ".py",
   "mimetype": "text/x-python",
   "name": "python",
   "nbconvert_exporter": "python",
   "pygments_lexer": "ipython3",
   "version": "3.13.5"
  }
 },
 "nbformat": 4,
 "nbformat_minor": 5
}
