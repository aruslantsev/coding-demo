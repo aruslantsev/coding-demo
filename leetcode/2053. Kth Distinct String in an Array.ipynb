{
 "cells": [
  {
   "cell_type": "markdown",
   "id": "da7441d8-c281-49f7-a895-846688eeed35",
   "metadata": {},
   "source": [
    "A distinct string is a string that is present only once in an array.\n",
    "\n",
    "Given an array of strings arr, and an integer k, return the kth distinct string present in arr. If there are fewer than k distinct strings, return an empty string \"\".\n",
    "\n",
    "Note that the strings are considered in the order in which they appear in the array.\n",
    "\n",
    " \n",
    "\n",
    "Example 1:\n",
    "\n",
    "Input: arr = [\"d\",\"b\",\"c\",\"b\",\"c\",\"a\"], k = 2\n",
    "Output: \"a\"\n",
    "Explanation:\n",
    "The only distinct strings in arr are \"d\" and \"a\".\n",
    "\"d\" appears 1st, so it is the 1st distinct string.\n",
    "\"a\" appears 2nd, so it is the 2nd distinct string.\n",
    "Since k == 2, \"a\" is returned. \n",
    "\n",
    "Example 2:\n",
    "\n",
    "Input: arr = [\"aaa\",\"aa\",\"a\"], k = 1\n",
    "Output: \"aaa\"\n",
    "Explanation:\n",
    "All strings in arr are distinct, so the 1st string \"aaa\" is returned.\n",
    "\n",
    "Example 3:\n",
    "\n",
    "Input: arr = [\"a\",\"b\",\"a\"], k = 3\n",
    "Output: \"\"\n",
    "Explanation:\n",
    "The only distinct string is \"b\". Since there are fewer than 3 distinct strings, we return an empty string \"\".\n",
    "\n",
    " \n",
    "\n",
    "Constraints:\n",
    "\n",
    "    1 <= k <= arr.length <= 1000\n",
    "    1 <= arr[i].length <= 5\n",
    "    arr[i] consists of lowercase English letters.\n",
    "\n"
   ]
  },
  {
   "cell_type": "code",
   "execution_count": null,
   "id": "cd33e244-9fcc-4d18-b189-dbbc833aeeb4",
   "metadata": {},
   "outputs": [],
   "source": [
    "class Solution:\n",
    "    def kthDistinct(self, arr: List[str], k: int) -> str:\n",
    "        cnt = Counter(arr)\n",
    "        arr = [s for s in arr if cnt[s] == 1]\n",
    "        return \"\" if len(arr) < k else arr[k - 1]"
   ]
  }
 ],
 "metadata": {
  "kernelspec": {
   "display_name": "Python 3 (ipykernel)",
   "language": "python",
   "name": "python3"
  },
  "language_info": {
   "codemirror_mode": {
    "name": "ipython",
    "version": 3
   },
   "file_extension": ".py",
   "mimetype": "text/x-python",
   "name": "python",
   "nbconvert_exporter": "python",
   "pygments_lexer": "ipython3",
   "version": "3.12.3"
  }
 },
 "nbformat": 4,
 "nbformat_minor": 5
}
