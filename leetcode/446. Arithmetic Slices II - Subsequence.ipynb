{
 "cells": [
  {
   "cell_type": "markdown",
   "id": "4925b534-5a03-443d-af9f-76bcc5616fcc",
   "metadata": {},
   "source": [
    "Given an integer array nums, return the number of all the arithmetic subsequences of nums.\n",
    "\n",
    "A sequence of numbers is called arithmetic if it consists of at least three elements and if the difference between any two consecutive elements is the same.\n",
    "\n",
    "    For example, [1, 3, 5, 7, 9], [7, 7, 7, 7], and [3, -1, -5, -9] are arithmetic sequences.\n",
    "    For example, [1, 1, 2, 5, 7] is not an arithmetic sequence.\n",
    "\n",
    "A subsequence of an array is a sequence that can be formed by removing some elements (possibly none) of the array.\n",
    "\n",
    "    For example, [2,5,10] is a subsequence of [1,2,1,2,4,1,5,10].\n",
    "\n",
    "The test cases are generated so that the answer fits in 32-bit integer.\n",
    "\n",
    " \n",
    "\n",
    "Example 1:\n",
    "\n",
    "Input: nums = [2,4,6,8,10]\n",
    "Output: 7\n",
    "Explanation: All arithmetic subsequence slices are:\n",
    "[2,4,6]\n",
    "[4,6,8]\n",
    "[6,8,10]\n",
    "[2,4,6,8]\n",
    "[4,6,8,10]\n",
    "[2,4,6,8,10]\n",
    "[2,6,10]\n",
    "\n",
    "Example 2:\n",
    "\n",
    "Input: nums = [7,7,7,7,7]\n",
    "Output: 16\n",
    "Explanation: Any subsequence of this array is arithmetic.\n",
    "\n",
    " \n",
    "\n",
    "Constraints:\n",
    "\n",
    "    1  <= nums.length <= 1000\n",
    "    -231 <= nums[i] <= 231 - 1\n",
    "\n"
   ]
  },
  {
   "cell_type": "code",
   "execution_count": null,
   "id": "cbf15a3a-70c2-43dc-925e-82e782f528ac",
   "metadata": {},
   "outputs": [],
   "source": [
    "class Solution:\n",
    "    def numberOfArithmeticSlices(self, nums: List[int]) -> int:\n",
    "        dp = [defaultdict(int) for _ in nums]\n",
    "        res = 0\n",
    "        for i in range(len(nums)):\n",
    "            for j in range(i):\n",
    "                dif = nums[j] - nums[i]\n",
    "                res += dp[j][dif]\n",
    "                dp[i][dif] += dp[j][dif] + 1\n",
    "        return res"
   ]
  }
 ],
 "metadata": {
  "kernelspec": {
   "display_name": "Python 3 (ipykernel)",
   "language": "python",
   "name": "python3"
  },
  "language_info": {
   "codemirror_mode": {
    "name": "ipython",
    "version": 3
   },
   "file_extension": ".py",
   "mimetype": "text/x-python",
   "name": "python",
   "nbconvert_exporter": "python",
   "pygments_lexer": "ipython3",
   "version": "3.9.13"
  }
 },
 "nbformat": 4,
 "nbformat_minor": 5
}
