{
 "cells": [
  {
   "cell_type": "markdown",
   "id": "da545c6b-735b-47c4-9195-32260a65b43e",
   "metadata": {},
   "source": [
    "Given a string array words, return an array of all characters that show up in all strings within the words (including duplicates). You may return the answer in any order.\n",
    "\n",
    " \n",
    "\n",
    "Example 1:\n",
    "\n",
    "Input: words = [\"bella\",\"label\",\"roller\"]\n",
    "Output: [\"e\",\"l\",\"l\"]\n",
    "\n",
    "Example 2:\n",
    "\n",
    "Input: words = [\"cool\",\"lock\",\"cook\"]\n",
    "Output: [\"c\",\"o\"]\n",
    "\n",
    " \n",
    "\n",
    "Constraints:\n",
    "\n",
    "    1 <= words.length <= 100\n",
    "    1 <= words[i].length <= 100\n",
    "    words[i] consists of lowercase English letters.\n",
    "\n"
   ]
  },
  {
   "cell_type": "code",
   "execution_count": null,
   "id": "125363eb-a199-4356-bad7-3b2c87076004",
   "metadata": {},
   "outputs": [],
   "source": [
    "class Solution:\n",
    "    def commonChars(self, words: List[str]) -> List[str]:\n",
    "        ans = {chr(char): 100 for char in range(ord(\"a\"), ord(\"z\") + 1)}\n",
    "        for word in words:\n",
    "            cnt = Counter(word)\n",
    "            for char in range(ord(\"a\"), ord(\"z\") + 1):\n",
    "                letter = chr(char)\n",
    "                if letter not in cnt:\n",
    "                    ans[letter] = 0\n",
    "                else:\n",
    "                    ans[letter] = min(ans[letter], cnt[letter]) \n",
    "\n",
    "        res = []\n",
    "        for k, v in ans.items():\n",
    "            res += [k] * v\n",
    "        return res"
   ]
  }
 ],
 "metadata": {
  "kernelspec": {
   "display_name": "Python 3 (ipykernel)",
   "language": "python",
   "name": "python3"
  },
  "language_info": {
   "codemirror_mode": {
    "name": "ipython",
    "version": 3
   },
   "file_extension": ".py",
   "mimetype": "text/x-python",
   "name": "python",
   "nbconvert_exporter": "python",
   "pygments_lexer": "ipython3",
   "version": "3.12.3"
  }
 },
 "nbformat": 4,
 "nbformat_minor": 5
}
