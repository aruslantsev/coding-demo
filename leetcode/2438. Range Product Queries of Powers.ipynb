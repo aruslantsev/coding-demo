{
 "cells": [
  {
   "cell_type": "markdown",
   "id": "e13c469c-31ac-450a-8d25-3375876eda63",
   "metadata": {},
   "source": [
    "Given a positive integer n, there exists a 0-indexed array called powers, composed of the minimum number of powers of 2 that sum to n. The array is sorted in non-decreasing order, and there is only one way to form the array.\n",
    "\n",
    "You are also given a 0-indexed 2D integer array queries, where queries[i] = [lefti, righti]. Each queries[i] represents a query where you have to find the product of all powers[j] with lefti <= j <= righti.\n",
    "\n",
    "Return an array answers, equal in length to queries, where answers[i] is the answer to the ith query. Since the answer to the ith query may be too large, each answers[i] should be returned modulo 109 + 7.\n",
    "\n",
    " \n",
    "\n",
    "Example 1:\n",
    "\n",
    "Input: n = 15, queries = [[0,1],[2,2],[0,3]]\n",
    "Output: [2,4,64]\n",
    "Explanation:\n",
    "For n = 15, powers = [1,2,4,8]. It can be shown that powers cannot be a smaller size.\n",
    "Answer to 1st query: powers[0] * powers[1] = 1 * 2 = 2.\n",
    "Answer to 2nd query: powers[2] = 4.\n",
    "Answer to 3rd query: powers[0] * powers[1] * powers[2] * powers[3] = 1 * 2 * 4 * 8 = 64.\n",
    "Each answer modulo 109 + 7 yields the same answer, so [2,4,64] is returned.\n",
    "\n",
    "Example 2:\n",
    "\n",
    "Input: n = 2, queries = [[0,0]]\n",
    "Output: [2]\n",
    "Explanation:\n",
    "For n = 2, powers = [2].\n",
    "The answer to the only query is powers[0] = 2. The answer modulo 109 + 7 is the same, so [2] is returned.\n",
    "\n",
    " \n",
    "\n",
    "Constraints:\n",
    "\n",
    "    1 <= n <= 109\n",
    "    1 <= queries.length <= 105\n",
    "    0 <= starti <= endi < powers.length\n",
    "\n"
   ]
  },
  {
   "cell_type": "code",
   "execution_count": null,
   "id": "3bdd0be9-34d1-4cfd-a3a7-68e023f31e64",
   "metadata": {},
   "outputs": [],
   "source": [
    "class Solution:\n",
    "    def productQueries(self, n: int, queries: List[List[int]]) -> List[int]:\n",
    "        mod = 10**9 + 7\n",
    "\n",
    "        bins, rep = [], 1\n",
    "        while n > 0:\n",
    "            if n % 2 == 1:\n",
    "                bins.append(rep)\n",
    "            n //= 2\n",
    "            rep *= 2\n",
    "\n",
    "        ans = []\n",
    "        for left, right in queries:\n",
    "            cur = 1\n",
    "            for i in range(left, right + 1):\n",
    "                cur = cur * bins[i] % mod\n",
    "            ans.append(cur)\n",
    "        return ans"
   ]
  }
 ],
 "metadata": {
  "kernelspec": {
   "display_name": "Python 3 (ipykernel)",
   "language": "python",
   "name": "python3"
  },
  "language_info": {
   "codemirror_mode": {
    "name": "ipython",
    "version": 3
   },
   "file_extension": ".py",
   "mimetype": "text/x-python",
   "name": "python",
   "nbconvert_exporter": "python",
   "pygments_lexer": "ipython3",
   "version": "3.13.5"
  }
 },
 "nbformat": 4,
 "nbformat_minor": 5
}
