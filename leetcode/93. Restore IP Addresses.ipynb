{
 "cells": [
  {
   "cell_type": "markdown",
   "id": "9ba21413-75c5-4eec-ba74-2bea3c24254a",
   "metadata": {},
   "source": [
    "A valid IP address consists of exactly four integers separated by single dots. Each integer is between 0 and 255 (inclusive) and cannot have leading zeros.\n",
    "\n",
    "    For example, \"0.1.2.201\" and \"192.168.1.1\" are valid IP addresses, but \"0.011.255.245\", \"192.168.1.312\" and \"192.168@1.1\" are invalid IP addresses.\n",
    "\n",
    "Given a string s containing only digits, return all possible valid IP addresses that can be formed by inserting dots into s. You are not allowed to reorder or remove any digits in s. You may return the valid IP addresses in any order.\n",
    "\n",
    " \n",
    "\n",
    "Example 1:\n",
    "\n",
    "Input: s = \"25525511135\"\n",
    "Output: [\"255.255.11.135\",\"255.255.111.35\"]\n",
    "\n",
    "Example 2:\n",
    "\n",
    "Input: s = \"0000\"\n",
    "Output: [\"0.0.0.0\"]\n",
    "\n",
    "Example 3:\n",
    "\n",
    "Input: s = \"101023\"\n",
    "Output: [\"1.0.10.23\",\"1.0.102.3\",\"10.1.0.23\",\"10.10.2.3\",\"101.0.2.3\"]\n",
    "\n",
    " \n",
    "\n",
    "Constraints:\n",
    "\n",
    "    1 <= s.length <= 20\n",
    "    s consists of digits only.\n",
    "\n"
   ]
  },
  {
   "cell_type": "code",
   "execution_count": null,
   "id": "795eea14-03d3-4cb5-bcbd-d58103b7a1e8",
   "metadata": {},
   "outputs": [],
   "source": [
    "class Solution:\n",
    "    def restoreIpAddresses(self, s: str) -> List[str]:\n",
    "        def intlen(st):\n",
    "            i = int(st)\n",
    "            l = 1\n",
    "            while i >= 10:\n",
    "                i /= 10\n",
    "                l += 1\n",
    "            return l\n",
    "        \n",
    "        if len(s) < 4:\n",
    "            return []\n",
    "        addr = []\n",
    "        def ip(start, remaining, splits, addr):\n",
    "            if remaining == 0:\n",
    "                if int(s[start:]) <= 255 and len(s[start:]) == intlen(s[start:]):\n",
    "                    addr.append(\n",
    "                        s[:splits[0]] \n",
    "                        + '.' + s[splits[0]:splits[1]]\n",
    "                        + '.' + s[splits[1]:splits[2]]\n",
    "                        + '.' + s[splits[2]:]\n",
    "                    )\n",
    "                return\n",
    "            for pos in range(start + 1, len(s)):\n",
    "                if int(s[start:pos]) <= 255 and intlen(s[start:pos]) == len(s[start:pos]):\n",
    "                    splits.append(pos)\n",
    "                    ip(pos, remaining - 1, splits, addr)\n",
    "                    splits.pop()\n",
    "                    \n",
    "        ip(0, 3, [], addr)\n",
    "        return addr\n",
    "            "
   ]
  }
 ],
 "metadata": {
  "kernelspec": {
   "display_name": "Python 3 (ipykernel)",
   "language": "python",
   "name": "python3"
  },
  "language_info": {
   "codemirror_mode": {
    "name": "ipython",
    "version": 3
   },
   "file_extension": ".py",
   "mimetype": "text/x-python",
   "name": "python",
   "nbconvert_exporter": "python",
   "pygments_lexer": "ipython3",
   "version": "3.10.8"
  }
 },
 "nbformat": 4,
 "nbformat_minor": 5
}
