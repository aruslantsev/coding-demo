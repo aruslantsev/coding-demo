{
 "cells": [
  {
   "cell_type": "markdown",
   "id": "4d294476-d66b-4a24-99a3-9780961cd3c9",
   "metadata": {},
   "source": [
    "Given a circular array nums, find the maximum absolute difference between adjacent elements.\n",
    "\n",
    "Note: In a circular array, the first and last elements are adjacent.\n",
    "\n",
    " \n",
    "\n",
    "Example 1:\n",
    "\n",
    "Input: nums = [1,2,4]\n",
    "\n",
    "Output: 3\n",
    "\n",
    "Explanation:\n",
    "\n",
    "Because nums is circular, nums[0] and nums[2] are adjacent. They have the maximum absolute difference of |4 - 1| = 3.\n",
    "\n",
    "Example 2:\n",
    "\n",
    "Input: nums = [-5,-10,-5]\n",
    "\n",
    "Output: 5\n",
    "\n",
    "Explanation:\n",
    "\n",
    "The adjacent elements nums[0] and nums[1] have the maximum absolute difference of |-5 - (-10)| = 5.\n",
    "\n",
    " \n",
    "\n",
    "Constraints:\n",
    "\n",
    "    2 <= nums.length <= 100\n",
    "    -100 <= nums[i] <= 100\n",
    "\n"
   ]
  },
  {
   "cell_type": "code",
   "execution_count": null,
   "id": "ca58794e-6a84-400a-9226-57dd7285af79",
   "metadata": {},
   "outputs": [],
   "source": [
    "class Solution:\n",
    "    def maxAdjacentDistance(self, nums: List[int]) -> int:\n",
    "        n = len(nums)\n",
    "        res = abs(nums[0] - nums[n - 1])\n",
    "        for i in range(n - 1):\n",
    "            res = max(res, abs(nums[i] - nums[i + 1]))\n",
    "        return res\n",
    "        "
   ]
  }
 ],
 "metadata": {
  "kernelspec": {
   "display_name": "Python 3 (ipykernel)",
   "language": "python",
   "name": "python3"
  },
  "language_info": {
   "codemirror_mode": {
    "name": "ipython",
    "version": 3
   },
   "file_extension": ".py",
   "mimetype": "text/x-python",
   "name": "python",
   "nbconvert_exporter": "python",
   "pygments_lexer": "ipython3",
   "version": "3.13.4"
  }
 },
 "nbformat": 4,
 "nbformat_minor": 5
}
