{
 "cells": [
  {
   "attachments": {
    "3c2fc134-6cf1-475d-834d-84b68b3cf604.png": {
     "image/png": "[encoded data removed]"
    },
    "7fa601b9-638d-471d-b80a-2ae13ce81152.png": {
     "image/png": "[encoded data removed]"
    }
   },
   "cell_type": "markdown",
   "id": "ffd49d99-01bb-45c8-8b92-cf8024bcd378",
   "metadata": {},
   "source": [
    "You are given a m x n matrix grid consisting of non-negative integers where grid[row][col] represents the minimum time required to be able to visit the cell (row, col), which means you can visit the cell (row, col) only when the time you visit it is greater than or equal to grid[row][col].\n",
    "\n",
    "You are standing in the top-left cell of the matrix in the 0th second, and you must move to any adjacent cell in the four directions: up, down, left, and right. Each move you make takes 1 second.\n",
    "\n",
    "Return the minimum time required in which you can visit the bottom-right cell of the matrix. If you cannot visit the bottom-right cell, then return -1.\n",
    "\n",
    " \n",
    "\n",
    "Example 1:\n",
    "\n",
    "![image.png](attachment:3c2fc134-6cf1-475d-834d-84b68b3cf604.png)\n",
    "\n",
    "Input: grid = [[0,1,3,2],[5,1,2,5],[4,3,8,6]]\n",
    "Output: 7\n",
    "Explanation: One of the paths that we can take is the following:\n",
    "- at t = 0, we are on the cell (0,0).\n",
    "- at t = 1, we move to the cell (0,1). It is possible because grid[0][1] <= 1.\n",
    "- at t = 2, we move to the cell (1,1). It is possible because grid[1][1] <= 2.\n",
    "- at t = 3, we move to the cell (1,2). It is possible because grid[1][2] <= 3.\n",
    "- at t = 4, we move to the cell (1,1). It is possible because grid[1][1] <= 4.\n",
    "- at t = 5, we move to the cell (1,2). It is possible because grid[1][2] <= 5.\n",
    "- at t = 6, we move to the cell (1,3). It is possible because grid[1][3] <= 6.\n",
    "- at t = 7, we move to the cell (2,3). It is possible because grid[2][3] <= 7.\n",
    "The final time is 7. It can be shown that it is the minimum time possible.\n",
    "\n",
    "Example 2:\n",
    "\n",
    "![image.png](attachment:7fa601b9-638d-471d-b80a-2ae13ce81152.png)\n",
    "\n",
    "Input: grid = [[0,2,4],[3,2,1],[1,0,4]]\n",
    "Output: -1\n",
    "Explanation: There is no path from the top left to the bottom-right cell.\n",
    "\n",
    " \n",
    "\n",
    "Constraints:\n",
    "\n",
    "    m == grid.length\n",
    "    n == grid[i].length\n",
    "    2 <= m, n <= 1000\n",
    "    4 <= m * n <= 105\n",
    "    0 <= grid[i][j] <= 105\n",
    "    grid[0][0] == 0\n",
    "\n",
    " "
   ]
  },
  {
   "cell_type": "code",
   "execution_count": null,
   "id": "1aeb71de-b583-454f-ad8b-1a6bd7e4ccd2",
   "metadata": {},
   "outputs": [],
   "source": [
    "class Solution:\n",
    "    def minimumTime(self, grid: List[List[int]]) -> int:\n",
    "        moves = [(0, 1), (0, -1), (1, 0), (-1, 0)]\n",
    "        m = len(grid)\n",
    "        n = len(grid[0])\n",
    "        if grid[0][1] > 1 and grid[1][0] > 1:\n",
    "            return -1\n",
    "        \n",
    "        times = [[float(\"inf\") for _ in grid[0]] for _ in grid]\n",
    "        q = [(0, 0, 0)]\n",
    "        while q:\n",
    "            time, row, col = heapq.heappop(q)\n",
    "            if times[row][col] == float(\"inf\"):\n",
    "                times[row][col] = time\n",
    "                time += 1\n",
    "                for move in moves:\n",
    "                    new_row, new_col = row + move[0], col + move[1]\n",
    "                    if 0 <= new_row < m and 0 <= new_col < n:\n",
    "                        addition = 0\n",
    "                        if grid[new_row][new_col] > time:\n",
    "                            addition = grid[new_row][new_col] - time + (grid[new_row][new_col] - time) % 2\n",
    "                        heapq.heappush(q, (time + addition, new_row, new_col))\n",
    "        return times[-1][-1]\n"
   ]
  }
 ],
 "metadata": {
  "kernelspec": {
   "display_name": "Python 3 (ipykernel)",
   "language": "python",
   "name": "python3"
  },
  "language_info": {
   "codemirror_mode": {
    "name": "ipython",
    "version": 3
   },
   "file_extension": ".py",
   "mimetype": "text/x-python",
   "name": "python",
   "nbconvert_exporter": "python",
   "pygments_lexer": "ipython3",
   "version": "3.12.7"
  }
 },
 "nbformat": 4,
 "nbformat_minor": 5
}
