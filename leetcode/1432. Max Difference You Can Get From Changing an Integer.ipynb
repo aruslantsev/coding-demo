{
 "cells": [
  {
   "cell_type": "markdown",
   "id": "4af256e3-0ed1-4bc7-b120-47d38f126753",
   "metadata": {},
   "source": [
    "You are given an integer num. You will apply the following steps to num two separate times:\n",
    "\n",
    "    Pick a digit x (0 <= x <= 9).\n",
    "    Pick another digit y (0 <= y <= 9). Note y can be equal to x.\n",
    "    Replace all the occurrences of x in the decimal representation of num by y.\n",
    "\n",
    "Let a and b be the two results from applying the operation to num independently.\n",
    "\n",
    "Return the max difference between a and b.\n",
    "\n",
    "Note that neither a nor b may have any leading zeros, and must not be 0.\n",
    "\n",
    " \n",
    "\n",
    "Example 1:\n",
    "\n",
    "Input: num = 555\n",
    "Output: 888\n",
    "Explanation: The first time pick x = 5 and y = 9 and store the new integer in a.\n",
    "The second time pick x = 5 and y = 1 and store the new integer in b.\n",
    "We have now a = 999 and b = 111 and max difference = 888\n",
    "\n",
    "Example 2:\n",
    "\n",
    "Input: num = 9\n",
    "Output: 8\n",
    "Explanation: The first time pick x = 9 and y = 9 and store the new integer in a.\n",
    "The second time pick x = 9 and y = 1 and store the new integer in b.\n",
    "We have now a = 9 and b = 1 and max difference = 8\n",
    "\n",
    " \n",
    "\n",
    "Constraints:\n",
    "\n",
    "    1 <= num <= 108\n",
    "\n"
   ]
  },
  {
   "cell_type": "code",
   "execution_count": null,
   "id": "aa037145-565f-4de1-92a8-36dc97c1b1cd",
   "metadata": {},
   "outputs": [],
   "source": [
    "class Solution:\n",
    "    def maxDiff(self, num: int) -> int:\n",
    "        def change(x, y):\n",
    "            return str(num).replace(str(x), str(y))\n",
    "\n",
    "        min_num = max_num = num\n",
    "        for x in range(10):\n",
    "            for y in range(10):\n",
    "                res = change(x, y)\n",
    "                # Check if there are leading zeros\n",
    "                if res[0] != \"0\":\n",
    "                    res_i = int(res)\n",
    "                    min_num = min(min_num, res_i)\n",
    "                    max_num = max(max_num, res_i)\n",
    "\n",
    "        return max_num - min_num"
   ]
  }
 ],
 "metadata": {
  "kernelspec": {
   "display_name": "Python 3 (ipykernel)",
   "language": "python",
   "name": "python3"
  },
  "language_info": {
   "codemirror_mode": {
    "name": "ipython",
    "version": 3
   },
   "file_extension": ".py",
   "mimetype": "text/x-python",
   "name": "python",
   "nbconvert_exporter": "python",
   "pygments_lexer": "ipython3",
   "version": "3.13.4"
  }
 },
 "nbformat": 4,
 "nbformat_minor": 5
}
