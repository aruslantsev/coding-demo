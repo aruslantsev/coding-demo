{
 "cells": [
  {
   "cell_type": "markdown",
   "id": "cba03598-ca5c-4aa5-98f5-2ed3ef4a1fad",
   "metadata": {},
   "source": [
    "Given an integer array arr of distinct integers and an integer k.\n",
    "\n",
    "A game will be played between the first two elements of the array (i.e. arr[0] and arr[1]). In each round of the game, we compare arr[0] with arr[1], the larger integer wins and remains at position 0, and the smaller integer moves to the end of the array. The game ends when an integer wins k consecutive rounds.\n",
    "\n",
    "Return the integer which will win the game.\n",
    "\n",
    "It is guaranteed that there will be a winner of the game.\n",
    "\n",
    " \n",
    "\n",
    "Example 1:\n",
    "\n",
    "Input: arr = [2,1,3,5,4,6,7], k = 2\n",
    "Output: 5\n",
    "Explanation: Let's see the rounds of the game:\n",
    "Round |       arr       | winner | win_count\n",
    "  1   | [2,1,3,5,4,6,7] | 2      | 1\n",
    "  2   | [2,3,5,4,6,7,1] | 3      | 1\n",
    "  3   | [3,5,4,6,7,1,2] | 5      | 1\n",
    "  4   | [5,4,6,7,1,2,3] | 5      | 2\n",
    "So we can see that 4 rounds will be played and 5 is the winner because it wins 2 consecutive games.\n",
    "\n",
    "Example 2:\n",
    "\n",
    "Input: arr = [3,2,1], k = 10\n",
    "Output: 3\n",
    "Explanation: 3 will win the first 10 rounds consecutively.\n",
    "\n",
    " \n",
    "\n",
    "Constraints:\n",
    "\n",
    "    2 <= arr.length <= 105\n",
    "    1 <= arr[i] <= 106\n",
    "    arr contains distinct integers.\n",
    "    1 <= k <= 109\n",
    "\n"
   ]
  },
  {
   "cell_type": "code",
   "execution_count": null,
   "id": "1b8897e7-6d91-4135-9f9a-18a083f48f66",
   "metadata": {},
   "outputs": [],
   "source": [
    "class Solution:\n",
    "    def getWinner(self, arr: List[int], k: int) -> int:\n",
    "        arr = deque(arr)\n",
    "        max_val = max(arr)\n",
    "        curr = arr.popleft()\n",
    "        winstreak = 0\n",
    "\n",
    "        while arr:\n",
    "            cand = arr.popleft()\n",
    "            if curr > cand:\n",
    "                winstreak += 1\n",
    "                arr.append(cand)\n",
    "            else:\n",
    "                winstreak = 1\n",
    "                arr.append(curr)\n",
    "                curr = cand\n",
    "            \n",
    "            if winstreak == k or curr == max_val:\n",
    "                return curr\n"
   ]
  }
 ],
 "metadata": {
  "kernelspec": {
   "display_name": "Python 3 (ipykernel)",
   "language": "python",
   "name": "python3"
  },
  "language_info": {
   "codemirror_mode": {
    "name": "ipython",
    "version": 3
   },
   "file_extension": ".py",
   "mimetype": "text/x-python",
   "name": "python",
   "nbconvert_exporter": "python",
   "pygments_lexer": "ipython3",
   "version": "3.11.4"
  }
 },
 "nbformat": 4,
 "nbformat_minor": 5
}
