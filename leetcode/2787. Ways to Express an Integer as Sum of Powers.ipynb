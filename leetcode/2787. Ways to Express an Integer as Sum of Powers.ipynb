{
 "cells": [
  {
   "cell_type": "markdown",
   "id": "99f42ae2-b137-4b31-af29-7e787a9cb5f0",
   "metadata": {},
   "source": [
    "Given two positive integers n and x.\n",
    "\n",
    "Return the number of ways n can be expressed as the sum of the xth power of unique positive integers, in other words, the number of sets of unique integers [n1, n2, ..., nk] where n = n1x + n2x + ... + nkx.\n",
    "\n",
    "Since the result can be very large, return it modulo 109 + 7.\n",
    "\n",
    "For example, if n = 160 and x = 3, one way to express n is n = 23 + 33 + 53.\n",
    "\n",
    " \n",
    "\n",
    "Example 1:\n",
    "\n",
    "Input: n = 10, x = 2\n",
    "Output: 1\n",
    "Explanation: We can express n as the following: n = 32 + 12 = 10.\n",
    "It can be shown that it is the only way to express 10 as the sum of the 2nd power of unique integers.\n",
    "\n",
    "Example 2:\n",
    "\n",
    "Input: n = 4, x = 1\n",
    "Output: 2\n",
    "Explanation: We can express n in the following ways:\n",
    "- n = 41 = 4.\n",
    "- n = 31 + 11 = 4.\n",
    "\n",
    " \n",
    "\n",
    "Constraints:\n",
    "\n",
    "    1 <= n <= 300\n",
    "    1 <= x <= 5\n",
    "\n"
   ]
  },
  {
   "cell_type": "code",
   "execution_count": null,
   "id": "e172c584-21b7-475c-8d0d-1a2c5b615cd0",
   "metadata": {},
   "outputs": [],
   "source": [
    "class Solution:\n",
    "    def numberOfWays(self, n: int, x: int) -> int:\n",
    "        MOD = 10**9 + 7\n",
    "        dp = [[0] * (n + 1) for _ in range(n + 1)]\n",
    "        dp[0][0] = 1\n",
    "        for i in range(1, n + 1):\n",
    "            val = i**x\n",
    "            for j in range(n + 1):\n",
    "                dp[i][j] = dp[i - 1][j]\n",
    "                if j >= val:\n",
    "                    dp[i][j] = (dp[i][j] + dp[i - 1][j - val]) % MOD\n",
    "        return dp[n][n]"
   ]
  }
 ],
 "metadata": {
  "kernelspec": {
   "display_name": "Python 3 (ipykernel)",
   "language": "python",
   "name": "python3"
  },
  "language_info": {
   "codemirror_mode": {
    "name": "ipython",
    "version": 3
   },
   "file_extension": ".py",
   "mimetype": "text/x-python",
   "name": "python",
   "nbconvert_exporter": "python",
   "pygments_lexer": "ipython3",
   "version": "3.13.5"
  }
 },
 "nbformat": 4,
 "nbformat_minor": 5
}
