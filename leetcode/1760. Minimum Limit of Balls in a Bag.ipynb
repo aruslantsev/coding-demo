{
 "cells": [
  {
   "cell_type": "markdown",
   "id": "eb414f32-ac1f-42d5-8abd-ba57d93e0fd7",
   "metadata": {},
   "source": [
    "You are given an integer array nums where the ith bag contains nums[i] balls. You are also given an integer maxOperations.\n",
    "\n",
    "You can perform the following operation at most maxOperations times:\n",
    "\n",
    "    Take any bag of balls and divide it into two new bags with a positive number of balls.\n",
    "        For example, a bag of 5 balls can become two new bags of 1 and 4 balls, or two new bags of 2 and 3 balls.\n",
    "\n",
    "Your penalty is the maximum number of balls in a bag. You want to minimize your penalty after the operations.\n",
    "\n",
    "Return the minimum possible penalty after performing the operations.\n",
    "\n",
    " \n",
    "\n",
    "Example 1:\n",
    "\n",
    "Input: nums = [9], maxOperations = 2\n",
    "Output: 3\n",
    "Explanation: \n",
    "- Divide the bag with 9 balls into two bags of sizes 6 and 3. [9] -> [6,3].\n",
    "- Divide the bag with 6 balls into two bags of sizes 3 and 3. [6,3] -> [3,3,3].\n",
    "The bag with the most number of balls has 3 balls, so your penalty is 3 and you should return 3.\n",
    "\n",
    "Example 2:\n",
    "\n",
    "Input: nums = [2,4,8,2], maxOperations = 4\n",
    "Output: 2\n",
    "Explanation:\n",
    "- Divide the bag with 8 balls into two bags of sizes 4 and 4. [2,4,8,2] -> [2,4,4,4,2].\n",
    "- Divide the bag with 4 balls into two bags of sizes 2 and 2. [2,4,4,4,2] -> [2,2,2,4,4,2].\n",
    "- Divide the bag with 4 balls into two bags of sizes 2 and 2. [2,2,2,4,4,2] -> [2,2,2,2,2,4,2].\n",
    "- Divide the bag with 4 balls into two bags of sizes 2 and 2. [2,2,2,2,2,4,2] -> [2,2,2,2,2,2,2,2].\n",
    "The bag with the most number of balls has 2 balls, so your penalty is 2, and you should return 2.\n",
    "\n",
    " \n",
    "\n",
    "Constraints:\n",
    "\n",
    "    1 <= nums.length <= 105\n",
    "    1 <= maxOperations, nums[i] <= 109\n",
    "\n"
   ]
  },
  {
   "cell_type": "code",
   "execution_count": null,
   "id": "903a9c61-8233-4393-a247-7ac37553bd72",
   "metadata": {},
   "outputs": [],
   "source": [
    "class Solution:\n",
    "    def minimumSize(self, nums: List[int], maxOperations: int) -> int:\n",
    "        l = 1\n",
    "        r = max(nums)\n",
    "        \n",
    "        while l < r:\n",
    "            m = (l + r) // 2\n",
    "            ops = 0\n",
    "            for num in nums:\n",
    "                ops += math.ceil(num / m) - 1\n",
    "            if ops > maxOperations:\n",
    "                l = m + 1\n",
    "            else:\n",
    "                r = m\n",
    "        return l\n",
    "                   "
   ]
  }
 ],
 "metadata": {
  "kernelspec": {
   "display_name": "Python 3 (ipykernel)",
   "language": "python",
   "name": "python3"
  },
  "language_info": {
   "codemirror_mode": {
    "name": "ipython",
    "version": 3
   },
   "file_extension": ".py",
   "mimetype": "text/x-python",
   "name": "python",
   "nbconvert_exporter": "python",
   "pygments_lexer": "ipython3",
   "version": "3.12.7"
  }
 },
 "nbformat": 4,
 "nbformat_minor": 5
}
