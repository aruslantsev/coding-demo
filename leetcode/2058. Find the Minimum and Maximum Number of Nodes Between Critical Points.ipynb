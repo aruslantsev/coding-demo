{
 "cells": [
  {
   "attachments": {
    "4bc54f99-4c4a-4eae-9663-d087622b23f2.png": {
     "image/png": "[encoded data removed]"
    },
    "8a456f5d-6966-4d2a-97e3-fdacf692bb51.png": {
     "image/png": "[encoded data removed]"
    },
    "b4584837-9a86-49dd-8efb-77a59cec520f.png": {
     "image/png": "[encoded data removed]"
    }
   },
   "cell_type": "markdown",
   "id": "f9742dec-4b01-4640-a9b6-a9a8b7b40811",
   "metadata": {},
   "source": [
    "A critical point in a linked list is defined as either a local maxima or a local minima.\n",
    "\n",
    "A node is a local maxima if the current node has a value strictly greater than the previous node and the next node.\n",
    "\n",
    "A node is a local minima if the current node has a value strictly smaller than the previous node and the next node.\n",
    "\n",
    "Note that a node can only be a local maxima/minima if there exists both a previous node and a next node.\n",
    "\n",
    "Given a linked list head, return an array of length 2 containing [minDistance, maxDistance] where minDistance is the minimum distance between any two distinct critical points and maxDistance is the maximum distance between any two distinct critical points. If there are fewer than two critical points, return [-1, -1].\n",
    "\n",
    " \n",
    "\n",
    "Example 1:\n",
    "\n",
    "![image.png](attachment:8a456f5d-6966-4d2a-97e3-fdacf692bb51.png)\n",
    "\n",
    "Input: head = [3,1]\n",
    "Output: [-1,-1]\n",
    "Explanation: There are no critical points in [3,1].\n",
    "\n",
    "Example 2:\n",
    "\n",
    "![image.png](attachment:b4584837-9a86-49dd-8efb-77a59cec520f.png)\n",
    "\n",
    "Input: head = [5,3,1,2,5,1,2]\n",
    "Output: [1,3]\n",
    "Explanation: There are three critical points:\n",
    "- [5,3,1,2,5,1,2]: The third node is a local minima because 1 is less than 3 and 2.\n",
    "- [5,3,1,2,5,1,2]: The fifth node is a local maxima because 5 is greater than 2 and 1.\n",
    "- [5,3,1,2,5,1,2]: The sixth node is a local minima because 1 is less than 5 and 2.\n",
    "The minimum distance is between the fifth and the sixth node. minDistance = 6 - 5 = 1.\n",
    "The maximum distance is between the third and the sixth node. maxDistance = 6 - 3 = 3.\n",
    "\n",
    "Example 3:\n",
    "\n",
    "![image.png](attachment:4bc54f99-4c4a-4eae-9663-d087622b23f2.png)\n",
    "\n",
    "Input: head = [1,3,2,2,3,2,2,2,7]\n",
    "Output: [3,3]\n",
    "Explanation: There are two critical points:\n",
    "- [1,3,2,2,3,2,2,2,7]: The second node is a local maxima because 3 is greater than 1 and 2.\n",
    "- [1,3,2,2,3,2,2,2,7]: The fifth node is a local maxima because 3 is greater than 2 and 2.\n",
    "Both the minimum and maximum distances are between the second and the fifth node.\n",
    "Thus, minDistance and maxDistance is 5 - 2 = 3.\n",
    "Note that the last node is not considered a local maxima because it does not have a next node.\n",
    "\n",
    " \n",
    "\n",
    "Constraints:\n",
    "\n",
    "    The number of nodes in the list is in the range [2, 105].\n",
    "    1 <= Node.val <= 105\n",
    "\n"
   ]
  },
  {
   "cell_type": "code",
   "execution_count": null,
   "id": "dc3bb849-ce3a-45c3-a0e4-023b97b53caf",
   "metadata": {},
   "outputs": [],
   "source": [
    "# Definition for singly-linked list.\n",
    "# class ListNode:\n",
    "#     def __init__(self, val=0, next=None):\n",
    "#         self.val = val\n",
    "#         self.next = next\n",
    "class Solution:\n",
    "    def nodesBetweenCriticalPoints(self, head: Optional[ListNode]) -> List[int]:\n",
    "        if not head or not head.next:\n",
    "            return [-1, -1]\n",
    "        \n",
    "        ans = [-1, -1]\n",
    "        pos = 1\n",
    "        prev = head\n",
    "        curr = head.next\n",
    "        pos = 1\n",
    "        \n",
    "        first_cp = -1\n",
    "        prev_cp = -1\n",
    "        dist = float(\"inf\")\n",
    "        \n",
    "        while curr.next:\n",
    "            if (\n",
    "                (prev.val < curr.val and curr.val > curr.next.val)\n",
    "                or (prev.val > curr.val and curr.val < curr.next.val)\n",
    "            ):\n",
    "                if first_cp == -1:\n",
    "                    first_cp = pos\n",
    "                if prev_cp != -1:\n",
    "                    dist = min(dist, pos - prev_cp)\n",
    "                    ans[0] = dist\n",
    "                    ans[1] = pos - first_cp\n",
    "                prev_cp = pos\n",
    "                \n",
    "            \n",
    "            prev = curr\n",
    "            curr = curr.next\n",
    "            pos += 1\n",
    "            \n",
    "        return ans\n",
    "            "
   ]
  }
 ],
 "metadata": {
  "kernelspec": {
   "display_name": "Python 3 (ipykernel)",
   "language": "python",
   "name": "python3"
  },
  "language_info": {
   "codemirror_mode": {
    "name": "ipython",
    "version": 3
   },
   "file_extension": ".py",
   "mimetype": "text/x-python",
   "name": "python",
   "nbconvert_exporter": "python",
   "pygments_lexer": "ipython3",
   "version": "3.12.3"
  }
 },
 "nbformat": 4,
 "nbformat_minor": 5
}
