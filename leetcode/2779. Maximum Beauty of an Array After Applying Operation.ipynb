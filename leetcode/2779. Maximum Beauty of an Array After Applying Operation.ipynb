{
 "cells": [
  {
   "cell_type": "markdown",
   "id": "3d31fbb4-6391-4bc4-9213-31b5eebed678",
   "metadata": {},
   "source": [
    "You are given a 0-indexed array nums and a non-negative integer k.\n",
    "\n",
    "In one operation, you can do the following:\n",
    "\n",
    "    Choose an index i that hasn't been chosen before from the range [0, nums.length - 1].\n",
    "    Replace nums[i] with any integer from the range [nums[i] - k, nums[i] + k].\n",
    "\n",
    "The beauty of the array is the length of the longest subsequence consisting of equal elements.\n",
    "\n",
    "Return the maximum possible beauty of the array nums after applying the operation any number of times.\n",
    "\n",
    "Note that you can apply the operation to each index only once.\n",
    "\n",
    "A subsequence of an array is a new array generated from the original array by deleting some elements (possibly none) without changing the order of the remaining elements.\n",
    "\n",
    " \n",
    "\n",
    "Example 1:\n",
    "\n",
    "Input: nums = [4,6,1,2], k = 2\n",
    "Output: 3\n",
    "Explanation: In this example, we apply the following operations:\n",
    "- Choose index 1, replace it with 4 (from range [4,8]), nums = [4,4,1,2].\n",
    "- Choose index 3, replace it with 4 (from range [0,4]), nums = [4,4,1,4].\n",
    "After the applied operations, the beauty of the array nums is 3 (subsequence consisting of indices 0, 1, and 3).\n",
    "It can be proven that 3 is the maximum possible length we can achieve.\n",
    "\n",
    "Example 2:\n",
    "\n",
    "Input: nums = [1,1,1,1], k = 10\n",
    "Output: 4\n",
    "Explanation: In this example we don't have to apply any operations.\n",
    "The beauty of the array nums is 4 (whole array).\n",
    "\n",
    " \n",
    "\n",
    "Constraints:\n",
    "\n",
    "    1 <= nums.length <= 105\n",
    "    0 <= nums[i], k <= 105\n",
    "\n"
   ]
  },
  {
   "cell_type": "code",
   "execution_count": null,
   "id": "8a2ccd10-dfa2-4f85-8c11-765d0b71c088",
   "metadata": {},
   "outputs": [],
   "source": [
    "class Solution:\n",
    "    def maximumBeauty(self, nums: List[int], k: int) -> int:\n",
    "        nums.sort()\n",
    "        ans = 0\n",
    "        for i, num in enumerate(nums):\n",
    "            b = bisect.bisect_right(nums, num + 2 * k)\n",
    "            ans = max(ans, b - i)\n",
    "        return ans\n",
    "        "
   ]
  }
 ],
 "metadata": {
  "kernelspec": {
   "display_name": "Python 3 (ipykernel)",
   "language": "python",
   "name": "python3"
  },
  "language_info": {
   "codemirror_mode": {
    "name": "ipython",
    "version": 3
   },
   "file_extension": ".py",
   "mimetype": "text/x-python",
   "name": "python",
   "nbconvert_exporter": "python",
   "pygments_lexer": "ipython3",
   "version": "3.12.7"
  }
 },
 "nbformat": 4,
 "nbformat_minor": 5
}
