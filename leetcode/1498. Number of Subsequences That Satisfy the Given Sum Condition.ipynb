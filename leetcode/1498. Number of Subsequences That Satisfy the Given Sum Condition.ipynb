{
 "cells": [
  {
   "cell_type": "markdown",
   "id": "352a8579-9614-49ce-9fa0-b7c2010e584b",
   "metadata": {},
   "source": [
    "You are given an array of integers nums and an integer target.\n",
    "\n",
    "Return the number of non-empty subsequences of nums such that the sum of the minimum and maximum element on it is less or equal to target. Since the answer may be too large, return it modulo 109 + 7.\n",
    "\n",
    " \n",
    "\n",
    "Example 1:\n",
    "\n",
    "Input: nums = [3,5,6,7], target = 9\n",
    "Output: 4\n",
    "Explanation: There are 4 subsequences that satisfy the condition.\n",
    "[3] -> Min value + max value <= target (3 + 3 <= 9)\n",
    "[3,5] -> (3 + 5 <= 9)\n",
    "[3,5,6] -> (3 + 6 <= 9)\n",
    "[3,6] -> (3 + 6 <= 9)\n",
    "\n",
    "Example 2:\n",
    "\n",
    "Input: nums = [3,3,6,8], target = 10\n",
    "Output: 6\n",
    "Explanation: There are 6 subsequences that satisfy the condition. (nums can have repeated numbers).\n",
    "[3] , [3] , [3,3], [3,6] , [3,6] , [3,3,6]\n",
    "\n",
    "Example 3:\n",
    "\n",
    "Input: nums = [2,3,3,4,6,7], target = 12\n",
    "Output: 61\n",
    "Explanation: There are 63 non-empty subsequences, two of them do not satisfy the condition ([6,7], [7]).\n",
    "Number of valid subsequences (63 - 2 = 61).\n",
    "\n",
    " \n",
    "\n",
    "Constraints:\n",
    "\n",
    "    1 <= nums.length <= 105\n",
    "    1 <= nums[i] <= 106\n",
    "    1 <= target <= 106\n",
    "\n"
   ]
  },
  {
   "cell_type": "code",
   "execution_count": null,
   "id": "d89b7c76-e378-4460-8e00-d8e001d1e70d",
   "metadata": {},
   "outputs": [],
   "source": [
    "class Solution:\n",
    "    def numSubseq(self, nums: List[int], target: int) -> int:\n",
    "        nums.sort()\n",
    "        l, r = 0, len(nums) - 1\n",
    "        res = 0\n",
    "        mod = 10**9 + 7\n",
    "        while l <= r:\n",
    "            if nums[l] + nums[r] > target:\n",
    "                r -= 1\n",
    "            else:\n",
    "                res += pow(2, r - l, mod)\n",
    "                l += 1\n",
    "        return res % mod"
   ]
  }
 ],
 "metadata": {
  "kernelspec": {
   "display_name": "Python 3 (ipykernel)",
   "language": "python",
   "name": "python3"
  },
  "language_info": {
   "codemirror_mode": {
    "name": "ipython",
    "version": 3
   },
   "file_extension": ".py",
   "mimetype": "text/x-python",
   "name": "python",
   "nbconvert_exporter": "python",
   "pygments_lexer": "ipython3",
   "version": "3.10.11"
  }
 },
 "nbformat": 4,
 "nbformat_minor": 5
}
