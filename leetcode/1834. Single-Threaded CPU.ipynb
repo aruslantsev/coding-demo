{
 "cells": [
  {
   "cell_type": "markdown",
   "id": "8ef3f0ff-b194-4cb5-a1cf-1a5d11dfee23",
   "metadata": {},
   "source": [
    "You are given n​​​​​​ tasks labeled from 0 to n - 1 represented by a 2D integer array tasks, where tasks[i] = [enqueueTimei, processingTimei] means that the i​​​​​​th​​​​ task will be available to process at enqueueTimei and will take processingTimei to finish processing.\n",
    "\n",
    "You have a single-threaded CPU that can process at most one task at a time and will act in the following way:\n",
    "\n",
    "    If the CPU is idle and there are no available tasks to process, the CPU remains idle.\n",
    "    If the CPU is idle and there are available tasks, the CPU will choose the one with the shortest processing time. If multiple tasks have the same shortest processing time, it will choose the task with the smallest index.\n",
    "    Once a task is started, the CPU will process the entire task without stopping.\n",
    "    The CPU can finish a task then start a new one instantly.\n",
    "\n",
    "Return the order in which the CPU will process the tasks.\n",
    "\n",
    " \n",
    "\n",
    "Example 1:\n",
    "\n",
    "Input: tasks = [[1,2],[2,4],[3,2],[4,1]]\n",
    "Output: [0,2,3,1]\n",
    "Explanation: The events go as follows: \n",
    "- At time = 1, task 0 is available to process. Available tasks = {0}.\n",
    "- Also at time = 1, the idle CPU starts processing task 0. Available tasks = {}.\n",
    "- At time = 2, task 1 is available to process. Available tasks = {1}.\n",
    "- At time = 3, task 2 is available to process. Available tasks = {1, 2}.\n",
    "- Also at time = 3, the CPU finishes task 0 and starts processing task 2 as it is the shortest. Available tasks = {1}.\n",
    "- At time = 4, task 3 is available to process. Available tasks = {1, 3}.\n",
    "- At time = 5, the CPU finishes task 2 and starts processing task 3 as it is the shortest. Available tasks = {1}.\n",
    "- At time = 6, the CPU finishes task 3 and starts processing task 1. Available tasks = {}.\n",
    "- At time = 10, the CPU finishes task 1 and becomes idle.\n",
    "\n",
    "Example 2:\n",
    "\n",
    "Input: tasks = [[7,10],[7,12],[7,5],[7,4],[7,2]]\n",
    "Output: [4,3,2,0,1]\n",
    "Explanation: The events go as follows:\n",
    "- At time = 7, all the tasks become available. Available tasks = {0,1,2,3,4}.\n",
    "- Also at time = 7, the idle CPU starts processing task 4. Available tasks = {0,1,2,3}.\n",
    "- At time = 9, the CPU finishes task 4 and starts processing task 3. Available tasks = {0,1,2}.\n",
    "- At time = 13, the CPU finishes task 3 and starts processing task 2. Available tasks = {0,1}.\n",
    "- At time = 18, the CPU finishes task 2 and starts processing task 0. Available tasks = {1}.\n",
    "- At time = 28, the CPU finishes task 0 and starts processing task 1. Available tasks = {}.\n",
    "- At time = 40, the CPU finishes task 1 and becomes idle.\n",
    "\n",
    " \n",
    "\n",
    "Constraints:\n",
    "\n",
    "    tasks.length == n\n",
    "    1 <= n <= 105\n",
    "    1 <= enqueueTimei, processingTimei <= 109\n",
    "\n"
   ]
  },
  {
   "cell_type": "code",
   "execution_count": 7,
   "id": "9462c36b-f03b-4d81-8966-b22548a2bb6d",
   "metadata": {},
   "outputs": [],
   "source": [
    "from heapq import *\n",
    "from typing import List\n",
    "\n",
    "class Solution:\n",
    "    def getOrder(self, tasks: List[List[int]]) -> List[int]:\n",
    "        tasks = sorted([(e, p, i) for i, (e, p) in enumerate(tasks)])\n",
    "        t = 0\n",
    "        h = []\n",
    "        heapify(h)\n",
    "        ans = []\n",
    "        k = len(tasks)\n",
    "        while len(ans) < k:\n",
    "            while tasks and tasks[0][0] <= t:\n",
    "                heappush(h, [tasks[0][1], tasks[0][2]])\n",
    "                tasks.pop(0)\n",
    "            if len(h) > 0:\n",
    "                time, idx = heappop(h)\n",
    "                ans.append(idx)\n",
    "                t += time\n",
    "            else:\n",
    "                t = tasks[0][0]\n",
    "    \n",
    "        return ans\n"
   ]
  },
  {
   "cell_type": "code",
   "execution_count": 8,
   "id": "599decc9-558f-4b71-8698-06a2c92daa17",
   "metadata": {},
   "outputs": [
    {
     "data": {
      "text/plain": [
       "[0, 2, 3, 1]"
      ]
     },
     "execution_count": 8,
     "metadata": {},
     "output_type": "execute_result"
    }
   ],
   "source": [
    "s = Solution()\n",
    "s.getOrder([[1,2],[2,4],[3,2],[4,1]])"
   ]
  },
  {
   "cell_type": "code",
   "execution_count": 9,
   "id": "0c856863-ea5d-43d5-89b6-cff99e5d809d",
   "metadata": {},
   "outputs": [
    {
     "data": {
      "text/plain": [
       "[4, 3, 2, 0, 1]"
      ]
     },
     "execution_count": 9,
     "metadata": {},
     "output_type": "execute_result"
    }
   ],
   "source": [
    "s.getOrder([[7,10],[7,12],[7,5],[7,4],[7,2]])"
   ]
  },
  {
   "cell_type": "code",
   "execution_count": null,
   "id": "a70e264c-af33-4790-9392-835dbf20acdc",
   "metadata": {},
   "outputs": [],
   "source": []
  }
 ],
 "metadata": {
  "kernelspec": {
   "display_name": "Python 3 (ipykernel)",
   "language": "python",
   "name": "python3"
  },
  "language_info": {
   "codemirror_mode": {
    "name": "ipython",
    "version": 3
   },
   "file_extension": ".py",
   "mimetype": "text/x-python",
   "name": "python",
   "nbconvert_exporter": "python",
   "pygments_lexer": "ipython3",
   "version": "3.9.13"
  }
 },
 "nbformat": 4,
 "nbformat_minor": 5
}
