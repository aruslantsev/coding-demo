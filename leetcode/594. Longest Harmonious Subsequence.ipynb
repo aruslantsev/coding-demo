{
 "cells": [
  {
   "cell_type": "markdown",
   "id": "c9f1f286-b37a-486a-8a61-41fbbada8acf",
   "metadata": {},
   "source": [
    "We define a harmonious array as an array where the difference between its maximum value and its minimum value is exactly 1.\n",
    "\n",
    "Given an integer array nums, return the length of its longest harmonious\n",
    "\n",
    "among all its possible subsequences.\n",
    "\n",
    " \n",
    "\n",
    "Example 1:\n",
    "\n",
    "Input: nums = [1,3,2,2,5,2,3,7]\n",
    "\n",
    "Output: 5\n",
    "\n",
    "Explanation:\n",
    "\n",
    "The longest harmonious subsequence is [3,2,2,2,3].\n",
    "\n",
    "Example 2:\n",
    "\n",
    "Input: nums = [1,2,3,4]\n",
    "\n",
    "Output: 2\n",
    "\n",
    "Explanation:\n",
    "\n",
    "The longest harmonious subsequences are [1,2], [2,3], and [3,4], all of which have a length of 2.\n",
    "\n",
    "Example 3:\n",
    "\n",
    "Input: nums = [1,1,1,1]\n",
    "\n",
    "Output: 0\n",
    "\n",
    "Explanation:\n",
    "\n",
    "No harmonic subsequence exists.\n"
   ]
  },
  {
   "cell_type": "code",
   "execution_count": null,
   "id": "c4a417f5-9d08-4b11-acd9-d36e338fab3e",
   "metadata": {},
   "outputs": [],
   "source": [
    "class Solution:\n",
    "    def findLHS(self, nums: List[int]) -> int:\n",
    "        nums.sort()\n",
    "        j = 0\n",
    "        maxLength = 0\n",
    "\n",
    "        for i in range(len(nums)):\n",
    "            while nums[i] - nums[j] > 1:\n",
    "                j += 1\n",
    "            if nums[i] - nums[j] == 1:\n",
    "                maxLength = max(maxLength, i - j + 1)\n",
    "        return maxLength"
   ]
  }
 ],
 "metadata": {
  "kernelspec": {
   "display_name": "common",
   "language": "python",
   "name": "common"
  },
  "language_info": {
   "codemirror_mode": {
    "name": "ipython",
    "version": 3
   },
   "file_extension": ".py",
   "mimetype": "text/x-python",
   "name": "python",
   "nbconvert_exporter": "python",
   "pygments_lexer": "ipython3",
   "version": "3.12.9"
  }
 },
 "nbformat": 4,
 "nbformat_minor": 5
}
