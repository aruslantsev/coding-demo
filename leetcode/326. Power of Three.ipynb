{
 "cells": [
  {
   "cell_type": "markdown",
   "id": "c47bb1b9-fe6e-4b42-aa17-19ec6cc510d9",
   "metadata": {},
   "source": [
    "Given an integer n, return true if it is a power of three. Otherwise, return false.\n",
    "\n",
    "An integer n is a power of three, if there exists an integer x such that n == 3x.\n",
    "\n",
    " \n",
    "\n",
    "Example 1:\n",
    "\n",
    "Input: n = 27\n",
    "Output: true\n",
    "\n",
    "Example 2:\n",
    "\n",
    "Input: n = 0\n",
    "Output: false\n",
    "\n",
    "Example 3:\n",
    "\n",
    "Input: n = 9\n",
    "Output: true\n",
    "\n",
    " \n",
    "\n",
    "Constraints:\n",
    "\n",
    "    -231 <= n <= 231 - 1\n",
    "\n",
    " \n",
    "Follow up: Could you solve it without loops/recursion?"
   ]
  },
  {
   "cell_type": "code",
   "execution_count": 1,
   "id": "d2c0368d-4e95-42af-a0a2-98883cac95eb",
   "metadata": {},
   "outputs": [],
   "source": [
    "from math import log\n",
    "\n",
    "class Solution:\n",
    "    def isPowerOfThree(self, n: int) -> bool:\n",
    "        if n <= 0:\n",
    "            return False\n",
    "        p = log(n, 3)\n",
    "        if p == int(p):\n",
    "            return True\n",
    "        \n",
    "        return False"
   ]
  },
  {
   "cell_type": "code",
   "execution_count": 11,
   "id": "3569bb23-d5a5-45fe-a4cb-cb6f97112cdc",
   "metadata": {},
   "outputs": [],
   "source": [
    "from math import log\n",
    "\n",
    "class Solution:\n",
    "    def isPowerOfThree(self, n: int) -> bool:\n",
    "        if n <= 0:\n",
    "            return False\n",
    "        return log10(n) / log10(3) % 1 == 0\n"
   ]
  },
  {
   "cell_type": "code",
   "execution_count": null,
   "id": "ff06ace9-e018-4c55-99c7-1a0da8cb4c18",
   "metadata": {},
   "outputs": [],
   "source": []
  }
 ],
 "metadata": {
  "kernelspec": {
   "display_name": "Python 3 (ipykernel)",
   "language": "python",
   "name": "python3"
  },
  "language_info": {
   "codemirror_mode": {
    "name": "ipython",
    "version": 3
   },
   "file_extension": ".py",
   "mimetype": "text/x-python",
   "name": "python",
   "nbconvert_exporter": "python",
   "pygments_lexer": "ipython3",
   "version": "3.9.12"
  }
 },
 "nbformat": 4,
 "nbformat_minor": 5
}
