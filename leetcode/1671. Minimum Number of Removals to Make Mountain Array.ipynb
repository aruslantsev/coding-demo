{
 "cells": [
  {
   "cell_type": "markdown",
   "id": "f205416f-208a-460d-b627-517b5c8d7e96",
   "metadata": {},
   "source": [
    "You may recall that an array arr is a mountain array if and only if:\n",
    "\n",
    "    arr.length >= 3\n",
    "    There exists some index i (0-indexed) with 0 < i < arr.length - 1 such that:\n",
    "        arr[0] < arr[1] < ... < arr[i - 1] < arr[i]\n",
    "        arr[i] > arr[i + 1] > ... > arr[arr.length - 1]\n",
    "\n",
    "Given an integer array nums​​​, return the minimum number of elements to remove to make nums​​​ a mountain array.\n",
    "\n",
    " \n",
    "\n",
    "Example 1:\n",
    "\n",
    "Input: nums = [1,3,1]\n",
    "Output: 0\n",
    "Explanation: The array itself is a mountain array so we do not need to remove any elements.\n",
    "\n",
    "Example 2:\n",
    "\n",
    "Input: nums = [2,1,1,5,6,2,3,1]\n",
    "Output: 3\n",
    "Explanation: One solution is to remove the elements at indices 0, 1, and 5, making the array nums = [1,5,6,3,1].\n"
   ]
  },
  {
   "cell_type": "code",
   "execution_count": null,
   "id": "1867dca3-74f9-498a-816d-fbb9f4c88c6a",
   "metadata": {},
   "outputs": [],
   "source": [
    "class Solution:\n",
    "    def minimumMountainRemovals(self, nums: List[int]) -> int:\n",
    "        N = len(nums)\n",
    "\n",
    "        lis_length = [1] * N\n",
    "        lds_length = [1] * N\n",
    "\n",
    "        # Stores the length of longest increasing subsequence that ends at i.\n",
    "        for i in range(N):\n",
    "            for j in range(i):\n",
    "                if nums[i] > nums[j]:\n",
    "                    lis_length[i] = max(lis_length[i], lis_length[j] + 1)\n",
    "\n",
    "        # Stores the length of longest decreasing subsequence that starts at i.\n",
    "        for i in range(N - 1, -1, -1):\n",
    "            for j in range(i + 1, N):\n",
    "                if nums[i] > nums[j]:\n",
    "                    lds_length[i] = max(lds_length[i], lds_length[j] + 1)\n",
    "\n",
    "        min_removals = float(\"inf\")\n",
    "        for i in range(N):\n",
    "            if lis_length[i] > 1 and lds_length[i] > 1:\n",
    "                min_removals = min(\n",
    "                    min_removals, N - lis_length[i] - lds_length[i] + 1\n",
    "                )\n",
    "\n",
    "        return min_removals"
   ]
  },
  {
   "cell_type": "code",
   "execution_count": null,
   "id": "8cf40d60-444b-44f0-8840-c3f723b6bf5f",
   "metadata": {},
   "outputs": [],
   "source": []
  }
 ],
 "metadata": {
  "kernelspec": {
   "display_name": "Python 3 (ipykernel)",
   "language": "python",
   "name": "python3"
  },
  "language_info": {
   "codemirror_mode": {
    "name": "ipython",
    "version": 3
   },
   "file_extension": ".py",
   "mimetype": "text/x-python",
   "name": "python",
   "nbconvert_exporter": "python",
   "pygments_lexer": "ipython3",
   "version": "3.12.7"
  }
 },
 "nbformat": 4,
 "nbformat_minor": 5
}
