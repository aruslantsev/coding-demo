{
 "cells": [
  {
   "cell_type": "markdown",
   "id": "22fef5af-5a77-48e7-8a5e-5604d1d6e7e7",
   "metadata": {},
   "source": [
    "You are given two 0-indexed strings str1 and str2.\n",
    "\n",
    "In an operation, you select a set of indices in str1, and for each index i in the set, increment str1[i] to the next character cyclically. That is 'a' becomes 'b', 'b' becomes 'c', and so on, and 'z' becomes 'a'.\n",
    "\n",
    "Return true if it is possible to make str2 a subsequence of str1 by performing the operation at most once, and false otherwise.\n",
    "\n",
    "Note: A subsequence of a string is a new string that is formed from the original string by deleting some (possibly none) of the characters without disturbing the relative positions of the remaining characters.\n",
    "\n",
    " \n",
    "\n",
    "Example 1:\n",
    "\n",
    "Input: str1 = \"abc\", str2 = \"ad\"\n",
    "Output: true\n",
    "Explanation: Select index 2 in str1.\n",
    "Increment str1[2] to become 'd'. \n",
    "Hence, str1 becomes \"abd\" and str2 is now a subsequence. Therefore, true is returned.\n",
    "\n",
    "Example 2:\n",
    "\n",
    "Input: str1 = \"zc\", str2 = \"ad\"\n",
    "Output: true\n",
    "Explanation: Select indices 0 and 1 in str1. \n",
    "Increment str1[0] to become 'a'. \n",
    "Increment str1[1] to become 'd'. \n",
    "Hence, str1 becomes \"ad\" and str2 is now a subsequence. Therefore, true is returned.\n",
    "\n",
    "Example 3:\n",
    "\n",
    "Input: str1 = \"ab\", str2 = \"d\"\n",
    "Output: false\n",
    "Explanation: In this example, it can be shown that it is impossible to make str2 a subsequence of str1 using the operation at most once. \n",
    "Therefore, false is returned.\n",
    "\n",
    " \n",
    "\n",
    "Constraints:\n",
    "\n",
    "    1 <= str1.length <= 105\n",
    "    1 <= str2.length <= 105\n",
    "    str1 and str2 consist of only lowercase English letters.\n",
    "\n"
   ]
  },
  {
   "cell_type": "code",
   "execution_count": null,
   "id": "64613840-f450-4a2d-8393-d2487858e058",
   "metadata": {},
   "outputs": [],
   "source": [
    "class Solution:\n",
    "    def canMakeSubsequence(self, str1: str, str2: str) -> bool:\n",
    "        str2_index = 0\n",
    "        length_str1, length_str2 = len(str1), len(str2)\n",
    "\n",
    "        # Traverse through both strings using a for loop\n",
    "        for str1_index in range(length_str1):\n",
    "            if str2_index < length_str2 and (\n",
    "                str1[str1_index] == str2[str2_index]\n",
    "                or ord(str1[str1_index]) + 1 == ord(str2[str2_index])\n",
    "                or ord(str1[str1_index]) - 25 == ord(str2[str2_index])\n",
    "            ):\n",
    "                # If match found, move to next character in str2\n",
    "                str2_index += 1\n",
    "\n",
    "        # Check if all characters in str2 were matched\n",
    "        return str2_index == length_str2"
   ]
  }
 ],
 "metadata": {
  "kernelspec": {
   "display_name": "Python 3 (ipykernel)",
   "language": "python",
   "name": "python3"
  },
  "language_info": {
   "codemirror_mode": {
    "name": "ipython",
    "version": 3
   },
   "file_extension": ".py",
   "mimetype": "text/x-python",
   "name": "python",
   "nbconvert_exporter": "python",
   "pygments_lexer": "ipython3",
   "version": "3.12.7"
  }
 },
 "nbformat": 4,
 "nbformat_minor": 5
}
