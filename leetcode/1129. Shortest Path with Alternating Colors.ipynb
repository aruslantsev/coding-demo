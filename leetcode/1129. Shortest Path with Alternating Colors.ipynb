{
 "cells": [
  {
   "cell_type": "markdown",
   "id": "c3a7e18e-eac4-4b1c-9d98-003ae34eb6d1",
   "metadata": {},
   "source": [
    "You are given an integer n, the number of nodes in a directed graph where the nodes are labeled from 0 to n - 1. Each edge is red or blue in this graph, and there could be self-edges and parallel edges.\n",
    "\n",
    "You are given two arrays redEdges and blueEdges where:\n",
    "\n",
    "    redEdges[i] = [ai, bi] indicates that there is a directed red edge from node ai to node bi in the graph, and\n",
    "    blueEdges[j] = [uj, vj] indicates that there is a directed blue edge from node uj to node vj in the graph.\n",
    "\n",
    "Return an array answer of length n, where each answer[x] is the length of the shortest path from node 0 to node x such that the edge colors alternate along the path, or -1 if such a path does not exist.\n",
    "\n",
    " \n",
    "\n",
    "Example 1:\n",
    "\n",
    "Input: n = 3, redEdges = [[0,1],[1,2]], blueEdges = []\n",
    "Output: [0,1,-1]\n",
    "\n",
    "Example 2:\n",
    "\n",
    "Input: n = 3, redEdges = [[0,1]], blueEdges = [[2,1]]\n",
    "Output: [0,1,-1]\n",
    "\n",
    " \n",
    "\n",
    "Constraints:\n",
    "\n",
    "    1 <= n <= 100\n",
    "    0 <= redEdges.length, blueEdges.length <= 400\n",
    "    redEdges[i].length == blueEdges[j].length == 2\n",
    "    0 <= ai, bi, uj, vj < n\n",
    "\n"
   ]
  },
  {
   "cell_type": "code",
   "execution_count": null,
   "id": "36f357b2-9b7a-43c2-bce3-ae5493f7f5f9",
   "metadata": {},
   "outputs": [],
   "source": [
    "from enum import Enum\n",
    "\n",
    "class Color(Enum):\n",
    "    kInit = 0\n",
    "    kRed = 1\n",
    "    kBlue = 2\n",
    "\n",
    "\n",
    "class Solution:\n",
    "    def shortestAlternatingPaths(self, n: int, redEdges: List[List[int]], blueEdges: List[List[int]]) -> List[int]:\n",
    "        ans = [-1] * n\n",
    "        graph = [[] for _ in range(n)]  # graph[u] := [(v, edgeColor)]\n",
    "        q = collections.deque([(0, Color.kInit)])  # [(u, prevColor)]\n",
    "\n",
    "        for u, v in redEdges:\n",
    "            graph[u].append((v, Color.kRed))\n",
    "\n",
    "        for u, v in blueEdges:\n",
    "            graph[u].append((v, Color.kBlue))\n",
    "\n",
    "        step = 0\n",
    "        while q:\n",
    "            for _ in range(len(q)):\n",
    "                u, prevColor = q.popleft()\n",
    "                if ans[u] == -1:\n",
    "                    ans[u] = step\n",
    "                for i, (v, edgeColor) in enumerate(graph[u]):\n",
    "                    if v == -1 or edgeColor == prevColor:\n",
    "                        continue\n",
    "                    q.append((v, edgeColor))\n",
    "                    graph[u][i] = (-1, edgeColor)  # Mark (u, v) as used.\n",
    "            step += 1\n",
    "\n",
    "        return ans"
   ]
  }
 ],
 "metadata": {
  "kernelspec": {
   "display_name": "Python 3 (ipykernel)",
   "language": "python",
   "name": "python3"
  },
  "language_info": {
   "codemirror_mode": {
    "name": "ipython",
    "version": 3
   },
   "file_extension": ".py",
   "mimetype": "text/x-python",
   "name": "python",
   "nbconvert_exporter": "python",
   "pygments_lexer": "ipython3",
   "version": "3.10.8"
  }
 },
 "nbformat": 4,
 "nbformat_minor": 5
}
