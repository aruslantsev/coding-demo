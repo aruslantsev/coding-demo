{
 "cells": [
  {
   "cell_type": "markdown",
   "id": "8c4b5053-28fe-4282-b4e0-63ed2b4c96e1",
   "metadata": {},
   "source": [
    "You are given a string s of lowercase English letters and a 2D integer array shifts where shifts[i] = [starti, endi, directioni]. For every i, shift the characters in s from the index starti to the index endi (inclusive) forward if directioni = 1, or shift the characters backward if directioni = 0.\n",
    "\n",
    "Shifting a character forward means replacing it with the next letter in the alphabet (wrapping around so that 'z' becomes 'a'). Similarly, shifting a character backward means replacing it with the previous letter in the alphabet (wrapping around so that 'a' becomes 'z').\n",
    "\n",
    "Return the final string after all such shifts to s are applied.\n",
    "\n",
    " \n",
    "\n",
    "Example 1:\n",
    "\n",
    "Input: s = \"abc\", shifts = [[0,1,0],[1,2,1],[0,2,1]]\n",
    "Output: \"ace\"\n",
    "Explanation: Firstly, shift the characters from index 0 to index 1 backward. Now s = \"zac\".\n",
    "Secondly, shift the characters from index 1 to index 2 forward. Now s = \"zbd\".\n",
    "Finally, shift the characters from index 0 to index 2 forward. Now s = \"ace\".\n",
    "\n",
    "Example 2:\n",
    "\n",
    "Input: s = \"dztz\", shifts = [[0,0,0],[1,1,1]]\n",
    "Output: \"catz\"\n",
    "Explanation: Firstly, shift the characters from index 0 to index 0 backward. Now s = \"cztz\".\n",
    "Finally, shift the characters from index 1 to index 1 forward. Now s = \"catz\".\n",
    "\n",
    " \n",
    "\n",
    "Constraints:\n",
    "\n",
    "    1 <= s.length, shifts.length <= 5 * 104\n",
    "    shifts[i].length == 3\n",
    "    0 <= starti <= endi < s.length\n",
    "    0 <= directioni <= 1\n",
    "    s consists of lowercase English letters.\n",
    "\n"
   ]
  },
  {
   "cell_type": "code",
   "execution_count": null,
   "id": "de3c16de-8d13-473e-8d74-447fb30f46e3",
   "metadata": {},
   "outputs": [],
   "source": [
    "class Solution:\n",
    "    def shiftingLetters(self, s: str, shifts: List[List[int]]) -> str:\n",
    "        n = len(s)\n",
    "        e = [0] * n\n",
    "        for shift in shifts:\n",
    "            if shift[2] == 1:\n",
    "                e[shift[0]] += 1\n",
    "                if shift[1] + 1 < n:\n",
    "                    e[shift[1] + 1] -= 1\n",
    "            else:\n",
    "                e[shift[0]] -= 1\n",
    "                if shift[1] + 1 < n:\n",
    "                    e[shift[1] + 1] += 1\n",
    "        curr_shift = 0\n",
    "        s = list(s)\n",
    "        for i in range(len(s)):\n",
    "            curr_shift += e[i]\n",
    "            s[i] = chr(\n",
    "                (ord(s[i])- ord(\"a\") + curr_shift) % 26 + ord(\"a\")\n",
    "            )\n",
    "        return ''.join(s)\n"
   ]
  }
 ],
 "metadata": {
  "kernelspec": {
   "display_name": "Python 3 (ipykernel)",
   "language": "python",
   "name": "python3"
  },
  "language_info": {
   "codemirror_mode": {
    "name": "ipython",
    "version": 3
   },
   "file_extension": ".py",
   "mimetype": "text/x-python",
   "name": "python",
   "nbconvert_exporter": "python",
   "pygments_lexer": "ipython3",
   "version": "3.12.7"
  }
 },
 "nbformat": 4,
 "nbformat_minor": 5
}
