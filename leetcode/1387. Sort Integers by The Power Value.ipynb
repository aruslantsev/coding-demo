{
 "cells": [
  {
   "cell_type": "markdown",
   "id": "d5a845d2-1164-4020-bb7d-5039abded020",
   "metadata": {},
   "source": [
    "The power of an integer x is defined as the number of steps needed to transform x into 1 using the following steps:\n",
    "\n",
    "    if x is even then x = x / 2\n",
    "    if x is odd then x = 3 * x + 1\n",
    "\n",
    "For example, the power of x = 3 is 7 because 3 needs 7 steps to become 1 (3 --> 10 --> 5 --> 16 --> 8 --> 4 --> 2 --> 1).\n",
    "\n",
    "Given three integers lo, hi and k. The task is to sort all integers in the interval [lo, hi] by the power value in ascending order, if two or more integers have the same power value sort them by ascending order.\n",
    "\n",
    "Return the kth integer in the range [lo, hi] sorted by the power value.\n",
    "\n",
    "Notice that for any integer x (lo <= x <= hi) it is guaranteed that x will transform into 1 using these steps and that the power of x is will fit in a 32-bit signed integer.\n",
    "\n",
    " \n",
    "\n",
    "Example 1:\n",
    "\n",
    "Input: lo = 12, hi = 15, k = 2\n",
    "Output: 13\n",
    "Explanation: The power of 12 is 9 (12 --> 6 --> 3 --> 10 --> 5 --> 16 --> 8 --> 4 --> 2 --> 1)\n",
    "The power of 13 is 9\n",
    "The power of 14 is 17\n",
    "The power of 15 is 17\n",
    "The interval sorted by the power value [12,13,14,15]. For k = 2 answer is the second element which is 13.\n",
    "Notice that 12 and 13 have the same power value and we sorted them in ascending order. Same for 14 and 15.\n",
    "\n",
    "Example 2:\n",
    "\n",
    "Input: lo = 7, hi = 11, k = 4\n",
    "Output: 7\n",
    "Explanation: The power array corresponding to the interval [7, 8, 9, 10, 11] is [16, 3, 19, 6, 14].\n",
    "The interval sorted by power is [8, 10, 11, 7, 9]"
   ]
  },
  {
   "cell_type": "code",
   "execution_count": 10,
   "id": "eaa923a2-db95-45c2-9440-0640ff466d08",
   "metadata": {},
   "outputs": [],
   "source": [
    "from functools import cache\n",
    "\n",
    "@cache\n",
    "def get_power(num):\n",
    "    if num == 1:\n",
    "        return 0\n",
    "    if num % 2 == 1:\n",
    "        return 1 + get_power(3 * num + 1)\n",
    "    else:\n",
    "        return 1 + get_power(num // 2)\n",
    "\n",
    "class Solution:\n",
    "    def getKth(self, lo: int, hi: int, k: int) -> int:\n",
    "        nums = [(num, get_power(num)) for num in range(lo, hi + 1)]\n",
    "        print(nums)\n",
    "        nums = sorted(nums, key=lambda x: (x[1], x[0]))\n",
    "        return nums[k - 1][0]"
   ]
  },
  {
   "cell_type": "code",
   "execution_count": 11,
   "id": "fbea02ca-fba8-4556-902a-30afbd8b16b8",
   "metadata": {},
   "outputs": [
    {
     "name": "stdout",
     "output_type": "stream",
     "text": [
      "[(12, 9), (13, 9), (14, 17), (15, 17)]\n"
     ]
    },
    {
     "data": {
      "text/plain": [
       "13"
      ]
     },
     "execution_count": 11,
     "metadata": {},
     "output_type": "execute_result"
    }
   ],
   "source": [
    "s = Solution()\n",
    "s.getKth(12, 15, 2)"
   ]
  },
  {
   "cell_type": "code",
   "execution_count": 12,
   "id": "d47f32a9-aa8f-4dd8-8d8f-32e3f768e70b",
   "metadata": {},
   "outputs": [
    {
     "name": "stdout",
     "output_type": "stream",
     "text": [
      "[(7, 16), (8, 3), (9, 19), (10, 6), (11, 14)]\n"
     ]
    },
    {
     "data": {
      "text/plain": [
       "7"
      ]
     },
     "execution_count": 12,
     "metadata": {},
     "output_type": "execute_result"
    }
   ],
   "source": [
    "s.getKth(7, 11, 4)"
   ]
  },
  {
   "cell_type": "code",
   "execution_count": null,
   "id": "de53e7af-1f47-4622-967a-6912ff7d2643",
   "metadata": {},
   "outputs": [],
   "source": []
  }
 ],
 "metadata": {
  "kernelspec": {
   "display_name": "Python 3 (ipykernel)",
   "language": "python",
   "name": "python3"
  },
  "language_info": {
   "codemirror_mode": {
    "name": "ipython",
    "version": 3
   },
   "file_extension": ".py",
   "mimetype": "text/x-python",
   "name": "python",
   "nbconvert_exporter": "python",
   "pygments_lexer": "ipython3",
   "version": "3.9.10"
  }
 },
 "nbformat": 4,
 "nbformat_minor": 5
}
