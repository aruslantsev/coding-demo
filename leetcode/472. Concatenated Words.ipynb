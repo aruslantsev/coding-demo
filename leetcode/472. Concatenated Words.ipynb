{
 "cells": [
  {
   "cell_type": "markdown",
   "id": "8d6afa2b-c131-4c9a-861a-159984bf5a70",
   "metadata": {},
   "source": [
    "Given an array of strings words (without duplicates), return all the concatenated words in the given list of words.\n",
    "\n",
    "A concatenated word is defined as a string that is comprised entirely of at least two shorter words in the given array.\n",
    "\n",
    " \n",
    "\n",
    "Example 1:\n",
    "\n",
    "Input: words = [\"cat\",\"cats\",\"catsdogcats\",\"dog\",\"dogcatsdog\",\"hippopotamuses\",\"rat\",\"ratcatdogcat\"]\n",
    "Output: [\"catsdogcats\",\"dogcatsdog\",\"ratcatdogcat\"]\n",
    "Explanation: \"catsdogcats\" can be concatenated by \"cats\", \"dog\" and \"cats\"; \n",
    "\"dogcatsdog\" can be concatenated by \"dog\", \"cats\" and \"dog\"; \n",
    "\"ratcatdogcat\" can be concatenated by \"rat\", \"cat\", \"dog\" and \"cat\".\n",
    "\n",
    "Example 2:\n",
    "\n",
    "Input: words = [\"cat\",\"dog\",\"catdog\"]\n",
    "Output: [\"catdog\"]\n",
    "\n",
    " \n",
    "\n",
    "Constraints:\n",
    "\n",
    "    1 <= words.length <= 104\n",
    "    1 <= words[i].length <= 30\n",
    "    words[i] consists of only lowercase English letters.\n",
    "    All the strings of words are unique.\n",
    "    1 <= sum(words[i].length) <= 105\n",
    "\n"
   ]
  },
  {
   "cell_type": "code",
   "execution_count": null,
   "id": "1be5917c-f6ea-467d-94ab-57b1da944014",
   "metadata": {},
   "outputs": [],
   "source": [
    "class Solution:\n",
    "    def findAllConcatenatedWordsInADict(self, words: List[str]) -> List[str]:\n",
    "        words = set(words)\n",
    "\n",
    "        @cache\n",
    "        def splits(word):\n",
    "            for i in range(len(word)):\n",
    "                l = word[:i]\n",
    "                r = word[i:]\n",
    "                if (l and r) and l in words and (r in words or splits(r)):\n",
    "                    return True\n",
    "            return False\n",
    "\n",
    "        ans = []\n",
    "        for word in words:\n",
    "            if splits(word):\n",
    "                ans.append(word)\n",
    "        \n",
    "        return ans\n",
    "\n"
   ]
  }
 ],
 "metadata": {
  "kernelspec": {
   "display_name": "Python 3 (ipykernel)",
   "language": "python",
   "name": "python3"
  },
  "language_info": {
   "codemirror_mode": {
    "name": "ipython",
    "version": 3
   },
   "file_extension": ".py",
   "mimetype": "text/x-python",
   "name": "python",
   "nbconvert_exporter": "python",
   "pygments_lexer": "ipython3",
   "version": "3.10.8"
  }
 },
 "nbformat": 4,
 "nbformat_minor": 5
}
