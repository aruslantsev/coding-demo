{
 "cells": [
  {
   "cell_type": "markdown",
   "id": "6c815cfc-ea83-4e37-96cc-0a1496f8bfa4",
   "metadata": {},
   "source": [
    "he score of an array is defined as the product of its sum and its length.\n",
    "\n",
    "    For example, the score of [1, 2, 3, 4, 5] is (1 + 2 + 3 + 4 + 5) * 5 = 75.\n",
    "\n",
    "Given a positive integer array nums and an integer k, return the number of non-empty subarrays of nums whose score is strictly less than k.\n",
    "\n",
    "A subarray is a contiguous sequence of elements within an array.\n",
    "\n",
    " \n",
    "\n",
    "Example 1:\n",
    "\n",
    "Input: nums = [2,1,4,3,5], k = 10\n",
    "Output: 6\n",
    "Explanation:\n",
    "The 6 subarrays having scores less than 10 are:\n",
    "- [2] with score 2 * 1 = 2.\n",
    "- [1] with score 1 * 1 = 1.\n",
    "- [4] with score 4 * 1 = 4.\n",
    "- [3] with score 3 * 1 = 3. \n",
    "- [5] with score 5 * 1 = 5.\n",
    "- [2,1] with score (2 + 1) * 2 = 6.\n",
    "Note that subarrays such as [1,4] and [4,3,5] are not considered because their scores are 10 and 36 respectively, while we need scores strictly less than 10.\n",
    "\n",
    "Example 2:\n",
    "\n",
    "Input: nums = [1,1,1], k = 5\n",
    "Output: 5\n",
    "Explanation:\n",
    "Every subarray except [1,1,1] has a score less than 5.\n",
    "[1,1,1] has a score (1 + 1 + 1) * 3 = 9, which is greater than 5.\n",
    "Thus, there are 5 subarrays having scores less than 5.\n",
    "\n",
    " \n",
    "\n",
    "Constraints:\n",
    "\n",
    "    1 <= nums.length <= 105\n",
    "    1 <= nums[i] <= 105\n",
    "    1 <= k <= 1015\n"
   ]
  },
  {
   "cell_type": "code",
   "execution_count": null,
   "id": "913c7c68-fc67-4722-a8a6-87a2f68fee62",
   "metadata": {},
   "outputs": [],
   "source": [
    "class Solution:\n",
    "    def countSubarrays(self, nums: List[int], k: int) -> int:\n",
    "        n = len(nums)\n",
    "        res, total = 0, 0\n",
    "        i = 0\n",
    "        for j in range(n):\n",
    "            total += nums[j]\n",
    "            while i <= j and total * (j - i + 1) >= k:\n",
    "                total -= nums[i]\n",
    "                i += 1\n",
    "            res += j - i + 1\n",
    "        return res"
   ]
  }
 ],
 "metadata": {
  "kernelspec": {
   "display_name": "Python 3 (ipykernel)",
   "language": "python",
   "name": "python3"
  },
  "language_info": {
   "codemirror_mode": {
    "name": "ipython",
    "version": 3
   },
   "file_extension": ".py",
   "mimetype": "text/x-python",
   "name": "python",
   "nbconvert_exporter": "python",
   "pygments_lexer": "ipython3",
   "version": "3.12.9"
  }
 },
 "nbformat": 4,
 "nbformat_minor": 5
}
