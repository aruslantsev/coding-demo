{
 "cells": [
  {
   "cell_type": "markdown",
   "id": "b6deca9a",
   "metadata": {},
   "source": [
    "Given two version numbers, version1 and version2, compare them.\n",
    "\n",
    "Version numbers consist of one or more revisions joined by a dot '.'. Each revision consists of digits and may contain leading zeros. Every revision contains at least one character. Revisions are 0-indexed from left to right, with the leftmost revision being revision 0, the next revision being revision 1, and so on. For example 2.5.33 and 0.1 are valid version numbers.\n",
    "\n",
    "To compare version numbers, compare their revisions in left-to-right order. Revisions are compared using their integer value ignoring any leading zeros. This means that revisions 1 and 001 are considered equal. If a version number does not specify a revision at an index, then treat the revision as 0. For example, version 1.0 is less than version 1.1 because their revision 0s are the same, but their revision 1s are 0 and 1 respectively, and 0 < 1.\n",
    "\n",
    "Return the following:\n",
    "\n",
    "If version1 < version2, return -1.\n",
    "If version1 > version2, return 1.\n",
    "Otherwise, return 0.\n",
    " \n",
    "\n",
    "Example 1:\n",
    "\n",
    "Input: version1 = \"1.01\", version2 = \"1.001\"\n",
    "Output: 0\n",
    "Explanation: Ignoring leading zeroes, both \"01\" and \"001\" represent the same integer \"1\".\n",
    "Example 2:\n",
    "\n",
    "Input: version1 = \"1.0\", version2 = \"1.0.0\"\n",
    "Output: 0\n",
    "Explanation: version1 does not specify revision 2, which means it is treated as \"0\".\n",
    "Example 3:\n",
    "\n",
    "Input: version1 = \"0.1\", version2 = \"1.1\"\n",
    "Output: -1\n",
    "Explanation: version1's revision 0 is \"0\", while version2's revision 0 is \"1\". 0 < 1, so version1 < version2.\n",
    " \n",
    "\n",
    "Constraints:\n",
    "\n",
    "1 <= version1.length, version2.length <= 500\n",
    "version1 and version2 only contain digits and '.'.\n",
    "version1 and version2 are valid version numbers.\n",
    "All the given revisions in version1 and version2 can be stored in a 32-bit integer."
   ]
  },
  {
   "cell_type": "code",
   "execution_count": 6,
   "id": "edbf92dc",
   "metadata": {},
   "outputs": [],
   "source": [
    "class Solution:\n",
    "    def compareVersion(self, version1: str, version2: str) -> int:\n",
    "        version1 = [int(v) for v in version1.split('.')]\n",
    "        version2 = [int(v) for v in version2.split('.')]\n",
    "        lv1 = len(version1)\n",
    "        lv2 = len(version2)\n",
    "        if lv1 > lv2:\n",
    "            version2 += [0] * (lv1 - lv2)\n",
    "        if lv2 > lv1:\n",
    "            version1 += [0] * (lv2 - lv1)\n",
    "            \n",
    "        for i in range(len(version1)):\n",
    "            if version1[i] < version2[i]:\n",
    "                return -1\n",
    "            if version1[i] > version2[i]:\n",
    "                return 1\n",
    "            \n",
    "        return 0"
   ]
  },
  {
   "cell_type": "code",
   "execution_count": 7,
   "id": "e4ecec26",
   "metadata": {},
   "outputs": [
    {
     "data": {
      "text/plain": [
       "0"
      ]
     },
     "execution_count": 7,
     "metadata": {},
     "output_type": "execute_result"
    }
   ],
   "source": [
    "s = Solution()\n",
    "s.compareVersion(\"1.01\", \"1.001.0\")"
   ]
  },
  {
   "cell_type": "code",
   "execution_count": null,
   "id": "127e8dfc",
   "metadata": {},
   "outputs": [],
   "source": []
  }
 ],
 "metadata": {
  "kernelspec": {
   "display_name": "Python 3 (ipykernel)",
   "language": "python",
   "name": "python3"
  },
  "language_info": {
   "codemirror_mode": {
    "name": "ipython",
    "version": 3
   },
   "file_extension": ".py",
   "mimetype": "text/x-python",
   "name": "python",
   "nbconvert_exporter": "python",
   "pygments_lexer": "ipython3",
   "version": "3.9.10"
  }
 },
 "nbformat": 4,
 "nbformat_minor": 5
}
