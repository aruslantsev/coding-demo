{
 "cells": [
  {
   "cell_type": "markdown",
   "id": "787d4311-51b9-4d7a-976c-74de5173a495",
   "metadata": {},
   "source": [
    "You are given two 2D integer arrays nums1 and nums2.\n",
    "\n",
    "    nums1[i] = [idi, vali] indicate that the number with the id idi has a value equal to vali.\n",
    "    nums2[i] = [idi, vali] indicate that the number with the id idi has a value equal to vali.\n",
    "\n",
    "Each array contains unique ids and is sorted in ascending order by id.\n",
    "\n",
    "Merge the two arrays into one array that is sorted in ascending order by id, respecting the following conditions:\n",
    "\n",
    "    Only ids that appear in at least one of the two arrays should be included in the resulting array.\n",
    "    Each id should be included only once and its value should be the sum of the values of this id in the two arrays. If the id does not exist in one of the two arrays, then assume its value in that array to be 0.\n",
    "\n",
    "Return the resulting array. The returned array must be sorted in ascending order by id.\n",
    "\n",
    " \n",
    "\n",
    "Example 1:\n",
    "\n",
    "Input: nums1 = [[1,2],[2,3],[4,5]], nums2 = [[1,4],[3,2],[4,1]]\n",
    "Output: [[1,6],[2,3],[3,2],[4,6]]\n",
    "Explanation: The resulting array contains the following:\n",
    "- id = 1, the value of this id is 2 + 4 = 6.\n",
    "- id = 2, the value of this id is 3.\n",
    "- id = 3, the value of this id is 2.\n",
    "- id = 4, the value of this id is 5 + 1 = 6.\n",
    "\n",
    "Example 2:\n",
    "\n",
    "Input: nums1 = [[2,4],[3,6],[5,5]], nums2 = [[1,3],[4,3]]\n",
    "Output: [[1,3],[2,4],[3,6],[4,3],[5,5]]\n",
    "Explanation: There are no common ids, so we just include each id with its value in the resulting list.\n",
    "\n",
    " \n",
    "\n",
    "Constraints:\n",
    "\n",
    "    1 <= nums1.length, nums2.length <= 200\n",
    "    nums1[i].length == nums2[j].length == 2\n",
    "    1 <= idi, vali <= 1000\n",
    "    Both arrays contain unique ids.\n",
    "    Both arrays are in strictly ascending order by id.\n",
    "\n"
   ]
  },
  {
   "cell_type": "code",
   "execution_count": null,
   "id": "2fcd0123-4322-47f8-8699-d4dea741e02a",
   "metadata": {},
   "outputs": [],
   "source": [
    "class Solution:\n",
    "    def mergeArrays(self, nums1: List[List[int]], nums2: List[List[int]]) -> List[List[int]]:\n",
    "        ans = defaultdict(int)\n",
    "        for pos, val in nums1:\n",
    "            ans[pos] += val\n",
    "        for pos, val in nums2:\n",
    "            ans[pos] += val\n",
    "        return [[pos, ans[pos]] for pos in sorted(ans.keys())]\n",
    "        "
   ]
  }
 ],
 "metadata": {
  "kernelspec": {
   "display_name": "Python 3 (ipykernel)",
   "language": "python",
   "name": "python3"
  },
  "language_info": {
   "codemirror_mode": {
    "name": "ipython",
    "version": 3
   },
   "file_extension": ".py",
   "mimetype": "text/x-python",
   "name": "python",
   "nbconvert_exporter": "python",
   "pygments_lexer": "ipython3",
   "version": "3.12.7"
  }
 },
 "nbformat": 4,
 "nbformat_minor": 5
}
