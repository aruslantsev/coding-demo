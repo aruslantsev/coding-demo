{
 "cells": [
  {
   "cell_type": "markdown",
   "id": "89e0a1be-aa34-4bd9-a959-8eb36160e344",
   "metadata": {},
   "source": [
    "There is a bookstore owner that has a store open for n minutes. Every minute, some number of customers enter the store. You are given an integer array customers of length n where customers[i] is the number of the customer that enters the store at the start of the ith minute and all those customers leave after the end of that minute.\n",
    "\n",
    "On some minutes, the bookstore owner is grumpy. You are given a binary array grumpy where grumpy[i] is 1 if the bookstore owner is grumpy during the ith minute, and is 0 otherwise.\n",
    "\n",
    "When the bookstore owner is grumpy, the customers of that minute are not satisfied, otherwise, they are satisfied.\n",
    "\n",
    "The bookstore owner knows a secret technique to keep themselves not grumpy for minutes consecutive minutes, but can only use it once.\n",
    "\n",
    "Return the maximum number of customers that can be satisfied throughout the day.\n",
    "\n",
    " \n",
    "\n",
    "Example 1:\n",
    "\n",
    "Input: customers = [1,0,1,2,1,1,7,5], grumpy = [0,1,0,1,0,1,0,1], minutes = 3\n",
    "Output: 16\n",
    "Explanation: The bookstore owner keeps themselves not grumpy for the last 3 minutes. \n",
    "The maximum number of customers that can be satisfied = 1 + 1 + 1 + 1 + 7 + 5 = 16.\n",
    "\n",
    "Example 2:\n",
    "\n",
    "Input: customers = [1], grumpy = [0], minutes = 1\n",
    "Output: 1\n",
    "\n",
    " \n",
    "\n",
    "Constraints:\n",
    "\n",
    "    n == customers.length == grumpy.length\n",
    "    1 <= minutes <= n <= 2 * 104\n",
    "    0 <= customers[i] <= 1000\n",
    "    grumpy[i] is either 0 or 1.\n",
    "\n"
   ]
  },
  {
   "cell_type": "code",
   "execution_count": null,
   "id": "11a450e7-9b1c-48f1-816c-fe896dbd3bf3",
   "metadata": {},
   "outputs": [],
   "source": [
    "class Solution:\n",
    "    def maxSatisfied(self, customers: List[int], grumpy: List[int], minutes: int) -> int:\n",
    "        n = len(customers)\n",
    "        unrealized_customers = 0\n",
    "\n",
    "        # Calculate initial number of unrealized customers in first 'minutes' window\n",
    "        for i in range(minutes):\n",
    "            unrealized_customers += customers[i] * grumpy[i]\n",
    "\n",
    "        max_unrealized_customers = unrealized_customers\n",
    "\n",
    "        # Slide the 'minutes' window across the rest of the customers array\n",
    "        for i in range(minutes, n):\n",
    "            # Add current minute's unsatisfied customers if the owner is grumpy\n",
    "            # and remove the customers that are out of the current window\n",
    "            unrealized_customers += customers[i] * grumpy[i]\n",
    "            unrealized_customers -= customers[i - minutes] * grumpy[i - minutes]\n",
    "\n",
    "            # Update the maximum unrealized customers\n",
    "            max_unrealized_customers = max(\n",
    "                max_unrealized_customers, unrealized_customers\n",
    "            )\n",
    "\n",
    "        # Start with maximum possible satisfied customers due to secret technique\n",
    "        total_customers = max_unrealized_customers\n",
    "\n",
    "        # Add the satisfied customers during non-grumpy minutes\n",
    "        for i in range(n):\n",
    "            total_customers += customers[i] * (1 - grumpy[i])\n",
    "\n",
    "        # Return the maximum number of satisfied customers\n",
    "        return total_customers"
   ]
  }
 ],
 "metadata": {
  "kernelspec": {
   "display_name": "Python 3 (ipykernel)",
   "language": "python",
   "name": "python3"
  },
  "language_info": {
   "codemirror_mode": {
    "name": "ipython",
    "version": 3
   },
   "file_extension": ".py",
   "mimetype": "text/x-python",
   "name": "python",
   "nbconvert_exporter": "python",
   "pygments_lexer": "ipython3",
   "version": "3.12.3"
  }
 },
 "nbformat": 4,
 "nbformat_minor": 5
}
