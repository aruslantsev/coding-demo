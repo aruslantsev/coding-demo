{
 "cells": [
  {
   "cell_type": "markdown",
   "id": "c97a72b2-69dd-478e-a3f5-bae611ca5ef5",
   "metadata": {},
   "source": [
    "You have two fruit baskets containing n fruits each. You are given two 0-indexed integer arrays basket1 and basket2 representing the cost of fruit in each basket. You want to make both baskets equal. To do so, you can use the following operation as many times as you want:\n",
    "\n",
    "    Choose two indices i and j, and swap the ith fruit of basket1 with the jth fruit of basket2.\n",
    "    The cost of the swap is min(basket1[i], basket2[j]).\n",
    "\n",
    "Two baskets are considered equal if sorting them according to the fruit cost makes them exactly the same baskets.\n",
    "\n",
    "Return the minimum cost to make both the baskets equal or -1 if impossible.\n",
    "\n",
    " \n",
    "\n",
    "Example 1:\n",
    "\n",
    "Input: basket1 = [4,2,2,2], basket2 = [1,4,1,2]\n",
    "Output: 1\n",
    "Explanation: Swap index 1 of basket1 with index 0 of basket2, which has cost 1. Now basket1 = [4,1,2,2] and basket2 = [2,4,1,2]. Rearranging both the arrays makes them equal.\n",
    "\n",
    "Example 2:\n",
    "\n",
    "Input: basket1 = [2,3,4,1], basket2 = [3,2,5,1]\n",
    "Output: -1\n",
    "Explanation: It can be shown that it is impossible to make both the baskets equal.\n",
    "\n",
    " \n",
    "\n",
    "Constraints:\n",
    "\n",
    "    basket1.length == basket2.length\n",
    "    1 <= basket1.length <= 105\n",
    "    1 <= basket1[i], basket2[i] <= 109\n",
    "\n"
   ]
  },
  {
   "cell_type": "code",
   "execution_count": null,
   "id": "8da3c196-6796-48fe-846d-488f0eb17b59",
   "metadata": {},
   "outputs": [],
   "source": [
    "class Solution:\n",
    "    def minCost(self, basket1: List[int], basket2: List[int]) -> int:\n",
    "        freq = defaultdict(int)\n",
    "        m = float(\"inf\")\n",
    "        for b in basket1:\n",
    "            freq[b] += 1\n",
    "            m = min(m, b)\n",
    "        for b in basket2:\n",
    "            freq[b] -= 1\n",
    "            m = min(m, b)\n",
    "\n",
    "        to_move = []\n",
    "        for n, f in freq.items():\n",
    "            if f % 2 != 0:\n",
    "                return -1\n",
    "            to_move.extend([n] * (abs(f) // 2))\n",
    "        if not to_move:\n",
    "            return 0\n",
    "        to_move.sort()\n",
    "        return sum(min(2 * m, x) for x in to_move[: len(to_move) // 2])"
   ]
  }
 ],
 "metadata": {
  "kernelspec": {
   "display_name": "Python 3 (ipykernel)",
   "language": "python",
   "name": "python3"
  },
  "language_info": {
   "codemirror_mode": {
    "name": "ipython",
    "version": 3
   },
   "file_extension": ".py",
   "mimetype": "text/x-python",
   "name": "python",
   "nbconvert_exporter": "python",
   "pygments_lexer": "ipython3",
   "version": "3.13.5"
  }
 },
 "nbformat": 4,
 "nbformat_minor": 5
}
