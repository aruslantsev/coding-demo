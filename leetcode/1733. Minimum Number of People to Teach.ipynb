{
 "cells": [
  {
   "cell_type": "markdown",
   "id": "a87d1cab-138c-4b9e-a10a-f6efca8c3055",
   "metadata": {},
   "source": [
    "On a social network consisting of m users and some friendships between users, two users can communicate with each other if they know a common language.\n",
    "\n",
    "You are given an integer n, an array languages, and an array friendships where:\n",
    "\n",
    "    There are n languages numbered 1 through n,\n",
    "    languages[i] is the set of languages the i​​​​​​th​​​​ user knows, and\n",
    "    friendships[i] = [u​​​​​​i​​​, v​​​​​​i] denotes a friendship between the users u​​​​​​​​​​​i​​​​​ and vi.\n",
    "\n",
    "You can choose one language and teach it to some users so that all friends can communicate with each other. Return the minimum number of users you need to teach.\n",
    "Note that friendships are not transitive, meaning if x is a friend of y and y is a friend of z, this doesn't guarantee that x is a friend of z.\n",
    "\n",
    " \n",
    "\n",
    "Example 1:\n",
    "\n",
    "Input: n = 2, languages = [[1],[2],[1,2]], friendships = [[1,2],[1,3],[2,3]]\n",
    "Output: 1\n",
    "Explanation: You can either teach user 1 the second language or user 2 the first language.\n",
    "\n",
    "Example 2:\n",
    "\n",
    "Input: n = 3, languages = [[2],[1,3],[1,2],[3]], friendships = [[1,4],[1,2],[3,4],[2,3]]\n",
    "Output: 2\n",
    "Explanation: Teach the third language to users 1 and 3, yielding two users to teach.\n",
    "\n",
    " \n",
    "\n",
    "Constraints:\n",
    "\n",
    "    2 <= n <= 500\n",
    "    languages.length == m\n",
    "    1 <= m <= 500\n",
    "    1 <= languages[i].length <= n\n",
    "    1 <= languages[i][j] <= n\n",
    "    1 <= u​​​​​​i < v​​​​​​i <= languages.length\n",
    "    1 <= friendships.length <= 500\n",
    "    All tuples (u​​​​​i, v​​​​​​i) are unique\n",
    "    languages[i] contains only unique values\n",
    "\n"
   ]
  },
  {
   "cell_type": "code",
   "execution_count": null,
   "id": "12179b6a-1ba9-42b2-8159-3113928dce35",
   "metadata": {},
   "outputs": [],
   "source": [
    "class Solution:\n",
    "    def minimumTeachings(self, n: int, languages: List[List[int]], friendships: List[List[int]]) -> int:\n",
    "        langs = []\n",
    "        for lang_arr in languages:\n",
    "            langs.append(set(lang_arr))\n",
    "        langs_cnt = [float(\"inf\")] + [0 for _ in range(n)]\n",
    "        for pair in friendships:\n",
    "            if not set(languages[pair[0] - 1]).intersection(set(languages[pair[1] - 1])):\n",
    "                for lang in range(1, n + 1):\n",
    "                    if lang not in langs[pair[0] - 1]:\n",
    "                        langs[pair[0] - 1].add(lang)\n",
    "                        langs_cnt[lang] += 1\n",
    "                    if lang not in langs[pair[1] - 1]:\n",
    "                        langs[pair[1] - 1].add(lang)\n",
    "                        langs_cnt[lang] += 1\n",
    "        return min(langs_cnt)"
   ]
  }
 ],
 "metadata": {
  "kernelspec": {
   "display_name": "Python 3 (ipykernel)",
   "language": "python",
   "name": "python3"
  },
  "language_info": {
   "codemirror_mode": {
    "name": "ipython",
    "version": 3
   },
   "file_extension": ".py",
   "mimetype": "text/x-python",
   "name": "python",
   "nbconvert_exporter": "python",
   "pygments_lexer": "ipython3",
   "version": "3.13.5"
  }
 },
 "nbformat": 4,
 "nbformat_minor": 5
}
