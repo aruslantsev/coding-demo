{
 "cells": [
  {
   "cell_type": "markdown",
   "id": "37b087ef-aacf-408b-9763-507f5cef12f5",
   "metadata": {},
   "source": [
    "Given an integer n, return the least number of perfect square numbers that sum to n.\n",
    "\n",
    "A perfect square is an integer that is the square of an integer; in other words, it is the product of some integer with itself. For example, 1, 4, 9, and 16 are perfect squares while 3 and 11 are not.\n",
    "\n",
    " \n",
    "\n",
    "Example 1:\n",
    "\n",
    "Input: n = 12\n",
    "Output: 3\n",
    "Explanation: 12 = 4 + 4 + 4.\n",
    "\n",
    "Example 2:\n",
    "\n",
    "Input: n = 13\n",
    "Output: 2\n",
    "Explanation: 13 = 4 + 9.\n",
    "\n",
    " \n",
    "\n",
    "Constraints:\n",
    "\n",
    "    1 <= n <= 104\n",
    "\n"
   ]
  },
  {
   "cell_type": "code",
   "execution_count": 38,
   "id": "30aad230-7312-41f5-a85c-9b7c15e15223",
   "metadata": {},
   "outputs": [],
   "source": [
    "from functools import cache\n",
    "from math import sqrt\n",
    "\n",
    "class Solution:\n",
    "    @cache\n",
    "    def numSquares(self, n: int) -> int:\n",
    "        if sqrt(n) % 1 == 0:\n",
    "            return 1\n",
    "        else:\n",
    "            return min(self.numSquares(i) + self.numSquares(n - i) for i in range(n - 1, 0, -1))\n",
    "                "
   ]
  },
  {
   "cell_type": "code",
   "execution_count": null,
   "id": "741399b9-edd5-4c13-b383-97b7111cb0ea",
   "metadata": {},
   "outputs": [],
   "source": [
    "class Solution:\n",
    "    dp = [0]\n",
    "\n",
    "    def numSquares(self, n: int) -> int:\n",
    "\n",
    "        dp = self.dp\n",
    "        \n",
    "        perfectSq = [pow(i, 2) for i in range(1, int(sqrt(n)) + 1)]\n",
    "\n",
    "        while len(dp) < n + 1:\n",
    "            \n",
    "            dpI = inf\n",
    "            \n",
    "            for ps in perfectSq:\n",
    "                if len(dp) < ps: \n",
    "                    break\n",
    "                dpI = min(dpI, 1 + dp[-ps])\n",
    "            \n",
    "            dp.append(dpI)\n",
    "        \n",
    "        return dp[n]"
   ]
  },
  {
   "cell_type": "code",
   "execution_count": 39,
   "id": "34541af7-d99f-4eff-9770-c0c4218bd3d1",
   "metadata": {},
   "outputs": [],
   "source": [
    "s = Solution()"
   ]
  },
  {
   "cell_type": "code",
   "execution_count": 40,
   "id": "ea086948-c3c9-4aa0-a709-f3b3c3671020",
   "metadata": {},
   "outputs": [
    {
     "data": {
      "text/plain": [
       "1"
      ]
     },
     "execution_count": 40,
     "metadata": {},
     "output_type": "execute_result"
    }
   ],
   "source": [
    "s.numSquares(4)"
   ]
  },
  {
   "cell_type": "code",
   "execution_count": 41,
   "id": "9eace794-6daf-4619-8d2b-f5db19c569fc",
   "metadata": {},
   "outputs": [
    {
     "data": {
      "text/plain": [
       "2"
      ]
     },
     "execution_count": 41,
     "metadata": {},
     "output_type": "execute_result"
    }
   ],
   "source": [
    "s.numSquares(5)"
   ]
  },
  {
   "cell_type": "code",
   "execution_count": 42,
   "id": "37df46af-75aa-4b5e-8ef2-ecb4cb9e9d3c",
   "metadata": {},
   "outputs": [
    {
     "data": {
      "text/plain": [
       "3"
      ]
     },
     "execution_count": 42,
     "metadata": {},
     "output_type": "execute_result"
    }
   ],
   "source": [
    "s.numSquares(12)"
   ]
  },
  {
   "cell_type": "code",
   "execution_count": 43,
   "id": "76ae4641-63d2-487d-8cdd-522abe70de11",
   "metadata": {},
   "outputs": [
    {
     "data": {
      "text/plain": [
       "2"
      ]
     },
     "execution_count": 43,
     "metadata": {},
     "output_type": "execute_result"
    }
   ],
   "source": [
    "s.numSquares(13)"
   ]
  },
  {
   "cell_type": "code",
   "execution_count": 44,
   "id": "015925a6-60b2-4637-b63d-cbcc7d142054",
   "metadata": {},
   "outputs": [
    {
     "data": {
      "text/plain": [
       "3"
      ]
     },
     "execution_count": 44,
     "metadata": {},
     "output_type": "execute_result"
    }
   ],
   "source": [
    "s.numSquares(478)"
   ]
  },
  {
   "cell_type": "code",
   "execution_count": null,
   "id": "3271747f-ec7d-4339-a714-b9201f86abeb",
   "metadata": {},
   "outputs": [],
   "source": []
  }
 ],
 "metadata": {
  "kernelspec": {
   "display_name": "Python 3 (ipykernel)",
   "language": "python",
   "name": "python3"
  },
  "language_info": {
   "codemirror_mode": {
    "name": "ipython",
    "version": 3
   },
   "file_extension": ".py",
   "mimetype": "text/x-python",
   "name": "python",
   "nbconvert_exporter": "python",
   "pygments_lexer": "ipython3",
   "version": "3.9.13"
  }
 },
 "nbformat": 4,
 "nbformat_minor": 5
}
