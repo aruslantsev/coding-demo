{
 "cells": [
  {
   "cell_type": "markdown",
   "id": "f9a8c203-bc53-4b0c-8cf5-62ffda94bcb1",
   "metadata": {},
   "source": [
    "You are given an array nums that consists of non-negative integers. Let us define rev(x) as the reverse of the non-negative integer x. For example, rev(123) = 321, and rev(120) = 21. A pair of indices (i, j) is nice if it satisfies all of the following conditions:\n",
    "\n",
    "    0 <= i < j < nums.length\n",
    "    nums[i] + rev(nums[j]) == nums[j] + rev(nums[i])\n",
    "\n",
    "Return the number of nice pairs of indices. Since that number can be too large, return it modulo 109 + 7.\n",
    "\n",
    " \n",
    "\n",
    "Example 1:\n",
    "\n",
    "Input: nums = [42,11,1,97]\n",
    "Output: 2\n",
    "Explanation: The two pairs are:\n",
    " - (0,3) : 42 + rev(97) = 42 + 79 = 121, 97 + rev(42) = 97 + 24 = 121.\n",
    " - (1,2) : 11 + rev(1) = 11 + 1 = 12, 1 + rev(11) = 1 + 11 = 12.\n",
    "\n",
    "Example 2:\n",
    "\n",
    "Input: nums = [13,10,35,24,76]\n",
    "Output: 4\n",
    "\n",
    " \n",
    "\n",
    "Constraints:\n",
    "\n",
    "    1 <= nums.length <= 105\n",
    "    0 <= nums[i] <= 109\n",
    "\n"
   ]
  },
  {
   "cell_type": "code",
   "execution_count": null,
   "id": "79b950e1-60f8-4814-b1c4-85912397d84a",
   "metadata": {},
   "outputs": [],
   "source": [
    "class Solution:\n",
    "    def countNicePairs(self, nums: List[int]) -> int:\n",
    "        def rev(num):\n",
    "            return int(str(num)[::-1])\n",
    "\n",
    "        arr = []\n",
    "        for num in nums:\n",
    "            arr.append(num - rev(num))\n",
    "\n",
    "        d = defaultdict(int)\n",
    "        ans = 0\n",
    "        for num in arr:\n",
    "            ans = (ans + d[num]) % (10**9 + 7)\n",
    "            d[num] += 1\n",
    "        \n",
    "        return ans"
   ]
  }
 ],
 "metadata": {
  "kernelspec": {
   "display_name": "Python 3 (ipykernel)",
   "language": "python",
   "name": "python3"
  },
  "language_info": {
   "codemirror_mode": {
    "name": "ipython",
    "version": 3
   },
   "file_extension": ".py",
   "mimetype": "text/x-python",
   "name": "python",
   "nbconvert_exporter": "python",
   "pygments_lexer": "ipython3",
   "version": "3.11.4"
  }
 },
 "nbformat": 4,
 "nbformat_minor": 5
}
