{
 "cells": [
  {
   "cell_type": "markdown",
   "id": "508e6a42-fdc2-4a4e-9ad8-da2924b3f3ce",
   "metadata": {},
   "source": [
    "A pangram is a sentence where every letter of the English alphabet appears at least once.\n",
    "\n",
    "Given a string sentence containing only lowercase English letters, return true if sentence is a pangram, or false otherwise.\n",
    "\n",
    " \n",
    "\n",
    "Example 1:\n",
    "\n",
    "Input: sentence = \"thequickbrownfoxjumpsoverthelazydog\"\n",
    "Output: true\n",
    "Explanation: sentence contains at least one of every letter of the English alphabet.\n",
    "\n",
    "Example 2:\n",
    "\n",
    "Input: sentence = \"leetcode\"\n",
    "Output: false\n",
    "\n",
    " \n",
    "\n",
    "Constraints:\n",
    "\n",
    "    1 <= sentence.length <= 1000\n",
    "    sentence consists of lowercase English letters.\n",
    "\n"
   ]
  },
  {
   "cell_type": "code",
   "execution_count": null,
   "id": "597a448d-66c8-419b-85c8-fb3b2b106821",
   "metadata": {},
   "outputs": [],
   "source": [
    "class Solution:\n",
    "    def checkIfPangram(self, sentence: str) -> bool:\n",
    "        c = Counter(sentence)\n",
    "        return len(c.keys()) == 26"
   ]
  },
  {
   "cell_type": "code",
   "execution_count": null,
   "id": "dec32c02-3cef-4fc1-a5ef-513d7d1bc426",
   "metadata": {},
   "outputs": [],
   "source": [
    "class Solution:\n",
    "    def checkIfPangram(self, sentence: str) -> bool:\n",
    "        # Add every letter of 'sentence' to hash set 'seen'.\n",
    "        seen = set(sentence)\n",
    "        \n",
    "        # If the size of 'seen' is 26, then 'sentence' is a pangram.\n",
    "        return len(seen) == 26"
   ]
  },
  {
   "cell_type": "code",
   "execution_count": null,
   "id": "4921c41b-ca35-4d1d-99cd-1e7a0e153a1b",
   "metadata": {},
   "outputs": [],
   "source": [
    "class Solution:\n",
    "    def checkIfPangram(self, sentence: str) -> bool:\n",
    "        # We iterate over 'sentence' for 26 times, one for each letter 'curr_char'.\n",
    "        for i in range(26):\n",
    "            curr_char = chr(ord('a') + i)\n",
    "\n",
    "            # If 'sentence' doesn't contain 'curr_char', it is not a pangram.\n",
    "            if sentence.find(curr_char) == -1:\n",
    "                return False\n",
    "        \n",
    "        # If we manage to find all 26 letters, it is a pangram.\n",
    "        return True"
   ]
  }
 ],
 "metadata": {
  "kernelspec": {
   "display_name": "Python 3 (ipykernel)",
   "language": "python",
   "name": "python3"
  },
  "language_info": {
   "codemirror_mode": {
    "name": "ipython",
    "version": 3
   },
   "file_extension": ".py",
   "mimetype": "text/x-python",
   "name": "python",
   "nbconvert_exporter": "python",
   "pygments_lexer": "ipython3",
   "version": "3.9.13"
  }
 },
 "nbformat": 4,
 "nbformat_minor": 5
}
