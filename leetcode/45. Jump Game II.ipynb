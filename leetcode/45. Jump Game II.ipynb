{
 "cells": [
  {
   "cell_type": "markdown",
   "id": "730ff211",
   "metadata": {},
   "source": [
    "Given an array of non-negative integers nums, you are initially positioned at the first index of the array.\n",
    "\n",
    "Each element in the array represents your maximum jump length at that position.\n",
    "\n",
    "Your goal is to reach the last index in the minimum number of jumps.\n",
    "\n",
    "You can assume that you can always reach the last index.\n",
    "\n",
    " \n",
    "\n",
    "Example 1:\n",
    "\n",
    "Input: nums = [2,3,1,1,4]\n",
    "Output: 2\n",
    "Explanation: The minimum number of jumps to reach the last index is 2. Jump 1 step from index 0 to 1, then 3 steps to the last index.\n",
    "\n",
    "Example 2:\n",
    "\n",
    "Input: nums = [2,3,0,1,4]\n",
    "Output: 2\n",
    "\n",
    " \n",
    "\n",
    "Constraints:\n",
    "\n",
    "    1 <= nums.length <= 104\n",
    "    0 <= nums[i] <= 1000\n",
    "\n"
   ]
  },
  {
   "cell_type": "code",
   "execution_count": 15,
   "id": "3afbbeea",
   "metadata": {},
   "outputs": [],
   "source": [
    "from collections import deque\n",
    "from typing import List\n",
    "\n",
    "class Solution:\n",
    "    def jump(self, nums: List[int]) -> int:\n",
    "        steps = {0: 0}\n",
    "        for pos, num in enumerate(nums):\n",
    "            for step in range(pos, min(pos + num + 1, len(nums))):\n",
    "                if step not in steps:\n",
    "                    steps[step] = steps[pos] + 1\n",
    "                else:\n",
    "                    steps[step] = min(steps[pos] + 1, steps[step])\n",
    "            \n",
    "        return steps[len(nums) - 1]"
   ]
  },
  {
   "cell_type": "code",
   "execution_count": 20,
   "id": "25a9ab90",
   "metadata": {},
   "outputs": [],
   "source": [
    "from functools import cache\n",
    "\n",
    "class Solution:\n",
    "    def jump(self, nums: List[int]) -> int:\n",
    "        n = len(nums)\n",
    "\n",
    "        @cache\n",
    "        def f(i):  # max reachable in i steps\n",
    "            if i <= 0: \n",
    "                return 0\n",
    "            l, r = f(i-2), f(i-1)\n",
    "            return max(i + nums[i] for i in range(l, r + 1))\n",
    "\n",
    "        return next(j for j in range(n) if f(j) >= n - 1)"
   ]
  },
  {
   "cell_type": "code",
   "execution_count": 21,
   "id": "d89565ec",
   "metadata": {},
   "outputs": [
    {
     "data": {
      "text/plain": [
       "2"
      ]
     },
     "execution_count": 21,
     "metadata": {},
     "output_type": "execute_result"
    }
   ],
   "source": [
    "s = Solution()\n",
    "s.jump([2,3,1,1,4])"
   ]
  },
  {
   "cell_type": "code",
   "execution_count": 22,
   "id": "c4bb8e70",
   "metadata": {},
   "outputs": [
    {
     "data": {
      "text/plain": [
       "2"
      ]
     },
     "execution_count": 22,
     "metadata": {},
     "output_type": "execute_result"
    }
   ],
   "source": [
    "s.jump([2,3,0,1,4])"
   ]
  },
  {
   "cell_type": "code",
   "execution_count": null,
   "id": "b53ed427",
   "metadata": {},
   "outputs": [],
   "source": []
  }
 ],
 "metadata": {
  "kernelspec": {
   "display_name": "Python 3 (ipykernel)",
   "language": "python",
   "name": "python3"
  },
  "language_info": {
   "codemirror_mode": {
    "name": "ipython",
    "version": 3
   },
   "file_extension": ".py",
   "mimetype": "text/x-python",
   "name": "python",
   "nbconvert_exporter": "python",
   "pygments_lexer": "ipython3",
   "version": "3.9.10"
  }
 },
 "nbformat": 4,
 "nbformat_minor": 5
}
