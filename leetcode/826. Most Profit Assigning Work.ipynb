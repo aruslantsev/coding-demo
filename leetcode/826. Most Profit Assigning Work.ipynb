{
 "cells": [
  {
   "cell_type": "markdown",
   "id": "e503bc69-d01a-4601-bf60-84166207dfeb",
   "metadata": {},
   "source": [
    "You have n jobs and m workers. You are given three arrays: difficulty, profit, and worker where:\n",
    "\n",
    "    difficulty[i] and profit[i] are the difficulty and the profit of the ith job, and\n",
    "    worker[j] is the ability of jth worker (i.e., the jth worker can only complete a job with difficulty at most worker[j]).\n",
    "\n",
    "Every worker can be assigned at most one job, but one job can be completed multiple times.\n",
    "\n",
    "    For example, if three workers attempt the same job that pays $1, then the total profit will be $3. If a worker cannot complete any job, their profit is $0.\n",
    "\n",
    "Return the maximum profit we can achieve after assigning the workers to the jobs.\n",
    "\n",
    " \n",
    "\n",
    "Example 1:\n",
    "\n",
    "Input: difficulty = [2,4,6,8,10], profit = [10,20,30,40,50], worker = [4,5,6,7]\n",
    "Output: 100\n",
    "Explanation: Workers are assigned jobs of difficulty [4,4,6,6] and they get a profit of [20,20,30,30] separately.\n",
    "\n",
    "Example 2:\n",
    "\n",
    "Input: difficulty = [85,47,57], profit = [24,66,99], worker = [40,25,25]\n",
    "Output: 0\n",
    "\n",
    " \n",
    "\n",
    "Constraints:\n",
    "\n",
    "    n == difficulty.length\n",
    "    n == profit.length\n",
    "    m == worker.length\n",
    "    1 <= n, m <= 104\n",
    "    1 <= difficulty[i], profit[i], worker[i] <= 105\n",
    "\n"
   ]
  },
  {
   "cell_type": "code",
   "execution_count": null,
   "id": "f00da1c2-a8b0-40ec-aa71-0cc46e10e342",
   "metadata": {},
   "outputs": [],
   "source": [
    "class Solution:\n",
    "    def maxProfitAssignment(self, difficulty: List[int], profit: List[int], worker: List[int]) -> int:\n",
    "        job_profile = [(0, 0)]\n",
    "        for i in range(len(difficulty)):\n",
    "            job_profile.append((difficulty[i], profit[i]))\n",
    "        # Sort by difficulty values in increasing order.\n",
    "\n",
    "        job_profile.sort()\n",
    "        for i in range(len(job_profile) - 1):\n",
    "            job_profile[i + 1] = (\n",
    "                job_profile[i + 1][0],\n",
    "                max(job_profile[i][1], job_profile[i + 1][1]),\n",
    "            )\n",
    "        net_profit = 0\n",
    "        for i in range(len(worker)):\n",
    "            ability = worker[i]\n",
    "\n",
    "            # Find the job with just smaller or equal difficulty than ability.\n",
    "\n",
    "            l, r = 0, len(job_profile) - 1\n",
    "            job_profit = 0\n",
    "            while l <= r:\n",
    "                mid = (l + r) // 2\n",
    "                if job_profile[mid][0] <= ability:\n",
    "                    job_profit = max(job_profit, job_profile[mid][1])\n",
    "                    l = mid + 1\n",
    "                else:\n",
    "                    r = mid - 1\n",
    "            # Increment profit of current worker to total profit.\n",
    "\n",
    "            net_profit += job_profit\n",
    "        return net_profit"
   ]
  }
 ],
 "metadata": {
  "kernelspec": {
   "display_name": "Python 3 (ipykernel)",
   "language": "python",
   "name": "python3"
  },
  "language_info": {
   "codemirror_mode": {
    "name": "ipython",
    "version": 3
   },
   "file_extension": ".py",
   "mimetype": "text/x-python",
   "name": "python",
   "nbconvert_exporter": "python",
   "pygments_lexer": "ipython3",
   "version": "3.12.3"
  }
 },
 "nbformat": 4,
 "nbformat_minor": 5
}
