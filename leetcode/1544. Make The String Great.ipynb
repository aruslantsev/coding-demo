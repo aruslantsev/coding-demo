{
 "cells": [
  {
   "cell_type": "markdown",
   "id": "738291fb-2242-47b4-8b0c-32640e471c71",
   "metadata": {},
   "source": [
    "Given a string s of lower and upper case English letters.\n",
    "\n",
    "A good string is a string which doesn't have two adjacent characters s[i] and s[i + 1] where:\n",
    "\n",
    "    0 <= i <= s.length - 2\n",
    "    s[i] is a lower-case letter and s[i + 1] is the same letter but in upper-case or vice-versa.\n",
    "\n",
    "To make the string good, you can choose two adjacent characters that make the string bad and remove them. You can keep doing this until the string becomes good.\n",
    "\n",
    "Return the string after making it good. The answer is guaranteed to be unique under the given constraints.\n",
    "\n",
    "Notice that an empty string is also good.\n",
    "\n",
    " \n",
    "\n",
    "Example 1:\n",
    "\n",
    "Input: s = \"leEeetcode\"\n",
    "Output: \"leetcode\"\n",
    "Explanation: In the first step, either you choose i = 1 or i = 2, both will result \"leEeetcode\" to be reduced to \"leetcode\".\n",
    "\n",
    "Example 2:\n",
    "\n",
    "Input: s = \"abBAcC\"\n",
    "Output: \"\"\n",
    "Explanation: We have many possible scenarios, and all lead to the same answer. For example:\n",
    "\"abBAcC\" --> \"aAcC\" --> \"cC\" --> \"\"\n",
    "\"abBAcC\" --> \"abBA\" --> \"aA\" --> \"\"\n",
    "\n",
    "Example 3:\n",
    "\n",
    "Input: s = \"s\"\n",
    "Output: \"s\"\n",
    "\n",
    " \n",
    "\n",
    "Constraints:\n",
    "\n",
    "    1 <= s.length <= 100\n",
    "    s contains only lower and upper case English letters.\n",
    "\n"
   ]
  },
  {
   "cell_type": "code",
   "execution_count": 8,
   "id": "242cf579-664d-4dbf-9a8c-8956b875107f",
   "metadata": {},
   "outputs": [],
   "source": [
    "class Solution:\n",
    "    def makeGood(self, s: str) -> str:\n",
    "        s = list(s)\n",
    "        old_s = None\n",
    "        while old_s != s:\n",
    "            old_s = s.copy()\n",
    "            i = 0\n",
    "            while s and i <= (len(s) - 2):\n",
    "                if s[i] != s[i + 1] and s[i].lower() == s[i + 1].lower():\n",
    "                    del s[i]\n",
    "                    del s[i]\n",
    "                else:\n",
    "                    i += 1\n",
    "\n",
    "        return ''.join(s)"
   ]
  },
  {
   "cell_type": "code",
   "execution_count": 10,
   "id": "a89bcbd7-e8fe-4b79-a692-4d8eaeee8f67",
   "metadata": {},
   "outputs": [],
   "source": [
    "class Solution:\n",
    "    def makeGood(self, s: str) -> str:\n",
    "        s = list(s)\n",
    "        i = 0\n",
    "        while s and i <= (len(s) - 2):\n",
    "            if s[i] != s[i + 1] and s[i].lower() == s[i + 1].lower():\n",
    "                del s[i]\n",
    "                del s[i]\n",
    "                if i > 0:\n",
    "                    i -= 1\n",
    "            else:\n",
    "                i += 1\n",
    "\n",
    "        return ''.join(s)"
   ]
  },
  {
   "cell_type": "code",
   "execution_count": 11,
   "id": "9e6db310-ec61-4ba2-9932-98745f57f9f8",
   "metadata": {},
   "outputs": [
    {
     "data": {
      "text/plain": [
       "''"
      ]
     },
     "execution_count": 11,
     "metadata": {},
     "output_type": "execute_result"
    }
   ],
   "source": [
    "s = Solution()\n",
    "s.makeGood(\"abBAcC\")"
   ]
  },
  {
   "cell_type": "code",
   "execution_count": null,
   "id": "39f1b759-abad-4109-aad6-9eb1c9bd3473",
   "metadata": {},
   "outputs": [],
   "source": []
  }
 ],
 "metadata": {
  "kernelspec": {
   "display_name": "Python 3 (ipykernel)",
   "language": "python",
   "name": "python3"
  },
  "language_info": {
   "codemirror_mode": {
    "name": "ipython",
    "version": 3
   },
   "file_extension": ".py",
   "mimetype": "text/x-python",
   "name": "python",
   "nbconvert_exporter": "python",
   "pygments_lexer": "ipython3",
   "version": "3.9.13"
  }
 },
 "nbformat": 4,
 "nbformat_minor": 5
}
