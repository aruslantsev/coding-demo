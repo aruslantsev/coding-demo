{
 "cells": [
  {
   "cell_type": "markdown",
   "id": "f7e68553-f582-41b7-b61e-3d3cdfda0f99",
   "metadata": {},
   "source": [
    "Given a string s which consists of lowercase or uppercase letters, return the length of the longest\n",
    "palindrome\n",
    " that can be built with those letters.\n",
    "\n",
    "Letters are case sensitive, for example, \"Aa\" is not considered a palindrome.\n",
    "\n",
    " \n",
    "\n",
    "Example 1:\n",
    "\n",
    "Input: s = \"abccccdd\"\n",
    "Output: 7\n",
    "Explanation: One longest palindrome that can be built is \"dccaccd\", whose length is 7.\n",
    "\n",
    "Example 2:\n",
    "\n",
    "Input: s = \"a\"\n",
    "Output: 1\n",
    "Explanation: The longest palindrome that can be built is \"a\", whose length is 1.\n",
    "\n",
    " \n",
    "\n",
    "Constraints:\n",
    "\n",
    "    1 <= s.length <= 2000\n",
    "    s consists of lowercase and/or uppercase English letters only.\n",
    "\n"
   ]
  },
  {
   "cell_type": "code",
   "execution_count": null,
   "id": "f88c7af2-e985-4863-861e-b493387baab2",
   "metadata": {},
   "outputs": [],
   "source": [
    "class Solution:\n",
    "    def longestPalindrome(self, s: str) -> int:\n",
    "        c = Counter(s)\n",
    "        ans = 0\n",
    "        is_odd = 0\n",
    "        for cnt in c.values():\n",
    "            ans += cnt // 2 * 2\n",
    "            if cnt % 2 != 0:\n",
    "                is_odd = 1\n",
    "        return ans + is_odd\n"
   ]
  }
 ],
 "metadata": {
  "kernelspec": {
   "display_name": "Python 3 (ipykernel)",
   "language": "python",
   "name": "python3"
  },
  "language_info": {
   "codemirror_mode": {
    "name": "ipython",
    "version": 3
   },
   "file_extension": ".py",
   "mimetype": "text/x-python",
   "name": "python",
   "nbconvert_exporter": "python",
   "pygments_lexer": "ipython3",
   "version": "3.12.3"
  }
 },
 "nbformat": 4,
 "nbformat_minor": 5
}
