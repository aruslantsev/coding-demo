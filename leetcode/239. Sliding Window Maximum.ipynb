{
 "cells": [
  {
   "cell_type": "markdown",
   "id": "2903fed6-5d51-4145-a15b-e04bbca27892",
   "metadata": {},
   "source": [
    "You are given an array of integers nums, there is a sliding window of size k which is moving from the very left of the array to the very right. You can only see the k numbers in the window. Each time the sliding window moves right by one position.\n",
    "\n",
    "Return the max sliding window.\n",
    "\n",
    " \n",
    "\n",
    "Example 1:\n",
    "\n",
    "```\n",
    "Input: nums = [1,3,-1,-3,5,3,6,7], k = 3\n",
    "\n",
    "Output: [3,3,5,5,6,7]\n",
    "Explanation: \n",
    "Window position                Max\n",
    "---------------               -----\n",
    "[1  3  -1] -3  5  3  6  7       3\n",
    " 1 [3  -1  -3] 5  3  6  7       3\n",
    " 1  3 [-1  -3  5] 3  6  7       5\n",
    " 1  3  -1 [-3  5  3] 6  7       5\n",
    " 1  3  -1  -3 [5  3  6] 7       6\n",
    " 1  3  -1  -3  5 [3  6  7]      7\n",
    "```\n",
    "\n",
    "Example 2:\n",
    "\n",
    "Input: nums = [1], k = 1\n",
    "Output: [1]\n",
    "\n",
    " \n",
    "\n",
    "Constraints:\n",
    "\n",
    "    1 <= nums.length <= 105\n",
    "    -104 <= nums[i] <= 104\n",
    "    1 <= k <= nums.length\n",
    "\n"
   ]
  },
  {
   "cell_type": "code",
   "execution_count": 14,
   "id": "d9faebcf-9210-4216-8cde-23edfbe84472",
   "metadata": {},
   "outputs": [],
   "source": [
    "import bisect\n",
    "from typing import List\n",
    "\n",
    "class Solution:\n",
    "    def maxSlidingWindow(self, nums: List[int], k: int) -> List[int]:\n",
    "        if k == 1:\n",
    "            return nums\n",
    "        \n",
    "        window = sorted(nums[:k])\n",
    "        ans = [window[-1]]\n",
    "        for r in range(k, len(nums)):\n",
    "            l = r - k\n",
    "            bisect.insort_left(window, nums[r])\n",
    "            pos = bisect.bisect_right(window, nums[l])\n",
    "            window.pop(pos - 1)\n",
    "            ans.append(window[-1])\n",
    "        return ans"
   ]
  },
  {
   "cell_type": "code",
   "execution_count": 15,
   "id": "a3f1814e-8c04-42d7-8056-ca159613f2cd",
   "metadata": {},
   "outputs": [
    {
     "name": "stdout",
     "output_type": "stream",
     "text": [
      "[-1, 1, 3]\n"
     ]
    },
    {
     "data": {
      "text/plain": [
       "[3, 3, 5, 5, 6, 7]"
      ]
     },
     "execution_count": 15,
     "metadata": {},
     "output_type": "execute_result"
    }
   ],
   "source": [
    "s = Solution()\n",
    "s.maxSlidingWindow([1,3,-1,-3,5,3,6,7], 3)"
   ]
  },
  {
   "cell_type": "code",
   "execution_count": null,
   "id": "582b9103-5f16-4a07-b998-33d1356a31dc",
   "metadata": {},
   "outputs": [],
   "source": [
    "class Solution:\n",
    "    def maxSlidingWindow(self, nums: List[int], k: int) -> List[int]:\n",
    "        dq = deque()\n",
    "        res = []\n",
    "\n",
    "        for i in range(k):\n",
    "            while dq and nums[i] >= nums[dq[-1]]:\n",
    "                dq.pop()\n",
    "            dq.append(i)\n",
    "\n",
    "        res.append(nums[dq[0]])\n",
    "\n",
    "        for i in range(k, len(nums)):\n",
    "            if dq and dq[0] == i - k:\n",
    "                dq.popleft()\n",
    "            while dq and nums[i] >= nums[dq[-1]]:\n",
    "                dq.pop()\n",
    "\n",
    "            dq.append(i)\n",
    "            res.append(nums[dq[0]])\n",
    "\n",
    "        return res"
   ]
  }
 ],
 "metadata": {
  "kernelspec": {
   "display_name": "common",
   "language": "python",
   "name": "common"
  },
  "language_info": {
   "codemirror_mode": {
    "name": "ipython",
    "version": 3
   },
   "file_extension": ".py",
   "mimetype": "text/x-python",
   "name": "python",
   "nbconvert_exporter": "python",
   "pygments_lexer": "ipython3",
   "version": "3.9.15"
  }
 },
 "nbformat": 4,
 "nbformat_minor": 5
}
