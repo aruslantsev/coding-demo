{
 "cells": [
  {
   "cell_type": "markdown",
   "id": "bdf7d6bf-acc1-4fb6-97b5-b6c84a14d32f",
   "metadata": {},
   "source": [
    "Given the integers zero, one, low, and high, we can construct a string by starting with an empty string, and then at each step perform either of the following:\n",
    "\n",
    "    Append the character '0' zero times.\n",
    "    Append the character '1' one times.\n",
    "\n",
    "This can be performed any number of times.\n",
    "\n",
    "A good string is a string constructed by the above process having a length between low and high (inclusive).\n",
    "\n",
    "Return the number of different good strings that can be constructed satisfying these properties. Since the answer can be large, return it modulo 109 + 7.\n",
    "\n",
    " \n",
    "\n",
    "Example 1:\n",
    "\n",
    "Input: low = 3, high = 3, zero = 1, one = 1\n",
    "Output: 8\n",
    "Explanation: \n",
    "One possible valid good string is \"011\". \n",
    "It can be constructed as follows: \"\" -> \"0\" -> \"01\" -> \"011\". \n",
    "All binary strings from \"000\" to \"111\" are good strings in this example.\n",
    "\n",
    "Example 2:\n",
    "\n",
    "Input: low = 2, high = 3, zero = 1, one = 2\n",
    "Output: 5\n",
    "Explanation: The good strings are \"00\", \"11\", \"000\", \"110\", and \"011\".\n",
    "\n",
    " \n",
    "\n",
    "Constraints:\n",
    "\n",
    "    1 <= low <= high <= 105\n",
    "    1 <= zero, one <= low\n",
    "\n"
   ]
  },
  {
   "cell_type": "code",
   "execution_count": null,
   "id": "140d4b74-3699-42d6-b214-0b15aea0b969",
   "metadata": {},
   "outputs": [],
   "source": [
    "class Solution:\n",
    "    def countGoodStrings(self, low: int, high: int, zero: int, one: int) -> int:\n",
    "        MOD = 10**9 + 7\n",
    "\n",
    "        @cache\n",
    "        def step(strlen):\n",
    "            if strlen > high:\n",
    "                return 0\n",
    "            return (\n",
    "                int(low <= strlen <= high) \n",
    "                + step(strlen + zero) \n",
    "                + step(strlen + one)\n",
    "            ) % MOD\n",
    "\n",
    "        return step(0)"
   ]
  },
  {
   "cell_type": "code",
   "execution_count": null,
   "id": "78525f87-4016-4eb9-b6fa-6b6a6c190b0b",
   "metadata": {},
   "outputs": [],
   "source": [
    "class Solution:\n",
    "    def countGoodStrings(self, low: int, high: int, zero: int, one: int) -> int:\n",
    "        dp = [0] * (high + 1)\n",
    "        dp[0] = 1\n",
    "        md = 10 ** 9 + 7\n",
    "        for i in range(min(zero, one), high + 1):\n",
    "            if i >= zero:\n",
    "                dp[i] = (dp[i] + dp[i - zero]) % md\n",
    "            if i >= one:\n",
    "                dp[i] = (dp[i] + dp[i - one]) % md\n",
    "\n",
    "        s = 0\n",
    "        for i in range(low, high + 1):\n",
    "            s = (s + dp[i]) % md\n",
    "        return s"
   ]
  }
 ],
 "metadata": {
  "kernelspec": {
   "display_name": "common",
   "language": "python",
   "name": "common"
  },
  "language_info": {
   "codemirror_mode": {
    "name": "ipython",
    "version": 3
   },
   "file_extension": ".py",
   "mimetype": "text/x-python",
   "name": "python",
   "nbconvert_exporter": "python",
   "pygments_lexer": "ipython3",
   "version": "3.9.15"
  }
 },
 "nbformat": 4,
 "nbformat_minor": 5
}
