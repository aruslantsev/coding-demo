{
 "cells": [
  {
   "cell_type": "markdown",
   "id": "c81650f5-5671-4666-a3f7-8ea864785b96",
   "metadata": {},
   "source": [
    "You are given a 0-indexed integer array nums and an integer p. Find p pairs of indices of nums such that the maximum difference amongst all the pairs is minimized. Also, ensure no index appears more than once amongst the p pairs.\n",
    "\n",
    "Note that for a pair of elements at the index i and j, the difference of this pair is |nums[i] - nums[j]|, where |x| represents the absolute value of x.\n",
    "\n",
    "Return the minimum maximum difference among all p pairs. We define the maximum of an empty set to be zero.\n",
    "\n",
    " \n",
    "\n",
    "Example 1:\n",
    "\n",
    "Input: nums = [10,1,2,7,1,3], p = 2\n",
    "Output: 1\n",
    "Explanation: The first pair is formed from the indices 1 and 4, and the second pair is formed from the indices 2 and 5. \n",
    "The maximum difference is max(|nums[1] - nums[4]|, |nums[2] - nums[5]|) = max(0, 1) = 1. Therefore, we return 1.\n",
    "\n",
    "Example 2:\n",
    "\n",
    "Input: nums = [4,2,1,2], p = 1\n",
    "Output: 0\n",
    "Explanation: Let the indices 1 and 3 form a pair. The difference of that pair is |2 - 2| = 0, which is the minimum we can attain.\n",
    "\n",
    " \n",
    "\n",
    "Constraints:\n",
    "\n",
    "    1 <= nums.length <= 105\n",
    "    0 <= nums[i] <= 109\n",
    "    0 <= p <= (nums.length)/2\n",
    "\n"
   ]
  },
  {
   "cell_type": "code",
   "execution_count": null,
   "id": "b7b0c9a1-43dd-4e16-95f6-4fc90bd0f77f",
   "metadata": {},
   "outputs": [],
   "source": [
    "class Solution:\n",
    "    def minimizeMax(self, nums: List[int], p: int) -> int:\n",
    "        nums.sort()\n",
    "        n = len(nums)\n",
    "        \n",
    "        # Find the number of valid pairs by greedy approach\n",
    "        def countValidPairs(threshold):\n",
    "            index, count = 0, 0\n",
    "            while index < n - 1:\n",
    "                # If a valid pair is found, skip both numbers.\n",
    "                if nums[index + 1] - nums[index] <= threshold:\n",
    "                    count += 1\n",
    "                    index += 1\n",
    "                index += 1\n",
    "            return count\n",
    "        \n",
    "        left, right = 0, nums[-1] - nums[0]\n",
    "        while left < right:\n",
    "            mid = left + (right - left) // 2\n",
    "\n",
    "            # If there are enough pairs, look for a smaller threshold.\n",
    "            # Otherwise, look for a larger threshold.\n",
    "            if countValidPairs(mid) >= p:\n",
    "                right = mid\n",
    "            else:\n",
    "                left = mid + 1\n",
    "        return left       "
   ]
  }
 ],
 "metadata": {
  "kernelspec": {
   "display_name": "Python 3 (ipykernel)",
   "language": "python",
   "name": "python3"
  },
  "language_info": {
   "codemirror_mode": {
    "name": "ipython",
    "version": 3
   },
   "file_extension": ".py",
   "mimetype": "text/x-python",
   "name": "python",
   "nbconvert_exporter": "python",
   "pygments_lexer": "ipython3",
   "version": "3.10.11"
  }
 },
 "nbformat": 4,
 "nbformat_minor": 5
}
