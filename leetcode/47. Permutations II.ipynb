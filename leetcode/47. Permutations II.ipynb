{
 "cells": [
  {
   "cell_type": "markdown",
   "id": "1dad4385-5851-45e0-ab40-d512ddfd84d1",
   "metadata": {},
   "source": [
    "Given a collection of numbers, nums, that might contain duplicates, return all possible unique permutations in any order.\n",
    "\n",
    " \n",
    "\n",
    "Example 1:\n",
    "\n",
    "Input: nums = [1,1,2]\n",
    "Output:\n",
    "[[1,1,2],\n",
    " [1,2,1],\n",
    " [2,1,1]]\n",
    "\n",
    "Example 2:\n",
    "\n",
    "Input: nums = [1,2,3]\n",
    "Output: [[1,2,3],[1,3,2],[2,1,3],[2,3,1],[3,1,2],[3,2,1]]\n",
    "\n",
    " \n",
    "\n",
    "Constraints:\n",
    "\n",
    "    1 <= nums.length <= 8\n",
    "    -10 <= nums[i] <= 10\n",
    "\n"
   ]
  },
  {
   "cell_type": "code",
   "execution_count": 5,
   "id": "47f4a3ee-9dcc-4733-828a-9637e1bad26e",
   "metadata": {},
   "outputs": [],
   "source": [
    "from typing import List\n",
    "from itertools import permutations\n",
    "\n",
    "class Solution:\n",
    "    def permuteUnique(self, nums: List[int]) -> List[List[int]]:\n",
    "        return set(permutations(nums))"
   ]
  },
  {
   "cell_type": "code",
   "execution_count": 12,
   "id": "21433bdd-0051-4946-ac60-94f0675e31c6",
   "metadata": {},
   "outputs": [],
   "source": [
    "from typing import List\n",
    "from itertools import permutations\n",
    "\n",
    "class Solution:\n",
    "    def helper(self, arr, track):\n",
    "        if not arr:\n",
    "            self.ans.append(track)\n",
    "        else:\n",
    "            for num in set(arr):\n",
    "                arr_tmp = arr.copy()\n",
    "                arr_tmp.remove(num)\n",
    "                self.helper(arr_tmp, track + [num])\n",
    "    \n",
    "    def permuteUnique(self, nums: List[int]) -> List[List[int]]:\n",
    "        self.ans = []\n",
    "        self.helper(nums, [])\n",
    "        return self.ans"
   ]
  },
  {
   "cell_type": "code",
   "execution_count": 13,
   "id": "5a0eecb3-9938-41fb-a512-cd5ca140db17",
   "metadata": {},
   "outputs": [
    {
     "data": {
      "text/plain": [
       "[[1, 1, 2], [1, 2, 1], [2, 1, 1]]"
      ]
     },
     "execution_count": 13,
     "metadata": {},
     "output_type": "execute_result"
    }
   ],
   "source": [
    "s = Solution()\n",
    "s.permuteUnique([1, 1, 2])"
   ]
  },
  {
   "cell_type": "code",
   "execution_count": 14,
   "id": "e8e9f147-ecf2-4449-8a00-2d76dcdf351d",
   "metadata": {},
   "outputs": [
    {
     "data": {
      "text/plain": [
       "[[1, 2, 3], [1, 3, 2], [2, 1, 3], [2, 3, 1], [3, 1, 2], [3, 2, 1]]"
      ]
     },
     "execution_count": 14,
     "metadata": {},
     "output_type": "execute_result"
    }
   ],
   "source": [
    "s.permuteUnique([1, 2, 3])"
   ]
  },
  {
   "cell_type": "code",
   "execution_count": null,
   "id": "22456d4f-cbb5-407f-8f53-1dc1073a2066",
   "metadata": {},
   "outputs": [],
   "source": []
  }
 ],
 "metadata": {
  "kernelspec": {
   "display_name": "Python 3 (ipykernel)",
   "language": "python",
   "name": "python3"
  },
  "language_info": {
   "codemirror_mode": {
    "name": "ipython",
    "version": 3
   },
   "file_extension": ".py",
   "mimetype": "text/x-python",
   "name": "python",
   "nbconvert_exporter": "python",
   "pygments_lexer": "ipython3",
   "version": "3.9.10"
  }
 },
 "nbformat": 4,
 "nbformat_minor": 5
}
