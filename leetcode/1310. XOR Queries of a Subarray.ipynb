{
 "cells": [
  {
   "cell_type": "markdown",
   "id": "91e61ea0-5711-4994-94ec-a18c7cb8cbd5",
   "metadata": {},
   "source": [
    "You are given an array arr of positive integers. You are also given the array queries where queries[i] = [lefti, righti].\n",
    "\n",
    "For each query i compute the XOR of elements from lefti to righti (that is, arr[lefti] XOR arr[lefti + 1] XOR ... XOR arr[righti] ).\n",
    "\n",
    "Return an array answer where answer[i] is the answer to the ith query.\n",
    "\n",
    " \n",
    "\n",
    "Example 1:\n",
    "\n",
    "Input: arr = [1,3,4,8], queries = [[0,1],[1,2],[0,3],[3,3]]\n",
    "Output: [2,7,14,8] \n",
    "Explanation: \n",
    "The binary representation of the elements in the array are:\n",
    "1 = 0001 \n",
    "3 = 0011 \n",
    "4 = 0100 \n",
    "8 = 1000 \n",
    "The XOR values for queries are:\n",
    "[0,1] = 1 xor 3 = 2 \n",
    "[1,2] = 3 xor 4 = 7 \n",
    "[0,3] = 1 xor 3 xor 4 xor 8 = 14 \n",
    "[3,3] = 8\n",
    "\n",
    "Example 2:\n",
    "\n",
    "Input: arr = [4,8,2,10], queries = [[2,3],[1,3],[0,0],[0,3]]\n",
    "Output: [8,0,4,4]\n",
    "\n",
    " \n",
    "\n",
    "Constraints:\n",
    "\n",
    "    1 <= arr.length, queries.length <= 3 * 104\n",
    "    1 <= arr[i] <= 109\n",
    "    queries[i].length == 2\n",
    "    0 <= lefti <= righti < arr.length\n",
    "\n"
   ]
  },
  {
   "cell_type": "code",
   "execution_count": null,
   "id": "383485c1-f4b2-4ca4-b32b-3e205c8bef54",
   "metadata": {},
   "outputs": [],
   "source": [
    "class Solution:\n",
    "    def xorQueries(self, arr: List[int], queries: List[List[int]]) -> List[int]:\n",
    "        prefix_xor = [0] * (len(arr) + 1)\n",
    "        for i in range(len(arr)):\n",
    "            prefix_xor[i + 1] = prefix_xor[i] ^ arr[i]\n",
    "        result = [prefix_xor[r + 1] ^ prefix_xor[l] for l, r in queries]\n",
    "        return result"
   ]
  }
 ],
 "metadata": {
  "kernelspec": {
   "display_name": "Python 3 (ipykernel)",
   "language": "python",
   "name": "python3"
  },
  "language_info": {
   "codemirror_mode": {
    "name": "ipython",
    "version": 3
   },
   "file_extension": ".py",
   "mimetype": "text/x-python",
   "name": "python",
   "nbconvert_exporter": "python",
   "pygments_lexer": "ipython3",
   "version": "3.12.7"
  }
 },
 "nbformat": 4,
 "nbformat_minor": 5
}
