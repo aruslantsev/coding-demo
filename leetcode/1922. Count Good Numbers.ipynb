{
 "cells": [
  {
   "cell_type": "markdown",
   "id": "1a40da7e-2378-49ad-9b45-e9e496a4d263",
   "metadata": {},
   "source": [
    "A digit string is good if the digits (0-indexed) at even indices are even and the digits at odd indices are prime (2, 3, 5, or 7).\n",
    "\n",
    "    For example, \"2582\" is good because the digits (2 and 8) at even positions are even and the digits (5 and 2) at odd positions are prime. However, \"3245\" is not good because 3 is at an even index but is not even.\n",
    "\n",
    "Given an integer n, return the total number of good digit strings of length n. Since the answer may be large, return it modulo 109 + 7.\n",
    "\n",
    "A digit string is a string consisting of digits 0 through 9 that may contain leading zeros.\n",
    "\n",
    " \n",
    "\n",
    "Example 1:\n",
    "\n",
    "Input: n = 1\n",
    "Output: 5\n",
    "Explanation: The good numbers of length 1 are \"0\", \"2\", \"4\", \"6\", \"8\".\n",
    "\n",
    "Example 2:\n",
    "\n",
    "Input: n = 4\n",
    "Output: 400\n",
    "\n",
    "Example 3:\n",
    "\n",
    "Input: n = 50\n",
    "Output: 564908303\n",
    "\n",
    " \n",
    "\n",
    "Constraints:\n",
    "\n",
    "    1 <= n <= 1015\n",
    "\n"
   ]
  },
  {
   "cell_type": "code",
   "execution_count": null,
   "id": "6f58775d-7669-4604-b4dd-de63c7fa69d5",
   "metadata": {},
   "outputs": [],
   "source": [
    "class Solution:\n",
    "    def countGoodNumbers(self, n: int) -> int:\n",
    "        mod = 10**9 + 7\n",
    "        def quickmul(x: int, y: int) -> int:\n",
    "            ret, mul = 1, x\n",
    "            while y > 0:\n",
    "                if y % 2 == 1:\n",
    "                    ret = ret * mul % mod\n",
    "                mul = mul * mul % mod\n",
    "                y //= 2\n",
    "            return ret\n",
    "        return quickmul(5, (n + 1) // 2) * quickmul(4, n // 2) % mod"
   ]
  }
 ],
 "metadata": {
  "kernelspec": {
   "display_name": "Python 3 (ipykernel)",
   "language": "python",
   "name": "python3"
  },
  "language_info": {
   "codemirror_mode": {
    "name": "ipython",
    "version": 3
   },
   "file_extension": ".py",
   "mimetype": "text/x-python",
   "name": "python",
   "nbconvert_exporter": "python",
   "pygments_lexer": "ipython3",
   "version": "3.12.9"
  }
 },
 "nbformat": 4,
 "nbformat_minor": 5
}
