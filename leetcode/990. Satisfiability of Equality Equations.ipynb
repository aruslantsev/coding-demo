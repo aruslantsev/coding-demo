{
 "cells": [
  {
   "cell_type": "markdown",
   "id": "fdceacdf-aada-41d7-9f4b-04cc87335c2a",
   "metadata": {},
   "source": [
    "You are given an array of strings equations that represent relationships between variables where each string equations[i] is of length 4 and takes one of two different forms: \"xi==yi\" or \"xi!=yi\".Here, xi and yi are lowercase letters (not necessarily different) that represent one-letter variable names.\n",
    "\n",
    "Return true if it is possible to assign integers to variable names so as to satisfy all the given equations, or false otherwise.\n",
    "\n",
    " \n",
    "\n",
    "Example 1:\n",
    "\n",
    "Input: equations = [\"a==b\",\"b!=a\"]\n",
    "Output: false\n",
    "Explanation: If we assign say, a = 1 and b = 1, then the first equation is satisfied, but not the second.\n",
    "There is no way to assign the variables to satisfy both equations.\n",
    "\n",
    "Example 2:\n",
    "\n",
    "Input: equations = [\"b==a\",\"a==b\"]\n",
    "Output: true\n",
    "Explanation: We could assign a = 1 and b = 1 to satisfy both equations.\n",
    "\n",
    " \n",
    "\n",
    "Constraints:\n",
    "\n",
    "    1 <= equations.length <= 500\n",
    "    equations[i].length == 4\n",
    "    equations[i][0] is a lowercase letter.\n",
    "    equations[i][1] is either '=' or '!'.\n",
    "    equations[i][2] is '='.\n",
    "    equations[i][3] is a lowercase letter.\n",
    "\n"
   ]
  },
  {
   "cell_type": "code",
   "execution_count": 30,
   "id": "b3fade8c-8f20-4b25-94c7-685a13784ca4",
   "metadata": {},
   "outputs": [],
   "source": [
    "from typing import List\n",
    "\n",
    "class Solution:\n",
    "    def equationsPossible(self, equations: List[str]) -> bool:\n",
    "        var = {}\n",
    "        for eq in equations:\n",
    "            v0 = eq[0]\n",
    "            v1 = eq[3]\n",
    "            eq = eq[1] == \"=\"\n",
    "            if v0 == v1 and not eq:\n",
    "                return False\n",
    "            if v0 in var:\n",
    "                if v1 in var:\n",
    "                    if eq and var[v0] != var[v1]:\n",
    "                        return False\n",
    "                    if not eq and var[v0] == var[v1]:\n",
    "                        return False\n",
    "                else:\n",
    "                    if eq:\n",
    "                        var[v1] = var[v0]\n",
    "                    else:\n",
    "                        var[v1] = v1\n",
    "            else:\n",
    "                if v1 in var:\n",
    "                    if eq:\n",
    "                        var[v0] = var[v1]\n",
    "                    else:\n",
    "                        var[v0] = v0\n",
    "                else:\n",
    "                    if eq:\n",
    "                        var[v0] = v0\n",
    "                        var[v1] = v0\n",
    "                    else:\n",
    "                        var[v0] = v0\n",
    "                        var[v1] = v1\n",
    "        return True"
   ]
  },
  {
   "cell_type": "code",
   "execution_count": 76,
   "id": "fd4f6fd0-84e8-4412-98e6-b281bf083959",
   "metadata": {},
   "outputs": [],
   "source": [
    "from typing import List\n",
    "\n",
    "class Solution:\n",
    "    def equationsPossible(self, equations: List[str]) -> bool:\n",
    "        equations = sorted(equations, key=lambda x: x[1], reverse=True)\n",
    "\n",
    "        var = []\n",
    "        for eq in equations:\n",
    "            v0 = eq[0]\n",
    "            v1 = eq[3]\n",
    "            eq = eq[1] == \"=\"\n",
    "            if v0 == v1 and not eq:\n",
    "                return False\n",
    "            if eq:\n",
    "                added = False\n",
    "                for lst in var:\n",
    "                    if v0 in lst or v1 in lst:\n",
    "                        lst.add(v0)\n",
    "                        lst.add(v1)\n",
    "                        added = True\n",
    "                if not added:\n",
    "                    var.append(set([v0, v1]))\n",
    "        \n",
    "        merge = defaultdict(list)\n",
    "        for i, lst in enumerate(var):\n",
    "            for j, other in enumerate(var):\n",
    "                if j > i and len(lst.intersection(other)) > 0:\n",
    "                    if all([j not in val for val in merge.values()]):\n",
    "                        merge[i].append(j)\n",
    "                        var[i] = var[i].union(var[j])\n",
    "        deleted = []\n",
    "        for val in merge.values():\n",
    "            deleted.extend(val)\n",
    "        deleted = sorted(set(deleted), reverse = True)\n",
    "        for i in deleted:\n",
    "            del var[i]\n",
    "            \n",
    "        for eq in equations:\n",
    "            v0 = eq[0]\n",
    "            v1 = eq[3]\n",
    "            eq = eq[1] == \"=\"\n",
    "            if not eq:\n",
    "                for lst in var:\n",
    "                    if v0 in lst and v1 in lst:\n",
    "                        return False\n",
    "        return True"
   ]
  },
  {
   "cell_type": "code",
   "execution_count": 83,
   "id": "aeb15bde-0a2f-4a24-9e0e-0ea76006bddf",
   "metadata": {},
   "outputs": [],
   "source": [
    "class Solution:     # Here's the plan:\n",
    "                    #   1) We make an undirected graph in which the nodes are integers\n",
    "                    #      (as lower-case letters) and each edge connects integers\n",
    "                    #      that are equal.\n",
    "                    #   2) We use a union-find process to determine the connected graphs\n",
    "                    #   3) We keep track of the pairs (a,b) such that a =! b. If the any\n",
    "                    #      such pair are in the same connected graph, then return False,\n",
    "                    #      otherwise return True.\n",
    "    def equationsPossible(self, equations: List[str]) -> bool:\n",
    "        parent, diff = {}, []\n",
    "\n",
    "        def find(x):\n",
    "            if x not in parent: return x\n",
    "            else: return find(parent[x])\n",
    "\n",
    "        for s in equations:                 # <-- 1)\n",
    "            a, b = s[0], s[3]\n",
    "\n",
    "            if s[1]== \"=\":                  # <-- 2)\n",
    "                x, y = find(a), find(b)\n",
    "                if x!=y:\n",
    "                    parent[y] = x\n",
    "            else:    \n",
    "                diff.append((a,b))          # <-- 3)\n",
    "\n",
    "        return all(find(a)!=find(b) for a, b in diff)"
   ]
  },
  {
   "cell_type": "code",
   "execution_count": 84,
   "id": "c9264713-1813-45e9-acb1-27349bb9cf66",
   "metadata": {},
   "outputs": [
    {
     "data": {
      "text/plain": [
       "True"
      ]
     },
     "execution_count": 84,
     "metadata": {},
     "output_type": "execute_result"
    }
   ],
   "source": [
    "s = Solution()\n",
    "s.equationsPossible([\"a==b\",\"b==c\",\"a==c\"])"
   ]
  },
  {
   "cell_type": "code",
   "execution_count": 85,
   "id": "5e0aa2a6-3492-4cff-b4b0-9dc299ee634e",
   "metadata": {},
   "outputs": [
    {
     "data": {
      "text/plain": [
       "False"
      ]
     },
     "execution_count": 85,
     "metadata": {},
     "output_type": "execute_result"
    }
   ],
   "source": [
    "s.equationsPossible([\"a==b\",\"b!=a\"])"
   ]
  },
  {
   "cell_type": "code",
   "execution_count": 86,
   "id": "b5da709f-928d-48ec-8ca0-fe7f704cc8c7",
   "metadata": {},
   "outputs": [
    {
     "data": {
      "text/plain": [
       "True"
      ]
     },
     "execution_count": 86,
     "metadata": {},
     "output_type": "execute_result"
    }
   ],
   "source": [
    "s.equationsPossible([\"b==a\",\"a==b\"])"
   ]
  },
  {
   "cell_type": "code",
   "execution_count": 87,
   "id": "119562f6-aac2-400d-b35d-c4592832c578",
   "metadata": {},
   "outputs": [
    {
     "data": {
      "text/plain": [
       "False"
      ]
     },
     "execution_count": 87,
     "metadata": {},
     "output_type": "execute_result"
    }
   ],
   "source": [
    "s.equationsPossible(['a!=a'])"
   ]
  },
  {
   "cell_type": "code",
   "execution_count": 88,
   "id": "ba8b5c9b-48cb-4999-8e0d-17458a553478",
   "metadata": {},
   "outputs": [
    {
     "data": {
      "text/plain": [
       "True"
      ]
     },
     "execution_count": 88,
     "metadata": {},
     "output_type": "execute_result"
    }
   ],
   "source": [
    "s.equationsPossible([\"c==c\",\"f!=a\",\"f==b\",\"b==c\"])"
   ]
  },
  {
   "cell_type": "code",
   "execution_count": 89,
   "id": "104051fb-2d57-4872-892e-a0c88971f52a",
   "metadata": {},
   "outputs": [
    {
     "data": {
      "text/plain": [
       "False"
      ]
     },
     "execution_count": 89,
     "metadata": {},
     "output_type": "execute_result"
    }
   ],
   "source": [
    "s.equationsPossible([\"a==b\",\"b!=c\",\"c==a\"])"
   ]
  },
  {
   "cell_type": "code",
   "execution_count": null,
   "id": "34de3ad3-3e3d-4aa6-8740-9a22559d4282",
   "metadata": {},
   "outputs": [],
   "source": []
  }
 ],
 "metadata": {
  "kernelspec": {
   "display_name": "Python 3 (ipykernel)",
   "language": "python",
   "name": "python3"
  },
  "language_info": {
   "codemirror_mode": {
    "name": "ipython",
    "version": 3
   },
   "file_extension": ".py",
   "mimetype": "text/x-python",
   "name": "python",
   "nbconvert_exporter": "python",
   "pygments_lexer": "ipython3",
   "version": "3.9.13"
  }
 },
 "nbformat": 4,
 "nbformat_minor": 5
}
