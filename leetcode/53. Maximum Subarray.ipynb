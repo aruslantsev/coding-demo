{
 "cells": [
  {
   "cell_type": "markdown",
   "id": "974c8496-8eca-4e05-96a0-bb76dbe5a082",
   "metadata": {},
   "source": [
    "Given an integer array nums, find the \n",
    "subarray\n",
    " with the largest sum, and return its sum.\n",
    "\n",
    " \n",
    "\n",
    "Example 1:\n",
    "\n",
    "Input: nums = [-2,1,-3,4,-1,2,1,-5,4]\n",
    "Output: 6\n",
    "Explanation: The subarray [4,-1,2,1] has the largest sum 6.\n",
    "Example 2:\n",
    "\n",
    "Input: nums = [1]\n",
    "Output: 1\n",
    "Explanation: The subarray [1] has the largest sum 1.\n",
    "Example 3:\n",
    "\n",
    "Input: nums = [5,4,-1,7,8]\n",
    "Output: 23\n",
    "Explanation: The subarray [5,4,-1,7,8] has the largest sum 23.\n",
    " \n",
    "\n",
    "Constraints:\n",
    "\n",
    "1 <= nums.length <= 105\n",
    "-104 <= nums[i] <= 104\n",
    " \n",
    "\n",
    "Follow up: If you have figured out the O(n) solution, try coding another solution using the divide and conquer approach, which is more subtle."
   ]
  },
  {
   "cell_type": "code",
   "execution_count": null,
   "id": "d28c305a-5377-4085-a3ff-8db9cd1e47f3",
   "metadata": {},
   "outputs": [],
   "source": [
    "class Solution:\n",
    "    def maxSubArray(self, nums: List[int]) -> int:\n",
    "        p_sums = [0]\n",
    "        for num in nums:\n",
    "            p_sums.append(p_sums[-1] + num)\n",
    "        \n",
    "        ans = nums[0]\n",
    "        for s in range(len(p_sums) - 1):\n",
    "            for e in range(s + 1, len(p_sums)):\n",
    "                ans = max(ans, p_sums[e] - p_sums[s])\n",
    "        return ans"
   ]
  },
  {
   "cell_type": "code",
   "execution_count": 4,
   "id": "bbedaedd-026c-40cc-a4e7-c0a1acb859ab",
   "metadata": {},
   "outputs": [],
   "source": [
    "from typing import List\n",
    "from functools import cache\n",
    "\n",
    "class Solution:\n",
    "    def maxSubArray(self, nums: List[int]) -> int:\n",
    "        @cache\n",
    "        def solve(i, must_pick):\n",
    "            if i >= len(nums): \n",
    "                return 0 if must_pick else -inf\n",
    "            return max(\n",
    "                nums[i] + solve(i + 1, True), \n",
    "                0 if must_pick else solve(i + 1, False))\n",
    "        return solve(0, False)"
   ]
  },
  {
   "cell_type": "code",
   "execution_count": 6,
   "id": "29c3f4cb-547b-4610-9267-4b603ac2dc50",
   "metadata": {},
   "outputs": [],
   "source": [
    "class Solution:\n",
    "    def maxSubArray(self, nums: List[int]) -> int:\n",
    "        dp = [[0] * len(nums) for i in range(2)]\n",
    "        dp[0][0], dp[1][0] = nums[0], nums[0]\n",
    "        for i in range(1, len(nums)):\n",
    "            dp[1][i] = max(nums[i], nums[i] + dp[1][i - 1])\n",
    "            dp[0][i] = max(dp[0][i - 1], dp[1][i])\n",
    "        return dp[0][-1]"
   ]
  },
  {
   "cell_type": "code",
   "execution_count": null,
   "id": "277b6e83-2c65-4e42-8cae-72a5d1aef627",
   "metadata": {},
   "outputs": [],
   "source": []
  }
 ],
 "metadata": {
  "kernelspec": {
   "display_name": "Python 3",
   "language": "python",
   "name": "python3"
  },
  "language_info": {
   "codemirror_mode": {
    "name": "ipython",
    "version": 3
   },
   "file_extension": ".py",
   "mimetype": "text/x-python",
   "name": "python",
   "nbconvert_exporter": "python",
   "pygments_lexer": "ipython3",
   "version": "3.9.12"
  }
 },
 "nbformat": 4,
 "nbformat_minor": 5
}
