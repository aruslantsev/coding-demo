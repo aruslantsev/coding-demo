{
 "cells": [
  {
   "attachments": {
    "61a47d1f-f6fb-4a05-8fdc-a1e565b46a79.png": {
     "image/png": "[encoded data removed]"
    },
    "b9ee824b-8223-4a6a-b625-578ef739a229.png": {
     "image/png": "[encoded data removed]"
    }
   },
   "cell_type": "markdown",
   "id": "db3a442b-bf55-4331-99a7-df5b95feb5f2",
   "metadata": {},
   "source": [
    "You are given two integers m and n. Consider an m x n grid where each cell is initially white. You can paint each cell red, green, or blue. All cells must be painted.\n",
    "\n",
    "Return the number of ways to color the grid with no two adjacent cells having the same color. Since the answer can be very large, return it modulo 109 + 7.\n",
    "\n",
    " \n",
    "\n",
    "Example 1:\n",
    "\n",
    "![image.png](attachment:61a47d1f-f6fb-4a05-8fdc-a1e565b46a79.png)\n",
    "\n",
    "Input: m = 1, n = 1\n",
    "Output: 3\n",
    "Explanation: The three possible colorings are shown in the image above.\n",
    "\n",
    "Example 2:\n",
    "\n",
    "![image.png](attachment:b9ee824b-8223-4a6a-b625-578ef739a229.png)\n",
    "\n",
    "Input: m = 1, n = 2\n",
    "Output: 6\n",
    "Explanation: The six possible colorings are shown in the image above.\n",
    "\n",
    "Example 3:\n",
    "\n",
    "Input: m = 5, n = 5\n",
    "Output: 580986\n",
    "\n",
    " \n",
    "\n",
    "Constraints:\n",
    "\n",
    "    1 <= m <= 5\n",
    "    1 <= n <= 1000\n",
    "\n"
   ]
  },
  {
   "cell_type": "code",
   "execution_count": null,
   "id": "c6e29838-a96e-4724-93d7-eb828b5e8bdc",
   "metadata": {},
   "outputs": [],
   "source": [
    "class Solution:\n",
    "    def colorTheGrid(self, m: int, n: int) -> int:\n",
    "        mod = 10**9 + 7\n",
    "        # Hash mapping stores all valid coloration schemes for a single row that meet the requirements\n",
    "        # The key represents mask, and the value represents the ternary string of mask (stored as a list)\n",
    "        valid = dict()\n",
    "\n",
    "        # Enumerate masks that meet the requirements within the range [0, 3^m)\n",
    "        for mask in range(3**m):\n",
    "            color = list()\n",
    "            mm = mask\n",
    "            for i in range(m):\n",
    "                color.append(mm % 3)\n",
    "                mm //= 3\n",
    "            if any(color[i] == color[i + 1] for i in range(m - 1)):\n",
    "                continue\n",
    "            valid[mask] = color\n",
    "\n",
    "        # Preprocess all (mask1, mask2) binary tuples, satisfying mask1 and mask2 When adjacent rows, the colors of the two cells in the same column are different\n",
    "        adjacent = defaultdict(list)\n",
    "        for mask1, color1 in valid.items():\n",
    "            for mask2, color2 in valid.items():\n",
    "                if not any(x == y for x, y in zip(color1, color2)):\n",
    "                    adjacent[mask1].append(mask2)\n",
    "\n",
    "        f = [int(mask in valid) for mask in range(3**m)]\n",
    "        for i in range(1, n):\n",
    "            g = [0] * (3**m)\n",
    "            for mask2 in valid.keys():\n",
    "                for mask1 in adjacent[mask2]:\n",
    "                    g[mask2] += f[mask1]\n",
    "                    if g[mask2] >= mod:\n",
    "                        g[mask2] -= mod\n",
    "            f = g\n",
    "\n",
    "        return sum(f) % mod"
   ]
  }
 ],
 "metadata": {
  "kernelspec": {
   "display_name": "Python 3 (ipykernel)",
   "language": "python",
   "name": "python3"
  },
  "language_info": {
   "codemirror_mode": {
    "name": "ipython",
    "version": 3
   },
   "file_extension": ".py",
   "mimetype": "text/x-python",
   "name": "python",
   "nbconvert_exporter": "python",
   "pygments_lexer": "ipython3",
   "version": "3.12.9"
  }
 },
 "nbformat": 4,
 "nbformat_minor": 5
}
