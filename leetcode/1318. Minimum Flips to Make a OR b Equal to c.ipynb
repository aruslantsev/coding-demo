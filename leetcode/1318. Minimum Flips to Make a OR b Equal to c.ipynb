{
 "cells": [
  {
   "attachments": {
    "7f08c92f-68a0-40fc-908d-82f9480510b9.png": {
     "image/png": "[encoded data removed]"
    }
   },
   "cell_type": "markdown",
   "id": "be10dbf2-5709-43a3-a1c5-9831255ffe01",
   "metadata": {},
   "source": [
    "Given 3 positives numbers a, b and c. Return the minimum flips required in some bits of a and b to make ( a OR b == c ). (bitwise OR operation).\n",
    "Flip operation consists of change any single bit 1 to 0 or change the bit 0 to 1 in their binary representation.\n",
    "\n",
    " \n",
    "\n",
    "Example 1:\n",
    "\n",
    "![image.png](attachment:7f08c92f-68a0-40fc-908d-82f9480510b9.png)\n",
    "\n",
    "Input: a = 2, b = 6, c = 5\n",
    "Output: 3\n",
    "Explanation: After flips a = 1 , b = 4 , c = 5 such that (a OR b == c)\n",
    "\n",
    "Example 2:\n",
    "\n",
    "Input: a = 4, b = 2, c = 7\n",
    "Output: 1\n",
    "\n",
    "Example 3:\n",
    "\n",
    "Input: a = 1, b = 2, c = 3\n",
    "Output: 0\n",
    "\n",
    " \n",
    "\n",
    "Constraints:\n",
    "\n",
    "    1 <= a <= 10^9\n",
    "    1 <= b <= 10^9\n",
    "    1 <= c <= 10^9\n"
   ]
  },
  {
   "cell_type": "code",
   "execution_count": null,
   "id": "6c58e71f-3254-47b5-a0de-f78d1359bb0b",
   "metadata": {},
   "outputs": [],
   "source": [
    "class Solution:\n",
    "    def minFlips(self, a: int, b: int, c: int) -> int:\n",
    "        def dec2bin(num: int):\n",
    "            num_bin = []\n",
    "            while num > 0:\n",
    "                num_bin.append(num % 2)\n",
    "                num //= 2\n",
    "            return num_bin\n",
    "        a_bin = dec2bin(a)\n",
    "        b_bin = dec2bin(b)\n",
    "        c_bin = dec2bin(c)\n",
    "        max_len = max(len(a_bin), len(b_bin), len(c_bin))\n",
    "        a_bin += [0] * (max_len - len(a_bin))\n",
    "        b_bin += [0] * (max_len - len(b_bin))\n",
    "        c_bin += [0] * (max_len - len(c_bin))\n",
    "        ans = 0\n",
    "        for i in range(max_len):\n",
    "            if c_bin[i] == 0:\n",
    "                ans += a_bin[i] + b_bin[i]\n",
    "            else:\n",
    "                if a_bin[i] + b_bin[i] == 0:\n",
    "                    ans += 1\n",
    "        return ans\n"
   ]
  },
  {
   "cell_type": "code",
   "execution_count": null,
   "id": "efb1fc8e-5fc3-48b1-ae4b-167b249a243a",
   "metadata": {},
   "outputs": [],
   "source": [
    "class Solution:\n",
    "    def minFlips(self, a: int, b: int, c: int) -> int:\n",
    "        ans = 0\n",
    "        while a or b or c:\n",
    "            if c % 2 == 0:\n",
    "                ans += a % 2 + b % 2\n",
    "            else:\n",
    "                if a % 2 + b % 2 == 0:\n",
    "                    ans += 1\n",
    "            a //= 2\n",
    "            b //= 2\n",
    "            c //= 2\n",
    "        return ans\n"
   ]
  },
  {
   "cell_type": "code",
   "execution_count": null,
   "id": "68015d57-3289-4998-903b-f3c22e9b213a",
   "metadata": {},
   "outputs": [],
   "source": [
    "class Solution:\n",
    "    def minFlips(self, a: int, b: int, c: int) -> int:\n",
    "        answer = 0\n",
    "        while a or b or c:\n",
    "            if c & 1:\n",
    "                answer += 0 if ((a & 1) or (b & 1)) else 1\n",
    "            else:\n",
    "                answer += (a & 1) + (b & 1)\n",
    "            a >>= 1\n",
    "            b >>= 1\n",
    "            c >>= 1\n",
    "        return answer"
   ]
  }
 ],
 "metadata": {
  "kernelspec": {
   "display_name": "Python 3 (ipykernel)",
   "language": "python",
   "name": "python3"
  },
  "language_info": {
   "codemirror_mode": {
    "name": "ipython",
    "version": 3
   },
   "file_extension": ".py",
   "mimetype": "text/x-python",
   "name": "python",
   "nbconvert_exporter": "python",
   "pygments_lexer": "ipython3",
   "version": "3.10.11"
  }
 },
 "nbformat": 4,
 "nbformat_minor": 5
}
