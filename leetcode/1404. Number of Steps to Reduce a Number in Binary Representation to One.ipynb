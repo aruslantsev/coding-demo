{
 "cells": [
  {
   "cell_type": "markdown",
   "id": "42a3daf2-ee0c-4cd3-879f-d668aaf96fda",
   "metadata": {},
   "source": [
    "Given the binary representation of an integer as a string s, return the number of steps to reduce it to 1 under the following rules:\n",
    "\n",
    "    If the current number is even, you have to divide it by 2.\n",
    "\n",
    "    If the current number is odd, you have to add 1 to it.\n",
    "\n",
    "It is guaranteed that you can always reach one for all test cases.\n",
    "\n",
    " \n",
    "\n",
    "Example 1:\n",
    "\n",
    "Input: s = \"1101\"\n",
    "Output: 6\n",
    "Explanation: \"1101\" corressponds to number 13 in their decimal representation.\n",
    "Step 1) 13 is odd, add 1 and obtain 14. \n",
    "Step 2) 14 is even, divide by 2 and obtain 7.\n",
    "Step 3) 7 is odd, add 1 and obtain 8.\n",
    "Step 4) 8 is even, divide by 2 and obtain 4.  \n",
    "Step 5) 4 is even, divide by 2 and obtain 2. \n",
    "Step 6) 2 is even, divide by 2 and obtain 1.  \n",
    "\n",
    "Example 2:\n",
    "\n",
    "Input: s = \"10\"\n",
    "Output: 1\n",
    "Explanation: \"10\" corresponds to number 2 in their decimal representation.\n",
    "Step 1) 2 is even, divide by 2 and obtain 1.  \n",
    "\n",
    "Example 3:\n",
    "\n",
    "Input: s = \"1\"\n",
    "Output: 0\n",
    "\n",
    " \n",
    "\n",
    "Constraints:\n",
    "\n",
    "    1 <= s.length <= 500\n",
    "    s consists of characters '0' or '1'\n",
    "    s[0] == '1'\n",
    "\n"
   ]
  },
  {
   "cell_type": "code",
   "execution_count": null,
   "id": "932fd6da-7278-42f0-9ea5-9cea78420623",
   "metadata": {},
   "outputs": [],
   "source": [
    "class Solution:\n",
    "    def numSteps(self, s: str) -> int:\n",
    "        num = 0\n",
    "        for i, sym in enumerate(s[::-1]):\n",
    "            num += 2**i * (sym == \"1\")\n",
    "        steps = 0\n",
    "        while num != 1:\n",
    "            if num % 2 == 1:\n",
    "                num += 1\n",
    "            else:\n",
    "                num //= 2\n",
    "            steps += 1\n",
    "        return steps"
   ]
  },
  {
   "cell_type": "code",
   "execution_count": null,
   "id": "f8744423-c242-4161-b9df-6beff1e2a84a",
   "metadata": {},
   "outputs": [],
   "source": [
    "class Solution:\n",
    "    def numSteps(self, s: str) -> int:\n",
    "        N = len(s)\n",
    "\n",
    "        operations = 0\n",
    "        carry = 0\n",
    "        for i in range(N - 1, 0, -1):\n",
    "            digit = int(s[i]) + carry\n",
    "            if digit % 2 == 1:\n",
    "                operations += 2\n",
    "                carry = 1\n",
    "            else:\n",
    "                operations += 1\n",
    "\n",
    "        return operations + carry"
   ]
  }
 ],
 "metadata": {
  "kernelspec": {
   "display_name": "Python 3 (ipykernel)",
   "language": "python",
   "name": "python3"
  },
  "language_info": {
   "codemirror_mode": {
    "name": "ipython",
    "version": 3
   },
   "file_extension": ".py",
   "mimetype": "text/x-python",
   "name": "python",
   "nbconvert_exporter": "python",
   "pygments_lexer": "ipython3",
   "version": "3.12.3"
  }
 },
 "nbformat": 4,
 "nbformat_minor": 5
}
