{
 "cells": [
  {
   "cell_type": "markdown",
   "id": "7fa676a0-c98b-40f7-80a5-2bc95efa9f87",
   "metadata": {},
   "source": [
    "You are given two 0-indexed arrays nums and cost consisting each of n positive integers.\n",
    "\n",
    "You can do the following operation any number of times:\n",
    "\n",
    "    Increase or decrease any element of the array nums by 1.\n",
    "\n",
    "The cost of doing one operation on the ith element is cost[i].\n",
    "\n",
    "Return the minimum total cost such that all the elements of the array nums become equal.\n",
    "\n",
    " \n",
    "\n",
    "Example 1:\n",
    "\n",
    "Input: nums = [1,3,5,2], cost = [2,3,1,14]\n",
    "Output: 8\n",
    "Explanation: We can make all the elements equal to 2 in the following way:\n",
    "- Increase the 0th element one time. The cost is 2.\n",
    "- Decrease the 1st element one time. The cost is 3.\n",
    "- Decrease the 2nd element three times. The cost is 1 + 1 + 1 = 3.\n",
    "The total cost is 2 + 3 + 3 = 8.\n",
    "It can be shown that we cannot make the array equal with a smaller cost.\n",
    "\n",
    "Example 2:\n",
    "\n",
    "Input: nums = [2,2,2,2,2], cost = [4,2,8,1,3]\n",
    "Output: 0\n",
    "Explanation: All the elements are already equal, so no operations are needed.\n",
    "\n",
    " \n",
    "\n",
    "Constraints:\n",
    "\n",
    "    n == nums.length == cost.length\n",
    "    1 <= n <= 105\n",
    "    1 <= nums[i], cost[i] <= 106\n",
    "\n"
   ]
  },
  {
   "cell_type": "code",
   "execution_count": null,
   "id": "1c1b4d66-edc9-47b6-81ca-ec7d050ab73f",
   "metadata": {},
   "outputs": [],
   "source": [
    "class Solution:\n",
    "    def minCost(self, nums: List[int], cost: List[int]) -> int:\n",
    "        def get_cost(fin):\n",
    "            return sum([abs(n - fin) * c for n, c in zip(nums, cost)])\n",
    "\n",
    "        l = min(nums)\n",
    "        r = max(nums) + 1\n",
    "        m = (l + r) // 2\n",
    "\n",
    "        while r > l:\n",
    "            if get_cost(m) < get_cost(m + 1):\n",
    "                r = m\n",
    "            else:\n",
    "                l = m + 1\n",
    "            m = (l + r) // 2\n",
    "        \n",
    "        return get_cost(l)"
   ]
  },
  {
   "cell_type": "code",
   "execution_count": null,
   "id": "b93c1e7d-e8b9-48bd-875b-6bd00e235e5e",
   "metadata": {},
   "outputs": [],
   "source": []
  }
 ],
 "metadata": {
  "kernelspec": {
   "display_name": "Python 3 (ipykernel)",
   "language": "python",
   "name": "python3"
  },
  "language_info": {
   "codemirror_mode": {
    "name": "ipython",
    "version": 3
   },
   "file_extension": ".py",
   "mimetype": "text/x-python",
   "name": "python",
   "nbconvert_exporter": "python",
   "pygments_lexer": "ipython3",
   "version": "3.10.11"
  }
 },
 "nbformat": 4,
 "nbformat_minor": 5
}
