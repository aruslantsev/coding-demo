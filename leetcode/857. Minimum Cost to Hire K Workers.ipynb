{
 "cells": [
  {
   "cell_type": "markdown",
   "id": "0471ac91-aac5-4fb7-9773-463d734b5bd0",
   "metadata": {},
   "source": [
    "There are n workers. You are given two integer arrays quality and wage where quality[i] is the quality of the ith worker and wage[i] is the minimum wage expectation for the ith worker.\n",
    "\n",
    "We want to hire exactly k workers to form a paid group. To hire a group of k workers, we must pay them according to the following rules:\n",
    "\n",
    "    Every worker in the paid group must be paid at least their minimum wage expectation.\n",
    "    In the group, each worker's pay must be directly proportional to their quality. This means if a worker’s quality is double that of another worker in the group, then they must be paid twice as much as the other worker.\n",
    "\n",
    "Given the integer k, return the least amount of money needed to form a paid group satisfying the above conditions. Answers within 10-5 of the actual answer will be accepted.\n",
    "\n",
    " \n",
    "\n",
    "Example 1:\n",
    "\n",
    "Input: quality = [10,20,5], wage = [70,50,30], k = 2\n",
    "Output: 105.00000\n",
    "Explanation: We pay 70 to 0th worker and 35 to 2nd worker.\n",
    "\n",
    "Example 2:\n",
    "\n",
    "Input: quality = [3,1,10,10,1], wage = [4,8,2,2,7], k = 3\n",
    "Output: 30.66667\n",
    "Explanation: We pay 4 to 0th worker, 13.33333 to 2nd and 3rd workers separately.\n",
    "\n",
    " \n",
    "\n",
    "Constraints:\n",
    "\n",
    "    n == quality.length == wage.length\n",
    "    1 <= k <= n <= 104\n",
    "    1 <= quality[i], wage[i] <= 104\n",
    "\n"
   ]
  },
  {
   "cell_type": "code",
   "execution_count": null,
   "id": "ce140189-6998-477b-ba75-7c40ac642c9b",
   "metadata": {},
   "outputs": [],
   "source": [
    "class Solution:\n",
    "    def mincostToHireWorkers(self, quality: List[int], wage: List[int], k: int) -> float:\n",
    "        n = len(quality)\n",
    "        total_cost = float(\"inf\")\n",
    "        current_total_quality = 0\n",
    "        wage_to_quality_ratio = []\n",
    "\n",
    "        # Calculate wage-to-quality ratio for each worker\n",
    "        for i in range(n):\n",
    "            wage_to_quality_ratio.append((wage[i] / quality[i], quality[i]))\n",
    "\n",
    "        # Sort workers based on their wage-to-quality ratio\n",
    "        wage_to_quality_ratio.sort(key=lambda x: x[0])\n",
    "\n",
    "        # Use a heap to keep track of the highest quality workers\n",
    "        highest_quality_workers = []\n",
    "\n",
    "        # Iterate through workers\n",
    "        for i in range(n):\n",
    "            heapq.heappush(highest_quality_workers, -wage_to_quality_ratio[i][1])\n",
    "            current_total_quality += wage_to_quality_ratio[i][1]\n",
    "\n",
    "            # If we have more than k workers, \n",
    "            # remove the one with the highest quality\n",
    "            if len(highest_quality_workers) > k:\n",
    "                current_total_quality += heapq.heappop(highest_quality_workers)\n",
    "\n",
    "            # If we have exactly k workers, \n",
    "            # calculate the total cost and update if it's the minimum\n",
    "            if len(highest_quality_workers) == k:\n",
    "                total_cost = min(\n",
    "                    total_cost, current_total_quality * wage_to_quality_ratio[i][0]\n",
    "                )\n",
    "\n",
    "        return total_cost"
   ]
  }
 ],
 "metadata": {
  "kernelspec": {
   "display_name": "Python 3 (ipykernel)",
   "language": "python",
   "name": "python3"
  },
  "language_info": {
   "codemirror_mode": {
    "name": "ipython",
    "version": 3
   },
   "file_extension": ".py",
   "mimetype": "text/x-python",
   "name": "python",
   "nbconvert_exporter": "python",
   "pygments_lexer": "ipython3",
   "version": "3.12.3"
  }
 },
 "nbformat": 4,
 "nbformat_minor": 5
}
