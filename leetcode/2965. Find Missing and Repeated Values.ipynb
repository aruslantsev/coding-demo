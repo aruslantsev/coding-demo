{
 "cells": [
  {
   "cell_type": "markdown",
   "id": "64b28ac2-b553-45fd-8c47-0706b8cd402a",
   "metadata": {},
   "source": [
    "You are given a 0-indexed 2D integer matrix grid of size n * n with values in the range [1, n2]. Each integer appears exactly once except a which appears twice and b which is missing. The task is to find the repeating and missing numbers a and b.\n",
    "\n",
    "Return a 0-indexed integer array ans of size 2 where ans[0] equals to a and ans[1] equals to b.\n",
    "\n",
    " \n",
    "\n",
    "Example 1:\n",
    "\n",
    "Input: grid = [[1,3],[2,2]]\n",
    "Output: [2,4]\n",
    "Explanation: Number 2 is repeated and number 4 is missing so the answer is [2,4].\n",
    "\n",
    "Example 2:\n",
    "\n",
    "Input: grid = [[9,1,7],[8,9,2],[3,4,6]]\n",
    "Output: [9,5]\n",
    "Explanation: Number 9 is repeated and number 5 is missing so the answer is [9,5].\n",
    "\n",
    " \n",
    "\n",
    "Constraints:\n",
    "\n",
    "    2 <= n == grid.length == grid[i].length <= 50\n",
    "    1 <= grid[i][j] <= n * n\n",
    "    For all x that 1 <= x <= n * n there is exactly one x that is not equal to any of the grid members.\n",
    "    For all x that 1 <= x <= n * n there is exactly one x that is equal to exactly two of the grid members.\n",
    "    For all x that 1 <= x <= n * n except two of them there is exatly one pair of i, j that 0 <= i, j <= n - 1 and grid[i][j] == x.\n",
    "\n"
   ]
  },
  {
   "cell_type": "code",
   "execution_count": null,
   "id": "272a75dc-19ec-4a64-87c0-2352fbcca4b4",
   "metadata": {},
   "outputs": [],
   "source": [
    "class Solution:\n",
    "    def findMissingAndRepeatedValues(self, grid: List[List[int]]) -> List[int]:\n",
    "        missing = None\n",
    "        repeated = None\n",
    "        seen = set()\n",
    "        for row in grid:\n",
    "            for num in row:\n",
    "                if num not in seen:\n",
    "                    seen.add(num)\n",
    "                else:\n",
    "                    repeated = num\n",
    "        missing = [i for i in range(1, len(grid) ** 2 + 1) if i not in seen][0]\n",
    "        return [repeated, missing]"
   ]
  },
  {
   "cell_type": "code",
   "execution_count": null,
   "id": "4bc319ff-0da5-481f-822b-6ef1db3c2dd5",
   "metadata": {},
   "outputs": [],
   "source": [
    "class Solution:\n",
    "    def findMissingAndRepeatedValues(self, grid: List[List[int]]) -> List[int]:\n",
    "        # Get grid dimensions\n",
    "        n = len(grid)\n",
    "        total = n * n\n",
    "\n",
    "        # Calculate actual sums from grid\n",
    "        sum_val = sum(num for row in grid for num in row)\n",
    "        sqr_sum = sum(num * num for row in grid for num in row)\n",
    "\n",
    "        # Calculate differences from expected sums\n",
    "        # Expected sum: n(n+1)/2, Expected square sum: n(n+1)(2n+1)/6\n",
    "        sum_diff = sum_val - total * (total + 1) // 2\n",
    "        sqr_diff = sqr_sum - total * (total + 1) * (2 * total + 1) // 6\n",
    "\n",
    "        # Using math: If x is repeated and y is missing\n",
    "        # sum_diff = x - y\n",
    "        # sqr_diff = x² - y²\n",
    "        repeat = (sqr_diff // sum_diff + sum_diff) // 2\n",
    "        missing = (sqr_diff // sum_diff - sum_diff) // 2\n",
    "\n",
    "        return [repeat, missing]"
   ]
  }
 ],
 "metadata": {
  "kernelspec": {
   "display_name": "Python 3 (ipykernel)",
   "language": "python",
   "name": "python3"
  },
  "language_info": {
   "codemirror_mode": {
    "name": "ipython",
    "version": 3
   },
   "file_extension": ".py",
   "mimetype": "text/x-python",
   "name": "python",
   "nbconvert_exporter": "python",
   "pygments_lexer": "ipython3",
   "version": "3.12.7"
  }
 },
 "nbformat": 4,
 "nbformat_minor": 5
}
