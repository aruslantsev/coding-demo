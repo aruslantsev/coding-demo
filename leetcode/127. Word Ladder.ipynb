{
 "cells": [
  {
   "cell_type": "markdown",
   "id": "c5f2e27a",
   "metadata": {},
   "source": [
    "A transformation sequence from word beginWord to word endWord using a dictionary wordList is a sequence of words beginWord -> s1 -> s2 -> ... -> sk such that:\n",
    "\n",
    "    Every adjacent pair of words differs by a single letter.\n",
    "    Every si for 1 <= i <= k is in wordList. Note that beginWord does not need to be in wordList.\n",
    "    sk == endWord\n",
    "\n",
    "Given two words, beginWord and endWord, and a dictionary wordList, return the number of words in the shortest transformation sequence from beginWord to endWord, or 0 if no such sequence exists.\n",
    "\n",
    " \n",
    "\n",
    "Example 1:\n",
    "\n",
    "Input: beginWord = \"hit\", endWord = \"cog\", wordList = [\"hot\",\"dot\",\"dog\",\"lot\",\"log\",\"cog\"]\n",
    "Output: 5\n",
    "Explanation: One shortest transformation sequence is \"hit\" -> \"hot\" -> \"dot\" -> \"dog\" -> cog\", which is 5 words long.\n",
    "\n",
    "Example 2:\n",
    "\n",
    "Input: beginWord = \"hit\", endWord = \"cog\", wordList = [\"hot\",\"dot\",\"dog\",\"lot\",\"log\"]\n",
    "Output: 0\n",
    "Explanation: The endWord \"cog\" is not in wordList, therefore there is no valid transformation sequence.\n",
    "\n",
    " \n",
    "\n",
    "Constraints:\n",
    "\n",
    "    1 <= beginWord.length <= 10\n",
    "    endWord.length == beginWord.length\n",
    "    1 <= wordList.length <= 5000\n",
    "    wordList[i].length == beginWord.length\n",
    "    beginWord, endWord, and wordList[i] consist of lowercase English letters.\n",
    "    beginWord != endWord\n",
    "    All the words in wordList are unique."
   ]
  },
  {
   "cell_type": "code",
   "execution_count": 108,
   "id": "4fe2f602",
   "metadata": {},
   "outputs": [],
   "source": [
    "from typing import List\n",
    "\n",
    "\n",
    "class Solution:\n",
    "    def ladderLength(self, beginWord: str, endWord: str, wordList: List[str]) -> int:\n",
    "        all_cands = set()\n",
    "        if endWord not in wordList:\n",
    "            return 0\n",
    "        wordList.append(beginWord)\n",
    "        \n",
    "        class Node:\n",
    "            def __init__(self, beginWord, endWord, wordList, level):\n",
    "                self.currWord = beginWord\n",
    "                self.children = []\n",
    "                self.level = level\n",
    "                wordList_curr = list(set(wordList.copy()))\n",
    "                wordList_curr.pop(wordList_curr.index(beginWord))\n",
    "                if self.currWord == endWord:\n",
    "                    all_cands.add(self.level + 1)\n",
    "                if not ((wordList_curr == []) or (self.currWord == endWord)):\n",
    "                    for word in wordList_curr:\n",
    "                        diff = 0\n",
    "                        for l in range(len(word)):\n",
    "                            if word[l] != beginWord[l]:\n",
    "                                diff +=1\n",
    "                        if diff == 1:\n",
    "                            self.children.append(Node(word, endWord, wordList_curr, level + 1))\n",
    "                    \n",
    "        tree = Node(beginWord, endWord, wordList, 0)\n",
    "        if len(all_cands) == 0:\n",
    "            return 0\n",
    "        else:\n",
    "            return min(all_cands)"
   ]
  },
  {
   "cell_type": "code",
   "execution_count": 1,
   "id": "04cb1b5a",
   "metadata": {},
   "outputs": [],
   "source": [
    "from collections import deque\n",
    "from typing import List\n",
    "\n",
    "class Solution:\n",
    "    def ladderLength(self, beginWord: str, endWord: str, wordList: List[str]) -> int:\n",
    "        if endWord not in wordList:\n",
    "            return 0\n",
    "        return self.bfs(beginWord, endWord, wordList)\n",
    "        \n",
    "    def bfs(self, beginWord, endWord, wordList):\n",
    "        visited = {}\n",
    "        visited[beginWord] = True\n",
    "        queue = deque([])\n",
    "        self.appendInQueue(beginWord, 1, wordList, queue, visited)\n",
    "        while queue:\n",
    "            popWord, level = queue.popleft()\n",
    "            visited[popWord] = True\n",
    "            if popWord == endWord:\n",
    "                return level\n",
    "            self.appendInQueue(popWord, level, wordList, queue, visited)\n",
    "        return 0\n",
    "    \n",
    "        \n",
    "    def appendInQueue(self, word, level, wordList, queue, visited):\n",
    "        for s in wordList:\n",
    "            if s not in visited and self.checkOneLetter(word, s):\n",
    "                queue.append((s, level + 1))\n",
    "    \n",
    "    def checkOneLetter(self, s1, s2):\n",
    "        count = 0\n",
    "        for c1, c2 in zip(s1, s2):\n",
    "            if c1 != c2 :\n",
    "                count +=1\n",
    "            if count >1:\n",
    "                return False\n",
    "        return True\n"
   ]
  },
  {
   "cell_type": "code",
   "execution_count": null,
   "id": "9391d2c6",
   "metadata": {},
   "outputs": [],
   "source": [
    "from collections import defaultdict\n",
    "from collections import deque\n",
    "\n",
    "class Solution(object):\n",
    "    def ladderLength(self, beginWord, endWord, wordList):\n",
    "        if endWord not in wordList:\n",
    "            return 0\n",
    "        \n",
    "        wordHash = self.buildHash(wordList)\n",
    "        \n",
    "        return self.bfs(beginWord, endWord, wordHash)\n",
    "        \n",
    "    def bfs(self, beginWord, endWord, wordHash):\n",
    "        visited = {}\n",
    "        queue = deque([[beginWord, 1]]) # every element store [word, level]\n",
    "        while queue:\n",
    "            popWord, level = queue.popleft()\n",
    "            visited[popWord] = True\n",
    "            \n",
    "            for i in range(len(popWord)):\n",
    "                prefix = popWord[:i]\n",
    "                suffix = popWord[i + 1:]\n",
    "                key = prefix + '*' + suffix # key value\n",
    "                # Traverse through and find next word to be append in queue\n",
    "                for nextWord in wordHash[key]:\n",
    "                    # End point\n",
    "                    if nextWord == endWord:\n",
    "                        return level + 1 \n",
    "                    # Append next word in queue\n",
    "                    if nextWord not in visited:\n",
    "                        queue.append([nextWord, level + 1])\n",
    "                # To prevent trverse same key again and find all visited\n",
    "                wordHash[key] = [] \n",
    "        return 0\n",
    "    \n",
    "    \n",
    "    def buildHash(self, wordList):\n",
    "        wordHash = defaultdict(list)\n",
    "        for word in wordList:\n",
    "            # Put * in every possible index and add up its prefix and suffix\n",
    "            for i in range(len(wordList[0])):\n",
    "                prefix = word[:i]\n",
    "                suffix = word[i + 1:]\n",
    "                wordHash[prefix + '*' + suffix].append(word)\n",
    "        return wordHash"
   ]
  },
  {
   "cell_type": "code",
   "execution_count": 2,
   "id": "6dbc4093",
   "metadata": {},
   "outputs": [
    {
     "data": {
      "text/plain": [
       "5"
      ]
     },
     "execution_count": 2,
     "metadata": {},
     "output_type": "execute_result"
    }
   ],
   "source": [
    "s = Solution()\n",
    "s.ladderLength(beginWord = \"hit\", endWord = \"cog\", wordList = [\"hot\",\"dot\",\"dog\",\"lot\",\"log\",\"cog\"])"
   ]
  },
  {
   "cell_type": "code",
   "execution_count": 3,
   "id": "75551b5a",
   "metadata": {},
   "outputs": [
    {
     "data": {
      "text/plain": [
       "0"
      ]
     },
     "execution_count": 3,
     "metadata": {},
     "output_type": "execute_result"
    }
   ],
   "source": [
    "s.ladderLength(beginWord = \"hit\", endWord = \"cog\", wordList = [\"hot\",\"dot\",\"dog\",\"lot\",\"log\"])"
   ]
  },
  {
   "cell_type": "code",
   "execution_count": 4,
   "id": "143ac7c1",
   "metadata": {},
   "outputs": [
    {
     "data": {
      "text/plain": [
       "0"
      ]
     },
     "execution_count": 4,
     "metadata": {},
     "output_type": "execute_result"
    }
   ],
   "source": [
    "s = Solution()\n",
    "s.ladderLength(\"hot\", \"dog\", [\"hot\",\"dog\"])"
   ]
  },
  {
   "cell_type": "code",
   "execution_count": 5,
   "id": "603ed277",
   "metadata": {},
   "outputs": [
    {
     "data": {
      "text/plain": [
       "2"
      ]
     },
     "execution_count": 5,
     "metadata": {},
     "output_type": "execute_result"
    }
   ],
   "source": [
    "s = Solution()\n",
    "s.ladderLength(\"a\", \"c\", [\"a\",\"b\",\"c\"])"
   ]
  },
  {
   "cell_type": "code",
   "execution_count": 6,
   "id": "31798f28",
   "metadata": {},
   "outputs": [
    {
     "data": {
      "text/plain": [
       "3"
      ]
     },
     "execution_count": 6,
     "metadata": {},
     "output_type": "execute_result"
    }
   ],
   "source": [
    "s = Solution()\n",
    "s.ladderLength(\"hot\", \"dog\", [\"hot\",\"dog\",\"dot\"])"
   ]
  },
  {
   "cell_type": "code",
   "execution_count": null,
   "id": "9eb9fd56",
   "metadata": {},
   "outputs": [],
   "source": []
  }
 ],
 "metadata": {
  "kernelspec": {
   "display_name": "Python 3 (ipykernel)",
   "language": "python",
   "name": "python3"
  },
  "language_info": {
   "codemirror_mode": {
    "name": "ipython",
    "version": 3
   },
   "file_extension": ".py",
   "mimetype": "text/x-python",
   "name": "python",
   "nbconvert_exporter": "python",
   "pygments_lexer": "ipython3",
   "version": "3.9.10"
  }
 },
 "nbformat": 4,
 "nbformat_minor": 5
}
