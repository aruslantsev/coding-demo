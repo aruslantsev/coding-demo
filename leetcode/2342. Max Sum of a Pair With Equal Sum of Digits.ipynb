{
 "cells": [
  {
   "cell_type": "markdown",
   "id": "a3c8e331-220f-4244-baca-e6cbd45b4351",
   "metadata": {},
   "source": [
    "You are given a 0-indexed array nums consisting of positive integers. You can choose two indices i and j, such that i != j, and the sum of digits of the number nums[i] is equal to that of nums[j].\n",
    "\n",
    "Return the maximum value of nums[i] + nums[j] that you can obtain over all possible indices i and j that satisfy the conditions.\n",
    "\n",
    " \n",
    "\n",
    "Example 1:\n",
    "\n",
    "Input: nums = [18,43,36,13,7]\n",
    "Output: 54\n",
    "Explanation: The pairs (i, j) that satisfy the conditions are:\n",
    "- (0, 2), both numbers have a sum of digits equal to 9, and their sum is 18 + 36 = 54.\n",
    "- (1, 4), both numbers have a sum of digits equal to 7, and their sum is 43 + 7 = 50.\n",
    "So the maximum sum that we can obtain is 54.\n",
    "\n",
    "Example 2:\n",
    "\n",
    "Input: nums = [10,12,19,14]\n",
    "Output: -1\n",
    "Explanation: There are no two numbers that satisfy the conditions, so we return -1.\n",
    "\n",
    " \n",
    "\n",
    "Constraints:\n",
    "\n",
    "    1 <= nums.length <= 105\n",
    "    1 <= nums[i] <= 109\n",
    "\n"
   ]
  },
  {
   "cell_type": "code",
   "execution_count": null,
   "id": "eb4a65ad-e696-4e4c-a646-afb7da44bc63",
   "metadata": {},
   "outputs": [],
   "source": [
    "class Solution:\n",
    "    def maximumSum(self, nums: List[int]) -> int:\n",
    "        nums = [-num for num in nums]\n",
    "        heapq.heapify(nums)\n",
    "        sums = dict()\n",
    "\n",
    "        def num2sums(num):\n",
    "            ret = 0\n",
    "            while num > 0:\n",
    "                ret += num % 10\n",
    "                num //= 10\n",
    "            return ret\n",
    "        ans = -1\n",
    "        while nums:\n",
    "            num = -heapq.heappop(nums)\n",
    "            dsum = num2sums(num)\n",
    "            if dsum in sums:\n",
    "                ans = max(ans, num + sums[dsum])\n",
    "            else:\n",
    "                sums[dsum] = num\n",
    "        return ans\n",
    "\n"
   ]
  },
  {
   "cell_type": "code",
   "execution_count": null,
   "id": "b4723987-f70a-41af-92f5-c8133e6cdd98",
   "metadata": {},
   "outputs": [],
   "source": [
    "class Solution:\n",
    "    def maximumSum(self, nums):\n",
    "        result = -1\n",
    "        # Array to map digit sums to the largest element with that sum\n",
    "        # (82 to cover all possible sums from 0 to 81)\n",
    "        digit_mapping = [0] * 82\n",
    "\n",
    "        for element in nums:\n",
    "            digit_sum = 0\n",
    "            # Calculating digit sum\n",
    "            temp_element = element\n",
    "            while temp_element:\n",
    "                # Extract the last digit and add it to digit sum\n",
    "                temp_element, curr_digit = divmod(temp_element, 10)\n",
    "                digit_sum += curr_digit\n",
    "\n",
    "            # Check if there is already an element with the same digit sum\n",
    "            if digit_mapping[digit_sum] > 0:\n",
    "                # Update the result if the sum of the current and mapped element is greater\n",
    "                result = max(result, digit_mapping[digit_sum] + element)\n",
    "\n",
    "            # Update the mapping to store the larger of the current or previous element for this digit sum\n",
    "            digit_mapping[digit_sum] = max(digit_mapping[digit_sum], element)\n",
    "\n",
    "        return result"
   ]
  }
 ],
 "metadata": {
  "kernelspec": {
   "display_name": "Python 3 (ipykernel)",
   "language": "python",
   "name": "python3"
  },
  "language_info": {
   "codemirror_mode": {
    "name": "ipython",
    "version": 3
   },
   "file_extension": ".py",
   "mimetype": "text/x-python",
   "name": "python",
   "nbconvert_exporter": "python",
   "pygments_lexer": "ipython3",
   "version": "3.12.7"
  }
 },
 "nbformat": 4,
 "nbformat_minor": 5
}
