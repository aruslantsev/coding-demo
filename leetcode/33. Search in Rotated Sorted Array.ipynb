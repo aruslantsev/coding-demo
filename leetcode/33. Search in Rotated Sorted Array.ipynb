{
 "cells": [
  {
   "cell_type": "markdown",
   "id": "bb514fbf-a8d7-45d4-83d0-ef55e3ee4ed0",
   "metadata": {},
   "source": [
    "There is an integer array nums sorted in ascending order (with distinct values).\n",
    "\n",
    "Prior to being passed to your function, nums is possibly rotated at an unknown pivot index k (1 <= k < nums.length) such that the resulting array is [nums[k], nums[k+1], ..., nums[n-1], nums[0], nums[1], ..., nums[k-1]] (0-indexed). For example, [0,1,2,4,5,6,7] might be rotated at pivot index 3 and become [4,5,6,7,0,1,2].\n",
    "\n",
    "Given the array nums after the possible rotation and an integer target, return the index of target if it is in nums, or -1 if it is not in nums.\n",
    "\n",
    "You must write an algorithm with O(log n) runtime complexity.\n",
    "\n",
    " \n",
    "\n",
    "Example 1:\n",
    "\n",
    "Input: nums = [4,5,6,7,0,1,2], target = 0\n",
    "Output: 4\n",
    "\n",
    "Example 2:\n",
    "\n",
    "Input: nums = [4,5,6,7,0,1,2], target = 3\n",
    "Output: -1\n",
    "\n",
    "Example 3:\n",
    "\n",
    "Input: nums = [1], target = 0\n",
    "Output: -1\n",
    "\n",
    " \n",
    "\n",
    "Constraints:\n",
    "\n",
    "    1 <= nums.length <= 5000\n",
    "    -104 <= nums[i] <= 104\n",
    "    All values of nums are unique.\n",
    "    nums is an ascending array that is possibly rotated.\n",
    "    -104 <= target <= 104\n",
    "\n"
   ]
  },
  {
   "cell_type": "code",
   "execution_count": 52,
   "id": "2a54ad56-9792-4d29-bd75-3e525f907c02",
   "metadata": {},
   "outputs": [],
   "source": [
    "from typing import List\n",
    "\n",
    "class Solution:\n",
    "    def search(self, nums: List[int], target: int) -> int:\n",
    "        if len(nums) == 1:\n",
    "            if nums[0] != target:\n",
    "                return -1\n",
    "            else:\n",
    "                return 0\n",
    "\n",
    "        l = 0\n",
    "        r = len(nums) - 1\n",
    "        k = 0\n",
    "        if nums[l] > nums[r]:\n",
    "            while r - l > 1:\n",
    "                m = (r + l) // 2\n",
    "                if nums[m] < nums[l]:\n",
    "                    r = m\n",
    "                else:\n",
    "                    l = m\n",
    "            if nums[l] < nums[r]:\n",
    "                k = l\n",
    "            else:\n",
    "                k = r\n",
    "            nums = nums[k:] + nums[:k]\n",
    "        \n",
    "        ans = -1\n",
    "        l = 0\n",
    "        r = len(nums) - 1\n",
    "        if not (nums[0] <= target <= nums[-1]):\n",
    "            return -1\n",
    "        while r - l > 1:\n",
    "            m = (r + l) // 2\n",
    "            if nums[m] == target:\n",
    "                ans =  m + k\n",
    "            if nums[l] == target:\n",
    "                ans = l + k\n",
    "            if nums[r] == target:\n",
    "                ans = r + k\n",
    "            \n",
    "            if nums[m] <= target:\n",
    "                l = m\n",
    "            else:\n",
    "                r = m\n",
    "        if nums[l] == target:\n",
    "            ans = l + k\n",
    "        if nums[r] == target:\n",
    "            ans = r + k\n",
    "        if ans >= 0:\n",
    "            return ans % len(nums)\n",
    "        \n",
    "        return -1"
   ]
  },
  {
   "cell_type": "code",
   "execution_count": 68,
   "id": "f538700b-2675-4de1-a01c-54b93d851814",
   "metadata": {},
   "outputs": [],
   "source": [
    "from typing import List\n",
    "\n",
    "class Solution:\n",
    "    def search(self, nums: List[int], target: int) -> int:\n",
    "        if len(nums) == 1:\n",
    "            if nums[0] != target:\n",
    "                return -1\n",
    "            else:\n",
    "                return 0\n",
    "\n",
    "        l = 0\n",
    "        r = len(nums) - 1\n",
    "        k = 0\n",
    "        while r - l > 1:\n",
    "            m = (r + l) // 2\n",
    "            if nums[l] <= nums[m]:\n",
    "                if nums[l] <= target <= nums[m]:\n",
    "                    r = m\n",
    "                else:\n",
    "                    l = m\n",
    "            else:\n",
    "                if nums[m] <= target <= nums[r]:\n",
    "                    l = m\n",
    "                else:\n",
    "                    r = m\n",
    "        if target == nums[l]:\n",
    "            return l\n",
    "        if target == nums[r]:\n",
    "            return r\n",
    "        return -1"
   ]
  },
  {
   "cell_type": "code",
   "execution_count": 69,
   "id": "d1da37f6-a7f2-41ef-9966-ef6b41eb4e06",
   "metadata": {},
   "outputs": [
    {
     "data": {
      "text/plain": [
       "4"
      ]
     },
     "execution_count": 69,
     "metadata": {},
     "output_type": "execute_result"
    }
   ],
   "source": [
    "s = Solution()\n",
    "s.search([4, 5, 6, 7, 0, 1, 2, 3], 0)"
   ]
  },
  {
   "cell_type": "code",
   "execution_count": 70,
   "id": "402c0390-935d-498d-9bdf-ca54d3ba24f6",
   "metadata": {},
   "outputs": [
    {
     "data": {
      "text/plain": [
       "-1"
      ]
     },
     "execution_count": 70,
     "metadata": {},
     "output_type": "execute_result"
    }
   ],
   "source": [
    "s = Solution()\n",
    "s.search([4, 5, 6, 7, 0, 1, 2], 3)"
   ]
  },
  {
   "cell_type": "code",
   "execution_count": 71,
   "id": "e3515246-f42f-489d-bc2f-4bbf32e0fec1",
   "metadata": {},
   "outputs": [
    {
     "data": {
      "text/plain": [
       "0"
      ]
     },
     "execution_count": 71,
     "metadata": {},
     "output_type": "execute_result"
    }
   ],
   "source": [
    "s.search([1], 1)"
   ]
  },
  {
   "cell_type": "code",
   "execution_count": 72,
   "id": "09d1afaa-e044-48f8-83a7-0dd087cadf4d",
   "metadata": {},
   "outputs": [
    {
     "data": {
      "text/plain": [
       "1"
      ]
     },
     "execution_count": 72,
     "metadata": {},
     "output_type": "execute_result"
    }
   ],
   "source": [
    "s.search([2, 1], 1)"
   ]
  },
  {
   "cell_type": "code",
   "execution_count": 73,
   "id": "6c55ac02-3bc4-4f25-b61a-9bda35b6563c",
   "metadata": {},
   "outputs": [
    {
     "data": {
      "text/plain": [
       "0"
      ]
     },
     "execution_count": 73,
     "metadata": {},
     "output_type": "execute_result"
    }
   ],
   "source": [
    "s.search([3, 1], 3)"
   ]
  },
  {
   "cell_type": "code",
   "execution_count": null,
   "id": "5931610b-2c3a-4ba7-9b81-1ec8941ca91a",
   "metadata": {},
   "outputs": [],
   "source": []
  }
 ],
 "metadata": {
  "kernelspec": {
   "display_name": "Python 3 (ipykernel)",
   "language": "python",
   "name": "python3"
  },
  "language_info": {
   "codemirror_mode": {
    "name": "ipython",
    "version": 3
   },
   "file_extension": ".py",
   "mimetype": "text/x-python",
   "name": "python",
   "nbconvert_exporter": "python",
   "pygments_lexer": "ipython3",
   "version": "3.9.10"
  }
 },
 "nbformat": 4,
 "nbformat_minor": 5
}
