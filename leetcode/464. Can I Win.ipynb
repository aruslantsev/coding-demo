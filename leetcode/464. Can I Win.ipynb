{
 "cells": [
  {
   "cell_type": "markdown",
   "id": "5c509ec0-93e2-4cb1-bd07-b26d191d7e0c",
   "metadata": {},
   "source": [
    "In the \"100 game\" two players take turns adding, to a running total, any integer from 1 to 10. The player who first causes the running total to reach or exceed 100 wins.\n",
    "\n",
    "What if we change the game so that players cannot re-use integers?\n",
    "\n",
    "For example, two players might take turns drawing from a common pool of numbers from 1 to 15 without replacement until they reach a total >= 100.\n",
    "\n",
    "Given two integers maxChoosableInteger and desiredTotal, return true if the first player to move can force a win, otherwise, return false. Assume both players play optimally.\n",
    "\n",
    " \n",
    "\n",
    "Example 1:\n",
    "\n",
    "Input: maxChoosableInteger = 10, desiredTotal = 11\n",
    "Output: false\n",
    "Explanation:\n",
    "No matter which integer the first player choose, the first player will lose.\n",
    "The first player can choose an integer from 1 up to 10.\n",
    "If the first player choose 1, the second player can only choose integers from 2 up to 10.\n",
    "The second player will win by choosing 10 and get a total = 11, which is >= desiredTotal.\n",
    "Same with other integers chosen by the first player, the second player will always win.\n",
    "\n",
    "Example 2:\n",
    "\n",
    "Input: maxChoosableInteger = 10, desiredTotal = 0\n",
    "Output: true\n",
    "\n",
    "Example 3:\n",
    "\n",
    "Input: maxChoosableInteger = 10, desiredTotal = 1\n",
    "Output: true\n",
    "\n",
    " \n",
    "\n",
    "Constraints:\n",
    "\n",
    "    1 <= maxChoosableInteger <= 20\n",
    "    0 <= desiredTotal <= 300\n",
    "\n"
   ]
  },
  {
   "cell_type": "code",
   "execution_count": 114,
   "id": "b934b0e1-925f-4c7b-a2f8-e18cb53a3b24",
   "metadata": {},
   "outputs": [],
   "source": [
    "from functools import cache\n",
    "\n",
    "class Solution:\n",
    "    def canIWin(self, maxChoosableInteger: int, desiredTotal: int) -> bool:\n",
    "        if desiredTotal == 0:\n",
    "            return True\n",
    "        choosable = [i + 1 for i in range(maxChoosableInteger)]\n",
    "        \n",
    "        @cache\n",
    "        def make_choice(choosable, remaining):\n",
    "            choosable = list(choosable)\n",
    "            if any([remaining <= num for num in choosable]):\n",
    "                return True\n",
    "            \n",
    "            # if for any choice of 1st player 2nd can win: return False\n",
    "            tests = []\n",
    "            for num in choosable:\n",
    "                tests.append(any([(remaining - num) <= ch for ch in choosable if ch != num]))\n",
    "            if all(tests):\n",
    "                return False\n",
    "            \n",
    "            res = []\n",
    "            for i in range(len(choosable)):\n",
    "                if not tests[i]:\n",
    "                    choosable_copy = choosable.copy()\n",
    "                    del choosable_copy[i]\n",
    "                    for num in choosable_copy:\n",
    "                        res.append(make_choice(tuple(choosable_copy), desiredTotal - choosable[i] - num))\n",
    "            return any(res)\n",
    "        \n",
    "        return make_choice(tuple(choosable), desiredTotal)"
   ]
  },
  {
   "cell_type": "code",
   "execution_count": 132,
   "id": "f330fe70-db02-4ebf-8b42-5436e30b71e5",
   "metadata": {},
   "outputs": [],
   "source": [
    "class Solution:\n",
    "    def canIWin(self, maxChoosableInteger: int, desiredTotal: int) -> bool:\n",
    "        if desiredTotal == 0:\n",
    "            return True\n",
    "        if (maxChoosableInteger * (maxChoosableInteger + 1)) // 2 < desiredTotal:\n",
    "            return False\n",
    "        \n",
    "        @cache\n",
    "        def play(curr, used, isP1):\n",
    "            if curr >= desiredTotal:\n",
    "                return not isP1\n",
    "            \n",
    "            win = not isP1\n",
    "            \n",
    "            for i in range(1, maxChoosableInteger + 1):\n",
    "                mask = 1 << i\n",
    "                if not used & mask:\n",
    "                    if isP1:\n",
    "                        win = win or play(curr + i, used ^ mask, not isP1)\n",
    "                    else:\n",
    "                        win = win and play(curr + i, used ^ mask, not isP1)\n",
    "\n",
    "            return win\n",
    "        \n",
    "        return play(0, 0, True)"
   ]
  },
  {
   "cell_type": "code",
   "execution_count": 141,
   "id": "76582ab2-f34c-4cb1-bb05-6d351da8f5bb",
   "metadata": {},
   "outputs": [],
   "source": [
    "class Solution:\n",
    "    def canIWin(self, maxChoosableInteger: int, desiredTotal: int) -> bool:\n",
    "        if desiredTotal < 0:\n",
    "            return False\n",
    "        if 0 <= desiredTotal <= maxChoosableInteger:\n",
    "            return True\n",
    "        if (0 + maxChoosableInteger) * (1 + maxChoosableInteger) // 2 < desiredTotal:\n",
    "            return False\n",
    "\n",
    "        state = ['0' for _ in range(maxChoosableInteger)]\n",
    "        memo = dict()\n",
    "\n",
    "        def dfs(total, state): \n",
    "            state_str = ''.join(state)\n",
    "            if state_str in memo:\n",
    "                return memo[state_str] \n",
    "            for i in range(maxChoosableInteger): \n",
    "                if state[i] == '0': \n",
    "                    state[i] = '1'\n",
    "                    if total <= i + 1 or dfs(total - i - 1, state) is False: \n",
    "                        state[i] = '0'\n",
    "                        memo[state_str] = True\n",
    "                        return memo[state_str] \n",
    "                    state[i] = '0'\n",
    "            memo[state_str] = False  \n",
    "            return memo[state_str]\n",
    "        return dfs(desiredTotal, state)"
   ]
  },
  {
   "cell_type": "code",
   "execution_count": 142,
   "id": "baebea10-30ba-4510-96a1-8afad826e5d5",
   "metadata": {},
   "outputs": [
    {
     "data": {
      "text/plain": [
       "True"
      ]
     },
     "execution_count": 142,
     "metadata": {},
     "output_type": "execute_result"
    }
   ],
   "source": [
    "s = Solution()\n",
    "s.canIWin(3, 1)"
   ]
  },
  {
   "cell_type": "code",
   "execution_count": 143,
   "id": "ead845b4-1a9c-42e8-8c7c-23a5ed9c891c",
   "metadata": {},
   "outputs": [
    {
     "data": {
      "text/plain": [
       "False"
      ]
     },
     "execution_count": 143,
     "metadata": {},
     "output_type": "execute_result"
    }
   ],
   "source": [
    "s = Solution()\n",
    "s.canIWin(10, 11)"
   ]
  },
  {
   "cell_type": "code",
   "execution_count": 144,
   "id": "8ead5821-6711-4edf-9691-09a0d4eb5132",
   "metadata": {},
   "outputs": [
    {
     "data": {
      "text/plain": [
       "True"
      ]
     },
     "execution_count": 144,
     "metadata": {},
     "output_type": "execute_result"
    }
   ],
   "source": [
    "s.canIWin(10, 0)"
   ]
  },
  {
   "cell_type": "code",
   "execution_count": 145,
   "id": "b8caa12b-35bc-4a6d-9696-c6342c963057",
   "metadata": {},
   "outputs": [
    {
     "data": {
      "text/plain": [
       "True"
      ]
     },
     "execution_count": 145,
     "metadata": {},
     "output_type": "execute_result"
    }
   ],
   "source": [
    "s.canIWin(10, 1)"
   ]
  },
  {
   "cell_type": "code",
   "execution_count": 146,
   "id": "6195bf02-f486-4db7-88f3-55c8835b603c",
   "metadata": {},
   "outputs": [
    {
     "data": {
      "text/plain": [
       "True"
      ]
     },
     "execution_count": 146,
     "metadata": {},
     "output_type": "execute_result"
    }
   ],
   "source": [
    "s.canIWin(10, 2)"
   ]
  },
  {
   "cell_type": "code",
   "execution_count": 147,
   "id": "d64492aa-34da-4964-843d-fcd83e56591b",
   "metadata": {},
   "outputs": [
    {
     "data": {
      "text/plain": [
       "True"
      ]
     },
     "execution_count": 147,
     "metadata": {},
     "output_type": "execute_result"
    }
   ],
   "source": [
    "s.canIWin(4, 6)"
   ]
  },
  {
   "cell_type": "code",
   "execution_count": 148,
   "id": "56d5195f-9280-4a23-a192-f1f00c9692ae",
   "metadata": {},
   "outputs": [
    {
     "data": {
      "text/plain": [
       "False"
      ]
     },
     "execution_count": 148,
     "metadata": {},
     "output_type": "execute_result"
    }
   ],
   "source": [
    "s.canIWin(10, 40)"
   ]
  },
  {
   "cell_type": "code",
   "execution_count": 149,
   "id": "2aa47e13-b64e-452f-8348-3533cb33ce7c",
   "metadata": {},
   "outputs": [
    {
     "data": {
      "text/plain": [
       "True"
      ]
     },
     "execution_count": 149,
     "metadata": {},
     "output_type": "execute_result"
    }
   ],
   "source": [
    "s.canIWin(18, 79)"
   ]
  },
  {
   "cell_type": "code",
   "execution_count": null,
   "id": "df9c0731-1bfa-4ef4-ae3d-642cd85a4c8f",
   "metadata": {},
   "outputs": [],
   "source": []
  }
 ],
 "metadata": {
  "kernelspec": {
   "display_name": "Python 3 (ipykernel)",
   "language": "python",
   "name": "python3"
  },
  "language_info": {
   "codemirror_mode": {
    "name": "ipython",
    "version": 3
   },
   "file_extension": ".py",
   "mimetype": "text/x-python",
   "name": "python",
   "nbconvert_exporter": "python",
   "pygments_lexer": "ipython3",
   "version": "3.9.12"
  }
 },
 "nbformat": 4,
 "nbformat_minor": 5
}
