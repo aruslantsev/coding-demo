{
 "cells": [
  {
   "cell_type": "markdown",
   "id": "92ad54de-093a-46d7-969e-3ba1f2dcee70",
   "metadata": {},
   "source": [
    "Given a collection of candidate numbers (candidates) and a target number (target), find all unique combinations in candidates where the candidate numbers sum to target.\n",
    "\n",
    "Each number in candidates may only be used once in the combination.\n",
    "\n",
    "Note: The solution set must not contain duplicate combinations.\n",
    "\n",
    " \n",
    "\n",
    "Example 1:\n",
    "\n",
    "Input: candidates = [10,1,2,7,6,1,5], target = 8\n",
    "Output: \n",
    "[\n",
    "[1,1,6],\n",
    "[1,2,5],\n",
    "[1,7],\n",
    "[2,6]\n",
    "]\n",
    "\n",
    "Example 2:\n",
    "\n",
    "Input: candidates = [2,5,2,1,2], target = 5\n",
    "Output: \n",
    "[\n",
    "[1,2,2],\n",
    "[5]\n",
    "]\n",
    "\n",
    " \n",
    "\n",
    "Constraints:\n",
    "\n",
    "    1 <= candidates.length <= 100\n",
    "    1 <= candidates[i] <= 50\n",
    "    1 <= target <= 30\n",
    "\n"
   ]
  },
  {
   "cell_type": "code",
   "execution_count": 24,
   "id": "40968928-eb9f-4713-8987-2843730aed36",
   "metadata": {},
   "outputs": [],
   "source": [
    "from typing import List\n",
    "from collections import Counter\n",
    "\n",
    "class Solution:\n",
    "    def combinationSum2(self, candidates: List[int], target: int) -> List[List[int]]:\n",
    "        ans = set()\n",
    "        candidates.sort()\n",
    "        def comb_sum(curr_sum, curr_nums, start_pos):\n",
    "            if curr_sum == target:\n",
    "                ans.add(tuple(curr_nums))\n",
    "            for i in range(start_pos, len(candidates)):\n",
    "                if curr_sum + candidates[i] <= target:\n",
    "                    curr_nums.append(candidates[i])\n",
    "                    comb_sum(curr_sum + candidates[i], curr_nums, i + 1)\n",
    "                    curr_nums.pop()\n",
    "                else:\n",
    "                    break\n",
    "        comb_sum(0, [], 0)\n",
    "        return list(ans)\n"
   ]
  },
  {
   "cell_type": "code",
   "execution_count": 32,
   "id": "47a9718d-add8-454b-a168-eafde778693f",
   "metadata": {},
   "outputs": [],
   "source": [
    "from typing import List\n",
    "from collections import Counter\n",
    "\n",
    "class Solution:\n",
    "    def combinationSum2(self, candidates: List[int], target: int) -> List[List[int]]:\n",
    "        ans = set()\n",
    "        counts = [[k, v] for k, v in Counter(candidates).items()]\n",
    "        counts.sort()\n",
    "\n",
    "        def comb_sum(curr_sum, curr_nums, start_pos):\n",
    "            if curr_sum == target:\n",
    "                ans.add(tuple(curr_nums))\n",
    "                return\n",
    "            for i in range(start_pos, len(counts)):\n",
    "                num, cnt = counts[i]\n",
    "                if curr_sum + num <= target:\n",
    "                    if cnt > 0:\n",
    "                        counts[i][1] -= 1\n",
    "                        curr_nums.append(num)\n",
    "                        comb_sum(curr_sum + num, curr_nums, i)\n",
    "                        curr_nums.pop()\n",
    "                        counts[i][1] += 1\n",
    "                else:\n",
    "                    break\n",
    "        comb_sum(0, [], 0)\n",
    "        return list(ans)\n"
   ]
  },
  {
   "cell_type": "code",
   "execution_count": 33,
   "id": "b9ff1bf0-e6e4-43b3-a77e-36898e0d6dab",
   "metadata": {},
   "outputs": [
    {
     "data": {
      "text/plain": [
       "[(1, 7), (1, 1, 6), (1, 2, 5), (2, 6)]"
      ]
     },
     "execution_count": 33,
     "metadata": {},
     "output_type": "execute_result"
    }
   ],
   "source": [
    "s = Solution()\n",
    "s.combinationSum2([10,1,2,7,6,1,5], 8)"
   ]
  },
  {
   "cell_type": "code",
   "execution_count": null,
   "id": "9c12c7e7-272a-436f-8a43-7c75430a3ab2",
   "metadata": {},
   "outputs": [],
   "source": []
  }
 ],
 "metadata": {
  "kernelspec": {
   "display_name": "common",
   "language": "python",
   "name": "common"
  },
  "language_info": {
   "codemirror_mode": {
    "name": "ipython",
    "version": 3
   },
   "file_extension": ".py",
   "mimetype": "text/x-python",
   "name": "python",
   "nbconvert_exporter": "python",
   "pygments_lexer": "ipython3",
   "version": "3.9.15"
  }
 },
 "nbformat": 4,
 "nbformat_minor": 5
}
