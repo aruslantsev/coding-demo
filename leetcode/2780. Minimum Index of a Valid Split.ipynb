{
 "cells": [
  {
   "cell_type": "markdown",
   "id": "3e5b907d-b7f4-48d2-8ab8-29ef4464e6a6",
   "metadata": {},
   "source": [
    "An element x of an integer array arr of length m is dominant if more than half the elements of arr have a value of x.\n",
    "\n",
    "You are given a 0-indexed integer array nums of length n with one dominant element.\n",
    "\n",
    "You can split nums at an index i into two arrays nums[0, ..., i] and nums[i + 1, ..., n - 1], but the split is only valid if:\n",
    "\n",
    "    0 <= i < n - 1\n",
    "    nums[0, ..., i], and nums[i + 1, ..., n - 1] have the same dominant element.\n",
    "\n",
    "Here, nums[i, ..., j] denotes the subarray of nums starting at index i and ending at index j, both ends being inclusive. Particularly, if j < i then nums[i, ..., j] denotes an empty subarray.\n",
    "\n",
    "Return the minimum index of a valid split. If no valid split exists, return -1.\n",
    "\n",
    " \n",
    "\n",
    "Example 1:\n",
    "\n",
    "Input: nums = [1,2,2,2]\n",
    "Output: 2\n",
    "Explanation: We can split the array at index 2 to obtain arrays [1,2,2] and [2]. \n",
    "In array [1,2,2], element 2 is dominant since it occurs twice in the array and 2 * 2 > 3. \n",
    "In array [2], element 2 is dominant since it occurs once in the array and 1 * 2 > 1.\n",
    "Both [1,2,2] and [2] have the same dominant element as nums, so this is a valid split. \n",
    "It can be shown that index 2 is the minimum index of a valid split. \n",
    "\n",
    "Example 2:\n",
    "\n",
    "Input: nums = [2,1,3,1,1,1,7,1,2,1]\n",
    "Output: 4\n",
    "Explanation: We can split the array at index 4 to obtain arrays [2,1,3,1,1] and [1,7,1,2,1].\n",
    "In array [2,1,3,1,1], element 1 is dominant since it occurs thrice in the array and 3 * 2 > 5.\n",
    "In array [1,7,1,2,1], element 1 is dominant since it occurs thrice in the array and 3 * 2 > 5.\n",
    "Both [2,1,3,1,1] and [1,7,1,2,1] have the same dominant element as nums, so this is a valid split.\n",
    "It can be shown that index 4 is the minimum index of a valid split.\n",
    "\n",
    "Example 3:\n",
    "\n",
    "Input: nums = [3,3,3,3,7,2,2]\n",
    "Output: -1\n",
    "Explanation: It can be shown that there is no valid split.\n",
    "\n",
    " \n",
    "\n",
    "Constraints:\n",
    "\n",
    "    1 <= nums.length <= 105\n",
    "    1 <= nums[i] <= 109\n",
    "    nums has exactly one dominant element.\n",
    "\n"
   ]
  },
  {
   "cell_type": "code",
   "execution_count": null,
   "id": "95f3bff5-50bc-4c2a-89ad-421bebb92f62",
   "metadata": {},
   "outputs": [],
   "source": [
    "class Solution:\n",
    "    def minimumIndex(self, nums: List[int]) -> int:\n",
    "        elem, cnt = Counter(nums).most_common(1)[0]\n",
    "        s = len(nums)\n",
    "        l, r = 0, s\n",
    "        el, er = 0, cnt\n",
    "        for i in range(s - 1):\n",
    "            l += 1\n",
    "            r -= 1\n",
    "            if nums[i] == elem:\n",
    "                el += 1\n",
    "                er -= 1\n",
    "            if el / l > 0.5 and er / r > 0.5:\n",
    "                return i\n",
    "        return -1"
   ]
  }
 ],
 "metadata": {
  "kernelspec": {
   "display_name": "Python 3 (ipykernel)",
   "language": "python",
   "name": "python3"
  },
  "language_info": {
   "codemirror_mode": {
    "name": "ipython",
    "version": 3
   },
   "file_extension": ".py",
   "mimetype": "text/x-python",
   "name": "python",
   "nbconvert_exporter": "python",
   "pygments_lexer": "ipython3",
   "version": "3.12.9"
  }
 },
 "nbformat": 4,
 "nbformat_minor": 5
}
