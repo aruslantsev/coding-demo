{
 "cells": [
  {
   "cell_type": "markdown",
   "id": "257eb3c9-f7f2-46a7-a515-ab37689f6a34",
   "metadata": {},
   "source": [
    "There is a strange printer with the following two special properties:\n",
    "\n",
    "    The printer can only print a sequence of the same character each time.\n",
    "    At each turn, the printer can print new characters starting from and ending at any place and will cover the original existing characters.\n",
    "\n",
    "Given a string s, return the minimum number of turns the printer needed to print it.\n",
    "\n",
    " \n",
    "\n",
    "Example 1:\n",
    "\n",
    "Input: s = \"aaabbb\"\n",
    "Output: 2\n",
    "Explanation: Print \"aaa\" first and then print \"bbb\".\n",
    "\n",
    "Example 2:\n",
    "\n",
    "Input: s = \"aba\"\n",
    "Output: 2\n",
    "Explanation: Print \"aaa\" first and then print \"b\" from the second place of the string, which will cover the existing character 'a'.\n",
    "\n",
    " \n",
    "\n",
    "Constraints:\n",
    "\n",
    "    1 <= s.length <= 100\n",
    "    s consists of lowercase English letters.\n",
    "\n"
   ]
  },
  {
   "cell_type": "code",
   "execution_count": null,
   "id": "f2522bde-3ef2-4cb9-90a5-3f34fa3fc7d7",
   "metadata": {},
   "outputs": [],
   "source": [
    "class Solution:\n",
    "    def strangePrinter(self, s: str) -> int:\n",
    "        n = len(s)\n",
    "        dp = [[n] * n for _ in range(n)]\n",
    "        for length in range(1, n + 1):\n",
    "            for left in range(n - length + 1):\n",
    "                right = left + length - 1\n",
    "                j = -1\n",
    "                for i in range(left, right):\n",
    "                    if s[i] != s[right] and j == -1:\n",
    "                        j = i\n",
    "                    if j != -1:\n",
    "                        dp[left][right] = min(dp[left][right], 1 + dp[j][i] + dp[i + 1][right])\n",
    "        \n",
    "                if j == -1:\n",
    "                    dp[left][right] = 0\n",
    "\n",
    "        return dp[0][n - 1] + 1"
   ]
  }
 ],
 "metadata": {
  "kernelspec": {
   "display_name": "Python 3 (ipykernel)",
   "language": "python",
   "name": "python3"
  },
  "language_info": {
   "codemirror_mode": {
    "name": "ipython",
    "version": 3
   },
   "file_extension": ".py",
   "mimetype": "text/x-python",
   "name": "python",
   "nbconvert_exporter": "python",
   "pygments_lexer": "ipython3",
   "version": "3.10.11"
  }
 },
 "nbformat": 4,
 "nbformat_minor": 5
}
