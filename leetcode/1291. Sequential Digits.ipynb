{
 "cells": [
  {
   "cell_type": "markdown",
   "id": "c39814ee-184f-447a-bf42-c285c6dcad6e",
   "metadata": {},
   "source": [
    "An integer has sequential digits if and only if each digit in the number is one more than the previous digit.\n",
    "\n",
    "Return a sorted list of all the integers in the range [low, high] inclusive that have sequential digits.\n",
    "\n",
    " \n",
    "\n",
    "Example 1:\n",
    "\n",
    "Input: low = 100, high = 300\n",
    "Output: [123,234]\n",
    "\n",
    "Example 2:\n",
    "\n",
    "Input: low = 1000, high = 13000\n",
    "Output: [1234,2345,3456,4567,5678,6789,12345]\n",
    "\n",
    " \n",
    "\n",
    "Constraints:\n",
    "\n",
    "    10 <= low <= high <= 10^9\n",
    "\n"
   ]
  },
  {
   "cell_type": "code",
   "execution_count": 11,
   "id": "1552f351-2330-42ec-b7f5-f1513658fca2",
   "metadata": {},
   "outputs": [],
   "source": [
    "from typing import List\n",
    "\n",
    "class Solution:\n",
    "    def sequentialDigits(self, low: int, high: int) -> List[int]:\n",
    "        result = []\n",
    "        candidates = \"123456789\"\n",
    "        for i in range(len(candidates)):\n",
    "            for j in range(i + 1, len(candidates)):\n",
    "                cand = int(candidates[i:j + 1])\n",
    "                if low <= cand <= high:\n",
    "                    result.append(cand)\n",
    "                    \n",
    "        return sorted(result)"
   ]
  },
  {
   "cell_type": "code",
   "execution_count": 12,
   "id": "3844fb84-6eab-429f-84c0-d19ccc73e7e0",
   "metadata": {},
   "outputs": [
    {
     "data": {
      "text/plain": [
       "[1234, 2345, 3456, 4567, 5678, 6789, 12345]"
      ]
     },
     "execution_count": 12,
     "metadata": {},
     "output_type": "execute_result"
    }
   ],
   "source": [
    "s = Solution()\n",
    "s.sequentialDigits(1000, 13000)"
   ]
  },
  {
   "cell_type": "code",
   "execution_count": null,
   "id": "efe9ae0d-631f-4167-bc91-eac23f905cf1",
   "metadata": {},
   "outputs": [],
   "source": []
  }
 ],
 "metadata": {
  "kernelspec": {
   "display_name": "Python 3 (ipykernel)",
   "language": "python",
   "name": "python3"
  },
  "language_info": {
   "codemirror_mode": {
    "name": "ipython",
    "version": 3
   },
   "file_extension": ".py",
   "mimetype": "text/x-python",
   "name": "python",
   "nbconvert_exporter": "python",
   "pygments_lexer": "ipython3",
   "version": "3.9.5"
  }
 },
 "nbformat": 4,
 "nbformat_minor": 5
}
