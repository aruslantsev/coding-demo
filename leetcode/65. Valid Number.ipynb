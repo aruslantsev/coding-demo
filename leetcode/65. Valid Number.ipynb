{
 "cells": [
  {
   "cell_type": "markdown",
   "id": "58f8f4b1-49ee-4a4c-9707-72b786d14f54",
   "metadata": {},
   "source": [
    "A valid number can be split up into these components (in order):\n",
    "\n",
    "    A decimal number or an integer.\n",
    "    (Optional) An 'e' or 'E', followed by an integer.\n",
    "\n",
    "A decimal number can be split up into these components (in order):\n",
    "\n",
    "    (Optional) A sign character (either '+' or '-').\n",
    "    One of the following formats:\n",
    "        One or more digits, followed by a dot '.'.\n",
    "        One or more digits, followed by a dot '.', followed by one or more digits.\n",
    "        A dot '.', followed by one or more digits.\n",
    "\n",
    "An integer can be split up into these components (in order):\n",
    "\n",
    "    (Optional) A sign character (either '+' or '-').\n",
    "    One or more digits.\n",
    "\n",
    "For example, all the following are valid numbers: [\"2\", \"0089\", \"-0.1\", \"+3.14\", \"4.\", \"-.9\", \"2e10\", \"-90E3\", \"3e+7\", \"+6e-1\", \"53.5e93\", \"-123.456e789\"], while the following are not valid numbers: [\"abc\", \"1a\", \"1e\", \"e3\", \"99e2.5\", \"--6\", \"-+3\", \"95a54e53\"].\n",
    "\n",
    "Given a string s, return true if s is a valid number.\n",
    "\n",
    " \n",
    "\n",
    "Example 1:\n",
    "\n",
    "Input: s = \"0\"\n",
    "Output: true\n",
    "\n",
    "Example 2:\n",
    "\n",
    "Input: s = \"e\"\n",
    "Output: false\n",
    "\n",
    "Example 3:\n",
    "\n",
    "Input: s = \".\"\n",
    "Output: false\n",
    "\n",
    " \n",
    "\n",
    "Constraints:\n",
    "\n",
    "    1 <= s.length <= 20\n",
    "    s consists of only English letters (both uppercase and lowercase), digits (0-9), plus '+', minus '-', or dot '.'.\n",
    "\n"
   ]
  },
  {
   "cell_type": "code",
   "execution_count": null,
   "id": "35dba29a-7fec-4654-ba09-ee9b6ee46506",
   "metadata": {},
   "outputs": [],
   "source": [
    "class Solution:\n",
    "    def isNumber(self, s: str) -> bool:\n",
    "        if (\n",
    "            s=='inf' \n",
    "            or s=='-inf' \n",
    "            or s=='+inf' \n",
    "            or s=='Infinity' \n",
    "            or s=='+Infinity' \n",
    "            or s=='-Infinity' \n",
    "            or s=='nan'\n",
    "        ):\n",
    "            return False\n",
    "        try:\n",
    "            float(s)\n",
    "            return True\n",
    "        except:\n",
    "            return False"
   ]
  }
 ],
 "metadata": {
  "kernelspec": {
   "display_name": "Python 3 (ipykernel)",
   "language": "python",
   "name": "python3"
  },
  "language_info": {
   "codemirror_mode": {
    "name": "ipython",
    "version": 3
   },
   "file_extension": ".py",
   "mimetype": "text/x-python",
   "name": "python",
   "nbconvert_exporter": "python",
   "pygments_lexer": "ipython3",
   "version": "3.10.11"
  }
 },
 "nbformat": 4,
 "nbformat_minor": 5
}
