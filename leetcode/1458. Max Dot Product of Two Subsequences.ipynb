{
 "cells": [
  {
   "cell_type": "markdown",
   "id": "2d7b11b0-f914-4636-b41d-f3315a90663d",
   "metadata": {},
   "source": [
    "Given two arrays nums1 and nums2.\n",
    "\n",
    "Return the maximum dot product between non-empty subsequences of nums1 and nums2 with the same length.\n",
    "\n",
    "A subsequence of a array is a new array which is formed from the original array by deleting some (can be none) of the characters without disturbing the relative positions of the remaining characters. (ie, [2,3,5] is a subsequence of [1,2,3,4,5] while [1,5,3] is not).\n",
    "\n",
    " \n",
    "\n",
    "Example 1:\n",
    "\n",
    "Input: nums1 = [2,1,-2,5], nums2 = [3,0,-6]\n",
    "Output: 18\n",
    "Explanation: Take subsequence [2,-2] from nums1 and subsequence [3,-6] from nums2.\n",
    "Their dot product is (2*3 + (-2)*(-6)) = 18.\n",
    "\n",
    "Example 2:\n",
    "\n",
    "Input: nums1 = [3,-2], nums2 = [2,-6,7]\n",
    "Output: 21\n",
    "Explanation: Take subsequence [3] from nums1 and subsequence [7] from nums2.\n",
    "Their dot product is (3*7) = 21.\n",
    "\n",
    "Example 3:\n",
    "\n",
    "Input: nums1 = [-1,-1], nums2 = [1,1]\n",
    "Output: -1\n",
    "Explanation: Take subsequence [-1] from nums1 and subsequence [1] from nums2.\n",
    "Their dot product is -1.\n",
    "\n",
    " \n",
    "\n",
    "Constraints:\n",
    "\n",
    "    1 <= nums1.length, nums2.length <= 500\n",
    "    -1000 <= nums1[i], nums2[i] <= 1000\n",
    "\n"
   ]
  },
  {
   "cell_type": "code",
   "execution_count": null,
   "id": "82e7b82d-1e1d-452f-bb48-3944da31a34c",
   "metadata": {},
   "outputs": [],
   "source": [
    "class Solution:\n",
    "    def maxDotProduct(self, nums1: List[int], nums2: List[int]) -> int:\n",
    "        @cache\n",
    "        def dp(i, j):\n",
    "            if i == len(nums1) or j == len(nums2):\n",
    "                return 0\n",
    "            \n",
    "            use = nums1[i] * nums2[j] + dp(i + 1, j + 1)\n",
    "            return max(use, dp(i + 1, j), dp(i, j + 1))\n",
    "            \n",
    "        if max(nums1) < 0 and min(nums2) > 0:\n",
    "            return max(nums1) * min(nums2)\n",
    "        \n",
    "        if min(nums1) > 0 and max(nums2) < 0:\n",
    "            return min(nums1) * max(nums2)\n",
    "        \n",
    "        return dp(0, 0)\n",
    "        "
   ]
  }
 ],
 "metadata": {
  "kernelspec": {
   "display_name": "Python 3 (ipykernel)",
   "language": "python",
   "name": "python3"
  },
  "language_info": {
   "codemirror_mode": {
    "name": "ipython",
    "version": 3
   },
   "file_extension": ".py",
   "mimetype": "text/x-python",
   "name": "python",
   "nbconvert_exporter": "python",
   "pygments_lexer": "ipython3",
   "version": "3.11.4"
  }
 },
 "nbformat": 4,
 "nbformat_minor": 5
}
