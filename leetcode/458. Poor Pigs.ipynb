{
 "cells": [
  {
   "cell_type": "markdown",
   "id": "99b2aecd-064f-420d-b2b5-5c75c9c90732",
   "metadata": {},
   "source": [
    "There are buckets buckets of liquid, where exactly one of the buckets is poisonous. To figure out which one is poisonous, you feed some number of (poor) pigs the liquid to see whether they will die or not. Unfortunately, you only have minutesToTest minutes to determine which bucket is poisonous.\n",
    "\n",
    "You can feed the pigs according to these steps:\n",
    "\n",
    "    Choose some live pigs to feed.\n",
    "    For each pig, choose which buckets to feed it. The pig will consume all the chosen buckets simultaneously and will take no time.\n",
    "    Wait for minutesToDie minutes. You may not feed any other pigs during this time.\n",
    "    After minutesToDie minutes have passed, any pigs that have been fed the poisonous bucket will die, and all others will survive.\n",
    "    Repeat this process until you run out of time.\n",
    "\n",
    "Given buckets, minutesToDie, and minutesToTest, return the minimum number of pigs needed to figure out which bucket is poisonous within the allotted time.\n",
    "\n",
    " \n",
    "\n",
    "Example 1:\n",
    "\n",
    "Input: buckets = 1000, minutesToDie = 15, minutesToTest = 60\n",
    "Output: 5\n",
    "\n",
    "Example 2:\n",
    "\n",
    "Input: buckets = 4, minutesToDie = 15, minutesToTest = 15\n",
    "Output: 2\n",
    "\n",
    "Example 3:\n",
    "\n",
    "Input: buckets = 4, minutesToDie = 15, minutesToTest = 30\n",
    "Output: 2\n",
    "\n",
    " \n",
    "\n",
    "Constraints:\n",
    "\n",
    "    1 <= buckets <= 1000\n",
    "    1 <= minutesToDie <= minutesToTest <= 100\n",
    "\n"
   ]
  },
  {
   "cell_type": "markdown",
   "id": "56bc8710-66fc-41d2-8b2c-a5e3f1086416",
   "metadata": {},
   "source": [
    "This question is based on combinatrics. \n",
    "\n",
    "Lets assume that we have p pigs which can give us the accurate result. Now we have total Round of test = (timetoTest/TimetoDie) ie. T tests. \n",
    "\n",
    "So for each T test there can be T+1  outcomes that is it can die in 1st or 2nd or Tth oit it means the T cases and the last case is it won't die! So total T+1 Outcomes are possible.\n",
    "\n",
    "Now for each pig we have to go for T+1 outcomes i.e\n",
    "(T+1)*(T+1).......*(T+1).\n",
    "\n",
    "So T+1 tests rounds are there so for all p pigs the total combination will be (T+1) to the power p i.e (T+1)^p. Now this total combination should be greater than or equal to N.\n",
    "\n",
    "Hence  the condition for the answer is going to be (T+1)^p >= N\n",
    "Taking log on both sides we will get the required answee\n",
    "p >= log(N)/ log(T+1);\n",
    "and hence ceil function is used in the return."
   ]
  },
  {
   "cell_type": "code",
   "execution_count": 1,
   "id": "f26943f3-4db5-4e60-b17b-5ce99ab717a2",
   "metadata": {},
   "outputs": [],
   "source": [
    "import math\n",
    "\n",
    "class Solution:\n",
    "    def poorPigs(self, buckets: int, minutesToDie: int, minutesToTest: int) -> int:\n",
    "        return math.ceil(\n",
    "            math.log(buckets) / math.log(minutesToTest / minutesToDie + 1)\n",
    "        )"
   ]
  },
  {
   "cell_type": "code",
   "execution_count": null,
   "id": "249a6812-0bb3-4b9d-8202-80f3b755ab3f",
   "metadata": {},
   "outputs": [],
   "source": [
    "import math\n",
    "\n",
    "class Solution:\n",
    "    def poorPigs(self, buckets: int, minutesToDie: int, minutesToTest: int) -> int:\n",
    "        c = 0\n",
    "        while math.pow(minutesToTest // minutesToDie + 1, c) < buckets:\n",
    "            c += 1\n",
    "        return c"
   ]
  }
 ],
 "metadata": {
  "kernelspec": {
   "display_name": "Python 3 (ipykernel)",
   "language": "python",
   "name": "python3"
  },
  "language_info": {
   "codemirror_mode": {
    "name": "ipython",
    "version": 3
   },
   "file_extension": ".py",
   "mimetype": "text/x-python",
   "name": "python",
   "nbconvert_exporter": "python",
   "pygments_lexer": "ipython3",
   "version": "3.11.4"
  }
 },
 "nbformat": 4,
 "nbformat_minor": 5
}
