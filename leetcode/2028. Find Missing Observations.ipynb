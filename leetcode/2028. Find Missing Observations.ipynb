{
 "cells": [
  {
   "cell_type": "markdown",
   "id": "8b4103b8-c2c7-4bb5-afad-a59ca38b09a8",
   "metadata": {},
   "source": [
    "You have observations of n + m 6-sided dice rolls with each face numbered from 1 to 6. n of the observations went missing, and you only have the observations of m rolls. Fortunately, you have also calculated the average value of the n + m rolls.\n",
    "\n",
    "You are given an integer array rolls of length m where rolls[i] is the value of the ith observation. You are also given the two integers mean and n.\n",
    "\n",
    "Return an array of length n containing the missing observations such that the average value of the n + m rolls is exactly mean. If there are multiple valid answers, return any of them. If no such array exists, return an empty array.\n",
    "\n",
    "The average value of a set of k numbers is the sum of the numbers divided by k.\n",
    "\n",
    "Note that mean is an integer, so the sum of the n + m rolls should be divisible by n + m.\n",
    "\n",
    " \n",
    "\n",
    "Example 1:\n",
    "\n",
    "Input: rolls = [3,2,4,3], mean = 4, n = 2\n",
    "Output: [6,6]\n",
    "Explanation: The mean of all n + m rolls is (3 + 2 + 4 + 3 + 6 + 6) / 6 = 4.\n",
    "\n",
    "Example 2:\n",
    "\n",
    "Input: rolls = [1,5,6], mean = 3, n = 4\n",
    "Output: [2,3,2,2]\n",
    "Explanation: The mean of all n + m rolls is (1 + 5 + 6 + 2 + 3 + 2 + 2) / 7 = 3.\n",
    "\n",
    "Example 3:\n",
    "\n",
    "Input: rolls = [1,2,3,4], mean = 6, n = 4\n",
    "Output: []\n",
    "Explanation: It is impossible for the mean to be 6 no matter what the 4 missing rolls are.\n",
    "\n",
    " \n",
    "\n",
    "Constraints:\n",
    "\n",
    "    m == rolls.length\n",
    "    1 <= n, m <= 105\n",
    "    1 <= rolls[i], mean <= 6\n",
    "\n"
   ]
  },
  {
   "cell_type": "code",
   "execution_count": null,
   "id": "a958ba58-b768-4e58-895b-a425b62d491c",
   "metadata": {},
   "outputs": [],
   "source": [
    "class Solution:\n",
    "    def missingRolls(self, rolls: List[int], mean: int, n: int) -> List[int]:\n",
    "        full_length = len(rolls) + n\n",
    "        full_sum = mean * full_length\n",
    "        missing_sum = full_sum - sum(rolls)\n",
    "        if missing_sum / n < 1 or missing_sum / n > 6:\n",
    "            return []\n",
    "        ans = []\n",
    "        remaining = n\n",
    "        for _ in range(n):\n",
    "            if remaining == 1:\n",
    "                ans.append(missing_sum)\n",
    "            else:\n",
    "                curr = missing_sum // remaining + (missing_sum % remaining != 0)\n",
    "                missing_sum -= curr\n",
    "                remaining -= 1\n",
    "                ans.append(curr)\n",
    "        return ans"
   ]
  }
 ],
 "metadata": {
  "kernelspec": {
   "display_name": "Python 3 (ipykernel)",
   "language": "python",
   "name": "python3"
  },
  "language_info": {
   "codemirror_mode": {
    "name": "ipython",
    "version": 3
   },
   "file_extension": ".py",
   "mimetype": "text/x-python",
   "name": "python",
   "nbconvert_exporter": "python",
   "pygments_lexer": "ipython3",
   "version": "3.12.3"
  }
 },
 "nbformat": 4,
 "nbformat_minor": 5
}
