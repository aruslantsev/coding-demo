{
 "cells": [
  {
   "cell_type": "markdown",
   "id": "ea64fa98-d6e5-4768-9357-80d4b42e77f2",
   "metadata": {},
   "source": [
    "Given four integer arrays nums1, nums2, nums3, and nums4 all of length n, return the number of tuples (i, j, k, l) such that:\n",
    "\n",
    "    0 <= i, j, k, l < n\n",
    "    nums1[i] + nums2[j] + nums3[k] + nums4[l] == 0\n",
    "\n",
    " \n",
    "\n",
    "Example 1:\n",
    "\n",
    "Input: nums1 = [1,2], nums2 = [-2,-1], nums3 = [-1,2], nums4 = [0,2]\n",
    "Output: 2\n",
    "Explanation:\n",
    "The two tuples are:\n",
    "1. (0, 0, 0, 1) -> nums1[0] + nums2[0] + nums3[0] + nums4[1] = 1 + (-2) + (-1) + 2 = 0\n",
    "2. (1, 1, 0, 0) -> nums1[1] + nums2[1] + nums3[0] + nums4[0] = 2 + (-1) + (-1) + 0 = 0\n",
    "\n",
    "Example 2:\n",
    "\n",
    "Input: nums1 = [0], nums2 = [0], nums3 = [0], nums4 = [0]\n",
    "Output: 1\n",
    "\n",
    " \n",
    "\n",
    "Constraints:\n",
    "\n",
    "    n == nums1.length\n",
    "    n == nums2.length\n",
    "    n == nums3.length\n",
    "    n == nums4.length\n",
    "    1 <= n <= 200\n",
    "    -228 <= nums1[i], nums2[i], nums3[i], nums4[i] <= 228\n",
    "\n"
   ]
  },
  {
   "cell_type": "code",
   "execution_count": 1,
   "id": "b064459c-8f19-44fd-888a-89a7031d0dbf",
   "metadata": {},
   "outputs": [],
   "source": [
    "from typing import List\n",
    "\n",
    "class Solution:\n",
    "    def fourSumCount(self, nums1: List[int], nums2: List[int], nums3: List[int], nums4: List[int]) -> int:\n",
    "        result = 0\n",
    "        for i in range(len(nums1)):\n",
    "            for j in range(len(nums2)):\n",
    "                for k in range(len(nums3)):\n",
    "                    for l in range(len(nums4)):\n",
    "                        if nums1[i] + nums2[j] + nums3[k] + nums4[l] == 0:\n",
    "                            result += 1\n",
    "                            \n",
    "        return result"
   ]
  },
  {
   "cell_type": "code",
   "execution_count": 2,
   "id": "393faae1-64a4-4276-ae12-32137b62ba05",
   "metadata": {},
   "outputs": [
    {
     "data": {
      "text/plain": [
       "2"
      ]
     },
     "execution_count": 2,
     "metadata": {},
     "output_type": "execute_result"
    }
   ],
   "source": [
    "s = Solution()\n",
    "s.fourSumCount(nums1 = [1,2], nums2 = [-2,-1], nums3 = [-1,2], nums4 = [0,2])"
   ]
  },
  {
   "cell_type": "code",
   "execution_count": 9,
   "id": "7c46055a-88a8-4a80-8bae-766ca2d3b6a0",
   "metadata": {},
   "outputs": [],
   "source": [
    "from typing import List\n",
    "from collections import defaultdict\n",
    "\n",
    "class Solution:\n",
    "    def fourSumCount(self, nums1: List[int], nums2: List[int], nums3: List[int], nums4: List[int]) -> int:\n",
    "        hm = defaultdict(int)\n",
    "        n = len(nums1)\n",
    "        for i in range(n):\n",
    "            for j in range(n):\n",
    "                hm[nums1[i] + nums2[j]] += 1\n",
    "\n",
    "        result = 0\n",
    "        for i in range(n):\n",
    "            for j in range(n):\n",
    "                result += hm[- nums3[i] - nums4[j]]\n",
    "                \n",
    "        return result"
   ]
  },
  {
   "cell_type": "code",
   "execution_count": 10,
   "id": "8703aed8-ab08-4f5c-aedf-1eef7aa4a0f4",
   "metadata": {},
   "outputs": [
    {
     "data": {
      "text/plain": [
       "2"
      ]
     },
     "execution_count": 10,
     "metadata": {},
     "output_type": "execute_result"
    }
   ],
   "source": [
    "s = Solution()\n",
    "s.fourSumCount(nums1 = [1,2], nums2 = [-2,-1], nums3 = [-1,2], nums4 = [0,2])"
   ]
  },
  {
   "cell_type": "code",
   "execution_count": null,
   "id": "eb2fcdd4-e265-4e92-acfb-3768ac6ec422",
   "metadata": {},
   "outputs": [],
   "source": []
  }
 ],
 "metadata": {
  "kernelspec": {
   "display_name": "Python 3 (ipykernel)",
   "language": "python",
   "name": "python3"
  },
  "language_info": {
   "codemirror_mode": {
    "name": "ipython",
    "version": 3
   },
   "file_extension": ".py",
   "mimetype": "text/x-python",
   "name": "python",
   "nbconvert_exporter": "python",
   "pygments_lexer": "ipython3",
   "version": "3.9.5"
  }
 },
 "nbformat": 4,
 "nbformat_minor": 5
}
