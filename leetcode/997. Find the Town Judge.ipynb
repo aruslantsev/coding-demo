{
 "cells": [
  {
   "cell_type": "markdown",
   "id": "1e76f609-3c2a-404a-989e-7af36adcaddd",
   "metadata": {},
   "source": [
    "In a town, there are n people labeled from 1 to n. There is a rumor that one of these people is secretly the town judge.\n",
    "\n",
    "If the town judge exists, then:\n",
    "\n",
    "    The town judge trusts nobody.\n",
    "    Everybody (except for the town judge) trusts the town judge.\n",
    "    There is exactly one person that satisfies properties 1 and 2.\n",
    "\n",
    "You are given an array trust where trust[i] = [ai, bi] representing that the person labeled ai trusts the person labeled bi.\n",
    "\n",
    "Return the label of the town judge if the town judge exists and can be identified, or return -1 otherwise.\n",
    "\n",
    " \n",
    "\n",
    "Example 1:\n",
    "\n",
    "Input: n = 2, trust = [[1,2]]\n",
    "Output: 2\n",
    "\n",
    "Example 2:\n",
    "\n",
    "Input: n = 3, trust = [[1,3],[2,3]]\n",
    "Output: 3\n",
    "\n",
    "Example 3:\n",
    "\n",
    "Input: n = 3, trust = [[1,3],[2,3],[3,1]]\n",
    "Output: -1\n",
    "\n",
    " \n",
    "\n",
    "Constraints:\n",
    "\n",
    "    1 <= n <= 1000\n",
    "    0 <= trust.length <= 104\n",
    "    trust[i].length == 2\n",
    "    All the pairs of trust are unique.\n",
    "    ai != bi\n",
    "    1 <= ai, bi <= n\n",
    "\n"
   ]
  },
  {
   "cell_type": "code",
   "execution_count": null,
   "id": "086c93b6-a79e-4155-ac2f-5810966f13c5",
   "metadata": {},
   "outputs": [],
   "source": [
    "class Solution:\n",
    "    def findJudge(self, n: int, trust: List[List[int]]) -> int:\n",
    "        if n == 1 and len(trust) == 0:\n",
    "            return 1\n",
    "        \n",
    "        who_trust = set()\n",
    "        whom_trust = defaultdict(int)\n",
    "        for f, s in trust:\n",
    "            who_trust.add(f)\n",
    "            whom_trust[s] += 1\n",
    "            \n",
    "        cands = []\n",
    "        for pers, cnt in whom_trust.items():\n",
    "            if cnt == n - 1 and pers not in who_trust:\n",
    "                cands.append(pers)\n",
    "                \n",
    "        if len(cands) == 1:\n",
    "            return cands[0]\n",
    "        else:\n",
    "            return -1"
   ]
  }
 ],
 "metadata": {
  "kernelspec": {
   "display_name": "Python 3 (ipykernel)",
   "language": "python",
   "name": "python3"
  },
  "language_info": {
   "codemirror_mode": {
    "name": "ipython",
    "version": 3
   },
   "file_extension": ".py",
   "mimetype": "text/x-python",
   "name": "python",
   "nbconvert_exporter": "python",
   "pygments_lexer": "ipython3",
   "version": "3.10.8"
  }
 },
 "nbformat": 4,
 "nbformat_minor": 5
}
