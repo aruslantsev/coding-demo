{
 "cells": [
  {
   "cell_type": "markdown",
   "id": "1055a6d1-0650-4cf4-8137-23fa17b75e69",
   "metadata": {},
   "source": [
    "You are given a 0-indexed string blocks of length n, where blocks[i] is either 'W' or 'B', representing the color of the ith block. The characters 'W' and 'B' denote the colors white and black, respectively.\n",
    "\n",
    "You are also given an integer k, which is the desired number of consecutive black blocks.\n",
    "\n",
    "In one operation, you can recolor a white block such that it becomes a black block.\n",
    "\n",
    "Return the minimum number of operations needed such that there is at least one occurrence of k consecutive black blocks.\n",
    "\n",
    " \n",
    "\n",
    "Example 1:\n",
    "\n",
    "Input: blocks = \"WBBWWBBWBW\", k = 7\n",
    "Output: 3\n",
    "Explanation:\n",
    "One way to achieve 7 consecutive black blocks is to recolor the 0th, 3rd, and 4th blocks\n",
    "so that blocks = \"BBBBBBBWBW\". \n",
    "It can be shown that there is no way to achieve 7 consecutive black blocks in less than 3 operations.\n",
    "Therefore, we return 3.\n",
    "\n",
    "Example 2:\n",
    "\n",
    "Input: blocks = \"WBWBBBW\", k = 2\n",
    "Output: 0\n",
    "Explanation:\n",
    "No changes need to be made, since 2 consecutive black blocks already exist.\n",
    "Therefore, we return 0.\n",
    "\n",
    " \n",
    "\n",
    "Constraints:\n",
    "\n",
    "    n == blocks.length\n",
    "    1 <= n <= 100\n",
    "    blocks[i] is either 'W' or 'B'.\n",
    "    1 <= k <= n\n",
    "\n"
   ]
  },
  {
   "cell_type": "code",
   "execution_count": null,
   "id": "edf62d9e-f300-40f8-96ba-a2d10c620f89",
   "metadata": {},
   "outputs": [],
   "source": [
    "class Solution:\n",
    "    def minimumRecolors(self, blocks: str, k: int) -> int:\n",
    "        curr = 0\n",
    "        for i in range(k):\n",
    "            if blocks[i] == \"W\":\n",
    "                curr += 1\n",
    "        ans = curr\n",
    "        for i in range(k, len(blocks)):\n",
    "            if blocks[i] == \"W\":\n",
    "                curr += 1\n",
    "            if blocks[i - k] == \"W\":\n",
    "                curr -= 1 \n",
    "            ans = min(ans, curr)\n",
    "        return ans\n"
   ]
  }
 ],
 "metadata": {
  "kernelspec": {
   "display_name": "Python 3 (ipykernel)",
   "language": "python",
   "name": "python3"
  },
  "language_info": {
   "codemirror_mode": {
    "name": "ipython",
    "version": 3
   },
   "file_extension": ".py",
   "mimetype": "text/x-python",
   "name": "python",
   "nbconvert_exporter": "python",
   "pygments_lexer": "ipython3",
   "version": "3.12.7"
  }
 },
 "nbformat": 4,
 "nbformat_minor": 5
}
