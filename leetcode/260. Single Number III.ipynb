{
 "cells": [
  {
   "cell_type": "markdown",
   "id": "4d067bf6-d8fe-4532-8e78-225ef45bdb3e",
   "metadata": {},
   "source": [
    "Given an integer array nums, in which exactly two elements appear only once and all the other elements appear exactly twice. Find the two elements that appear only once. You can return the answer in any order.\n",
    "\n",
    "You must write an algorithm that runs in linear runtime complexity and uses only constant extra space.\n",
    "\n",
    " \n",
    "\n",
    "Example 1:\n",
    "\n",
    "Input: nums = [1,2,1,3,2,5]\n",
    "Output: [3,5]\n",
    "Explanation:  [5, 3] is also a valid answer.\n",
    "\n",
    "Example 2:\n",
    "\n",
    "Input: nums = [-1,0]\n",
    "Output: [-1,0]\n",
    "\n",
    "Example 3:\n",
    "\n",
    "Input: nums = [0,1]\n",
    "Output: [1,0]\n",
    "\n",
    " \n",
    "\n",
    "Constraints:\n",
    "\n",
    "    2 <= nums.length <= 3 * 104\n",
    "    -231 <= nums[i] <= 231 - 1\n",
    "    Each integer in nums will appear twice, only two integers will appear once.\n",
    "\n"
   ]
  },
  {
   "cell_type": "code",
   "execution_count": null,
   "id": "493ddd8a-690f-42cb-89f8-892772e9b9e5",
   "metadata": {},
   "outputs": [],
   "source": [
    "class Solution:\n",
    "    def singleNumber(self, nums: List[int]) -> List[int]:\n",
    "        xor2no = 0\n",
    "        for num in nums:\n",
    "            xor2no ^= num\n",
    "\n",
    "        lowestBit = xor2no & -xor2no\n",
    "\n",
    "        result = [0, 0]\n",
    "        for num in nums:\n",
    "            if (lowestBit & num) == 0:\n",
    "                result[0] ^= num\n",
    "            else:\n",
    "                result[1] ^= num\n",
    "\n",
    "        return result"
   ]
  }
 ],
 "metadata": {
  "kernelspec": {
   "display_name": "Python 3 (ipykernel)",
   "language": "python",
   "name": "python3"
  },
  "language_info": {
   "codemirror_mode": {
    "name": "ipython",
    "version": 3
   },
   "file_extension": ".py",
   "mimetype": "text/x-python",
   "name": "python",
   "nbconvert_exporter": "python",
   "pygments_lexer": "ipython3",
   "version": "3.12.3"
  }
 },
 "nbformat": 4,
 "nbformat_minor": 5
}
