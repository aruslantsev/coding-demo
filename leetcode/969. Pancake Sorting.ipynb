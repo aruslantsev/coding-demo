{
 "cells": [
  {
   "cell_type": "markdown",
   "id": "794c840c-750d-45a3-8d94-98c696f5e4cb",
   "metadata": {},
   "source": [
    "Given an array of integers arr, sort the array by performing a series of pancake flips.\n",
    "\n",
    "In one pancake flip we do the following steps:\n",
    "\n",
    "Choose an integer k where 1 <= k <= arr.length.\n",
    "Reverse the sub-array arr[0...k-1] (0-indexed).\n",
    "For example, if arr = [3,2,1,4] and we performed a pancake flip choosing k = 3, we reverse the sub-array [3,2,1], so arr = [1,2,3,4] after the pancake flip at k = 3.\n",
    "\n",
    "Return an array of the k-values corresponding to a sequence of pancake flips that sort arr. Any valid answer that sorts the array within 10 * arr.length flips will be judged as correct.\n",
    "\n",
    " \n",
    "\n",
    "Example 1:\n",
    "\n",
    "Input: arr = [3,2,4,1]\n",
    "Output: [4,2,4,3]\n",
    "Explanation: \n",
    "We perform 4 pancake flips, with k values 4, 2, 4, and 3.\n",
    "Starting state: arr = [3, 2, 4, 1]\n",
    "After 1st flip (k = 4): arr = [1, 4, 2, 3]\n",
    "After 2nd flip (k = 2): arr = [4, 1, 2, 3]\n",
    "After 3rd flip (k = 4): arr = [3, 2, 1, 4]\n",
    "After 4th flip (k = 3): arr = [1, 2, 3, 4], which is sorted.\n",
    "Example 2:\n",
    "\n",
    "Input: arr = [1,2,3]\n",
    "Output: []\n",
    "Explanation: The input is already sorted, so there is no need to flip anything.\n",
    "Note that other answers, such as [3, 3], would also be accepted.\n",
    " \n",
    "\n",
    "Constraints:\n",
    "\n",
    "1 <= arr.length <= 100\n",
    "1 <= arr[i] <= arr.length\n",
    "All integers in arr are unique (i.e. arr is a permutation of the integers from 1 to arr.length)."
   ]
  },
  {
   "cell_type": "code",
   "execution_count": 1,
   "id": "4c591853-66fc-4ce1-8715-f5173ddfe77e",
   "metadata": {},
   "outputs": [],
   "source": [
    "from typing import List\n",
    "\n",
    "\n",
    "class Solution:\n",
    "    def pancakeSort(self, arr: List[int]) -> List[int]:\n",
    "        ans = []\n",
    "        end = len(arr)\n",
    "        print(arr)\n",
    "        while sorted(arr) != arr:\n",
    "            print(arr)\n",
    "            max_idx = arr.index(max(arr[:end])) + 1\n",
    "            arr[:max_idx] = arr[:max_idx][::-1]\n",
    "            ans.append(max_idx)\n",
    "            arr[:end] = arr[:end][::-1]\n",
    "            ans.append(end)\n",
    "            end -= 1\n",
    "        return ans"
   ]
  },
  {
   "cell_type": "code",
   "execution_count": null,
   "id": "6ea5dbde-80a9-4def-a64e-7c7e26c9e9dc",
   "metadata": {},
   "outputs": [],
   "source": []
  }
 ],
 "metadata": {
  "kernelspec": {
   "display_name": "Python 3 (ipykernel)",
   "language": "python",
   "name": "python3"
  },
  "language_info": {
   "codemirror_mode": {
    "name": "ipython",
    "version": 3
   },
   "file_extension": ".py",
   "mimetype": "text/x-python",
   "name": "python",
   "nbconvert_exporter": "python",
   "pygments_lexer": "ipython3",
   "version": "3.9.10"
  }
 },
 "nbformat": 4,
 "nbformat_minor": 5
}
