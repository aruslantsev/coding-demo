{
 "cells": [
  {
   "cell_type": "markdown",
   "id": "36418644-72e9-4b5d-90c1-5ffb4166fa7f",
   "metadata": {},
   "source": [
    "There is a school that has classes of students and each class will be having a final exam. You are given a 2D integer array classes, where classes[i] = [passi, totali]. You know beforehand that in the ith class, there are totali total students, but only passi number of students will pass the exam.\n",
    "\n",
    "You are also given an integer extraStudents. There are another extraStudents brilliant students that are guaranteed to pass the exam of any class they are assigned to. You want to assign each of the extraStudents students to a class in a way that maximizes the average pass ratio across all the classes.\n",
    "\n",
    "The pass ratio of a class is equal to the number of students of the class that will pass the exam divided by the total number of students of the class. The average pass ratio is the sum of pass ratios of all the classes divided by the number of the classes.\n",
    "\n",
    "Return the maximum possible average pass ratio after assigning the extraStudents students. Answers within 10-5 of the actual answer will be accepted.\n",
    "\n",
    " \n",
    "\n",
    "Example 1:\n",
    "\n",
    "Input: classes = [[1,2],[3,5],[2,2]], extraStudents = 2\n",
    "Output: 0.78333\n",
    "Explanation: You can assign the two extra students to the first class. The average pass ratio will be equal to (3/4 + 3/5 + 2/2) / 3 = 0.78333.\n",
    "\n",
    "Example 2:\n",
    "\n",
    "Input: classes = [[2,4],[3,9],[4,5],[2,10]], extraStudents = 4\n",
    "Output: 0.53485\n",
    "\n",
    " \n",
    "\n",
    "Constraints:\n",
    "\n",
    "    1 <= classes.length <= 105\n",
    "    classes[i].length == 2\n",
    "    1 <= passi <= totali <= 105\n",
    "    1 <= extraStudents <= 105\n",
    "\n"
   ]
  },
  {
   "cell_type": "code",
   "execution_count": null,
   "id": "5704efc8-21ec-45ee-8e36-6fe731f085ca",
   "metadata": {},
   "outputs": [],
   "source": [
    "class Solution:\n",
    "    def maxAverageRatio(self, classes: List[List[int]], extraStudents: int) -> float:\n",
    "        # Lambda to calculate the gain of adding an extra student\n",
    "        def _calculate_gain(passes, total_students):\n",
    "            return (passes + 1) / (total_students + 1) - passes / total_students\n",
    "\n",
    "        # Max heap to store (-gain, passes, total_students)\n",
    "        max_heap = []\n",
    "        for passes, total_students in classes:\n",
    "            gain = _calculate_gain(passes, total_students)\n",
    "            heapq.heappush(max_heap, (-gain, passes, total_students))\n",
    "\n",
    "        # Distribute extra students\n",
    "        for _ in range(extraStudents):\n",
    "            current_gain, passes, total_students = heapq.heappop(max_heap)\n",
    "            heapq.heappush(\n",
    "                max_heap,\n",
    "                (\n",
    "                    -_calculate_gain(passes + 1, total_students + 1),\n",
    "                    passes + 1,\n",
    "                    total_students + 1,\n",
    "                ),\n",
    "            )\n",
    "\n",
    "        # Calculate the final average pass ratio\n",
    "        total_pass_ratio = 0\n",
    "        while max_heap:\n",
    "            _, passes, total_students = heapq.heappop(max_heap)\n",
    "            total_pass_ratio += passes / total_students\n",
    "        return total_pass_ratio / len(classes)"
   ]
  }
 ],
 "metadata": {
  "kernelspec": {
   "display_name": "Python 3 (ipykernel)",
   "language": "python",
   "name": "python3"
  },
  "language_info": {
   "codemirror_mode": {
    "name": "ipython",
    "version": 3
   },
   "file_extension": ".py",
   "mimetype": "text/x-python",
   "name": "python",
   "nbconvert_exporter": "python",
   "pygments_lexer": "ipython3",
   "version": "3.12.7"
  }
 },
 "nbformat": 4,
 "nbformat_minor": 5
}
