{
 "cells": [
  {
   "cell_type": "markdown",
   "id": "7cf157c0-ebf8-4dd6-8b4b-16fd0a00009d",
   "metadata": {},
   "source": [
    "You are given an array of strings words (0-indexed).\n",
    "\n",
    "In one operation, pick two distinct indices i and j, where words[i] is a non-empty string, and move any character from words[i] to any position in words[j].\n",
    "\n",
    "Return true if you can make every string in words equal using any number of operations, and false otherwise.\n",
    "\n",
    " \n",
    "\n",
    "Example 1:\n",
    "\n",
    "Input: words = [\"abc\",\"aabc\",\"bc\"]\n",
    "Output: true\n",
    "Explanation: Move the first 'a' in words[1] to the front of words[2],\n",
    "to make words[1] = \"abc\" and words[2] = \"abc\".\n",
    "All the strings are now equal to \"abc\", so return true.\n",
    "\n",
    "Example 2:\n",
    "\n",
    "Input: words = [\"ab\",\"a\"]\n",
    "Output: false\n",
    "Explanation: It is impossible to make all the strings equal using the operation.\n",
    "\n",
    " \n",
    "\n",
    "Constraints:\n",
    "\n",
    "    1 <= words.length <= 100\n",
    "    1 <= words[i].length <= 100\n",
    "    words[i] consists of lowercase English letters.\n",
    "\n"
   ]
  },
  {
   "cell_type": "code",
   "execution_count": null,
   "id": "7e14c8bd-6d3c-4b24-95d6-655a831f1f43",
   "metadata": {},
   "outputs": [],
   "source": [
    "class Solution:\n",
    "    def makeEqual(self, words: List[str]) -> bool:\n",
    "        if len(words) == 1:\n",
    "            return True\n",
    "        \n",
    "        all_words = ''.join(words)\n",
    "        if len(all_words) % len(words) != 0:\n",
    "            return False\n",
    "        word_length = len(all_words) // len(words)\n",
    "        letter_count = Counter(all_words)\n",
    "\n",
    "        for v in letter_count.values():\n",
    "            if v % len(words) != 0:\n",
    "                return False\n",
    "\n",
    "        return True\n",
    "        "
   ]
  }
 ],
 "metadata": {
  "kernelspec": {
   "display_name": "Python 3 (ipykernel)",
   "language": "python",
   "name": "python3"
  },
  "language_info": {
   "codemirror_mode": {
    "name": "ipython",
    "version": 3
   },
   "file_extension": ".py",
   "mimetype": "text/x-python",
   "name": "python",
   "nbconvert_exporter": "python",
   "pygments_lexer": "ipython3",
   "version": "3.11.4"
  }
 },
 "nbformat": 4,
 "nbformat_minor": 5
}
