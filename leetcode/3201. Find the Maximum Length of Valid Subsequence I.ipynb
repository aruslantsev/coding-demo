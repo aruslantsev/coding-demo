{
 "cells": [
  {
   "cell_type": "markdown",
   "id": "f0a46a52-9ed1-4ac0-93eb-7bd053d9af47",
   "metadata": {},
   "source": [
    "You are given an integer array nums.\n",
    "\n",
    "A\n",
    "\n",
    "sub of nums with length x is called valid if it satisfies:\n",
    "\n",
    "    (sub[0] + sub[1]) % 2 == (sub[1] + sub[2]) % 2 == ... == (sub[x - 2] + sub[x - 1]) % 2.\n",
    "\n",
    "Return the length of the longest valid subsequence of nums.\n",
    "\n",
    "A subsequence is an array that can be derived from another array by deleting some or no elements without changing the order of the remaining elements.\n",
    "\n",
    " \n",
    "\n",
    "Example 1:\n",
    "\n",
    "Input: nums = [1,2,3,4]\n",
    "\n",
    "Output: 4\n",
    "\n",
    "Explanation:\n",
    "\n",
    "The longest valid subsequence is [1, 2, 3, 4].\n",
    "\n",
    "Example 2:\n",
    "\n",
    "Input: nums = [1,2,1,1,2,1,2]\n",
    "\n",
    "Output: 6\n",
    "\n",
    "Explanation:\n",
    "\n",
    "The longest valid subsequence is [1, 2, 1, 2, 1, 2].\n",
    "\n",
    "Example 3:\n",
    "\n",
    "Input: nums = [1,3]\n",
    "\n",
    "Output: 2\n",
    "\n",
    "Explanation:\n",
    "\n",
    "The longest valid subsequence is [1, 3].\n",
    "\n",
    " \n",
    "\n",
    "Constraints:\n",
    "\n",
    "    2 <= nums.length <= 2 * 105\n",
    "    1 <= nums[i] <= 107\n"
   ]
  },
  {
   "cell_type": "code",
   "execution_count": null,
   "id": "0cc1541f-5d01-458d-a7ae-35aceabe3ca5",
   "metadata": {},
   "outputs": [],
   "source": [
    "class Solution:\n",
    "    def maximumLength(self, nums: List[int]) -> int:\n",
    "        ans = 0\n",
    "        for pattern in [[0, 0], [1, 1], [0, 1], [1, 0]]:\n",
    "            res = 0\n",
    "            for num in nums:\n",
    "                if num % 2 == pattern[res % 2]:\n",
    "                    res += 1\n",
    "            ans = max(ans, res)\n",
    "        return ans"
   ]
  }
 ],
 "metadata": {
  "kernelspec": {
   "display_name": "Python 3 (ipykernel)",
   "language": "python",
   "name": "python3"
  },
  "language_info": {
   "codemirror_mode": {
    "name": "ipython",
    "version": 3
   },
   "file_extension": ".py",
   "mimetype": "text/x-python",
   "name": "python",
   "nbconvert_exporter": "python",
   "pygments_lexer": "ipython3",
   "version": "3.13.4"
  }
 },
 "nbformat": 4,
 "nbformat_minor": 5
}
