{
 "cells": [
  {
   "cell_type": "markdown",
   "id": "a7a1e794-f545-43f8-95e5-0df41419d43c",
   "metadata": {},
   "source": [
    "Given two strings s and part, perform the following operation on s until all occurrences of the substring part are removed:\n",
    "\n",
    "    Find the leftmost occurrence of the substring part and remove it from s.\n",
    "\n",
    "Return s after removing all occurrences of part.\n",
    "\n",
    "A substring is a contiguous sequence of characters in a string.\n",
    "\n",
    " \n",
    "\n",
    "Example 1:\n",
    "\n",
    "Input: s = \"daabcbaabcbc\", part = \"abc\"\n",
    "Output: \"dab\"\n",
    "Explanation: The following operations are done:\n",
    "- s = \"daabcbaabcbc\", remove \"abc\" starting at index 2, so s = \"dabaabcbc\".\n",
    "- s = \"dabaabcbc\", remove \"abc\" starting at index 4, so s = \"dababc\".\n",
    "- s = \"dababc\", remove \"abc\" starting at index 3, so s = \"dab\".\n",
    "Now s has no occurrences of \"abc\".\n",
    "\n",
    "Example 2:\n",
    "\n",
    "Input: s = \"axxxxyyyyb\", part = \"xy\"\n",
    "Output: \"ab\"\n",
    "Explanation: The following operations are done:\n",
    "- s = \"axxxxyyyyb\", remove \"xy\" starting at index 4 so s = \"axxxyyyb\".\n",
    "- s = \"axxxyyyb\", remove \"xy\" starting at index 3 so s = \"axxyyb\".\n",
    "- s = \"axxyyb\", remove \"xy\" starting at index 2 so s = \"axyb\".\n",
    "- s = \"axyb\", remove \"xy\" starting at index 1 so s = \"ab\".\n",
    "Now s has no occurrences of \"xy\".\n",
    "\n",
    " \n",
    "\n",
    "Constraints:\n",
    "\n",
    "    1 <= s.length <= 1000\n",
    "    1 <= part.length <= 1000\n",
    "    s​​​​​​ and part consists of lowercase English letters.\n",
    "\n"
   ]
  },
  {
   "cell_type": "code",
   "execution_count": null,
   "id": "9e4acddd-6457-409e-b486-d37aa9413ee1",
   "metadata": {},
   "outputs": [],
   "source": [
    "class Solution:\n",
    "    def removeOccurrences(self, s: str, part: str) -> str:\n",
    "        while (pos := s.find(part)) != -1:\n",
    "            s = s[:pos] + s[pos + len(part):]\n",
    "        return s"
   ]
  },
  {
   "cell_type": "code",
   "execution_count": null,
   "id": "bb202cb1-17a9-4402-ade8-e98b0b7f9cde",
   "metadata": {},
   "outputs": [],
   "source": [
    "class Solution:\n",
    "    def removeOccurrences(self, s: str, part: str) -> str:\n",
    "        stack = []\n",
    "        part_length = len(part)\n",
    "\n",
    "        # Iterate through each character in the string\n",
    "        for char in s:\n",
    "            # Push current character to stack\n",
    "            stack.append(char)\n",
    "\n",
    "            # If stack size is greater than or equal to the part length, check for match\n",
    "            if len(stack) >= part_length and self._check_match(\n",
    "                stack, part, part_length\n",
    "            ):\n",
    "                # Pop the characters matching 'part' from the stack\n",
    "                for _ in range(part_length):\n",
    "                    stack.pop()\n",
    "\n",
    "        # Convert stack to string with correct order\n",
    "        return \"\".join(stack)\n",
    "\n",
    "    # Helper function to check if the top of the stack matches the 'part'\n",
    "    def _check_match(self, stack: list, part: str, part_length: int) -> bool:\n",
    "        # Compare the top 'part_length' elements of the stack with 'part'\n",
    "        return \"\".join(stack[-part_length:]) == part"
   ]
  }
 ],
 "metadata": {
  "kernelspec": {
   "display_name": "Python 3 (ipykernel)",
   "language": "python",
   "name": "python3"
  },
  "language_info": {
   "codemirror_mode": {
    "name": "ipython",
    "version": 3
   },
   "file_extension": ".py",
   "mimetype": "text/x-python",
   "name": "python",
   "nbconvert_exporter": "python",
   "pygments_lexer": "ipython3",
   "version": "3.12.7"
  }
 },
 "nbformat": 4,
 "nbformat_minor": 5
}
