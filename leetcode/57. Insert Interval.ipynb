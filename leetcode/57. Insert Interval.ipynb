{
 "cells": [
  {
   "cell_type": "markdown",
   "id": "382733e7-f216-43bc-a0aa-532a98349144",
   "metadata": {},
   "source": [
    "You are given an array of non-overlapping intervals intervals where intervals[i] = [starti, endi] represent the start and the end of the ith interval and intervals is sorted in ascending order by starti. You are also given an interval newInterval = [start, end] that represents the start and end of another interval.\n",
    "\n",
    "Insert newInterval into intervals such that intervals is still sorted in ascending order by starti and intervals still does not have any overlapping intervals (merge overlapping intervals if necessary).\n",
    "\n",
    "Return intervals after the insertion.\n",
    "\n",
    " \n",
    "\n",
    "Example 1:\n",
    "\n",
    "Input: intervals = [[1,3],[6,9]], newInterval = [2,5]\n",
    "Output: [[1,5],[6,9]]\n",
    "\n",
    "Example 2:\n",
    "\n",
    "Input: intervals = [[1,2],[3,5],[6,7],[8,10],[12,16]], newInterval = [4,8]\n",
    "Output: [[1,2],[3,10],[12,16]]\n",
    "Explanation: Because the new interval [4,8] overlaps with [3,5],[6,7],[8,10].\n",
    "\n",
    " \n",
    "\n",
    "Constraints:\n",
    "\n",
    "    0 <= intervals.length <= 104\n",
    "    intervals[i].length == 2\n",
    "    0 <= starti <= endi <= 105\n",
    "    intervals is sorted by starti in ascending order.\n",
    "    newInterval.length == 2\n",
    "    0 <= start <= end <= 105\n",
    "\n"
   ]
  },
  {
   "cell_type": "code",
   "execution_count": 1,
   "id": "83d694ff-19ec-4a3c-8ca0-b1bc7cde9aff",
   "metadata": {},
   "outputs": [],
   "source": [
    "from typing import List\n",
    "\n",
    "class Solution:\n",
    "    def insert(self, intervals: List[List[int]], newInterval: List[int]) -> List[List[int]]:\n",
    "        intervals = sorted(intervals + [newInterval], key=lambda x: (x[1], x[0]))\n",
    "        ans = []\n",
    "        for interval in intervals:\n",
    "            while ans and ans[-1][0] >= interval[0]:\n",
    "                ans.pop()\n",
    "            if ans and interval[0] <= ans[-1][1] <= interval[1]:\n",
    "                interval[0] = ans[-1][0]\n",
    "                ans.pop()\n",
    "            ans.append(interval)\n",
    "                \n",
    "        return ans"
   ]
  },
  {
   "cell_type": "code",
   "execution_count": null,
   "id": "5a30b462-98b8-413f-9cc2-5c445690c81e",
   "metadata": {},
   "outputs": [],
   "source": [
    "class Solution:\n",
    "    def insert(self, intervals: List[List[int]], newInterval: List[int]) -> List[List[int]]:\n",
    "        res = []\n",
    "\n",
    "        for i in range(len(intervals)):\n",
    "            currStart, currEnd = intervals[i][0], intervals[i][1]\n",
    "            newStart, newEnd = newInterval[0], newInterval[1]\n",
    "\n",
    "            # Case 1\n",
    "            if newEnd < currStart:\n",
    "                res.append(newInterval)\n",
    "                return res + intervals[i:] # Add remaining list\n",
    "            # Case 2\n",
    "            elif newStart > currEnd:\n",
    "                res.append(intervals[i]) # We only know intervals[i] position \n",
    "            # Case 3\n",
    "            else:\n",
    "                newInterval = [min(currStart, newStart), max(currEnd, newEnd) ]\n",
    "\n",
    "        # We reach this means newInterval is updated and merged and needs to be added\n",
    "        res.append(newInterval)\n",
    "        return res"
   ]
  },
  {
   "cell_type": "code",
   "execution_count": null,
   "id": "f61039d9-2357-44fa-a509-6471ceac8c10",
   "metadata": {},
   "outputs": [],
   "source": []
  }
 ],
 "metadata": {
  "kernelspec": {
   "display_name": "Python 3 (ipykernel)",
   "language": "python",
   "name": "python3"
  },
  "language_info": {
   "codemirror_mode": {
    "name": "ipython",
    "version": 3
   },
   "file_extension": ".py",
   "mimetype": "text/x-python",
   "name": "python",
   "nbconvert_exporter": "python",
   "pygments_lexer": "ipython3",
   "version": "3.9.10"
  }
 },
 "nbformat": 4,
 "nbformat_minor": 5
}
