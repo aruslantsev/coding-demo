{
 "cells": [
  {
   "cell_type": "markdown",
   "id": "476fbfb9-44ad-4d85-8732-75baed694327",
   "metadata": {},
   "source": [
    "Given a list of 24-hour clock time points in \"HH:MM\" format, return the minimum minutes difference between any two time-points in the list.\n",
    "\n",
    " \n",
    "\n",
    "Example 1:\n",
    "\n",
    "Input: timePoints = [\"23:59\",\"00:00\"]\n",
    "Output: 1\n",
    "\n",
    "Example 2:\n",
    "\n",
    "Input: timePoints = [\"00:00\",\"23:59\",\"00:00\"]\n",
    "Output: 0\n",
    "\n",
    " \n",
    "\n",
    "Constraints:\n",
    "\n",
    "    2 <= timePoints.length <= 2 * 104\n",
    "    timePoints[i] is in the format \"HH:MM\".\n"
   ]
  },
  {
   "cell_type": "code",
   "execution_count": null,
   "id": "6a69dd1a-654c-4cd1-9d88-5f1af64f16d1",
   "metadata": {},
   "outputs": [],
   "source": [
    "class Solution:\n",
    "    def findMinDifference(self, timePoints: List[str]) -> int:\n",
    "        # convert input to minutes\n",
    "        minutes = [int(time[:2]) * 60 + int(time[3:]) for time in timePoints]\n",
    "\n",
    "        # sort times in ascending order\n",
    "        minutes.sort()\n",
    "\n",
    "        # find minimum difference across adjacent elements\n",
    "        ans = min(minutes[i + 1] - minutes[i] for i in range(len(minutes) - 1))\n",
    "\n",
    "        # consider difference between last and first element\n",
    "        return min(ans, 24 * 60 - minutes[-1] + minutes[0])"
   ]
  }
 ],
 "metadata": {
  "kernelspec": {
   "display_name": "Python 3 (ipykernel)",
   "language": "python",
   "name": "python3"
  },
  "language_info": {
   "codemirror_mode": {
    "name": "ipython",
    "version": 3
   },
   "file_extension": ".py",
   "mimetype": "text/x-python",
   "name": "python",
   "nbconvert_exporter": "python",
   "pygments_lexer": "ipython3",
   "version": "3.12.4"
  }
 },
 "nbformat": 4,
 "nbformat_minor": 5
}
