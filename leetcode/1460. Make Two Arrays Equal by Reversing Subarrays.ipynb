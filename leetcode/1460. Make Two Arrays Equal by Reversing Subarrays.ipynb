{
 "cells": [
  {
   "cell_type": "markdown",
   "id": "84001e04-f687-4a68-a4a3-7819a768f6e0",
   "metadata": {},
   "source": [
    "You are given two integer arrays of equal length target and arr. In one step, you can select any non-empty subarray of arr and reverse it. You are allowed to make any number of steps.\n",
    "\n",
    "Return true if you can make arr equal to target or false otherwise.\n",
    "\n",
    " \n",
    "\n",
    "Example 1:\n",
    "\n",
    "Input: target = [1,2,3,4], arr = [2,4,1,3]\n",
    "Output: true\n",
    "Explanation: You can follow the next steps to convert arr to target:\n",
    "1- Reverse subarray [2,4,1], arr becomes [1,4,2,3]\n",
    "2- Reverse subarray [4,2], arr becomes [1,2,4,3]\n",
    "3- Reverse subarray [4,3], arr becomes [1,2,3,4]\n",
    "There are multiple ways to convert arr to target, this is not the only way to do so.\n",
    "\n",
    "Example 2:\n",
    "\n",
    "Input: target = [7], arr = [7]\n",
    "Output: true\n",
    "Explanation: arr is equal to target without any reverses.\n",
    "\n",
    "Example 3:\n",
    "\n",
    "Input: target = [3,7,9], arr = [3,7,11]\n",
    "Output: false\n",
    "Explanation: arr does not have value 9 and it can never be converted to target.\n",
    "\n",
    " \n",
    "\n",
    "Constraints:\n",
    "\n",
    "    target.length == arr.length\n",
    "    1 <= target.length <= 1000\n",
    "    1 <= target[i] <= 1000\n",
    "    1 <= arr[i] <= 1000\n",
    "\n"
   ]
  },
  {
   "cell_type": "code",
   "execution_count": null,
   "id": "97a22cae-004c-4e21-8766-34e766ff56d6",
   "metadata": {},
   "outputs": [],
   "source": [
    "class Solution:\n",
    "    def canBeEqual(self, target: List[int], arr: List[int]) -> bool:\n",
    "        return sorted(target) == sorted(arr)"
   ]
  }
 ],
 "metadata": {
  "kernelspec": {
   "display_name": "Python 3 (ipykernel)",
   "language": "python",
   "name": "python3"
  },
  "language_info": {
   "codemirror_mode": {
    "name": "ipython",
    "version": 3
   },
   "file_extension": ".py",
   "mimetype": "text/x-python",
   "name": "python",
   "nbconvert_exporter": "python",
   "pygments_lexer": "ipython3",
   "version": "3.12.3"
  }
 },
 "nbformat": 4,
 "nbformat_minor": 5
}
