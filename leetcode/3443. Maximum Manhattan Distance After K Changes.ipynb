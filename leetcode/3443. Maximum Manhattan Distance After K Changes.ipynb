{
 "cells": [
  {
   "cell_type": "markdown",
   "id": "2b3fd018-777e-4d8d-bb84-9711c343549e",
   "metadata": {},
   "source": [
    "You are given a string s consisting of the characters 'N', 'S', 'E', and 'W', where s[i] indicates movements in an infinite grid:\n",
    "\n",
    "    'N' : Move north by 1 unit.\n",
    "    'S' : Move south by 1 unit.\n",
    "    'E' : Move east by 1 unit.\n",
    "    'W' : Move west by 1 unit.\n",
    "\n",
    "Initially, you are at the origin (0, 0). You can change at most k characters to any of the four directions.\n",
    "\n",
    "Find the maximum Manhattan distance from the origin that can be achieved at any time while performing the movements in order.\n",
    "The Manhattan Distance between two cells (xi, yi) and (xj, yj) is |xi - xj| + |yi - yj|.\n",
    "\n",
    " \n",
    "\n",
    "Example 1:\n",
    "\n",
    "Input: s = \"NWSE\", k = 1\n",
    "\n",
    "Output: 3\n",
    "\n",
    "Explanation:\n",
    "\n",
    "Change s[2] from 'S' to 'N'. The string s becomes \"NWNE\".\n",
    "Movement\tPosition (x, y)\tManhattan Distance\tMaximum\n",
    "s[0] == 'N'\t(0, 1)\t0 + 1 = 1\t1\n",
    "s[1] == 'W'\t(-1, 1)\t1 + 1 = 2\t2\n",
    "s[2] == 'N'\t(-1, 2)\t1 + 2 = 3\t3\n",
    "s[3] == 'E'\t(0, 2)\t0 + 2 = 2\t3\n",
    "\n",
    "The maximum Manhattan distance from the origin that can be achieved is 3. Hence, 3 is the output.\n",
    "\n",
    "Example 2:\n",
    "\n",
    "Input: s = \"NSWWEW\", k = 3\n",
    "\n",
    "Output: 6\n",
    "\n",
    "Explanation:\n",
    "\n",
    "Change s[1] from 'S' to 'N', and s[4] from 'E' to 'W'. The string s becomes \"NNWWWW\".\n",
    "\n",
    "The maximum Manhattan distance from the origin that can be achieved is 6. Hence, 6 is the output.\n",
    "\n",
    " \n",
    "\n",
    "Constraints:\n",
    "\n",
    "    1 <= s.length <= 105\n",
    "    0 <= k <= s.length\n",
    "    s consists of only 'N', 'S', 'E', and 'W'.\n",
    "\n"
   ]
  },
  {
   "cell_type": "code",
   "execution_count": null,
   "id": "5d38dc55-7018-40cc-85db-697955de0bef",
   "metadata": {},
   "outputs": [],
   "source": [
    "class Solution:\n",
    "    def maxDistance(self, s: str, k: int) -> int:\n",
    "        latitude = 0\n",
    "        longitude = 0\n",
    "        ans = 0\n",
    "        n = len(s)\n",
    "        for i in range(n):\n",
    "            if s[i] == \"N\":\n",
    "                latitude += 1\n",
    "            elif s[i] == \"S\":\n",
    "                latitude -= 1\n",
    "            elif s[i] == \"E\":\n",
    "                longitude += 1\n",
    "            elif s[i] == \"W\":\n",
    "                longitude -= 1\n",
    "            ans = max(ans, min(abs(latitude) + abs(longitude) + k * 2, i + 1))\n",
    "        return ans"
   ]
  }
 ],
 "metadata": {
  "kernelspec": {
   "display_name": "Python 3 (ipykernel)",
   "language": "python",
   "name": "python3"
  },
  "language_info": {
   "codemirror_mode": {
    "name": "ipython",
    "version": 3
   },
   "file_extension": ".py",
   "mimetype": "text/x-python",
   "name": "python",
   "nbconvert_exporter": "python",
   "pygments_lexer": "ipython3",
   "version": "3.13.4"
  }
 },
 "nbformat": 4,
 "nbformat_minor": 5
}
