{
 "cells": [
  {
   "cell_type": "markdown",
   "id": "97db974d-4d01-4e21-90cb-5744cb95eb31",
   "metadata": {},
   "source": [
    "You are given a string s consisting of lowercase English letters, and an integer k.\n",
    "\n",
    "First, convert s into an integer by replacing each letter with its position in the alphabet (i.e., replace 'a' with 1, 'b' with 2, ..., 'z' with 26). Then, transform the integer by replacing it with the sum of its digits. Repeat the transform operation k times in total.\n",
    "\n",
    "For example, if s = \"zbax\" and k = 2, then the resulting integer would be 8 by the following operations:\n",
    "\n",
    "    Convert: \"zbax\" ➝ \"(26)(2)(1)(24)\" ➝ \"262124\" ➝ 262124\n",
    "    Transform #1: 262124 ➝ 2 + 6 + 2 + 1 + 2 + 4 ➝ 17\n",
    "    Transform #2: 17 ➝ 1 + 7 ➝ 8\n",
    "\n",
    "Return the resulting integer after performing the operations described above.\n",
    "\n",
    " \n",
    "\n",
    "Example 1:\n",
    "\n",
    "Input: s = \"iiii\", k = 1\n",
    "Output: 36\n",
    "Explanation: The operations are as follows:\n",
    "- Convert: \"iiii\" ➝ \"(9)(9)(9)(9)\" ➝ \"9999\" ➝ 9999\n",
    "- Transform #1: 9999 ➝ 9 + 9 + 9 + 9 ➝ 36\n",
    "Thus the resulting integer is 36.\n",
    "\n",
    "Example 2:\n",
    "\n",
    "Input: s = \"leetcode\", k = 2\n",
    "Output: 6\n",
    "Explanation: The operations are as follows:\n",
    "- Convert: \"leetcode\" ➝ \"(12)(5)(5)(20)(3)(15)(4)(5)\" ➝ \"12552031545\" ➝ 12552031545\n",
    "- Transform #1: 12552031545 ➝ 1 + 2 + 5 + 5 + 2 + 0 + 3 + 1 + 5 + 4 + 5 ➝ 33\n",
    "- Transform #2: 33 ➝ 3 + 3 ➝ 6\n",
    "Thus the resulting integer is 6.\n",
    "\n",
    "Example 3:\n",
    "\n",
    "Input: s = \"zbax\", k = 2\n",
    "Output: 8\n",
    "\n",
    " \n",
    "\n",
    "Constraints:\n",
    "\n",
    "    1 <= s.length <= 100\n",
    "    1 <= k <= 10\n",
    "    s consists of lowercase English letters.\n",
    "\n"
   ]
  },
  {
   "cell_type": "code",
   "execution_count": null,
   "id": "6d11516e-74d7-46dc-8556-b3a4e91f89aa",
   "metadata": {},
   "outputs": [],
   "source": [
    "class Solution:\n",
    "    def getLucky(self, s: str, k: int) -> int:\n",
    "        num = \"\"\n",
    "        for letter in s:\n",
    "            num += str(ord(letter) - ord(\"a\") + 1)\n",
    "        num = int(num)\n",
    "        print(num)\n",
    "        \n",
    "        for _ in range(k):\n",
    "            ans = 0\n",
    "            while num > 0:\n",
    "                ans += num % 10\n",
    "                num //= 10\n",
    "            num = ans\n",
    "\n",
    "        return ans\n",
    "        "
   ]
  }
 ],
 "metadata": {
  "kernelspec": {
   "display_name": "Python 3 (ipykernel)",
   "language": "python",
   "name": "python3"
  },
  "language_info": {
   "codemirror_mode": {
    "name": "ipython",
    "version": 3
   },
   "file_extension": ".py",
   "mimetype": "text/x-python",
   "name": "python",
   "nbconvert_exporter": "python",
   "pygments_lexer": "ipython3",
   "version": "3.12.3"
  }
 },
 "nbformat": 4,
 "nbformat_minor": 5
}
