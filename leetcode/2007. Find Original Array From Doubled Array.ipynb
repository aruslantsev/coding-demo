{
 "cells": [
  {
   "cell_type": "markdown",
   "id": "490b929b-d312-49d3-b189-10fb181faf58",
   "metadata": {},
   "source": [
    "An integer array original is transformed into a doubled array changed by appending twice the value of every element in original, and then randomly shuffling the resulting array.\n",
    "\n",
    "Given an array changed, return original if changed is a doubled array. If changed is not a doubled array, return an empty array. The elements in original may be returned in any order.\n",
    "\n",
    " \n",
    "\n",
    "Example 1:\n",
    "\n",
    "Input: changed = [1,3,4,2,6,8]\n",
    "Output: [1,3,4]\n",
    "Explanation: One possible original array could be [1,3,4]:\n",
    "- Twice the value of 1 is 1 * 2 = 2.\n",
    "- Twice the value of 3 is 3 * 2 = 6.\n",
    "- Twice the value of 4 is 4 * 2 = 8.\n",
    "Other original arrays could be [4,3,1] or [3,1,4].\n",
    "\n",
    "Example 2:\n",
    "\n",
    "Input: changed = [6,3,0,1]\n",
    "Output: []\n",
    "Explanation: changed is not a doubled array.\n",
    "\n",
    "Example 3:\n",
    "\n",
    "Input: changed = [1]\n",
    "Output: []\n",
    "Explanation: changed is not a doubled array.\n",
    "\n",
    " \n",
    "\n",
    "Constraints:\n",
    "\n",
    "    1 <= changed.length <= 105\n",
    "    0 <= changed[i] <= 105\n",
    "\n"
   ]
  },
  {
   "cell_type": "code",
   "execution_count": 7,
   "id": "752ef454-863b-4b08-9b40-ac3e1122f386",
   "metadata": {},
   "outputs": [],
   "source": [
    "from typing import List\n",
    "\n",
    "class Solution:\n",
    "    def findOriginalArray(self, changed: List[int]) -> List[int]:\n",
    "        if len(changed) % 2 != 0:\n",
    "            return []\n",
    "        \n",
    "        ans = []\n",
    "        changed = sorted(changed)\n",
    "        while changed:\n",
    "            num = changed.pop(0)\n",
    "            if num * 2 in changed:\n",
    "                changed.remove(num * 2)\n",
    "                ans.append(num)\n",
    "            else:\n",
    "                return []\n",
    "        return ans"
   ]
  },
  {
   "cell_type": "code",
   "execution_count": 10,
   "id": "a999a76f-77cd-46ab-8b41-236c5eae00c6",
   "metadata": {},
   "outputs": [],
   "source": [
    "from collections import Counter\n",
    "\n",
    "class Solution:\n",
    "    def findOriginalArray(self, changed: List[int]) -> List[int]:\n",
    "        c = Counter(changed)\n",
    "\n",
    "        zeros, m = divmod(c[0], 2)\n",
    "        if m: \n",
    "            return []\n",
    "        ans = [0]*zeros   \n",
    "\n",
    "        for n in sorted(c.keys()):\n",
    "            if c[n] > c[2*n]: \n",
    "                return []\n",
    "            c[2*n] -= c[n]\n",
    "            ans.extend([n] * c[n])\n",
    "\n",
    "        return ans"
   ]
  },
  {
   "cell_type": "code",
   "execution_count": null,
   "id": "d0aa7bb6-3a63-4a77-83a5-2bc069ac2f01",
   "metadata": {},
   "outputs": [],
   "source": []
  }
 ],
 "metadata": {
  "kernelspec": {
   "display_name": "Python 3 (ipykernel)",
   "language": "python",
   "name": "python3"
  },
  "language_info": {
   "codemirror_mode": {
    "name": "ipython",
    "version": 3
   },
   "file_extension": ".py",
   "mimetype": "text/x-python",
   "name": "python",
   "nbconvert_exporter": "python",
   "pygments_lexer": "ipython3",
   "version": "3.9.12"
  }
 },
 "nbformat": 4,
 "nbformat_minor": 5
}
