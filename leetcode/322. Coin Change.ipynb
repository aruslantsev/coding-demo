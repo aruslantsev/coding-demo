{
 "cells": [
  {
   "cell_type": "markdown",
   "id": "d3cc33d7-ce3e-47f0-b911-5feb51a5d5d7",
   "metadata": {},
   "source": [
    "You are given an integer array coins representing coins of different denominations and an integer amount representing a total amount of money.\n",
    "\n",
    "Return the fewest number of coins that you need to make up that amount. If that amount of money cannot be made up by any combination of the coins, return -1.\n",
    "\n",
    "You may assume that you have an infinite number of each kind of coin.\n",
    "\n",
    " \n",
    "\n",
    "Example 1:\n",
    "\n",
    "Input: coins = [1,2,5], amount = 11\n",
    "Output: 3\n",
    "Explanation: 11 = 5 + 5 + 1\n",
    "\n",
    "Example 2:\n",
    "\n",
    "Input: coins = [2], amount = 3\n",
    "Output: -1\n",
    "\n",
    "Example 3:\n",
    "\n",
    "Input: coins = [1], amount = 0\n",
    "Output: 0\n",
    "\n",
    " \n",
    "\n",
    "Constraints:\n",
    "\n",
    "    1 <= coins.length <= 12\n",
    "    1 <= coins[i] <= 231 - 1\n",
    "    0 <= amount <= 104\n",
    "\n"
   ]
  },
  {
   "cell_type": "code",
   "execution_count": 1,
   "id": "72906add-e10d-4fc2-9114-c8aa9ef9ad25",
   "metadata": {},
   "outputs": [],
   "source": [
    "from typing import List\n",
    "\n",
    "class Solution:\n",
    "    def coinChange(self, coins: List[int], amount: int) -> int:\n",
    "        self.coins = sorted(coins, reverse=True)\n",
    "        self.ans = -1\n",
    "        \n",
    "        def dfs(curr_sum, k):\n",
    "            if curr_sum > amount:\n",
    "                return\n",
    "            if curr_sum == amount:\n",
    "                if self.ans == -1:\n",
    "                    self.ans = k\n",
    "                else:\n",
    "                    self.ans = min(self.ans, k)\n",
    "            for coin in coins:\n",
    "                dfs(curr_sum + coin, k + 1)\n",
    "                \n",
    "        dfs(0, 0)\n",
    "        return self.ans"
   ]
  },
  {
   "cell_type": "code",
   "execution_count": 7,
   "id": "2553dc50-6cbb-4dcd-8a88-ec0145dda130",
   "metadata": {},
   "outputs": [],
   "source": [
    "from typing import List\n",
    "from collections import deque\n",
    "from math import inf\n",
    "\n",
    "\n",
    "class Solution:\n",
    "    def coinChange(self, coins: List[int], amount: int) -> int:\n",
    "        coins = sorted(coins, reverse=True)\n",
    "        ans = -1\n",
    "        sums = {amount: inf}\n",
    "        q = deque()\n",
    "        q.append([0, 0])\n",
    "        \n",
    "        while q:\n",
    "            curr_sum, curr_coins = q.popleft()\n",
    "            if curr_sum > amount:\n",
    "                continue\n",
    "            if curr_sum == amount:\n",
    "                sums[amount] = min(sums[amount], curr_coins)\n",
    "                continue\n",
    "            if curr_sum in sums and curr_coins >= sums[curr_sum]:\n",
    "                continue\n",
    "            else:\n",
    "                sums[curr_sum] = curr_coins\n",
    "                for coin in coins:\n",
    "                    q.append([curr_sum + coin, curr_coins + 1])\n",
    "                    \n",
    "        ans = sums[amount]\n",
    "        return ans if ans != inf else -1"
   ]
  },
  {
   "cell_type": "code",
   "execution_count": 8,
   "id": "3549361a-40e5-46f3-b179-3aa774819f44",
   "metadata": {},
   "outputs": [
    {
     "data": {
      "text/plain": [
       "3"
      ]
     },
     "execution_count": 8,
     "metadata": {},
     "output_type": "execute_result"
    }
   ],
   "source": [
    "s = Solution()\n",
    "s.coinChange([1, 2, 5], 11)"
   ]
  },
  {
   "cell_type": "code",
   "execution_count": 9,
   "id": "2e330838-372d-4cb6-98b2-b55b542d0607",
   "metadata": {},
   "outputs": [
    {
     "data": {
      "text/plain": [
       "20"
      ]
     },
     "execution_count": 9,
     "metadata": {},
     "output_type": "execute_result"
    }
   ],
   "source": [
    "s.coinChange([1, 2, 5], 100)"
   ]
  },
  {
   "cell_type": "code",
   "execution_count": null,
   "id": "33e65e8b-07ab-4443-85dc-6a0389d686a6",
   "metadata": {},
   "outputs": [],
   "source": []
  }
 ],
 "metadata": {
  "kernelspec": {
   "display_name": "Python 3 (ipykernel)",
   "language": "python",
   "name": "python3"
  },
  "language_info": {
   "codemirror_mode": {
    "name": "ipython",
    "version": 3
   },
   "file_extension": ".py",
   "mimetype": "text/x-python",
   "name": "python",
   "nbconvert_exporter": "python",
   "pygments_lexer": "ipython3",
   "version": "3.9.10"
  }
 },
 "nbformat": 4,
 "nbformat_minor": 5
}
