{
 "cells": [
  {
   "cell_type": "markdown",
   "id": "fb3d73b4",
   "metadata": {},
   "source": [
    "There is an integer array nums sorted in non-decreasing order (not necessarily with distinct values).\n",
    "\n",
    "Before being passed to your function, nums is rotated at an unknown pivot index k (0 <= k < nums.length) such that the resulting array is [nums[k], nums[k+1], ..., nums[n-1], nums[0], nums[1], ..., nums[k-1]] (0-indexed). For example, [0,1,2,4,4,4,5,6,6,7] might be rotated at pivot index 5 and become [4,5,6,6,7,0,1,2,4,4].\n",
    "\n",
    "Given the array nums after the rotation and an integer target, return true if target is in nums, or false if it is not in nums.\n",
    "\n",
    "You must decrease the overall operation steps as much as possible.\n",
    "\n",
    " \n",
    "\n",
    "Example 1:\n",
    "\n",
    "Input: nums = [2,5,6,0,0,1,2], target = 0\n",
    "Output: true\n",
    "\n",
    "Example 2:\n",
    "\n",
    "Input: nums = [2,5,6,0,0,1,2], target = 3\n",
    "Output: false\n",
    "\n",
    " \n",
    "\n",
    "Constraints:\n",
    "\n",
    "    1 <= nums.length <= 5000\n",
    "    -104 <= nums[i] <= 104\n",
    "    nums is guaranteed to be rotated at some pivot.\n",
    "    -104 <= target <= 104\n",
    "\n",
    " \n",
    "\n",
    "Follow up: This problem is similar to Search in Rotated Sorted Array, but nums may contain duplicates. Would this affect the runtime complexity? How and why?\n"
   ]
  },
  {
   "cell_type": "code",
   "execution_count": 2,
   "id": "d0d8599a",
   "metadata": {},
   "outputs": [],
   "source": [
    "from typing import List\n",
    "\n",
    "class Solution:\n",
    "    def search(self, nums: List[int], target: int) -> bool:\n",
    "        if target in nums:\n",
    "            return True\n",
    "        else:\n",
    "            return False"
   ]
  },
  {
   "cell_type": "code",
   "execution_count": 148,
   "id": "d5ef9bdf",
   "metadata": {},
   "outputs": [],
   "source": [
    "from typing import List\n",
    "\n",
    "class Solution:\n",
    "    def search(self, nums: List[int], target: int) -> bool:\n",
    "        # rotate back and search\n",
    "        if len(nums) <= 2:\n",
    "            return any(num == target for num in nums)\n",
    "        l = 0\n",
    "        r = len(nums) - 1\n",
    "        m = (l + r) // 2\n",
    "        while r - l > 1:\n",
    "            while l < r and nums[l] == nums[l + 1]:\n",
    "                l += 1\n",
    "            while l < r  and nums[r] == nums[r - 1]:\n",
    "                r -= 1\n",
    "                \n",
    "            if nums[l] > nums[m]:\n",
    "                r = m\n",
    "                m = (l + r) // 2\n",
    "            elif nums[m] > nums[r]:\n",
    "                l = m\n",
    "                m = (l + r) // 2\n",
    "            else: \n",
    "                if m < r:\n",
    "                    m += 1\n",
    "                else:\n",
    "                    m = l\n",
    "            \n",
    "            if nums[l] > nums[r]:\n",
    "                start = r\n",
    "            else:\n",
    "                start = l\n",
    "        nums = nums[start:] + nums[:start]\n",
    "        \n",
    "        l = 0\n",
    "        r = len(nums) - 1\n",
    "        m = (l + r) // 2\n",
    "        while r - l > 1:\n",
    "            if (nums[l] == target) or (nums[r] == target):\n",
    "                return True\n",
    "            if nums[l] <= target < nums[m]:\n",
    "                r = m\n",
    "            else:\n",
    "                r = l\n",
    "        return False"
   ]
  },
  {
   "cell_type": "code",
   "execution_count": 161,
   "id": "05ee6012",
   "metadata": {},
   "outputs": [],
   "source": [
    "from typing import List\n",
    "\n",
    "class Solution:\n",
    "    def search(self, nums: List[int], target: int) -> bool:\n",
    "        # search anyway\n",
    "        l = 0\n",
    "        r = len(nums) - 1\n",
    "        m = (l + r) // 2\n",
    "        while r - l > 1:\n",
    "            while l < r and nums[l] == nums[l + 1]:\n",
    "                l += 1\n",
    "            while l < r  and nums[r] == nums[r - 1]:\n",
    "                r -= 1\n",
    "                \n",
    "            if (nums[l] == target) or (nums[r] == target):\n",
    "                return True\n",
    "            \n",
    "            m = (l + r) // 2\n",
    "            \n",
    "            if nums[l] < nums[m]:\n",
    "                if nums[l] <= target <= nums[m]:\n",
    "                    r = m\n",
    "                else:\n",
    "                    l = m\n",
    "            else:\n",
    "                if nums[m] <= target <= nums[r]:\n",
    "                    l = m\n",
    "                else:\n",
    "                    r = m\n",
    "            \n",
    "        return (nums[l] == target) or (nums[r] == target)\n",
    "            \n",
    "        return l, m, r"
   ]
  },
  {
   "cell_type": "code",
   "execution_count": 162,
   "id": "79e05dda",
   "metadata": {},
   "outputs": [
    {
     "data": {
      "text/plain": [
       "True"
      ]
     },
     "execution_count": 162,
     "metadata": {},
     "output_type": "execute_result"
    }
   ],
   "source": [
    "s = Solution()\n",
    "s.search(nums=[2,5,6,0,0,1,2], target=0)"
   ]
  },
  {
   "cell_type": "code",
   "execution_count": 163,
   "id": "0e43dd7a",
   "metadata": {},
   "outputs": [
    {
     "data": {
      "text/plain": [
       "False"
      ]
     },
     "execution_count": 163,
     "metadata": {},
     "output_type": "execute_result"
    }
   ],
   "source": [
    "s.search(nums=[2,5,6,0,0,1,2], target=3)"
   ]
  },
  {
   "cell_type": "code",
   "execution_count": 164,
   "id": "3d484c64",
   "metadata": {},
   "outputs": [
    {
     "data": {
      "text/plain": [
       "False"
      ]
     },
     "execution_count": 164,
     "metadata": {},
     "output_type": "execute_result"
    }
   ],
   "source": [
    "s.search(nums=[1], target=0)"
   ]
  },
  {
   "cell_type": "code",
   "execution_count": 165,
   "id": "a072ce62",
   "metadata": {},
   "outputs": [
    {
     "data": {
      "text/plain": [
       "True"
      ]
     },
     "execution_count": 165,
     "metadata": {},
     "output_type": "execute_result"
    }
   ],
   "source": [
    "s.search([1,0,1,1,1], 0)"
   ]
  },
  {
   "cell_type": "code",
   "execution_count": 166,
   "id": "05038662",
   "metadata": {},
   "outputs": [
    {
     "data": {
      "text/plain": [
       "True"
      ]
     },
     "execution_count": 166,
     "metadata": {},
     "output_type": "execute_result"
    }
   ],
   "source": [
    "s.search([1,1,1,0,1], 0)"
   ]
  },
  {
   "cell_type": "code",
   "execution_count": 167,
   "id": "c8219895",
   "metadata": {},
   "outputs": [
    {
     "data": {
      "text/plain": [
       "True"
      ]
     },
     "execution_count": 167,
     "metadata": {},
     "output_type": "execute_result"
    }
   ],
   "source": [
    "s.search([1], 1)"
   ]
  },
  {
   "cell_type": "code",
   "execution_count": 168,
   "id": "c59c84e6",
   "metadata": {},
   "outputs": [
    {
     "data": {
      "text/plain": [
       "False"
      ]
     },
     "execution_count": 168,
     "metadata": {},
     "output_type": "execute_result"
    }
   ],
   "source": [
    "s.search([1, 1, 3], 0)"
   ]
  },
  {
   "cell_type": "code",
   "execution_count": null,
   "id": "a56352e5",
   "metadata": {},
   "outputs": [],
   "source": []
  }
 ],
 "metadata": {
  "kernelspec": {
   "display_name": "Python 3 (ipykernel)",
   "language": "python",
   "name": "python3"
  },
  "language_info": {
   "codemirror_mode": {
    "name": "ipython",
    "version": 3
   },
   "file_extension": ".py",
   "mimetype": "text/x-python",
   "name": "python",
   "nbconvert_exporter": "python",
   "pygments_lexer": "ipython3",
   "version": "3.9.10"
  }
 },
 "nbformat": 4,
 "nbformat_minor": 5
}
