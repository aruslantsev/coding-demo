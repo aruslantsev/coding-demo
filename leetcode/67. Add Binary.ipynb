{
 "cells": [
  {
   "cell_type": "markdown",
   "id": "c7964039-fe01-447e-b643-09233ce9997e",
   "metadata": {},
   "source": [
    "Given two binary strings a and b, return their sum as a binary string.\n",
    "\n",
    " \n",
    "\n",
    "Example 1:\n",
    "\n",
    "Input: a = \"11\", b = \"1\"\n",
    "Output: \"100\"\n",
    "\n",
    "Example 2:\n",
    "\n",
    "Input: a = \"1010\", b = \"1011\"\n",
    "Output: \"10101\"\n",
    "\n",
    " \n",
    "\n",
    "Constraints:\n",
    "\n",
    "    1 <= a.length, b.length <= 104\n",
    "    a and b consist only of '0' or '1' characters.\n",
    "    Each string does not contain leading zeros except for the zero itself.\n",
    "\n"
   ]
  },
  {
   "cell_type": "code",
   "execution_count": 5,
   "id": "1f9121de-d549-4d7a-b510-eecf1cb00787",
   "metadata": {},
   "outputs": [],
   "source": [
    "class Solution:\n",
    "    def addBinary(self, a: str, b: str) -> str:\n",
    "        a = list(a[::-1])\n",
    "        b = list(b[::-1])\n",
    "        if len(a) > len(b):\n",
    "            b += [0] * (len(a) - len(b))\n",
    "        else:\n",
    "            a += [0] * (len(b) - len(a))\n",
    "            \n",
    "        result = []\n",
    "        res = 0\n",
    "        for i in range(len(a)):\n",
    "            result.append(\"1\" if (int(a[i]) + int(b[i]) + res) % 2 == 1 else \"0\")\n",
    "            res = 1 if int(a[i]) + int(b[i]) + res > 1 else 0\n",
    "        if res == 1:\n",
    "            result.append(\"1\")\n",
    "            \n",
    "        return ''.join(result[::-1])"
   ]
  },
  {
   "cell_type": "code",
   "execution_count": 6,
   "id": "2a34175f-9e0a-495c-8cca-3db3c0c0360d",
   "metadata": {},
   "outputs": [
    {
     "data": {
      "text/plain": [
       "'100'"
      ]
     },
     "execution_count": 6,
     "metadata": {},
     "output_type": "execute_result"
    }
   ],
   "source": [
    "s = Solution()\n",
    "s.addBinary(\"11\", \"1\")"
   ]
  },
  {
   "cell_type": "code",
   "execution_count": 7,
   "id": "ba54f292-2fbf-48f4-a9d1-8eba38e3a7fd",
   "metadata": {},
   "outputs": [
    {
     "data": {
      "text/plain": [
       "'10101'"
      ]
     },
     "execution_count": 7,
     "metadata": {},
     "output_type": "execute_result"
    }
   ],
   "source": [
    "s.addBinary(\"1010\", \"1011\")"
   ]
  },
  {
   "cell_type": "code",
   "execution_count": null,
   "id": "07a5b5f7-dc50-4b1d-a8b2-3c89f912471b",
   "metadata": {},
   "outputs": [],
   "source": []
  }
 ],
 "metadata": {
  "kernelspec": {
   "display_name": "Python 3 (ipykernel)",
   "language": "python",
   "name": "python3"
  },
  "language_info": {
   "codemirror_mode": {
    "name": "ipython",
    "version": 3
   },
   "file_extension": ".py",
   "mimetype": "text/x-python",
   "name": "python",
   "nbconvert_exporter": "python",
   "pygments_lexer": "ipython3",
   "version": "3.9.10"
  }
 },
 "nbformat": 4,
 "nbformat_minor": 5
}
