{
 "cells": [
  {
   "cell_type": "markdown",
   "id": "35d60d58",
   "metadata": {},
   "source": [
    "Given string num representing a non-negative integer num, and an integer k, return the smallest possible integer after removing k digits from num.\n",
    "\n",
    " \n",
    "\n",
    "Example 1:\n",
    "\n",
    "Input: num = \"1432219\", k = 3\n",
    "Output: \"1219\"\n",
    "Explanation: Remove the three digits 4, 3, and 2 to form the new number 1219 which is the smallest.\n",
    "\n",
    "Example 2:\n",
    "\n",
    "Input: num = \"10200\", k = 1\n",
    "Output: \"200\"\n",
    "Explanation: Remove the leading 1 and the number is 200. Note that the output must not contain leading zeroes.\n",
    "\n",
    "Example 3:\n",
    "\n",
    "Input: num = \"10\", k = 2\n",
    "Output: \"0\"\n",
    "Explanation: Remove all the digits from the number and it is left with nothing which is 0.\n",
    "\n",
    " \n",
    "\n",
    "Constraints:\n",
    "\n",
    "    1 <= k <= num.length <= 105\n",
    "    num consists of only digits.\n",
    "    num does not have any leading zeros except for the zero itself.\n",
    "\n"
   ]
  },
  {
   "cell_type": "code",
   "execution_count": 48,
   "id": "3409328e",
   "metadata": {},
   "outputs": [],
   "source": [
    "class Solution:\n",
    "    def removeKdigits(self, num: str, k: int) -> str:\n",
    "        if (int(num) == 0) or (len(num) == k):\n",
    "            return \"0\"\n",
    "        i = 0\n",
    "        while k > 0:\n",
    "            subarr = num[i:i + k + 1]\n",
    "            pos_subarr = subarr.index(min(subarr))\n",
    "            k -= pos_subarr\n",
    "            pos_subarr += i\n",
    "            num = num[0:i] + num[pos_subarr:]\n",
    "            i += 1\n",
    "        return str(int(num))"
   ]
  },
  {
   "cell_type": "code",
   "execution_count": 50,
   "id": "0bdb4e7c",
   "metadata": {},
   "outputs": [
    {
     "data": {
      "text/plain": [
       "'1219'"
      ]
     },
     "execution_count": 50,
     "metadata": {},
     "output_type": "execute_result"
    }
   ],
   "source": [
    "s = Solution()\n",
    "s.removeKdigits(num = \"1432219\", k = 3)"
   ]
  },
  {
   "cell_type": "code",
   "execution_count": 51,
   "id": "adc70dfc",
   "metadata": {},
   "outputs": [
    {
     "data": {
      "text/plain": [
       "'200'"
      ]
     },
     "execution_count": 51,
     "metadata": {},
     "output_type": "execute_result"
    }
   ],
   "source": [
    "s.removeKdigits(num = \"10200\", k = 1)"
   ]
  },
  {
   "cell_type": "code",
   "execution_count": 52,
   "id": "30b3b547",
   "metadata": {},
   "outputs": [
    {
     "data": {
      "text/plain": [
       "'0'"
      ]
     },
     "execution_count": 52,
     "metadata": {},
     "output_type": "execute_result"
    }
   ],
   "source": [
    "s.removeKdigits(\"10\", 2)"
   ]
  },
  {
   "cell_type": "code",
   "execution_count": 53,
   "id": "ea9af155",
   "metadata": {},
   "outputs": [
    {
     "data": {
      "text/plain": [
       "'11'"
      ]
     },
     "execution_count": 53,
     "metadata": {},
     "output_type": "execute_result"
    }
   ],
   "source": [
    "s.removeKdigits(\"112\", 1)"
   ]
  },
  {
   "cell_type": "code",
   "execution_count": 49,
   "id": "cd81f46b",
   "metadata": {},
   "outputs": [],
   "source": [
    "class Solution:\n",
    "    def removeKdigits(self, num: str, k: int) -> str:\n",
    "        st = list()\n",
    "        for n in num:\n",
    "            while st and k and (st[-1] > n):\n",
    "                st.pop()\n",
    "                k -= 1\n",
    "            if st or (n != '0'): # prevent leading zeros\n",
    "                st.append(n)\n",
    "                \n",
    "        if k: \n",
    "            # not fully spent\n",
    "            st = st[0:-k]\n",
    "            \n",
    "        return ''.join(st) or '0'"
   ]
  },
  {
   "cell_type": "code",
   "execution_count": null,
   "id": "2b0ef77d",
   "metadata": {},
   "outputs": [],
   "source": []
  }
 ],
 "metadata": {
  "kernelspec": {
   "display_name": "Python 3 (ipykernel)",
   "language": "python",
   "name": "python3"
  },
  "language_info": {
   "codemirror_mode": {
    "name": "ipython",
    "version": 3
   },
   "file_extension": ".py",
   "mimetype": "text/x-python",
   "name": "python",
   "nbconvert_exporter": "python",
   "pygments_lexer": "ipython3",
   "version": "3.9.5"
  }
 },
 "nbformat": 4,
 "nbformat_minor": 5
}
