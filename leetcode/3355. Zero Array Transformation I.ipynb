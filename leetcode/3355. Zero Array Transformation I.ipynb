{
 "cells": [
  {
   "cell_type": "markdown",
   "id": "6e733116-9973-4afe-bbb9-8a5f805e3b47",
   "metadata": {},
   "source": [
    "You are given an integer array nums of length n and a 2D array queries, where queries[i] = [li, ri].\n",
    "\n",
    "For each queries[i]:\n",
    "\n",
    "    Select a \n",
    "\n",
    "    of indices within the range [li, ri] in nums.\n",
    "    Decrement the values at the selected indices by 1.\n",
    "\n",
    "A Zero Array is an array where all elements are equal to 0.\n",
    "\n",
    "Return true if it is possible to transform nums into a Zero Array after processing all the queries sequentially, otherwise return false.\n",
    "\n",
    " \n",
    "\n",
    "Example 1:\n",
    "\n",
    "Input: nums = [1,0,1], queries = [[0,2]]\n",
    "\n",
    "Output: true\n",
    "\n",
    "Explanation:\n",
    "\n",
    "    For i = 0:\n",
    "        Select the subset of indices as [0, 2] and decrement the values at these indices by 1.\n",
    "        The array will become [0, 0, 0], which is a Zero Array.\n",
    "\n",
    "Example 2:\n",
    "\n",
    "Input: nums = [4,3,2,1], queries = [[1,3],[0,2]]\n",
    "\n",
    "Output: false\n",
    "\n",
    "Explanation:\n",
    "\n",
    "    For i = 0:\n",
    "        Select the subset of indices as [1, 2, 3] and decrement the values at these indices by 1.\n",
    "        The array will become [4, 2, 1, 0].\n",
    "    For i = 1:\n",
    "        Select the subset of indices as [0, 1, 2] and decrement the values at these indices by 1.\n",
    "        The array will become [3, 1, 0, 0], which is not a Zero Array.\n",
    "\n",
    " \n",
    "\n",
    "Constraints:\n",
    "\n",
    "    1 <= nums.length <= 105\n",
    "    0 <= nums[i] <= 105\n",
    "    1 <= queries.length <= 105\n",
    "    queries[i].length == 2\n",
    "    0 <= li <= ri < nums.length\n"
   ]
  },
  {
   "cell_type": "code",
   "execution_count": null,
   "id": "3665e2aa-b252-4275-a94a-2455c342c960",
   "metadata": {},
   "outputs": [],
   "source": [
    "class Solution:\n",
    "    def isZeroArray(self, nums: List[int], queries: List[List[int]]) -> bool:\n",
    "        diffs = [0] * (len(nums) + 1)\n",
    "        for s, e in queries:\n",
    "            diffs[s] -= 1\n",
    "            diffs[e + 1] += 1\n",
    "        curr = 0\n",
    "        for i in range(len(nums)):\n",
    "            curr += diffs[i]\n",
    "            if nums[i] + curr > 0:\n",
    "                return False\n",
    "        return True"
   ]
  }
 ],
 "metadata": {
  "kernelspec": {
   "display_name": "Python 3 (ipykernel)",
   "language": "python",
   "name": "python3"
  },
  "language_info": {
   "codemirror_mode": {
    "name": "ipython",
    "version": 3
   },
   "file_extension": ".py",
   "mimetype": "text/x-python",
   "name": "python",
   "nbconvert_exporter": "python",
   "pygments_lexer": "ipython3",
   "version": "3.12.9"
  }
 },
 "nbformat": 4,
 "nbformat_minor": 5
}
