{
 "cells": [
  {
   "cell_type": "markdown",
   "id": "484cdb5f-e6c3-47a6-a41c-ce7f6f5e4bb4",
   "metadata": {},
   "source": [
    "You are given a string s consisting only of uppercase English letters.\n",
    "\n",
    "You can apply some operations to this string where, in one operation, you can remove any occurrence of one of the substrings \"AB\" or \"CD\" from s.\n",
    "\n",
    "Return the minimum possible length of the resulting string that you can obtain.\n",
    "\n",
    "Note that the string concatenates after removing the substring and could produce new \"AB\" or \"CD\" substrings.\n",
    "\n",
    " \n",
    "\n",
    "Example 1:\n",
    "\n",
    "Input: s = \"ABFCACDB\"\n",
    "Output: 2\n",
    "Explanation: We can do the following operations:\n",
    "- Remove the substring \"ABFCACDB\", so s = \"FCACDB\".\n",
    "- Remove the substring \"FCACDB\", so s = \"FCAB\".\n",
    "- Remove the substring \"FCAB\", so s = \"FC\".\n",
    "So the resulting length of the string is 2.\n",
    "It can be shown that it is the minimum length that we can obtain.\n",
    "\n",
    "Example 2:\n",
    "\n",
    "Input: s = \"ACBBD\"\n",
    "Output: 5\n",
    "Explanation: We cannot do any operations on the string so the length remains the same.\n",
    "\n",
    " \n",
    "\n",
    "Constraints:\n",
    "\n",
    "    1 <= s.length <= 100\n",
    "    s consists only of uppercase English letters.\n",
    "\n"
   ]
  },
  {
   "cell_type": "code",
   "execution_count": null,
   "id": "7822c72d-0129-43c8-bb9f-c513944a2e00",
   "metadata": {},
   "outputs": [],
   "source": [
    "class Solution:\n",
    "    def minLength(self, s: str) -> int:\n",
    "        stack = []\n",
    "        for sym in s:\n",
    "            if stack and (\n",
    "                (stack[-1] == \"A\" and sym == \"B\") \n",
    "                or (stack[-1] == \"C\" and sym == \"D\") \n",
    "            ):\n",
    "                stack.pop()\n",
    "            else:\n",
    "                stack.append(sym)\n",
    "        return len(stack)"
   ]
  }
 ],
 "metadata": {
  "kernelspec": {
   "display_name": "Python 3 (ipykernel)",
   "language": "python",
   "name": "python3"
  },
  "language_info": {
   "codemirror_mode": {
    "name": "ipython",
    "version": 3
   },
   "file_extension": ".py",
   "mimetype": "text/x-python",
   "name": "python",
   "nbconvert_exporter": "python",
   "pygments_lexer": "ipython3",
   "version": "3.12.7"
  }
 },
 "nbformat": 4,
 "nbformat_minor": 5
}
