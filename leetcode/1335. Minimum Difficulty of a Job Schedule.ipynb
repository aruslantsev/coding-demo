{
 "cells": [
  {
   "attachments": {
    "73502d0d-88db-4245-bd4e-8d3e26e511b2.png": {
     "image/png": "[encoded data removed]"
    }
   },
   "cell_type": "markdown",
   "id": "778c3a6a-3aee-4635-bc8b-1b281b625566",
   "metadata": {},
   "source": [
    "You want to schedule a list of jobs in d days. Jobs are dependent (i.e To work on the ith job, you have to finish all the jobs j where 0 <= j < i).\n",
    "\n",
    "You have to finish at least one task every day. The difficulty of a job schedule is the sum of difficulties of each day of the d days. The difficulty of a day is the maximum difficulty of a job done on that day.\n",
    "\n",
    "You are given an integer array jobDifficulty and an integer d. The difficulty of the ith job is jobDifficulty[i].\n",
    "\n",
    "Return the minimum difficulty of a job schedule. If you cannot find a schedule for the jobs return -1.\n",
    "\n",
    " \n",
    "\n",
    "Example 1:\n",
    "\n",
    "![изображение.png](attachment:73502d0d-88db-4245-bd4e-8d3e26e511b2.png)\n",
    "\n",
    "Input: jobDifficulty = [6,5,4,3,2,1], d = 2\n",
    "Output: 7\n",
    "Explanation: First day you can finish the first 5 jobs, total difficulty = 6.\n",
    "Second day you can finish the last job, total difficulty = 1.\n",
    "The difficulty of the schedule = 6 + 1 = 7 \n",
    "\n",
    "Example 2:\n",
    "\n",
    "Input: jobDifficulty = [9,9,9], d = 4\n",
    "Output: -1\n",
    "Explanation: If you finish a job per day you will still have a free day. you cannot find a schedule for the given jobs.\n",
    "\n",
    "Example 3:\n",
    "\n",
    "Input: jobDifficulty = [1,1,1], d = 3\n",
    "Output: 3\n",
    "Explanation: The schedule is one job per day. total difficulty will be 3.\n",
    "\n",
    " \n",
    "\n",
    "Constraints:\n",
    "\n",
    "    1 <= jobDifficulty.length <= 300\n",
    "    0 <= jobDifficulty[i] <= 1000\n",
    "    1 <= d <= 10\n",
    "\n"
   ]
  },
  {
   "cell_type": "code",
   "execution_count": null,
   "id": "0d9f9c8d-0ca2-4bc6-a51b-f59e53b9d738",
   "metadata": {},
   "outputs": [],
   "source": [
    "class Solution:\n",
    "    def minDifficulty(self, jobDifficulty: List[int], d: int) -> int:\n",
    "        n = len(jobDifficulty)\n",
    "    \n",
    "        @cache\n",
    "        # dp(i, k): min difficulty when you start working on i-th job at day `k`\n",
    "        def dp(i, k):\n",
    "            # reach the last day\n",
    "            # we put all the remaining jobs on this day\n",
    "            # so we return the one with max difficulty\n",
    "            if k == d: \n",
    "                return max(jobDifficulty[i:])\n",
    "            # init min difficulty with inf \n",
    "            res = float('inf')\n",
    "            # cur is the max difficulty we've seen so far on day `k`\n",
    "            # init current max with 0\n",
    "            cur = 0\n",
    "            # for jobDifficulty like 6 5 4 3 2 1, \n",
    "            # we can have following ways to distribute them into two days\n",
    "            # 6 | 5 4 3 2 1\n",
    "            # 6 5 | 4 3 2 1 \n",
    "            # 6 5 4 | 3 2 1\n",
    "            # 6 5 4 3 | 2 1\n",
    "            # 6 5 4 3 2 | 1\n",
    "            # notice that each day we must have at least one task\n",
    "            # given the starting index `i`, \n",
    "            # we can only at most choose the jobs till the position `n - d + k - 1`\n",
    "            for j in range(i, n - d + k):\n",
    "                cur = max(cur, jobDifficulty[j])\n",
    "                # if j-th job is the last job on day `k`, \n",
    "                # the max difficulty for day `k` is `cur`\n",
    "                # and we need to start (j + 1)-th job on the next day\n",
    "                # the result would be `cur + dp(j + 1, k + 1)`\n",
    "                # then we take the min\n",
    "                res = min(res, cur + dp(j + 1, k + 1))\n",
    "            return res\n",
    "        # n < d : you will have free days. hence you cannot find a schedule for the given jobs\n",
    "        # e.g. Example 2\n",
    "        # otherwise, we start working on 0-th job at day 1\n",
    "        return -1 if n < d else dp(0, 1)"
   ]
  },
  {
   "cell_type": "code",
   "execution_count": null,
   "id": "44c67e25-0a59-41f1-850a-c2eac8405a4c",
   "metadata": {},
   "outputs": [],
   "source": [
    "class Solution:\n",
    "    def minDifficulty(self, jobDifficulty: List[int], d: int) -> int:\n",
    "        \n",
    "        @lru_cache(None)\n",
    "        def dp(idx,d,curr):\n",
    "            if idx == len(jobDifficulty) and d == 0: return curr\n",
    "            if idx >= len(jobDifficulty) or  d <= 0: return inf\n",
    "            \n",
    "            return min(dp(idx+1,d,max(curr,jobDifficulty[idx])),\n",
    "                       max(curr,jobDifficulty[idx])+dp(idx+1,d-1,0))\n",
    "       \n",
    "        ans = dp(0,d,0)\n",
    "\n",
    "        return ans if ans != inf else -1"
   ]
  }
 ],
 "metadata": {
  "kernelspec": {
   "display_name": "Python 3 (ipykernel)",
   "language": "python",
   "name": "python3"
  },
  "language_info": {
   "codemirror_mode": {
    "name": "ipython",
    "version": 3
   },
   "file_extension": ".py",
   "mimetype": "text/x-python",
   "name": "python",
   "nbconvert_exporter": "python",
   "pygments_lexer": "ipython3",
   "version": "3.9.13"
  }
 },
 "nbformat": 4,
 "nbformat_minor": 5
}
