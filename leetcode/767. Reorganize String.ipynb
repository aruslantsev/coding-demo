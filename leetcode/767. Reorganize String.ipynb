{
 "cells": [
  {
   "cell_type": "markdown",
   "id": "3575d6b0-501d-4340-b01c-6ad1b274a1b1",
   "metadata": {},
   "source": [
    "Given a string s, rearrange the characters of s so that any two adjacent characters are not the same.\n",
    "\n",
    "Return any possible rearrangement of s or return \"\" if not possible.\n",
    "\n",
    " \n",
    "\n",
    "Example 1:\n",
    "\n",
    "Input: s = \"aab\"\n",
    "Output: \"aba\"\n",
    "\n",
    "Example 2:\n",
    "\n",
    "Input: s = \"aaab\"\n",
    "Output: \"\"\n",
    "\n",
    " \n",
    "\n",
    "Constraints:\n",
    "\n",
    "    1 <= s.length <= 500\n",
    "    s consists of lowercase English letters.\n",
    "\n"
   ]
  },
  {
   "cell_type": "code",
   "execution_count": null,
   "id": "18ea3eef-2fd8-4d2e-a17e-c2a9bc5442da",
   "metadata": {},
   "outputs": [],
   "source": [
    "class Solution:\n",
    "    def reorganizeString(self, s: str) -> str:\n",
    "        ans = []\n",
    "        pq = [(-count, char) for char, count in Counter(s).items()]\n",
    "        heapify(pq)\n",
    "\n",
    "        while pq:\n",
    "            count_first, char_first = heappop(pq)\n",
    "            if not ans or char_first != ans[-1]:\n",
    "                ans.append(char_first)\n",
    "                if count_first + 1 != 0: \n",
    "                    heappush(pq, (count_first + 1, char_first))\n",
    "            else:\n",
    "                if not pq: \n",
    "                    return ''\n",
    "                count_second, char_second = heappop(pq)\n",
    "                ans.append(char_second)\n",
    "                if count_second + 1 != 0:\n",
    "                    heappush(pq, (count_second + 1, char_second))\n",
    "                heappush(pq, (count_first, char_first))\n",
    "        return \"\".join(ans)"
   ]
  }
 ],
 "metadata": {
  "kernelspec": {
   "display_name": "Python 3 (ipykernel)",
   "language": "python",
   "name": "python3"
  },
  "language_info": {
   "codemirror_mode": {
    "name": "ipython",
    "version": 3
   },
   "file_extension": ".py",
   "mimetype": "text/x-python",
   "name": "python",
   "nbconvert_exporter": "python",
   "pygments_lexer": "ipython3",
   "version": "3.10.11"
  }
 },
 "nbformat": 4,
 "nbformat_minor": 5
}
