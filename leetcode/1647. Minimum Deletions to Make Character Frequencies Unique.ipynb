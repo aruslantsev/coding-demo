{
 "cells": [
  {
   "cell_type": "markdown",
   "id": "966465f2-294d-4772-94f8-1da1495dc9ac",
   "metadata": {},
   "source": [
    "A string s is called good if there are no two different characters in s that have the same frequency.\n",
    "\n",
    "Given a string s, return the minimum number of characters you need to delete to make s good.\n",
    "\n",
    "The frequency of a character in a string is the number of times it appears in the string. For example, in the string \"aab\", the frequency of 'a' is 2, while the frequency of 'b' is 1.\n",
    "\n",
    " \n",
    "\n",
    "Example 1:\n",
    "\n",
    "Input: s = \"aab\"\n",
    "Output: 0\n",
    "Explanation: s is already good.\n",
    "\n",
    "Example 2:\n",
    "\n",
    "Input: s = \"aaabbbcc\"\n",
    "Output: 2\n",
    "Explanation: You can delete two 'b's resulting in the good string \"aaabcc\".\n",
    "Another way it to delete one 'b' and one 'c' resulting in the good string \"aaabbc\".\n",
    "\n",
    "Example 3:\n",
    "\n",
    "Input: s = \"ceabaacb\"\n",
    "Output: 2\n",
    "Explanation: You can delete both 'c's resulting in the good string \"eabaab\".\n",
    "Note that we only care about characters that are still in the string at the end (i.e. frequency of 0 is ignored).\n",
    "\n",
    " \n",
    "\n",
    "Constraints:\n",
    "\n",
    "    1 <= s.length <= 105\n",
    "    s contains only lowercase English letters.\n",
    "\n"
   ]
  },
  {
   "cell_type": "code",
   "execution_count": null,
   "id": "47360ed5-7ae7-4f57-8e75-9bb2ce9718a8",
   "metadata": {},
   "outputs": [],
   "source": [
    "class Solution:\n",
    "    def minDeletions(self, s: str) -> int:\n",
    "        \n",
    "        # Store the frequency of each character\n",
    "        frequency = [0] * 26\n",
    "        for char in s:\n",
    "            frequency[ord(char) - ord('a')] += 1\n",
    "        \n",
    "        delete_count = 0\n",
    "        # Use a set to store the frequencies we have already seen\n",
    "        seen_frequencies = set()\n",
    "        for i in range(26):\n",
    "            # Keep decrementing the frequency until it is unique\n",
    "            while frequency[i] and frequency[i] in seen_frequencies:\n",
    "                frequency[i] -= 1\n",
    "                delete_count += 1\n",
    "                \n",
    "            # Add the newly occupied frequency to the set\n",
    "            seen_frequencies.add(frequency[i])\n",
    "        \n",
    "        return delete_count"
   ]
  },
  {
   "cell_type": "code",
   "execution_count": 44,
   "id": "5bbb4dea-89c8-4720-b61e-30065e5c2a43",
   "metadata": {},
   "outputs": [],
   "source": [
    "from collections import Counter\n",
    "\n",
    "\n",
    "class Solution:\n",
    "    def minDeletions(self, s: str) -> int:\n",
    "        counts = Counter(s)\n",
    "        counts = [v for k, v in counts.items()]\n",
    "        frequencies = dict(Counter(counts))\n",
    "        \n",
    "        removals = 0\n",
    "        freqs = sorted(list(frequencies.keys()), reverse=True)\n",
    "        for freq in freqs:\n",
    "            cnt = frequencies[freq]\n",
    "            while cnt > 1:\n",
    "                cnt -= 1\n",
    "                while freq > 0 and freq in frequencies:\n",
    "                    freq -= 1\n",
    "                    removals += 1\n",
    "                if freq > 0:\n",
    "                    frequencies[freq] = 1\n",
    "                    \n",
    "        return removals"
   ]
  },
  {
   "cell_type": "code",
   "execution_count": 45,
   "id": "ddd81b39-0e70-41ff-bf81-e6c541dc1d24",
   "metadata": {},
   "outputs": [
    {
     "name": "stdout",
     "output_type": "stream",
     "text": [
      "2 0\n",
      "1 0\n"
     ]
    },
    {
     "data": {
      "text/plain": [
       "0"
      ]
     },
     "execution_count": 45,
     "metadata": {},
     "output_type": "execute_result"
    }
   ],
   "source": [
    "s = Solution()\n",
    "s.minDeletions(\"aab\")"
   ]
  },
  {
   "cell_type": "code",
   "execution_count": 46,
   "id": "eb678813-a459-4952-91f7-1f9ece3665bf",
   "metadata": {},
   "outputs": [
    {
     "name": "stdout",
     "output_type": "stream",
     "text": [
      "1 2\n",
      "2 2\n"
     ]
    },
    {
     "data": {
      "text/plain": [
       "2"
      ]
     },
     "execution_count": 46,
     "metadata": {},
     "output_type": "execute_result"
    }
   ],
   "source": [
    "s.minDeletions(\"aaabbbcc\")"
   ]
  },
  {
   "cell_type": "code",
   "execution_count": 47,
   "id": "af97a7ec-3057-45f8-8c11-87524f34adda",
   "metadata": {},
   "outputs": [
    {
     "name": "stdout",
     "output_type": "stream",
     "text": [
      "3 0\n",
      "0 2\n",
      "1 2\n"
     ]
    },
    {
     "data": {
      "text/plain": [
       "2"
      ]
     },
     "execution_count": 47,
     "metadata": {},
     "output_type": "execute_result"
    }
   ],
   "source": [
    "s.minDeletions(\"ceabaacb\")"
   ]
  },
  {
   "cell_type": "code",
   "execution_count": 48,
   "id": "a127114a-f596-40eb-ab8a-bbed30195bb4",
   "metadata": {},
   "outputs": [
    {
     "name": "stdout",
     "output_type": "stream",
     "text": [
      "0 2\n"
     ]
    },
    {
     "data": {
      "text/plain": [
       "2"
      ]
     },
     "execution_count": 48,
     "metadata": {},
     "output_type": "execute_result"
    }
   ],
   "source": [
    "s.minDeletions(\"abcabc\")"
   ]
  },
  {
   "cell_type": "code",
   "execution_count": null,
   "id": "8a18e884-e3bd-4ed8-b5d3-6394a46fac03",
   "metadata": {},
   "outputs": [],
   "source": []
  }
 ],
 "metadata": {
  "kernelspec": {
   "display_name": "Python 3 (ipykernel)",
   "language": "python",
   "name": "python3"
  },
  "language_info": {
   "codemirror_mode": {
    "name": "ipython",
    "version": 3
   },
   "file_extension": ".py",
   "mimetype": "text/x-python",
   "name": "python",
   "nbconvert_exporter": "python",
   "pygments_lexer": "ipython3",
   "version": "3.9.12"
  }
 },
 "nbformat": 4,
 "nbformat_minor": 5
}
