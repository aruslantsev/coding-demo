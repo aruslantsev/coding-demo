{
 "cells": [
  {
   "cell_type": "markdown",
   "id": "3d70b02b-b4a2-4492-8de5-b36352953906",
   "metadata": {},
   "source": [
    "You are given an array of characters letters that is sorted in non-decreasing order, and a character target. There are at least two different characters in letters.\n",
    "\n",
    "Return the smallest character in letters that is lexicographically greater than target. If such a character does not exist, return the first character in letters.\n",
    "\n",
    " \n",
    "\n",
    "Example 1:\n",
    "\n",
    "Input: letters = [\"c\",\"f\",\"j\"], target = \"a\"\n",
    "Output: \"c\"\n",
    "Explanation: The smallest character that is lexicographically greater than 'a' in letters is 'c'.\n",
    "\n",
    "Example 2:\n",
    "\n",
    "Input: letters = [\"c\",\"f\",\"j\"], target = \"c\"\n",
    "Output: \"f\"\n",
    "Explanation: The smallest character that is lexicographically greater than 'c' in letters is 'f'.\n",
    "\n",
    "Example 3:\n",
    "\n",
    "Input: letters = [\"x\",\"x\",\"y\",\"y\"], target = \"z\"\n",
    "Output: \"x\"\n",
    "Explanation: There are no characters in letters that is lexicographically greater than 'z' so we return letters[0].\n",
    "\n",
    " \n",
    "\n",
    "Constraints:\n",
    "\n",
    "    2 <= letters.length <= 104\n",
    "    letters[i] is a lowercase English letter.\n",
    "    letters is sorted in non-decreasing order.\n",
    "    letters contains at least two different characters.\n",
    "    target is a lowercase English letter.\n",
    "\n"
   ]
  },
  {
   "cell_type": "code",
   "execution_count": null,
   "id": "96fa0591-02cd-4dff-8b60-ad336022b80c",
   "metadata": {},
   "outputs": [],
   "source": [
    "class Solution:\n",
    "    def nextGreatestLetter(self, letters: List[str], target: str) -> str:\n",
    "        gt = [l for l in letters if l > target]\n",
    "        if len(gt) > 0:\n",
    "            return min(gt)\n",
    "        return letters[0]"
   ]
  }
 ],
 "metadata": {
  "kernelspec": {
   "display_name": "Python 3 (ipykernel)",
   "language": "python",
   "name": "python3"
  },
  "language_info": {
   "codemirror_mode": {
    "name": "ipython",
    "version": 3
   },
   "file_extension": ".py",
   "mimetype": "text/x-python",
   "name": "python",
   "nbconvert_exporter": "python",
   "pygments_lexer": "ipython3",
   "version": "3.10.11"
  }
 },
 "nbformat": 4,
 "nbformat_minor": 5
}
