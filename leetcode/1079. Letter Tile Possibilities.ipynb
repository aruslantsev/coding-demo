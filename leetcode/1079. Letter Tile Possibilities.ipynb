{
 "cells": [
  {
   "cell_type": "markdown",
   "id": "08918339-6da1-4fd0-943c-e5bb3182a24e",
   "metadata": {},
   "source": [
    "You have n  tiles, where each tile has one letter tiles[i] printed on it.\n",
    "\n",
    "Return the number of possible non-empty sequences of letters you can make using the letters printed on those tiles.\n",
    "\n",
    " \n",
    "\n",
    "Example 1:\n",
    "\n",
    "Input: tiles = \"AAB\"\n",
    "Output: 8\n",
    "Explanation: The possible sequences are \"A\", \"B\", \"AA\", \"AB\", \"BA\", \"AAB\", \"ABA\", \"BAA\".\n",
    "\n",
    "Example 2:\n",
    "\n",
    "Input: tiles = \"AAABBC\"\n",
    "Output: 188\n",
    "\n",
    "Example 3:\n",
    "\n",
    "Input: tiles = \"V\"\n",
    "Output: 1\n",
    "\n",
    " \n",
    "\n",
    "Constraints:\n",
    "\n",
    "    1 <= tiles.length <= 7\n",
    "    tiles consists of uppercase English letters.\n",
    "\n"
   ]
  },
  {
   "cell_type": "code",
   "execution_count": null,
   "id": "987890da-b7bb-46d3-8f98-dd1539991f9b",
   "metadata": {},
   "outputs": [],
   "source": [
    "class Solution:\n",
    "    def numTilePossibilities(self, tiles: str) -> int:\n",
    "        self.counts = Counter(tiles)\n",
    "        return self.backtrack()\n",
    "\n",
    "    def backtrack(self):\n",
    "        ans = 0\n",
    "        for letter, cnt in self.counts.items():\n",
    "            if cnt > 0:\n",
    "                self.counts[letter] -= 1\n",
    "                ans += 1 + self.backtrack()\n",
    "                self.counts[letter] += 1\n",
    "        return ans\n"
   ]
  }
 ],
 "metadata": {
  "kernelspec": {
   "display_name": "Python 3 (ipykernel)",
   "language": "python",
   "name": "python3"
  },
  "language_info": {
   "codemirror_mode": {
    "name": "ipython",
    "version": 3
   },
   "file_extension": ".py",
   "mimetype": "text/x-python",
   "name": "python",
   "nbconvert_exporter": "python",
   "pygments_lexer": "ipython3",
   "version": "3.12.7"
  }
 },
 "nbformat": 4,
 "nbformat_minor": 5
}
