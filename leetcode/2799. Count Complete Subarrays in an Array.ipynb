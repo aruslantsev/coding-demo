{
 "cells": [
  {
   "cell_type": "markdown",
   "id": "87fec134-153d-4c97-82f9-1753cec48d26",
   "metadata": {},
   "source": [
    "You are given an array nums consisting of positive integers.\n",
    "\n",
    "We call a subarray of an array complete if the following condition is satisfied:\n",
    "\n",
    "    The number of distinct elements in the subarray is equal to the number of distinct elements in the whole array.\n",
    "\n",
    "Return the number of complete subarrays.\n",
    "\n",
    "A subarray is a contiguous non-empty part of an array.\n",
    "\n",
    " \n",
    "\n",
    "Example 1:\n",
    "\n",
    "Input: nums = [1,3,1,2,2]\n",
    "Output: 4\n",
    "Explanation: The complete subarrays are the following: [1,3,1,2], [1,3,1,2,2], [3,1,2] and [3,1,2,2].\n",
    "\n",
    "Example 2:\n",
    "\n",
    "Input: nums = [5,5,5,5]\n",
    "Output: 10\n",
    "Explanation: The array consists only of the integer 5, so any subarray is complete. The number of subarrays that we can choose is 10.\n",
    "\n",
    " \n",
    "\n",
    "Constraints:\n",
    "\n",
    "    1 <= nums.length <= 1000\n",
    "    1 <= nums[i] <= 2000\n",
    "\n"
   ]
  },
  {
   "cell_type": "code",
   "execution_count": null,
   "id": "15856984-61b0-4ec6-b706-4b597925fa7e",
   "metadata": {},
   "outputs": [],
   "source": [
    "class Solution:\n",
    "    def countCompleteSubarrays(self, nums: List[int]) -> int:\n",
    "        k = len(set(nums))\n",
    "        n = len(nums)\n",
    "        l = 0\n",
    "        cnt = defaultdict(int)\n",
    "        curr_distinct = 0\n",
    "        ans = 0\n",
    "        for r in range(n):\n",
    "            if cnt[nums[r]] == 0:\n",
    "                curr_distinct += 1\n",
    "            cnt[nums[r]] += 1\n",
    "            while l <= r and curr_distinct == k:\n",
    "                ans += n - r\n",
    "                if cnt[nums[l]] == 1:\n",
    "                    curr_distinct -= 1\n",
    "                cnt[nums[l]] -= 1\n",
    "                l += 1\n",
    "        return ans"
   ]
  }
 ],
 "metadata": {
  "kernelspec": {
   "display_name": "Python 3 (ipykernel)",
   "language": "python",
   "name": "python3"
  },
  "language_info": {
   "codemirror_mode": {
    "name": "ipython",
    "version": 3
   },
   "file_extension": ".py",
   "mimetype": "text/x-python",
   "name": "python",
   "nbconvert_exporter": "python",
   "pygments_lexer": "ipython3",
   "version": "3.12.9"
  }
 },
 "nbformat": 4,
 "nbformat_minor": 5
}
