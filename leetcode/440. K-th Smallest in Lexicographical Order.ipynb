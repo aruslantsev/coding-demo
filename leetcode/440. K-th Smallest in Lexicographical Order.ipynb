{
 "cells": [
  {
   "cell_type": "markdown",
   "id": "2fdac074-3940-4641-a42f-32bd8fc0bc2e",
   "metadata": {},
   "source": [
    "Given two integers n and k, return the kth lexicographically smallest integer in the range [1, n].\n",
    "\n",
    " \n",
    "\n",
    "Example 1:\n",
    "\n",
    "Input: n = 13, k = 2\n",
    "Output: 10\n",
    "Explanation: The lexicographical order is [1, 10, 11, 12, 13, 2, 3, 4, 5, 6, 7, 8, 9], so the second smallest number is 10.\n",
    "\n",
    "Example 2:\n",
    "\n",
    "Input: n = 1, k = 1\n",
    "Output: 1\n",
    "\n",
    " \n",
    "\n",
    "Constraints:\n",
    "\n",
    "    1 <= k <= n <= 109\n",
    "\n"
   ]
  },
  {
   "cell_type": "code",
   "execution_count": null,
   "id": "54085afc-a9d0-4e5d-88b9-a892920ae3c4",
   "metadata": {},
   "outputs": [],
   "source": [
    "class Solution:\n",
    "    def findKthNumber(self, n: int, k: int) -> int:\n",
    "        curr = 1\n",
    "        k -= 1\n",
    "\n",
    "        while k > 0:\n",
    "            step = self._count_steps(n, curr, curr + 1)\n",
    "            # If the steps are less than or equal to k, we skip this prefix's subtree\n",
    "            if step <= k:\n",
    "                # Move to the next prefix and decrease k by the number of steps we skip\n",
    "                curr += 1\n",
    "                k -= step\n",
    "            else:\n",
    "                # Move to the next level of the tree and decrement k by 1\n",
    "                curr *= 10\n",
    "                k -= 1\n",
    "\n",
    "        return curr\n",
    "\n",
    "    # To count how many numbers exist between prefix1 and prefix2\n",
    "    def _count_steps(self, n, prefix1, prefix2):\n",
    "        steps = 0\n",
    "        while prefix1 <= n:\n",
    "            steps += min(n + 1, prefix2) - prefix1\n",
    "            prefix1 *= 10\n",
    "            prefix2 *= 10\n",
    "        return steps"
   ]
  }
 ],
 "metadata": {
  "kernelspec": {
   "display_name": "Python 3 (ipykernel)",
   "language": "python",
   "name": "python3"
  },
  "language_info": {
   "codemirror_mode": {
    "name": "ipython",
    "version": 3
   },
   "file_extension": ".py",
   "mimetype": "text/x-python",
   "name": "python",
   "nbconvert_exporter": "python",
   "pygments_lexer": "ipython3",
   "version": "3.12.4"
  }
 },
 "nbformat": 4,
 "nbformat_minor": 5
}
