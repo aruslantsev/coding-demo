{
 "cells": [
  {
   "cell_type": "markdown",
   "id": "a9d1d02c-af6f-4fc2-a7eb-3198bc8f21af",
   "metadata": {},
   "source": [
    "You are given a string s consisting of lowercase English letters.\n",
    "\n",
    "Your task is to find the maximum difference diff = freq(a1) - freq(a2) between the frequency of characters a1 and a2 in the string such that:\n",
    "\n",
    "    a1 has an odd frequency in the string.\n",
    "    a2 has an even frequency in the string.\n",
    "\n",
    "Return this maximum difference.\n",
    "\n",
    " \n",
    "\n",
    "Example 1:\n",
    "\n",
    "Input: s = \"aaaaabbc\"\n",
    "\n",
    "Output: 3\n",
    "\n",
    "Explanation:\n",
    "\n",
    "    The character 'a' has an odd frequency of 5, and 'b' has an even frequency of 2.\n",
    "    The maximum difference is 5 - 2 = 3.\n",
    "\n",
    "Example 2:\n",
    "\n",
    "Input: s = \"abcabcab\"\n",
    "\n",
    "Output: 1\n",
    "\n",
    "Explanation:\n",
    "\n",
    "    The character 'a' has an odd frequency of 3, and 'c' has an even frequency of 2.\n",
    "    The maximum difference is 3 - 2 = 1.\n",
    "\n",
    " \n",
    "\n",
    "Constraints:\n",
    "\n",
    "    3 <= s.length <= 100\n",
    "    s consists only of lowercase English letters.\n",
    "    s contains at least one character with an odd frequency and one with an even frequency.\n",
    "\n"
   ]
  },
  {
   "cell_type": "code",
   "execution_count": null,
   "id": "68ade5b3-595c-45d4-aaa3-2a2d5611e589",
   "metadata": {},
   "outputs": [],
   "source": [
    "class Solution:\n",
    "    def maxDifference(self, s: str) -> int:\n",
    "        cnt = Counter(s)\n",
    "        max_odd = max(v for v in cnt.values() if v % 2 != 0)\n",
    "        min_even = min(v for v in cnt.values() if v % 2 == 0)\n",
    "        return max_odd - min_even\n",
    "        "
   ]
  }
 ],
 "metadata": {
  "kernelspec": {
   "display_name": "Python 3 (ipykernel)",
   "language": "python",
   "name": "python3"
  },
  "language_info": {
   "codemirror_mode": {
    "name": "ipython",
    "version": 3
   },
   "file_extension": ".py",
   "mimetype": "text/x-python",
   "name": "python",
   "nbconvert_exporter": "python",
   "pygments_lexer": "ipython3",
   "version": "3.13.4"
  }
 },
 "nbformat": 4,
 "nbformat_minor": 5
}
