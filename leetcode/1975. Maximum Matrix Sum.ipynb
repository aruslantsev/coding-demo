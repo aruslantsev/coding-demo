{
 "cells": [
  {
   "attachments": {
    "253cd3a7-e410-4460-a96c-ab4b0115dd57.png": {
     "image/png": "[encoded data removed]"
    },
    "d063b381-d655-49ab-836a-49e88bfb30fd.png": {
     "image/png": "[encoded data removed]"
    }
   },
   "cell_type": "markdown",
   "id": "4cbf00cb-b624-4c69-a614-1cd1acd5039f",
   "metadata": {},
   "source": [
    "You are given an n x n integer matrix. You can do the following operation any number of times:\n",
    "\n",
    "    Choose any two adjacent elements of matrix and multiply each of them by -1.\n",
    "\n",
    "Two elements are considered adjacent if and only if they share a border.\n",
    "\n",
    "Your goal is to maximize the summation of the matrix's elements. Return the maximum sum of the matrix's elements using the operation mentioned above.\n",
    "\n",
    " \n",
    "\n",
    "Example 1:\n",
    "\n",
    "![image.png](attachment:d063b381-d655-49ab-836a-49e88bfb30fd.png)\n",
    "\n",
    "Input: matrix = [[1,-1],[-1,1]]\n",
    "Output: 4\n",
    "Explanation: We can follow the following steps to reach sum equals 4:\n",
    "- Multiply the 2 elements in the first row by -1.\n",
    "- Multiply the 2 elements in the first column by -1.\n",
    "\n",
    "Example 2:\n",
    "\n",
    "![image.png](attachment:253cd3a7-e410-4460-a96c-ab4b0115dd57.png)\n",
    "\n",
    "Input: matrix = [[1,2,3],[-1,-2,-3],[1,2,3]]\n",
    "Output: 16\n",
    "Explanation: We can follow the following step to reach sum equals 16:\n",
    "- Multiply the 2 last elements in the second row by -1.\n",
    "\n",
    " \n",
    "\n",
    "Constraints:\n",
    "\n",
    "    n == matrix.length == matrix[i].length\n",
    "    2 <= n <= 250\n",
    "    -105 <= matrix[i][j] <= 105\n",
    "\n"
   ]
  },
  {
   "cell_type": "code",
   "execution_count": null,
   "id": "5211410b-ec7e-4641-85c7-9e1e55b55cd9",
   "metadata": {},
   "outputs": [],
   "source": [
    "class Solution:\n",
    "    def maxMatrixSum(self, matrix: List[List[int]]) -> int:\n",
    "        total_sum = 0\n",
    "        min_abs_val = float(\"inf\")\n",
    "        negative_count = 0\n",
    "\n",
    "        for row in matrix:\n",
    "            for val in row:\n",
    "                total_sum += abs(val)\n",
    "                if val < 0:\n",
    "                    negative_count += 1\n",
    "                min_abs_val = min(min_abs_val, abs(val))\n",
    "\n",
    "        # Adjust if the count of negative numbers is odd\n",
    "        if negative_count % 2 != 0:\n",
    "            total_sum -= 2 * min_abs_val\n",
    "\n",
    "        return total_sum"
   ]
  }
 ],
 "metadata": {
  "kernelspec": {
   "display_name": "Python 3 (ipykernel)",
   "language": "python",
   "name": "python3"
  },
  "language_info": {
   "codemirror_mode": {
    "name": "ipython",
    "version": 3
   },
   "file_extension": ".py",
   "mimetype": "text/x-python",
   "name": "python",
   "nbconvert_exporter": "python",
   "pygments_lexer": "ipython3",
   "version": "3.12.7"
  }
 },
 "nbformat": 4,
 "nbformat_minor": 5
}
