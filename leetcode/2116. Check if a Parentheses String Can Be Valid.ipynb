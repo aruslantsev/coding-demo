{
 "cells": [
  {
   "attachments": {
    "a94aa90a-1608-4250-8458-e446d69634d6.png": {
     "image/png": "[encoded data removed]"
    }
   },
   "cell_type": "markdown",
   "id": "2680c91a-5cbd-45ae-8772-2c03d1bc48a2",
   "metadata": {},
   "source": [
    "A parentheses string is a non-empty string consisting only of '(' and ')'. It is valid if any of the following conditions is true:\n",
    "\n",
    "    It is ().\n",
    "    It can be written as AB (A concatenated with B), where A and B are valid parentheses strings.\n",
    "    It can be written as (A), where A is a valid parentheses string.\n",
    "\n",
    "You are given a parentheses string s and a string locked, both of length n. locked is a binary string consisting only of '0's and '1's. For each index i of locked,\n",
    "\n",
    "    If locked[i] is '1', you cannot change s[i].\n",
    "    But if locked[i] is '0', you can change s[i] to either '(' or ')'.\n",
    "\n",
    "Return true if you can make s a valid parentheses string. Otherwise, return false.\n",
    "\n",
    " \n",
    "\n",
    "Example 1:\n",
    "\n",
    "![image.png](attachment:a94aa90a-1608-4250-8458-e446d69634d6.png)\n",
    "\n",
    "Input: s = \"))()))\", locked = \"010100\"\n",
    "Output: true\n",
    "Explanation: locked[1] == '1' and locked[3] == '1', so we cannot change s[1] or s[3].\n",
    "We change s[0] and s[4] to '(' while leaving s[2] and s[5] unchanged to make s valid.\n",
    "\n",
    "Example 2:\n",
    "\n",
    "Input: s = \"()()\", locked = \"0000\"\n",
    "Output: true\n",
    "Explanation: We do not need to make any changes because s is already valid.\n",
    "\n",
    "Example 3:\n",
    "\n",
    "Input: s = \")\", locked = \"0\"\n",
    "Output: false\n",
    "Explanation: locked permits us to change s[0]. \n",
    "Changing s[0] to either '(' or ')' will not make s valid.\n",
    "\n",
    " \n",
    "\n",
    "Constraints:\n",
    "\n",
    "    n == s.length == locked.length\n",
    "    1 <= n <= 105\n",
    "    s[i] is either '(' or ')'.\n",
    "    locked[i] is either '0' or '1'.\n",
    "\n"
   ]
  },
  {
   "cell_type": "code",
   "execution_count": null,
   "id": "e8c75bdb-46f6-4d05-b595-64ff0d011242",
   "metadata": {},
   "outputs": [],
   "source": [
    "class Solution:\n",
    "    def canBeValid(self, s: str, locked: str) -> bool:\n",
    "        length = len(s)\n",
    "\n",
    "        # If length of string is odd, return false.\n",
    "        if length % 2 == 1:\n",
    "            return False\n",
    "\n",
    "        open_brackets = []\n",
    "        unlocked = []\n",
    "\n",
    "        # Iterate through the string to handle '(' and ')'\n",
    "        for i in range(length):\n",
    "            if locked[i] == \"0\":\n",
    "                unlocked.append(i)\n",
    "            elif s[i] == \"(\":\n",
    "                open_brackets.append(i)\n",
    "            elif s[i] == \")\":\n",
    "                if open_brackets:\n",
    "                    open_brackets.pop()\n",
    "                elif unlocked:\n",
    "                    unlocked.pop()\n",
    "                else:\n",
    "                    return False\n",
    "\n",
    "        # Match remaining open brackets and the unlocked characters\n",
    "        while open_brackets and unlocked and open_brackets[-1] < unlocked[-1]:\n",
    "            open_brackets.pop()\n",
    "            unlocked.pop()\n",
    "\n",
    "        if open_brackets:\n",
    "            return False\n",
    "\n",
    "        return True"
   ]
  }
 ],
 "metadata": {
  "kernelspec": {
   "display_name": "Python 3 (ipykernel)",
   "language": "python",
   "name": "python3"
  },
  "language_info": {
   "codemirror_mode": {
    "name": "ipython",
    "version": 3
   },
   "file_extension": ".py",
   "mimetype": "text/x-python",
   "name": "python",
   "nbconvert_exporter": "python",
   "pygments_lexer": "ipython3",
   "version": "3.12.7"
  }
 },
 "nbformat": 4,
 "nbformat_minor": 5
}
