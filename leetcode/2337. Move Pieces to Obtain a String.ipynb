{
 "cells": [
  {
   "cell_type": "markdown",
   "id": "471003d6-06a3-4144-acb2-402e5dd9d915",
   "metadata": {},
   "source": [
    "You are given two strings start and target, both of length n. Each string consists only of the characters 'L', 'R', and '_' where:\n",
    "\n",
    "    The characters 'L' and 'R' represent pieces, where a piece 'L' can move to the left only if there is a blank space directly to its left, and a piece 'R' can move to the right only if there is a blank space directly to its right.\n",
    "    The character '_' represents a blank space that can be occupied by any of the 'L' or 'R' pieces.\n",
    "\n",
    "Return true if it is possible to obtain the string target by moving the pieces of the string start any number of times. Otherwise, return false.\n",
    "\n",
    " \n",
    "\n",
    "Example 1:\n",
    "\n",
    "Input: start = \"_L__R__R_\", target = \"L______RR\"\n",
    "Output: true\n",
    "Explanation: We can obtain the string target from start by doing the following moves:\n",
    "- Move the first piece one step to the left, start becomes equal to \"L___R__R_\".\n",
    "- Move the last piece one step to the right, start becomes equal to \"L___R___R\".\n",
    "- Move the second piece three steps to the right, start becomes equal to \"L______RR\".\n",
    "Since it is possible to get the string target from start, we return true.\n",
    "\n",
    "Example 2:\n",
    "\n",
    "Input: start = \"R_L_\", target = \"__LR\"\n",
    "Output: false\n",
    "Explanation: The 'R' piece in the string start can move one step to the right to obtain \"_RL_\".\n",
    "After that, no pieces can move anymore, so it is impossible to obtain the string target from start.\n",
    "\n",
    "Example 3:\n",
    "\n",
    "Input: start = \"_R\", target = \"R_\"\n",
    "Output: false\n",
    "Explanation: The piece in the string start can move only to the right, so it is impossible to obtain the string target from start.\n",
    "\n",
    " \n",
    "\n",
    "Constraints:\n",
    "\n",
    "    n == start.length == target.length\n",
    "    1 <= n <= 105\n",
    "    start and target consist of the characters 'L', 'R', and '_'.\n",
    "\n"
   ]
  },
  {
   "cell_type": "code",
   "execution_count": null,
   "id": "75b20a42-8e36-446c-8b67-be09e7c64b31",
   "metadata": {},
   "outputs": [],
   "source": [
    "class Solution:\n",
    "    def canChange(self, start: str, target: str) -> bool:\n",
    "        if start.replace(\"_\", \"\") != target.replace(\"_\", \"\"):\n",
    "            return False\n",
    "\n",
    "        s = []\n",
    "        t = []\n",
    "        syms = start.replace(\"_\", \"\")\n",
    "        for i in range(len(start)):\n",
    "            if start[i] != \"_\":\n",
    "                s.append(i)\n",
    "            if target[i] != \"_\":\n",
    "                t.append(i)\n",
    "        \n",
    "        for sym, pos_s, pos_t in zip(syms, s, t):\n",
    "            if sym == \"R\" and pos_s > pos_t:\n",
    "                return False\n",
    "            if sym == \"L\" and pos_s < pos_t:\n",
    "                return False\n",
    "        return True"
   ]
  }
 ],
 "metadata": {
  "kernelspec": {
   "display_name": "Python 3 (ipykernel)",
   "language": "python",
   "name": "python3"
  },
  "language_info": {
   "codemirror_mode": {
    "name": "ipython",
    "version": 3
   },
   "file_extension": ".py",
   "mimetype": "text/x-python",
   "name": "python",
   "nbconvert_exporter": "python",
   "pygments_lexer": "ipython3",
   "version": "3.12.7"
  }
 },
 "nbformat": 4,
 "nbformat_minor": 5
}
