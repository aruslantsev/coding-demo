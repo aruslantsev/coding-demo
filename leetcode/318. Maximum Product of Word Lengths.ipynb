{
 "cells": [
  {
   "cell_type": "markdown",
   "id": "81fc1411-5e7d-46af-a9e6-0ae6c37aa266",
   "metadata": {},
   "source": [
    "Given a string array words, return the maximum value of length(word[i]) * length(word[j]) where the two words do not share common letters. If no such two words exist, return 0.\n",
    "\n",
    " \n",
    "\n",
    "Example 1:\n",
    "\n",
    "Input: words = [\"abcw\",\"baz\",\"foo\",\"bar\",\"xtfn\",\"abcdef\"]\n",
    "Output: 16\n",
    "Explanation: The two words can be \"abcw\", \"xtfn\".\n",
    "\n",
    "Example 2:\n",
    "\n",
    "Input: words = [\"a\",\"ab\",\"abc\",\"d\",\"cd\",\"bcd\",\"abcd\"]\n",
    "Output: 4\n",
    "Explanation: The two words can be \"ab\", \"cd\".\n",
    "\n",
    "Example 3:\n",
    "\n",
    "Input: words = [\"a\",\"aa\",\"aaa\",\"aaaa\"]\n",
    "Output: 0\n",
    "Explanation: No such pair of words.\n",
    "\n",
    " \n",
    "\n",
    "Constraints:\n",
    "\n",
    "    2 <= words.length <= 1000\n",
    "    1 <= words[i].length <= 1000\n",
    "    words[i] consists only of lowercase English letters.\n",
    "\n"
   ]
  },
  {
   "cell_type": "code",
   "execution_count": 1,
   "id": "4ae61f05-424f-4842-bd07-c72f11852cfa",
   "metadata": {},
   "outputs": [],
   "source": [
    "from typing import List\n",
    "\n",
    "class Solution:\n",
    "    def maxProduct(self, words: List[str]) -> int:\n",
    "        maxProduct = 0\n",
    "        for i in range(len(words) - 1):\n",
    "            for j in range(i + 1, len(words)):\n",
    "                if not (set(words[i]) & set(words[j])):\n",
    "                    maxProduct = max(maxProduct, len(words[i]) * len(words[j]))\n",
    "        return maxProduct"
   ]
  },
  {
   "cell_type": "code",
   "execution_count": null,
   "id": "024caa21-c7a0-4355-9f48-6161ec32a852",
   "metadata": {},
   "outputs": [],
   "source": [
    "from typing import List\n",
    "\n",
    "class Solution:\n",
    "    def maxProduct(self, words: List[str]) -> int:\n",
    "        maxProduct = 0\n",
    "        letters = [set(word) for word in words]\n",
    "        lengths = [len(word) for word in words]\n",
    "        for i in range(len(words) - 1):\n",
    "            for j in range(i + 1, len(words)):\n",
    "                if not (letters[i] & letters[j]):\n",
    "                    maxProduct = max(maxProduct, lengths[i] * lengths[j])\n",
    "        return maxProduct"
   ]
  },
  {
   "cell_type": "code",
   "execution_count": 5,
   "id": "46793c23-8435-4edb-9ace-0afbee243273",
   "metadata": {},
   "outputs": [],
   "source": [
    "class Solution:\n",
    "    def maxProduct(self, words: List[str]) -> int:\n",
    "        n=len(words)\n",
    "        \n",
    "        bit_masks = [0] * n\n",
    "        lengths = [0] * n\n",
    "        \n",
    "        for i in range(n):             \n",
    "            for c in words[i]:\n",
    "                bit_masks[i] |= 1 << (ord(c) - ord('a'))\n",
    "            lengths[i] = len(words[i])\n",
    "                        \n",
    "        max_val = 0\n",
    "        for i in range(n):\n",
    "            for j in range(i+1, n):\n",
    "                if not (bit_masks[i] & bit_masks[j]):\n",
    "                    max_val = max(max_val, lengths[i] * lengths[j])\n",
    "        \n",
    "        return max_val  "
   ]
  },
  {
   "cell_type": "code",
   "execution_count": 2,
   "id": "b9384e59-a67d-49bd-9316-57dc89410d19",
   "metadata": {},
   "outputs": [
    {
     "data": {
      "text/plain": [
       "16"
      ]
     },
     "execution_count": 2,
     "metadata": {},
     "output_type": "execute_result"
    }
   ],
   "source": [
    "s = Solution()\n",
    "s.maxProduct([\"abcw\",\"baz\",\"foo\",\"bar\",\"xtfn\",\"abcdef\"]) # 16"
   ]
  },
  {
   "cell_type": "code",
   "execution_count": 3,
   "id": "9ddb2b00-f90b-413a-a8b3-526cf0bd8218",
   "metadata": {},
   "outputs": [
    {
     "data": {
      "text/plain": [
       "4"
      ]
     },
     "execution_count": 3,
     "metadata": {},
     "output_type": "execute_result"
    }
   ],
   "source": [
    "s.maxProduct( [\"a\",\"ab\",\"abc\",\"d\",\"cd\",\"bcd\",\"abcd\"]) # 4"
   ]
  },
  {
   "cell_type": "code",
   "execution_count": 4,
   "id": "6e2f9a50-6ad4-4274-8d74-ae30d76067a4",
   "metadata": {},
   "outputs": [
    {
     "data": {
      "text/plain": [
       "0"
      ]
     },
     "execution_count": 4,
     "metadata": {},
     "output_type": "execute_result"
    }
   ],
   "source": [
    "s.maxProduct([\"a\",\"aa\",\"aaa\",\"aaaa\"])"
   ]
  },
  {
   "cell_type": "code",
   "execution_count": null,
   "id": "53df65a7-8598-486c-8806-c626d840d0de",
   "metadata": {},
   "outputs": [],
   "source": []
  }
 ],
 "metadata": {
  "kernelspec": {
   "display_name": "Python 3 (ipykernel)",
   "language": "python",
   "name": "python3"
  },
  "language_info": {
   "codemirror_mode": {
    "name": "ipython",
    "version": 3
   },
   "file_extension": ".py",
   "mimetype": "text/x-python",
   "name": "python",
   "nbconvert_exporter": "python",
   "pygments_lexer": "ipython3",
   "version": "3.9.10"
  }
 },
 "nbformat": 4,
 "nbformat_minor": 5
}
