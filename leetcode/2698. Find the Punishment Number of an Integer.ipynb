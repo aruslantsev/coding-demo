{
 "cells": [
  {
   "cell_type": "markdown",
   "id": "73a8f15f-e288-4fa0-af31-78464b8c85f6",
   "metadata": {},
   "source": [
    "Given a positive integer n, return the punishment number of n.\n",
    "\n",
    "The punishment number of n is defined as the sum of the squares of all integers i such that:\n",
    "\n",
    "    1 <= i <= n\n",
    "    The decimal representation of i * i can be partitioned into contiguous substrings such that the sum of the integer values of these substrings equals i.\n",
    "\n",
    " \n",
    "\n",
    "Example 1:\n",
    "\n",
    "Input: n = 10\n",
    "Output: 182\n",
    "Explanation: There are exactly 3 integers i in the range [1, 10] that satisfy the conditions in the statement:\n",
    "- 1 since 1 * 1 = 1\n",
    "- 9 since 9 * 9 = 81 and 81 can be partitioned into 8 and 1 with a sum equal to 8 + 1 == 9.\n",
    "- 10 since 10 * 10 = 100 and 100 can be partitioned into 10 and 0 with a sum equal to 10 + 0 == 10.\n",
    "Hence, the punishment number of 10 is 1 + 81 + 100 = 182\n",
    "\n",
    "Example 2:\n",
    "\n",
    "Input: n = 37\n",
    "Output: 1478\n",
    "Explanation: There are exactly 4 integers i in the range [1, 37] that satisfy the conditions in the statement:\n",
    "- 1 since 1 * 1 = 1. \n",
    "- 9 since 9 * 9 = 81 and 81 can be partitioned into 8 + 1. \n",
    "- 10 since 10 * 10 = 100 and 100 can be partitioned into 10 + 0. \n",
    "- 36 since 36 * 36 = 1296 and 1296 can be partitioned into 1 + 29 + 6.\n",
    "Hence, the punishment number of 37 is 1 + 81 + 100 + 1296 = 1478\n",
    "\n",
    " \n",
    "\n",
    "Constraints:\n",
    "\n",
    "    1 <= n <= 1000\n",
    "\n"
   ]
  },
  {
   "cell_type": "code",
   "execution_count": null,
   "id": "c6e44b1d-c71e-4735-a2bf-b11150f67bec",
   "metadata": {},
   "outputs": [],
   "source": [
    "class Solution:\n",
    "    def punishmentNumber(self, n: int) -> int:\n",
    "        punishment_num = 0\n",
    "        for current_num in range(1, n + 1):\n",
    "            current_square = current_num ** 2\n",
    "            if self.isPunishment(str(current_square), current_num):\n",
    "                punishment_num += current_square\n",
    "        return punishment_num\n",
    "\n",
    "    def isPunishment(self, str_number, target):\n",
    "        if target < 0:\n",
    "            return False\n",
    "        if not str_number and target == 0:\n",
    "            return True\n",
    "        for i in range(len(str_number)):\n",
    "            left = str_number[:i + 1]\n",
    "            right = str_number[i + 1:]\n",
    "            if self.isPunishment(right, target - int(left)):\n",
    "                return True\n",
    "        return False\n"
   ]
  }
 ],
 "metadata": {
  "kernelspec": {
   "display_name": "Python 3 (ipykernel)",
   "language": "python",
   "name": "python3"
  },
  "language_info": {
   "codemirror_mode": {
    "name": "ipython",
    "version": 3
   },
   "file_extension": ".py",
   "mimetype": "text/x-python",
   "name": "python",
   "nbconvert_exporter": "python",
   "pygments_lexer": "ipython3",
   "version": "3.12.7"
  }
 },
 "nbformat": 4,
 "nbformat_minor": 5
}
