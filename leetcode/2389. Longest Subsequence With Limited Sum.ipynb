{
 "cells": [
  {
   "cell_type": "markdown",
   "id": "32344faa-2cbf-407a-9ea4-9271c903d6fc",
   "metadata": {},
   "source": [
    "You are given an integer array nums of length n, and an integer array queries of length m.\n",
    "\n",
    "Return an array answer of length m where answer[i] is the maximum size of a subsequence that you can take from nums such that the sum of its elements is less than or equal to queries[i].\n",
    "\n",
    "A subsequence is an array that can be derived from another array by deleting some or no elements without changing the order of the remaining elements.\n",
    "\n",
    " \n",
    "\n",
    "Example 1:\n",
    "\n",
    "Input: nums = [4,5,2,1], queries = [3,10,21]\n",
    "Output: [2,3,4]\n",
    "Explanation: We answer the queries as follows:\n",
    "- The subsequence [2,1] has a sum less than or equal to 3. It can be proven that 2 is the maximum size of such a subsequence, so answer[0] = 2.\n",
    "- The subsequence [4,5,1] has a sum less than or equal to 10. It can be proven that 3 is the maximum size of such a subsequence, so answer[1] = 3.\n",
    "- The subsequence [4,5,2,1] has a sum less than or equal to 21. It can be proven that 4 is the maximum size of such a subsequence, so answer[2] = 4.\n",
    "\n",
    "Example 2:\n",
    "\n",
    "Input: nums = [2,3,4,5], queries = [1]\n",
    "Output: [0]\n",
    "Explanation: The empty subsequence is the only subsequence that has a sum less than or equal to 1, so answer[0] = 0.\n",
    "\n",
    " \n",
    "\n",
    "Constraints:\n",
    "\n",
    "    n == nums.length\n",
    "    m == queries.length\n",
    "    1 <= n, m <= 1000\n",
    "    1 <= nums[i], queries[i] <= 106\n",
    "\n"
   ]
  },
  {
   "cell_type": "code",
   "execution_count": 1,
   "id": "910dbcbe-f13a-4071-ba86-51d2fdab6718",
   "metadata": {},
   "outputs": [],
   "source": [
    "from typing import List\n",
    "\n",
    "class Solution:\n",
    "    def answerQueries(self, nums: List[int], queries: List[int]) -> List[int]:\n",
    "        nums.sort()\n",
    "        for i in range(1, len(nums)):\n",
    "            nums[i] += nums[i - 1]\n",
    "        \n",
    "        answer = []\n",
    "        \n",
    "        # Longest, not closest!\n",
    "        # Start from smallest values\n",
    "        for query in queries:\n",
    "            index = bisect.bisect_right(nums, query)\n",
    "            answer.append(index)\n",
    "            \n",
    "        return answer\n"
   ]
  },
  {
   "cell_type": "code",
   "execution_count": null,
   "id": "8ab07904-aeca-48b2-a97d-0b1bdbaed468",
   "metadata": {},
   "outputs": [],
   "source": []
  }
 ],
 "metadata": {
  "kernelspec": {
   "display_name": "Python 3 (ipykernel)",
   "language": "python",
   "name": "python3"
  },
  "language_info": {
   "codemirror_mode": {
    "name": "ipython",
    "version": 3
   },
   "file_extension": ".py",
   "mimetype": "text/x-python",
   "name": "python",
   "nbconvert_exporter": "python",
   "pygments_lexer": "ipython3",
   "version": "3.9.13"
  }
 },
 "nbformat": 4,
 "nbformat_minor": 5
}
