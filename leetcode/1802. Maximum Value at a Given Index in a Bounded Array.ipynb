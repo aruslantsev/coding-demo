{
 "cells": [
  {
   "cell_type": "markdown",
   "id": "ac9a895d-b03c-4d7e-bb9e-2861a928a249",
   "metadata": {},
   "source": [
    "You are given three positive integers: n, index, and maxSum. You want to construct an array nums (0-indexed) that satisfies the following conditions:\n",
    "\n",
    "    nums.length == n\n",
    "    nums[i] is a positive integer where 0 <= i < n.\n",
    "    abs(nums[i] - nums[i+1]) <= 1 where 0 <= i < n-1.\n",
    "    The sum of all the elements of nums does not exceed maxSum.\n",
    "    nums[index] is maximized.\n",
    "\n",
    "Return nums[index] of the constructed array.\n",
    "\n",
    "Note that abs(x) equals x if x >= 0, and -x otherwise.\n",
    "\n",
    " \n",
    "\n",
    "Example 1:\n",
    "\n",
    "Input: n = 4, index = 2,  maxSum = 6\n",
    "Output: 2\n",
    "Explanation: nums = [1,2,2,1] is one array that satisfies all the conditions.\n",
    "There are no arrays that satisfy all the conditions and have nums[2] == 3, so 2 is the maximum nums[2].\n",
    "\n",
    "Example 2:\n",
    "\n",
    "Input: n = 6, index = 1,  maxSum = 10\n",
    "Output: 3\n",
    "\n",
    " \n",
    "\n",
    "Constraints:\n",
    "\n",
    "    1 <= n <= maxSum <= 109\n",
    "    0 <= index < n\n",
    "\n"
   ]
  },
  {
   "cell_type": "code",
   "execution_count": null,
   "id": "faf47dde-4ef7-4e11-aa00-42480e3eef31",
   "metadata": {},
   "outputs": [],
   "source": [
    "class Solution:\n",
    "    def getSum(self, index: int, value: int, n: int) -> int:\n",
    "        count = 0\n",
    "        if value > index:\n",
    "            count += (value + value - index) * (index + 1) // 2\n",
    "        else:\n",
    "            count += (value + 1) * value // 2 + index - value + 1\n",
    "        if value >= n - index:\n",
    "            count += (value + value - n + 1 + index) * (n - index) // 2\n",
    "        else:\n",
    "            count += (value + 1) * value // 2 + n - index - value\n",
    "        return count - value\n",
    "    def maxValue(self, n: int, index: int, maxSum: int) -> int:\n",
    "        left, right = 1, maxSum\n",
    "        while left < right:\n",
    "            mid = (left + right + 1) // 2\n",
    "            if self.getSum(index, mid, n) <= maxSum:\n",
    "                left = mid\n",
    "            else:\n",
    "                right = mid - 1\n",
    "        \n",
    "        return left\n"
   ]
  }
 ],
 "metadata": {
  "kernelspec": {
   "display_name": "Python 3 (ipykernel)",
   "language": "python",
   "name": "python3"
  },
  "language_info": {
   "codemirror_mode": {
    "name": "ipython",
    "version": 3
   },
   "file_extension": ".py",
   "mimetype": "text/x-python",
   "name": "python",
   "nbconvert_exporter": "python",
   "pygments_lexer": "ipython3",
   "version": "3.10.11"
  }
 },
 "nbformat": 4,
 "nbformat_minor": 5
}
