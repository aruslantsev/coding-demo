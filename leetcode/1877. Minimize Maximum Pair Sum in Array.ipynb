{
 "cells": [
  {
   "cell_type": "markdown",
   "id": "85806cd4-460c-46c4-97ef-36ab6302fb49",
   "metadata": {},
   "source": [
    "The pair sum of a pair (a,b) is equal to a + b. The maximum pair sum is the largest pair sum in a list of pairs.\n",
    "\n",
    "    For example, if we have pairs (1,5), (2,3), and (4,4), the maximum pair sum would be max(1+5, 2+3, 4+4) = max(6, 5, 8) = 8.\n",
    "\n",
    "Given an array nums of even length n, pair up the elements of nums into n / 2 pairs such that:\n",
    "\n",
    "    Each element of nums is in exactly one pair, and\n",
    "    The maximum pair sum is minimized.\n",
    "\n",
    "Return the minimized maximum pair sum after optimally pairing up the elements.\n",
    "\n",
    " \n",
    "\n",
    "Example 1:\n",
    "\n",
    "Input: nums = [3,5,2,3]\n",
    "Output: 7\n",
    "Explanation: The elements can be paired up into pairs (3,3) and (5,2).\n",
    "The maximum pair sum is max(3+3, 5+2) = max(6, 7) = 7.\n",
    "\n",
    "Example 2:\n",
    "\n",
    "Input: nums = [3,5,4,2,4,6]\n",
    "Output: 8\n",
    "Explanation: The elements can be paired up into pairs (3,5), (4,4), and (6,2).\n",
    "The maximum pair sum is max(3+5, 4+4, 6+2) = max(8, 8, 8) = 8.\n",
    "\n",
    " \n",
    "\n",
    "Constraints:\n",
    "\n",
    "    n == nums.length\n",
    "    2 <= n <= 105\n",
    "    n is even.\n",
    "    1 <= nums[i] <= 105\n"
   ]
  },
  {
   "cell_type": "code",
   "execution_count": null,
   "id": "0d03a781-e18e-4faa-a200-0e0b06cb7ae7",
   "metadata": {},
   "outputs": [],
   "source": [
    "class Solution:\n",
    "    def minPairSum(self, nums: List[int]) -> int:\n",
    "        nums.sort()\n",
    "        ans = nums[0] + nums[-1]\n",
    "        for i in range(len(nums) // 2):\n",
    "            ans = max(ans, nums[i] + nums[len(nums) - 1 - i])\n",
    "        return ans\n",
    "        "
   ]
  }
 ],
 "metadata": {
  "kernelspec": {
   "display_name": "Python 3 (ipykernel)",
   "language": "python",
   "name": "python3"
  },
  "language_info": {
   "codemirror_mode": {
    "name": "ipython",
    "version": 3
   },
   "file_extension": ".py",
   "mimetype": "text/x-python",
   "name": "python",
   "nbconvert_exporter": "python",
   "pygments_lexer": "ipython3",
   "version": "3.11.4"
  }
 },
 "nbformat": 4,
 "nbformat_minor": 5
}
