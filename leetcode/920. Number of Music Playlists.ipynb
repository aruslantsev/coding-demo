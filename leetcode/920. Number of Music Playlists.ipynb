{
 "cells": [
  {
   "cell_type": "markdown",
   "id": "45ee8df8-5877-4d9a-8247-a0f9141bb285",
   "metadata": {},
   "source": [
    "Your music player contains n different songs. You want to listen to goal songs (not necessarily different) during your trip. To avoid boredom, you will create a playlist so that:\n",
    "\n",
    "    Every song is played at least once.\n",
    "    A song can only be played again only if k other songs have been played.\n",
    "\n",
    "Given n, goal, and k, return the number of possible playlists that you can create. Since the answer can be very large, return it modulo 109 + 7.\n",
    "\n",
    " \n",
    "\n",
    "Example 1:\n",
    "\n",
    "Input: n = 3, goal = 3, k = 1\n",
    "Output: 6\n",
    "Explanation: There are 6 possible playlists: [1, 2, 3], [1, 3, 2], [2, 1, 3], [2, 3, 1], [3, 1, 2], and [3, 2, 1].\n",
    "\n",
    "Example 2:\n",
    "\n",
    "Input: n = 2, goal = 3, k = 0\n",
    "Output: 6\n",
    "Explanation: There are 6 possible playlists: [1, 1, 2], [1, 2, 1], [2, 1, 1], [2, 2, 1], [2, 1, 2], and [1, 2, 2].\n",
    "\n",
    "Example 3:\n",
    "\n",
    "Input: n = 2, goal = 3, k = 1\n",
    "Output: 2\n",
    "Explanation: There are 2 possible playlists: [1, 2, 1] and [2, 1, 2].\n",
    "\n",
    " \n",
    "\n",
    "Constraints:\n",
    "\n",
    "    0 <= k < n <= goal <= 100\n",
    "\n"
   ]
  },
  {
   "cell_type": "code",
   "execution_count": null,
   "id": "81eba646-5a1f-48d1-8f20-72f17ef7376c",
   "metadata": {},
   "outputs": [],
   "source": [
    "class Solution:\n",
    "    def numMusicPlaylists(self, n: int, goal: int, k: int) -> int:\n",
    "        MOD = 10**9 + 7\n",
    "\n",
    "        # Initialize the DP table\n",
    "        dp = [[0 for _ in range(n + 1)] for _ in range(goal + 1)]\n",
    "        dp[0][0] = 1\n",
    "\n",
    "        for i in range(1, goal + 1):\n",
    "            for j in range(1, min(i, n) + 1):\n",
    "                # The i-th song is a new song\n",
    "                dp[i][j] = dp[i - 1][j - 1] * (n - j + 1) % MOD\n",
    "                # The i-th song is a song we have played before\n",
    "                if j > k:\n",
    "                    dp[i][j] = (dp[i][j] + dp[i - 1][j] * (j - k)) % MOD\n",
    "\n",
    "        return dp[goal][n]"
   ]
  }
 ],
 "metadata": {
  "kernelspec": {
   "display_name": "Python 3 (ipykernel)",
   "language": "python",
   "name": "python3"
  },
  "language_info": {
   "codemirror_mode": {
    "name": "ipython",
    "version": 3
   },
   "file_extension": ".py",
   "mimetype": "text/x-python",
   "name": "python",
   "nbconvert_exporter": "python",
   "pygments_lexer": "ipython3",
   "version": "3.10.11"
  }
 },
 "nbformat": 4,
 "nbformat_minor": 5
}
