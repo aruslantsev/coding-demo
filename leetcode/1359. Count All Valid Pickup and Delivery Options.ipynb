{
 "cells": [
  {
   "cell_type": "markdown",
   "id": "81cd4b9b",
   "metadata": {},
   "source": [
    "Given n orders, each order consist in pickup and delivery services. \n",
    "\n",
    "Count all valid pickup/delivery possible sequences such that delivery(i) is always after of pickup(i). \n",
    "\n",
    "Since the answer may be too large, return it modulo 10^9 + 7.\n",
    "\n",
    " \n",
    "\n",
    "Example 1:\n",
    "\n",
    "Input: n = 1\n",
    "Output: 1\n",
    "Explanation: Unique order (P1, D1), Delivery 1 always is after of Pickup 1.\n",
    "\n",
    "Example 2:\n",
    "\n",
    "Input: n = 2\n",
    "Output: 6\n",
    "Explanation: All possible orders: \n",
    "(P1,P2,D1,D2), (P1,P2,D2,D1), (P1,D1,P2,D2), (P2,P1,D1,D2), (P2,P1,D2,D1) and (P2,D2,P1,D1).\n",
    "This is an invalid order (P1,D2,P2,D1) because Pickup 2 is after of Delivery 2.\n",
    "\n",
    "Example 3:\n",
    "\n",
    "Input: n = 3\n",
    "Output: 90\n",
    "\n"
   ]
  },
  {
   "cell_type": "code",
   "execution_count": 18,
   "id": "95c07b9b",
   "metadata": {},
   "outputs": [],
   "source": [
    "import math\n",
    "\n",
    "class Solution:\n",
    "    def countOrders(self, n: int) -> int:\n",
    "        # possible number of permutations is (2 * n)!\n",
    "        # delivery should be after pickup for every pair\n",
    "        # permutations = (2 * n)! / 2 ** n\n",
    "        return (math.factorial(2 * n) // 2**n) % (10**9 + 7)"
   ]
  },
  {
   "cell_type": "code",
   "execution_count": 19,
   "id": "81199e83",
   "metadata": {},
   "outputs": [
    {
     "data": {
      "text/plain": [
       "1"
      ]
     },
     "execution_count": 19,
     "metadata": {},
     "output_type": "execute_result"
    }
   ],
   "source": [
    "s = Solution()\n",
    "s.countOrders(1)"
   ]
  },
  {
   "cell_type": "code",
   "execution_count": 20,
   "id": "5c34a1fd",
   "metadata": {},
   "outputs": [
    {
     "data": {
      "text/plain": [
       "6"
      ]
     },
     "execution_count": 20,
     "metadata": {},
     "output_type": "execute_result"
    }
   ],
   "source": [
    "s.countOrders(2)"
   ]
  },
  {
   "cell_type": "code",
   "execution_count": 21,
   "id": "31cda305",
   "metadata": {},
   "outputs": [
    {
     "data": {
      "text/plain": [
       "90"
      ]
     },
     "execution_count": 21,
     "metadata": {},
     "output_type": "execute_result"
    }
   ],
   "source": [
    "s.countOrders(3)"
   ]
  },
  {
   "cell_type": "code",
   "execution_count": 22,
   "id": "7403c1f8",
   "metadata": {},
   "outputs": [
    {
     "data": {
      "text/plain": [
       "2520"
      ]
     },
     "execution_count": 22,
     "metadata": {},
     "output_type": "execute_result"
    }
   ],
   "source": [
    "s.countOrders(4)"
   ]
  },
  {
   "cell_type": "code",
   "execution_count": 23,
   "id": "e9f0ef72",
   "metadata": {},
   "outputs": [
    {
     "data": {
      "text/plain": [
       "113400"
      ]
     },
     "execution_count": 23,
     "metadata": {},
     "output_type": "execute_result"
    }
   ],
   "source": [
    "s.countOrders(5)"
   ]
  },
  {
   "cell_type": "code",
   "execution_count": 24,
   "id": "99c8a20e",
   "metadata": {},
   "outputs": [
    {
     "data": {
      "text/plain": [
       "7484400"
      ]
     },
     "execution_count": 24,
     "metadata": {},
     "output_type": "execute_result"
    }
   ],
   "source": [
    "s.countOrders(6)"
   ]
  },
  {
   "cell_type": "code",
   "execution_count": 25,
   "id": "7cb7e331",
   "metadata": {},
   "outputs": [
    {
     "data": {
      "text/plain": [
       "368349166"
      ]
     },
     "execution_count": 25,
     "metadata": {},
     "output_type": "execute_result"
    }
   ],
   "source": [
    "s.countOrders(18)"
   ]
  },
  {
   "cell_type": "code",
   "execution_count": 27,
   "id": "309bfc3e",
   "metadata": {},
   "outputs": [
    {
     "data": {
      "text/plain": [
       "346779134"
      ]
     },
     "execution_count": 27,
     "metadata": {},
     "output_type": "execute_result"
    }
   ],
   "source": [
    "s.countOrders(120)"
   ]
  },
  {
   "cell_type": "code",
   "execution_count": null,
   "id": "50bad9ff",
   "metadata": {},
   "outputs": [],
   "source": []
  }
 ],
 "metadata": {
  "kernelspec": {
   "display_name": "Python 3 (ipykernel)",
   "language": "python",
   "name": "python3"
  },
  "language_info": {
   "codemirror_mode": {
    "name": "ipython",
    "version": 3
   },
   "file_extension": ".py",
   "mimetype": "text/x-python",
   "name": "python",
   "nbconvert_exporter": "python",
   "pygments_lexer": "ipython3",
   "version": "3.9.10"
  }
 },
 "nbformat": 4,
 "nbformat_minor": 5
}
