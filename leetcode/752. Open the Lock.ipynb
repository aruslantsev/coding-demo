{
 "cells": [
  {
   "cell_type": "markdown",
   "id": "53d7c64a-d028-48c3-a07e-d2314ca57c36",
   "metadata": {},
   "source": [
    "You have a lock in front of you with 4 circular wheels. Each wheel has 10 slots: '0', '1', '2', '3', '4', '5', '6', '7', '8', '9'. The wheels can rotate freely and wrap around: for example we can turn '9' to be '0', or '0' to be '9'. Each move consists of turning one wheel one slot.\n",
    "\n",
    "The lock initially starts at '0000', a string representing the state of the 4 wheels.\n",
    "\n",
    "You are given a list of deadends dead ends, meaning if the lock displays any of these codes, the wheels of the lock will stop turning and you will be unable to open it.\n",
    "\n",
    "Given a target representing the value of the wheels that will unlock the lock, return the minimum total number of turns required to open the lock, or -1 if it is impossible.\n",
    "\n",
    " \n",
    "\n",
    "Example 1:\n",
    "\n",
    "Input: deadends = [\"0201\",\"0101\",\"0102\",\"1212\",\"2002\"], target = \"0202\"\n",
    "Output: 6\n",
    "Explanation: \n",
    "A sequence of valid moves would be \"0000\" -> \"1000\" -> \"1100\" -> \"1200\" -> \"1201\" -> \"1202\" -> \"0202\".\n",
    "Note that a sequence like \"0000\" -> \"0001\" -> \"0002\" -> \"0102\" -> \"0202\" would be invalid,\n",
    "because the wheels of the lock become stuck after the display becomes the dead end \"0102\".\n",
    "\n",
    "Example 2:\n",
    "\n",
    "Input: deadends = [\"8888\"], target = \"0009\"\n",
    "Output: 1\n",
    "Explanation: We can turn the last wheel in reverse to move from \"0000\" -> \"0009\".\n",
    "\n",
    "Example 3:\n",
    "\n",
    "Input: deadends = [\"8887\",\"8889\",\"8878\",\"8898\",\"8788\",\"8988\",\"7888\",\"9888\"], target = \"8888\"\n",
    "Output: -1\n",
    "Explanation: We cannot reach the target without getting stuck.\n",
    "\n",
    " \n",
    "\n",
    "Constraints:\n",
    "\n",
    "    1 <= deadends.length <= 500\n",
    "    deadends[i].length == 4\n",
    "    target.length == 4\n",
    "    target will not be in the list deadends.\n",
    "    target and deadends[i] consist of digits only.\n",
    "\n"
   ]
  },
  {
   "cell_type": "code",
   "execution_count": 16,
   "id": "91fdf0ce-f079-439d-9dc2-b26e7df95ed9",
   "metadata": {},
   "outputs": [],
   "source": [
    "class Solution:\n",
    "    def openLock(self, deadends: List[str], target: str) -> int:\n",
    "        next_slot = {\n",
    "            \"0\": \"1\",\n",
    "            \"1\": \"2\",\n",
    "            \"2\": \"3\",\n",
    "            \"3\": \"4\",\n",
    "            \"4\": \"5\",\n",
    "            \"5\": \"6\",\n",
    "            \"6\": \"7\",\n",
    "            \"7\": \"8\",\n",
    "            \"8\": \"9\",\n",
    "            \"9\": \"0\",\n",
    "        }\n",
    "        prev_slot = {\n",
    "            \"0\": \"9\",\n",
    "            \"1\": \"0\",\n",
    "            \"2\": \"1\",\n",
    "            \"3\": \"2\",\n",
    "            \"4\": \"3\",\n",
    "            \"5\": \"4\",\n",
    "            \"6\": \"5\",\n",
    "            \"7\": \"6\",\n",
    "            \"8\": \"7\",\n",
    "            \"9\": \"8\",\n",
    "        }\n",
    "\n",
    "        visited_combinations = set(deadends)\n",
    "        pending_combinations = deque()\n",
    "        turns = 0\n",
    "        if \"0000\" in visited_combinations:\n",
    "            return -1\n",
    "        pending_combinations.append(\"0000\")\n",
    "        visited_combinations.add(\"0000\")\n",
    "\n",
    "        while pending_combinations:\n",
    "            curr_level_nodes_count = len(pending_combinations)\n",
    "            for _ in range(curr_level_nodes_count):\n",
    "                current_combination = pending_combinations.popleft()\n",
    "\n",
    "                if current_combination == target:\n",
    "                    return turns\n",
    "\n",
    "                for wheel in range(4):\n",
    "                    new_combination = list(current_combination)\n",
    "                    new_combination[wheel] = next_slot[new_combination[wheel]]\n",
    "                    new_combination_str = \"\".join(new_combination)\n",
    "   \n",
    "                    if new_combination_str not in visited_combinations:\n",
    "                        pending_combinations.append(new_combination_str)\n",
    "                        visited_combinations.add(new_combination_str)\n",
    "\n",
    "                    new_combination = list(current_combination)\n",
    "                    new_combination[wheel] = prev_slot[new_combination[wheel]]\n",
    "                    new_combination_str = \"\".join(new_combination)\n",
    "\n",
    "                    if new_combination_str not in visited_combinations:\n",
    "                        pending_combinations.append(new_combination_str)\n",
    "                        visited_combinations.add(new_combination_str)\n",
    "\n",
    "            turns += 1\n",
    "\n",
    "        return -1"
   ]
  },
  {
   "cell_type": "code",
   "execution_count": 17,
   "id": "6c83b003-a6bc-41a0-b0db-ac75b2cfad41",
   "metadata": {},
   "outputs": [
    {
     "data": {
      "text/plain": [
       "6"
      ]
     },
     "execution_count": 17,
     "metadata": {},
     "output_type": "execute_result"
    }
   ],
   "source": [
    "s = Solution()\n",
    "s.openLock(deadends=[\"0201\",\"0101\",\"0102\",\"1212\",\"2002\"], target=\"0202\")"
   ]
  },
  {
   "cell_type": "code",
   "execution_count": null,
   "id": "e96a62af-c2b9-41df-8bac-d14d873a8470",
   "metadata": {},
   "outputs": [],
   "source": []
  }
 ],
 "metadata": {
  "kernelspec": {
   "display_name": "common",
   "language": "python",
   "name": "common"
  },
  "language_info": {
   "codemirror_mode": {
    "name": "ipython",
    "version": 3
   },
   "file_extension": ".py",
   "mimetype": "text/x-python",
   "name": "python",
   "nbconvert_exporter": "python",
   "pygments_lexer": "ipython3",
   "version": "3.11.9"
  }
 },
 "nbformat": 4,
 "nbformat_minor": 5
}
