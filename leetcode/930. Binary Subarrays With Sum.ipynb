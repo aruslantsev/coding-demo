{
 "cells": [
  {
   "cell_type": "markdown",
   "id": "9c44f472-ab84-4f2a-9c94-ed18bbd80b07",
   "metadata": {},
   "source": [
    "Given a binary array nums and an integer goal, return the number of non-empty subarrays with a sum goal.\n",
    "\n",
    "A subarray is a contiguous part of the array.\n",
    "\n",
    " \n",
    "\n",
    "Example 1:\n",
    "\n",
    "Input: nums = [1,0,1,0,1], goal = 2\n",
    "Output: 4\n",
    "Explanation: The 4 subarrays are bolded and underlined below:\n",
    "[1,0,1,0,1]\n",
    "[1,0,1,0,1]\n",
    "[1,0,1,0,1]\n",
    "[1,0,1,0,1]\n",
    "\n",
    "Example 2:\n",
    "\n",
    "Input: nums = [0,0,0,0,0], goal = 0\n",
    "Output: 15\n",
    "\n",
    " \n",
    "\n",
    "Constraints:\n",
    "\n",
    "    1 <= nums.length <= 3 * 104\n",
    "    nums[i] is either 0 or 1.\n",
    "    0 <= goal <= nums.length\n",
    "\n"
   ]
  },
  {
   "cell_type": "code",
   "execution_count": null,
   "id": "ccf36431-5093-4d3a-b403-b9b9bf3ad2a6",
   "metadata": {},
   "outputs": [],
   "source": [
    "class Solution:\n",
    "    def numSubarraysWithSum(self, nums: List[int], goal: int) -> int:\n",
    "        total_count = 0\n",
    "        current_sum = 0\n",
    "        freq = {}\n",
    "        for num in nums:\n",
    "            current_sum += num\n",
    "            if current_sum == goal:\n",
    "                total_count += 1\n",
    "            if current_sum - goal in freq:\n",
    "                total_count += freq[current_sum - goal]\n",
    "            freq[current_sum] = freq.get(current_sum, 0) + 1\n",
    "        return total_count"
   ]
  }
 ],
 "metadata": {
  "kernelspec": {
   "display_name": "common",
   "language": "python",
   "name": "common"
  },
  "language_info": {
   "codemirror_mode": {
    "name": "ipython",
    "version": 3
   },
   "file_extension": ".py",
   "mimetype": "text/x-python",
   "name": "python",
   "nbconvert_exporter": "python",
   "pygments_lexer": "ipython3",
   "version": "3.11.7"
  }
 },
 "nbformat": 4,
 "nbformat_minor": 5
}
