{
 "cells": [
  {
   "cell_type": "markdown",
   "id": "b68a6bf4-531d-4ce9-ac10-d7a4735f75b9",
   "metadata": {},
   "source": [
    "You are given a 0-indexed array of strings words and a 2D array of integers queries.\n",
    "\n",
    "Each query queries[i] = [li, ri] asks us to find the number of strings present in the range li to ri (both inclusive) of words that start and end with a vowel.\n",
    "\n",
    "Return an array ans of size queries.length, where ans[i] is the answer to the ith query.\n",
    "\n",
    "Note that the vowel letters are 'a', 'e', 'i', 'o', and 'u'.\n",
    "\n",
    " \n",
    "\n",
    "Example 1:\n",
    "\n",
    "Input: words = [\"aba\",\"bcb\",\"ece\",\"aa\",\"e\"], queries = [[0,2],[1,4],[1,1]]\n",
    "Output: [2,3,0]\n",
    "Explanation: The strings starting and ending with a vowel are \"aba\", \"ece\", \"aa\" and \"e\".\n",
    "The answer to the query [0,2] is 2 (strings \"aba\" and \"ece\").\n",
    "to query [1,4] is 3 (strings \"ece\", \"aa\", \"e\").\n",
    "to query [1,1] is 0.\n",
    "We return [2,3,0].\n",
    "\n",
    "Example 2:\n",
    "\n",
    "Input: words = [\"a\",\"e\",\"i\"], queries = [[0,2],[0,1],[2,2]]\n",
    "Output: [3,2,1]\n",
    "Explanation: Every string satisfies the conditions, so we return [3,2,1].\n",
    "\n",
    " \n",
    "\n",
    "Constraints:\n",
    "\n",
    "    1 <= words.length <= 105\n",
    "    1 <= words[i].length <= 40\n",
    "    words[i] consists only of lowercase English letters.\n",
    "    sum(words[i].length) <= 3 * 105\n",
    "    1 <= queries.length <= 105\n",
    "    0 <= li <= ri < words.length\n",
    "\n"
   ]
  },
  {
   "cell_type": "code",
   "execution_count": null,
   "id": "567dd38d-fccb-47a8-8ae6-63ac2e0eab10",
   "metadata": {},
   "outputs": [],
   "source": [
    "class Solution:\n",
    "    def vowelStrings(self, words: List[str], queries: List[List[int]]) -> List[int]:\n",
    "        letters = {'a', 'e', 'i', 'o', 'u'}\n",
    "        psum = [0]\n",
    "        curr = 0\n",
    "        for w in words:\n",
    "            curr += 1 if (w[0] in letters and w[-1] in letters) else 0\n",
    "            psum.append(curr)\n",
    "        ans = []\n",
    "        for q in queries:\n",
    "            ans.append(psum[q[1] + 1] - psum[q[0]])\n",
    "        return ans"
   ]
  }
 ],
 "metadata": {
  "kernelspec": {
   "display_name": "Python 3 (ipykernel)",
   "language": "python",
   "name": "python3"
  },
  "language_info": {
   "codemirror_mode": {
    "name": "ipython",
    "version": 3
   },
   "file_extension": ".py",
   "mimetype": "text/x-python",
   "name": "python",
   "nbconvert_exporter": "python",
   "pygments_lexer": "ipython3",
   "version": "3.12.7"
  }
 },
 "nbformat": 4,
 "nbformat_minor": 5
}
