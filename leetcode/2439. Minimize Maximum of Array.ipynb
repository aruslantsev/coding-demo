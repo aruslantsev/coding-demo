{
 "cells": [
  {
   "cell_type": "markdown",
   "id": "8a38ff54-34c8-42b7-b08a-d0a3e4f96f75",
   "metadata": {},
   "source": [
    "You are given a 0-indexed array nums comprising of n non-negative integers.\n",
    "\n",
    "In one operation, you must:\n",
    "\n",
    "Choose an integer i such that 1 <= i < n and nums[i] > 0.\n",
    "Decrease nums[i] by 1.\n",
    "Increase nums[i - 1] by 1.\n",
    "Return the minimum possible value of the maximum integer of nums after performing any number of operations.\n",
    "\n",
    " \n",
    "\n",
    "Example 1:\n",
    "\n",
    "Input: nums = [3,7,1,6]\n",
    "Output: 5\n",
    "Explanation:\n",
    "One set of optimal operations is as follows:\n",
    "1. Choose i = 1, and nums becomes [4,6,1,6].\n",
    "2. Choose i = 3, and nums becomes [4,6,2,5].\n",
    "3. Choose i = 1, and nums becomes [5,5,2,5].\n",
    "The maximum integer of nums is 5. It can be shown that the maximum number cannot be less than 5.\n",
    "Therefore, we return 5.\n",
    "Example 2:\n",
    "\n",
    "Input: nums = [10,1]\n",
    "Output: 10\n",
    "Explanation:\n",
    "It is optimal to leave nums as is, and since 10 is the maximum value, we return 10.\n",
    " \n",
    "\n",
    "Constraints:\n",
    "\n",
    "n == nums.length\n",
    "2 <= n <= 105\n",
    "0 <= nums[i] <= 109"
   ]
  },
  {
   "cell_type": "code",
   "execution_count": null,
   "id": "8cc2650c-5d01-4824-ae94-a91e761df8b3",
   "metadata": {},
   "outputs": [],
   "source": [
    "class Solution:\n",
    "    def minimizeArrayValue(self, nums: List[int]) -> int:\n",
    "        ans = 0\n",
    "        s = 0\n",
    "        # Count on every step average of an array, because it is possible only \n",
    "        # to minimize maximum to an average value of preceeding elements.\n",
    "        for i in range(len(nums)):\n",
    "            s += nums[i]\n",
    "            ans = max(ans, (s + i) // (i + 1))\n",
    "        return ans"
   ]
  }
 ],
 "metadata": {
  "kernelspec": {
   "display_name": "Python 3",
   "language": "python",
   "name": "python3"
  },
  "language_info": {
   "codemirror_mode": {
    "name": "ipython",
    "version": 3
   },
   "file_extension": ".py",
   "mimetype": "text/x-python",
   "name": "python",
   "nbconvert_exporter": "python",
   "pygments_lexer": "ipython3",
   "version": "3.9.12"
  }
 },
 "nbformat": 4,
 "nbformat_minor": 5
}
