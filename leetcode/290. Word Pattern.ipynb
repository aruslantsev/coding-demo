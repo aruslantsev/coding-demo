{
 "cells": [
  {
   "cell_type": "markdown",
   "id": "dab26d62-ccfb-47c6-a245-11dff7fb1da2",
   "metadata": {},
   "source": [
    "Given a pattern and a string s, find if s follows the same pattern.\n",
    "\n",
    "Here follow means a full match, such that there is a bijection between a letter in pattern and a non-empty word in s.\n",
    "\n",
    " \n",
    "\n",
    "Example 1:\n",
    "\n",
    "Input: pattern = \"abba\", s = \"dog cat cat dog\"\n",
    "Output: true\n",
    "\n",
    "Example 2:\n",
    "\n",
    "Input: pattern = \"abba\", s = \"dog cat cat fish\"\n",
    "Output: false\n",
    "\n",
    "Example 3:\n",
    "\n",
    "Input: pattern = \"aaaa\", s = \"dog cat cat dog\"\n",
    "Output: false\n",
    "\n",
    " \n",
    "\n",
    "Constraints:\n",
    "\n",
    "    1 <= pattern.length <= 300\n",
    "    pattern contains only lower-case English letters.\n",
    "    1 <= s.length <= 3000\n",
    "    s contains only lowercase English letters and spaces ' '.\n",
    "    s does not contain any leading or trailing spaces.\n",
    "    All the words in s are separated by a single space.\n",
    "\n"
   ]
  },
  {
   "cell_type": "code",
   "execution_count": null,
   "id": "89179daf-38ed-4d1a-b185-20f9fa277a1c",
   "metadata": {},
   "outputs": [],
   "source": [
    "class Solution:\n",
    "    def wordPattern(self, pattern: str, s: str) -> bool:\n",
    "        s = s.split(\" \")\n",
    "        if len(pattern) != len(s):\n",
    "            return False\n",
    "        mapping = {}\n",
    "        for l, w in zip(pattern, s):\n",
    "            if l not in mapping and w not in mapping.values():\n",
    "                mapping[l] = w\n",
    "            elif l in mapping:\n",
    "                if mapping[l] != w:\n",
    "                    return False\n",
    "            else:\n",
    "                return False\n",
    "        return True"
   ]
  }
 ],
 "metadata": {
  "kernelspec": {
   "display_name": "Python 3 (ipykernel)",
   "language": "python",
   "name": "python3"
  },
  "language_info": {
   "codemirror_mode": {
    "name": "ipython",
    "version": 3
   },
   "file_extension": ".py",
   "mimetype": "text/x-python",
   "name": "python",
   "nbconvert_exporter": "python",
   "pygments_lexer": "ipython3",
   "version": "3.9.13"
  }
 },
 "nbformat": 4,
 "nbformat_minor": 5
}
