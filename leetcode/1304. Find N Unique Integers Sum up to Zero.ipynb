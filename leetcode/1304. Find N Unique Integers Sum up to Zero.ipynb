{
 "cells": [
  {
   "cell_type": "markdown",
   "id": "de83027a-934b-4ebb-9cc6-2dc3389db26d",
   "metadata": {},
   "source": [
    "Given an integer n, return any array containing n unique integers such that they add up to 0.\n",
    "\n",
    " \n",
    "\n",
    "Example 1:\n",
    "\n",
    "Input: n = 5\n",
    "Output: [-7,-1,1,3,4]\n",
    "Explanation: These arrays also are accepted [-5,-1,1,2,3] , [-3,-1,2,-2,4].\n",
    "\n",
    "Example 2:\n",
    "\n",
    "Input: n = 3\n",
    "Output: [-1,0,1]\n",
    "\n",
    "Example 3:\n",
    "\n",
    "Input: n = 1\n",
    "Output: [0]\n",
    "\n",
    " \n",
    "\n",
    "Constraints:\n",
    "\n",
    "    1 <= n <= 1000\n",
    "\n"
   ]
  },
  {
   "cell_type": "code",
   "execution_count": null,
   "id": "94c02d66-b489-4343-99e4-a2a1012f8072",
   "metadata": {},
   "outputs": [],
   "source": [
    "class Solution:\n",
    "    def sumZero(self, n: int) -> List[int]:\n",
    "        ans = []\n",
    "        for num in range(1, 1 + n // 2):\n",
    "            ans.extend([-num, num])\n",
    "        if n % 2 != 0:\n",
    "            ans.append(0)\n",
    "        return ans"
   ]
  },
  {
   "cell_type": "raw",
   "id": "1bff9fa9-6fc4-432b-961c-c6aaaae2b5d5",
   "metadata": {},
   "source": [
    "return [n * (1 - n) >> 1] + list(range(1, n))"
   ]
  }
 ],
 "metadata": {
  "kernelspec": {
   "display_name": "common",
   "language": "python",
   "name": "common"
  },
  "language_info": {
   "codemirror_mode": {
    "name": "ipython",
    "version": 3
   },
   "file_extension": ".py",
   "mimetype": "text/x-python",
   "name": "python",
   "nbconvert_exporter": "python",
   "pygments_lexer": "ipython3",
   "version": "3.12.11"
  }
 },
 "nbformat": 4,
 "nbformat_minor": 5
}
