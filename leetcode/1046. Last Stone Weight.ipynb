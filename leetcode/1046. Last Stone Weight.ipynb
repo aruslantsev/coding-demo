{
 "cells": [
  {
   "cell_type": "markdown",
   "id": "9fb32f06",
   "metadata": {},
   "source": [
    "You are given an array of integers stones where stones[i] is the weight of the ith stone.\n",
    "\n",
    "We are playing a game with the stones. On each turn, we choose the heaviest two stones and smash them together. Suppose the heaviest two stones have weights x and y with x <= y. The result of this smash is:\n",
    "\n",
    "    If x == y, both stones are destroyed, and\n",
    "    If x != y, the stone of weight x is destroyed, and the stone of weight y has new weight y - x.\n",
    "\n",
    "At the end of the game, there is at most one stone left.\n",
    "\n",
    "Return the smallest possible weight of the left stone. If there are no stones left, return 0.\n",
    "\n",
    " \n",
    "\n",
    "Example 1:\n",
    "\n",
    "Input: stones = [2,7,4,1,8,1]\n",
    "Output: 1\n",
    "Explanation: \n",
    "We combine 7 and 8 to get 1 so the array converts to [2,4,1,1,1] then,\n",
    "we combine 2 and 4 to get 2 so the array converts to [2,1,1,1] then,\n",
    "we combine 2 and 1 to get 1 so the array converts to [1,1,1] then,\n",
    "we combine 1 and 1 to get 0 so the array converts to [1] then that's the value of the last stone.\n",
    "\n",
    "Example 2:\n",
    "\n",
    "Input: stones = [1]\n",
    "Output: 1\n",
    "\n",
    " \n",
    "\n",
    "Constraints:\n",
    "\n",
    "    1 <= stones.length <= 30\n",
    "    1 <= stones[i] <= 1000\n",
    "\n"
   ]
  },
  {
   "cell_type": "code",
   "execution_count": 13,
   "id": "4e484b26",
   "metadata": {},
   "outputs": [],
   "source": [
    "from typing import List\n",
    "from heapq import heapify, heappush, heappop\n",
    "\n",
    "\n",
    "class Solution:\n",
    "    def lastStoneWeight(self, stones: List[int]) -> int:\n",
    "        stones = [-s for s in stones]\n",
    "        heapify(stones)\n",
    "        while len(stones) >= 2:\n",
    "            st0 = heappop(stones)\n",
    "            st1 = heappop(stones)\n",
    "            if st0 != st1:\n",
    "                heappush(stones, st0 - st1)\n",
    "        \n",
    "        if len(stones) == 0:\n",
    "            return 0\n",
    "        else:\n",
    "            return -stones[0]"
   ]
  },
  {
   "cell_type": "code",
   "execution_count": 14,
   "id": "96b653b0",
   "metadata": {},
   "outputs": [
    {
     "data": {
      "text/plain": [
       "1"
      ]
     },
     "execution_count": 14,
     "metadata": {},
     "output_type": "execute_result"
    }
   ],
   "source": [
    "s = Solution()\n",
    "s.lastStoneWeight([2,7,4,1,8,1])"
   ]
  },
  {
   "cell_type": "code",
   "execution_count": 15,
   "id": "eff49bfd",
   "metadata": {},
   "outputs": [
    {
     "data": {
      "text/plain": [
       "1"
      ]
     },
     "execution_count": 15,
     "metadata": {},
     "output_type": "execute_result"
    }
   ],
   "source": [
    "s.lastStoneWeight([1])"
   ]
  },
  {
   "cell_type": "code",
   "execution_count": 16,
   "id": "13e7d47a",
   "metadata": {},
   "outputs": [
    {
     "data": {
      "text/plain": [
       "0"
      ]
     },
     "execution_count": 16,
     "metadata": {},
     "output_type": "execute_result"
    }
   ],
   "source": [
    "s.lastStoneWeight([1, 1])"
   ]
  },
  {
   "cell_type": "code",
   "execution_count": null,
   "id": "09d18bbe",
   "metadata": {},
   "outputs": [],
   "source": []
  }
 ],
 "metadata": {
  "kernelspec": {
   "display_name": "Python 3 (ipykernel)",
   "language": "python",
   "name": "python3"
  },
  "language_info": {
   "codemirror_mode": {
    "name": "ipython",
    "version": 3
   },
   "file_extension": ".py",
   "mimetype": "text/x-python",
   "name": "python",
   "nbconvert_exporter": "python",
   "pygments_lexer": "ipython3",
   "version": "3.9.10"
  }
 },
 "nbformat": 4,
 "nbformat_minor": 5
}
