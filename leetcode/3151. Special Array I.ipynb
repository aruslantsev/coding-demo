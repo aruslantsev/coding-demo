{
 "cells": [
  {
   "cell_type": "markdown",
   "id": "122c02dd-a4c3-46c7-b955-e7867197fbf9",
   "metadata": {},
   "source": [
    "An array is considered special if every pair of its adjacent elements contains two numbers with different parity.\n",
    "\n",
    "You are given an array of integers nums. Return true if nums is a special array, otherwise, return false.\n",
    "\n",
    " \n",
    "\n",
    "Example 1:\n",
    "\n",
    "Input: nums = [1]\n",
    "\n",
    "Output: true\n",
    "\n",
    "Explanation:\n",
    "\n",
    "There is only one element. So the answer is true.\n",
    "\n",
    "Example 2:\n",
    "\n",
    "Input: nums = [2,1,4]\n",
    "\n",
    "Output: true\n",
    "\n",
    "Explanation:\n",
    "\n",
    "There is only two pairs: (2,1) and (1,4), and both of them contain numbers with different parity. So the answer is true.\n",
    "\n",
    "Example 3:\n",
    "\n",
    "Input: nums = [4,3,1,6]\n",
    "\n",
    "Output: false\n",
    "\n",
    "Explanation:\n",
    "\n",
    "nums[1] and nums[2] are both odd. So the answer is false.\n",
    "\n",
    " \n",
    "\n",
    "Constraints:\n",
    "\n",
    "    1 <= nums.length <= 100\n",
    "    1 <= nums[i] <= 100\n",
    "\n"
   ]
  },
  {
   "cell_type": "code",
   "execution_count": null,
   "id": "dba89d4a-fdf3-4fa5-8729-0fb17284b7a8",
   "metadata": {},
   "outputs": [],
   "source": [
    "class Solution:\n",
    "    def isArraySpecial(self, nums: List[int]) -> bool:\n",
    "        prev = nums[0] % 2\n",
    "        for i in range(1, len(nums)):\n",
    "            curr = nums[i] % 2\n",
    "            if curr == prev:\n",
    "                return False\n",
    "            prev = curr\n",
    "        return True\n",
    "        "
   ]
  }
 ],
 "metadata": {
  "kernelspec": {
   "display_name": "Python 3 (ipykernel)",
   "language": "python",
   "name": "python3"
  },
  "language_info": {
   "codemirror_mode": {
    "name": "ipython",
    "version": 3
   },
   "file_extension": ".py",
   "mimetype": "text/x-python",
   "name": "python",
   "nbconvert_exporter": "python",
   "pygments_lexer": "ipython3",
   "version": "3.12.7"
  }
 },
 "nbformat": 4,
 "nbformat_minor": 5
}
