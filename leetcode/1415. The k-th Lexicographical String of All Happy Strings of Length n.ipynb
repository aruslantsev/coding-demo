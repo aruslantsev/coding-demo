{
 "cells": [
  {
   "cell_type": "markdown",
   "id": "75e4c76e-4311-4b82-abf7-19699c3ac247",
   "metadata": {},
   "source": [
    "A happy string is a string that:\n",
    "\n",
    "    consists only of letters of the set ['a', 'b', 'c'].\n",
    "    s[i] != s[i + 1] for all values of i from 1 to s.length - 1 (string is 1-indexed).\n",
    "\n",
    "For example, strings \"abc\", \"ac\", \"b\" and \"abcbabcbcb\" are all happy strings and strings \"aa\", \"baa\" and \"ababbc\" are not happy strings.\n",
    "\n",
    "Given two integers n and k, consider a list of all happy strings of length n sorted in lexicographical order.\n",
    "\n",
    "Return the kth string of this list or return an empty string if there are less than k happy strings of length n.\n",
    "\n",
    " \n",
    "\n",
    "Example 1:\n",
    "\n",
    "Input: n = 1, k = 3\n",
    "Output: \"c\"\n",
    "Explanation: The list [\"a\", \"b\", \"c\"] contains all happy strings of length 1. The third string is \"c\".\n",
    "\n",
    "Example 2:\n",
    "\n",
    "Input: n = 1, k = 4\n",
    "Output: \"\"\n",
    "Explanation: There are only 3 happy strings of length 1.\n",
    "\n",
    "Example 3:\n",
    "\n",
    "Input: n = 3, k = 9\n",
    "Output: \"cab\"\n",
    "Explanation: There are 12 different happy string of length 3 [\"aba\", \"abc\", \"aca\", \"acb\", \"bab\", \"bac\", \"bca\", \"bcb\", \"cab\", \"cac\", \"cba\", \"cbc\"]. You will find the 9th string = \"cab\"\n",
    "\n",
    " \n",
    "\n",
    "Constraints:\n",
    "\n",
    "    1 <= n <= 10\n",
    "    1 <= k <= 100\n",
    "\n"
   ]
  },
  {
   "cell_type": "code",
   "execution_count": null,
   "id": "5c25c3d0-86f9-4839-af7b-358a3df4e284",
   "metadata": {},
   "outputs": [],
   "source": [
    "class Solution:\n",
    "    def getHappyString(self, n: int, k: int) -> str:\n",
    "        self.n = n\n",
    "        self.k = k\n",
    "        self.counter = 0\n",
    "        self.ans = \"\"\n",
    "        for letter in [\"a\", \"b\", \"c\"]:\n",
    "            self.recursion(letter)\n",
    "        return self.ans\n",
    "\n",
    "    def recursion(self, s):\n",
    "        if self.ans != \"\":\n",
    "            return\n",
    "        if len(s) == self.n:\n",
    "            self.counter += 1\n",
    "            if self.counter == self.k:\n",
    "                self.ans = s\n",
    "            return\n",
    "        for letter in [\"a\", \"b\", \"c\"]:\n",
    "            if letter != s[-1]:\n",
    "                self.recursion(f\"{s}{letter}\")"
   ]
  }
 ],
 "metadata": {
  "kernelspec": {
   "display_name": "Python 3 (ipykernel)",
   "language": "python",
   "name": "python3"
  },
  "language_info": {
   "codemirror_mode": {
    "name": "ipython",
    "version": 3
   },
   "file_extension": ".py",
   "mimetype": "text/x-python",
   "name": "python",
   "nbconvert_exporter": "python",
   "pygments_lexer": "ipython3",
   "version": "3.12.7"
  }
 },
 "nbformat": 4,
 "nbformat_minor": 5
}
