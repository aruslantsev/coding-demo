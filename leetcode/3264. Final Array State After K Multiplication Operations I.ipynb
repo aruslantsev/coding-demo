{
 "cells": [
  {
   "cell_type": "markdown",
   "id": "5fd1a3e6-0711-4589-8e55-82de42a4708c",
   "metadata": {},
   "source": [
    "You are given an integer array nums, an integer k, and an integer multiplier.\n",
    "\n",
    "You need to perform k operations on nums. In each operation:\n",
    "\n",
    "    Find the minimum value x in nums. If there are multiple occurrences of the minimum value, select the one that appears first.\n",
    "    Replace the selected minimum value x with x * multiplier.\n",
    "\n",
    "Return an integer array denoting the final state of nums after performing all k operations.\n",
    "\n",
    " \n",
    "\n",
    "Example 1:\n",
    "\n",
    "Input: nums = [2,1,3,5,6], k = 5, multiplier = 2\n",
    "\n",
    "Output: [8,4,6,5,6]\n",
    "\n",
    "Explanation:\n",
    "Operation\tResult\n",
    "After operation 1\t[2, 2, 3, 5, 6]\n",
    "After operation 2\t[4, 2, 3, 5, 6]\n",
    "After operation 3\t[4, 4, 3, 5, 6]\n",
    "After operation 4\t[4, 4, 6, 5, 6]\n",
    "After operation 5\t[8, 4, 6, 5, 6]\n",
    "\n",
    "Example 2:\n",
    "\n",
    "Input: nums = [1,2], k = 3, multiplier = 4\n",
    "\n",
    "Output: [16,8]\n",
    "\n",
    "Explanation:\n",
    "Operation\tResult\n",
    "After operation 1\t[4, 2]\n",
    "After operation 2\t[4, 8]\n",
    "After operation 3\t[16, 8]\n",
    "\n",
    " \n",
    "\n",
    "Constraints:\n",
    "\n",
    "    1 <= nums.length <= 100\n",
    "    1 <= nums[i] <= 100\n",
    "    1 <= k <= 10\n",
    "    1 <= multiplier <= 5\n",
    "\n"
   ]
  },
  {
   "cell_type": "code",
   "execution_count": null,
   "id": "cba4e4e0-47cf-40bd-8158-637ed78e2122",
   "metadata": {},
   "outputs": [],
   "source": [
    "class Solution:\n",
    "    def getFinalState(self, nums: List[int], k: int, multiplier: int) -> List[int]:\n",
    "        h = [(v, p) for p, v in enumerate(nums)]\n",
    "        heapq.heapify(h)\n",
    "        for _ in range(k):\n",
    "            v, p = heapq.heappop(h)\n",
    "            v *= multiplier\n",
    "            heapq.heappush(h, (v, p))\n",
    "        return [v for v, _ in sorted(h, key=lambda x: x[1])]"
   ]
  }
 ],
 "metadata": {
  "kernelspec": {
   "display_name": "Python 3 (ipykernel)",
   "language": "python",
   "name": "python3"
  },
  "language_info": {
   "codemirror_mode": {
    "name": "ipython",
    "version": 3
   },
   "file_extension": ".py",
   "mimetype": "text/x-python",
   "name": "python",
   "nbconvert_exporter": "python",
   "pygments_lexer": "ipython3",
   "version": "3.12.7"
  }
 },
 "nbformat": 4,
 "nbformat_minor": 5
}
