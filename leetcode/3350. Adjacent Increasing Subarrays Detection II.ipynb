{
 "cells": [
  {
   "cell_type": "markdown",
   "id": "df09cfeb-8502-40a1-a434-5ac95f69f33f",
   "metadata": {},
   "source": [
    "Given an array nums of n integers, your task is to find the maximum value of k for which there exist two adjacent\n",
    "\n",
    "of length k each, such that both subarrays are strictly increasing. Specifically, check if there are two subarrays of length k starting at indices a and b (a < b), where:\n",
    "\n",
    "    Both subarrays nums[a..a + k - 1] and nums[b..b + k - 1] are strictly increasing.\n",
    "    The subarrays must be adjacent, meaning b = a + k.\n",
    "\n",
    "Return the maximum possible value of k.\n",
    "\n",
    "A subarray is a contiguous non-empty sequence of elements within an array.\n",
    "\n",
    " \n",
    "\n",
    "Example 1:\n",
    "\n",
    "Input: nums = [2,5,7,8,9,2,3,4,3,1]\n",
    "\n",
    "Output: 3\n",
    "\n",
    "Explanation:\n",
    "\n",
    "    The subarray starting at index 2 is [7, 8, 9], which is strictly increasing.\n",
    "    The subarray starting at index 5 is [2, 3, 4], which is also strictly increasing.\n",
    "    These two subarrays are adjacent, and 3 is the maximum possible value of k for which two such adjacent strictly increasing subarrays exist.\n",
    "\n",
    "Example 2:\n",
    "\n",
    "Input: nums = [1,2,3,4,4,4,4,5,6,7]\n",
    "\n",
    "Output: 2\n",
    "\n",
    "Explanation:\n",
    "\n",
    "    The subarray starting at index 0 is [1, 2], which is strictly increasing.\n",
    "    The subarray starting at index 2 is [3, 4], which is also strictly increasing.\n",
    "    These two subarrays are adjacent, and 2 is the maximum possible value of k for which two such adjacent strictly increasing subarrays exist.\n",
    "\n",
    " \n",
    "\n",
    "Constraints:\n",
    "\n",
    "    2 <= nums.length <= 2 * 105\n",
    "    -109 <= nums[i] <= 109\n",
    "\n",
    " "
   ]
  },
  {
   "cell_type": "code",
   "execution_count": null,
   "id": "dd030e3f-df70-4b22-bcfa-1b568d8ac309",
   "metadata": {},
   "outputs": [],
   "source": [
    "class Solution:\n",
    "    def maxIncreasingSubarrays(self, nums: List[int]) -> int:\n",
    "        prev = 0\n",
    "        curr = 1\n",
    "        ans = 0\n",
    "        for i in range(1, len(nums)):\n",
    "            if nums[i] > nums[i - 1]:\n",
    "                curr += 1\n",
    "            else:\n",
    "                prev = curr\n",
    "                curr = 1\n",
    "            ans = max(ans, min(prev, curr), curr // 2)\n",
    "        return ans"
   ]
  }
 ],
 "metadata": {
  "kernelspec": {
   "display_name": "Python 3 (ipykernel)",
   "language": "python",
   "name": "python3"
  },
  "language_info": {
   "codemirror_mode": {
    "name": "ipython",
    "version": 3
   },
   "file_extension": ".py",
   "mimetype": "text/x-python",
   "name": "python",
   "nbconvert_exporter": "python",
   "pygments_lexer": "ipython3",
   "version": "3.13.5"
  }
 },
 "nbformat": 4,
 "nbformat_minor": 5
}
