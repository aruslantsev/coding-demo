{
 "cells": [
  {
   "cell_type": "markdown",
   "id": "8dd798e1-d11f-4e51-9857-a67d4cfa7814",
   "metadata": {},
   "source": [
    "Given a positive integer n, find the pivot integer x such that:\n",
    "\n",
    "    The sum of all elements between 1 and x inclusively equals the sum of all elements between x and n inclusively.\n",
    "\n",
    "Return the pivot integer x. If no such integer exists, return -1. It is guaranteed that there will be at most one pivot index for the given input.\n",
    "\n",
    " \n",
    "\n",
    "Example 1:\n",
    "\n",
    "Input: n = 8\n",
    "Output: 6\n",
    "Explanation: 6 is the pivot integer since: 1 + 2 + 3 + 4 + 5 + 6 = 6 + 7 + 8 = 21.\n",
    "\n",
    "Example 2:\n",
    "\n",
    "Input: n = 1\n",
    "Output: 1\n",
    "Explanation: 1 is the pivot integer since: 1 = 1.\n",
    "\n",
    "Example 3:\n",
    "\n",
    "Input: n = 4\n",
    "Output: -1\n",
    "Explanation: It can be proved that no such integer exist.\n",
    "\n",
    " \n",
    "\n",
    "Constraints:\n",
    "\n",
    "    1 <= n <= 1000\n",
    "\n"
   ]
  },
  {
   "cell_type": "code",
   "execution_count": null,
   "id": "8d826787-083a-44e1-a1e6-008eca5610a5",
   "metadata": {},
   "outputs": [],
   "source": [
    "class Solution:\n",
    "    def pivotInteger(self, n: int) -> int:\n",
    "        s = sum(range(1, n + 1))\n",
    "        curr_s = 0\n",
    "        for i in range(1, n + 1):\n",
    "            curr_s += i\n",
    "            if s - curr_s + i == curr_s:\n",
    "                return i\n",
    "        return -1"
   ]
  }
 ],
 "metadata": {
  "kernelspec": {
   "display_name": "common",
   "language": "python",
   "name": "common"
  },
  "language_info": {
   "codemirror_mode": {
    "name": "ipython",
    "version": 3
   },
   "file_extension": ".py",
   "mimetype": "text/x-python",
   "name": "python",
   "nbconvert_exporter": "python",
   "pygments_lexer": "ipython3",
   "version": "3.11.7"
  }
 },
 "nbformat": 4,
 "nbformat_minor": 5
}
