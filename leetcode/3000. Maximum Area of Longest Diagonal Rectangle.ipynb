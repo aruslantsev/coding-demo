{
 "cells": [
  {
   "cell_type": "markdown",
   "id": "bfdef307-638d-4dd4-a5c5-9c5ee8c7889b",
   "metadata": {},
   "source": [
    "You are given a 2D 0-indexed integer array dimensions.\n",
    "\n",
    "For all indices i, 0 <= i < dimensions.length, dimensions[i][0] represents the length and dimensions[i][1] represents the width of the rectangle i.\n",
    "\n",
    "Return the area of the rectangle having the longest diagonal. If there are multiple rectangles with the longest diagonal, return the area of the rectangle having the maximum area.\n",
    "\n",
    " \n",
    "\n",
    "Example 1:\n",
    "\n",
    "Input: dimensions = [[9,3],[8,6]]\n",
    "Output: 48\n",
    "Explanation: \n",
    "For index = 0, length = 9 and width = 3. Diagonal length = sqrt(9 * 9 + 3 * 3) = sqrt(90) ≈ 9.487.\n",
    "For index = 1, length = 8 and width = 6. Diagonal length = sqrt(8 * 8 + 6 * 6) = sqrt(100) = 10.\n",
    "So, the rectangle at index 1 has a greater diagonal length therefore we return area = 8 * 6 = 48.\n",
    "\n",
    "Example 2:\n",
    "\n",
    "Input: dimensions = [[3,4],[4,3]]\n",
    "Output: 12\n",
    "Explanation: Length of diagonal is the same for both which is 5, so maximum area = 12.\n",
    "\n",
    " \n",
    "\n",
    "Constraints:\n",
    "\n",
    "    1 <= dimensions.length <= 100\n",
    "    dimensions[i].length == 2\n",
    "    1 <= dimensions[i][0], dimensions[i][1] <= 100\n",
    "\n"
   ]
  },
  {
   "cell_type": "code",
   "execution_count": null,
   "id": "25de7a47-f00e-47fc-8b7d-cead187d4acb",
   "metadata": {},
   "outputs": [],
   "source": [
    "class Solution:\n",
    "    def areaOfMaxDiagonal(self, dimensions: List[List[int]]) -> int:\n",
    "        max_diag = 0\n",
    "        area = 0\n",
    "        for x, y in dimensions:\n",
    "            diag = x * x + y * y\n",
    "            if diag > max_diag:\n",
    "                max_diag = diag\n",
    "                area = x * y\n",
    "            elif diag == max_diag:\n",
    "                area = max(area, x * y)\n",
    "        return area"
   ]
  }
 ],
 "metadata": {
  "kernelspec": {
   "display_name": "Python 3 (ipykernel)",
   "language": "python",
   "name": "python3"
  },
  "language_info": {
   "codemirror_mode": {
    "name": "ipython",
    "version": 3
   },
   "file_extension": ".py",
   "mimetype": "text/x-python",
   "name": "python",
   "nbconvert_exporter": "python",
   "pygments_lexer": "ipython3",
   "version": "3.13.5"
  }
 },
 "nbformat": 4,
 "nbformat_minor": 5
}
