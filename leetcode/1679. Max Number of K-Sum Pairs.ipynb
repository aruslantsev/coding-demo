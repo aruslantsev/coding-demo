{
 "cells": [
  {
   "cell_type": "markdown",
   "id": "1c1fdf1c-8823-4df0-a07e-c28e8d9da7e9",
   "metadata": {},
   "source": [
    "You are given an integer array nums and an integer k.\n",
    "\n",
    "In one operation, you can pick two numbers from the array whose sum equals k and remove them from the array.\n",
    "\n",
    "Return the maximum number of operations you can perform on the array.\n",
    "\n",
    " \n",
    "\n",
    "Example 1:\n",
    "\n",
    "Input: nums = [1,2,3,4], k = 5\n",
    "Output: 2\n",
    "Explanation: Starting with nums = [1,2,3,4]:\n",
    "- Remove numbers 1 and 4, then nums = [2,3]\n",
    "- Remove numbers 2 and 3, then nums = []\n",
    "There are no more pairs that sum up to 5, hence a total of 2 operations.\n",
    "\n",
    "Example 2:\n",
    "\n",
    "Input: nums = [3,1,3,4,3], k = 6\n",
    "Output: 1\n",
    "Explanation: Starting with nums = [3,1,3,4,3]:\n",
    "- Remove the first two 3's, then nums = [1,4,3]\n",
    "There are no more pairs that sum up to 6, hence a total of 1 operation.\n",
    "\n",
    " \n",
    "\n",
    "Constraints:\n",
    "\n",
    "    1 <= nums.length <= 105\n",
    "    1 <= nums[i] <= 109\n",
    "    1 <= k <= 109\n",
    "\n"
   ]
  },
  {
   "cell_type": "code",
   "execution_count": 6,
   "id": "f2ca8904-2029-4a98-9f53-18940de84195",
   "metadata": {},
   "outputs": [],
   "source": [
    "from typing import List\n",
    "\n",
    "class Solution:\n",
    "    def maxOperations(self, nums: List[int], k: int) -> int:\n",
    "        nums = [num for n in nums if n <= k]\n",
    "        ans = 0\n",
    "        while nums:\n",
    "            first = nums.pop()\n",
    "            if k - first in nums:\n",
    "                ans += 1\n",
    "                nums.remove(k - first)\n",
    "        return ans"
   ]
  },
  {
   "cell_type": "code",
   "execution_count": null,
   "id": "70544023-1fde-4320-92b2-1198d8b38448",
   "metadata": {},
   "outputs": [],
   "source": [
    "class Solution:\n",
    "    def maxOperations(self, nums: List[int], k: int) -> int:\n",
    "        nums.sort()\n",
    "        left = 0\n",
    "        right = len(nums) - 1\n",
    "        ans = 0\n",
    "        while left < right:\n",
    "            cur = nums[left] + nums[right]\n",
    "            if cur == k:\n",
    "                ans += 1\n",
    "                left += 1\n",
    "                right -= 1\n",
    "            elif cur < k:\n",
    "                left += 1\n",
    "            else:\n",
    "                right -= 1\n",
    "        "
   ]
  },
  {
   "cell_type": "code",
   "execution_count": 5,
   "id": "71691a66-754c-4cff-9063-34e1fcb43c14",
   "metadata": {},
   "outputs": [
    {
     "data": {
      "text/plain": [
       "2"
      ]
     },
     "execution_count": 5,
     "metadata": {},
     "output_type": "execute_result"
    }
   ],
   "source": [
    "s = Solution()\n",
    "s.maxOperations([1, 2, 3, 4], 5)"
   ]
  },
  {
   "cell_type": "code",
   "execution_count": null,
   "id": "fa0ca8c7-747a-4ed4-a0db-006c83d5784b",
   "metadata": {},
   "outputs": [],
   "source": []
  }
 ],
 "metadata": {
  "kernelspec": {
   "display_name": "Python 3 (ipykernel)",
   "language": "python",
   "name": "python3"
  },
  "language_info": {
   "codemirror_mode": {
    "name": "ipython",
    "version": 3
   },
   "file_extension": ".py",
   "mimetype": "text/x-python",
   "name": "python",
   "nbconvert_exporter": "python",
   "pygments_lexer": "ipython3",
   "version": "3.9.10"
  }
 },
 "nbformat": 4,
 "nbformat_minor": 5
}
