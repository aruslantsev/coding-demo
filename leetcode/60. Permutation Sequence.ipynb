{
 "cells": [
  {
   "cell_type": "markdown",
   "id": "0c60e55d-bd4a-42f9-ad68-1406d2ad0ec7",
   "metadata": {},
   "source": [
    "The set [1, 2, 3, ..., n] contains a total of n! unique permutations.\n",
    "\n",
    "By listing and labeling all of the permutations in order, we get the following sequence for n = 3:\n",
    "\n",
    "    \"123\"\n",
    "    \"132\"\n",
    "    \"213\"\n",
    "    \"231\"\n",
    "    \"312\"\n",
    "    \"321\"\n",
    "\n",
    "Given n and k, return the kth permutation sequence.\n",
    "\n",
    " \n",
    "\n",
    "Example 1:\n",
    "\n",
    "Input: n = 3, k = 3\n",
    "Output: \"213\"\n",
    "\n",
    "Example 2:\n",
    "\n",
    "Input: n = 4, k = 9\n",
    "Output: \"2314\"\n",
    "\n",
    "Example 3:\n",
    "\n",
    "Input: n = 3, k = 1\n",
    "Output: \"123\"\n",
    "\n",
    " \n",
    "\n",
    "Constraints:\n",
    "\n",
    "    1 <= n <= 9\n",
    "    1 <= k <= n!\n",
    "\n"
   ]
  },
  {
   "cell_type": "code",
   "execution_count": 12,
   "id": "f3fdd80b-1881-48c8-8e4a-59bc26517016",
   "metadata": {
    "tags": []
   },
   "outputs": [],
   "source": [
    "class Solution:\n",
    "    def getPermutation(self, n: int, k: int) -> str:\n",
    "        def fact(k):\n",
    "            res = 1\n",
    "            for i in range(1, k + 1):\n",
    "                res *= i\n",
    "            return res\n",
    "            \n",
    "        def get_numbers(n, k, nums):\n",
    "            if not nums:\n",
    "                return []\n",
    "            curr_pos = k // fact(n - 1)\n",
    "            ans = [nums.pop(curr_pos)]\n",
    "            ans += get_numbers(n - 1, k % fact(n - 1), nums)\n",
    "            return ans\n",
    "\n",
    "        ans = [str(num) for num in get_numbers(n, k - 1, list(range(1, n + 1)))]\n",
    "        return \"\".join(ans)"
   ]
  },
  {
   "cell_type": "code",
   "execution_count": 13,
   "id": "447dbd99-913e-4fff-8f46-21552a810c7b",
   "metadata": {
    "tags": []
   },
   "outputs": [
    {
     "data": {
      "text/plain": [
       "'1234'"
      ]
     },
     "execution_count": 13,
     "metadata": {},
     "output_type": "execute_result"
    }
   ],
   "source": [
    "s = Solution()\n",
    "s.getPermutation(4, 1)"
   ]
  },
  {
   "cell_type": "code",
   "execution_count": null,
   "id": "c1d32f63-9e22-4607-9b2e-b1adb4a3ee63",
   "metadata": {},
   "outputs": [],
   "source": []
  }
 ],
 "metadata": {
  "kernelspec": {
   "display_name": "common",
   "language": "python",
   "name": "common"
  },
  "language_info": {
   "codemirror_mode": {
    "name": "ipython",
    "version": 3
   },
   "file_extension": ".py",
   "mimetype": "text/x-python",
   "name": "python",
   "nbconvert_exporter": "python",
   "pygments_lexer": "ipython3",
   "version": "3.11.4"
  }
 },
 "nbformat": 4,
 "nbformat_minor": 5
}
