{
 "cells": [
  {
   "cell_type": "markdown",
   "id": "179dfb5d-839e-42ea-b628-3f3baa91b5aa",
   "metadata": {},
   "source": [
    "581. Shortest Unsorted Continuous Subarray\n",
    "Medium\n",
    "\n",
    "Given an integer array nums, you need to find one continuous subarray that if you only sort this subarray in ascending order, then the whole array will be sorted in ascending order.\n",
    "\n",
    "Return the shortest such subarray and output its length.\n",
    "\n",
    " \n",
    "\n",
    "Example 1:\n",
    "\n",
    "Input: nums = [2,6,4,8,10,9,15]\n",
    "Output: 5\n",
    "Explanation: You need to sort [6, 4, 8, 10, 9] in ascending order to make the whole array sorted in ascending order.\n",
    "\n",
    "Example 2:\n",
    "\n",
    "Input: nums = [1,2,3,4]\n",
    "Output: 0\n",
    "\n",
    "Example 3:\n",
    "\n",
    "Input: nums = [1]\n",
    "Output: 0\n",
    "\n",
    " \n",
    "\n",
    "Constraints:\n",
    "\n",
    "    1 <= nums.length <= 104\n",
    "    -105 <= nums[i] <= 105\n"
   ]
  },
  {
   "cell_type": "code",
   "execution_count": 3,
   "id": "85e96431-0911-4ebb-a6f9-a3d939881f9a",
   "metadata": {},
   "outputs": [],
   "source": [
    "from typing import List\n",
    "\n",
    "class Solution:\n",
    "    def findUnsortedSubarray(self, nums: List[int]) -> int:\n",
    "        s = sorted(nums)\n",
    "        if nums == s:\n",
    "            return 0\n",
    "        \n",
    "        start = 0\n",
    "        end = len(nums)\n",
    "        for i in range(len(nums)):\n",
    "            if s[i] != nums[i]:\n",
    "                start = i\n",
    "                break\n",
    "        for i in range(len(nums))[::-1]:\n",
    "            if s[i] != nums[i]:\n",
    "                end = i\n",
    "                break\n",
    "        return end - start + 1"
   ]
  },
  {
   "cell_type": "code",
   "execution_count": null,
   "id": "09bf2195-bfb7-46e1-bc39-9e104d4e6afa",
   "metadata": {},
   "outputs": [],
   "source": []
  }
 ],
 "metadata": {
  "kernelspec": {
   "display_name": "Python 3 (ipykernel)",
   "language": "python",
   "name": "python3"
  },
  "language_info": {
   "codemirror_mode": {
    "name": "ipython",
    "version": 3
   },
   "file_extension": ".py",
   "mimetype": "text/x-python",
   "name": "python",
   "nbconvert_exporter": "python",
   "pygments_lexer": "ipython3",
   "version": "3.9.10"
  }
 },
 "nbformat": 4,
 "nbformat_minor": 5
}
