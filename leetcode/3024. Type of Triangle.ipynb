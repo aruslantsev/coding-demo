{
 "cells": [
  {
   "cell_type": "markdown",
   "id": "74e3d9ef-5fca-4c7c-aabb-ae1520e2c333",
   "metadata": {},
   "source": [
    "You are given a 0-indexed integer array nums of size 3 which can form the sides of a triangle.\n",
    "\n",
    "    A triangle is called equilateral if it has all sides of equal length.\n",
    "    A triangle is called isosceles if it has exactly two sides of equal length.\n",
    "    A triangle is called scalene if all its sides are of different lengths.\n",
    "\n",
    "Return a string representing the type of triangle that can be formed or \"none\" if it cannot form a triangle.\n",
    "\n",
    " \n",
    "\n",
    "Example 1:\n",
    "\n",
    "Input: nums = [3,3,3]\n",
    "Output: \"equilateral\"\n",
    "Explanation: Since all the sides are of equal length, therefore, it will form an equilateral triangle.\n",
    "\n",
    "Example 2:\n",
    "\n",
    "Input: nums = [3,4,5]\n",
    "Output: \"scalene\"\n",
    "Explanation: \n",
    "nums[0] + nums[1] = 3 + 4 = 7, which is greater than nums[2] = 5.\n",
    "nums[0] + nums[2] = 3 + 5 = 8, which is greater than nums[1] = 4.\n",
    "nums[1] + nums[2] = 4 + 5 = 9, which is greater than nums[0] = 3. \n",
    "Since the sum of the two sides is greater than the third side for all three cases, therefore, it can form a triangle.\n",
    "As all the sides are of different lengths, it will form a scalene triangle.\n",
    "\n",
    " \n",
    "\n",
    "Constraints:\n",
    "\n",
    "    nums.length == 3\n",
    "    1 <= nums[i] <= 100\n",
    "\n"
   ]
  },
  {
   "cell_type": "code",
   "execution_count": null,
   "id": "dbbbd0ed-d437-4517-b00d-9a72462916b1",
   "metadata": {},
   "outputs": [],
   "source": [
    "class Solution:\n",
    "    def triangleType(self, nums: List[int]) -> str:\n",
    "        a, b, c = nums\n",
    "        if a + b <= c or b + c <= a or c + a <= b:\n",
    "            return \"none\"\n",
    "        if a == b == c:\n",
    "            return \"equilateral\"\n",
    "        if a == b or b == c or a == c:\n",
    "            return \"isosceles\"\n",
    "        return \"scalene\""
   ]
  }
 ],
 "metadata": {
  "kernelspec": {
   "display_name": "Python 3 (ipykernel)",
   "language": "python",
   "name": "python3"
  },
  "language_info": {
   "codemirror_mode": {
    "name": "ipython",
    "version": 3
   },
   "file_extension": ".py",
   "mimetype": "text/x-python",
   "name": "python",
   "nbconvert_exporter": "python",
   "pygments_lexer": "ipython3",
   "version": "3.12.9"
  }
 },
 "nbformat": 4,
 "nbformat_minor": 5
}
