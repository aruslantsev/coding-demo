{
 "cells": [
  {
   "attachments": {
    "c7e56795-3df3-40ac-acfa-61381af56d50.png": {
     "image/png": "[encoded data removed]"
    }
   },
   "cell_type": "markdown",
   "id": "098bd5e2-93a7-44c0-b327-e6544838cae4",
   "metadata": {},
   "source": [
    "There are n dominoes in a line, and we place each domino vertically upright. In the beginning, we simultaneously push some of the dominoes either to the left or to the right.\n",
    "\n",
    "After each second, each domino that is falling to the left pushes the adjacent domino on the left. Similarly, the dominoes falling to the right push their adjacent dominoes standing on the right.\n",
    "\n",
    "When a vertical domino has dominoes falling on it from both sides, it stays still due to the balance of the forces.\n",
    "\n",
    "For the purposes of this question, we will consider that a falling domino expends no additional force to a falling or already fallen domino.\n",
    "\n",
    "You are given a string dominoes representing the initial state where:\n",
    "\n",
    "    dominoes[i] = 'L', if the ith domino has been pushed to the left,\n",
    "    dominoes[i] = 'R', if the ith domino has been pushed to the right, and\n",
    "    dominoes[i] = '.', if the ith domino has not been pushed.\n",
    "\n",
    "Return a string representing the final state.\n",
    "\n",
    " \n",
    "\n",
    "Example 1:\n",
    "\n",
    "Input: dominoes = \"RR.L\"\n",
    "Output: \"RR.L\"\n",
    "Explanation: The first domino expends no additional force on the second domino.\n",
    "\n",
    "Example 2:\n",
    "\n",
    "![изображение.png](attachment:c7e56795-3df3-40ac-acfa-61381af56d50.png)\n",
    "\n",
    "Input: dominoes = \".L.R...LR..L..\"\n",
    "Output: \"LL.RR.LLRRLL..\"\n",
    "\n",
    " \n",
    "\n",
    "Constraints:\n",
    "\n",
    "    n == dominoes.length\n",
    "    1 <= n <= 105\n",
    "    dominoes[i] is either 'L', 'R', or '.'.\n",
    "\n"
   ]
  },
  {
   "cell_type": "code",
   "execution_count": 78,
   "id": "59cf34a3-8a8d-49b7-9051-ecb462cb5d1b",
   "metadata": {},
   "outputs": [],
   "source": [
    "class Solution:\n",
    "    def pushDominoes(self, dominoes: str) -> str:\n",
    "        dominoes = list(dominoes)\n",
    "        i = 0\n",
    "        while i < len(dominoes):\n",
    "            if dominoes[i] != '.':\n",
    "                i += 1\n",
    "            else:\n",
    "                l = i - 1\n",
    "                r = i + 1\n",
    "                while r < len(dominoes):\n",
    "                    if dominoes[r] != '.':\n",
    "                        break\n",
    "                    else:\n",
    "                        r += 1\n",
    "                    \n",
    "                if l < 0:\n",
    "                    left = \"L\"\n",
    "                else:\n",
    "                    left = dominoes[l]\n",
    "                if r >= len(dominoes):\n",
    "                    right = \"R\"\n",
    "                else:\n",
    "                    right = dominoes[r]\n",
    "\n",
    "                if left == right:\n",
    "                    dominoes[l + 1:r] = [left] * (r - l - 1)\n",
    "                else:\n",
    "                    if left == \"R\" and right == \"L\":\n",
    "                        k = l + 1\n",
    "                        l = r - 1\n",
    "                        while l - k > 0:\n",
    "                            dominoes[k] = left\n",
    "                            dominoes[l] = right\n",
    "                            k += 1\n",
    "                            l -= 1\n",
    "\n",
    "                i = r\n",
    "            \n",
    "            \n",
    "        return ''.join(dominoes)"
   ]
  },
  {
   "cell_type": "code",
   "execution_count": null,
   "id": "73e8a802-4928-49a9-a60e-847245347a9a",
   "metadata": {},
   "outputs": [],
   "source": [
    "class Solution(object):\n",
    "    def pushDominoes(self, dominoes):\n",
    "        N = len(dominoes)\n",
    "        force = [0] * N\n",
    "\n",
    "        # Populate forces going from left to right\n",
    "        f = 0\n",
    "        for i in xrange(N):\n",
    "            if dominoes[i] == 'R': f = N\n",
    "            elif dominoes[i] == 'L': f = 0\n",
    "            else: f = max(f-1, 0)\n",
    "            force[i] += f\n",
    "\n",
    "        # Populate forces going from right to left\n",
    "        f = 0\n",
    "        for i in xrange(N-1, -1, -1):\n",
    "            if dominoes[i] == 'L': f = N\n",
    "            elif dominoes[i] == 'R': f = 0\n",
    "            else: f = max(f-1, 0)\n",
    "            force[i] -= f\n",
    "\n",
    "        return \"\".join('.' if f==0 else 'R' if f > 0 else 'L'\n",
    "                       for f in force)"
   ]
  },
  {
   "cell_type": "code",
   "execution_count": null,
   "id": "afdf5ee7-d7e0-44c3-a93b-527495634e86",
   "metadata": {},
   "outputs": [],
   "source": [
    "class Solution:\n",
    "    def pushDominoes(self, dominoes: str) -> str:\n",
    "        n = len(dominoes)\n",
    "        l = [-1] * n\n",
    "        r = [-1] * n\n",
    "        ans = [\".\" for _ in range(n)]\n",
    "        curr_l = -1\n",
    "        curr_r = -1\n",
    "        for i in range(n):\n",
    "            if dominoes[i] == \"R\":\n",
    "                curr_r = 0\n",
    "            elif dominoes[i] == \"L\":\n",
    "                curr_r = -1\n",
    "            elif curr_r >= 0:\n",
    "                curr_r += 1\n",
    "            r[i] = curr_r\n",
    "            if dominoes[n - 1 - i] == \"L\":\n",
    "                curr_l = 0\n",
    "            elif dominoes[n - 1 - i] == \"R\":\n",
    "                curr_l = -1\n",
    "            elif curr_l >= 0:\n",
    "                curr_l += 1\n",
    "            l[n - 1 - i] = curr_l\n",
    "        for i in range(n):\n",
    "            if r[i] >= 0 and l[i] >= 0:\n",
    "                if r[i] < l[i]:\n",
    "                    ans[i] = \"R\"\n",
    "                elif r[i] > l[i]:\n",
    "                    ans[i] = \"L\"\n",
    "            else:\n",
    "                if r[i] >= 0:\n",
    "                    ans[i] = \"R\"\n",
    "                elif l[i] >= 0:\n",
    "                    ans[i] = \"L\"\n",
    "        print(r, l, ans)\n",
    "        return \"\".join(ans)\n",
    "        "
   ]
  },
  {
   "cell_type": "code",
   "execution_count": 79,
   "id": "c338c4c0-9872-4ac1-a28b-fd41d0fbdf97",
   "metadata": {},
   "outputs": [
    {
     "data": {
      "text/plain": [
       "'RR.L'"
      ]
     },
     "execution_count": 79,
     "metadata": {},
     "output_type": "execute_result"
    }
   ],
   "source": [
    "s = Solution()\n",
    "s.pushDominoes('RR.L') # 'RR.L'"
   ]
  },
  {
   "cell_type": "code",
   "execution_count": 80,
   "id": "1167df9c-0991-483b-806d-825e900ac2d7",
   "metadata": {},
   "outputs": [
    {
     "data": {
      "text/plain": [
       "'LL.RR.LLRRLL..'"
      ]
     },
     "execution_count": 80,
     "metadata": {},
     "output_type": "execute_result"
    }
   ],
   "source": [
    "s.pushDominoes(\".L.R...LR..L..\") #  \"LL.RR.LLRRLL..\""
   ]
  },
  {
   "cell_type": "code",
   "execution_count": null,
   "id": "161d93b2-29fa-44ce-a613-0b8de30dcb11",
   "metadata": {},
   "outputs": [],
   "source": []
  }
 ],
 "metadata": {
  "kernelspec": {
   "display_name": "Python 3 (ipykernel)",
   "language": "python",
   "name": "python3"
  },
  "language_info": {
   "codemirror_mode": {
    "name": "ipython",
    "version": 3
   },
   "file_extension": ".py",
   "mimetype": "text/x-python",
   "name": "python",
   "nbconvert_exporter": "python",
   "pygments_lexer": "ipython3",
   "version": "3.12.9"
  }
 },
 "nbformat": 4,
 "nbformat_minor": 5
}
