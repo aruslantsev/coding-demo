{
 "cells": [
  {
   "cell_type": "markdown",
   "id": "edc52fb1-19aa-4b22-aee1-60194e43c452",
   "metadata": {},
   "source": [
    "You are given an integer array nums of size n.\n",
    "\n",
    "Consider a non-empty subarray from nums that has the maximum possible bitwise AND.\n",
    "\n",
    "    In other words, let k be the maximum value of the bitwise AND of any subarray of nums. Then, only subarrays with a bitwise AND equal to k should be considered.\n",
    "\n",
    "Return the length of the longest such subarray.\n",
    "\n",
    "The bitwise AND of an array is the bitwise AND of all the numbers in it.\n",
    "\n",
    "A subarray is a contiguous sequence of elements within an array.\n",
    "\n",
    " \n",
    "\n",
    "Example 1:\n",
    "\n",
    "Input: nums = [1,2,3,3,2,2]\n",
    "Output: 2\n",
    "Explanation:\n",
    "The maximum possible bitwise AND of a subarray is 3.\n",
    "The longest subarray with that value is [3,3], so we return 2.\n",
    "\n",
    "Example 2:\n",
    "\n",
    "Input: nums = [1,2,3,4]\n",
    "Output: 1\n",
    "Explanation:\n",
    "The maximum possible bitwise AND of a subarray is 4.\n",
    "The longest subarray with that value is [4], so we return 1.\n",
    "\n",
    " \n",
    "\n",
    "Constraints:\n",
    "\n",
    "    1 <= nums.length <= 105\n",
    "    1 <= nums[i] <= 106\n",
    "\n"
   ]
  },
  {
   "cell_type": "code",
   "execution_count": null,
   "id": "e7c73765-9637-4b9e-ae7f-75720fb9ac0e",
   "metadata": {},
   "outputs": [],
   "source": [
    "class Solution:\n",
    "    def longestSubarray(self, nums: List[int]) -> int:\n",
    "        max_val = ans = current_streak = 0\n",
    "        for num in nums:\n",
    "            if max_val < num:\n",
    "                max_val = num\n",
    "                ans = current_streak = 0\n",
    "\n",
    "            if max_val == num:\n",
    "                current_streak += 1\n",
    "            else:\n",
    "                current_streak = 0\n",
    "\n",
    "            ans = max(ans, current_streak)\n",
    "        return ans"
   ]
  }
 ],
 "metadata": {
  "kernelspec": {
   "display_name": "Python 3 (ipykernel)",
   "language": "python",
   "name": "python3"
  },
  "language_info": {
   "codemirror_mode": {
    "name": "ipython",
    "version": 3
   },
   "file_extension": ".py",
   "mimetype": "text/x-python",
   "name": "python",
   "nbconvert_exporter": "python",
   "pygments_lexer": "ipython3",
   "version": "3.12.4"
  }
 },
 "nbformat": 4,
 "nbformat_minor": 5
}
