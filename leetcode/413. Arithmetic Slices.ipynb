{
 "cells": [
  {
   "cell_type": "markdown",
   "id": "5a695a33",
   "metadata": {},
   "source": [
    "An integer array is called arithmetic if it consists of at least three elements and if the difference between any two consecutive elements is the same.\n",
    "\n",
    "    For example, [1,3,5,7,9], [7,7,7,7], and [3,-1,-5,-9] are arithmetic sequences.\n",
    "\n",
    "Given an integer array nums, return the number of arithmetic subarrays of nums.\n",
    "\n",
    "A subarray is a contiguous subsequence of the array.\n",
    "\n",
    " \n",
    "\n",
    "Example 1:\n",
    "\n",
    "Input: nums = [1,2,3,4]\n",
    "Output: 3\n",
    "Explanation: We have 3 arithmetic slices in nums: [1, 2, 3], [2, 3, 4] and [1,2,3,4] itself.\n",
    "\n",
    "Example 2:\n",
    "\n",
    "Input: nums = [1]\n",
    "Output: 0\n",
    "\n",
    " \n",
    "\n",
    "Constraints:\n",
    "\n",
    "    1 <= nums.length <= 5000\n",
    "    -1000 <= nums[i] <= 1000\n",
    "\n"
   ]
  },
  {
   "cell_type": "code",
   "execution_count": 62,
   "id": "d94e74ce",
   "metadata": {},
   "outputs": [],
   "source": [
    "from functools import cache\n",
    "from typing import List\n",
    "\n",
    "class Solution:\n",
    "    def numberOfArithmeticSlices(self, nums: List[int]) -> int:\n",
    "        if len(nums) < 3:\n",
    "            return 0\n",
    "        \n",
    "        lens = []\n",
    "        cur_len = 2\n",
    "        prev_diff = None\n",
    "        for i in range(1, len(nums)):\n",
    "            diff = nums[i] - nums[i - 1]\n",
    "            if (prev_diff is not None) and (diff == prev_diff):\n",
    "                cur_len += 1\n",
    "            else:\n",
    "                if cur_len >= 3:\n",
    "                    lens.append(cur_len)\n",
    "                cur_len = 2\n",
    "                # if prev_diff is not None:\n",
    "                #     diff = None\n",
    "            prev_diff = diff\n",
    "        if cur_len >= 3:\n",
    "            lens.append(cur_len)\n",
    "            \n",
    "        # count_of_subarrays = 1 + (len - 3) + count_of_subarrays(len-1).\n",
    "        @cache\n",
    "        def count(n):\n",
    "            if n < 3: return 0\n",
    "            return n - 2 + count(n - 1)\n",
    "        \n",
    "        ans = 0\n",
    "        for l in lens:\n",
    "            ans += count(l)\n",
    "            \n",
    "        return ans"
   ]
  },
  {
   "cell_type": "code",
   "execution_count": 63,
   "id": "243bd441",
   "metadata": {},
   "outputs": [
    {
     "data": {
      "text/plain": [
       "6"
      ]
     },
     "execution_count": 63,
     "metadata": {},
     "output_type": "execute_result"
    }
   ],
   "source": [
    "s = Solution()\n",
    "s.numberOfArithmeticSlices([1, 3, 5, 7, 9])"
   ]
  },
  {
   "cell_type": "code",
   "execution_count": 64,
   "id": "1f706246",
   "metadata": {},
   "outputs": [
    {
     "data": {
      "text/plain": [
       "3"
      ]
     },
     "execution_count": 64,
     "metadata": {},
     "output_type": "execute_result"
    }
   ],
   "source": [
    "s.numberOfArithmeticSlices([7, 7, 7, 7])"
   ]
  },
  {
   "cell_type": "code",
   "execution_count": 65,
   "id": "3a8bb1e3",
   "metadata": {},
   "outputs": [
    {
     "data": {
      "text/plain": [
       "9"
      ]
     },
     "execution_count": 65,
     "metadata": {},
     "output_type": "execute_result"
    }
   ],
   "source": [
    "s.numberOfArithmeticSlices([0, 1, 1, 3, 5, 7, 9, 9, 9, 9])"
   ]
  },
  {
   "cell_type": "code",
   "execution_count": 66,
   "id": "64a9400a",
   "metadata": {},
   "outputs": [
    {
     "data": {
      "text/plain": [
       "3"
      ]
     },
     "execution_count": 66,
     "metadata": {},
     "output_type": "execute_result"
    }
   ],
   "source": [
    "s.numberOfArithmeticSlices([1, 2, 3, 4])"
   ]
  },
  {
   "cell_type": "code",
   "execution_count": null,
   "id": "2610e11f",
   "metadata": {},
   "outputs": [],
   "source": []
  }
 ],
 "metadata": {
  "kernelspec": {
   "display_name": "Python 3 (ipykernel)",
   "language": "python",
   "name": "python3"
  },
  "language_info": {
   "codemirror_mode": {
    "name": "ipython",
    "version": 3
   },
   "file_extension": ".py",
   "mimetype": "text/x-python",
   "name": "python",
   "nbconvert_exporter": "python",
   "pygments_lexer": "ipython3",
   "version": "3.9.10"
  }
 },
 "nbformat": 4,
 "nbformat_minor": 5
}
