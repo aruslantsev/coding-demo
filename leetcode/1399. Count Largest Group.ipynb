{
 "cells": [
  {
   "cell_type": "markdown",
   "id": "647250c1-3723-4103-b411-3d2193d4c320",
   "metadata": {},
   "source": [
    "You are given an integer n.\n",
    "\n",
    "We need to group the numbers from 1 to n according to the sum of its digits. For example, the numbers 14 and 5 belong to the same group, whereas 13 and 3 belong to different groups.\n",
    "\n",
    "Return the number of groups that have the largest size, i.e. the maximum number of elements.\n",
    "\n",
    " \n",
    "\n",
    "Example 1:\n",
    "\n",
    "Input: n = 13\n",
    "Output: 4\n",
    "Explanation: There are 9 groups in total, they are grouped according sum of its digits of numbers from 1 to 13:\n",
    "[1,10], [2,11], [3,12], [4,13], [5], [6], [7], [8], [9].\n",
    "There are 4 groups with largest size.\n",
    "\n",
    "Example 2:\n",
    "\n",
    "Input: n = 2\n",
    "Output: 2\n",
    "Explanation: There are 2 groups [1], [2] of size 1.\n",
    "\n",
    " \n",
    "\n",
    "Constraints:\n",
    "\n",
    "    1 <= n <= 104\n",
    "\n"
   ]
  },
  {
   "cell_type": "code",
   "execution_count": null,
   "id": "18e8f3c1-ffed-443c-ac9b-18e0ff518048",
   "metadata": {},
   "outputs": [],
   "source": [
    "def countsum(num):\n",
    "    ans = 0\n",
    "    while num > 0:\n",
    "        ans += num % 10\n",
    "        num //= 10\n",
    "    return ans\n",
    "\n",
    "\n",
    "class Solution:\n",
    "    def countLargestGroup(self, n: int) -> int:\n",
    "        groups = defaultdict(int)\n",
    "        for i in range(1, n + 1):\n",
    "            groups[countsum(i)] += 1\n",
    "        max_grp = max(groups.values())\n",
    "        return len([k for k, v in groups.items() if v == max_grp])"
   ]
  },
  {
   "cell_type": "code",
   "execution_count": null,
   "id": "4296f13e-f623-479f-8dd4-6ed883b85bfd",
   "metadata": {},
   "outputs": [],
   "source": [
    "class Solution:\n",
    "    def countLargestGroup(self, n: int) -> int:\n",
    "        hashMap = collections.Counter()\n",
    "        for i in range(1, n + 1):\n",
    "            key = sum([int(x) for x in str(i)])\n",
    "            hashMap[key] += 1\n",
    "        maxValue = max(hashMap.values())\n",
    "        count = sum(1 for v in hashMap.values() if v == maxValue)\n",
    "        return count"
   ]
  }
 ],
 "metadata": {
  "kernelspec": {
   "display_name": "Python 3 (ipykernel)",
   "language": "python",
   "name": "python3"
  },
  "language_info": {
   "codemirror_mode": {
    "name": "ipython",
    "version": 3
   },
   "file_extension": ".py",
   "mimetype": "text/x-python",
   "name": "python",
   "nbconvert_exporter": "python",
   "pygments_lexer": "ipython3",
   "version": "3.12.9"
  }
 },
 "nbformat": 4,
 "nbformat_minor": 5
}
