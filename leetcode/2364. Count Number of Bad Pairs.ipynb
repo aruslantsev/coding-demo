{
 "cells": [
  {
   "cell_type": "markdown",
   "id": "52f1f8d7-0069-4a51-b53c-07cb2c09778b",
   "metadata": {},
   "source": [
    "You are given a 0-indexed integer array nums. A pair of indices (i, j) is a bad pair if i < j and j - i != nums[j] - nums[i].\n",
    "\n",
    "Return the total number of bad pairs in nums.\n",
    "\n",
    " \n",
    "\n",
    "Example 1:\n",
    "\n",
    "Input: nums = [4,1,3,3]\n",
    "Output: 5\n",
    "Explanation: The pair (0, 1) is a bad pair since 1 - 0 != 1 - 4.\n",
    "The pair (0, 2) is a bad pair since 2 - 0 != 3 - 4, 2 != -1.\n",
    "The pair (0, 3) is a bad pair since 3 - 0 != 3 - 4, 3 != -1.\n",
    "The pair (1, 2) is a bad pair since 2 - 1 != 3 - 1, 1 != 2.\n",
    "The pair (2, 3) is a bad pair since 3 - 2 != 3 - 3, 1 != 0.\n",
    "There are a total of 5 bad pairs, so we return 5.\n",
    "\n",
    "Example 2:\n",
    "\n",
    "Input: nums = [1,2,3,4,5]\n",
    "Output: 0\n",
    "Explanation: There are no bad pairs.\n",
    "\n",
    " \n",
    "\n",
    "Constraints:\n",
    "\n",
    "    1 <= nums.length <= 105\n",
    "    1 <= nums[i] <= 109\n",
    "\n"
   ]
  },
  {
   "cell_type": "code",
   "execution_count": null,
   "id": "f690a20b-4288-4ed5-9c14-33e10fef6af2",
   "metadata": {},
   "outputs": [],
   "source": [
    "class Solution:\n",
    "    def countBadPairs(self, nums: List[int]) -> int:\n",
    "        cnt = defaultdict(int)\n",
    "        for i, num in enumerate(nums):\n",
    "            cnt[num - i] += 1\n",
    "        total_pairs = len(nums) * (len(nums) - 1) // 2\n",
    "        for v in cnt.values():\n",
    "            if v >= 2:\n",
    "                total_pairs -= v * (v - 1) // 2\n",
    "        return total_pairs\n",
    "        "
   ]
  }
 ],
 "metadata": {
  "kernelspec": {
   "display_name": "common",
   "language": "python",
   "name": "common"
  },
  "language_info": {
   "codemirror_mode": {
    "name": "ipython",
    "version": 3
   },
   "file_extension": ".py",
   "mimetype": "text/x-python",
   "name": "python",
   "nbconvert_exporter": "python",
   "pygments_lexer": "ipython3",
   "version": "3.12.4"
  }
 },
 "nbformat": 4,
 "nbformat_minor": 5
}
