{
 "cells": [
  {
   "cell_type": "markdown",
   "id": "b72765e5-4b64-4667-9613-d0342ff0923a",
   "metadata": {},
   "source": [
    "Given an integer array nums and an integer k, return the number of non-empty subarrays that have a sum divisible by k.\n",
    "\n",
    "A subarray is a contiguous part of an array.\n",
    "\n",
    " \n",
    "\n",
    "Example 1:\n",
    "\n",
    "Input: nums = [4,5,0,-2,-3,1], k = 5\n",
    "Output: 7\n",
    "Explanation: There are 7 subarrays with a sum divisible by k = 5:\n",
    "[4, 5, 0, -2, -3, 1], [5], [5, 0], [5, 0, -2, -3], [0], [0, -2, -3], [-2, -3]\n",
    "\n",
    "Example 2:\n",
    "\n",
    "Input: nums = [5], k = 9\n",
    "Output: 0\n",
    "\n",
    " \n",
    "\n",
    "Constraints:\n",
    "\n",
    "    1 <= nums.length <= 3 * 104\n",
    "    -104 <= nums[i] <= 104\n",
    "    2 <= k <= 104\n",
    "\n"
   ]
  },
  {
   "cell_type": "code",
   "execution_count": null,
   "id": "0f5e0239-63ad-4a59-aee5-d0a2325f9020",
   "metadata": {},
   "outputs": [],
   "source": [
    "class Solution:\n",
    "    def subarraysDivByK(self, nums: List[int], k: int) -> int:\n",
    "        r = 0\n",
    "        ans = 0\n",
    "        cnt = [0 for _ in range(k)]\n",
    "        cnt[0] = 1\n",
    "        for num in nums:\n",
    "            r = (r + num % k + k) % k\n",
    "            ans += cnt[r]\n",
    "            cnt[r] += 1\n",
    "            \n",
    "        return ans"
   ]
  },
  {
   "cell_type": "code",
   "execution_count": null,
   "id": "21438145-7f1c-490c-a1c5-d573fbd1b818",
   "metadata": {},
   "outputs": [],
   "source": [
    "class Solution:\n",
    "    def subarraysDivByK(self, nums: List[int], k: int) -> int:\n",
    "        r = 0\n",
    "        ans = 0\n",
    "        cnt = [0 for _ in range(k)]\n",
    "        cnt[0] = 1\n",
    "        for num in nums:\n",
    "            r = (r + num) % k\n",
    "            ans += cnt[r]\n",
    "            cnt[r] += 1\n",
    "            \n",
    "        return ans"
   ]
  }
 ],
 "metadata": {
  "kernelspec": {
   "display_name": "Python 3 (ipykernel)",
   "language": "python",
   "name": "python3"
  },
  "language_info": {
   "codemirror_mode": {
    "name": "ipython",
    "version": 3
   },
   "file_extension": ".py",
   "mimetype": "text/x-python",
   "name": "python",
   "nbconvert_exporter": "python",
   "pygments_lexer": "ipython3",
   "version": "3.12.3"
  }
 },
 "nbformat": 4,
 "nbformat_minor": 5
}
