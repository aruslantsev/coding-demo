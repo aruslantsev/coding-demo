{
 "cells": [
  {
   "cell_type": "markdown",
   "id": "d4bee5d1-9f54-4e96-bd2b-b0178605075d",
   "metadata": {},
   "source": [
    "You are given an array nums of positive integers and a positive integer k.\n",
    "\n",
    "A subset of nums is beautiful if it does not contain two integers with an absolute difference equal to k.\n",
    "\n",
    "Return the number of non-empty beautiful subsets of the array nums.\n",
    "\n",
    "A subset of nums is an array that can be obtained by deleting some (possibly none) elements from nums. Two subsets are different if and only if the chosen indices to delete are different.\n",
    "\n",
    " \n",
    "\n",
    "Example 1:\n",
    "\n",
    "Input: nums = [2,4,6], k = 2\n",
    "Output: 4\n",
    "Explanation: The beautiful subsets of the array nums are: [2], [4], [6], [2, 6].\n",
    "It can be proved that there are only 4 beautiful subsets in the array [2,4,6].\n",
    "\n",
    "Example 2:\n",
    "\n",
    "Input: nums = [1], k = 1\n",
    "Output: 1\n",
    "Explanation: The beautiful subset of the array nums is [1].\n",
    "It can be proved that there is only 1 beautiful subset in the array [1].\n",
    "\n",
    " \n",
    "\n",
    "Constraints:\n",
    "\n",
    "    1 <= nums.length <= 20\n",
    "    1 <= nums[i], k <= 1000\n",
    "\n"
   ]
  },
  {
   "cell_type": "code",
   "execution_count": null,
   "id": "cd893b56-ddec-40b9-b084-72d872b16d54",
   "metadata": {},
   "outputs": [],
   "source": [
    "class Solution:\n",
    "    def beautifulSubsets(self, nums: List[int], k: int) -> int:\n",
    "        self.ans = 0\n",
    "        nums.sort()\n",
    "\n",
    "        def rec(i, arr):\n",
    "            self.ans += 1\n",
    "            for j in range(i + 1, len(nums)):\n",
    "                if nums[j] - k not in arr:\n",
    "                    arr.append(nums[j])\n",
    "                    rec(j, arr)\n",
    "                    arr.pop()\n",
    "        \n",
    "        for i in range(len(nums)):\n",
    "            rec(i, [nums[i]])\n",
    "        \n",
    "        return self.ans"
   ]
  }
 ],
 "metadata": {
  "kernelspec": {
   "display_name": "Python 3 (ipykernel)",
   "language": "python",
   "name": "python3"
  },
  "language_info": {
   "codemirror_mode": {
    "name": "ipython",
    "version": 3
   },
   "file_extension": ".py",
   "mimetype": "text/x-python",
   "name": "python",
   "nbconvert_exporter": "python",
   "pygments_lexer": "ipython3",
   "version": "3.12.3"
  }
 },
 "nbformat": 4,
 "nbformat_minor": 5
}
