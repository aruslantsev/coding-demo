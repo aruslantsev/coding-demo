{
 "cells": [
  {
   "cell_type": "markdown",
   "id": "21f02da5-9e38-40bb-83d8-fb999e5fb4c9",
   "metadata": {},
   "source": [
    "You are given a positive integer days representing the total number of days an employee is available for work (starting from day 1). You are also given a 2D array meetings of size n where, meetings[i] = [start_i, end_i] represents the starting and ending days of meeting i (inclusive).\n",
    "\n",
    "Return the count of days when the employee is available for work but no meetings are scheduled.\n",
    "\n",
    "Note: The meetings may overlap.\n",
    "\n",
    " \n",
    "\n",
    "Example 1:\n",
    "\n",
    "Input: days = 10, meetings = [[5,7],[1,3],[9,10]]\n",
    "\n",
    "Output: 2\n",
    "\n",
    "Explanation:\n",
    "\n",
    "There is no meeting scheduled on the 4th and 8th days.\n",
    "\n",
    "Example 2:\n",
    "\n",
    "Input: days = 5, meetings = [[2,4],[1,3]]\n",
    "\n",
    "Output: 1\n",
    "\n",
    "Explanation:\n",
    "\n",
    "There is no meeting scheduled on the 5th day.\n",
    "\n",
    "Example 3:\n",
    "\n",
    "Input: days = 6, meetings = [[1,6]]\n",
    "\n",
    "Output: 0\n",
    "\n",
    "Explanation:\n",
    "\n",
    "Meetings are scheduled for all working days.\n",
    "\n",
    " \n",
    "\n",
    "Constraints:\n",
    "\n",
    "    1 <= days <= 109\n",
    "    1 <= meetings.length <= 105\n",
    "    meetings[i].length == 2\n",
    "    1 <= meetings[i][0] <= meetings[i][1] <= days\n",
    "\n"
   ]
  },
  {
   "cell_type": "code",
   "execution_count": null,
   "id": "d79cbeff-ee9c-4111-97cc-6398d9bfb12a",
   "metadata": {},
   "outputs": [],
   "source": [
    "class Solution:\n",
    "    def countDays(self, days: int, meetings: List[List[int]]) -> int:\n",
    "        meetings.sort()\n",
    "        meeting_start = -1\n",
    "        meeting_end = -2\n",
    "        for start, end in meetings:\n",
    "            if meeting_start <= start <= meeting_end:\n",
    "                meeting_end = max(meeting_end, end)\n",
    "            else:\n",
    "                days -= meeting_end - meeting_start + 1\n",
    "                meeting_start = start\n",
    "                meeting_end = end\n",
    "        days -= meeting_end - meeting_start + 1\n",
    "        return days"
   ]
  }
 ],
 "metadata": {
  "kernelspec": {
   "display_name": "common",
   "language": "python",
   "name": "common"
  },
  "language_info": {
   "codemirror_mode": {
    "name": "ipython",
    "version": 3
   },
   "file_extension": ".py",
   "mimetype": "text/x-python",
   "name": "python",
   "nbconvert_exporter": "python",
   "pygments_lexer": "ipython3",
   "version": "3.12.9"
  }
 },
 "nbformat": 4,
 "nbformat_minor": 5
}
