{
 "cells": [
  {
   "cell_type": "markdown",
   "id": "7cf26534-6277-4677-83bd-f4bf694f2f65",
   "metadata": {},
   "source": [
    "Given an integer n, count the total number of digit 1 appearing in all non-negative integers less than or equal to n.\n",
    "\n",
    " \n",
    "\n",
    "Example 1:\n",
    "\n",
    "Input: n = 13\n",
    "Output: 6\n",
    "\n",
    "Example 2:\n",
    "\n",
    "Input: n = 0\n",
    "Output: 0\n",
    "\n",
    " \n",
    "\n",
    "Constraints:\n",
    "\n",
    "    0 <= n <= 109\n",
    "\n"
   ]
  },
  {
   "cell_type": "code",
   "execution_count": null,
   "id": "1768ebb8-0d92-4deb-bb9b-15f1ce7ba7f4",
   "metadata": {},
   "outputs": [],
   "source": [
    "class Solution:\n",
    "    def countDigitOne(self, n: int) -> int:\n",
    "        return sum(str(x).count('1') for x in range(n + 1))"
   ]
  },
  {
   "cell_type": "code",
   "execution_count": 4,
   "id": "21cbdd39-81d3-4a47-b12f-4ad3947f9e95",
   "metadata": {},
   "outputs": [],
   "source": [
    "class Solution:\n",
    "    def countDigitOne(self, n: int) -> int:\n",
    "        s = str(n)\n",
    "        ret = 0\n",
    "        \n",
    "        for i in range(len(s)):\n",
    "            x, y = int(s[:i] if s[:i] else '0'), int(s[i+1:] if s[i+1:] else '0')\n",
    "            k = 10 ** (len(s) - 1 - i)\n",
    "            if s[i] == '0':\n",
    "                ret += x * k\n",
    "            elif s[i] == '1':\n",
    "                ret += x * k + y + 1\n",
    "            else:\n",
    "                ret += (x + 1) * k\n",
    "        return ret"
   ]
  },
  {
   "cell_type": "code",
   "execution_count": 5,
   "id": "c44f2ea9-2f8b-4737-923c-fec19829eefe",
   "metadata": {},
   "outputs": [],
   "source": [
    "from collections import Counter\n",
    "\n",
    "def bruteforce(n):\n",
    "    ones = 0\n",
    "    for i in range(n + 1):\n",
    "        c = Counter(str(i))\n",
    "        if '1' in c:\n",
    "            ones += c['1']\n",
    "\n",
    "    return ones"
   ]
  },
  {
   "cell_type": "code",
   "execution_count": 6,
   "id": "6b64c99f-10de-4573-84dd-e84fadafdc14",
   "metadata": {},
   "outputs": [
    {
     "data": {
      "text/plain": [
       "(19914, 19914)"
      ]
     },
     "execution_count": 6,
     "metadata": {},
     "output_type": "execute_result"
    }
   ],
   "source": [
    "s = Solution()\n",
    "s.countDigitOne(23033), bruteforce(23033)"
   ]
  },
  {
   "cell_type": "code",
   "execution_count": 7,
   "id": "bfd70f39-bc0d-4612-9a4e-ea3ca6a5438e",
   "metadata": {},
   "outputs": [
    {
     "data": {
      "text/plain": [
       "50001"
      ]
     },
     "execution_count": 7,
     "metadata": {},
     "output_type": "execute_result"
    }
   ],
   "source": [
    "s.countDigitOne(100000)"
   ]
  },
  {
   "cell_type": "code",
   "execution_count": 8,
   "id": "a063a384-0b72-435a-b0c8-311deafcf3ee",
   "metadata": {},
   "outputs": [
    {
     "data": {
      "text/plain": [
       "300"
      ]
     },
     "execution_count": 8,
     "metadata": {},
     "output_type": "execute_result"
    }
   ],
   "source": [
    "s.countDigitOne(999)"
   ]
  },
  {
   "cell_type": "code",
   "execution_count": null,
   "id": "7149d697-0d0c-4167-89a1-1ba1430daa28",
   "metadata": {},
   "outputs": [],
   "source": []
  }
 ],
 "metadata": {
  "kernelspec": {
   "display_name": "Python 3 (ipykernel)",
   "language": "python",
   "name": "python3"
  },
  "language_info": {
   "codemirror_mode": {
    "name": "ipython",
    "version": 3
   },
   "file_extension": ".py",
   "mimetype": "text/x-python",
   "name": "python",
   "nbconvert_exporter": "python",
   "pygments_lexer": "ipython3",
   "version": "3.9.10"
  }
 },
 "nbformat": 4,
 "nbformat_minor": 5
}
