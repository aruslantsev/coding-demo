{
 "cells": [
  {
   "cell_type": "markdown",
   "id": "70f8fe19-9f25-44cb-a296-6ba6a440a30f",
   "metadata": {},
   "source": [
    "You are given an integer array target and an integer n.\n",
    "\n",
    "You have an empty stack with the two following operations:\n",
    "\n",
    "    \"Push\": pushes an integer to the top of the stack.\n",
    "    \"Pop\": removes the integer on the top of the stack.\n",
    "\n",
    "You also have a stream of the integers in the range [1, n].\n",
    "\n",
    "Use the two stack operations to make the numbers in the stack (from the bottom to the top) equal to target. You should follow the following rules:\n",
    "\n",
    "    If the stream of the integers is not empty, pick the next integer from the stream and push it to the top of the stack.\n",
    "    If the stack is not empty, pop the integer at the top of the stack.\n",
    "    If, at any moment, the elements in the stack (from the bottom to the top) are equal to target, do not read new integers from the stream and do not do more operations on the stack.\n",
    "\n",
    "Return the stack operations needed to build target following the mentioned rules. If there are multiple valid answers, return any of them.\n",
    "\n",
    " \n",
    "\n",
    "Example 1:\n",
    "\n",
    "Input: target = [1,3], n = 3\n",
    "Output: [\"Push\",\"Push\",\"Pop\",\"Push\"]\n",
    "Explanation: Initially the stack s is empty. The last element is the top of the stack.\n",
    "Read 1 from the stream and push it to the stack. s = [1].\n",
    "Read 2 from the stream and push it to the stack. s = [1,2].\n",
    "Pop the integer on the top of the stack. s = [1].\n",
    "Read 3 from the stream and push it to the stack. s = [1,3].\n",
    "\n",
    "Example 2:\n",
    "\n",
    "Input: target = [1,2,3], n = 3\n",
    "Output: [\"Push\",\"Push\",\"Push\"]\n",
    "Explanation: Initially the stack s is empty. The last element is the top of the stack.\n",
    "Read 1 from the stream and push it to the stack. s = [1].\n",
    "Read 2 from the stream and push it to the stack. s = [1,2].\n",
    "Read 3 from the stream and push it to the stack. s = [1,2,3].\n",
    "\n",
    "Example 3:\n",
    "\n",
    "Input: target = [1,2], n = 4\n",
    "Output: [\"Push\",\"Push\"]\n",
    "Explanation: Initially the stack s is empty. The last element is the top of the stack.\n",
    "Read 1 from the stream and push it to the stack. s = [1].\n",
    "Read 2 from the stream and push it to the stack. s = [1,2].\n",
    "Since the stack (from the bottom to the top) is equal to target, we stop the stack operations.\n",
    "The answers that read integer 3 from the stream are not accepted.\n",
    "\n",
    " \n",
    "\n",
    "Constraints:\n",
    "\n",
    "    1 <= target.length <= 100\n",
    "    1 <= n <= 100\n",
    "    1 <= target[i] <= n\n",
    "    target is strictly increasing.\n",
    "\n"
   ]
  },
  {
   "cell_type": "code",
   "execution_count": null,
   "id": "5e321d03-fd65-467a-bead-c17764fa8b3c",
   "metadata": {},
   "outputs": [],
   "source": [
    "class Solution:\n",
    "    def buildArray(self, target: List[int], n: int) -> List[str]:\n",
    "        ans = []\n",
    "        nums = set(target)\n",
    "        k = min(max(nums), n)\n",
    "        for i in range(1, k + 1):\n",
    "            ans.append(\"Push\")\n",
    "            if i not in nums:\n",
    "                ans.append(\"Pop\")\n",
    "        return ans"
   ]
  }
 ],
 "metadata": {
  "kernelspec": {
   "display_name": "Python 3 (ipykernel)",
   "language": "python",
   "name": "python3"
  },
  "language_info": {
   "codemirror_mode": {
    "name": "ipython",
    "version": 3
   },
   "file_extension": ".py",
   "mimetype": "text/x-python",
   "name": "python",
   "nbconvert_exporter": "python",
   "pygments_lexer": "ipython3",
   "version": "3.11.4"
  }
 },
 "nbformat": 4,
 "nbformat_minor": 5
}
