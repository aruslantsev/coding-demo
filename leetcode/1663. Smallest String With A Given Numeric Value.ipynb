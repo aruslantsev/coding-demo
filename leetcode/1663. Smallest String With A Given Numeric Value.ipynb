{
 "cells": [
  {
   "cell_type": "markdown",
   "id": "df44a15c",
   "metadata": {},
   "source": [
    "The numeric value of a lowercase character is defined as its position (1-indexed) in the alphabet, so the numeric value of a is 1, the numeric value of b is 2, the numeric value of c is 3, and so on.\n",
    "\n",
    "The numeric value of a string consisting of lowercase characters is defined as the sum of its characters' numeric values. For example, the numeric value of the string \"abe\" is equal to 1 + 2 + 5 = 8.\n",
    "\n",
    "You are given two integers n and k. Return the lexicographically smallest string with length equal to n and numeric value equal to k.\n",
    "\n",
    "Note that a string x is lexicographically smaller than string y if x comes before y in dictionary order, that is, either x is a prefix of y, or if i is the first position such that x[i] != y[i], then x[i] comes before y[i] in alphabetic order.\n",
    "\n",
    " \n",
    "\n",
    "Example 1:\n",
    "\n",
    "Input: n = 3, k = 27\n",
    "Output: \"aay\"\n",
    "Explanation: The numeric value of the string is 1 + 1 + 25 = 27, and it is the smallest string with such a value and length equal to 3.\n",
    "\n",
    "Example 2:\n",
    "\n",
    "Input: n = 5, k = 73\n",
    "Output: \"aaszz\"\n",
    "\n",
    " \n",
    "\n",
    "Constraints:\n",
    "\n",
    "    1 <= n <= 105\n",
    "    n <= k <= 26 * n\n",
    "\n"
   ]
  },
  {
   "cell_type": "code",
   "execution_count": 9,
   "id": "623c3ab1",
   "metadata": {},
   "outputs": [],
   "source": [
    "class Solution:\n",
    "    def getSmallestString(self, n: int, k: int) -> str:\n",
    "        ans = []\n",
    "        # make map\n",
    "        charmap = [chr(i) for i in range(ord('a'), ord('z') + 1)]\n",
    "        for i in range(n)[::-1]:\n",
    "            remainder = k - i\n",
    "            if remainder > len(charmap):\n",
    "                remainder = len(charmap)\n",
    "            ans.append(charmap[remainder - 1])\n",
    "            k = k - remainder\n",
    "        ans = ''.join(ans[::-1])\n",
    "        return ans"
   ]
  },
  {
   "cell_type": "code",
   "execution_count": 10,
   "id": "24c59217",
   "metadata": {},
   "outputs": [
    {
     "data": {
      "text/plain": [
       "'aay'"
      ]
     },
     "execution_count": 10,
     "metadata": {},
     "output_type": "execute_result"
    }
   ],
   "source": [
    "s = Solution()\n",
    "s.getSmallestString(3, 27)"
   ]
  },
  {
   "cell_type": "code",
   "execution_count": 11,
   "id": "cd930be4",
   "metadata": {},
   "outputs": [
    {
     "data": {
      "text/plain": [
       "'aaszz'"
      ]
     },
     "execution_count": 11,
     "metadata": {},
     "output_type": "execute_result"
    }
   ],
   "source": [
    "s.getSmallestString(5, 73)"
   ]
  },
  {
   "cell_type": "code",
   "execution_count": null,
   "id": "f2ee814f",
   "metadata": {},
   "outputs": [],
   "source": []
  }
 ],
 "metadata": {
  "kernelspec": {
   "display_name": "Python 3 (ipykernel)",
   "language": "python",
   "name": "python3"
  },
  "language_info": {
   "codemirror_mode": {
    "name": "ipython",
    "version": 3
   },
   "file_extension": ".py",
   "mimetype": "text/x-python",
   "name": "python",
   "nbconvert_exporter": "python",
   "pygments_lexer": "ipython3",
   "version": "3.9.10"
  }
 },
 "nbformat": 4,
 "nbformat_minor": 5
}
