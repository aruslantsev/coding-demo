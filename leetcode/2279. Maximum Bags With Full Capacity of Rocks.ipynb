{
 "cells": [
  {
   "cell_type": "markdown",
   "id": "9c874aa3-b669-4939-b40b-c8c16187eab4",
   "metadata": {},
   "source": [
    "You have n bags numbered from 0 to n - 1. You are given two 0-indexed integer arrays capacity and rocks. The ith bag can hold a maximum of capacity[i] rocks and currently contains rocks[i] rocks. You are also given an integer additionalRocks, the number of additional rocks you can place in any of the bags.\n",
    "\n",
    "Return the maximum number of bags that could have full capacity after placing the additional rocks in some bags.\n",
    "\n",
    " \n",
    "\n",
    "Example 1:\n",
    "\n",
    "Input: capacity = [2,3,4,5], rocks = [1,2,4,4], additionalRocks = 2\n",
    "Output: 3\n",
    "Explanation:\n",
    "Place 1 rock in bag 0 and 1 rock in bag 1.\n",
    "The number of rocks in each bag are now [2,3,4,4].\n",
    "Bags 0, 1, and 2 have full capacity.\n",
    "There are 3 bags at full capacity, so we return 3.\n",
    "It can be shown that it is not possible to have more than 3 bags at full capacity.\n",
    "Note that there may be other ways of placing the rocks that result in an answer of 3.\n",
    "\n",
    "Example 2:\n",
    "\n",
    "Input: capacity = [10,2,2], rocks = [2,2,0], additionalRocks = 100\n",
    "Output: 3\n",
    "Explanation:\n",
    "Place 8 rocks in bag 0 and 2 rocks in bag 2.\n",
    "The number of rocks in each bag are now [10,2,2].\n",
    "Bags 0, 1, and 2 have full capacity.\n",
    "There are 3 bags at full capacity, so we return 3.\n",
    "It can be shown that it is not possible to have more than 3 bags at full capacity.\n",
    "Note that we did not use all of the additional rocks.\n",
    "\n",
    " \n",
    "\n",
    "Constraints:\n",
    "\n",
    "    n == capacity.length == rocks.length\n",
    "    1 <= n <= 5 * 104\n",
    "    1 <= capacity[i] <= 109\n",
    "    0 <= rocks[i] <= capacity[i]\n",
    "    1 <= additionalRocks <= 109\n",
    "\n"
   ]
  },
  {
   "cell_type": "code",
   "execution_count": null,
   "id": "410847a5-582e-40b5-a0b6-d4d2cb4c5ab7",
   "metadata": {},
   "outputs": [],
   "source": [
    "class Solution:\n",
    "    def maximumBags(self, capacity: List[int], rocks: List[int], additionalRocks: int) -> int:\n",
    "        ans = 0\n",
    "        remaining = sorted([c - r for c, r in zip(capacity, rocks)])\n",
    "        for r in remaining:\n",
    "            if r == 0:\n",
    "                ans += 1\n",
    "            else:\n",
    "                if additionalRocks >= r:\n",
    "                    ans += 1\n",
    "                    additionalRocks -= r\n",
    "                else:\n",
    "                    break\n",
    "        return ans"
   ]
  }
 ],
 "metadata": {
  "kernelspec": {
   "display_name": "Python 3 (ipykernel)",
   "language": "python",
   "name": "python3"
  },
  "language_info": {
   "codemirror_mode": {
    "name": "ipython",
    "version": 3
   },
   "file_extension": ".py",
   "mimetype": "text/x-python",
   "name": "python",
   "nbconvert_exporter": "python",
   "pygments_lexer": "ipython3",
   "version": "3.9.13"
  }
 },
 "nbformat": 4,
 "nbformat_minor": 5
}
