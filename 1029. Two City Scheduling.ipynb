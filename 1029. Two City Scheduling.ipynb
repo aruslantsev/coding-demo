{
 "cells": [
  {
   "cell_type": "markdown",
   "id": "8655695e",
   "metadata": {},
   "source": [
    "A company is planning to interview 2n people. Given the array costs where costs[i] = [aCosti, bCosti], the cost of flying the ith person to city a is aCosti, and the cost of flying the ith person to city b is bCosti.\n",
    "\n",
    "Return the minimum cost to fly every person to a city such that exactly n people arrive in each city.\n",
    "\n",
    " \n",
    "\n",
    "Example 1:\n",
    "\n",
    "Input: costs = [[10,20],[30,200],[400,50],[30,20]]\n",
    "Output: 110\n",
    "Explanation: \n",
    "The first person goes to city A for a cost of 10.\n",
    "The second person goes to city A for a cost of 30.\n",
    "The third person goes to city B for a cost of 50.\n",
    "The fourth person goes to city B for a cost of 20.\n",
    "\n",
    "The total minimum cost is 10 + 30 + 50 + 20 = 110 to have half the people interviewing in each city.\n",
    "\n",
    "Example 2:\n",
    "\n",
    "Input: costs = [[259,770],[448,54],[926,667],[184,139],[840,118],[577,469]]\n",
    "Output: 1859\n",
    "\n",
    "Example 3:\n",
    "\n",
    "Input: costs = [[515,563],[451,713],[537,709],[343,819],[855,779],[457,60],[650,359],[631,42]]\n",
    "Output: 3086\n"
   ]
  },
  {
   "cell_type": "code",
   "execution_count": 35,
   "id": "daa3e6bf",
   "metadata": {},
   "outputs": [],
   "source": [
    "from typing import List\n",
    "\n",
    "class Solution:\n",
    "    def twoCitySchedCost(self, costs: List[List[int]]) -> int:\n",
    "        # wrong\n",
    "        costs = sorted(costs, key=lambda x: (x[0], -x[1]))\n",
    "        total = 0\n",
    "        i = 0\n",
    "        j = len(costs) - 1\n",
    "        while j - i >= 1:\n",
    "            total += costs[i][0] + costs[j][1]\n",
    "            i += 1\n",
    "            j -= 1\n",
    "        return total"
   ]
  },
  {
   "cell_type": "code",
   "execution_count": 36,
   "id": "1fea3877",
   "metadata": {},
   "outputs": [],
   "source": [
    "from typing import List\n",
    "\n",
    "class Solution:\n",
    "    def twoCitySchedCost(self, costs: List[List[int]]) -> int:\n",
    "        a = list(range(len(costs)))\n",
    "        a = sorted(a, key=lambda x: costs[x])\n",
    "        \n",
    "        b = list(range(len(costs)))\n",
    "        b = sorted(b, key=lambda x: (costs[x][1], costs[x][0]))\n",
    "        \n",
    "        total = 0\n",
    "        while a and b:\n",
    "            total += costs[a[0]][0]\n",
    "            b.pop(b.index(a[0]))\n",
    "            a.pop(0)\n",
    "            total += costs[b[0]][1]\n",
    "            a.pop(a.index(b[0]))\n",
    "            b.pop(0)\n",
    "        return total"
   ]
  },
  {
   "cell_type": "code",
   "execution_count": 45,
   "id": "bc29890e",
   "metadata": {},
   "outputs": [],
   "source": [
    "from typing import List\n",
    "\n",
    "class Solution:\n",
    "    def twoCitySchedCost(self, costs: List[List[int]]) -> int:\n",
    "        costs = sorted(costs, key=lambda x: x[0] - x[1])\n",
    "        \n",
    "        i = 0\n",
    "        j = len(costs) - 1\n",
    "        total = 0\n",
    "        while j - i >= 1:\n",
    "            total += costs[i][0] + costs[j][1]\n",
    "            i += 1\n",
    "            j -= 1\n",
    "        return total"
   ]
  },
  {
   "cell_type": "code",
   "execution_count": 46,
   "id": "929540de",
   "metadata": {},
   "outputs": [
    {
     "data": {
      "text/plain": [
       "110"
      ]
     },
     "execution_count": 46,
     "metadata": {},
     "output_type": "execute_result"
    }
   ],
   "source": [
    "s = Solution()\n",
    "s.twoCitySchedCost([[10,20],[30,200],[400,50],[30,20]])"
   ]
  },
  {
   "cell_type": "code",
   "execution_count": 47,
   "id": "559b596d",
   "metadata": {},
   "outputs": [
    {
     "data": {
      "text/plain": [
       "1859"
      ]
     },
     "execution_count": 47,
     "metadata": {},
     "output_type": "execute_result"
    }
   ],
   "source": [
    "s.twoCitySchedCost([[259,770],[448,54],[926,667],[184,139],[840,118],[577,469]])\n",
    "# 1859"
   ]
  },
  {
   "cell_type": "code",
   "execution_count": 48,
   "id": "06d5439c",
   "metadata": {},
   "outputs": [
    {
     "data": {
      "text/plain": [
       "3086"
      ]
     },
     "execution_count": 48,
     "metadata": {},
     "output_type": "execute_result"
    }
   ],
   "source": [
    "s.twoCitySchedCost([[515,563],[451,713],[537,709],[343,819],[855,779],[457,60],[650,359],[631,42]])\n",
    "# 3086"
   ]
  },
  {
   "cell_type": "code",
   "execution_count": 49,
   "id": "a74f6627",
   "metadata": {},
   "outputs": [
    {
     "data": {
      "text/plain": [
       "4723"
      ]
     },
     "execution_count": 49,
     "metadata": {},
     "output_type": "execute_result"
    }
   ],
   "source": [
    "s.twoCitySchedCost([[70,311],[74,927],[732,711],[126,583],[857,118],[97,928],[975,843],[175,221],[284,929],[816,602],[689,863],[721,888]])\n",
    "# 4723"
   ]
  },
  {
   "cell_type": "code",
   "execution_count": null,
   "id": "5a122d10",
   "metadata": {},
   "outputs": [],
   "source": []
  }
 ],
 "metadata": {
  "kernelspec": {
   "display_name": "Python 3 (ipykernel)",
   "language": "python",
   "name": "python3"
  },
  "language_info": {
   "codemirror_mode": {
    "name": "ipython",
    "version": 3
   },
   "file_extension": ".py",
   "mimetype": "text/x-python",
   "name": "python",
   "nbconvert_exporter": "python",
   "pygments_lexer": "ipython3",
   "version": "3.9.10"
  }
 },
 "nbformat": 4,
 "nbformat_minor": 5
}
