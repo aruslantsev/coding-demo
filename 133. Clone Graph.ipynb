{
 "cells": [
  {
   "cell_type": "markdown",
   "id": "2cd5b696",
   "metadata": {},
   "source": [
    "Given a reference of a node in a connected undirected graph.\n",
    "\n",
    "Return a deep copy (clone) of the graph.\n",
    "\n",
    "Each node in the graph contains a value (int) and a list (List[Node]) of its neighbors.\n",
    "\n",
    "class Node {\n",
    "    public int val;\n",
    "    public List<Node> neighbors;\n",
    "}\n",
    "\n",
    " \n",
    "\n",
    "Test case format:\n",
    "\n",
    "For simplicity, each node's value is the same as the node's index (1-indexed). For example, the first node with val == 1, the second node with val == 2, and so on. The graph is represented in the test case using an adjacency list.\n",
    "\n",
    "An adjacency list is a collection of unordered lists used to represent a finite graph. Each list describes the set of neighbors of a node in the graph.\n",
    "\n",
    "The given node will always be the first node with val = 1. You must return the copy of the given node as a reference to the cloned graph.\n",
    "\n",
    " \n",
    "\n",
    "Example 1:\n",
    "\n",
    "Input: adjList = [[2,4],[1,3],[2,4],[1,3]]\n",
    "Output: [[2,4],[1,3],[2,4],[1,3]]\n",
    "Explanation: There are 4 nodes in the graph.\n",
    "1st node (val = 1)'s neighbors are 2nd node (val = 2) and 4th node (val = 4).\n",
    "2nd node (val = 2)'s neighbors are 1st node (val = 1) and 3rd node (val = 3).\n",
    "3rd node (val = 3)'s neighbors are 2nd node (val = 2) and 4th node (val = 4).\n",
    "4th node (val = 4)'s neighbors are 1st node (val = 1) and 3rd node (val = 3).\n",
    "\n",
    "Example 2:\n",
    "\n",
    "Input: adjList = [[]]\n",
    "Output: [[]]\n",
    "Explanation: Note that the input contains one empty list. The graph consists of only one node with val = 1 and it does not have any neighbors.\n",
    "\n",
    "Example 3:\n",
    "\n",
    "Input: adjList = []\n",
    "Output: []\n",
    "Explanation: This an empty graph, it does not have any nodes.\n",
    "\n",
    " \n",
    "\n",
    "Constraints:\n",
    "\n",
    "    The number of nodes in the graph is in the range [0, 100].\n",
    "    1 <= Node.val <= 100\n",
    "    Node.val is unique for each node.\n",
    "    There are no repeated edges and no self-loops in the graph.\n",
    "    The Graph is connected and all nodes can be visited starting from the given node.\n",
    "\n"
   ]
  },
  {
   "cell_type": "code",
   "execution_count": 5,
   "id": "e4c814d5",
   "metadata": {},
   "outputs": [],
   "source": [
    "from collections import deque\n",
    "\n",
    "# Definition for a Node.\n",
    "class Node:\n",
    "    def __init__(self, val = 0, neighbors = None):\n",
    "        self.val = val\n",
    "        self.neighbors = neighbors if neighbors is not None else []\n",
    "\n",
    "\n",
    "class Solution:\n",
    "    def cloneGraph(self, node: 'Node') -> 'Node':\n",
    "        if not node: return node\n",
    "        \n",
    "        q, clones = deque([node]), {node.val: Node(node.val, [])}\n",
    "        while q:\n",
    "            cur = q.popleft() \n",
    "            cur_clone = clones[cur.val]            \n",
    "\n",
    "            for ngbr in cur.neighbors:\n",
    "                if ngbr.val not in clones:\n",
    "                    clones[ngbr.val] = Node(ngbr.val, [])\n",
    "                    q.append(ngbr)\n",
    "                    \n",
    "                cur_clone.neighbors.append(clones[ngbr.val])\n",
    "                \n",
    "        return clones[node.val]"
   ]
  },
  {
   "cell_type": "code",
   "execution_count": 6,
   "id": "ead3052e",
   "metadata": {},
   "outputs": [
    {
     "data": {
      "text/plain": [
       "<__main__.Node at 0xfffe2a2c05b0>"
      ]
     },
     "execution_count": 6,
     "metadata": {},
     "output_type": "execute_result"
    }
   ],
   "source": [
    "s = Solution()\n",
    "s.cloneGraph(Node())"
   ]
  },
  {
   "cell_type": "code",
   "execution_count": null,
   "id": "7a17e14a",
   "metadata": {},
   "outputs": [],
   "source": []
  }
 ],
 "metadata": {
  "kernelspec": {
   "display_name": "Python 3 (ipykernel)",
   "language": "python",
   "name": "python3"
  },
  "language_info": {
   "codemirror_mode": {
    "name": "ipython",
    "version": 3
   },
   "file_extension": ".py",
   "mimetype": "text/x-python",
   "name": "python",
   "nbconvert_exporter": "python",
   "pygments_lexer": "ipython3",
   "version": "3.9.5"
  }
 },
 "nbformat": 4,
 "nbformat_minor": 5
}
