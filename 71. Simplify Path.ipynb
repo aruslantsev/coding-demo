{
 "cells": [
  {
   "cell_type": "markdown",
   "id": "f4fd1618",
   "metadata": {},
   "source": [
    "Given a string path, which is an absolute path (starting with a slash '/') to a file or directory in a Unix-style file system, convert it to the simplified canonical path.\n",
    "\n",
    "In a Unix-style file system, a period '.' refers to the current directory, a double period '..' refers to the directory up a level, and any multiple consecutive slashes (i.e. '//') are treated as a single slash '/'. For this problem, any other format of periods such as '...' are treated as file/directory names.\n",
    "\n",
    "The canonical path should have the following format:\n",
    "\n",
    "    The path starts with a single slash '/'.\n",
    "    Any two directories are separated by a single slash '/'.\n",
    "    The path does not end with a trailing '/'.\n",
    "    The path only contains the directories on the path from the root directory to the target file or directory (i.e., no period '.' or double period '..')\n",
    "\n",
    "Return the simplified canonical path.\n",
    "\n",
    " \n",
    "\n",
    "Example 1:\n",
    "\n",
    "Input: path = \"/home/\"\n",
    "Output: \"/home\"\n",
    "Explanation: Note that there is no trailing slash after the last directory name.\n",
    "\n",
    "Example 2:\n",
    "\n",
    "Input: path = \"/../\"\n",
    "Output: \"/\"\n",
    "Explanation: Going one level up from the root directory is a no-op, as the root level is the highest level you can go.\n",
    "\n",
    "Example 3:\n",
    "\n",
    "Input: path = \"/home//foo/\"\n",
    "Output: \"/home/foo\"\n",
    "Explanation: In the canonical path, multiple consecutive slashes are replaced by a single one.\n",
    "\n",
    " "
   ]
  },
  {
   "cell_type": "code",
   "execution_count": null,
   "id": "1c115cdb",
   "metadata": {},
   "outputs": [],
   "source": [
    "import os\n",
    "\n",
    "class Solution:\n",
    "    def simplifyPath(self, path: str) -> str:\n",
    "        return os.path.normpath(path)"
   ]
  },
  {
   "cell_type": "code",
   "execution_count": 42,
   "id": "11a8e9d9",
   "metadata": {},
   "outputs": [],
   "source": [
    "import re\n",
    "\n",
    "class Solution:\n",
    "    def simplifyPath(self, path: str) -> str:\n",
    "        path = re.sub('/+', '/', path)\n",
    "        path = path[:-1] if path[-1] == '/' else path\n",
    "        path = path.split('/')\n",
    "        path_clear = []\n",
    "        for c in path:\n",
    "            if (c != '.') and (c!= '..'):\n",
    "                path_clear.append(c)\n",
    "            if c == '..':\n",
    "                if len(path_clear) > 0:\n",
    "                    path_clear.pop()\n",
    "                else:\n",
    "                    raise ValueError\n",
    "        if len(path_clear) == 0:\n",
    "            return '/'\n",
    "        return '/'.join(path_clear)"
   ]
  },
  {
   "cell_type": "code",
   "execution_count": 43,
   "id": "fa0f4710",
   "metadata": {},
   "outputs": [
    {
     "data": {
      "text/plain": [
       "'/home'"
      ]
     },
     "execution_count": 43,
     "metadata": {},
     "output_type": "execute_result"
    }
   ],
   "source": [
    "s = Solution()\n",
    "s.simplifyPath('/home/')"
   ]
  },
  {
   "cell_type": "code",
   "execution_count": 44,
   "id": "a777c13a",
   "metadata": {},
   "outputs": [
    {
     "data": {
      "text/plain": [
       "'/'"
      ]
     },
     "execution_count": 44,
     "metadata": {},
     "output_type": "execute_result"
    }
   ],
   "source": [
    "s.simplifyPath('/../')"
   ]
  },
  {
   "cell_type": "code",
   "execution_count": 45,
   "id": "8a5c6729",
   "metadata": {},
   "outputs": [
    {
     "data": {
      "text/plain": [
       "'/home/foo'"
      ]
     },
     "execution_count": 45,
     "metadata": {},
     "output_type": "execute_result"
    }
   ],
   "source": [
    "s.simplifyPath('/home//foo/')"
   ]
  },
  {
   "cell_type": "code",
   "execution_count": null,
   "id": "ef2b77cf",
   "metadata": {},
   "outputs": [],
   "source": []
  }
 ],
 "metadata": {
  "kernelspec": {
   "display_name": "Python 3 (ipykernel)",
   "language": "python",
   "name": "python3"
  },
  "language_info": {
   "codemirror_mode": {
    "name": "ipython",
    "version": 3
   },
   "file_extension": ".py",
   "mimetype": "text/x-python",
   "name": "python",
   "nbconvert_exporter": "python",
   "pygments_lexer": "ipython3",
   "version": "3.9.10"
  }
 },
 "nbformat": 4,
 "nbformat_minor": 5
}
