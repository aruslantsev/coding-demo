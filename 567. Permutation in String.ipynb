{
 "cells": [
  {
   "cell_type": "markdown",
   "id": "fd33296f",
   "metadata": {},
   "source": [
    "Given two strings s1 and s2, return true if s2 contains a permutation of s1, or false otherwise.\n",
    "\n",
    "In other words, return true if one of s1's permutations is the substring of s2.\n",
    "\n",
    " \n",
    "\n",
    "Example 1:\n",
    "\n",
    "Input: s1 = \"ab\", s2 = \"eidbaooo\"\n",
    "Output: true\n",
    "Explanation: s2 contains one permutation of s1 (\"ba\").\n",
    "Example 2:\n",
    "\n",
    "Input: s1 = \"ab\", s2 = \"eidboaoo\"\n",
    "Output: false\n",
    " \n",
    "\n",
    "Constraints:\n",
    "\n",
    "1 <= s1.length, s2.length <= 104\n",
    "s1 and s2 consist of lowercase English letters.\n",
    "Accepted\n",
    "307,410\n",
    "Submissions\n"
   ]
  },
  {
   "cell_type": "code",
   "execution_count": 60,
   "id": "9dbac1e0",
   "metadata": {},
   "outputs": [],
   "source": [
    "class Solution:\n",
    "    def checkInclusion(self, s1: str, s2: str) -> bool:\n",
    "        if len(s2) < len(s1):\n",
    "            return False\n",
    "        \n",
    "        s1_counter = {}\n",
    "        for l in s1 + s2:\n",
    "            s1_counter[l] = 0\n",
    "            \n",
    "        s2_counter = s1_counter.copy()\n",
    "        \n",
    "        for i in range(len(s1)):\n",
    "            s1_counter[s1[i]] += 1\n",
    "            s2_counter[s2[i]] += 1\n",
    "\n",
    "        if s1_counter == s2_counter:\n",
    "            return True\n",
    "\n",
    "        for i in range(len(s2) - len(s1)):\n",
    "            s2_counter[s2[i]] -= 1\n",
    "            s2_counter[s2[i + len(s1)]] += 1\n",
    "            if s1_counter == s2_counter:\n",
    "                return True\n",
    "            \n",
    "        return False\n"
   ]
  },
  {
   "cell_type": "code",
   "execution_count": 61,
   "id": "95583d29",
   "metadata": {},
   "outputs": [
    {
     "data": {
      "text/plain": [
       "True"
      ]
     },
     "execution_count": 61,
     "metadata": {},
     "output_type": "execute_result"
    }
   ],
   "source": [
    "s = Solution()\n",
    "s.checkInclusion('abc', 'abcad')"
   ]
  },
  {
   "cell_type": "code",
   "execution_count": 62,
   "id": "118883c1",
   "metadata": {},
   "outputs": [
    {
     "data": {
      "text/plain": [
       "True"
      ]
     },
     "execution_count": 62,
     "metadata": {},
     "output_type": "execute_result"
    }
   ],
   "source": [
    "s.checkInclusion(\"ab\", \"eidbaooo\")"
   ]
  },
  {
   "cell_type": "code",
   "execution_count": 63,
   "id": "a95923c0",
   "metadata": {},
   "outputs": [
    {
     "data": {
      "text/plain": [
       "False"
      ]
     },
     "execution_count": 63,
     "metadata": {},
     "output_type": "execute_result"
    }
   ],
   "source": [
    "s.checkInclusion(\"ab\", \"eidboaoo\")"
   ]
  },
  {
   "cell_type": "code",
   "execution_count": null,
   "id": "e67398e9",
   "metadata": {},
   "outputs": [],
   "source": []
  }
 ],
 "metadata": {
  "kernelspec": {
   "display_name": "Python 3 (ipykernel)",
   "language": "python",
   "name": "python3"
  },
  "language_info": {
   "codemirror_mode": {
    "name": "ipython",
    "version": 3
   },
   "file_extension": ".py",
   "mimetype": "text/x-python",
   "name": "python",
   "nbconvert_exporter": "python",
   "pygments_lexer": "ipython3",
   "version": "3.9.5"
  }
 },
 "nbformat": 4,
 "nbformat_minor": 5
}
