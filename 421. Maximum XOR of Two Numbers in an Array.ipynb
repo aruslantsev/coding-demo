{
 "cells": [
  {
   "cell_type": "markdown",
   "id": "b2104d07-0863-4e5c-9407-9f6b266c1a64",
   "metadata": {},
   "source": [
    "Given an integer array nums, return the maximum result of nums[i] XOR nums[j], where 0 <= i <= j < n.\n",
    "\n",
    " \n",
    "\n",
    "Example 1:\n",
    "\n",
    "Input: nums = [3,10,5,25,2,8]\n",
    "Output: 28\n",
    "Explanation: The maximum result is 5 XOR 25 = 28.\n",
    "\n",
    "Example 2:\n",
    "\n",
    "Input: nums = [14,70,53,83,49,91,36,80,92,51,66,70]\n",
    "Output: 127\n",
    "\n",
    " \n",
    "\n",
    "Constraints:\n",
    "\n",
    "    1 <= nums.length <= 2 * 105\n",
    "    0 <= nums[i] <= 231 - 1\n",
    "\n"
   ]
  },
  {
   "cell_type": "code",
   "execution_count": 1,
   "id": "b905663e-f936-4948-a4d8-8c1823b61cf6",
   "metadata": {},
   "outputs": [],
   "source": [
    "from typing import List\n",
    "\n",
    "\n",
    "def binarize(i):\n",
    "    return bin(i).split('b')[1].zfill(32)\n",
    "\n",
    "\n",
    "class Trie:\n",
    "    def __init__(self):\n",
    "        self.one = None\n",
    "        self.zero = None\n",
    "        self.n = None\n",
    "        self.idx = None\n",
    "        \n",
    "    def search(self, i):\n",
    "        if len(i) > 1:\n",
    "            if i[0] == '0':\n",
    "                if self.one is not None:\n",
    "                    return self.one.search(i[1:])\n",
    "                else:\n",
    "                    return self.zero.search(i[1:])\n",
    "            else:\n",
    "                if self.zero is not None:\n",
    "                    return self.zero.search(i[1:])\n",
    "                else:\n",
    "                    return self.one.search(i[1:])\n",
    "        else:\n",
    "            return self.n, self.idx\n",
    "    \n",
    "    def add(self, b, n, idx):\n",
    "        if len(b) > 1:\n",
    "            if b[0] == '0':\n",
    "                if self.zero is None:\n",
    "                    self.zero = Trie()\n",
    "                self.zero.add(b[1:], n, idx)\n",
    "            else:\n",
    "                if self.one is None:\n",
    "                    self.one = Trie()\n",
    "                self.one.add(b[1:], n, idx)\n",
    "        else:\n",
    "            self.n = n\n",
    "            self.idx = idx\n",
    "\n",
    "class Solution:\n",
    "    def findMaximumXOR(self, nums: List[int]) -> int:\n",
    "        if len(nums) == 0:\n",
    "            return 0\n",
    "        result = 0\n",
    "        t = Trie()\n",
    "        for idx, n in enumerate(nums):\n",
    "            t.add(binarize(n), n, idx)\n",
    "            \n",
    "        for j, n in enumerate(nums):\n",
    "            n1, i = t.search(binarize(n))\n",
    "            xor = n ^ n1\n",
    "            if xor > result:\n",
    "                result = xor\n",
    "                    \n",
    "        return result"
   ]
  },
  {
   "cell_type": "code",
   "execution_count": 2,
   "id": "08e0d48f-9369-4aa5-9afa-767b3eab49ee",
   "metadata": {},
   "outputs": [
    {
     "data": {
      "text/plain": [
       "28"
      ]
     },
     "execution_count": 2,
     "metadata": {},
     "output_type": "execute_result"
    }
   ],
   "source": [
    "s = Solution()\n",
    "s.findMaximumXOR([3,10,5,25,2,8])"
   ]
  },
  {
   "cell_type": "code",
   "execution_count": null,
   "id": "bf1407ec-785c-4036-8c44-4d8babe81a1d",
   "metadata": {},
   "outputs": [],
   "source": []
  }
 ],
 "metadata": {
  "kernelspec": {
   "display_name": "Python 3 (ipykernel)",
   "language": "python",
   "name": "python3"
  },
  "language_info": {
   "codemirror_mode": {
    "name": "ipython",
    "version": 3
   },
   "file_extension": ".py",
   "mimetype": "text/x-python",
   "name": "python",
   "nbconvert_exporter": "python",
   "pygments_lexer": "ipython3",
   "version": "3.9.5"
  }
 },
 "nbformat": 4,
 "nbformat_minor": 5
}
