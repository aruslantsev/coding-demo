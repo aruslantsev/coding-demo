{
 "cells": [
  {
   "cell_type": "markdown",
   "id": "7d93d0b0",
   "metadata": {},
   "source": [
    "Given an array of distinct integers candidates and a target integer target, return a list of all unique combinations of candidates where the chosen numbers sum to target. You may return the combinations in any order.\n",
    "\n",
    "The same number may be chosen from candidates an unlimited number of times. Two combinations are unique if the frequency of at least one of the chosen numbers is different.\n",
    "\n",
    "It is guaranteed that the number of unique combinations that sum up to target is less than 150 combinations for the given input.\n",
    "\n",
    " \n",
    "\n",
    "Example 1:\n",
    "\n",
    "Input: candidates = [2,3,6,7], target = 7\n",
    "Output: [[2,2,3],[7]]\n",
    "Explanation:\n",
    "2 and 3 are candidates, and 2 + 2 + 3 = 7. Note that 2 can be used multiple times.\n",
    "7 is a candidate, and 7 = 7.\n",
    "These are the only two combinations.\n",
    "\n",
    "Example 2:\n",
    "\n",
    "Input: candidates = [2,3,5], target = 8\n",
    "Output: [[2,2,2,2],[2,3,3],[3,5]]\n",
    "\n",
    "Example 3:\n",
    "\n",
    "Input: candidates = [2], target = 1\n",
    "Output: []\n"
   ]
  },
  {
   "cell_type": "code",
   "execution_count": 33,
   "id": "0abd498e",
   "metadata": {},
   "outputs": [],
   "source": [
    "from typing import List\n",
    "\n",
    "class Solution:\n",
    "    def combinationSum(self, candidates: List[int], target: int) -> List[List[int]]:\n",
    "        candidates = set(cand for cand in candidates if cand <= target)\n",
    "        combinations = set()\n",
    "        \n",
    "        def search(combinations, target, combination, curr_sum):\n",
    "            for cand in candidates:\n",
    "                if curr_sum + cand == target:\n",
    "                    curr_comb = combination.copy()\n",
    "                    curr_comb.append(cand)\n",
    "                    curr_comb = tuple(sorted(curr_comb))\n",
    "                    combinations.add(curr_comb)\n",
    "                elif curr_sum + cand < target:\n",
    "                    curr_comb = combination.copy()\n",
    "                    curr_comb.append(cand)\n",
    "                    search(combinations, target, curr_comb, curr_sum + cand)\n",
    "                    \n",
    "        search(combinations, target, list(), 0)\n",
    "        return [list(c) for c in combinations]"
   ]
  },
  {
   "cell_type": "code",
   "execution_count": 34,
   "id": "685e31ea",
   "metadata": {},
   "outputs": [
    {
     "data": {
      "text/plain": [
       "[[2, 2, 3], [7]]"
      ]
     },
     "execution_count": 34,
     "metadata": {},
     "output_type": "execute_result"
    }
   ],
   "source": [
    "s = Solution()\n",
    "s.combinationSum([2, 3, 6, 7], 7)"
   ]
  },
  {
   "cell_type": "code",
   "execution_count": 35,
   "id": "a8515aed",
   "metadata": {},
   "outputs": [
    {
     "data": {
      "text/plain": [
       "[[2, 2, 2, 2], [2, 3, 3], [3, 5]]"
      ]
     },
     "execution_count": 35,
     "metadata": {},
     "output_type": "execute_result"
    }
   ],
   "source": [
    "s = Solution()\n",
    "s.combinationSum([2, 3, 5], 8)"
   ]
  },
  {
   "cell_type": "code",
   "execution_count": 36,
   "id": "1d966544",
   "metadata": {},
   "outputs": [
    {
     "data": {
      "text/plain": [
       "[]"
      ]
     },
     "execution_count": 36,
     "metadata": {},
     "output_type": "execute_result"
    }
   ],
   "source": [
    "s.combinationSum([2], 1)"
   ]
  },
  {
   "cell_type": "code",
   "execution_count": null,
   "id": "af5e7fb6",
   "metadata": {},
   "outputs": [],
   "source": []
  }
 ],
 "metadata": {
  "kernelspec": {
   "display_name": "Python 3 (ipykernel)",
   "language": "python",
   "name": "python3"
  },
  "language_info": {
   "codemirror_mode": {
    "name": "ipython",
    "version": 3
   },
   "file_extension": ".py",
   "mimetype": "text/x-python",
   "name": "python",
   "nbconvert_exporter": "python",
   "pygments_lexer": "ipython3",
   "version": "3.9.10"
  }
 },
 "nbformat": 4,
 "nbformat_minor": 5
}
