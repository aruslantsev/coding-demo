{
 "cells": [
  {
   "cell_type": "markdown",
   "id": "45e872bc-bf65-4e24-a5a7-b245d26f57bd",
   "metadata": {},
   "source": [
    "You are given an array of k linked-lists lists, each linked-list is sorted in ascending order.\n",
    "\n",
    "Merge all the linked-lists into one sorted linked-list and return it.\n",
    "\n",
    " \n",
    "\n",
    "Example 1:\n",
    "\n",
    "Input: lists = [[1,4,5],[1,3,4],[2,6]]\n",
    "Output: [1,1,2,3,4,4,5,6]\n",
    "Explanation: The linked-lists are:\n",
    "[\n",
    "  1->4->5,\n",
    "  1->3->4,\n",
    "  2->6\n",
    "]\n",
    "merging them into one sorted list:\n",
    "1->1->2->3->4->4->5->6\n",
    "\n",
    "Example 2:\n",
    "\n",
    "Input: lists = []\n",
    "Output: []\n",
    "\n",
    "Example 3:\n",
    "\n",
    "Input: lists = [[]]\n",
    "Output: []\n",
    "\n",
    " \n",
    "\n",
    "Constraints:\n",
    "\n",
    "    k == lists.length\n",
    "    0 <= k <= 10^4\n",
    "    0 <= lists[i].length <= 500\n",
    "    -10^4 <= lists[i][j] <= 10^4\n",
    "    lists[i] is sorted in ascending order.\n",
    "    The sum of lists[i].length won't exceed 10^4.\n",
    "\n"
   ]
  },
  {
   "cell_type": "code",
   "execution_count": 7,
   "id": "bf0cce10-31ea-4b15-8d6c-fdbde619fe74",
   "metadata": {},
   "outputs": [],
   "source": [
    "from typing import List, Optional\n",
    "\n",
    "# Definition for singly-linked list.\n",
    "class ListNode:\n",
    "    def __init__(self, val=0, next=None):\n",
    "        self.val = val\n",
    "        self.next = next\n",
    "    \n",
    "class Solution:\n",
    "    def mergeKLists(self, lists: List[Optional[ListNode]]) -> Optional[ListNode]:\n",
    "        lists = [fromListNode(l) for l in lists]\n",
    "        result = []\n",
    "        while any(lists):\n",
    "            min_val = min(l[0] for l in lists if l)\n",
    "            for l in lists:\n",
    "                if l and (l[0] == min_val):\n",
    "                    result.append(l[0])\n",
    "                    l.pop(0)\n",
    "                    break\n",
    "                    \n",
    "        return toListNode(result)\n",
    "    \n",
    "def toListNode(l):\n",
    "    node = None\n",
    "    for n in l[::-1]:\n",
    "        node = ListNode(val=n, next=node)\n",
    "    return node\n",
    "\n",
    "def fromListNode(node):\n",
    "    arr = []\n",
    "    while node:\n",
    "        arr.append(node.val)\n",
    "        node = node.next\n",
    "    return arr"
   ]
  },
  {
   "cell_type": "code",
   "execution_count": 6,
   "id": "dc36b174-b5d1-4ed4-a675-93a9218442a9",
   "metadata": {},
   "outputs": [
    {
     "data": {
      "text/plain": [
       "[1, 1, 2, 3, 4, 4, 5, 6]"
      ]
     },
     "execution_count": 6,
     "metadata": {},
     "output_type": "execute_result"
    }
   ],
   "source": [
    "s = Solution()\n",
    "s.mergeKLists([toListNode([1,4,5]),toListNode([1,3,4]),toListNode([2,6])])\n"
   ]
  },
  {
   "cell_type": "code",
   "execution_count": 27,
   "id": "90f12ad9-d28e-477c-a38e-e3b1971af0ce",
   "metadata": {},
   "outputs": [],
   "source": [
    "from typing import List, Optional\n",
    "\n",
    "# Definition for singly-linked list.\n",
    "class ListNode:\n",
    "    def __init__(self, val=0, next=None):\n",
    "        self.val = val\n",
    "        self.next = next\n",
    "    \n",
    "class Solution:\n",
    "    def mergeKLists(self, lists: List[Optional[ListNode]]) -> Optional[ListNode]:\n",
    "        result = None\n",
    "        while any(lists):\n",
    "            min_val = min(l.val for l in lists if l)\n",
    "            for i, l in enumerate(lists):\n",
    "                if l and (l.val == min_val):\n",
    "                    result = ListNode(val=l.val, next=result)\n",
    "                    lists[i] = l.next\n",
    "                    break\n",
    "        r = None\n",
    "        while result:\n",
    "            r = ListNode(val=result.val, next=r)\n",
    "            result = result.next\n",
    "        return r\n",
    "    \n",
    "def toListNode(l):\n",
    "    node = None\n",
    "    for n in l[::-1]:\n",
    "        node = ListNode(val=n, next=node)\n",
    "    return node\n",
    "\n",
    "def fromListNode(node):\n",
    "    arr = []\n",
    "    while node:\n",
    "        arr.append(node.val)\n",
    "        node = node.next\n",
    "    return arr"
   ]
  },
  {
   "cell_type": "code",
   "execution_count": 28,
   "id": "1f1f36ac-20e6-4c89-9f91-df7c16e4ba25",
   "metadata": {},
   "outputs": [
    {
     "data": {
      "text/plain": [
       "[1, 1, 2, 3, 4, 4, 5, 6]"
      ]
     },
     "execution_count": 28,
     "metadata": {},
     "output_type": "execute_result"
    }
   ],
   "source": [
    "s = Solution()\n",
    "fromListNode(\n",
    "    s.mergeKLists([toListNode([1,4,5]),toListNode([1,3,4]),toListNode([2,6])])\n",
    ")"
   ]
  },
  {
   "cell_type": "code",
   "execution_count": 38,
   "id": "d8fddaae-2b60-4929-9762-1d456089fba5",
   "metadata": {},
   "outputs": [],
   "source": [
    "from typing import List, Optional\n",
    "\n",
    "# Definition for singly-linked list.\n",
    "class ListNode:\n",
    "    def __init__(self, val=0, next=None):\n",
    "        self.val = val\n",
    "        self.next = next\n",
    "    \n",
    "class Solution:\n",
    "    def mergeKLists(self, lists: List[Optional[ListNode]]) -> Optional[ListNode]:\n",
    "        head = None\n",
    "        for l in lists:\n",
    "            if l: head = self.merge(head, l)\n",
    "        return head\n",
    "    \n",
    "    def merge(self, l1, l2):\n",
    "        \"\"\" Solution for 21. Merge Two Sorted Lists problem\n",
    "        \"\"\"\n",
    "        anchor = curr = ListNode()  # dummy node\n",
    "        while l1 and l2:\n",
    "            if l2.val < l1.val:\n",
    "                curr.next = l2\n",
    "                l2 = l2.next\n",
    "            else:\n",
    "                curr.next = l1\n",
    "                l1 = l1.next   \n",
    "            curr = curr.next\n",
    "        curr.next = l1 or l2\n",
    "        return anchor.next"
   ]
  },
  {
   "cell_type": "code",
   "execution_count": 39,
   "id": "b5746136-8bd2-4d4c-8f20-a837d8499728",
   "metadata": {},
   "outputs": [
    {
     "data": {
      "text/plain": [
       "[1, 1, 2, 3, 4, 4, 5, 6]"
      ]
     },
     "execution_count": 39,
     "metadata": {},
     "output_type": "execute_result"
    }
   ],
   "source": [
    "s = Solution()\n",
    "fromListNode(\n",
    "    s.mergeKLists([toListNode([1,4,5]),toListNode([1,3,4]),toListNode([2,6])])\n",
    ")"
   ]
  },
  {
   "cell_type": "code",
   "execution_count": null,
   "id": "56d05d2a-397d-4f58-8bc4-4cd33fe82282",
   "metadata": {},
   "outputs": [],
   "source": []
  }
 ],
 "metadata": {
  "kernelspec": {
   "display_name": "Python 3 (ipykernel)",
   "language": "python",
   "name": "python3"
  },
  "language_info": {
   "codemirror_mode": {
    "name": "ipython",
    "version": 3
   },
   "file_extension": ".py",
   "mimetype": "text/x-python",
   "name": "python",
   "nbconvert_exporter": "python",
   "pygments_lexer": "ipython3",
   "version": "3.9.5"
  }
 },
 "nbformat": 4,
 "nbformat_minor": 5
}
