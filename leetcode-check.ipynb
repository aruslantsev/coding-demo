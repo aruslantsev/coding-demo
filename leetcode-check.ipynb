{
 "cells": [
  {
   "cell_type": "code",
   "execution_count": 36,
   "id": "54850fb2-929d-4ec8-83df-5ad762ae455c",
   "metadata": {},
   "outputs": [],
   "source": [
    "from bs4 import BeautifulSoup\n",
    "from selenium import webdriver\n",
    "from selenium.webdriver.firefox.options import Options\n",
    "import time\n",
    "import os\n",
    "from collections import defaultdict"
   ]
  },
  {
   "cell_type": "code",
   "execution_count": 8,
   "id": "2bc6a4cb-c008-42f2-96b7-221a9df7a949",
   "metadata": {},
   "outputs": [],
   "source": [
    "options = Options()\n",
    "options.binary_location = '/opt/firefox/firefox-bin'\n",
    "# options.add_argument('--headless')\n",
    "driver = webdriver.Firefox(options=options)\n",
    "driver.set_page_load_timeout(10)"
   ]
  },
  {
   "cell_type": "code",
   "execution_count": 9,
   "id": "7dce694e-6f11-4428-a6a7-b71ccba8c01e",
   "metadata": {},
   "outputs": [],
   "source": [
    "driver.get(\"https://leetcode.com\")\n",
    "# Login to the website"
   ]
  },
  {
   "cell_type": "code",
   "execution_count": 6,
   "id": "1e6bb180-88a7-4c87-a3ce-02d4fbe6afec",
   "metadata": {},
   "outputs": [],
   "source": [
    "def get_tbl(i):\n",
    "    driver.get(f\"https://leetcode.com/submissions/#/{i}\")\n",
    "    time.sleep(5)\n",
    "    soup = BeautifulSoup(driver.page_source, \"html.parser\")\n",
    "    tbl = soup.find(\"div\", id=\"submission-list-app\").find(\"table\")\n",
    "    return tbl"
   ]
  },
  {
   "cell_type": "code",
   "execution_count": 47,
   "id": "8baceba1-b7e9-4989-beaf-3be635d0c13e",
   "metadata": {},
   "outputs": [
    {
     "name": "stdout",
     "output_type": "stream",
     "text": [
      "1\n",
      "2\n",
      "3\n",
      "4\n",
      "5\n",
      "6\n",
      "7\n",
      "8\n",
      "9\n",
      "10\n",
      "11\n",
      "12\n",
      "13\n",
      "14\n",
      "15\n",
      "16\n",
      "17\n",
      "18\n",
      "19\n",
      "20\n",
      "21\n",
      "22\n",
      "23\n",
      "24\n",
      "25\n",
      "26\n",
      "27\n",
      "28\n",
      "29\n",
      "30\n",
      "31\n",
      "32\n",
      "33\n",
      "34\n",
      "35\n",
      "36\n",
      "37\n",
      "38\n",
      "39\n",
      "40\n",
      "41\n",
      "42\n",
      "43\n",
      "44\n",
      "45\n",
      "46\n",
      "47\n",
      "48\n",
      "49\n",
      "50\n",
      "51\n",
      "52\n",
      "53\n",
      "54\n",
      "55\n",
      "56\n",
      "57\n",
      "58\n",
      "59\n",
      "60\n",
      "61\n",
      "62\n",
      "63\n",
      "64\n",
      "65\n",
      "66\n",
      "67\n",
      "68\n",
      "69\n",
      "70\n",
      "71\n",
      "72\n",
      "73\n",
      "74\n",
      "75\n",
      "76\n",
      "77\n",
      "78\n",
      "79\n",
      "80\n",
      "81\n",
      "82\n",
      "83\n",
      "84\n",
      "85\n",
      "86\n",
      "87\n",
      "88\n",
      "89\n",
      "90\n",
      "91\n"
     ]
    }
   ],
   "source": [
    "leetcode_tasks = defaultdict(list)\n",
    "\n",
    "i = 1\n",
    "tbl = get_tbl(i)\n",
    "while tbl is not None:\n",
    "    print(i)\n",
    "    rows = tbl.find_all(\"tr\")[1:]\n",
    "    for row in rows:\n",
    "        vals = row.find_all(\"td\")\n",
    "        name = vals[1].text\n",
    "        status = vals[2].text\n",
    "        lang = vals[4].text\n",
    "        if status == \"Accepted\":\n",
    "            # print(name, status, lang)\n",
    "            leetcode_tasks[lang].append(name)\n",
    "    i += 1\n",
    "    tbl = get_tbl(i)"
   ]
  },
  {
   "cell_type": "code",
   "execution_count": 48,
   "id": "450a91c3-4fed-4a1b-b2aa-862707a23f58",
   "metadata": {},
   "outputs": [],
   "source": [
    "git_tasks = defaultdict(list)\n",
    "files = os.listdir(\"leetcode\")\n",
    "for file in files:\n",
    "    name, ext = file.split(\" \", 1)[-1].rsplit(\".\", 1)\n",
    "    if ext == \"ipynb\":\n",
    "        git_tasks[\"python3\"].append(name)\n",
    "    if ext == \"c\":\n",
    "        git_tasks[\"c\"].append(name)\n",
    "    if ext == \"cpp\":\n",
    "        git_tasks[\"cpp\"].append(name)"
   ]
  },
  {
   "cell_type": "code",
   "execution_count": 49,
   "id": "8c6bc8c7-f3ff-4775-b8ee-50f44239b202",
   "metadata": {},
   "outputs": [
    {
     "name": "stdout",
     "output_type": "stream",
     "text": [
      "===============================================================================\n",
      "Language: cpp\n",
      "Presented at LeetCode, missing in git\n",
      "[]\n",
      "Presented at git, missing in LeetCode\n",
      "[]\n",
      "===============================================================================\n",
      "Language: c\n",
      "Presented at LeetCode, missing in git\n",
      "[]\n",
      "Presented at git, missing in LeetCode\n",
      "[]\n",
      "===============================================================================\n",
      "Language: python3\n",
      "Presented at LeetCode, missing in git\n",
      "[]\n",
      "Presented at git, missing in LeetCode\n",
      "[]\n"
     ]
    }
   ],
   "source": [
    "for key in set(list(leetcode_tasks.keys()) + list(git_tasks.keys())):\n",
    "    print(\"=\" * 79)\n",
    "    print(f\"Language: {key}\")\n",
    "    print(\"Presented at LeetCode, missing in git\")\n",
    "    print([task for task in set(leetcode_tasks[key]) if task not in set(git_tasks[key])])\n",
    "    print(\"Presented at git, missing in LeetCode\")\n",
    "    print([task for task in set(git_tasks[key]) if task not in set(leetcode_tasks[key])])"
   ]
  },
  {
   "cell_type": "code",
   "execution_count": null,
   "id": "c5a8f201-70c8-4fd5-9d31-2afadb5d9057",
   "metadata": {},
   "outputs": [],
   "source": []
  }
 ],
 "metadata": {
  "kernelspec": {
   "display_name": "matcher",
   "language": "python",
   "name": "matcher"
  },
  "language_info": {
   "codemirror_mode": {
    "name": "ipython",
    "version": 3
   },
   "file_extension": ".py",
   "mimetype": "text/x-python",
   "name": "python",
   "nbconvert_exporter": "python",
   "pygments_lexer": "ipython3",
   "version": "3.11.9"
  }
 },
 "nbformat": 4,
 "nbformat_minor": 5
}
