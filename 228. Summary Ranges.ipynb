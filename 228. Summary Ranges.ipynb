{
 "cells": [
  {
   "cell_type": "markdown",
   "id": "0b073f8b",
   "metadata": {},
   "source": [
    "You are given a sorted unique integer array nums.\n",
    "\n",
    "Return the smallest sorted list of ranges that cover all the numbers in the array exactly. That is, each element of nums is covered by exactly one of the ranges, and there is no integer x such that x is in one of the ranges but not in nums.\n",
    "\n",
    "Each range [a,b] in the list should be output as:\n",
    "\n",
    "    \"a->b\" if a != b\n",
    "    \"a\" if a == b\n",
    "\n",
    " \n",
    "\n",
    "Example 1:\n",
    "\n",
    "Input: nums = [0,1,2,4,5,7]\n",
    "Output: [\"0->2\",\"4->5\",\"7\"]\n",
    "Explanation: The ranges are:\n",
    "[0,2] --> \"0->2\"\n",
    "[4,5] --> \"4->5\"\n",
    "[7,7] --> \"7\"\n",
    "\n",
    "Example 2:\n",
    "\n",
    "Input: nums = [0,2,3,4,6,8,9]\n",
    "Output: [\"0\",\"2->4\",\"6\",\"8->9\"]\n",
    "Explanation: The ranges are:\n",
    "[0,0] --> \"0\"\n",
    "[2,4] --> \"2->4\"\n",
    "[6,6] --> \"6\"\n",
    "[8,9] --> \"8->9\"\n",
    "\n",
    " \n",
    "\n",
    "Constraints:\n",
    "\n",
    "    0 <= nums.length <= 20\n",
    "    -231 <= nums[i] <= 231 - 1\n",
    "    All the values of nums are unique.\n",
    "    nums is sorted in ascending order.\n",
    "\n"
   ]
  },
  {
   "cell_type": "code",
   "execution_count": 67,
   "id": "1ccc0375",
   "metadata": {},
   "outputs": [],
   "source": [
    "from typing import List\n",
    "\n",
    "class Solution:\n",
    "    def summaryRanges(self, nums: List[int]) -> List[str]:\n",
    "        if not nums:\n",
    "            return nums\n",
    "        \n",
    "        newarr = []\n",
    "        prev = nums[0]\n",
    "        int_start = prev\n",
    "        cont = False\n",
    "        for num in nums[1:] + [float('inf')]:\n",
    "            if num - prev == 1:\n",
    "                cont = True\n",
    "            else:\n",
    "                cont = False\n",
    "            \n",
    "            if (not cont) and (prev != int_start):\n",
    "                newarr.append(f'{int_start}->{prev}')\n",
    "            elif (not cont) and (prev == int_start):\n",
    "                newarr.append(f'{int_start}')\n",
    "                \n",
    "            if not cont:\n",
    "                int_start = num\n",
    "                \n",
    "            prev = num\n",
    "                \n",
    "        return newarr\n",
    "            "
   ]
  },
  {
   "cell_type": "code",
   "execution_count": 68,
   "id": "eca78ac1",
   "metadata": {},
   "outputs": [],
   "source": [
    "s = Solution()"
   ]
  },
  {
   "cell_type": "code",
   "execution_count": 69,
   "id": "0e7e3bff",
   "metadata": {},
   "outputs": [
    {
     "data": {
      "text/plain": [
       "['0->2', '4->5', '7']"
      ]
     },
     "execution_count": 69,
     "metadata": {},
     "output_type": "execute_result"
    }
   ],
   "source": [
    "s.summaryRanges([0,1,2,4,5,7] )"
   ]
  },
  {
   "cell_type": "code",
   "execution_count": 70,
   "id": "5791824f",
   "metadata": {},
   "outputs": [
    {
     "data": {
      "text/plain": [
       "['0', '2->4', '6', '8->9']"
      ]
     },
     "execution_count": 70,
     "metadata": {},
     "output_type": "execute_result"
    }
   ],
   "source": [
    "s.summaryRanges([0,2,3,4,6,8,9])"
   ]
  },
  {
   "cell_type": "code",
   "execution_count": null,
   "id": "6469921f",
   "metadata": {},
   "outputs": [],
   "source": []
  }
 ],
 "metadata": {
  "kernelspec": {
   "display_name": "Python 3 (ipykernel)",
   "language": "python",
   "name": "python3"
  },
  "language_info": {
   "codemirror_mode": {
    "name": "ipython",
    "version": 3
   },
   "file_extension": ".py",
   "mimetype": "text/x-python",
   "name": "python",
   "nbconvert_exporter": "python",
   "pygments_lexer": "ipython3",
   "version": "3.9.5"
  }
 },
 "nbformat": 4,
 "nbformat_minor": 5
}
