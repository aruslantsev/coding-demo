{
 "cells": [
  {
   "cell_type": "markdown",
   "id": "98011622-0f38-463f-aa53-b9bbb63ecc16",
   "metadata": {},
   "source": [
    "Given an array of integers nums and an integer target, return indices of the two numbers such that they add up to target.\n",
    "\n",
    "You may assume that each input would have exactly one solution, and you may not use the same element twice.\n",
    "\n",
    "You can return the answer in any order.\n",
    "\n",
    "\n",
    "Example 1:\n",
    "\n",
    "Input: nums = [2,7,11,15], target = 9\n",
    "Output: [0,1]\n",
    "Explanation: Because nums[0] + nums[1] == 9, we return [0, 1].\n",
    "\n",
    "Example 2:\n",
    "\n",
    "Input: nums = [3,2,4], target = 6\n",
    "Output: [1,2]\n",
    "\n",
    "Example 3:\n",
    "\n",
    "Input: nums = [3,3], target = 6\n",
    "Output: [0,1]\n",
    "\n",
    "\n",
    "Constraints:\n",
    "\n",
    "    2 <= nums.length <= 10^4\n",
    "    -10^9 <= nums[i] <= 10^9\n",
    "    -10^9 <= target <= 10^9\n",
    "    Only one valid answer exists.\n"
   ]
  },
  {
   "cell_type": "code",
   "execution_count": 1,
   "id": "249b6e5c-3b4b-492a-b220-0ab6c31216f2",
   "metadata": {},
   "outputs": [],
   "source": [
    "from typing import List"
   ]
  },
  {
   "cell_type": "code",
   "execution_count": 2,
   "id": "165b8347-6096-47c6-966b-6b0a5d07084b",
   "metadata": {},
   "outputs": [],
   "source": [
    "class Solution:\n",
    "    def twoSum(self, nums: List[int], target: int) -> List[int]:\n",
    "        for first in nums:\n",
    "            second = target - first\n",
    "            nums_tmp = nums.copy()\n",
    "            nums_tmp.pop(nums_tmp.index(first))\n",
    "            if (second in nums_tmp):\n",
    "                break\n",
    "                \n",
    "        fs = False\n",
    "        ss = False\n",
    "        for idx, num in enumerate(nums):\n",
    "            if (num == first) and not fs:\n",
    "                idx0 = idx\n",
    "                fs = True\n",
    "            elif (num == second) and not ss:\n",
    "                idx1 = idx\n",
    "                ss = True\n",
    "            if fs and ss:\n",
    "                break\n",
    "        return [idx0, idx1]"
   ]
  },
  {
   "cell_type": "code",
   "execution_count": 3,
   "id": "c119d8a2-6ca7-47d1-9a1f-b1ac70721eab",
   "metadata": {},
   "outputs": [
    {
     "data": {
      "text/plain": [
       "[0, 1]"
      ]
     },
     "execution_count": 3,
     "metadata": {},
     "output_type": "execute_result"
    }
   ],
   "source": [
    "s = Solution()\n",
    "s.twoSum([2,7,11,15], 9)"
   ]
  },
  {
   "cell_type": "code",
   "execution_count": null,
   "id": "581e8669-cd4e-40c8-8b15-6d212a0fab0e",
   "metadata": {},
   "outputs": [],
   "source": []
  }
 ],
 "metadata": {
  "kernelspec": {
   "display_name": "Python 3 (ipykernel)",
   "language": "python",
   "name": "python3"
  },
  "language_info": {
   "codemirror_mode": {
    "name": "ipython",
    "version": 3
   },
   "file_extension": ".py",
   "mimetype": "text/x-python",
   "name": "python",
   "nbconvert_exporter": "python",
   "pygments_lexer": "ipython3",
   "version": "3.9.5"
  }
 },
 "nbformat": 4,
 "nbformat_minor": 5
}
