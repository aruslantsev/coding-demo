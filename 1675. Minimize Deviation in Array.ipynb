{
 "cells": [
  {
   "cell_type": "markdown",
   "id": "33a85eff",
   "metadata": {},
   "source": [
    "You are given an array nums of n positive integers.\n",
    "\n",
    "You can perform two types of operations on any element of the array any number of times:\n",
    "\n",
    "    If the element is even, divide it by 2.\n",
    "        For example, if the array is [1,2,3,4], then you can do this operation on the last element, and the array will be [1,2,3,2].\n",
    "    If the element is odd, multiply it by 2.\n",
    "        For example, if the array is [1,2,3,4], then you can do this operation on the first element, and the array will be [2,2,3,4].\n",
    "\n",
    "The deviation of the array is the maximum difference between any two elements in the array.\n",
    "\n",
    "Return the minimum deviation the array can have after performing some number of operations.\n",
    "\n",
    " \n",
    "\n",
    "Example 1:\n",
    "\n",
    "Input: nums = [1,2,3,4]\n",
    "Output: 1\n",
    "Explanation: You can transform the array to [1,2,3,2], then to [2,2,3,2], then the deviation will be 3 - 2 = 1.\n",
    "\n",
    "Example 2:\n",
    "\n",
    "Input: nums = [4,1,5,20,3]\n",
    "Output: 3\n",
    "Explanation: You can transform the array after two operations to [4,2,5,5,3], then the deviation will be 5 - 2 = 3.\n",
    "\n",
    "Example 3:\n",
    "\n",
    "Input: nums = [2,10,8]\n",
    "Output: 3\n"
   ]
  },
  {
   "cell_type": "code",
   "execution_count": 14,
   "id": "5f2691d1",
   "metadata": {},
   "outputs": [],
   "source": [
    "from typing import List\n",
    "\n",
    "class Solution:\n",
    "    def minimumDeviation(self, nums: List[int]) -> int:\n",
    "        prev_dev = max(nums) - min(nums)\n",
    "        prev = nums.copy()\n",
    "        while min(nums) % 2 == 1:\n",
    "            nums[nums.index(min(nums))] *= 2\n",
    "            dev = max(nums) - min(nums)\n",
    "            if dev > prev_dev:\n",
    "                nums = prev\n",
    "                dev = prev_dev\n",
    "                break\n",
    "            else:\n",
    "                prev = nums\n",
    "                prev_dev = dev\n",
    "                \n",
    "        prev_dev = max(nums) - min(nums)\n",
    "        prev = nums.copy()\n",
    "        while max(nums) % 2 == 0:\n",
    "            nums[nums.index(max(nums))] //= 2\n",
    "            dev = max(nums) - min(nums)\n",
    "            if dev > prev_dev:\n",
    "                nums = prev\n",
    "                dev = prev_dev\n",
    "                break\n",
    "            else:\n",
    "                prev = nums\n",
    "                prev_dev = dev\n",
    "                \n",
    "        prev_dev = max(nums) - min(nums)\n",
    "        prev = nums.copy()\n",
    "        while any(n % 2 == 0 for n in nums):\n",
    "            nums = [n // 2 if n % 2 == 0 else n for n in nums]\n",
    "            dev = max(nums) - min(nums)\n",
    "            if dev > prev_dev:\n",
    "                nums = prev\n",
    "                dev = prev_dev\n",
    "                break\n",
    "            else:\n",
    "                prev = nums\n",
    "                prev_dev = dev\n",
    "                \n",
    "        return dev"
   ]
  },
  {
   "cell_type": "code",
   "execution_count": 15,
   "id": "890b4d4a",
   "metadata": {},
   "outputs": [
    {
     "data": {
      "text/plain": [
       "1"
      ]
     },
     "execution_count": 15,
     "metadata": {},
     "output_type": "execute_result"
    }
   ],
   "source": [
    "s = Solution()\n",
    "s.minimumDeviation([1, 2, 3, 4])"
   ]
  },
  {
   "cell_type": "code",
   "execution_count": 16,
   "id": "18f647de",
   "metadata": {},
   "outputs": [
    {
     "data": {
      "text/plain": [
       "3"
      ]
     },
     "execution_count": 16,
     "metadata": {},
     "output_type": "execute_result"
    }
   ],
   "source": [
    "s.minimumDeviation([4,1,5,20,3])"
   ]
  },
  {
   "cell_type": "code",
   "execution_count": 17,
   "id": "845ec37b",
   "metadata": {},
   "outputs": [
    {
     "data": {
      "text/plain": [
       "3"
      ]
     },
     "execution_count": 17,
     "metadata": {},
     "output_type": "execute_result"
    }
   ],
   "source": [
    "s.minimumDeviation([2,10,8])"
   ]
  },
  {
   "cell_type": "code",
   "execution_count": 1,
   "id": "c0988465",
   "metadata": {},
   "outputs": [],
   "source": [
    "import heapq\n",
    "from typing import List\n",
    "\n",
    "class Solution:\n",
    "    def minimumDeviation(self, nums: List[int]) -> int:\n",
    "        dev = max(nums) - min(nums)\n",
    "        cur_max = max(nums)\n",
    "        #some preparation before increasing min\n",
    "        small = []\n",
    "        for num in nums:\n",
    "            heapq.heappush(small, num)\n",
    "        #here starts increase min\n",
    "        cur = heapq.heappop(small)\n",
    "        while cur % 2 == 1:\n",
    "            heapq.heappush(small, cur * 2)\n",
    "            cur_max = max(cur_max, cur * 2)\n",
    "            cur = heapq.heappop(small)\n",
    "            dev = min(dev, abs(cur_max - cur))\n",
    "        heapq.heappush(small, cur)\n",
    "        #some preparation before reducing max\n",
    "        cur_min = cur\n",
    "        big = []\n",
    "        for num in small:\n",
    "            heapq.heappush(big, -1 * num)\n",
    "        #here starts reducing max\n",
    "        cur = heapq.heappop(big)\n",
    "        while cur % 2 == 0:\n",
    "            heapq.heappush(big, cur // 2)\n",
    "            cur_min = min(cur_min, cur * -1 // 2)\n",
    "            cur = heapq.heappop(big)\n",
    "            dev = min(dev, abs(-1 * cur - cur_min))\n",
    "        return dev   "
   ]
  },
  {
   "cell_type": "code",
   "execution_count": 26,
   "id": "6bf77009",
   "metadata": {},
   "outputs": [
    {
     "data": {
      "text/plain": [
       "1"
      ]
     },
     "execution_count": 26,
     "metadata": {},
     "output_type": "execute_result"
    }
   ],
   "source": [
    "s = Solution()\n",
    "s.minimumDeviation([1, 2, 3, 4])"
   ]
  },
  {
   "cell_type": "code",
   "execution_count": null,
   "id": "c9469d65",
   "metadata": {},
   "outputs": [],
   "source": []
  }
 ],
 "metadata": {
  "kernelspec": {
   "display_name": "Python 3 (ipykernel)",
   "language": "python",
   "name": "python3"
  },
  "language_info": {
   "codemirror_mode": {
    "name": "ipython",
    "version": 3
   },
   "file_extension": ".py",
   "mimetype": "text/x-python",
   "name": "python",
   "nbconvert_exporter": "python",
   "pygments_lexer": "ipython3",
   "version": "3.9.5"
  }
 },
 "nbformat": 4,
 "nbformat_minor": 5
}
