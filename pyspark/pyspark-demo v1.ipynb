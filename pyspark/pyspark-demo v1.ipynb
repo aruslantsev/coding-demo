{
 "cells": [
  {
   "cell_type": "markdown",
   "metadata": {},
   "source": [
    "Apache Spark — фреймворк с открытым исходным кодом для реализации распределённой обработки неструктурированных и слабоструктурированных данных, входящий в экосистему проектов Hadoop. В отличие от классического обработчика из ядра Hadoop, реализующего двухуровневую концепцию MapReduce с хранением промежуточных данных на накопителях, Spark работает в парадигме резидентных вычислений — обрабатывает данные в оперативной памяти.\n",
    "\n",
    "Spark реализует парадигму отложенных или ленивых вычислений. Вычисления начнутся только после явного указания действий - collect, show, count, write, toPandas.  "
   ]
  },
  {
   "cell_type": "code",
   "execution_count": 1,
   "metadata": {},
   "outputs": [],
   "source": [
    "import findspark\n",
    "findspark.init()\n",
    "\n",
    "from pyspark import SparkConf\n",
    "from pyspark.sql import SparkSession\n",
    "\n",
    "spark = (\n",
    "        SparkSession\n",
    "        .builder\n",
    "        .config(\n",
    "            conf=SparkConf()\n",
    "            .setAppName('spark-test-app')\n",
    "            .set(\"spark.yarn.queue\", \"root.ke.dev\")\n",
    "        ).getOrCreate()\n",
    ")\n"
   ]
  },
  {
   "cell_type": "code",
   "execution_count": 2,
   "metadata": {},
   "outputs": [
    {
     "name": "stdout",
     "output_type": "stream",
     "text": [
      "+------------------+\n",
      "|namespace         |\n",
      "+------------------+\n",
      "|1c_data           |\n",
      "|1c_data_private   |\n",
      "|aer_adm_sg        |\n",
      "|aer_ads_sg        |\n",
      "|aer_ba_sg         |\n",
      "|aer_bi_sg         |\n",
      "|aer_cdm_sg        |\n",
      "|aer_cdm_sg_private|\n",
      "|aer_cdmx_sg       |\n",
      "|aer_ds_sg         |\n",
      "+------------------+\n",
      "only showing top 10 rows\n",
      "\n"
     ]
    }
   ],
   "source": [
    "spark.sql(\"show databases\").show(10, False)"
   ]
  },
  {
   "cell_type": "code",
   "execution_count": 3,
   "metadata": {},
   "outputs": [],
   "source": [
    "spark.stop()"
   ]
  },
  {
   "cell_type": "markdown",
   "metadata": {
    "Collapsed": "true"
   },
   "source": [
    "# Spark setttings"
   ]
  },
  {
   "cell_type": "code",
   "execution_count": 3,
   "metadata": {
    "Collapsed": "false"
   },
   "outputs": [
    {
     "name": "stdout",
     "output_type": "stream",
     "text": [
      "## managed by puppet\n",
      "\n",
      "spark.master yarn\n",
      "spark.io.compression.codec org.apache.spark.io.SnappyCompressionCodec\n",
      "spark.serializer org.apache.spark.serializer.KryoSerializer\n",
      "spark.yarn.queue ad-hoc\n",
      "spark.yarn.maxAppAttempts 1\n",
      "spark.sql.warehouse.dir hdfs:///apps/hive/warehouse\n",
      "spark.eventLog.enabled true\n",
      "spark.yarn.historyServer.address spark-hst-ui1z3.h.ae-rus.net:18088\n",
      "spark.history.ui.port 18088\n",
      "spark.history.fs.logDirectory hdfs:///spark-history\n",
      "spark.eventLog.dir hdfs:///spark-history\n",
      "spark.eventLog.permissions 777\n",
      "spark.history.fs.cleaner.enabled true\n",
      "spark.history.fs.cleaner.interval 1d\n",
      "spark.history.fs.cleaner.maxAge 7d\n",
      "spark.shuffle.manager SORT\n",
      "spark.shuffle.consolidateFiles true\n",
      "spark.shuffle.service.enabled true\n",
      "spark.shuffle.registration.timeout 30000\n",
      "spark.shuffle.registration.maxAttempts 3\n",
      "spark.shuffle.io.maxRetries 3\n",
      "spark.shuffle.io.numConnectionsPerPeer 5\n",
      "spark.sql.adaptive.enabled true\n",
      "spark.sql.adaptive.coalescePartitions.enabled true\n",
      "spark.sql.adaptive.coalescePartitions.minPartitionSize 5MB\n",
      "spark.sql.adaptive.advisoryPartitionSizeInBytes 64MB\n",
      "spark.network.timeout 300000\n",
      "spark.dynamicAllocation.enabled false\n",
      "spark.yarn.am.memory 1024m\n",
      "spark.driver.memory 4096m\n",
      "spark.executor.memory 2048m\n",
      "spark.yarn.am.cores 1\n",
      "spark.driver.cores 1\n",
      "spark.executor.cores 1\n",
      "spark.yarn.am.memoryOverhead 512m\n",
      "spark.driver.memoryOverhead 1024m\n",
      "spark.executor.memoryOverhead 512m\n",
      "spark.sql.catalogImplementation hive\n",
      "spark.sql.hive.metastore.version 3.1.3\n",
      "spark.sql.hive.metastore.jars path\n",
      "spark.sql.hive.metastore.jars.path file:///opt/hive/lib/*.jar\n",
      "spark.port.maxRetries 1024\n",
      "spark.sql.hive.filesourcePartitionFileCacheSize 1073741824\n",
      "spark.executor.extraJavaOptions -XX:+UseG1GC -XX:InitiatingHeapOccupancyPercent=35 -verbose:gc -XX:+UnlockDiagnosticVMOptions -XX:+G1SummarizeConcMark -XX:+PrintGCDateStamps -XX:OnOutOfMemoryError='kill -9 %p'\n",
      "spark.driver.extraJavaOptions -Xss4m -XX:+UseG1GC -XX:InitiatingHeapOccupancyPercent=35 -XX:+UnlockDiagnosticVMOptions -XX:+G1SummarizeConcMark -XX:+PrintGCDateStamps -XX:OnOutOfMemoryError='kill -9 %p'\n",
      "spark.executor.extraLibraryPath /opt/hadoop/lib/native\n",
      "spark.driver.extraLibraryPath /opt/hadoop/lib/native\n",
      "spark.yarn.appMasterEnv.SPARK_HOOK_CONF_FILE_PATH /opt/spline-postgres-dispatcher/conf/lineage-storage.vars\n",
      "spark.spline.postgres.config.path /opt/spline-postgres-dispatcher/conf/lineage-storage.vars\n",
      "spark.spline ENABLED\n",
      "spark.spline.lineageDispatcher postgres\n",
      "spark.sql.queryExecutionListeners za.co.absa.spline.harvester.listener.SplineQueryExecutionListener\n",
      "spark.spline.lineageDispatcher.postgres.className ru.aliexpress.data.spline.harvester.dispatcher.PostgresLineageDispatcher\n",
      "spark.spline.plugins.za.co.absa.spline.harvester.plugin.embedded.NonPersistentActionsCapturePlugin.enabled true\n",
      "spark.spline.plugins.za.co.absa.spline.harvester.plugin.embedded.NonPersistentActionsCapturePlugin.funcNames head,count,collect,collectAsList,collectToPython,toLocalIterator,toPythonIterator\n",
      "\n",
      "\n"
     ]
    }
   ],
   "source": [
    "!cat /opt/spark/conf/spark-defaults.conf"
   ]
  },
  {
   "cell_type": "markdown",
   "metadata": {
    "Collapsed": "false"
   },
   "source": [
    "- `spark.master`: `yarn`, variants: standalone, yarn, kubernetes. https://spark.apache.org/docs/latest/cluster-overview.html#cluster-manager-types\n",
    "- `spark.deploy-mode`: `client`. In cluster mode, the Spark driver runs inside an application master process which is managed by YARN on the cluster, and the client can go away after initiating the application. In client mode, the driver runs in the client process, and the application master is only used for requesting resources from YARN. https://spark.apache.org/docs/latest/running-on-yarn.html\n",
    "- `spark.yarn.queue`: The name of the YARN queue to which the application is submitted.\n",
    "- `spark.driver.memory`: Amount of memory to use for the driver process, i.e. where SparkContext is initialized, in the same format as JVM memory strings with a size unit suffix (\"k\", \"m\", \"g\" or \"t\") (e.g. 512m, 2g). In client mode, this config must not be set through the SparkConf directly in your application, because the driver JVM has already started at that point. Instead, please set this through the --driver-memory command line option or in your default properties file. Be careful with values above \"32g\"! At least ~47 GB required to get the same storage\n",
    "- `spark.executor.memory`: Amount of memory to use per executor process, in the same format as JVM memory strings with a size unit suffix (\"k\", \"m\", \"g\" or \"t\") (e.g. 512m, 2g).\n",
    "- `spark.executor.memory_overhead`: Amount of non-heap memory to be allocated per driver process in cluster mode, in MiB unless otherwise specified. This is memory that accounts for things like VM overheads, interned strings, other native overheads, etc. This tends to grow with the container size (typically 6-10%). This option is currently supported on YARN, Mesos and Kubernetes. Note: Non-heap memory includes off-heap memory (when spark.memory.offHeap.enabled=true) and memory used by other driver processes (e.g. python process that goes with a PySpark driver) and memory used by other non-driver processes running in the same container. The maximum memory size of container to running driver is determined by the sum of spark.driver.memoryOverhead and spark.driver.memory.\n",
    "- `spark.dynamicAllocation.enabled`: sometimes dynamic allocation causes instability. Needs `spark.shuffle.service.enabled` set to True\n",
    "- `spark.driver.cores`: Number of cores to use for the driver process, only in cluster mode.\n",
    "- `spark.executor.cores`: The number of cores to use on each executor\n",
    "- `spark.sql.shuffle.partitions`: The default number of partitions to use when shuffling data for joins or aggregations.\n",
    "- `spark.default.parallelism`: Default number of partitions in RDDs returned by transformations like join, reduceByKey, and parallelize when not set by user.\n",
    "- `spark.stage.maxConsecutiveAttempts`: Number of consecutive stage attempts allowed before a stage is aborted.\n",
    "\n",
    "Dynamic partitioning means the partitions are not configured before execution else it is made during run time depending on the size of file or partitions required. It ensures the best way of the utilization of RAM and the distribution of memory. Dynamic partitioning allows overwtiting only needed partitions instead of ALL TABLE\n",
    "- `spark.conf.set(\"spark.sql.sources.partitionOverwriteMode\",\"dynamic\")`\n",
    "- `hiveContext.setConf(\"hive.exec.dynamic.partition\", \"true\")`\n",
    "- `hiveContext.setConf(\"hive.exec.dynamic.partition.mode\", \"nonstrict\")`\n",
    "\n",
    "Broadcast tables\n",
    "- `spark.sql.autoBroadcastJoinThreshold`: Configures the maximum size in bytes for a table that will be broadcast to all worker nodes when performing a join. By setting this value to -1 broadcasting can be disabled. May cause OOM"
   ]
  },
  {
   "cell_type": "markdown",
   "metadata": {},
   "source": [
    "Dynamic allocation is pure evil! When you start loading data into memory it will load on fewer number of executors then it will further work. Thus not all executors will took part in all calculations. Data will be disbalanced between executors.\n",
    "\n",
    "- `spark.dynamicAllocation.minExecutors`\n",
    "- `spark.dynamicAllocation.maxExecutors`\n",
    "- `spark.dynamicAllocation.initialExecutors`\n",
    "- `spark.executor.instances`: for static allocation\n",
    "- `spark.dynamicAllocation.executorIdleTimeout` set to 120s, if executor is idle for this time, it will be returned to pool\n",
    "- `spark.dynamicAllocation.cachedExecutorIdleTimeout` set to 600s, if executir is idle but has cached information, discard it and return executor to pool\n"
   ]
  },
  {
   "cell_type": "markdown",
   "metadata": {},
   "source": [
    "- `spark.port.maxRetries`: 200. Maximum number of retries when binding to a port before giving up. When a port is given a specific value (non 0), each subsequent retry will increment the port used in the previous attempt by 1 before retrying.\n",
    "- `spark.serializer`: KryoSerializer instead of JavaSerializer; docs advise to use KryoSerializer when speed is required\n",
    "- `spark.eventLog.enabled`: `true`. Whether to log Spark events, useful for reconstructing the Web UI after the application has finished.\n",
    "- `spark.io.compression.codec`: Snappy or lz4 recommended\n",
    "- `spark.yarn.am.memory`, `spark.yarn.am.cores`: ApplicationMaster settings\n",
    "- `spark.sql.autoBroadcastJoinThreshold` sometimes throw OOM errors with no evident reason\n",
    "- `spark.shuffle.reduceLocality.enabled = False` - equally repartition small dataframes between executors, currently maybe useless"
   ]
  },
  {
   "cell_type": "markdown",
   "metadata": {},
   "source": [
    "https://spark.apache.org/docs/latest/running-on-yarn.html\n",
    "\n",
    "https://spark.apache.org/docs/latest/configuration.html\n",
    "\n",
    "https://spark.apache.org/docs/latest/monitoring.html"
   ]
  },
  {
   "cell_type": "markdown",
   "metadata": {},
   "source": [
    "At this moment something went wrong... So, we'll distribute our own environment and try to use UDFs\n",
    "\n",
    "# Distribute your environment on cluster nodes"
   ]
  },
  {
   "cell_type": "markdown",
   "metadata": {},
   "source": [
    "1. Install your conda\n",
    "2. `conda create -n pyspark_env python=3.8.5 numpy pandas scikit-learn scipy pyarrow conda-pack`\n",
    "3. `conda pack -n pyspark_env -o pyspark_env.tar.gz`"
   ]
  },
  {
   "cell_type": "code",
   "execution_count": 1,
   "metadata": {},
   "outputs": [],
   "source": [
    "import findspark\n",
    "findspark.init()\n",
    "\n",
    "from pyspark import SparkConf\n",
    "from pyspark.sql import SparkSession\n",
    "from pyspark.sql import functions as f, types as t, Window as w\n",
    "\n",
    "import re\n",
    "import pandas as pd\n",
    "import time\n",
    "import uuid\n",
    "\n",
    "import os\n",
    "os.environ[\"PYSPARK_PYTHON\"] = \"./environment/bin/python\""
   ]
  },
  {
   "cell_type": "code",
   "execution_count": 2,
   "metadata": {},
   "outputs": [],
   "source": [
    "memory = '10g'\n",
    "memory_overhead = '1g'\n",
    "executor_memory = '5g'\n",
    "cores = 4\n",
    "num_executors = 50\n",
    "app_name = \"spark-test-app\"\n",
    "queue = 'root.ke.dev'\n",
    "dynamic_allocation = False\n",
    "env_archive = \"https://nexus/environments/latest.tar.gz#environment\"\n",
    "\n",
    "def get_context(\n",
    "    app_name, queue, memory, executor_memory, memory_overhead, num_executors, cores, \n",
    "    dynamic_allocation = False, parallelism=None, env_archive=None, broadcasting=True\n",
    "):\n",
    "    if not parallelism: \n",
    "        parallelism = cores * num_executors\n",
    "    \n",
    "    config = (\n",
    "        SparkConf()\n",
    "        .setMaster(\"yarn\")\n",
    "        .setAppName(app_name)\n",
    "        .set(\"spark.yarn.queue\", queue)\n",
    "        .set('spark.network.timeout', \"300s\")\n",
    "        .set('spark.executor.heartbeatInterval', \"10s\")\n",
    "        .set('spark.driver.memory', memory)\n",
    "        .set('spark.driver.memoryOverhead', memory_overhead)\n",
    "        .set('spark.driver.maxResultSize', memory)\n",
    "        .set('spark.executor.memory', executor_memory)\n",
    "        .set('spark.executor.memoryOverhead', memory_overhead)\n",
    "        .set('spark.sql.shuffle.partitions', parallelism)\n",
    "        .set('spark.default.parallelism', parallelism)\n",
    "        .set('spark.driver.cores', cores)\n",
    "        .set('spark.executor.cores', cores)\n",
    "        .set(\"spark.executor.instances\", num_executors)\n",
    "        .set(\"spark.stage.maxConsecutiveAttempts\", 10)\n",
    "        .set(\"spark.rpc.io.serverThreads\", 64)\n",
    "        .set('spark.sql.hive.convertMetastoreOrc', 'true')\n",
    "        .set('spark.sql.orc.impl', 'native')\n",
    "        .set('spark.sql.orc.enableVectorizedReader', 'true')\n",
    "        .set(\"spark.sql.execution.arrow.enabled\", \"true\")  # optimize spark -> pandas transfer\n",
    "    )\n",
    "    \n",
    "    if dynamic_allocation is True:\n",
    "        (\n",
    "            config\n",
    "            .set('spark.dynamicAllocation.enabled', True)\n",
    "            .set(\"spark.shuffle.service.enabled\", True)\n",
    "            .set(\"spark.dynamicAllocation.minExecutors\", min(1, num_executors // 10))\n",
    "            .set(\"spark.dynamicAllocation.maxExecutors\", num_executors)\n",
    "        )\n",
    "    if env_archive:\n",
    "        config.set(\"spark.yarn.dist.archives\", env_archive)\n",
    "        \n",
    "    if not broadcasting:\n",
    "        (\n",
    "            config\n",
    "            .set(\"spark.sql.autoBroadcastJoinThreshold\", -1)\n",
    "            .set(\"spark.shuffle.reduceLocality.enabled\", False)\n",
    "        )\n",
    "        \n",
    "    spark = (\n",
    "        SparkSession\n",
    "        .builder\n",
    "        .config(conf=config)\n",
    "        .enableHiveSupport()\n",
    "        .getOrCreate()\n",
    "    )\n",
    "    return spark\n"
   ]
  },
  {
   "cell_type": "code",
   "execution_count": null,
   "metadata": {},
   "outputs": [],
   "source": [
    "spark = get_context(\n",
    "    app_name, queue, memory, executor_memory, memory_overhead, num_executors, cores, env_archive=env_archive\n",
    ")"
   ]
  },
  {
   "cell_type": "code",
   "execution_count": 4,
   "metadata": {},
   "outputs": [
    {
     "data": {
      "text/html": [
       "\n",
       "            <div>\n",
       "                <p><b>SparkSession - hive</b></p>\n",
       "                \n",
       "        <div>\n",
       "            <p><b>SparkContext</b></p>\n",
       "\n",
       "            <p><a href=\"http://10.58.139.14:4068\">Spark UI</a></p>\n",
       "\n",
       "            <dl>\n",
       "              <dt>Version</dt>\n",
       "                <dd><code>v3.2.2</code></dd>\n",
       "              <dt>Master</dt>\n",
       "                <dd><code>yarn</code></dd>\n",
       "              <dt>AppName</dt>\n",
       "                <dd><code>spark-test-app</code></dd>\n",
       "            </dl>\n",
       "        </div>\n",
       "        \n",
       "            </div>\n",
       "        "
      ],
      "text/plain": [
       "<pyspark.sql.session.SparkSession at 0x7f82f54c59a0>"
      ]
     },
     "execution_count": 4,
     "metadata": {},
     "output_type": "execute_result"
    }
   ],
   "source": [
    "spark"
   ]
  },
  {
   "cell_type": "code",
   "execution_count": 5,
   "metadata": {},
   "outputs": [],
   "source": [
    "@f.udf(t.StringType())\n",
    "def get_ds(partition):\n",
    "    if partition is not None:\n",
    "        partitions = partition.split('/')\n",
    "        ds = [partition for partition in partitions if 'ds' in partition]\n",
    "        if ds:\n",
    "            return ds[0]\n",
    "    return None\n",
    "\n",
    "def max_pt(table):\n",
    "    return spark.sql(f'show partitions {table}').select(f.max(get_ds('partition'))).collect()[0][0]"
   ]
  },
  {
   "cell_type": "markdown",
   "metadata": {},
   "source": [
    "# Read table"
   ]
  },
  {
   "cell_type": "code",
   "execution_count": 12,
   "metadata": {},
   "outputs": [
    {
     "name": "stdout",
     "output_type": "stream",
     "text": [
      "+----------+\n",
      "|  count(1)|\n",
      "+----------+\n",
      "|2139736585|\n",
      "+----------+\n",
      "\n",
      "74.76589632034302\n"
     ]
    }
   ],
   "source": [
    "# Ужасно плохо. Если взять таблицу побольше размером, то можно никогда не дождаться результатов. \n",
    "\n",
    "start = time.time()\n",
    "spark.sql(\"SELECT COUNT(1) FROM ke_matcher.ali_item_list_df WHERE ds == (SELECT MAX(ds) FROM ke_matcher.ali_item_list_df)\").show()\n",
    "print(time.time() - start)"
   ]
  },
  {
   "cell_type": "code",
   "execution_count": 13,
   "metadata": {},
   "outputs": [
    {
     "name": "stdout",
     "output_type": "stream",
     "text": [
      "+----------+\n",
      "|  count(1)|\n",
      "+----------+\n",
      "|2137597315|\n",
      "+----------+\n",
      "\n",
      "7.151587009429932\n"
     ]
    }
   ],
   "source": [
    "start = time.time()\n",
    "spark.sql(\"SELECT COUNT(1) FROM ke_matcher.ali_item_list_df WHERE ds == 20240715\").show()\n",
    "print(time.time() - start)"
   ]
  },
  {
   "cell_type": "code",
   "execution_count": 14,
   "metadata": {},
   "outputs": [
    {
     "name": "stdout",
     "output_type": "stream",
     "text": [
      "2139736585\n",
      "11.14228105545044\n"
     ]
    }
   ],
   "source": [
    "start = time.time()\n",
    "print(spark.table(\"ke_matcher.ali_item_list_df\").where(max_pt(\"ke_matcher.ali_item_list_df\")).count())\n",
    "print(time.time() - start)"
   ]
  },
  {
   "cell_type": "code",
   "execution_count": 15,
   "metadata": {},
   "outputs": [
    {
     "name": "stdout",
     "output_type": "stream",
     "text": [
      "5.821369171142578\n"
     ]
    }
   ],
   "source": [
    "# Хорошо использовать, когда один и тот же DataFrame используется дальше по коду несколько раз\n",
    "# Помним про ленивые вычисления. Все еще ничего не происходит!\n",
    "start = time.time()\n",
    "df = spark.table(\"ke_matcher.ali_item_list_df\").where(max_pt(\"ke_matcher.ali_item_list_df\")).cache()\n",
    "print(time.time() - start)"
   ]
  },
  {
   "cell_type": "code",
   "execution_count": 16,
   "metadata": {},
   "outputs": [
    {
     "name": "stdout",
     "output_type": "stream",
     "text": [
      "2139736585\n",
      "73.4445469379425\n"
     ]
    }
   ],
   "source": [
    "# А вот теперь считаем. Первый раз результат считается долго, но сохраняется в памяти...\n",
    "start = time.time()\n",
    "print(df.count())\n",
    "print(time.time() - start)"
   ]
  },
  {
   "cell_type": "code",
   "execution_count": 17,
   "metadata": {},
   "outputs": [
    {
     "name": "stdout",
     "output_type": "stream",
     "text": [
      "2139736585\n",
      "0.6030876636505127\n"
     ]
    }
   ],
   "source": [
    "# ... зато в следующий раз все происходит значительно быстрее\n",
    "start = time.time()\n",
    "print(df.count())\n",
    "print(time.time() - start)"
   ]
  },
  {
   "cell_type": "code",
   "execution_count": 18,
   "metadata": {},
   "outputs": [
    {
     "data": {
      "text/plain": [
       "DataFrame[item_id: string, is_updated: string, ds: string, is_online: string]"
      ]
     },
     "execution_count": 18,
     "metadata": {},
     "output_type": "execute_result"
    }
   ],
   "source": [
    "df.unpersist()"
   ]
  },
  {
   "cell_type": "code",
   "execution_count": 19,
   "metadata": {},
   "outputs": [
    {
     "name": "stdout",
     "output_type": "stream",
     "text": [
      "+------------------+----------+--------+---------+\n",
      "|           item_id|is_updated|      ds|is_online|\n",
      "+------------------+----------+--------+---------+\n",
      "|0_1005004567140226|         N|20240715|        N|\n",
      "|     0_32411785507|         N|20240715|        N|\n",
      "|0_3256804461453097|         N|20240715|        N|\n",
      "+------------------+----------+--------+---------+\n",
      "only showing top 3 rows\n",
      "\n"
     ]
    }
   ],
   "source": [
    "df = spark.sql(\"SELECT * FROM ke_matcher.ali_item_list_df WHERE ds == 20240715\")\n",
    "df.createOrReplaceTempView(\"tmp_table\")\n",
    "spark.sql(\"SELECT * FROM tmp_table\").show(3, truncate=True, vertical=False)"
   ]
  },
  {
   "cell_type": "markdown",
   "metadata": {},
   "source": [
    "# Data types"
   ]
  },
  {
   "cell_type": "code",
   "execution_count": 21,
   "metadata": {},
   "outputs": [
    {
     "data": {
      "text/plain": [
       "pyspark.sql.dataframe.DataFrame"
      ]
     },
     "execution_count": 21,
     "metadata": {},
     "output_type": "execute_result"
    }
   ],
   "source": [
    "bizdate = \"20240715\"\n",
    "df = spark.table(\"dwh.dim_item_active\").where(f.col(\"ds\") == bizdate)\n",
    "type(df)"
   ]
  },
  {
   "cell_type": "code",
   "execution_count": 22,
   "metadata": {},
   "outputs": [
    {
     "data": {
      "text/plain": [
       "pyspark.sql.dataframe.DataFrame"
      ]
     },
     "execution_count": 22,
     "metadata": {},
     "output_type": "execute_result"
    }
   ],
   "source": [
    "df = spark.sql(\"select * from dwh.dim_item_active where ds == 20240715\")\n",
    "type(df)"
   ]
  },
  {
   "cell_type": "markdown",
   "metadata": {},
   "source": [
    "# Save table"
   ]
  },
  {
   "cell_type": "markdown",
   "metadata": {},
   "source": [
    "- mode: `append`,  `overwrite`, `ignore`, `error` or `errorifexists`\n",
    "- format: `orc`, `parquet`, ...\n",
    "\n",
    "```df.write.format(\"parquet\").mode(\"overwrite\").partitionBy(\"partition_cols\").insertInto(\"table_name\")```\n",
    "\n",
    "```df.write.format(\"parquet\").save(\"df_name.parquet\")```\n",
    "\n",
    "```df.write.mode(\"overwrite\").orc(\"df_name.orc\")```\n",
    "\n",
    "```df.write.mode(\"append\").saveAsTable(\"table_name\")```\n",
    "\n",
    "```df.write.insertInto(\"table_name\", overwrite=True)  # needs dynamic partitioning: hive.exec.dynamic.partition set to true, hive.exec.dynamic.partition.mode set to nonstrict```\n",
    "\n",
    "С последним методом моожно получить неожиданный результат. Если неправильно выставить параметры, можно перезаписать не партицию, а всю таблицу\n",
    "\n",
    "Никогда не мог запомнить все многообразие, поэтому у нас в команде таблицы сохраняются так:\n",
    "\n",
    "- если таблица не существует, то мы создаем пустой датафрейм с нужной схемой и сохраняем его в таблицу ```empty_df.write.saveAsTable(\"table_name\", mode=\"overwrite\", partitionBy=[\"col1\", \"col2\", ...])```\n",
    "\n",
    "- записываем новую партицию в таблицу: ```df.write.insertInto(\"table_name\", overwrite=True)```"
   ]
  },
  {
   "cell_type": "markdown",
   "metadata": {},
   "source": [
    "## Подводные камни\n",
    "\n",
    "Spark глубоко плевать на названия колонок. Главное, чтобы сошлись их типы. Поэтому рекомендую всегда явно делать селект с правильной последовательностью колонок перед сохранением таблицы либо перед union "
   ]
  },
  {
   "cell_type": "markdown",
   "metadata": {},
   "source": [
    "## Партицирование и бакетирование таблиц"
   ]
  },
  {
   "cell_type": "markdown",
   "metadata": {},
   "source": [
    "Таблицы хранятся в pyspark в виде набора файлов. \n",
    "\n",
    "Партицирование позволяет разбить таблицу на части в соответствии с каким-то правилом. Например, по дате. \n",
    "\n",
    "Тогда, чтобы прочитать данные за нужную дату, spark не требуется прочитать все файлы и использовать только какие-то определенные. Ему достаточно прочитать все файлы из определенного подкаталога"
   ]
  },
  {
   "cell_type": "code",
   "execution_count": 39,
   "metadata": {},
   "outputs": [
    {
     "name": "stdout",
     "output_type": "stream",
     "text": [
      "/apps/hive/dev/ke_matcher_team/ke_matcher_adhoc.db/autoru_cars\n",
      "/apps/hive/dev/ke_matcher_team/ke_matcher_adhoc.db/autoru_cars/000000_0\n",
      "/apps/hive/dev/ke_matcher_team/ke_matcher_adhoc.db/autoru_cars/000001_0\n",
      "/apps/hive/dev/ke_matcher_team/ke_matcher_adhoc.db/autoru_cars/000002_0\n",
      "/apps/hive/dev/ke_matcher_team/ke_matcher_adhoc.db/autoru_cars/000003_0\n"
     ]
    }
   ],
   "source": [
    "# Непартицированная таблица\n",
    "!hdfs dfs -find /apps/hive/dev/ke_matcher_team/ke_matcher_adhoc.db/autoru_cars | head -n 5"
   ]
  },
  {
   "cell_type": "code",
   "execution_count": 40,
   "metadata": {},
   "outputs": [
    {
     "name": "stdout",
     "output_type": "stream",
     "text": [
      "/apps/hive/dev/ke_matcher_team/ke_matcher_adhoc.db/colors_toloka_results\n",
      "/apps/hive/dev/ke_matcher_team/ke_matcher_adhoc.db/colors_toloka_results/_SUCCESS\n",
      "/apps/hive/dev/ke_matcher_team/ke_matcher_adhoc.db/colors_toloka_results/model_id=ViT-B%2F32\n",
      "/apps/hive/dev/ke_matcher_team/ke_matcher_adhoc.db/colors_toloka_results/model_id=ViT-B%2F32/prompt_id=e387a391ec490aade800df0aa24134da\n",
      "/apps/hive/dev/ke_matcher_team/ke_matcher_adhoc.db/colors_toloka_results/model_id=ViT-B%2F32/prompt_id=e387a391ec490aade800df0aa24134da/colors_id=b2c6fa1a1c90224d6bdd294f60719f19\n",
      "/apps/hive/dev/ke_matcher_team/ke_matcher_adhoc.db/colors_toloka_results/model_id=ViT-B%2F32/prompt_id=e387a391ec490aade800df0aa24134da/colors_id=b2c6fa1a1c90224d6bdd294f60719f19/ds=20221201\n",
      "/apps/hive/dev/ke_matcher_team/ke_matcher_adhoc.db/colors_toloka_results/model_id=ViT-B%2F32/prompt_id=e387a391ec490aade800df0aa24134da/colors_id=b2c6fa1a1c90224d6bdd294f60719f19/ds=20221201/part-00000-18e3cb69-b766-40df-ad87-df3d14399909.c000.snappy.parquet\n",
      "/apps/hive/dev/ke_matcher_team/ke_matcher_adhoc.db/colors_toloka_results/model_id=ViT-B%2F32/prompt_id=e387a391ec490aade800df0aa24134da/colors_id=b2c6fa1a1c90224d6bdd294f60719f19/ds=20221201/part-00001-18e3cb69-b766-40df-ad87-df3d14399909.c000.snappy.parquet\n",
      "/apps/hive/dev/ke_matcher_team/ke_matcher_adhoc.db/colors_toloka_results/model_id=ViT-B%2F32/prompt_id=e387a391ec490aade800df0aa24134da/colors_id=b2c6fa1a1c90224d6bdd294f60719f19/ds=20221201/part-00003-18e3cb69-b766-40df-ad87-df3d14399909.c000.snappy.parquet\n",
      "/apps/hive/dev/ke_matcher_team/ke_matcher_adhoc.db/colors_toloka_results/model_id=ViT-B%2F32/prompt_id=e387a391ec490aade800df0aa24134da/colors_id=b2c6fa1a1c90224d6bdd294f60719f19/ds=20221201/part-00004-18e3cb69-b766-40df-ad87-df3d14399909.c000.snappy.parquet\n"
     ]
    }
   ],
   "source": [
    "# Партицированная таблица\n",
    "!hdfs dfs -find /apps/hive/dev/ke_matcher_team/ke_matcher_adhoc.db/colors_toloka_results/ | head -n 10"
   ]
  },
  {
   "cell_type": "markdown",
   "metadata": {},
   "source": [
    "При бакетировании данные в файлах распределяются в соответствии с хэшем от заданной колонки. При одинаковом хэше данные попадут в одинаковый бакет. \n",
    "\n",
    "За счет бакетирования можно ускорить операции типа джойнов. \n",
    "\n",
    "```\n",
    "someDF.write.format(\"parquet\")\n",
    "      .bucketBy(4, \"country\")\n",
    "      .mode(SaveMode.OverWrite)\n",
    "      .saveAsTable(\"someTable\")\n",
    "```\n",
    "\n",
    "```\n",
    "someDF.write.format(\"parquet\")\n",
    "      .partitionBy(\"country\")\n",
    "      .mode(SaveMode.OverWrite)\n",
    "      .saveAsTable(\"someTable\")\n",
    "```"
   ]
  },
  {
   "cell_type": "markdown",
   "metadata": {},
   "source": [
    "## Размер файлов"
   ]
  },
  {
   "cell_type": "markdown",
   "metadata": {},
   "source": [
    "Данные хранятся на hdfs. У hdfs есть ограничение - минимальный размер файла 128Mb. Если данных даже 1 байт, все равно будет записано 128 Mb. \n",
    "\n",
    "После чтения таблицы или джойнов количество партиций будет равно spark.sql.shuffle.partitions, что в ряде случаев может привести к возникновению огромного числа мелких файлов. \n",
    "\n",
    "Если сделать df.repartition(repartition_num, *repartition_cols) перед сохранением таблицы, то можно сделать сохраняемые файлы адекватного размера (512Мб - 1Гб)"
   ]
  },
  {
   "cell_type": "markdown",
   "metadata": {},
   "source": [
    "# UDF introduction"
   ]
  },
  {
   "cell_type": "markdown",
   "metadata": {},
   "source": [
    "Все встроенные udf (pyspark.sql.functional) почти всегда будут быстрее тех, что написали вы. Поэтому старайтесь найти то, что нужно, в стандартных функциях. "
   ]
  },
  {
   "cell_type": "code",
   "execution_count": 9,
   "metadata": {},
   "outputs": [
    {
     "data": {
      "text/html": [
       "<div>\n",
       "<style scoped>\n",
       "    .dataframe tbody tr th:only-of-type {\n",
       "        vertical-align: middle;\n",
       "    }\n",
       "\n",
       "    .dataframe tbody tr th {\n",
       "        vertical-align: top;\n",
       "    }\n",
       "\n",
       "    .dataframe thead th {\n",
       "        text-align: right;\n",
       "    }\n",
       "</style>\n",
       "<table border=\"1\" class=\"dataframe\">\n",
       "  <thead>\n",
       "    <tr style=\"text-align: right;\">\n",
       "      <th></th>\n",
       "      <th>a</th>\n",
       "      <th>b</th>\n",
       "      <th>c</th>\n",
       "    </tr>\n",
       "  </thead>\n",
       "  <tbody>\n",
       "    <tr>\n",
       "      <th>0</th>\n",
       "      <td>1</td>\n",
       "      <td>a</td>\n",
       "      <td>ru : Продукты питания, pt : Alimentos, in : Ma...</td>\n",
       "    </tr>\n",
       "    <tr>\n",
       "      <th>1</th>\n",
       "      <td>2</td>\n",
       "      <td>d</td>\n",
       "      <td>en : Food, it : Cibo</td>\n",
       "    </tr>\n",
       "    <tr>\n",
       "      <th>2</th>\n",
       "      <td>3</td>\n",
       "      <td>b</td>\n",
       "      <td>fr : Alimentaire, ru : Продукты питания</td>\n",
       "    </tr>\n",
       "    <tr>\n",
       "      <th>3</th>\n",
       "      <td>4</td>\n",
       "      <td>c</td>\n",
       "      <td>es : Alimentos, uk : Харчування, in : Makanan,...</td>\n",
       "    </tr>\n",
       "    <tr>\n",
       "      <th>4</th>\n",
       "      <td>5</td>\n",
       "      <td>a</td>\n",
       "      <td>pl : Żywności, nl : voedsel, tr : Gıda, pt : A...</td>\n",
       "    </tr>\n",
       "  </tbody>\n",
       "</table>\n",
       "</div>"
      ],
      "text/plain": [
       "   a  b                                                  c\n",
       "0  1  a  ru : Продукты питания, pt : Alimentos, in : Ma...\n",
       "1  2  d                               en : Food, it : Cibo\n",
       "2  3  b            fr : Alimentaire, ru : Продукты питания\n",
       "3  4  c  es : Alimentos, uk : Харчування, in : Makanan,...\n",
       "4  5  a  pl : Żywności, nl : voedsel, tr : Gıda, pt : A..."
      ]
     },
     "execution_count": 9,
     "metadata": {},
     "output_type": "execute_result"
    }
   ],
   "source": [
    "df = pd.DataFrame(\n",
    "    [\n",
    "        [1, 'a', \"ru : Продукты питания, pt : Alimentos, in : Makanan\"], \n",
    "        [2, 'd', \"en : Food, it : Cibo\"], \n",
    "        [3, 'b', \"fr : Alimentaire, ru : Продукты питания\"], \n",
    "        [4, 'c', \"es : Alimentos, uk : Харчування, in : Makanan, pt : Alimentos\"], \n",
    "        [5, 'a', \"pl : Żywności, nl : voedsel, tr : Gıda, pt : Alimentos\"]\n",
    "        ],\n",
    "    columns=['a', 'b', 'c']\n",
    ")\n",
    "df"
   ]
  },
  {
   "cell_type": "code",
   "execution_count": 16,
   "metadata": {},
   "outputs": [],
   "source": [
    "# spark doesn't check column names!\n",
    "schema = t.StructType([\n",
    "    t.StructField('a', t.IntegerType()),\n",
    "    t.StructField('b', t.StringType()),\n",
    "    t.StructField('c', t.StringType()),\n",
    "])\n",
    "\n",
    "# schema is optional, but now spark doesn't need to create subsample and check columns types\n",
    "spark_df = spark.createDataFrame(df, schema=schema)"
   ]
  },
  {
   "cell_type": "code",
   "execution_count": 17,
   "metadata": {},
   "outputs": [
    {
     "name": "stdout",
     "output_type": "stream",
     "text": [
      "+---+---+---------------------------------------------------+\n",
      "|a  |b  |c                                                  |\n",
      "+---+---+---------------------------------------------------+\n",
      "|1  |a  |ru : Продукты питания, pt : Alimentos, in : Makanan|\n",
      "|2  |d  |en : Food, it : Cibo                               |\n",
      "|3  |b  |fr : Alimentaire, ru : Продукты питания            |\n",
      "+---+---+---------------------------------------------------+\n",
      "only showing top 3 rows\n",
      "\n"
     ]
    }
   ],
   "source": [
    "spark_df.show(3, truncate=False)"
   ]
  },
  {
   "cell_type": "markdown",
   "metadata": {},
   "source": [
    "## Simple UDF"
   ]
  },
  {
   "cell_type": "code",
   "execution_count": 18,
   "metadata": {},
   "outputs": [],
   "source": [
    "test_udf = f.udf(lambda x: x**2 if x is not None else None, t.LongType())"
   ]
  },
  {
   "cell_type": "code",
   "execution_count": 19,
   "metadata": {},
   "outputs": [
    {
     "name": "stdout",
     "output_type": "stream",
     "text": [
      "+---+-----------+\n",
      "|a  |<lambda>(a)|\n",
      "+---+-----------+\n",
      "|1  |1          |\n",
      "|2  |4          |\n",
      "|3  |9          |\n",
      "|4  |16         |\n",
      "|5  |25         |\n",
      "+---+-----------+\n",
      "\n"
     ]
    }
   ],
   "source": [
    "spark_df.select(\"a\", test_udf(\"a\")).show(5, False)"
   ]
  },
  {
   "cell_type": "markdown",
   "metadata": {},
   "source": [
    "## Multiple columns in UDF?"
   ]
  },
  {
   "cell_type": "code",
   "execution_count": 20,
   "metadata": {},
   "outputs": [],
   "source": [
    "@f.udf(t.StructType([t.StructField(\"foo\", t.LongType(), False), t.StructField(\"bar\", t.LongType(), False)]))\n",
    "def multiple_values_udf(x):\n",
    "    return (x // 2, x % 2) if x else (float('nan'), float('nan'))"
   ]
  },
  {
   "cell_type": "code",
   "execution_count": 21,
   "metadata": {},
   "outputs": [
    {
     "name": "stdout",
     "output_type": "stream",
     "text": [
      "+---+------+\n",
      "|  a|   baz|\n",
      "+---+------+\n",
      "|  1|{0, 1}|\n",
      "|  2|{1, 0}|\n",
      "|  3|{1, 1}|\n",
      "|  4|{2, 0}|\n",
      "|  5|{2, 1}|\n",
      "+---+------+\n",
      "\n",
      "root\n",
      " |-- a: integer (nullable = true)\n",
      " |-- baz: struct (nullable = true)\n",
      " |    |-- foo: long (nullable = false)\n",
      " |    |-- bar: long (nullable = false)\n",
      "\n"
     ]
    }
   ],
   "source": [
    "spark_df.select('a', multiple_values_udf('a').alias('baz')).show(5)\n",
    "spark_df.select('a', multiple_values_udf('a').alias('baz')).printSchema()"
   ]
  },
  {
   "cell_type": "code",
   "execution_count": 23,
   "metadata": {},
   "outputs": [
    {
     "name": "stdout",
     "output_type": "stream",
     "text": [
      "+---+---+---+\n",
      "|  a|foo|bar|\n",
      "+---+---+---+\n",
      "|  1|  0|  1|\n",
      "|  2|  1|  0|\n",
      "|  3|  1|  1|\n",
      "|  4|  2|  0|\n",
      "|  5|  2|  1|\n",
      "+---+---+---+\n",
      "\n"
     ]
    }
   ],
   "source": [
    "spark_df.select('a', multiple_values_udf('a').alias('baz')).select(\"a\", \"baz.foo\", 'baz.bar').show(5)"
   ]
  },
  {
   "cell_type": "markdown",
   "metadata": {},
   "source": [
    "## Return dict"
   ]
  },
  {
   "cell_type": "code",
   "execution_count": 24,
   "metadata": {},
   "outputs": [],
   "source": [
    "@f.udf(t.MapType(t.StringType(), t.StringType()))\n",
    "def parse_feature(s):\n",
    "    features = {}\n",
    "    if isinstance(s, str):\n",
    "        for subs in s.split(','):\n",
    "            subs_split = subs.split(':')\n",
    "            features[subs_split[0].lower().strip()] = subs_split[1].strip()\n",
    "    return features\n"
   ]
  },
  {
   "cell_type": "code",
   "execution_count": 25,
   "metadata": {},
   "outputs": [
    {
     "name": "stdout",
     "output_type": "stream",
     "text": [
      "+---------------------------------------------------+--------------------------------------------------------+\n",
      "|c                                                  |lang_dict                                               |\n",
      "+---------------------------------------------------+--------------------------------------------------------+\n",
      "|ru : Продукты питания, pt : Alimentos, in : Makanan|{ru -> Продукты питания, pt -> Alimentos, in -> Makanan}|\n",
      "|en : Food, it : Cibo                               |{en -> Food, it -> Cibo}                                |\n",
      "|fr : Alimentaire, ru : Продукты питания            |{fr -> Alimentaire, ru -> Продукты питания}             |\n",
      "+---------------------------------------------------+--------------------------------------------------------+\n",
      "only showing top 3 rows\n",
      "\n"
     ]
    }
   ],
   "source": [
    "spark_df.select(\"c\", parse_feature(\"c\").alias(\"lang_dict\")).show(3, False)"
   ]
  },
  {
   "cell_type": "code",
   "execution_count": 26,
   "metadata": {},
   "outputs": [],
   "source": [
    "new_df = (\n",
    "    spark_df\n",
    "    .select(\n",
    "        \"a\", \n",
    "        \"b\", \n",
    "        \"c\", \n",
    "        f.explode(parse_feature(\"c\")).alias(\"res_language\", \"category_desc\"))\n",
    ")"
   ]
  },
  {
   "cell_type": "code",
   "execution_count": 27,
   "metadata": {},
   "outputs": [
    {
     "name": "stdout",
     "output_type": "stream",
     "text": [
      "+---+---+-------------------------------------------------------------+------------+----------------+\n",
      "|a  |b  |c                                                            |res_language|category_desc   |\n",
      "+---+---+-------------------------------------------------------------+------------+----------------+\n",
      "|1  |a  |ru : Продукты питания, pt : Alimentos, in : Makanan          |ru          |Продукты питания|\n",
      "|1  |a  |ru : Продукты питания, pt : Alimentos, in : Makanan          |pt          |Alimentos       |\n",
      "|1  |a  |ru : Продукты питания, pt : Alimentos, in : Makanan          |in          |Makanan         |\n",
      "|2  |d  |en : Food, it : Cibo                                         |en          |Food            |\n",
      "|2  |d  |en : Food, it : Cibo                                         |it          |Cibo            |\n",
      "|3  |b  |fr : Alimentaire, ru : Продукты питания                      |fr          |Alimentaire     |\n",
      "|3  |b  |fr : Alimentaire, ru : Продукты питания                      |ru          |Продукты питания|\n",
      "|4  |c  |es : Alimentos, uk : Харчування, in : Makanan, pt : Alimentos|pt          |Alimentos       |\n",
      "|4  |c  |es : Alimentos, uk : Харчування, in : Makanan, pt : Alimentos|in          |Makanan         |\n",
      "|4  |c  |es : Alimentos, uk : Харчування, in : Makanan, pt : Alimentos|uk          |Харчування      |\n",
      "|4  |c  |es : Alimentos, uk : Харчування, in : Makanan, pt : Alimentos|es          |Alimentos       |\n",
      "|5  |a  |pl : Żywności, nl : voedsel, tr : Gıda, pt : Alimentos       |pt          |Alimentos       |\n",
      "|5  |a  |pl : Żywności, nl : voedsel, tr : Gıda, pt : Alimentos       |pl          |Żywności        |\n",
      "|5  |a  |pl : Żywności, nl : voedsel, tr : Gıda, pt : Alimentos       |tr          |Gıda            |\n",
      "|5  |a  |pl : Żywności, nl : voedsel, tr : Gıda, pt : Alimentos       |nl          |voedsel         |\n",
      "+---+---+-------------------------------------------------------------+------------+----------------+\n",
      "\n"
     ]
    }
   ],
   "source": [
    "new_df.show(100, False)"
   ]
  },
  {
   "cell_type": "markdown",
   "metadata": {},
   "source": [
    "# Aggregation and window functions"
   ]
  },
  {
   "cell_type": "code",
   "execution_count": 28,
   "metadata": {},
   "outputs": [
    {
     "name": "stdout",
     "output_type": "stream",
     "text": [
      "+--------+---------------+--------------------------+\n",
      "|language|collect_list(a)|collect_set(category_desc)|\n",
      "+--------+---------------+--------------------------+\n",
      "|pt      |[4, 1, 5]      |[Alimentos]               |\n",
      "|in      |[4, 1]         |[Makanan]                 |\n",
      "|es      |[4]            |[Alimentos]               |\n",
      "|uk      |[4]            |[Харчування]              |\n",
      "|ru      |[1, 3]         |[Продукты питания]        |\n",
      "|fr      |[3]            |[Alimentaire]             |\n",
      "|it      |[2]            |[Cibo]                    |\n",
      "|en      |[2]            |[Food]                    |\n",
      "|tr      |[5]            |[Gıda]                    |\n",
      "|nl      |[5]            |[voedsel]                 |\n",
      "|pl      |[5]            |[Żywności]                |\n",
      "+--------+---------------+--------------------------+\n",
      "\n"
     ]
    }
   ],
   "source": [
    "(\n",
    "    new_df\n",
    "    .groupBy('res_language')  # may be multiple columns\n",
    "    .agg(f.collect_list('a'), f.collect_set('category_desc'))\n",
    "    .withColumnRenamed('res_language', 'language')\n",
    ").show(100, False)"
   ]
  },
  {
   "cell_type": "code",
   "execution_count": 29,
   "metadata": {},
   "outputs": [
    {
     "name": "stdout",
     "output_type": "stream",
     "text": [
      "+---+---+-------------------------------------------------------------+------------+----------------+---+\n",
      "|a  |b  |c                                                            |res_language|category_desc   |rn |\n",
      "+---+---+-------------------------------------------------------------+------------+----------------+---+\n",
      "|2  |d  |en : Food, it : Cibo                                         |en          |Food            |1  |\n",
      "|4  |c  |es : Alimentos, uk : Харчування, in : Makanan, pt : Alimentos|es          |Alimentos       |1  |\n",
      "|3  |b  |fr : Alimentaire, ru : Продукты питания                      |fr          |Alimentaire     |1  |\n",
      "|4  |c  |es : Alimentos, uk : Харчування, in : Makanan, pt : Alimentos|in          |Makanan         |1  |\n",
      "|1  |a  |ru : Продукты питания, pt : Alimentos, in : Makanan          |in          |Makanan         |2  |\n",
      "|2  |d  |en : Food, it : Cibo                                         |it          |Cibo            |1  |\n",
      "|5  |a  |pl : Żywności, nl : voedsel, tr : Gıda, pt : Alimentos       |nl          |voedsel         |1  |\n",
      "|5  |a  |pl : Żywności, nl : voedsel, tr : Gıda, pt : Alimentos       |pl          |Żywności        |1  |\n",
      "|4  |c  |es : Alimentos, uk : Харчування, in : Makanan, pt : Alimentos|pt          |Alimentos       |1  |\n",
      "|5  |a  |pl : Żywności, nl : voedsel, tr : Gıda, pt : Alimentos       |pt          |Alimentos       |2  |\n",
      "|1  |a  |ru : Продукты питания, pt : Alimentos, in : Makanan          |pt          |Alimentos       |3  |\n",
      "|1  |a  |ru : Продукты питания, pt : Alimentos, in : Makanan          |ru          |Продукты питания|1  |\n",
      "|3  |b  |fr : Alimentaire, ru : Продукты питания                      |ru          |Продукты питания|2  |\n",
      "|5  |a  |pl : Żywności, nl : voedsel, tr : Gıda, pt : Alimentos       |tr          |Gıda            |1  |\n",
      "|4  |c  |es : Alimentos, uk : Харчування, in : Makanan, pt : Alimentos|uk          |Харчування      |1  |\n",
      "+---+---+-------------------------------------------------------------+------------+----------------+---+\n",
      "\n"
     ]
    }
   ],
   "source": [
    "new_df_rn = (\n",
    "    new_df\n",
    "    .withColumn(\n",
    "        'rn', f.row_number().over(\n",
    "            w.partitionBy(\"res_language\").orderBy(f.length('c').desc())\n",
    "        )\n",
    "    )\n",
    ")\n",
    "new_df_rn.show(100, False)"
   ]
  },
  {
   "cell_type": "markdown",
   "metadata": {},
   "source": [
    "# Pivot"
   ]
  },
  {
   "cell_type": "code",
   "execution_count": 82,
   "metadata": {},
   "outputs": [
    {
     "name": "stdout",
     "output_type": "stream",
     "text": [
      "root\n",
      " |-- Product: string (nullable = true)\n",
      " |-- Amount: long (nullable = true)\n",
      " |-- Country: string (nullable = true)\n",
      "\n",
      "+-------+------+-------+\n",
      "|Product|Amount|Country|\n",
      "+-------+------+-------+\n",
      "|Banana |1000  |USA    |\n",
      "|Carrots|1500  |USA    |\n",
      "|Beans  |1600  |USA    |\n",
      "|Orange |2000  |USA    |\n",
      "|Orange |2000  |USA    |\n",
      "|Banana |400   |China  |\n",
      "|Carrots|1200  |China  |\n",
      "|Beans  |1500  |China  |\n",
      "|Orange |4000  |China  |\n",
      "|Banana |2000  |Canada |\n",
      "|Carrots|2000  |Canada |\n",
      "|Beans  |2000  |Mexico |\n",
      "+-------+------+-------+\n",
      "\n"
     ]
    }
   ],
   "source": [
    "data = [\n",
    "    (\"Banana\", 1000, \"USA\"), (\"Carrots\", 1500, \"USA\"), (\"Beans\", 1600, \"USA\"),\n",
    "    (\"Orange\", 2000, \"USA\"),(\"Orange\", 2000, \"USA\"),(\"Banana\", 400, \"China\"),\n",
    "    (\"Carrots\", 1200, \"China\"),(\"Beans\", 1500, \"China\"),(\"Orange\", 4000, \"China\"),\n",
    "    (\"Banana\", 2000, \"Canada\"),(\"Carrots\", 2000, \"Canada\"),(\"Beans\", 2000, \"Mexico\")\n",
    "]\n",
    "columns = [\"Product\",\"Amount\",\"Country\"]\n",
    "df = spark.createDataFrame(data=data, schema=columns)\n",
    "df.printSchema()\n",
    "df.show(truncate=False)\n"
   ]
  },
  {
   "cell_type": "code",
   "execution_count": 83,
   "metadata": {},
   "outputs": [
    {
     "name": "stdout",
     "output_type": "stream",
     "text": [
      "root\n",
      " |-- Product: string (nullable = true)\n",
      " |-- Canada: long (nullable = true)\n",
      " |-- China: long (nullable = true)\n",
      " |-- Mexico: long (nullable = true)\n",
      " |-- USA: long (nullable = true)\n",
      "\n",
      "+-------+------+-----+------+----+\n",
      "|Product|Canada|China|Mexico|USA |\n",
      "+-------+------+-----+------+----+\n",
      "|Orange |null  |4000 |null  |4000|\n",
      "|Banana |2000  |400  |null  |1000|\n",
      "|Carrots|2000  |1200 |null  |1500|\n",
      "|Beans  |null  |1500 |2000  |1600|\n",
      "+-------+------+-----+------+----+\n",
      "\n"
     ]
    }
   ],
   "source": [
    "pivotDF = df.groupBy(\"Product\").pivot(\"Country\").sum(\"Amount\")\n",
    "pivotDF.printSchema()\n",
    "pivotDF.show(truncate=False)"
   ]
  },
  {
   "cell_type": "code",
   "execution_count": 84,
   "metadata": {},
   "outputs": [
    {
     "name": "stdout",
     "output_type": "stream",
     "text": [
      "+-------+------+-----+------+----+\n",
      "|Product|Canada|China|Mexico|USA |\n",
      "+-------+------+-----+------+----+\n",
      "|Orange |null  |4000 |null  |4000|\n",
      "|Banana |2000  |400  |null  |1000|\n",
      "|Carrots|2000  |1200 |null  |1500|\n",
      "|Beans  |null  |1500 |2000  |1600|\n",
      "+-------+------+-----+------+----+\n",
      "\n"
     ]
    }
   ],
   "source": [
    "pivotDF = (\n",
    "    df\n",
    "    .groupBy(\"Product\",\"Country\")\n",
    "    .sum(\"Amount\")\n",
    "    .groupBy(\"Product\")\n",
    "    .pivot(\"Country\")\n",
    "    .sum(\"sum(Amount)\")\n",
    ")\n",
    "\n",
    "pivotDF.show(truncate=False)"
   ]
  },
  {
   "cell_type": "markdown",
   "metadata": {},
   "source": [
    "# PandasUDF\n",
    "\n",
    "Pandas UDFs are user defined functions that are executed by Spark using Arrow to transfer data and Pandas to work with the data, which allows vectorized operations. A Pandas UDF is defined using the pandas_udf as a decorator or to wrap the function, and no additional configuration is required. A Pandas UDF behaves as a regular PySpark function API in general.\n",
    "\n",
    "https://spark.apache.org/docs/latest/api/python/reference/api/pyspark.sql.functions.pandas_udf.html"
   ]
  },
  {
   "cell_type": "code",
   "execution_count": 30,
   "metadata": {},
   "outputs": [],
   "source": [
    "@f.pandas_udf(\"string\")\n",
    "def part_length(col):\n",
    "    return pd.Series([str(uuid.uuid4())] * len(col))\n",
    "\n",
    "@f.pandas_udf(\"long\")\n",
    "def add_one(col):\n",
    "    return col + 1"
   ]
  },
  {
   "cell_type": "code",
   "execution_count": 31,
   "metadata": {},
   "outputs": [
    {
     "name": "stdout",
     "output_type": "stream",
     "text": [
      "+---+---+------------+------------------------------------+---+\n",
      "|a  |b  |res_language|part_id                             |a+1|\n",
      "+---+---+------------+------------------------------------+---+\n",
      "|3  |b  |ru          |49f29a18-85e3-472a-bc39-e240a51556ce|4  |\n",
      "|5  |a  |pl          |49f29a18-85e3-472a-bc39-e240a51556ce|6  |\n",
      "|4  |c  |es          |49f29a18-85e3-472a-bc39-e240a51556ce|5  |\n",
      "|2  |d  |it          |5a56b390-6652-4a51-bc54-05c912c9f919|3  |\n",
      "|1  |a  |ru          |5a56b390-6652-4a51-bc54-05c912c9f919|2  |\n",
      "|5  |a  |pt          |5a56b390-6652-4a51-bc54-05c912c9f919|6  |\n",
      "|4  |c  |pt          |5a56b390-6652-4a51-bc54-05c912c9f919|5  |\n",
      "|1  |a  |in          |0c0e6397-b07f-43c5-9e75-83ef5ad1ff88|2  |\n",
      "|2  |d  |en          |0c0e6397-b07f-43c5-9e75-83ef5ad1ff88|3  |\n",
      "|4  |c  |in          |0c0e6397-b07f-43c5-9e75-83ef5ad1ff88|5  |\n",
      "|4  |c  |uk          |c35f2940-96af-4d0b-a192-b841c28bb3f6|5  |\n",
      "|5  |a  |nl          |c35f2940-96af-4d0b-a192-b841c28bb3f6|6  |\n",
      "|1  |a  |pt          |c35f2940-96af-4d0b-a192-b841c28bb3f6|2  |\n",
      "|3  |b  |fr          |d38ea0df-c9c8-405c-b2f2-cd5f27d75711|4  |\n",
      "|5  |a  |tr          |d38ea0df-c9c8-405c-b2f2-cd5f27d75711|6  |\n",
      "+---+---+------------+------------------------------------+---+\n",
      "\n"
     ]
    }
   ],
   "source": [
    "(\n",
    "    new_df_rn\n",
    "    .repartition(5)\n",
    "    .select('a', 'b', 'res_language', part_length('a').alias('part_id'))\n",
    "    .withColumn('a+1', add_one('a'))\n",
    ").show(100, False)"
   ]
  },
  {
   "cell_type": "code",
   "execution_count": 32,
   "metadata": {},
   "outputs": [],
   "source": [
    "@f.pandas_udf(\"col1 long, col2 string\")\n",
    "def stupidudf(col_a: pd.Series, col_b: pd.Series, col_rn: pd.Series) -> pd.DataFrame:\n",
    "    # you can use here sklearn model\n",
    "    result = pd.DataFrame(col_a + col_rn, columns=['col1'])\n",
    "    result['col2'] = col_b + '_'\n",
    "    return result"
   ]
  },
  {
   "cell_type": "code",
   "execution_count": 33,
   "metadata": {},
   "outputs": [
    {
     "name": "stdout",
     "output_type": "stream",
     "text": [
      "+---+---+---+-------------------+\n",
      "|  a|  b| rn|stupidudf(a, b, rn)|\n",
      "+---+---+---+-------------------+\n",
      "|  2|  d|  1|            {3, d_}|\n",
      "|  4|  c|  1|            {5, c_}|\n",
      "|  3|  b|  1|            {4, b_}|\n",
      "|  4|  c|  1|            {5, c_}|\n",
      "|  1|  a|  2|            {3, a_}|\n",
      "|  2|  d|  1|            {3, d_}|\n",
      "|  5|  a|  1|            {6, a_}|\n",
      "|  5|  a|  1|            {6, a_}|\n",
      "|  4|  c|  1|            {5, c_}|\n",
      "|  5|  a|  2|            {7, a_}|\n",
      "|  1|  a|  3|            {4, a_}|\n",
      "|  1|  a|  1|            {2, a_}|\n",
      "|  3|  b|  2|            {5, b_}|\n",
      "|  5|  a|  1|            {6, a_}|\n",
      "|  4|  c|  1|            {5, c_}|\n",
      "+---+---+---+-------------------+\n",
      "\n"
     ]
    }
   ],
   "source": [
    "new_df_rn.select('a', 'b', 'rn', stupidudf('a', 'b', 'rn')).show(100)"
   ]
  },
  {
   "cell_type": "markdown",
   "metadata": {},
   "source": [
    "# Batch rename columns\n",
    "\n",
    "А нет его"
   ]
  },
  {
   "cell_type": "code",
   "execution_count": 23,
   "metadata": {},
   "outputs": [],
   "source": [
    "spark.stop()"
   ]
  },
  {
   "cell_type": "markdown",
   "metadata": {},
   "source": [
    "# Е%&@ие джойны\n",
    "\n",
    "### да и вообще управление памятью"
   ]
  },
  {
   "cell_type": "markdown",
   "metadata": {},
   "source": [
    "Надо бы упомянуть, что джойны и группировки - одни из самых тяжелых операций. Избегайте их\n",
    "\n",
    "Тут должна была быть демонстрация, как за счет правильного партиционирования скорость джойна двух таблиц возрастает. Но к в версии 3.0 Spark был довольно сильно допилен в плане производительности. В общем, факир был пьян, и фокус не удался.\n",
    "\n",
    "- `spark.sql.autoBroadcastJoinThreshold`: Configures the maximum size in bytes for a table that will be broadcast to all worker nodes when performing a join. By setting this value to -1 broadcasting can be disabled. May cause OOM\n",
    "\n",
    "https://spark.apache.org/docs/latest/sql-performance-tuning.html"
   ]
  },
  {
   "attachments": {
    "b24ec2db-2706-4f98-bef9-a729efe6bfe5.png": {
     "image/png": "[encoded data removed]"
    }
   },
   "cell_type": "markdown",
   "metadata": {
    "Collapsed": "false"
   },
   "source": [
    "![image.png](attachment:b24ec2db-2706-4f98-bef9-a729efe6bfe5.png)"
   ]
  },
  {
   "cell_type": "code",
   "execution_count": 3,
   "metadata": {},
   "outputs": [],
   "source": [
    "import time \n",
    "\n",
    "cores = 4\n",
    "num_executors = 50\n",
    "memory = '5g'\n",
    "memory_overhead = '512m'\n",
    "executor_memory = '1g'"
   ]
  },
  {
   "cell_type": "code",
   "execution_count": 4,
   "metadata": {},
   "outputs": [
    {
     "data": {
      "text/html": [
       "\n",
       "            <div>\n",
       "                <p><b>SparkSession - hive</b></p>\n",
       "                \n",
       "        <div>\n",
       "            <p><b>SparkContext</b></p>\n",
       "\n",
       "            <p><a href=\"http://10.58.139.14:4058\">Spark UI</a></p>\n",
       "\n",
       "            <dl>\n",
       "              <dt>Version</dt>\n",
       "                <dd><code>v3.2.2</code></dd>\n",
       "              <dt>Master</dt>\n",
       "                <dd><code>yarn</code></dd>\n",
       "              <dt>AppName</dt>\n",
       "                <dd><code>spark-test-app</code></dd>\n",
       "            </dl>\n",
       "        </div>\n",
       "        \n",
       "            </div>\n",
       "        "
      ],
      "text/plain": [
       "<pyspark.sql.session.SparkSession at 0x7f70f42dd0d0>"
      ]
     },
     "execution_count": 4,
     "metadata": {},
     "output_type": "execute_result"
    }
   ],
   "source": [
    "spark = get_context(\n",
    "    app_name, queue, memory, executor_memory, memory_overhead, num_executors, cores, env_archive=env_archive, broadcasting=False\n",
    ")\n",
    "spark"
   ]
  },
  {
   "cell_type": "code",
   "execution_count": 5,
   "metadata": {},
   "outputs": [
    {
     "name": "stdout",
     "output_type": "stream",
     "text": [
      "9084\n"
     ]
    }
   ],
   "source": [
    "small_df = spark.table(\"ke_matcher.ali_local_category_df\").where(f.col(\"ds\") == \"20240715\").withColumnRenamed('category_id', 'local_category_id')\n",
    "print(small_df.cache().count())"
   ]
  },
  {
   "cell_type": "code",
   "execution_count": 6,
   "metadata": {},
   "outputs": [
    {
     "name": "stdout",
     "output_type": "stream",
     "text": [
      "227849856\n"
     ]
    }
   ],
   "source": [
    "big_df = spark.table(\"ke_matcher.ali_item_df\").where(f.col(\"ds\") == \"20240715\").select(\"item_id\", \"local_category_id\")\n",
    "print(big_df.cache().count())"
   ]
  },
  {
   "cell_type": "markdown",
   "metadata": {},
   "source": [
    "- number of partitions and number of executors are different\n",
    "- partitions distributed unevenly (ApplicationMaster -> Storage -> {table name} -> Data Distribution)"
   ]
  },
  {
   "cell_type": "code",
   "execution_count": 7,
   "metadata": {},
   "outputs": [
    {
     "name": "stdout",
     "output_type": "stream",
     "text": [
      "59.84935808181763\n"
     ]
    }
   ],
   "source": [
    "start = time.time()\n",
    "\n",
    "(\n",
    "    big_df\n",
    "    .orderBy(f.rand())\n",
    "    .join(small_df, on='local_category_id')\n",
    ").count()\n",
    "\n",
    "time_spent = time.time() - start\n",
    "print(time_spent)"
   ]
  },
  {
   "cell_type": "markdown",
   "metadata": {},
   "source": [
    "* uneven task distribution"
   ]
  },
  {
   "cell_type": "code",
   "execution_count": 8,
   "metadata": {},
   "outputs": [],
   "source": [
    "spark.stop()"
   ]
  },
  {
   "cell_type": "code",
   "execution_count": 9,
   "metadata": {},
   "outputs": [
    {
     "name": "stdout",
     "output_type": "stream",
     "text": [
      "9084\n",
      "227849856\n"
     ]
    }
   ],
   "source": [
    "spark = get_context(\n",
    "    app_name, queue, memory, executor_memory, memory_overhead, num_executors, cores, env_archive=env_archive, broadcasting=False\n",
    ")\n",
    "\n",
    "small_df = spark.table(\"ke_matcher.ali_local_category_df\").where(f.col(\"ds\") == \"20240715\").withColumnRenamed('category_id', 'local_category_id')\n",
    "print(small_df.cache().count())\n",
    "big_df = spark.table(\"ke_matcher.ali_item_df\").where(f.col(\"ds\") == \"20240715\").select(\"item_id\", \"local_category_id\")\n",
    "print(big_df.cache().count())"
   ]
  },
  {
   "cell_type": "code",
   "execution_count": 10,
   "metadata": {},
   "outputs": [
    {
     "name": "stdout",
     "output_type": "stream",
     "text": [
      "24.547136545181274\n"
     ]
    }
   ],
   "source": [
    "start = time.time()\n",
    "\n",
    "(\n",
    "    small_df\n",
    "    .join(big_df.orderBy(f.rand()), on='local_category_id')\n",
    ").count()\n",
    "\n",
    "time_spent = time.time() - start\n",
    "print(time_spent)"
   ]
  },
  {
   "cell_type": "code",
   "execution_count": 11,
   "metadata": {},
   "outputs": [],
   "source": [
    "spark.stop()"
   ]
  },
  {
   "cell_type": "markdown",
   "metadata": {},
   "source": [
    "### repartition big df"
   ]
  },
  {
   "cell_type": "code",
   "execution_count": 12,
   "metadata": {},
   "outputs": [
    {
     "name": "stdout",
     "output_type": "stream",
     "text": [
      "9084\n",
      "227849856\n"
     ]
    }
   ],
   "source": [
    "spark = get_context(\n",
    "    app_name, queue, memory, executor_memory, memory_overhead, num_executors, cores, env_archive=env_archive, broadcasting=False\n",
    ")\n",
    "\n",
    "small_df = spark.table(\"ke_matcher.ali_local_category_df\").where(f.col(\"ds\") == \"20240715\").withColumnRenamed('category_id', 'local_category_id')\n",
    "print(small_df.cache().count())\n",
    "big_df = spark.table(\"ke_matcher.ali_item_df\").where(f.col(\"ds\") == \"20240715\").select(\"item_id\", \"local_category_id\").repartition(num_executors * cores)\n",
    "print(big_df.cache().count())"
   ]
  },
  {
   "cell_type": "code",
   "execution_count": 13,
   "metadata": {},
   "outputs": [
    {
     "name": "stdout",
     "output_type": "stream",
     "text": [
      "17.294583320617676\n"
     ]
    }
   ],
   "source": [
    "start = time.time()\n",
    "\n",
    "(\n",
    "    big_df\n",
    "    .join(small_df, on='local_category_id')\n",
    ").count()\n",
    "\n",
    "time_spent = time.time() - start\n",
    "print(time_spent)"
   ]
  },
  {
   "cell_type": "markdown",
   "metadata": {},
   "source": [
    "- tasks distribution a bit better"
   ]
  },
  {
   "cell_type": "code",
   "execution_count": 14,
   "metadata": {},
   "outputs": [],
   "source": [
    "spark.stop()"
   ]
  },
  {
   "cell_type": "markdown",
   "metadata": {},
   "source": [
    "### repartition both df"
   ]
  },
  {
   "cell_type": "code",
   "execution_count": 15,
   "metadata": {},
   "outputs": [
    {
     "name": "stdout",
     "output_type": "stream",
     "text": [
      "9084\n",
      "227849856\n"
     ]
    }
   ],
   "source": [
    "spark = get_context(\n",
    "    app_name, queue, memory, executor_memory, memory_overhead, num_executors, cores, env_archive=env_archive, broadcasting=False\n",
    ")\n",
    "\n",
    "small_df = (\n",
    "    spark.table(\"ke_matcher.ali_local_category_df\")\n",
    "    .where(f.col(\"ds\") == \"20240715\")\n",
    "    .withColumnRenamed('category_id', 'local_category_id')\n",
    "    .repartition(num_executors * cores)\n",
    ")\n",
    "print(small_df.cache().count())\n",
    "big_df = spark.table(\"ke_matcher.ali_item_df\").where(f.col(\"ds\") == \"20240715\").select(\"item_id\", \"local_category_id\").repartition(num_executors * cores)\n",
    "print(big_df.cache().count())"
   ]
  },
  {
   "cell_type": "code",
   "execution_count": 16,
   "metadata": {},
   "outputs": [
    {
     "name": "stdout",
     "output_type": "stream",
     "text": [
      "37.45998430252075\n"
     ]
    }
   ],
   "source": [
    "start = time.time()\n",
    "\n",
    "(\n",
    "    big_df\n",
    "    .join(small_df, on='local_category_id')\n",
    ").count()\n",
    "\n",
    "time_spent = time.time() - start\n",
    "print(time_spent)"
   ]
  },
  {
   "cell_type": "markdown",
   "metadata": {},
   "source": [
    "- very good task distribution"
   ]
  },
  {
   "cell_type": "code",
   "execution_count": 17,
   "metadata": {},
   "outputs": [],
   "source": [
    "spark.stop()"
   ]
  },
  {
   "cell_type": "markdown",
   "metadata": {},
   "source": [
    "### repartition by joining column"
   ]
  },
  {
   "cell_type": "code",
   "execution_count": 18,
   "metadata": {},
   "outputs": [
    {
     "name": "stdout",
     "output_type": "stream",
     "text": [
      "9084\n",
      "227849856\n"
     ]
    }
   ],
   "source": [
    "spark = get_context(\n",
    "    app_name, queue, memory, executor_memory, memory_overhead, num_executors, cores, env_archive=env_archive, broadcasting=False\n",
    ")\n",
    "\n",
    "small_df = (\n",
    "    spark.table(\"ke_matcher.ali_local_category_df\")\n",
    "    .where(f.col(\"ds\") == \"20240715\")\n",
    "    .withColumnRenamed('category_id', 'local_category_id')\n",
    "    .repartition(num_executors * cores, 'local_category_id')\n",
    ")\n",
    "print(small_df.cache().count())\n",
    "big_df = (\n",
    "    spark.table(\"ke_matcher.ali_item_df\")\n",
    "    .where(f.col(\"ds\") == \"20240715\")\n",
    "    .select(\"item_id\", \"local_category_id\")\n",
    "    .repartition(num_executors * cores, 'local_category_id')\n",
    ")\n",
    "print(big_df.cache().count())"
   ]
  },
  {
   "cell_type": "code",
   "execution_count": 19,
   "metadata": {},
   "outputs": [
    {
     "name": "stdout",
     "output_type": "stream",
     "text": [
      "15.841824531555176\n"
     ]
    }
   ],
   "source": [
    "start = time.time()\n",
    "\n",
    "(\n",
    "    big_df\n",
    "    .join(small_df, on='local_category_id')\n",
    ").count()\n",
    "\n",
    "time_spent = time.time() - start\n",
    "print(time_spent)"
   ]
  },
  {
   "cell_type": "code",
   "execution_count": 20,
   "metadata": {},
   "outputs": [],
   "source": [
    "spark.stop()"
   ]
  },
  {
   "cell_type": "markdown",
   "metadata": {},
   "source": [
    "### enable broadcasting"
   ]
  },
  {
   "cell_type": "code",
   "execution_count": 21,
   "metadata": {},
   "outputs": [
    {
     "name": "stdout",
     "output_type": "stream",
     "text": [
      "9084\n",
      "227849856\n"
     ]
    }
   ],
   "source": [
    "spark = get_context(\n",
    "    app_name, queue, memory, executor_memory, memory_overhead, num_executors, cores, env_archive=env_archive, broadcasting=True\n",
    ")\n",
    "\n",
    "small_df = (\n",
    "    spark.table(\"ke_matcher.ali_local_category_df\")\n",
    "    .where(f.col(\"ds\") == \"20240715\")\n",
    "    .withColumnRenamed('category_id', 'local_category_id')\n",
    "    .repartition(num_executors * cores, 'local_category_id')\n",
    ")\n",
    "print(small_df.cache().count())\n",
    "big_df = (\n",
    "    spark.table(\"ke_matcher.ali_item_df\")\n",
    "    .where(f.col(\"ds\") == \"20240715\")\n",
    "    .select(\"item_id\", \"local_category_id\")\n",
    "    .repartition(num_executors * cores, 'local_category_id')\n",
    ")\n",
    "print(big_df.cache().count())"
   ]
  },
  {
   "cell_type": "code",
   "execution_count": 22,
   "metadata": {},
   "outputs": [
    {
     "name": "stdout",
     "output_type": "stream",
     "text": [
      "12.69487476348877\n"
     ]
    }
   ],
   "source": [
    "start = time.time()\n",
    "\n",
    "(\n",
    "    big_df\n",
    "    .join(small_df, on='local_category_id')\n",
    ").count()\n",
    "\n",
    "time_spent = time.time() - start\n",
    "print(time_spent)"
   ]
  },
  {
   "cell_type": "code",
   "execution_count": 23,
   "metadata": {},
   "outputs": [
    {
     "name": "stdout",
     "output_type": "stream",
     "text": [
      "3.59328556060791\n"
     ]
    }
   ],
   "source": [
    "start = time.time()\n",
    "\n",
    "(\n",
    "    big_df\n",
    "    .join(f.broadcast(small_df), on='local_category_id')\n",
    ").count()\n",
    "\n",
    "time_spent = time.time() - start\n",
    "print(time_spent)"
   ]
  },
  {
   "cell_type": "code",
   "execution_count": 24,
   "metadata": {},
   "outputs": [
    {
     "name": "stdout",
     "output_type": "stream",
     "text": [
      "2.8745150566101074\n"
     ]
    }
   ],
   "source": [
    "start = time.time()\n",
    "(\n",
    "    big_df\n",
    "    .join(small_df.hint(\"broadcast\"), on='local_category_id')\n",
    ").count()\n",
    "\n",
    "time_spent = time.time() - start\n",
    "print(time_spent)"
   ]
  },
  {
   "cell_type": "code",
   "execution_count": 25,
   "metadata": {},
   "outputs": [],
   "source": [
    "spark.stop()"
   ]
  },
  {
   "cell_type": "markdown",
   "metadata": {},
   "source": [
    "## GroupBy"
   ]
  },
  {
   "cell_type": "code",
   "execution_count": 26,
   "metadata": {},
   "outputs": [],
   "source": [
    "import time \n",
    "\n",
    "cores = 4\n",
    "num_executors = 50\n",
    "memory = '5g'\n",
    "memory_overhead = '1g'\n",
    "executor_memory = '20g'"
   ]
  },
  {
   "cell_type": "code",
   "execution_count": 27,
   "metadata": {},
   "outputs": [
    {
     "data": {
      "text/plain": [
       "3036620165"
      ]
     },
     "execution_count": 27,
     "metadata": {},
     "output_type": "execute_result"
    }
   ],
   "source": [
    "spark = get_context(\n",
    "    app_name, queue, memory, executor_memory, memory_overhead, num_executors, cores, env_archive=env_archive, broadcasting=False\n",
    ")\n",
    "\n",
    "big_df = spark.table(\"ke_matcher.ali_item_sku_list_df\").where((f.col(\"ds\") == \"20240715\") & (f.col(\"is_online\") == \"Y\")).orderBy(f.rand()).cache()\n",
    "big_df.count()"
   ]
  },
  {
   "cell_type": "code",
   "execution_count": 28,
   "metadata": {},
   "outputs": [
    {
     "name": "stdout",
     "output_type": "stream",
     "text": [
      "104.51203656196594\n"
     ]
    }
   ],
   "source": [
    "start = time.time()\n",
    "(\n",
    "    big_df\n",
    "    .groupBy(\"item_id\")\n",
    "    .count()\n",
    ").count()\n",
    "\n",
    "time_spent = time.time() - start\n",
    "print(time_spent)"
   ]
  },
  {
   "cell_type": "code",
   "execution_count": 29,
   "metadata": {},
   "outputs": [],
   "source": [
    "spark.stop()"
   ]
  },
  {
   "cell_type": "code",
   "execution_count": 30,
   "metadata": {},
   "outputs": [
    {
     "data": {
      "text/plain": [
       "3036620165"
      ]
     },
     "execution_count": 30,
     "metadata": {},
     "output_type": "execute_result"
    }
   ],
   "source": [
    "spark = get_context(\n",
    "    app_name, queue, memory, executor_memory, memory_overhead, num_executors, cores, env_archive=env_archive, broadcasting=False\n",
    ")\n",
    "\n",
    "big_df = spark.table(\"ke_matcher.ali_item_sku_list_df\").where((f.col(\"ds\") == \"20240715\") & (f.col(\"is_online\") == \"Y\")).cache()\n",
    "big_df.count()"
   ]
  },
  {
   "cell_type": "code",
   "execution_count": 31,
   "metadata": {},
   "outputs": [
    {
     "name": "stdout",
     "output_type": "stream",
     "text": [
      "36.12400269508362\n"
     ]
    }
   ],
   "source": [
    "start = time.time()\n",
    "(\n",
    "    big_df\n",
    "    .groupBy(\"item_id\")\n",
    "    .count()\n",
    ").count()\n",
    "\n",
    "time_spent = time.time() - start\n",
    "print(time_spent)"
   ]
  },
  {
   "cell_type": "code",
   "execution_count": 32,
   "metadata": {},
   "outputs": [],
   "source": [
    "spark.stop()"
   ]
  },
  {
   "cell_type": "code",
   "execution_count": 33,
   "metadata": {},
   "outputs": [
    {
     "data": {
      "text/plain": [
       "3036620165"
      ]
     },
     "execution_count": 33,
     "metadata": {},
     "output_type": "execute_result"
    }
   ],
   "source": [
    "spark = get_context(\n",
    "    app_name, queue, memory, executor_memory, memory_overhead, num_executors, cores, env_archive=env_archive, broadcasting=False\n",
    ")\n",
    "\n",
    "big_df = spark.table(\"ke_matcher.ali_item_sku_list_df\").where((f.col(\"ds\") == \"20240715\") & (f.col(\"is_online\") == \"Y\")).orderBy(\"item_id\").cache()\n",
    "big_df.count()"
   ]
  },
  {
   "cell_type": "code",
   "execution_count": 34,
   "metadata": {},
   "outputs": [
    {
     "name": "stdout",
     "output_type": "stream",
     "text": [
      "19.26470160484314\n"
     ]
    }
   ],
   "source": [
    "start = time.time()\n",
    "(\n",
    "    big_df\n",
    "    .groupBy(\"item_id\")\n",
    "    .count()\n",
    ").count()\n",
    "\n",
    "time_spent = time.time() - start\n",
    "print(time_spent)"
   ]
  },
  {
   "cell_type": "code",
   "execution_count": 35,
   "metadata": {},
   "outputs": [],
   "source": [
    "spark.stop()"
   ]
  },
  {
   "cell_type": "code",
   "execution_count": 36,
   "metadata": {},
   "outputs": [
    {
     "data": {
      "text/plain": [
       "3036620165"
      ]
     },
     "execution_count": 36,
     "metadata": {},
     "output_type": "execute_result"
    }
   ],
   "source": [
    "spark = get_context(\n",
    "    app_name, queue, memory, executor_memory, memory_overhead, num_executors, cores, env_archive=env_archive, broadcasting=False\n",
    ")\n",
    "\n",
    "big_df = spark.table(\n",
    "    \"ke_matcher.ali_item_sku_list_df\"\n",
    ").where((f.col(\"ds\") == \"20240715\") & (f.col(\"is_online\") == \"Y\")).repartition(num_executors * cores, \"item_id\").cache()\n",
    "big_df.count()"
   ]
  },
  {
   "cell_type": "code",
   "execution_count": 37,
   "metadata": {},
   "outputs": [
    {
     "name": "stdout",
     "output_type": "stream",
     "text": [
      "40.68900203704834\n"
     ]
    }
   ],
   "source": [
    "start = time.time()\n",
    "(\n",
    "    big_df\n",
    "    .groupBy(\"item_id\")\n",
    "    .count()\n",
    ").count()\n",
    "\n",
    "time_spent = time.time() - start\n",
    "print(time_spent)"
   ]
  },
  {
   "cell_type": "code",
   "execution_count": 38,
   "metadata": {},
   "outputs": [],
   "source": [
    "spark.stop()"
   ]
  },
  {
   "cell_type": "markdown",
   "metadata": {
    "Collapsed": "true",
    "tags": []
   },
   "source": [
    "# Union, или как перестать страдать"
   ]
  },
  {
   "cell_type": "markdown",
   "metadata": {
    "Collapsed": "false"
   },
   "source": [
    "https://spark.apache.org/docs/latest/api/python/reference/api/pyspark.sql.DataFrame.unionByName.html"
   ]
  },
  {
   "cell_type": "markdown",
   "metadata": {},
   "source": [
    "# Histograms"
   ]
  },
  {
   "cell_type": "code",
   "execution_count": 51,
   "metadata": {},
   "outputs": [
    {
     "data": {
      "text/plain": [
       "(array([1.69095052e+08, 0.00000000e+00, 0.00000000e+00, 3.00000000e+00,\n",
       "        0.00000000e+00, 0.00000000e+00, 0.00000000e+00, 0.00000000e+00,\n",
       "        0.00000000e+00, 1.00000000e+00]),\n",
       " array([1.00020000e+04, 3.61608015e+17, 7.23216029e+17, 1.08482404e+18,\n",
       "        1.44643206e+18, 1.80804007e+18, 2.16964809e+18, 2.53125610e+18,\n",
       "        2.89286412e+18, 3.25447213e+18, 3.61608015e+18]),\n",
       " <BarContainer object of 10 artists>)"
      ]
     },
     "execution_count": 51,
     "metadata": {},
     "output_type": "execute_result"
    },
    {
     "data": {
      "image/png": "[encoded data removed]",
      "text/plain": [
       "<Figure size 432x288 with 1 Axes>"
      ]
     },
     "metadata": {
      "needs_background": "light"
     },
     "output_type": "display_data"
    }
   ],
   "source": [
    "import matplotlib.pyplot as plt\n",
    "\n",
    "bins, counts = big_df.select('item_id').rdd.flatMap(lambda x: x).histogram(10)\n",
    "plt.hist(bins[:-1], bins=bins, weights=counts)"
   ]
  },
  {
   "cell_type": "markdown",
   "metadata": {
    "Collapsed": "true"
   },
   "source": [
    "# Override Spark show method to pandas"
   ]
  },
  {
   "cell_type": "code",
   "execution_count": 52,
   "metadata": {
    "Collapsed": "false"
   },
   "outputs": [],
   "source": [
    "# override show method to limit(n).toPandas()\n",
    "from pyspark.sql.dataframe import DataFrame\n",
    "\n",
    "\n",
    "def show(self, n=2):\n",
    "    return self.limit(n).toPandas()\n",
    "\n",
    "\n",
    "DataFrame.show = show"
   ]
  },
  {
   "cell_type": "code",
   "execution_count": 53,
   "metadata": {},
   "outputs": [
    {
     "data": {
      "text/html": [
       "<div>\n",
       "<style scoped>\n",
       "    .dataframe tbody tr th:only-of-type {\n",
       "        vertical-align: middle;\n",
       "    }\n",
       "\n",
       "    .dataframe tbody tr th {\n",
       "        vertical-align: top;\n",
       "    }\n",
       "\n",
       "    .dataframe thead th {\n",
       "        text-align: right;\n",
       "    }\n",
       "</style>\n",
       "<table border=\"1\" class=\"dataframe\">\n",
       "  <thead>\n",
       "    <tr style=\"text-align: right;\">\n",
       "      <th></th>\n",
       "      <th>category_id</th>\n",
       "      <th>category_desc</th>\n",
       "      <th>category_level</th>\n",
       "      <th>is_leaf</th>\n",
       "      <th>category_lv1_id</th>\n",
       "      <th>category_lv1_desc</th>\n",
       "      <th>category_lv2_id</th>\n",
       "      <th>category_lv2_desc</th>\n",
       "      <th>category_lv3_id</th>\n",
       "      <th>category_lv3_desc</th>\n",
       "      <th>...</th>\n",
       "      <th>leaf_cate_id</th>\n",
       "      <th>category_lv5_desc</th>\n",
       "      <th>parent_category_id</th>\n",
       "      <th>parent_category_desc</th>\n",
       "      <th>category_path_ids</th>\n",
       "      <th>category_path_descs</th>\n",
       "      <th>category_path</th>\n",
       "      <th>category_group</th>\n",
       "      <th>category_type</th>\n",
       "      <th>res_language</th>\n",
       "    </tr>\n",
       "  </thead>\n",
       "  <tbody>\n",
       "    <tr>\n",
       "      <th>0</th>\n",
       "      <td>403</td>\n",
       "      <td>Asciugamani</td>\n",
       "      <td>3</td>\n",
       "      <td>Y</td>\n",
       "      <td>15</td>\n",
       "      <td>Casa e giardino</td>\n",
       "      <td>405</td>\n",
       "      <td>Tessili per la casa</td>\n",
       "      <td>403</td>\n",
       "      <td>Asciugamani</td>\n",
       "      <td>...</td>\n",
       "      <td>403</td>\n",
       "      <td>Asciugamani</td>\n",
       "      <td>405</td>\n",
       "      <td>Tessili per la casa</td>\n",
       "      <td>[15, 405, 403, 403, 403]</td>\n",
       "      <td>[Casa e giardino, Tessili per la casa, Asciuga...</td>\n",
       "      <td>Casa e giardino &gt; Tessili per la casa &gt; Asciug...</td>\n",
       "      <td>大美家</td>\n",
       "      <td>02</td>\n",
       "      <td>it</td>\n",
       "    </tr>\n",
       "    <tr>\n",
       "      <th>1</th>\n",
       "      <td>604</td>\n",
       "      <td>Lettori DVD e VCD</td>\n",
       "      <td>3</td>\n",
       "      <td>Y</td>\n",
       "      <td>44</td>\n",
       "      <td>Elettronica di consumo</td>\n",
       "      <td>100000308</td>\n",
       "      <td>Audio &amp; Video per casa</td>\n",
       "      <td>604</td>\n",
       "      <td>Lettori DVD e VCD</td>\n",
       "      <td>...</td>\n",
       "      <td>604</td>\n",
       "      <td>Lettori DVD e VCD</td>\n",
       "      <td>100000308</td>\n",
       "      <td>Audio &amp; Video per casa</td>\n",
       "      <td>[44, 100000308, 604, 604, 604]</td>\n",
       "      <td>[Elettronica di consumo, Audio &amp; Video per cas...</td>\n",
       "      <td>Elettronica di consumo &gt; Audio &amp; Video per cas...</td>\n",
       "      <td>大科技</td>\n",
       "      <td>02</td>\n",
       "      <td>it</td>\n",
       "    </tr>\n",
       "    <tr>\n",
       "      <th>2</th>\n",
       "      <td>629</td>\n",
       "      <td>Accessori e ricambi</td>\n",
       "      <td>2</td>\n",
       "      <td>N</td>\n",
       "      <td>44</td>\n",
       "      <td>Elettronica di consumo</td>\n",
       "      <td>629</td>\n",
       "      <td>Accessori e ricambi</td>\n",
       "      <td>629</td>\n",
       "      <td>Accessori e ricambi</td>\n",
       "      <td>...</td>\n",
       "      <td>629</td>\n",
       "      <td>Accessori e ricambi</td>\n",
       "      <td>44</td>\n",
       "      <td>Elettronica di consumo</td>\n",
       "      <td>[44, 629, 629, 629, 629]</td>\n",
       "      <td>[Elettronica di consumo, Accessori e ricambi, ...</td>\n",
       "      <td>Elettronica di consumo &gt; Accessori e ricambi</td>\n",
       "      <td>大科技</td>\n",
       "      <td>02</td>\n",
       "      <td>it</td>\n",
       "    </tr>\n",
       "  </tbody>\n",
       "</table>\n",
       "<p>3 rows × 22 columns</p>\n",
       "</div>"
      ],
      "text/plain": [
       "   category_id        category_desc  category_level is_leaf  category_lv1_id  \\\n",
       "0          403          Asciugamani               3       Y               15   \n",
       "1          604    Lettori DVD e VCD               3       Y               44   \n",
       "2          629  Accessori e ricambi               2       N               44   \n",
       "\n",
       "        category_lv1_desc  category_lv2_id       category_lv2_desc  \\\n",
       "0         Casa e giardino              405     Tessili per la casa   \n",
       "1  Elettronica di consumo        100000308  Audio & Video per casa   \n",
       "2  Elettronica di consumo              629     Accessori e ricambi   \n",
       "\n",
       "   category_lv3_id    category_lv3_desc  ...  leaf_cate_id  \\\n",
       "0              403          Asciugamani  ...           403   \n",
       "1              604    Lettori DVD e VCD  ...           604   \n",
       "2              629  Accessori e ricambi  ...           629   \n",
       "\n",
       "     category_lv5_desc  parent_category_id    parent_category_desc  \\\n",
       "0          Asciugamani                 405     Tessili per la casa   \n",
       "1    Lettori DVD e VCD           100000308  Audio & Video per casa   \n",
       "2  Accessori e ricambi                  44  Elettronica di consumo   \n",
       "\n",
       "                category_path_ids  \\\n",
       "0        [15, 405, 403, 403, 403]   \n",
       "1  [44, 100000308, 604, 604, 604]   \n",
       "2        [44, 629, 629, 629, 629]   \n",
       "\n",
       "                                 category_path_descs  \\\n",
       "0  [Casa e giardino, Tessili per la casa, Asciuga...   \n",
       "1  [Elettronica di consumo, Audio & Video per cas...   \n",
       "2  [Elettronica di consumo, Accessori e ricambi, ...   \n",
       "\n",
       "                                       category_path category_group  \\\n",
       "0  Casa e giardino > Tessili per la casa > Asciug...            大美家   \n",
       "1  Elettronica di consumo > Audio & Video per cas...            大科技   \n",
       "2       Elettronica di consumo > Accessori e ricambi            大科技   \n",
       "\n",
       "  category_type res_language  \n",
       "0            02           it  \n",
       "1            02           it  \n",
       "2            02           it  \n",
       "\n",
       "[3 rows x 22 columns]"
      ]
     },
     "execution_count": 53,
     "metadata": {},
     "output_type": "execute_result"
    }
   ],
   "source": [
    "small_df.show(3)"
   ]
  },
  {
   "cell_type": "code",
   "execution_count": 137,
   "metadata": {},
   "outputs": [],
   "source": [
    "spark.stop()"
   ]
  },
  {
   "cell_type": "code",
   "execution_count": null,
   "metadata": {},
   "outputs": [],
   "source": []
  }
 ],
 "metadata": {
  "kernelspec": {
   "display_name": "Python 3 (ipykernel)",
   "language": "python",
   "name": "python3"
  },
  "language_info": {
   "codemirror_mode": {
    "name": "ipython",
    "version": 3
   },
   "file_extension": ".py",
   "mimetype": "text/x-python",
   "name": "python",
   "nbconvert_exporter": "python",
   "pygments_lexer": "ipython3",
   "version": "3.12.7"
  },
  "toc": {
   "base_numbering": 1,
   "nav_menu": {},
   "number_sections": true,
   "sideBar": true,
   "skip_h1_title": true,
   "title_cell": "Table of Contents",
   "title_sidebar": "Contents",
   "toc_cell": false,
   "toc_position": {
    "height": "calc(100% - 180px)",
    "left": "10px",
    "top": "150px",
    "width": "219.631px"
   },
   "toc_section_display": true,
   "toc_window_display": false
  }
 },
 "nbformat": 4,
 "nbformat_minor": 4
}
