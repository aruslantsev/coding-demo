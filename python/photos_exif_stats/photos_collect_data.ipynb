{
 "cells": [
  {
   "cell_type": "code",
   "execution_count": 1,
   "id": "9d88e38c-61e5-4995-aef9-753c97a39242",
   "metadata": {},
   "outputs": [],
   "source": [
    "import os\n",
    "import exiftool\n",
    "from dataclasses import dataclass\n",
    "import datetime\n",
    "import pandas as pd\n",
    "import numpy as np\n",
    "from tqdm import tqdm"
   ]
  },
  {
   "cell_type": "code",
   "execution_count": 2,
   "id": "e516e564-c400-4170-a024-730db00c58f4",
   "metadata": {},
   "outputs": [],
   "source": [
    "PREFIX = \"/home/andrei/Pictures/\"\n",
    "PATHS = [\"Photo\", \"Archive\", \"Raw\"]\n",
    "images = []"
   ]
  },
  {
   "cell_type": "code",
   "execution_count": 3,
   "id": "13294cb8-f839-4009-a524-281e1cf13aef",
   "metadata": {},
   "outputs": [],
   "source": [
    "for path in PATHS:\n",
    "    for directory, _, files in os.walk(os.path.join(PREFIX, path)):\n",
    "        for file in files:\n",
    "            images.append(os.path.join(directory, file))\n",
    "        # print(directory)"
   ]
  },
  {
   "cell_type": "code",
   "execution_count": 4,
   "id": "6de56ede-85db-423a-9485-c98c4b0852f0",
   "metadata": {},
   "outputs": [
    {
     "data": {
      "text/plain": [
       "48089"
      ]
     },
     "execution_count": 4,
     "metadata": {},
     "output_type": "execute_result"
    }
   ],
   "source": [
    "len(images)"
   ]
  },
  {
   "cell_type": "raw",
   "id": "d6fcc06e-6302-47f2-9fb6-a0b2b736b824",
   "metadata": {},
   "source": [
    "with exiftool.ExifToolHelper() as et:\n",
    "    metadata = et.get_metadata(images)"
   ]
  },
  {
   "cell_type": "code",
   "execution_count": 5,
   "id": "206e1198-216d-44bb-9d92-a4239b33c009",
   "metadata": {},
   "outputs": [],
   "source": [
    "@dataclass\n",
    "class MetaData:\n",
    "    file: str\n",
    "    filename: str\n",
    "    directory: str\n",
    "    brand: str\n",
    "    model: str\n",
    "    created: str\n",
    "    exposure: float\n",
    "    fnumber: float\n",
    "    focallength: float\n",
    "    focallength_35mm: float\n",
    "    iso: int\n",
    "    exp_compensation: float\n",
    "    lens: str\n",
    "    shutter_count: int\n",
    "    mechanical_shutter_count: int\n",
    "    flash: int\n",
    "    af: str\n",
    "    quality: str\n",
    "    "
   ]
  },
  {
   "cell_type": "code",
   "execution_count": 6,
   "id": "bdbf488d-49bf-4c22-8919-7aed13c9cc0c",
   "metadata": {},
   "outputs": [],
   "source": [
    "def int_safe(x):\n",
    "    try:\n",
    "        return int(x)\n",
    "    except:\n",
    "        return None\n",
    "\n",
    "\n",
    "def float_safe(x):\n",
    "    try:\n",
    "        return float(x)\n",
    "    except:\n",
    "        return float(\"inf\")\n",
    "\n",
    "\n",
    "def get_date_safe(s):\n",
    "    try:\n",
    "        return datetime.datetime.strptime(s, '%Y:%m:%d %H:%M:%S')\n",
    "    except:\n",
    "        return None\n",
    "\n",
    "\n",
    "def strip_safe(s):\n",
    "    if isinstance(s, str):\n",
    "        return s.strip()\n",
    "    elif s is not None:\n",
    "        return str(s)\n",
    "    return s        \n",
    "\n",
    "\n",
    "def extract(metadata_dict):\n",
    "    metadata = MetaData(\n",
    "        file=metadata_dict.get(\"SourceFile\", None),\n",
    "        filename=metadata_dict.get(\"File:FileName\", None),\n",
    "        directory=metadata_dict.get(\"File:Directory\", None),\n",
    "        brand=metadata_dict.get(\"EXIF:Make\", None),\n",
    "        model=metadata_dict.get(\"EXIF:Model\", None),\n",
    "        created=get_date_safe(metadata_dict.get(\"EXIF:CreateDate\", None)),\n",
    "        exposure=1 / float_safe(metadata_dict.get(\"EXIF:ExposureTime\", float(\"inf\"))),\n",
    "        fnumber=metadata_dict.get(\"EXIF:FNumber\", None),\n",
    "        focallength=metadata_dict.get(\"EXIF:FocalLength\", None),\n",
    "        focallength_35mm=metadata_dict.get(\"EXIF:FocalLengthIn35mmFormat\", None),\n",
    "        iso=int_safe(metadata_dict.get(\"EXIF:ISO\", str(metadata_dict.get(\"MakerNotes:ISO\", \"\")).split(\" \")[-1])),\n",
    "        exp_compensation=metadata_dict.get(\"EXIF:ExposureCompensation\", None),\n",
    "        lens=metadata_dict.get(\"EXIF:LensModel\", metadata_dict.get(\"Composite:LensSpec\", None)),\n",
    "        shutter_count=metadata_dict.get(\"MakerNotes:ShutterCount\", None),\n",
    "        mechanical_shutter_count=metadata_dict.get(\"MakerNotes:MechanicalShutterCount\", None),\n",
    "        flash=metadata_dict.get(\"EXIF:Flash\", None),\n",
    "        af=strip_safe(metadata_dict.get(\"MakerNotes:FocusMode\", None)),\n",
    "        quality=strip_safe(metadata_dict.get(\"MakerNotes:Quality\", None)),\n",
    "    )\n",
    "    return metadata"
   ]
  },
  {
   "cell_type": "code",
   "execution_count": 7,
   "id": "715f3f0f-839b-4c4a-809f-63fd39d2f5ab",
   "metadata": {},
   "outputs": [],
   "source": [
    "def process_images(images):\n",
    "    with exiftool.ExifToolHelper() as et:\n",
    "        metadata = et.get_metadata(images)\n",
    "    metadata = [extract(meta) for meta in metadata]\n",
    "    return metadata"
   ]
  },
  {
   "cell_type": "code",
   "execution_count": 8,
   "id": "1b2845bc-0f79-446b-b4ae-0c84eecce9e6",
   "metadata": {},
   "outputs": [],
   "source": [
    "batches = [list(batch) for batch in np.array_split(images, len(images) // 1000 + bool(len(images) % 1000))]"
   ]
  },
  {
   "cell_type": "code",
   "execution_count": 9,
   "id": "a64840f4-f415-4dbb-a12e-2b3c27365911",
   "metadata": {},
   "outputs": [
    {
     "name": "stderr",
     "output_type": "stream",
     "text": [
      "100%|████████████████████████████████████████████████████████████████████████████████████████████████████████████████████████████████████████████████████████████████████████████| 49/49 [13:23<00:00, 16.40s/it]\n"
     ]
    }
   ],
   "source": [
    "meta = []\n",
    "for batch in tqdm(batches):\n",
    "    meta.extend(process_images(batch))"
   ]
  },
  {
   "cell_type": "code",
   "execution_count": 10,
   "id": "cd4b9b76-09cb-4805-8e15-6e65e3647d70",
   "metadata": {},
   "outputs": [
    {
     "data": {
      "text/plain": [
       "48089"
      ]
     },
     "execution_count": 10,
     "metadata": {},
     "output_type": "execute_result"
    }
   ],
   "source": [
    "len(meta)"
   ]
  },
  {
   "cell_type": "raw",
   "id": "850f58a1-8928-47d3-9820-e4ce70d362a4",
   "metadata": {},
   "source": [
    "with multiprocessing.Pool(8) as p:\n",
    "    meta = p.map(process_image, images)"
   ]
  },
  {
   "cell_type": "code",
   "execution_count": 11,
   "id": "4b33b51d-7c7e-4d46-9a96-d5e2af007578",
   "metadata": {},
   "outputs": [],
   "source": [
    "data = pd.DataFrame(meta)"
   ]
  },
  {
   "cell_type": "code",
   "execution_count": 12,
   "id": "998cc26d-e9e4-4f5e-bd7e-7c9702a68f1a",
   "metadata": {},
   "outputs": [
    {
     "data": {
      "text/html": [
       "<div>\n",
       "<style scoped>\n",
       "    .dataframe tbody tr th:only-of-type {\n",
       "        vertical-align: middle;\n",
       "    }\n",
       "\n",
       "    .dataframe tbody tr th {\n",
       "        vertical-align: top;\n",
       "    }\n",
       "\n",
       "    .dataframe thead th {\n",
       "        text-align: right;\n",
       "    }\n",
       "</style>\n",
       "<table border=\"1\" class=\"dataframe\">\n",
       "  <thead>\n",
       "    <tr style=\"text-align: right;\">\n",
       "      <th></th>\n",
       "      <th>file</th>\n",
       "      <th>filename</th>\n",
       "      <th>directory</th>\n",
       "      <th>brand</th>\n",
       "      <th>model</th>\n",
       "      <th>created</th>\n",
       "      <th>exposure</th>\n",
       "      <th>fnumber</th>\n",
       "      <th>focallength</th>\n",
       "      <th>focallength_35mm</th>\n",
       "      <th>iso</th>\n",
       "      <th>exp_compensation</th>\n",
       "      <th>lens</th>\n",
       "      <th>shutter_count</th>\n",
       "      <th>mechanical_shutter_count</th>\n",
       "      <th>flash</th>\n",
       "      <th>af</th>\n",
       "      <th>quality</th>\n",
       "    </tr>\n",
       "  </thead>\n",
       "  <tbody>\n",
       "    <tr>\n",
       "      <th>0</th>\n",
       "      <td>/home/andrei/Pictures/Photo/2004/200406_Фотоох...</td>\n",
       "      <td>2004.06-2004.10-00560-022.jpg</td>\n",
       "      <td>/home/andrei/Pictures/Photo/2004/200406_Фотоох...</td>\n",
       "      <td>None</td>\n",
       "      <td>None</td>\n",
       "      <td>NaT</td>\n",
       "      <td>0.0</td>\n",
       "      <td>NaN</td>\n",
       "      <td>NaN</td>\n",
       "      <td>NaN</td>\n",
       "      <td>NaN</td>\n",
       "      <td>NaN</td>\n",
       "      <td>None</td>\n",
       "      <td>NaN</td>\n",
       "      <td>NaN</td>\n",
       "      <td>NaN</td>\n",
       "      <td>None</td>\n",
       "      <td>None</td>\n",
       "    </tr>\n",
       "    <tr>\n",
       "      <th>1</th>\n",
       "      <td>/home/andrei/Pictures/Photo/2004/200406_Фотоох...</td>\n",
       "      <td>2004.06-2004.10-00560-002.jpg</td>\n",
       "      <td>/home/andrei/Pictures/Photo/2004/200406_Фотоох...</td>\n",
       "      <td>None</td>\n",
       "      <td>None</td>\n",
       "      <td>NaT</td>\n",
       "      <td>0.0</td>\n",
       "      <td>NaN</td>\n",
       "      <td>NaN</td>\n",
       "      <td>NaN</td>\n",
       "      <td>NaN</td>\n",
       "      <td>NaN</td>\n",
       "      <td>None</td>\n",
       "      <td>NaN</td>\n",
       "      <td>NaN</td>\n",
       "      <td>NaN</td>\n",
       "      <td>None</td>\n",
       "      <td>None</td>\n",
       "    </tr>\n",
       "  </tbody>\n",
       "</table>\n",
       "</div>"
      ],
      "text/plain": [
       "                                                file  \\\n",
       "0  /home/andrei/Pictures/Photo/2004/200406_Фотоох...   \n",
       "1  /home/andrei/Pictures/Photo/2004/200406_Фотоох...   \n",
       "\n",
       "                        filename  \\\n",
       "0  2004.06-2004.10-00560-022.jpg   \n",
       "1  2004.06-2004.10-00560-002.jpg   \n",
       "\n",
       "                                           directory brand model created  \\\n",
       "0  /home/andrei/Pictures/Photo/2004/200406_Фотоох...  None  None     NaT   \n",
       "1  /home/andrei/Pictures/Photo/2004/200406_Фотоох...  None  None     NaT   \n",
       "\n",
       "   exposure  fnumber  focallength  focallength_35mm  iso  exp_compensation  \\\n",
       "0       0.0      NaN          NaN               NaN  NaN               NaN   \n",
       "1       0.0      NaN          NaN               NaN  NaN               NaN   \n",
       "\n",
       "   lens  shutter_count  mechanical_shutter_count  flash    af quality  \n",
       "0  None            NaN                       NaN    NaN  None    None  \n",
       "1  None            NaN                       NaN    NaN  None    None  "
      ]
     },
     "execution_count": 12,
     "metadata": {},
     "output_type": "execute_result"
    }
   ],
   "source": [
    "data.head(2)"
   ]
  },
  {
   "cell_type": "code",
   "execution_count": 13,
   "id": "91201d94-266e-488c-9475-5c923efaee59",
   "metadata": {},
   "outputs": [],
   "source": [
    "for column in [\n",
    "    \"file\",\n",
    "    \"filename\",\n",
    "    \"directory\",\n",
    "    \"brand\",\n",
    "    \"model\",\n",
    "    \"lens\",\n",
    "    \"af\",\n",
    "    \"quality\",\n",
    "]:\n",
    "    data[column] = data[column].astype(str)"
   ]
  },
  {
   "cell_type": "code",
   "execution_count": 14,
   "id": "83f2cf83-0262-42a6-936f-ac96cce6ecab",
   "metadata": {},
   "outputs": [
    {
     "name": "stdout",
     "output_type": "stream",
     "text": [
      "<class 'pandas.core.frame.DataFrame'>\n",
      "RangeIndex: 48089 entries, 0 to 48088\n",
      "Data columns (total 18 columns):\n",
      " #   Column                    Non-Null Count  Dtype         \n",
      "---  ------                    --------------  -----         \n",
      " 0   file                      48089 non-null  object        \n",
      " 1   filename                  48089 non-null  object        \n",
      " 2   directory                 48089 non-null  object        \n",
      " 3   brand                     48089 non-null  object        \n",
      " 4   model                     48089 non-null  object        \n",
      " 5   created                   28249 non-null  datetime64[ns]\n",
      " 6   exposure                  48089 non-null  float64       \n",
      " 7   fnumber                   28019 non-null  float64       \n",
      " 8   focallength               28018 non-null  float64       \n",
      " 9   focallength_35mm          26757 non-null  float64       \n",
      " 10  iso                       27813 non-null  float64       \n",
      " 11  exp_compensation          27585 non-null  float64       \n",
      " 12  lens                      48089 non-null  object        \n",
      " 13  shutter_count             24495 non-null  float64       \n",
      " 14  mechanical_shutter_count  10900 non-null  float64       \n",
      " 15  flash                     28014 non-null  float64       \n",
      " 16  af                        48089 non-null  object        \n",
      " 17  quality                   48089 non-null  object        \n",
      "dtypes: datetime64[ns](1), float64(9), object(8)\n",
      "memory usage: 6.6+ MB\n"
     ]
    }
   ],
   "source": [
    "data.info()"
   ]
  },
  {
   "cell_type": "code",
   "execution_count": 15,
   "id": "8e7013d6-12da-48ed-8546-28bfa3139b7b",
   "metadata": {},
   "outputs": [],
   "source": [
    "data.to_parquet(\"photos.parquet\")"
   ]
  },
  {
   "cell_type": "code",
   "execution_count": null,
   "id": "38c171a9-b148-44ad-a13d-0a7a6ebaf3d2",
   "metadata": {},
   "outputs": [],
   "source": []
  }
 ],
 "metadata": {
  "kernelspec": {
   "display_name": "hackathon",
   "language": "python",
   "name": "hackathon"
  },
  "language_info": {
   "codemirror_mode": {
    "name": "ipython",
    "version": 3
   },
   "file_extension": ".py",
   "mimetype": "text/x-python",
   "name": "python",
   "nbconvert_exporter": "python",
   "pygments_lexer": "ipython3",
   "version": "3.11.5"
  }
 },
 "nbformat": 4,
 "nbformat_minor": 5
}
