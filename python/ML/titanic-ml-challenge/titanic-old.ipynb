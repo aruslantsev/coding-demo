{
 "cells": [
  {
   "cell_type": "code",
   "execution_count": 2,
   "metadata": {},
   "outputs": [],
   "source": [
    "import pandas\n",
    "import math\n",
    "import sklearn\n",
    "import numpy as np\n",
    "from sklearn.model_selection import KFold, cross_val_score\n",
    "from sklearn.ensemble import GradientBoostingClassifier, RandomForestClassifier, AdaBoostClassifier\n",
    "from sklearn.linear_model import LogisticRegression\n",
    "from sklearn.neighbors import KNeighborsClassifier\n",
    "from sklearn.svm import SVC\n",
    "from sklearn.preprocessing import StandardScaler\n",
    "import matplotlib\n",
    "import matplotlib.pyplot as plt\n",
    "%matplotlib inline"
   ]
  },
  {
   "cell_type": "code",
   "execution_count": 8,
   "metadata": {},
   "outputs": [
    {
     "data": {
      "text/html": [
       "<div>\n",
       "<style scoped>\n",
       "    .dataframe tbody tr th:only-of-type {\n",
       "        vertical-align: middle;\n",
       "    }\n",
       "\n",
       "    .dataframe tbody tr th {\n",
       "        vertical-align: top;\n",
       "    }\n",
       "\n",
       "    .dataframe thead th {\n",
       "        text-align: right;\n",
       "    }\n",
       "</style>\n",
       "<table border=\"1\" class=\"dataframe\">\n",
       "  <thead>\n",
       "    <tr style=\"text-align: right;\">\n",
       "      <th></th>\n",
       "      <th>Survived</th>\n",
       "      <th>Pclass</th>\n",
       "      <th>Name</th>\n",
       "      <th>Sex</th>\n",
       "      <th>Age</th>\n",
       "      <th>SibSp</th>\n",
       "      <th>Parch</th>\n",
       "      <th>Ticket</th>\n",
       "      <th>Fare</th>\n",
       "      <th>Cabin</th>\n",
       "      <th>Embarked</th>\n",
       "    </tr>\n",
       "    <tr>\n",
       "      <th>PassengerId</th>\n",
       "      <th></th>\n",
       "      <th></th>\n",
       "      <th></th>\n",
       "      <th></th>\n",
       "      <th></th>\n",
       "      <th></th>\n",
       "      <th></th>\n",
       "      <th></th>\n",
       "      <th></th>\n",
       "      <th></th>\n",
       "      <th></th>\n",
       "    </tr>\n",
       "  </thead>\n",
       "  <tbody>\n",
       "    <tr>\n",
       "      <th>1</th>\n",
       "      <td>0</td>\n",
       "      <td>3</td>\n",
       "      <td>Braund, Mr. Owen Harris</td>\n",
       "      <td>male</td>\n",
       "      <td>22.0</td>\n",
       "      <td>1</td>\n",
       "      <td>0</td>\n",
       "      <td>A/5 21171</td>\n",
       "      <td>7.2500</td>\n",
       "      <td>NaN</td>\n",
       "      <td>S</td>\n",
       "    </tr>\n",
       "    <tr>\n",
       "      <th>2</th>\n",
       "      <td>1</td>\n",
       "      <td>1</td>\n",
       "      <td>Cumings, Mrs. John Bradley (Florence Briggs Th...</td>\n",
       "      <td>female</td>\n",
       "      <td>38.0</td>\n",
       "      <td>1</td>\n",
       "      <td>0</td>\n",
       "      <td>PC 17599</td>\n",
       "      <td>71.2833</td>\n",
       "      <td>C85</td>\n",
       "      <td>C</td>\n",
       "    </tr>\n",
       "    <tr>\n",
       "      <th>3</th>\n",
       "      <td>1</td>\n",
       "      <td>3</td>\n",
       "      <td>Heikkinen, Miss. Laina</td>\n",
       "      <td>female</td>\n",
       "      <td>26.0</td>\n",
       "      <td>0</td>\n",
       "      <td>0</td>\n",
       "      <td>STON/O2. 3101282</td>\n",
       "      <td>7.9250</td>\n",
       "      <td>NaN</td>\n",
       "      <td>S</td>\n",
       "    </tr>\n",
       "    <tr>\n",
       "      <th>4</th>\n",
       "      <td>1</td>\n",
       "      <td>1</td>\n",
       "      <td>Futrelle, Mrs. Jacques Heath (Lily May Peel)</td>\n",
       "      <td>female</td>\n",
       "      <td>35.0</td>\n",
       "      <td>1</td>\n",
       "      <td>0</td>\n",
       "      <td>113803</td>\n",
       "      <td>53.1000</td>\n",
       "      <td>C123</td>\n",
       "      <td>S</td>\n",
       "    </tr>\n",
       "    <tr>\n",
       "      <th>5</th>\n",
       "      <td>0</td>\n",
       "      <td>3</td>\n",
       "      <td>Allen, Mr. William Henry</td>\n",
       "      <td>male</td>\n",
       "      <td>35.0</td>\n",
       "      <td>0</td>\n",
       "      <td>0</td>\n",
       "      <td>373450</td>\n",
       "      <td>8.0500</td>\n",
       "      <td>NaN</td>\n",
       "      <td>S</td>\n",
       "    </tr>\n",
       "    <tr>\n",
       "      <th>6</th>\n",
       "      <td>0</td>\n",
       "      <td>3</td>\n",
       "      <td>Moran, Mr. James</td>\n",
       "      <td>male</td>\n",
       "      <td>NaN</td>\n",
       "      <td>0</td>\n",
       "      <td>0</td>\n",
       "      <td>330877</td>\n",
       "      <td>8.4583</td>\n",
       "      <td>NaN</td>\n",
       "      <td>Q</td>\n",
       "    </tr>\n",
       "    <tr>\n",
       "      <th>7</th>\n",
       "      <td>0</td>\n",
       "      <td>1</td>\n",
       "      <td>McCarthy, Mr. Timothy J</td>\n",
       "      <td>male</td>\n",
       "      <td>54.0</td>\n",
       "      <td>0</td>\n",
       "      <td>0</td>\n",
       "      <td>17463</td>\n",
       "      <td>51.8625</td>\n",
       "      <td>E46</td>\n",
       "      <td>S</td>\n",
       "    </tr>\n",
       "    <tr>\n",
       "      <th>8</th>\n",
       "      <td>0</td>\n",
       "      <td>3</td>\n",
       "      <td>Palsson, Master. Gosta Leonard</td>\n",
       "      <td>male</td>\n",
       "      <td>2.0</td>\n",
       "      <td>3</td>\n",
       "      <td>1</td>\n",
       "      <td>349909</td>\n",
       "      <td>21.0750</td>\n",
       "      <td>NaN</td>\n",
       "      <td>S</td>\n",
       "    </tr>\n",
       "    <tr>\n",
       "      <th>9</th>\n",
       "      <td>1</td>\n",
       "      <td>3</td>\n",
       "      <td>Johnson, Mrs. Oscar W (Elisabeth Vilhelmina Berg)</td>\n",
       "      <td>female</td>\n",
       "      <td>27.0</td>\n",
       "      <td>0</td>\n",
       "      <td>2</td>\n",
       "      <td>347742</td>\n",
       "      <td>11.1333</td>\n",
       "      <td>NaN</td>\n",
       "      <td>S</td>\n",
       "    </tr>\n",
       "    <tr>\n",
       "      <th>10</th>\n",
       "      <td>1</td>\n",
       "      <td>2</td>\n",
       "      <td>Nasser, Mrs. Nicholas (Adele Achem)</td>\n",
       "      <td>female</td>\n",
       "      <td>14.0</td>\n",
       "      <td>1</td>\n",
       "      <td>0</td>\n",
       "      <td>237736</td>\n",
       "      <td>30.0708</td>\n",
       "      <td>NaN</td>\n",
       "      <td>C</td>\n",
       "    </tr>\n",
       "  </tbody>\n",
       "</table>\n",
       "</div>"
      ],
      "text/plain": [
       "             Survived  Pclass  \\\n",
       "PassengerId                     \n",
       "1                   0       3   \n",
       "2                   1       1   \n",
       "3                   1       3   \n",
       "4                   1       1   \n",
       "5                   0       3   \n",
       "6                   0       3   \n",
       "7                   0       1   \n",
       "8                   0       3   \n",
       "9                   1       3   \n",
       "10                  1       2   \n",
       "\n",
       "                                                          Name     Sex   Age  \\\n",
       "PassengerId                                                                    \n",
       "1                                      Braund, Mr. Owen Harris    male  22.0   \n",
       "2            Cumings, Mrs. John Bradley (Florence Briggs Th...  female  38.0   \n",
       "3                                       Heikkinen, Miss. Laina  female  26.0   \n",
       "4                 Futrelle, Mrs. Jacques Heath (Lily May Peel)  female  35.0   \n",
       "5                                     Allen, Mr. William Henry    male  35.0   \n",
       "6                                             Moran, Mr. James    male   NaN   \n",
       "7                                      McCarthy, Mr. Timothy J    male  54.0   \n",
       "8                               Palsson, Master. Gosta Leonard    male   2.0   \n",
       "9            Johnson, Mrs. Oscar W (Elisabeth Vilhelmina Berg)  female  27.0   \n",
       "10                         Nasser, Mrs. Nicholas (Adele Achem)  female  14.0   \n",
       "\n",
       "             SibSp  Parch            Ticket     Fare Cabin Embarked  \n",
       "PassengerId                                                          \n",
       "1                1      0         A/5 21171   7.2500   NaN        S  \n",
       "2                1      0          PC 17599  71.2833   C85        C  \n",
       "3                0      0  STON/O2. 3101282   7.9250   NaN        S  \n",
       "4                1      0            113803  53.1000  C123        S  \n",
       "5                0      0            373450   8.0500   NaN        S  \n",
       "6                0      0            330877   8.4583   NaN        Q  \n",
       "7                0      0             17463  51.8625   E46        S  \n",
       "8                3      1            349909  21.0750   NaN        S  \n",
       "9                0      2            347742  11.1333   NaN        S  \n",
       "10               1      0            237736  30.0708   NaN        C  "
      ]
     },
     "execution_count": 8,
     "metadata": {},
     "output_type": "execute_result"
    }
   ],
   "source": [
    "data_train = pandas.read_csv('train.csv', index_col = 'PassengerId')\n",
    "#print(data_train[:5])\n",
    "data_test = pandas.read_csv('test.csv', index_col = 'PassengerId')\n",
    "#print(data_test[:5])\n",
    "data_train[:10]"
   ]
  },
  {
   "cell_type": "code",
   "execution_count": 9,
   "metadata": {},
   "outputs": [
    {
     "name": "stdout",
     "output_type": "stream",
     "text": [
      "Full length: 891\n",
      "Age : Non NaN num: 714 , Not NaN: 80.135 %\n",
      "Cabin : Non NaN num: 204 , Not NaN: 22.896 %\n",
      "Embarked : Non NaN num: 889 , Not NaN: 99.776 %\n",
      "Full length: 418\n",
      "Age : Non NaN num: 332 , Not NaN: 79.426 %\n",
      "Fare : Non NaN num: 417 , Not NaN: 99.761 %\n",
      "Cabin : Non NaN num: 91 , Not NaN: 21.770 %\n"
     ]
    }
   ],
   "source": [
    "def print_nan(X):\n",
    "    counts = X.count()\n",
    "    length = X.shape[0]\n",
    "    print('Full length:', length)\n",
    "    for i in counts[counts < length].index:\n",
    "        print(i, ': Non NaN num:', counts[i], ', Not NaN:', '%.3f' % (100*counts[i] / length), '%')\n",
    "    return\n",
    "\n",
    "def fill_nan(X):\n",
    "    return X.fillna(value = -1)\n",
    "\n",
    "def get_marital_status(name):\n",
    "    if (name.find('Mrs') != -1):\n",
    "        return 2\n",
    "    else:\n",
    "        if (name.find('Miss') != -1):\n",
    "            return 1\n",
    "        else:\n",
    "            if (name.find('Mr') != -1):\n",
    "                return 0\n",
    "            else:\n",
    "                return -1\n",
    "\n",
    "def prepare_data(X):\n",
    "    print_nan(X)\n",
    "    X = fill_nan(X)\n",
    "    X['MaritalStatus'] = X['Name'].map(get_marital_status)\n",
    "    X['Sex'] = X['Sex'].map(lambda x: 1 if x == 'male' else 0)\n",
    "    X['Embarked'] = X['Embarked'].map(lambda x: 0 if x == 'C' else (1 if x == 'Q' else (2 if x == 'S' else -1)))\n",
    "    return X\n",
    "\n",
    "data_train = prepare_data(data_train)\n",
    "X_train = data_train.drop(['Name', 'Ticket', 'Cabin', 'Survived'], axis = 1)\n",
    "y_train = data_train['Survived']\n",
    "data_test = prepare_data(data_test)\n",
    "X_test = data_test.drop(['Name', 'Ticket', 'Cabin'], axis = 1)"
   ]
  },
  {
   "cell_type": "code",
   "execution_count": 3,
   "metadata": {},
   "outputs": [
    {
     "name": "stdout",
     "output_type": "stream",
     "text": [
      "N_est| GBC | RFC | Ada\n",
      "   10 0.859 0.860 0.850\n",
      "   20 0.861 0.861 0.857\n",
      "   30 0.862 0.860 0.855\n",
      "   40 0.865 0.860 0.857\n",
      "   50 0.867 0.860 0.859\n",
      "  100 0.870 0.860 0.857\n",
      "  200 0.873 0.860 0.858\n",
      "  300 0.869 0.860 0.857\n",
      "  400 0.866 0.860 0.854\n",
      "  500 0.865 0.860 0.854\n"
     ]
    }
   ],
   "source": [
    "cv = KFold(n_splits = 5, shuffle = True, random_state = 241)\n",
    "scaler = StandardScaler()\n",
    "X_train_transformed = scaler.fit_transform(X_train)\n",
    "X_test_transformed = scaler.transform(X_test)\n",
    "n_est = [10, 20, 30, 40, 50, 100, 200, 300, 400, 500]\n",
    "scores_gbc = []\n",
    "scores_rfc = []\n",
    "scores_ada = []\n",
    "print('N_est| GBC | RFC | Ada')\n",
    "for n in n_est:\n",
    "    # print ('Number of estimators: ', str(n))\n",
    "    gbc = GradientBoostingClassifier(n_estimators=n, random_state = 241)\n",
    "    rfc = RandomForestClassifier(n_estimators=n, random_state = 241)   \n",
    "    ada = AdaBoostClassifier(n_estimators = n, random_state = 241)\n",
    "    gbc_scores = np.mean(cross_val_score(estimator = gbc, X = X_train, y = y_train, cv=cv, scoring='roc_auc'))\n",
    "    rfc_scores = np.mean(cross_val_score(estimator = rfc, X = X_train, y = y_train, cv=cv, scoring='roc_auc'))\n",
    "    ada_scores = np.mean(cross_val_score(estimator = ada, X = X_train, y = y_train, cv=cv, scoring='roc_auc'))\n",
    "    print (\"%5.f\" % n, \"%.3f\" % gbc_scores, \"%.3f\" % rfc_scores, \"%.3f\" % ada_scores)\n",
    "    scores_gbc.append(gbc_scores)\n",
    "    scores_rfc.append(rfc_scores)\n",
    "    scores_ada.append(ada_scores)"
   ]
  },
  {
   "cell_type": "code",
   "execution_count": 4,
   "metadata": {},
   "outputs": [
    {
     "name": "stdout",
     "output_type": "stream",
     "text": [
      "Logistic, SVC\n",
      "C =     0.00001 0.811 0.834\n",
      "C =     0.00010 0.811 0.835\n",
      "C =     0.00100 0.816 0.836\n",
      "C =     0.01000 0.826 0.835\n",
      "C =     0.10000 0.844 0.837\n",
      "C =     1.00000 0.846 0.843\n",
      "C =    10.00000 0.846 0.821\n",
      "C =   100.00000 0.846 0.806\n",
      "C =  1000.00000 0.846 0.797\n",
      "C = 10000.00000 0.846 0.757\n",
      "C = 100000.00000 0.846 0.747\n"
     ]
    }
   ],
   "source": [
    "print('Logistic, SVC')\n",
    "scores_lr = []\n",
    "scores_svc = []\n",
    "C_pows = range(-5, 6)\n",
    "C_range = [10.0 ** i for i in C_pows]\n",
    "for C in C_range:\n",
    "    lr = LogisticRegression(C=C)    \n",
    "    svc = SVC(C=C)\n",
    "    lr_scores = np.mean(cross_val_score(estimator = lr, X = X_train_transformed, y = y_train, cv=cv, scoring='roc_auc'))\n",
    "    svc_scores = np.mean(cross_val_score(estimator = svc, X = X_train_transformed, y = y_train, cv=cv, scoring='roc_auc'))\n",
    "    print ('C =', \"%11.5f\" % C, \"%.3f\" % lr_scores, \"%.3f\" % svc_scores,)\n",
    "    scores_lr.append(lr_scores)\n",
    "    scores_svc.append(svc_scores)"
   ]
  },
  {
   "cell_type": "code",
   "execution_count": 5,
   "metadata": {},
   "outputs": [
    {
     "name": "stdout",
     "output_type": "stream",
     "text": [
      "N_neigh | Knn\n",
      "    1 0.740\n",
      "    2 0.799\n",
      "    3 0.822\n",
      "    4 0.841\n",
      "    5 0.853\n",
      "    6 0.854\n",
      "    7 0.858\n",
      "    8 0.859\n",
      "    9 0.858\n",
      "   10 0.854\n",
      "   11 0.856\n",
      "   12 0.854\n",
      "   13 0.856\n",
      "   14 0.855\n",
      "   15 0.853\n",
      "   16 0.852\n",
      "   17 0.853\n",
      "   18 0.851\n",
      "   19 0.852\n",
      "   20 0.852\n",
      "   21 0.852\n",
      "   22 0.849\n",
      "   23 0.849\n",
      "   24 0.849\n",
      "   25 0.848\n",
      "   26 0.849\n",
      "   27 0.849\n",
      "   28 0.850\n",
      "   29 0.849\n",
      "   30 0.850\n",
      "   31 0.849\n",
      "   32 0.848\n",
      "   33 0.848\n",
      "   34 0.848\n",
      "   35 0.850\n",
      "   36 0.851\n",
      "   37 0.849\n",
      "   38 0.850\n",
      "   39 0.849\n",
      "   40 0.850\n",
      "   41 0.851\n",
      "   42 0.850\n",
      "   43 0.849\n",
      "   44 0.849\n",
      "   45 0.849\n",
      "   46 0.848\n",
      "   47 0.850\n",
      "   48 0.849\n",
      "   49 0.850\n",
      "   50 0.850\n"
     ]
    }
   ],
   "source": [
    "scores_knn = []\n",
    "print('N_neigh | Knn')\n",
    "for n in range(1, 51):\n",
    "    # print ('Number of estimators: ', str(n))\n",
    "    knn = KNeighborsClassifier(n_neighbors=n)    \n",
    "    knn_scores = np.mean(cross_val_score(estimator = knn, X = X_train_transformed, y = y_train, cv=cv, scoring='roc_auc'))\n",
    "    print (\"%5.f\" % n, \"%.3f\" % knn_scores)\n",
    "    scores_knn.append(knn_scores)\n",
    "    "
   ]
  },
  {
   "cell_type": "code",
   "execution_count": 6,
   "metadata": {},
   "outputs": [
    {
     "name": "stdout",
     "output_type": "stream",
     "text": [
      "N_est| GBC\n",
      "  100 0.870\n",
      "  111 0.870\n",
      "  121 0.869\n",
      "  132 0.871\n",
      "  142 0.872\n",
      "  153 0.874\n",
      "  163 0.875\n",
      "  174 0.874\n",
      "  184 0.874\n",
      "  195 0.873\n",
      "  205 0.873\n",
      "  216 0.874\n",
      "  226 0.872\n",
      "  237 0.871\n",
      "  247 0.870\n",
      "  258 0.870\n",
      "  268 0.869\n",
      "  279 0.870\n",
      "  289 0.869\n",
      "  300 0.869\n"
     ]
    }
   ],
   "source": [
    "scores_gbc = []\n",
    "print('N_est| GBC')\n",
    "for n in np.linspace(start = 100, stop = 300, num = 20):\n",
    "    # print ('Number of estimators: ', str(n))\n",
    "    gbc = GradientBoostingClassifier(n_estimators = int(n), random_state = 241)\n",
    "    gbc_scores = np.mean(cross_val_score(estimator = gbc, X = X_train, y = y_train, cv=cv, scoring='roc_auc'))\n",
    "    print (\"%5.f\" % n, \"%.3f\" % gbc_scores)\n",
    "    scores_gbc.append(gbc_scores)"
   ]
  },
  {
   "cell_type": "code",
   "execution_count": 7,
   "metadata": {},
   "outputs": [
    {
     "name": "stdout",
     "output_type": "stream",
     "text": [
      "Rate | GBC\n",
      "1.00 0.838\n",
      "0.50 0.859\n",
      "0.30 0.866\n",
      "0.20 0.870\n",
      "0.10 0.875\n",
      "0.05 0.867\n",
      "0.03 0.865\n"
     ]
    }
   ],
   "source": [
    "n_est = 160\n",
    "scores_gbc = []\n",
    "print('Rate | GBC')\n",
    "for learning_rate in [1, 0.5, 0.3, 0.2, 0.1, 0.05, 0.025]:\n",
    "    # print ('Number of estimators: ', str(n))\n",
    "    gbc = GradientBoostingClassifier(learning_rate = learning_rate, n_estimators = n_est, random_state = 241)\n",
    "    gbc_scores = np.mean(cross_val_score(estimator = gbc, X = X_train, y = y_train, cv=cv, scoring='roc_auc'))\n",
    "    print (\"%.2f\" % learning_rate, \"%.3f\" % gbc_scores)\n",
    "    scores_gbc.append(gbc_scores)"
   ]
  },
  {
   "cell_type": "code",
   "execution_count": 9,
   "metadata": {},
   "outputs": [
    {
     "data": {
      "text/html": [
       "<div>\n",
       "<style scoped>\n",
       "    .dataframe tbody tr th:only-of-type {\n",
       "        vertical-align: middle;\n",
       "    }\n",
       "\n",
       "    .dataframe tbody tr th {\n",
       "        vertical-align: top;\n",
       "    }\n",
       "\n",
       "    .dataframe thead th {\n",
       "        text-align: right;\n",
       "    }\n",
       "</style>\n",
       "<table border=\"1\" class=\"dataframe\">\n",
       "  <thead>\n",
       "    <tr style=\"text-align: right;\">\n",
       "      <th></th>\n",
       "      <th>Survived</th>\n",
       "    </tr>\n",
       "    <tr>\n",
       "      <th>PassengerId</th>\n",
       "      <th></th>\n",
       "    </tr>\n",
       "  </thead>\n",
       "  <tbody>\n",
       "    <tr>\n",
       "      <th>892</th>\n",
       "      <td>0</td>\n",
       "    </tr>\n",
       "    <tr>\n",
       "      <th>893</th>\n",
       "      <td>0</td>\n",
       "    </tr>\n",
       "    <tr>\n",
       "      <th>894</th>\n",
       "      <td>0</td>\n",
       "    </tr>\n",
       "  </tbody>\n",
       "</table>\n",
       "</div>"
      ],
      "text/plain": [
       "             Survived\n",
       "PassengerId          \n",
       "892                 0\n",
       "893                 0\n",
       "894                 0"
      ]
     },
     "execution_count": 9,
     "metadata": {},
     "output_type": "execute_result"
    }
   ],
   "source": [
    "titanic = GradientBoostingClassifier(n_estimators = 160, learning_rate = 0.05, random_state = 241)\n",
    "titanic.fit(X_train, y_train)\n",
    "y_test = pandas.DataFrame(data = {'Survived' : titanic.predict(X_test)})\n",
    "# y_test['Survived'] = pandas.DataFrame(titanic.predict(X_test))\n",
    "#y_test.index.name = 'PassengerId'\n",
    "y_test.index = X_test.index\n",
    "y_test[:3]"
   ]
  },
  {
   "cell_type": "code",
   "execution_count": 10,
   "metadata": {},
   "outputs": [],
   "source": [
    "y_test.to_csv('titanic_predict.csv')"
   ]
  },
  {
   "cell_type": "code",
   "execution_count": 11,
   "metadata": {},
   "outputs": [
    {
     "name": "stdout",
     "output_type": "stream",
     "text": [
      "(891, 8) (418, 8)\n"
     ]
    },
    {
     "data": {
      "text/plain": [
       "Embarked  Survived\n",
       "-1        1             2\n",
       " 0        0            75\n",
       "          1            93\n",
       " 1        0            47\n",
       "          1            30\n",
       " 2        0           427\n",
       "          1           217\n",
       "Name: PassengerId, dtype: int64"
      ]
     },
     "execution_count": 11,
     "metadata": {},
     "output_type": "execute_result"
    }
   ],
   "source": [
    "print(X_train.shape, X_test.shape)\n",
    "data_train.reset_index().groupby(['Embarked', 'Survived'])['PassengerId'].count()"
   ]
  },
  {
   "cell_type": "code",
   "execution_count": 38,
   "metadata": {},
   "outputs": [
    {
     "data": {
      "image/png": "[encoded data removed]",
      "text/plain": [
       "<Figure size 432x288 with 1 Axes>"
      ]
     },
     "metadata": {},
     "output_type": "display_data"
    }
   ],
   "source": [
    "hist, bins = np.histogram(X_train['MaritalStatus'], bins = 10)\n",
    "width = 0.7 * (bins[1] - bins[0])\n",
    "center = (bins[:-1] + bins[1:]) / 2\n",
    "plt.bar(center, hist, align='center', width=width)\n",
    "plt.show()"
   ]
  },
  {
   "cell_type": "code",
   "execution_count": 39,
   "metadata": {},
   "outputs": [
    {
     "data": {
      "image/png": "[encoded data removed]",
      "text/plain": [
       "<Figure size 432x288 with 1 Axes>"
      ]
     },
     "metadata": {},
     "output_type": "display_data"
    }
   ],
   "source": [
    "hist, bins = np.histogram(X_test['MaritalStatus'], bins = 10)\n",
    "width = 0.7 * (bins[1] - bins[0])\n",
    "center = (bins[:-1] + bins[1:]) / 2\n",
    "plt.bar(center, hist, align='center', width=width)\n",
    "plt.show()"
   ]
  },
  {
   "cell_type": "code",
   "execution_count": 24,
   "metadata": {},
   "outputs": [
    {
     "data": {
      "text/html": [
       "<div>\n",
       "<style scoped>\n",
       "    .dataframe tbody tr th:only-of-type {\n",
       "        vertical-align: middle;\n",
       "    }\n",
       "\n",
       "    .dataframe tbody tr th {\n",
       "        vertical-align: top;\n",
       "    }\n",
       "\n",
       "    .dataframe thead th {\n",
       "        text-align: right;\n",
       "    }\n",
       "</style>\n",
       "<table border=\"1\" class=\"dataframe\">\n",
       "  <thead>\n",
       "    <tr style=\"text-align: right;\">\n",
       "      <th></th>\n",
       "      <th>Pclass</th>\n",
       "      <th>Sex</th>\n",
       "      <th>Age</th>\n",
       "      <th>SibSp</th>\n",
       "      <th>Parch</th>\n",
       "      <th>Fare</th>\n",
       "      <th>Embarked</th>\n",
       "      <th>MaritalStatus</th>\n",
       "    </tr>\n",
       "    <tr>\n",
       "      <th>PassengerId</th>\n",
       "      <th></th>\n",
       "      <th></th>\n",
       "      <th></th>\n",
       "      <th></th>\n",
       "      <th></th>\n",
       "      <th></th>\n",
       "      <th></th>\n",
       "      <th></th>\n",
       "    </tr>\n",
       "  </thead>\n",
       "  <tbody>\n",
       "    <tr>\n",
       "      <th>1</th>\n",
       "      <td>3</td>\n",
       "      <td>1</td>\n",
       "      <td>22.0</td>\n",
       "      <td>1</td>\n",
       "      <td>0</td>\n",
       "      <td>7.2500</td>\n",
       "      <td>2</td>\n",
       "      <td>0</td>\n",
       "    </tr>\n",
       "    <tr>\n",
       "      <th>2</th>\n",
       "      <td>1</td>\n",
       "      <td>0</td>\n",
       "      <td>38.0</td>\n",
       "      <td>1</td>\n",
       "      <td>0</td>\n",
       "      <td>71.2833</td>\n",
       "      <td>0</td>\n",
       "      <td>2</td>\n",
       "    </tr>\n",
       "    <tr>\n",
       "      <th>3</th>\n",
       "      <td>3</td>\n",
       "      <td>0</td>\n",
       "      <td>26.0</td>\n",
       "      <td>0</td>\n",
       "      <td>0</td>\n",
       "      <td>7.9250</td>\n",
       "      <td>2</td>\n",
       "      <td>1</td>\n",
       "    </tr>\n",
       "  </tbody>\n",
       "</table>\n",
       "</div>"
      ],
      "text/plain": [
       "             Pclass  Sex   Age  SibSp  Parch     Fare  Embarked  MaritalStatus\n",
       "PassengerId                                                                   \n",
       "1                 3    1  22.0      1      0   7.2500         2              0\n",
       "2                 1    0  38.0      1      0  71.2833         0              2\n",
       "3                 3    0  26.0      0      0   7.9250         2              1"
      ]
     },
     "execution_count": 24,
     "metadata": {},
     "output_type": "execute_result"
    }
   ],
   "source": [
    "X_train[:3]"
   ]
  },
  {
   "cell_type": "code",
   "execution_count": 41,
   "metadata": {},
   "outputs": [
    {
     "name": "stdout",
     "output_type": "stream",
     "text": [
      "Для описания 0.9 дисперсии требуется 2 компонент\n"
     ]
    }
   ],
   "source": [
    "from sklearn.decomposition import PCA\n",
    "\n",
    "pca = PCA(n_components = 8)\n",
    "pca.fit(X_train)\n",
    "dispmax = 0.9\n",
    "disp = 0\n",
    "i = 0\n",
    "while (disp < dispmax):\n",
    "    disp += pca.explained_variance_ratio_[i]\n",
    "    i += 1    \n",
    "print('Для описания', dispmax, 'дисперсии требуется', i, 'компонент')"
   ]
  },
  {
   "cell_type": "code",
   "execution_count": 44,
   "metadata": {},
   "outputs": [],
   "source": [
    "X_train_pca = pca.fit_transform(X_train)\n",
    "X_test_pca = pca.transform(X_test)"
   ]
  },
  {
   "cell_type": "code",
   "execution_count": 58,
   "metadata": {},
   "outputs": [
    {
     "name": "stdout",
     "output_type": "stream",
     "text": [
      "{'learning_rate': 0.05, 'n_estimators': 20}\n"
     ]
    }
   ],
   "source": [
    "from sklearn.model_selection import GridSearchCV\n",
    "grid = {'n_estimators' : [1, 2, 3, 5, 10, 20, 40, 60, 80, 100, 120, 140, 160, 180, 200], 'learning_rate' : [0.001, 0.002, 0.005, 0.01, 0.02, 0.03, 0.05, 0.1]}\n",
    "cv = KFold(n_splits = 5, shuffle = True, random_state = 241)\n",
    "gbc = GradientBoostingClassifier(random_state = 241)\n",
    "gs = GridSearchCV(gbc, grid, scoring = 'roc_auc', cv = cv)\n",
    "gs.fit(X_train_pca, y_train)\n",
    "print(gs.best_params_)"
   ]
  },
  {
   "cell_type": "code",
   "execution_count": 70,
   "metadata": {},
   "outputs": [
    {
     "name": "stdout",
     "output_type": "stream",
     "text": [
      "0.865\n"
     ]
    }
   ],
   "source": [
    "learning_rate = gs.best_params_.get('learning_rate')\n",
    "n_estimators = gs.best_params_.get('n_estimators')\n",
    "cv = KFold(n_splits = 5, shuffle = True, random_state = 241)\n",
    "gbc = GradientBoostingClassifier(n_estimators = n_estimators, learning_rate = learning_rate, random_state = 241)\n",
    "scores = np.mean(cross_val_score(estimator = gbc, X = X_train_pca, y = y_train, cv = cv, scoring='roc_auc'))\n",
    "print (\"%.3f\" % gbc_scores)"
   ]
  },
  {
   "cell_type": "code",
   "execution_count": 72,
   "metadata": {},
   "outputs": [],
   "source": [
    "titanic = GradientBoostingClassifier(n_estimators = 20, learning_rate = 0.05, random_state = 241)\n",
    "titanic.fit(X_train_pca, y_train)\n",
    "y_test = pandas.DataFrame(data = {'Survived' : titanic.predict(X_test_pca)})\n",
    "# y_test['Survived'] = pandas.DataFrame(titanic.predict(X_test))\n",
    "#y_test.index.name = 'PassengerId'\n",
    "y_test.index = X_test.index\n",
    "y_test[:3]\n",
    "y_test.to_csv('titanic_predict.csv')"
   ]
  },
  {
   "cell_type": "code",
   "execution_count": null,
   "metadata": {},
   "outputs": [],
   "source": []
  }
 ],
 "metadata": {
  "kernelspec": {
   "display_name": "Python 3 (ipykernel)",
   "language": "python",
   "name": "python3"
  },
  "language_info": {
   "codemirror_mode": {
    "name": "ipython",
    "version": 3
   },
   "file_extension": ".py",
   "mimetype": "text/x-python",
   "name": "python",
   "nbconvert_exporter": "python",
   "pygments_lexer": "ipython3",
   "version": "3.12.7"
  }
 },
 "nbformat": 4,
 "nbformat_minor": 4
}
