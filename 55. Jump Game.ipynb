{
 "cells": [
  {
   "cell_type": "markdown",
   "id": "51303ae3-5078-470e-8155-300f5f01d2a6",
   "metadata": {},
   "source": [
    "You are given an integer array nums. You are initially positioned at the array's first index, and each element in the array represents your maximum jump length at that position.\n",
    "\n",
    "Return true if you can reach the last index, or false otherwise.\n",
    "\n",
    " \n",
    "\n",
    "Example 1:\n",
    "\n",
    "Input: nums = [2,3,1,1,4]\n",
    "Output: true\n",
    "Explanation: Jump 1 step from index 0 to 1, then 3 steps to the last index.\n",
    "\n",
    "Example 2:\n",
    "\n",
    "Input: nums = [3,2,1,0,4]\n",
    "Output: false\n",
    "Explanation: You will always arrive at index 3 no matter what. Its maximum jump length is 0, which makes it impossible to reach the last index.\n",
    "\n",
    " \n",
    "\n",
    "Constraints:\n",
    "\n",
    "    1 <= nums.length <= 104\n",
    "    0 <= nums[i] <= 105\n",
    "\n"
   ]
  },
  {
   "cell_type": "code",
   "execution_count": 63,
   "id": "63a97b03-e9bb-46ee-a475-a2b3c94af070",
   "metadata": {},
   "outputs": [],
   "source": [
    "from typing import List\n",
    "\n",
    "class Solution:\n",
    "    def canJump(self, nums: List[int]) -> bool:\n",
    "        def jumptest(nums):\n",
    "            while (nums[-1] != 0) and (len(nums) > 1):\n",
    "                nums = nums[:-1]\n",
    "            if (len(nums) == 1): \n",
    "                if (nums[0] > 0):\n",
    "                    return True\n",
    "                else:\n",
    "                    return False\n",
    "\n",
    "            cands = []\n",
    "            for i, n in enumerate(nums[::-1]):\n",
    "                if n >= i + 1:\n",
    "                    cands.append(nums[:-i].copy())\n",
    "            return any([jumptest(cand) for cand in cands])\n",
    "        \n",
    "        if len(nums) <= 1:\n",
    "            return True\n",
    "        if nums[-1] == 0:\n",
    "            nums = nums[:-1]\n",
    "        return jumptest(nums)"
   ]
  },
  {
   "cell_type": "code",
   "execution_count": 64,
   "id": "f9252b10-b6da-4a44-93c8-1430151e3c25",
   "metadata": {},
   "outputs": [
    {
     "data": {
      "text/plain": [
       "True"
      ]
     },
     "execution_count": 64,
     "metadata": {},
     "output_type": "execute_result"
    }
   ],
   "source": [
    "s = Solution()\n",
    "s.canJump([2,3,1,1,4])"
   ]
  },
  {
   "cell_type": "code",
   "execution_count": 65,
   "id": "4571e097-91d3-41ce-84ba-463999d21a70",
   "metadata": {},
   "outputs": [
    {
     "name": "stdout",
     "output_type": "stream",
     "text": [
      "[3, 2, 1, 0]\n",
      "[]\n"
     ]
    },
    {
     "data": {
      "text/plain": [
       "False"
      ]
     },
     "execution_count": 65,
     "metadata": {},
     "output_type": "execute_result"
    }
   ],
   "source": [
    "s.canJump([3,2,1,0,4])"
   ]
  },
  {
   "cell_type": "code",
   "execution_count": 66,
   "id": "38587483-1428-444a-afc7-4fcc19b7b192",
   "metadata": {},
   "outputs": [
    {
     "data": {
      "text/plain": [
       "False"
      ]
     },
     "execution_count": 66,
     "metadata": {},
     "output_type": "execute_result"
    }
   ],
   "source": [
    "s.canJump([0, 1])"
   ]
  },
  {
   "cell_type": "code",
   "execution_count": 67,
   "id": "c337507f-eb37-4456-b2cc-d3911b2da5b1",
   "metadata": {},
   "outputs": [
    {
     "data": {
      "text/plain": [
       "True"
      ]
     },
     "execution_count": 67,
     "metadata": {},
     "output_type": "execute_result"
    }
   ],
   "source": [
    "s.canJump([2, 0])"
   ]
  },
  {
   "cell_type": "code",
   "execution_count": 68,
   "id": "70487fda-fff7-4c97-a4ca-38bced2279fe",
   "metadata": {},
   "outputs": [
    {
     "name": "stdout",
     "output_type": "stream",
     "text": [
      "[2, 0]\n",
      "2 1\n",
      "[[2]]\n"
     ]
    },
    {
     "data": {
      "text/plain": [
       "True"
      ]
     },
     "execution_count": 68,
     "metadata": {},
     "output_type": "execute_result"
    }
   ],
   "source": [
    "s.canJump([2, 0, 0])"
   ]
  },
  {
   "cell_type": "code",
   "execution_count": null,
   "id": "f1de3058-64a0-4908-a1bf-29e91fd4ce17",
   "metadata": {},
   "outputs": [],
   "source": []
  }
 ],
 "metadata": {
  "kernelspec": {
   "display_name": "Python 3 (ipykernel)",
   "language": "python",
   "name": "python3"
  },
  "language_info": {
   "codemirror_mode": {
    "name": "ipython",
    "version": 3
   },
   "file_extension": ".py",
   "mimetype": "text/x-python",
   "name": "python",
   "nbconvert_exporter": "python",
   "pygments_lexer": "ipython3",
   "version": "3.9.5"
  }
 },
 "nbformat": 4,
 "nbformat_minor": 5
}
