{
 "cells": [
  {
   "cell_type": "markdown",
   "id": "37711973",
   "metadata": {},
   "source": [
    "Given the head of a linked list, return the list after sorting it in ascending order.\n",
    "\n",
    " \n",
    "\n",
    "Example 1:\n",
    "\n",
    "Input: head = [4,2,1,3]\n",
    "Output: [1,2,3,4]\n",
    "\n",
    "Example 2:\n",
    "\n",
    "Input: head = [-1,5,3,4,0]\n",
    "Output: [-1,0,3,4,5]\n",
    "\n",
    "Example 3:\n",
    "\n",
    "Input: head = []\n",
    "Output: []\n",
    "\n",
    " \n",
    "\n",
    "Constraints:\n",
    "\n",
    "    The number of nodes in the list is in the range [0, 5 * 104].\n",
    "    -105 <= Node.val <= 105\n"
   ]
  },
  {
   "cell_type": "code",
   "execution_count": 2,
   "id": "cc7f1d9f",
   "metadata": {},
   "outputs": [],
   "source": [
    "from typing import Optional\n",
    "\n",
    "# Definition for singly-linked list.\n",
    "class ListNode:\n",
    "    def __init__(self, val=0, next=None):\n",
    "        self.val = val\n",
    "        self.next = next\n",
    "\n",
    "\n",
    "class Solution:\n",
    "    def sortList(self, head: Optional[ListNode]) -> Optional[ListNode]:\n",
    "        if head is None:\n",
    "            return None\n",
    "        if head.next is None:\n",
    "            return head\n",
    "        nodes_list = []\n",
    "        node = head\n",
    "        while node is not None:\n",
    "            nodes_list.append(node)\n",
    "            node = node.next\n",
    "            \n",
    "        def getval(node: ListNode) -> int:\n",
    "            return node.val\n",
    "        \n",
    "        nodes_list = sorted(nodes_list, key=getval)\n",
    "        start = nodes_list[0]\n",
    "        cur = start\n",
    "        for node in nodes_list[1:]:\n",
    "            cur.next = node\n",
    "            cur = node\n",
    "        cur.next = None\n",
    "        return start"
   ]
  },
  {
   "cell_type": "code",
   "execution_count": null,
   "id": "53aa36d0",
   "metadata": {},
   "outputs": [],
   "source": []
  }
 ],
 "metadata": {
  "kernelspec": {
   "display_name": "Python 3 (ipykernel)",
   "language": "python",
   "name": "python3"
  },
  "language_info": {
   "codemirror_mode": {
    "name": "ipython",
    "version": 3
   },
   "file_extension": ".py",
   "mimetype": "text/x-python",
   "name": "python",
   "nbconvert_exporter": "python",
   "pygments_lexer": "ipython3",
   "version": "3.9.5"
  }
 },
 "nbformat": 4,
 "nbformat_minor": 5
}
