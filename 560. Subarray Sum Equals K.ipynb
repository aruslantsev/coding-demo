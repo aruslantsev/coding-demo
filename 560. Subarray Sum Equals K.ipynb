{
 "cells": [
  {
   "cell_type": "markdown",
   "id": "ab55e13d",
   "metadata": {},
   "source": [
    "Given an array of integers nums and an integer k, return the total number of continuous subarrays whose sum equals to k.\n",
    "\n",
    " \n",
    "\n",
    "Example 1:\n",
    "\n",
    "Input: nums = [1,1,1], k = 2\n",
    "Output: 2\n",
    "\n",
    "Example 2:\n",
    "\n",
    "Input: nums = [1,2,3], k = 3\n",
    "Output: 2\n",
    "\n",
    " \n",
    "\n",
    "Constraints:\n",
    "\n",
    "    1 <= nums.length <= 2 * 104\n",
    "    -1000 <= nums[i] <= 1000\n",
    "    -107 <= k <= 107\n",
    "\n",
    "Accepted\n",
    "684,423\n",
    "Submissions\n",
    "1,556,274"
   ]
  },
  {
   "cell_type": "code",
   "execution_count": null,
   "id": "0f5cdce7",
   "metadata": {},
   "outputs": [],
   "source": [
    "class Solution:\n",
    "    def subarraySum(self, nums: List[int], k: int) -> int:\n",
    "        result = 0\n",
    "        sums = [0] + [sum(nums[:i+1]) for i in range(len(nums))]\n",
    "        for i in range(len(sums)):\n",
    "            for j in range(i + 1, len(sums)):\n",
    "                if sums[j] - sums[i] == k:\n",
    "                    result += 1\n",
    "\n",
    "        return result"
   ]
  },
  {
   "cell_type": "code",
   "execution_count": 55,
   "id": "c79eaacd",
   "metadata": {},
   "outputs": [],
   "source": [
    "from typing import List\n",
    "from collections import Counter\n",
    "\n",
    "class Solution:\n",
    "    def subarraySum(self, nums: List[int], k: int) -> int:\n",
    "        sums = [0] + [sum(nums[:i+1]) for i in range(len(nums))]\n",
    "        if max(sums) - min(sums) < k:\n",
    "            return 0\n",
    "        sum_pos = {}\n",
    "        for i, s in enumerate(sums):\n",
    "            if s in sum_pos:\n",
    "                sum_pos[s].append(i)\n",
    "            else:\n",
    "                sum_pos[s] = [i]\n",
    "        \n",
    "        result = 0\n",
    "        for i, num_i in enumerate(sums):\n",
    "            num_j = k + num_i\n",
    "            if num_j in sum_pos:\n",
    "                result += sum([j > i for j in sum_pos[num_j]])\n",
    "\n",
    "        return result"
   ]
  },
  {
   "cell_type": "code",
   "execution_count": 81,
   "id": "5875c855",
   "metadata": {},
   "outputs": [],
   "source": [
    "from typing import List\n",
    "from collections import Counter\n",
    "\n",
    "class Solution:\n",
    "    def subarraySum(self, nums: List[int], k: int) -> int:\n",
    "        result = 0\n",
    "        sums = [0]\n",
    "        sums_map = {0: [0]}\n",
    "        for i, n in enumerate(nums):\n",
    "            curr_sum = sums[i] + n\n",
    "            sums.append(curr_sum)\n",
    "            if curr_sum in sums_map:\n",
    "                sums_map[curr_sum].append(i + 1)\n",
    "            else:\n",
    "                sums_map[curr_sum] = [i + 1]\n",
    "            if (sums[i + 1] - k) in sums_map:\n",
    "                result += sum(j <= i for j in sums_map[sums[i + 1] - k])\n",
    "                \n",
    "        return result"
   ]
  },
  {
   "cell_type": "code",
   "execution_count": 82,
   "id": "cac8734b",
   "metadata": {},
   "outputs": [
    {
     "data": {
      "text/plain": [
       "2"
      ]
     },
     "execution_count": 82,
     "metadata": {},
     "output_type": "execute_result"
    }
   ],
   "source": [
    "s = Solution()\n",
    "s.subarraySum([1,1,1], 2)"
   ]
  },
  {
   "cell_type": "code",
   "execution_count": 83,
   "id": "18248f0d",
   "metadata": {},
   "outputs": [
    {
     "data": {
      "text/plain": [
       "2"
      ]
     },
     "execution_count": 83,
     "metadata": {},
     "output_type": "execute_result"
    }
   ],
   "source": [
    "s.subarraySum([1,2,3], 3)"
   ]
  },
  {
   "cell_type": "code",
   "execution_count": 84,
   "id": "bbc2f5b7",
   "metadata": {},
   "outputs": [
    {
     "data": {
      "text/plain": [
       "0"
      ]
     },
     "execution_count": 84,
     "metadata": {},
     "output_type": "execute_result"
    }
   ],
   "source": [
    "s.subarraySum([1], 0)"
   ]
  },
  {
   "cell_type": "code",
   "execution_count": 85,
   "id": "5bfa9e6c",
   "metadata": {},
   "outputs": [
    {
     "name": "stdout",
     "output_type": "stream",
     "text": [
      "CPU times: user 19.2 ms, sys: 57 µs, total: 19.2 ms\n",
      "Wall time: 18.7 ms\n"
     ]
    },
    {
     "data": {
      "text/plain": [
       "19851"
      ]
     },
     "execution_count": 85,
     "metadata": {},
     "output_type": "execute_result"
    }
   ],
   "source": [
    "%%time\n",
    "s.subarraySum([1] * 20000, 150)"
   ]
  },
  {
   "cell_type": "code",
   "execution_count": 86,
   "id": "5f0904d8",
   "metadata": {},
   "outputs": [
    {
     "name": "stdout",
     "output_type": "stream",
     "text": [
      "CPU times: user 13.9 ms, sys: 33 µs, total: 13.9 ms\n",
      "Wall time: 13.4 ms\n"
     ]
    },
    {
     "data": {
      "text/plain": [
       "10001"
      ]
     },
     "execution_count": 86,
     "metadata": {},
     "output_type": "execute_result"
    }
   ],
   "source": [
    "%%time\n",
    "s.subarraySum([1] * 20000, 10000)"
   ]
  },
  {
   "cell_type": "code",
   "execution_count": 87,
   "id": "f93e9e86",
   "metadata": {},
   "outputs": [
    {
     "data": {
      "text/plain": [
       "1"
      ]
     },
     "execution_count": 87,
     "metadata": {},
     "output_type": "execute_result"
    }
   ],
   "source": [
    "s.subarraySum([-1,-1,1], 1)"
   ]
  },
  {
   "cell_type": "code",
   "execution_count": 88,
   "id": "2194103f",
   "metadata": {},
   "outputs": [
    {
     "data": {
      "text/plain": [
       "3"
      ]
     },
     "execution_count": 88,
     "metadata": {},
     "output_type": "execute_result"
    }
   ],
   "source": [
    "s.subarraySum([1,-1,0], 0)"
   ]
  },
  {
   "cell_type": "code",
   "execution_count": null,
   "id": "2e162792",
   "metadata": {},
   "outputs": [],
   "source": []
  }
 ],
 "metadata": {
  "kernelspec": {
   "display_name": "Python 3 (ipykernel)",
   "language": "python",
   "name": "python3"
  },
  "language_info": {
   "codemirror_mode": {
    "name": "ipython",
    "version": 3
   },
   "file_extension": ".py",
   "mimetype": "text/x-python",
   "name": "python",
   "nbconvert_exporter": "python",
   "pygments_lexer": "ipython3",
   "version": "3.9.5"
  }
 },
 "nbformat": 4,
 "nbformat_minor": 5
}
